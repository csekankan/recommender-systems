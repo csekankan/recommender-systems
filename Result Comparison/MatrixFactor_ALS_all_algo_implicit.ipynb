{
  "cells": [
    {
      "cell_type": "code",
      "execution_count": null,
      "metadata": {
        "colab": {
          "base_uri": "https://localhost:8080/"
        },
        "id": "_QphkgcDcwxr",
        "outputId": "89704e14-a0ee-4503-83a8-5c03d67489aa"
      },
      "outputs": [
        {
          "output_type": "stream",
          "name": "stdout",
          "text": [
            "Thu Dec 22 05:55:59 2022       \n",
            "+-----------------------------------------------------------------------------+\n",
            "| NVIDIA-SMI 460.32.03    Driver Version: 460.32.03    CUDA Version: 11.2     |\n",
            "|-------------------------------+----------------------+----------------------+\n",
            "| GPU  Name        Persistence-M| Bus-Id        Disp.A | Volatile Uncorr. ECC |\n",
            "| Fan  Temp  Perf  Pwr:Usage/Cap|         Memory-Usage | GPU-Util  Compute M. |\n",
            "|                               |                      |               MIG M. |\n",
            "|===============================+======================+======================|\n",
            "|   0  Tesla T4            Off  | 00000000:00:04.0 Off |                    0 |\n",
            "| N/A   48C    P0    26W /  70W |      0MiB / 15109MiB |      0%      Default |\n",
            "|                               |                      |                  N/A |\n",
            "+-------------------------------+----------------------+----------------------+\n",
            "                                                                               \n",
            "+-----------------------------------------------------------------------------+\n",
            "| Processes:                                                                  |\n",
            "|  GPU   GI   CI        PID   Type   Process name                  GPU Memory |\n",
            "|        ID   ID                                                   Usage      |\n",
            "|=============================================================================|\n",
            "|  No running processes found                                                 |\n",
            "+-----------------------------------------------------------------------------+\n"
          ]
        }
      ],
      "source": [
        "gpu_info = !nvidia-smi\n",
        "gpu_info = '\\n'.join(gpu_info)\n",
        "if gpu_info.find('failed') >= 0:\n",
        "  print('Not connected to a GPU')\n",
        "else:\n",
        "  print(gpu_info)"
      ],
      "id": "_QphkgcDcwxr"
    },
    {
      "cell_type": "code",
      "execution_count": null,
      "metadata": {
        "colab": {
          "base_uri": "https://localhost:8080/"
        },
        "id": "Kq_W9JJDczFA",
        "outputId": "4c7ea342-b69e-4b35-c019-f84564f7f7f1"
      },
      "outputs": [
        {
          "output_type": "stream",
          "name": "stdout",
          "text": [
            "Your runtime has 27.3 gigabytes of available RAM\n",
            "\n",
            "You are using a high-RAM runtime!\n"
          ]
        }
      ],
      "source": [
        "from psutil import virtual_memory\n",
        "ram_gb = virtual_memory().total / 1e9\n",
        "print('Your runtime has {:.1f} gigabytes of available RAM\\n'.format(ram_gb))\n",
        "\n",
        "if ram_gb < 20:\n",
        "  print('Not using a high-RAM runtime')\n",
        "else:\n",
        "  print('You are using a high-RAM runtime!')"
      ],
      "id": "Kq_W9JJDczFA"
    },
    {
      "cell_type": "code",
      "execution_count": null,
      "metadata": {
        "id": "84eddad3"
      },
      "outputs": [],
      "source": [
        "from datetime import datetime\n",
        "import os\n",
        "import matplotlib\n",
        "import pandas as pd\n",
        "import numpy as np\n",
        "import matplotlib.pyplot as plt\n",
        "import seaborn as sns\n",
        "sns.set_style('whitegrid')\n",
        "\n",
        "from scipy import sparse\n",
        "from scipy.sparse import csc_matrix\n",
        "from sklearn.decomposition import TruncatedSVD\n",
        "\n",
        "np.random.seed(0)"
      ],
      "id": "84eddad3"
    },
    {
      "cell_type": "markdown",
      "metadata": {
        "id": "uGRD8a9sKacB"
      },
      "source": [
        "### Setup and Load dataset"
      ],
      "id": "uGRD8a9sKacB"
    },
    {
      "cell_type": "code",
      "execution_count": null,
      "metadata": {
        "id": "d6266078"
      },
      "outputs": [],
      "source": [
        "\n",
        "import pandas as pd\n",
        "import os\n",
        "from os.path import exists\n",
        "import zipfile\n",
        "import numpy as np"
      ],
      "id": "d6266078"
    },
    {
      "cell_type": "code",
      "execution_count": null,
      "metadata": {
        "colab": {
          "base_uri": "https://localhost:8080/"
        },
        "id": "H54YO5cNfiWJ",
        "outputId": "316b4d9d-896d-44b5-aec2-1817cc9726ea"
      },
      "outputs": [
        {
          "output_type": "stream",
          "name": "stdout",
          "text": [
            "Looking in indexes: https://pypi.org/simple, https://us-python.pkg.dev/colab-wheels/public/simple/\n",
            "Requirement already satisfied: scikit-learn in /usr/local/lib/python3.8/dist-packages (1.0.2)\n",
            "Requirement already satisfied: joblib>=0.11 in /usr/local/lib/python3.8/dist-packages (from scikit-learn) (1.2.0)\n",
            "Requirement already satisfied: scipy>=1.1.0 in /usr/local/lib/python3.8/dist-packages (from scikit-learn) (1.7.3)\n",
            "Requirement already satisfied: numpy>=1.14.6 in /usr/local/lib/python3.8/dist-packages (from scikit-learn) (1.21.6)\n",
            "Requirement already satisfied: threadpoolctl>=2.0.0 in /usr/local/lib/python3.8/dist-packages (from scikit-learn) (3.1.0)\n"
          ]
        }
      ],
      "source": [
        "!pip install scikit-learn"
      ],
      "id": "H54YO5cNfiWJ"
    },
    {
      "cell_type": "code",
      "execution_count": null,
      "metadata": {
        "colab": {
          "base_uri": "https://localhost:8080/"
        },
        "id": "DySpFNPLeYvJ",
        "outputId": "0e26fab2-1ad6-46b3-bb86-6b6dd78d7df3"
      },
      "outputs": [
        {
          "output_type": "stream",
          "name": "stdout",
          "text": [
            "Looking in indexes: https://pypi.org/simple, https://us-python.pkg.dev/colab-wheels/public/simple/\n",
            "Requirement already satisfied: gdown in /usr/local/lib/python3.8/dist-packages (4.4.0)\n",
            "Requirement already satisfied: six in /usr/local/lib/python3.8/dist-packages (from gdown) (1.15.0)\n",
            "Requirement already satisfied: filelock in /usr/local/lib/python3.8/dist-packages (from gdown) (3.8.2)\n",
            "Requirement already satisfied: beautifulsoup4 in /usr/local/lib/python3.8/dist-packages (from gdown) (4.6.3)\n",
            "Requirement already satisfied: requests[socks] in /usr/local/lib/python3.8/dist-packages (from gdown) (2.23.0)\n",
            "Requirement already satisfied: tqdm in /usr/local/lib/python3.8/dist-packages (from gdown) (4.64.1)\n",
            "Requirement already satisfied: urllib3!=1.25.0,!=1.25.1,<1.26,>=1.21.1 in /usr/local/lib/python3.8/dist-packages (from requests[socks]->gdown) (1.24.3)\n",
            "Requirement already satisfied: idna<3,>=2.5 in /usr/local/lib/python3.8/dist-packages (from requests[socks]->gdown) (2.10)\n",
            "Requirement already satisfied: chardet<4,>=3.0.2 in /usr/local/lib/python3.8/dist-packages (from requests[socks]->gdown) (3.0.4)\n",
            "Requirement already satisfied: certifi>=2017.4.17 in /usr/local/lib/python3.8/dist-packages (from requests[socks]->gdown) (2022.12.7)\n",
            "Requirement already satisfied: PySocks!=1.5.7,>=1.5.6 in /usr/local/lib/python3.8/dist-packages (from requests[socks]->gdown) (1.7.1)\n",
            "\u001b[33mWARNING: Skipping scikit-surprise as it is not installed.\u001b[0m\n"
          ]
        }
      ],
      "source": [
        "!pip install gdown\n",
        "!pip uninstall scikit-surprise"
      ],
      "id": "DySpFNPLeYvJ"
    },
    {
      "cell_type": "code",
      "execution_count": null,
      "metadata": {
        "id": "cxXmZMhNL4vi"
      },
      "outputs": [],
      "source": [],
      "id": "cxXmZMhNL4vi"
    },
    {
      "cell_type": "code",
      "execution_count": null,
      "metadata": {
        "colab": {
          "base_uri": "https://localhost:8080/"
        },
        "id": "JN6L-XVUpDB3",
        "outputId": "0650f744-b786-42dc-e295-30d4d65089dd"
      },
      "outputs": [
        {
          "output_type": "stream",
          "name": "stdout",
          "text": [
            "Access denied with the following error:\n",
            "\n",
            " \tCannot retrieve the public link of the file. You may need to change\n",
            "\tthe permission to 'Anyone with the link', or have had many accesses. \n",
            "\n",
            "You may still be able to access the file from the browser:\n",
            "\n",
            "\t https://drive.google.com/uc?id=1wvQW5W2t5to-_eN0bu3eOqXIqz3NDXKH \n",
            "\n"
          ]
        }
      ],
      "source": [
        "!gdown https://drive.google.com/uc?id=1wvQW5W2t5to-_eN0bu3eOqXIqz3NDXKH\n"
      ],
      "id": "JN6L-XVUpDB3"
    },
    {
      "cell_type": "code",
      "source": [
        "#movielens\n",
        "!gdown https://drive.google.com/uc?id=1n738_FCtkT3nSAzX6M6wXL7jAzw62cxh"
      ],
      "metadata": {
        "colab": {
          "base_uri": "https://localhost:8080/"
        },
        "id": "adFRIquubRfB",
        "outputId": "99fd5923-4507-49da-a06b-e95920fa8522"
      },
      "id": "adFRIquubRfB",
      "execution_count": null,
      "outputs": [
        {
          "output_type": "stream",
          "name": "stdout",
          "text": [
            "Downloading...\n",
            "From: https://drive.google.com/uc?id=1n738_FCtkT3nSAzX6M6wXL7jAzw62cxh\n",
            "To: /content/ml-100k.zip\n",
            "\r  0% 0.00/4.92M [00:00<?, ?B/s]\r100% 4.92M/4.92M [00:00<00:00, 122MB/s]\n"
          ]
        }
      ]
    },
    {
      "cell_type": "code",
      "execution_count": null,
      "metadata": {
        "id": "fMGBfi7ZxzS1",
        "colab": {
          "base_uri": "https://localhost:8080/"
        },
        "outputId": "238e6573-1822-43fc-e195-040cd47c0ccd"
      },
      "outputs": [
        {
          "output_type": "stream",
          "name": "stdout",
          "text": [
            "Archive:  ml-100k.zip\n",
            "   creating: /content/ml-100k/\n",
            "  inflating: /content/ml-100k/allbut.pl  \n",
            "  inflating: /content/ml-100k/mku.sh  \n",
            "  inflating: /content/ml-100k/README  \n",
            "  inflating: /content/ml-100k/u.data  \n",
            "  inflating: /content/ml-100k/u.genre  \n",
            "  inflating: /content/ml-100k/u.info  \n",
            "  inflating: /content/ml-100k/u.item  \n",
            "  inflating: /content/ml-100k/u.occupation  \n",
            "  inflating: /content/ml-100k/u.user  \n",
            "  inflating: /content/ml-100k/u1.base  \n",
            "  inflating: /content/ml-100k/u1.test  \n",
            "  inflating: /content/ml-100k/u2.base  \n",
            "  inflating: /content/ml-100k/u2.test  \n",
            "  inflating: /content/ml-100k/u3.base  \n",
            "  inflating: /content/ml-100k/u3.test  \n",
            "  inflating: /content/ml-100k/u4.base  \n",
            "  inflating: /content/ml-100k/u4.test  \n",
            "  inflating: /content/ml-100k/u5.base  \n",
            "  inflating: /content/ml-100k/u5.test  \n",
            "  inflating: /content/ml-100k/ua.base  \n",
            "  inflating: /content/ml-100k/ua.test  \n",
            "  inflating: /content/ml-100k/ub.base  \n",
            "  inflating: /content/ml-100k/ub.test  \n"
          ]
        }
      ],
      "source": [
        "!unzip -o \"ml-100k.zip\"  -d  \"/content\""
      ],
      "id": "fMGBfi7ZxzS1"
    },
    {
      "cell_type": "code",
      "execution_count": null,
      "metadata": {
        "id": "ApwkfuKQSGtt"
      },
      "outputs": [],
      "source": [
        "dateparse = lambda x: datetime.utcfromtimestamp(int(x)).strftime('%Y-%m-%d %H:%M:%S')\n",
        "\n",
        "movie_10k_df = pd.read_csv('ml-100k/u.data', sep='\\t', \n",
        "                        names=['userID', 'itemID', 'rating', 'time'], \n",
        "                       )\n"
      ],
      "id": "ApwkfuKQSGtt"
    },
    {
      "cell_type": "code",
      "execution_count": null,
      "metadata": {
        "id": "vtuH2Pi3CKwE"
      },
      "outputs": [],
      "source": [],
      "id": "vtuH2Pi3CKwE"
    },
    {
      "cell_type": "markdown",
      "metadata": {
        "id": "D_UJlmcgZNBc"
      },
      "source": [
        "### Setup"
      ],
      "id": "D_UJlmcgZNBc"
    },
    {
      "cell_type": "code",
      "execution_count": null,
      "metadata": {
        "id": "HcRlILa1ZNBc"
      },
      "outputs": [],
      "source": [
        "\n",
        "import pandas as pd\n",
        "import os\n",
        "from os.path import exists\n",
        "import zipfile\n",
        "import numpy as np"
      ],
      "id": "HcRlILa1ZNBc"
    },
    {
      "cell_type": "code",
      "execution_count": null,
      "metadata": {
        "colab": {
          "base_uri": "https://localhost:8080/",
          "height": 835
        },
        "id": "XXB_1HlIKdFi",
        "outputId": "1c4d07c4-33ba-4835-cabd-9310b1a57843"
      },
      "outputs": [
        {
          "output_type": "stream",
          "name": "stdout",
          "text": [
            "Looking in indexes: https://pypi.org/simple, https://us-python.pkg.dev/colab-wheels/public/simple/\n",
            "Requirement already satisfied: gdown in /usr/local/lib/python3.8/dist-packages (4.4.0)\n",
            "Requirement already satisfied: tqdm in /usr/local/lib/python3.8/dist-packages (from gdown) (4.64.1)\n",
            "Requirement already satisfied: filelock in /usr/local/lib/python3.8/dist-packages (from gdown) (3.8.2)\n",
            "Requirement already satisfied: beautifulsoup4 in /usr/local/lib/python3.8/dist-packages (from gdown) (4.6.3)\n",
            "Requirement already satisfied: six in /usr/local/lib/python3.8/dist-packages (from gdown) (1.15.0)\n",
            "Requirement already satisfied: requests[socks] in /usr/local/lib/python3.8/dist-packages (from gdown) (2.23.0)\n",
            "Requirement already satisfied: certifi>=2017.4.17 in /usr/local/lib/python3.8/dist-packages (from requests[socks]->gdown) (2022.12.7)\n",
            "Requirement already satisfied: idna<3,>=2.5 in /usr/local/lib/python3.8/dist-packages (from requests[socks]->gdown) (2.10)\n",
            "Requirement already satisfied: urllib3!=1.25.0,!=1.25.1,<1.26,>=1.21.1 in /usr/local/lib/python3.8/dist-packages (from requests[socks]->gdown) (1.24.3)\n",
            "Requirement already satisfied: chardet<4,>=3.0.2 in /usr/local/lib/python3.8/dist-packages (from requests[socks]->gdown) (3.0.4)\n",
            "Requirement already satisfied: PySocks!=1.5.7,>=1.5.6 in /usr/local/lib/python3.8/dist-packages (from requests[socks]->gdown) (1.7.1)\n",
            "Looking in indexes: https://pypi.org/simple, https://us-python.pkg.dev/colab-wheels/public/simple/\n",
            "Collecting scikit-surprise\n",
            "  Downloading scikit-surprise-1.1.3.tar.gz (771 kB)\n",
            "\u001b[K     |████████████████████████████████| 771 kB 35.5 MB/s \n",
            "\u001b[?25hRequirement already satisfied: joblib>=1.0.0 in /usr/local/lib/python3.8/dist-packages (from scikit-surprise) (1.2.0)\n",
            "Requirement already satisfied: numpy>=1.17.3 in /usr/local/lib/python3.8/dist-packages (from scikit-surprise) (1.21.6)\n",
            "Requirement already satisfied: scipy>=1.3.2 in /usr/local/lib/python3.8/dist-packages (from scikit-surprise) (1.7.3)\n",
            "Building wheels for collected packages: scikit-surprise\n",
            "  Building wheel for scikit-surprise (setup.py) ... \u001b[?25l\u001b[?25hdone\n",
            "  Created wheel for scikit-surprise: filename=scikit_surprise-1.1.3-cp38-cp38-linux_x86_64.whl size=2626474 sha256=9daaaf18b00e7fd05a3c9595853bcbc8a7738353078cd351572d3ec6b853df0e\n",
            "  Stored in directory: /root/.cache/pip/wheels/af/db/86/2c18183a80ba05da35bf0fb7417aac5cddbd93bcb1b92fd3ea\n",
            "Successfully built scikit-surprise\n",
            "Installing collected packages: scikit-surprise\n",
            "Successfully installed scikit-surprise-1.1.3\n",
            "Looking in indexes: https://pypi.org/simple, https://us-python.pkg.dev/colab-wheels/public/simple/\n",
            "Requirement already satisfied: scikit-learn in /usr/local/lib/python3.8/dist-packages (1.0.2)\n",
            "Collecting scikit-learn\n",
            "  Downloading scikit_learn-1.2.0-cp38-cp38-manylinux_2_17_x86_64.manylinux2014_x86_64.whl (9.7 MB)\n",
            "\u001b[K     |████████████████████████████████| 9.7 MB 35.1 MB/s \n",
            "\u001b[?25hRequirement already satisfied: numpy>=1.17.3 in /usr/local/lib/python3.8/dist-packages (from scikit-learn) (1.21.6)\n",
            "Requirement already satisfied: threadpoolctl>=2.0.0 in /usr/local/lib/python3.8/dist-packages (from scikit-learn) (3.1.0)\n",
            "Requirement already satisfied: scipy>=1.3.2 in /usr/local/lib/python3.8/dist-packages (from scikit-learn) (1.7.3)\n",
            "Requirement already satisfied: joblib>=1.1.1 in /usr/local/lib/python3.8/dist-packages (from scikit-learn) (1.2.0)\n",
            "Installing collected packages: scikit-learn\n",
            "  Attempting uninstall: scikit-learn\n",
            "    Found existing installation: scikit-learn 1.0.2\n",
            "    Uninstalling scikit-learn-1.0.2:\n",
            "      Successfully uninstalled scikit-learn-1.0.2\n",
            "Successfully installed scikit-learn-1.2.0\n"
          ]
        },
        {
          "output_type": "display_data",
          "data": {
            "application/vnd.colab-display-data+json": {
              "pip_warning": {
                "packages": [
                  "sklearn"
                ]
              }
            }
          },
          "metadata": {}
        }
      ],
      "source": [
        "!pip install gdown\n",
        "!pip install scikit-surprise\n",
        "!pip install -U scikit-learn"
      ],
      "id": "XXB_1HlIKdFi"
    },
    {
      "cell_type": "code",
      "execution_count": null,
      "metadata": {
        "colab": {
          "base_uri": "https://localhost:8080/"
        },
        "id": "_1KEOjziTrPY",
        "outputId": "0b16b294-2845-429d-d916-fd7ba904fea3"
      },
      "outputs": [
        {
          "output_type": "stream",
          "name": "stdout",
          "text": [
            "Downloading...\n",
            "From: https://drive.google.com/uc?id=1kl65YOvoSAMSgszQQbua2q4Zwe1HgPct\n",
            "To: /content/data.zip\n",
            "\r  0% 0.00/4.16M [00:00<?, ?B/s]\r100% 4.16M/4.16M [00:00<00:00, 280MB/s]\n"
          ]
        }
      ],
      "source": [
        "!gdown https://drive.google.com/uc?id=1kl65YOvoSAMSgszQQbua2q4Zwe1HgPct"
      ],
      "id": "_1KEOjziTrPY"
    },
    {
      "cell_type": "code",
      "execution_count": null,
      "metadata": {
        "colab": {
          "base_uri": "https://localhost:8080/"
        },
        "id": "TtZEDi2_JS0Z",
        "outputId": "db2d49dd-fb6b-4307-857d-e0f39133a978"
      },
      "outputs": [
        {
          "output_type": "stream",
          "name": "stdout",
          "text": [
            "Archive:  data.zip\n",
            "  inflating: /content/amazon_min.csv  \n",
            "  inflating: /content/book_min.csv   \n",
            "  inflating: /content/ciao_min.csv   \n",
            "  inflating: /content/ecom_min.csv   \n",
            "  inflating: /content/food_min.csv   \n",
            "  inflating: /content/movies_min.csv  \n"
          ]
        }
      ],
      "source": [
        "!unzip -o \"data.zip\"  -d  \"/content\""
      ],
      "id": "TtZEDi2_JS0Z"
    },
    {
      "cell_type": "code",
      "execution_count": null,
      "metadata": {
        "id": "srhJBCtkJaHZ"
      },
      "outputs": [],
      "source": [
        "\n",
        "movie_10k_df = pd.read_csv(\"movies_min.csv\")\n",
        "amazon_df =pd.read_csv('amazon_min.csv')\n",
        "book_df=pd.read_csv(\"book_min.csv\")\n",
        "food_df = pd.read_csv('food_min.csv')\n",
        "ecommerce_df=pd.read_csv('ecom_min.csv')\n",
        "ciao_df=pd.read_csv('ciao_min.csv')"
      ],
      "id": "srhJBCtkJaHZ"
    },
    {
      "cell_type": "markdown",
      "metadata": {
        "id": "sjJpU6lTGK51"
      },
      "source": [
        "# Details about dataset"
      ],
      "id": "sjJpU6lTGK51"
    },
    {
      "cell_type": "code",
      "execution_count": null,
      "metadata": {
        "id": "LpnvsLU_U-7O"
      },
      "outputs": [],
      "source": [
        "summary_df=pd.DataFrame(columns=['Dataset','Algorithm','Sparsity','Precision@k'])"
      ],
      "id": "LpnvsLU_U-7O"
    },
    {
      "cell_type": "code",
      "execution_count": null,
      "metadata": {
        "id": "48b485cd"
      },
      "outputs": [],
      "source": [
        "userID=\"userID\"\n",
        "itemID=\"itemID\"\n",
        "score=\"rating\"\n",
        "timestamp='time'"
      ],
      "id": "48b485cd"
    },
    {
      "cell_type": "markdown",
      "metadata": {
        "id": "3enVbN86POhO"
      },
      "source": [
        "# Sparsity "
      ],
      "id": "3enVbN86POhO"
    },
    {
      "cell_type": "code",
      "execution_count": null,
      "metadata": {
        "id": "AnavbMK3Z-7N"
      },
      "outputs": [],
      "source": [
        "from scipy.sparse import csr_matrix\n",
        "def checkSparsity(main_df):\n",
        "   \n",
        "    # pivot_df = main_df.pivot_table(\n",
        "    #     index='itemID',\n",
        "    #     columns='userID',\n",
        "    #     values='rating'\n",
        "    # )\n",
        "    totalUsers=main_df.userID.unique().shape[0]\n",
        "    totalitems= main_df.itemID.unique().shape[0]\n",
        "    total=totalUsers*totalitems\n",
        "    totalreconds=main_df.shape[0]\n",
        "    sparsity=(total-totalreconds)/total\n",
        "    return sparsity"
      ],
      "id": "AnavbMK3Z-7N"
    },
    {
      "cell_type": "code",
      "execution_count": null,
      "metadata": {
        "colab": {
          "base_uri": "https://localhost:8080/"
        },
        "id": "08dPB9SMAgIF",
        "outputId": "7e8506f4-9420-4967-d24e-4873c37f136c"
      },
      "outputs": [
        {
          "output_type": "execute_result",
          "data": {
            "text/plain": [
              "0.9758585086369416"
            ]
          },
          "metadata": {},
          "execution_count": 16
        }
      ],
      "source": [
        "\n",
        "sparsity_food=checkSparsity(food_df)\n",
        "sparsity_food"
      ],
      "id": "08dPB9SMAgIF"
    },
    {
      "cell_type": "code",
      "execution_count": null,
      "metadata": {
        "colab": {
          "base_uri": "https://localhost:8080/"
        },
        "id": "P07D3pTPALgB",
        "outputId": "c2eb714a-9f41-497f-b504-42682ef0c00f"
      },
      "outputs": [
        {
          "output_type": "execute_result",
          "data": {
            "text/plain": [
              "0.9919133172746379"
            ]
          },
          "metadata": {},
          "execution_count": 17
        }
      ],
      "source": [
        "sparsity_amazon=checkSparsity(amazon_df)\n",
        "sparsity_amazon"
      ],
      "id": "P07D3pTPALgB"
    },
    {
      "cell_type": "code",
      "execution_count": null,
      "metadata": {
        "colab": {
          "base_uri": "https://localhost:8080/"
        },
        "id": "zBbAUd5UBJcn",
        "outputId": "919b0f9d-78ff-48a3-91de-19fa3b5563ce"
      },
      "outputs": [
        {
          "output_type": "execute_result",
          "data": {
            "text/plain": [
              "0.9369533063577546"
            ]
          },
          "metadata": {},
          "execution_count": 55
        }
      ],
      "source": [
        "\n",
        "sparsity_movielens=checkSparsity(movie_10k_df)\n",
        "sparsity_movielens"
      ],
      "id": "zBbAUd5UBJcn"
    },
    {
      "cell_type": "code",
      "execution_count": null,
      "metadata": {
        "colab": {
          "base_uri": "https://localhost:8080/"
        },
        "id": "DyqvF5RkB3rM",
        "outputId": "b22f9c75-ffff-48d8-b2f3-a23fa845abd1"
      },
      "outputs": [
        {
          "output_type": "execute_result",
          "data": {
            "text/plain": [
              "0.9994459394919134"
            ]
          },
          "metadata": {},
          "execution_count": 19
        }
      ],
      "source": [
        "sparsity_ecom=checkSparsity(ecommerce_df)\n",
        "sparsity_ecom"
      ],
      "id": "DyqvF5RkB3rM"
    },
    {
      "cell_type": "markdown",
      "metadata": {
        "id": "SIyREpU8Q_dk"
      },
      "source": [
        "<!-- Observations :\n",
        "1. Very sparse dataset sparsity 0.98\n",
        "2. Many items and users in the dataset has less interaction data -->"
      ],
      "id": "SIyREpU8Q_dk"
    },
    {
      "cell_type": "markdown",
      "metadata": {
        "id": "0vudkPURPTki"
      },
      "source": [
        "<!-- ### Divide dataset based on following:\n",
        "- All users rated very few items - will use contant based filtering method.To get threshold value for filtering we first find median of number of rating given by each users.Next choose value less then that median value such that we decrese sparsity as much as possible(less then .95)\n",
        "- For other data we will go with collaborative filtering or other deep learning methods -->"
      ],
      "id": "0vudkPURPTki"
    },
    {
      "cell_type": "code",
      "execution_count": null,
      "metadata": {
        "colab": {
          "base_uri": "https://localhost:8080/"
        },
        "id": "E7X0SIDsbsIQ",
        "outputId": "71d976dc-783c-4580-9539-bd28e67212e3"
      },
      "outputs": [
        {
          "output_type": "execute_result",
          "data": {
            "text/plain": [
              "0.9911869365436147"
            ]
          },
          "metadata": {},
          "execution_count": 20
        }
      ],
      "source": [
        "sparsity_book=checkSparsity(book_df)\n",
        "sparsity_book"
      ],
      "id": "E7X0SIDsbsIQ"
    },
    {
      "cell_type": "code",
      "execution_count": null,
      "metadata": {
        "colab": {
          "base_uri": "https://localhost:8080/"
        },
        "id": "axEOkY2TJoWZ",
        "outputId": "596990f5-26d8-4b8b-e2b3-e9c9ffaba373"
      },
      "outputs": [
        {
          "output_type": "execute_result",
          "data": {
            "text/plain": [
              "0.9914865451250656"
            ]
          },
          "metadata": {},
          "execution_count": 21
        }
      ],
      "source": [
        "sparsity_ciao=checkSparsity(ciao_df)\n",
        "sparsity_ciao"
      ],
      "id": "axEOkY2TJoWZ"
    },
    {
      "cell_type": "code",
      "execution_count": null,
      "metadata": {
        "id": "GDmSBy60J_YD"
      },
      "outputs": [],
      "source": [
        "movie_10k_df['rating']=1\n",
        "amazon_df['rating']=1\n",
        "book_df['rating']=1\n",
        "food_df['rating']=1\n",
        "ciao_df['rating']=1\n",
        "ecommerce_df['rating']=1"
      ],
      "id": "GDmSBy60J_YD"
    },
    {
      "cell_type": "markdown",
      "metadata": {
        "id": "qsASfBUzLb4O"
      },
      "source": [
        "# Matrix factorisation Methods"
      ],
      "id": "qsASfBUzLb4O"
    },
    {
      "cell_type": "markdown",
      "metadata": {
        "id": "lg_CT5w5EXCc"
      },
      "source": [
        "### Code Block"
      ],
      "id": "lg_CT5w5EXCc"
    },
    {
      "cell_type": "code",
      "source": [
        "!pip install surprise"
      ],
      "metadata": {
        "colab": {
          "base_uri": "https://localhost:8080/"
        },
        "id": "aB2rrvsEZ6ev",
        "outputId": "ccb0b041-b106-4ec3-ec92-da2be6604a34"
      },
      "id": "aB2rrvsEZ6ev",
      "execution_count": null,
      "outputs": [
        {
          "output_type": "stream",
          "name": "stdout",
          "text": [
            "Looking in indexes: https://pypi.org/simple, https://us-python.pkg.dev/colab-wheels/public/simple/\n",
            "Collecting surprise\n",
            "  Downloading surprise-0.1-py2.py3-none-any.whl (1.8 kB)\n",
            "Requirement already satisfied: scikit-surprise in /usr/local/lib/python3.8/dist-packages (from surprise) (1.1.3)\n",
            "Requirement already satisfied: scipy>=1.3.2 in /usr/local/lib/python3.8/dist-packages (from scikit-surprise->surprise) (1.7.3)\n",
            "Requirement already satisfied: numpy>=1.17.3 in /usr/local/lib/python3.8/dist-packages (from scikit-surprise->surprise) (1.21.6)\n",
            "Requirement already satisfied: joblib>=1.0.0 in /usr/local/lib/python3.8/dist-packages (from scikit-surprise->surprise) (1.2.0)\n",
            "Installing collected packages: surprise\n",
            "Successfully installed surprise-0.1\n"
          ]
        }
      ]
    },
    {
      "cell_type": "code",
      "execution_count": null,
      "metadata": {
        "id": "5H0W7_oE7cT-"
      },
      "outputs": [],
      "source": [
        "from surprise import AlgoBase\n",
        "from surprise import PredictionImpossible\n",
        "import math\n",
        "import numpy as np\n",
        "import heapq\n",
        "from datetime import datetime\n",
        "from surprise import SVD\n",
        "from surprise import SVDpp\n",
        "from surprise import NMF\n",
        "from datetime import datetime\n",
        "from sklearn import preprocessing"
      ],
      "id": "5H0W7_oE7cT-"
    },
    {
      "cell_type": "code",
      "execution_count": null,
      "metadata": {
        "id": "ata7DH7kZqjK"
      },
      "outputs": [],
      "source": [
        "from surprise import accuracy\n",
        "from collections import defaultdict\n",
        "from surprise import Dataset,Reader\n",
        "from surprise.model_selection import cross_validate\n",
        "from surprise.model_selection import train_test_split\n",
        "from surprise.model_selection.split import train_test_split\n",
        "\n",
        "\n",
        "\n",
        "def surprisePreprocessing(rating_df,user_col=\"userID\",item_col=\"itemID\",rating_col=\"rating\"):\n",
        "  reader = Reader(rating_scale=(0, 5))\n",
        "  data = Dataset.load_from_df(rating_df[[user_col, item_col, rating_col]], reader)\n",
        "  trainset, testset = train_test_split(data, test_size=0.2)\n",
        "  fullTrainSet = data.build_full_trainset()\n",
        "  return trainset, testset,fullTrainSet\n",
        "def Get_Top_Predictions_In_Actual_DataSet(predictions, n=20, minimumRating=0):\n",
        "  topN = defaultdict(list)\n",
        "  for uid, mid, actualRating in predictions:\n",
        "      if (actualRating >= minimumRating):\n",
        "          topN[uid].append((mid, actualRating))\n",
        "  for uid, ratings in topN.items():\n",
        "      ratings.sort(key=lambda x: x[1], reverse=True)\n",
        "      topN[uid] = ratings[:n]\n",
        "  return topN\n",
        "def Get_Top_Predictions(predictions, n=10, minimumRating=3.0):\n",
        "    topN = defaultdict(list)\n",
        "    for uid, mid, actualRating, estimatedRating, _ in predictions:\n",
        "        if (estimatedRating >= minimumRating):\n",
        "            topN[uid].append((mid, estimatedRating))\n",
        "    for uid, ratings in topN.items():\n",
        "        ratings.sort(key=lambda x: x[1], reverse=True)\n",
        "        topN[uid] = ratings[:n]\n",
        "    return topN"
      ],
      "id": "ata7DH7kZqjK"
    },
    {
      "cell_type": "code",
      "execution_count": null,
      "metadata": {
        "id": "L0JtLYHdZtO2"
      },
      "outputs": [],
      "source": [
        "def MAE(predictions):\n",
        "    return accuracy.mae(predictions, verbose=False)\n",
        "def RMSE(predictions):\n",
        "    return accuracy.rmse(predictions, verbose=False)"
      ],
      "id": "L0JtLYHdZtO2"
    },
    {
      "cell_type": "code",
      "execution_count": null,
      "metadata": {
        "id": "zwJosykJQka4"
      },
      "outputs": [],
      "source": [
        "\n",
        "class  MatrixFactorization:\n",
        "  def __init__(self, algo):\n",
        "    self.algo = algo\n",
        "  \n",
        "  def start(self,trainset,testset, n=20, verbose=True):\n",
        "        before=datetime.now() \n",
        "        #trainSet, testSet = train_test_split(data, test_size=.25, random_state=1)\n",
        "        self.algo.fit(trainset)\n",
        "        after= datetime.now()\n",
        "        duration = after-before                         \n",
        "        self.duration = round(duration.total_seconds())\n",
        "        print('time taken '+str(duration)+'s')\n",
        "        predictions = self.algo.test(testset)\n",
        "        self.rmse= RMSE(predictions)\n",
        "        self.mae= MAE(predictions)\n",
        "        print(\"Computing RMSE \"+str(self.rmse))\n",
        "        print(\"Computing MAE \"+str(self.mae))\n",
        "        return self.duration,self.rmse,self.mae\n",
        "    \n",
        "   \n",
        "  def getModel(self):\n",
        "        return self.algo\n",
        "        \n",
        "   \n",
        "  def RecommendationMetricsOnwholeTestSet(self,trainset,testset,n=20):\n",
        "       \n",
        "        print(\"Computing recommendations with train and test dataset...\")\n",
        "        # Build predictions for all ratings  in the test set\n",
        "        print(\"Predict ratings...\")\n",
        "        #allPredictions = self.algo.test(testset)\n",
        "        bigTestSet = trainset.build_anti_testset()\n",
        "        allPredictions = self.algo.test(bigTestSet)\n",
        "        self.allPredictions=allPredictions\n",
        "        # Compute top TOP_K recs for each user\n",
        "        print(\"Compute top \"+str(n)+ \" recs per user\")\n",
        "        topNPredicted = Get_Top_Predictions(self.allPredictions, n)\n",
        "        topNPredictedOnActualDataSet = Get_Top_Predictions_In_Actual_DataSet(testset, n=10)\n",
        "        #Calculate hit rate\n",
        "        self.Precision=self.Precision_k(topNPredicted, topNPredictedOnActualDataSet)\n",
        "        self.hit=self.hitrate_k(topNPredicted, topNPredictedOnActualDataSet)\n",
        "        print(\"\\nPrecision@k: \",self.Precision )\n",
        "        print(\"\\nHit Rate@k: \",self.hit )\n",
        "          \n",
        "        return self.Precision,self.hit\n",
        "  def Precision_k(self,topNPredicted, topNPredictedOnActualDataSet):\n",
        "    totalhit_ratio=0;\n",
        "    totalcount=0\n",
        "    for userid in topNPredictedOnActualDataSet:\n",
        "        totalcount+=1\n",
        "        hit=0\n",
        "        total=0\n",
        "        predictions=[]\n",
        "        actual_predictions=[]\n",
        "        for item,_ in topNPredicted[int(userid)]:\n",
        "            predictions.append(item)\n",
        "        for item,_ in topNPredictedOnActualDataSet[int(userid)]:\n",
        "            actual_predictions.append(item)\n",
        "            \n",
        "        for i in predictions:\n",
        "            total+=1\n",
        "            if i in actual_predictions:\n",
        "                hit+=1\n",
        "        if(total!=0):    \n",
        "          totalhit_ratio+=(hit/total)\n",
        "      \n",
        "\n",
        "    self.Precision_k=(totalhit_ratio/totalcount)   \n",
        "    return self.Precision_k\n",
        "  def hitrate_k(self,topNPredicted, topNPredictedOnActualDataSet):\n",
        "    totalhit_ratio=0;\n",
        "    totalcount=0\n",
        "    hit=0\n",
        "    for userid in topNPredictedOnActualDataSet:\n",
        "        totalcount+=1\n",
        "       \n",
        "        predictions=[]\n",
        "        actual_predictions=[]\n",
        "        for item,_ in topNPredicted[int(userid)]:\n",
        "            predictions.append(item)\n",
        "        for item,_ in topNPredictedOnActualDataSet[int(userid)]:\n",
        "            actual_predictions.append(item)\n",
        "            \n",
        "        for i in predictions:\n",
        "            if i in actual_predictions:\n",
        "                hit+=1\n",
        "                break\n",
        "        \n",
        "\n",
        "    self.hitrate_k=(hit/totalcount)   \n",
        "    return self.hitrate_k"
      ],
      "id": "zwJosykJQka4"
    },
    {
      "cell_type": "markdown",
      "metadata": {
        "id": "5Qj5zP9zV4bG"
      },
      "source": [
        "Run all Matrix factorization models on small sub sample"
      ],
      "id": "5Qj5zP9zV4bG"
    },
    {
      "cell_type": "code",
      "execution_count": null,
      "metadata": {
        "id": "a5w4mX-qVHEY"
      },
      "outputs": [],
      "source": [
        "def startMatrixFactorizationonCiao(bestmodel):\n",
        "\n",
        "  ## Run best Model on whole dataset\n",
        "  # final_matrix_fact_algo=None\n",
        "  # bestmodel=runMatrixFactorizationOnSampleDataset()\n",
        "  final_matrix_fact_algo=None\n",
        "  if bestmodel=='SVD':\n",
        "    final_matrix_fact_algo=SVD()\n",
        "  if bestmodel=='SVDPP':\n",
        "    final_matrix_fact_algo=SVDpp()\n",
        "  if bestmodel=='NMF':\n",
        "    final_matrix_fact_algo=NMF()\n",
        "  trainset, testset,fullTrainSet=surprisePreprocessing(ciao_df)\n",
        "  algo_surprise=MatrixFactorization(final_matrix_fact_algo)\n",
        "  MF_duration,MF_rmse,MF_mae=algo_surprise.start(trainset,testset)\n",
        "  MF__Precision_k,mf_hit=algo_surprise.RecommendationMetricsOnwholeTestSet(trainset,testset)\n",
        "\n",
        "  return bestmodel,algo_surprise.algo,MF_rmse,MF_duration,MF__Precision_k,mf_hit"
      ],
      "id": "a5w4mX-qVHEY"
    },
    {
      "cell_type": "code",
      "execution_count": null,
      "metadata": {
        "id": "vQjXuctHCjgi"
      },
      "outputs": [],
      "source": [
        "def startMatrixFactorizationonBook(bestmodel):\n",
        "\n",
        "  ## Run best Model on whole dataset\n",
        "  # final_matrix_fact_algo=None\n",
        "  # bestmodel=runMatrixFactorizationOnSampleDataset()\n",
        "  final_matrix_fact_algo=None\n",
        "  if bestmodel=='SVD':\n",
        "    final_matrix_fact_algo=SVD()\n",
        "  if bestmodel=='SVDPP':\n",
        "    final_matrix_fact_algo=SVDpp()\n",
        "  if bestmodel=='NMF':\n",
        "    final_matrix_fact_algo=NMF()\n",
        "  trainset, testset,fullTrainSet=surprisePreprocessing(book_df)\n",
        "  algo_surprise=MatrixFactorization(final_matrix_fact_algo)\n",
        "  MF_duration,MF_rmse,MF_mae=algo_surprise.start(trainset,testset)\n",
        "  MF__Precision_k,mf_hit=algo_surprise.RecommendationMetricsOnwholeTestSet(trainset,testset)\n",
        "\n",
        "  return bestmodel,algo_surprise.algo,MF_rmse,MF_duration,MF__Precision_k,mf_hit"
      ],
      "id": "vQjXuctHCjgi"
    },
    {
      "cell_type": "code",
      "execution_count": null,
      "metadata": {
        "id": "Z-go5qV_CsNQ"
      },
      "outputs": [],
      "source": [
        "def startMatrixFactorizationonFood(bestmodel):\n",
        "\n",
        "  ## Run best Model on whole dataset\n",
        "  # final_matrix_fact_algo=None\n",
        "  # bestmodel=runMatrixFactorizationOnSampleDataset()\n",
        "  final_matrix_fact_algo=None\n",
        "  if bestmodel=='SVD':\n",
        "    final_matrix_fact_algo=SVD()\n",
        "  if bestmodel=='SVDPP':\n",
        "    final_matrix_fact_algo=SVDpp()\n",
        "  if bestmodel=='NMF':\n",
        "    final_matrix_fact_algo=NMF()\n",
        "  trainset, testset,fullTrainSet=surprisePreprocessing(food_df)\n",
        "  algo_surprise=MatrixFactorization(final_matrix_fact_algo)\n",
        "  MF_duration,MF_rmse,MF_mae=algo_surprise.start(trainset,testset)\n",
        "  MF__Precision_k,mf_hit=algo_surprise.RecommendationMetricsOnwholeTestSet(trainset,testset)\n",
        "\n",
        "  return bestmodel,algo_surprise.algo,MF_rmse,MF_duration,MF__Precision_k,mf_hit"
      ],
      "id": "Z-go5qV_CsNQ"
    },
    {
      "cell_type": "code",
      "execution_count": null,
      "metadata": {
        "id": "VjKDvv--C48M"
      },
      "outputs": [],
      "source": [
        "\n",
        "def startMatrixFactorizationonmovie(bestmodel):\n",
        "\n",
        "  ## Run best Model on whole dataset\n",
        "  # final_matrix_fact_algo=None\n",
        "  # bestmodel=runMatrixFactorizationOnSampleDataset()\n",
        "  final_matrix_fact_algo=None\n",
        "  if bestmodel=='SVD':\n",
        "    final_matrix_fact_algo=SVD()\n",
        "  if bestmodel=='SVDPP':\n",
        "    final_matrix_fact_algo=SVDpp()\n",
        "  if bestmodel=='NMF':\n",
        "    final_matrix_fact_algo=NMF()\n",
        "  trainset, testset,fullTrainSet=surprisePreprocessing(movie_10k_df)\n",
        "  algo_surprise=MatrixFactorization(final_matrix_fact_algo)\n",
        "  MF_duration,MF_rmse,MF_mae=algo_surprise.start(trainset,testset)\n",
        "  MF__Precision_k,mf_hit=algo_surprise.RecommendationMetricsOnwholeTestSet(trainset,testset)\n",
        "\n",
        "  return bestmodel,algo_surprise.algo,MF_rmse,MF_duration,MF__Precision_k,mf_hit"
      ],
      "id": "VjKDvv--C48M"
    },
    {
      "cell_type": "code",
      "execution_count": null,
      "metadata": {
        "id": "Tv33MCgTj6b1"
      },
      "outputs": [],
      "source": [
        "df=amazon_df.copy()\n",
        "product_ids = list(set(list(df.itemID.unique())))\n",
        "user_ids = list(set(list(df.userID.unique())))\n",
        "dict_products = {}\n",
        "index = 0\n",
        "for ids in sorted(product_ids):\n",
        "    dict_products[ids] = index\n",
        "    index += 1\n",
        "dict_products = {}\n",
        "index = 0\n",
        "for ids in sorted(product_ids):\n",
        "    dict_products[ids] = index\n",
        "    index += 1\n",
        "dict_users = {}\n",
        "index = 0\n",
        "for ids in sorted(user_ids):\n",
        "    dict_users[ids] = index\n",
        "    index += 1\n",
        "df[\"itemID\"] = df[\"itemID\"].map(dict_products)\n",
        "df[\"userID\"] = df[\"userID\"].map(dict_users)\n",
        "\n",
        "amazon_int_df=df.copy()"
      ],
      "id": "Tv33MCgTj6b1"
    },
    {
      "cell_type": "code",
      "execution_count": null,
      "metadata": {
        "id": "NLpKDgWUi8Gy"
      },
      "outputs": [],
      "source": [
        "\n",
        "def startMatrixFactorizationonAmazon(bestmodel):\n",
        "\n",
        "  ## Run best Model on whole dataset\n",
        "  # final_matrix_fact_algo=None\n",
        "  # bestmodel=runMatrixFactorizationOnSampleDataset()\n",
        "  final_matrix_fact_algo=None\n",
        "  if bestmodel=='SVD':\n",
        "    final_matrix_fact_algo=SVD()\n",
        "  if bestmodel=='SVDPP':\n",
        "    final_matrix_fact_algo=SVDpp()\n",
        "  if bestmodel=='NMF':\n",
        "    final_matrix_fact_algo=NMF()\n",
        "  trainset, testset,fullTrainSet=surprisePreprocessing(amazon_int_df)\n",
        "  algo_surprise=MatrixFactorization(final_matrix_fact_algo)\n",
        "  MF_duration,MF_rmse,MF_mae=algo_surprise.start(trainset,testset)\n",
        "  MF__Precision_k,mf_hit=algo_surprise.RecommendationMetricsOnwholeTestSet(trainset,testset)\n",
        "\n",
        "  return bestmodel,algo_surprise.algo,MF_rmse,MF_duration,MF__Precision_k,mf_hit"
      ],
      "id": "NLpKDgWUi8Gy"
    },
    {
      "cell_type": "markdown",
      "metadata": {
        "id": "A_kvnvOKEiVJ"
      },
      "source": [
        "## Experiment on movielens dataset"
      ],
      "id": "A_kvnvOKEiVJ"
    },
    {
      "cell_type": "code",
      "execution_count": null,
      "metadata": {
        "colab": {
          "base_uri": "https://localhost:8080/"
        },
        "id": "D3a-VYFhCxvK",
        "outputId": "ff87bb7c-0f07-4974-eefc-4ad3082cc3c1"
      },
      "outputs": [
        {
          "output_type": "stream",
          "name": "stdout",
          "text": [
            "time taken 0:00:00.918157s\n",
            "Computing RMSE 0.9368898362048822\n",
            "Computing MAE 0.738366638615841\n",
            "Computing recommendations with train and test dataset...\n",
            "Predict ratings...\n",
            "Compute top 20 recs per user\n",
            "\n",
            "Precision@k:  0.04284449167552245\n",
            "\n",
            "Hit Rate@k:  0.48459086078639746\n"
          ]
        }
      ],
      "source": [
        "bestmodel,algo_mf,MF_rmsemovielens,MF_durationmovielens,MF__Precision_kmovielens,mf_hitmovielens=startMatrixFactorizationonmovie('SVD')\n",
        "\n",
        "  "
      ],
      "id": "D3a-VYFhCxvK"
    },
    {
      "cell_type": "code",
      "execution_count": null,
      "metadata": {
        "id": "Uo5bVS2hCwTK"
      },
      "outputs": [],
      "source": [
        "df2 = {'Dataset':\"Movie Lens\",'Algorithm':\"SVD\",'Sparsity':sparsity_movielens,'rmse':MF_rmsemovielens,'Precision@k':MF__Precision_kmovielens,'HitRate@k':mf_hitmovielens}\n",
        "summary_df = summary_df.append(df2, ignore_index = True)"
      ],
      "id": "Uo5bVS2hCwTK"
    },
    {
      "cell_type": "code",
      "execution_count": null,
      "metadata": {
        "colab": {
          "base_uri": "https://localhost:8080/"
        },
        "id": "nDNHyvG4l2CU",
        "outputId": "2ef23afe-648c-4ec8-aab2-fc84f064ead3"
      },
      "outputs": [
        {
          "output_type": "stream",
          "name": "stdout",
          "text": [
            "time taken 0:00:01.363415s\n",
            "Computing RMSE 0.9596091829981334\n",
            "Computing MAE 0.7519947187551261\n",
            "Computing recommendations with train and test dataset...\n",
            "Predict ratings...\n",
            "Compute top 20 recs per user\n",
            "\n",
            "Precision@k:  0.01367974549310714\n",
            "\n",
            "Hit Rate@k:  0.2205726405090138\n"
          ]
        }
      ],
      "source": [
        "bestmodel,algo_mf,MF_rmsemovielens,MF_durationmovielens,MF__Precision_kmovielens,mf_hitmovielens=startMatrixFactorizationonmovie('NMF')\n",
        "\n",
        "  "
      ],
      "id": "nDNHyvG4l2CU"
    },
    {
      "cell_type": "code",
      "execution_count": null,
      "metadata": {
        "id": "hrSJHEqRl2CU"
      },
      "outputs": [],
      "source": [
        "df2 = {'Dataset':\"Movie Lens\",'Algorithm':\"NMF\",'Sparsity':sparsity_movielens,'rmse':MF_rmsemovielens,'Precision@k':MF__Precision_kmovielens,'HitRate@k':mf_hitmovielens}\n",
        "summary_df = summary_df.append(df2, ignore_index = True)"
      ],
      "id": "hrSJHEqRl2CU"
    },
    {
      "cell_type": "markdown",
      "metadata": {
        "id": "cp1uD3YmEqnS"
      },
      "source": [
        "## Experiment on Books dataset"
      ],
      "id": "cp1uD3YmEqnS"
    },
    {
      "cell_type": "code",
      "execution_count": null,
      "metadata": {
        "colab": {
          "base_uri": "https://localhost:8080/"
        },
        "id": "pAxZHPvwVbXk",
        "outputId": "50452e67-40cd-4179-d20d-15789c9c0315"
      },
      "outputs": [
        {
          "output_type": "stream",
          "name": "stdout",
          "text": [
            "time taken 0:00:00.467796s\n",
            "Computing RMSE 0.08689788218293673\n",
            "Computing MAE 0.06813433050704044\n",
            "Computing recommendations with train and test dataset...\n",
            "Predict ratings...\n",
            "Compute top 20 recs per user\n",
            "\n",
            "Precision@k:  0.0\n",
            "\n",
            "Hit Rate@k:  0.0\n"
          ]
        }
      ],
      "source": [
        "MF_rmse_book,MF_duration_book,MF__Precision_k_book,mf_hit_book=None,None,None,None\n",
        "bestmodel,algo_mf,MF_rmse,MF_duration,MF__Precision_k,mf_hit=startMatrixFactorizationonBook('SVD')\n"
      ],
      "id": "pAxZHPvwVbXk"
    },
    {
      "cell_type": "code",
      "execution_count": null,
      "metadata": {
        "id": "n1uYt7E7-LGz"
      },
      "outputs": [],
      "source": [
        "df2 = {'Dataset':\"Book Dataset\",'Algorithm':\"SVD\",'Sparsity':sparsity_book,'Precision@k':MF__Precision_k}\n",
        "summary_df = summary_df.append(df2, ignore_index = True)\n",
        "  "
      ],
      "id": "n1uYt7E7-LGz"
    },
    {
      "cell_type": "code",
      "execution_count": null,
      "metadata": {
        "colab": {
          "base_uri": "https://localhost:8080/"
        },
        "id": "4r-aLMchluSk",
        "outputId": "2929aa85-c052-47c9-9e5c-6ee06a2ff6a8"
      },
      "outputs": [
        {
          "output_type": "stream",
          "name": "stdout",
          "text": [
            "time taken 0:00:00.665288s\n",
            "Computing RMSE 0.06220172807588596\n",
            "Computing MAE 0.06192756742307846\n",
            "Computing recommendations with train and test dataset...\n",
            "Predict ratings...\n",
            "Compute top 20 recs per user\n",
            "\n",
            "Precision@k:  0.0\n",
            "\n",
            "Hit Rate@k:  0.0\n"
          ]
        }
      ],
      "source": [
        "MF_rmse_book,MF_duration_book,MF__Precision_k_book,mf_hit_book=None,None,None,None\n",
        "bestmodel,algo_mf,MF_rmse,MF_duration,MF__Precision_k,mf_hit=startMatrixFactorizationonBook('NMF')\n"
      ],
      "id": "4r-aLMchluSk"
    },
    {
      "cell_type": "code",
      "execution_count": null,
      "metadata": {
        "id": "zsyTHEgcluSl"
      },
      "outputs": [],
      "source": [
        "df2 = {'Dataset':\"Book Dataset\",'Algorithm':\"NMF\",'Sparsity':sparsity_book,'Precision@k':MF__Precision_k}\n",
        "summary_df = summary_df.append(df2, ignore_index = True)\n",
        "  "
      ],
      "id": "zsyTHEgcluSl"
    },
    {
      "cell_type": "code",
      "execution_count": null,
      "metadata": {
        "colab": {
          "base_uri": "https://localhost:8080/"
        },
        "id": "DmU_Sc-7ikhJ",
        "outputId": "b3bcdcb5-977c-4a7b-cd0d-1f651be9f528"
      },
      "outputs": [
        {
          "output_type": "execute_result",
          "data": {
            "text/plain": [
              "        Dataset Algorithm  Precision@k\n",
              "0    Movie Lens       SVD     0.042844\n",
              "1    Movie Lens       NMF     0.013680\n",
              "2  Book Dataset       SVD     0.000000\n",
              "3  Book Dataset       NMF     0.000000"
            ],
            "text/html": [
              "\n",
              "  <div id=\"df-d441edc7-1ba2-4d2e-b183-3aa5b9ed15c6\">\n",
              "    <div class=\"colab-df-container\">\n",
              "      <div>\n",
              "<style scoped>\n",
              "    .dataframe tbody tr th:only-of-type {\n",
              "        vertical-align: middle;\n",
              "    }\n",
              "\n",
              "    .dataframe tbody tr th {\n",
              "        vertical-align: top;\n",
              "    }\n",
              "\n",
              "    .dataframe thead th {\n",
              "        text-align: right;\n",
              "    }\n",
              "</style>\n",
              "<table border=\"1\" class=\"dataframe\">\n",
              "  <thead>\n",
              "    <tr style=\"text-align: right;\">\n",
              "      <th></th>\n",
              "      <th>Dataset</th>\n",
              "      <th>Algorithm</th>\n",
              "      <th>Precision@k</th>\n",
              "    </tr>\n",
              "  </thead>\n",
              "  <tbody>\n",
              "    <tr>\n",
              "      <th>0</th>\n",
              "      <td>Movie Lens</td>\n",
              "      <td>SVD</td>\n",
              "      <td>0.042844</td>\n",
              "    </tr>\n",
              "    <tr>\n",
              "      <th>1</th>\n",
              "      <td>Movie Lens</td>\n",
              "      <td>NMF</td>\n",
              "      <td>0.013680</td>\n",
              "    </tr>\n",
              "    <tr>\n",
              "      <th>2</th>\n",
              "      <td>Book Dataset</td>\n",
              "      <td>SVD</td>\n",
              "      <td>0.000000</td>\n",
              "    </tr>\n",
              "    <tr>\n",
              "      <th>3</th>\n",
              "      <td>Book Dataset</td>\n",
              "      <td>NMF</td>\n",
              "      <td>0.000000</td>\n",
              "    </tr>\n",
              "  </tbody>\n",
              "</table>\n",
              "</div>\n",
              "      <button class=\"colab-df-convert\" onclick=\"convertToInteractive('df-d441edc7-1ba2-4d2e-b183-3aa5b9ed15c6')\"\n",
              "              title=\"Convert this dataframe to an interactive table.\"\n",
              "              style=\"display:none;\">\n",
              "        \n",
              "  <svg xmlns=\"http://www.w3.org/2000/svg\" height=\"24px\"viewBox=\"0 0 24 24\"\n",
              "       width=\"24px\">\n",
              "    <path d=\"M0 0h24v24H0V0z\" fill=\"none\"/>\n",
              "    <path d=\"M18.56 5.44l.94 2.06.94-2.06 2.06-.94-2.06-.94-.94-2.06-.94 2.06-2.06.94zm-11 1L8.5 8.5l.94-2.06 2.06-.94-2.06-.94L8.5 2.5l-.94 2.06-2.06.94zm10 10l.94 2.06.94-2.06 2.06-.94-2.06-.94-.94-2.06-.94 2.06-2.06.94z\"/><path d=\"M17.41 7.96l-1.37-1.37c-.4-.4-.92-.59-1.43-.59-.52 0-1.04.2-1.43.59L10.3 9.45l-7.72 7.72c-.78.78-.78 2.05 0 2.83L4 21.41c.39.39.9.59 1.41.59.51 0 1.02-.2 1.41-.59l7.78-7.78 2.81-2.81c.8-.78.8-2.07 0-2.86zM5.41 20L4 18.59l7.72-7.72 1.47 1.35L5.41 20z\"/>\n",
              "  </svg>\n",
              "      </button>\n",
              "      \n",
              "  <style>\n",
              "    .colab-df-container {\n",
              "      display:flex;\n",
              "      flex-wrap:wrap;\n",
              "      gap: 12px;\n",
              "    }\n",
              "\n",
              "    .colab-df-convert {\n",
              "      background-color: #E8F0FE;\n",
              "      border: none;\n",
              "      border-radius: 50%;\n",
              "      cursor: pointer;\n",
              "      display: none;\n",
              "      fill: #1967D2;\n",
              "      height: 32px;\n",
              "      padding: 0 0 0 0;\n",
              "      width: 32px;\n",
              "    }\n",
              "\n",
              "    .colab-df-convert:hover {\n",
              "      background-color: #E2EBFA;\n",
              "      box-shadow: 0px 1px 2px rgba(60, 64, 67, 0.3), 0px 1px 3px 1px rgba(60, 64, 67, 0.15);\n",
              "      fill: #174EA6;\n",
              "    }\n",
              "\n",
              "    [theme=dark] .colab-df-convert {\n",
              "      background-color: #3B4455;\n",
              "      fill: #D2E3FC;\n",
              "    }\n",
              "\n",
              "    [theme=dark] .colab-df-convert:hover {\n",
              "      background-color: #434B5C;\n",
              "      box-shadow: 0px 1px 3px 1px rgba(0, 0, 0, 0.15);\n",
              "      filter: drop-shadow(0px 1px 2px rgba(0, 0, 0, 0.3));\n",
              "      fill: #FFFFFF;\n",
              "    }\n",
              "  </style>\n",
              "\n",
              "      <script>\n",
              "        const buttonEl =\n",
              "          document.querySelector('#df-d441edc7-1ba2-4d2e-b183-3aa5b9ed15c6 button.colab-df-convert');\n",
              "        buttonEl.style.display =\n",
              "          google.colab.kernel.accessAllowed ? 'block' : 'none';\n",
              "\n",
              "        async function convertToInteractive(key) {\n",
              "          const element = document.querySelector('#df-d441edc7-1ba2-4d2e-b183-3aa5b9ed15c6');\n",
              "          const dataTable =\n",
              "            await google.colab.kernel.invokeFunction('convertToInteractive',\n",
              "                                                     [key], {});\n",
              "          if (!dataTable) return;\n",
              "\n",
              "          const docLinkHtml = 'Like what you see? Visit the ' +\n",
              "            '<a target=\"_blank\" href=https://colab.research.google.com/notebooks/data_table.ipynb>data table notebook</a>'\n",
              "            + ' to learn more about interactive tables.';\n",
              "          element.innerHTML = '';\n",
              "          dataTable['output_type'] = 'display_data';\n",
              "          await google.colab.output.renderOutput(dataTable, element);\n",
              "          const docLink = document.createElement('div');\n",
              "          docLink.innerHTML = docLinkHtml;\n",
              "          element.appendChild(docLink);\n",
              "        }\n",
              "      </script>\n",
              "    </div>\n",
              "  </div>\n",
              "  "
            ]
          },
          "metadata": {},
          "execution_count": 66
        }
      ],
      "source": [
        "summary_df[['Dataset','Algorithm','Precision@k']].sort_values(by=['Dataset','Precision@k'],ascending=False)"
      ],
      "id": "DmU_Sc-7ikhJ"
    },
    {
      "cell_type": "markdown",
      "metadata": {
        "id": "7Iwo0CiiE3Vb"
      },
      "source": [
        "## Experiment on Ciao dataset"
      ],
      "id": "7Iwo0CiiE3Vb"
    },
    {
      "cell_type": "code",
      "execution_count": null,
      "metadata": {
        "id": "A2tOlmMkCI6v",
        "colab": {
          "base_uri": "https://localhost:8080/"
        },
        "outputId": "4bf1d88e-2d08-41de-e2a8-a1dfc7cc40cc"
      },
      "outputs": [
        {
          "output_type": "stream",
          "name": "stdout",
          "text": [
            "time taken 0:00:00.764026s\n",
            "Computing RMSE 0.08195255296849903\n",
            "Computing MAE 0.06377217929699985\n",
            "Computing recommendations with train and test dataset...\n",
            "Predict ratings...\n",
            "Compute top 20 recs per user\n",
            "\n",
            "Precision@k:  0.0\n",
            "\n",
            "Hit Rate@k:  0.0\n"
          ]
        }
      ],
      "source": [
        "bestmodel,algo_mf,MF_rmseNetflix,MF_durationNetflix,MF__Precision_kNetflix,hitNetflix=startMatrixFactorizationonCiao('SVD')\n",
        "\n",
        "  "
      ],
      "id": "A2tOlmMkCI6v"
    },
    {
      "cell_type": "code",
      "execution_count": null,
      "metadata": {
        "id": "NFSBzOul_zcr"
      },
      "outputs": [],
      "source": [
        "df2 = {'Dataset':\"Ciao\",'Algorithm':\"SVD\",'Sparsity':sparsity_ciao,'rmse':MF_rmseNetflix,'Precision@k':MF__Precision_kNetflix,'HitRate@k':hitNetflix}\n",
        "summary_df = summary_df.append(df2, ignore_index = True)"
      ],
      "id": "NFSBzOul_zcr"
    },
    {
      "cell_type": "code",
      "execution_count": null,
      "metadata": {
        "id": "h3l-zQ1nlqVl",
        "colab": {
          "base_uri": "https://localhost:8080/"
        },
        "outputId": "f2664634-dd3a-4094-c9eb-a0c7c68fabf5"
      },
      "outputs": [
        {
          "output_type": "stream",
          "name": "stdout",
          "text": [
            "time taken 0:00:01.072352s\n",
            "Computing RMSE 0.061303984562412574\n",
            "Computing MAE 0.06114510748791013\n",
            "Computing recommendations with train and test dataset...\n",
            "Predict ratings...\n",
            "Compute top 20 recs per user\n",
            "\n",
            "Precision@k:  0.0\n",
            "\n",
            "Hit Rate@k:  0.0\n"
          ]
        }
      ],
      "source": [
        "bestmodel,algo_mf,MF_rmseNetflix,MF_durationNetflix,MF__Precision_kNetflix,hitNetflix=startMatrixFactorizationonCiao('NMF')\n",
        "\n",
        "  "
      ],
      "id": "h3l-zQ1nlqVl"
    },
    {
      "cell_type": "code",
      "execution_count": null,
      "metadata": {
        "id": "1EgJFOm2lqVl"
      },
      "outputs": [],
      "source": [
        "df2 = {'Dataset':\"Ciao\",'Algorithm':\"NMF\",'Sparsity':sparsity_ciao,'rmse':MF_rmseNetflix,'Precision@k':MF__Precision_kNetflix,'HitRate@k':hitNetflix}\n",
        "summary_df = summary_df.append(df2, ignore_index = True)"
      ],
      "id": "1EgJFOm2lqVl"
    },
    {
      "cell_type": "code",
      "execution_count": null,
      "metadata": {
        "id": "TS0wxterimZJ",
        "colab": {
          "base_uri": "https://localhost:8080/"
        },
        "outputId": "0e0905aa-03ee-4a12-f1e2-ab15358179bf"
      },
      "outputs": [
        {
          "output_type": "execute_result",
          "data": {
            "text/plain": [
              "        Dataset Algorithm  Precision@k\n",
              "0    Movie Lens       SVD     0.042844\n",
              "1    Movie Lens       NMF     0.013680\n",
              "4          Ciao       SVD     0.000000\n",
              "5          Ciao       NMF     0.000000\n",
              "2  Book Dataset       SVD     0.000000\n",
              "3  Book Dataset       NMF     0.000000"
            ],
            "text/html": [
              "\n",
              "  <div id=\"df-cee4ba90-ac19-4f8e-8d5e-241e7cee6186\">\n",
              "    <div class=\"colab-df-container\">\n",
              "      <div>\n",
              "<style scoped>\n",
              "    .dataframe tbody tr th:only-of-type {\n",
              "        vertical-align: middle;\n",
              "    }\n",
              "\n",
              "    .dataframe tbody tr th {\n",
              "        vertical-align: top;\n",
              "    }\n",
              "\n",
              "    .dataframe thead th {\n",
              "        text-align: right;\n",
              "    }\n",
              "</style>\n",
              "<table border=\"1\" class=\"dataframe\">\n",
              "  <thead>\n",
              "    <tr style=\"text-align: right;\">\n",
              "      <th></th>\n",
              "      <th>Dataset</th>\n",
              "      <th>Algorithm</th>\n",
              "      <th>Precision@k</th>\n",
              "    </tr>\n",
              "  </thead>\n",
              "  <tbody>\n",
              "    <tr>\n",
              "      <th>0</th>\n",
              "      <td>Movie Lens</td>\n",
              "      <td>SVD</td>\n",
              "      <td>0.042844</td>\n",
              "    </tr>\n",
              "    <tr>\n",
              "      <th>1</th>\n",
              "      <td>Movie Lens</td>\n",
              "      <td>NMF</td>\n",
              "      <td>0.013680</td>\n",
              "    </tr>\n",
              "    <tr>\n",
              "      <th>4</th>\n",
              "      <td>Ciao</td>\n",
              "      <td>SVD</td>\n",
              "      <td>0.000000</td>\n",
              "    </tr>\n",
              "    <tr>\n",
              "      <th>5</th>\n",
              "      <td>Ciao</td>\n",
              "      <td>NMF</td>\n",
              "      <td>0.000000</td>\n",
              "    </tr>\n",
              "    <tr>\n",
              "      <th>2</th>\n",
              "      <td>Book Dataset</td>\n",
              "      <td>SVD</td>\n",
              "      <td>0.000000</td>\n",
              "    </tr>\n",
              "    <tr>\n",
              "      <th>3</th>\n",
              "      <td>Book Dataset</td>\n",
              "      <td>NMF</td>\n",
              "      <td>0.000000</td>\n",
              "    </tr>\n",
              "  </tbody>\n",
              "</table>\n",
              "</div>\n",
              "      <button class=\"colab-df-convert\" onclick=\"convertToInteractive('df-cee4ba90-ac19-4f8e-8d5e-241e7cee6186')\"\n",
              "              title=\"Convert this dataframe to an interactive table.\"\n",
              "              style=\"display:none;\">\n",
              "        \n",
              "  <svg xmlns=\"http://www.w3.org/2000/svg\" height=\"24px\"viewBox=\"0 0 24 24\"\n",
              "       width=\"24px\">\n",
              "    <path d=\"M0 0h24v24H0V0z\" fill=\"none\"/>\n",
              "    <path d=\"M18.56 5.44l.94 2.06.94-2.06 2.06-.94-2.06-.94-.94-2.06-.94 2.06-2.06.94zm-11 1L8.5 8.5l.94-2.06 2.06-.94-2.06-.94L8.5 2.5l-.94 2.06-2.06.94zm10 10l.94 2.06.94-2.06 2.06-.94-2.06-.94-.94-2.06-.94 2.06-2.06.94z\"/><path d=\"M17.41 7.96l-1.37-1.37c-.4-.4-.92-.59-1.43-.59-.52 0-1.04.2-1.43.59L10.3 9.45l-7.72 7.72c-.78.78-.78 2.05 0 2.83L4 21.41c.39.39.9.59 1.41.59.51 0 1.02-.2 1.41-.59l7.78-7.78 2.81-2.81c.8-.78.8-2.07 0-2.86zM5.41 20L4 18.59l7.72-7.72 1.47 1.35L5.41 20z\"/>\n",
              "  </svg>\n",
              "      </button>\n",
              "      \n",
              "  <style>\n",
              "    .colab-df-container {\n",
              "      display:flex;\n",
              "      flex-wrap:wrap;\n",
              "      gap: 12px;\n",
              "    }\n",
              "\n",
              "    .colab-df-convert {\n",
              "      background-color: #E8F0FE;\n",
              "      border: none;\n",
              "      border-radius: 50%;\n",
              "      cursor: pointer;\n",
              "      display: none;\n",
              "      fill: #1967D2;\n",
              "      height: 32px;\n",
              "      padding: 0 0 0 0;\n",
              "      width: 32px;\n",
              "    }\n",
              "\n",
              "    .colab-df-convert:hover {\n",
              "      background-color: #E2EBFA;\n",
              "      box-shadow: 0px 1px 2px rgba(60, 64, 67, 0.3), 0px 1px 3px 1px rgba(60, 64, 67, 0.15);\n",
              "      fill: #174EA6;\n",
              "    }\n",
              "\n",
              "    [theme=dark] .colab-df-convert {\n",
              "      background-color: #3B4455;\n",
              "      fill: #D2E3FC;\n",
              "    }\n",
              "\n",
              "    [theme=dark] .colab-df-convert:hover {\n",
              "      background-color: #434B5C;\n",
              "      box-shadow: 0px 1px 3px 1px rgba(0, 0, 0, 0.15);\n",
              "      filter: drop-shadow(0px 1px 2px rgba(0, 0, 0, 0.3));\n",
              "      fill: #FFFFFF;\n",
              "    }\n",
              "  </style>\n",
              "\n",
              "      <script>\n",
              "        const buttonEl =\n",
              "          document.querySelector('#df-cee4ba90-ac19-4f8e-8d5e-241e7cee6186 button.colab-df-convert');\n",
              "        buttonEl.style.display =\n",
              "          google.colab.kernel.accessAllowed ? 'block' : 'none';\n",
              "\n",
              "        async function convertToInteractive(key) {\n",
              "          const element = document.querySelector('#df-cee4ba90-ac19-4f8e-8d5e-241e7cee6186');\n",
              "          const dataTable =\n",
              "            await google.colab.kernel.invokeFunction('convertToInteractive',\n",
              "                                                     [key], {});\n",
              "          if (!dataTable) return;\n",
              "\n",
              "          const docLinkHtml = 'Like what you see? Visit the ' +\n",
              "            '<a target=\"_blank\" href=https://colab.research.google.com/notebooks/data_table.ipynb>data table notebook</a>'\n",
              "            + ' to learn more about interactive tables.';\n",
              "          element.innerHTML = '';\n",
              "          dataTable['output_type'] = 'display_data';\n",
              "          await google.colab.output.renderOutput(dataTable, element);\n",
              "          const docLink = document.createElement('div');\n",
              "          docLink.innerHTML = docLinkHtml;\n",
              "          element.appendChild(docLink);\n",
              "        }\n",
              "      </script>\n",
              "    </div>\n",
              "  </div>\n",
              "  "
            ]
          },
          "metadata": {},
          "execution_count": 71
        }
      ],
      "source": [
        "summary_df[['Dataset','Algorithm','Precision@k']].sort_values(by=['Dataset','Precision@k'],ascending=False)"
      ],
      "id": "TS0wxterimZJ"
    },
    {
      "cell_type": "markdown",
      "metadata": {
        "id": "Ho57rbeyjNwk"
      },
      "source": [
        "## Experiment on Amazon dataset"
      ],
      "id": "Ho57rbeyjNwk"
    },
    {
      "cell_type": "code",
      "execution_count": null,
      "metadata": {
        "id": "UQtykERrjNwl",
        "colab": {
          "base_uri": "https://localhost:8080/"
        },
        "outputId": "917ede29-edf9-4e9b-fa93-b21197ab5142"
      },
      "outputs": [
        {
          "output_type": "stream",
          "name": "stdout",
          "text": [
            "time taken 0:00:00.676602s\n",
            "Computing RMSE 0.08751598333057523\n",
            "Computing MAE 0.06916349633440996\n",
            "Computing recommendations with train and test dataset...\n",
            "Predict ratings...\n",
            "Compute top 20 recs per user\n",
            "\n",
            "Precision@k:  0.0\n",
            "\n",
            "Hit Rate@k:  0.0\n"
          ]
        }
      ],
      "source": [
        "bestmodel,algo_mf,MF_rmseNetflix,MF_durationNetflix,MF__Precision_kNetflix,hitNetflix=startMatrixFactorizationonAmazon('SVD')\n",
        "\n",
        "  "
      ],
      "id": "UQtykERrjNwl"
    },
    {
      "cell_type": "code",
      "execution_count": null,
      "metadata": {
        "id": "TkJUyzhEjNwl"
      },
      "outputs": [],
      "source": [
        "df2 = {'Dataset':\"Amazon\",'Algorithm':\"SVD\",'Sparsity':sparsity_ciao,'rmse':MF_rmseNetflix,'Precision@k':MF__Precision_kNetflix,'HitRate@k':hitNetflix}\n",
        "summary_df = summary_df.append(df2, ignore_index = True)"
      ],
      "id": "TkJUyzhEjNwl"
    },
    {
      "cell_type": "code",
      "execution_count": null,
      "metadata": {
        "id": "WHojf_O6ljlU",
        "colab": {
          "base_uri": "https://localhost:8080/"
        },
        "outputId": "5afcb2a3-fb35-4a38-be4e-d8ce84f1dd6c"
      },
      "outputs": [
        {
          "output_type": "stream",
          "name": "stdout",
          "text": [
            "time taken 0:00:00.990021s\n",
            "Computing RMSE 0.06139356180549212\n",
            "Computing MAE 0.06121542313493451\n",
            "Computing recommendations with train and test dataset...\n",
            "Predict ratings...\n",
            "Compute top 20 recs per user\n",
            "\n",
            "Precision@k:  0.0\n",
            "\n",
            "Hit Rate@k:  0.0\n"
          ]
        }
      ],
      "source": [
        "bestmodel,algo_mf,MF_rmseNetflix,MF_durationNetflix,MF__Precision_kNetflix,hitNetflix=startMatrixFactorizationonAmazon('NMF')\n",
        "\n",
        "  "
      ],
      "id": "WHojf_O6ljlU"
    },
    {
      "cell_type": "code",
      "execution_count": null,
      "metadata": {
        "id": "OtzSiKqjljlV"
      },
      "outputs": [],
      "source": [
        "df2 = {'Dataset':\"Amazon\",'Algorithm':\"NMF\",'Sparsity':sparsity_ciao,'rmse':MF_rmseNetflix,'Precision@k':MF__Precision_kNetflix,'HitRate@k':hitNetflix}\n",
        "summary_df = summary_df.append(df2, ignore_index = True)"
      ],
      "id": "OtzSiKqjljlV"
    },
    {
      "cell_type": "code",
      "execution_count": null,
      "metadata": {
        "id": "5EFm636PjNwl",
        "colab": {
          "base_uri": "https://localhost:8080/"
        },
        "outputId": "6d9ba9e8-7937-4270-933f-aeb6d3bb7c38"
      },
      "outputs": [
        {
          "output_type": "execute_result",
          "data": {
            "text/plain": [
              "        Dataset Algorithm  Precision@k\n",
              "0    Movie Lens       SVD     0.042844\n",
              "1    Movie Lens       NMF     0.013680\n",
              "4          Ciao       SVD     0.000000\n",
              "5          Ciao       NMF     0.000000\n",
              "2  Book Dataset       SVD     0.000000\n",
              "3  Book Dataset       NMF     0.000000\n",
              "6        Amazon       SVD     0.000000\n",
              "7        Amazon       NMF     0.000000"
            ],
            "text/html": [
              "\n",
              "  <div id=\"df-2264236c-1508-493a-8390-a263d5650434\">\n",
              "    <div class=\"colab-df-container\">\n",
              "      <div>\n",
              "<style scoped>\n",
              "    .dataframe tbody tr th:only-of-type {\n",
              "        vertical-align: middle;\n",
              "    }\n",
              "\n",
              "    .dataframe tbody tr th {\n",
              "        vertical-align: top;\n",
              "    }\n",
              "\n",
              "    .dataframe thead th {\n",
              "        text-align: right;\n",
              "    }\n",
              "</style>\n",
              "<table border=\"1\" class=\"dataframe\">\n",
              "  <thead>\n",
              "    <tr style=\"text-align: right;\">\n",
              "      <th></th>\n",
              "      <th>Dataset</th>\n",
              "      <th>Algorithm</th>\n",
              "      <th>Precision@k</th>\n",
              "    </tr>\n",
              "  </thead>\n",
              "  <tbody>\n",
              "    <tr>\n",
              "      <th>0</th>\n",
              "      <td>Movie Lens</td>\n",
              "      <td>SVD</td>\n",
              "      <td>0.042844</td>\n",
              "    </tr>\n",
              "    <tr>\n",
              "      <th>1</th>\n",
              "      <td>Movie Lens</td>\n",
              "      <td>NMF</td>\n",
              "      <td>0.013680</td>\n",
              "    </tr>\n",
              "    <tr>\n",
              "      <th>4</th>\n",
              "      <td>Ciao</td>\n",
              "      <td>SVD</td>\n",
              "      <td>0.000000</td>\n",
              "    </tr>\n",
              "    <tr>\n",
              "      <th>5</th>\n",
              "      <td>Ciao</td>\n",
              "      <td>NMF</td>\n",
              "      <td>0.000000</td>\n",
              "    </tr>\n",
              "    <tr>\n",
              "      <th>2</th>\n",
              "      <td>Book Dataset</td>\n",
              "      <td>SVD</td>\n",
              "      <td>0.000000</td>\n",
              "    </tr>\n",
              "    <tr>\n",
              "      <th>3</th>\n",
              "      <td>Book Dataset</td>\n",
              "      <td>NMF</td>\n",
              "      <td>0.000000</td>\n",
              "    </tr>\n",
              "    <tr>\n",
              "      <th>6</th>\n",
              "      <td>Amazon</td>\n",
              "      <td>SVD</td>\n",
              "      <td>0.000000</td>\n",
              "    </tr>\n",
              "    <tr>\n",
              "      <th>7</th>\n",
              "      <td>Amazon</td>\n",
              "      <td>NMF</td>\n",
              "      <td>0.000000</td>\n",
              "    </tr>\n",
              "  </tbody>\n",
              "</table>\n",
              "</div>\n",
              "      <button class=\"colab-df-convert\" onclick=\"convertToInteractive('df-2264236c-1508-493a-8390-a263d5650434')\"\n",
              "              title=\"Convert this dataframe to an interactive table.\"\n",
              "              style=\"display:none;\">\n",
              "        \n",
              "  <svg xmlns=\"http://www.w3.org/2000/svg\" height=\"24px\"viewBox=\"0 0 24 24\"\n",
              "       width=\"24px\">\n",
              "    <path d=\"M0 0h24v24H0V0z\" fill=\"none\"/>\n",
              "    <path d=\"M18.56 5.44l.94 2.06.94-2.06 2.06-.94-2.06-.94-.94-2.06-.94 2.06-2.06.94zm-11 1L8.5 8.5l.94-2.06 2.06-.94-2.06-.94L8.5 2.5l-.94 2.06-2.06.94zm10 10l.94 2.06.94-2.06 2.06-.94-2.06-.94-.94-2.06-.94 2.06-2.06.94z\"/><path d=\"M17.41 7.96l-1.37-1.37c-.4-.4-.92-.59-1.43-.59-.52 0-1.04.2-1.43.59L10.3 9.45l-7.72 7.72c-.78.78-.78 2.05 0 2.83L4 21.41c.39.39.9.59 1.41.59.51 0 1.02-.2 1.41-.59l7.78-7.78 2.81-2.81c.8-.78.8-2.07 0-2.86zM5.41 20L4 18.59l7.72-7.72 1.47 1.35L5.41 20z\"/>\n",
              "  </svg>\n",
              "      </button>\n",
              "      \n",
              "  <style>\n",
              "    .colab-df-container {\n",
              "      display:flex;\n",
              "      flex-wrap:wrap;\n",
              "      gap: 12px;\n",
              "    }\n",
              "\n",
              "    .colab-df-convert {\n",
              "      background-color: #E8F0FE;\n",
              "      border: none;\n",
              "      border-radius: 50%;\n",
              "      cursor: pointer;\n",
              "      display: none;\n",
              "      fill: #1967D2;\n",
              "      height: 32px;\n",
              "      padding: 0 0 0 0;\n",
              "      width: 32px;\n",
              "    }\n",
              "\n",
              "    .colab-df-convert:hover {\n",
              "      background-color: #E2EBFA;\n",
              "      box-shadow: 0px 1px 2px rgba(60, 64, 67, 0.3), 0px 1px 3px 1px rgba(60, 64, 67, 0.15);\n",
              "      fill: #174EA6;\n",
              "    }\n",
              "\n",
              "    [theme=dark] .colab-df-convert {\n",
              "      background-color: #3B4455;\n",
              "      fill: #D2E3FC;\n",
              "    }\n",
              "\n",
              "    [theme=dark] .colab-df-convert:hover {\n",
              "      background-color: #434B5C;\n",
              "      box-shadow: 0px 1px 3px 1px rgba(0, 0, 0, 0.15);\n",
              "      filter: drop-shadow(0px 1px 2px rgba(0, 0, 0, 0.3));\n",
              "      fill: #FFFFFF;\n",
              "    }\n",
              "  </style>\n",
              "\n",
              "      <script>\n",
              "        const buttonEl =\n",
              "          document.querySelector('#df-2264236c-1508-493a-8390-a263d5650434 button.colab-df-convert');\n",
              "        buttonEl.style.display =\n",
              "          google.colab.kernel.accessAllowed ? 'block' : 'none';\n",
              "\n",
              "        async function convertToInteractive(key) {\n",
              "          const element = document.querySelector('#df-2264236c-1508-493a-8390-a263d5650434');\n",
              "          const dataTable =\n",
              "            await google.colab.kernel.invokeFunction('convertToInteractive',\n",
              "                                                     [key], {});\n",
              "          if (!dataTable) return;\n",
              "\n",
              "          const docLinkHtml = 'Like what you see? Visit the ' +\n",
              "            '<a target=\"_blank\" href=https://colab.research.google.com/notebooks/data_table.ipynb>data table notebook</a>'\n",
              "            + ' to learn more about interactive tables.';\n",
              "          element.innerHTML = '';\n",
              "          dataTable['output_type'] = 'display_data';\n",
              "          await google.colab.output.renderOutput(dataTable, element);\n",
              "          const docLink = document.createElement('div');\n",
              "          docLink.innerHTML = docLinkHtml;\n",
              "          element.appendChild(docLink);\n",
              "        }\n",
              "      </script>\n",
              "    </div>\n",
              "  </div>\n",
              "  "
            ]
          },
          "metadata": {},
          "execution_count": 76
        }
      ],
      "source": [
        "summary_df[['Dataset','Algorithm','Precision@k']].sort_values(by=['Dataset','Precision@k'],ascending=False)"
      ],
      "id": "5EFm636PjNwl"
    },
    {
      "cell_type": "markdown",
      "metadata": {
        "id": "tsFRoczLFF6c"
      },
      "source": [
        "## Experiment on Food.com dataset"
      ],
      "id": "tsFRoczLFF6c"
    },
    {
      "cell_type": "code",
      "execution_count": null,
      "metadata": {
        "id": "cM-sL-P8CRpP",
        "colab": {
          "base_uri": "https://localhost:8080/"
        },
        "outputId": "04bd4464-1360-4233-9c17-c20de1b5323d"
      },
      "outputs": [
        {
          "output_type": "stream",
          "name": "stdout",
          "text": [
            "time taken 0:00:00.710050s\n",
            "Computing RMSE 0.07771487189308082\n",
            "Computing MAE 0.060585514599570706\n",
            "Computing recommendations with train and test dataset...\n",
            "Predict ratings...\n",
            "Compute top 20 recs per user\n",
            "\n",
            "Precision@k:  0.0\n",
            "\n",
            "Hit Rate@k:  0.0\n"
          ]
        }
      ],
      "source": [
        "bestmodel,algo_mfFood,MF_rmseFood,MF_durationFood,MF__Precision_kFood,hitFood=startMatrixFactorizationonFood('SVD')\n",
        "\n",
        "  "
      ],
      "id": "cM-sL-P8CRpP"
    },
    {
      "cell_type": "code",
      "execution_count": null,
      "metadata": {
        "id": "KXYO0XzJCqg6"
      },
      "outputs": [],
      "source": [
        "df2 = {'Dataset':\"Food.com\",'Algorithm':\"SVD\",'Sparsity':sparsity_food,'rmse':MF_rmseFood,'Precision@k':MF__Precision_kFood,'HitRate@k':hitFood}\n",
        "summary_df = summary_df.append(df2, ignore_index = True)"
      ],
      "id": "KXYO0XzJCqg6"
    },
    {
      "cell_type": "code",
      "execution_count": null,
      "metadata": {
        "id": "OIwde-Cjl9pE",
        "colab": {
          "base_uri": "https://localhost:8080/"
        },
        "outputId": "d7e1760f-ecdc-4d62-e6b1-108824b4d105"
      },
      "outputs": [
        {
          "output_type": "stream",
          "name": "stdout",
          "text": [
            "time taken 0:00:01.028426s\n",
            "Computing RMSE 0.060224931614940996\n",
            "Computing MAE 0.06013126447466845\n",
            "Computing recommendations with train and test dataset...\n",
            "Predict ratings...\n",
            "Compute top 20 recs per user\n",
            "\n",
            "Precision@k:  0.0\n",
            "\n",
            "Hit Rate@k:  0.0\n"
          ]
        }
      ],
      "source": [
        "bestmodel,algo_mfFood,MF_rmseFood,MF_durationFood,MF__Precision_kFood,hitFood=startMatrixFactorizationonFood('NMF')\n",
        "\n",
        "  "
      ],
      "id": "OIwde-Cjl9pE"
    },
    {
      "cell_type": "code",
      "execution_count": null,
      "metadata": {
        "id": "C3y1fKr0l9pE"
      },
      "outputs": [],
      "source": [
        "df2 = {'Dataset':\"Food.com\",'Algorithm':\"NMF\",'Sparsity':sparsity_food,'rmse':MF_rmseFood,'Precision@k':MF__Precision_kFood,'HitRate@k':hitFood}\n",
        "summary_df = summary_df.append(df2, ignore_index = True)"
      ],
      "id": "C3y1fKr0l9pE"
    },
    {
      "cell_type": "markdown",
      "metadata": {
        "id": "bxPjVbJhh1IF"
      },
      "source": [
        "# Summary"
      ],
      "id": "bxPjVbJhh1IF"
    },
    {
      "cell_type": "code",
      "execution_count": null,
      "metadata": {
        "id": "L5xHWBedh2kN",
        "colab": {
          "base_uri": "https://localhost:8080/",
          "height": 363
        },
        "outputId": "9260e13d-eda4-4e9e-b799-cc3c69b5ea3c"
      },
      "outputs": [
        {
          "output_type": "execute_result",
          "data": {
            "text/plain": [
              "        Dataset Algorithm  Precision@k\n",
              "0    Movie Lens       SVD     0.042844\n",
              "1    Movie Lens       NMF     0.013680\n",
              "8      Food.com       SVD     0.000000\n",
              "9      Food.com       NMF     0.000000\n",
              "4          Ciao       SVD     0.000000\n",
              "5          Ciao       NMF     0.000000\n",
              "2  Book Dataset       SVD     0.000000\n",
              "3  Book Dataset       NMF     0.000000\n",
              "6        Amazon       SVD     0.000000\n",
              "7        Amazon       NMF     0.000000"
            ],
            "text/html": [
              "\n",
              "  <div id=\"df-3fde4980-818f-4de8-9b71-c7ccc4a867ff\">\n",
              "    <div class=\"colab-df-container\">\n",
              "      <div>\n",
              "<style scoped>\n",
              "    .dataframe tbody tr th:only-of-type {\n",
              "        vertical-align: middle;\n",
              "    }\n",
              "\n",
              "    .dataframe tbody tr th {\n",
              "        vertical-align: top;\n",
              "    }\n",
              "\n",
              "    .dataframe thead th {\n",
              "        text-align: right;\n",
              "    }\n",
              "</style>\n",
              "<table border=\"1\" class=\"dataframe\">\n",
              "  <thead>\n",
              "    <tr style=\"text-align: right;\">\n",
              "      <th></th>\n",
              "      <th>Dataset</th>\n",
              "      <th>Algorithm</th>\n",
              "      <th>Precision@k</th>\n",
              "    </tr>\n",
              "  </thead>\n",
              "  <tbody>\n",
              "    <tr>\n",
              "      <th>0</th>\n",
              "      <td>Movie Lens</td>\n",
              "      <td>SVD</td>\n",
              "      <td>0.042844</td>\n",
              "    </tr>\n",
              "    <tr>\n",
              "      <th>1</th>\n",
              "      <td>Movie Lens</td>\n",
              "      <td>NMF</td>\n",
              "      <td>0.013680</td>\n",
              "    </tr>\n",
              "    <tr>\n",
              "      <th>8</th>\n",
              "      <td>Food.com</td>\n",
              "      <td>SVD</td>\n",
              "      <td>0.000000</td>\n",
              "    </tr>\n",
              "    <tr>\n",
              "      <th>9</th>\n",
              "      <td>Food.com</td>\n",
              "      <td>NMF</td>\n",
              "      <td>0.000000</td>\n",
              "    </tr>\n",
              "    <tr>\n",
              "      <th>4</th>\n",
              "      <td>Ciao</td>\n",
              "      <td>SVD</td>\n",
              "      <td>0.000000</td>\n",
              "    </tr>\n",
              "    <tr>\n",
              "      <th>5</th>\n",
              "      <td>Ciao</td>\n",
              "      <td>NMF</td>\n",
              "      <td>0.000000</td>\n",
              "    </tr>\n",
              "    <tr>\n",
              "      <th>2</th>\n",
              "      <td>Book Dataset</td>\n",
              "      <td>SVD</td>\n",
              "      <td>0.000000</td>\n",
              "    </tr>\n",
              "    <tr>\n",
              "      <th>3</th>\n",
              "      <td>Book Dataset</td>\n",
              "      <td>NMF</td>\n",
              "      <td>0.000000</td>\n",
              "    </tr>\n",
              "    <tr>\n",
              "      <th>6</th>\n",
              "      <td>Amazon</td>\n",
              "      <td>SVD</td>\n",
              "      <td>0.000000</td>\n",
              "    </tr>\n",
              "    <tr>\n",
              "      <th>7</th>\n",
              "      <td>Amazon</td>\n",
              "      <td>NMF</td>\n",
              "      <td>0.000000</td>\n",
              "    </tr>\n",
              "  </tbody>\n",
              "</table>\n",
              "</div>\n",
              "      <button class=\"colab-df-convert\" onclick=\"convertToInteractive('df-3fde4980-818f-4de8-9b71-c7ccc4a867ff')\"\n",
              "              title=\"Convert this dataframe to an interactive table.\"\n",
              "              style=\"display:none;\">\n",
              "        \n",
              "  <svg xmlns=\"http://www.w3.org/2000/svg\" height=\"24px\"viewBox=\"0 0 24 24\"\n",
              "       width=\"24px\">\n",
              "    <path d=\"M0 0h24v24H0V0z\" fill=\"none\"/>\n",
              "    <path d=\"M18.56 5.44l.94 2.06.94-2.06 2.06-.94-2.06-.94-.94-2.06-.94 2.06-2.06.94zm-11 1L8.5 8.5l.94-2.06 2.06-.94-2.06-.94L8.5 2.5l-.94 2.06-2.06.94zm10 10l.94 2.06.94-2.06 2.06-.94-2.06-.94-.94-2.06-.94 2.06-2.06.94z\"/><path d=\"M17.41 7.96l-1.37-1.37c-.4-.4-.92-.59-1.43-.59-.52 0-1.04.2-1.43.59L10.3 9.45l-7.72 7.72c-.78.78-.78 2.05 0 2.83L4 21.41c.39.39.9.59 1.41.59.51 0 1.02-.2 1.41-.59l7.78-7.78 2.81-2.81c.8-.78.8-2.07 0-2.86zM5.41 20L4 18.59l7.72-7.72 1.47 1.35L5.41 20z\"/>\n",
              "  </svg>\n",
              "      </button>\n",
              "      \n",
              "  <style>\n",
              "    .colab-df-container {\n",
              "      display:flex;\n",
              "      flex-wrap:wrap;\n",
              "      gap: 12px;\n",
              "    }\n",
              "\n",
              "    .colab-df-convert {\n",
              "      background-color: #E8F0FE;\n",
              "      border: none;\n",
              "      border-radius: 50%;\n",
              "      cursor: pointer;\n",
              "      display: none;\n",
              "      fill: #1967D2;\n",
              "      height: 32px;\n",
              "      padding: 0 0 0 0;\n",
              "      width: 32px;\n",
              "    }\n",
              "\n",
              "    .colab-df-convert:hover {\n",
              "      background-color: #E2EBFA;\n",
              "      box-shadow: 0px 1px 2px rgba(60, 64, 67, 0.3), 0px 1px 3px 1px rgba(60, 64, 67, 0.15);\n",
              "      fill: #174EA6;\n",
              "    }\n",
              "\n",
              "    [theme=dark] .colab-df-convert {\n",
              "      background-color: #3B4455;\n",
              "      fill: #D2E3FC;\n",
              "    }\n",
              "\n",
              "    [theme=dark] .colab-df-convert:hover {\n",
              "      background-color: #434B5C;\n",
              "      box-shadow: 0px 1px 3px 1px rgba(0, 0, 0, 0.15);\n",
              "      filter: drop-shadow(0px 1px 2px rgba(0, 0, 0, 0.3));\n",
              "      fill: #FFFFFF;\n",
              "    }\n",
              "  </style>\n",
              "\n",
              "      <script>\n",
              "        const buttonEl =\n",
              "          document.querySelector('#df-3fde4980-818f-4de8-9b71-c7ccc4a867ff button.colab-df-convert');\n",
              "        buttonEl.style.display =\n",
              "          google.colab.kernel.accessAllowed ? 'block' : 'none';\n",
              "\n",
              "        async function convertToInteractive(key) {\n",
              "          const element = document.querySelector('#df-3fde4980-818f-4de8-9b71-c7ccc4a867ff');\n",
              "          const dataTable =\n",
              "            await google.colab.kernel.invokeFunction('convertToInteractive',\n",
              "                                                     [key], {});\n",
              "          if (!dataTable) return;\n",
              "\n",
              "          const docLinkHtml = 'Like what you see? Visit the ' +\n",
              "            '<a target=\"_blank\" href=https://colab.research.google.com/notebooks/data_table.ipynb>data table notebook</a>'\n",
              "            + ' to learn more about interactive tables.';\n",
              "          element.innerHTML = '';\n",
              "          dataTable['output_type'] = 'display_data';\n",
              "          await google.colab.output.renderOutput(dataTable, element);\n",
              "          const docLink = document.createElement('div');\n",
              "          docLink.innerHTML = docLinkHtml;\n",
              "          element.appendChild(docLink);\n",
              "        }\n",
              "      </script>\n",
              "    </div>\n",
              "  </div>\n",
              "  "
            ]
          },
          "metadata": {},
          "execution_count": 81
        }
      ],
      "source": [
        "summary_df[['Dataset','Algorithm','Precision@k']].sort_values(by=['Dataset','Precision@k'],ascending=False)"
      ],
      "id": "L5xHWBedh2kN"
    },
    {
      "cell_type": "markdown",
      "source": [
        "# Implicit"
      ],
      "metadata": {
        "id": "ZegangEsaHWf"
      },
      "id": "ZegangEsaHWf"
    },
    {
      "cell_type": "code",
      "source": [
        "!pip install implicit"
      ],
      "metadata": {
        "colab": {
          "base_uri": "https://localhost:8080/"
        },
        "id": "zz4ileDEaFdv",
        "outputId": "f92b110b-e178-438f-d2f5-90eb72c8ef94"
      },
      "id": "zz4ileDEaFdv",
      "execution_count": null,
      "outputs": [
        {
          "output_type": "stream",
          "name": "stdout",
          "text": [
            "Looking in indexes: https://pypi.org/simple, https://us-python.pkg.dev/colab-wheels/public/simple/\n",
            "Collecting implicit\n",
            "  Downloading implicit-0.6.2-cp38-cp38-manylinux2014_x86_64.whl (18.6 MB)\n",
            "\u001b[K     |████████████████████████████████| 18.6 MB 32.5 MB/s \n",
            "\u001b[?25hRequirement already satisfied: tqdm>=4.27 in /usr/local/lib/python3.8/dist-packages (from implicit) (4.64.1)\n",
            "Requirement already satisfied: numpy in /usr/local/lib/python3.8/dist-packages (from implicit) (1.21.6)\n",
            "Requirement already satisfied: scipy>=0.16 in /usr/local/lib/python3.8/dist-packages (from implicit) (1.7.3)\n",
            "Installing collected packages: implicit\n",
            "Successfully installed implicit-0.6.2\n"
          ]
        }
      ]
    },
    {
      "cell_type": "code",
      "source": [
        "\n",
        "import pandas as pd\n",
        "import numpy as np\n",
        "from scipy.sparse import csr_matrix, save_npz, load_npz, vstack, hstack, lil_matrix\n",
        "import implicit\n",
        "import pickle\n",
        "from implicit.evaluation import train_test_split, precision_at_k, mean_average_precision_at_k\n",
        "\n",
        "\n",
        "\n",
        "def sparse_matrices(df):\n",
        "    \"\"\"Creates the sparse user-item and item-user matrices.\n",
        "    Args:\n",
        "        df (pd.DataFrame): Table with MovieLens 1m dataset, users * movies = ratings\n",
        "    Returns:\n",
        "        sparse_user_item (scipy.sparse.csr_matrix): sparse user * item matrix\n",
        "        sparse_item_user (scipy.sparse.csr_matrix): sparse item * user matrix\n",
        "    \"\"\"\n",
        "    # using a scalar value (40) to convert ratings from a scale (1-5) to a like/click/view (1)\n",
        "    alpha = 40\n",
        "\n",
        "    sparse_user_item = csr_matrix(([alpha] * len(df['itemID']), (df['userID'], df['itemID'])))\n",
        "\n",
        "    # transposing the item-user matrix to create a user-item matrix\n",
        "    sparse_item_user = sparse_user_item.T.tocsr()\n",
        "    # save the matrices for recalculating user on the fly\n",
        "    save_npz('sparse_user_item.npz', sparse_user_item)\n",
        "    save_npz('sparse_item_user.npz', sparse_item_user)\n",
        "\n",
        "    return sparse_user_item, sparse_item_user\n",
        "\n",
        "\n",
        "def production_model(sparse_user_item_file_path='files/sparse_user_item.npz'):\n",
        "    \"\"\"Fits model and saves it.\n",
        "    Args:\n",
        "        sparse_user_item_file_path (str): file location for a scipy.sparse.csr_matrix sparse user * item matrix\n",
        "    \"\"\"\n",
        "    sparse_user_item = load_npz(sparse_user_item_file_path)\n",
        "\n",
        "    model = implicit.als.AlternatingLeastSquares(factors=100,\n",
        "                                                 regularization=0.1, iterations=100, calculate_training_loss=False)\n",
        "    model.fit(sparse_user_item)\n",
        "\n",
        "    with open('production_model.sav', 'wb') as pickle_out:\n",
        "        pickle.dump(model, pickle_out)\n",
        "\n",
        "\n",
        "def model(sparse_user_item_file_path='sparse_user_item.npz'):\n",
        "    \"\"\"Computes p@k and map@k evaluation mettrics and saves model.\n",
        "    Args:\n",
        "        sparse_user_item_file_path (str): file location for a scipy.sparse.csr_matrix sparse user * item matrix\n",
        "    Returns:\n",
        "        p_at_k (float): precision @ k recommendations, with k=10\n",
        "        m_at_k (float): mean average precision @ k recommendations, with k=10\n",
        "    \"\"\"\n",
        "    sparse_user_item = load_npz(sparse_user_item_file_path)\n",
        "\n",
        "    train, test = train_test_split(sparse_user_item, train_percentage=0.75)\n",
        "\n",
        "    model = implicit.als.AlternatingLeastSquares(factors=100,\n",
        "                                                 regularization=0.1, iterations=100, calculate_training_loss=False)\n",
        "    model.fit(train)\n",
        "\n",
        "    with open('model.sav', 'wb') as pickle_out:\n",
        "        pickle.dump(model, pickle_out)\n",
        "\n",
        "    p_at_k = precision_at_k(model, train_user_items=train,\n",
        "                            test_user_items=test, K=10)\n",
        "    return p_at_k"
      ],
      "metadata": {
        "id": "dSwJUNEzaC54"
      },
      "id": "dSwJUNEzaC54",
      "execution_count": null,
      "outputs": []
    },
    {
      "cell_type": "code",
      "source": [
        "sparse_matrices(movie_10k_df)"
      ],
      "metadata": {
        "colab": {
          "base_uri": "https://localhost:8080/"
        },
        "id": "OlDNdaAZax_f",
        "outputId": "227d2887-3007-4c34-dc89-30fbc40427a4"
      },
      "id": "OlDNdaAZax_f",
      "execution_count": null,
      "outputs": [
        {
          "output_type": "execute_result",
          "data": {
            "text/plain": [
              "(<944x1683 sparse matrix of type '<class 'numpy.int64'>'\n",
              " \twith 100000 stored elements in Compressed Sparse Row format>,\n",
              " <1683x944 sparse matrix of type '<class 'numpy.int64'>'\n",
              " \twith 100000 stored elements in Compressed Sparse Row format>)"
            ]
          },
          "metadata": {},
          "execution_count": 88
        }
      ]
    },
    {
      "cell_type": "code",
      "source": [
        "p_at_k = model()\n",
        "print(f'P@K: {p_at_k}\\n')"
      ],
      "metadata": {
        "colab": {
          "base_uri": "https://localhost:8080/",
          "height": 116,
          "referenced_widgets": [
            "cf0d89a5d6354fde8f7bb8f3fa6794e7",
            "29ce21b731ec4985ab2a1977deb7cadf",
            "845f651b1a994c24bcb8b0b648637ce1",
            "cfc985fe900e41fd9dc57424fb445f97",
            "f8b44213bfc54507b0f5f9a31d25dae8",
            "f2d8be9cfd5c4095a18cf248cc32ed7f",
            "7280f25b93744078a3ed2a2a669f84fb",
            "1da1d5b7fd88493d9837e5133453fc07",
            "e5f69f229be3437da0765bb2e20bef69",
            "c15f51b9c335430688e6b2197e28adb6",
            "d77446d3e46a48df9b07eb1ec9ca5a19",
            "e1553ff2375146419de01c623c85197f",
            "024c2e01bfe148318931633f2cb3c97e",
            "481c955e470b409c9f4d6733f39e7821",
            "0d3daa18b7dc49749dbb5404e9509245",
            "2dd050089dd94d818393813f9b7729a7",
            "01443a943fd1455688ca4603fd62fb7b",
            "670b3f929c914340b5eff5f959d6baf0",
            "b6cf984801704e418871c3b166660d2a",
            "ed782ad4d60640278e1b29f2484545fc",
            "92d0af6420774e56ba44378e3e8353c3",
            "14e908111c584e978dc36b07f1134891"
          ]
        },
        "id": "eIPgZT3iabbG",
        "outputId": "c3d99291-8122-48bf-a246-2111afcea748"
      },
      "id": "eIPgZT3iabbG",
      "execution_count": null,
      "outputs": [
        {
          "output_type": "display_data",
          "data": {
            "text/plain": [
              "  0%|          | 0/100 [00:00<?, ?it/s]"
            ],
            "application/vnd.jupyter.widget-view+json": {
              "version_major": 2,
              "version_minor": 0,
              "model_id": "cf0d89a5d6354fde8f7bb8f3fa6794e7"
            }
          },
          "metadata": {}
        },
        {
          "output_type": "display_data",
          "data": {
            "text/plain": [
              "  0%|          | 0/943 [00:00<?, ?it/s]"
            ],
            "application/vnd.jupyter.widget-view+json": {
              "version_major": 2,
              "version_minor": 0,
              "model_id": "e1553ff2375146419de01c623c85197f"
            }
          },
          "metadata": {}
        },
        {
          "output_type": "stream",
          "name": "stdout",
          "text": [
            "P@K: 0.27583586626139817\n",
            "\n"
          ]
        }
      ]
    },
    {
      "cell_type": "code",
      "source": [
        "df2 = {'Dataset':\"Movie Lens\",'Algorithm':\"ALC\",'Sparsity':sparsity_movielens,'rmse':MF_rmsemovielens,'Precision@k':p_at_k}\n",
        "summary_df = summary_df.append(df2, ignore_index = True)"
      ],
      "metadata": {
        "id": "qVzBz-0OhMdA"
      },
      "id": "qVzBz-0OhMdA",
      "execution_count": null,
      "outputs": []
    },
    {
      "cell_type": "code",
      "source": [
        "summary_df"
      ],
      "metadata": {
        "colab": {
          "base_uri": "https://localhost:8080/",
          "height": 394
        },
        "id": "1VFK0HagiLuW",
        "outputId": "4e161fb1-e0c1-4cab-9bc0-b17fcdf4b8b6"
      },
      "id": "1VFK0HagiLuW",
      "execution_count": null,
      "outputs": [
        {
          "output_type": "execute_result",
          "data": {
            "text/plain": [
              "         Dataset Algorithm  Sparsity  Precision@k  HitRate@k      rmse\n",
              "0     Movie Lens       SVD  0.936953     0.042844   0.484591  0.936890\n",
              "1     Movie Lens       NMF  0.936953     0.013680   0.220573  0.959609\n",
              "2   Book Dataset       SVD  0.991187     0.000000        NaN       NaN\n",
              "3   Book Dataset       NMF  0.991187     0.000000        NaN       NaN\n",
              "4           Ciao       SVD  0.991487     0.000000   0.000000  0.081953\n",
              "5           Ciao       NMF  0.991487     0.000000   0.000000  0.061304\n",
              "6         Amazon       SVD  0.991487     0.000000   0.000000  0.087516\n",
              "7         Amazon       NMF  0.991487     0.000000   0.000000  0.061394\n",
              "8       Food.com       SVD  0.975859     0.000000   0.000000  0.077715\n",
              "9       Food.com       NMF  0.975859     0.000000   0.000000  0.060225\n",
              "10    Movie Lens       ALC  0.936953     0.275836        NaN  0.959609"
            ],
            "text/html": [
              "\n",
              "  <div id=\"df-0c7e16e0-cd2c-4c41-92f4-0016e853b6a7\">\n",
              "    <div class=\"colab-df-container\">\n",
              "      <div>\n",
              "<style scoped>\n",
              "    .dataframe tbody tr th:only-of-type {\n",
              "        vertical-align: middle;\n",
              "    }\n",
              "\n",
              "    .dataframe tbody tr th {\n",
              "        vertical-align: top;\n",
              "    }\n",
              "\n",
              "    .dataframe thead th {\n",
              "        text-align: right;\n",
              "    }\n",
              "</style>\n",
              "<table border=\"1\" class=\"dataframe\">\n",
              "  <thead>\n",
              "    <tr style=\"text-align: right;\">\n",
              "      <th></th>\n",
              "      <th>Dataset</th>\n",
              "      <th>Algorithm</th>\n",
              "      <th>Sparsity</th>\n",
              "      <th>Precision@k</th>\n",
              "      <th>HitRate@k</th>\n",
              "      <th>rmse</th>\n",
              "    </tr>\n",
              "  </thead>\n",
              "  <tbody>\n",
              "    <tr>\n",
              "      <th>0</th>\n",
              "      <td>Movie Lens</td>\n",
              "      <td>SVD</td>\n",
              "      <td>0.936953</td>\n",
              "      <td>0.042844</td>\n",
              "      <td>0.484591</td>\n",
              "      <td>0.936890</td>\n",
              "    </tr>\n",
              "    <tr>\n",
              "      <th>1</th>\n",
              "      <td>Movie Lens</td>\n",
              "      <td>NMF</td>\n",
              "      <td>0.936953</td>\n",
              "      <td>0.013680</td>\n",
              "      <td>0.220573</td>\n",
              "      <td>0.959609</td>\n",
              "    </tr>\n",
              "    <tr>\n",
              "      <th>2</th>\n",
              "      <td>Book Dataset</td>\n",
              "      <td>SVD</td>\n",
              "      <td>0.991187</td>\n",
              "      <td>0.000000</td>\n",
              "      <td>NaN</td>\n",
              "      <td>NaN</td>\n",
              "    </tr>\n",
              "    <tr>\n",
              "      <th>3</th>\n",
              "      <td>Book Dataset</td>\n",
              "      <td>NMF</td>\n",
              "      <td>0.991187</td>\n",
              "      <td>0.000000</td>\n",
              "      <td>NaN</td>\n",
              "      <td>NaN</td>\n",
              "    </tr>\n",
              "    <tr>\n",
              "      <th>4</th>\n",
              "      <td>Ciao</td>\n",
              "      <td>SVD</td>\n",
              "      <td>0.991487</td>\n",
              "      <td>0.000000</td>\n",
              "      <td>0.000000</td>\n",
              "      <td>0.081953</td>\n",
              "    </tr>\n",
              "    <tr>\n",
              "      <th>5</th>\n",
              "      <td>Ciao</td>\n",
              "      <td>NMF</td>\n",
              "      <td>0.991487</td>\n",
              "      <td>0.000000</td>\n",
              "      <td>0.000000</td>\n",
              "      <td>0.061304</td>\n",
              "    </tr>\n",
              "    <tr>\n",
              "      <th>6</th>\n",
              "      <td>Amazon</td>\n",
              "      <td>SVD</td>\n",
              "      <td>0.991487</td>\n",
              "      <td>0.000000</td>\n",
              "      <td>0.000000</td>\n",
              "      <td>0.087516</td>\n",
              "    </tr>\n",
              "    <tr>\n",
              "      <th>7</th>\n",
              "      <td>Amazon</td>\n",
              "      <td>NMF</td>\n",
              "      <td>0.991487</td>\n",
              "      <td>0.000000</td>\n",
              "      <td>0.000000</td>\n",
              "      <td>0.061394</td>\n",
              "    </tr>\n",
              "    <tr>\n",
              "      <th>8</th>\n",
              "      <td>Food.com</td>\n",
              "      <td>SVD</td>\n",
              "      <td>0.975859</td>\n",
              "      <td>0.000000</td>\n",
              "      <td>0.000000</td>\n",
              "      <td>0.077715</td>\n",
              "    </tr>\n",
              "    <tr>\n",
              "      <th>9</th>\n",
              "      <td>Food.com</td>\n",
              "      <td>NMF</td>\n",
              "      <td>0.975859</td>\n",
              "      <td>0.000000</td>\n",
              "      <td>0.000000</td>\n",
              "      <td>0.060225</td>\n",
              "    </tr>\n",
              "    <tr>\n",
              "      <th>10</th>\n",
              "      <td>Movie Lens</td>\n",
              "      <td>ALC</td>\n",
              "      <td>0.936953</td>\n",
              "      <td>0.275836</td>\n",
              "      <td>NaN</td>\n",
              "      <td>0.959609</td>\n",
              "    </tr>\n",
              "  </tbody>\n",
              "</table>\n",
              "</div>\n",
              "      <button class=\"colab-df-convert\" onclick=\"convertToInteractive('df-0c7e16e0-cd2c-4c41-92f4-0016e853b6a7')\"\n",
              "              title=\"Convert this dataframe to an interactive table.\"\n",
              "              style=\"display:none;\">\n",
              "        \n",
              "  <svg xmlns=\"http://www.w3.org/2000/svg\" height=\"24px\"viewBox=\"0 0 24 24\"\n",
              "       width=\"24px\">\n",
              "    <path d=\"M0 0h24v24H0V0z\" fill=\"none\"/>\n",
              "    <path d=\"M18.56 5.44l.94 2.06.94-2.06 2.06-.94-2.06-.94-.94-2.06-.94 2.06-2.06.94zm-11 1L8.5 8.5l.94-2.06 2.06-.94-2.06-.94L8.5 2.5l-.94 2.06-2.06.94zm10 10l.94 2.06.94-2.06 2.06-.94-2.06-.94-.94-2.06-.94 2.06-2.06.94z\"/><path d=\"M17.41 7.96l-1.37-1.37c-.4-.4-.92-.59-1.43-.59-.52 0-1.04.2-1.43.59L10.3 9.45l-7.72 7.72c-.78.78-.78 2.05 0 2.83L4 21.41c.39.39.9.59 1.41.59.51 0 1.02-.2 1.41-.59l7.78-7.78 2.81-2.81c.8-.78.8-2.07 0-2.86zM5.41 20L4 18.59l7.72-7.72 1.47 1.35L5.41 20z\"/>\n",
              "  </svg>\n",
              "      </button>\n",
              "      \n",
              "  <style>\n",
              "    .colab-df-container {\n",
              "      display:flex;\n",
              "      flex-wrap:wrap;\n",
              "      gap: 12px;\n",
              "    }\n",
              "\n",
              "    .colab-df-convert {\n",
              "      background-color: #E8F0FE;\n",
              "      border: none;\n",
              "      border-radius: 50%;\n",
              "      cursor: pointer;\n",
              "      display: none;\n",
              "      fill: #1967D2;\n",
              "      height: 32px;\n",
              "      padding: 0 0 0 0;\n",
              "      width: 32px;\n",
              "    }\n",
              "\n",
              "    .colab-df-convert:hover {\n",
              "      background-color: #E2EBFA;\n",
              "      box-shadow: 0px 1px 2px rgba(60, 64, 67, 0.3), 0px 1px 3px 1px rgba(60, 64, 67, 0.15);\n",
              "      fill: #174EA6;\n",
              "    }\n",
              "\n",
              "    [theme=dark] .colab-df-convert {\n",
              "      background-color: #3B4455;\n",
              "      fill: #D2E3FC;\n",
              "    }\n",
              "\n",
              "    [theme=dark] .colab-df-convert:hover {\n",
              "      background-color: #434B5C;\n",
              "      box-shadow: 0px 1px 3px 1px rgba(0, 0, 0, 0.15);\n",
              "      filter: drop-shadow(0px 1px 2px rgba(0, 0, 0, 0.3));\n",
              "      fill: #FFFFFF;\n",
              "    }\n",
              "  </style>\n",
              "\n",
              "      <script>\n",
              "        const buttonEl =\n",
              "          document.querySelector('#df-0c7e16e0-cd2c-4c41-92f4-0016e853b6a7 button.colab-df-convert');\n",
              "        buttonEl.style.display =\n",
              "          google.colab.kernel.accessAllowed ? 'block' : 'none';\n",
              "\n",
              "        async function convertToInteractive(key) {\n",
              "          const element = document.querySelector('#df-0c7e16e0-cd2c-4c41-92f4-0016e853b6a7');\n",
              "          const dataTable =\n",
              "            await google.colab.kernel.invokeFunction('convertToInteractive',\n",
              "                                                     [key], {});\n",
              "          if (!dataTable) return;\n",
              "\n",
              "          const docLinkHtml = 'Like what you see? Visit the ' +\n",
              "            '<a target=\"_blank\" href=https://colab.research.google.com/notebooks/data_table.ipynb>data table notebook</a>'\n",
              "            + ' to learn more about interactive tables.';\n",
              "          element.innerHTML = '';\n",
              "          dataTable['output_type'] = 'display_data';\n",
              "          await google.colab.output.renderOutput(dataTable, element);\n",
              "          const docLink = document.createElement('div');\n",
              "          docLink.innerHTML = docLinkHtml;\n",
              "          element.appendChild(docLink);\n",
              "        }\n",
              "      </script>\n",
              "    </div>\n",
              "  </div>\n",
              "  "
            ]
          },
          "metadata": {},
          "execution_count": 92
        }
      ]
    },
    {
      "cell_type": "code",
      "execution_count": null,
      "metadata": {
        "id": "EjhO79psbJ3A"
      },
      "outputs": [],
      "source": [
        "df=book_df.copy()"
      ],
      "id": "EjhO79psbJ3A"
    },
    {
      "cell_type": "code",
      "execution_count": null,
      "metadata": {
        "id": "Y1nDg_NDdef2"
      },
      "outputs": [],
      "source": [
        "product_ids = list(set(list(df.itemID.unique())))\n",
        "user_ids = list(set(list(df.userID.unique())))"
      ],
      "id": "Y1nDg_NDdef2"
    },
    {
      "cell_type": "code",
      "execution_count": null,
      "metadata": {
        "id": "IHbWlbAEdef2"
      },
      "outputs": [],
      "source": [
        "dict_products = {}\n",
        "index = 0\n",
        "for ids in sorted(product_ids):\n",
        "    dict_products[ids] = index\n",
        "    index += 1"
      ],
      "id": "IHbWlbAEdef2"
    },
    {
      "cell_type": "code",
      "execution_count": null,
      "metadata": {
        "id": "AbRN9Hbwdef2"
      },
      "outputs": [],
      "source": [
        "dict_users = {}\n",
        "index = 0\n",
        "for ids in sorted(user_ids):\n",
        "    dict_users[ids] = index\n",
        "    index += 1"
      ],
      "id": "AbRN9Hbwdef2"
    },
    {
      "cell_type": "code",
      "execution_count": null,
      "metadata": {
        "id": "4GnF2uivdef2"
      },
      "outputs": [],
      "source": [
        "df[\"itemID\"] = df[\"itemID\"].map(dict_products)\n",
        "df[\"userID\"] = df[\"userID\"].map(dict_users)"
      ],
      "id": "4GnF2uivdef2"
    },
    {
      "cell_type": "code",
      "source": [
        "sparse_matrices(df)"
      ],
      "metadata": {
        "colab": {
          "base_uri": "https://localhost:8080/"
        },
        "outputId": "6fcf3bb4-223e-4f5f-f970-01f43cbdab6f",
        "id": "qMnPkz4xiPn-"
      },
      "execution_count": null,
      "outputs": [
        {
          "output_type": "execute_result",
          "data": {
            "text/plain": [
              "(<1498x3555 sparse matrix of type '<class 'numpy.int64'>'\n",
              " \twith 46933 stored elements in Compressed Sparse Row format>,\n",
              " <3555x1498 sparse matrix of type '<class 'numpy.int64'>'\n",
              " \twith 46933 stored elements in Compressed Sparse Row format>)"
            ]
          },
          "metadata": {},
          "execution_count": 99
        }
      ],
      "id": "qMnPkz4xiPn-"
    },
    {
      "cell_type": "code",
      "source": [
        "p_at_k = model()\n",
        "print(f'P@K: {p_at_k}\\n')"
      ],
      "metadata": {
        "colab": {
          "base_uri": "https://localhost:8080/",
          "height": 116,
          "referenced_widgets": [
            "cfd7181d76fe45109398e5ae3eda3888",
            "0b62b409698442359528a137718fc586",
            "6cca39f315914262b9cf53dd34faecea",
            "2ca0318848624c85bd5b594fa51582ff",
            "80fd1799319c4517ab44fe1660cb6122",
            "26a5a165ad0b45e0a145ad310597131d",
            "1702cad721084502b02632297ad82403",
            "2b91c99825e7486295e000ad41023719",
            "76ea32969ee941dda346dd49b8fb4e89",
            "0fe3f1d897874810933af0dad7f6fadc",
            "077da39a23c446b7aca1c54deba8b574",
            "02532367bb4b47efab3226043567e276",
            "992f8725111e46ce9d0afad02e428c11",
            "667e5db44fad454b86d31d748a31a344",
            "ffb8cac548034876a894429383ebe186",
            "6e6ce38ba1c5460e880cbf09674f011a",
            "ffea6bfb2379455e822a3dde33f29791",
            "72978e44299148259cc322208af23caa",
            "5162ecfec24740479ac911fd164052fd",
            "afb4284fbc4a4cacb3f0655c2853d2ac",
            "58cf07d6744f4ec0ad4c29199d060b70",
            "4c421e4fefda4f6e8391a1954797666c"
          ]
        },
        "outputId": "eae021de-7804-4c49-e01a-c50663ff1d27",
        "id": "TOQ_dzzkiPn-"
      },
      "execution_count": null,
      "outputs": [
        {
          "output_type": "display_data",
          "data": {
            "text/plain": [
              "  0%|          | 0/100 [00:00<?, ?it/s]"
            ],
            "application/vnd.jupyter.widget-view+json": {
              "version_major": 2,
              "version_minor": 0,
              "model_id": "cfd7181d76fe45109398e5ae3eda3888"
            }
          },
          "metadata": {}
        },
        {
          "output_type": "display_data",
          "data": {
            "text/plain": [
              "  0%|          | 0/1478 [00:00<?, ?it/s]"
            ],
            "application/vnd.jupyter.widget-view+json": {
              "version_major": 2,
              "version_minor": 0,
              "model_id": "02532367bb4b47efab3226043567e276"
            }
          },
          "metadata": {}
        },
        {
          "output_type": "stream",
          "name": "stdout",
          "text": [
            "P@K: 0.07989296636085627\n",
            "\n"
          ]
        }
      ],
      "id": "TOQ_dzzkiPn-"
    },
    {
      "cell_type": "code",
      "source": [
        "df2 = {'Dataset':\"Book Dataset\",'Algorithm':\"ALC\",'Sparsity':sparsity_book,'Precision@k':p_at_k}\n",
        "summary_df = summary_df.append(df2, ignore_index = True)"
      ],
      "metadata": {
        "id": "5RDum3XZiPn-"
      },
      "execution_count": null,
      "outputs": [],
      "id": "5RDum3XZiPn-"
    },
    {
      "cell_type": "code",
      "execution_count": null,
      "metadata": {
        "id": "_datvI-djSnO"
      },
      "outputs": [],
      "source": [
        "df=food_df.copy()"
      ],
      "id": "_datvI-djSnO"
    },
    {
      "cell_type": "code",
      "execution_count": null,
      "metadata": {
        "id": "xFb9V5ecjSnP"
      },
      "outputs": [],
      "source": [
        "product_ids = list(set(list(df.itemID.unique())))\n",
        "user_ids = list(set(list(df.userID.unique())))"
      ],
      "id": "xFb9V5ecjSnP"
    },
    {
      "cell_type": "code",
      "execution_count": null,
      "metadata": {
        "id": "XY_LU3SvjSnP"
      },
      "outputs": [],
      "source": [
        "dict_products = {}\n",
        "index = 0\n",
        "for ids in sorted(product_ids):\n",
        "    dict_products[ids] = index\n",
        "    index += 1"
      ],
      "id": "XY_LU3SvjSnP"
    },
    {
      "cell_type": "code",
      "execution_count": null,
      "metadata": {
        "id": "u0LaPwkvjSnP"
      },
      "outputs": [],
      "source": [
        "dict_users = {}\n",
        "index = 0\n",
        "for ids in sorted(user_ids):\n",
        "    dict_users[ids] = index\n",
        "    index += 1"
      ],
      "id": "u0LaPwkvjSnP"
    },
    {
      "cell_type": "code",
      "execution_count": null,
      "metadata": {
        "id": "7EPUtsq-jSnP"
      },
      "outputs": [],
      "source": [
        "df[\"itemID\"] = df[\"itemID\"].map(dict_products)\n",
        "df[\"userID\"] = df[\"userID\"].map(dict_users)"
      ],
      "id": "7EPUtsq-jSnP"
    },
    {
      "cell_type": "code",
      "source": [
        "sparse_matrices(df)"
      ],
      "metadata": {
        "colab": {
          "base_uri": "https://localhost:8080/"
        },
        "outputId": "e0d7c9e0-dbc8-4079-9b51-17d51d96ce09",
        "id": "HKENWYznjSnP"
      },
      "execution_count": null,
      "outputs": [
        {
          "output_type": "execute_result",
          "data": {
            "text/plain": [
              "(<1926x1577 sparse matrix of type '<class 'numpy.int64'>'\n",
              " \twith 73325 stored elements in Compressed Sparse Row format>,\n",
              " <1577x1926 sparse matrix of type '<class 'numpy.int64'>'\n",
              " \twith 73325 stored elements in Compressed Sparse Row format>)"
            ]
          },
          "metadata": {},
          "execution_count": 109
        }
      ],
      "id": "HKENWYznjSnP"
    },
    {
      "cell_type": "code",
      "source": [
        "p_at_k = model()\n",
        "print(f'P@K: {p_at_k}\\n')"
      ],
      "metadata": {
        "colab": {
          "base_uri": "https://localhost:8080/",
          "height": 116,
          "referenced_widgets": [
            "d13a8249b461476c966ec9afd6ba7976",
            "581dc849fe13465aba6c90632b864b2d",
            "10415e217207473fac3d123b06128377",
            "685b4e465c7c46db8d5a7d143d2ec1a8",
            "3d00d7dc62ef4a5eab789189caa2c4b6",
            "d494fbe4233948cea787df46fa0d2e69",
            "0bf88bbc9c414acd9b308a4facb740b4",
            "107dedd9de7442de9118083d885d9c30",
            "77b6fcc47e264e20bd96fa9a8d7d9180",
            "7bc67021d3a34dec9693a235ff25ddf0",
            "2dedfc2bbe4e441f9907fb1fbf09bf7e",
            "3d5a782104994c1284d96e23c418668d",
            "28453423574c4d9faefb8c54c86c8326",
            "26c70fc2d6bf4693b40ecfcf0f930e79",
            "6f06e3337606495c9ec0c1c70a1ff52c",
            "9c0392fcbe7f40ea8a16e03ef0933da6",
            "cec74b4f0b9b46ee85bb628c8e54e229",
            "c0327fe36853463fa1668973f5ccb6bd",
            "d880c24b03e942ba84cfbccfc06cc64a",
            "4b1cee059ab2409385686caf9b72aaea",
            "be0c1ef13e9841fd82da9a8ef9c19cc7",
            "b1d9b7ef4d804ba4a59c48a7898cc033"
          ]
        },
        "outputId": "3a512efa-1e14-4cea-8952-1460d6425e1a",
        "id": "FhHWaF2QjSnP"
      },
      "execution_count": null,
      "outputs": [
        {
          "output_type": "display_data",
          "data": {
            "text/plain": [
              "  0%|          | 0/100 [00:00<?, ?it/s]"
            ],
            "application/vnd.jupyter.widget-view+json": {
              "version_major": 2,
              "version_minor": 0,
              "model_id": "d13a8249b461476c966ec9afd6ba7976"
            }
          },
          "metadata": {}
        },
        {
          "output_type": "display_data",
          "data": {
            "text/plain": [
              "  0%|          | 0/1853 [00:00<?, ?it/s]"
            ],
            "application/vnd.jupyter.widget-view+json": {
              "version_major": 2,
              "version_minor": 0,
              "model_id": "3d5a782104994c1284d96e23c418668d"
            }
          },
          "metadata": {}
        },
        {
          "output_type": "stream",
          "name": "stdout",
          "text": [
            "P@K: 0.034523165675139716\n",
            "\n"
          ]
        }
      ],
      "id": "FhHWaF2QjSnP"
    },
    {
      "cell_type": "code",
      "source": [
        "df2 = {'Dataset':\"Food.com\",'Algorithm':\"ALC\",'Sparsity':sparsity_food,'Precision@k':p_at_k}\n",
        "summary_df = summary_df.append(df2, ignore_index = True)"
      ],
      "metadata": {
        "id": "EXsUr6TGjSnQ"
      },
      "execution_count": null,
      "outputs": [],
      "id": "EXsUr6TGjSnQ"
    },
    {
      "cell_type": "code",
      "execution_count": null,
      "metadata": {
        "id": "2d5zLuA0jgYl"
      },
      "outputs": [],
      "source": [
        "df=amazon_df.copy()"
      ],
      "id": "2d5zLuA0jgYl"
    },
    {
      "cell_type": "code",
      "execution_count": null,
      "metadata": {
        "id": "9YHWuFhbjgYl"
      },
      "outputs": [],
      "source": [
        "product_ids = list(set(list(df.itemID.unique())))\n",
        "user_ids = list(set(list(df.userID.unique())))"
      ],
      "id": "9YHWuFhbjgYl"
    },
    {
      "cell_type": "code",
      "execution_count": null,
      "metadata": {
        "id": "v2R4nc6QjgYm"
      },
      "outputs": [],
      "source": [
        "dict_products = {}\n",
        "index = 0\n",
        "for ids in sorted(product_ids):\n",
        "    dict_products[ids] = index\n",
        "    index += 1"
      ],
      "id": "v2R4nc6QjgYm"
    },
    {
      "cell_type": "code",
      "execution_count": null,
      "metadata": {
        "id": "bs4O1tocjgYm"
      },
      "outputs": [],
      "source": [
        "dict_users = {}\n",
        "index = 0\n",
        "for ids in sorted(user_ids):\n",
        "    dict_users[ids] = index\n",
        "    index += 1"
      ],
      "id": "bs4O1tocjgYm"
    },
    {
      "cell_type": "code",
      "execution_count": null,
      "metadata": {
        "id": "SyqVsKxBjgYm"
      },
      "outputs": [],
      "source": [
        "df[\"itemID\"] = df[\"itemID\"].map(dict_products)\n",
        "df[\"userID\"] = df[\"userID\"].map(dict_users)"
      ],
      "id": "SyqVsKxBjgYm"
    },
    {
      "cell_type": "code",
      "source": [
        "sparse_matrices(df)"
      ],
      "metadata": {
        "colab": {
          "base_uri": "https://localhost:8080/"
        },
        "outputId": "b33f7a54-ef14-4b18-fb12-2d6bed8550e6",
        "id": "vzHKvZoLjgYm"
      },
      "execution_count": null,
      "outputs": [
        {
          "output_type": "execute_result",
          "data": {
            "text/plain": [
              "(<2952x2771 sparse matrix of type '<class 'numpy.int64'>'\n",
              " \twith 66149 stored elements in Compressed Sparse Row format>,\n",
              " <2771x2952 sparse matrix of type '<class 'numpy.int64'>'\n",
              " \twith 66149 stored elements in Compressed Sparse Row format>)"
            ]
          },
          "metadata": {},
          "execution_count": 120
        }
      ],
      "id": "vzHKvZoLjgYm"
    },
    {
      "cell_type": "code",
      "source": [
        "p_at_k = model()\n",
        "print(f'P@K: {p_at_k}\\n')"
      ],
      "metadata": {
        "colab": {
          "base_uri": "https://localhost:8080/",
          "height": 116,
          "referenced_widgets": [
            "0a284d06051243ca81157e43b05a546e",
            "a2ddfd120e7a42e7a6189248964a559e",
            "16d5eaf363e0400da81d2e2bf0db2a7a",
            "093c90d466dd4fd8b51ed21bd1993d6f",
            "158b125ae0a340bdb83d0c79efa464f6",
            "ae415c14f43f477fa34ad8751791d8eb",
            "fd1e1545043f44e6b0b15b7214705620",
            "c9ab001d34aa4df8b4887af72d872a3f",
            "6941b64d3b744a4da159a9aa2982296a",
            "1db525768cfb49c88ab73ca0c8499400",
            "3f50e682ab734746a476db2f1a3cf8cf",
            "d6c6e4e3c2fe47f2ae140e983b7a247d",
            "66e8ef825c5942a6a253c98e0f71b688",
            "6c10d2b964124b3a8e4563eae5a351cf",
            "5779ba43e1344a6eafff9ca93343ca73",
            "a96333fc13c94d8683729719196a91a0",
            "d1acfdd9bbd14bf0acb8607c53e2f666",
            "e97540afdfa8458fba6d50ccba108687",
            "df7eccaa8dce438c9e6e78f4f9b4b05d",
            "3eed8c8544e24270953e490dc74b27ba",
            "d968c5959aca4d62a0bd5a8137d2bc98",
            "f2983500bc5146ba81557fd654461a27"
          ]
        },
        "outputId": "b647ca9f-8a1a-4138-d73a-28a0c8ab80d0",
        "id": "jao0D4fSjgYm"
      },
      "execution_count": null,
      "outputs": [
        {
          "output_type": "display_data",
          "data": {
            "text/plain": [
              "  0%|          | 0/100 [00:00<?, ?it/s]"
            ],
            "application/vnd.jupyter.widget-view+json": {
              "version_major": 2,
              "version_minor": 0,
              "model_id": "0a284d06051243ca81157e43b05a546e"
            }
          },
          "metadata": {}
        },
        {
          "output_type": "display_data",
          "data": {
            "text/plain": [
              "  0%|          | 0/2819 [00:00<?, ?it/s]"
            ],
            "application/vnd.jupyter.widget-view+json": {
              "version_major": 2,
              "version_minor": 0,
              "model_id": "d6c6e4e3c2fe47f2ae140e983b7a247d"
            }
          },
          "metadata": {}
        },
        {
          "output_type": "stream",
          "name": "stdout",
          "text": [
            "P@K: 0.049250087199162886\n",
            "\n"
          ]
        }
      ],
      "id": "jao0D4fSjgYm"
    },
    {
      "cell_type": "code",
      "source": [
        "df2 = {'Dataset':\"Amazon\",'Algorithm':\"ALC\",'Sparsity':sparsity_amazon,'Precision@k':p_at_k}\n",
        "summary_df = summary_df.append(df2, ignore_index = True)"
      ],
      "metadata": {
        "id": "tApfH8_7jgYm"
      },
      "execution_count": null,
      "outputs": [],
      "id": "tApfH8_7jgYm"
    },
    {
      "cell_type": "code",
      "execution_count": null,
      "metadata": {
        "id": "Z3V47J_tkCZd"
      },
      "outputs": [],
      "source": [
        "df=ciao_df.copy()"
      ],
      "id": "Z3V47J_tkCZd"
    },
    {
      "cell_type": "code",
      "execution_count": null,
      "metadata": {
        "id": "jRr5QscPkCZe"
      },
      "outputs": [],
      "source": [
        "product_ids = list(set(list(df.itemID.unique())))\n",
        "user_ids = list(set(list(df.userID.unique())))"
      ],
      "id": "jRr5QscPkCZe"
    },
    {
      "cell_type": "code",
      "execution_count": null,
      "metadata": {
        "id": "t4ibXriskCZe"
      },
      "outputs": [],
      "source": [
        "dict_products = {}\n",
        "index = 0\n",
        "for ids in sorted(product_ids):\n",
        "    dict_products[ids] = index\n",
        "    index += 1"
      ],
      "id": "t4ibXriskCZe"
    },
    {
      "cell_type": "code",
      "execution_count": null,
      "metadata": {
        "id": "csMw3vhNkCZe"
      },
      "outputs": [],
      "source": [
        "dict_users = {}\n",
        "index = 0\n",
        "for ids in sorted(user_ids):\n",
        "    dict_users[ids] = index\n",
        "    index += 1"
      ],
      "id": "csMw3vhNkCZe"
    },
    {
      "cell_type": "code",
      "execution_count": null,
      "metadata": {
        "id": "IOQnjB4QkCZe"
      },
      "outputs": [],
      "source": [
        "df[\"itemID\"] = df[\"itemID\"].map(dict_products)\n",
        "df[\"userID\"] = df[\"userID\"].map(dict_users)"
      ],
      "id": "IOQnjB4QkCZe"
    },
    {
      "cell_type": "code",
      "source": [
        "sparse_matrices(df)"
      ],
      "metadata": {
        "colab": {
          "base_uri": "https://localhost:8080/"
        },
        "outputId": "1fd220fc-16c7-4dda-817f-9aeb1bcb5770",
        "id": "Uyl9GhzakCZe"
      },
      "execution_count": null,
      "outputs": [
        {
          "output_type": "execute_result",
          "data": {
            "text/plain": [
              "(<2037x4393 sparse matrix of type '<class 'numpy.int64'>'\n",
              " \twith 75309 stored elements in Compressed Sparse Row format>,\n",
              " <4393x2037 sparse matrix of type '<class 'numpy.int64'>'\n",
              " \twith 75309 stored elements in Compressed Sparse Row format>)"
            ]
          },
          "metadata": {},
          "execution_count": 129
        }
      ],
      "id": "Uyl9GhzakCZe"
    },
    {
      "cell_type": "code",
      "source": [
        "p_at_k = model()\n",
        "print(f'P@K: {p_at_k}\\n')"
      ],
      "metadata": {
        "colab": {
          "base_uri": "https://localhost:8080/",
          "height": 116,
          "referenced_widgets": [
            "827495057d6e49c3a75d6cc27c107971",
            "054d6796e144476ea86dfc1bce414180",
            "c9a8844083ff4e739923e7eb0c602056",
            "9120d17b19574bc2850cf0504a480c71",
            "5b701cc269bd4e37aca8cbc757aa5207",
            "e0ca93ace202498d8e6270af1c25453a",
            "164646438b6a4aecbc01b58e1133193d",
            "b61ae5800a584393bed463f7090b3753",
            "58755ca979004e20bb96b5db5783a7e6",
            "ffca2e25108c4314b46206bfaf5f976c",
            "3f5a06c3ac5a46b28483662e0da8edcf",
            "2d6e7742a86a4bf6a5fc608ce7c4fec8",
            "e4c038a4e46f4364951fa6d65e2c1f69",
            "bba456eddbb649a089a098c835faba9d",
            "9d06fbf76d5545efae72d722892534da",
            "de95cef78d814ac69ef066e245c64617",
            "6396f79655c24878910130a1203eb540",
            "32fe2dd526ed4a2caae2304f1aa0cd70",
            "bf8cc0b775254fd485807ba408704d76",
            "17c13056bc4d48b0867982f64c7497e6",
            "fb6788faf6a84ec3a12a0888743dd631",
            "1d2904306ced43318f29a5defc00b1ec"
          ]
        },
        "outputId": "fa5480c6-a8e5-41c8-db91-11941ca38221",
        "id": "XbN1OS0vkCZe"
      },
      "execution_count": null,
      "outputs": [
        {
          "output_type": "display_data",
          "data": {
            "text/plain": [
              "  0%|          | 0/100 [00:00<?, ?it/s]"
            ],
            "application/vnd.jupyter.widget-view+json": {
              "version_major": 2,
              "version_minor": 0,
              "model_id": "827495057d6e49c3a75d6cc27c107971"
            }
          },
          "metadata": {}
        },
        {
          "output_type": "display_data",
          "data": {
            "text/plain": [
              "  0%|          | 0/2030 [00:00<?, ?it/s]"
            ],
            "application/vnd.jupyter.widget-view+json": {
              "version_major": 2,
              "version_minor": 0,
              "model_id": "2d6e7742a86a4bf6a5fc608ce7c4fec8"
            }
          },
          "metadata": {}
        },
        {
          "output_type": "stream",
          "name": "stdout",
          "text": [
            "P@K: 0.09217061057551855\n",
            "\n"
          ]
        }
      ],
      "id": "XbN1OS0vkCZe"
    },
    {
      "cell_type": "code",
      "source": [
        "df2 = {'Dataset':\"Ciao\",'Algorithm':\"ALC\",'Sparsity':sparsity_ciao,'Precision@k':p_at_k}\n",
        "summary_df = summary_df.append(df2, ignore_index = True)"
      ],
      "metadata": {
        "id": "jln0v89ZkCZe"
      },
      "execution_count": null,
      "outputs": [],
      "id": "jln0v89ZkCZe"
    },
    {
      "cell_type": "code",
      "source": [
        "summary_df[['Dataset','Sparsity','Algorithm','Precision@k']].sort_values(by=['Dataset','Precision@k'],ascending=False)"
      ],
      "metadata": {
        "outputId": "2b2d1d78-570d-48fd-b165-051b8f027180",
        "colab": {
          "base_uri": "https://localhost:8080/",
          "height": 519
        },
        "id": "vBENSUzSiPn-"
      },
      "execution_count": null,
      "outputs": [
        {
          "output_type": "execute_result",
          "data": {
            "text/plain": [
              "         Dataset  Sparsity Algorithm  Precision@k\n",
              "10    Movie Lens  0.936953       ALC     0.275836\n",
              "0     Movie Lens  0.936953       SVD     0.042844\n",
              "1     Movie Lens  0.936953       NMF     0.013680\n",
              "12      Food.com  0.975859       ALC     0.034523\n",
              "8       Food.com  0.975859       SVD     0.000000\n",
              "9       Food.com  0.975859       NMF     0.000000\n",
              "14          Ciao  0.991487       ALC     0.092171\n",
              "4           Ciao  0.991487       SVD     0.000000\n",
              "5           Ciao  0.991487       NMF     0.000000\n",
              "11  Book Dataset  0.991187       ALC     0.079893\n",
              "2   Book Dataset  0.991187       SVD     0.000000\n",
              "3   Book Dataset  0.991187       NMF     0.000000\n",
              "13        Amazon  0.991913       ALC     0.049250\n",
              "6         Amazon  0.991487       SVD     0.000000\n",
              "7         Amazon  0.991487       NMF     0.000000"
            ],
            "text/html": [
              "\n",
              "  <div id=\"df-e118c644-d773-4f68-b485-776abdcbf8e6\">\n",
              "    <div class=\"colab-df-container\">\n",
              "      <div>\n",
              "<style scoped>\n",
              "    .dataframe tbody tr th:only-of-type {\n",
              "        vertical-align: middle;\n",
              "    }\n",
              "\n",
              "    .dataframe tbody tr th {\n",
              "        vertical-align: top;\n",
              "    }\n",
              "\n",
              "    .dataframe thead th {\n",
              "        text-align: right;\n",
              "    }\n",
              "</style>\n",
              "<table border=\"1\" class=\"dataframe\">\n",
              "  <thead>\n",
              "    <tr style=\"text-align: right;\">\n",
              "      <th></th>\n",
              "      <th>Dataset</th>\n",
              "      <th>Sparsity</th>\n",
              "      <th>Algorithm</th>\n",
              "      <th>Precision@k</th>\n",
              "    </tr>\n",
              "  </thead>\n",
              "  <tbody>\n",
              "    <tr>\n",
              "      <th>10</th>\n",
              "      <td>Movie Lens</td>\n",
              "      <td>0.936953</td>\n",
              "      <td>ALC</td>\n",
              "      <td>0.275836</td>\n",
              "    </tr>\n",
              "    <tr>\n",
              "      <th>0</th>\n",
              "      <td>Movie Lens</td>\n",
              "      <td>0.936953</td>\n",
              "      <td>SVD</td>\n",
              "      <td>0.042844</td>\n",
              "    </tr>\n",
              "    <tr>\n",
              "      <th>1</th>\n",
              "      <td>Movie Lens</td>\n",
              "      <td>0.936953</td>\n",
              "      <td>NMF</td>\n",
              "      <td>0.013680</td>\n",
              "    </tr>\n",
              "    <tr>\n",
              "      <th>12</th>\n",
              "      <td>Food.com</td>\n",
              "      <td>0.975859</td>\n",
              "      <td>ALC</td>\n",
              "      <td>0.034523</td>\n",
              "    </tr>\n",
              "    <tr>\n",
              "      <th>8</th>\n",
              "      <td>Food.com</td>\n",
              "      <td>0.975859</td>\n",
              "      <td>SVD</td>\n",
              "      <td>0.000000</td>\n",
              "    </tr>\n",
              "    <tr>\n",
              "      <th>9</th>\n",
              "      <td>Food.com</td>\n",
              "      <td>0.975859</td>\n",
              "      <td>NMF</td>\n",
              "      <td>0.000000</td>\n",
              "    </tr>\n",
              "    <tr>\n",
              "      <th>14</th>\n",
              "      <td>Ciao</td>\n",
              "      <td>0.991487</td>\n",
              "      <td>ALC</td>\n",
              "      <td>0.092171</td>\n",
              "    </tr>\n",
              "    <tr>\n",
              "      <th>4</th>\n",
              "      <td>Ciao</td>\n",
              "      <td>0.991487</td>\n",
              "      <td>SVD</td>\n",
              "      <td>0.000000</td>\n",
              "    </tr>\n",
              "    <tr>\n",
              "      <th>5</th>\n",
              "      <td>Ciao</td>\n",
              "      <td>0.991487</td>\n",
              "      <td>NMF</td>\n",
              "      <td>0.000000</td>\n",
              "    </tr>\n",
              "    <tr>\n",
              "      <th>11</th>\n",
              "      <td>Book Dataset</td>\n",
              "      <td>0.991187</td>\n",
              "      <td>ALC</td>\n",
              "      <td>0.079893</td>\n",
              "    </tr>\n",
              "    <tr>\n",
              "      <th>2</th>\n",
              "      <td>Book Dataset</td>\n",
              "      <td>0.991187</td>\n",
              "      <td>SVD</td>\n",
              "      <td>0.000000</td>\n",
              "    </tr>\n",
              "    <tr>\n",
              "      <th>3</th>\n",
              "      <td>Book Dataset</td>\n",
              "      <td>0.991187</td>\n",
              "      <td>NMF</td>\n",
              "      <td>0.000000</td>\n",
              "    </tr>\n",
              "    <tr>\n",
              "      <th>13</th>\n",
              "      <td>Amazon</td>\n",
              "      <td>0.991913</td>\n",
              "      <td>ALC</td>\n",
              "      <td>0.049250</td>\n",
              "    </tr>\n",
              "    <tr>\n",
              "      <th>6</th>\n",
              "      <td>Amazon</td>\n",
              "      <td>0.991487</td>\n",
              "      <td>SVD</td>\n",
              "      <td>0.000000</td>\n",
              "    </tr>\n",
              "    <tr>\n",
              "      <th>7</th>\n",
              "      <td>Amazon</td>\n",
              "      <td>0.991487</td>\n",
              "      <td>NMF</td>\n",
              "      <td>0.000000</td>\n",
              "    </tr>\n",
              "  </tbody>\n",
              "</table>\n",
              "</div>\n",
              "      <button class=\"colab-df-convert\" onclick=\"convertToInteractive('df-e118c644-d773-4f68-b485-776abdcbf8e6')\"\n",
              "              title=\"Convert this dataframe to an interactive table.\"\n",
              "              style=\"display:none;\">\n",
              "        \n",
              "  <svg xmlns=\"http://www.w3.org/2000/svg\" height=\"24px\"viewBox=\"0 0 24 24\"\n",
              "       width=\"24px\">\n",
              "    <path d=\"M0 0h24v24H0V0z\" fill=\"none\"/>\n",
              "    <path d=\"M18.56 5.44l.94 2.06.94-2.06 2.06-.94-2.06-.94-.94-2.06-.94 2.06-2.06.94zm-11 1L8.5 8.5l.94-2.06 2.06-.94-2.06-.94L8.5 2.5l-.94 2.06-2.06.94zm10 10l.94 2.06.94-2.06 2.06-.94-2.06-.94-.94-2.06-.94 2.06-2.06.94z\"/><path d=\"M17.41 7.96l-1.37-1.37c-.4-.4-.92-.59-1.43-.59-.52 0-1.04.2-1.43.59L10.3 9.45l-7.72 7.72c-.78.78-.78 2.05 0 2.83L4 21.41c.39.39.9.59 1.41.59.51 0 1.02-.2 1.41-.59l7.78-7.78 2.81-2.81c.8-.78.8-2.07 0-2.86zM5.41 20L4 18.59l7.72-7.72 1.47 1.35L5.41 20z\"/>\n",
              "  </svg>\n",
              "      </button>\n",
              "      \n",
              "  <style>\n",
              "    .colab-df-container {\n",
              "      display:flex;\n",
              "      flex-wrap:wrap;\n",
              "      gap: 12px;\n",
              "    }\n",
              "\n",
              "    .colab-df-convert {\n",
              "      background-color: #E8F0FE;\n",
              "      border: none;\n",
              "      border-radius: 50%;\n",
              "      cursor: pointer;\n",
              "      display: none;\n",
              "      fill: #1967D2;\n",
              "      height: 32px;\n",
              "      padding: 0 0 0 0;\n",
              "      width: 32px;\n",
              "    }\n",
              "\n",
              "    .colab-df-convert:hover {\n",
              "      background-color: #E2EBFA;\n",
              "      box-shadow: 0px 1px 2px rgba(60, 64, 67, 0.3), 0px 1px 3px 1px rgba(60, 64, 67, 0.15);\n",
              "      fill: #174EA6;\n",
              "    }\n",
              "\n",
              "    [theme=dark] .colab-df-convert {\n",
              "      background-color: #3B4455;\n",
              "      fill: #D2E3FC;\n",
              "    }\n",
              "\n",
              "    [theme=dark] .colab-df-convert:hover {\n",
              "      background-color: #434B5C;\n",
              "      box-shadow: 0px 1px 3px 1px rgba(0, 0, 0, 0.15);\n",
              "      filter: drop-shadow(0px 1px 2px rgba(0, 0, 0, 0.3));\n",
              "      fill: #FFFFFF;\n",
              "    }\n",
              "  </style>\n",
              "\n",
              "      <script>\n",
              "        const buttonEl =\n",
              "          document.querySelector('#df-e118c644-d773-4f68-b485-776abdcbf8e6 button.colab-df-convert');\n",
              "        buttonEl.style.display =\n",
              "          google.colab.kernel.accessAllowed ? 'block' : 'none';\n",
              "\n",
              "        async function convertToInteractive(key) {\n",
              "          const element = document.querySelector('#df-e118c644-d773-4f68-b485-776abdcbf8e6');\n",
              "          const dataTable =\n",
              "            await google.colab.kernel.invokeFunction('convertToInteractive',\n",
              "                                                     [key], {});\n",
              "          if (!dataTable) return;\n",
              "\n",
              "          const docLinkHtml = 'Like what you see? Visit the ' +\n",
              "            '<a target=\"_blank\" href=https://colab.research.google.com/notebooks/data_table.ipynb>data table notebook</a>'\n",
              "            + ' to learn more about interactive tables.';\n",
              "          element.innerHTML = '';\n",
              "          dataTable['output_type'] = 'display_data';\n",
              "          await google.colab.output.renderOutput(dataTable, element);\n",
              "          const docLink = document.createElement('div');\n",
              "          docLink.innerHTML = docLinkHtml;\n",
              "          element.appendChild(docLink);\n",
              "        }\n",
              "      </script>\n",
              "    </div>\n",
              "  </div>\n",
              "  "
            ]
          },
          "metadata": {},
          "execution_count": 133
        }
      ],
      "id": "vBENSUzSiPn-"
    }
  ],
  "metadata": {
    "accelerator": "GPU",
    "colab": {
      "collapsed_sections": [
        "sjJpU6lTGK51",
        "cp1uD3YmEqnS",
        "7Iwo0CiiE3Vb",
        "Ho57rbeyjNwk"
      ],
      "machine_shape": "hm",
      "provenance": []
    },
    "gpuClass": "standard",
    "kernelspec": {
      "display_name": "Python 3",
      "language": "python",
      "name": "python3"
    },
    "language_info": {
      "codemirror_mode": {
        "name": "ipython",
        "version": 3
      },
      "file_extension": ".py",
      "mimetype": "text/x-python",
      "name": "python",
      "nbconvert_exporter": "python",
      "pygments_lexer": "ipython3",
      "version": "3.6.5"
    },
    "widgets": {
      "application/vnd.jupyter.widget-state+json": {
        "cf0d89a5d6354fde8f7bb8f3fa6794e7": {
          "model_module": "@jupyter-widgets/controls",
          "model_name": "HBoxModel",
          "model_module_version": "1.5.0",
          "state": {
            "_dom_classes": [],
            "_model_module": "@jupyter-widgets/controls",
            "_model_module_version": "1.5.0",
            "_model_name": "HBoxModel",
            "_view_count": null,
            "_view_module": "@jupyter-widgets/controls",
            "_view_module_version": "1.5.0",
            "_view_name": "HBoxView",
            "box_style": "",
            "children": [
              "IPY_MODEL_29ce21b731ec4985ab2a1977deb7cadf",
              "IPY_MODEL_845f651b1a994c24bcb8b0b648637ce1",
              "IPY_MODEL_cfc985fe900e41fd9dc57424fb445f97"
            ],
            "layout": "IPY_MODEL_f8b44213bfc54507b0f5f9a31d25dae8"
          }
        },
        "29ce21b731ec4985ab2a1977deb7cadf": {
          "model_module": "@jupyter-widgets/controls",
          "model_name": "HTMLModel",
          "model_module_version": "1.5.0",
          "state": {
            "_dom_classes": [],
            "_model_module": "@jupyter-widgets/controls",
            "_model_module_version": "1.5.0",
            "_model_name": "HTMLModel",
            "_view_count": null,
            "_view_module": "@jupyter-widgets/controls",
            "_view_module_version": "1.5.0",
            "_view_name": "HTMLView",
            "description": "",
            "description_tooltip": null,
            "layout": "IPY_MODEL_f2d8be9cfd5c4095a18cf248cc32ed7f",
            "placeholder": "​",
            "style": "IPY_MODEL_7280f25b93744078a3ed2a2a669f84fb",
            "value": "100%"
          }
        },
        "845f651b1a994c24bcb8b0b648637ce1": {
          "model_module": "@jupyter-widgets/controls",
          "model_name": "FloatProgressModel",
          "model_module_version": "1.5.0",
          "state": {
            "_dom_classes": [],
            "_model_module": "@jupyter-widgets/controls",
            "_model_module_version": "1.5.0",
            "_model_name": "FloatProgressModel",
            "_view_count": null,
            "_view_module": "@jupyter-widgets/controls",
            "_view_module_version": "1.5.0",
            "_view_name": "ProgressView",
            "bar_style": "success",
            "description": "",
            "description_tooltip": null,
            "layout": "IPY_MODEL_1da1d5b7fd88493d9837e5133453fc07",
            "max": 100,
            "min": 0,
            "orientation": "horizontal",
            "style": "IPY_MODEL_e5f69f229be3437da0765bb2e20bef69",
            "value": 100
          }
        },
        "cfc985fe900e41fd9dc57424fb445f97": {
          "model_module": "@jupyter-widgets/controls",
          "model_name": "HTMLModel",
          "model_module_version": "1.5.0",
          "state": {
            "_dom_classes": [],
            "_model_module": "@jupyter-widgets/controls",
            "_model_module_version": "1.5.0",
            "_model_name": "HTMLModel",
            "_view_count": null,
            "_view_module": "@jupyter-widgets/controls",
            "_view_module_version": "1.5.0",
            "_view_name": "HTMLView",
            "description": "",
            "description_tooltip": null,
            "layout": "IPY_MODEL_c15f51b9c335430688e6b2197e28adb6",
            "placeholder": "​",
            "style": "IPY_MODEL_d77446d3e46a48df9b07eb1ec9ca5a19",
            "value": " 100/100 [00:02&lt;00:00, 80.19it/s]"
          }
        },
        "f8b44213bfc54507b0f5f9a31d25dae8": {
          "model_module": "@jupyter-widgets/base",
          "model_name": "LayoutModel",
          "model_module_version": "1.2.0",
          "state": {
            "_model_module": "@jupyter-widgets/base",
            "_model_module_version": "1.2.0",
            "_model_name": "LayoutModel",
            "_view_count": null,
            "_view_module": "@jupyter-widgets/base",
            "_view_module_version": "1.2.0",
            "_view_name": "LayoutView",
            "align_content": null,
            "align_items": null,
            "align_self": null,
            "border": null,
            "bottom": null,
            "display": null,
            "flex": null,
            "flex_flow": null,
            "grid_area": null,
            "grid_auto_columns": null,
            "grid_auto_flow": null,
            "grid_auto_rows": null,
            "grid_column": null,
            "grid_gap": null,
            "grid_row": null,
            "grid_template_areas": null,
            "grid_template_columns": null,
            "grid_template_rows": null,
            "height": null,
            "justify_content": null,
            "justify_items": null,
            "left": null,
            "margin": null,
            "max_height": null,
            "max_width": null,
            "min_height": null,
            "min_width": null,
            "object_fit": null,
            "object_position": null,
            "order": null,
            "overflow": null,
            "overflow_x": null,
            "overflow_y": null,
            "padding": null,
            "right": null,
            "top": null,
            "visibility": null,
            "width": null
          }
        },
        "f2d8be9cfd5c4095a18cf248cc32ed7f": {
          "model_module": "@jupyter-widgets/base",
          "model_name": "LayoutModel",
          "model_module_version": "1.2.0",
          "state": {
            "_model_module": "@jupyter-widgets/base",
            "_model_module_version": "1.2.0",
            "_model_name": "LayoutModel",
            "_view_count": null,
            "_view_module": "@jupyter-widgets/base",
            "_view_module_version": "1.2.0",
            "_view_name": "LayoutView",
            "align_content": null,
            "align_items": null,
            "align_self": null,
            "border": null,
            "bottom": null,
            "display": null,
            "flex": null,
            "flex_flow": null,
            "grid_area": null,
            "grid_auto_columns": null,
            "grid_auto_flow": null,
            "grid_auto_rows": null,
            "grid_column": null,
            "grid_gap": null,
            "grid_row": null,
            "grid_template_areas": null,
            "grid_template_columns": null,
            "grid_template_rows": null,
            "height": null,
            "justify_content": null,
            "justify_items": null,
            "left": null,
            "margin": null,
            "max_height": null,
            "max_width": null,
            "min_height": null,
            "min_width": null,
            "object_fit": null,
            "object_position": null,
            "order": null,
            "overflow": null,
            "overflow_x": null,
            "overflow_y": null,
            "padding": null,
            "right": null,
            "top": null,
            "visibility": null,
            "width": null
          }
        },
        "7280f25b93744078a3ed2a2a669f84fb": {
          "model_module": "@jupyter-widgets/controls",
          "model_name": "DescriptionStyleModel",
          "model_module_version": "1.5.0",
          "state": {
            "_model_module": "@jupyter-widgets/controls",
            "_model_module_version": "1.5.0",
            "_model_name": "DescriptionStyleModel",
            "_view_count": null,
            "_view_module": "@jupyter-widgets/base",
            "_view_module_version": "1.2.0",
            "_view_name": "StyleView",
            "description_width": ""
          }
        },
        "1da1d5b7fd88493d9837e5133453fc07": {
          "model_module": "@jupyter-widgets/base",
          "model_name": "LayoutModel",
          "model_module_version": "1.2.0",
          "state": {
            "_model_module": "@jupyter-widgets/base",
            "_model_module_version": "1.2.0",
            "_model_name": "LayoutModel",
            "_view_count": null,
            "_view_module": "@jupyter-widgets/base",
            "_view_module_version": "1.2.0",
            "_view_name": "LayoutView",
            "align_content": null,
            "align_items": null,
            "align_self": null,
            "border": null,
            "bottom": null,
            "display": null,
            "flex": null,
            "flex_flow": null,
            "grid_area": null,
            "grid_auto_columns": null,
            "grid_auto_flow": null,
            "grid_auto_rows": null,
            "grid_column": null,
            "grid_gap": null,
            "grid_row": null,
            "grid_template_areas": null,
            "grid_template_columns": null,
            "grid_template_rows": null,
            "height": null,
            "justify_content": null,
            "justify_items": null,
            "left": null,
            "margin": null,
            "max_height": null,
            "max_width": null,
            "min_height": null,
            "min_width": null,
            "object_fit": null,
            "object_position": null,
            "order": null,
            "overflow": null,
            "overflow_x": null,
            "overflow_y": null,
            "padding": null,
            "right": null,
            "top": null,
            "visibility": null,
            "width": null
          }
        },
        "e5f69f229be3437da0765bb2e20bef69": {
          "model_module": "@jupyter-widgets/controls",
          "model_name": "ProgressStyleModel",
          "model_module_version": "1.5.0",
          "state": {
            "_model_module": "@jupyter-widgets/controls",
            "_model_module_version": "1.5.0",
            "_model_name": "ProgressStyleModel",
            "_view_count": null,
            "_view_module": "@jupyter-widgets/base",
            "_view_module_version": "1.2.0",
            "_view_name": "StyleView",
            "bar_color": null,
            "description_width": ""
          }
        },
        "c15f51b9c335430688e6b2197e28adb6": {
          "model_module": "@jupyter-widgets/base",
          "model_name": "LayoutModel",
          "model_module_version": "1.2.0",
          "state": {
            "_model_module": "@jupyter-widgets/base",
            "_model_module_version": "1.2.0",
            "_model_name": "LayoutModel",
            "_view_count": null,
            "_view_module": "@jupyter-widgets/base",
            "_view_module_version": "1.2.0",
            "_view_name": "LayoutView",
            "align_content": null,
            "align_items": null,
            "align_self": null,
            "border": null,
            "bottom": null,
            "display": null,
            "flex": null,
            "flex_flow": null,
            "grid_area": null,
            "grid_auto_columns": null,
            "grid_auto_flow": null,
            "grid_auto_rows": null,
            "grid_column": null,
            "grid_gap": null,
            "grid_row": null,
            "grid_template_areas": null,
            "grid_template_columns": null,
            "grid_template_rows": null,
            "height": null,
            "justify_content": null,
            "justify_items": null,
            "left": null,
            "margin": null,
            "max_height": null,
            "max_width": null,
            "min_height": null,
            "min_width": null,
            "object_fit": null,
            "object_position": null,
            "order": null,
            "overflow": null,
            "overflow_x": null,
            "overflow_y": null,
            "padding": null,
            "right": null,
            "top": null,
            "visibility": null,
            "width": null
          }
        },
        "d77446d3e46a48df9b07eb1ec9ca5a19": {
          "model_module": "@jupyter-widgets/controls",
          "model_name": "DescriptionStyleModel",
          "model_module_version": "1.5.0",
          "state": {
            "_model_module": "@jupyter-widgets/controls",
            "_model_module_version": "1.5.0",
            "_model_name": "DescriptionStyleModel",
            "_view_count": null,
            "_view_module": "@jupyter-widgets/base",
            "_view_module_version": "1.2.0",
            "_view_name": "StyleView",
            "description_width": ""
          }
        },
        "e1553ff2375146419de01c623c85197f": {
          "model_module": "@jupyter-widgets/controls",
          "model_name": "HBoxModel",
          "model_module_version": "1.5.0",
          "state": {
            "_dom_classes": [],
            "_model_module": "@jupyter-widgets/controls",
            "_model_module_version": "1.5.0",
            "_model_name": "HBoxModel",
            "_view_count": null,
            "_view_module": "@jupyter-widgets/controls",
            "_view_module_version": "1.5.0",
            "_view_name": "HBoxView",
            "box_style": "",
            "children": [
              "IPY_MODEL_024c2e01bfe148318931633f2cb3c97e",
              "IPY_MODEL_481c955e470b409c9f4d6733f39e7821",
              "IPY_MODEL_0d3daa18b7dc49749dbb5404e9509245"
            ],
            "layout": "IPY_MODEL_2dd050089dd94d818393813f9b7729a7"
          }
        },
        "024c2e01bfe148318931633f2cb3c97e": {
          "model_module": "@jupyter-widgets/controls",
          "model_name": "HTMLModel",
          "model_module_version": "1.5.0",
          "state": {
            "_dom_classes": [],
            "_model_module": "@jupyter-widgets/controls",
            "_model_module_version": "1.5.0",
            "_model_name": "HTMLModel",
            "_view_count": null,
            "_view_module": "@jupyter-widgets/controls",
            "_view_module_version": "1.5.0",
            "_view_name": "HTMLView",
            "description": "",
            "description_tooltip": null,
            "layout": "IPY_MODEL_01443a943fd1455688ca4603fd62fb7b",
            "placeholder": "​",
            "style": "IPY_MODEL_670b3f929c914340b5eff5f959d6baf0",
            "value": "100%"
          }
        },
        "481c955e470b409c9f4d6733f39e7821": {
          "model_module": "@jupyter-widgets/controls",
          "model_name": "FloatProgressModel",
          "model_module_version": "1.5.0",
          "state": {
            "_dom_classes": [],
            "_model_module": "@jupyter-widgets/controls",
            "_model_module_version": "1.5.0",
            "_model_name": "FloatProgressModel",
            "_view_count": null,
            "_view_module": "@jupyter-widgets/controls",
            "_view_module_version": "1.5.0",
            "_view_name": "ProgressView",
            "bar_style": "success",
            "description": "",
            "description_tooltip": null,
            "layout": "IPY_MODEL_b6cf984801704e418871c3b166660d2a",
            "max": 943,
            "min": 0,
            "orientation": "horizontal",
            "style": "IPY_MODEL_ed782ad4d60640278e1b29f2484545fc",
            "value": 943
          }
        },
        "0d3daa18b7dc49749dbb5404e9509245": {
          "model_module": "@jupyter-widgets/controls",
          "model_name": "HTMLModel",
          "model_module_version": "1.5.0",
          "state": {
            "_dom_classes": [],
            "_model_module": "@jupyter-widgets/controls",
            "_model_module_version": "1.5.0",
            "_model_name": "HTMLModel",
            "_view_count": null,
            "_view_module": "@jupyter-widgets/controls",
            "_view_module_version": "1.5.0",
            "_view_name": "HTMLView",
            "description": "",
            "description_tooltip": null,
            "layout": "IPY_MODEL_92d0af6420774e56ba44378e3e8353c3",
            "placeholder": "​",
            "style": "IPY_MODEL_14e908111c584e978dc36b07f1134891",
            "value": " 943/943 [00:00&lt;00:00, 31875.67it/s]"
          }
        },
        "2dd050089dd94d818393813f9b7729a7": {
          "model_module": "@jupyter-widgets/base",
          "model_name": "LayoutModel",
          "model_module_version": "1.2.0",
          "state": {
            "_model_module": "@jupyter-widgets/base",
            "_model_module_version": "1.2.0",
            "_model_name": "LayoutModel",
            "_view_count": null,
            "_view_module": "@jupyter-widgets/base",
            "_view_module_version": "1.2.0",
            "_view_name": "LayoutView",
            "align_content": null,
            "align_items": null,
            "align_self": null,
            "border": null,
            "bottom": null,
            "display": null,
            "flex": null,
            "flex_flow": null,
            "grid_area": null,
            "grid_auto_columns": null,
            "grid_auto_flow": null,
            "grid_auto_rows": null,
            "grid_column": null,
            "grid_gap": null,
            "grid_row": null,
            "grid_template_areas": null,
            "grid_template_columns": null,
            "grid_template_rows": null,
            "height": null,
            "justify_content": null,
            "justify_items": null,
            "left": null,
            "margin": null,
            "max_height": null,
            "max_width": null,
            "min_height": null,
            "min_width": null,
            "object_fit": null,
            "object_position": null,
            "order": null,
            "overflow": null,
            "overflow_x": null,
            "overflow_y": null,
            "padding": null,
            "right": null,
            "top": null,
            "visibility": null,
            "width": null
          }
        },
        "01443a943fd1455688ca4603fd62fb7b": {
          "model_module": "@jupyter-widgets/base",
          "model_name": "LayoutModel",
          "model_module_version": "1.2.0",
          "state": {
            "_model_module": "@jupyter-widgets/base",
            "_model_module_version": "1.2.0",
            "_model_name": "LayoutModel",
            "_view_count": null,
            "_view_module": "@jupyter-widgets/base",
            "_view_module_version": "1.2.0",
            "_view_name": "LayoutView",
            "align_content": null,
            "align_items": null,
            "align_self": null,
            "border": null,
            "bottom": null,
            "display": null,
            "flex": null,
            "flex_flow": null,
            "grid_area": null,
            "grid_auto_columns": null,
            "grid_auto_flow": null,
            "grid_auto_rows": null,
            "grid_column": null,
            "grid_gap": null,
            "grid_row": null,
            "grid_template_areas": null,
            "grid_template_columns": null,
            "grid_template_rows": null,
            "height": null,
            "justify_content": null,
            "justify_items": null,
            "left": null,
            "margin": null,
            "max_height": null,
            "max_width": null,
            "min_height": null,
            "min_width": null,
            "object_fit": null,
            "object_position": null,
            "order": null,
            "overflow": null,
            "overflow_x": null,
            "overflow_y": null,
            "padding": null,
            "right": null,
            "top": null,
            "visibility": null,
            "width": null
          }
        },
        "670b3f929c914340b5eff5f959d6baf0": {
          "model_module": "@jupyter-widgets/controls",
          "model_name": "DescriptionStyleModel",
          "model_module_version": "1.5.0",
          "state": {
            "_model_module": "@jupyter-widgets/controls",
            "_model_module_version": "1.5.0",
            "_model_name": "DescriptionStyleModel",
            "_view_count": null,
            "_view_module": "@jupyter-widgets/base",
            "_view_module_version": "1.2.0",
            "_view_name": "StyleView",
            "description_width": ""
          }
        },
        "b6cf984801704e418871c3b166660d2a": {
          "model_module": "@jupyter-widgets/base",
          "model_name": "LayoutModel",
          "model_module_version": "1.2.0",
          "state": {
            "_model_module": "@jupyter-widgets/base",
            "_model_module_version": "1.2.0",
            "_model_name": "LayoutModel",
            "_view_count": null,
            "_view_module": "@jupyter-widgets/base",
            "_view_module_version": "1.2.0",
            "_view_name": "LayoutView",
            "align_content": null,
            "align_items": null,
            "align_self": null,
            "border": null,
            "bottom": null,
            "display": null,
            "flex": null,
            "flex_flow": null,
            "grid_area": null,
            "grid_auto_columns": null,
            "grid_auto_flow": null,
            "grid_auto_rows": null,
            "grid_column": null,
            "grid_gap": null,
            "grid_row": null,
            "grid_template_areas": null,
            "grid_template_columns": null,
            "grid_template_rows": null,
            "height": null,
            "justify_content": null,
            "justify_items": null,
            "left": null,
            "margin": null,
            "max_height": null,
            "max_width": null,
            "min_height": null,
            "min_width": null,
            "object_fit": null,
            "object_position": null,
            "order": null,
            "overflow": null,
            "overflow_x": null,
            "overflow_y": null,
            "padding": null,
            "right": null,
            "top": null,
            "visibility": null,
            "width": null
          }
        },
        "ed782ad4d60640278e1b29f2484545fc": {
          "model_module": "@jupyter-widgets/controls",
          "model_name": "ProgressStyleModel",
          "model_module_version": "1.5.0",
          "state": {
            "_model_module": "@jupyter-widgets/controls",
            "_model_module_version": "1.5.0",
            "_model_name": "ProgressStyleModel",
            "_view_count": null,
            "_view_module": "@jupyter-widgets/base",
            "_view_module_version": "1.2.0",
            "_view_name": "StyleView",
            "bar_color": null,
            "description_width": ""
          }
        },
        "92d0af6420774e56ba44378e3e8353c3": {
          "model_module": "@jupyter-widgets/base",
          "model_name": "LayoutModel",
          "model_module_version": "1.2.0",
          "state": {
            "_model_module": "@jupyter-widgets/base",
            "_model_module_version": "1.2.0",
            "_model_name": "LayoutModel",
            "_view_count": null,
            "_view_module": "@jupyter-widgets/base",
            "_view_module_version": "1.2.0",
            "_view_name": "LayoutView",
            "align_content": null,
            "align_items": null,
            "align_self": null,
            "border": null,
            "bottom": null,
            "display": null,
            "flex": null,
            "flex_flow": null,
            "grid_area": null,
            "grid_auto_columns": null,
            "grid_auto_flow": null,
            "grid_auto_rows": null,
            "grid_column": null,
            "grid_gap": null,
            "grid_row": null,
            "grid_template_areas": null,
            "grid_template_columns": null,
            "grid_template_rows": null,
            "height": null,
            "justify_content": null,
            "justify_items": null,
            "left": null,
            "margin": null,
            "max_height": null,
            "max_width": null,
            "min_height": null,
            "min_width": null,
            "object_fit": null,
            "object_position": null,
            "order": null,
            "overflow": null,
            "overflow_x": null,
            "overflow_y": null,
            "padding": null,
            "right": null,
            "top": null,
            "visibility": null,
            "width": null
          }
        },
        "14e908111c584e978dc36b07f1134891": {
          "model_module": "@jupyter-widgets/controls",
          "model_name": "DescriptionStyleModel",
          "model_module_version": "1.5.0",
          "state": {
            "_model_module": "@jupyter-widgets/controls",
            "_model_module_version": "1.5.0",
            "_model_name": "DescriptionStyleModel",
            "_view_count": null,
            "_view_module": "@jupyter-widgets/base",
            "_view_module_version": "1.2.0",
            "_view_name": "StyleView",
            "description_width": ""
          }
        },
        "cfd7181d76fe45109398e5ae3eda3888": {
          "model_module": "@jupyter-widgets/controls",
          "model_name": "HBoxModel",
          "model_module_version": "1.5.0",
          "state": {
            "_dom_classes": [],
            "_model_module": "@jupyter-widgets/controls",
            "_model_module_version": "1.5.0",
            "_model_name": "HBoxModel",
            "_view_count": null,
            "_view_module": "@jupyter-widgets/controls",
            "_view_module_version": "1.5.0",
            "_view_name": "HBoxView",
            "box_style": "",
            "children": [
              "IPY_MODEL_0b62b409698442359528a137718fc586",
              "IPY_MODEL_6cca39f315914262b9cf53dd34faecea",
              "IPY_MODEL_2ca0318848624c85bd5b594fa51582ff"
            ],
            "layout": "IPY_MODEL_80fd1799319c4517ab44fe1660cb6122"
          }
        },
        "0b62b409698442359528a137718fc586": {
          "model_module": "@jupyter-widgets/controls",
          "model_name": "HTMLModel",
          "model_module_version": "1.5.0",
          "state": {
            "_dom_classes": [],
            "_model_module": "@jupyter-widgets/controls",
            "_model_module_version": "1.5.0",
            "_model_name": "HTMLModel",
            "_view_count": null,
            "_view_module": "@jupyter-widgets/controls",
            "_view_module_version": "1.5.0",
            "_view_name": "HTMLView",
            "description": "",
            "description_tooltip": null,
            "layout": "IPY_MODEL_26a5a165ad0b45e0a145ad310597131d",
            "placeholder": "​",
            "style": "IPY_MODEL_1702cad721084502b02632297ad82403",
            "value": "100%"
          }
        },
        "6cca39f315914262b9cf53dd34faecea": {
          "model_module": "@jupyter-widgets/controls",
          "model_name": "FloatProgressModel",
          "model_module_version": "1.5.0",
          "state": {
            "_dom_classes": [],
            "_model_module": "@jupyter-widgets/controls",
            "_model_module_version": "1.5.0",
            "_model_name": "FloatProgressModel",
            "_view_count": null,
            "_view_module": "@jupyter-widgets/controls",
            "_view_module_version": "1.5.0",
            "_view_name": "ProgressView",
            "bar_style": "success",
            "description": "",
            "description_tooltip": null,
            "layout": "IPY_MODEL_2b91c99825e7486295e000ad41023719",
            "max": 100,
            "min": 0,
            "orientation": "horizontal",
            "style": "IPY_MODEL_76ea32969ee941dda346dd49b8fb4e89",
            "value": 100
          }
        },
        "2ca0318848624c85bd5b594fa51582ff": {
          "model_module": "@jupyter-widgets/controls",
          "model_name": "HTMLModel",
          "model_module_version": "1.5.0",
          "state": {
            "_dom_classes": [],
            "_model_module": "@jupyter-widgets/controls",
            "_model_module_version": "1.5.0",
            "_model_name": "HTMLModel",
            "_view_count": null,
            "_view_module": "@jupyter-widgets/controls",
            "_view_module_version": "1.5.0",
            "_view_name": "HTMLView",
            "description": "",
            "description_tooltip": null,
            "layout": "IPY_MODEL_0fe3f1d897874810933af0dad7f6fadc",
            "placeholder": "​",
            "style": "IPY_MODEL_077da39a23c446b7aca1c54deba8b574",
            "value": " 100/100 [00:00&lt;00:00, 221.25it/s]"
          }
        },
        "80fd1799319c4517ab44fe1660cb6122": {
          "model_module": "@jupyter-widgets/base",
          "model_name": "LayoutModel",
          "model_module_version": "1.2.0",
          "state": {
            "_model_module": "@jupyter-widgets/base",
            "_model_module_version": "1.2.0",
            "_model_name": "LayoutModel",
            "_view_count": null,
            "_view_module": "@jupyter-widgets/base",
            "_view_module_version": "1.2.0",
            "_view_name": "LayoutView",
            "align_content": null,
            "align_items": null,
            "align_self": null,
            "border": null,
            "bottom": null,
            "display": null,
            "flex": null,
            "flex_flow": null,
            "grid_area": null,
            "grid_auto_columns": null,
            "grid_auto_flow": null,
            "grid_auto_rows": null,
            "grid_column": null,
            "grid_gap": null,
            "grid_row": null,
            "grid_template_areas": null,
            "grid_template_columns": null,
            "grid_template_rows": null,
            "height": null,
            "justify_content": null,
            "justify_items": null,
            "left": null,
            "margin": null,
            "max_height": null,
            "max_width": null,
            "min_height": null,
            "min_width": null,
            "object_fit": null,
            "object_position": null,
            "order": null,
            "overflow": null,
            "overflow_x": null,
            "overflow_y": null,
            "padding": null,
            "right": null,
            "top": null,
            "visibility": null,
            "width": null
          }
        },
        "26a5a165ad0b45e0a145ad310597131d": {
          "model_module": "@jupyter-widgets/base",
          "model_name": "LayoutModel",
          "model_module_version": "1.2.0",
          "state": {
            "_model_module": "@jupyter-widgets/base",
            "_model_module_version": "1.2.0",
            "_model_name": "LayoutModel",
            "_view_count": null,
            "_view_module": "@jupyter-widgets/base",
            "_view_module_version": "1.2.0",
            "_view_name": "LayoutView",
            "align_content": null,
            "align_items": null,
            "align_self": null,
            "border": null,
            "bottom": null,
            "display": null,
            "flex": null,
            "flex_flow": null,
            "grid_area": null,
            "grid_auto_columns": null,
            "grid_auto_flow": null,
            "grid_auto_rows": null,
            "grid_column": null,
            "grid_gap": null,
            "grid_row": null,
            "grid_template_areas": null,
            "grid_template_columns": null,
            "grid_template_rows": null,
            "height": null,
            "justify_content": null,
            "justify_items": null,
            "left": null,
            "margin": null,
            "max_height": null,
            "max_width": null,
            "min_height": null,
            "min_width": null,
            "object_fit": null,
            "object_position": null,
            "order": null,
            "overflow": null,
            "overflow_x": null,
            "overflow_y": null,
            "padding": null,
            "right": null,
            "top": null,
            "visibility": null,
            "width": null
          }
        },
        "1702cad721084502b02632297ad82403": {
          "model_module": "@jupyter-widgets/controls",
          "model_name": "DescriptionStyleModel",
          "model_module_version": "1.5.0",
          "state": {
            "_model_module": "@jupyter-widgets/controls",
            "_model_module_version": "1.5.0",
            "_model_name": "DescriptionStyleModel",
            "_view_count": null,
            "_view_module": "@jupyter-widgets/base",
            "_view_module_version": "1.2.0",
            "_view_name": "StyleView",
            "description_width": ""
          }
        },
        "2b91c99825e7486295e000ad41023719": {
          "model_module": "@jupyter-widgets/base",
          "model_name": "LayoutModel",
          "model_module_version": "1.2.0",
          "state": {
            "_model_module": "@jupyter-widgets/base",
            "_model_module_version": "1.2.0",
            "_model_name": "LayoutModel",
            "_view_count": null,
            "_view_module": "@jupyter-widgets/base",
            "_view_module_version": "1.2.0",
            "_view_name": "LayoutView",
            "align_content": null,
            "align_items": null,
            "align_self": null,
            "border": null,
            "bottom": null,
            "display": null,
            "flex": null,
            "flex_flow": null,
            "grid_area": null,
            "grid_auto_columns": null,
            "grid_auto_flow": null,
            "grid_auto_rows": null,
            "grid_column": null,
            "grid_gap": null,
            "grid_row": null,
            "grid_template_areas": null,
            "grid_template_columns": null,
            "grid_template_rows": null,
            "height": null,
            "justify_content": null,
            "justify_items": null,
            "left": null,
            "margin": null,
            "max_height": null,
            "max_width": null,
            "min_height": null,
            "min_width": null,
            "object_fit": null,
            "object_position": null,
            "order": null,
            "overflow": null,
            "overflow_x": null,
            "overflow_y": null,
            "padding": null,
            "right": null,
            "top": null,
            "visibility": null,
            "width": null
          }
        },
        "76ea32969ee941dda346dd49b8fb4e89": {
          "model_module": "@jupyter-widgets/controls",
          "model_name": "ProgressStyleModel",
          "model_module_version": "1.5.0",
          "state": {
            "_model_module": "@jupyter-widgets/controls",
            "_model_module_version": "1.5.0",
            "_model_name": "ProgressStyleModel",
            "_view_count": null,
            "_view_module": "@jupyter-widgets/base",
            "_view_module_version": "1.2.0",
            "_view_name": "StyleView",
            "bar_color": null,
            "description_width": ""
          }
        },
        "0fe3f1d897874810933af0dad7f6fadc": {
          "model_module": "@jupyter-widgets/base",
          "model_name": "LayoutModel",
          "model_module_version": "1.2.0",
          "state": {
            "_model_module": "@jupyter-widgets/base",
            "_model_module_version": "1.2.0",
            "_model_name": "LayoutModel",
            "_view_count": null,
            "_view_module": "@jupyter-widgets/base",
            "_view_module_version": "1.2.0",
            "_view_name": "LayoutView",
            "align_content": null,
            "align_items": null,
            "align_self": null,
            "border": null,
            "bottom": null,
            "display": null,
            "flex": null,
            "flex_flow": null,
            "grid_area": null,
            "grid_auto_columns": null,
            "grid_auto_flow": null,
            "grid_auto_rows": null,
            "grid_column": null,
            "grid_gap": null,
            "grid_row": null,
            "grid_template_areas": null,
            "grid_template_columns": null,
            "grid_template_rows": null,
            "height": null,
            "justify_content": null,
            "justify_items": null,
            "left": null,
            "margin": null,
            "max_height": null,
            "max_width": null,
            "min_height": null,
            "min_width": null,
            "object_fit": null,
            "object_position": null,
            "order": null,
            "overflow": null,
            "overflow_x": null,
            "overflow_y": null,
            "padding": null,
            "right": null,
            "top": null,
            "visibility": null,
            "width": null
          }
        },
        "077da39a23c446b7aca1c54deba8b574": {
          "model_module": "@jupyter-widgets/controls",
          "model_name": "DescriptionStyleModel",
          "model_module_version": "1.5.0",
          "state": {
            "_model_module": "@jupyter-widgets/controls",
            "_model_module_version": "1.5.0",
            "_model_name": "DescriptionStyleModel",
            "_view_count": null,
            "_view_module": "@jupyter-widgets/base",
            "_view_module_version": "1.2.0",
            "_view_name": "StyleView",
            "description_width": ""
          }
        },
        "02532367bb4b47efab3226043567e276": {
          "model_module": "@jupyter-widgets/controls",
          "model_name": "HBoxModel",
          "model_module_version": "1.5.0",
          "state": {
            "_dom_classes": [],
            "_model_module": "@jupyter-widgets/controls",
            "_model_module_version": "1.5.0",
            "_model_name": "HBoxModel",
            "_view_count": null,
            "_view_module": "@jupyter-widgets/controls",
            "_view_module_version": "1.5.0",
            "_view_name": "HBoxView",
            "box_style": "",
            "children": [
              "IPY_MODEL_992f8725111e46ce9d0afad02e428c11",
              "IPY_MODEL_667e5db44fad454b86d31d748a31a344",
              "IPY_MODEL_ffb8cac548034876a894429383ebe186"
            ],
            "layout": "IPY_MODEL_6e6ce38ba1c5460e880cbf09674f011a"
          }
        },
        "992f8725111e46ce9d0afad02e428c11": {
          "model_module": "@jupyter-widgets/controls",
          "model_name": "HTMLModel",
          "model_module_version": "1.5.0",
          "state": {
            "_dom_classes": [],
            "_model_module": "@jupyter-widgets/controls",
            "_model_module_version": "1.5.0",
            "_model_name": "HTMLModel",
            "_view_count": null,
            "_view_module": "@jupyter-widgets/controls",
            "_view_module_version": "1.5.0",
            "_view_name": "HTMLView",
            "description": "",
            "description_tooltip": null,
            "layout": "IPY_MODEL_ffea6bfb2379455e822a3dde33f29791",
            "placeholder": "​",
            "style": "IPY_MODEL_72978e44299148259cc322208af23caa",
            "value": "100%"
          }
        },
        "667e5db44fad454b86d31d748a31a344": {
          "model_module": "@jupyter-widgets/controls",
          "model_name": "FloatProgressModel",
          "model_module_version": "1.5.0",
          "state": {
            "_dom_classes": [],
            "_model_module": "@jupyter-widgets/controls",
            "_model_module_version": "1.5.0",
            "_model_name": "FloatProgressModel",
            "_view_count": null,
            "_view_module": "@jupyter-widgets/controls",
            "_view_module_version": "1.5.0",
            "_view_name": "ProgressView",
            "bar_style": "success",
            "description": "",
            "description_tooltip": null,
            "layout": "IPY_MODEL_5162ecfec24740479ac911fd164052fd",
            "max": 1478,
            "min": 0,
            "orientation": "horizontal",
            "style": "IPY_MODEL_afb4284fbc4a4cacb3f0655c2853d2ac",
            "value": 1478
          }
        },
        "ffb8cac548034876a894429383ebe186": {
          "model_module": "@jupyter-widgets/controls",
          "model_name": "HTMLModel",
          "model_module_version": "1.5.0",
          "state": {
            "_dom_classes": [],
            "_model_module": "@jupyter-widgets/controls",
            "_model_module_version": "1.5.0",
            "_model_name": "HTMLModel",
            "_view_count": null,
            "_view_module": "@jupyter-widgets/controls",
            "_view_module_version": "1.5.0",
            "_view_name": "HTMLView",
            "description": "",
            "description_tooltip": null,
            "layout": "IPY_MODEL_58cf07d6744f4ec0ad4c29199d060b70",
            "placeholder": "​",
            "style": "IPY_MODEL_4c421e4fefda4f6e8391a1954797666c",
            "value": " 1478/1478 [00:00&lt;00:00, 48225.02it/s]"
          }
        },
        "6e6ce38ba1c5460e880cbf09674f011a": {
          "model_module": "@jupyter-widgets/base",
          "model_name": "LayoutModel",
          "model_module_version": "1.2.0",
          "state": {
            "_model_module": "@jupyter-widgets/base",
            "_model_module_version": "1.2.0",
            "_model_name": "LayoutModel",
            "_view_count": null,
            "_view_module": "@jupyter-widgets/base",
            "_view_module_version": "1.2.0",
            "_view_name": "LayoutView",
            "align_content": null,
            "align_items": null,
            "align_self": null,
            "border": null,
            "bottom": null,
            "display": null,
            "flex": null,
            "flex_flow": null,
            "grid_area": null,
            "grid_auto_columns": null,
            "grid_auto_flow": null,
            "grid_auto_rows": null,
            "grid_column": null,
            "grid_gap": null,
            "grid_row": null,
            "grid_template_areas": null,
            "grid_template_columns": null,
            "grid_template_rows": null,
            "height": null,
            "justify_content": null,
            "justify_items": null,
            "left": null,
            "margin": null,
            "max_height": null,
            "max_width": null,
            "min_height": null,
            "min_width": null,
            "object_fit": null,
            "object_position": null,
            "order": null,
            "overflow": null,
            "overflow_x": null,
            "overflow_y": null,
            "padding": null,
            "right": null,
            "top": null,
            "visibility": null,
            "width": null
          }
        },
        "ffea6bfb2379455e822a3dde33f29791": {
          "model_module": "@jupyter-widgets/base",
          "model_name": "LayoutModel",
          "model_module_version": "1.2.0",
          "state": {
            "_model_module": "@jupyter-widgets/base",
            "_model_module_version": "1.2.0",
            "_model_name": "LayoutModel",
            "_view_count": null,
            "_view_module": "@jupyter-widgets/base",
            "_view_module_version": "1.2.0",
            "_view_name": "LayoutView",
            "align_content": null,
            "align_items": null,
            "align_self": null,
            "border": null,
            "bottom": null,
            "display": null,
            "flex": null,
            "flex_flow": null,
            "grid_area": null,
            "grid_auto_columns": null,
            "grid_auto_flow": null,
            "grid_auto_rows": null,
            "grid_column": null,
            "grid_gap": null,
            "grid_row": null,
            "grid_template_areas": null,
            "grid_template_columns": null,
            "grid_template_rows": null,
            "height": null,
            "justify_content": null,
            "justify_items": null,
            "left": null,
            "margin": null,
            "max_height": null,
            "max_width": null,
            "min_height": null,
            "min_width": null,
            "object_fit": null,
            "object_position": null,
            "order": null,
            "overflow": null,
            "overflow_x": null,
            "overflow_y": null,
            "padding": null,
            "right": null,
            "top": null,
            "visibility": null,
            "width": null
          }
        },
        "72978e44299148259cc322208af23caa": {
          "model_module": "@jupyter-widgets/controls",
          "model_name": "DescriptionStyleModel",
          "model_module_version": "1.5.0",
          "state": {
            "_model_module": "@jupyter-widgets/controls",
            "_model_module_version": "1.5.0",
            "_model_name": "DescriptionStyleModel",
            "_view_count": null,
            "_view_module": "@jupyter-widgets/base",
            "_view_module_version": "1.2.0",
            "_view_name": "StyleView",
            "description_width": ""
          }
        },
        "5162ecfec24740479ac911fd164052fd": {
          "model_module": "@jupyter-widgets/base",
          "model_name": "LayoutModel",
          "model_module_version": "1.2.0",
          "state": {
            "_model_module": "@jupyter-widgets/base",
            "_model_module_version": "1.2.0",
            "_model_name": "LayoutModel",
            "_view_count": null,
            "_view_module": "@jupyter-widgets/base",
            "_view_module_version": "1.2.0",
            "_view_name": "LayoutView",
            "align_content": null,
            "align_items": null,
            "align_self": null,
            "border": null,
            "bottom": null,
            "display": null,
            "flex": null,
            "flex_flow": null,
            "grid_area": null,
            "grid_auto_columns": null,
            "grid_auto_flow": null,
            "grid_auto_rows": null,
            "grid_column": null,
            "grid_gap": null,
            "grid_row": null,
            "grid_template_areas": null,
            "grid_template_columns": null,
            "grid_template_rows": null,
            "height": null,
            "justify_content": null,
            "justify_items": null,
            "left": null,
            "margin": null,
            "max_height": null,
            "max_width": null,
            "min_height": null,
            "min_width": null,
            "object_fit": null,
            "object_position": null,
            "order": null,
            "overflow": null,
            "overflow_x": null,
            "overflow_y": null,
            "padding": null,
            "right": null,
            "top": null,
            "visibility": null,
            "width": null
          }
        },
        "afb4284fbc4a4cacb3f0655c2853d2ac": {
          "model_module": "@jupyter-widgets/controls",
          "model_name": "ProgressStyleModel",
          "model_module_version": "1.5.0",
          "state": {
            "_model_module": "@jupyter-widgets/controls",
            "_model_module_version": "1.5.0",
            "_model_name": "ProgressStyleModel",
            "_view_count": null,
            "_view_module": "@jupyter-widgets/base",
            "_view_module_version": "1.2.0",
            "_view_name": "StyleView",
            "bar_color": null,
            "description_width": ""
          }
        },
        "58cf07d6744f4ec0ad4c29199d060b70": {
          "model_module": "@jupyter-widgets/base",
          "model_name": "LayoutModel",
          "model_module_version": "1.2.0",
          "state": {
            "_model_module": "@jupyter-widgets/base",
            "_model_module_version": "1.2.0",
            "_model_name": "LayoutModel",
            "_view_count": null,
            "_view_module": "@jupyter-widgets/base",
            "_view_module_version": "1.2.0",
            "_view_name": "LayoutView",
            "align_content": null,
            "align_items": null,
            "align_self": null,
            "border": null,
            "bottom": null,
            "display": null,
            "flex": null,
            "flex_flow": null,
            "grid_area": null,
            "grid_auto_columns": null,
            "grid_auto_flow": null,
            "grid_auto_rows": null,
            "grid_column": null,
            "grid_gap": null,
            "grid_row": null,
            "grid_template_areas": null,
            "grid_template_columns": null,
            "grid_template_rows": null,
            "height": null,
            "justify_content": null,
            "justify_items": null,
            "left": null,
            "margin": null,
            "max_height": null,
            "max_width": null,
            "min_height": null,
            "min_width": null,
            "object_fit": null,
            "object_position": null,
            "order": null,
            "overflow": null,
            "overflow_x": null,
            "overflow_y": null,
            "padding": null,
            "right": null,
            "top": null,
            "visibility": null,
            "width": null
          }
        },
        "4c421e4fefda4f6e8391a1954797666c": {
          "model_module": "@jupyter-widgets/controls",
          "model_name": "DescriptionStyleModel",
          "model_module_version": "1.5.0",
          "state": {
            "_model_module": "@jupyter-widgets/controls",
            "_model_module_version": "1.5.0",
            "_model_name": "DescriptionStyleModel",
            "_view_count": null,
            "_view_module": "@jupyter-widgets/base",
            "_view_module_version": "1.2.0",
            "_view_name": "StyleView",
            "description_width": ""
          }
        },
        "d13a8249b461476c966ec9afd6ba7976": {
          "model_module": "@jupyter-widgets/controls",
          "model_name": "HBoxModel",
          "model_module_version": "1.5.0",
          "state": {
            "_dom_classes": [],
            "_model_module": "@jupyter-widgets/controls",
            "_model_module_version": "1.5.0",
            "_model_name": "HBoxModel",
            "_view_count": null,
            "_view_module": "@jupyter-widgets/controls",
            "_view_module_version": "1.5.0",
            "_view_name": "HBoxView",
            "box_style": "",
            "children": [
              "IPY_MODEL_581dc849fe13465aba6c90632b864b2d",
              "IPY_MODEL_10415e217207473fac3d123b06128377",
              "IPY_MODEL_685b4e465c7c46db8d5a7d143d2ec1a8"
            ],
            "layout": "IPY_MODEL_3d00d7dc62ef4a5eab789189caa2c4b6"
          }
        },
        "581dc849fe13465aba6c90632b864b2d": {
          "model_module": "@jupyter-widgets/controls",
          "model_name": "HTMLModel",
          "model_module_version": "1.5.0",
          "state": {
            "_dom_classes": [],
            "_model_module": "@jupyter-widgets/controls",
            "_model_module_version": "1.5.0",
            "_model_name": "HTMLModel",
            "_view_count": null,
            "_view_module": "@jupyter-widgets/controls",
            "_view_module_version": "1.5.0",
            "_view_name": "HTMLView",
            "description": "",
            "description_tooltip": null,
            "layout": "IPY_MODEL_d494fbe4233948cea787df46fa0d2e69",
            "placeholder": "​",
            "style": "IPY_MODEL_0bf88bbc9c414acd9b308a4facb740b4",
            "value": "100%"
          }
        },
        "10415e217207473fac3d123b06128377": {
          "model_module": "@jupyter-widgets/controls",
          "model_name": "FloatProgressModel",
          "model_module_version": "1.5.0",
          "state": {
            "_dom_classes": [],
            "_model_module": "@jupyter-widgets/controls",
            "_model_module_version": "1.5.0",
            "_model_name": "FloatProgressModel",
            "_view_count": null,
            "_view_module": "@jupyter-widgets/controls",
            "_view_module_version": "1.5.0",
            "_view_name": "ProgressView",
            "bar_style": "success",
            "description": "",
            "description_tooltip": null,
            "layout": "IPY_MODEL_107dedd9de7442de9118083d885d9c30",
            "max": 100,
            "min": 0,
            "orientation": "horizontal",
            "style": "IPY_MODEL_77b6fcc47e264e20bd96fa9a8d7d9180",
            "value": 100
          }
        },
        "685b4e465c7c46db8d5a7d143d2ec1a8": {
          "model_module": "@jupyter-widgets/controls",
          "model_name": "HTMLModel",
          "model_module_version": "1.5.0",
          "state": {
            "_dom_classes": [],
            "_model_module": "@jupyter-widgets/controls",
            "_model_module_version": "1.5.0",
            "_model_name": "HTMLModel",
            "_view_count": null,
            "_view_module": "@jupyter-widgets/controls",
            "_view_module_version": "1.5.0",
            "_view_name": "HTMLView",
            "description": "",
            "description_tooltip": null,
            "layout": "IPY_MODEL_7bc67021d3a34dec9693a235ff25ddf0",
            "placeholder": "​",
            "style": "IPY_MODEL_2dedfc2bbe4e441f9907fb1fbf09bf7e",
            "value": " 100/100 [00:00&lt;00:00, 213.46it/s]"
          }
        },
        "3d00d7dc62ef4a5eab789189caa2c4b6": {
          "model_module": "@jupyter-widgets/base",
          "model_name": "LayoutModel",
          "model_module_version": "1.2.0",
          "state": {
            "_model_module": "@jupyter-widgets/base",
            "_model_module_version": "1.2.0",
            "_model_name": "LayoutModel",
            "_view_count": null,
            "_view_module": "@jupyter-widgets/base",
            "_view_module_version": "1.2.0",
            "_view_name": "LayoutView",
            "align_content": null,
            "align_items": null,
            "align_self": null,
            "border": null,
            "bottom": null,
            "display": null,
            "flex": null,
            "flex_flow": null,
            "grid_area": null,
            "grid_auto_columns": null,
            "grid_auto_flow": null,
            "grid_auto_rows": null,
            "grid_column": null,
            "grid_gap": null,
            "grid_row": null,
            "grid_template_areas": null,
            "grid_template_columns": null,
            "grid_template_rows": null,
            "height": null,
            "justify_content": null,
            "justify_items": null,
            "left": null,
            "margin": null,
            "max_height": null,
            "max_width": null,
            "min_height": null,
            "min_width": null,
            "object_fit": null,
            "object_position": null,
            "order": null,
            "overflow": null,
            "overflow_x": null,
            "overflow_y": null,
            "padding": null,
            "right": null,
            "top": null,
            "visibility": null,
            "width": null
          }
        },
        "d494fbe4233948cea787df46fa0d2e69": {
          "model_module": "@jupyter-widgets/base",
          "model_name": "LayoutModel",
          "model_module_version": "1.2.0",
          "state": {
            "_model_module": "@jupyter-widgets/base",
            "_model_module_version": "1.2.0",
            "_model_name": "LayoutModel",
            "_view_count": null,
            "_view_module": "@jupyter-widgets/base",
            "_view_module_version": "1.2.0",
            "_view_name": "LayoutView",
            "align_content": null,
            "align_items": null,
            "align_self": null,
            "border": null,
            "bottom": null,
            "display": null,
            "flex": null,
            "flex_flow": null,
            "grid_area": null,
            "grid_auto_columns": null,
            "grid_auto_flow": null,
            "grid_auto_rows": null,
            "grid_column": null,
            "grid_gap": null,
            "grid_row": null,
            "grid_template_areas": null,
            "grid_template_columns": null,
            "grid_template_rows": null,
            "height": null,
            "justify_content": null,
            "justify_items": null,
            "left": null,
            "margin": null,
            "max_height": null,
            "max_width": null,
            "min_height": null,
            "min_width": null,
            "object_fit": null,
            "object_position": null,
            "order": null,
            "overflow": null,
            "overflow_x": null,
            "overflow_y": null,
            "padding": null,
            "right": null,
            "top": null,
            "visibility": null,
            "width": null
          }
        },
        "0bf88bbc9c414acd9b308a4facb740b4": {
          "model_module": "@jupyter-widgets/controls",
          "model_name": "DescriptionStyleModel",
          "model_module_version": "1.5.0",
          "state": {
            "_model_module": "@jupyter-widgets/controls",
            "_model_module_version": "1.5.0",
            "_model_name": "DescriptionStyleModel",
            "_view_count": null,
            "_view_module": "@jupyter-widgets/base",
            "_view_module_version": "1.2.0",
            "_view_name": "StyleView",
            "description_width": ""
          }
        },
        "107dedd9de7442de9118083d885d9c30": {
          "model_module": "@jupyter-widgets/base",
          "model_name": "LayoutModel",
          "model_module_version": "1.2.0",
          "state": {
            "_model_module": "@jupyter-widgets/base",
            "_model_module_version": "1.2.0",
            "_model_name": "LayoutModel",
            "_view_count": null,
            "_view_module": "@jupyter-widgets/base",
            "_view_module_version": "1.2.0",
            "_view_name": "LayoutView",
            "align_content": null,
            "align_items": null,
            "align_self": null,
            "border": null,
            "bottom": null,
            "display": null,
            "flex": null,
            "flex_flow": null,
            "grid_area": null,
            "grid_auto_columns": null,
            "grid_auto_flow": null,
            "grid_auto_rows": null,
            "grid_column": null,
            "grid_gap": null,
            "grid_row": null,
            "grid_template_areas": null,
            "grid_template_columns": null,
            "grid_template_rows": null,
            "height": null,
            "justify_content": null,
            "justify_items": null,
            "left": null,
            "margin": null,
            "max_height": null,
            "max_width": null,
            "min_height": null,
            "min_width": null,
            "object_fit": null,
            "object_position": null,
            "order": null,
            "overflow": null,
            "overflow_x": null,
            "overflow_y": null,
            "padding": null,
            "right": null,
            "top": null,
            "visibility": null,
            "width": null
          }
        },
        "77b6fcc47e264e20bd96fa9a8d7d9180": {
          "model_module": "@jupyter-widgets/controls",
          "model_name": "ProgressStyleModel",
          "model_module_version": "1.5.0",
          "state": {
            "_model_module": "@jupyter-widgets/controls",
            "_model_module_version": "1.5.0",
            "_model_name": "ProgressStyleModel",
            "_view_count": null,
            "_view_module": "@jupyter-widgets/base",
            "_view_module_version": "1.2.0",
            "_view_name": "StyleView",
            "bar_color": null,
            "description_width": ""
          }
        },
        "7bc67021d3a34dec9693a235ff25ddf0": {
          "model_module": "@jupyter-widgets/base",
          "model_name": "LayoutModel",
          "model_module_version": "1.2.0",
          "state": {
            "_model_module": "@jupyter-widgets/base",
            "_model_module_version": "1.2.0",
            "_model_name": "LayoutModel",
            "_view_count": null,
            "_view_module": "@jupyter-widgets/base",
            "_view_module_version": "1.2.0",
            "_view_name": "LayoutView",
            "align_content": null,
            "align_items": null,
            "align_self": null,
            "border": null,
            "bottom": null,
            "display": null,
            "flex": null,
            "flex_flow": null,
            "grid_area": null,
            "grid_auto_columns": null,
            "grid_auto_flow": null,
            "grid_auto_rows": null,
            "grid_column": null,
            "grid_gap": null,
            "grid_row": null,
            "grid_template_areas": null,
            "grid_template_columns": null,
            "grid_template_rows": null,
            "height": null,
            "justify_content": null,
            "justify_items": null,
            "left": null,
            "margin": null,
            "max_height": null,
            "max_width": null,
            "min_height": null,
            "min_width": null,
            "object_fit": null,
            "object_position": null,
            "order": null,
            "overflow": null,
            "overflow_x": null,
            "overflow_y": null,
            "padding": null,
            "right": null,
            "top": null,
            "visibility": null,
            "width": null
          }
        },
        "2dedfc2bbe4e441f9907fb1fbf09bf7e": {
          "model_module": "@jupyter-widgets/controls",
          "model_name": "DescriptionStyleModel",
          "model_module_version": "1.5.0",
          "state": {
            "_model_module": "@jupyter-widgets/controls",
            "_model_module_version": "1.5.0",
            "_model_name": "DescriptionStyleModel",
            "_view_count": null,
            "_view_module": "@jupyter-widgets/base",
            "_view_module_version": "1.2.0",
            "_view_name": "StyleView",
            "description_width": ""
          }
        },
        "3d5a782104994c1284d96e23c418668d": {
          "model_module": "@jupyter-widgets/controls",
          "model_name": "HBoxModel",
          "model_module_version": "1.5.0",
          "state": {
            "_dom_classes": [],
            "_model_module": "@jupyter-widgets/controls",
            "_model_module_version": "1.5.0",
            "_model_name": "HBoxModel",
            "_view_count": null,
            "_view_module": "@jupyter-widgets/controls",
            "_view_module_version": "1.5.0",
            "_view_name": "HBoxView",
            "box_style": "",
            "children": [
              "IPY_MODEL_28453423574c4d9faefb8c54c86c8326",
              "IPY_MODEL_26c70fc2d6bf4693b40ecfcf0f930e79",
              "IPY_MODEL_6f06e3337606495c9ec0c1c70a1ff52c"
            ],
            "layout": "IPY_MODEL_9c0392fcbe7f40ea8a16e03ef0933da6"
          }
        },
        "28453423574c4d9faefb8c54c86c8326": {
          "model_module": "@jupyter-widgets/controls",
          "model_name": "HTMLModel",
          "model_module_version": "1.5.0",
          "state": {
            "_dom_classes": [],
            "_model_module": "@jupyter-widgets/controls",
            "_model_module_version": "1.5.0",
            "_model_name": "HTMLModel",
            "_view_count": null,
            "_view_module": "@jupyter-widgets/controls",
            "_view_module_version": "1.5.0",
            "_view_name": "HTMLView",
            "description": "",
            "description_tooltip": null,
            "layout": "IPY_MODEL_cec74b4f0b9b46ee85bb628c8e54e229",
            "placeholder": "​",
            "style": "IPY_MODEL_c0327fe36853463fa1668973f5ccb6bd",
            "value": "100%"
          }
        },
        "26c70fc2d6bf4693b40ecfcf0f930e79": {
          "model_module": "@jupyter-widgets/controls",
          "model_name": "FloatProgressModel",
          "model_module_version": "1.5.0",
          "state": {
            "_dom_classes": [],
            "_model_module": "@jupyter-widgets/controls",
            "_model_module_version": "1.5.0",
            "_model_name": "FloatProgressModel",
            "_view_count": null,
            "_view_module": "@jupyter-widgets/controls",
            "_view_module_version": "1.5.0",
            "_view_name": "ProgressView",
            "bar_style": "success",
            "description": "",
            "description_tooltip": null,
            "layout": "IPY_MODEL_d880c24b03e942ba84cfbccfc06cc64a",
            "max": 1853,
            "min": 0,
            "orientation": "horizontal",
            "style": "IPY_MODEL_4b1cee059ab2409385686caf9b72aaea",
            "value": 1853
          }
        },
        "6f06e3337606495c9ec0c1c70a1ff52c": {
          "model_module": "@jupyter-widgets/controls",
          "model_name": "HTMLModel",
          "model_module_version": "1.5.0",
          "state": {
            "_dom_classes": [],
            "_model_module": "@jupyter-widgets/controls",
            "_model_module_version": "1.5.0",
            "_model_name": "HTMLModel",
            "_view_count": null,
            "_view_module": "@jupyter-widgets/controls",
            "_view_module_version": "1.5.0",
            "_view_name": "HTMLView",
            "description": "",
            "description_tooltip": null,
            "layout": "IPY_MODEL_be0c1ef13e9841fd82da9a8ef9c19cc7",
            "placeholder": "​",
            "style": "IPY_MODEL_b1d9b7ef4d804ba4a59c48a7898cc033",
            "value": " 1853/1853 [00:00&lt;00:00, 64383.96it/s]"
          }
        },
        "9c0392fcbe7f40ea8a16e03ef0933da6": {
          "model_module": "@jupyter-widgets/base",
          "model_name": "LayoutModel",
          "model_module_version": "1.2.0",
          "state": {
            "_model_module": "@jupyter-widgets/base",
            "_model_module_version": "1.2.0",
            "_model_name": "LayoutModel",
            "_view_count": null,
            "_view_module": "@jupyter-widgets/base",
            "_view_module_version": "1.2.0",
            "_view_name": "LayoutView",
            "align_content": null,
            "align_items": null,
            "align_self": null,
            "border": null,
            "bottom": null,
            "display": null,
            "flex": null,
            "flex_flow": null,
            "grid_area": null,
            "grid_auto_columns": null,
            "grid_auto_flow": null,
            "grid_auto_rows": null,
            "grid_column": null,
            "grid_gap": null,
            "grid_row": null,
            "grid_template_areas": null,
            "grid_template_columns": null,
            "grid_template_rows": null,
            "height": null,
            "justify_content": null,
            "justify_items": null,
            "left": null,
            "margin": null,
            "max_height": null,
            "max_width": null,
            "min_height": null,
            "min_width": null,
            "object_fit": null,
            "object_position": null,
            "order": null,
            "overflow": null,
            "overflow_x": null,
            "overflow_y": null,
            "padding": null,
            "right": null,
            "top": null,
            "visibility": null,
            "width": null
          }
        },
        "cec74b4f0b9b46ee85bb628c8e54e229": {
          "model_module": "@jupyter-widgets/base",
          "model_name": "LayoutModel",
          "model_module_version": "1.2.0",
          "state": {
            "_model_module": "@jupyter-widgets/base",
            "_model_module_version": "1.2.0",
            "_model_name": "LayoutModel",
            "_view_count": null,
            "_view_module": "@jupyter-widgets/base",
            "_view_module_version": "1.2.0",
            "_view_name": "LayoutView",
            "align_content": null,
            "align_items": null,
            "align_self": null,
            "border": null,
            "bottom": null,
            "display": null,
            "flex": null,
            "flex_flow": null,
            "grid_area": null,
            "grid_auto_columns": null,
            "grid_auto_flow": null,
            "grid_auto_rows": null,
            "grid_column": null,
            "grid_gap": null,
            "grid_row": null,
            "grid_template_areas": null,
            "grid_template_columns": null,
            "grid_template_rows": null,
            "height": null,
            "justify_content": null,
            "justify_items": null,
            "left": null,
            "margin": null,
            "max_height": null,
            "max_width": null,
            "min_height": null,
            "min_width": null,
            "object_fit": null,
            "object_position": null,
            "order": null,
            "overflow": null,
            "overflow_x": null,
            "overflow_y": null,
            "padding": null,
            "right": null,
            "top": null,
            "visibility": null,
            "width": null
          }
        },
        "c0327fe36853463fa1668973f5ccb6bd": {
          "model_module": "@jupyter-widgets/controls",
          "model_name": "DescriptionStyleModel",
          "model_module_version": "1.5.0",
          "state": {
            "_model_module": "@jupyter-widgets/controls",
            "_model_module_version": "1.5.0",
            "_model_name": "DescriptionStyleModel",
            "_view_count": null,
            "_view_module": "@jupyter-widgets/base",
            "_view_module_version": "1.2.0",
            "_view_name": "StyleView",
            "description_width": ""
          }
        },
        "d880c24b03e942ba84cfbccfc06cc64a": {
          "model_module": "@jupyter-widgets/base",
          "model_name": "LayoutModel",
          "model_module_version": "1.2.0",
          "state": {
            "_model_module": "@jupyter-widgets/base",
            "_model_module_version": "1.2.0",
            "_model_name": "LayoutModel",
            "_view_count": null,
            "_view_module": "@jupyter-widgets/base",
            "_view_module_version": "1.2.0",
            "_view_name": "LayoutView",
            "align_content": null,
            "align_items": null,
            "align_self": null,
            "border": null,
            "bottom": null,
            "display": null,
            "flex": null,
            "flex_flow": null,
            "grid_area": null,
            "grid_auto_columns": null,
            "grid_auto_flow": null,
            "grid_auto_rows": null,
            "grid_column": null,
            "grid_gap": null,
            "grid_row": null,
            "grid_template_areas": null,
            "grid_template_columns": null,
            "grid_template_rows": null,
            "height": null,
            "justify_content": null,
            "justify_items": null,
            "left": null,
            "margin": null,
            "max_height": null,
            "max_width": null,
            "min_height": null,
            "min_width": null,
            "object_fit": null,
            "object_position": null,
            "order": null,
            "overflow": null,
            "overflow_x": null,
            "overflow_y": null,
            "padding": null,
            "right": null,
            "top": null,
            "visibility": null,
            "width": null
          }
        },
        "4b1cee059ab2409385686caf9b72aaea": {
          "model_module": "@jupyter-widgets/controls",
          "model_name": "ProgressStyleModel",
          "model_module_version": "1.5.0",
          "state": {
            "_model_module": "@jupyter-widgets/controls",
            "_model_module_version": "1.5.0",
            "_model_name": "ProgressStyleModel",
            "_view_count": null,
            "_view_module": "@jupyter-widgets/base",
            "_view_module_version": "1.2.0",
            "_view_name": "StyleView",
            "bar_color": null,
            "description_width": ""
          }
        },
        "be0c1ef13e9841fd82da9a8ef9c19cc7": {
          "model_module": "@jupyter-widgets/base",
          "model_name": "LayoutModel",
          "model_module_version": "1.2.0",
          "state": {
            "_model_module": "@jupyter-widgets/base",
            "_model_module_version": "1.2.0",
            "_model_name": "LayoutModel",
            "_view_count": null,
            "_view_module": "@jupyter-widgets/base",
            "_view_module_version": "1.2.0",
            "_view_name": "LayoutView",
            "align_content": null,
            "align_items": null,
            "align_self": null,
            "border": null,
            "bottom": null,
            "display": null,
            "flex": null,
            "flex_flow": null,
            "grid_area": null,
            "grid_auto_columns": null,
            "grid_auto_flow": null,
            "grid_auto_rows": null,
            "grid_column": null,
            "grid_gap": null,
            "grid_row": null,
            "grid_template_areas": null,
            "grid_template_columns": null,
            "grid_template_rows": null,
            "height": null,
            "justify_content": null,
            "justify_items": null,
            "left": null,
            "margin": null,
            "max_height": null,
            "max_width": null,
            "min_height": null,
            "min_width": null,
            "object_fit": null,
            "object_position": null,
            "order": null,
            "overflow": null,
            "overflow_x": null,
            "overflow_y": null,
            "padding": null,
            "right": null,
            "top": null,
            "visibility": null,
            "width": null
          }
        },
        "b1d9b7ef4d804ba4a59c48a7898cc033": {
          "model_module": "@jupyter-widgets/controls",
          "model_name": "DescriptionStyleModel",
          "model_module_version": "1.5.0",
          "state": {
            "_model_module": "@jupyter-widgets/controls",
            "_model_module_version": "1.5.0",
            "_model_name": "DescriptionStyleModel",
            "_view_count": null,
            "_view_module": "@jupyter-widgets/base",
            "_view_module_version": "1.2.0",
            "_view_name": "StyleView",
            "description_width": ""
          }
        },
        "0a284d06051243ca81157e43b05a546e": {
          "model_module": "@jupyter-widgets/controls",
          "model_name": "HBoxModel",
          "model_module_version": "1.5.0",
          "state": {
            "_dom_classes": [],
            "_model_module": "@jupyter-widgets/controls",
            "_model_module_version": "1.5.0",
            "_model_name": "HBoxModel",
            "_view_count": null,
            "_view_module": "@jupyter-widgets/controls",
            "_view_module_version": "1.5.0",
            "_view_name": "HBoxView",
            "box_style": "",
            "children": [
              "IPY_MODEL_a2ddfd120e7a42e7a6189248964a559e",
              "IPY_MODEL_16d5eaf363e0400da81d2e2bf0db2a7a",
              "IPY_MODEL_093c90d466dd4fd8b51ed21bd1993d6f"
            ],
            "layout": "IPY_MODEL_158b125ae0a340bdb83d0c79efa464f6"
          }
        },
        "a2ddfd120e7a42e7a6189248964a559e": {
          "model_module": "@jupyter-widgets/controls",
          "model_name": "HTMLModel",
          "model_module_version": "1.5.0",
          "state": {
            "_dom_classes": [],
            "_model_module": "@jupyter-widgets/controls",
            "_model_module_version": "1.5.0",
            "_model_name": "HTMLModel",
            "_view_count": null,
            "_view_module": "@jupyter-widgets/controls",
            "_view_module_version": "1.5.0",
            "_view_name": "HTMLView",
            "description": "",
            "description_tooltip": null,
            "layout": "IPY_MODEL_ae415c14f43f477fa34ad8751791d8eb",
            "placeholder": "​",
            "style": "IPY_MODEL_fd1e1545043f44e6b0b15b7214705620",
            "value": "100%"
          }
        },
        "16d5eaf363e0400da81d2e2bf0db2a7a": {
          "model_module": "@jupyter-widgets/controls",
          "model_name": "FloatProgressModel",
          "model_module_version": "1.5.0",
          "state": {
            "_dom_classes": [],
            "_model_module": "@jupyter-widgets/controls",
            "_model_module_version": "1.5.0",
            "_model_name": "FloatProgressModel",
            "_view_count": null,
            "_view_module": "@jupyter-widgets/controls",
            "_view_module_version": "1.5.0",
            "_view_name": "ProgressView",
            "bar_style": "success",
            "description": "",
            "description_tooltip": null,
            "layout": "IPY_MODEL_c9ab001d34aa4df8b4887af72d872a3f",
            "max": 100,
            "min": 0,
            "orientation": "horizontal",
            "style": "IPY_MODEL_6941b64d3b744a4da159a9aa2982296a",
            "value": 100
          }
        },
        "093c90d466dd4fd8b51ed21bd1993d6f": {
          "model_module": "@jupyter-widgets/controls",
          "model_name": "HTMLModel",
          "model_module_version": "1.5.0",
          "state": {
            "_dom_classes": [],
            "_model_module": "@jupyter-widgets/controls",
            "_model_module_version": "1.5.0",
            "_model_name": "HTMLModel",
            "_view_count": null,
            "_view_module": "@jupyter-widgets/controls",
            "_view_module_version": "1.5.0",
            "_view_name": "HTMLView",
            "description": "",
            "description_tooltip": null,
            "layout": "IPY_MODEL_1db525768cfb49c88ab73ca0c8499400",
            "placeholder": "​",
            "style": "IPY_MODEL_3f50e682ab734746a476db2f1a3cf8cf",
            "value": " 100/100 [00:00&lt;00:00, 231.88it/s]"
          }
        },
        "158b125ae0a340bdb83d0c79efa464f6": {
          "model_module": "@jupyter-widgets/base",
          "model_name": "LayoutModel",
          "model_module_version": "1.2.0",
          "state": {
            "_model_module": "@jupyter-widgets/base",
            "_model_module_version": "1.2.0",
            "_model_name": "LayoutModel",
            "_view_count": null,
            "_view_module": "@jupyter-widgets/base",
            "_view_module_version": "1.2.0",
            "_view_name": "LayoutView",
            "align_content": null,
            "align_items": null,
            "align_self": null,
            "border": null,
            "bottom": null,
            "display": null,
            "flex": null,
            "flex_flow": null,
            "grid_area": null,
            "grid_auto_columns": null,
            "grid_auto_flow": null,
            "grid_auto_rows": null,
            "grid_column": null,
            "grid_gap": null,
            "grid_row": null,
            "grid_template_areas": null,
            "grid_template_columns": null,
            "grid_template_rows": null,
            "height": null,
            "justify_content": null,
            "justify_items": null,
            "left": null,
            "margin": null,
            "max_height": null,
            "max_width": null,
            "min_height": null,
            "min_width": null,
            "object_fit": null,
            "object_position": null,
            "order": null,
            "overflow": null,
            "overflow_x": null,
            "overflow_y": null,
            "padding": null,
            "right": null,
            "top": null,
            "visibility": null,
            "width": null
          }
        },
        "ae415c14f43f477fa34ad8751791d8eb": {
          "model_module": "@jupyter-widgets/base",
          "model_name": "LayoutModel",
          "model_module_version": "1.2.0",
          "state": {
            "_model_module": "@jupyter-widgets/base",
            "_model_module_version": "1.2.0",
            "_model_name": "LayoutModel",
            "_view_count": null,
            "_view_module": "@jupyter-widgets/base",
            "_view_module_version": "1.2.0",
            "_view_name": "LayoutView",
            "align_content": null,
            "align_items": null,
            "align_self": null,
            "border": null,
            "bottom": null,
            "display": null,
            "flex": null,
            "flex_flow": null,
            "grid_area": null,
            "grid_auto_columns": null,
            "grid_auto_flow": null,
            "grid_auto_rows": null,
            "grid_column": null,
            "grid_gap": null,
            "grid_row": null,
            "grid_template_areas": null,
            "grid_template_columns": null,
            "grid_template_rows": null,
            "height": null,
            "justify_content": null,
            "justify_items": null,
            "left": null,
            "margin": null,
            "max_height": null,
            "max_width": null,
            "min_height": null,
            "min_width": null,
            "object_fit": null,
            "object_position": null,
            "order": null,
            "overflow": null,
            "overflow_x": null,
            "overflow_y": null,
            "padding": null,
            "right": null,
            "top": null,
            "visibility": null,
            "width": null
          }
        },
        "fd1e1545043f44e6b0b15b7214705620": {
          "model_module": "@jupyter-widgets/controls",
          "model_name": "DescriptionStyleModel",
          "model_module_version": "1.5.0",
          "state": {
            "_model_module": "@jupyter-widgets/controls",
            "_model_module_version": "1.5.0",
            "_model_name": "DescriptionStyleModel",
            "_view_count": null,
            "_view_module": "@jupyter-widgets/base",
            "_view_module_version": "1.2.0",
            "_view_name": "StyleView",
            "description_width": ""
          }
        },
        "c9ab001d34aa4df8b4887af72d872a3f": {
          "model_module": "@jupyter-widgets/base",
          "model_name": "LayoutModel",
          "model_module_version": "1.2.0",
          "state": {
            "_model_module": "@jupyter-widgets/base",
            "_model_module_version": "1.2.0",
            "_model_name": "LayoutModel",
            "_view_count": null,
            "_view_module": "@jupyter-widgets/base",
            "_view_module_version": "1.2.0",
            "_view_name": "LayoutView",
            "align_content": null,
            "align_items": null,
            "align_self": null,
            "border": null,
            "bottom": null,
            "display": null,
            "flex": null,
            "flex_flow": null,
            "grid_area": null,
            "grid_auto_columns": null,
            "grid_auto_flow": null,
            "grid_auto_rows": null,
            "grid_column": null,
            "grid_gap": null,
            "grid_row": null,
            "grid_template_areas": null,
            "grid_template_columns": null,
            "grid_template_rows": null,
            "height": null,
            "justify_content": null,
            "justify_items": null,
            "left": null,
            "margin": null,
            "max_height": null,
            "max_width": null,
            "min_height": null,
            "min_width": null,
            "object_fit": null,
            "object_position": null,
            "order": null,
            "overflow": null,
            "overflow_x": null,
            "overflow_y": null,
            "padding": null,
            "right": null,
            "top": null,
            "visibility": null,
            "width": null
          }
        },
        "6941b64d3b744a4da159a9aa2982296a": {
          "model_module": "@jupyter-widgets/controls",
          "model_name": "ProgressStyleModel",
          "model_module_version": "1.5.0",
          "state": {
            "_model_module": "@jupyter-widgets/controls",
            "_model_module_version": "1.5.0",
            "_model_name": "ProgressStyleModel",
            "_view_count": null,
            "_view_module": "@jupyter-widgets/base",
            "_view_module_version": "1.2.0",
            "_view_name": "StyleView",
            "bar_color": null,
            "description_width": ""
          }
        },
        "1db525768cfb49c88ab73ca0c8499400": {
          "model_module": "@jupyter-widgets/base",
          "model_name": "LayoutModel",
          "model_module_version": "1.2.0",
          "state": {
            "_model_module": "@jupyter-widgets/base",
            "_model_module_version": "1.2.0",
            "_model_name": "LayoutModel",
            "_view_count": null,
            "_view_module": "@jupyter-widgets/base",
            "_view_module_version": "1.2.0",
            "_view_name": "LayoutView",
            "align_content": null,
            "align_items": null,
            "align_self": null,
            "border": null,
            "bottom": null,
            "display": null,
            "flex": null,
            "flex_flow": null,
            "grid_area": null,
            "grid_auto_columns": null,
            "grid_auto_flow": null,
            "grid_auto_rows": null,
            "grid_column": null,
            "grid_gap": null,
            "grid_row": null,
            "grid_template_areas": null,
            "grid_template_columns": null,
            "grid_template_rows": null,
            "height": null,
            "justify_content": null,
            "justify_items": null,
            "left": null,
            "margin": null,
            "max_height": null,
            "max_width": null,
            "min_height": null,
            "min_width": null,
            "object_fit": null,
            "object_position": null,
            "order": null,
            "overflow": null,
            "overflow_x": null,
            "overflow_y": null,
            "padding": null,
            "right": null,
            "top": null,
            "visibility": null,
            "width": null
          }
        },
        "3f50e682ab734746a476db2f1a3cf8cf": {
          "model_module": "@jupyter-widgets/controls",
          "model_name": "DescriptionStyleModel",
          "model_module_version": "1.5.0",
          "state": {
            "_model_module": "@jupyter-widgets/controls",
            "_model_module_version": "1.5.0",
            "_model_name": "DescriptionStyleModel",
            "_view_count": null,
            "_view_module": "@jupyter-widgets/base",
            "_view_module_version": "1.2.0",
            "_view_name": "StyleView",
            "description_width": ""
          }
        },
        "d6c6e4e3c2fe47f2ae140e983b7a247d": {
          "model_module": "@jupyter-widgets/controls",
          "model_name": "HBoxModel",
          "model_module_version": "1.5.0",
          "state": {
            "_dom_classes": [],
            "_model_module": "@jupyter-widgets/controls",
            "_model_module_version": "1.5.0",
            "_model_name": "HBoxModel",
            "_view_count": null,
            "_view_module": "@jupyter-widgets/controls",
            "_view_module_version": "1.5.0",
            "_view_name": "HBoxView",
            "box_style": "",
            "children": [
              "IPY_MODEL_66e8ef825c5942a6a253c98e0f71b688",
              "IPY_MODEL_6c10d2b964124b3a8e4563eae5a351cf",
              "IPY_MODEL_5779ba43e1344a6eafff9ca93343ca73"
            ],
            "layout": "IPY_MODEL_a96333fc13c94d8683729719196a91a0"
          }
        },
        "66e8ef825c5942a6a253c98e0f71b688": {
          "model_module": "@jupyter-widgets/controls",
          "model_name": "HTMLModel",
          "model_module_version": "1.5.0",
          "state": {
            "_dom_classes": [],
            "_model_module": "@jupyter-widgets/controls",
            "_model_module_version": "1.5.0",
            "_model_name": "HTMLModel",
            "_view_count": null,
            "_view_module": "@jupyter-widgets/controls",
            "_view_module_version": "1.5.0",
            "_view_name": "HTMLView",
            "description": "",
            "description_tooltip": null,
            "layout": "IPY_MODEL_d1acfdd9bbd14bf0acb8607c53e2f666",
            "placeholder": "​",
            "style": "IPY_MODEL_e97540afdfa8458fba6d50ccba108687",
            "value": "100%"
          }
        },
        "6c10d2b964124b3a8e4563eae5a351cf": {
          "model_module": "@jupyter-widgets/controls",
          "model_name": "FloatProgressModel",
          "model_module_version": "1.5.0",
          "state": {
            "_dom_classes": [],
            "_model_module": "@jupyter-widgets/controls",
            "_model_module_version": "1.5.0",
            "_model_name": "FloatProgressModel",
            "_view_count": null,
            "_view_module": "@jupyter-widgets/controls",
            "_view_module_version": "1.5.0",
            "_view_name": "ProgressView",
            "bar_style": "success",
            "description": "",
            "description_tooltip": null,
            "layout": "IPY_MODEL_df7eccaa8dce438c9e6e78f4f9b4b05d",
            "max": 2819,
            "min": 0,
            "orientation": "horizontal",
            "style": "IPY_MODEL_3eed8c8544e24270953e490dc74b27ba",
            "value": 2819
          }
        },
        "5779ba43e1344a6eafff9ca93343ca73": {
          "model_module": "@jupyter-widgets/controls",
          "model_name": "HTMLModel",
          "model_module_version": "1.5.0",
          "state": {
            "_dom_classes": [],
            "_model_module": "@jupyter-widgets/controls",
            "_model_module_version": "1.5.0",
            "_model_name": "HTMLModel",
            "_view_count": null,
            "_view_module": "@jupyter-widgets/controls",
            "_view_module_version": "1.5.0",
            "_view_name": "HTMLView",
            "description": "",
            "description_tooltip": null,
            "layout": "IPY_MODEL_d968c5959aca4d62a0bd5a8137d2bc98",
            "placeholder": "​",
            "style": "IPY_MODEL_f2983500bc5146ba81557fd654461a27",
            "value": " 2819/2819 [00:00&lt;00:00, 103577.12it/s]"
          }
        },
        "a96333fc13c94d8683729719196a91a0": {
          "model_module": "@jupyter-widgets/base",
          "model_name": "LayoutModel",
          "model_module_version": "1.2.0",
          "state": {
            "_model_module": "@jupyter-widgets/base",
            "_model_module_version": "1.2.0",
            "_model_name": "LayoutModel",
            "_view_count": null,
            "_view_module": "@jupyter-widgets/base",
            "_view_module_version": "1.2.0",
            "_view_name": "LayoutView",
            "align_content": null,
            "align_items": null,
            "align_self": null,
            "border": null,
            "bottom": null,
            "display": null,
            "flex": null,
            "flex_flow": null,
            "grid_area": null,
            "grid_auto_columns": null,
            "grid_auto_flow": null,
            "grid_auto_rows": null,
            "grid_column": null,
            "grid_gap": null,
            "grid_row": null,
            "grid_template_areas": null,
            "grid_template_columns": null,
            "grid_template_rows": null,
            "height": null,
            "justify_content": null,
            "justify_items": null,
            "left": null,
            "margin": null,
            "max_height": null,
            "max_width": null,
            "min_height": null,
            "min_width": null,
            "object_fit": null,
            "object_position": null,
            "order": null,
            "overflow": null,
            "overflow_x": null,
            "overflow_y": null,
            "padding": null,
            "right": null,
            "top": null,
            "visibility": null,
            "width": null
          }
        },
        "d1acfdd9bbd14bf0acb8607c53e2f666": {
          "model_module": "@jupyter-widgets/base",
          "model_name": "LayoutModel",
          "model_module_version": "1.2.0",
          "state": {
            "_model_module": "@jupyter-widgets/base",
            "_model_module_version": "1.2.0",
            "_model_name": "LayoutModel",
            "_view_count": null,
            "_view_module": "@jupyter-widgets/base",
            "_view_module_version": "1.2.0",
            "_view_name": "LayoutView",
            "align_content": null,
            "align_items": null,
            "align_self": null,
            "border": null,
            "bottom": null,
            "display": null,
            "flex": null,
            "flex_flow": null,
            "grid_area": null,
            "grid_auto_columns": null,
            "grid_auto_flow": null,
            "grid_auto_rows": null,
            "grid_column": null,
            "grid_gap": null,
            "grid_row": null,
            "grid_template_areas": null,
            "grid_template_columns": null,
            "grid_template_rows": null,
            "height": null,
            "justify_content": null,
            "justify_items": null,
            "left": null,
            "margin": null,
            "max_height": null,
            "max_width": null,
            "min_height": null,
            "min_width": null,
            "object_fit": null,
            "object_position": null,
            "order": null,
            "overflow": null,
            "overflow_x": null,
            "overflow_y": null,
            "padding": null,
            "right": null,
            "top": null,
            "visibility": null,
            "width": null
          }
        },
        "e97540afdfa8458fba6d50ccba108687": {
          "model_module": "@jupyter-widgets/controls",
          "model_name": "DescriptionStyleModel",
          "model_module_version": "1.5.0",
          "state": {
            "_model_module": "@jupyter-widgets/controls",
            "_model_module_version": "1.5.0",
            "_model_name": "DescriptionStyleModel",
            "_view_count": null,
            "_view_module": "@jupyter-widgets/base",
            "_view_module_version": "1.2.0",
            "_view_name": "StyleView",
            "description_width": ""
          }
        },
        "df7eccaa8dce438c9e6e78f4f9b4b05d": {
          "model_module": "@jupyter-widgets/base",
          "model_name": "LayoutModel",
          "model_module_version": "1.2.0",
          "state": {
            "_model_module": "@jupyter-widgets/base",
            "_model_module_version": "1.2.0",
            "_model_name": "LayoutModel",
            "_view_count": null,
            "_view_module": "@jupyter-widgets/base",
            "_view_module_version": "1.2.0",
            "_view_name": "LayoutView",
            "align_content": null,
            "align_items": null,
            "align_self": null,
            "border": null,
            "bottom": null,
            "display": null,
            "flex": null,
            "flex_flow": null,
            "grid_area": null,
            "grid_auto_columns": null,
            "grid_auto_flow": null,
            "grid_auto_rows": null,
            "grid_column": null,
            "grid_gap": null,
            "grid_row": null,
            "grid_template_areas": null,
            "grid_template_columns": null,
            "grid_template_rows": null,
            "height": null,
            "justify_content": null,
            "justify_items": null,
            "left": null,
            "margin": null,
            "max_height": null,
            "max_width": null,
            "min_height": null,
            "min_width": null,
            "object_fit": null,
            "object_position": null,
            "order": null,
            "overflow": null,
            "overflow_x": null,
            "overflow_y": null,
            "padding": null,
            "right": null,
            "top": null,
            "visibility": null,
            "width": null
          }
        },
        "3eed8c8544e24270953e490dc74b27ba": {
          "model_module": "@jupyter-widgets/controls",
          "model_name": "ProgressStyleModel",
          "model_module_version": "1.5.0",
          "state": {
            "_model_module": "@jupyter-widgets/controls",
            "_model_module_version": "1.5.0",
            "_model_name": "ProgressStyleModel",
            "_view_count": null,
            "_view_module": "@jupyter-widgets/base",
            "_view_module_version": "1.2.0",
            "_view_name": "StyleView",
            "bar_color": null,
            "description_width": ""
          }
        },
        "d968c5959aca4d62a0bd5a8137d2bc98": {
          "model_module": "@jupyter-widgets/base",
          "model_name": "LayoutModel",
          "model_module_version": "1.2.0",
          "state": {
            "_model_module": "@jupyter-widgets/base",
            "_model_module_version": "1.2.0",
            "_model_name": "LayoutModel",
            "_view_count": null,
            "_view_module": "@jupyter-widgets/base",
            "_view_module_version": "1.2.0",
            "_view_name": "LayoutView",
            "align_content": null,
            "align_items": null,
            "align_self": null,
            "border": null,
            "bottom": null,
            "display": null,
            "flex": null,
            "flex_flow": null,
            "grid_area": null,
            "grid_auto_columns": null,
            "grid_auto_flow": null,
            "grid_auto_rows": null,
            "grid_column": null,
            "grid_gap": null,
            "grid_row": null,
            "grid_template_areas": null,
            "grid_template_columns": null,
            "grid_template_rows": null,
            "height": null,
            "justify_content": null,
            "justify_items": null,
            "left": null,
            "margin": null,
            "max_height": null,
            "max_width": null,
            "min_height": null,
            "min_width": null,
            "object_fit": null,
            "object_position": null,
            "order": null,
            "overflow": null,
            "overflow_x": null,
            "overflow_y": null,
            "padding": null,
            "right": null,
            "top": null,
            "visibility": null,
            "width": null
          }
        },
        "f2983500bc5146ba81557fd654461a27": {
          "model_module": "@jupyter-widgets/controls",
          "model_name": "DescriptionStyleModel",
          "model_module_version": "1.5.0",
          "state": {
            "_model_module": "@jupyter-widgets/controls",
            "_model_module_version": "1.5.0",
            "_model_name": "DescriptionStyleModel",
            "_view_count": null,
            "_view_module": "@jupyter-widgets/base",
            "_view_module_version": "1.2.0",
            "_view_name": "StyleView",
            "description_width": ""
          }
        },
        "827495057d6e49c3a75d6cc27c107971": {
          "model_module": "@jupyter-widgets/controls",
          "model_name": "HBoxModel",
          "model_module_version": "1.5.0",
          "state": {
            "_dom_classes": [],
            "_model_module": "@jupyter-widgets/controls",
            "_model_module_version": "1.5.0",
            "_model_name": "HBoxModel",
            "_view_count": null,
            "_view_module": "@jupyter-widgets/controls",
            "_view_module_version": "1.5.0",
            "_view_name": "HBoxView",
            "box_style": "",
            "children": [
              "IPY_MODEL_054d6796e144476ea86dfc1bce414180",
              "IPY_MODEL_c9a8844083ff4e739923e7eb0c602056",
              "IPY_MODEL_9120d17b19574bc2850cf0504a480c71"
            ],
            "layout": "IPY_MODEL_5b701cc269bd4e37aca8cbc757aa5207"
          }
        },
        "054d6796e144476ea86dfc1bce414180": {
          "model_module": "@jupyter-widgets/controls",
          "model_name": "HTMLModel",
          "model_module_version": "1.5.0",
          "state": {
            "_dom_classes": [],
            "_model_module": "@jupyter-widgets/controls",
            "_model_module_version": "1.5.0",
            "_model_name": "HTMLModel",
            "_view_count": null,
            "_view_module": "@jupyter-widgets/controls",
            "_view_module_version": "1.5.0",
            "_view_name": "HTMLView",
            "description": "",
            "description_tooltip": null,
            "layout": "IPY_MODEL_e0ca93ace202498d8e6270af1c25453a",
            "placeholder": "​",
            "style": "IPY_MODEL_164646438b6a4aecbc01b58e1133193d",
            "value": "100%"
          }
        },
        "c9a8844083ff4e739923e7eb0c602056": {
          "model_module": "@jupyter-widgets/controls",
          "model_name": "FloatProgressModel",
          "model_module_version": "1.5.0",
          "state": {
            "_dom_classes": [],
            "_model_module": "@jupyter-widgets/controls",
            "_model_module_version": "1.5.0",
            "_model_name": "FloatProgressModel",
            "_view_count": null,
            "_view_module": "@jupyter-widgets/controls",
            "_view_module_version": "1.5.0",
            "_view_name": "ProgressView",
            "bar_style": "success",
            "description": "",
            "description_tooltip": null,
            "layout": "IPY_MODEL_b61ae5800a584393bed463f7090b3753",
            "max": 100,
            "min": 0,
            "orientation": "horizontal",
            "style": "IPY_MODEL_58755ca979004e20bb96b5db5783a7e6",
            "value": 100
          }
        },
        "9120d17b19574bc2850cf0504a480c71": {
          "model_module": "@jupyter-widgets/controls",
          "model_name": "HTMLModel",
          "model_module_version": "1.5.0",
          "state": {
            "_dom_classes": [],
            "_model_module": "@jupyter-widgets/controls",
            "_model_module_version": "1.5.0",
            "_model_name": "HTMLModel",
            "_view_count": null,
            "_view_module": "@jupyter-widgets/controls",
            "_view_module_version": "1.5.0",
            "_view_name": "HTMLView",
            "description": "",
            "description_tooltip": null,
            "layout": "IPY_MODEL_ffca2e25108c4314b46206bfaf5f976c",
            "placeholder": "​",
            "style": "IPY_MODEL_3f5a06c3ac5a46b28483662e0da8edcf",
            "value": " 100/100 [00:00&lt;00:00, 236.98it/s]"
          }
        },
        "5b701cc269bd4e37aca8cbc757aa5207": {
          "model_module": "@jupyter-widgets/base",
          "model_name": "LayoutModel",
          "model_module_version": "1.2.0",
          "state": {
            "_model_module": "@jupyter-widgets/base",
            "_model_module_version": "1.2.0",
            "_model_name": "LayoutModel",
            "_view_count": null,
            "_view_module": "@jupyter-widgets/base",
            "_view_module_version": "1.2.0",
            "_view_name": "LayoutView",
            "align_content": null,
            "align_items": null,
            "align_self": null,
            "border": null,
            "bottom": null,
            "display": null,
            "flex": null,
            "flex_flow": null,
            "grid_area": null,
            "grid_auto_columns": null,
            "grid_auto_flow": null,
            "grid_auto_rows": null,
            "grid_column": null,
            "grid_gap": null,
            "grid_row": null,
            "grid_template_areas": null,
            "grid_template_columns": null,
            "grid_template_rows": null,
            "height": null,
            "justify_content": null,
            "justify_items": null,
            "left": null,
            "margin": null,
            "max_height": null,
            "max_width": null,
            "min_height": null,
            "min_width": null,
            "object_fit": null,
            "object_position": null,
            "order": null,
            "overflow": null,
            "overflow_x": null,
            "overflow_y": null,
            "padding": null,
            "right": null,
            "top": null,
            "visibility": null,
            "width": null
          }
        },
        "e0ca93ace202498d8e6270af1c25453a": {
          "model_module": "@jupyter-widgets/base",
          "model_name": "LayoutModel",
          "model_module_version": "1.2.0",
          "state": {
            "_model_module": "@jupyter-widgets/base",
            "_model_module_version": "1.2.0",
            "_model_name": "LayoutModel",
            "_view_count": null,
            "_view_module": "@jupyter-widgets/base",
            "_view_module_version": "1.2.0",
            "_view_name": "LayoutView",
            "align_content": null,
            "align_items": null,
            "align_self": null,
            "border": null,
            "bottom": null,
            "display": null,
            "flex": null,
            "flex_flow": null,
            "grid_area": null,
            "grid_auto_columns": null,
            "grid_auto_flow": null,
            "grid_auto_rows": null,
            "grid_column": null,
            "grid_gap": null,
            "grid_row": null,
            "grid_template_areas": null,
            "grid_template_columns": null,
            "grid_template_rows": null,
            "height": null,
            "justify_content": null,
            "justify_items": null,
            "left": null,
            "margin": null,
            "max_height": null,
            "max_width": null,
            "min_height": null,
            "min_width": null,
            "object_fit": null,
            "object_position": null,
            "order": null,
            "overflow": null,
            "overflow_x": null,
            "overflow_y": null,
            "padding": null,
            "right": null,
            "top": null,
            "visibility": null,
            "width": null
          }
        },
        "164646438b6a4aecbc01b58e1133193d": {
          "model_module": "@jupyter-widgets/controls",
          "model_name": "DescriptionStyleModel",
          "model_module_version": "1.5.0",
          "state": {
            "_model_module": "@jupyter-widgets/controls",
            "_model_module_version": "1.5.0",
            "_model_name": "DescriptionStyleModel",
            "_view_count": null,
            "_view_module": "@jupyter-widgets/base",
            "_view_module_version": "1.2.0",
            "_view_name": "StyleView",
            "description_width": ""
          }
        },
        "b61ae5800a584393bed463f7090b3753": {
          "model_module": "@jupyter-widgets/base",
          "model_name": "LayoutModel",
          "model_module_version": "1.2.0",
          "state": {
            "_model_module": "@jupyter-widgets/base",
            "_model_module_version": "1.2.0",
            "_model_name": "LayoutModel",
            "_view_count": null,
            "_view_module": "@jupyter-widgets/base",
            "_view_module_version": "1.2.0",
            "_view_name": "LayoutView",
            "align_content": null,
            "align_items": null,
            "align_self": null,
            "border": null,
            "bottom": null,
            "display": null,
            "flex": null,
            "flex_flow": null,
            "grid_area": null,
            "grid_auto_columns": null,
            "grid_auto_flow": null,
            "grid_auto_rows": null,
            "grid_column": null,
            "grid_gap": null,
            "grid_row": null,
            "grid_template_areas": null,
            "grid_template_columns": null,
            "grid_template_rows": null,
            "height": null,
            "justify_content": null,
            "justify_items": null,
            "left": null,
            "margin": null,
            "max_height": null,
            "max_width": null,
            "min_height": null,
            "min_width": null,
            "object_fit": null,
            "object_position": null,
            "order": null,
            "overflow": null,
            "overflow_x": null,
            "overflow_y": null,
            "padding": null,
            "right": null,
            "top": null,
            "visibility": null,
            "width": null
          }
        },
        "58755ca979004e20bb96b5db5783a7e6": {
          "model_module": "@jupyter-widgets/controls",
          "model_name": "ProgressStyleModel",
          "model_module_version": "1.5.0",
          "state": {
            "_model_module": "@jupyter-widgets/controls",
            "_model_module_version": "1.5.0",
            "_model_name": "ProgressStyleModel",
            "_view_count": null,
            "_view_module": "@jupyter-widgets/base",
            "_view_module_version": "1.2.0",
            "_view_name": "StyleView",
            "bar_color": null,
            "description_width": ""
          }
        },
        "ffca2e25108c4314b46206bfaf5f976c": {
          "model_module": "@jupyter-widgets/base",
          "model_name": "LayoutModel",
          "model_module_version": "1.2.0",
          "state": {
            "_model_module": "@jupyter-widgets/base",
            "_model_module_version": "1.2.0",
            "_model_name": "LayoutModel",
            "_view_count": null,
            "_view_module": "@jupyter-widgets/base",
            "_view_module_version": "1.2.0",
            "_view_name": "LayoutView",
            "align_content": null,
            "align_items": null,
            "align_self": null,
            "border": null,
            "bottom": null,
            "display": null,
            "flex": null,
            "flex_flow": null,
            "grid_area": null,
            "grid_auto_columns": null,
            "grid_auto_flow": null,
            "grid_auto_rows": null,
            "grid_column": null,
            "grid_gap": null,
            "grid_row": null,
            "grid_template_areas": null,
            "grid_template_columns": null,
            "grid_template_rows": null,
            "height": null,
            "justify_content": null,
            "justify_items": null,
            "left": null,
            "margin": null,
            "max_height": null,
            "max_width": null,
            "min_height": null,
            "min_width": null,
            "object_fit": null,
            "object_position": null,
            "order": null,
            "overflow": null,
            "overflow_x": null,
            "overflow_y": null,
            "padding": null,
            "right": null,
            "top": null,
            "visibility": null,
            "width": null
          }
        },
        "3f5a06c3ac5a46b28483662e0da8edcf": {
          "model_module": "@jupyter-widgets/controls",
          "model_name": "DescriptionStyleModel",
          "model_module_version": "1.5.0",
          "state": {
            "_model_module": "@jupyter-widgets/controls",
            "_model_module_version": "1.5.0",
            "_model_name": "DescriptionStyleModel",
            "_view_count": null,
            "_view_module": "@jupyter-widgets/base",
            "_view_module_version": "1.2.0",
            "_view_name": "StyleView",
            "description_width": ""
          }
        },
        "2d6e7742a86a4bf6a5fc608ce7c4fec8": {
          "model_module": "@jupyter-widgets/controls",
          "model_name": "HBoxModel",
          "model_module_version": "1.5.0",
          "state": {
            "_dom_classes": [],
            "_model_module": "@jupyter-widgets/controls",
            "_model_module_version": "1.5.0",
            "_model_name": "HBoxModel",
            "_view_count": null,
            "_view_module": "@jupyter-widgets/controls",
            "_view_module_version": "1.5.0",
            "_view_name": "HBoxView",
            "box_style": "",
            "children": [
              "IPY_MODEL_e4c038a4e46f4364951fa6d65e2c1f69",
              "IPY_MODEL_bba456eddbb649a089a098c835faba9d",
              "IPY_MODEL_9d06fbf76d5545efae72d722892534da"
            ],
            "layout": "IPY_MODEL_de95cef78d814ac69ef066e245c64617"
          }
        },
        "e4c038a4e46f4364951fa6d65e2c1f69": {
          "model_module": "@jupyter-widgets/controls",
          "model_name": "HTMLModel",
          "model_module_version": "1.5.0",
          "state": {
            "_dom_classes": [],
            "_model_module": "@jupyter-widgets/controls",
            "_model_module_version": "1.5.0",
            "_model_name": "HTMLModel",
            "_view_count": null,
            "_view_module": "@jupyter-widgets/controls",
            "_view_module_version": "1.5.0",
            "_view_name": "HTMLView",
            "description": "",
            "description_tooltip": null,
            "layout": "IPY_MODEL_6396f79655c24878910130a1203eb540",
            "placeholder": "​",
            "style": "IPY_MODEL_32fe2dd526ed4a2caae2304f1aa0cd70",
            "value": "100%"
          }
        },
        "bba456eddbb649a089a098c835faba9d": {
          "model_module": "@jupyter-widgets/controls",
          "model_name": "FloatProgressModel",
          "model_module_version": "1.5.0",
          "state": {
            "_dom_classes": [],
            "_model_module": "@jupyter-widgets/controls",
            "_model_module_version": "1.5.0",
            "_model_name": "FloatProgressModel",
            "_view_count": null,
            "_view_module": "@jupyter-widgets/controls",
            "_view_module_version": "1.5.0",
            "_view_name": "ProgressView",
            "bar_style": "success",
            "description": "",
            "description_tooltip": null,
            "layout": "IPY_MODEL_bf8cc0b775254fd485807ba408704d76",
            "max": 2030,
            "min": 0,
            "orientation": "horizontal",
            "style": "IPY_MODEL_17c13056bc4d48b0867982f64c7497e6",
            "value": 2030
          }
        },
        "9d06fbf76d5545efae72d722892534da": {
          "model_module": "@jupyter-widgets/controls",
          "model_name": "HTMLModel",
          "model_module_version": "1.5.0",
          "state": {
            "_dom_classes": [],
            "_model_module": "@jupyter-widgets/controls",
            "_model_module_version": "1.5.0",
            "_model_name": "HTMLModel",
            "_view_count": null,
            "_view_module": "@jupyter-widgets/controls",
            "_view_module_version": "1.5.0",
            "_view_name": "HTMLView",
            "description": "",
            "description_tooltip": null,
            "layout": "IPY_MODEL_fb6788faf6a84ec3a12a0888743dd631",
            "placeholder": "​",
            "style": "IPY_MODEL_1d2904306ced43318f29a5defc00b1ec",
            "value": " 2030/2030 [00:00&lt;00:00, 66516.96it/s]"
          }
        },
        "de95cef78d814ac69ef066e245c64617": {
          "model_module": "@jupyter-widgets/base",
          "model_name": "LayoutModel",
          "model_module_version": "1.2.0",
          "state": {
            "_model_module": "@jupyter-widgets/base",
            "_model_module_version": "1.2.0",
            "_model_name": "LayoutModel",
            "_view_count": null,
            "_view_module": "@jupyter-widgets/base",
            "_view_module_version": "1.2.0",
            "_view_name": "LayoutView",
            "align_content": null,
            "align_items": null,
            "align_self": null,
            "border": null,
            "bottom": null,
            "display": null,
            "flex": null,
            "flex_flow": null,
            "grid_area": null,
            "grid_auto_columns": null,
            "grid_auto_flow": null,
            "grid_auto_rows": null,
            "grid_column": null,
            "grid_gap": null,
            "grid_row": null,
            "grid_template_areas": null,
            "grid_template_columns": null,
            "grid_template_rows": null,
            "height": null,
            "justify_content": null,
            "justify_items": null,
            "left": null,
            "margin": null,
            "max_height": null,
            "max_width": null,
            "min_height": null,
            "min_width": null,
            "object_fit": null,
            "object_position": null,
            "order": null,
            "overflow": null,
            "overflow_x": null,
            "overflow_y": null,
            "padding": null,
            "right": null,
            "top": null,
            "visibility": null,
            "width": null
          }
        },
        "6396f79655c24878910130a1203eb540": {
          "model_module": "@jupyter-widgets/base",
          "model_name": "LayoutModel",
          "model_module_version": "1.2.0",
          "state": {
            "_model_module": "@jupyter-widgets/base",
            "_model_module_version": "1.2.0",
            "_model_name": "LayoutModel",
            "_view_count": null,
            "_view_module": "@jupyter-widgets/base",
            "_view_module_version": "1.2.0",
            "_view_name": "LayoutView",
            "align_content": null,
            "align_items": null,
            "align_self": null,
            "border": null,
            "bottom": null,
            "display": null,
            "flex": null,
            "flex_flow": null,
            "grid_area": null,
            "grid_auto_columns": null,
            "grid_auto_flow": null,
            "grid_auto_rows": null,
            "grid_column": null,
            "grid_gap": null,
            "grid_row": null,
            "grid_template_areas": null,
            "grid_template_columns": null,
            "grid_template_rows": null,
            "height": null,
            "justify_content": null,
            "justify_items": null,
            "left": null,
            "margin": null,
            "max_height": null,
            "max_width": null,
            "min_height": null,
            "min_width": null,
            "object_fit": null,
            "object_position": null,
            "order": null,
            "overflow": null,
            "overflow_x": null,
            "overflow_y": null,
            "padding": null,
            "right": null,
            "top": null,
            "visibility": null,
            "width": null
          }
        },
        "32fe2dd526ed4a2caae2304f1aa0cd70": {
          "model_module": "@jupyter-widgets/controls",
          "model_name": "DescriptionStyleModel",
          "model_module_version": "1.5.0",
          "state": {
            "_model_module": "@jupyter-widgets/controls",
            "_model_module_version": "1.5.0",
            "_model_name": "DescriptionStyleModel",
            "_view_count": null,
            "_view_module": "@jupyter-widgets/base",
            "_view_module_version": "1.2.0",
            "_view_name": "StyleView",
            "description_width": ""
          }
        },
        "bf8cc0b775254fd485807ba408704d76": {
          "model_module": "@jupyter-widgets/base",
          "model_name": "LayoutModel",
          "model_module_version": "1.2.0",
          "state": {
            "_model_module": "@jupyter-widgets/base",
            "_model_module_version": "1.2.0",
            "_model_name": "LayoutModel",
            "_view_count": null,
            "_view_module": "@jupyter-widgets/base",
            "_view_module_version": "1.2.0",
            "_view_name": "LayoutView",
            "align_content": null,
            "align_items": null,
            "align_self": null,
            "border": null,
            "bottom": null,
            "display": null,
            "flex": null,
            "flex_flow": null,
            "grid_area": null,
            "grid_auto_columns": null,
            "grid_auto_flow": null,
            "grid_auto_rows": null,
            "grid_column": null,
            "grid_gap": null,
            "grid_row": null,
            "grid_template_areas": null,
            "grid_template_columns": null,
            "grid_template_rows": null,
            "height": null,
            "justify_content": null,
            "justify_items": null,
            "left": null,
            "margin": null,
            "max_height": null,
            "max_width": null,
            "min_height": null,
            "min_width": null,
            "object_fit": null,
            "object_position": null,
            "order": null,
            "overflow": null,
            "overflow_x": null,
            "overflow_y": null,
            "padding": null,
            "right": null,
            "top": null,
            "visibility": null,
            "width": null
          }
        },
        "17c13056bc4d48b0867982f64c7497e6": {
          "model_module": "@jupyter-widgets/controls",
          "model_name": "ProgressStyleModel",
          "model_module_version": "1.5.0",
          "state": {
            "_model_module": "@jupyter-widgets/controls",
            "_model_module_version": "1.5.0",
            "_model_name": "ProgressStyleModel",
            "_view_count": null,
            "_view_module": "@jupyter-widgets/base",
            "_view_module_version": "1.2.0",
            "_view_name": "StyleView",
            "bar_color": null,
            "description_width": ""
          }
        },
        "fb6788faf6a84ec3a12a0888743dd631": {
          "model_module": "@jupyter-widgets/base",
          "model_name": "LayoutModel",
          "model_module_version": "1.2.0",
          "state": {
            "_model_module": "@jupyter-widgets/base",
            "_model_module_version": "1.2.0",
            "_model_name": "LayoutModel",
            "_view_count": null,
            "_view_module": "@jupyter-widgets/base",
            "_view_module_version": "1.2.0",
            "_view_name": "LayoutView",
            "align_content": null,
            "align_items": null,
            "align_self": null,
            "border": null,
            "bottom": null,
            "display": null,
            "flex": null,
            "flex_flow": null,
            "grid_area": null,
            "grid_auto_columns": null,
            "grid_auto_flow": null,
            "grid_auto_rows": null,
            "grid_column": null,
            "grid_gap": null,
            "grid_row": null,
            "grid_template_areas": null,
            "grid_template_columns": null,
            "grid_template_rows": null,
            "height": null,
            "justify_content": null,
            "justify_items": null,
            "left": null,
            "margin": null,
            "max_height": null,
            "max_width": null,
            "min_height": null,
            "min_width": null,
            "object_fit": null,
            "object_position": null,
            "order": null,
            "overflow": null,
            "overflow_x": null,
            "overflow_y": null,
            "padding": null,
            "right": null,
            "top": null,
            "visibility": null,
            "width": null
          }
        },
        "1d2904306ced43318f29a5defc00b1ec": {
          "model_module": "@jupyter-widgets/controls",
          "model_name": "DescriptionStyleModel",
          "model_module_version": "1.5.0",
          "state": {
            "_model_module": "@jupyter-widgets/controls",
            "_model_module_version": "1.5.0",
            "_model_name": "DescriptionStyleModel",
            "_view_count": null,
            "_view_module": "@jupyter-widgets/base",
            "_view_module_version": "1.2.0",
            "_view_name": "StyleView",
            "description_width": ""
          }
        }
      }
    }
  },
  "nbformat": 4,
  "nbformat_minor": 5
}