{
  "cells": [
    {
      "cell_type": "code",
      "execution_count": null,
      "metadata": {
        "id": "84eddad3"
      },
      "outputs": [],
      "source": [
        "from datetime import datetime\n",
        "import os\n",
        "import matplotlib\n",
        "import pandas as pd\n",
        "import numpy as np\n",
        "import matplotlib.pyplot as plt\n",
        "import seaborn as sns\n",
        "sns.set_style('whitegrid')\n",
        "\n",
        "from scipy import sparse\n",
        "from scipy.sparse import csc_matrix\n",
        "from sklearn.decomposition import TruncatedSVD\n",
        "\n",
        "np.random.seed(0)"
      ],
      "id": "84eddad3"
    },
    {
      "cell_type": "markdown",
      "metadata": {
        "id": "uGRD8a9sKacB"
      },
      "source": [
        "### Setup"
      ],
      "id": "uGRD8a9sKacB"
    },
    {
      "cell_type": "code",
      "execution_count": null,
      "metadata": {
        "id": "d6266078"
      },
      "outputs": [],
      "source": [
        "\n",
        "import pandas as pd\n",
        "import os\n",
        "from os.path import exists\n",
        "import zipfile\n",
        "import numpy as np"
      ],
      "id": "d6266078"
    },
    {
      "cell_type": "code",
      "execution_count": null,
      "metadata": {
        "colab": {
          "base_uri": "https://localhost:8080/"
        },
        "id": "XXB_1HlIKdFi",
        "outputId": "526552ff-6e71-49ca-b401-fa8134908e78"
      },
      "outputs": [
        {
          "output_type": "stream",
          "name": "stdout",
          "text": [
            "Looking in indexes: https://pypi.org/simple, https://us-python.pkg.dev/colab-wheels/public/simple/\n",
            "Requirement already satisfied: gdown in /usr/local/lib/python3.8/dist-packages (4.4.0)\n",
            "Requirement already satisfied: six in /usr/local/lib/python3.8/dist-packages (from gdown) (1.15.0)\n",
            "Requirement already satisfied: beautifulsoup4 in /usr/local/lib/python3.8/dist-packages (from gdown) (4.6.3)\n",
            "Requirement already satisfied: requests[socks] in /usr/local/lib/python3.8/dist-packages (from gdown) (2.25.1)\n",
            "Requirement already satisfied: tqdm in /usr/local/lib/python3.8/dist-packages (from gdown) (4.64.1)\n",
            "Requirement already satisfied: filelock in /usr/local/lib/python3.8/dist-packages (from gdown) (3.9.0)\n",
            "Requirement already satisfied: chardet<5,>=3.0.2 in /usr/local/lib/python3.8/dist-packages (from requests[socks]->gdown) (4.0.0)\n",
            "Requirement already satisfied: certifi>=2017.4.17 in /usr/local/lib/python3.8/dist-packages (from requests[socks]->gdown) (2022.12.7)\n",
            "Requirement already satisfied: idna<3,>=2.5 in /usr/local/lib/python3.8/dist-packages (from requests[socks]->gdown) (2.10)\n",
            "Requirement already satisfied: urllib3<1.27,>=1.21.1 in /usr/local/lib/python3.8/dist-packages (from requests[socks]->gdown) (1.24.3)\n",
            "Requirement already satisfied: PySocks!=1.5.7,>=1.5.6 in /usr/local/lib/python3.8/dist-packages (from requests[socks]->gdown) (1.7.1)\n"
          ]
        }
      ],
      "source": [
        "!pip install gdown"
      ],
      "id": "XXB_1HlIKdFi"
    },
    {
      "cell_type": "code",
      "source": [
        "!gdown https://drive.google.com/uc?id=1kl65YOvoSAMSgszQQbua2q4Zwe1HgPct"
      ],
      "metadata": {
        "colab": {
          "base_uri": "https://localhost:8080/"
        },
        "outputId": "0fb43e62-81ce-40a9-8c8e-c16cc1672c26",
        "id": "LI8oM7sIgTz6"
      },
      "execution_count": null,
      "outputs": [
        {
          "output_type": "stream",
          "name": "stdout",
          "text": [
            "Downloading...\n",
            "From: https://drive.google.com/uc?id=1kl65YOvoSAMSgszQQbua2q4Zwe1HgPct\n",
            "To: /content/data.zip\n",
            "\r  0% 0.00/4.16M [00:00<?, ?B/s]\r100% 4.16M/4.16M [00:00<00:00, 248MB/s]\n"
          ]
        }
      ],
      "id": "LI8oM7sIgTz6"
    },
    {
      "cell_type": "code",
      "source": [
        "!unzip -o \"data.zip\"  -d  \"/content\""
      ],
      "metadata": {
        "colab": {
          "base_uri": "https://localhost:8080/"
        },
        "id": "TtZEDi2_JS0Z",
        "outputId": "3e45eab8-9569-4b33-f792-662e1bdf296e"
      },
      "execution_count": null,
      "outputs": [
        {
          "output_type": "stream",
          "name": "stdout",
          "text": [
            "Archive:  data.zip\n",
            "  inflating: /content/amazon_min.csv  \n",
            "  inflating: /content/book_min.csv   \n",
            "  inflating: /content/ciao_min.csv   \n",
            "  inflating: /content/ecom_min.csv   \n",
            "  inflating: /content/food_min.csv   \n",
            "  inflating: /content/movies_min.csv  \n"
          ]
        }
      ],
      "id": "TtZEDi2_JS0Z"
    },
    {
      "cell_type": "code",
      "execution_count": null,
      "metadata": {
        "id": "cxXmZMhNL4vi"
      },
      "outputs": [],
      "source": [
        "SEED=42"
      ],
      "id": "cxXmZMhNL4vi"
    },
    {
      "cell_type": "code",
      "execution_count": null,
      "metadata": {
        "id": "srhJBCtkJaHZ"
      },
      "outputs": [],
      "source": [
        "\n",
        "movie_10k_df = pd.read_csv(\"movies_min.csv\")\n",
        "amazon_df =pd.read_csv('amazon_min.csv')\n",
        "book_df=pd.read_csv(\"book_min.csv\")\n",
        "food_df = pd.read_csv('food_min.csv')\n",
        "ecommerce_df=pd.read_csv('ecom_min.csv')\n",
        "ciao_df=pd.read_csv('ciao_min.csv')"
      ],
      "id": "srhJBCtkJaHZ"
    },
    {
      "cell_type": "markdown",
      "metadata": {
        "id": "3enVbN86POhO"
      },
      "source": [
        "# Sparsity "
      ],
      "id": "3enVbN86POhO"
    },
    {
      "cell_type": "code",
      "execution_count": null,
      "metadata": {
        "id": "89631a6b"
      },
      "outputs": [],
      "source": [
        "from scipy.sparse import csr_matrix\n",
        "def checkSparsity(main_df):\n",
        "   \n",
        "    # pivot_df = main_df.pivot_table(\n",
        "    #     index='itemID',\n",
        "    #     columns='userID',\n",
        "    #     values='rating'\n",
        "    # )\n",
        "    totalUsers=main_df.userID.unique().shape[0]\n",
        "    totalitems= main_df.itemID.unique().shape[0]\n",
        "    total=totalUsers*totalitems\n",
        "    totalreconds=main_df.shape[0]\n",
        "    sparsity=(total-totalreconds)/total\n",
        "    return sparsity"
      ],
      "id": "89631a6b"
    },
    {
      "cell_type": "code",
      "execution_count": null,
      "metadata": {
        "colab": {
          "base_uri": "https://localhost:8080/"
        },
        "id": "08dPB9SMAgIF",
        "outputId": "acf8ad37-41ca-48c3-da2a-1d3d9034d4c2"
      },
      "outputs": [
        {
          "output_type": "execute_result",
          "data": {
            "text/plain": [
              "0.9758585086369416"
            ]
          },
          "metadata": {},
          "execution_count": 62
        }
      ],
      "source": [
        "\n",
        "sparsity_food=checkSparsity(food_df)\n",
        "sparsity_food"
      ],
      "id": "08dPB9SMAgIF"
    },
    {
      "cell_type": "code",
      "source": [
        "sparsity_amazon=checkSparsity(amazon_df)\n",
        "sparsity_amazon"
      ],
      "metadata": {
        "colab": {
          "base_uri": "https://localhost:8080/"
        },
        "id": "P07D3pTPALgB",
        "outputId": "dfa6bfa7-5782-4fc8-9e0e-430fdad66413"
      },
      "id": "P07D3pTPALgB",
      "execution_count": null,
      "outputs": [
        {
          "output_type": "execute_result",
          "data": {
            "text/plain": [
              "0.9919133172746379"
            ]
          },
          "metadata": {},
          "execution_count": 63
        }
      ]
    },
    {
      "cell_type": "code",
      "execution_count": null,
      "metadata": {
        "colab": {
          "base_uri": "https://localhost:8080/"
        },
        "id": "zBbAUd5UBJcn",
        "outputId": "9057c7e5-cb0a-4377-d2c2-b7214df9ba4c"
      },
      "outputs": [
        {
          "output_type": "execute_result",
          "data": {
            "text/plain": [
              "0.900792867888234"
            ]
          },
          "metadata": {},
          "execution_count": 64
        }
      ],
      "source": [
        "\n",
        "sparsity_movielens=checkSparsity(movie_10k_df)\n",
        "sparsity_movielens"
      ],
      "id": "zBbAUd5UBJcn"
    },
    {
      "cell_type": "code",
      "execution_count": null,
      "metadata": {
        "colab": {
          "base_uri": "https://localhost:8080/"
        },
        "id": "DyqvF5RkB3rM",
        "outputId": "b0429feb-82a6-43f4-8f35-1433975da7e3"
      },
      "outputs": [
        {
          "output_type": "execute_result",
          "data": {
            "text/plain": [
              "0.9994459394919134"
            ]
          },
          "metadata": {},
          "execution_count": 65
        }
      ],
      "source": [
        "sparsity_ecom=checkSparsity(ecommerce_df)\n",
        "sparsity_ecom"
      ],
      "id": "DyqvF5RkB3rM"
    },
    {
      "cell_type": "markdown",
      "metadata": {
        "id": "SIyREpU8Q_dk"
      },
      "source": [
        "<!-- Observations :\n",
        "1. Very sparse dataset sparsity 0.98\n",
        "2. Many items and users in the dataset has less interaction data -->"
      ],
      "id": "SIyREpU8Q_dk"
    },
    {
      "cell_type": "markdown",
      "metadata": {
        "id": "0vudkPURPTki"
      },
      "source": [
        "<!-- ### Divide dataset based on following:\n",
        "- All users rated very few items - will use contant based filtering method.To get threshold value for filtering we first find median of number of rating given by each users.Next choose value less then that median value such that we decrese sparsity as much as possible(less then .95)\n",
        "- For other data we will go with collaborative filtering or other deep learning methods -->"
      ],
      "id": "0vudkPURPTki"
    },
    {
      "cell_type": "markdown",
      "metadata": {
        "id": "kOjM86HeJm3F"
      },
      "source": [
        "# Simple Algorithm for Recommendation (SAR)"
      ],
      "id": "kOjM86HeJm3F"
    },
    {
      "cell_type": "markdown",
      "metadata": {
        "id": "enxY3tCpL_fW"
      },
      "source": [
        "This is simple recommender algorithm we run this algorithm as firt step if we get following attributes in the dataset - itemid,userid,rating,timestamp"
      ],
      "id": "enxY3tCpL_fW"
    },
    {
      "cell_type": "code",
      "execution_count": null,
      "metadata": {
        "id": "vgkV8Ut_I_wc"
      },
      "outputs": [],
      "source": [
        "!pip install recommenders"
      ],
      "id": "vgkV8Ut_I_wc"
    },
    {
      "cell_type": "code",
      "execution_count": null,
      "metadata": {
        "id": "dVwzxxDwMDul"
      },
      "outputs": [],
      "source": [
        "from recommenders.datasets.python_splitters import python_stratified_split\n",
        "from recommenders.evaluation.python_evaluation import map_at_k, ndcg_at_k, precision_at_k, recall_at_k\n",
        "from recommenders.models.sar import SAR\n"
      ],
      "id": "dVwzxxDwMDul"
    },
    {
      "cell_type": "code",
      "source": [
        "USER=\"userID\"\n",
        "ITEM=\"itemID\"\n",
        "RATING=\"rating\"\n",
        "TIMESTAMP=\"time\"\n",
        "PREDICTION=\"prediction\"\n",
        "TOP_K=20\n",
        "SEED=42 "
      ],
      "metadata": {
        "id": "91OHS94SP-yr"
      },
      "id": "91OHS94SP-yr",
      "execution_count": null,
      "outputs": []
    },
    {
      "cell_type": "code",
      "execution_count": null,
      "metadata": {
        "id": "biUUNz2MMDxo"
      },
      "outputs": [],
      "source": [
        "class SAR_Algo:\n",
        "\n",
        "  def setup(self,data,col_user=USER,col_item=ITEM,col_rating=RATING,col_time=TIMESTAMP,col_prediction=PREDICTION,ratio=0.8,top_k=TOP_K,seed=SEED):\n",
        "    self.col_item=col_item\n",
        "    self.col_user=col_user\n",
        "    self.top_k=top_k\n",
        "    self.data=data\n",
        "    self.col_rating=col_rating\n",
        "    self.col_prediction=col_prediction\n",
        "    self.header={\n",
        "        \"col_user\": col_user,\n",
        "        \"col_item\":col_item,\n",
        "        \"col_rating\": col_rating,\n",
        "        \"col_timestamp\":col_time,\n",
        "        \"col_prediction\": col_prediction\n",
        "        }\n",
        "    self.train, self.test = python_stratified_split(self.data, ratio=0.8, col_user=self.header[\"col_user\"], col_item=self.header[\"col_item\"], seed=seed)\n",
        "    self.model= SAR(\n",
        "    similarity_type=\"jaccard\", \n",
        "    time_decay_coefficient=35, \n",
        "    time_now=None, \n",
        "    timedecay_formula=True, \n",
        "    **self.header\n",
        "    )\n",
        "  def trainmodel(self):\n",
        "    self.model.fit(self.train)\n",
        "  def prediction(self):\n",
        "    self.top_k_val = self.model.recommend_k_items(self.test, top_k=self.top_k, remove_seen=True)\n",
        "    self.top_k_with_titles = (self.top_k_val.join(self.data[[self.col_item]].drop_duplicates().set_index(self.col_item), \n",
        "                                on=self.col_item, \n",
        "                                how='inner').sort_values(by=[self.col_user, self.col_prediction], ascending=False))\n",
        "\n",
        "    return self.top_k_with_titles\n",
        "  def evaluatemodel(self):\n",
        "    TOP_K=20\n",
        "    args = [self.test, self.top_k_val]\n",
        "    kwargs = dict(col_user=self.col_user, \n",
        "              col_item=self.col_item, \n",
        "              col_rating=self.col_rating, \n",
        "              col_prediction=self.col_prediction, \n",
        "              relevancy_method='top_k', \n",
        "              k=self.top_k)\n",
        "\n",
        "    eval_map = map_at_k(*args, **kwargs)\n",
        "    eval_ndcg = ndcg_at_k(*args, **kwargs)\n",
        "    eval_precision = precision_at_k(*args, **kwargs)\n",
        "    eval_recall = recall_at_k(*args, **kwargs)\n",
        "\n",
        "\n",
        "    \n",
        "    print(f\"Model:\",\n",
        "      f\"Top K:\\t\\t {TOP_K}\",\n",
        "      f\"MAP:\\t\\t {eval_map:f}\",\n",
        "      f\"NDCG:\\t\\t {eval_ndcg:f}\",\n",
        "      f\"Precision@K:\\t {eval_precision:f}\",\n",
        "      f\"Recall@K:\\t {eval_recall:f}\", sep='\\n')\n",
        "    return eval_map,eval_precision,eval_recall, self.top_k_val"
      ],
      "id": "biUUNz2MMDxo"
    },
    {
      "cell_type": "code",
      "execution_count": null,
      "metadata": {
        "id": "95xw5b3Sj1X5"
      },
      "outputs": [],
      "source": [
        "def startSAR(data_df):\n",
        "  sar=SAR_Algo()\n",
        "  sar.setup(data=data_df,col_user=USER,col_item=ITEM,col_rating=RATING,col_time=TIMESTAMP,col_prediction=PREDICTION,ratio=0.8,top_k=TOP_K,seed=SEED)\n",
        "  start = time.time()\n",
        "  sar.trainmodel()\n",
        "  end = time.time()\n",
        "  top_k_data=sar.prediction()\n",
        "  duration=end-start\n",
        "  eval_map,eval_precision,eval_recall, top_k_val=sar.evaluatemodel()\n",
        "  return eval_map,eval_precision,eval_recall,duration,top_k_val,sar"
      ],
      "id": "95xw5b3Sj1X5"
    },
    {
      "cell_type": "code",
      "source": [
        "import time\n",
        "obj = time.gmtime(0)\n",
        "epoch = time.asctime(obj)\n",
        "curr_time = round(time.time()*1000)"
      ],
      "metadata": {
        "id": "ZGFOi41GhVOK"
      },
      "id": "ZGFOi41GhVOK",
      "execution_count": null,
      "outputs": []
    },
    {
      "cell_type": "code",
      "source": [
        "movie_10k_df[TIMESTAMP]=curr_time"
      ],
      "metadata": {
        "id": "7u-NrBTMhCh8"
      },
      "id": "7u-NrBTMhCh8",
      "execution_count": null,
      "outputs": []
    },
    {
      "cell_type": "code",
      "source": [
        "movie_10k_df[RATING]=1"
      ],
      "metadata": {
        "id": "iX-TX9UQjp6L"
      },
      "id": "iX-TX9UQjp6L",
      "execution_count": null,
      "outputs": []
    },
    {
      "cell_type": "code",
      "execution_count": null,
      "metadata": {
        "colab": {
          "base_uri": "https://localhost:8080/"
        },
        "outputId": "67ba8653-70bf-4101-a498-6ff9db59993a",
        "id": "RWeDdmiej0Ay"
      },
      "outputs": [
        {
          "output_type": "stream",
          "name": "stdout",
          "text": [
            "Model:\n",
            "Top K:\t\t 20\n",
            "MAP:\t\t 0.140727\n",
            "NDCG:\t\t 0.341842\n",
            "Precision@K:\t 0.223595\n",
            "Recall@K:\t 0.288000\n"
          ]
        }
      ],
      "source": [
        "import time\n",
        "sar_eval_map=0\n",
        "sar_eval_precision=0\n",
        "sar_eval_recall=0\n",
        "sar_top_k_data=None\n",
        "\n",
        "    \n",
        "data_df=movie_10k_df[[USER,ITEM,RATING,TIMESTAMP]]\n",
        "    \n",
        "eval_map,eval_precision,eval_recall,duration,top_k_val,model=startSAR(data_df)\n",
        "   "
      ],
      "id": "RWeDdmiej0Ay"
    },
    {
      "cell_type": "code",
      "source": [
        "book_df=book_df[[USER,ITEM,RATING]]\n",
        "book_df[TIMESTAMP]=curr_time"
      ],
      "metadata": {
        "id": "Wevem5e5izv7"
      },
      "id": "Wevem5e5izv7",
      "execution_count": null,
      "outputs": []
    },
    {
      "cell_type": "code",
      "execution_count": null,
      "metadata": {
        "colab": {
          "base_uri": "https://localhost:8080/"
        },
        "outputId": "ba035230-3544-4bc5-8b3c-1354400eb079",
        "id": "Um5LU5TMzXrY"
      },
      "outputs": [
        {
          "output_type": "stream",
          "name": "stdout",
          "text": [
            "Model:\n",
            "Top K:\t\t 20\n",
            "MAP:\t\t 0.045967\n",
            "NDCG:\t\t 0.089472\n",
            "Precision@K:\t 0.028872\n",
            "Recall@K:\t 0.104402\n"
          ]
        }
      ],
      "source": [
        "import time\n",
        "sar_eval_map=0\n",
        "sar_eval_precision=0\n",
        "sar_eval_recall=0\n",
        "sar_top_k_data=None\n",
        "\n",
        "    \n",
        "data_df=book_df[[USER,ITEM,RATING,TIMESTAMP]]\n",
        "    \n",
        "eval_map,eval_precision,eval_recall,duration,top_k_val,model=startSAR(data_df)\n",
        "   "
      ],
      "id": "Um5LU5TMzXrY"
    },
    {
      "cell_type": "code",
      "source": [
        "book_df[RATING]=1"
      ],
      "metadata": {
        "id": "elGGTp9WjtWi"
      },
      "id": "elGGTp9WjtWi",
      "execution_count": null,
      "outputs": []
    },
    {
      "cell_type": "code",
      "execution_count": null,
      "metadata": {
        "colab": {
          "base_uri": "https://localhost:8080/"
        },
        "outputId": "dacbef41-7ddd-4d38-a9ee-d2d997ad629e",
        "id": "IA0F34tqjy3B"
      },
      "outputs": [
        {
          "output_type": "stream",
          "name": "stdout",
          "text": [
            "Model:\n",
            "Top K:\t\t 20\n",
            "MAP:\t\t 0.045566\n",
            "NDCG:\t\t 0.088526\n",
            "Precision@K:\t 0.028338\n",
            "Recall@K:\t 0.102257\n"
          ]
        }
      ],
      "source": [
        "import time\n",
        "sar_eval_map=0\n",
        "sar_eval_precision=0\n",
        "sar_eval_recall=0\n",
        "sar_top_k_data=None\n",
        "\n",
        "    \n",
        "data_df=book_df[[USER,ITEM,RATING,TIMESTAMP]]\n",
        "    \n",
        "eval_map,eval_precision,eval_recall,duration,top_k_val,model=startSAR(data_df)\n",
        "   "
      ],
      "id": "IA0F34tqjy3B"
    },
    {
      "cell_type": "code",
      "source": [
        "import time\n",
        "sar_eval_map=0\n",
        "sar_eval_precision=0\n",
        "sar_eval_recall=0\n",
        "sar_top_k_data=None\n",
        "\n",
        "    \n",
        "data_df=amazon_df[[USER,ITEM,RATING,TIMESTAMP]]\n",
        "    \n",
        "eval_map,eval_precision,eval_recall,duration,top_k_val,model=startSAR(data_df)"
      ],
      "metadata": {
        "colab": {
          "base_uri": "https://localhost:8080/"
        },
        "id": "yCUuMYIejYrz",
        "outputId": "10e5607f-2d01-4187-fa78-2fbc50573333"
      },
      "id": "yCUuMYIejYrz",
      "execution_count": null,
      "outputs": [
        {
          "output_type": "stream",
          "name": "stdout",
          "text": [
            "Model:\n",
            "Top K:\t\t 20\n",
            "MAP:\t\t 0.009112\n",
            "NDCG:\t\t 0.022752\n",
            "Precision@K:\t 0.008576\n",
            "Recall@K:\t 0.035393\n"
          ]
        }
      ]
    },
    {
      "cell_type": "code",
      "source": [
        "amazon_df[RATING]=1"
      ],
      "metadata": {
        "id": "VPsJ4CzwjgIz"
      },
      "id": "VPsJ4CzwjgIz",
      "execution_count": null,
      "outputs": []
    },
    {
      "cell_type": "code",
      "source": [
        "import time\n",
        "sar_eval_map=0\n",
        "sar_eval_precision=0\n",
        "sar_eval_recall=0\n",
        "sar_top_k_data=None\n",
        "\n",
        "    \n",
        "data_df=amazon_df[[USER,ITEM,RATING,TIMESTAMP]]\n",
        "    \n",
        "eval_map,eval_precision,eval_recall,duration,top_k_val,model=startSAR(data_df)"
      ],
      "metadata": {
        "colab": {
          "base_uri": "https://localhost:8080/"
        },
        "outputId": "4e97e19e-a37d-4e92-a3f3-f32c968ea54e",
        "id": "QA2sXqTKj07q"
      },
      "execution_count": null,
      "outputs": [
        {
          "output_type": "stream",
          "name": "stdout",
          "text": [
            "Model:\n",
            "Top K:\t\t 20\n",
            "MAP:\t\t 0.008725\n",
            "NDCG:\t\t 0.022287\n",
            "Precision@K:\t 0.008439\n",
            "Recall@K:\t 0.035509\n"
          ]
        }
      ],
      "id": "QA2sXqTKj07q"
    }
  ],
  "metadata": {
    "accelerator": "GPU",
    "colab": {
      "machine_shape": "hm",
      "provenance": []
    },
    "gpuClass": "standard",
    "kernelspec": {
      "display_name": "Python 3",
      "language": "python",
      "name": "python3"
    },
    "language_info": {
      "codemirror_mode": {
        "name": "ipython",
        "version": 3
      },
      "file_extension": ".py",
      "mimetype": "text/x-python",
      "name": "python",
      "nbconvert_exporter": "python",
      "pygments_lexer": "ipython3",
      "version": "3.6.5"
    }
  },
  "nbformat": 4,
  "nbformat_minor": 5
}