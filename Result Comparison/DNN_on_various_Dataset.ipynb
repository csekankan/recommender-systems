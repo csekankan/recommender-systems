{
  "cells": [
    {
      "cell_type": "code",
      "execution_count": null,
      "metadata": {
        "id": "38786309"
      },
      "outputs": [],
      "source": [
        "import numpy as np\n",
        "import pandas as pd\n",
        "import os\n",
        "import warnings\n",
        "warnings.filterwarnings(\"ignore\")"
      ],
      "id": "38786309"
    },
    {
      "cell_type": "code",
      "execution_count": null,
      "metadata": {
        "id": "fdefea8a"
      },
      "outputs": [],
      "source": [
        "from keras.models import load_model\n",
        "from sklearn.model_selection import train_test_split\n",
        "from keras.layers import Input, Embedding, Flatten, Dot, Dense, Concatenate\n",
        "from keras.models import Model\n",
        "warnings.filterwarnings('ignore')\n",
        "%matplotlib inline"
      ],
      "id": "fdefea8a"
    },
    {
      "cell_type": "code",
      "execution_count": null,
      "metadata": {
        "id": "su1xcCkzB_n1"
      },
      "outputs": [],
      "source": [
        "from datetime import datetime"
      ],
      "id": "su1xcCkzB_n1"
    },
    {
      "cell_type": "markdown",
      "metadata": {
        "id": "uGRD8a9sKacB"
      },
      "source": [
        "### Setup and Load dataset"
      ],
      "id": "uGRD8a9sKacB"
    },
    {
      "cell_type": "code",
      "execution_count": null,
      "metadata": {
        "id": "d6266078"
      },
      "outputs": [],
      "source": [
        "\n",
        "import pandas as pd\n",
        "import os\n",
        "from os.path import exists\n",
        "import zipfile\n",
        "import numpy as np"
      ],
      "id": "d6266078"
    },
    {
      "cell_type": "code",
      "execution_count": null,
      "metadata": {
        "colab": {
          "base_uri": "https://localhost:8080/"
        },
        "id": "XXB_1HlIKdFi",
        "outputId": "c210883b-adc5-45b5-9a90-2422ce9f4b5e"
      },
      "outputs": [
        {
          "output_type": "stream",
          "name": "stdout",
          "text": [
            "Looking in indexes: https://pypi.org/simple, https://us-python.pkg.dev/colab-wheels/public/simple/\n",
            "Requirement already satisfied: gdown in /usr/local/lib/python3.7/dist-packages (4.4.0)\n",
            "Requirement already satisfied: filelock in /usr/local/lib/python3.7/dist-packages (from gdown) (3.8.0)\n",
            "Requirement already satisfied: tqdm in /usr/local/lib/python3.7/dist-packages (from gdown) (4.64.1)\n",
            "Requirement already satisfied: beautifulsoup4 in /usr/local/lib/python3.7/dist-packages (from gdown) (4.6.3)\n",
            "Requirement already satisfied: requests[socks] in /usr/local/lib/python3.7/dist-packages (from gdown) (2.23.0)\n",
            "Requirement already satisfied: six in /usr/local/lib/python3.7/dist-packages (from gdown) (1.15.0)\n",
            "Requirement already satisfied: chardet<4,>=3.0.2 in /usr/local/lib/python3.7/dist-packages (from requests[socks]->gdown) (3.0.4)\n",
            "Requirement already satisfied: urllib3!=1.25.0,!=1.25.1,<1.26,>=1.21.1 in /usr/local/lib/python3.7/dist-packages (from requests[socks]->gdown) (1.24.3)\n",
            "Requirement already satisfied: certifi>=2017.4.17 in /usr/local/lib/python3.7/dist-packages (from requests[socks]->gdown) (2022.9.24)\n",
            "Requirement already satisfied: idna<3,>=2.5 in /usr/local/lib/python3.7/dist-packages (from requests[socks]->gdown) (2.10)\n",
            "Requirement already satisfied: PySocks!=1.5.7,>=1.5.6 in /usr/local/lib/python3.7/dist-packages (from requests[socks]->gdown) (1.7.1)\n",
            "Looking in indexes: https://pypi.org/simple, https://us-python.pkg.dev/colab-wheels/public/simple/\n",
            "Requirement already satisfied: scikit-surprise in /usr/local/lib/python3.7/dist-packages (1.1.1)\n",
            "Requirement already satisfied: scipy>=1.0.0 in /usr/local/lib/python3.7/dist-packages (from scikit-surprise) (1.7.3)\n",
            "Requirement already satisfied: numpy>=1.11.2 in /usr/local/lib/python3.7/dist-packages (from scikit-surprise) (1.21.6)\n",
            "Requirement already satisfied: joblib>=0.11 in /usr/local/lib/python3.7/dist-packages (from scikit-surprise) (1.2.0)\n",
            "Requirement already satisfied: six>=1.10.0 in /usr/local/lib/python3.7/dist-packages (from scikit-surprise) (1.15.0)\n",
            "Looking in indexes: https://pypi.org/simple, https://us-python.pkg.dev/colab-wheels/public/simple/\n",
            "Requirement already satisfied: scikit-learn in /usr/local/lib/python3.7/dist-packages (1.0.2)\n",
            "Requirement already satisfied: scipy>=1.1.0 in /usr/local/lib/python3.7/dist-packages (from scikit-learn) (1.7.3)\n",
            "Requirement already satisfied: numpy>=1.14.6 in /usr/local/lib/python3.7/dist-packages (from scikit-learn) (1.21.6)\n",
            "Requirement already satisfied: threadpoolctl>=2.0.0 in /usr/local/lib/python3.7/dist-packages (from scikit-learn) (3.1.0)\n",
            "Requirement already satisfied: joblib>=0.11 in /usr/local/lib/python3.7/dist-packages (from scikit-learn) (1.2.0)\n"
          ]
        }
      ],
      "source": [
        "!pip install gdown\n",
        "!pip install scikit-surprise\n",
        "!pip install -U scikit-learn"
      ],
      "id": "XXB_1HlIKdFi"
    },
    {
      "cell_type": "code",
      "execution_count": null,
      "metadata": {
        "id": "cxXmZMhNL4vi"
      },
      "outputs": [],
      "source": [
        "SEED=42"
      ],
      "id": "cxXmZMhNL4vi"
    },
    {
      "cell_type": "code",
      "execution_count": null,
      "metadata": {
        "id": "JN6L-XVUpDB3",
        "colab": {
          "base_uri": "https://localhost:8080/"
        },
        "outputId": "bbfc17d2-4fa3-40ca-e864-1f587d79fc49"
      },
      "outputs": [
        {
          "output_type": "stream",
          "name": "stdout",
          "text": [
            "Downloading...\n",
            "From: https://drive.google.com/uc?id=1ccoCOvxD2hFm1ejOVRDlT2SivkoNtC6V\n",
            "To: /content/ml-100k.zip\n",
            "100% 4.92M/4.92M [00:00<00:00, 112MB/s]\n",
            "Downloading...\n",
            "From: https://drive.google.com/uc?id=1TE3vZZf0yq9J2sTbDFL7BFNCDQIG6Nd-\n",
            "To: /content/Books.zip\n",
            "100% 25.0M/25.0M [00:00<00:00, 90.3MB/s]\n"
          ]
        }
      ],
      "source": [
        "!gdown https://drive.google.com/uc?id=1ccoCOvxD2hFm1ejOVRDlT2SivkoNtC6V\n",
        "!gdown https://drive.google.com/uc?id=1TE3vZZf0yq9J2sTbDFL7BFNCDQIG6Nd-\n"
      ],
      "id": "JN6L-XVUpDB3"
    },
    {
      "cell_type": "code",
      "execution_count": null,
      "metadata": {
        "id": "hOI0z0xD-FH8",
        "colab": {
          "base_uri": "https://localhost:8080/"
        },
        "outputId": "b7226f42-2ccf-4cdd-8431-915a3ba4c8e3"
      },
      "outputs": [
        {
          "output_type": "stream",
          "name": "stdout",
          "text": [
            "Downloading...\n",
            "From: https://drive.google.com/uc?id=1dK__rulbUEGU_m68RIK7Qevc7pcpOIme\n",
            "To: /content/RAW_recipes.csv\n",
            "100% 295M/295M [00:00<00:00, 352MB/s]\n",
            "Downloading...\n",
            "From: https://drive.google.com/uc?id=1dN-wpxE3V8yNVKPByHReEaswl9UNV9wj\n",
            "To: /content/RAW_interactions.csv\n",
            "100% 349M/349M [00:01<00:00, 318MB/s]\n"
          ]
        }
      ],
      "source": [
        "!gdown https://drive.google.com/uc?id=1dK__rulbUEGU_m68RIK7Qevc7pcpOIme\n",
        "!gdown https://drive.google.com/uc?id=1dN-wpxE3V8yNVKPByHReEaswl9UNV9wj"
      ],
      "id": "hOI0z0xD-FH8"
    },
    {
      "cell_type": "code",
      "execution_count": null,
      "metadata": {
        "id": "ncJF1kivt_uR",
        "colab": {
          "base_uri": "https://localhost:8080/"
        },
        "outputId": "699a94a9-c46d-404c-a9fe-be07312e0b2e"
      },
      "outputs": [
        {
          "output_type": "stream",
          "name": "stdout",
          "text": [
            "Archive:  ml-100k.zip\n",
            "  inflating: /content/ml-100k/allbut.pl  \n",
            "  inflating: /content/ml-100k/mku.sh  \n",
            "  inflating: /content/ml-100k/README  \n",
            "  inflating: /content/ml-100k/u.data  \n",
            "  inflating: /content/ml-100k/u.genre  \n",
            "  inflating: /content/ml-100k/u.info  \n",
            "  inflating: /content/ml-100k/u.item  \n",
            "  inflating: /content/ml-100k/u.occupation  \n",
            "  inflating: /content/ml-100k/u.user  \n",
            "  inflating: /content/ml-100k/u1.base  \n",
            "  inflating: /content/ml-100k/u1.test  \n",
            "  inflating: /content/ml-100k/u2.base  \n",
            "  inflating: /content/ml-100k/u2.test  \n",
            "  inflating: /content/ml-100k/u3.base  \n",
            "  inflating: /content/ml-100k/u3.test  \n",
            "  inflating: /content/ml-100k/u4.base  \n",
            "  inflating: /content/ml-100k/u4.test  \n",
            "  inflating: /content/ml-100k/u5.base  \n",
            "  inflating: /content/ml-100k/u5.test  \n",
            "  inflating: /content/ml-100k/ua.base  \n",
            "  inflating: /content/ml-100k/ua.test  \n",
            "  inflating: /content/ml-100k/ub.base  \n",
            "  inflating: /content/ml-100k/ub.test  \n",
            "Archive:  Books.zip\n",
            "  inflating: /content/Books.csv      \n",
            "  inflating: /content/Ratings.csv    \n",
            "  inflating: /content/Users.csv      \n"
          ]
        }
      ],
      "source": [
        "!unzip -o \"ml-100k.zip\"  -d  \"/content\"\n",
        "!unzip -o \"Books.zip\"  -d  \"/content\""
      ],
      "id": "ncJF1kivt_uR"
    },
    {
      "cell_type": "code",
      "execution_count": null,
      "metadata": {
        "id": "cdyYS85ofd2O"
      },
      "outputs": [],
      "source": [
        "!mv ml-100k/* ./"
      ],
      "id": "cdyYS85ofd2O"
    },
    {
      "cell_type": "code",
      "execution_count": null,
      "metadata": {
        "id": "ApwkfuKQSGtt"
      },
      "outputs": [],
      "source": [
        "dateparse = lambda x: datetime.utcfromtimestamp(int(x)).strftime('%Y-%m-%d %H:%M:%S')\n",
        "\n",
        "movie_10k_df = pd.read_csv('u.data', sep='\\t', \n",
        "                        names=['userID', 'itemID', 'rating', 'time'], \n",
        "                       )\n"
      ],
      "id": "ApwkfuKQSGtt"
    },
    {
      "cell_type": "markdown",
      "metadata": {
        "id": "ou9f3RPj-fhO"
      },
      "source": [
        "Books"
      ],
      "id": "ou9f3RPj-fhO"
    },
    {
      "cell_type": "code",
      "execution_count": null,
      "metadata": {
        "id": "XR54NCKa9gMo"
      },
      "outputs": [],
      "source": [
        "book_df=pd.read_csv(\"Ratings.csv\")"
      ],
      "id": "XR54NCKa9gMo"
    },
    {
      "cell_type": "code",
      "execution_count": null,
      "metadata": {
        "id": "6SHEF8Xe9S5I"
      },
      "outputs": [],
      "source": [
        "book_df.rename(columns = {str(\"ISBN\"):\"itemID\"}, inplace = True)\n",
        "book_df.rename(columns = {str(\"User-ID\"):\"userID\"}, inplace = True)\n",
        "book_df.rename(columns = {str(\"Book-Rating\"):\"rating\"}, inplace = True)"
      ],
      "id": "6SHEF8Xe9S5I"
    },
    {
      "cell_type": "markdown",
      "metadata": {
        "id": "vZClvM_6-eD6"
      },
      "source": [
        "Food.com"
      ],
      "id": "vZClvM_6-eD6"
    },
    {
      "cell_type": "code",
      "execution_count": null,
      "metadata": {
        "id": "-7hO4lia-Kwb"
      },
      "outputs": [],
      "source": [
        "food_df = pd.read_csv('RAW_interactions.csv')\n"
      ],
      "id": "-7hO4lia-Kwb"
    },
    {
      "cell_type": "code",
      "execution_count": null,
      "metadata": {
        "id": "1LHhXHmo-Mvi"
      },
      "outputs": [],
      "source": [
        "food_df.rename(columns = {str(\"recipe_id\"):\"itemID\"}, inplace = True)\n",
        "food_df.rename(columns = {str(\"user_id\"):\"userID\"}, inplace = True)\n",
        "food_df.rename(columns = {str(\"rating\"):\"rating\"}, inplace = True)"
      ],
      "id": "1LHhXHmo-Mvi"
    },
    {
      "cell_type": "markdown",
      "metadata": {
        "id": "v7UbZSR7-chK"
      },
      "source": [
        "Netflix"
      ],
      "id": "v7UbZSR7-chK"
    },
    {
      "cell_type": "code",
      "execution_count": null,
      "metadata": {
        "id": "cqYg1EIO-bwY",
        "colab": {
          "base_uri": "https://localhost:8080/"
        },
        "outputId": "77f34278-082e-403a-cd32-92408ab5da98"
      },
      "outputs": [
        {
          "output_type": "stream",
          "name": "stdout",
          "text": [
            "Downloading...\n",
            "From: https://drive.google.com/uc?id=1VQlIt1H-3geUrzlbkM-3dRe9208jJARk\n",
            "To: /content/netflix.zip\n",
            "100% 716M/716M [00:02<00:00, 275MB/s]\n"
          ]
        }
      ],
      "source": [
        "!gdown https://drive.google.com/uc?id=1VQlIt1H-3geUrzlbkM-3dRe9208jJARk"
      ],
      "id": "cqYg1EIO-bwY"
    },
    {
      "cell_type": "code",
      "execution_count": null,
      "metadata": {
        "id": "2GXorr0j-kIn",
        "colab": {
          "base_uri": "https://localhost:8080/"
        },
        "outputId": "3e9766cb-e6fc-4a22-ee32-b61359bb908f"
      },
      "outputs": [
        {
          "output_type": "stream",
          "name": "stdout",
          "text": [
            "Archive:  netflix.zip\n",
            "  inflating: ./README                \n",
            "  inflating: ./combined_data_1.txt   \n",
            "  inflating: ./combined_data_2.txt   \n",
            "  inflating: ./combined_data_3.txt   \n",
            "  inflating: ./combined_data_4.txt   \n",
            "  inflating: ./movie_titles.csv      \n",
            "  inflating: ./probe.txt             \n",
            "  inflating: ./qualifying.txt        \n"
          ]
        }
      ],
      "source": [
        "\n",
        "!unzip -o 'netflix.zip' -d './'"
      ],
      "id": "2GXorr0j-kIn"
    },
    {
      "cell_type": "code",
      "execution_count": null,
      "metadata": {
        "colab": {
          "base_uri": "https://localhost:8080/"
        },
        "id": "GUqRrHHs-lyn",
        "outputId": "fb782ba4-ef0b-4168-81b6-16454199cffa"
      },
      "outputs": [
        {
          "output_type": "stream",
          "name": "stdout",
          "text": [
            "There are 17433 rows and 3 columns\n"
          ]
        }
      ],
      "source": [
        "nRowsRead =10000000\n",
        "movie = pd.read_csv('movie_titles.csv', delimiter=',',on_bad_lines='skip',nrows = nRowsRead,encoding = \"ISO-8859-1\")\n",
        "movie.dataframeName = 'movie_titles.csv'\n",
        "movie.columns =['movieID','year','movie']\n",
        "nRow, nCol = movie.shape\n",
        "print(f'There are {nRow} rows and {nCol} columns')"
      ],
      "id": "GUqRrHHs-lyn"
    },
    {
      "cell_type": "code",
      "execution_count": null,
      "metadata": {
        "id": "JvbGidXM-n6m"
      },
      "outputs": [],
      "source": [
        "df1 = pd.read_csv(\"combined_data_1.txt\",sep=\",\",header=None,names = ['customer_id', 'rating'], usecols = [0,1])"
      ],
      "id": "JvbGidXM-n6m"
    },
    {
      "cell_type": "code",
      "execution_count": null,
      "metadata": {
        "id": "2WGsPS97-rjb"
      },
      "outputs": [],
      "source": [
        "data = df1\n",
        "df_movie = data[pd.isnull(data[\"rating\"])]\n",
        "data[\"movie_id\"] = df_movie[\"customer_id\"].apply(lambda x: x[:-1])\n",
        "data[\"movie_id\"].fillna(method =\"ffill\", inplace = True)\n",
        "data = data[data[\"rating\"].notna()]\n",
        "rating_df = pd.DataFrame(data,dtype=np.uint32).reset_index() #convert to int"
      ],
      "id": "2WGsPS97-rjb"
    },
    {
      "cell_type": "code",
      "execution_count": null,
      "metadata": {
        "id": "gtBrAcrT2qRC"
      },
      "outputs": [],
      "source": [
        "netflix_df=rating_df"
      ],
      "id": "gtBrAcrT2qRC"
    },
    {
      "cell_type": "code",
      "execution_count": null,
      "metadata": {
        "id": "5wJcGiui2rBD"
      },
      "outputs": [],
      "source": [
        "netflix_df.rename(columns = {str(\"movie_id\"):\"itemID\"}, inplace = True)\n",
        "netflix_df.rename(columns = {str(\"customer_id\"):\"userID\"}, inplace = True)\n",
        "netflix_df.rename(columns = {str(\"rating\"):\"rating\"}, inplace = True)"
      ],
      "id": "5wJcGiui2rBD"
    },
    {
      "cell_type": "markdown",
      "metadata": {
        "id": "huQ2WGvB5wYS"
      },
      "source": [
        "Amazon"
      ],
      "id": "huQ2WGvB5wYS"
    },
    {
      "cell_type": "code",
      "execution_count": null,
      "metadata": {
        "colab": {
          "base_uri": "https://localhost:8080/"
        },
        "id": "043QLPG0z6m8",
        "outputId": "cf36e9bb-6669-4bdb-9547-92c132d6c17c"
      },
      "outputs": [
        {
          "output_type": "stream",
          "name": "stdout",
          "text": [
            "Downloading...\n",
            "From: https://drive.google.com/uc?id=1dFuCcqIO0_vQcNg_47Ondz3akBG1ojzb\n",
            "To: /content/ratings_Electronics.csv\n",
            "100% 319M/319M [00:00<00:00, 346MB/s]\n"
          ]
        }
      ],
      "source": [
        "!gdown https://drive.google.com/uc?id=1dFuCcqIO0_vQcNg_47Ondz3akBG1ojzb"
      ],
      "id": "043QLPG0z6m8"
    },
    {
      "cell_type": "code",
      "execution_count": null,
      "metadata": {
        "colab": {
          "base_uri": "https://localhost:8080/"
        },
        "id": "b5ed96c4",
        "outputId": "3ef603e4-2770-43c5-9214-4f316aeaa016"
      },
      "outputs": [
        {
          "output_type": "execute_result",
          "data": {
            "text/plain": [
              "(85488, 4)"
            ]
          },
          "metadata": {},
          "execution_count": 24
        }
      ],
      "source": [
        "rating_df =pd.read_csv('ratings_Electronics.csv',  names=['userID','itemID','rating','time'])\n",
        "rating_df=rating_df[['userID','itemID','rating','time']]\n",
        "\n",
        "x = rating_df.groupby('itemID').count()['rating'] >= 30\n",
        "itemIndex = x[x].index\n",
        "nm_rating_df=rating_df[rating_df['itemID'].isin(itemIndex)]\n",
        "y = nm_rating_df.groupby('userID').count()['rating']>=40\n",
        "users = y[y].index\n",
        "rating_df = nm_rating_df[nm_rating_df['userID'].isin(users)]\n",
        "amazon_df=rating_df\n",
        "amazon_df.shape"
      ],
      "id": "b5ed96c4"
    },
    {
      "cell_type": "code",
      "execution_count": null,
      "metadata": {
        "id": "LpnvsLU_U-7O"
      },
      "outputs": [],
      "source": [
        "summary_df=pd.DataFrame(columns=['Dataset','Algorithm','Sparsity','Recall@K','Precision@k'])"
      ],
      "id": "LpnvsLU_U-7O"
    },
    {
      "cell_type": "code",
      "execution_count": null,
      "metadata": {
        "id": "48b485cd"
      },
      "outputs": [],
      "source": [
        "userID=\"userID\"\n",
        "itemID=\"itemID\"\n",
        "score=\"rating\"\n",
        "timestamp=None"
      ],
      "id": "48b485cd"
    },
    {
      "cell_type": "markdown",
      "metadata": {
        "id": "3enVbN86POhO"
      },
      "source": [
        "# Sparsity "
      ],
      "id": "3enVbN86POhO"
    },
    {
      "cell_type": "code",
      "execution_count": null,
      "metadata": {
        "id": "ursU6gQQThqI"
      },
      "outputs": [],
      "source": [
        "# y = book_df.groupby('userID').count()['rating']>=30\n",
        "# books = y[y].index\n",
        "# book_df = book_df[book_df['userID'].isin(books)]\n",
        "# y = book_df.groupby('itemID').count()['rating']>=40\n",
        "# books = y[y].index\n",
        "# book_df = book_df[book_df['itemID'].isin(books)]\n",
        "# book_df.shape"
      ],
      "id": "ursU6gQQThqI"
    },
    {
      "cell_type": "code",
      "source": [
        "\n",
        "subsample_rating_df=None\n",
        "#take 20% of the data as subsample\n",
        "main_df=book_df.copy()\n",
        "rating_df=book_df.copy()\n",
        "avg_main_df = main_df.groupby('userID').count()['rating'].reset_index()\n",
        "avg_main_df.rename(columns={'rating':'counts'},inplace=True)\n",
        "avg_main_df.sort_values(by='counts',ascending=False)\n",
        "shape=avg_main_df.shape[0]\n",
        "numbersofuserssubsampled=shape\n",
        "\n",
        "avg_main_df=avg_main_df.head(5000)\n",
        "listusers=list(avg_main_df.userID.unique())\n",
        "subsample_rating_df=rating_df[rating_df.userID.isin(listusers)]\n",
        "avg_main_df = subsample_rating_df.groupby('itemID').count()['rating'].reset_index()\n",
        "avg_main_df.rename(columns={'rating':'counts'},inplace=True)\n",
        "avg_main_df.sort_values(by='counts',ascending=False)\n",
        "\n",
        "shape=avg_main_df.shape[0]\n",
        "numbersofitemssubsampled=shape\n",
        "# if shape>LIMITUSERITEMS:\n",
        "#   frac=LIMITUSERITEMS/shape\n",
        "#   numbersofitemssubsampled=int(shape*frac)\n",
        "  \n",
        "avg_main_df=avg_main_df.head(35000)\n",
        "listitems=list(avg_main_df.itemID.unique())\n",
        "\n",
        "\n",
        "subsample_rating_df=subsample_rating_df[rating_df.itemID.isin(listitems)]"
      ],
      "metadata": {
        "id": "sO-n3ckqYeBP"
      },
      "id": "sO-n3ckqYeBP",
      "execution_count": null,
      "outputs": []
    },
    {
      "cell_type": "code",
      "source": [
        "book_df=subsample_rating_df"
      ],
      "metadata": {
        "id": "chJ77UgbYzMv"
      },
      "id": "chJ77UgbYzMv",
      "execution_count": null,
      "outputs": []
    },
    {
      "cell_type": "code",
      "execution_count": null,
      "metadata": {
        "colab": {
          "base_uri": "https://localhost:8080/"
        },
        "id": "QFviSc9Z4Hv8",
        "outputId": "76d12c48-84ce-4830-e43d-34953579b2d4"
      },
      "outputs": [
        {
          "output_type": "execute_result",
          "data": {
            "text/plain": [
              "(70944, 5)"
            ]
          },
          "metadata": {},
          "execution_count": 30
        }
      ],
      "source": [
        "food_df=food_df[food_df['rating']>2]\n",
        "y = food_df.groupby('itemID').count()['rating']>=210\n",
        "foods = y[y].index\n",
        "food_df = food_df[food_df['itemID'].isin(foods)]\n",
        "food_df.shape"
      ],
      "id": "QFviSc9Z4Hv8"
    },
    {
      "cell_type": "code",
      "execution_count": null,
      "metadata": {
        "colab": {
          "base_uri": "https://localhost:8080/"
        },
        "id": "2B0_xqnU4h86",
        "outputId": "7f84aa2b-f1c5-4cf8-c8a3-aea7927040c0"
      },
      "outputs": [
        {
          "output_type": "execute_result",
          "data": {
            "text/plain": [
              "(63790, 4)"
            ]
          },
          "metadata": {},
          "execution_count": 31
        }
      ],
      "source": [
        "\n",
        "y = netflix_df.groupby('userID').count()['rating']>=1500\n",
        "ids = y[y].index\n",
        "netflix_df = netflix_df[netflix_df['userID'].isin(ids)]\n",
        "netflix_df.shape"
      ],
      "id": "2B0_xqnU4h86"
    },
    {
      "cell_type": "code",
      "execution_count": null,
      "metadata": {
        "id": "89631a6b"
      },
      "outputs": [],
      "source": [
        "from scipy.sparse import csr_matrix\n",
        "def checkSparsity(main_df):\n",
        "   \n",
        "    # pivot_df = main_df.pivot_table(\n",
        "    #     index='itemID',\n",
        "    #     columns='userID',\n",
        "    #     values='rating'\n",
        "    # )\n",
        "    totalUsers=main_df.userID.unique().shape[0]\n",
        "    totalitems= main_df.itemID.unique().shape[0]\n",
        "    total=totalUsers*totalitems\n",
        "    totalreconds=main_df.shape[0]\n",
        "    sparsity=(total-totalreconds)/total\n",
        "    return sparsity"
      ],
      "id": "89631a6b"
    },
    {
      "cell_type": "code",
      "execution_count": null,
      "metadata": {
        "colab": {
          "base_uri": "https://localhost:8080/"
        },
        "id": "22fa40e5",
        "outputId": "1d65030f-7d0f-4993-defb-e07199dbe8de"
      },
      "outputs": [
        {
          "output_type": "execute_result",
          "data": {
            "text/plain": [
              "0.49305423103820967"
            ]
          },
          "metadata": {},
          "execution_count": 33
        }
      ],
      "source": [
        "\n",
        "sparsity_netflix=checkSparsity(netflix_df)\n",
        "sparsity_netflix"
      ],
      "id": "22fa40e5"
    },
    {
      "cell_type": "code",
      "execution_count": null,
      "metadata": {
        "colab": {
          "base_uri": "https://localhost:8080/"
        },
        "id": "08dPB9SMAgIF",
        "outputId": "2297317d-adbf-442d-d97b-41ad7605e946"
      },
      "outputs": [
        {
          "output_type": "execute_result",
          "data": {
            "text/plain": [
              "0.9887370560445132"
            ]
          },
          "metadata": {},
          "execution_count": 34
        }
      ],
      "source": [
        "\n",
        "sparsity_food=checkSparsity(food_df)\n",
        "sparsity_food"
      ],
      "id": "08dPB9SMAgIF"
    },
    {
      "cell_type": "code",
      "execution_count": null,
      "metadata": {
        "colab": {
          "base_uri": "https://localhost:8080/"
        },
        "id": "V1UVBknrBFUR",
        "outputId": "eb73a3ac-9a34-4224-ef92-3cb4ab8e593d"
      },
      "outputs": [
        {
          "output_type": "execute_result",
          "data": {
            "text/plain": [
              "0.9996609359949513"
            ]
          },
          "metadata": {},
          "execution_count": 35
        }
      ],
      "source": [
        "\n",
        "sparsity_book=checkSparsity(book_df)\n",
        "sparsity_book"
      ],
      "id": "V1UVBknrBFUR"
    },
    {
      "cell_type": "code",
      "execution_count": null,
      "metadata": {
        "colab": {
          "base_uri": "https://localhost:8080/"
        },
        "id": "0d2ZD2kgN0nC",
        "outputId": "d5c57274-f668-4495-f394-a5fbc1d3694e"
      },
      "outputs": [
        {
          "output_type": "execute_result",
          "data": {
            "text/plain": [
              "0.9970255538700314"
            ]
          },
          "metadata": {},
          "execution_count": 36
        }
      ],
      "source": [
        "\n",
        "sparsity_amazon=checkSparsity(amazon_df)\n",
        "sparsity_amazon"
      ],
      "id": "0d2ZD2kgN0nC"
    },
    {
      "cell_type": "code",
      "execution_count": null,
      "metadata": {
        "colab": {
          "base_uri": "https://localhost:8080/"
        },
        "id": "zBbAUd5UBJcn",
        "outputId": "97a15528-24d1-4047-b174-8c3639e3bcd8"
      },
      "outputs": [
        {
          "output_type": "execute_result",
          "data": {
            "text/plain": [
              "0.9369533063577546"
            ]
          },
          "metadata": {},
          "execution_count": 37
        }
      ],
      "source": [
        "\n",
        "sparsity_movielens=checkSparsity(movie_10k_df)\n",
        "sparsity_movielens"
      ],
      "id": "zBbAUd5UBJcn"
    },
    {
      "cell_type": "code",
      "execution_count": null,
      "metadata": {
        "id": "9d7c4d9a"
      },
      "outputs": [],
      "source": [
        "unique_users = movie_10k_df.userID.unique()\n",
        "user_ids = dict(zip(unique_users, np.arange(unique_users.shape[0], dtype=np.int32)))\n",
        "num_users=len(unique_users)\n",
        "unique_items = movie_10k_df.itemID.unique()\n",
        "item_ids = dict(zip(unique_items, np.arange(unique_items.shape[0], dtype=np.int32)))\n",
        "num_items=len(unique_items)\n"
      ],
      "id": "9d7c4d9a"
    },
    {
      "cell_type": "markdown",
      "metadata": {
        "id": "SIyREpU8Q_dk"
      },
      "source": [
        "<!-- Observations :\n",
        "1. Very sparse dataset sparsity 0.98\n",
        "2. Many items and users in the dataset has less interaction data -->"
      ],
      "id": "SIyREpU8Q_dk"
    },
    {
      "cell_type": "markdown",
      "metadata": {
        "id": "0vudkPURPTki"
      },
      "source": [
        "<!-- ### Divide dataset based on following:\n",
        "- All users rated very few items - will use contant based filtering method.To get threshold value for filtering we first find median of number of rating given by each users.Next choose value less then that median value such that we decrese sparsity as much as possible(less then .95)\n",
        "- For other data we will go with collaborative filtering or other deep learning methods -->"
      ],
      "id": "0vudkPURPTki"
    },
    {
      "cell_type": "code",
      "execution_count": null,
      "metadata": {
        "id": "mmKRe1VsBXB8"
      },
      "outputs": [],
      "source": [
        "!pip install recommenders\n"
      ],
      "id": "mmKRe1VsBXB8"
    },
    {
      "cell_type": "markdown",
      "metadata": {
        "id": "zYyOauXtFRCV"
      },
      "source": [
        "# Movielens dataset"
      ],
      "id": "zYyOauXtFRCV"
    },
    {
      "cell_type": "code",
      "execution_count": null,
      "metadata": {
        "id": "Mxj2Gy8wB6ks"
      },
      "outputs": [],
      "source": [
        "from recommenders.datasets.python_splitters import python_stratified_split\n",
        "from recommenders.evaluation.python_evaluation import map_at_k, ndcg_at_k, precision_at_k, recall_at_k"
      ],
      "id": "Mxj2Gy8wB6ks"
    },
    {
      "cell_type": "code",
      "execution_count": null,
      "metadata": {
        "id": "0fV_bpzpCnC-"
      },
      "outputs": [],
      "source": [
        "rating_df=movie_10k_df.copy()\n",
        "\n",
        "train_df,test_df=python_stratified_split(movie_10k_df,ratio=0.75)"
      ],
      "id": "0fV_bpzpCnC-"
    },
    {
      "cell_type": "code",
      "execution_count": null,
      "metadata": {
        "id": "caf62252"
      },
      "outputs": [],
      "source": [
        "# final_ratings=rating_df.sort_values(by=['userId','date','rating'], ascending=[False,False,False]) \n",
        "# test_df=final_ratings.groupby('userId').head(30)\n",
        "# train_df=final_ratings[~final_ratings.isin(test_df).all(1)]\n",
        "product_ids = list(set(list(rating_df.itemID.unique())))\n",
        "user_ids = list(set(list(rating_df.userID.unique())))\n",
        "dict_products = {}\n",
        "index = 0\n",
        "for ids in sorted(product_ids):\n",
        "    dict_products[ids] = index\n",
        "    index += 1\n",
        "dict_users = {}\n",
        "index = 0\n",
        "for ids in sorted(user_ids):\n",
        "    dict_users[ids] = index\n",
        "    index += 1\n",
        "train_df[\"itemID\"] = train_df[\"itemID\"].map(dict_products)\n",
        "train_df[\"userID\"] = train_df[\"userID\"].map(dict_users)\n",
        "test_df[\"itemID\"] = test_df[\"itemID\"].map(dict_products)\n",
        "test_df[\"userID\"] = test_df[\"userID\"].map(dict_users)\n",
        "for col in [\"userID\", \"itemID\", \"rating\"]:\n",
        "    train_df[col] = train_df[col].astype(np.float32)\n",
        "    test_df[col] = test_df[col].astype(np.float32)\n",
        "num_unique_users=len(set(list(rating_df.userID.unique()) ))\n",
        "num_unique_products=len(set(list(rating_df.itemID.unique())))"
      ],
      "id": "caf62252"
    },
    {
      "cell_type": "code",
      "execution_count": null,
      "metadata": {
        "id": "6b8db2c5"
      },
      "outputs": [],
      "source": [
        "import tensorflow as tf\n",
        "from tensorflow.keras import Model\n",
        "from tensorflow.keras import optimizers as opt\n",
        "from tensorflow.keras import regularizers as rgl\n",
        "from tensorflow.keras.layers import Embedding, multiply, concatenate, Flatten, Input, Dense, Dropout"
      ],
      "id": "6b8db2c5"
    },
    {
      "cell_type": "code",
      "execution_count": null,
      "metadata": {
        "id": "9bcd6452"
      },
      "outputs": [],
      "source": [
        "dropout_rate=0.05\n",
        "dense_1=512\n",
        "dense_2=128\n",
        "dense_3=128\n",
        "\n",
        "activation_func=\"tanh\"\n",
        "regularizer=rgl.l2(0.0001)#l2 regularization\n",
        "max_rating=5\n",
        "min_rating=0\n",
        "EMBEDDING_SIZE=64\n",
        "users_input = Input(shape=(1,), name=\"user_input\")\n",
        "users_embedding = Embedding(num_unique_users + 1, EMBEDDING_SIZE, embeddings_regularizer=regularizer, name=\"user_embeddings\")(users_input)\n",
        "users_bias = Embedding(num_unique_users + 1, 1, embeddings_regularizer=regularizer, name=\"user_bias\")(users_input)\n",
        "\n",
        "product_input = Input(shape=(1,), name=\"product_input\")\n",
        "product_embedding = Embedding(num_unique_products + 1, EMBEDDING_SIZE, embeddings_regularizer=regularizer, name=\"product_embedding\")(product_input)\n",
        "product_bias = Embedding(num_unique_products + 1, 1, embeddings_regularizer=regularizer, name=\"product_bias\")(product_input)\n",
        "\n",
        "dot_product_users_product = multiply([users_embedding, product_embedding])\n",
        "\n",
        "input_terms = concatenate([dot_product_users_product, users_bias, product_bias])\n",
        "\n",
        "input_terms = Flatten(name=\"fl_inputs\")(input_terms)\n",
        "\n",
        "output = Dense(dense_1, activation=activation_func, name=\"dense_0\")(input_terms)\n",
        "\n",
        "output = Dropout(dropout_rate)(output)\n",
        "\n",
        "output = Dense(dense_2, activation=activation_func, name=\"dense_1\")(output)\n",
        "\n",
        "output = Dropout(dropout_rate)(output)\n",
        "\n",
        "output = Dense(dense_3, activation=activation_func, name=\"dense_2\")(output)\n",
        "\n",
        "output = Dropout(dropout_rate)(output)\n",
        "\n",
        "output = Dense(1, activation=\"relu\", name=\"output\")(output) * (max_rating - min_rating) + min_rating"
      ],
      "id": "9bcd6452"
    },
    {
      "cell_type": "code",
      "execution_count": null,
      "metadata": {
        "colab": {
          "base_uri": "https://localhost:8080/"
        },
        "id": "ac7ba42c",
        "outputId": "4b5dc877-6349-4499-cfa1-f163821f3850"
      },
      "outputs": [
        {
          "name": "stdout",
          "output_type": "stream",
          "text": [
            "Epoch 1/100\n",
            "147/147 [==============================] - 4s 4ms/step - loss: 1.4424 - mean_absolute_error: 0.9501\n",
            "Epoch 2/100\n",
            "147/147 [==============================] - 1s 5ms/step - loss: 0.9942 - mean_absolute_error: 0.7935\n",
            "Epoch 3/100\n",
            "147/147 [==============================] - 1s 4ms/step - loss: 0.7453 - mean_absolute_error: 0.6766\n",
            "Epoch 4/100\n",
            "147/147 [==============================] - 1s 5ms/step - loss: 0.5244 - mean_absolute_error: 0.5602\n",
            "Epoch 5/100\n",
            "147/147 [==============================] - 1s 4ms/step - loss: 0.3972 - mean_absolute_error: 0.4830\n",
            "Epoch 6/100\n",
            "147/147 [==============================] - 1s 4ms/step - loss: 0.3182 - mean_absolute_error: 0.4282\n",
            "Epoch 7/100\n",
            "147/147 [==============================] - 1s 5ms/step - loss: 0.2675 - mean_absolute_error: 0.3887\n",
            "Epoch 8/100\n",
            "147/147 [==============================] - 1s 4ms/step - loss: 0.2324 - mean_absolute_error: 0.3592\n",
            "Epoch 9/100\n",
            "147/147 [==============================] - 1s 5ms/step - loss: 0.2068 - mean_absolute_error: 0.3365\n",
            "Epoch 10/100\n",
            "147/147 [==============================] - 1s 6ms/step - loss: 0.1913 - mean_absolute_error: 0.3201\n",
            "Epoch 11/100\n",
            "147/147 [==============================] - 1s 6ms/step - loss: 0.1782 - mean_absolute_error: 0.3087\n",
            "Epoch 12/100\n",
            "147/147 [==============================] - 1s 6ms/step - loss: 0.1685 - mean_absolute_error: 0.2980\n",
            "Epoch 13/100\n",
            "147/147 [==============================] - 1s 6ms/step - loss: 0.1587 - mean_absolute_error: 0.2874\n",
            "Epoch 14/100\n",
            "147/147 [==============================] - 1s 6ms/step - loss: 0.1537 - mean_absolute_error: 0.2819\n",
            "Epoch 15/100\n",
            "147/147 [==============================] - 1s 6ms/step - loss: 0.1483 - mean_absolute_error: 0.2756\n",
            "Epoch 16/100\n",
            "147/147 [==============================] - 1s 6ms/step - loss: 0.1432 - mean_absolute_error: 0.2692\n",
            "Epoch 17/100\n",
            "147/147 [==============================] - 1s 6ms/step - loss: 0.1393 - mean_absolute_error: 0.2647\n",
            "Epoch 18/100\n",
            "147/147 [==============================] - 1s 5ms/step - loss: 0.1354 - mean_absolute_error: 0.2594\n",
            "Epoch 19/100\n",
            "147/147 [==============================] - 1s 4ms/step - loss: 0.1316 - mean_absolute_error: 0.2546\n",
            "Epoch 20/100\n",
            "147/147 [==============================] - 1s 4ms/step - loss: 0.1317 - mean_absolute_error: 0.2540\n",
            "Epoch 21/100\n",
            "147/147 [==============================] - 1s 4ms/step - loss: 0.1271 - mean_absolute_error: 0.2486\n",
            "Epoch 22/100\n",
            "147/147 [==============================] - 1s 4ms/step - loss: 0.1249 - mean_absolute_error: 0.2456\n",
            "Epoch 23/100\n",
            "147/147 [==============================] - 1s 4ms/step - loss: 0.1240 - mean_absolute_error: 0.2436\n",
            "Epoch 24/100\n",
            "147/147 [==============================] - 1s 4ms/step - loss: 0.1223 - mean_absolute_error: 0.2414\n",
            "Epoch 25/100\n",
            "147/147 [==============================] - 1s 4ms/step - loss: 0.1200 - mean_absolute_error: 0.2383\n",
            "Epoch 26/100\n",
            "147/147 [==============================] - 1s 4ms/step - loss: 0.1186 - mean_absolute_error: 0.2362\n",
            "Epoch 27/100\n",
            "147/147 [==============================] - 1s 4ms/step - loss: 0.1164 - mean_absolute_error: 0.2327\n",
            "Epoch 28/100\n",
            "147/147 [==============================] - 1s 4ms/step - loss: 0.1159 - mean_absolute_error: 0.2324\n",
            "Epoch 29/100\n",
            "147/147 [==============================] - 1s 4ms/step - loss: 0.1153 - mean_absolute_error: 0.2312\n",
            "Epoch 30/100\n",
            "147/147 [==============================] - 1s 5ms/step - loss: 0.1125 - mean_absolute_error: 0.2285\n",
            "Epoch 31/100\n",
            "147/147 [==============================] - 1s 4ms/step - loss: 0.1123 - mean_absolute_error: 0.2273\n",
            "Epoch 32/100\n",
            "147/147 [==============================] - 1s 4ms/step - loss: 0.1115 - mean_absolute_error: 0.2256\n",
            "Epoch 33/100\n",
            "147/147 [==============================] - 1s 4ms/step - loss: 0.1094 - mean_absolute_error: 0.2233\n",
            "Epoch 34/100\n",
            "147/147 [==============================] - 1s 4ms/step - loss: 0.1097 - mean_absolute_error: 0.2232\n",
            "Epoch 35/100\n",
            "147/147 [==============================] - 1s 4ms/step - loss: 0.1086 - mean_absolute_error: 0.2215\n",
            "Epoch 36/100\n",
            "147/147 [==============================] - 1s 4ms/step - loss: 0.1079 - mean_absolute_error: 0.2207\n",
            "Epoch 37/100\n",
            "147/147 [==============================] - 1s 4ms/step - loss: 0.1078 - mean_absolute_error: 0.2205\n",
            "Epoch 38/100\n",
            "147/147 [==============================] - 1s 4ms/step - loss: 0.1062 - mean_absolute_error: 0.2182\n",
            "Epoch 39/100\n",
            "147/147 [==============================] - 1s 4ms/step - loss: 0.1052 - mean_absolute_error: 0.2170\n",
            "Epoch 40/100\n",
            "147/147 [==============================] - 1s 4ms/step - loss: 0.1054 - mean_absolute_error: 0.2173\n",
            "Epoch 41/100\n",
            "147/147 [==============================] - 1s 4ms/step - loss: 0.1048 - mean_absolute_error: 0.2165\n",
            "Epoch 42/100\n",
            "147/147 [==============================] - 1s 4ms/step - loss: 0.1045 - mean_absolute_error: 0.2156\n",
            "Epoch 43/100\n",
            "147/147 [==============================] - 1s 4ms/step - loss: 0.1029 - mean_absolute_error: 0.2131\n",
            "Epoch 44/100\n",
            "147/147 [==============================] - 1s 4ms/step - loss: 0.1036 - mean_absolute_error: 0.2138\n",
            "Epoch 45/100\n",
            "147/147 [==============================] - 1s 4ms/step - loss: 0.1026 - mean_absolute_error: 0.2127\n",
            "Epoch 46/100\n",
            "147/147 [==============================] - 1s 4ms/step - loss: 0.1016 - mean_absolute_error: 0.2112\n",
            "Epoch 47/100\n",
            "147/147 [==============================] - 1s 4ms/step - loss: 0.1005 - mean_absolute_error: 0.2102\n",
            "Epoch 48/100\n",
            "147/147 [==============================] - 1s 4ms/step - loss: 0.1008 - mean_absolute_error: 0.2110\n",
            "Epoch 49/100\n",
            "147/147 [==============================] - 1s 4ms/step - loss: 0.1000 - mean_absolute_error: 0.2092\n",
            "Epoch 50/100\n",
            "147/147 [==============================] - 1s 4ms/step - loss: 0.0993 - mean_absolute_error: 0.2080\n",
            "Epoch 51/100\n",
            "147/147 [==============================] - 1s 4ms/step - loss: 0.0985 - mean_absolute_error: 0.2068\n",
            "Epoch 52/100\n",
            "147/147 [==============================] - 1s 4ms/step - loss: 0.0990 - mean_absolute_error: 0.2076\n",
            "Epoch 53/100\n",
            "147/147 [==============================] - 1s 4ms/step - loss: 0.0987 - mean_absolute_error: 0.2068\n",
            "Epoch 54/100\n",
            "147/147 [==============================] - 1s 4ms/step - loss: 0.0977 - mean_absolute_error: 0.2062\n",
            "Epoch 55/100\n",
            "147/147 [==============================] - 1s 4ms/step - loss: 0.0976 - mean_absolute_error: 0.2058\n",
            "Epoch 56/100\n",
            "147/147 [==============================] - 1s 4ms/step - loss: 0.0973 - mean_absolute_error: 0.2048\n",
            "Epoch 57/100\n",
            "147/147 [==============================] - 1s 4ms/step - loss: 0.0973 - mean_absolute_error: 0.2047\n",
            "Epoch 58/100\n",
            "147/147 [==============================] - 1s 4ms/step - loss: 0.0960 - mean_absolute_error: 0.2038\n",
            "Epoch 59/100\n",
            "147/147 [==============================] - 1s 4ms/step - loss: 0.0964 - mean_absolute_error: 0.2041\n",
            "Epoch 60/100\n",
            "147/147 [==============================] - 1s 4ms/step - loss: 0.0954 - mean_absolute_error: 0.2022\n",
            "Epoch 61/100\n",
            "147/147 [==============================] - 1s 4ms/step - loss: 0.0959 - mean_absolute_error: 0.2029\n",
            "Epoch 62/100\n",
            "147/147 [==============================] - 1s 5ms/step - loss: 0.0948 - mean_absolute_error: 0.2014\n",
            "Epoch 63/100\n",
            "147/147 [==============================] - 1s 4ms/step - loss: 0.0948 - mean_absolute_error: 0.2012\n",
            "Epoch 64/100\n",
            "147/147 [==============================] - 1s 4ms/step - loss: 0.0947 - mean_absolute_error: 0.2014\n",
            "Epoch 65/100\n",
            "147/147 [==============================] - 1s 4ms/step - loss: 0.0928 - mean_absolute_error: 0.1985\n",
            "Epoch 66/100\n",
            "147/147 [==============================] - 1s 4ms/step - loss: 0.0939 - mean_absolute_error: 0.2001\n",
            "Epoch 67/100\n",
            "147/147 [==============================] - 1s 4ms/step - loss: 0.0937 - mean_absolute_error: 0.2002\n",
            "Epoch 68/100\n",
            "147/147 [==============================] - 1s 4ms/step - loss: 0.0930 - mean_absolute_error: 0.1990\n"
          ]
        },
        {
          "data": {
            "text/plain": [
              "<keras.callbacks.History at 0x7f283fb44110>"
            ]
          },
          "execution_count": 43,
          "metadata": {},
          "output_type": "execute_result"
        }
      ],
      "source": [
        "model = Model(inputs=[users_input, product_input], outputs=output)\n",
        "opt_adam = opt.RMSprop(lr = 0.001)\n",
        "model.compile(optimizer=opt_adam, loss= ['mse'], metrics=['mean_absolute_error'])\n",
        "callback = tf.keras.callbacks.EarlyStopping(monitor='loss', patience=3,restore_best_weights=True)\n",
        "model.fit(x=[train_df.userID, train_df.itemID], y=train_df.rating, batch_size=512, epochs=100, verbose=1 ,callbacks=[callback])"
      ],
      "id": "ac7ba42c"
    },
    {
      "cell_type": "code",
      "execution_count": null,
      "metadata": {
        "colab": {
          "base_uri": "https://localhost:8080/"
        },
        "id": "295bd28d",
        "outputId": "4e6a8810-925a-44e4-cced-1dd384fda753"
      },
      "outputs": [
        {
          "name": "stdout",
          "output_type": "stream",
          "text": [
            "782/782 [==============================] - 1s 2ms/step\n",
            "782/782 [==============================] - 2s 2ms/step - loss: 1.7589 - mean_absolute_error: 1.0320\n",
            "782/782 [==============================] - 1s 2ms/step\n"
          ]
        }
      ],
      "source": [
        "model.predict([test_df.userID, test_df.itemID])\n",
        "model.evaluate([test_df.userID, test_df.itemID], test_df.rating)\n",
        "result=model.predict([test_df.userID, test_df.itemID])\n",
        "uniqueproducts=train_df.itemID.unique()\n",
        "userlist=list(train_df.userID.unique())\n",
        "test_df=test_df[test_df['userID'].isin(userlist)]\n"
      ],
      "id": "295bd28d"
    },
    {
      "cell_type": "code",
      "execution_count": null,
      "metadata": {
        "colab": {
          "base_uri": "https://localhost:8080/"
        },
        "id": "8948c302",
        "outputId": "b1beddcd-f14d-4aa4-8c54-237344d1af64"
      },
      "outputs": [
        {
          "name": "stdout",
          "output_type": "stream",
          "text": [
            "48594/48594 [==============================] - 81s 2ms/step\n"
          ]
        }
      ],
      "source": [
        "import itertools\n",
        "result=pd.DataFrame(list(itertools.product(userlist,uniqueproducts)))\n",
        "result.columns =['userID', 'itemID']\n",
        "tmp_train=train_df[['userID','itemID']]\n",
        "result=result[~result.isin(tmp_train).all(1)]\n",
        "\n",
        "predictions=model.predict([result.userID, result.itemID])\n",
        "predictions=list(predictions)\n",
        "\n",
        "ratings=[]\n",
        "\n",
        "for e in predictions:\n",
        " ratings.append(e[0])\n",
        "result['prediction']=ratings\n",
        "result=result.sort_values(['userID','prediction'], ascending=[True,False])"
      ],
      "id": "8948c302"
    },
    {
      "cell_type": "code",
      "execution_count": null,
      "metadata": {
        "colab": {
          "base_uri": "https://localhost:8080/",
          "height": 81
        },
        "id": "7dsFr1J3EZKl",
        "outputId": "65de58fe-bfe9-48aa-c778-95d39fad9402"
      },
      "outputs": [
        {
          "data": {
            "text/html": [
              "\n",
              "  <div id=\"df-66ca8daf-d0e6-4a49-8294-3608fec41317\">\n",
              "    <div class=\"colab-df-container\">\n",
              "      <div>\n",
              "<style scoped>\n",
              "    .dataframe tbody tr th:only-of-type {\n",
              "        vertical-align: middle;\n",
              "    }\n",
              "\n",
              "    .dataframe tbody tr th {\n",
              "        vertical-align: top;\n",
              "    }\n",
              "\n",
              "    .dataframe thead th {\n",
              "        text-align: right;\n",
              "    }\n",
              "</style>\n",
              "<table border=\"1\" class=\"dataframe\">\n",
              "  <thead>\n",
              "    <tr style=\"text-align: right;\">\n",
              "      <th></th>\n",
              "      <th>Dataset</th>\n",
              "      <th>Algorithm</th>\n",
              "      <th>Sparsity</th>\n",
              "      <th>Recall@K</th>\n",
              "      <th>Precision@k</th>\n",
              "    </tr>\n",
              "  </thead>\n",
              "  <tbody>\n",
              "    <tr>\n",
              "      <th>0</th>\n",
              "      <td>MovieLens</td>\n",
              "      <td>DNN</td>\n",
              "      <td>0.936953</td>\n",
              "      <td>0.029076</td>\n",
              "      <td>0.084199</td>\n",
              "    </tr>\n",
              "  </tbody>\n",
              "</table>\n",
              "</div>\n",
              "      <button class=\"colab-df-convert\" onclick=\"convertToInteractive('df-66ca8daf-d0e6-4a49-8294-3608fec41317')\"\n",
              "              title=\"Convert this dataframe to an interactive table.\"\n",
              "              style=\"display:none;\">\n",
              "        \n",
              "  <svg xmlns=\"http://www.w3.org/2000/svg\" height=\"24px\"viewBox=\"0 0 24 24\"\n",
              "       width=\"24px\">\n",
              "    <path d=\"M0 0h24v24H0V0z\" fill=\"none\"/>\n",
              "    <path d=\"M18.56 5.44l.94 2.06.94-2.06 2.06-.94-2.06-.94-.94-2.06-.94 2.06-2.06.94zm-11 1L8.5 8.5l.94-2.06 2.06-.94-2.06-.94L8.5 2.5l-.94 2.06-2.06.94zm10 10l.94 2.06.94-2.06 2.06-.94-2.06-.94-.94-2.06-.94 2.06-2.06.94z\"/><path d=\"M17.41 7.96l-1.37-1.37c-.4-.4-.92-.59-1.43-.59-.52 0-1.04.2-1.43.59L10.3 9.45l-7.72 7.72c-.78.78-.78 2.05 0 2.83L4 21.41c.39.39.9.59 1.41.59.51 0 1.02-.2 1.41-.59l7.78-7.78 2.81-2.81c.8-.78.8-2.07 0-2.86zM5.41 20L4 18.59l7.72-7.72 1.47 1.35L5.41 20z\"/>\n",
              "  </svg>\n",
              "      </button>\n",
              "      \n",
              "  <style>\n",
              "    .colab-df-container {\n",
              "      display:flex;\n",
              "      flex-wrap:wrap;\n",
              "      gap: 12px;\n",
              "    }\n",
              "\n",
              "    .colab-df-convert {\n",
              "      background-color: #E8F0FE;\n",
              "      border: none;\n",
              "      border-radius: 50%;\n",
              "      cursor: pointer;\n",
              "      display: none;\n",
              "      fill: #1967D2;\n",
              "      height: 32px;\n",
              "      padding: 0 0 0 0;\n",
              "      width: 32px;\n",
              "    }\n",
              "\n",
              "    .colab-df-convert:hover {\n",
              "      background-color: #E2EBFA;\n",
              "      box-shadow: 0px 1px 2px rgba(60, 64, 67, 0.3), 0px 1px 3px 1px rgba(60, 64, 67, 0.15);\n",
              "      fill: #174EA6;\n",
              "    }\n",
              "\n",
              "    [theme=dark] .colab-df-convert {\n",
              "      background-color: #3B4455;\n",
              "      fill: #D2E3FC;\n",
              "    }\n",
              "\n",
              "    [theme=dark] .colab-df-convert:hover {\n",
              "      background-color: #434B5C;\n",
              "      box-shadow: 0px 1px 3px 1px rgba(0, 0, 0, 0.15);\n",
              "      filter: drop-shadow(0px 1px 2px rgba(0, 0, 0, 0.3));\n",
              "      fill: #FFFFFF;\n",
              "    }\n",
              "  </style>\n",
              "\n",
              "      <script>\n",
              "        const buttonEl =\n",
              "          document.querySelector('#df-66ca8daf-d0e6-4a49-8294-3608fec41317 button.colab-df-convert');\n",
              "        buttonEl.style.display =\n",
              "          google.colab.kernel.accessAllowed ? 'block' : 'none';\n",
              "\n",
              "        async function convertToInteractive(key) {\n",
              "          const element = document.querySelector('#df-66ca8daf-d0e6-4a49-8294-3608fec41317');\n",
              "          const dataTable =\n",
              "            await google.colab.kernel.invokeFunction('convertToInteractive',\n",
              "                                                     [key], {});\n",
              "          if (!dataTable) return;\n",
              "\n",
              "          const docLinkHtml = 'Like what you see? Visit the ' +\n",
              "            '<a target=\"_blank\" href=https://colab.research.google.com/notebooks/data_table.ipynb>data table notebook</a>'\n",
              "            + ' to learn more about interactive tables.';\n",
              "          element.innerHTML = '';\n",
              "          dataTable['output_type'] = 'display_data';\n",
              "          await google.colab.output.renderOutput(dataTable, element);\n",
              "          const docLink = document.createElement('div');\n",
              "          docLink.innerHTML = docLinkHtml;\n",
              "          element.appendChild(docLink);\n",
              "        }\n",
              "      </script>\n",
              "    </div>\n",
              "  </div>\n",
              "  "
            ],
            "text/plain": [
              "     Dataset Algorithm  Sparsity  Recall@K  Precision@k\n",
              "0  MovieLens       DNN  0.936953  0.029076     0.084199"
            ]
          },
          "execution_count": 46,
          "metadata": {},
          "output_type": "execute_result"
        }
      ],
      "source": [
        "result=result.groupby('userID').head(20)\n",
        "pres=precision_at_k(test_df, result, k=10)\n",
        "recall=recall_at_k(test_df, result, k=10)\n",
        "df2 = {'Dataset':\"MovieLens\",'Algorithm':\"DNN\",'Sparsity':sparsity_movielens,'Precision@k':pres,'Recall@K':recall}\n",
        "summary_df = summary_df.append(df2, ignore_index = True)\n",
        "summary_df"
      ],
      "id": "7dsFr1J3EZKl"
    },
    {
      "cell_type": "markdown",
      "metadata": {
        "id": "f3xxoXwZNaGu"
      },
      "source": [
        "# Food.com dataset"
      ],
      "id": "f3xxoXwZNaGu"
    },
    {
      "cell_type": "code",
      "execution_count": null,
      "metadata": {
        "id": "Dq5PvYAgNaGv"
      },
      "outputs": [],
      "source": [
        "from recommenders.datasets.python_splitters import python_stratified_split\n",
        "from recommenders.evaluation.python_evaluation import map_at_k, ndcg_at_k, precision_at_k, recall_at_k"
      ],
      "id": "Dq5PvYAgNaGv"
    },
    {
      "cell_type": "code",
      "execution_count": null,
      "metadata": {
        "id": "AMRNQqdkNaGv"
      },
      "outputs": [],
      "source": [
        "rating_df=food_df.copy()\n",
        "\n",
        "train_df,test_df=python_stratified_split(food_df,ratio=0.75)"
      ],
      "id": "AMRNQqdkNaGv"
    },
    {
      "cell_type": "code",
      "execution_count": null,
      "metadata": {
        "id": "1Lnh8ZzgNaGv"
      },
      "outputs": [],
      "source": [
        "# final_ratings=rating_df.sort_values(by=['userId','date','rating'], ascending=[False,False,False]) \n",
        "# test_df=final_ratings.groupby('userId').head(30)\n",
        "# train_df=final_ratings[~final_ratings.isin(test_df).all(1)]\n",
        "product_ids = list(set(list(rating_df.itemID.unique())))\n",
        "user_ids = list(set(list(rating_df.userID.unique())))\n",
        "dict_products = {}\n",
        "index = 0\n",
        "for ids in sorted(product_ids):\n",
        "    dict_products[ids] = index\n",
        "    index += 1\n",
        "dict_users = {}\n",
        "index = 0\n",
        "for ids in sorted(user_ids):\n",
        "    dict_users[ids] = index\n",
        "    index += 1\n",
        "train_df[\"itemID\"] = train_df[\"itemID\"].map(dict_products)\n",
        "train_df[\"userID\"] = train_df[\"userID\"].map(dict_users)\n",
        "test_df[\"itemID\"] = test_df[\"itemID\"].map(dict_products)\n",
        "test_df[\"userID\"] = test_df[\"userID\"].map(dict_users)\n",
        "for col in [\"userID\", \"itemID\", \"rating\"]:\n",
        "    train_df[col] = train_df[col].astype(np.float32)\n",
        "    test_df[col] = test_df[col].astype(np.float32)\n",
        "num_unique_users=len(set(list(rating_df.userID.unique()) ))\n",
        "num_unique_products=len(set(list(rating_df.itemID.unique())))"
      ],
      "id": "1Lnh8ZzgNaGv"
    },
    {
      "cell_type": "code",
      "execution_count": null,
      "metadata": {
        "id": "pnpBjNiSNaGv"
      },
      "outputs": [],
      "source": [
        "dropout_rate=0.05\n",
        "dense_1=512\n",
        "dense_2=128\n",
        "dense_3=128\n",
        "\n",
        "activation_func=\"relu\"\n",
        "regularizer=rgl.l2(0.0001)#l2 regularization\n",
        "max_rating=5\n",
        "min_rating=0\n",
        "EMBEDDING_SIZE=64\n",
        "users_input = Input(shape=(1,), name=\"user_input\")\n",
        "users_embedding = Embedding(num_unique_users + 1, EMBEDDING_SIZE, embeddings_regularizer=regularizer, name=\"user_embeddings\")(users_input)\n",
        "users_bias = Embedding(num_unique_users + 1, 1, embeddings_regularizer=regularizer, name=\"user_bias\")(users_input)\n",
        "\n",
        "product_input = Input(shape=(1,), name=\"product_input\")\n",
        "product_embedding = Embedding(num_unique_products + 1, EMBEDDING_SIZE, embeddings_regularizer=regularizer, name=\"product_embedding\")(product_input)\n",
        "product_bias = Embedding(num_unique_products + 1, 1, embeddings_regularizer=regularizer, name=\"product_bias\")(product_input)\n",
        "\n",
        "dot_product_users_product = multiply([users_embedding, product_embedding])\n",
        "\n",
        "input_terms = concatenate([dot_product_users_product, users_bias, product_bias])\n",
        "\n",
        "input_terms = Flatten(name=\"fl_inputs\")(input_terms)\n",
        "\n",
        "output = Dense(dense_1, activation=activation_func, name=\"dense_0\")(input_terms)\n",
        "\n",
        "output = Dropout(dropout_rate)(output)\n",
        "\n",
        "output = Dense(dense_2, activation=activation_func, name=\"dense_1\")(output)\n",
        "\n",
        "output = Dropout(dropout_rate)(output)\n",
        "\n",
        "output = Dense(dense_3, activation=activation_func, name=\"dense_2\")(output)\n",
        "\n",
        "output = Dropout(dropout_rate)(output)\n",
        "\n",
        "output = Dense(1, activation=\"relu\", name=\"output\")(output) * (max_rating - min_rating) + min_rating"
      ],
      "id": "pnpBjNiSNaGv"
    },
    {
      "cell_type": "code",
      "execution_count": null,
      "metadata": {
        "id": "Jv00jQ-9NaGv"
      },
      "outputs": [],
      "source": [
        "model = Model(inputs=[users_input, product_input], outputs=output)\n",
        "opt_adam = opt.RMSprop(lr = 0.001)\n",
        "model.compile(optimizer=opt_adam, loss= ['mse'], metrics=['mean_absolute_error'])"
      ],
      "id": "Jv00jQ-9NaGv"
    },
    {
      "cell_type": "code",
      "execution_count": null,
      "metadata": {
        "colab": {
          "base_uri": "https://localhost:8080/"
        },
        "id": "pGKKp3pFNaGw",
        "outputId": "77bed04e-536f-49e1-fcf4-799dc690f8b6"
      },
      "outputs": [
        {
          "name": "stdout",
          "output_type": "stream",
          "text": [
            "Epoch 1/100\n",
            "120/120 [==============================] - 2s 5ms/step - loss: 1.0105 - mean_absolute_error: 0.6340\n",
            "Epoch 2/100\n",
            "120/120 [==============================] - 1s 5ms/step - loss: 0.3875 - mean_absolute_error: 0.4826\n",
            "Epoch 3/100\n",
            "120/120 [==============================] - 1s 5ms/step - loss: 0.3386 - mean_absolute_error: 0.4483\n",
            "Epoch 4/100\n",
            "120/120 [==============================] - 1s 5ms/step - loss: 0.2803 - mean_absolute_error: 0.4055\n",
            "Epoch 5/100\n",
            "120/120 [==============================] - 1s 5ms/step - loss: 0.2356 - mean_absolute_error: 0.3709\n",
            "Epoch 6/100\n",
            "120/120 [==============================] - 1s 5ms/step - loss: 0.2024 - mean_absolute_error: 0.3410\n",
            "Epoch 7/100\n",
            "120/120 [==============================] - 1s 5ms/step - loss: 0.1731 - mean_absolute_error: 0.3107\n",
            "Epoch 8/100\n",
            "120/120 [==============================] - 1s 5ms/step - loss: 0.1512 - mean_absolute_error: 0.2831\n",
            "Epoch 9/100\n",
            "120/120 [==============================] - 1s 5ms/step - loss: 0.1337 - mean_absolute_error: 0.2573\n",
            "Epoch 10/100\n",
            "120/120 [==============================] - 1s 5ms/step - loss: 0.1223 - mean_absolute_error: 0.2407\n",
            "Epoch 11/100\n",
            "120/120 [==============================] - 1s 5ms/step - loss: 0.1171 - mean_absolute_error: 0.2310\n",
            "Epoch 12/100\n",
            "120/120 [==============================] - 1s 5ms/step - loss: 0.1173 - mean_absolute_error: 0.2285\n",
            "Epoch 13/100\n",
            "120/120 [==============================] - 1s 5ms/step - loss: 0.1166 - mean_absolute_error: 0.2263\n",
            "Epoch 14/100\n",
            "120/120 [==============================] - 1s 5ms/step - loss: 0.1158 - mean_absolute_error: 0.2222\n",
            "Epoch 15/100\n",
            "120/120 [==============================] - 1s 5ms/step - loss: 0.1138 - mean_absolute_error: 0.2197\n",
            "Epoch 16/100\n",
            "120/120 [==============================] - 1s 5ms/step - loss: 0.1150 - mean_absolute_error: 0.2198\n",
            "Epoch 17/100\n",
            "120/120 [==============================] - 1s 5ms/step - loss: 0.1153 - mean_absolute_error: 0.2182\n",
            "Epoch 18/100\n",
            "120/120 [==============================] - 1s 5ms/step - loss: 0.1157 - mean_absolute_error: 0.2167\n"
          ]
        },
        {
          "data": {
            "text/plain": [
              "<keras.callbacks.History at 0x7f284de6f510>"
            ]
          },
          "execution_count": 52,
          "metadata": {},
          "output_type": "execute_result"
        }
      ],
      "source": [
        "callback = tf.keras.callbacks.EarlyStopping(monitor='loss', patience=3,restore_best_weights=True)\n",
        "model.fit(x=[train_df.userID, train_df.itemID], y=train_df.rating, batch_size=512, epochs=100, verbose=1 ,callbacks=[callback])"
      ],
      "id": "pGKKp3pFNaGw"
    },
    {
      "cell_type": "code",
      "execution_count": null,
      "metadata": {
        "colab": {
          "base_uri": "https://localhost:8080/"
        },
        "id": "VbGuCHBHNaGw",
        "outputId": "d1519e53-6bea-43c4-f6ea-23d65c45de4b"
      },
      "outputs": [
        {
          "name": "stdout",
          "output_type": "stream",
          "text": [
            "309/309 [==============================] - 1s 2ms/step\n",
            "309/309 [==============================] - 1s 2ms/step - loss: 0.3016 - mean_absolute_error: 0.2915\n"
          ]
        },
        {
          "data": {
            "text/plain": [
              "[0.3016207218170166, 0.29152897000312805]"
            ]
          },
          "execution_count": 53,
          "metadata": {},
          "output_type": "execute_result"
        }
      ],
      "source": [
        "model.predict([test_df.userID, test_df.itemID])\n",
        "model.evaluate([test_df.userID, test_df.itemID], test_df.rating)"
      ],
      "id": "VbGuCHBHNaGw"
    },
    {
      "cell_type": "code",
      "execution_count": null,
      "metadata": {
        "colab": {
          "base_uri": "https://localhost:8080/"
        },
        "id": "LjQamiSjNaGw",
        "outputId": "7b58a153-38e2-41c9-fd89-bde12a6e415a"
      },
      "outputs": [
        {
          "name": "stdout",
          "output_type": "stream",
          "text": [
            "309/309 [==============================] - 1s 2ms/step\n"
          ]
        }
      ],
      "source": [
        "result=model.predict([test_df.userID, test_df.itemID])\n",
        "uniqueproducts=train_df.itemID.unique()\n",
        "userlist=list(train_df.userID.unique())\n",
        "test_df=test_df[test_df['userID'].isin(userlist)]\n"
      ],
      "id": "LjQamiSjNaGw"
    },
    {
      "cell_type": "code",
      "execution_count": null,
      "metadata": {
        "id": "TmWt5CqLNaGw"
      },
      "outputs": [],
      "source": [
        "import itertools\n",
        "result=pd.DataFrame(list(itertools.product(userlist,uniqueproducts)))\n",
        "result.columns =['userID', 'itemID']"
      ],
      "id": "TmWt5CqLNaGw"
    },
    {
      "cell_type": "code",
      "execution_count": null,
      "metadata": {
        "id": "zYoVIRc9NaGw"
      },
      "outputs": [],
      "source": [
        "tmp_train=train_df[['userID','itemID']]"
      ],
      "id": "zYoVIRc9NaGw"
    },
    {
      "cell_type": "code",
      "execution_count": null,
      "metadata": {
        "id": "umvt-IjWNaGw"
      },
      "outputs": [],
      "source": [
        "result=result[~result.isin(tmp_train).all(1)]"
      ],
      "id": "umvt-IjWNaGw"
    },
    {
      "cell_type": "code",
      "execution_count": null,
      "metadata": {
        "colab": {
          "base_uri": "https://localhost:8080/"
        },
        "id": "08vLU_HFNaGw",
        "outputId": "2fb35f46-d0e8-41fe-e7e8-747bdbe0720c"
      },
      "outputs": [
        {
          "name": "stdout",
          "output_type": "stream",
          "text": [
            "196841/196841 [==============================] - 317s 2ms/step\n"
          ]
        }
      ],
      "source": [
        "\n",
        "predictions=model.predict([result.userID, result.itemID])\n",
        "predictions=list(predictions)\n",
        "\n",
        "ratings=[]\n",
        "\n",
        "for e in predictions:\n",
        " ratings.append(e[0])\n",
        "result['prediction']=ratings\n",
        "result=result.sort_values(['userID','prediction'], ascending=[True,False])"
      ],
      "id": "08vLU_HFNaGw"
    },
    {
      "cell_type": "code",
      "execution_count": null,
      "metadata": {
        "id": "5wyLJ_K4NaGw"
      },
      "outputs": [],
      "source": [
        "result=result.groupby('userID').head(20)\n",
        "pres=precision_at_k(test_df, result, k=10)\n",
        "recall=recall_at_k(test_df, result, k=10)"
      ],
      "id": "5wyLJ_K4NaGw"
    },
    {
      "cell_type": "code",
      "execution_count": null,
      "metadata": {
        "id": "l5S7DvMmNaGw"
      },
      "outputs": [],
      "source": [
        "df2 = {'Dataset':\"Food.com\",'Algorithm':\"DNN\",'Sparsity':sparsity_food,'Precision@k':pres,'Recall@K':recall}\n",
        "summary_df = summary_df.append(df2, ignore_index = True)"
      ],
      "id": "l5S7DvMmNaGw"
    },
    {
      "cell_type": "code",
      "execution_count": null,
      "metadata": {
        "colab": {
          "base_uri": "https://localhost:8080/",
          "height": 112
        },
        "id": "D0n-j_H7NaGx",
        "outputId": "4a5648cc-2516-4dda-ed1b-42bfb7b982a4"
      },
      "outputs": [
        {
          "data": {
            "text/html": [
              "\n",
              "  <div id=\"df-4a6fbc7d-a0a2-4203-ab6b-6f8948b44e79\">\n",
              "    <div class=\"colab-df-container\">\n",
              "      <div>\n",
              "<style scoped>\n",
              "    .dataframe tbody tr th:only-of-type {\n",
              "        vertical-align: middle;\n",
              "    }\n",
              "\n",
              "    .dataframe tbody tr th {\n",
              "        vertical-align: top;\n",
              "    }\n",
              "\n",
              "    .dataframe thead th {\n",
              "        text-align: right;\n",
              "    }\n",
              "</style>\n",
              "<table border=\"1\" class=\"dataframe\">\n",
              "  <thead>\n",
              "    <tr style=\"text-align: right;\">\n",
              "      <th></th>\n",
              "      <th>Dataset</th>\n",
              "      <th>Algorithm</th>\n",
              "      <th>Sparsity</th>\n",
              "      <th>Recall@K</th>\n",
              "      <th>Precision@k</th>\n",
              "    </tr>\n",
              "  </thead>\n",
              "  <tbody>\n",
              "    <tr>\n",
              "      <th>0</th>\n",
              "      <td>MovieLens</td>\n",
              "      <td>DNN</td>\n",
              "      <td>0.936953</td>\n",
              "      <td>0.029076</td>\n",
              "      <td>0.084199</td>\n",
              "    </tr>\n",
              "    <tr>\n",
              "      <th>1</th>\n",
              "      <td>Food.com</td>\n",
              "      <td>DNN</td>\n",
              "      <td>0.988737</td>\n",
              "      <td>0.047206</td>\n",
              "      <td>0.008840</td>\n",
              "    </tr>\n",
              "  </tbody>\n",
              "</table>\n",
              "</div>\n",
              "      <button class=\"colab-df-convert\" onclick=\"convertToInteractive('df-4a6fbc7d-a0a2-4203-ab6b-6f8948b44e79')\"\n",
              "              title=\"Convert this dataframe to an interactive table.\"\n",
              "              style=\"display:none;\">\n",
              "        \n",
              "  <svg xmlns=\"http://www.w3.org/2000/svg\" height=\"24px\"viewBox=\"0 0 24 24\"\n",
              "       width=\"24px\">\n",
              "    <path d=\"M0 0h24v24H0V0z\" fill=\"none\"/>\n",
              "    <path d=\"M18.56 5.44l.94 2.06.94-2.06 2.06-.94-2.06-.94-.94-2.06-.94 2.06-2.06.94zm-11 1L8.5 8.5l.94-2.06 2.06-.94-2.06-.94L8.5 2.5l-.94 2.06-2.06.94zm10 10l.94 2.06.94-2.06 2.06-.94-2.06-.94-.94-2.06-.94 2.06-2.06.94z\"/><path d=\"M17.41 7.96l-1.37-1.37c-.4-.4-.92-.59-1.43-.59-.52 0-1.04.2-1.43.59L10.3 9.45l-7.72 7.72c-.78.78-.78 2.05 0 2.83L4 21.41c.39.39.9.59 1.41.59.51 0 1.02-.2 1.41-.59l7.78-7.78 2.81-2.81c.8-.78.8-2.07 0-2.86zM5.41 20L4 18.59l7.72-7.72 1.47 1.35L5.41 20z\"/>\n",
              "  </svg>\n",
              "      </button>\n",
              "      \n",
              "  <style>\n",
              "    .colab-df-container {\n",
              "      display:flex;\n",
              "      flex-wrap:wrap;\n",
              "      gap: 12px;\n",
              "    }\n",
              "\n",
              "    .colab-df-convert {\n",
              "      background-color: #E8F0FE;\n",
              "      border: none;\n",
              "      border-radius: 50%;\n",
              "      cursor: pointer;\n",
              "      display: none;\n",
              "      fill: #1967D2;\n",
              "      height: 32px;\n",
              "      padding: 0 0 0 0;\n",
              "      width: 32px;\n",
              "    }\n",
              "\n",
              "    .colab-df-convert:hover {\n",
              "      background-color: #E2EBFA;\n",
              "      box-shadow: 0px 1px 2px rgba(60, 64, 67, 0.3), 0px 1px 3px 1px rgba(60, 64, 67, 0.15);\n",
              "      fill: #174EA6;\n",
              "    }\n",
              "\n",
              "    [theme=dark] .colab-df-convert {\n",
              "      background-color: #3B4455;\n",
              "      fill: #D2E3FC;\n",
              "    }\n",
              "\n",
              "    [theme=dark] .colab-df-convert:hover {\n",
              "      background-color: #434B5C;\n",
              "      box-shadow: 0px 1px 3px 1px rgba(0, 0, 0, 0.15);\n",
              "      filter: drop-shadow(0px 1px 2px rgba(0, 0, 0, 0.3));\n",
              "      fill: #FFFFFF;\n",
              "    }\n",
              "  </style>\n",
              "\n",
              "      <script>\n",
              "        const buttonEl =\n",
              "          document.querySelector('#df-4a6fbc7d-a0a2-4203-ab6b-6f8948b44e79 button.colab-df-convert');\n",
              "        buttonEl.style.display =\n",
              "          google.colab.kernel.accessAllowed ? 'block' : 'none';\n",
              "\n",
              "        async function convertToInteractive(key) {\n",
              "          const element = document.querySelector('#df-4a6fbc7d-a0a2-4203-ab6b-6f8948b44e79');\n",
              "          const dataTable =\n",
              "            await google.colab.kernel.invokeFunction('convertToInteractive',\n",
              "                                                     [key], {});\n",
              "          if (!dataTable) return;\n",
              "\n",
              "          const docLinkHtml = 'Like what you see? Visit the ' +\n",
              "            '<a target=\"_blank\" href=https://colab.research.google.com/notebooks/data_table.ipynb>data table notebook</a>'\n",
              "            + ' to learn more about interactive tables.';\n",
              "          element.innerHTML = '';\n",
              "          dataTable['output_type'] = 'display_data';\n",
              "          await google.colab.output.renderOutput(dataTable, element);\n",
              "          const docLink = document.createElement('div');\n",
              "          docLink.innerHTML = docLinkHtml;\n",
              "          element.appendChild(docLink);\n",
              "        }\n",
              "      </script>\n",
              "    </div>\n",
              "  </div>\n",
              "  "
            ],
            "text/plain": [
              "     Dataset Algorithm  Sparsity  Recall@K  Precision@k\n",
              "0  MovieLens       DNN  0.936953  0.029076     0.084199\n",
              "1   Food.com       DNN  0.988737  0.047206     0.008840"
            ]
          },
          "execution_count": 61,
          "metadata": {},
          "output_type": "execute_result"
        }
      ],
      "source": [
        "summary_df"
      ],
      "id": "D0n-j_H7NaGx"
    },
    {
      "cell_type": "markdown",
      "metadata": {
        "id": "AxLsUL8aNdf-"
      },
      "source": [
        "# Book Dataset dataset"
      ],
      "id": "AxLsUL8aNdf-"
    },
    {
      "cell_type": "code",
      "execution_count": null,
      "metadata": {
        "id": "zfEBzgJkNdf-"
      },
      "outputs": [],
      "source": [
        "from recommenders.datasets.python_splitters import python_stratified_split\n",
        "from recommenders.evaluation.python_evaluation import map_at_k, ndcg_at_k, precision_at_k, recall_at_k"
      ],
      "id": "zfEBzgJkNdf-"
    },
    {
      "cell_type": "code",
      "execution_count": null,
      "metadata": {
        "id": "4fDl7BzdNdf-"
      },
      "outputs": [],
      "source": [
        "rating_df=book_df.copy()\n",
        "from sklearn.preprocessing import MinMaxScaler\n",
        "scaler = MinMaxScaler()\n",
        "rating_df[['rating']] = scaler.fit_transform(rating_df[['rating']])\n",
        "train_df,test_df=python_stratified_split(book_df,ratio=0.75)"
      ],
      "id": "4fDl7BzdNdf-"
    },
    {
      "cell_type": "code",
      "execution_count": null,
      "metadata": {
        "id": "A3EkqOJUNdf-"
      },
      "outputs": [],
      "source": [
        "# final_ratings=rating_df.sort_values(by=['userId','date','rating'], ascending=[False,False,False]) \n",
        "# test_df=final_ratings.groupby('userId').head(30)\n",
        "# train_df=final_ratings[~final_ratings.isin(test_df).all(1)]\n",
        "product_ids = list(set(list(rating_df.itemID.unique())))\n",
        "user_ids = list(set(list(rating_df.userID.unique())))\n",
        "dict_products = {}\n",
        "index = 0\n",
        "for ids in sorted(product_ids):\n",
        "    dict_products[ids] = index\n",
        "    index += 1\n",
        "dict_users = {}\n",
        "index = 0\n",
        "for ids in sorted(user_ids):\n",
        "    dict_users[ids] = index\n",
        "    index += 1\n",
        "train_df[\"itemID\"] = train_df[\"itemID\"].map(dict_products)\n",
        "train_df[\"userID\"] = train_df[\"userID\"].map(dict_users)\n",
        "test_df[\"itemID\"] = test_df[\"itemID\"].map(dict_products)\n",
        "test_df[\"userID\"] = test_df[\"userID\"].map(dict_users)\n",
        "for col in [\"userID\", \"itemID\", \"rating\"]:\n",
        "    train_df[col] = train_df[col].astype(np.float32)\n",
        "    test_df[col] = test_df[col].astype(np.float32)\n",
        "num_unique_users=len(set(list(rating_df.userID.unique()) ))\n",
        "num_unique_products=len(set(list(rating_df.itemID.unique())))"
      ],
      "id": "A3EkqOJUNdf-"
    },
    {
      "cell_type": "code",
      "source": [
        "import tensorflow as tf\n",
        "from tensorflow.keras import Model\n",
        "from tensorflow.keras import optimizers as opt\n",
        "from tensorflow.keras import regularizers as rgl\n",
        "from tensorflow.keras.layers import Embedding, multiply, concatenate, Flatten, Input, Dense, Dropout"
      ],
      "metadata": {
        "id": "8iUeyGzKZ1Re"
      },
      "id": "8iUeyGzKZ1Re",
      "execution_count": null,
      "outputs": []
    },
    {
      "cell_type": "code",
      "execution_count": null,
      "metadata": {
        "id": "Hx5aJNm4Ndf_"
      },
      "outputs": [],
      "source": [
        "dropout_rate=0.05\n",
        "dense_1=512\n",
        "dense_2=128\n",
        "dense_3=64\n",
        "\n",
        "activation_func=\"relu\"\n",
        "regularizer=rgl.l2(0.0001)#l2 regularization\n",
        "max_rating=1\n",
        "min_rating=0\n",
        "EMBEDDING_SIZE=64\n",
        "users_input = Input(shape=(1,), name=\"user_input\")\n",
        "users_embedding = Embedding(num_unique_users + 1, EMBEDDING_SIZE, embeddings_regularizer=regularizer, name=\"user_embeddings\")(users_input)\n",
        "users_bias = Embedding(num_unique_users + 1, 1, embeddings_regularizer=regularizer, name=\"user_bias\")(users_input)\n",
        "\n",
        "product_input = Input(shape=(1,), name=\"product_input\")\n",
        "product_embedding = Embedding(num_unique_products + 1, EMBEDDING_SIZE, embeddings_regularizer=regularizer, name=\"product_embedding\")(product_input)\n",
        "product_bias = Embedding(num_unique_products + 1, 1, embeddings_regularizer=regularizer, name=\"product_bias\")(product_input)\n",
        "\n",
        "dot_product_users_product = multiply([users_embedding, product_embedding])\n",
        "\n",
        "input_terms = concatenate([dot_product_users_product, users_bias, product_bias])\n",
        "\n",
        "input_terms = Flatten(name=\"fl_inputs\")(input_terms)\n",
        "\n",
        "output = Dense(dense_1, activation=activation_func, name=\"dense_0\")(input_terms)\n",
        "\n",
        "output = Dropout(dropout_rate)(output)\n",
        "\n",
        "output = Dense(dense_2, activation=activation_func, name=\"dense_1\")(output)\n",
        "\n",
        "output = Dropout(dropout_rate)(output)\n",
        "\n",
        "output = Dense(dense_3, activation=activation_func, name=\"dense_2\")(output)\n",
        "\n",
        "output = Dropout(dropout_rate)(output)\n",
        "\n",
        "output = Dense(1, activation=\"relu\", name=\"output\")(output) * (max_rating - min_rating) + min_rating"
      ],
      "id": "Hx5aJNm4Ndf_"
    },
    {
      "cell_type": "code",
      "execution_count": null,
      "metadata": {
        "id": "dBCD_dMPNdf_"
      },
      "outputs": [],
      "source": [
        "model = Model(inputs=[users_input, product_input], outputs=output)\n",
        "opt_adam = opt.RMSprop(lr = 0.001)\n",
        "model.compile(optimizer=opt_adam, loss= ['mse'], metrics=['mean_absolute_error'])"
      ],
      "id": "dBCD_dMPNdf_"
    },
    {
      "cell_type": "code",
      "execution_count": null,
      "metadata": {
        "id": "2J1j7-WgNdf_",
        "colab": {
          "base_uri": "https://localhost:8080/"
        },
        "outputId": "f629fb24-ee9c-4bfb-df72-ba3724c83d59"
      },
      "outputs": [
        {
          "output_type": "stream",
          "name": "stdout",
          "text": [
            "Epoch 1/100\n",
            "77/77 [==============================] - 3s 6ms/step - loss: 16.9496 - mean_absolute_error: 3.6786\n",
            "Epoch 2/100\n",
            "77/77 [==============================] - 0s 6ms/step - loss: 13.6524 - mean_absolute_error: 3.2631\n",
            "Epoch 3/100\n",
            "77/77 [==============================] - 0s 5ms/step - loss: 7.9962 - mean_absolute_error: 2.1829\n",
            "Epoch 4/100\n",
            "77/77 [==============================] - 0s 5ms/step - loss: 3.2274 - mean_absolute_error: 1.1237\n",
            "Epoch 5/100\n",
            "77/77 [==============================] - 0s 5ms/step - loss: 1.9120 - mean_absolute_error: 0.8005\n",
            "Epoch 6/100\n",
            "77/77 [==============================] - 0s 5ms/step - loss: 2.0368 - mean_absolute_error: 0.8153\n",
            "Epoch 7/100\n",
            "77/77 [==============================] - 0s 5ms/step - loss: 1.6736 - mean_absolute_error: 0.7100\n",
            "Epoch 8/100\n",
            "77/77 [==============================] - 0s 5ms/step - loss: 1.6345 - mean_absolute_error: 0.6987\n",
            "Epoch 9/100\n",
            "77/77 [==============================] - 0s 5ms/step - loss: 1.6858 - mean_absolute_error: 0.7075\n",
            "Epoch 10/100\n",
            "77/77 [==============================] - 0s 5ms/step - loss: 1.6002 - mean_absolute_error: 0.6701\n",
            "Epoch 11/100\n",
            "77/77 [==============================] - 0s 5ms/step - loss: 1.5474 - mean_absolute_error: 0.6557\n",
            "Epoch 12/100\n",
            "77/77 [==============================] - 0s 6ms/step - loss: 1.5930 - mean_absolute_error: 0.6604\n",
            "Epoch 13/100\n",
            "77/77 [==============================] - 1s 7ms/step - loss: 1.5748 - mean_absolute_error: 0.6573\n",
            "Epoch 14/100\n",
            "77/77 [==============================] - 1s 7ms/step - loss: 1.4937 - mean_absolute_error: 0.6323\n",
            "Epoch 15/100\n",
            "77/77 [==============================] - 0s 6ms/step - loss: 1.4968 - mean_absolute_error: 0.6313\n",
            "Epoch 16/100\n",
            "77/77 [==============================] - 0s 6ms/step - loss: 1.4718 - mean_absolute_error: 0.6219\n",
            "Epoch 17/100\n",
            "77/77 [==============================] - 1s 7ms/step - loss: 1.4462 - mean_absolute_error: 0.6144\n",
            "Epoch 18/100\n",
            "77/77 [==============================] - 1s 7ms/step - loss: 1.4706 - mean_absolute_error: 0.6143\n",
            "Epoch 19/100\n",
            "77/77 [==============================] - 1s 7ms/step - loss: 1.4771 - mean_absolute_error: 0.6112\n",
            "Epoch 20/100\n",
            "77/77 [==============================] - 1s 7ms/step - loss: 1.5185 - mean_absolute_error: 0.6192\n"
          ]
        },
        {
          "output_type": "execute_result",
          "data": {
            "text/plain": [
              "<keras.callbacks.History at 0x7fcf8b1e1390>"
            ]
          },
          "metadata": {},
          "execution_count": 46
        }
      ],
      "source": [
        "callback = tf.keras.callbacks.EarlyStopping(monitor='loss', patience=3,restore_best_weights=True)\n",
        "model.fit(x=[train_df.userID, train_df.itemID], y=train_df.rating, batch_size=512, epochs=100, verbose=1 ,callbacks=[callback])"
      ],
      "id": "2J1j7-WgNdf_"
    },
    {
      "cell_type": "code",
      "execution_count": null,
      "metadata": {
        "id": "tf79jAaaNdf_",
        "colab": {
          "base_uri": "https://localhost:8080/"
        },
        "outputId": "f0ee9cde-1297-45c7-aa0a-4bf15596affd"
      },
      "outputs": [
        {
          "output_type": "stream",
          "name": "stdout",
          "text": [
            "375/375 [==============================] - 1s 2ms/step\n",
            "375/375 [==============================] - 1s 3ms/step - loss: 18.8484 - mean_absolute_error: 3.1576\n"
          ]
        },
        {
          "output_type": "execute_result",
          "data": {
            "text/plain": [
              "[18.84842872619629, 3.1576342582702637]"
            ]
          },
          "metadata": {},
          "execution_count": 47
        }
      ],
      "source": [
        "model.predict([test_df.userID, test_df.itemID])\n",
        "model.evaluate([test_df.userID, test_df.itemID], test_df.rating)"
      ],
      "id": "tf79jAaaNdf_"
    },
    {
      "cell_type": "code",
      "execution_count": null,
      "metadata": {
        "id": "7_xnbr9KNdf_",
        "colab": {
          "base_uri": "https://localhost:8080/"
        },
        "outputId": "c06ed302-c77c-4e1c-ded6-0cb2c1e927ba"
      },
      "outputs": [
        {
          "output_type": "stream",
          "name": "stdout",
          "text": [
            "375/375 [==============================] - 1s 3ms/step\n"
          ]
        }
      ],
      "source": [
        "result=model.predict([test_df.userID, test_df.itemID])\n",
        "uniqueproducts=train_df.itemID.unique()\n",
        "userlist=list(train_df.userID.unique())\n",
        "test_df=test_df[test_df['userID'].isin(userlist)]\n"
      ],
      "id": "7_xnbr9KNdf_"
    },
    {
      "cell_type": "code",
      "execution_count": null,
      "metadata": {
        "id": "pJ0KsI4eNdf_"
      },
      "outputs": [],
      "source": [
        "import itertools\n",
        "result=pd.DataFrame(list(itertools.product(userlist,uniqueproducts)))\n",
        "result.columns =['userID', 'itemID']"
      ],
      "id": "pJ0KsI4eNdf_"
    },
    {
      "cell_type": "code",
      "source": [
        "tmp_train=train_df[['userID','itemID']]\n",
        "result=result[~result.isin(tmp_train).all(1)]"
      ],
      "metadata": {
        "id": "vVegTb8fo8Hl"
      },
      "id": "vVegTb8fo8Hl",
      "execution_count": null,
      "outputs": []
    },
    {
      "cell_type": "code",
      "source": [
        "result=result[result.userID.isin(list(result.userID.unique())[:100])]"
      ],
      "metadata": {
        "id": "f_Fz-rGGpbU-"
      },
      "id": "f_Fz-rGGpbU-",
      "execution_count": null,
      "outputs": []
    },
    {
      "cell_type": "code",
      "execution_count": null,
      "metadata": {
        "id": "fCgNJTY7Ndf_",
        "colab": {
          "base_uri": "https://localhost:8080/"
        },
        "outputId": "b2bafa5b-d511-438b-b34d-a5069721b79c"
      },
      "outputs": [
        {
          "output_type": "stream",
          "name": "stdout",
          "text": [
            "87869/87869 [==============================] - 140s 2ms/step\n"
          ]
        }
      ],
      "source": [
        "\n",
        "\n",
        "predictions=model.predict([result.userID, result.itemID])\n",
        "predictions=list(predictions)\n",
        "\n",
        "ratings=[]\n",
        "\n",
        "for e in predictions:\n",
        " ratings.append(e[0])\n",
        "result['prediction']=ratings\n",
        "result=result.sort_values(['userID','prediction'], ascending=[True,False])"
      ],
      "id": "fCgNJTY7Ndf_"
    },
    {
      "cell_type": "code",
      "execution_count": null,
      "metadata": {
        "id": "_eiJz_uSNdgA"
      },
      "outputs": [],
      "source": [
        "result=result.groupby('userID').head(20)\n",
        "pres=precision_at_k(test_df, result, k=10)\n",
        "recall=recall_at_k(test_df, result, k=10)"
      ],
      "id": "_eiJz_uSNdgA"
    },
    {
      "cell_type": "code",
      "execution_count": null,
      "metadata": {
        "id": "TdM2mjB-NdgA"
      },
      "outputs": [],
      "source": [
        "df2 = {'Dataset':\"Book Dataset\",'Algorithm':\"DNN\",'Sparsity':sparsity_book,'Precision@k':pres,'Recall@K':recall}\n",
        "summary_df = summary_df.append(df2, ignore_index = True)"
      ],
      "id": "TdM2mjB-NdgA"
    },
    {
      "cell_type": "code",
      "execution_count": null,
      "metadata": {
        "id": "CbNzZ7fANdgA",
        "colab": {
          "base_uri": "https://localhost:8080/",
          "height": 81
        },
        "outputId": "334d8f48-7c4a-45d7-baba-dc5378078d9f"
      },
      "outputs": [
        {
          "output_type": "execute_result",
          "data": {
            "text/plain": [
              "        Dataset Algorithm  Sparsity  Recall@K  Precision@k\n",
              "0  Book Dataset       DNN  0.999661  0.000427     0.003333"
            ],
            "text/html": [
              "\n",
              "  <div id=\"df-01790106-2c23-4715-9f1a-8ba71d6c6e2e\">\n",
              "    <div class=\"colab-df-container\">\n",
              "      <div>\n",
              "<style scoped>\n",
              "    .dataframe tbody tr th:only-of-type {\n",
              "        vertical-align: middle;\n",
              "    }\n",
              "\n",
              "    .dataframe tbody tr th {\n",
              "        vertical-align: top;\n",
              "    }\n",
              "\n",
              "    .dataframe thead th {\n",
              "        text-align: right;\n",
              "    }\n",
              "</style>\n",
              "<table border=\"1\" class=\"dataframe\">\n",
              "  <thead>\n",
              "    <tr style=\"text-align: right;\">\n",
              "      <th></th>\n",
              "      <th>Dataset</th>\n",
              "      <th>Algorithm</th>\n",
              "      <th>Sparsity</th>\n",
              "      <th>Recall@K</th>\n",
              "      <th>Precision@k</th>\n",
              "    </tr>\n",
              "  </thead>\n",
              "  <tbody>\n",
              "    <tr>\n",
              "      <th>0</th>\n",
              "      <td>Book Dataset</td>\n",
              "      <td>DNN</td>\n",
              "      <td>0.999661</td>\n",
              "      <td>0.000427</td>\n",
              "      <td>0.003333</td>\n",
              "    </tr>\n",
              "  </tbody>\n",
              "</table>\n",
              "</div>\n",
              "      <button class=\"colab-df-convert\" onclick=\"convertToInteractive('df-01790106-2c23-4715-9f1a-8ba71d6c6e2e')\"\n",
              "              title=\"Convert this dataframe to an interactive table.\"\n",
              "              style=\"display:none;\">\n",
              "        \n",
              "  <svg xmlns=\"http://www.w3.org/2000/svg\" height=\"24px\"viewBox=\"0 0 24 24\"\n",
              "       width=\"24px\">\n",
              "    <path d=\"M0 0h24v24H0V0z\" fill=\"none\"/>\n",
              "    <path d=\"M18.56 5.44l.94 2.06.94-2.06 2.06-.94-2.06-.94-.94-2.06-.94 2.06-2.06.94zm-11 1L8.5 8.5l.94-2.06 2.06-.94-2.06-.94L8.5 2.5l-.94 2.06-2.06.94zm10 10l.94 2.06.94-2.06 2.06-.94-2.06-.94-.94-2.06-.94 2.06-2.06.94z\"/><path d=\"M17.41 7.96l-1.37-1.37c-.4-.4-.92-.59-1.43-.59-.52 0-1.04.2-1.43.59L10.3 9.45l-7.72 7.72c-.78.78-.78 2.05 0 2.83L4 21.41c.39.39.9.59 1.41.59.51 0 1.02-.2 1.41-.59l7.78-7.78 2.81-2.81c.8-.78.8-2.07 0-2.86zM5.41 20L4 18.59l7.72-7.72 1.47 1.35L5.41 20z\"/>\n",
              "  </svg>\n",
              "      </button>\n",
              "      \n",
              "  <style>\n",
              "    .colab-df-container {\n",
              "      display:flex;\n",
              "      flex-wrap:wrap;\n",
              "      gap: 12px;\n",
              "    }\n",
              "\n",
              "    .colab-df-convert {\n",
              "      background-color: #E8F0FE;\n",
              "      border: none;\n",
              "      border-radius: 50%;\n",
              "      cursor: pointer;\n",
              "      display: none;\n",
              "      fill: #1967D2;\n",
              "      height: 32px;\n",
              "      padding: 0 0 0 0;\n",
              "      width: 32px;\n",
              "    }\n",
              "\n",
              "    .colab-df-convert:hover {\n",
              "      background-color: #E2EBFA;\n",
              "      box-shadow: 0px 1px 2px rgba(60, 64, 67, 0.3), 0px 1px 3px 1px rgba(60, 64, 67, 0.15);\n",
              "      fill: #174EA6;\n",
              "    }\n",
              "\n",
              "    [theme=dark] .colab-df-convert {\n",
              "      background-color: #3B4455;\n",
              "      fill: #D2E3FC;\n",
              "    }\n",
              "\n",
              "    [theme=dark] .colab-df-convert:hover {\n",
              "      background-color: #434B5C;\n",
              "      box-shadow: 0px 1px 3px 1px rgba(0, 0, 0, 0.15);\n",
              "      filter: drop-shadow(0px 1px 2px rgba(0, 0, 0, 0.3));\n",
              "      fill: #FFFFFF;\n",
              "    }\n",
              "  </style>\n",
              "\n",
              "      <script>\n",
              "        const buttonEl =\n",
              "          document.querySelector('#df-01790106-2c23-4715-9f1a-8ba71d6c6e2e button.colab-df-convert');\n",
              "        buttonEl.style.display =\n",
              "          google.colab.kernel.accessAllowed ? 'block' : 'none';\n",
              "\n",
              "        async function convertToInteractive(key) {\n",
              "          const element = document.querySelector('#df-01790106-2c23-4715-9f1a-8ba71d6c6e2e');\n",
              "          const dataTable =\n",
              "            await google.colab.kernel.invokeFunction('convertToInteractive',\n",
              "                                                     [key], {});\n",
              "          if (!dataTable) return;\n",
              "\n",
              "          const docLinkHtml = 'Like what you see? Visit the ' +\n",
              "            '<a target=\"_blank\" href=https://colab.research.google.com/notebooks/data_table.ipynb>data table notebook</a>'\n",
              "            + ' to learn more about interactive tables.';\n",
              "          element.innerHTML = '';\n",
              "          dataTable['output_type'] = 'display_data';\n",
              "          await google.colab.output.renderOutput(dataTable, element);\n",
              "          const docLink = document.createElement('div');\n",
              "          docLink.innerHTML = docLinkHtml;\n",
              "          element.appendChild(docLink);\n",
              "        }\n",
              "      </script>\n",
              "    </div>\n",
              "  </div>\n",
              "  "
            ]
          },
          "metadata": {},
          "execution_count": 83
        }
      ],
      "source": [
        "summary_df"
      ],
      "id": "CbNzZ7fANdgA"
    },
    {
      "cell_type": "markdown",
      "metadata": {
        "id": "4SFCqJ1wNiw_"
      },
      "source": [
        "# Amazon Dataset dataset"
      ],
      "id": "4SFCqJ1wNiw_"
    },
    {
      "cell_type": "code",
      "execution_count": null,
      "metadata": {
        "id": "y-EusH3CNiw_"
      },
      "outputs": [],
      "source": [
        "from recommenders.datasets.python_splitters import python_stratified_split\n",
        "from recommenders.evaluation.python_evaluation import map_at_k, ndcg_at_k, precision_at_k, recall_at_k"
      ],
      "id": "y-EusH3CNiw_"
    },
    {
      "cell_type": "code",
      "execution_count": null,
      "metadata": {
        "id": "4kLPjx5ANiw_"
      },
      "outputs": [],
      "source": [
        "rating_df=amazon_df.copy()\n",
        "\n",
        "train_df,test_df=python_stratified_split(amazon_df,ratio=0.75)"
      ],
      "id": "4kLPjx5ANiw_"
    },
    {
      "cell_type": "code",
      "execution_count": null,
      "metadata": {
        "id": "Uz22EUlWNixA"
      },
      "outputs": [],
      "source": [
        "# final_ratings=rating_df.sort_values(by=['userId','date','rating'], ascending=[False,False,False]) \n",
        "# test_df=final_ratings.groupby('userId').head(30)\n",
        "# train_df=final_ratings[~final_ratings.isin(test_df).all(1)]\n",
        "product_ids = list(set(list(rating_df.itemID.unique())))\n",
        "user_ids = list(set(list(rating_df.userID.unique())))\n",
        "dict_products = {}\n",
        "index = 0\n",
        "for ids in sorted(product_ids):\n",
        "    dict_products[ids] = index\n",
        "    index += 1\n",
        "dict_users = {}\n",
        "index = 0\n",
        "for ids in sorted(user_ids):\n",
        "    dict_users[ids] = index\n",
        "    index += 1\n",
        "train_df[\"itemID\"] = train_df[\"itemID\"].map(dict_products)\n",
        "train_df[\"userID\"] = train_df[\"userID\"].map(dict_users)\n",
        "test_df[\"itemID\"] = test_df[\"itemID\"].map(dict_products)\n",
        "test_df[\"userID\"] = test_df[\"userID\"].map(dict_users)\n",
        "for col in [\"userID\", \"itemID\", \"rating\"]:\n",
        "    train_df[col] = train_df[col].astype(np.float32)\n",
        "    test_df[col] = test_df[col].astype(np.float32)\n",
        "num_unique_users=len(set(list(rating_df.userID.unique()) ))\n",
        "num_unique_products=len(set(list(rating_df.itemID.unique())))"
      ],
      "id": "Uz22EUlWNixA"
    },
    {
      "cell_type": "code",
      "execution_count": null,
      "metadata": {
        "id": "DPgnS4-kNixA"
      },
      "outputs": [],
      "source": [
        "dropout_rate=0.05\n",
        "dense_1=512\n",
        "dense_2=128\n",
        "dense_3=128\n",
        "\n",
        "activation_func=\"relu\"\n",
        "regularizer=rgl.l2(0.0001)#l2 regularization\n",
        "max_rating=5\n",
        "min_rating=0\n",
        "EMBEDDING_SIZE=64\n",
        "users_input = Input(shape=(1,), name=\"user_input\")\n",
        "users_embedding = Embedding(num_unique_users + 1, EMBEDDING_SIZE, embeddings_regularizer=regularizer, name=\"user_embeddings\")(users_input)\n",
        "users_bias = Embedding(num_unique_users + 1, 1, embeddings_regularizer=regularizer, name=\"user_bias\")(users_input)\n",
        "\n",
        "product_input = Input(shape=(1,), name=\"product_input\")\n",
        "product_embedding = Embedding(num_unique_products + 1, EMBEDDING_SIZE, embeddings_regularizer=regularizer, name=\"product_embedding\")(product_input)\n",
        "product_bias = Embedding(num_unique_products + 1, 1, embeddings_regularizer=regularizer, name=\"product_bias\")(product_input)\n",
        "\n",
        "dot_product_users_product = multiply([users_embedding, product_embedding])\n",
        "\n",
        "input_terms = concatenate([dot_product_users_product, users_bias, product_bias])\n",
        "\n",
        "input_terms = Flatten(name=\"fl_inputs\")(input_terms)\n",
        "\n",
        "output = Dense(dense_1, activation=activation_func, name=\"dense_0\")(input_terms)\n",
        "\n",
        "output = Dropout(dropout_rate)(output)\n",
        "\n",
        "output = Dense(dense_2, activation=activation_func, name=\"dense_1\")(output)\n",
        "\n",
        "output = Dropout(dropout_rate)(output)\n",
        "\n",
        "output = Dense(dense_3, activation=activation_func, name=\"dense_2\")(output)\n",
        "\n",
        "output = Dropout(dropout_rate)(output)\n",
        "\n",
        "output = Dense(1, activation=\"relu\", name=\"output\")(output) * (max_rating - min_rating) + min_rating"
      ],
      "id": "DPgnS4-kNixA"
    },
    {
      "cell_type": "code",
      "execution_count": null,
      "metadata": {
        "id": "BoUyXxXSNixA"
      },
      "outputs": [],
      "source": [
        "model = Model(inputs=[users_input, product_input], outputs=output)\n",
        "opt_adam = opt.RMSprop(lr = 0.001)\n",
        "model.compile(optimizer=opt_adam, loss= ['mse'], metrics=['mean_absolute_error'])"
      ],
      "id": "BoUyXxXSNixA"
    },
    {
      "cell_type": "code",
      "execution_count": null,
      "metadata": {
        "colab": {
          "base_uri": "https://localhost:8080/"
        },
        "id": "vewhwftCNixA",
        "outputId": "12ce6b2f-bf98-4d99-f3d5-29a9218993fc"
      },
      "outputs": [
        {
          "output_type": "stream",
          "name": "stdout",
          "text": [
            "Epoch 1/100\n",
            "126/126 [==============================] - 2s 5ms/step - loss: 1.6277 - mean_absolute_error: 0.9332\n",
            "Epoch 2/100\n",
            "126/126 [==============================] - 1s 5ms/step - loss: 1.0909 - mean_absolute_error: 0.7916\n",
            "Epoch 3/100\n",
            "126/126 [==============================] - 1s 5ms/step - loss: 0.9127 - mean_absolute_error: 0.7126\n",
            "Epoch 4/100\n",
            "126/126 [==============================] - 1s 5ms/step - loss: 0.6564 - mean_absolute_error: 0.5995\n",
            "Epoch 5/100\n",
            "126/126 [==============================] - 1s 5ms/step - loss: 0.4652 - mean_absolute_error: 0.5052\n",
            "Epoch 6/100\n",
            "126/126 [==============================] - 1s 5ms/step - loss: 0.3703 - mean_absolute_error: 0.4487\n",
            "Epoch 7/100\n",
            "126/126 [==============================] - 1s 5ms/step - loss: 0.3319 - mean_absolute_error: 0.4259\n",
            "Epoch 8/100\n",
            "126/126 [==============================] - 1s 5ms/step - loss: 0.3089 - mean_absolute_error: 0.4046\n",
            "Epoch 9/100\n",
            "126/126 [==============================] - 1s 4ms/step - loss: 0.2936 - mean_absolute_error: 0.3887\n",
            "Epoch 10/100\n",
            "126/126 [==============================] - 1s 5ms/step - loss: 0.2809 - mean_absolute_error: 0.3751\n",
            "Epoch 11/100\n",
            "126/126 [==============================] - 1s 5ms/step - loss: 0.2679 - mean_absolute_error: 0.3591\n",
            "Epoch 12/100\n",
            "126/126 [==============================] - 1s 4ms/step - loss: 0.2616 - mean_absolute_error: 0.3507\n",
            "Epoch 13/100\n",
            "126/126 [==============================] - 1s 5ms/step - loss: 0.2577 - mean_absolute_error: 0.3458\n",
            "Epoch 14/100\n",
            "126/126 [==============================] - 1s 5ms/step - loss: 0.2550 - mean_absolute_error: 0.3439\n",
            "Epoch 15/100\n",
            "126/126 [==============================] - 1s 5ms/step - loss: 0.2525 - mean_absolute_error: 0.3375\n",
            "Epoch 16/100\n",
            "126/126 [==============================] - 1s 5ms/step - loss: 0.2487 - mean_absolute_error: 0.3348\n",
            "Epoch 17/100\n",
            "126/126 [==============================] - 1s 5ms/step - loss: 0.2479 - mean_absolute_error: 0.3320\n",
            "Epoch 18/100\n",
            "126/126 [==============================] - 1s 5ms/step - loss: 0.2404 - mean_absolute_error: 0.3262\n",
            "Epoch 19/100\n",
            "126/126 [==============================] - 1s 4ms/step - loss: 0.2416 - mean_absolute_error: 0.3260\n",
            "Epoch 20/100\n",
            "126/126 [==============================] - 1s 5ms/step - loss: 0.2383 - mean_absolute_error: 0.3239\n",
            "Epoch 21/100\n",
            "126/126 [==============================] - 1s 4ms/step - loss: 0.2351 - mean_absolute_error: 0.3205\n",
            "Epoch 22/100\n",
            "126/126 [==============================] - 1s 5ms/step - loss: 0.2319 - mean_absolute_error: 0.3159\n",
            "Epoch 23/100\n",
            "126/126 [==============================] - 1s 5ms/step - loss: 0.2317 - mean_absolute_error: 0.3161\n",
            "Epoch 24/100\n",
            "126/126 [==============================] - 1s 5ms/step - loss: 0.2330 - mean_absolute_error: 0.3165\n",
            "Epoch 25/100\n",
            "126/126 [==============================] - 1s 5ms/step - loss: 0.2293 - mean_absolute_error: 0.3123\n",
            "Epoch 26/100\n",
            "126/126 [==============================] - 1s 4ms/step - loss: 0.2287 - mean_absolute_error: 0.3107\n",
            "Epoch 27/100\n",
            "126/126 [==============================] - 1s 5ms/step - loss: 0.2254 - mean_absolute_error: 0.3074\n",
            "Epoch 28/100\n",
            "126/126 [==============================] - 1s 4ms/step - loss: 0.2266 - mean_absolute_error: 0.3069\n",
            "Epoch 29/100\n",
            "126/126 [==============================] - 1s 5ms/step - loss: 0.2246 - mean_absolute_error: 0.3048\n",
            "Epoch 30/100\n",
            "126/126 [==============================] - 1s 5ms/step - loss: 0.2252 - mean_absolute_error: 0.3032\n",
            "Epoch 31/100\n",
            "126/126 [==============================] - 1s 5ms/step - loss: 0.2241 - mean_absolute_error: 0.3023\n",
            "Epoch 32/100\n",
            "126/126 [==============================] - 1s 5ms/step - loss: 0.2200 - mean_absolute_error: 0.2983\n",
            "Epoch 33/100\n",
            "126/126 [==============================] - 1s 5ms/step - loss: 0.2214 - mean_absolute_error: 0.2979\n",
            "Epoch 34/100\n",
            "126/126 [==============================] - 1s 4ms/step - loss: 0.2202 - mean_absolute_error: 0.2961\n",
            "Epoch 35/100\n",
            "126/126 [==============================] - 1s 5ms/step - loss: 0.2164 - mean_absolute_error: 0.2922\n",
            "Epoch 36/100\n",
            "126/126 [==============================] - 1s 5ms/step - loss: 0.2198 - mean_absolute_error: 0.2938\n",
            "Epoch 37/100\n",
            "126/126 [==============================] - 1s 5ms/step - loss: 0.2194 - mean_absolute_error: 0.2918\n",
            "Epoch 38/100\n",
            "126/126 [==============================] - 1s 5ms/step - loss: 0.2144 - mean_absolute_error: 0.2896\n",
            "Epoch 39/100\n",
            "126/126 [==============================] - 1s 5ms/step - loss: 0.2168 - mean_absolute_error: 0.2903\n",
            "Epoch 40/100\n",
            "126/126 [==============================] - 1s 4ms/step - loss: 0.2178 - mean_absolute_error: 0.2901\n",
            "Epoch 41/100\n",
            "126/126 [==============================] - 1s 5ms/step - loss: 0.2184 - mean_absolute_error: 0.2902\n"
          ]
        },
        {
          "output_type": "execute_result",
          "data": {
            "text/plain": [
              "<keras.callbacks.History at 0x7fcf9086e090>"
            ]
          },
          "metadata": {},
          "execution_count": 89
        }
      ],
      "source": [
        "callback = tf.keras.callbacks.EarlyStopping(monitor='loss', patience=3,restore_best_weights=True)\n",
        "model.fit(x=[train_df.userID, train_df.itemID], y=train_df.rating, batch_size=512, epochs=100, verbose=1 ,callbacks=[callback])"
      ],
      "id": "vewhwftCNixA"
    },
    {
      "cell_type": "code",
      "execution_count": null,
      "metadata": {
        "colab": {
          "base_uri": "https://localhost:8080/"
        },
        "id": "6Us6FI4sNixA",
        "outputId": "864a772d-8186-48ea-ed3e-76b4375fb7da"
      },
      "outputs": [
        {
          "output_type": "stream",
          "name": "stdout",
          "text": [
            "668/668 [==============================] - 1s 2ms/step\n",
            "668/668 [==============================] - 2s 2ms/step - loss: 1.1761 - mean_absolute_error: 0.7966\n"
          ]
        },
        {
          "output_type": "execute_result",
          "data": {
            "text/plain": [
              "[1.1760560274124146, 0.7966067790985107]"
            ]
          },
          "metadata": {},
          "execution_count": 90
        }
      ],
      "source": [
        "model.predict([test_df.userID, test_df.itemID])\n",
        "model.evaluate([test_df.userID, test_df.itemID], test_df.rating)"
      ],
      "id": "6Us6FI4sNixA"
    },
    {
      "cell_type": "code",
      "execution_count": null,
      "metadata": {
        "colab": {
          "base_uri": "https://localhost:8080/"
        },
        "id": "T5TmMnF2NixA",
        "outputId": "716b3880-7ca1-4644-9574-9862b14949e6"
      },
      "outputs": [
        {
          "output_type": "stream",
          "name": "stdout",
          "text": [
            "668/668 [==============================] - 1s 2ms/step\n"
          ]
        }
      ],
      "source": [
        "result=model.predict([test_df.userID, test_df.itemID])\n",
        "uniqueproducts=train_df.itemID.unique()\n",
        "userlist=list(train_df.userID.unique())\n",
        "test_df=test_df[test_df['userID'].isin(userlist)]\n"
      ],
      "id": "T5TmMnF2NixA"
    },
    {
      "cell_type": "code",
      "execution_count": null,
      "metadata": {
        "id": "ko2uYzVtNixA"
      },
      "outputs": [],
      "source": [
        "import itertools\n",
        "result=pd.DataFrame(list(itertools.product(userlist,uniqueproducts)))\n",
        "result.columns =['userID', 'itemID']"
      ],
      "id": "ko2uYzVtNixA"
    },
    {
      "cell_type": "code",
      "execution_count": null,
      "metadata": {
        "id": "SsBPYdBuNixA"
      },
      "outputs": [],
      "source": [
        "tmp_train=train_df[['userID','itemID']]"
      ],
      "id": "SsBPYdBuNixA"
    },
    {
      "cell_type": "code",
      "execution_count": null,
      "metadata": {
        "id": "aUXBEkwKNixA"
      },
      "outputs": [],
      "source": [
        "result=result[~result.isin(tmp_train).all(1)]"
      ],
      "id": "aUXBEkwKNixA"
    },
    {
      "cell_type": "code",
      "source": [
        "result=result[result.userID.isin(list(result.userID.unique())[:150])]"
      ],
      "metadata": {
        "id": "b0_Knh5QshXJ"
      },
      "id": "b0_Knh5QshXJ",
      "execution_count": null,
      "outputs": []
    },
    {
      "cell_type": "code",
      "execution_count": null,
      "metadata": {
        "id": "mln0eMnaNixB",
        "colab": {
          "base_uri": "https://localhost:8080/"
        },
        "outputId": "e59f048b-1de9-4d9f-f4b0-0b88a957d158"
      },
      "outputs": [
        {
          "output_type": "stream",
          "name": "stdout",
          "text": [
            "89068/89068 [==============================] - 145s 2ms/step\n"
          ]
        }
      ],
      "source": [
        "\n",
        "predictions=model.predict([result.userID, result.itemID])\n",
        "predictions=list(predictions)\n",
        "\n",
        "ratings=[]\n",
        "\n",
        "for e in predictions:\n",
        " ratings.append(e[0])\n",
        "result['prediction']=ratings\n",
        "result=result.sort_values(['userID','prediction'], ascending=[True,False])"
      ],
      "id": "mln0eMnaNixB"
    },
    {
      "cell_type": "code",
      "execution_count": null,
      "metadata": {
        "id": "MWCbHW7DNixB"
      },
      "outputs": [],
      "source": [
        "result=result.groupby('userID').head(20)\n",
        "pres=precision_at_k(test_df, result, k=10)\n",
        "recall=recall_at_k(test_df, result, k=10)"
      ],
      "id": "MWCbHW7DNixB"
    },
    {
      "cell_type": "code",
      "execution_count": null,
      "metadata": {
        "id": "5nm-NvPINixB"
      },
      "outputs": [],
      "source": [
        "df2 = {'Dataset':\"Amazon\",'Algorithm':\"DNN\",'Sparsity':sparsity_amazon,'Precision@k':pres,'Recall@K':recall}\n",
        "summary_df = summary_df.append(df2, ignore_index = True)"
      ],
      "id": "5nm-NvPINixB"
    },
    {
      "cell_type": "code",
      "execution_count": null,
      "metadata": {
        "colab": {
          "base_uri": "https://localhost:8080/",
          "height": 112
        },
        "id": "JOBdGeMvNixB",
        "outputId": "c355c309-3973-4084-fc3e-a5155976d93a"
      },
      "outputs": [
        {
          "output_type": "execute_result",
          "data": {
            "text/plain": [
              "        Dataset Algorithm  Sparsity  Recall@K  Precision@k\n",
              "0  Book Dataset       DNN  0.999661  0.000427     0.003333\n",
              "1        Amazon       DNN  0.997026  0.003769     0.007333"
            ],
            "text/html": [
              "\n",
              "  <div id=\"df-1d2e5eae-1683-40f9-9d5d-8980ce57aee8\">\n",
              "    <div class=\"colab-df-container\">\n",
              "      <div>\n",
              "<style scoped>\n",
              "    .dataframe tbody tr th:only-of-type {\n",
              "        vertical-align: middle;\n",
              "    }\n",
              "\n",
              "    .dataframe tbody tr th {\n",
              "        vertical-align: top;\n",
              "    }\n",
              "\n",
              "    .dataframe thead th {\n",
              "        text-align: right;\n",
              "    }\n",
              "</style>\n",
              "<table border=\"1\" class=\"dataframe\">\n",
              "  <thead>\n",
              "    <tr style=\"text-align: right;\">\n",
              "      <th></th>\n",
              "      <th>Dataset</th>\n",
              "      <th>Algorithm</th>\n",
              "      <th>Sparsity</th>\n",
              "      <th>Recall@K</th>\n",
              "      <th>Precision@k</th>\n",
              "    </tr>\n",
              "  </thead>\n",
              "  <tbody>\n",
              "    <tr>\n",
              "      <th>0</th>\n",
              "      <td>Book Dataset</td>\n",
              "      <td>DNN</td>\n",
              "      <td>0.999661</td>\n",
              "      <td>0.000427</td>\n",
              "      <td>0.003333</td>\n",
              "    </tr>\n",
              "    <tr>\n",
              "      <th>1</th>\n",
              "      <td>Amazon</td>\n",
              "      <td>DNN</td>\n",
              "      <td>0.997026</td>\n",
              "      <td>0.003769</td>\n",
              "      <td>0.007333</td>\n",
              "    </tr>\n",
              "  </tbody>\n",
              "</table>\n",
              "</div>\n",
              "      <button class=\"colab-df-convert\" onclick=\"convertToInteractive('df-1d2e5eae-1683-40f9-9d5d-8980ce57aee8')\"\n",
              "              title=\"Convert this dataframe to an interactive table.\"\n",
              "              style=\"display:none;\">\n",
              "        \n",
              "  <svg xmlns=\"http://www.w3.org/2000/svg\" height=\"24px\"viewBox=\"0 0 24 24\"\n",
              "       width=\"24px\">\n",
              "    <path d=\"M0 0h24v24H0V0z\" fill=\"none\"/>\n",
              "    <path d=\"M18.56 5.44l.94 2.06.94-2.06 2.06-.94-2.06-.94-.94-2.06-.94 2.06-2.06.94zm-11 1L8.5 8.5l.94-2.06 2.06-.94-2.06-.94L8.5 2.5l-.94 2.06-2.06.94zm10 10l.94 2.06.94-2.06 2.06-.94-2.06-.94-.94-2.06-.94 2.06-2.06.94z\"/><path d=\"M17.41 7.96l-1.37-1.37c-.4-.4-.92-.59-1.43-.59-.52 0-1.04.2-1.43.59L10.3 9.45l-7.72 7.72c-.78.78-.78 2.05 0 2.83L4 21.41c.39.39.9.59 1.41.59.51 0 1.02-.2 1.41-.59l7.78-7.78 2.81-2.81c.8-.78.8-2.07 0-2.86zM5.41 20L4 18.59l7.72-7.72 1.47 1.35L5.41 20z\"/>\n",
              "  </svg>\n",
              "      </button>\n",
              "      \n",
              "  <style>\n",
              "    .colab-df-container {\n",
              "      display:flex;\n",
              "      flex-wrap:wrap;\n",
              "      gap: 12px;\n",
              "    }\n",
              "\n",
              "    .colab-df-convert {\n",
              "      background-color: #E8F0FE;\n",
              "      border: none;\n",
              "      border-radius: 50%;\n",
              "      cursor: pointer;\n",
              "      display: none;\n",
              "      fill: #1967D2;\n",
              "      height: 32px;\n",
              "      padding: 0 0 0 0;\n",
              "      width: 32px;\n",
              "    }\n",
              "\n",
              "    .colab-df-convert:hover {\n",
              "      background-color: #E2EBFA;\n",
              "      box-shadow: 0px 1px 2px rgba(60, 64, 67, 0.3), 0px 1px 3px 1px rgba(60, 64, 67, 0.15);\n",
              "      fill: #174EA6;\n",
              "    }\n",
              "\n",
              "    [theme=dark] .colab-df-convert {\n",
              "      background-color: #3B4455;\n",
              "      fill: #D2E3FC;\n",
              "    }\n",
              "\n",
              "    [theme=dark] .colab-df-convert:hover {\n",
              "      background-color: #434B5C;\n",
              "      box-shadow: 0px 1px 3px 1px rgba(0, 0, 0, 0.15);\n",
              "      filter: drop-shadow(0px 1px 2px rgba(0, 0, 0, 0.3));\n",
              "      fill: #FFFFFF;\n",
              "    }\n",
              "  </style>\n",
              "\n",
              "      <script>\n",
              "        const buttonEl =\n",
              "          document.querySelector('#df-1d2e5eae-1683-40f9-9d5d-8980ce57aee8 button.colab-df-convert');\n",
              "        buttonEl.style.display =\n",
              "          google.colab.kernel.accessAllowed ? 'block' : 'none';\n",
              "\n",
              "        async function convertToInteractive(key) {\n",
              "          const element = document.querySelector('#df-1d2e5eae-1683-40f9-9d5d-8980ce57aee8');\n",
              "          const dataTable =\n",
              "            await google.colab.kernel.invokeFunction('convertToInteractive',\n",
              "                                                     [key], {});\n",
              "          if (!dataTable) return;\n",
              "\n",
              "          const docLinkHtml = 'Like what you see? Visit the ' +\n",
              "            '<a target=\"_blank\" href=https://colab.research.google.com/notebooks/data_table.ipynb>data table notebook</a>'\n",
              "            + ' to learn more about interactive tables.';\n",
              "          element.innerHTML = '';\n",
              "          dataTable['output_type'] = 'display_data';\n",
              "          await google.colab.output.renderOutput(dataTable, element);\n",
              "          const docLink = document.createElement('div');\n",
              "          docLink.innerHTML = docLinkHtml;\n",
              "          element.appendChild(docLink);\n",
              "        }\n",
              "      </script>\n",
              "    </div>\n",
              "  </div>\n",
              "  "
            ]
          },
          "metadata": {},
          "execution_count": 102
        }
      ],
      "source": [
        "summary_df"
      ],
      "id": "JOBdGeMvNixB"
    }
  ],
  "metadata": {
    "accelerator": "GPU",
    "colab": {
      "collapsed_sections": [
        "uGRD8a9sKacB",
        "zYyOauXtFRCV",
        "f3xxoXwZNaGu"
      ],
      "machine_shape": "hm",
      "provenance": []
    },
    "gpuClass": "standard",
    "kernelspec": {
      "display_name": "Python 3",
      "language": "python",
      "name": "python3"
    },
    "language_info": {
      "codemirror_mode": {
        "name": "ipython",
        "version": 3
      },
      "file_extension": ".py",
      "mimetype": "text/x-python",
      "name": "python",
      "nbconvert_exporter": "python",
      "pygments_lexer": "ipython3",
      "version": "3.6.5"
    }
  },
  "nbformat": 4,
  "nbformat_minor": 5
}