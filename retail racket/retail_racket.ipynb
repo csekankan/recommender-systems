{
  "cells": [
    {
      "cell_type": "code",
      "source": [
        "gpu_info = !nvidia-smi\n",
        "gpu_info = '\\n'.join(gpu_info)\n",
        "if gpu_info.find('failed') >= 0:\n",
        "  print('Not connected to a GPU')\n",
        "else:\n",
        "  print(gpu_info)"
      ],
      "metadata": {
        "colab": {
          "base_uri": "https://localhost:8080/"
        },
        "id": "_QphkgcDcwxr",
        "outputId": "bc32b9cf-526c-4b0e-e9d1-7d66774caee9"
      },
      "id": "_QphkgcDcwxr",
      "execution_count": null,
      "outputs": [
        {
          "output_type": "stream",
          "name": "stdout",
          "text": [
            "Mon Oct 17 18:38:07 2022       \n",
            "+-----------------------------------------------------------------------------+\n",
            "| NVIDIA-SMI 460.32.03    Driver Version: 460.32.03    CUDA Version: 11.2     |\n",
            "|-------------------------------+----------------------+----------------------+\n",
            "| GPU  Name        Persistence-M| Bus-Id        Disp.A | Volatile Uncorr. ECC |\n",
            "| Fan  Temp  Perf  Pwr:Usage/Cap|         Memory-Usage | GPU-Util  Compute M. |\n",
            "|                               |                      |               MIG M. |\n",
            "|===============================+======================+======================|\n",
            "|   0  Tesla T4            Off  | 00000000:00:04.0 Off |                    0 |\n",
            "| N/A   41C    P8     9W /  70W |      0MiB / 15109MiB |      0%      Default |\n",
            "|                               |                      |                  N/A |\n",
            "+-------------------------------+----------------------+----------------------+\n",
            "                                                                               \n",
            "+-----------------------------------------------------------------------------+\n",
            "| Processes:                                                                  |\n",
            "|  GPU   GI   CI        PID   Type   Process name                  GPU Memory |\n",
            "|        ID   ID                                                   Usage      |\n",
            "|=============================================================================|\n",
            "|  No running processes found                                                 |\n",
            "+-----------------------------------------------------------------------------+\n"
          ]
        }
      ]
    },
    {
      "cell_type": "code",
      "source": [
        "from psutil import virtual_memory\n",
        "ram_gb = virtual_memory().total / 1e9\n",
        "print('Your runtime has {:.1f} gigabytes of available RAM\\n'.format(ram_gb))\n",
        "\n",
        "if ram_gb < 20:\n",
        "  print('Not using a high-RAM runtime')\n",
        "else:\n",
        "  print('You are using a high-RAM runtime!')"
      ],
      "metadata": {
        "colab": {
          "base_uri": "https://localhost:8080/"
        },
        "id": "Kq_W9JJDczFA",
        "outputId": "f338b6cd-2e8b-42e6-e772-dc2b8061abf1"
      },
      "id": "Kq_W9JJDczFA",
      "execution_count": null,
      "outputs": [
        {
          "output_type": "stream",
          "name": "stdout",
          "text": [
            "Your runtime has 27.3 gigabytes of available RAM\n",
            "\n",
            "You are using a high-RAM runtime!\n"
          ]
        }
      ]
    },
    {
      "cell_type": "code",
      "execution_count": null,
      "id": "84eddad3",
      "metadata": {
        "id": "84eddad3"
      },
      "outputs": [],
      "source": [
        "from datetime import datetime\n",
        "import os\n",
        "import matplotlib\n",
        "import pandas as pd\n",
        "import numpy as np\n",
        "import matplotlib.pyplot as plt\n",
        "import seaborn as sns\n",
        "sns.set_style('whitegrid')\n",
        "\n",
        "from scipy import sparse\n",
        "from scipy.sparse import csc_matrix\n",
        "from sklearn.decomposition import TruncatedSVD\n",
        "\n",
        "np.random.seed(0)"
      ]
    },
    {
      "cell_type": "markdown",
      "metadata": {
        "id": "uGRD8a9sKacB"
      },
      "source": [
        "### Setup and Load dataset"
      ],
      "id": "uGRD8a9sKacB"
    },
    {
      "cell_type": "code",
      "execution_count": null,
      "metadata": {
        "id": "d6266078"
      },
      "outputs": [],
      "source": [
        "\n",
        "import pandas as pd\n",
        "import os\n",
        "from os.path import exists\n",
        "import zipfile\n",
        "import numpy as np"
      ],
      "id": "d6266078"
    },
    {
      "cell_type": "code",
      "source": [
        "!pip install scikit-learn"
      ],
      "metadata": {
        "colab": {
          "base_uri": "https://localhost:8080/"
        },
        "id": "H54YO5cNfiWJ",
        "outputId": "e5e4fb09-97aa-43af-dc93-5f23c146ac1d"
      },
      "id": "H54YO5cNfiWJ",
      "execution_count": null,
      "outputs": [
        {
          "output_type": "stream",
          "name": "stdout",
          "text": [
            "Looking in indexes: https://pypi.org/simple, https://us-python.pkg.dev/colab-wheels/public/simple/\n",
            "Requirement already satisfied: scikit-learn in /usr/local/lib/python3.7/dist-packages (1.0.2)\n",
            "Requirement already satisfied: numpy>=1.14.6 in /usr/local/lib/python3.7/dist-packages (from scikit-learn) (1.21.6)\n",
            "Requirement already satisfied: joblib>=0.11 in /usr/local/lib/python3.7/dist-packages (from scikit-learn) (1.2.0)\n",
            "Requirement already satisfied: scipy>=1.1.0 in /usr/local/lib/python3.7/dist-packages (from scikit-learn) (1.7.3)\n",
            "Requirement already satisfied: threadpoolctl>=2.0.0 in /usr/local/lib/python3.7/dist-packages (from scikit-learn) (3.1.0)\n"
          ]
        }
      ]
    },
    {
      "cell_type": "code",
      "source": [
        "# !pip install gdown\n",
        "# !pip uninstall scikit-surprise"
      ],
      "metadata": {
        "id": "DySpFNPLeYvJ"
      },
      "id": "DySpFNPLeYvJ",
      "execution_count": null,
      "outputs": []
    },
    {
      "cell_type": "code",
      "execution_count": null,
      "metadata": {
        "id": "cxXmZMhNL4vi"
      },
      "outputs": [],
      "source": [
        "SEED=42"
      ],
      "id": "cxXmZMhNL4vi"
    },
    {
      "cell_type": "code",
      "source": [
        "!gdown https://drive.google.com/uc?id=1wvQW5W2t5to-_eN0bu3eOqXIqz3NDXKH\n"
      ],
      "metadata": {
        "colab": {
          "base_uri": "https://localhost:8080/"
        },
        "id": "JN6L-XVUpDB3",
        "outputId": "a8078918-f2c1-4dcf-c1c2-bd5770d9bf54"
      },
      "execution_count": null,
      "outputs": [
        {
          "output_type": "stream",
          "name": "stdout",
          "text": [
            "Downloading...\n",
            "From: https://drive.google.com/uc?id=1wvQW5W2t5to-_eN0bu3eOqXIqz3NDXKH\n",
            "To: /content/retailrocket.zip\n",
            "100% 305M/305M [00:00<00:00, 346MB/s]\n"
          ]
        }
      ],
      "id": "JN6L-XVUpDB3"
    },
    {
      "cell_type": "code",
      "source": [
        "!unzip -o \"retailrocket.zip\"  -d  \"/content\""
      ],
      "metadata": {
        "id": "ncJF1kivt_uR",
        "colab": {
          "base_uri": "https://localhost:8080/"
        },
        "outputId": "9049304a-c66c-4727-adfc-2746892e16bc"
      },
      "execution_count": null,
      "outputs": [
        {
          "output_type": "stream",
          "name": "stdout",
          "text": [
            "Archive:  retailrocket.zip\n",
            "  inflating: /content/category_tree.csv  \n",
            "  inflating: /content/events.csv     \n",
            "  inflating: /content/item_properties_part1.csv  \n",
            "  inflating: /content/item_properties_part2.csv  \n"
          ]
        }
      ],
      "id": "ncJF1kivt_uR"
    },
    {
      "cell_type": "code",
      "source": [],
      "metadata": {
        "id": "fMGBfi7ZxzS1"
      },
      "id": "fMGBfi7ZxzS1",
      "execution_count": null,
      "outputs": []
    },
    {
      "cell_type": "markdown",
      "source": [
        "# Data Preprocessing"
      ],
      "metadata": {
        "id": "Td8WuUAB9d6y"
      },
      "id": "Td8WuUAB9d6y"
    },
    {
      "cell_type": "code",
      "source": [
        "rating_df =pd.read_csv('events.csv')\n"
      ],
      "metadata": {
        "id": "EA0Lm30qgfDw"
      },
      "id": "EA0Lm30qgfDw",
      "execution_count": null,
      "outputs": []
    },
    {
      "cell_type": "code",
      "source": [
        "rating_df.rename(columns = {str(\"timestamp\"):\"time\"}, inplace = True)\n",
        "rating_df.rename(columns = {str(\"visitorid\"):\"userID\"}, inplace = True)\n",
        "rating_df.rename(columns = {str(\"itemid\"):\"itemID\"}, inplace = True)"
      ],
      "metadata": {
        "id": "QiDrgIyJg2-9"
      },
      "id": "QiDrgIyJg2-9",
      "execution_count": null,
      "outputs": []
    },
    {
      "cell_type": "code",
      "source": [
        "rating_df.event.unique()"
      ],
      "metadata": {
        "colab": {
          "base_uri": "https://localhost:8080/"
        },
        "id": "hNL3N29FhMue",
        "outputId": "c591fa9b-a309-4c37-f469-d48fe8dd6327"
      },
      "id": "hNL3N29FhMue",
      "execution_count": null,
      "outputs": [
        {
          "output_type": "execute_result",
          "data": {
            "text/plain": [
              "array(['view', 'addtocart', 'transaction'], dtype=object)"
            ]
          },
          "metadata": {},
          "execution_count": 12
        }
      ]
    },
    {
      "cell_type": "code",
      "source": [
        "data_w = rating_df.copy()\n",
        "\n",
        "conditions = [\n",
        "    data_w['event'] == 'view',\n",
        "    data_w['event'] == 'addtocart',\n",
        "    data_w['event'] == 'transaction'\n",
        "]\n",
        "\n",
        "choices = [1, 2, 3]\n",
        "\n",
        "data_w['Weight'] = np.select(conditions, choices, default='black')\n",
        "\n",
        "# Convert to numeric type.\n",
        "data_w['Weight'] = pd.to_numeric(data_w['Weight'])"
      ],
      "metadata": {
        "id": "RmgBH50hd1ot"
      },
      "id": "RmgBH50hd1ot",
      "execution_count": null,
      "outputs": []
    },
    {
      "cell_type": "code",
      "source": [
        "data_wcount = data_w.groupby(['userID', 'itemID'])['Weight'].sum().reset_index()\n",
        "data_wcount.columns = ['userID', 'itemID', 'rating']"
      ],
      "metadata": {
        "id": "OsLzk5RDhZNq"
      },
      "id": "OsLzk5RDhZNq",
      "execution_count": null,
      "outputs": []
    },
    {
      "cell_type": "code",
      "source": [
        "rating_df=data_wcount"
      ],
      "metadata": {
        "id": "gO4xQPP59d69"
      },
      "execution_count": null,
      "outputs": [],
      "id": "gO4xQPP59d69"
    },
    {
      "cell_type": "code",
      "source": [],
      "metadata": {
        "id": "sgQalhjox5Ns"
      },
      "id": "sgQalhjox5Ns",
      "execution_count": null,
      "outputs": []
    },
    {
      "cell_type": "code",
      "source": [
        "sar_df =pd.read_csv('events.csv')\n"
      ],
      "metadata": {
        "id": "G7FIymKxx5UR"
      },
      "execution_count": null,
      "outputs": [],
      "id": "G7FIymKxx5UR"
    },
    {
      "cell_type": "code",
      "source": [
        "sar_df.rename(columns = {str(\"timestamp\"):\"time\"}, inplace = True)\n",
        "sar_df.rename(columns = {str(\"visitorid\"):\"userID\"}, inplace = True)\n",
        "sar_df.rename(columns = {str(\"itemid\"):\"itemID\"}, inplace = True)"
      ],
      "metadata": {
        "id": "F7cLsFJjx5US"
      },
      "execution_count": null,
      "outputs": [],
      "id": "F7cLsFJjx5US"
    },
    {
      "cell_type": "code",
      "source": [
        "data_w = sar_df.copy()\n",
        "\n",
        "conditions = [\n",
        "    data_w['event'] == 'view',\n",
        "    data_w['event'] == 'addtocart',\n",
        "    data_w['event'] == 'transaction'\n",
        "]\n",
        "\n",
        "choices = [1, 2, 3]\n",
        "\n",
        "data_w['Weight'] = np.select(conditions, choices, default='black')\n",
        "\n",
        "# Convert to numeric type.\n",
        "data_w['Weight'] = pd.to_numeric(data_w['Weight'])"
      ],
      "metadata": {
        "id": "gdBOpnZ6yL-7"
      },
      "execution_count": null,
      "outputs": [],
      "id": "gdBOpnZ6yL-7"
    },
    {
      "cell_type": "code",
      "source": [
        "sar_df=data_w"
      ],
      "metadata": {
        "id": "lYl8iHBMyL-8"
      },
      "execution_count": null,
      "outputs": [],
      "id": "lYl8iHBMyL-8"
    },
    {
      "cell_type": "code",
      "source": [
        "sar_df.rename(columns = {str(\"Weight\"):\"rating\"}, inplace = True)"
      ],
      "metadata": {
        "id": "DI1Yd0DQycBc"
      },
      "id": "DI1Yd0DQycBc",
      "execution_count": null,
      "outputs": []
    },
    {
      "cell_type": "code",
      "source": [
        "sar_df=sar_df[['userID','itemID','time','rating']]"
      ],
      "metadata": {
        "id": "HL5ISiw8x9H0"
      },
      "id": "HL5ISiw8x9H0",
      "execution_count": null,
      "outputs": []
    },
    {
      "cell_type": "code",
      "source": [
        "sar_df=sar_df.sort_values(by=['userID','time'],ascending=[False,False])"
      ],
      "metadata": {
        "id": "JX4Y_5HJyoeE"
      },
      "id": "JX4Y_5HJyoeE",
      "execution_count": null,
      "outputs": []
    },
    {
      "cell_type": "code",
      "source": [
        "sar_df=sar_df.groupby(['userID','itemID']).head(1)\n"
      ],
      "metadata": {
        "id": "RYfzrHRD0yQz"
      },
      "id": "RYfzrHRD0yQz",
      "execution_count": null,
      "outputs": []
    },
    {
      "cell_type": "markdown",
      "source": [
        "# Sparsity"
      ],
      "metadata": {
        "id": "BadDeJYPiMZe"
      },
      "id": "BadDeJYPiMZe"
    },
    {
      "cell_type": "code",
      "execution_count": null,
      "metadata": {
        "id": "89631a6b"
      },
      "outputs": [],
      "source": [
        "from scipy.sparse import csr_matrix\n",
        "def checkSparsity(main_df):\n",
        "   \n",
        "    # pivot_df = main_df.pivot_table(\n",
        "    #     index='itemID',\n",
        "    #     columns='userID',\n",
        "    #     values='rating'\n",
        "    # )\n",
        "    totalUsers=main_df.userID.unique().shape[0]\n",
        "    totalitems= main_df.itemID.unique().shape[0]\n",
        "    total=totalUsers*totalitems\n",
        "    totalreconds=main_df.shape[0]\n",
        "    sparsity=(total-totalreconds)/total\n",
        "    return sparsity"
      ],
      "id": "89631a6b"
    },
    {
      "cell_type": "code",
      "source": [
        "rating1_df=rating_df.copy()"
      ],
      "metadata": {
        "id": "bIox1XIfiYgK"
      },
      "id": "bIox1XIfiYgK",
      "execution_count": null,
      "outputs": []
    },
    {
      "cell_type": "code",
      "source": [
        "\n",
        "y = rating1_df.groupby('itemID').count()['rating']>=10\n",
        "ids = y[y].index\n",
        "rating1_df = rating1_df[rating1_df['itemID'].isin(ids)]\n",
        "y = rating1_df.groupby('userID').count()['rating']>=10\n",
        "ids = y[y].index\n",
        "rating1_df = rating1_df[rating1_df['userID'].isin(ids)]\n",
        "rating1_df.shape"
      ],
      "metadata": {
        "colab": {
          "base_uri": "https://localhost:8080/"
        },
        "id": "5dPxcessi95E",
        "outputId": "50ffb1eb-3aa8-4bc8-f47f-967d48f3971d"
      },
      "id": "5dPxcessi95E",
      "execution_count": null,
      "outputs": [
        {
          "output_type": "execute_result",
          "data": {
            "text/plain": [
              "(168517, 3)"
            ]
          },
          "metadata": {},
          "execution_count": 26
        }
      ]
    },
    {
      "cell_type": "code",
      "source": [
        "\n",
        "sparsity1=checkSparsity(rating1_df)\n",
        "sparsity1"
      ],
      "metadata": {
        "colab": {
          "base_uri": "https://localhost:8080/"
        },
        "id": "sihy1nHPiRGe",
        "outputId": "ea6beace-fa52-4d5e-bec5-a0ab449c7fb9"
      },
      "id": "sihy1nHPiRGe",
      "execution_count": null,
      "outputs": [
        {
          "output_type": "execute_result",
          "data": {
            "text/plain": [
              "0.9991598642226277"
            ]
          },
          "metadata": {},
          "execution_count": 27
        }
      ]
    },
    {
      "cell_type": "code",
      "source": [
        "rating2_df=rating_df.copy()"
      ],
      "metadata": {
        "id": "z0nAYW8Hig_i"
      },
      "id": "z0nAYW8Hig_i",
      "execution_count": null,
      "outputs": []
    },
    {
      "cell_type": "code",
      "source": [
        "\n",
        "y = rating2_df.groupby('itemID').count()['rating']>=30\n",
        "ids = y[y].index\n",
        "rating2_df = rating2_df[rating2_df['itemID'].isin(ids)]\n",
        "y = rating2_df.groupby('userID').count()['rating']>=30\n",
        "ids = y[y].index\n",
        "rating2_df = rating2_df[rating2_df['userID'].isin(ids)]\n",
        "rating2_df.shape"
      ],
      "metadata": {
        "colab": {
          "base_uri": "https://localhost:8080/"
        },
        "id": "vK_KSbMzibpy",
        "outputId": "d156d221-d07d-4c59-9566-7bbb3a6df82a"
      },
      "id": "vK_KSbMzibpy",
      "execution_count": null,
      "outputs": [
        {
          "output_type": "execute_result",
          "data": {
            "text/plain": [
              "(47186, 3)"
            ]
          },
          "metadata": {},
          "execution_count": 29
        }
      ]
    },
    {
      "cell_type": "code",
      "source": [
        "\n",
        "sparsity2=checkSparsity(rating2_df)\n",
        "sparsity2"
      ],
      "metadata": {
        "colab": {
          "base_uri": "https://localhost:8080/"
        },
        "id": "rkqPqoRiitUv",
        "outputId": "5725778e-c89f-4701-dcf8-a2d5c47cc763"
      },
      "id": "rkqPqoRiitUv",
      "execution_count": null,
      "outputs": [
        {
          "output_type": "execute_result",
          "data": {
            "text/plain": [
              "0.9883489488102896"
            ]
          },
          "metadata": {},
          "execution_count": 30
        }
      ]
    },
    {
      "cell_type": "code",
      "source": [
        "rating3_df=rating_df.copy()"
      ],
      "metadata": {
        "id": "6Kepj33uixiD"
      },
      "execution_count": null,
      "outputs": [],
      "id": "6Kepj33uixiD"
    },
    {
      "cell_type": "code",
      "source": [
        "\n",
        "y = rating3_df.groupby('itemID').count()['rating']>=50\n",
        "ids = y[y].index\n",
        "rating3_df = rating3_df[rating3_df['itemID'].isin(ids)]\n",
        "y = rating3_df.groupby('userID').count()['rating']>=30\n",
        "ids = y[y].index\n",
        "rating3_df = rating3_df[rating3_df['userID'].isin(ids)]\n",
        "rating3_df.shape"
      ],
      "metadata": {
        "colab": {
          "base_uri": "https://localhost:8080/"
        },
        "outputId": "0cb6d579-f636-4fa5-9a39-0c4ab209d2b3",
        "id": "60VVTnHFixiE"
      },
      "execution_count": null,
      "outputs": [
        {
          "output_type": "execute_result",
          "data": {
            "text/plain": [
              "(30343, 3)"
            ]
          },
          "metadata": {},
          "execution_count": 32
        }
      ],
      "id": "60VVTnHFixiE"
    },
    {
      "cell_type": "code",
      "source": [
        "\n",
        "sparsity3=checkSparsity(rating3_df)\n",
        "sparsity3"
      ],
      "metadata": {
        "outputId": "5f7ae09b-9d80-441f-b02f-97ed2ba0eca1",
        "colab": {
          "base_uri": "https://localhost:8080/"
        },
        "id": "XABY3yFhixiE"
      },
      "execution_count": null,
      "outputs": [
        {
          "output_type": "execute_result",
          "data": {
            "text/plain": [
              "0.9798907820877322"
            ]
          },
          "metadata": {},
          "execution_count": 33
        }
      ],
      "id": "XABY3yFhixiE"
    },
    {
      "cell_type": "code",
      "source": [
        "sar1_df=sar_df.copy()"
      ],
      "metadata": {
        "id": "8MVg4VEZzZJV"
      },
      "id": "8MVg4VEZzZJV",
      "execution_count": null,
      "outputs": []
    },
    {
      "cell_type": "code",
      "source": [
        "\n",
        "y = sar1_df.groupby('itemID').count()['rating']>=30\n",
        "ids = y[y].index\n",
        "sar1_df = sar1_df[sar1_df['itemID'].isin(ids)]\n",
        "y = sar1_df.groupby('userID').count()['rating']>=30\n",
        "ids = y[y].index\n",
        "sar1_df = sar1_df[sar1_df['userID'].isin(ids)]\n",
        "sar1_df.shape"
      ],
      "metadata": {
        "colab": {
          "base_uri": "https://localhost:8080/"
        },
        "outputId": "8b66f1cf-4589-45d3-d5fe-4a8effb65868",
        "id": "ZQ-OeB5TzDRC"
      },
      "execution_count": null,
      "outputs": [
        {
          "output_type": "execute_result",
          "data": {
            "text/plain": [
              "(47186, 4)"
            ]
          },
          "metadata": {},
          "execution_count": 35
        }
      ],
      "id": "ZQ-OeB5TzDRC"
    },
    {
      "cell_type": "code",
      "source": [
        "sar2_df=sar_df.copy()"
      ],
      "metadata": {
        "id": "x02xNTqd1oSt"
      },
      "id": "x02xNTqd1oSt",
      "execution_count": null,
      "outputs": []
    },
    {
      "cell_type": "code",
      "source": [
        "\n",
        "y = sar2_df.groupby('itemID').count()['rating']>=10\n",
        "ids = y[y].index\n",
        "sar2_df = sar2_df[sar2_df['itemID'].isin(ids)]\n",
        "y = sar2_df.groupby('userID').count()['rating']>=10\n",
        "ids = y[y].index\n",
        "sar2_df = sar2_df[sar2_df['userID'].isin(ids)]\n",
        "sar2_df.shape"
      ],
      "metadata": {
        "colab": {
          "base_uri": "https://localhost:8080/"
        },
        "id": "P36RGQ8Mzd4t",
        "outputId": "ea34e151-3119-4abf-a983-d40cb2c0c158"
      },
      "id": "P36RGQ8Mzd4t",
      "execution_count": null,
      "outputs": [
        {
          "output_type": "execute_result",
          "data": {
            "text/plain": [
              "(168517, 4)"
            ]
          },
          "metadata": {},
          "execution_count": 37
        }
      ]
    },
    {
      "cell_type": "code",
      "source": [
        "\n",
        "sparsity_sar1=checkSparsity(sar1_df)\n",
        "sparsity_sar1"
      ],
      "metadata": {
        "colab": {
          "base_uri": "https://localhost:8080/"
        },
        "outputId": "28b59974-127a-4452-a85c-7b6dc27701ab",
        "id": "PJbabKFpzDRE"
      },
      "execution_count": null,
      "outputs": [
        {
          "output_type": "execute_result",
          "data": {
            "text/plain": [
              "0.9883489488102896"
            ]
          },
          "metadata": {},
          "execution_count": 38
        }
      ],
      "id": "PJbabKFpzDRE"
    },
    {
      "cell_type": "code",
      "source": [
        "\n",
        "sparsity_sar2=checkSparsity(sar2_df)\n",
        "sparsity_sar2"
      ],
      "metadata": {
        "colab": {
          "base_uri": "https://localhost:8080/"
        },
        "id": "uSTDbdTez4MM",
        "outputId": "a9a210c2-94f6-4987-a307-dbd1857f2281"
      },
      "id": "uSTDbdTez4MM",
      "execution_count": null,
      "outputs": [
        {
          "output_type": "execute_result",
          "data": {
            "text/plain": [
              "0.9991598642226277"
            ]
          },
          "metadata": {},
          "execution_count": 39
        }
      ]
    },
    {
      "cell_type": "code",
      "source": [
        "summary_df=pd.DataFrame(columns=['Dataset','Algorithm','Sparsity','Recall@K','Precision@k'])"
      ],
      "metadata": {
        "id": "rgpfSIatjn7S"
      },
      "id": "rgpfSIatjn7S",
      "execution_count": null,
      "outputs": []
    },
    {
      "cell_type": "code",
      "source": [
        "userID=\"userID\"\n",
        "itemID=\"itemID\"\n",
        "score=\"rating\"\n",
        "timestamp=None"
      ],
      "metadata": {
        "id": "4S4GbDI1jp1x"
      },
      "id": "4S4GbDI1jp1x",
      "execution_count": null,
      "outputs": []
    },
    {
      "cell_type": "markdown",
      "metadata": {
        "id": "ry8ttqPqPHUI"
      },
      "source": [
        "# Factorization machine"
      ],
      "id": "ry8ttqPqPHUI"
    },
    {
      "cell_type": "code",
      "source": [
        "!pip install rankfm"
      ],
      "metadata": {
        "colab": {
          "base_uri": "https://localhost:8080/"
        },
        "id": "VocHPciSU4LG",
        "outputId": "02256bba-12e8-47cf-fdeb-6b6d8c377697"
      },
      "execution_count": null,
      "outputs": [
        {
          "output_type": "stream",
          "name": "stdout",
          "text": [
            "Looking in indexes: https://pypi.org/simple, https://us-python.pkg.dev/colab-wheels/public/simple/\n",
            "Collecting rankfm\n",
            "  Downloading rankfm-0.2.5.tar.gz (145 kB)\n",
            "\u001b[K     |████████████████████████████████| 145 kB 4.1 MB/s \n",
            "\u001b[?25hRequirement already satisfied: numpy>=1.15 in /usr/local/lib/python3.7/dist-packages (from rankfm) (1.21.6)\n",
            "Requirement already satisfied: pandas>=0.24 in /usr/local/lib/python3.7/dist-packages (from rankfm) (1.3.5)\n",
            "Requirement already satisfied: pytz>=2017.3 in /usr/local/lib/python3.7/dist-packages (from pandas>=0.24->rankfm) (2022.4)\n",
            "Requirement already satisfied: python-dateutil>=2.7.3 in /usr/local/lib/python3.7/dist-packages (from pandas>=0.24->rankfm) (2.8.2)\n",
            "Requirement already satisfied: six>=1.5 in /usr/local/lib/python3.7/dist-packages (from python-dateutil>=2.7.3->pandas>=0.24->rankfm) (1.15.0)\n",
            "Building wheels for collected packages: rankfm\n",
            "  Building wheel for rankfm (setup.py) ... \u001b[?25l\u001b[?25hdone\n",
            "  Created wheel for rankfm: filename=rankfm-0.2.5-cp37-cp37m-linux_x86_64.whl size=386163 sha256=2c3f9708bd4ba3a08bbf1b7fd83cc407d4367c162323d3319527a0255d1701e6\n",
            "  Stored in directory: /root/.cache/pip/wheels/99/5f/9d/caa74d8a3cad3dcc3ed9e02d27e7bc18d0ccd1dd5ed1fcdb99\n",
            "Successfully built rankfm\n",
            "Installing collected packages: rankfm\n",
            "Successfully installed rankfm-0.2.5\n"
          ]
        }
      ],
      "id": "VocHPciSU4LG"
    },
    {
      "cell_type": "code",
      "execution_count": null,
      "metadata": {
        "id": "EkeobLglJZF1"
      },
      "outputs": [],
      "source": [
        "from rankfm.rankfm import RankFM\n",
        "from rankfm.evaluation import hit_rate, reciprocal_rank, discounted_cumulative_gain, precision, recall, diversity\n",
        "from datetime import datetime\n"
      ],
      "id": "EkeobLglJZF1"
    },
    {
      "cell_type": "code",
      "execution_count": null,
      "metadata": {
        "id": "PZ-CEmcAJZF1"
      },
      "outputs": [],
      "source": [
        "EPOCHS=50\n",
        "MAX_SAMPLES=30\n",
        "ALPHA=0.01\n",
        "SIGMA=0.1\n",
        "LR=0.10\n",
        "LOSS='warp'\n",
        "FACTORS=20"
      ],
      "id": "PZ-CEmcAJZF1"
    },
    {
      "cell_type": "code",
      "source": [
        "FMUSER='user_id'\n",
        "FMITEM='item_id'"
      ],
      "metadata": {
        "id": "-Y7HBRplkOaG"
      },
      "id": "-Y7HBRplkOaG",
      "execution_count": null,
      "outputs": []
    },
    {
      "cell_type": "code",
      "execution_count": null,
      "metadata": {
        "id": "2DUwx1z4JZF1"
      },
      "outputs": [],
      "source": [
        "class FactMachineExplicit:\n",
        "  def setup(self,fm_df):\n",
        "    self.valid_recommendations= None\n",
        "    fm_df['random'] = np.random.random(size=len(fm_df))\n",
        "    test_pct = 0.25\n",
        "    train_mask = fm_df['random'] <  (1 - test_pct)\n",
        "    valid_mask = fm_df['random'] >= (1 - test_pct)\n",
        "    self.interactions_train = fm_df[train_mask].groupby([FMUSER, FMITEM]).mean().reset_index()\n",
        "    self.interactions_valid = fm_df[valid_mask].groupby([FMUSER, FMITEM]).mean().reset_index()\n",
        " \n",
        "   \n",
        "    self.weight_train = np.log2(self.interactions_train[RATING] + 1)\n",
        "    self.weight_valid =  np.log2(self.interactions_valid[RATING] + 1)\n",
        "\n",
        "    self.interactions_train=self.interactions_train[[FMUSER, FMITEM]]\n",
        "    self.interactions_valid=self.interactions_valid[[FMUSER, FMITEM]]\n",
        "    self.train_users = np.sort(self.interactions_train[FMUSER].unique())\n",
        "    self.valid_users = np.sort(self.interactions_valid[FMUSER].unique())\n",
        "    cold_start_users = set(self.valid_users) - set(self.train_users)\n",
        "    self.train_items = np.sort(self.interactions_train[FMITEM].unique())\n",
        "    self.valid_items = np.sort(self.interactions_valid[FMITEM].unique())\n",
        "    cold_start_items = set(self.valid_items) - set(self.train_items)\n",
        "    \n",
        "    print(\"train shape: {}\".format(self.interactions_train.shape))\n",
        "    print(\"valid shape: {}\".format(self.interactions_valid.shape))\n",
        "\n",
        "    print(\"train users: {}\".format(len(self.train_users)))\n",
        "    print(\"valid users: {}\".format(len(self.valid_users)))\n",
        "    print(\"cold-start users: {}\".format(cold_start_users))\n",
        "\n",
        "    print(\"train items: {}\".format(len(self.train_items)))\n",
        "    print(\"valid items: {}\".format(len(self.valid_items)))\n",
        "    print(\"cold-start items: {}\".format(cold_start_items))\n",
        "    self.user_features_train=None\n",
        "    self.user_features_valid=None\n",
        "    self.item_features_train=None\n",
        "    self.item_features_valid=None\n",
        "\n",
        "     \n",
        "    self.model = RankFM(factors=FACTORS, loss=LOSS, max_samples=MAX_SAMPLES, alpha=ALPHA, sigma=SIGMA, learning_rate=LR, learning_schedule='invscaling')\n",
        "\n",
        "  def train(self):\n",
        "    #print(self.item_features_train.columns[0])\n",
        "    before= datetime.now()\n",
        "    # if self.item_features_train is not None and self.user_features_train is not None:\n",
        "    #   self.model.fit(self.interactions_train,item_features=self.item_features_train,user_features=self.user_features_train, epochs=20, verbose=True)\n",
        "    # if self.item_features_train is  None and self.user_features_train is not None:\n",
        "    #   self.model.fit(self.interactions_train,user_features=self.user_features_train, epochs=EPOCHS, verbose=True)\n",
        " \n",
        "    # if self.item_features_train is not None and self.user_features_train is  None:\n",
        "    #   self.model.fit(self.interactions_train,sample_weight=self.weight_train,item_features=self.item_features_train, epochs=EPOCHS, verbose=True)\n",
        "    # if self.item_features_train is  None and self.user_features_train is  None:\n",
        "    self.model.fit(self.interactions_train,sample_weight=self.weight_train, epochs=EPOCHS, verbose=False)\n",
        " \n",
        "    after= datetime.now()\n",
        "    self.duration = after-before \n",
        "  def evaluate(self,k):\n",
        "    if self.valid_recommendations is None:\n",
        "      self.valid_recommendations = self.model.recommend(self.valid_users, n_items=10, filter_previous=True, cold_start='nan')\n",
        "    self.model_hit_rate = hit_rate(self.model, self.interactions_valid, k=k)\n",
        "    self.model_reciprocal_rank = reciprocal_rank(self.model, self.interactions_valid, k=k)\n",
        "    self.model_dcg = discounted_cumulative_gain(self.model, self.interactions_valid, k=k)\n",
        "    self.model_precision = precision(self.model, self.interactions_valid, k=k)\n",
        "    self.model_recall = recall(self.model, self.interactions_valid, k=k)\n",
        "    print(\"hit_rate: {:.3f}\".format(self.model_hit_rate))\n",
        "    print(\"reciprocal_rank: {:.3f}\".format(self.model_reciprocal_rank))\n",
        "    print(\"dcg: {:.3f}\".format(self.model_dcg, 3))\n",
        "    print(\"precision: {:.3f}\".format(self.model_precision))\n",
        "    print(\"recall: {:.3f}\".format(self.model_recall))\n",
        "    return self.model_recall,self.model_precision,self.model_hit_rate,self.duration.total_seconds()\n",
        "\n"
      ],
      "id": "2DUwx1z4JZF1"
    },
    {
      "cell_type": "code",
      "source": [
        "USER=\"userID\"\n",
        "ITEM=\"itemID\"\n",
        "RATING=\"rating\"\n",
        "TOP_K=20"
      ],
      "metadata": {
        "id": "SbSQbeG1VAju"
      },
      "execution_count": null,
      "outputs": [],
      "id": "SbSQbeG1VAju"
    },
    {
      "cell_type": "code",
      "source": [
        "fm_df=rating1_df.copy()\n",
        "FMUSER='user_id'\n",
        "FMITEM='item_id'\n",
        "fm_df.rename(columns = {USER:FMUSER, ITEM:FMITEM}, inplace = True)\n",
        "fm_df=fm_df[[FMUSER,FMITEM,RATING]]\n",
        "fm=FactMachineExplicit()\n",
        "fm.setup(fm_df)\n",
        "fm.train()\n",
        "fm_testrecall,fm_testprecesion,hit,fm_duration=fm.evaluate(TOP_K)\n",
        "\n"
      ],
      "metadata": {
        "colab": {
          "base_uri": "https://localhost:8080/"
        },
        "id": "Qty-qLw-kVIt",
        "outputId": "346cf1eb-1b52-47c5-dde0-bb65076617b8"
      },
      "id": "Qty-qLw-kVIt",
      "execution_count": null,
      "outputs": [
        {
          "output_type": "stream",
          "name": "stdout",
          "text": [
            "train shape: (126153, 2)\n",
            "valid shape: (42364, 2)\n",
            "train users: 6717\n",
            "valid users: 6550\n",
            "cold-start users: set()\n",
            "train items: 27863\n",
            "valid items: 18498\n",
            "cold-start items: {8193, 229378, 401411, 212993, 253956, 294918, 122890, 229388, 409612, 49167, 90130, 19, 180248, 8218, 221212, 16420, 131111, 57386, 278576, 270386, 213043, 385077, 139324, 458813, 90183, 270410, 147530, 401488, 458836, 229470, 106591, 335969, 106595, 426085, 335974, 41063, 434291, 155765, 344184, 24698, 327810, 213129, 327819, 131217, 221333, 352410, 49307, 221343, 278689, 417954, 32934, 180406, 352442, 426171, 327870, 41150, 336063, 270529, 204999, 327884, 319692, 16594, 393427, 172244, 8411, 262374, 139506, 205044, 442612, 254200, 459002, 434429, 221443, 434454, 459040, 24871, 305, 295218, 8497, 303412, 147763, 442674, 311603, 319797, 74041, 213307, 393533, 180544, 254278, 393547, 418127, 33105, 41297, 237913, 254297, 213354, 434539, 213358, 401778, 221558, 139639, 24956, 24960, 246147, 409991, 237960, 229772, 393612, 246156, 319886, 287124, 344469, 270752, 336304, 65971, 164276, 360886, 262591, 287168, 74178, 139715, 401858, 25029, 115154, 90586, 295407, 115183, 213494, 319996, 156164, 156173, 107022, 426513, 123412, 459300, 410148, 229926, 442932, 188980, 180792, 279101, 311873, 131652, 311883, 8782, 287310, 246352, 90715, 369246, 82526, 336480, 66145, 74343, 254585, 123518, 311935, 344713, 8847, 451217, 303774, 303778, 115363, 230058, 271022, 58042, 221883, 221885, 99008, 385748, 25315, 361199, 361200, 221938, 17140, 369397, 369399, 213751, 205561, 262916, 148233, 451347, 443157, 230166, 271133, 58141, 254750, 320288, 336680, 279336, 303915, 41772, 213807, 262971, 148284, 410428, 222012, 361281, 295747, 410442, 164686, 287568, 303954, 82771, 328541, 181089, 99172, 213866, 148336, 885, 344963, 320396, 394129, 238495, 41889, 222115, 320426, 172971, 123820, 320429, 222133, 148406, 9146, 50107, 74688, 963, 279504, 254930, 426963, 173014, 156636, 107490, 140266, 91116, 91117, 91118, 230386, 451574, 377850, 361467, 82940, 369661, 410620, 353274, 451580, 394247, 435211, 197659, 394267, 214049, 361507, 214054, 74792, 50221, 164912, 394290, 74802, 377908, 377910, 205893, 33863, 91210, 255055, 140368, 115792, 132182, 296031, 140384, 427107, 271464, 369773, 238705, 435321, 132218, 459905, 296068, 50308, 386180, 402571, 337046, 165018, 222376, 181417, 91308, 320684, 443568, 328881, 419004, 42177, 279746, 255173, 427211, 263374, 1233, 419032, 189658, 287962, 115932, 230627, 427239, 74984, 197866, 115946, 165100, 271601, 206068, 58614, 328952, 140537, 222461, 328962, 238851, 271619, 288004, 9478, 443683, 140605, 17731, 419150, 386383, 337236, 361814, 222550, 370013, 91487, 197986, 394608, 329074, 165236, 451967, 140673, 411012, 75141, 345477, 1415, 34184, 279945, 222606, 435612, 17820, 140705, 34221, 83381, 271802, 206271, 50628, 312776, 239050, 124364, 427475, 173523, 50652, 345569, 320995, 67056, 411121, 386550, 460287, 67071, 378369, 173570, 452098, 206347, 263692, 239118, 157200, 296465, 452128, 386593, 157220, 460325, 157224, 26154, 124465, 58942, 394819, 271944, 378458, 18011, 255586, 165476, 165483, 181874, 452213, 394872, 75395, 1668, 91785, 247436, 386701, 1682, 312978, 132756, 247455, 345763, 124590, 67247, 411311, 353967, 83639, 353975, 378555, 370365, 411328, 42694, 173770, 419533, 149200, 165591, 444119, 419552, 370404, 280295, 231150, 50927, 394994, 124658, 321272, 141050, 263937, 280330, 124687, 313104, 411409, 18194, 239379, 263956, 255759, 452373, 18199, 100121, 59164, 395041, 395045, 100141, 198446, 83759, 255792, 419635, 165686, 362296, 59192, 395068, 116544, 198467, 157509, 427850, 59211, 362317, 370510, 108374, 452443, 124764, 436063, 296801, 272234, 378744, 59256, 10107, 1920, 272261, 452489, 83850, 75659, 288655, 67472, 10137, 427930, 329627, 42922, 198574, 403377, 239538, 296889, 42940, 1985, 272327, 10187, 34767, 149463, 67547, 239590, 239594, 34796, 108526, 288757, 247805, 10239, 116744, 288776, 59405, 321555, 329749, 329754, 288807, 75827, 59445, 231478, 51255, 223287, 264265, 182352, 378961, 272469, 264284, 321631, 149601, 26730, 18553, 125049, 84093, 59519, 26753, 182405, 444553, 329867, 174219, 116875, 452747, 125068, 321676, 125079, 223386, 387227, 362658, 403619, 67754, 297140, 444603, 313534, 428227, 174276, 346311, 141515, 256206, 248015, 444628, 297179, 436444, 166109, 59625, 297198, 149748, 280825, 51454, 297223, 10503, 207129, 125212, 452896, 403745, 149797, 51495, 174380, 403757, 452908, 297264, 67896, 2371, 76099, 43335, 436552, 403788, 207185, 51540, 158037, 248151, 215385, 223578, 133476, 428393, 51561, 412011, 117103, 117108, 420217, 108927, 207240, 280968, 289160, 117131, 280975, 444820, 305558, 420249, 330143, 444832, 362914, 281000, 51628, 395693, 330161, 297398, 92599, 453047, 297408, 141767, 240078, 362966, 215513, 174560, 289249, 141795, 403942, 18924, 223729, 461309, 453123, 174599, 76299, 379407, 248336, 43540, 141845, 313877, 330264, 379426, 444962, 166437, 346661, 68135, 404007, 150060, 150063, 125497, 387645, 19019, 117326, 289360, 346709, 109145, 166491, 117341, 305759, 289375, 117357, 338544, 182897, 215668, 207477, 420470, 232055, 10875, 453245, 43646, 182910, 10880, 19078, 191128, 92832, 117409, 297634, 436898, 346790, 43688, 346795, 363183, 297652, 281270, 133818, 297659, 248512, 322245, 191177, 43727, 158418, 428756, 174807, 51930, 363230, 436960, 27361, 166635, 43757, 248558, 330481, 248562, 355061, 240375, 199418, 101120, 84737, 445187, 183057, 437011, 281366, 240407, 92951, 232223, 412447, 355106, 387880, 322345, 281397, 125749, 68409, 248646, 248652, 289615, 346967, 379744, 256866, 150373, 404331, 68461, 240495, 199541, 338812, 445310, 347008, 19334, 355206, 371592, 363402, 183183, 297875, 297880, 306076, 297886, 265122, 273320, 224173, 150488, 371673, 216025, 60376, 19423, 437217, 306148, 412650, 273390, 461809, 265204, 330750, 125950, 232448, 224256, 371724, 248847, 371733, 35872, 289827, 76838, 232489, 273450, 166957, 232522, 216138, 240718, 396375, 85083, 85088, 412770, 150632, 420968, 199787, 232556, 76912, 126066, 232570, 44154, 150656, 445572, 60555, 437388, 248975, 437397, 322715, 232607, 11423, 273571, 142504, 183467, 52400, 462002, 208051, 289973, 85182, 52415, 404672, 11471, 208082, 232663, 339176, 437491, 371960, 257274, 3329, 126216, 60681, 347402, 240908, 232720, 36117, 462105, 249114, 183579, 109856, 19747, 281891, 77097, 224557, 257327, 355633, 175417, 134459, 445755, 109888, 27974, 142668, 413005, 388431, 208214, 445784, 126296, 372058, 453979, 380255, 167269, 380261, 11626, 265581, 388461, 44399, 454001, 167283, 183667, 388468, 134521, 159104, 347521, 388481, 257413, 462214, 429449, 232845, 241044, 126357, 101787, 44443, 28062, 191906, 241061, 52645, 19885, 363951, 314803, 413108, 413113, 110010, 265659, 60873, 298442, 11728, 388563, 273876, 282072, 3550, 44511, 323042, 142843, 175614, 151040, 429571, 19977, 3611, 36387, 421412, 388648, 126507, 257584, 265780, 192053, 233019, 110140, 175681, 413251, 118341, 151111, 241224, 52809, 454227, 200276, 110165, 323161, 339547, 274014, 134751, 372333, 241262, 11887, 364150, 241275, 192133, 306822, 159369, 306827, 69265, 241297, 110242, 388779, 167599, 405169, 102067, 274103, 380601, 249530, 52923, 126653, 282302, 454345, 69322, 175825, 52957, 151263, 143082, 36589, 438001, 200435, 143096, 151308, 126735, 12049, 143121, 184090, 257820, 85791, 110374, 200488, 241449, 241450, 356142, 298801, 167730, 110385, 208691, 69430, 44854, 413494, 315205, 339783, 421704, 397138, 331613, 192353, 290659, 266090, 413548, 159604, 438133, 429944, 176004, 339855, 233363, 274329, 257947, 200605, 192418, 274344, 118697, 462766, 28595, 200630, 315323, 331712, 298945, 241612, 200658, 380893, 12260, 151534, 176112, 413691, 102399, 20483, 135173, 315401, 233485, 241684, 454682, 69661, 36894, 241693, 331808, 208935, 430121, 299053, 389172, 421940, 61500, 12352, 438345, 282704, 413777, 69714, 233557, 381023, 438370, 331875, 430189, 274547, 454771, 413814, 331902, 299136, 176258, 102535, 282759, 430218, 397458, 110741, 176281, 184488, 118957, 438449, 69816, 323768, 184507, 151740, 192704, 381121, 143554, 94403, 94407, 209112, 340184, 233691, 151776, 192738, 372967, 209131, 127214, 364784, 110840, 364794, 143621, 372997, 340238, 381198, 143632, 389391, 364818, 45332, 78100, 127256, 258340, 78119, 315689, 209197, 78129, 241973, 323896, 266556, 151871, 233795, 184655, 143698, 233811, 209235, 274770, 61779, 29016, 110950, 332136, 307564, 20857, 438657, 332163, 291210, 119179, 110994, 70039, 119191, 111001, 315800, 348576, 233891, 61859, 332203, 184756, 373174, 315837, 397765, 4553, 365002, 184781, 168408, 176600, 422361, 405989, 283111, 397803, 176620, 143856, 78323, 455159, 111099, 209411, 266761, 414222, 21007, 217617, 102933, 299545, 135706, 217625, 299551, 61983, 340514, 225829, 135719, 184872, 283175, 455210, 225849, 438844, 201284, 62023, 21066, 119373, 422480, 53843, 332372, 406107, 283230, 447075, 103012, 127593, 283242, 12909, 37487, 389748, 217719, 258680, 37497, 53883, 225917, 463487, 111231, 4740, 414346, 258704, 53906, 62098, 201367, 184983, 135840, 29346, 438949, 111275, 201391, 152241, 4786, 455347, 234169, 316098, 422597, 168648, 37577, 242380, 168653, 447184, 455377, 160466, 127699, 45782, 242390, 193242, 250589, 160480, 127713, 144099, 266999, 275202, 439044, 332554, 439053, 201489, 365329, 447260, 13090, 324393, 144172, 144177, 217905, 103222, 201529, 62266, 78653, 13119, 291647, 316229, 463697, 136035, 70500, 267108, 78694, 21348, 62312, 37742, 455537, 283507, 136053, 127861, 86904, 103292, 201600, 78724, 62341, 177030, 390022, 316298, 414605, 168846, 62356, 13205, 340890, 373659, 373661, 439201, 95143, 152490, 365486, 258990, 226224, 201649, 455601, 95155, 324533, 209849, 119744, 201667, 29642, 308172, 291792, 21457, 5074, 185303, 373725, 406512, 414704, 62453, 136184, 95241, 455689, 308236, 439312, 324624, 373788, 439324, 95260, 324636, 70689, 242744, 373823, 78919, 349256, 234570, 414794, 62539, 406609, 193625, 70751, 275554, 218211, 5227, 152687, 136306, 201856, 46220, 324750, 103571, 431254, 201881, 382105, 365724, 152734, 210086, 373928, 332975, 79024, 234673, 365749, 267446, 111802, 308411, 365756, 373952, 259266, 300231, 5323, 283853, 5328, 259285, 431319, 267487, 152800, 382181, 120040, 398572, 267504, 152816, 349430, 431357, 169214, 54527, 439553, 382211, 292105, 341271, 70940, 390428, 439586, 341285, 324906, 439595, 455978, 455981, 210229, 333115, 210237, 357697, 324933, 210251, 5454, 365911, 415065, 456025, 415071, 259426, 54631, 349546, 324972, 136560, 447857, 62835, 210292, 234874, 120189, 333184, 390532, 161158, 243083, 439697, 185748, 415124, 447893, 423324, 87453, 144798, 21921, 13731, 415141, 243112, 218541, 71097, 112060, 374205, 46526, 210368, 169413, 38343, 87499, 366029, 333274, 46555, 226784, 292322, 234985, 366058, 398825, 251373, 103922, 292341, 398841, 267771, 243196, 202238, 464382, 333317, 382472, 22028, 341517, 456214, 5658, 13850, 136735, 325153, 169506, 374306, 251426, 415267, 22053, 431657, 243241, 177707, 357938, 120372, 120379, 423489, 390724, 38470, 456265, 374359, 5728, 104032, 226915, 439913, 120429, 104050, 202364, 79496, 161423, 202400, 358050, 341668, 349861, 54951, 95912, 202409, 54965, 243417, 112348, 243420, 79585, 186082, 325351, 22261, 382709, 341751, 399110, 5897, 136971, 194316, 399117, 235281, 259857, 358167, 309016, 194328, 268061, 145183, 415524, 333606, 399142, 358182, 30513, 79670, 415553, 235330, 218948, 104265, 177993, 235344, 63313, 317266, 71511, 194391, 38748, 128863, 186212, 14181, 456549, 202602, 358250, 227182, 341871, 292724, 210806, 210813, 178047, 399234, 382854, 464777, 112524, 350094, 87951, 186255, 153489, 423828, 137115, 79774, 407460, 251812, 341937, 374705, 47027, 341941, 128950, 317369, 38842, 219072, 22471, 202697, 71634, 145367, 448485, 120806, 210919, 391145, 342007, 350205, 186373, 325641, 391177, 153611, 276493, 129044, 432158, 194597, 358438, 63528, 210985, 194605, 301104, 309300, 251970, 301130, 120906, 211021, 227406, 333904, 383059, 448597, 415831, 88154, 284762, 104544, 186468, 374890, 211051, 227437, 47216, 170100, 309365, 178294, 276598, 317560, 268409, 325759, 448649, 358538, 71823, 235666, 63637, 342166, 227485, 415902, 448677, 293029, 448683, 350380, 14513, 47281, 6324, 80053, 104630, 317635, 145611, 276684, 227532, 63698, 96467, 129247, 448747, 30959, 293103, 391408, 219380, 465146, 121084, 88318, 14594, 383248, 383257, 31004, 325916, 432419, 268587, 153901, 162095, 63800, 457016, 203066, 465219, 63824, 285010, 219476, 252246, 391520, 334177, 80226, 358753, 325989, 350567, 416109, 366959, 325999, 170356, 121207, 440707, 47494, 178570, 268683, 47506, 186783, 424354, 178598, 162218, 391600, 276915, 252343, 252347, 276927, 170438, 235977, 440782, 383446, 145894, 121318, 88555, 326123, 350712, 186879, 244227, 236049, 6674, 145939, 309786, 440860, 432675, 211491, 244259, 408101, 121381, 424484, 432691, 318007, 154174, 39498, 14924, 440909, 162390, 195159, 350819, 96869, 440934, 219751, 309875, 334457, 64141, 211607, 31385, 252585, 432810, 146090, 162474, 64179, 6838, 178870, 39616, 146115, 129734, 236234, 23244, 187089, 244437, 6881, 121572, 64228, 80614, 6888, 72430, 334575, 15086, 367346, 80636, 137985, 129795, 129796, 277258, 351008, 400166, 252712, 326444, 260911, 219954, 391990, 39736, 80711, 72521, 146259, 97109, 97112, 138074, 39779, 252771, 244582, 31593, 400241, 457586, 236404, 146306, 367495, 457611, 244622, 244623, 64408, 23451, 433059, 285607, 285611, 465841, 228276, 187323, 138175, 326593, 187330, 138181, 39878, 220104, 400330, 342987, 269263, 326609, 195544, 277471, 97249, 359395, 424932, 269286, 56302, 72697, 334847, 154623, 392194, 449539, 433157, 220165, 261135, 15380, 367648, 138273, 285732, 7212, 39980, 392242, 449590, 261175, 416825, 203836, 23617, 228426, 80978, 408658, 375894, 302171, 416859, 285789, 203872, 425067, 253039, 7290, 285818, 48256, 326785, 318594, 334982, 121994, 56462, 359567, 343190, 146588, 64669, 408741, 81076, 400570, 425147, 408768, 179395, 122057, 310477, 326861, 72913, 105681, 72915, 187602, 351445, 212184, 23774, 343263, 7392, 195809, 343267, 97511, 72941, 40178, 81139, 220404, 351476, 171255, 400632, 228611, 236804, 335116, 417038, 32014, 122130, 89365, 441622, 187671, 351516, 220445, 253214, 163104, 81185, 318753, 23849, 154938, 367934, 359744, 245058, 48451, 449865, 187729, 204114, 154962, 114007, 89433, 408923, 220510, 277857, 351585, 286062, 48495, 212339, 220532, 302456, 400762, 359803, 261500, 163197, 89475, 138636, 261520, 433553, 449940, 130452, 40347, 236956, 335259, 425374, 433567, 196000, 187812, 294322, 228793, 81338, 130496, 409028, 466373, 433606, 310725, 220624, 294356, 286165, 228824, 24026, 400860, 196060, 269797, 359910, 138733, 368109, 73200, 343539, 269815, 81407, 237056, 400896, 441863, 97803, 392722, 327190, 327191, 302617, 138778, 146986, 146989, 24110, 15930, 48704, 466501, 343629, 212564, 73304, 433759, 228959, 425568, 400994, 425569, 392806, 196200, 48748, 138861, 188027, 294523, 179841, 417413, 228999, 48787, 32404, 384666, 237214, 56996, 376485, 433834, 196270, 89776, 360124, 327360, 229062, 392903, 245449, 57033, 278222, 294607, 466641, 114386, 294610, 294612, 335573, 16086, 384730, 343772, 212701, 442087, 106216, 212715, 302832, 16116, 16122, 433933, 278286, 130831, 401168, 163604, 442138, 188187, 220960, 319269, 401198, 417582, 327471, 253745, 155451, 65346, 16197, 352070, 458565, 384840, 352073, 40779, 311115, 188236, 450386, 32596, 89943, 384856, 196443, 98143, 376680, 155496, 196463, 32626, 393078, 352127, 319370, 204684, 188300, 466830, 49046, 130973, 114596, 57267, 171967, 434113, 344010, 98250, 212940, 188368, 180177, 196560, 450515, 368600, 311263, 24550, 303083, 450548, 81911}\n",
            "hit_rate: 0.233\n",
            "reciprocal_rank: 0.055\n",
            "dcg: 0.117\n",
            "precision: 0.016\n",
            "recall: 0.079\n"
          ]
        }
      ]
    },
    {
      "cell_type": "code",
      "source": [
        "df2 = {'Dataset':\"Retail Racket\",'Algorithm':\"Factorization Machine\",'Sparsity':sparsity1,'Recall@K':fm_testrecall,'Precision@k':fm_testprecesion,'HitRate@k':hit}\n",
        "summary_df = summary_df.append(df2, ignore_index = True)"
      ],
      "metadata": {
        "id": "dn08g12wkbeD"
      },
      "id": "dn08g12wkbeD",
      "execution_count": null,
      "outputs": []
    },
    {
      "cell_type": "code",
      "source": [
        "fm_df=rating2_df.copy()\n",
        "FMUSER='user_id'\n",
        "FMITEM='item_id'\n",
        "fm_df.rename(columns = {USER:FMUSER, ITEM:FMITEM}, inplace = True)\n",
        "fm_df=fm_df[[FMUSER,FMITEM,RATING]]\n",
        "fm=FactMachineExplicit()\n",
        "fm.setup(fm_df)\n",
        "fm.train()\n",
        "fm_testrecall,fm_testprecesion,hit,fm_duration=fm.evaluate(TOP_K)\n",
        "\n"
      ],
      "metadata": {
        "colab": {
          "base_uri": "https://localhost:8080/"
        },
        "outputId": "40246939-98a8-4490-9d36-82ed07b208ee",
        "id": "aq-njbtjmuIs"
      },
      "execution_count": null,
      "outputs": [
        {
          "output_type": "stream",
          "name": "stdout",
          "text": [
            "train shape: (35431, 2)\n",
            "valid shape: (11755, 2)\n",
            "train users: 395\n",
            "valid users: 395\n",
            "cold-start users: set()\n",
            "train items: 9537\n",
            "valid items: 6086\n",
            "cold-start items: {167940, 438277, 301063, 395273, 450571, 243733, 288795, 104476, 241694, 358438, 417832, 227368, 446507, 77874, 256053, 213051, 272446, 137279, 14398, 69697, 190530, 69699, 53316, 26694, 460873, 28747, 165966, 147534, 182351, 67666, 294995, 202835, 350291, 143446, 36958, 321631, 196704, 145504, 14434, 34915, 114786, 170085, 413794, 57445, 452711, 374892, 118894, 264306, 444533, 114806, 106615, 333945, 440441, 342143, 176256, 131201, 297097, 147595, 366732, 356498, 37011, 123032, 96409, 374938, 163998, 239775, 403619, 450726, 88231, 80040, 63656, 196780, 188589, 403630, 114866, 334004, 49339, 311484, 196797, 264384, 420033, 63682, 448708, 18630, 415948, 51405, 12495, 133330, 323794, 418007, 428249, 258266, 28893, 139487, 55523, 76005, 342247, 461032, 149735, 43242, 299245, 372973, 92400, 106741, 166138, 219389, 307455, 434432, 78081, 239871, 145665, 338180, 143621, 33030, 80134, 325890, 157962, 51467, 215308, 348431, 65808, 71952, 215316, 28948, 198934, 295191, 215318, 291094, 63769, 31004, 403745, 295202, 170277, 24871, 176424, 176431, 49461, 416057, 465211, 463165, 127293, 320, 182601, 465227, 362835, 211285, 360790, 125275, 219484, 362850, 211300, 176492, 362867, 92533, 108924, 43389, 414078, 194940, 317827, 135560, 328075, 414091, 242063, 135570, 237972, 29078, 446872, 76188, 72093, 436641, 362914, 51620, 174501, 47526, 418220, 389550, 260527, 293297, 164274, 151986, 139706, 403898, 188858, 113085, 260539, 16832, 174529, 324036, 319941, 215496, 309706, 8651, 401869, 455125, 264662, 393689, 149979, 285148, 457180, 279006, 242145, 317922, 219622, 328167, 348647, 465387, 53740, 111087, 174576, 215537, 449010, 2548, 29172, 55799, 131584, 322051, 242188, 57868, 176661, 354839, 322078, 29216, 432676, 121381, 455210, 150063, 18993, 283185, 234036, 170550, 453179, 244285, 404035, 121413, 174665, 277065, 311882, 84555, 236109, 293455, 440917, 399960, 303712, 119396, 260715, 176757, 305782, 139898, 309883, 43646, 260735, 275075, 141956, 373379, 283269, 6792, 293512, 156302, 262800, 367249, 164498, 107155, 238229, 211606, 6807, 408214, 455319, 107164, 230045, 254624, 352931, 148146, 64179, 129717, 393910, 117431, 185015, 383680, 160449, 361155, 297668, 449224, 168656, 31450, 260830, 148203, 299757, 43757, 19185, 29426, 365299, 242425, 35580, 432892, 432894, 230143, 379647, 250628, 377607, 443157, 375574, 348949, 35608, 193304, 455449, 183067, 414492, 461597, 47906, 70435, 463652, 287523, 58151, 62247, 111417, 365375, 342848, 334662, 441158, 412486, 86861, 256846, 414547, 281428, 355155, 465750, 273239, 432987, 107358, 318303, 201571, 406376, 283498, 414571, 185196, 344951, 234366, 183176, 392072, 359313, 441240, 258973, 227321, 154532, 258982, 349095, 29618, 349109, 437177, 416703, 72640, 279489, 64451, 232390, 410569, 29642, 416716, 103375, 291792, 125906, 164825, 392162, 125925, 324582, 130022, 222184, 177133, 443375, 103413, 340982, 381944, 347132, 289788, 355324, 279551, 398336, 392194, 297988, 95237, 119816, 398345, 427018, 95241, 433165, 392208, 168980, 44053, 68631, 357411, 375854, 187445, 320566, 353347, 93254, 306252, 19535, 91215, 371794, 371795, 306260, 388178, 390226, 58455, 339032, 23644, 455772, 414815, 349284, 187494, 320620, 306286, 167033, 265338, 132218, 222332, 308353, 283786, 42126, 466064, 447632, 89232, 146586, 271515, 304293, 228525, 189614, 298162, 378039, 216248, 70846, 101568, 408768, 328901, 289991, 38090, 177354, 109776, 437457, 77010, 3284, 459989, 201941, 236756, 304343, 292055, 271578, 66780, 175325, 134368, 44258, 185570, 115946, 357620, 433397, 109814, 179455, 382207, 75010, 107778, 105732, 232712, 365832, 355595, 142608, 267542, 40216, 341273, 163102, 144675, 425260, 396591, 128304, 91443, 386358, 429369, 404793, 156985, 191803, 195901, 367934, 384319, 253256, 363850, 300362, 21838, 431443, 105815, 333147, 132445, 85347, 38247, 114024, 234857, 337262, 236914, 144761, 402811, 40318, 359809, 11653, 269703, 175501, 406925, 353684, 415125, 464278, 15767, 134556, 394660, 95655, 445864, 384424, 263596, 253361, 226738, 435638, 232887, 228793, 329146, 382397, 337348, 253382, 386502, 224717, 261582, 110031, 345551, 239058, 388562, 392661, 5600, 15844, 71142, 73200, 306676, 400890, 310778, 447995, 339454, 361982, 222721, 339464, 392715, 257550, 91674, 161306, 91676, 261663, 364073, 32299, 288300, 42542, 462385, 34355, 302643, 202293, 452147, 120379, 167484, 419387, 91708, 163389, 425533, 355908, 337480, 48729, 267871, 220767, 415331, 196200, 235114, 280171, 425581, 263792, 30326, 114296, 235129, 11898, 280188, 370301, 216701, 448127, 321153, 308867, 194179, 417418, 384657, 136854, 302751, 229023, 396963, 91814, 11946, 85674, 419499, 200370, 274098, 394932, 175795, 341685, 16052, 79544, 145083, 157375, 411328, 145089, 79555, 120515, 26307, 159430, 282312, 399052, 169679, 100049, 378577, 5843, 425682, 202456, 427744, 190181, 442087, 14063, 237298, 282354, 16116, 132853, 376564, 104183, 216827, 337661, 378621, 141056, 370440, 446222, 71443, 231196, 233244, 165664, 298789, 34598, 110374, 159527, 81705, 358188, 257840, 466740, 48949, 350006, 261940, 77631, 259904, 458560, 73544, 438088, 259912, 59211, 153421, 83791, 202580, 32596, 358230, 223064, 452443, 200544, 71521, 270183, 116587, 264044, 112500, 255860, 405372, 464767, 251776, 368514, 264067, 249731, 18309, 429963, 403346, 374675, 171924, 440212, 173974, 219034, 270235, 429983, 149407, 243619, 464804, 366501, 174001, 53171, 464821, 389048, 442300, 251836, 108478, 350141, 225215, 387010, 212932, 417733, 360392, 12243, 6100, 337877, 387035, 458721, 270309, 442346, 270315, 458735, 237553, 167923, 446454, 114681}\n",
            "hit_rate: 0.213\n",
            "reciprocal_rank: 0.056\n",
            "dcg: 0.107\n",
            "precision: 0.014\n",
            "recall: 0.018\n"
          ]
        }
      ],
      "id": "aq-njbtjmuIs"
    },
    {
      "cell_type": "code",
      "source": [
        "df2 = {'Dataset':\"Retail Racket\",'Algorithm':\"Factorization Machine\",'Sparsity':sparsity2,'Recall@K':fm_testrecall,'Precision@k':fm_testprecesion,'HitRate@k':hit}\n",
        "summary_df = summary_df.append(df2, ignore_index = True)"
      ],
      "metadata": {
        "id": "Fvk-QXLdmuIt"
      },
      "execution_count": null,
      "outputs": [],
      "id": "Fvk-QXLdmuIt"
    },
    {
      "cell_type": "code",
      "source": [
        "fm_df=rating3_df.copy()\n",
        "FMUSER='user_id'\n",
        "FMITEM='item_id'\n",
        "fm_df.rename(columns = {USER:FMUSER, ITEM:FMITEM}, inplace = True)\n",
        "fm_df=fm_df[[FMUSER,FMITEM,RATING]]\n",
        "fm=FactMachineExplicit()\n",
        "fm.setup(fm_df)\n",
        "fm.train()\n",
        "fm_testrecall,fm_testprecesion,hit,fm_duration=fm.evaluate(TOP_K)\n",
        "\n"
      ],
      "metadata": {
        "colab": {
          "base_uri": "https://localhost:8080/"
        },
        "outputId": "e79cd60a-b74d-4742-8862-0b204054dde5",
        "id": "YZ_mj1_JmxF7"
      },
      "execution_count": null,
      "outputs": [
        {
          "output_type": "stream",
          "name": "stdout",
          "text": [
            "train shape: (22923, 2)\n",
            "valid shape: (7420, 2)\n",
            "train users: 265\n",
            "valid users: 265\n",
            "cold-start users: set()\n",
            "train items: 5370\n",
            "valid items: 3602\n",
            "cold-start items: {194562, 438277, 223242, 346137, 325670, 426026, 389172, 260152, 213051, 14398, 53316, 352328, 411723, 350291, 133209, 327771, 36977, 63603, 401523, 454771, 135289, 307322, 256124, 114814, 67719, 147595, 442511, 157846, 381080, 143514, 71843, 403630, 49339, 444603, 264384, 374981, 192710, 28893, 223465, 96489, 14579, 205044, 145665, 395522, 217347, 215308, 295191, 31004, 22814, 133415, 301354, 368947, 454972, 221501, 299347, 287061, 395611, 147807, 252262, 303473, 92533, 262522, 43391, 399748, 311694, 10659, 61859, 170403, 47526, 342443, 133549, 135609, 328122, 16832, 174529, 55758, 344527, 43472, 205274, 285148, 311774, 203231, 260579, 455141, 440807, 203248, 268784, 315900, 385550, 180768, 154154, 307755, 211503, 432691, 426566, 205387, 453235, 305782, 412280, 408189, 107135, 391823, 164498, 432793, 107162, 70323, 15032, 393918, 426690, 361155, 10948, 297668, 449226, 451281, 226005, 379607, 314073, 19185, 215795, 17140, 39673, 58123, 461579, 312077, 262948, 127784, 293687, 400188, 281408, 86861, 256846, 236381, 283498, 387947, 244587, 885, 285559, 140156, 58237, 111484, 361347, 207749, 19366, 418729, 93101, 150445, 89010, 115643, 248766, 359375, 377810, 177133, 32765, 328692, 205814, 289787, 287739, 168962, 230405, 193545, 427018, 439319, 39959, 97307, 248862, 308263, 74792, 205864, 396336, 353347, 312390, 209994, 259147, 56400, 412762, 455772, 334942, 175201, 119916, 275570, 416883, 461944, 265338, 189571, 236678, 156813, 330894, 197775, 334991, 162970, 42145, 332980, 402614, 138423, 314553, 44220, 101568, 289991, 19664, 111830, 367833, 175325, 425186, 115946, 3329, 412933, 365832, 425228, 247061, 306458, 7450, 226598, 331054, 85307, 384319, 177478, 15690, 120144, 275793, 333140, 111970, 226686, 320901, 11653, 105868, 44433, 238995, 464278, 79266, 138672, 409015, 189889, 150979, 353737, 388562, 101845, 392661, 361955, 132594, 417271, 447995, 237056, 466444, 105997, 257550, 359961, 271903, 32287, 466472, 187946, 50734, 200241, 99895, 419387, 120379, 224833, 40528, 179813, 403058, 167539, 235129, 177786, 396963, 409253, 290480, 153280, 235200, 257735, 356048, 384723, 442087, 143096, 438025, 464649, 202512, 253720, 247578, 438042, 46874, 311069, 165664, 198437, 186159, 419635, 261940, 350006, 134974, 440129, 167750, 55112, 153421, 83791, 63312, 87892, 243543, 241498, 331620, 280422, 116587, 141172, 348032, 241547, 280460, 429963, 282517, 270235, 409507, 75691, 317356, 51118, 411567, 260017, 305077, 317369, 442300, 225215, 391107, 212932, 106447, 270291, 239583, 434144, 317417, 452605}\n",
            "hit_rate: 0.189\n",
            "reciprocal_rank: 0.039\n",
            "dcg: 0.079\n",
            "precision: 0.011\n",
            "recall: 0.013\n"
          ]
        }
      ],
      "id": "YZ_mj1_JmxF7"
    },
    {
      "cell_type": "code",
      "source": [
        "df2 = {'Dataset':\"Retail Racket\",'Algorithm':\"Factorization Machine\",'Sparsity':sparsity3,'Recall@K':fm_testrecall,'Precision@k':fm_testprecesion,'HitRate@k':hit}\n",
        "summary_df = summary_df.append(df2, ignore_index = True)"
      ],
      "metadata": {
        "id": "wMklR9EimxF8"
      },
      "execution_count": null,
      "outputs": [],
      "id": "wMklR9EimxF8"
    },
    {
      "cell_type": "markdown",
      "metadata": {
        "id": "JPhXr7O5TIdq"
      },
      "source": [
        "# RBM"
      ],
      "id": "JPhXr7O5TIdq"
    },
    {
      "cell_type": "code",
      "source": [
        "!pip install recommenders"
      ],
      "metadata": {
        "id": "KbSZMuAUmU2C",
        "colab": {
          "base_uri": "https://localhost:8080/"
        },
        "outputId": "188b3b07-ce72-4342-ccec-2176c694349c"
      },
      "execution_count": null,
      "outputs": [
        {
          "output_type": "stream",
          "name": "stdout",
          "text": [
            "Looking in indexes: https://pypi.org/simple, https://us-python.pkg.dev/colab-wheels/public/simple/\n",
            "Collecting recommenders\n",
            "  Downloading recommenders-1.1.1-py3-none-any.whl (339 kB)\n",
            "\u001b[K     |████████████████████████████████| 339 kB 4.3 MB/s \n",
            "\u001b[?25hCollecting transformers<5,>=2.5.0\n",
            "  Downloading transformers-4.23.1-py3-none-any.whl (5.3 MB)\n",
            "\u001b[K     |████████████████████████████████| 5.3 MB 70.7 MB/s \n",
            "\u001b[?25hCollecting cornac<2,>=1.1.2\n",
            "  Downloading cornac-1.14.2-cp37-cp37m-manylinux1_x86_64.whl (12.4 MB)\n",
            "\u001b[K     |████████████████████████████████| 12.4 MB 53.2 MB/s \n",
            "\u001b[?25hCollecting pandera[strategies]>=0.6.5\n",
            "  Downloading pandera-0.13.3-py3-none-any.whl (120 kB)\n",
            "\u001b[K     |████████████████████████████████| 120 kB 71.9 MB/s \n",
            "\u001b[?25hCollecting category-encoders<2,>=1.3.0\n",
            "  Downloading category_encoders-1.3.0-py2.py3-none-any.whl (61 kB)\n",
            "\u001b[K     |████████████████████████████████| 61 kB 8.9 MB/s \n",
            "\u001b[?25hRequirement already satisfied: scikit-learn<1.0.3,>=0.22.1 in /usr/local/lib/python3.7/dist-packages (from recommenders) (1.0.2)\n",
            "Requirement already satisfied: numpy>=1.19 in /usr/local/lib/python3.7/dist-packages (from recommenders) (1.21.6)\n",
            "Collecting memory-profiler<1,>=0.54.0\n",
            "  Downloading memory_profiler-0.60.0.tar.gz (38 kB)\n",
            "Requirement already satisfied: nltk<4,>=3.4 in /usr/local/lib/python3.7/dist-packages (from recommenders) (3.7)\n",
            "Requirement already satisfied: seaborn<1,>=0.8.1 in /usr/local/lib/python3.7/dist-packages (from recommenders) (0.11.2)\n",
            "Collecting lightfm<2,>=1.15\n",
            "  Downloading lightfm-1.16.tar.gz (310 kB)\n",
            "\u001b[K     |████████████████████████████████| 310 kB 88.3 MB/s \n",
            "\u001b[?25hCollecting bottleneck<2,>=1.2.1\n",
            "  Downloading Bottleneck-1.3.5-cp37-cp37m-manylinux_2_5_x86_64.manylinux1_x86_64.manylinux_2_17_x86_64.manylinux2014_x86_64.whl (355 kB)\n",
            "\u001b[K     |████████████████████████████████| 355 kB 67.6 MB/s \n",
            "\u001b[?25hRequirement already satisfied: pandas<2,>1.0.3 in /usr/local/lib/python3.7/dist-packages (from recommenders) (1.3.5)\n",
            "Requirement already satisfied: requests<3,>=2.0.0 in /usr/local/lib/python3.7/dist-packages (from recommenders) (2.23.0)\n",
            "Requirement already satisfied: jinja2<3.1,>=2 in /usr/local/lib/python3.7/dist-packages (from recommenders) (2.11.3)\n",
            "Requirement already satisfied: lightgbm>=2.2.1 in /usr/local/lib/python3.7/dist-packages (from recommenders) (2.2.3)\n",
            "Requirement already satisfied: tqdm<5,>=4.31.1 in /usr/local/lib/python3.7/dist-packages (from recommenders) (4.64.1)\n",
            "Collecting scikit-surprise>=1.0.6\n",
            "  Downloading scikit-surprise-1.1.1.tar.gz (11.8 MB)\n",
            "\u001b[K     |████████████████████████████████| 11.8 MB 31.6 MB/s \n",
            "\u001b[?25hCollecting retrying>=1.3.3\n",
            "  Downloading retrying-1.3.3.tar.gz (10 kB)\n",
            "Requirement already satisfied: numba<1,>=0.38.1 in /usr/local/lib/python3.7/dist-packages (from recommenders) (0.56.2)\n",
            "Requirement already satisfied: matplotlib<4,>=2.2.2 in /usr/local/lib/python3.7/dist-packages (from recommenders) (3.2.2)\n",
            "Requirement already satisfied: scipy<2,>=1.0.0 in /usr/local/lib/python3.7/dist-packages (from recommenders) (1.7.3)\n",
            "Collecting pyyaml<6,>=5.4.1\n",
            "  Downloading PyYAML-5.4.1-cp37-cp37m-manylinux1_x86_64.whl (636 kB)\n",
            "\u001b[K     |████████████████████████████████| 636 kB 69.9 MB/s \n",
            "\u001b[?25hRequirement already satisfied: patsy>=0.4.1 in /usr/local/lib/python3.7/dist-packages (from category-encoders<2,>=1.3.0->recommenders) (0.5.3)\n",
            "Requirement already satisfied: statsmodels>=0.6.1 in /usr/local/lib/python3.7/dist-packages (from category-encoders<2,>=1.3.0->recommenders) (0.12.2)\n",
            "Collecting powerlaw\n",
            "  Downloading powerlaw-1.5-py3-none-any.whl (24 kB)\n",
            "Requirement already satisfied: MarkupSafe>=0.23 in /usr/local/lib/python3.7/dist-packages (from jinja2<3.1,>=2->recommenders) (2.0.1)\n",
            "Requirement already satisfied: python-dateutil>=2.1 in /usr/local/lib/python3.7/dist-packages (from matplotlib<4,>=2.2.2->recommenders) (2.8.2)\n",
            "Requirement already satisfied: pyparsing!=2.0.4,!=2.1.2,!=2.1.6,>=2.0.1 in /usr/local/lib/python3.7/dist-packages (from matplotlib<4,>=2.2.2->recommenders) (3.0.9)\n",
            "Requirement already satisfied: cycler>=0.10 in /usr/local/lib/python3.7/dist-packages (from matplotlib<4,>=2.2.2->recommenders) (0.11.0)\n",
            "Requirement already satisfied: kiwisolver>=1.0.1 in /usr/local/lib/python3.7/dist-packages (from matplotlib<4,>=2.2.2->recommenders) (1.4.4)\n",
            "Requirement already satisfied: typing-extensions in /usr/local/lib/python3.7/dist-packages (from kiwisolver>=1.0.1->matplotlib<4,>=2.2.2->recommenders) (4.1.1)\n",
            "Requirement already satisfied: psutil in /usr/local/lib/python3.7/dist-packages (from memory-profiler<1,>=0.54.0->recommenders) (5.4.8)\n",
            "Requirement already satisfied: regex>=2021.8.3 in /usr/local/lib/python3.7/dist-packages (from nltk<4,>=3.4->recommenders) (2022.6.2)\n",
            "Requirement already satisfied: click in /usr/local/lib/python3.7/dist-packages (from nltk<4,>=3.4->recommenders) (7.1.2)\n",
            "Requirement already satisfied: joblib in /usr/local/lib/python3.7/dist-packages (from nltk<4,>=3.4->recommenders) (1.2.0)\n",
            "Requirement already satisfied: llvmlite<0.40,>=0.39.0dev0 in /usr/local/lib/python3.7/dist-packages (from numba<1,>=0.38.1->recommenders) (0.39.1)\n",
            "Requirement already satisfied: importlib-metadata in /usr/local/lib/python3.7/dist-packages (from numba<1,>=0.38.1->recommenders) (5.0.0)\n",
            "Requirement already satisfied: setuptools<60 in /usr/local/lib/python3.7/dist-packages (from numba<1,>=0.38.1->recommenders) (57.4.0)\n",
            "Requirement already satisfied: pytz>=2017.3 in /usr/local/lib/python3.7/dist-packages (from pandas<2,>1.0.3->recommenders) (2022.4)\n",
            "Requirement already satisfied: pydantic in /usr/local/lib/python3.7/dist-packages (from pandera[strategies]>=0.6.5->recommenders) (1.9.2)\n",
            "Requirement already satisfied: wrapt in /usr/local/lib/python3.7/dist-packages (from pandera[strategies]>=0.6.5->recommenders) (1.14.1)\n",
            "Requirement already satisfied: packaging>=20.0 in /usr/local/lib/python3.7/dist-packages (from pandera[strategies]>=0.6.5->recommenders) (21.3)\n",
            "Collecting typing-inspect>=0.6.0\n",
            "  Downloading typing_inspect-0.8.0-py3-none-any.whl (8.7 kB)\n",
            "Collecting hypothesis>=5.41.1\n",
            "  Downloading hypothesis-6.56.3-py3-none-any.whl (395 kB)\n",
            "\u001b[K     |████████████████████████████████| 395 kB 83.7 MB/s \n",
            "\u001b[?25hCollecting exceptiongroup>=1.0.0rc8\n",
            "  Downloading exceptiongroup-1.0.0rc9-py3-none-any.whl (12 kB)\n",
            "Requirement already satisfied: sortedcontainers<3.0.0,>=2.1.0 in /usr/local/lib/python3.7/dist-packages (from hypothesis>=5.41.1->pandera[strategies]>=0.6.5->recommenders) (2.4.0)\n",
            "Requirement already satisfied: attrs>=19.2.0 in /usr/local/lib/python3.7/dist-packages (from hypothesis>=5.41.1->pandera[strategies]>=0.6.5->recommenders) (22.1.0)\n",
            "Requirement already satisfied: six in /usr/local/lib/python3.7/dist-packages (from patsy>=0.4.1->category-encoders<2,>=1.3.0->recommenders) (1.15.0)\n",
            "Requirement already satisfied: chardet<4,>=3.0.2 in /usr/local/lib/python3.7/dist-packages (from requests<3,>=2.0.0->recommenders) (3.0.4)\n",
            "Requirement already satisfied: certifi>=2017.4.17 in /usr/local/lib/python3.7/dist-packages (from requests<3,>=2.0.0->recommenders) (2022.9.24)\n",
            "Requirement already satisfied: idna<3,>=2.5 in /usr/local/lib/python3.7/dist-packages (from requests<3,>=2.0.0->recommenders) (2.10)\n",
            "Requirement already satisfied: urllib3!=1.25.0,!=1.25.1,<1.26,>=1.21.1 in /usr/local/lib/python3.7/dist-packages (from requests<3,>=2.0.0->recommenders) (1.24.3)\n",
            "Requirement already satisfied: threadpoolctl>=2.0.0 in /usr/local/lib/python3.7/dist-packages (from scikit-learn<1.0.3,>=0.22.1->recommenders) (3.1.0)\n",
            "Requirement already satisfied: filelock in /usr/local/lib/python3.7/dist-packages (from transformers<5,>=2.5.0->recommenders) (3.8.0)\n",
            "Collecting tokenizers!=0.11.3,<0.14,>=0.11.1\n",
            "  Downloading tokenizers-0.13.1-cp37-cp37m-manylinux_2_17_x86_64.manylinux2014_x86_64.whl (7.6 MB)\n",
            "\u001b[K     |████████████████████████████████| 7.6 MB 63.0 MB/s \n",
            "\u001b[?25hCollecting huggingface-hub<1.0,>=0.10.0\n",
            "  Downloading huggingface_hub-0.10.1-py3-none-any.whl (163 kB)\n",
            "\u001b[K     |████████████████████████████████| 163 kB 92.5 MB/s \n",
            "\u001b[?25hCollecting mypy-extensions>=0.3.0\n",
            "  Downloading mypy_extensions-0.4.3-py2.py3-none-any.whl (4.5 kB)\n",
            "Requirement already satisfied: zipp>=0.5 in /usr/local/lib/python3.7/dist-packages (from importlib-metadata->numba<1,>=0.38.1->recommenders) (3.9.0)\n",
            "Requirement already satisfied: mpmath in /usr/local/lib/python3.7/dist-packages (from powerlaw->cornac<2,>=1.1.2->recommenders) (1.2.1)\n",
            "Building wheels for collected packages: lightfm, memory-profiler, retrying, scikit-surprise\n",
            "  Building wheel for lightfm (setup.py) ... \u001b[?25l\u001b[?25hdone\n",
            "  Created wheel for lightfm: filename=lightfm-1.16-cp37-cp37m-linux_x86_64.whl size=705368 sha256=21ed951f8bd162fce1150d5b742c6b4f450c5389c95ae2653de3e45e169e31bd\n",
            "  Stored in directory: /root/.cache/pip/wheels/f8/56/28/5772a3bd3413d65f03aa452190b00898b680b10028a1021914\n",
            "  Building wheel for memory-profiler (setup.py) ... \u001b[?25l\u001b[?25hdone\n",
            "  Created wheel for memory-profiler: filename=memory_profiler-0.60.0-py3-none-any.whl size=31284 sha256=156ca246f97dd6dacd084d91f08602a72256cc87842f47f4e5f69910dcc52a97\n",
            "  Stored in directory: /root/.cache/pip/wheels/67/2b/fb/326e30d638c538e69a5eb0aa47f4223d979f502bbdb403950f\n",
            "  Building wheel for retrying (setup.py) ... \u001b[?25l\u001b[?25hdone\n",
            "  Created wheel for retrying: filename=retrying-1.3.3-py3-none-any.whl size=11447 sha256=25d94c5e9bd7932013baa80725b7170b6c311491e5c3af992e3a2abdc7ebd552\n",
            "  Stored in directory: /root/.cache/pip/wheels/f9/8d/8d/f6af3f7f9eea3553bc2fe6d53e4b287dad18b06a861ac56ddf\n",
            "  Building wheel for scikit-surprise (setup.py) ... \u001b[?25l\u001b[?25hdone\n",
            "  Created wheel for scikit-surprise: filename=scikit_surprise-1.1.1-cp37-cp37m-linux_x86_64.whl size=1633971 sha256=8f39422c6fd16ecc1e0f9d00fb76a0b556f48f09978c07c8a9f04adb738878c9\n",
            "  Stored in directory: /root/.cache/pip/wheels/76/44/74/b498c42be47b2406bd27994e16c5188e337c657025ab400c1c\n",
            "Successfully built lightfm memory-profiler retrying scikit-surprise\n",
            "Installing collected packages: mypy-extensions, typing-inspect, pyyaml, exceptiongroup, tokenizers, powerlaw, pandera, hypothesis, huggingface-hub, transformers, scikit-surprise, retrying, memory-profiler, lightfm, cornac, category-encoders, bottleneck, recommenders\n",
            "  Attempting uninstall: pyyaml\n",
            "    Found existing installation: PyYAML 6.0\n",
            "    Uninstalling PyYAML-6.0:\n",
            "      Successfully uninstalled PyYAML-6.0\n",
            "Successfully installed bottleneck-1.3.5 category-encoders-1.3.0 cornac-1.14.2 exceptiongroup-1.0.0rc9 huggingface-hub-0.10.1 hypothesis-6.56.3 lightfm-1.16 memory-profiler-0.60.0 mypy-extensions-0.4.3 pandera-0.13.3 powerlaw-1.5 pyyaml-5.4.1 recommenders-1.1.1 retrying-1.3.3 scikit-surprise-1.1.1 tokenizers-0.13.1 transformers-4.23.1 typing-inspect-0.8.0\n"
          ]
        }
      ],
      "id": "KbSZMuAUmU2C"
    },
    {
      "cell_type": "code",
      "execution_count": null,
      "metadata": {
        "id": "GZDL98R2W0vA"
      },
      "outputs": [],
      "source": [
        "\n",
        "from recommenders.datasets.python_splitters import python_random_split,  python_stratified_split\n",
        "\n",
        "from recommenders.evaluation.python_evaluation import map_at_k, ndcg_at_k, precision_at_k, recall_at_k\n",
        "from recommenders.models.cornac.cornac_utils import predict_ranking\n",
        "from recommenders.utils.timer import Timer\n",
        "from recommenders.utils.constants import SEED\n"
      ],
      "id": "GZDL98R2W0vA"
    },
    {
      "cell_type": "code",
      "source": [
        "import torch\n",
        "import cornac"
      ],
      "metadata": {
        "id": "g39S-00fNKwV"
      },
      "execution_count": null,
      "outputs": [],
      "id": "g39S-00fNKwV"
    },
    {
      "cell_type": "code",
      "source": [
        "\n",
        "from recommenders.models.rbm.rbm import RBM\n",
        "from recommenders.datasets.python_splitters import numpy_stratified_split\n",
        "from recommenders.datasets.sparse import AffinityMatrix\n",
        "from recommenders.datasets import movielens\n",
        "from recommenders.evaluation.python_evaluation import map_at_k, ndcg_at_k, precision_at_k, recall_at_k\n",
        "from recommenders.utils.timer import Timer\n",
        "from recommenders.utils.plot import line_graph"
      ],
      "metadata": {
        "id": "R0xJi0O17KCW"
      },
      "execution_count": null,
      "outputs": [],
      "id": "R0xJi0O17KCW"
    },
    {
      "cell_type": "code",
      "source": [
        "rating_df=rating2_df.copy()"
      ],
      "metadata": {
        "id": "ITZWzCSmNVSV"
      },
      "execution_count": null,
      "outputs": [],
      "id": "ITZWzCSmNVSV"
    },
    {
      "cell_type": "code",
      "source": [
        "item_ids = list(set(list(rating_df.itemID.unique())))\n",
        "user_ids = list(set(list(rating_df.userID.unique())))"
      ],
      "metadata": {
        "id": "L0pWDQrppk3k"
      },
      "execution_count": null,
      "outputs": [],
      "id": "L0pWDQrppk3k"
    },
    {
      "cell_type": "code",
      "source": [
        "dict_users = {}\n",
        "index = 0\n",
        "for ids in sorted(user_ids):\n",
        "    dict_users[ids] = index\n",
        "    index += 1\n",
        "dict_items = {}\n",
        "index = 0\n",
        "for ids in sorted(item_ids):\n",
        "    dict_items[ids] = index\n",
        "    index += 1"
      ],
      "metadata": {
        "id": "wbdwZjvLLUsD"
      },
      "execution_count": null,
      "outputs": [],
      "id": "wbdwZjvLLUsD"
    },
    {
      "cell_type": "code",
      "source": [
        "rating_df['userID'] = rating_df.userID.map(dict_users)\n",
        "rating_df['itemID'] = rating_df.itemID.map(dict_items)"
      ],
      "metadata": {
        "id": "_hPUhWhMZNR3"
      },
      "execution_count": null,
      "outputs": [],
      "id": "_hPUhWhMZNR3"
    },
    {
      "cell_type": "code",
      "source": [
        "# from sklearn.preprocessing import MinMaxScaler\n",
        "# scaler = MinMaxScaler()\n",
        "# rating_df[['rating']] = scaler.fit_transform(rating_df[['rating']])"
      ],
      "metadata": {
        "id": "TEymeAS4XpJc"
      },
      "execution_count": null,
      "outputs": [],
      "id": "TEymeAS4XpJc"
    },
    {
      "cell_type": "code",
      "source": [
        "header = {\n",
        "        \"col_user\": \"userID\",\n",
        "        \"col_item\": \"itemID\",\n",
        "        \"col_rating\": \"rating\",\n",
        "    }\n",
        "\n",
        "#instantiate the sparse matrix generation  \n",
        "am = AffinityMatrix(df =rating_df, **header)\n",
        "\n",
        "#obtain the sparse matrix \n",
        "X, _, _ = am.gen_affinity_matrix()\n",
        "Xtr, Xtst = numpy_stratified_split(X)\n",
        "#First we initialize the model class\n",
        "model = RBM(\n",
        "    possible_ratings=np.setdiff1d(np.unique(Xtr), np.array([0])),\n",
        "    visible_units=Xtr.shape[1],\n",
        "    hidden_units=600,\n",
        "    training_epoch=30,\n",
        "    minibatch_size=60,\n",
        "    keep_prob=0.8,\n",
        "    with_metrics=True\n",
        ")\n",
        "# Model Fit\n",
        "model.fit(Xtr)\n",
        "\n",
        "# Plot the train RMSE as a function of the epochs\n",
        "line_graph(values=model.rmse_train, labels='train', x_name='epoch', y_name='rmse_train')\n"
      ],
      "metadata": {
        "id": "3Qrmh92DNdB1",
        "colab": {
          "base_uri": "https://localhost:8080/",
          "height": 408
        },
        "outputId": "538c26f6-b746-4c19-ed50-e40459d09783"
      },
      "execution_count": null,
      "outputs": [
        {
          "output_type": "stream",
          "name": "stderr",
          "text": [
            "WARNING:tensorflow:From /usr/local/lib/python3.7/dist-packages/tensorflow/python/util/dispatch.py:1082: div (from tensorflow.python.ops.math_ops) is deprecated and will be removed in a future version.\n",
            "Instructions for updating:\n",
            "Deprecated in favor of operator or tf.math.divide.\n"
          ]
        },
        {
          "output_type": "display_data",
          "data": {
            "text/plain": [
              "<Figure size 360x360 with 1 Axes>"
            ],
            "image/png": "[encoded data removed]"
          },
          "metadata": {}
        }
      ],
      "id": "3Qrmh92DNdB1"
    },
    {
      "cell_type": "code",
      "source": [
        "top_k =  model.recommend_k_items(Xtst)\n",
        "top_k_df = am.map_back_sparse(top_k, kind = 'prediction')\n",
        "test_df = am.map_back_sparse(Xtst, kind = 'ratings')"
      ],
      "metadata": {
        "id": "bNCOPoRTNaDt"
      },
      "execution_count": null,
      "outputs": [],
      "id": "bNCOPoRTNaDt"
    },
    {
      "cell_type": "code",
      "source": [
        "eval_precision = precision_at_k(test_df, top_k_df, col_user=\"userID\", col_item=\"itemID\", \n",
        "                               col_rating=\"rating\", col_prediction=\"prediction\", \n",
        "                               relevancy_method=\"top_k\", k= 20)"
      ],
      "metadata": {
        "id": "kOM67nta7gdJ"
      },
      "execution_count": null,
      "outputs": [],
      "id": "kOM67nta7gdJ"
    },
    {
      "cell_type": "code",
      "source": [
        "eval_recall = recall_at_k(test_df, top_k_df, col_user=\"userID\", col_item=\"itemID\", \n",
        "                          col_rating=\"rating\", col_prediction=\"prediction\", \n",
        "                          relevancy_method=\"top_k\", k= 20)\n"
      ],
      "metadata": {
        "id": "WsrGCwGc7JF_"
      },
      "execution_count": null,
      "outputs": [],
      "id": "WsrGCwGc7JF_"
    },
    {
      "cell_type": "code",
      "source": [
        "df2 = {'Dataset':\"Retail Racket\",'Algorithm':\"RBM\",'Sparsity':sparsity2,'Precision@k':eval_precision,'Recall@k':eval_recall}\n",
        "summary_df = summary_df.append(df2, ignore_index = True)"
      ],
      "metadata": {
        "id": "1BOvo4TFnXe0"
      },
      "execution_count": null,
      "outputs": [],
      "id": "1BOvo4TFnXe0"
    },
    {
      "cell_type": "code",
      "source": [
        "rating_df=rating3_df.copy()"
      ],
      "metadata": {
        "id": "KwvIbdxXpLvu"
      },
      "execution_count": null,
      "outputs": [],
      "id": "KwvIbdxXpLvu"
    },
    {
      "cell_type": "code",
      "source": [
        "item_ids = list(set(list(rating_df.itemID.unique())))\n",
        "user_ids = list(set(list(rating_df.userID.unique())))"
      ],
      "metadata": {
        "id": "TF2xXfwOpLvu"
      },
      "execution_count": null,
      "outputs": [],
      "id": "TF2xXfwOpLvu"
    },
    {
      "cell_type": "code",
      "source": [
        "dict_users = {}\n",
        "index = 0\n",
        "for ids in sorted(user_ids):\n",
        "    dict_users[ids] = index\n",
        "    index += 1\n",
        "dict_items = {}\n",
        "index = 0\n",
        "for ids in sorted(item_ids):\n",
        "    dict_items[ids] = index\n",
        "    index += 1"
      ],
      "metadata": {
        "id": "bcCfKr_wpLvu"
      },
      "execution_count": null,
      "outputs": [],
      "id": "bcCfKr_wpLvu"
    },
    {
      "cell_type": "code",
      "source": [
        "rating_df['userID'] = rating_df.userID.map(dict_users)\n",
        "rating_df['itemID'] = rating_df.itemID.map(dict_items)"
      ],
      "metadata": {
        "id": "1J1Z28lXpLvv"
      },
      "execution_count": null,
      "outputs": [],
      "id": "1J1Z28lXpLvv"
    },
    {
      "cell_type": "code",
      "source": [
        "header = {\n",
        "        \"col_user\": \"userID\",\n",
        "        \"col_item\": \"itemID\",\n",
        "        \"col_rating\": \"rating\",\n",
        "    }\n",
        "\n",
        "#instantiate the sparse matrix generation  \n",
        "am = AffinityMatrix(df =rating_df, **header)\n",
        "\n",
        "#obtain the sparse matrix \n",
        "X, _, _ = am.gen_affinity_matrix()\n",
        "Xtr, Xtst = numpy_stratified_split(X)\n",
        "#First we initialize the model class\n",
        "model = RBM(\n",
        "    possible_ratings=np.setdiff1d(np.unique(Xtr), np.array([0])),\n",
        "    visible_units=Xtr.shape[1],\n",
        "    hidden_units=600,\n",
        "    training_epoch=30,\n",
        "    minibatch_size=60,\n",
        "    keep_prob=0.8,\n",
        "    with_metrics=True\n",
        ")\n",
        "# Model Fit\n",
        "model.fit(Xtr)\n",
        "\n",
        "# Plot the train RMSE as a function of the epochs\n",
        "line_graph(values=model.rmse_train, labels='train', x_name='epoch', y_name='rmse_train')\n"
      ],
      "metadata": {
        "colab": {
          "base_uri": "https://localhost:8080/",
          "height": 334
        },
        "outputId": "8c04e288-0289-4aff-9643-d0c1902ce2c6",
        "id": "Qqw6ZFCnpLvv"
      },
      "execution_count": null,
      "outputs": [
        {
          "output_type": "display_data",
          "data": {
            "text/plain": [
              "<Figure size 360x360 with 1 Axes>"
            ],
            "image/png": "[encoded data removed]"
          },
          "metadata": {}
        }
      ],
      "id": "Qqw6ZFCnpLvv"
    },
    {
      "cell_type": "code",
      "source": [
        "top_k =  model.recommend_k_items(Xtst)\n",
        "top_k_df = am.map_back_sparse(top_k, kind = 'prediction')\n",
        "test_df = am.map_back_sparse(Xtst, kind = 'ratings')"
      ],
      "metadata": {
        "id": "Y5gCSdNtpLvv"
      },
      "execution_count": null,
      "outputs": [],
      "id": "Y5gCSdNtpLvv"
    },
    {
      "cell_type": "code",
      "source": [
        "eval_precision = precision_at_k(test_df, top_k_df, col_user=\"userID\", col_item=\"itemID\", \n",
        "                               col_rating=\"rating\", col_prediction=\"prediction\", \n",
        "                               relevancy_method=\"top_k\", k= 20)"
      ],
      "metadata": {
        "id": "xdtdiSyOpLvv"
      },
      "execution_count": null,
      "outputs": [],
      "id": "xdtdiSyOpLvv"
    },
    {
      "cell_type": "code",
      "source": [
        "eval_recall = recall_at_k(test_df, top_k_df, col_user=\"userID\", col_item=\"itemID\", \n",
        "                          col_rating=\"rating\", col_prediction=\"prediction\", \n",
        "                          relevancy_method=\"top_k\", k= 20)\n"
      ],
      "metadata": {
        "id": "v1Fn3evHpLvw"
      },
      "execution_count": null,
      "outputs": [],
      "id": "v1Fn3evHpLvw"
    },
    {
      "cell_type": "code",
      "source": [
        "df2 = {'Dataset':\"Retail Racket\",'Algorithm':\"RBM\",'Sparsity':sparsity3,'Precision@k':eval_precision,'Recall@k':eval_recall}\n",
        "summary_df = summary_df.append(df2, ignore_index = True)"
      ],
      "metadata": {
        "id": "qED7gfvApLvw"
      },
      "execution_count": null,
      "outputs": [],
      "id": "qED7gfvApLvw"
    },
    {
      "cell_type": "markdown",
      "metadata": {
        "id": "kOjM86HeJm3F"
      },
      "source": [
        "# Simple Algorithm for Recommendation (SAR)"
      ],
      "id": "kOjM86HeJm3F"
    },
    {
      "cell_type": "markdown",
      "metadata": {
        "id": "enxY3tCpL_fW"
      },
      "source": [
        "This is simple recommender algorithm we run this algorithm as firt step if we get following attributes in the dataset - itemid,userid,rating,timestamp"
      ],
      "id": "enxY3tCpL_fW"
    },
    {
      "cell_type": "code",
      "execution_count": null,
      "metadata": {
        "id": "vgkV8Ut_I_wc",
        "colab": {
          "base_uri": "https://localhost:8080/"
        },
        "outputId": "917c31d2-663f-4ab8-bee4-05f72196e681"
      },
      "outputs": [
        {
          "output_type": "stream",
          "name": "stdout",
          "text": [
            "Looking in indexes: https://pypi.org/simple, https://us-python.pkg.dev/colab-wheels/public/simple/\n",
            "Requirement already satisfied: recommenders in /usr/local/lib/python3.7/dist-packages (1.1.1)\n",
            "Requirement already satisfied: scikit-learn<1.0.3,>=0.22.1 in /usr/local/lib/python3.7/dist-packages (from recommenders) (1.0.2)\n",
            "Requirement already satisfied: pyyaml<6,>=5.4.1 in /usr/local/lib/python3.7/dist-packages (from recommenders) (5.4.1)\n",
            "Requirement already satisfied: numba<1,>=0.38.1 in /usr/local/lib/python3.7/dist-packages (from recommenders) (0.56.2)\n",
            "Requirement already satisfied: seaborn<1,>=0.8.1 in /usr/local/lib/python3.7/dist-packages (from recommenders) (0.11.2)\n",
            "Requirement already satisfied: lightgbm>=2.2.1 in /usr/local/lib/python3.7/dist-packages (from recommenders) (2.2.3)\n",
            "Requirement already satisfied: cornac<2,>=1.1.2 in /usr/local/lib/python3.7/dist-packages (from recommenders) (1.14.2)\n",
            "Requirement already satisfied: memory-profiler<1,>=0.54.0 in /usr/local/lib/python3.7/dist-packages (from recommenders) (0.60.0)\n",
            "Requirement already satisfied: scikit-surprise>=1.0.6 in /usr/local/lib/python3.7/dist-packages (from recommenders) (1.1.1)\n",
            "Requirement already satisfied: matplotlib<4,>=2.2.2 in /usr/local/lib/python3.7/dist-packages (from recommenders) (3.2.2)\n",
            "Requirement already satisfied: pandera[strategies]>=0.6.5 in /usr/local/lib/python3.7/dist-packages (from recommenders) (0.13.3)\n",
            "Requirement already satisfied: transformers<5,>=2.5.0 in /usr/local/lib/python3.7/dist-packages (from recommenders) (4.23.1)\n",
            "Requirement already satisfied: nltk<4,>=3.4 in /usr/local/lib/python3.7/dist-packages (from recommenders) (3.7)\n",
            "Requirement already satisfied: tqdm<5,>=4.31.1 in /usr/local/lib/python3.7/dist-packages (from recommenders) (4.64.1)\n",
            "Requirement already satisfied: jinja2<3.1,>=2 in /usr/local/lib/python3.7/dist-packages (from recommenders) (2.11.3)\n",
            "Requirement already satisfied: bottleneck<2,>=1.2.1 in /usr/local/lib/python3.7/dist-packages (from recommenders) (1.3.5)\n",
            "Requirement already satisfied: numpy>=1.19 in /usr/local/lib/python3.7/dist-packages (from recommenders) (1.21.6)\n",
            "Requirement already satisfied: pandas<2,>1.0.3 in /usr/local/lib/python3.7/dist-packages (from recommenders) (1.3.5)\n",
            "Requirement already satisfied: category-encoders<2,>=1.3.0 in /usr/local/lib/python3.7/dist-packages (from recommenders) (1.3.0)\n",
            "Requirement already satisfied: requests<3,>=2.0.0 in /usr/local/lib/python3.7/dist-packages (from recommenders) (2.23.0)\n",
            "Requirement already satisfied: retrying>=1.3.3 in /usr/local/lib/python3.7/dist-packages (from recommenders) (1.3.3)\n",
            "Requirement already satisfied: lightfm<2,>=1.15 in /usr/local/lib/python3.7/dist-packages (from recommenders) (1.16)\n",
            "Requirement already satisfied: scipy<2,>=1.0.0 in /usr/local/lib/python3.7/dist-packages (from recommenders) (1.7.3)\n",
            "Requirement already satisfied: statsmodels>=0.6.1 in /usr/local/lib/python3.7/dist-packages (from category-encoders<2,>=1.3.0->recommenders) (0.12.2)\n",
            "Requirement already satisfied: patsy>=0.4.1 in /usr/local/lib/python3.7/dist-packages (from category-encoders<2,>=1.3.0->recommenders) (0.5.3)\n",
            "Requirement already satisfied: powerlaw in /usr/local/lib/python3.7/dist-packages (from cornac<2,>=1.1.2->recommenders) (1.5)\n",
            "Requirement already satisfied: MarkupSafe>=0.23 in /usr/local/lib/python3.7/dist-packages (from jinja2<3.1,>=2->recommenders) (2.0.1)\n",
            "Requirement already satisfied: kiwisolver>=1.0.1 in /usr/local/lib/python3.7/dist-packages (from matplotlib<4,>=2.2.2->recommenders) (1.4.4)\n",
            "Requirement already satisfied: cycler>=0.10 in /usr/local/lib/python3.7/dist-packages (from matplotlib<4,>=2.2.2->recommenders) (0.11.0)\n",
            "Requirement already satisfied: python-dateutil>=2.1 in /usr/local/lib/python3.7/dist-packages (from matplotlib<4,>=2.2.2->recommenders) (2.8.2)\n",
            "Requirement already satisfied: pyparsing!=2.0.4,!=2.1.2,!=2.1.6,>=2.0.1 in /usr/local/lib/python3.7/dist-packages (from matplotlib<4,>=2.2.2->recommenders) (3.0.9)\n",
            "Requirement already satisfied: typing-extensions in /usr/local/lib/python3.7/dist-packages (from kiwisolver>=1.0.1->matplotlib<4,>=2.2.2->recommenders) (4.1.1)\n",
            "Requirement already satisfied: psutil in /usr/local/lib/python3.7/dist-packages (from memory-profiler<1,>=0.54.0->recommenders) (5.4.8)\n",
            "Requirement already satisfied: regex>=2021.8.3 in /usr/local/lib/python3.7/dist-packages (from nltk<4,>=3.4->recommenders) (2022.6.2)\n",
            "Requirement already satisfied: joblib in /usr/local/lib/python3.7/dist-packages (from nltk<4,>=3.4->recommenders) (1.2.0)\n",
            "Requirement already satisfied: click in /usr/local/lib/python3.7/dist-packages (from nltk<4,>=3.4->recommenders) (7.1.2)\n",
            "Requirement already satisfied: setuptools<60 in /usr/local/lib/python3.7/dist-packages (from numba<1,>=0.38.1->recommenders) (57.4.0)\n",
            "Requirement already satisfied: llvmlite<0.40,>=0.39.0dev0 in /usr/local/lib/python3.7/dist-packages (from numba<1,>=0.38.1->recommenders) (0.39.1)\n",
            "Requirement already satisfied: importlib-metadata in /usr/local/lib/python3.7/dist-packages (from numba<1,>=0.38.1->recommenders) (5.0.0)\n",
            "Requirement already satisfied: pytz>=2017.3 in /usr/local/lib/python3.7/dist-packages (from pandas<2,>1.0.3->recommenders) (2022.4)\n",
            "Requirement already satisfied: packaging>=20.0 in /usr/local/lib/python3.7/dist-packages (from pandera[strategies]>=0.6.5->recommenders) (21.3)\n",
            "Requirement already satisfied: wrapt in /usr/local/lib/python3.7/dist-packages (from pandera[strategies]>=0.6.5->recommenders) (1.14.1)\n",
            "Requirement already satisfied: pydantic in /usr/local/lib/python3.7/dist-packages (from pandera[strategies]>=0.6.5->recommenders) (1.9.2)\n",
            "Requirement already satisfied: typing-inspect>=0.6.0 in /usr/local/lib/python3.7/dist-packages (from pandera[strategies]>=0.6.5->recommenders) (0.8.0)\n",
            "Requirement already satisfied: hypothesis>=5.41.1 in /usr/local/lib/python3.7/dist-packages (from pandera[strategies]>=0.6.5->recommenders) (6.56.3)\n",
            "Requirement already satisfied: sortedcontainers<3.0.0,>=2.1.0 in /usr/local/lib/python3.7/dist-packages (from hypothesis>=5.41.1->pandera[strategies]>=0.6.5->recommenders) (2.4.0)\n",
            "Requirement already satisfied: attrs>=19.2.0 in /usr/local/lib/python3.7/dist-packages (from hypothesis>=5.41.1->pandera[strategies]>=0.6.5->recommenders) (22.1.0)\n",
            "Requirement already satisfied: exceptiongroup>=1.0.0rc8 in /usr/local/lib/python3.7/dist-packages (from hypothesis>=5.41.1->pandera[strategies]>=0.6.5->recommenders) (1.0.0rc9)\n",
            "Requirement already satisfied: six in /usr/local/lib/python3.7/dist-packages (from patsy>=0.4.1->category-encoders<2,>=1.3.0->recommenders) (1.15.0)\n",
            "Requirement already satisfied: certifi>=2017.4.17 in /usr/local/lib/python3.7/dist-packages (from requests<3,>=2.0.0->recommenders) (2022.9.24)\n",
            "Requirement already satisfied: chardet<4,>=3.0.2 in /usr/local/lib/python3.7/dist-packages (from requests<3,>=2.0.0->recommenders) (3.0.4)\n",
            "Requirement already satisfied: idna<3,>=2.5 in /usr/local/lib/python3.7/dist-packages (from requests<3,>=2.0.0->recommenders) (2.10)\n",
            "Requirement already satisfied: urllib3!=1.25.0,!=1.25.1,<1.26,>=1.21.1 in /usr/local/lib/python3.7/dist-packages (from requests<3,>=2.0.0->recommenders) (1.24.3)\n",
            "Requirement already satisfied: threadpoolctl>=2.0.0 in /usr/local/lib/python3.7/dist-packages (from scikit-learn<1.0.3,>=0.22.1->recommenders) (3.1.0)\n",
            "Requirement already satisfied: filelock in /usr/local/lib/python3.7/dist-packages (from transformers<5,>=2.5.0->recommenders) (3.8.0)\n",
            "Requirement already satisfied: huggingface-hub<1.0,>=0.10.0 in /usr/local/lib/python3.7/dist-packages (from transformers<5,>=2.5.0->recommenders) (0.10.1)\n",
            "Requirement already satisfied: tokenizers!=0.11.3,<0.14,>=0.11.1 in /usr/local/lib/python3.7/dist-packages (from transformers<5,>=2.5.0->recommenders) (0.13.1)\n",
            "Requirement already satisfied: mypy-extensions>=0.3.0 in /usr/local/lib/python3.7/dist-packages (from typing-inspect>=0.6.0->pandera[strategies]>=0.6.5->recommenders) (0.4.3)\n",
            "Requirement already satisfied: zipp>=0.5 in /usr/local/lib/python3.7/dist-packages (from importlib-metadata->numba<1,>=0.38.1->recommenders) (3.9.0)\n",
            "Requirement already satisfied: mpmath in /usr/local/lib/python3.7/dist-packages (from powerlaw->cornac<2,>=1.1.2->recommenders) (1.2.1)\n"
          ]
        }
      ],
      "source": [
        "!pip install recommenders"
      ],
      "id": "vgkV8Ut_I_wc"
    },
    {
      "cell_type": "code",
      "execution_count": null,
      "metadata": {
        "id": "dVwzxxDwMDul"
      },
      "outputs": [],
      "source": [
        "from recommenders.datasets.python_splitters import python_stratified_split\n",
        "from recommenders.evaluation.python_evaluation import map_at_k, ndcg_at_k, precision_at_k, recall_at_k\n",
        "from recommenders.models.sar import SAR\n"
      ],
      "id": "dVwzxxDwMDul"
    },
    {
      "cell_type": "code",
      "source": [
        "USER=\"userID\"\n",
        "ITEM=\"itemID\"\n",
        "RATING=\"rating\"\n",
        "TIMESTAMP=\"time\"\n",
        "PREDICTION=\"prediction\"\n",
        "TOP_K=20\n",
        "SEED=42 "
      ],
      "metadata": {
        "id": "91OHS94SP-yr"
      },
      "execution_count": null,
      "outputs": [],
      "id": "91OHS94SP-yr"
    },
    {
      "cell_type": "code",
      "execution_count": null,
      "metadata": {
        "id": "biUUNz2MMDxo"
      },
      "outputs": [],
      "source": [
        "class SAR_Algo:\n",
        "\n",
        "  def setup(self,data,col_user=USER,col_item=ITEM,col_rating=RATING,col_time=TIMESTAMP,col_prediction=PREDICTION,ratio=0.8,top_k=TOP_K,seed=SEED):\n",
        "    self.col_item=col_item\n",
        "    self.col_user=col_user\n",
        "    self.top_k=top_k\n",
        "    self.data=data\n",
        "    self.col_rating=col_rating\n",
        "    self.col_prediction=col_prediction\n",
        "    self.header={\n",
        "        \"col_user\": col_user,\n",
        "        \"col_item\":col_item,\n",
        "        \"col_rating\": col_rating,\n",
        "        \"col_timestamp\":col_time,\n",
        "        \"col_prediction\": col_prediction\n",
        "        }\n",
        "    self.train, self.test = python_stratified_split(self.data, ratio=0.8, col_user=self.header[\"col_user\"], col_item=self.header[\"col_item\"], seed=seed)\n",
        "    self.model= SAR(\n",
        "    similarity_type=\"jaccard\", \n",
        "    time_decay_coefficient=35, \n",
        "    time_now=None, \n",
        "    timedecay_formula=True, \n",
        "    **self.header\n",
        "    )\n",
        "  def trainmodel(self):\n",
        "    self.model.fit(self.train)\n",
        "  def prediction(self):\n",
        "    self.top_k_val = self.model.recommend_k_items(self.test, top_k=self.top_k, remove_seen=True)\n",
        "    self.top_k_with_titles = (self.top_k_val.join(self.data[[self.col_item]].drop_duplicates().set_index(self.col_item), \n",
        "                                on=self.col_item, \n",
        "                                how='inner').sort_values(by=[self.col_user, self.col_prediction], ascending=False))\n",
        "\n",
        "    return self.top_k_with_titles\n",
        "  def evaluatemodel(self):\n",
        "    TOP_K=20\n",
        "    args = [self.test, self.top_k_val]\n",
        "    kwargs = dict(col_user=self.col_user, \n",
        "              col_item=self.col_item, \n",
        "              col_rating=self.col_rating, \n",
        "              col_prediction=self.col_prediction, \n",
        "              relevancy_method='top_k', \n",
        "              k=self.top_k)\n",
        "\n",
        "    eval_map = map_at_k(*args, **kwargs)\n",
        "    eval_ndcg = ndcg_at_k(*args, **kwargs)\n",
        "    eval_precision = precision_at_k(*args, **kwargs)\n",
        "    eval_recall = recall_at_k(*args, **kwargs)\n",
        "\n",
        "\n",
        "    \n",
        "    print(f\"Model:\",\n",
        "      f\"Top K:\\t\\t {TOP_K}\",\n",
        "      f\"MAP:\\t\\t {eval_map:f}\",\n",
        "      f\"NDCG:\\t\\t {eval_ndcg:f}\",\n",
        "      f\"Precision@K:\\t {eval_precision:f}\",\n",
        "      f\"Recall@K:\\t {eval_recall:f}\", sep='\\n')\n",
        "    return eval_map,eval_precision,eval_recall"
      ],
      "id": "biUUNz2MMDxo"
    },
    {
      "cell_type": "code",
      "execution_count": null,
      "metadata": {
        "id": "95xw5b3Sj1X5"
      },
      "outputs": [],
      "source": [
        "def startSAR(data_df):\n",
        "  sar=SAR_Algo()\n",
        "  sar.setup(data=data_df,col_user=USER,col_item=ITEM,col_rating=RATING,col_time=TIMESTAMP,col_prediction=PREDICTION,ratio=0.8,top_k=TOP_K,seed=SEED)\n",
        "  start = time.time()\n",
        "  sar.trainmodel()\n",
        "  end = time.time()\n",
        "  top_k_data=sar.prediction()\n",
        "  duration=end-start\n",
        "  eval_map,eval_precision,eval_recall=sar.evaluatemodel()\n",
        "  return eval_map,eval_precision,eval_recall,duration"
      ],
      "id": "95xw5b3Sj1X5"
    },
    {
      "cell_type": "code",
      "execution_count": null,
      "metadata": {
        "id": "8CLTOYC5MD0Y",
        "colab": {
          "base_uri": "https://localhost:8080/"
        },
        "outputId": "0a22cb41-a974-4994-e32b-230cdca8f74b"
      },
      "outputs": [
        {
          "output_type": "stream",
          "name": "stdout",
          "text": [
            "Model:\n",
            "Top K:\t\t 20\n",
            "MAP:\t\t 0.008240\n",
            "NDCG:\t\t 0.033392\n",
            "Precision@K:\t 0.020909\n",
            "Recall@K:\t 0.029124\n"
          ]
        },
        {
          "output_type": "stream",
          "name": "stderr",
          "text": [
            "/usr/local/lib/python3.7/dist-packages/scipy/sparse/data.py:124: RuntimeWarning: invalid value encountered in multiply\n",
            "  return self._with_data(self.data * other)\n"
          ]
        }
      ],
      "source": [
        "import time\n",
        "sar_eval_map=0\n",
        "sar_eval_precision=0\n",
        "sar_eval_recall=0\n",
        "sar_top_k_data=None\n",
        "\n",
        "    \n",
        "data_df=sar1_df[[USER,ITEM,RATING,TIMESTAMP]]\n",
        "    \n",
        "eval_map,eval_precision,eval_recall,duration=startSAR(data_df)\n",
        "   "
      ],
      "id": "8CLTOYC5MD0Y"
    },
    {
      "cell_type": "code",
      "source": [
        "df2 = {'Dataset':\"Retail Rocket\",'Sparsity':sparsity_sar1,'Algorithm':\"SAR\",'Precision@k':eval_precision}\n",
        "summary_df = summary_df.append(df2, ignore_index = True)"
      ],
      "metadata": {
        "id": "HlZr8JqjP8OK"
      },
      "execution_count": null,
      "outputs": [],
      "id": "HlZr8JqjP8OK"
    },
    {
      "cell_type": "markdown",
      "source": [
        "#BPR"
      ],
      "metadata": {
        "id": "9Ca5qPb-M5cK"
      },
      "id": "9Ca5qPb-M5cK"
    },
    {
      "cell_type": "code",
      "source": [
        "import cornac\n",
        "from recommenders.datasets.python_splitters import python_random_split,python_stratified_split\n",
        "from recommenders.evaluation.python_evaluation import map_at_k, ndcg_at_k, precision_at_k, recall_at_k\n",
        "from recommenders.models.cornac.cornac_utils import predict_ranking\n",
        "from recommenders.utils.timer import Timer\n",
        "from recommenders.utils.constants import SEED\n",
        "\n"
      ],
      "metadata": {
        "id": "GXwz5I4_OFP6"
      },
      "id": "GXwz5I4_OFP6",
      "execution_count": null,
      "outputs": []
    },
    {
      "cell_type": "code",
      "source": [
        "df=rating3_df.copy()\n",
        "df=df[['userID','itemID','rating']]\n",
        "train, test = python_stratified_split(df, 0.75)\n",
        "\n",
        "train_set = cornac.data.Dataset.from_uir(train.itertuples(index=False), seed=SEED)\n",
        "bpr = cornac.models.BPR(\n",
        "    k=200,\n",
        "    max_iter=100,\n",
        "    learning_rate=0.01,\n",
        "    lambda_reg=0.001,\n",
        "    verbose=True,\n",
        "    seed=42\n",
        ")\n",
        "\n",
        "bpr.fit(train_set)\n",
        "\n",
        "all_predictions = predict_ranking(bpr, train, usercol='userID', itemcol='itemID', remove_seen=True)\n",
        "\n",
        "k = 10\n",
        "eval_precision = precision_at_k(test, all_predictions, col_prediction='prediction', k=k)\n",
        "eval_recall = recall_at_k(test, all_predictions, col_prediction='prediction', k=k)\n",
        "\n",
        "print(\n",
        "      \"Precision@K:\\t%f\" % eval_precision,\n",
        "      \"Recall@K:\\t%f\" % eval_recall, sep='\\n')\n"
      ],
      "metadata": {
        "colab": {
          "base_uri": "https://localhost:8080/",
          "height": 103,
          "referenced_widgets": [
            "f35ade01d6dc4df5a9ae14c5e381aabf",
            "64e88f0146ed46a2aa01e3112deb9b85",
            "c9b9a9baccee450e8d61e0b823c0d6f9",
            "fc4a6ce240fa47dab9b60bf4cdeb1a3a",
            "4ce738b3eebd4e298905bc53bcb7a2b9",
            "967039cddcf54d9889399e01bf8fcf1e",
            "3a5b18553c9348419c38a55a91c98987",
            "b5212e6af3d8479389eccf72ce773ce4",
            "c357f9aa2f0d4fb8a65c01437cc9d690",
            "bbb62386303946dbbf703c5ca9692cdd",
            "b1f1a19dded248a69a66ff161398901a"
          ]
        },
        "id": "SucFQWquM7DJ",
        "outputId": "40ffca4f-4b17-490b-be5e-5229a47e0496"
      },
      "id": "SucFQWquM7DJ",
      "execution_count": null,
      "outputs": [
        {
          "output_type": "display_data",
          "data": {
            "text/plain": [
              "  0%|          | 0/100 [00:00<?, ?it/s]"
            ],
            "application/vnd.jupyter.widget-view+json": {
              "version_major": 2,
              "version_minor": 0,
              "model_id": "f35ade01d6dc4df5a9ae14c5e381aabf"
            }
          },
          "metadata": {}
        },
        {
          "output_type": "stream",
          "name": "stdout",
          "text": [
            "Optimization finished!\n",
            "Precision@K:\t0.076981\n",
            "Recall@K:\t0.024961\n"
          ]
        }
      ]
    },
    {
      "cell_type": "code",
      "source": [
        "\n",
        "df2 = {'Dataset':\"Retail Rocket\",'Algorithm':\"BPR\",'Sparsity':sparsity3,'Recall@K':eval_recall,'Precision@k': eval_precision }\n",
        "summary_df = summary_df.append(df2, ignore_index = True)\n",
        "summary_df"
      ],
      "metadata": {
        "colab": {
          "base_uri": "https://localhost:8080/",
          "height": 81
        },
        "id": "i25ZX3J9NK6i",
        "outputId": "145ad394-9a04-4bb8-ce4e-be67e22e42d3"
      },
      "id": "i25ZX3J9NK6i",
      "execution_count": null,
      "outputs": [
        {
          "output_type": "execute_result",
          "data": {
            "text/plain": [
              "         Dataset Algorithm  Sparsity  Recall@K  Precision@k\n",
              "0  Retail Rocket       BPR  0.979891  0.024961     0.076981"
            ],
            "text/html": [
              "\n",
              "  <div id=\"df-b99ac2ea-62ab-4df0-9c1d-77594396b417\">\n",
              "    <div class=\"colab-df-container\">\n",
              "      <div>\n",
              "<style scoped>\n",
              "    .dataframe tbody tr th:only-of-type {\n",
              "        vertical-align: middle;\n",
              "    }\n",
              "\n",
              "    .dataframe tbody tr th {\n",
              "        vertical-align: top;\n",
              "    }\n",
              "\n",
              "    .dataframe thead th {\n",
              "        text-align: right;\n",
              "    }\n",
              "</style>\n",
              "<table border=\"1\" class=\"dataframe\">\n",
              "  <thead>\n",
              "    <tr style=\"text-align: right;\">\n",
              "      <th></th>\n",
              "      <th>Dataset</th>\n",
              "      <th>Algorithm</th>\n",
              "      <th>Sparsity</th>\n",
              "      <th>Recall@K</th>\n",
              "      <th>Precision@k</th>\n",
              "    </tr>\n",
              "  </thead>\n",
              "  <tbody>\n",
              "    <tr>\n",
              "      <th>0</th>\n",
              "      <td>Retail Rocket</td>\n",
              "      <td>BPR</td>\n",
              "      <td>0.979891</td>\n",
              "      <td>0.024961</td>\n",
              "      <td>0.076981</td>\n",
              "    </tr>\n",
              "  </tbody>\n",
              "</table>\n",
              "</div>\n",
              "      <button class=\"colab-df-convert\" onclick=\"convertToInteractive('df-b99ac2ea-62ab-4df0-9c1d-77594396b417')\"\n",
              "              title=\"Convert this dataframe to an interactive table.\"\n",
              "              style=\"display:none;\">\n",
              "        \n",
              "  <svg xmlns=\"http://www.w3.org/2000/svg\" height=\"24px\"viewBox=\"0 0 24 24\"\n",
              "       width=\"24px\">\n",
              "    <path d=\"M0 0h24v24H0V0z\" fill=\"none\"/>\n",
              "    <path d=\"M18.56 5.44l.94 2.06.94-2.06 2.06-.94-2.06-.94-.94-2.06-.94 2.06-2.06.94zm-11 1L8.5 8.5l.94-2.06 2.06-.94-2.06-.94L8.5 2.5l-.94 2.06-2.06.94zm10 10l.94 2.06.94-2.06 2.06-.94-2.06-.94-.94-2.06-.94 2.06-2.06.94z\"/><path d=\"M17.41 7.96l-1.37-1.37c-.4-.4-.92-.59-1.43-.59-.52 0-1.04.2-1.43.59L10.3 9.45l-7.72 7.72c-.78.78-.78 2.05 0 2.83L4 21.41c.39.39.9.59 1.41.59.51 0 1.02-.2 1.41-.59l7.78-7.78 2.81-2.81c.8-.78.8-2.07 0-2.86zM5.41 20L4 18.59l7.72-7.72 1.47 1.35L5.41 20z\"/>\n",
              "  </svg>\n",
              "      </button>\n",
              "      \n",
              "  <style>\n",
              "    .colab-df-container {\n",
              "      display:flex;\n",
              "      flex-wrap:wrap;\n",
              "      gap: 12px;\n",
              "    }\n",
              "\n",
              "    .colab-df-convert {\n",
              "      background-color: #E8F0FE;\n",
              "      border: none;\n",
              "      border-radius: 50%;\n",
              "      cursor: pointer;\n",
              "      display: none;\n",
              "      fill: #1967D2;\n",
              "      height: 32px;\n",
              "      padding: 0 0 0 0;\n",
              "      width: 32px;\n",
              "    }\n",
              "\n",
              "    .colab-df-convert:hover {\n",
              "      background-color: #E2EBFA;\n",
              "      box-shadow: 0px 1px 2px rgba(60, 64, 67, 0.3), 0px 1px 3px 1px rgba(60, 64, 67, 0.15);\n",
              "      fill: #174EA6;\n",
              "    }\n",
              "\n",
              "    [theme=dark] .colab-df-convert {\n",
              "      background-color: #3B4455;\n",
              "      fill: #D2E3FC;\n",
              "    }\n",
              "\n",
              "    [theme=dark] .colab-df-convert:hover {\n",
              "      background-color: #434B5C;\n",
              "      box-shadow: 0px 1px 3px 1px rgba(0, 0, 0, 0.15);\n",
              "      filter: drop-shadow(0px 1px 2px rgba(0, 0, 0, 0.3));\n",
              "      fill: #FFFFFF;\n",
              "    }\n",
              "  </style>\n",
              "\n",
              "      <script>\n",
              "        const buttonEl =\n",
              "          document.querySelector('#df-b99ac2ea-62ab-4df0-9c1d-77594396b417 button.colab-df-convert');\n",
              "        buttonEl.style.display =\n",
              "          google.colab.kernel.accessAllowed ? 'block' : 'none';\n",
              "\n",
              "        async function convertToInteractive(key) {\n",
              "          const element = document.querySelector('#df-b99ac2ea-62ab-4df0-9c1d-77594396b417');\n",
              "          const dataTable =\n",
              "            await google.colab.kernel.invokeFunction('convertToInteractive',\n",
              "                                                     [key], {});\n",
              "          if (!dataTable) return;\n",
              "\n",
              "          const docLinkHtml = 'Like what you see? Visit the ' +\n",
              "            '<a target=\"_blank\" href=https://colab.research.google.com/notebooks/data_table.ipynb>data table notebook</a>'\n",
              "            + ' to learn more about interactive tables.';\n",
              "          element.innerHTML = '';\n",
              "          dataTable['output_type'] = 'display_data';\n",
              "          await google.colab.output.renderOutput(dataTable, element);\n",
              "          const docLink = document.createElement('div');\n",
              "          docLink.innerHTML = docLinkHtml;\n",
              "          element.appendChild(docLink);\n",
              "        }\n",
              "      </script>\n",
              "    </div>\n",
              "  </div>\n",
              "  "
            ]
          },
          "metadata": {},
          "execution_count": 51
        }
      ]
    },
    {
      "cell_type": "code",
      "source": [
        "df=rating2_df.copy()\n",
        "df=df[['userID','itemID','rating']]\n",
        "train, test = python_stratified_split(df, 0.75)\n",
        "\n",
        "train_set = cornac.data.Dataset.from_uir(train.itertuples(index=False), seed=SEED)\n",
        "bpr = cornac.models.BPR(\n",
        "    k=200,\n",
        "    max_iter=100,\n",
        "    learning_rate=0.01,\n",
        "    lambda_reg=0.001,\n",
        "    verbose=True,\n",
        "    seed=42\n",
        ")\n",
        "\n",
        "bpr.fit(train_set)\n",
        "\n",
        "all_predictions = predict_ranking(bpr, train, usercol='userID', itemcol='itemID', remove_seen=True)\n",
        "\n",
        "k = 10\n",
        "eval_precision = precision_at_k(test, all_predictions, col_prediction='prediction', k=k)\n",
        "eval_recall = recall_at_k(test, all_predictions, col_prediction='prediction', k=k)\n",
        "\n",
        "print(\n",
        "      \"Precision@K:\\t%f\" % eval_precision,\n",
        "      \"Recall@K:\\t%f\" % eval_recall, sep='\\n')\n"
      ],
      "metadata": {
        "colab": {
          "base_uri": "https://localhost:8080/",
          "height": 103,
          "referenced_widgets": [
            "514962b09978430d9560ad901145ab40",
            "5593f8c762dd45609e13409f9485acae",
            "60066f787c4a4252b9cadf25f106659a",
            "b3851b525370458c89b2e0b7ef5f5474",
            "397633b130374784bd060ed1c5a41600",
            "e174c5d20d344de2a7e0e90388fd6cc9",
            "29dcf30c44cb427aa57d02306acb7736",
            "a39b1840a1a24fa2bde3f68c19380570",
            "82f6d6b5e2fa497e8a33119017fbce8a",
            "75052c37e6734c08ab076e42d77da031",
            "e00f9d27bbb54dc294edb5623f071d6c"
          ]
        },
        "outputId": "9c4eac51-f02d-4356-b614-70eaf7fe81ba",
        "id": "nD-9ydT3OXJQ"
      },
      "execution_count": null,
      "outputs": [
        {
          "output_type": "display_data",
          "data": {
            "text/plain": [
              "  0%|          | 0/100 [00:00<?, ?it/s]"
            ],
            "application/vnd.jupyter.widget-view+json": {
              "version_major": 2,
              "version_minor": 0,
              "model_id": "514962b09978430d9560ad901145ab40"
            }
          },
          "metadata": {}
        },
        {
          "output_type": "stream",
          "name": "stdout",
          "text": [
            "Optimization finished!\n",
            "Precision@K:\t0.055696\n",
            "Recall@K:\t0.014488\n"
          ]
        }
      ],
      "id": "nD-9ydT3OXJQ"
    },
    {
      "cell_type": "code",
      "source": [
        "\n",
        "df2 = {'Dataset':\"Retail Rocket\",'Algorithm':\"BPR\",'Sparsity':sparsity2,'Recall@K':eval_recall,'Precision@k': eval_precision }\n",
        "summary_df = summary_df.append(df2, ignore_index = True)\n",
        "summary_df"
      ],
      "metadata": {
        "colab": {
          "base_uri": "https://localhost:8080/",
          "height": 112
        },
        "outputId": "ba84e978-7c78-466a-93cd-765566cd407d",
        "id": "G7ZjuR7NOXJR"
      },
      "execution_count": null,
      "outputs": [
        {
          "output_type": "execute_result",
          "data": {
            "text/plain": [
              "         Dataset Algorithm  Sparsity  Recall@K  Precision@k\n",
              "0  Retail Rocket       BPR  0.979891  0.024961     0.076981\n",
              "1  Retail Rocket       BPR  0.988349  0.014488     0.055696"
            ],
            "text/html": [
              "\n",
              "  <div id=\"df-35ecd061-f839-48ac-9a54-e6e119b422a9\">\n",
              "    <div class=\"colab-df-container\">\n",
              "      <div>\n",
              "<style scoped>\n",
              "    .dataframe tbody tr th:only-of-type {\n",
              "        vertical-align: middle;\n",
              "    }\n",
              "\n",
              "    .dataframe tbody tr th {\n",
              "        vertical-align: top;\n",
              "    }\n",
              "\n",
              "    .dataframe thead th {\n",
              "        text-align: right;\n",
              "    }\n",
              "</style>\n",
              "<table border=\"1\" class=\"dataframe\">\n",
              "  <thead>\n",
              "    <tr style=\"text-align: right;\">\n",
              "      <th></th>\n",
              "      <th>Dataset</th>\n",
              "      <th>Algorithm</th>\n",
              "      <th>Sparsity</th>\n",
              "      <th>Recall@K</th>\n",
              "      <th>Precision@k</th>\n",
              "    </tr>\n",
              "  </thead>\n",
              "  <tbody>\n",
              "    <tr>\n",
              "      <th>0</th>\n",
              "      <td>Retail Rocket</td>\n",
              "      <td>BPR</td>\n",
              "      <td>0.979891</td>\n",
              "      <td>0.024961</td>\n",
              "      <td>0.076981</td>\n",
              "    </tr>\n",
              "    <tr>\n",
              "      <th>1</th>\n",
              "      <td>Retail Rocket</td>\n",
              "      <td>BPR</td>\n",
              "      <td>0.988349</td>\n",
              "      <td>0.014488</td>\n",
              "      <td>0.055696</td>\n",
              "    </tr>\n",
              "  </tbody>\n",
              "</table>\n",
              "</div>\n",
              "      <button class=\"colab-df-convert\" onclick=\"convertToInteractive('df-35ecd061-f839-48ac-9a54-e6e119b422a9')\"\n",
              "              title=\"Convert this dataframe to an interactive table.\"\n",
              "              style=\"display:none;\">\n",
              "        \n",
              "  <svg xmlns=\"http://www.w3.org/2000/svg\" height=\"24px\"viewBox=\"0 0 24 24\"\n",
              "       width=\"24px\">\n",
              "    <path d=\"M0 0h24v24H0V0z\" fill=\"none\"/>\n",
              "    <path d=\"M18.56 5.44l.94 2.06.94-2.06 2.06-.94-2.06-.94-.94-2.06-.94 2.06-2.06.94zm-11 1L8.5 8.5l.94-2.06 2.06-.94-2.06-.94L8.5 2.5l-.94 2.06-2.06.94zm10 10l.94 2.06.94-2.06 2.06-.94-2.06-.94-.94-2.06-.94 2.06-2.06.94z\"/><path d=\"M17.41 7.96l-1.37-1.37c-.4-.4-.92-.59-1.43-.59-.52 0-1.04.2-1.43.59L10.3 9.45l-7.72 7.72c-.78.78-.78 2.05 0 2.83L4 21.41c.39.39.9.59 1.41.59.51 0 1.02-.2 1.41-.59l7.78-7.78 2.81-2.81c.8-.78.8-2.07 0-2.86zM5.41 20L4 18.59l7.72-7.72 1.47 1.35L5.41 20z\"/>\n",
              "  </svg>\n",
              "      </button>\n",
              "      \n",
              "  <style>\n",
              "    .colab-df-container {\n",
              "      display:flex;\n",
              "      flex-wrap:wrap;\n",
              "      gap: 12px;\n",
              "    }\n",
              "\n",
              "    .colab-df-convert {\n",
              "      background-color: #E8F0FE;\n",
              "      border: none;\n",
              "      border-radius: 50%;\n",
              "      cursor: pointer;\n",
              "      display: none;\n",
              "      fill: #1967D2;\n",
              "      height: 32px;\n",
              "      padding: 0 0 0 0;\n",
              "      width: 32px;\n",
              "    }\n",
              "\n",
              "    .colab-df-convert:hover {\n",
              "      background-color: #E2EBFA;\n",
              "      box-shadow: 0px 1px 2px rgba(60, 64, 67, 0.3), 0px 1px 3px 1px rgba(60, 64, 67, 0.15);\n",
              "      fill: #174EA6;\n",
              "    }\n",
              "\n",
              "    [theme=dark] .colab-df-convert {\n",
              "      background-color: #3B4455;\n",
              "      fill: #D2E3FC;\n",
              "    }\n",
              "\n",
              "    [theme=dark] .colab-df-convert:hover {\n",
              "      background-color: #434B5C;\n",
              "      box-shadow: 0px 1px 3px 1px rgba(0, 0, 0, 0.15);\n",
              "      filter: drop-shadow(0px 1px 2px rgba(0, 0, 0, 0.3));\n",
              "      fill: #FFFFFF;\n",
              "    }\n",
              "  </style>\n",
              "\n",
              "      <script>\n",
              "        const buttonEl =\n",
              "          document.querySelector('#df-35ecd061-f839-48ac-9a54-e6e119b422a9 button.colab-df-convert');\n",
              "        buttonEl.style.display =\n",
              "          google.colab.kernel.accessAllowed ? 'block' : 'none';\n",
              "\n",
              "        async function convertToInteractive(key) {\n",
              "          const element = document.querySelector('#df-35ecd061-f839-48ac-9a54-e6e119b422a9');\n",
              "          const dataTable =\n",
              "            await google.colab.kernel.invokeFunction('convertToInteractive',\n",
              "                                                     [key], {});\n",
              "          if (!dataTable) return;\n",
              "\n",
              "          const docLinkHtml = 'Like what you see? Visit the ' +\n",
              "            '<a target=\"_blank\" href=https://colab.research.google.com/notebooks/data_table.ipynb>data table notebook</a>'\n",
              "            + ' to learn more about interactive tables.';\n",
              "          element.innerHTML = '';\n",
              "          dataTable['output_type'] = 'display_data';\n",
              "          await google.colab.output.renderOutput(dataTable, element);\n",
              "          const docLink = document.createElement('div');\n",
              "          docLink.innerHTML = docLinkHtml;\n",
              "          element.appendChild(docLink);\n",
              "        }\n",
              "      </script>\n",
              "    </div>\n",
              "  </div>\n",
              "  "
            ]
          },
          "metadata": {},
          "execution_count": 53
        }
      ],
      "id": "G7ZjuR7NOXJR"
    },
    {
      "cell_type": "code",
      "source": [],
      "metadata": {
        "id": "F9RFWcxXNkVy"
      },
      "id": "F9RFWcxXNkVy",
      "execution_count": null,
      "outputs": []
    },
    {
      "cell_type": "markdown",
      "metadata": {
        "id": "mTdfxrJJPfqx"
      },
      "source": [
        "# LightGCN"
      ],
      "id": "mTdfxrJJPfqx"
    },
    {
      "cell_type": "code",
      "execution_count": null,
      "metadata": {
        "id": "BysZKxPhPfqx"
      },
      "outputs": [],
      "source": [
        "!pip install recommenders"
      ],
      "id": "BysZKxPhPfqx"
    },
    {
      "cell_type": "code",
      "execution_count": null,
      "metadata": {
        "id": "4GEPZhv9Pfqy"
      },
      "outputs": [],
      "source": [
        "from recommenders.utils.timer import Timer\n",
        "from recommenders.models.deeprec.models.graphrec.lightgcn import LightGCN\n",
        "from recommenders.models.deeprec.DataModel.ImplicitCF import ImplicitCF\n",
        "from recommenders.datasets import movielens\n",
        "from recommenders.datasets.python_splitters import python_stratified_split\n",
        "from recommenders.evaluation.python_evaluation import map_at_k, ndcg_at_k, precision_at_k, recall_at_k\n",
        "from recommenders.utils.constants import SEED as DEFAULT_SEED\n",
        "from recommenders.models.deeprec.deeprec_utils import prepare_hparams"
      ],
      "id": "4GEPZhv9Pfqy"
    },
    {
      "cell_type": "code",
      "source": [
        "from datetime import datetime\n"
      ],
      "metadata": {
        "id": "6ksVvb57OBVR"
      },
      "execution_count": null,
      "outputs": [],
      "id": "6ksVvb57OBVR"
    },
    {
      "cell_type": "code",
      "execution_count": null,
      "metadata": {
        "id": "_qSS3J5uYuK9"
      },
      "outputs": [],
      "source": [
        "SEED=42\n",
        "# top k items to recommend\n",
        "TOP_K = 10\n",
        "\n",
        "# Model parameters\n",
        "EPOCHS = 20\n",
        "BATCH_SIZE = 256"
      ],
      "id": "_qSS3J5uYuK9"
    },
    {
      "cell_type": "code",
      "execution_count": null,
      "metadata": {
        "id": "4ewhxuo-YLce"
      },
      "outputs": [],
      "source": [
        "def runLighGCN(df_input):\n",
        "  gcn_df=df_input.copy()\n",
        "  ct = datetime.now()\n",
        "\n",
        "  ts = ct.timestamp()\n",
        "  if timestamp is None:\n",
        "    gcn_df['timestamp']=ts \n",
        "  else:\n",
        "    gcn_df.rename(columns={timestamp:'timestamp'},inplace=True)\n",
        "  gcn_df.reset_index()\n",
        "  gcn_df=gcn_df[['userID','itemID','rating','timestamp']]\n",
        "  gcn_item_ids = list(set(list(gcn_df.itemID.unique())))\n",
        "  gcn_user_ids = list(set(list(gcn_df.userID.unique())))\n",
        "  dict_items = {}\n",
        "  index = 0\n",
        "  for ids in sorted(gcn_item_ids):\n",
        "      dict_items[ids] = index\n",
        "      index += 1\n",
        "  dict_users = {}\n",
        "  index = 0\n",
        "  for ids in sorted(gcn_user_ids):\n",
        "      dict_users[ids] = index\n",
        "      index += 1\n",
        "  gcn_df[\"itemID\"] = gcn_df[\"itemID\"].map(dict_items)\n",
        "  gcn_df[\"userID\"] = gcn_df[\"userID\"].map(dict_users)\n",
        "  gcn_df.reset_index()\n",
        "  train, test = python_stratified_split(gcn_df, ratio=0.8)\n",
        "  data = ImplicitCF(train=train, test=test, seed=SEED)\n",
        "  yaml_file = \"param_gcn.yaml\"\n",
        "  hparams = prepare_hparams(yaml_file,\n",
        "                            n_layers=4,\n",
        "                            batch_size=BATCH_SIZE,\n",
        "                            epochs=EPOCHS,\n",
        "                            learning_rate=0.005,\n",
        "                            eval_epoch=5,\n",
        "                            top_k=TOP_K,\n",
        "                           )\n",
        "  model = LightGCN(hparams, data, seed=SEED)\n",
        "  before= datetime.now()\n",
        "  model.fit()\n",
        "  after= datetime.now()\n",
        "  duration=after-before\n",
        "  topk_scores = model.recommend_k_items(test, top_k=TOP_K, remove_seen=True)\n",
        "  eval_map = map_at_k(test, topk_scores, k=TOP_K)\n",
        "  eval_ndcg = ndcg_at_k(test, topk_scores, k=TOP_K)\n",
        "  eval_precision = precision_at_k(test, topk_scores, k=TOP_K)\n",
        "  eval_recall = recall_at_k(test, topk_scores, k=TOP_K)\n",
        "  # Record results with papermill for tests\n",
        "  print(\"map\"+ str(eval_map))\n",
        "  print(\"ndcg\"+ str(eval_ndcg))\n",
        "  print(\"precision\"+ str( eval_precision))\n",
        "  print(\"recall\"+ str(eval_recall))\n",
        "  return eval_map,eval_ndcg,eval_precision,eval_recall,duration.total_seconds()"
      ],
      "id": "4ewhxuo-YLce"
    },
    {
      "cell_type": "code",
      "source": [
        "gcn_eval_map,gcn_eval_ndcg,gcn_eval_precision,gcn_eval_recall,gcn_duration=None,None,None,None,None\n",
        "\n",
        "gcn_eval_map,gcn_eval_ndcg,gcn_eval_precision,gcn_eval_recall,gcn_duration=runLighGCN(rating3_df)\n",
        "\n"
      ],
      "metadata": {
        "colab": {
          "base_uri": "https://localhost:8080/"
        },
        "id": "P87BkLkQPW64",
        "outputId": "6938d513-769c-40d8-fdd0-5eb58f528478"
      },
      "id": "P87BkLkQPW64",
      "execution_count": null,
      "outputs": [
        {
          "output_type": "stream",
          "name": "stdout",
          "text": [
            "Already create adjacency matrix.\n",
            "Already normalize adjacency matrix.\n",
            "Using xavier initialization.\n",
            "Epoch 1 (train)0.9s: train loss = 0.56003 = (mf)0.55978 + (embed)0.00026\n",
            "Epoch 2 (train)0.6s: train loss = 0.35422 = (mf)0.35330 + (embed)0.00092\n",
            "Epoch 3 (train)0.6s: train loss = 0.27654 = (mf)0.27509 + (embed)0.00145\n",
            "Epoch 4 (train)0.7s: train loss = 0.22435 = (mf)0.22240 + (embed)0.00195\n",
            "Epoch 5 (train)0.6s + (eval)2.5s: train loss = 0.19751 = (mf)0.19511 + (embed)0.00240, recall = 0.04078, ndcg = 0.10023, precision = 0.08075, map = 0.01951\n",
            "Epoch 6 (train)0.7s: train loss = 0.16908 = (mf)0.16625 + (embed)0.00284\n",
            "Epoch 7 (train)0.7s: train loss = 0.15101 = (mf)0.14778 + (embed)0.00323\n",
            "Epoch 8 (train)0.6s: train loss = 0.13236 = (mf)0.12876 + (embed)0.00361\n",
            "Epoch 9 (train)0.5s: train loss = 0.12167 = (mf)0.11771 + (embed)0.00396\n",
            "Epoch 10 (train)0.5s + (eval)0.1s: train loss = 0.11031 = (mf)0.10601 + (embed)0.00430, recall = 0.04563, ndcg = 0.10293, precision = 0.08717, map = 0.01937\n",
            "Epoch 11 (train)0.5s: train loss = 0.10143 = (mf)0.09682 + (embed)0.00462\n",
            "Epoch 12 (train)0.5s: train loss = 0.08991 = (mf)0.08500 + (embed)0.00491\n",
            "Epoch 13 (train)0.5s: train loss = 0.08483 = (mf)0.07962 + (embed)0.00521\n",
            "Epoch 14 (train)0.5s: train loss = 0.07575 = (mf)0.07027 + (embed)0.00547\n",
            "Epoch 15 (train)0.5s + (eval)0.1s: train loss = 0.06952 = (mf)0.06377 + (embed)0.00575, recall = 0.04622, ndcg = 0.10467, precision = 0.08943, map = 0.02006\n",
            "Epoch 16 (train)0.5s: train loss = 0.06351 = (mf)0.05751 + (embed)0.00599\n",
            "Epoch 17 (train)0.5s: train loss = 0.06104 = (mf)0.05481 + (embed)0.00623\n",
            "Epoch 18 (train)0.6s: train loss = 0.05734 = (mf)0.05090 + (embed)0.00644\n",
            "Epoch 19 (train)0.6s: train loss = 0.05536 = (mf)0.04871 + (embed)0.00665\n",
            "Epoch 20 (train)0.6s + (eval)0.1s: train loss = 0.05062 = (mf)0.04377 + (embed)0.00685, recall = 0.04544, ndcg = 0.10033, precision = 0.08566, map = 0.01975\n",
            "map0.01974843364552815\n",
            "ndcg0.10032996473301167\n",
            "precision0.08566037735849058\n",
            "recall0.04544329796588106\n"
          ]
        }
      ]
    },
    {
      "cell_type": "code",
      "source": [
        "df2 = {'Dataset':\"Retail Rocket\t\",'Algorithm':\"LightGCN\",'Sparsity':sparsity3,'Precision@k':gcn_eval_precision,'Recall@k':gcn_eval_recall}\n",
        "summary_df = summary_df.append(df2, ignore_index = True)"
      ],
      "metadata": {
        "id": "65uNqXNWPwZA"
      },
      "id": "65uNqXNWPwZA",
      "execution_count": null,
      "outputs": []
    },
    {
      "cell_type": "code",
      "source": [
        "gcn_eval_map,gcn_eval_ndcg,gcn_eval_precision,gcn_eval_recall,gcn_duration=None,None,None,None,None\n",
        "\n",
        "gcn_eval_map,gcn_eval_ndcg,gcn_eval_precision,gcn_eval_recall,gcn_duration=runLighGCN(rating2_df)\n",
        "\n"
      ],
      "metadata": {
        "colab": {
          "base_uri": "https://localhost:8080/"
        },
        "id": "TCZQho0KP56o",
        "outputId": "71e977a5-2eb3-4e7a-a375-f2b1df3f37fa"
      },
      "id": "TCZQho0KP56o",
      "execution_count": null,
      "outputs": [
        {
          "output_type": "stream",
          "name": "stdout",
          "text": [
            "Already create adjacency matrix.\n",
            "Already normalize adjacency matrix.\n",
            "Using xavier initialization.\n",
            "Epoch 1 (train)1.1s: train loss = 0.47175 = (mf)0.47134 + (embed)0.00041\n",
            "Epoch 2 (train)1.1s: train loss = 0.23213 = (mf)0.23083 + (embed)0.00130\n",
            "Epoch 3 (train)1.0s: train loss = 0.17461 = (mf)0.17273 + (embed)0.00188\n",
            "Epoch 4 (train)1.1s: train loss = 0.14267 = (mf)0.14032 + (embed)0.00235\n",
            "Epoch 5 (train)1.1s + (eval)0.2s: train loss = 0.11745 = (mf)0.11468 + (embed)0.00277, recall = 0.03324, ndcg = 0.07639, precision = 0.06532, map = 0.01391\n",
            "Epoch 6 (train)1.0s: train loss = 0.10225 = (mf)0.09910 + (embed)0.00315\n",
            "Epoch 7 (train)0.9s: train loss = 0.09026 = (mf)0.08676 + (embed)0.00350\n",
            "Epoch 8 (train)1.0s: train loss = 0.07727 = (mf)0.07346 + (embed)0.00381\n",
            "Epoch 9 (train)1.0s: train loss = 0.06923 = (mf)0.06511 + (embed)0.00412\n",
            "Epoch 10 (train)0.9s + (eval)0.1s: train loss = 0.06305 = (mf)0.05867 + (embed)0.00438, recall = 0.03505, ndcg = 0.08249, precision = 0.07038, map = 0.01504\n",
            "Epoch 11 (train)0.9s: train loss = 0.05623 = (mf)0.05158 + (embed)0.00465\n",
            "Epoch 12 (train)0.9s: train loss = 0.05197 = (mf)0.04708 + (embed)0.00489\n",
            "Epoch 13 (train)0.9s: train loss = 0.04651 = (mf)0.04139 + (embed)0.00512\n",
            "Epoch 14 (train)0.9s: train loss = 0.04358 = (mf)0.03825 + (embed)0.00533\n",
            "Epoch 15 (train)0.9s + (eval)0.1s: train loss = 0.03969 = (mf)0.03417 + (embed)0.00552, recall = 0.03619, ndcg = 0.08201, precision = 0.06987, map = 0.01545\n",
            "Epoch 16 (train)1.0s: train loss = 0.03664 = (mf)0.03094 + (embed)0.00570\n",
            "Epoch 17 (train)1.0s: train loss = 0.03443 = (mf)0.02855 + (embed)0.00588\n",
            "Epoch 18 (train)0.9s: train loss = 0.03262 = (mf)0.02658 + (embed)0.00604\n",
            "Epoch 19 (train)0.9s: train loss = 0.02966 = (mf)0.02347 + (embed)0.00618\n",
            "Epoch 20 (train)0.9s + (eval)0.1s: train loss = 0.02852 = (mf)0.02222 + (embed)0.00631, recall = 0.03718, ndcg = 0.08073, precision = 0.06785, map = 0.01602\n",
            "map0.01602237845551122\n",
            "ndcg0.08072662427497558\n",
            "precision0.0678481012658228\n",
            "recall0.037179583309154725\n"
          ]
        }
      ]
    },
    {
      "cell_type": "code",
      "source": [
        "df2 = {'Dataset':\"Retail Rocket\t\",'Algorithm':\"LightGCN\",'Sparsity':sparsity2,'Precision@k':gcn_eval_precision,'Recall@k':gcn_eval_recall}\n",
        "summary_df = summary_df.append(df2, ignore_index = True)"
      ],
      "metadata": {
        "id": "7LMNmNSCP7_a"
      },
      "id": "7LMNmNSCP7_a",
      "execution_count": null,
      "outputs": []
    },
    {
      "cell_type": "code",
      "source": [
        "summary_df"
      ],
      "metadata": {
        "colab": {
          "base_uri": "https://localhost:8080/",
          "height": 112
        },
        "id": "UJ69IcgVQDdY",
        "outputId": "07d922ec-e4ca-4e2e-b321-b56c0d3c6f43"
      },
      "id": "UJ69IcgVQDdY",
      "execution_count": null,
      "outputs": [
        {
          "output_type": "execute_result",
          "data": {
            "text/plain": [
              "           Dataset Algorithm  Sparsity  Recall@K  Precision@k  Recall@k\n",
              "0  Retail Rocket\\t  LightGCN  0.979891       NaN     0.085660  0.045443\n",
              "1  Retail Rocket\\t  LightGCN  0.988349       NaN     0.067848  0.037180"
            ],
            "text/html": [
              "\n",
              "  <div id=\"df-fd9fc98d-2b88-474b-bc0f-3043579268ad\">\n",
              "    <div class=\"colab-df-container\">\n",
              "      <div>\n",
              "<style scoped>\n",
              "    .dataframe tbody tr th:only-of-type {\n",
              "        vertical-align: middle;\n",
              "    }\n",
              "\n",
              "    .dataframe tbody tr th {\n",
              "        vertical-align: top;\n",
              "    }\n",
              "\n",
              "    .dataframe thead th {\n",
              "        text-align: right;\n",
              "    }\n",
              "</style>\n",
              "<table border=\"1\" class=\"dataframe\">\n",
              "  <thead>\n",
              "    <tr style=\"text-align: right;\">\n",
              "      <th></th>\n",
              "      <th>Dataset</th>\n",
              "      <th>Algorithm</th>\n",
              "      <th>Sparsity</th>\n",
              "      <th>Recall@K</th>\n",
              "      <th>Precision@k</th>\n",
              "      <th>Recall@k</th>\n",
              "    </tr>\n",
              "  </thead>\n",
              "  <tbody>\n",
              "    <tr>\n",
              "      <th>0</th>\n",
              "      <td>Retail Rocket\\t</td>\n",
              "      <td>LightGCN</td>\n",
              "      <td>0.979891</td>\n",
              "      <td>NaN</td>\n",
              "      <td>0.085660</td>\n",
              "      <td>0.045443</td>\n",
              "    </tr>\n",
              "    <tr>\n",
              "      <th>1</th>\n",
              "      <td>Retail Rocket\\t</td>\n",
              "      <td>LightGCN</td>\n",
              "      <td>0.988349</td>\n",
              "      <td>NaN</td>\n",
              "      <td>0.067848</td>\n",
              "      <td>0.037180</td>\n",
              "    </tr>\n",
              "  </tbody>\n",
              "</table>\n",
              "</div>\n",
              "      <button class=\"colab-df-convert\" onclick=\"convertToInteractive('df-fd9fc98d-2b88-474b-bc0f-3043579268ad')\"\n",
              "              title=\"Convert this dataframe to an interactive table.\"\n",
              "              style=\"display:none;\">\n",
              "        \n",
              "  <svg xmlns=\"http://www.w3.org/2000/svg\" height=\"24px\"viewBox=\"0 0 24 24\"\n",
              "       width=\"24px\">\n",
              "    <path d=\"M0 0h24v24H0V0z\" fill=\"none\"/>\n",
              "    <path d=\"M18.56 5.44l.94 2.06.94-2.06 2.06-.94-2.06-.94-.94-2.06-.94 2.06-2.06.94zm-11 1L8.5 8.5l.94-2.06 2.06-.94-2.06-.94L8.5 2.5l-.94 2.06-2.06.94zm10 10l.94 2.06.94-2.06 2.06-.94-2.06-.94-.94-2.06-.94 2.06-2.06.94z\"/><path d=\"M17.41 7.96l-1.37-1.37c-.4-.4-.92-.59-1.43-.59-.52 0-1.04.2-1.43.59L10.3 9.45l-7.72 7.72c-.78.78-.78 2.05 0 2.83L4 21.41c.39.39.9.59 1.41.59.51 0 1.02-.2 1.41-.59l7.78-7.78 2.81-2.81c.8-.78.8-2.07 0-2.86zM5.41 20L4 18.59l7.72-7.72 1.47 1.35L5.41 20z\"/>\n",
              "  </svg>\n",
              "      </button>\n",
              "      \n",
              "  <style>\n",
              "    .colab-df-container {\n",
              "      display:flex;\n",
              "      flex-wrap:wrap;\n",
              "      gap: 12px;\n",
              "    }\n",
              "\n",
              "    .colab-df-convert {\n",
              "      background-color: #E8F0FE;\n",
              "      border: none;\n",
              "      border-radius: 50%;\n",
              "      cursor: pointer;\n",
              "      display: none;\n",
              "      fill: #1967D2;\n",
              "      height: 32px;\n",
              "      padding: 0 0 0 0;\n",
              "      width: 32px;\n",
              "    }\n",
              "\n",
              "    .colab-df-convert:hover {\n",
              "      background-color: #E2EBFA;\n",
              "      box-shadow: 0px 1px 2px rgba(60, 64, 67, 0.3), 0px 1px 3px 1px rgba(60, 64, 67, 0.15);\n",
              "      fill: #174EA6;\n",
              "    }\n",
              "\n",
              "    [theme=dark] .colab-df-convert {\n",
              "      background-color: #3B4455;\n",
              "      fill: #D2E3FC;\n",
              "    }\n",
              "\n",
              "    [theme=dark] .colab-df-convert:hover {\n",
              "      background-color: #434B5C;\n",
              "      box-shadow: 0px 1px 3px 1px rgba(0, 0, 0, 0.15);\n",
              "      filter: drop-shadow(0px 1px 2px rgba(0, 0, 0, 0.3));\n",
              "      fill: #FFFFFF;\n",
              "    }\n",
              "  </style>\n",
              "\n",
              "      <script>\n",
              "        const buttonEl =\n",
              "          document.querySelector('#df-fd9fc98d-2b88-474b-bc0f-3043579268ad button.colab-df-convert');\n",
              "        buttonEl.style.display =\n",
              "          google.colab.kernel.accessAllowed ? 'block' : 'none';\n",
              "\n",
              "        async function convertToInteractive(key) {\n",
              "          const element = document.querySelector('#df-fd9fc98d-2b88-474b-bc0f-3043579268ad');\n",
              "          const dataTable =\n",
              "            await google.colab.kernel.invokeFunction('convertToInteractive',\n",
              "                                                     [key], {});\n",
              "          if (!dataTable) return;\n",
              "\n",
              "          const docLinkHtml = 'Like what you see? Visit the ' +\n",
              "            '<a target=\"_blank\" href=https://colab.research.google.com/notebooks/data_table.ipynb>data table notebook</a>'\n",
              "            + ' to learn more about interactive tables.';\n",
              "          element.innerHTML = '';\n",
              "          dataTable['output_type'] = 'display_data';\n",
              "          await google.colab.output.renderOutput(dataTable, element);\n",
              "          const docLink = document.createElement('div');\n",
              "          docLink.innerHTML = docLinkHtml;\n",
              "          element.appendChild(docLink);\n",
              "        }\n",
              "      </script>\n",
              "    </div>\n",
              "  </div>\n",
              "  "
            ]
          },
          "metadata": {},
          "execution_count": 51
        }
      ]
    },
    {
      "cell_type": "code",
      "source": [
        "summary_df"
      ],
      "metadata": {
        "colab": {
          "base_uri": "https://localhost:8080/",
          "height": 112
        },
        "outputId": "07d922ec-e4ca-4e2e-b321-b56c0d3c6f43",
        "id": "ES2JMmHlhbSy"
      },
      "execution_count": null,
      "outputs": [
        {
          "output_type": "execute_result",
          "data": {
            "text/plain": [
              "           Dataset Algorithm  Sparsity  Recall@K  Precision@k  Recall@k\n",
              "0  Retail Rocket\\t  LightGCN  0.979891       NaN     0.085660  0.045443\n",
              "1  Retail Rocket\\t  LightGCN  0.988349       NaN     0.067848  0.037180"
            ],
            "text/html": [
              "\n",
              "  <div id=\"df-fd9fc98d-2b88-474b-bc0f-3043579268ad\">\n",
              "    <div class=\"colab-df-container\">\n",
              "      <div>\n",
              "<style scoped>\n",
              "    .dataframe tbody tr th:only-of-type {\n",
              "        vertical-align: middle;\n",
              "    }\n",
              "\n",
              "    .dataframe tbody tr th {\n",
              "        vertical-align: top;\n",
              "    }\n",
              "\n",
              "    .dataframe thead th {\n",
              "        text-align: right;\n",
              "    }\n",
              "</style>\n",
              "<table border=\"1\" class=\"dataframe\">\n",
              "  <thead>\n",
              "    <tr style=\"text-align: right;\">\n",
              "      <th></th>\n",
              "      <th>Dataset</th>\n",
              "      <th>Algorithm</th>\n",
              "      <th>Sparsity</th>\n",
              "      <th>Recall@K</th>\n",
              "      <th>Precision@k</th>\n",
              "      <th>Recall@k</th>\n",
              "    </tr>\n",
              "  </thead>\n",
              "  <tbody>\n",
              "    <tr>\n",
              "      <th>0</th>\n",
              "      <td>Retail Rocket\\t</td>\n",
              "      <td>LightGCN</td>\n",
              "      <td>0.979891</td>\n",
              "      <td>NaN</td>\n",
              "      <td>0.085660</td>\n",
              "      <td>0.045443</td>\n",
              "    </tr>\n",
              "    <tr>\n",
              "      <th>1</th>\n",
              "      <td>Retail Rocket\\t</td>\n",
              "      <td>LightGCN</td>\n",
              "      <td>0.988349</td>\n",
              "      <td>NaN</td>\n",
              "      <td>0.067848</td>\n",
              "      <td>0.037180</td>\n",
              "    </tr>\n",
              "  </tbody>\n",
              "</table>\n",
              "</div>\n",
              "      <button class=\"colab-df-convert\" onclick=\"convertToInteractive('df-fd9fc98d-2b88-474b-bc0f-3043579268ad')\"\n",
              "              title=\"Convert this dataframe to an interactive table.\"\n",
              "              style=\"display:none;\">\n",
              "        \n",
              "  <svg xmlns=\"http://www.w3.org/2000/svg\" height=\"24px\"viewBox=\"0 0 24 24\"\n",
              "       width=\"24px\">\n",
              "    <path d=\"M0 0h24v24H0V0z\" fill=\"none\"/>\n",
              "    <path d=\"M18.56 5.44l.94 2.06.94-2.06 2.06-.94-2.06-.94-.94-2.06-.94 2.06-2.06.94zm-11 1L8.5 8.5l.94-2.06 2.06-.94-2.06-.94L8.5 2.5l-.94 2.06-2.06.94zm10 10l.94 2.06.94-2.06 2.06-.94-2.06-.94-.94-2.06-.94 2.06-2.06.94z\"/><path d=\"M17.41 7.96l-1.37-1.37c-.4-.4-.92-.59-1.43-.59-.52 0-1.04.2-1.43.59L10.3 9.45l-7.72 7.72c-.78.78-.78 2.05 0 2.83L4 21.41c.39.39.9.59 1.41.59.51 0 1.02-.2 1.41-.59l7.78-7.78 2.81-2.81c.8-.78.8-2.07 0-2.86zM5.41 20L4 18.59l7.72-7.72 1.47 1.35L5.41 20z\"/>\n",
              "  </svg>\n",
              "      </button>\n",
              "      \n",
              "  <style>\n",
              "    .colab-df-container {\n",
              "      display:flex;\n",
              "      flex-wrap:wrap;\n",
              "      gap: 12px;\n",
              "    }\n",
              "\n",
              "    .colab-df-convert {\n",
              "      background-color: #E8F0FE;\n",
              "      border: none;\n",
              "      border-radius: 50%;\n",
              "      cursor: pointer;\n",
              "      display: none;\n",
              "      fill: #1967D2;\n",
              "      height: 32px;\n",
              "      padding: 0 0 0 0;\n",
              "      width: 32px;\n",
              "    }\n",
              "\n",
              "    .colab-df-convert:hover {\n",
              "      background-color: #E2EBFA;\n",
              "      box-shadow: 0px 1px 2px rgba(60, 64, 67, 0.3), 0px 1px 3px 1px rgba(60, 64, 67, 0.15);\n",
              "      fill: #174EA6;\n",
              "    }\n",
              "\n",
              "    [theme=dark] .colab-df-convert {\n",
              "      background-color: #3B4455;\n",
              "      fill: #D2E3FC;\n",
              "    }\n",
              "\n",
              "    [theme=dark] .colab-df-convert:hover {\n",
              "      background-color: #434B5C;\n",
              "      box-shadow: 0px 1px 3px 1px rgba(0, 0, 0, 0.15);\n",
              "      filter: drop-shadow(0px 1px 2px rgba(0, 0, 0, 0.3));\n",
              "      fill: #FFFFFF;\n",
              "    }\n",
              "  </style>\n",
              "\n",
              "      <script>\n",
              "        const buttonEl =\n",
              "          document.querySelector('#df-fd9fc98d-2b88-474b-bc0f-3043579268ad button.colab-df-convert');\n",
              "        buttonEl.style.display =\n",
              "          google.colab.kernel.accessAllowed ? 'block' : 'none';\n",
              "\n",
              "        async function convertToInteractive(key) {\n",
              "          const element = document.querySelector('#df-fd9fc98d-2b88-474b-bc0f-3043579268ad');\n",
              "          const dataTable =\n",
              "            await google.colab.kernel.invokeFunction('convertToInteractive',\n",
              "                                                     [key], {});\n",
              "          if (!dataTable) return;\n",
              "\n",
              "          const docLinkHtml = 'Like what you see? Visit the ' +\n",
              "            '<a target=\"_blank\" href=https://colab.research.google.com/notebooks/data_table.ipynb>data table notebook</a>'\n",
              "            + ' to learn more about interactive tables.';\n",
              "          element.innerHTML = '';\n",
              "          dataTable['output_type'] = 'display_data';\n",
              "          await google.colab.output.renderOutput(dataTable, element);\n",
              "          const docLink = document.createElement('div');\n",
              "          docLink.innerHTML = docLinkHtml;\n",
              "          element.appendChild(docLink);\n",
              "        }\n",
              "      </script>\n",
              "    </div>\n",
              "  </div>\n",
              "  "
            ]
          },
          "metadata": {},
          "execution_count": 51
        }
      ],
      "id": "ES2JMmHlhbSy"
    },
    {
      "cell_type": "code",
      "source": [
        "gcn_eval_map,gcn_eval_ndcg,gcn_eval_precision,gcn_eval_recall,gcn_duration=None,None,None,None,None\n",
        "\n",
        "gcn_eval_map,gcn_eval_ndcg,gcn_eval_precision,gcn_eval_recall,gcn_duration=runLighGCN(rating1_df)\n",
        "\n"
      ],
      "metadata": {
        "colab": {
          "base_uri": "https://localhost:8080/"
        },
        "id": "E8U-YtOAP_No",
        "outputId": "bcba66a0-826f-4890-d886-03b17cfc626a"
      },
      "id": "E8U-YtOAP_No",
      "execution_count": null,
      "outputs": [
        {
          "output_type": "stream",
          "name": "stdout",
          "text": [
            "Already create adjacency matrix.\n",
            "Already normalize adjacency matrix.\n",
            "Using xavier initialization.\n",
            "Epoch 1 (train)6.0s: train loss = 0.24314 = (mf)0.24237 + (embed)0.00077\n",
            "Epoch 2 (train)5.7s: train loss = 0.08267 = (mf)0.08110 + (embed)0.00157\n",
            "Epoch 3 (train)5.6s: train loss = 0.05913 = (mf)0.05715 + (embed)0.00199\n",
            "Epoch 4 (train)5.6s: train loss = 0.04641 = (mf)0.04412 + (embed)0.00229\n",
            "Epoch 5 (train)5.5s + (eval)3.7s: train loss = 0.03888 = (mf)0.03632 + (embed)0.00256, recall = 0.06231, ndcg = 0.04260, precision = 0.02022, map = 0.02107\n",
            "Epoch 6 (train)5.6s: train loss = 0.03326 = (mf)0.03048 + (embed)0.00279\n",
            "Epoch 7 (train)5.6s: train loss = 0.02863 = (mf)0.02563 + (embed)0.00301\n",
            "Epoch 8 (train)5.6s: train loss = 0.02590 = (mf)0.02270 + (embed)0.00320\n",
            "Epoch 9 (train)5.6s: train loss = 0.02347 = (mf)0.02008 + (embed)0.00339\n",
            "Epoch 10 (train)5.6s + (eval)3.3s: train loss = 0.02101 = (mf)0.01744 + (embed)0.00356, recall = 0.07847, ndcg = 0.05462, precision = 0.02537, map = 0.02771\n",
            "Epoch 11 (train)5.7s: train loss = 0.01860 = (mf)0.01487 + (embed)0.00373\n",
            "Epoch 12 (train)6.1s: train loss = 0.01769 = (mf)0.01380 + (embed)0.00389\n",
            "Epoch 13 (train)6.2s: train loss = 0.01581 = (mf)0.01177 + (embed)0.00404\n",
            "Epoch 14 (train)5.6s: train loss = 0.01494 = (mf)0.01078 + (embed)0.00417\n",
            "Epoch 15 (train)5.7s + (eval)3.3s: train loss = 0.01480 = (mf)0.01051 + (embed)0.00429, recall = 0.09078, ndcg = 0.06347, precision = 0.02936, map = 0.03279\n",
            "Epoch 16 (train)5.8s: train loss = 0.01335 = (mf)0.00895 + (embed)0.00441\n",
            "Epoch 17 (train)5.6s: train loss = 0.01310 = (mf)0.00859 + (embed)0.00451\n",
            "Epoch 18 (train)5.6s: train loss = 0.01323 = (mf)0.00864 + (embed)0.00460\n",
            "Epoch 19 (train)5.6s: train loss = 0.01238 = (mf)0.00769 + (embed)0.00468\n",
            "Epoch 20 (train)5.6s + (eval)3.1s: train loss = 0.01201 = (mf)0.00725 + (embed)0.00476, recall = 0.10015, ndcg = 0.07024, precision = 0.03204, map = 0.03671\n",
            "map0.03670595245608109\n",
            "ndcg0.07023732911593156\n",
            "precision0.03203811225249368\n",
            "recall0.10015115807117965\n"
          ]
        }
      ]
    },
    {
      "cell_type": "code",
      "source": [
        "df2 = {'Dataset':\"Retail Rocket\t\",'Algorithm':\"LightGCN\",'Sparsity':sparsity1,'Precision@k':gcn_eval_precision,'Recall@k':gcn_eval_recall}\n",
        "summary_df = summary_df.append(df2, ignore_index = True)"
      ],
      "metadata": {
        "id": "YhY6XWpiQGgY"
      },
      "id": "YhY6XWpiQGgY",
      "execution_count": null,
      "outputs": []
    },
    {
      "cell_type": "code",
      "source": [
        "summary_df"
      ],
      "metadata": {
        "colab": {
          "base_uri": "https://localhost:8080/",
          "height": 143
        },
        "id": "kIeqhI0aQLui",
        "outputId": "484d0fbc-e1fa-4de8-b8f4-0356cd8c09a5"
      },
      "id": "kIeqhI0aQLui",
      "execution_count": null,
      "outputs": [
        {
          "output_type": "execute_result",
          "data": {
            "text/plain": [
              "           Dataset Algorithm  Sparsity  Recall@K  Precision@k  Recall@k\n",
              "0  Retail Rocket\\t  LightGCN  0.979891       NaN     0.085660  0.045443\n",
              "1  Retail Rocket\\t  LightGCN  0.988349       NaN     0.067848  0.037180\n",
              "2  Retail Rocket\\t  LightGCN  0.999160       NaN     0.032038  0.100151"
            ],
            "text/html": [
              "\n",
              "  <div id=\"df-38e4266f-ef77-465b-a499-d990da4ad9c1\">\n",
              "    <div class=\"colab-df-container\">\n",
              "      <div>\n",
              "<style scoped>\n",
              "    .dataframe tbody tr th:only-of-type {\n",
              "        vertical-align: middle;\n",
              "    }\n",
              "\n",
              "    .dataframe tbody tr th {\n",
              "        vertical-align: top;\n",
              "    }\n",
              "\n",
              "    .dataframe thead th {\n",
              "        text-align: right;\n",
              "    }\n",
              "</style>\n",
              "<table border=\"1\" class=\"dataframe\">\n",
              "  <thead>\n",
              "    <tr style=\"text-align: right;\">\n",
              "      <th></th>\n",
              "      <th>Dataset</th>\n",
              "      <th>Algorithm</th>\n",
              "      <th>Sparsity</th>\n",
              "      <th>Recall@K</th>\n",
              "      <th>Precision@k</th>\n",
              "      <th>Recall@k</th>\n",
              "    </tr>\n",
              "  </thead>\n",
              "  <tbody>\n",
              "    <tr>\n",
              "      <th>0</th>\n",
              "      <td>Retail Rocket\\t</td>\n",
              "      <td>LightGCN</td>\n",
              "      <td>0.979891</td>\n",
              "      <td>NaN</td>\n",
              "      <td>0.085660</td>\n",
              "      <td>0.045443</td>\n",
              "    </tr>\n",
              "    <tr>\n",
              "      <th>1</th>\n",
              "      <td>Retail Rocket\\t</td>\n",
              "      <td>LightGCN</td>\n",
              "      <td>0.988349</td>\n",
              "      <td>NaN</td>\n",
              "      <td>0.067848</td>\n",
              "      <td>0.037180</td>\n",
              "    </tr>\n",
              "    <tr>\n",
              "      <th>2</th>\n",
              "      <td>Retail Rocket\\t</td>\n",
              "      <td>LightGCN</td>\n",
              "      <td>0.999160</td>\n",
              "      <td>NaN</td>\n",
              "      <td>0.032038</td>\n",
              "      <td>0.100151</td>\n",
              "    </tr>\n",
              "  </tbody>\n",
              "</table>\n",
              "</div>\n",
              "      <button class=\"colab-df-convert\" onclick=\"convertToInteractive('df-38e4266f-ef77-465b-a499-d990da4ad9c1')\"\n",
              "              title=\"Convert this dataframe to an interactive table.\"\n",
              "              style=\"display:none;\">\n",
              "        \n",
              "  <svg xmlns=\"http://www.w3.org/2000/svg\" height=\"24px\"viewBox=\"0 0 24 24\"\n",
              "       width=\"24px\">\n",
              "    <path d=\"M0 0h24v24H0V0z\" fill=\"none\"/>\n",
              "    <path d=\"M18.56 5.44l.94 2.06.94-2.06 2.06-.94-2.06-.94-.94-2.06-.94 2.06-2.06.94zm-11 1L8.5 8.5l.94-2.06 2.06-.94-2.06-.94L8.5 2.5l-.94 2.06-2.06.94zm10 10l.94 2.06.94-2.06 2.06-.94-2.06-.94-.94-2.06-.94 2.06-2.06.94z\"/><path d=\"M17.41 7.96l-1.37-1.37c-.4-.4-.92-.59-1.43-.59-.52 0-1.04.2-1.43.59L10.3 9.45l-7.72 7.72c-.78.78-.78 2.05 0 2.83L4 21.41c.39.39.9.59 1.41.59.51 0 1.02-.2 1.41-.59l7.78-7.78 2.81-2.81c.8-.78.8-2.07 0-2.86zM5.41 20L4 18.59l7.72-7.72 1.47 1.35L5.41 20z\"/>\n",
              "  </svg>\n",
              "      </button>\n",
              "      \n",
              "  <style>\n",
              "    .colab-df-container {\n",
              "      display:flex;\n",
              "      flex-wrap:wrap;\n",
              "      gap: 12px;\n",
              "    }\n",
              "\n",
              "    .colab-df-convert {\n",
              "      background-color: #E8F0FE;\n",
              "      border: none;\n",
              "      border-radius: 50%;\n",
              "      cursor: pointer;\n",
              "      display: none;\n",
              "      fill: #1967D2;\n",
              "      height: 32px;\n",
              "      padding: 0 0 0 0;\n",
              "      width: 32px;\n",
              "    }\n",
              "\n",
              "    .colab-df-convert:hover {\n",
              "      background-color: #E2EBFA;\n",
              "      box-shadow: 0px 1px 2px rgba(60, 64, 67, 0.3), 0px 1px 3px 1px rgba(60, 64, 67, 0.15);\n",
              "      fill: #174EA6;\n",
              "    }\n",
              "\n",
              "    [theme=dark] .colab-df-convert {\n",
              "      background-color: #3B4455;\n",
              "      fill: #D2E3FC;\n",
              "    }\n",
              "\n",
              "    [theme=dark] .colab-df-convert:hover {\n",
              "      background-color: #434B5C;\n",
              "      box-shadow: 0px 1px 3px 1px rgba(0, 0, 0, 0.15);\n",
              "      filter: drop-shadow(0px 1px 2px rgba(0, 0, 0, 0.3));\n",
              "      fill: #FFFFFF;\n",
              "    }\n",
              "  </style>\n",
              "\n",
              "      <script>\n",
              "        const buttonEl =\n",
              "          document.querySelector('#df-38e4266f-ef77-465b-a499-d990da4ad9c1 button.colab-df-convert');\n",
              "        buttonEl.style.display =\n",
              "          google.colab.kernel.accessAllowed ? 'block' : 'none';\n",
              "\n",
              "        async function convertToInteractive(key) {\n",
              "          const element = document.querySelector('#df-38e4266f-ef77-465b-a499-d990da4ad9c1');\n",
              "          const dataTable =\n",
              "            await google.colab.kernel.invokeFunction('convertToInteractive',\n",
              "                                                     [key], {});\n",
              "          if (!dataTable) return;\n",
              "\n",
              "          const docLinkHtml = 'Like what you see? Visit the ' +\n",
              "            '<a target=\"_blank\" href=https://colab.research.google.com/notebooks/data_table.ipynb>data table notebook</a>'\n",
              "            + ' to learn more about interactive tables.';\n",
              "          element.innerHTML = '';\n",
              "          dataTable['output_type'] = 'display_data';\n",
              "          await google.colab.output.renderOutput(dataTable, element);\n",
              "          const docLink = document.createElement('div');\n",
              "          docLink.innerHTML = docLinkHtml;\n",
              "          element.appendChild(docLink);\n",
              "        }\n",
              "      </script>\n",
              "    </div>\n",
              "  </div>\n",
              "  "
            ]
          },
          "metadata": {},
          "execution_count": 55
        }
      ]
    },
    {
      "cell_type": "markdown",
      "metadata": {
        "id": "-LDkgRe1QvYA"
      },
      "source": [
        "# BiVAE"
      ],
      "id": "-LDkgRe1QvYA"
    },
    {
      "cell_type": "code",
      "execution_count": null,
      "metadata": {
        "id": "71-BN06yRSZC"
      },
      "outputs": [],
      "source": [
        "\n",
        "from recommenders.datasets.python_splitters import python_random_split,  python_stratified_split\n",
        "\n",
        "from recommenders.evaluation.python_evaluation import map_at_k, ndcg_at_k, precision_at_k, recall_at_k\n",
        "from recommenders.models.cornac.cornac_utils import predict_ranking\n",
        "from recommenders.utils.timer import Timer\n",
        "from recommenders.utils.constants import SEED\n"
      ],
      "id": "71-BN06yRSZC"
    },
    {
      "cell_type": "code",
      "source": [
        "import torch\n",
        "import cornac"
      ],
      "metadata": {
        "id": "yGjTQEnaRSZC"
      },
      "execution_count": null,
      "outputs": [],
      "id": "yGjTQEnaRSZC"
    },
    {
      "cell_type": "code",
      "source": [
        "import pandas as pd\n",
        "from recommenders.datasets import movielens\n",
        "from recommenders.datasets.python_splitters import python_random_split\n",
        "from recommenders.evaluation.python_evaluation import map_at_k, ndcg_at_k, precision_at_k, recall_at_k\n",
        "from recommenders.models.cornac.cornac_utils import predict_ranking\n",
        "from recommenders.utils.timer import Timer\n",
        "from recommenders.utils.constants import SEED"
      ],
      "metadata": {
        "id": "rzXejRZhRSZC"
      },
      "execution_count": null,
      "outputs": [],
      "id": "rzXejRZhRSZC"
    },
    {
      "cell_type": "code",
      "source": [
        "TOP_K = 10\n",
        "\n",
        "# Model parameters\n",
        "LATENT_DIM = 50\n",
        "ENCODER_DIMS = [100]\n",
        "ACT_FUNC = \"tanh\"\n",
        "LIKELIHOOD = \"pois\"\n",
        "NUM_EPOCHS = 500\n",
        "BATCH_SIZE = 128\n",
        "LEARNING_RATE = 0.001"
      ],
      "metadata": {
        "id": "JK3D3mg-6pAq"
      },
      "execution_count": null,
      "outputs": [],
      "id": "JK3D3mg-6pAq"
    },
    {
      "cell_type": "code",
      "source": [
        "rating_df=rating3_df.copy()"
      ],
      "metadata": {
        "id": "B40IVL1J9d60"
      },
      "execution_count": null,
      "outputs": [],
      "id": "B40IVL1J9d60"
    },
    {
      "cell_type": "code",
      "source": [
        "item_ids = list(set(list(rating_df.itemID.unique())))\n",
        "user_ids = list(set(list(rating_df.userID.unique())))\n",
        "dict_users = {}\n",
        "index = 0\n",
        "for ids in sorted(user_ids):\n",
        "    dict_users[ids] = index\n",
        "    index += 1\n",
        "dict_items = {}\n",
        "index = 0\n",
        "for ids in sorted(item_ids):\n",
        "    dict_items[ids] = index\n",
        "    index += 1\n",
        "rating_df['userID'] = rating_df.userID.map(dict_users)\n",
        "rating_df['itemID'] = rating_df.itemID.map(dict_items)\n",
        "train, test = python_random_split(rating_df, 0.75)\n",
        "train_set = cornac.data.Dataset.from_uir(train.itertuples(index=False), seed=SEED)\n",
        "\n",
        "#First we initialize the model class\n",
        "model = bivae = cornac.models.BiVAECF(\n",
        "    k=LATENT_DIM,\n",
        "    encoder_structure=ENCODER_DIMS,\n",
        "    act_fn=ACT_FUNC,\n",
        "    likelihood=LIKELIHOOD,\n",
        "    n_epochs=NUM_EPOCHS,\n",
        "    batch_size=BATCH_SIZE,\n",
        "    learning_rate=LEARNING_RATE,\n",
        "    seed=SEED,\n",
        "    use_gpu=torch.cuda.is_available(),\n",
        "    verbose=True\n",
        ")\n",
        "# Model Fit\n",
        "model.fit(train_set)\n",
        "\n",
        "all_predictions = predict_ranking(bivae, train, usercol='userID', itemcol='itemID', remove_seen=True)\n",
        "eval_precision = precision_at_k(test, all_predictions, col_prediction='prediction', k=TOP_K)\n",
        "eval_recall = recall_at_k(test, all_predictions, col_prediction='prediction', k=TOP_K)\n",
        "\n",
        "print(\n",
        "      \"Precision@K:\\t%f\" % eval_precision,\n",
        "      \"Recall@K:\\t%f\" % eval_recall, sep='\\n')\n"
      ],
      "metadata": {
        "id": "I9PTkgcV9d61",
        "colab": {
          "base_uri": "https://localhost:8080/",
          "height": 85,
          "referenced_widgets": [
            "ee554966c15740ed9cbf70aa32a7fbcd",
            "c14cbfbae2a448ee8309861defc63b5a",
            "f66487dd6858458b92e74951636fed9a",
            "843cde71b8704b70807ec8ac6a6e96f2",
            "0ea0f3788c034257b8d188ed8365a45c",
            "a3d156dc96884b3484ce4cb2e99d1b18",
            "c5a6c3c7d53e47e2911e5d6c52b709a0",
            "75ce6078113f43269596c73d341ccf22",
            "7387ae12f7b14944b1f1d9c319b6b01c",
            "86a2227f02a847eebbd9b4c9830df906",
            "17b2b96c2d094996a43970299174040c"
          ]
        },
        "outputId": "345da2a8-864e-4b67-dd8c-9a395a620498"
      },
      "execution_count": null,
      "outputs": [
        {
          "output_type": "display_data",
          "data": {
            "text/plain": [
              "  0%|          | 0/500 [00:00<?, ?it/s]"
            ],
            "application/vnd.jupyter.widget-view+json": {
              "version_major": 2,
              "version_minor": 0,
              "model_id": "ee554966c15740ed9cbf70aa32a7fbcd"
            }
          },
          "metadata": {}
        },
        {
          "output_type": "stream",
          "name": "stdout",
          "text": [
            "Precision@K:\t0.114394\n",
            "Recall@K:\t0.048609\n"
          ]
        }
      ],
      "id": "I9PTkgcV9d61"
    },
    {
      "cell_type": "code",
      "source": [
        "df2 = {'Dataset':\"Retail Rocket\",'Algorithm':\"BiVAE\",'Sparsity':sparsity3,'Precision@k':eval_precision,'Recall@k':eval_recall}\n",
        "summary_df = summary_df.append(df2, ignore_index = True)"
      ],
      "metadata": {
        "id": "okmxHC7Z9d68"
      },
      "execution_count": null,
      "outputs": [],
      "id": "okmxHC7Z9d68"
    },
    {
      "cell_type": "code",
      "source": [
        "summary_df"
      ],
      "metadata": {
        "colab": {
          "base_uri": "https://localhost:8080/",
          "height": 175
        },
        "id": "y4cCPAYQRgEB",
        "outputId": "3edde948-10ac-48c9-8b21-c97f2345f468"
      },
      "id": "y4cCPAYQRgEB",
      "execution_count": null,
      "outputs": [
        {
          "output_type": "execute_result",
          "data": {
            "text/plain": [
              "           Dataset Algorithm  Sparsity  Recall@K  Precision@k  Recall@k\n",
              "0  Retail Rocket\\t  LightGCN  0.979891       NaN     0.085660  0.045443\n",
              "1  Retail Rocket\\t  LightGCN  0.988349       NaN     0.067848  0.037180\n",
              "2  Retail Rocket\\t  LightGCN  0.999160       NaN     0.032038  0.100151\n",
              "3    Retail Rocket     BiVAE  0.979891       NaN     0.114394  0.048609"
            ],
            "text/html": [
              "\n",
              "  <div id=\"df-b812fa08-0a2a-4d52-bda2-42b33e6e1cae\">\n",
              "    <div class=\"colab-df-container\">\n",
              "      <div>\n",
              "<style scoped>\n",
              "    .dataframe tbody tr th:only-of-type {\n",
              "        vertical-align: middle;\n",
              "    }\n",
              "\n",
              "    .dataframe tbody tr th {\n",
              "        vertical-align: top;\n",
              "    }\n",
              "\n",
              "    .dataframe thead th {\n",
              "        text-align: right;\n",
              "    }\n",
              "</style>\n",
              "<table border=\"1\" class=\"dataframe\">\n",
              "  <thead>\n",
              "    <tr style=\"text-align: right;\">\n",
              "      <th></th>\n",
              "      <th>Dataset</th>\n",
              "      <th>Algorithm</th>\n",
              "      <th>Sparsity</th>\n",
              "      <th>Recall@K</th>\n",
              "      <th>Precision@k</th>\n",
              "      <th>Recall@k</th>\n",
              "    </tr>\n",
              "  </thead>\n",
              "  <tbody>\n",
              "    <tr>\n",
              "      <th>0</th>\n",
              "      <td>Retail Rocket\\t</td>\n",
              "      <td>LightGCN</td>\n",
              "      <td>0.979891</td>\n",
              "      <td>NaN</td>\n",
              "      <td>0.085660</td>\n",
              "      <td>0.045443</td>\n",
              "    </tr>\n",
              "    <tr>\n",
              "      <th>1</th>\n",
              "      <td>Retail Rocket\\t</td>\n",
              "      <td>LightGCN</td>\n",
              "      <td>0.988349</td>\n",
              "      <td>NaN</td>\n",
              "      <td>0.067848</td>\n",
              "      <td>0.037180</td>\n",
              "    </tr>\n",
              "    <tr>\n",
              "      <th>2</th>\n",
              "      <td>Retail Rocket\\t</td>\n",
              "      <td>LightGCN</td>\n",
              "      <td>0.999160</td>\n",
              "      <td>NaN</td>\n",
              "      <td>0.032038</td>\n",
              "      <td>0.100151</td>\n",
              "    </tr>\n",
              "    <tr>\n",
              "      <th>3</th>\n",
              "      <td>Retail Rocket</td>\n",
              "      <td>BiVAE</td>\n",
              "      <td>0.979891</td>\n",
              "      <td>NaN</td>\n",
              "      <td>0.114394</td>\n",
              "      <td>0.048609</td>\n",
              "    </tr>\n",
              "  </tbody>\n",
              "</table>\n",
              "</div>\n",
              "      <button class=\"colab-df-convert\" onclick=\"convertToInteractive('df-b812fa08-0a2a-4d52-bda2-42b33e6e1cae')\"\n",
              "              title=\"Convert this dataframe to an interactive table.\"\n",
              "              style=\"display:none;\">\n",
              "        \n",
              "  <svg xmlns=\"http://www.w3.org/2000/svg\" height=\"24px\"viewBox=\"0 0 24 24\"\n",
              "       width=\"24px\">\n",
              "    <path d=\"M0 0h24v24H0V0z\" fill=\"none\"/>\n",
              "    <path d=\"M18.56 5.44l.94 2.06.94-2.06 2.06-.94-2.06-.94-.94-2.06-.94 2.06-2.06.94zm-11 1L8.5 8.5l.94-2.06 2.06-.94-2.06-.94L8.5 2.5l-.94 2.06-2.06.94zm10 10l.94 2.06.94-2.06 2.06-.94-2.06-.94-.94-2.06-.94 2.06-2.06.94z\"/><path d=\"M17.41 7.96l-1.37-1.37c-.4-.4-.92-.59-1.43-.59-.52 0-1.04.2-1.43.59L10.3 9.45l-7.72 7.72c-.78.78-.78 2.05 0 2.83L4 21.41c.39.39.9.59 1.41.59.51 0 1.02-.2 1.41-.59l7.78-7.78 2.81-2.81c.8-.78.8-2.07 0-2.86zM5.41 20L4 18.59l7.72-7.72 1.47 1.35L5.41 20z\"/>\n",
              "  </svg>\n",
              "      </button>\n",
              "      \n",
              "  <style>\n",
              "    .colab-df-container {\n",
              "      display:flex;\n",
              "      flex-wrap:wrap;\n",
              "      gap: 12px;\n",
              "    }\n",
              "\n",
              "    .colab-df-convert {\n",
              "      background-color: #E8F0FE;\n",
              "      border: none;\n",
              "      border-radius: 50%;\n",
              "      cursor: pointer;\n",
              "      display: none;\n",
              "      fill: #1967D2;\n",
              "      height: 32px;\n",
              "      padding: 0 0 0 0;\n",
              "      width: 32px;\n",
              "    }\n",
              "\n",
              "    .colab-df-convert:hover {\n",
              "      background-color: #E2EBFA;\n",
              "      box-shadow: 0px 1px 2px rgba(60, 64, 67, 0.3), 0px 1px 3px 1px rgba(60, 64, 67, 0.15);\n",
              "      fill: #174EA6;\n",
              "    }\n",
              "\n",
              "    [theme=dark] .colab-df-convert {\n",
              "      background-color: #3B4455;\n",
              "      fill: #D2E3FC;\n",
              "    }\n",
              "\n",
              "    [theme=dark] .colab-df-convert:hover {\n",
              "      background-color: #434B5C;\n",
              "      box-shadow: 0px 1px 3px 1px rgba(0, 0, 0, 0.15);\n",
              "      filter: drop-shadow(0px 1px 2px rgba(0, 0, 0, 0.3));\n",
              "      fill: #FFFFFF;\n",
              "    }\n",
              "  </style>\n",
              "\n",
              "      <script>\n",
              "        const buttonEl =\n",
              "          document.querySelector('#df-b812fa08-0a2a-4d52-bda2-42b33e6e1cae button.colab-df-convert');\n",
              "        buttonEl.style.display =\n",
              "          google.colab.kernel.accessAllowed ? 'block' : 'none';\n",
              "\n",
              "        async function convertToInteractive(key) {\n",
              "          const element = document.querySelector('#df-b812fa08-0a2a-4d52-bda2-42b33e6e1cae');\n",
              "          const dataTable =\n",
              "            await google.colab.kernel.invokeFunction('convertToInteractive',\n",
              "                                                     [key], {});\n",
              "          if (!dataTable) return;\n",
              "\n",
              "          const docLinkHtml = 'Like what you see? Visit the ' +\n",
              "            '<a target=\"_blank\" href=https://colab.research.google.com/notebooks/data_table.ipynb>data table notebook</a>'\n",
              "            + ' to learn more about interactive tables.';\n",
              "          element.innerHTML = '';\n",
              "          dataTable['output_type'] = 'display_data';\n",
              "          await google.colab.output.renderOutput(dataTable, element);\n",
              "          const docLink = document.createElement('div');\n",
              "          docLink.innerHTML = docLinkHtml;\n",
              "          element.appendChild(docLink);\n",
              "        }\n",
              "      </script>\n",
              "    </div>\n",
              "  </div>\n",
              "  "
            ]
          },
          "metadata": {},
          "execution_count": 63
        }
      ]
    },
    {
      "cell_type": "code",
      "source": [
        "rating_df=rating2_df.copy()\n",
        "item_ids = list(set(list(rating_df.itemID.unique())))\n",
        "user_ids = list(set(list(rating_df.userID.unique())))\n",
        "dict_users = {}\n",
        "index = 0\n",
        "for ids in sorted(user_ids):\n",
        "    dict_users[ids] = index\n",
        "    index += 1\n",
        "dict_items = {}\n",
        "index = 0\n",
        "for ids in sorted(item_ids):\n",
        "    dict_items[ids] = index\n",
        "    index += 1\n",
        "rating_df['userID'] = rating_df.userID.map(dict_users)\n",
        "rating_df['itemID'] = rating_df.itemID.map(dict_items)\n",
        "train, test = python_random_split(rating_df, 0.75)\n",
        "train_set = cornac.data.Dataset.from_uir(train.itertuples(index=False), seed=SEED)\n",
        "\n",
        "#First we initialize the model class\n",
        "model = bivae = cornac.models.BiVAECF(\n",
        "    k=LATENT_DIM,\n",
        "    encoder_structure=ENCODER_DIMS,\n",
        "    act_fn=ACT_FUNC,\n",
        "    likelihood=LIKELIHOOD,\n",
        "    n_epochs=NUM_EPOCHS,\n",
        "    batch_size=BATCH_SIZE,\n",
        "    learning_rate=LEARNING_RATE,\n",
        "    seed=SEED,\n",
        "    use_gpu=torch.cuda.is_available(),\n",
        "    verbose=True\n",
        ")\n",
        "# Model Fit\n",
        "model.fit(train_set)\n",
        "\n",
        "all_predictions = predict_ranking(bivae, train, usercol='userID', itemcol='itemID', remove_seen=True)\n",
        "eval_precision = precision_at_k(test, all_predictions, col_prediction='prediction', k=TOP_K)\n",
        "eval_recall = recall_at_k(test, all_predictions, col_prediction='prediction', k=TOP_K)\n",
        "\n",
        "print(\n",
        "      \"Precision@K:\\t%f\" % eval_precision,\n",
        "      \"Recall@K:\\t%f\" % eval_recall, sep='\\n')\n"
      ],
      "metadata": {
        "colab": {
          "base_uri": "https://localhost:8080/",
          "height": 85,
          "referenced_widgets": [
            "e7fffcd5a633464c93c014280838d3f1",
            "b6a2012990494491a6e0cb73f3689fcd",
            "fc79a7b77072458a8deb5ae70d2ccf5d",
            "243709cd22d44226aa908d3ad717cd4c",
            "550682f9371a486587eed812f16e65c3",
            "f3ddb0f671c842dda364982ded1d5f06",
            "81f53ac256114f8bb81bfc32cbce943c",
            "26ec1d2ae20a41ebb7e29a9692865acd",
            "51557a6beb194444b594afb2b61d309c",
            "31b77b1da1014fb7a91c4ba041a10437",
            "2ab59d94bf4d4bba82b162fdcc18088f"
          ]
        },
        "outputId": "8cfdc47f-986b-4db8-d8c6-a1f46cfb052e",
        "id": "YMhRZOC5RhWa"
      },
      "execution_count": null,
      "outputs": [
        {
          "output_type": "display_data",
          "data": {
            "text/plain": [
              "  0%|          | 0/500 [00:00<?, ?it/s]"
            ],
            "application/vnd.jupyter.widget-view+json": {
              "version_major": 2,
              "version_minor": 0,
              "model_id": "e7fffcd5a633464c93c014280838d3f1"
            }
          },
          "metadata": {}
        },
        {
          "output_type": "stream",
          "name": "stdout",
          "text": [
            "Precision@K:\t0.098481\n",
            "Recall@K:\t0.043590\n"
          ]
        }
      ],
      "id": "YMhRZOC5RhWa"
    },
    {
      "cell_type": "code",
      "source": [
        "df2 = {'Dataset':\"Retail Rocket\",'Algorithm':\"BiVAE\",'Sparsity':sparsity2,'Precision@k':eval_precision,'Recall@k':eval_recall}\n",
        "summary_df = summary_df.append(df2, ignore_index = True)"
      ],
      "metadata": {
        "id": "QNbQ_ETkRhWb"
      },
      "execution_count": null,
      "outputs": [],
      "id": "QNbQ_ETkRhWb"
    },
    {
      "cell_type": "code",
      "source": [
        "summary_df"
      ],
      "metadata": {
        "colab": {
          "base_uri": "https://localhost:8080/",
          "height": 206
        },
        "id": "z8R1aS7YRhWb",
        "outputId": "62071529-286b-4820-a286-7cb26e2752b6"
      },
      "execution_count": null,
      "outputs": [
        {
          "output_type": "execute_result",
          "data": {
            "text/plain": [
              "           Dataset Algorithm  Sparsity  Recall@K  Precision@k  Recall@k\n",
              "0  Retail Rocket\\t  LightGCN  0.979891       NaN     0.085660  0.045443\n",
              "1  Retail Rocket\\t  LightGCN  0.988349       NaN     0.067848  0.037180\n",
              "2  Retail Rocket\\t  LightGCN  0.999160       NaN     0.032038  0.100151\n",
              "3    Retail Rocket     BiVAE  0.979891       NaN     0.114394  0.048609\n",
              "4    Retail Rocket     BiVAE  0.988349       NaN     0.098481  0.043590"
            ],
            "text/html": [
              "\n",
              "  <div id=\"df-1c5ee0a0-20b4-49d4-9ab2-2d5b13fa17c5\">\n",
              "    <div class=\"colab-df-container\">\n",
              "      <div>\n",
              "<style scoped>\n",
              "    .dataframe tbody tr th:only-of-type {\n",
              "        vertical-align: middle;\n",
              "    }\n",
              "\n",
              "    .dataframe tbody tr th {\n",
              "        vertical-align: top;\n",
              "    }\n",
              "\n",
              "    .dataframe thead th {\n",
              "        text-align: right;\n",
              "    }\n",
              "</style>\n",
              "<table border=\"1\" class=\"dataframe\">\n",
              "  <thead>\n",
              "    <tr style=\"text-align: right;\">\n",
              "      <th></th>\n",
              "      <th>Dataset</th>\n",
              "      <th>Algorithm</th>\n",
              "      <th>Sparsity</th>\n",
              "      <th>Recall@K</th>\n",
              "      <th>Precision@k</th>\n",
              "      <th>Recall@k</th>\n",
              "    </tr>\n",
              "  </thead>\n",
              "  <tbody>\n",
              "    <tr>\n",
              "      <th>0</th>\n",
              "      <td>Retail Rocket\\t</td>\n",
              "      <td>LightGCN</td>\n",
              "      <td>0.979891</td>\n",
              "      <td>NaN</td>\n",
              "      <td>0.085660</td>\n",
              "      <td>0.045443</td>\n",
              "    </tr>\n",
              "    <tr>\n",
              "      <th>1</th>\n",
              "      <td>Retail Rocket\\t</td>\n",
              "      <td>LightGCN</td>\n",
              "      <td>0.988349</td>\n",
              "      <td>NaN</td>\n",
              "      <td>0.067848</td>\n",
              "      <td>0.037180</td>\n",
              "    </tr>\n",
              "    <tr>\n",
              "      <th>2</th>\n",
              "      <td>Retail Rocket\\t</td>\n",
              "      <td>LightGCN</td>\n",
              "      <td>0.999160</td>\n",
              "      <td>NaN</td>\n",
              "      <td>0.032038</td>\n",
              "      <td>0.100151</td>\n",
              "    </tr>\n",
              "    <tr>\n",
              "      <th>3</th>\n",
              "      <td>Retail Rocket</td>\n",
              "      <td>BiVAE</td>\n",
              "      <td>0.979891</td>\n",
              "      <td>NaN</td>\n",
              "      <td>0.114394</td>\n",
              "      <td>0.048609</td>\n",
              "    </tr>\n",
              "    <tr>\n",
              "      <th>4</th>\n",
              "      <td>Retail Rocket</td>\n",
              "      <td>BiVAE</td>\n",
              "      <td>0.988349</td>\n",
              "      <td>NaN</td>\n",
              "      <td>0.098481</td>\n",
              "      <td>0.043590</td>\n",
              "    </tr>\n",
              "  </tbody>\n",
              "</table>\n",
              "</div>\n",
              "      <button class=\"colab-df-convert\" onclick=\"convertToInteractive('df-1c5ee0a0-20b4-49d4-9ab2-2d5b13fa17c5')\"\n",
              "              title=\"Convert this dataframe to an interactive table.\"\n",
              "              style=\"display:none;\">\n",
              "        \n",
              "  <svg xmlns=\"http://www.w3.org/2000/svg\" height=\"24px\"viewBox=\"0 0 24 24\"\n",
              "       width=\"24px\">\n",
              "    <path d=\"M0 0h24v24H0V0z\" fill=\"none\"/>\n",
              "    <path d=\"M18.56 5.44l.94 2.06.94-2.06 2.06-.94-2.06-.94-.94-2.06-.94 2.06-2.06.94zm-11 1L8.5 8.5l.94-2.06 2.06-.94-2.06-.94L8.5 2.5l-.94 2.06-2.06.94zm10 10l.94 2.06.94-2.06 2.06-.94-2.06-.94-.94-2.06-.94 2.06-2.06.94z\"/><path d=\"M17.41 7.96l-1.37-1.37c-.4-.4-.92-.59-1.43-.59-.52 0-1.04.2-1.43.59L10.3 9.45l-7.72 7.72c-.78.78-.78 2.05 0 2.83L4 21.41c.39.39.9.59 1.41.59.51 0 1.02-.2 1.41-.59l7.78-7.78 2.81-2.81c.8-.78.8-2.07 0-2.86zM5.41 20L4 18.59l7.72-7.72 1.47 1.35L5.41 20z\"/>\n",
              "  </svg>\n",
              "      </button>\n",
              "      \n",
              "  <style>\n",
              "    .colab-df-container {\n",
              "      display:flex;\n",
              "      flex-wrap:wrap;\n",
              "      gap: 12px;\n",
              "    }\n",
              "\n",
              "    .colab-df-convert {\n",
              "      background-color: #E8F0FE;\n",
              "      border: none;\n",
              "      border-radius: 50%;\n",
              "      cursor: pointer;\n",
              "      display: none;\n",
              "      fill: #1967D2;\n",
              "      height: 32px;\n",
              "      padding: 0 0 0 0;\n",
              "      width: 32px;\n",
              "    }\n",
              "\n",
              "    .colab-df-convert:hover {\n",
              "      background-color: #E2EBFA;\n",
              "      box-shadow: 0px 1px 2px rgba(60, 64, 67, 0.3), 0px 1px 3px 1px rgba(60, 64, 67, 0.15);\n",
              "      fill: #174EA6;\n",
              "    }\n",
              "\n",
              "    [theme=dark] .colab-df-convert {\n",
              "      background-color: #3B4455;\n",
              "      fill: #D2E3FC;\n",
              "    }\n",
              "\n",
              "    [theme=dark] .colab-df-convert:hover {\n",
              "      background-color: #434B5C;\n",
              "      box-shadow: 0px 1px 3px 1px rgba(0, 0, 0, 0.15);\n",
              "      filter: drop-shadow(0px 1px 2px rgba(0, 0, 0, 0.3));\n",
              "      fill: #FFFFFF;\n",
              "    }\n",
              "  </style>\n",
              "\n",
              "      <script>\n",
              "        const buttonEl =\n",
              "          document.querySelector('#df-1c5ee0a0-20b4-49d4-9ab2-2d5b13fa17c5 button.colab-df-convert');\n",
              "        buttonEl.style.display =\n",
              "          google.colab.kernel.accessAllowed ? 'block' : 'none';\n",
              "\n",
              "        async function convertToInteractive(key) {\n",
              "          const element = document.querySelector('#df-1c5ee0a0-20b4-49d4-9ab2-2d5b13fa17c5');\n",
              "          const dataTable =\n",
              "            await google.colab.kernel.invokeFunction('convertToInteractive',\n",
              "                                                     [key], {});\n",
              "          if (!dataTable) return;\n",
              "\n",
              "          const docLinkHtml = 'Like what you see? Visit the ' +\n",
              "            '<a target=\"_blank\" href=https://colab.research.google.com/notebooks/data_table.ipynb>data table notebook</a>'\n",
              "            + ' to learn more about interactive tables.';\n",
              "          element.innerHTML = '';\n",
              "          dataTable['output_type'] = 'display_data';\n",
              "          await google.colab.output.renderOutput(dataTable, element);\n",
              "          const docLink = document.createElement('div');\n",
              "          docLink.innerHTML = docLinkHtml;\n",
              "          element.appendChild(docLink);\n",
              "        }\n",
              "      </script>\n",
              "    </div>\n",
              "  </div>\n",
              "  "
            ]
          },
          "metadata": {},
          "execution_count": 66
        }
      ],
      "id": "z8R1aS7YRhWb"
    },
    {
      "cell_type": "code",
      "source": [
        "rating_df=rating1_df.copy()\n",
        "item_ids = list(set(list(rating_df.itemID.unique())))\n",
        "user_ids = list(set(list(rating_df.userID.unique())))\n",
        "dict_users = {}\n",
        "index = 0\n",
        "for ids in sorted(user_ids):\n",
        "    dict_users[ids] = index\n",
        "    index += 1\n",
        "dict_items = {}\n",
        "index = 0\n",
        "for ids in sorted(item_ids):\n",
        "    dict_items[ids] = index\n",
        "    index += 1\n",
        "rating_df['userID'] = rating_df.userID.map(dict_users)\n",
        "rating_df['itemID'] = rating_df.itemID.map(dict_items)\n",
        "train, test = python_random_split(rating_df, 0.75)\n",
        "train_set = cornac.data.Dataset.from_uir(train.itertuples(index=False), seed=SEED)\n",
        "\n",
        "#First we initialize the model class\n",
        "model = bivae = cornac.models.BiVAECF(\n",
        "    k=LATENT_DIM,\n",
        "    encoder_structure=ENCODER_DIMS,\n",
        "    act_fn=ACT_FUNC,\n",
        "    likelihood=LIKELIHOOD,\n",
        "    n_epochs=NUM_EPOCHS,\n",
        "    batch_size=BATCH_SIZE,\n",
        "    learning_rate=LEARNING_RATE,\n",
        "    seed=SEED,\n",
        "    use_gpu=torch.cuda.is_available(),\n",
        "    verbose=True\n",
        ")\n",
        "# Model Fit\n",
        "model.fit(train_set)\n",
        "\n",
        "all_predictions = predict_ranking(bivae, train, usercol='userID', itemcol='itemID', remove_seen=True)\n",
        "eval_precision = precision_at_k(test, all_predictions, col_prediction='prediction', k=TOP_K)\n",
        "eval_recall = recall_at_k(test, all_predictions, col_prediction='prediction', k=TOP_K)\n",
        "\n",
        "print(\n",
        "      \"Precision@K:\\t%f\" % eval_precision,\n",
        "      \"Recall@K:\\t%f\" % eval_recall, sep='\\n')\n"
      ],
      "metadata": {
        "colab": {
          "base_uri": "https://localhost:8080/",
          "height": 49,
          "referenced_widgets": [
            "96540601b6254faf914fd701f71d3895",
            "7e408aa842b84889b8fed1d2584c9e9d",
            "f328162f37c94c07a09205f344f62e1d",
            "a221646aa3644579b380900a5ac6bcf9",
            "ab698399353b4d5ba8c4089fbbfa9c81",
            "7d402af031bc4e0eb29f6c76aa99ff66",
            "2db2fe57473044c1b8dc7b561684709e",
            "7933fd2f22d8418e8848f3c53ca4a589",
            "4860f950602e4014bdccd7a74d3ca9d5",
            "9df0e201cceb40d9a7292b7462b1ef08",
            "39aa895e727a431091a145031deb4751"
          ]
        },
        "outputId": "03794f93-4322-4e74-9a20-379b1c3e2b36",
        "id": "zPRvYJg1RzHE"
      },
      "execution_count": null,
      "outputs": [
        {
          "output_type": "display_data",
          "data": {
            "text/plain": [
              "  0%|          | 0/500 [00:00<?, ?it/s]"
            ],
            "application/vnd.jupyter.widget-view+json": {
              "version_major": 2,
              "version_minor": 0,
              "model_id": "96540601b6254faf914fd701f71d3895"
            }
          },
          "metadata": {}
        }
      ],
      "id": "zPRvYJg1RzHE"
    },
    {
      "cell_type": "code",
      "source": [
        "df2 = {'Dataset':\"Retail Rocket\",'Algorithm':\"BiVAE\",'Sparsity':sparsity1,'Precision@k':eval_precision,'Recall@k':eval_recall}\n",
        "summary_df = summary_df.append(df2, ignore_index = True)"
      ],
      "metadata": {
        "id": "7c_xzYk9RzHE"
      },
      "execution_count": null,
      "outputs": [],
      "id": "7c_xzYk9RzHE"
    },
    {
      "cell_type": "code",
      "source": [
        "summary_df"
      ],
      "metadata": {
        "id": "PNd_TszcRzHE"
      },
      "execution_count": null,
      "outputs": [],
      "id": "PNd_TszcRzHE"
    },
    {
      "cell_type": "markdown",
      "source": [
        "# Compare Results"
      ],
      "metadata": {
        "id": "Hso89hVSFNeY"
      },
      "id": "Hso89hVSFNeY"
    },
    {
      "cell_type": "code",
      "source": [
        "summary_df"
      ],
      "metadata": {
        "id": "8v5r208cAvyr",
        "colab": {
          "base_uri": "https://localhost:8080/",
          "height": 237
        },
        "outputId": "031dd344-3615-4fbb-e041-67bffa6cc5b7"
      },
      "id": "8v5r208cAvyr",
      "execution_count": null,
      "outputs": [
        {
          "output_type": "execute_result",
          "data": {
            "text/plain": [
              "         Dataset              Algorithm  Sparsity  Recall@K  Precision@k  \\\n",
              "0  Retail Racket  Factorization Machine  0.999160  0.079127     0.015870   \n",
              "1  Retail Racket  Factorization Machine  0.988349  0.017750     0.013544   \n",
              "2  Retail Racket  Factorization Machine  0.979891  0.012904     0.010943   \n",
              "3  Retail Racket                    RBM  0.988349       NaN     0.009620   \n",
              "4  Retail Racket                    RBM  0.979891       NaN     0.019623   \n",
              "5  Retail Rocket                    SAR  0.988349       NaN     0.020909   \n",
              "\n",
              "   HitRate@k  Recall@k  \n",
              "0   0.232977       NaN  \n",
              "1   0.212658       NaN  \n",
              "2   0.188679       NaN  \n",
              "3        NaN  0.009536  \n",
              "4        NaN  0.016930  \n",
              "5        NaN       NaN  "
            ],
            "text/html": [
              "\n",
              "  <div id=\"df-975cd5ba-0bdf-4b7f-a50a-0a9e32112c18\">\n",
              "    <div class=\"colab-df-container\">\n",
              "      <div>\n",
              "<style scoped>\n",
              "    .dataframe tbody tr th:only-of-type {\n",
              "        vertical-align: middle;\n",
              "    }\n",
              "\n",
              "    .dataframe tbody tr th {\n",
              "        vertical-align: top;\n",
              "    }\n",
              "\n",
              "    .dataframe thead th {\n",
              "        text-align: right;\n",
              "    }\n",
              "</style>\n",
              "<table border=\"1\" class=\"dataframe\">\n",
              "  <thead>\n",
              "    <tr style=\"text-align: right;\">\n",
              "      <th></th>\n",
              "      <th>Dataset</th>\n",
              "      <th>Algorithm</th>\n",
              "      <th>Sparsity</th>\n",
              "      <th>Recall@K</th>\n",
              "      <th>Precision@k</th>\n",
              "      <th>HitRate@k</th>\n",
              "      <th>Recall@k</th>\n",
              "    </tr>\n",
              "  </thead>\n",
              "  <tbody>\n",
              "    <tr>\n",
              "      <th>0</th>\n",
              "      <td>Retail Racket</td>\n",
              "      <td>Factorization Machine</td>\n",
              "      <td>0.999160</td>\n",
              "      <td>0.079127</td>\n",
              "      <td>0.015870</td>\n",
              "      <td>0.232977</td>\n",
              "      <td>NaN</td>\n",
              "    </tr>\n",
              "    <tr>\n",
              "      <th>1</th>\n",
              "      <td>Retail Racket</td>\n",
              "      <td>Factorization Machine</td>\n",
              "      <td>0.988349</td>\n",
              "      <td>0.017750</td>\n",
              "      <td>0.013544</td>\n",
              "      <td>0.212658</td>\n",
              "      <td>NaN</td>\n",
              "    </tr>\n",
              "    <tr>\n",
              "      <th>2</th>\n",
              "      <td>Retail Racket</td>\n",
              "      <td>Factorization Machine</td>\n",
              "      <td>0.979891</td>\n",
              "      <td>0.012904</td>\n",
              "      <td>0.010943</td>\n",
              "      <td>0.188679</td>\n",
              "      <td>NaN</td>\n",
              "    </tr>\n",
              "    <tr>\n",
              "      <th>3</th>\n",
              "      <td>Retail Racket</td>\n",
              "      <td>RBM</td>\n",
              "      <td>0.988349</td>\n",
              "      <td>NaN</td>\n",
              "      <td>0.009620</td>\n",
              "      <td>NaN</td>\n",
              "      <td>0.009536</td>\n",
              "    </tr>\n",
              "    <tr>\n",
              "      <th>4</th>\n",
              "      <td>Retail Racket</td>\n",
              "      <td>RBM</td>\n",
              "      <td>0.979891</td>\n",
              "      <td>NaN</td>\n",
              "      <td>0.019623</td>\n",
              "      <td>NaN</td>\n",
              "      <td>0.016930</td>\n",
              "    </tr>\n",
              "    <tr>\n",
              "      <th>5</th>\n",
              "      <td>Retail Rocket</td>\n",
              "      <td>SAR</td>\n",
              "      <td>0.988349</td>\n",
              "      <td>NaN</td>\n",
              "      <td>0.020909</td>\n",
              "      <td>NaN</td>\n",
              "      <td>NaN</td>\n",
              "    </tr>\n",
              "  </tbody>\n",
              "</table>\n",
              "</div>\n",
              "      <button class=\"colab-df-convert\" onclick=\"convertToInteractive('df-975cd5ba-0bdf-4b7f-a50a-0a9e32112c18')\"\n",
              "              title=\"Convert this dataframe to an interactive table.\"\n",
              "              style=\"display:none;\">\n",
              "        \n",
              "  <svg xmlns=\"http://www.w3.org/2000/svg\" height=\"24px\"viewBox=\"0 0 24 24\"\n",
              "       width=\"24px\">\n",
              "    <path d=\"M0 0h24v24H0V0z\" fill=\"none\"/>\n",
              "    <path d=\"M18.56 5.44l.94 2.06.94-2.06 2.06-.94-2.06-.94-.94-2.06-.94 2.06-2.06.94zm-11 1L8.5 8.5l.94-2.06 2.06-.94-2.06-.94L8.5 2.5l-.94 2.06-2.06.94zm10 10l.94 2.06.94-2.06 2.06-.94-2.06-.94-.94-2.06-.94 2.06-2.06.94z\"/><path d=\"M17.41 7.96l-1.37-1.37c-.4-.4-.92-.59-1.43-.59-.52 0-1.04.2-1.43.59L10.3 9.45l-7.72 7.72c-.78.78-.78 2.05 0 2.83L4 21.41c.39.39.9.59 1.41.59.51 0 1.02-.2 1.41-.59l7.78-7.78 2.81-2.81c.8-.78.8-2.07 0-2.86zM5.41 20L4 18.59l7.72-7.72 1.47 1.35L5.41 20z\"/>\n",
              "  </svg>\n",
              "      </button>\n",
              "      \n",
              "  <style>\n",
              "    .colab-df-container {\n",
              "      display:flex;\n",
              "      flex-wrap:wrap;\n",
              "      gap: 12px;\n",
              "    }\n",
              "\n",
              "    .colab-df-convert {\n",
              "      background-color: #E8F0FE;\n",
              "      border: none;\n",
              "      border-radius: 50%;\n",
              "      cursor: pointer;\n",
              "      display: none;\n",
              "      fill: #1967D2;\n",
              "      height: 32px;\n",
              "      padding: 0 0 0 0;\n",
              "      width: 32px;\n",
              "    }\n",
              "\n",
              "    .colab-df-convert:hover {\n",
              "      background-color: #E2EBFA;\n",
              "      box-shadow: 0px 1px 2px rgba(60, 64, 67, 0.3), 0px 1px 3px 1px rgba(60, 64, 67, 0.15);\n",
              "      fill: #174EA6;\n",
              "    }\n",
              "\n",
              "    [theme=dark] .colab-df-convert {\n",
              "      background-color: #3B4455;\n",
              "      fill: #D2E3FC;\n",
              "    }\n",
              "\n",
              "    [theme=dark] .colab-df-convert:hover {\n",
              "      background-color: #434B5C;\n",
              "      box-shadow: 0px 1px 3px 1px rgba(0, 0, 0, 0.15);\n",
              "      filter: drop-shadow(0px 1px 2px rgba(0, 0, 0, 0.3));\n",
              "      fill: #FFFFFF;\n",
              "    }\n",
              "  </style>\n",
              "\n",
              "      <script>\n",
              "        const buttonEl =\n",
              "          document.querySelector('#df-975cd5ba-0bdf-4b7f-a50a-0a9e32112c18 button.colab-df-convert');\n",
              "        buttonEl.style.display =\n",
              "          google.colab.kernel.accessAllowed ? 'block' : 'none';\n",
              "\n",
              "        async function convertToInteractive(key) {\n",
              "          const element = document.querySelector('#df-975cd5ba-0bdf-4b7f-a50a-0a9e32112c18');\n",
              "          const dataTable =\n",
              "            await google.colab.kernel.invokeFunction('convertToInteractive',\n",
              "                                                     [key], {});\n",
              "          if (!dataTable) return;\n",
              "\n",
              "          const docLinkHtml = 'Like what you see? Visit the ' +\n",
              "            '<a target=\"_blank\" href=https://colab.research.google.com/notebooks/data_table.ipynb>data table notebook</a>'\n",
              "            + ' to learn more about interactive tables.';\n",
              "          element.innerHTML = '';\n",
              "          dataTable['output_type'] = 'display_data';\n",
              "          await google.colab.output.renderOutput(dataTable, element);\n",
              "          const docLink = document.createElement('div');\n",
              "          docLink.innerHTML = docLinkHtml;\n",
              "          element.appendChild(docLink);\n",
              "        }\n",
              "      </script>\n",
              "    </div>\n",
              "  </div>\n",
              "  "
            ]
          },
          "metadata": {},
          "execution_count": 94
        }
      ]
    }
  ],
  "metadata": {
    "kernelspec": {
      "display_name": "Python 3",
      "language": "python",
      "name": "python3"
    },
    "language_info": {
      "codemirror_mode": {
        "name": "ipython",
        "version": 3
      },
      "file_extension": ".py",
      "mimetype": "text/x-python",
      "name": "python",
      "nbconvert_exporter": "python",
      "pygments_lexer": "ipython3",
      "version": "3.6.5"
    },
    "colab": {
      "provenance": [],
      "collapsed_sections": [
        "BadDeJYPiMZe",
        "JPhXr7O5TIdq"
      ],
      "machine_shape": "hm"
    },
    "gpuClass": "standard",
    "accelerator": "GPU",
    "widgets": {
      "application/vnd.jupyter.widget-state+json": {
        "f35ade01d6dc4df5a9ae14c5e381aabf": {
          "model_module": "@jupyter-widgets/controls",
          "model_name": "HBoxModel",
          "model_module_version": "1.5.0",
          "state": {
            "_dom_classes": [],
            "_model_module": "@jupyter-widgets/controls",
            "_model_module_version": "1.5.0",
            "_model_name": "HBoxModel",
            "_view_count": null,
            "_view_module": "@jupyter-widgets/controls",
            "_view_module_version": "1.5.0",
            "_view_name": "HBoxView",
            "box_style": "",
            "children": [
              "IPY_MODEL_64e88f0146ed46a2aa01e3112deb9b85",
              "IPY_MODEL_c9b9a9baccee450e8d61e0b823c0d6f9",
              "IPY_MODEL_fc4a6ce240fa47dab9b60bf4cdeb1a3a"
            ],
            "layout": "IPY_MODEL_4ce738b3eebd4e298905bc53bcb7a2b9"
          }
        },
        "64e88f0146ed46a2aa01e3112deb9b85": {
          "model_module": "@jupyter-widgets/controls",
          "model_name": "HTMLModel",
          "model_module_version": "1.5.0",
          "state": {
            "_dom_classes": [],
            "_model_module": "@jupyter-widgets/controls",
            "_model_module_version": "1.5.0",
            "_model_name": "HTMLModel",
            "_view_count": null,
            "_view_module": "@jupyter-widgets/controls",
            "_view_module_version": "1.5.0",
            "_view_name": "HTMLView",
            "description": "",
            "description_tooltip": null,
            "layout": "IPY_MODEL_967039cddcf54d9889399e01bf8fcf1e",
            "placeholder": "​",
            "style": "IPY_MODEL_3a5b18553c9348419c38a55a91c98987",
            "value": "100%"
          }
        },
        "c9b9a9baccee450e8d61e0b823c0d6f9": {
          "model_module": "@jupyter-widgets/controls",
          "model_name": "FloatProgressModel",
          "model_module_version": "1.5.0",
          "state": {
            "_dom_classes": [],
            "_model_module": "@jupyter-widgets/controls",
            "_model_module_version": "1.5.0",
            "_model_name": "FloatProgressModel",
            "_view_count": null,
            "_view_module": "@jupyter-widgets/controls",
            "_view_module_version": "1.5.0",
            "_view_name": "ProgressView",
            "bar_style": "success",
            "description": "",
            "description_tooltip": null,
            "layout": "IPY_MODEL_b5212e6af3d8479389eccf72ce773ce4",
            "max": 100,
            "min": 0,
            "orientation": "horizontal",
            "style": "IPY_MODEL_c357f9aa2f0d4fb8a65c01437cc9d690",
            "value": 100
          }
        },
        "fc4a6ce240fa47dab9b60bf4cdeb1a3a": {
          "model_module": "@jupyter-widgets/controls",
          "model_name": "HTMLModel",
          "model_module_version": "1.5.0",
          "state": {
            "_dom_classes": [],
            "_model_module": "@jupyter-widgets/controls",
            "_model_module_version": "1.5.0",
            "_model_name": "HTMLModel",
            "_view_count": null,
            "_view_module": "@jupyter-widgets/controls",
            "_view_module_version": "1.5.0",
            "_view_name": "HTMLView",
            "description": "",
            "description_tooltip": null,
            "layout": "IPY_MODEL_bbb62386303946dbbf703c5ca9692cdd",
            "placeholder": "​",
            "style": "IPY_MODEL_b1f1a19dded248a69a66ff161398901a",
            "value": " 100/100 [00:01&lt;00:00, 88.62it/s, correct=89.31%, skipped=4.20%]"
          }
        },
        "4ce738b3eebd4e298905bc53bcb7a2b9": {
          "model_module": "@jupyter-widgets/base",
          "model_name": "LayoutModel",
          "model_module_version": "1.2.0",
          "state": {
            "_model_module": "@jupyter-widgets/base",
            "_model_module_version": "1.2.0",
            "_model_name": "LayoutModel",
            "_view_count": null,
            "_view_module": "@jupyter-widgets/base",
            "_view_module_version": "1.2.0",
            "_view_name": "LayoutView",
            "align_content": null,
            "align_items": null,
            "align_self": null,
            "border": null,
            "bottom": null,
            "display": null,
            "flex": null,
            "flex_flow": null,
            "grid_area": null,
            "grid_auto_columns": null,
            "grid_auto_flow": null,
            "grid_auto_rows": null,
            "grid_column": null,
            "grid_gap": null,
            "grid_row": null,
            "grid_template_areas": null,
            "grid_template_columns": null,
            "grid_template_rows": null,
            "height": null,
            "justify_content": null,
            "justify_items": null,
            "left": null,
            "margin": null,
            "max_height": null,
            "max_width": null,
            "min_height": null,
            "min_width": null,
            "object_fit": null,
            "object_position": null,
            "order": null,
            "overflow": null,
            "overflow_x": null,
            "overflow_y": null,
            "padding": null,
            "right": null,
            "top": null,
            "visibility": null,
            "width": null
          }
        },
        "967039cddcf54d9889399e01bf8fcf1e": {
          "model_module": "@jupyter-widgets/base",
          "model_name": "LayoutModel",
          "model_module_version": "1.2.0",
          "state": {
            "_model_module": "@jupyter-widgets/base",
            "_model_module_version": "1.2.0",
            "_model_name": "LayoutModel",
            "_view_count": null,
            "_view_module": "@jupyter-widgets/base",
            "_view_module_version": "1.2.0",
            "_view_name": "LayoutView",
            "align_content": null,
            "align_items": null,
            "align_self": null,
            "border": null,
            "bottom": null,
            "display": null,
            "flex": null,
            "flex_flow": null,
            "grid_area": null,
            "grid_auto_columns": null,
            "grid_auto_flow": null,
            "grid_auto_rows": null,
            "grid_column": null,
            "grid_gap": null,
            "grid_row": null,
            "grid_template_areas": null,
            "grid_template_columns": null,
            "grid_template_rows": null,
            "height": null,
            "justify_content": null,
            "justify_items": null,
            "left": null,
            "margin": null,
            "max_height": null,
            "max_width": null,
            "min_height": null,
            "min_width": null,
            "object_fit": null,
            "object_position": null,
            "order": null,
            "overflow": null,
            "overflow_x": null,
            "overflow_y": null,
            "padding": null,
            "right": null,
            "top": null,
            "visibility": null,
            "width": null
          }
        },
        "3a5b18553c9348419c38a55a91c98987": {
          "model_module": "@jupyter-widgets/controls",
          "model_name": "DescriptionStyleModel",
          "model_module_version": "1.5.0",
          "state": {
            "_model_module": "@jupyter-widgets/controls",
            "_model_module_version": "1.5.0",
            "_model_name": "DescriptionStyleModel",
            "_view_count": null,
            "_view_module": "@jupyter-widgets/base",
            "_view_module_version": "1.2.0",
            "_view_name": "StyleView",
            "description_width": ""
          }
        },
        "b5212e6af3d8479389eccf72ce773ce4": {
          "model_module": "@jupyter-widgets/base",
          "model_name": "LayoutModel",
          "model_module_version": "1.2.0",
          "state": {
            "_model_module": "@jupyter-widgets/base",
            "_model_module_version": "1.2.0",
            "_model_name": "LayoutModel",
            "_view_count": null,
            "_view_module": "@jupyter-widgets/base",
            "_view_module_version": "1.2.0",
            "_view_name": "LayoutView",
            "align_content": null,
            "align_items": null,
            "align_self": null,
            "border": null,
            "bottom": null,
            "display": null,
            "flex": null,
            "flex_flow": null,
            "grid_area": null,
            "grid_auto_columns": null,
            "grid_auto_flow": null,
            "grid_auto_rows": null,
            "grid_column": null,
            "grid_gap": null,
            "grid_row": null,
            "grid_template_areas": null,
            "grid_template_columns": null,
            "grid_template_rows": null,
            "height": null,
            "justify_content": null,
            "justify_items": null,
            "left": null,
            "margin": null,
            "max_height": null,
            "max_width": null,
            "min_height": null,
            "min_width": null,
            "object_fit": null,
            "object_position": null,
            "order": null,
            "overflow": null,
            "overflow_x": null,
            "overflow_y": null,
            "padding": null,
            "right": null,
            "top": null,
            "visibility": null,
            "width": null
          }
        },
        "c357f9aa2f0d4fb8a65c01437cc9d690": {
          "model_module": "@jupyter-widgets/controls",
          "model_name": "ProgressStyleModel",
          "model_module_version": "1.5.0",
          "state": {
            "_model_module": "@jupyter-widgets/controls",
            "_model_module_version": "1.5.0",
            "_model_name": "ProgressStyleModel",
            "_view_count": null,
            "_view_module": "@jupyter-widgets/base",
            "_view_module_version": "1.2.0",
            "_view_name": "StyleView",
            "bar_color": null,
            "description_width": ""
          }
        },
        "bbb62386303946dbbf703c5ca9692cdd": {
          "model_module": "@jupyter-widgets/base",
          "model_name": "LayoutModel",
          "model_module_version": "1.2.0",
          "state": {
            "_model_module": "@jupyter-widgets/base",
            "_model_module_version": "1.2.0",
            "_model_name": "LayoutModel",
            "_view_count": null,
            "_view_module": "@jupyter-widgets/base",
            "_view_module_version": "1.2.0",
            "_view_name": "LayoutView",
            "align_content": null,
            "align_items": null,
            "align_self": null,
            "border": null,
            "bottom": null,
            "display": null,
            "flex": null,
            "flex_flow": null,
            "grid_area": null,
            "grid_auto_columns": null,
            "grid_auto_flow": null,
            "grid_auto_rows": null,
            "grid_column": null,
            "grid_gap": null,
            "grid_row": null,
            "grid_template_areas": null,
            "grid_template_columns": null,
            "grid_template_rows": null,
            "height": null,
            "justify_content": null,
            "justify_items": null,
            "left": null,
            "margin": null,
            "max_height": null,
            "max_width": null,
            "min_height": null,
            "min_width": null,
            "object_fit": null,
            "object_position": null,
            "order": null,
            "overflow": null,
            "overflow_x": null,
            "overflow_y": null,
            "padding": null,
            "right": null,
            "top": null,
            "visibility": null,
            "width": null
          }
        },
        "b1f1a19dded248a69a66ff161398901a": {
          "model_module": "@jupyter-widgets/controls",
          "model_name": "DescriptionStyleModel",
          "model_module_version": "1.5.0",
          "state": {
            "_model_module": "@jupyter-widgets/controls",
            "_model_module_version": "1.5.0",
            "_model_name": "DescriptionStyleModel",
            "_view_count": null,
            "_view_module": "@jupyter-widgets/base",
            "_view_module_version": "1.2.0",
            "_view_name": "StyleView",
            "description_width": ""
          }
        },
        "514962b09978430d9560ad901145ab40": {
          "model_module": "@jupyter-widgets/controls",
          "model_name": "HBoxModel",
          "model_module_version": "1.5.0",
          "state": {
            "_dom_classes": [],
            "_model_module": "@jupyter-widgets/controls",
            "_model_module_version": "1.5.0",
            "_model_name": "HBoxModel",
            "_view_count": null,
            "_view_module": "@jupyter-widgets/controls",
            "_view_module_version": "1.5.0",
            "_view_name": "HBoxView",
            "box_style": "",
            "children": [
              "IPY_MODEL_5593f8c762dd45609e13409f9485acae",
              "IPY_MODEL_60066f787c4a4252b9cadf25f106659a",
              "IPY_MODEL_b3851b525370458c89b2e0b7ef5f5474"
            ],
            "layout": "IPY_MODEL_397633b130374784bd060ed1c5a41600"
          }
        },
        "5593f8c762dd45609e13409f9485acae": {
          "model_module": "@jupyter-widgets/controls",
          "model_name": "HTMLModel",
          "model_module_version": "1.5.0",
          "state": {
            "_dom_classes": [],
            "_model_module": "@jupyter-widgets/controls",
            "_model_module_version": "1.5.0",
            "_model_name": "HTMLModel",
            "_view_count": null,
            "_view_module": "@jupyter-widgets/controls",
            "_view_module_version": "1.5.0",
            "_view_name": "HTMLView",
            "description": "",
            "description_tooltip": null,
            "layout": "IPY_MODEL_e174c5d20d344de2a7e0e90388fd6cc9",
            "placeholder": "​",
            "style": "IPY_MODEL_29dcf30c44cb427aa57d02306acb7736",
            "value": "100%"
          }
        },
        "60066f787c4a4252b9cadf25f106659a": {
          "model_module": "@jupyter-widgets/controls",
          "model_name": "FloatProgressModel",
          "model_module_version": "1.5.0",
          "state": {
            "_dom_classes": [],
            "_model_module": "@jupyter-widgets/controls",
            "_model_module_version": "1.5.0",
            "_model_name": "FloatProgressModel",
            "_view_count": null,
            "_view_module": "@jupyter-widgets/controls",
            "_view_module_version": "1.5.0",
            "_view_name": "ProgressView",
            "bar_style": "success",
            "description": "",
            "description_tooltip": null,
            "layout": "IPY_MODEL_a39b1840a1a24fa2bde3f68c19380570",
            "max": 100,
            "min": 0,
            "orientation": "horizontal",
            "style": "IPY_MODEL_82f6d6b5e2fa497e8a33119017fbce8a",
            "value": 100
          }
        },
        "b3851b525370458c89b2e0b7ef5f5474": {
          "model_module": "@jupyter-widgets/controls",
          "model_name": "HTMLModel",
          "model_module_version": "1.5.0",
          "state": {
            "_dom_classes": [],
            "_model_module": "@jupyter-widgets/controls",
            "_model_module_version": "1.5.0",
            "_model_name": "HTMLModel",
            "_view_count": null,
            "_view_module": "@jupyter-widgets/controls",
            "_view_module_version": "1.5.0",
            "_view_name": "HTMLView",
            "description": "",
            "description_tooltip": null,
            "layout": "IPY_MODEL_75052c37e6734c08ab076e42d77da031",
            "placeholder": "​",
            "style": "IPY_MODEL_e00f9d27bbb54dc294edb5623f071d6c",
            "value": " 100/100 [00:01&lt;00:00, 53.17it/s, correct=91.10%, skipped=3.09%]"
          }
        },
        "397633b130374784bd060ed1c5a41600": {
          "model_module": "@jupyter-widgets/base",
          "model_name": "LayoutModel",
          "model_module_version": "1.2.0",
          "state": {
            "_model_module": "@jupyter-widgets/base",
            "_model_module_version": "1.2.0",
            "_model_name": "LayoutModel",
            "_view_count": null,
            "_view_module": "@jupyter-widgets/base",
            "_view_module_version": "1.2.0",
            "_view_name": "LayoutView",
            "align_content": null,
            "align_items": null,
            "align_self": null,
            "border": null,
            "bottom": null,
            "display": null,
            "flex": null,
            "flex_flow": null,
            "grid_area": null,
            "grid_auto_columns": null,
            "grid_auto_flow": null,
            "grid_auto_rows": null,
            "grid_column": null,
            "grid_gap": null,
            "grid_row": null,
            "grid_template_areas": null,
            "grid_template_columns": null,
            "grid_template_rows": null,
            "height": null,
            "justify_content": null,
            "justify_items": null,
            "left": null,
            "margin": null,
            "max_height": null,
            "max_width": null,
            "min_height": null,
            "min_width": null,
            "object_fit": null,
            "object_position": null,
            "order": null,
            "overflow": null,
            "overflow_x": null,
            "overflow_y": null,
            "padding": null,
            "right": null,
            "top": null,
            "visibility": null,
            "width": null
          }
        },
        "e174c5d20d344de2a7e0e90388fd6cc9": {
          "model_module": "@jupyter-widgets/base",
          "model_name": "LayoutModel",
          "model_module_version": "1.2.0",
          "state": {
            "_model_module": "@jupyter-widgets/base",
            "_model_module_version": "1.2.0",
            "_model_name": "LayoutModel",
            "_view_count": null,
            "_view_module": "@jupyter-widgets/base",
            "_view_module_version": "1.2.0",
            "_view_name": "LayoutView",
            "align_content": null,
            "align_items": null,
            "align_self": null,
            "border": null,
            "bottom": null,
            "display": null,
            "flex": null,
            "flex_flow": null,
            "grid_area": null,
            "grid_auto_columns": null,
            "grid_auto_flow": null,
            "grid_auto_rows": null,
            "grid_column": null,
            "grid_gap": null,
            "grid_row": null,
            "grid_template_areas": null,
            "grid_template_columns": null,
            "grid_template_rows": null,
            "height": null,
            "justify_content": null,
            "justify_items": null,
            "left": null,
            "margin": null,
            "max_height": null,
            "max_width": null,
            "min_height": null,
            "min_width": null,
            "object_fit": null,
            "object_position": null,
            "order": null,
            "overflow": null,
            "overflow_x": null,
            "overflow_y": null,
            "padding": null,
            "right": null,
            "top": null,
            "visibility": null,
            "width": null
          }
        },
        "29dcf30c44cb427aa57d02306acb7736": {
          "model_module": "@jupyter-widgets/controls",
          "model_name": "DescriptionStyleModel",
          "model_module_version": "1.5.0",
          "state": {
            "_model_module": "@jupyter-widgets/controls",
            "_model_module_version": "1.5.0",
            "_model_name": "DescriptionStyleModel",
            "_view_count": null,
            "_view_module": "@jupyter-widgets/base",
            "_view_module_version": "1.2.0",
            "_view_name": "StyleView",
            "description_width": ""
          }
        },
        "a39b1840a1a24fa2bde3f68c19380570": {
          "model_module": "@jupyter-widgets/base",
          "model_name": "LayoutModel",
          "model_module_version": "1.2.0",
          "state": {
            "_model_module": "@jupyter-widgets/base",
            "_model_module_version": "1.2.0",
            "_model_name": "LayoutModel",
            "_view_count": null,
            "_view_module": "@jupyter-widgets/base",
            "_view_module_version": "1.2.0",
            "_view_name": "LayoutView",
            "align_content": null,
            "align_items": null,
            "align_self": null,
            "border": null,
            "bottom": null,
            "display": null,
            "flex": null,
            "flex_flow": null,
            "grid_area": null,
            "grid_auto_columns": null,
            "grid_auto_flow": null,
            "grid_auto_rows": null,
            "grid_column": null,
            "grid_gap": null,
            "grid_row": null,
            "grid_template_areas": null,
            "grid_template_columns": null,
            "grid_template_rows": null,
            "height": null,
            "justify_content": null,
            "justify_items": null,
            "left": null,
            "margin": null,
            "max_height": null,
            "max_width": null,
            "min_height": null,
            "min_width": null,
            "object_fit": null,
            "object_position": null,
            "order": null,
            "overflow": null,
            "overflow_x": null,
            "overflow_y": null,
            "padding": null,
            "right": null,
            "top": null,
            "visibility": null,
            "width": null
          }
        },
        "82f6d6b5e2fa497e8a33119017fbce8a": {
          "model_module": "@jupyter-widgets/controls",
          "model_name": "ProgressStyleModel",
          "model_module_version": "1.5.0",
          "state": {
            "_model_module": "@jupyter-widgets/controls",
            "_model_module_version": "1.5.0",
            "_model_name": "ProgressStyleModel",
            "_view_count": null,
            "_view_module": "@jupyter-widgets/base",
            "_view_module_version": "1.2.0",
            "_view_name": "StyleView",
            "bar_color": null,
            "description_width": ""
          }
        },
        "75052c37e6734c08ab076e42d77da031": {
          "model_module": "@jupyter-widgets/base",
          "model_name": "LayoutModel",
          "model_module_version": "1.2.0",
          "state": {
            "_model_module": "@jupyter-widgets/base",
            "_model_module_version": "1.2.0",
            "_model_name": "LayoutModel",
            "_view_count": null,
            "_view_module": "@jupyter-widgets/base",
            "_view_module_version": "1.2.0",
            "_view_name": "LayoutView",
            "align_content": null,
            "align_items": null,
            "align_self": null,
            "border": null,
            "bottom": null,
            "display": null,
            "flex": null,
            "flex_flow": null,
            "grid_area": null,
            "grid_auto_columns": null,
            "grid_auto_flow": null,
            "grid_auto_rows": null,
            "grid_column": null,
            "grid_gap": null,
            "grid_row": null,
            "grid_template_areas": null,
            "grid_template_columns": null,
            "grid_template_rows": null,
            "height": null,
            "justify_content": null,
            "justify_items": null,
            "left": null,
            "margin": null,
            "max_height": null,
            "max_width": null,
            "min_height": null,
            "min_width": null,
            "object_fit": null,
            "object_position": null,
            "order": null,
            "overflow": null,
            "overflow_x": null,
            "overflow_y": null,
            "padding": null,
            "right": null,
            "top": null,
            "visibility": null,
            "width": null
          }
        },
        "e00f9d27bbb54dc294edb5623f071d6c": {
          "model_module": "@jupyter-widgets/controls",
          "model_name": "DescriptionStyleModel",
          "model_module_version": "1.5.0",
          "state": {
            "_model_module": "@jupyter-widgets/controls",
            "_model_module_version": "1.5.0",
            "_model_name": "DescriptionStyleModel",
            "_view_count": null,
            "_view_module": "@jupyter-widgets/base",
            "_view_module_version": "1.2.0",
            "_view_name": "StyleView",
            "description_width": ""
          }
        },
        "ee554966c15740ed9cbf70aa32a7fbcd": {
          "model_module": "@jupyter-widgets/controls",
          "model_name": "HBoxModel",
          "model_module_version": "1.5.0",
          "state": {
            "_dom_classes": [],
            "_model_module": "@jupyter-widgets/controls",
            "_model_module_version": "1.5.0",
            "_model_name": "HBoxModel",
            "_view_count": null,
            "_view_module": "@jupyter-widgets/controls",
            "_view_module_version": "1.5.0",
            "_view_name": "HBoxView",
            "box_style": "",
            "children": [
              "IPY_MODEL_c14cbfbae2a448ee8309861defc63b5a",
              "IPY_MODEL_f66487dd6858458b92e74951636fed9a",
              "IPY_MODEL_843cde71b8704b70807ec8ac6a6e96f2"
            ],
            "layout": "IPY_MODEL_0ea0f3788c034257b8d188ed8365a45c"
          }
        },
        "c14cbfbae2a448ee8309861defc63b5a": {
          "model_module": "@jupyter-widgets/controls",
          "model_name": "HTMLModel",
          "model_module_version": "1.5.0",
          "state": {
            "_dom_classes": [],
            "_model_module": "@jupyter-widgets/controls",
            "_model_module_version": "1.5.0",
            "_model_name": "HTMLModel",
            "_view_count": null,
            "_view_module": "@jupyter-widgets/controls",
            "_view_module_version": "1.5.0",
            "_view_name": "HTMLView",
            "description": "",
            "description_tooltip": null,
            "layout": "IPY_MODEL_a3d156dc96884b3484ce4cb2e99d1b18",
            "placeholder": "​",
            "style": "IPY_MODEL_c5a6c3c7d53e47e2911e5d6c52b709a0",
            "value": "100%"
          }
        },
        "f66487dd6858458b92e74951636fed9a": {
          "model_module": "@jupyter-widgets/controls",
          "model_name": "FloatProgressModel",
          "model_module_version": "1.5.0",
          "state": {
            "_dom_classes": [],
            "_model_module": "@jupyter-widgets/controls",
            "_model_module_version": "1.5.0",
            "_model_name": "FloatProgressModel",
            "_view_count": null,
            "_view_module": "@jupyter-widgets/controls",
            "_view_module_version": "1.5.0",
            "_view_name": "ProgressView",
            "bar_style": "success",
            "description": "",
            "description_tooltip": null,
            "layout": "IPY_MODEL_75ce6078113f43269596c73d341ccf22",
            "max": 500,
            "min": 0,
            "orientation": "horizontal",
            "style": "IPY_MODEL_7387ae12f7b14944b1f1d9c319b6b01c",
            "value": 500
          }
        },
        "843cde71b8704b70807ec8ac6a6e96f2": {
          "model_module": "@jupyter-widgets/controls",
          "model_name": "HTMLModel",
          "model_module_version": "1.5.0",
          "state": {
            "_dom_classes": [],
            "_model_module": "@jupyter-widgets/controls",
            "_model_module_version": "1.5.0",
            "_model_name": "HTMLModel",
            "_view_count": null,
            "_view_module": "@jupyter-widgets/controls",
            "_view_module_version": "1.5.0",
            "_view_name": "HTMLView",
            "description": "",
            "description_tooltip": null,
            "layout": "IPY_MODEL_86a2227f02a847eebbd9b4c9830df906",
            "placeholder": "​",
            "style": "IPY_MODEL_17b2b96c2d094996a43970299174040c",
            "value": " 500/500 [01:34&lt;00:00,  6.02it/s, loss_i=0.17, loss_u=4.32]"
          }
        },
        "0ea0f3788c034257b8d188ed8365a45c": {
          "model_module": "@jupyter-widgets/base",
          "model_name": "LayoutModel",
          "model_module_version": "1.2.0",
          "state": {
            "_model_module": "@jupyter-widgets/base",
            "_model_module_version": "1.2.0",
            "_model_name": "LayoutModel",
            "_view_count": null,
            "_view_module": "@jupyter-widgets/base",
            "_view_module_version": "1.2.0",
            "_view_name": "LayoutView",
            "align_content": null,
            "align_items": null,
            "align_self": null,
            "border": null,
            "bottom": null,
            "display": null,
            "flex": null,
            "flex_flow": null,
            "grid_area": null,
            "grid_auto_columns": null,
            "grid_auto_flow": null,
            "grid_auto_rows": null,
            "grid_column": null,
            "grid_gap": null,
            "grid_row": null,
            "grid_template_areas": null,
            "grid_template_columns": null,
            "grid_template_rows": null,
            "height": null,
            "justify_content": null,
            "justify_items": null,
            "left": null,
            "margin": null,
            "max_height": null,
            "max_width": null,
            "min_height": null,
            "min_width": null,
            "object_fit": null,
            "object_position": null,
            "order": null,
            "overflow": null,
            "overflow_x": null,
            "overflow_y": null,
            "padding": null,
            "right": null,
            "top": null,
            "visibility": null,
            "width": null
          }
        },
        "a3d156dc96884b3484ce4cb2e99d1b18": {
          "model_module": "@jupyter-widgets/base",
          "model_name": "LayoutModel",
          "model_module_version": "1.2.0",
          "state": {
            "_model_module": "@jupyter-widgets/base",
            "_model_module_version": "1.2.0",
            "_model_name": "LayoutModel",
            "_view_count": null,
            "_view_module": "@jupyter-widgets/base",
            "_view_module_version": "1.2.0",
            "_view_name": "LayoutView",
            "align_content": null,
            "align_items": null,
            "align_self": null,
            "border": null,
            "bottom": null,
            "display": null,
            "flex": null,
            "flex_flow": null,
            "grid_area": null,
            "grid_auto_columns": null,
            "grid_auto_flow": null,
            "grid_auto_rows": null,
            "grid_column": null,
            "grid_gap": null,
            "grid_row": null,
            "grid_template_areas": null,
            "grid_template_columns": null,
            "grid_template_rows": null,
            "height": null,
            "justify_content": null,
            "justify_items": null,
            "left": null,
            "margin": null,
            "max_height": null,
            "max_width": null,
            "min_height": null,
            "min_width": null,
            "object_fit": null,
            "object_position": null,
            "order": null,
            "overflow": null,
            "overflow_x": null,
            "overflow_y": null,
            "padding": null,
            "right": null,
            "top": null,
            "visibility": null,
            "width": null
          }
        },
        "c5a6c3c7d53e47e2911e5d6c52b709a0": {
          "model_module": "@jupyter-widgets/controls",
          "model_name": "DescriptionStyleModel",
          "model_module_version": "1.5.0",
          "state": {
            "_model_module": "@jupyter-widgets/controls",
            "_model_module_version": "1.5.0",
            "_model_name": "DescriptionStyleModel",
            "_view_count": null,
            "_view_module": "@jupyter-widgets/base",
            "_view_module_version": "1.2.0",
            "_view_name": "StyleView",
            "description_width": ""
          }
        },
        "75ce6078113f43269596c73d341ccf22": {
          "model_module": "@jupyter-widgets/base",
          "model_name": "LayoutModel",
          "model_module_version": "1.2.0",
          "state": {
            "_model_module": "@jupyter-widgets/base",
            "_model_module_version": "1.2.0",
            "_model_name": "LayoutModel",
            "_view_count": null,
            "_view_module": "@jupyter-widgets/base",
            "_view_module_version": "1.2.0",
            "_view_name": "LayoutView",
            "align_content": null,
            "align_items": null,
            "align_self": null,
            "border": null,
            "bottom": null,
            "display": null,
            "flex": null,
            "flex_flow": null,
            "grid_area": null,
            "grid_auto_columns": null,
            "grid_auto_flow": null,
            "grid_auto_rows": null,
            "grid_column": null,
            "grid_gap": null,
            "grid_row": null,
            "grid_template_areas": null,
            "grid_template_columns": null,
            "grid_template_rows": null,
            "height": null,
            "justify_content": null,
            "justify_items": null,
            "left": null,
            "margin": null,
            "max_height": null,
            "max_width": null,
            "min_height": null,
            "min_width": null,
            "object_fit": null,
            "object_position": null,
            "order": null,
            "overflow": null,
            "overflow_x": null,
            "overflow_y": null,
            "padding": null,
            "right": null,
            "top": null,
            "visibility": null,
            "width": null
          }
        },
        "7387ae12f7b14944b1f1d9c319b6b01c": {
          "model_module": "@jupyter-widgets/controls",
          "model_name": "ProgressStyleModel",
          "model_module_version": "1.5.0",
          "state": {
            "_model_module": "@jupyter-widgets/controls",
            "_model_module_version": "1.5.0",
            "_model_name": "ProgressStyleModel",
            "_view_count": null,
            "_view_module": "@jupyter-widgets/base",
            "_view_module_version": "1.2.0",
            "_view_name": "StyleView",
            "bar_color": null,
            "description_width": ""
          }
        },
        "86a2227f02a847eebbd9b4c9830df906": {
          "model_module": "@jupyter-widgets/base",
          "model_name": "LayoutModel",
          "model_module_version": "1.2.0",
          "state": {
            "_model_module": "@jupyter-widgets/base",
            "_model_module_version": "1.2.0",
            "_model_name": "LayoutModel",
            "_view_count": null,
            "_view_module": "@jupyter-widgets/base",
            "_view_module_version": "1.2.0",
            "_view_name": "LayoutView",
            "align_content": null,
            "align_items": null,
            "align_self": null,
            "border": null,
            "bottom": null,
            "display": null,
            "flex": null,
            "flex_flow": null,
            "grid_area": null,
            "grid_auto_columns": null,
            "grid_auto_flow": null,
            "grid_auto_rows": null,
            "grid_column": null,
            "grid_gap": null,
            "grid_row": null,
            "grid_template_areas": null,
            "grid_template_columns": null,
            "grid_template_rows": null,
            "height": null,
            "justify_content": null,
            "justify_items": null,
            "left": null,
            "margin": null,
            "max_height": null,
            "max_width": null,
            "min_height": null,
            "min_width": null,
            "object_fit": null,
            "object_position": null,
            "order": null,
            "overflow": null,
            "overflow_x": null,
            "overflow_y": null,
            "padding": null,
            "right": null,
            "top": null,
            "visibility": null,
            "width": null
          }
        },
        "17b2b96c2d094996a43970299174040c": {
          "model_module": "@jupyter-widgets/controls",
          "model_name": "DescriptionStyleModel",
          "model_module_version": "1.5.0",
          "state": {
            "_model_module": "@jupyter-widgets/controls",
            "_model_module_version": "1.5.0",
            "_model_name": "DescriptionStyleModel",
            "_view_count": null,
            "_view_module": "@jupyter-widgets/base",
            "_view_module_version": "1.2.0",
            "_view_name": "StyleView",
            "description_width": ""
          }
        },
        "e7fffcd5a633464c93c014280838d3f1": {
          "model_module": "@jupyter-widgets/controls",
          "model_name": "HBoxModel",
          "model_module_version": "1.5.0",
          "state": {
            "_dom_classes": [],
            "_model_module": "@jupyter-widgets/controls",
            "_model_module_version": "1.5.0",
            "_model_name": "HBoxModel",
            "_view_count": null,
            "_view_module": "@jupyter-widgets/controls",
            "_view_module_version": "1.5.0",
            "_view_name": "HBoxView",
            "box_style": "",
            "children": [
              "IPY_MODEL_b6a2012990494491a6e0cb73f3689fcd",
              "IPY_MODEL_fc79a7b77072458a8deb5ae70d2ccf5d",
              "IPY_MODEL_243709cd22d44226aa908d3ad717cd4c"
            ],
            "layout": "IPY_MODEL_550682f9371a486587eed812f16e65c3"
          }
        },
        "b6a2012990494491a6e0cb73f3689fcd": {
          "model_module": "@jupyter-widgets/controls",
          "model_name": "HTMLModel",
          "model_module_version": "1.5.0",
          "state": {
            "_dom_classes": [],
            "_model_module": "@jupyter-widgets/controls",
            "_model_module_version": "1.5.0",
            "_model_name": "HTMLModel",
            "_view_count": null,
            "_view_module": "@jupyter-widgets/controls",
            "_view_module_version": "1.5.0",
            "_view_name": "HTMLView",
            "description": "",
            "description_tooltip": null,
            "layout": "IPY_MODEL_f3ddb0f671c842dda364982ded1d5f06",
            "placeholder": "​",
            "style": "IPY_MODEL_81f53ac256114f8bb81bfc32cbce943c",
            "value": "100%"
          }
        },
        "fc79a7b77072458a8deb5ae70d2ccf5d": {
          "model_module": "@jupyter-widgets/controls",
          "model_name": "FloatProgressModel",
          "model_module_version": "1.5.0",
          "state": {
            "_dom_classes": [],
            "_model_module": "@jupyter-widgets/controls",
            "_model_module_version": "1.5.0",
            "_model_name": "FloatProgressModel",
            "_view_count": null,
            "_view_module": "@jupyter-widgets/controls",
            "_view_module_version": "1.5.0",
            "_view_name": "ProgressView",
            "bar_style": "success",
            "description": "",
            "description_tooltip": null,
            "layout": "IPY_MODEL_26ec1d2ae20a41ebb7e29a9692865acd",
            "max": 500,
            "min": 0,
            "orientation": "horizontal",
            "style": "IPY_MODEL_51557a6beb194444b594afb2b61d309c",
            "value": 500
          }
        },
        "243709cd22d44226aa908d3ad717cd4c": {
          "model_module": "@jupyter-widgets/controls",
          "model_name": "HTMLModel",
          "model_module_version": "1.5.0",
          "state": {
            "_dom_classes": [],
            "_model_module": "@jupyter-widgets/controls",
            "_model_module_version": "1.5.0",
            "_model_name": "HTMLModel",
            "_view_count": null,
            "_view_module": "@jupyter-widgets/controls",
            "_view_module_version": "1.5.0",
            "_view_name": "HTMLView",
            "description": "",
            "description_tooltip": null,
            "layout": "IPY_MODEL_31b77b1da1014fb7a91c4ba041a10437",
            "placeholder": "​",
            "style": "IPY_MODEL_2ab59d94bf4d4bba82b162fdcc18088f",
            "value": " 500/500 [02:38&lt;00:00,  3.26it/s, loss_i=0.162, loss_u=4.43]"
          }
        },
        "550682f9371a486587eed812f16e65c3": {
          "model_module": "@jupyter-widgets/base",
          "model_name": "LayoutModel",
          "model_module_version": "1.2.0",
          "state": {
            "_model_module": "@jupyter-widgets/base",
            "_model_module_version": "1.2.0",
            "_model_name": "LayoutModel",
            "_view_count": null,
            "_view_module": "@jupyter-widgets/base",
            "_view_module_version": "1.2.0",
            "_view_name": "LayoutView",
            "align_content": null,
            "align_items": null,
            "align_self": null,
            "border": null,
            "bottom": null,
            "display": null,
            "flex": null,
            "flex_flow": null,
            "grid_area": null,
            "grid_auto_columns": null,
            "grid_auto_flow": null,
            "grid_auto_rows": null,
            "grid_column": null,
            "grid_gap": null,
            "grid_row": null,
            "grid_template_areas": null,
            "grid_template_columns": null,
            "grid_template_rows": null,
            "height": null,
            "justify_content": null,
            "justify_items": null,
            "left": null,
            "margin": null,
            "max_height": null,
            "max_width": null,
            "min_height": null,
            "min_width": null,
            "object_fit": null,
            "object_position": null,
            "order": null,
            "overflow": null,
            "overflow_x": null,
            "overflow_y": null,
            "padding": null,
            "right": null,
            "top": null,
            "visibility": null,
            "width": null
          }
        },
        "f3ddb0f671c842dda364982ded1d5f06": {
          "model_module": "@jupyter-widgets/base",
          "model_name": "LayoutModel",
          "model_module_version": "1.2.0",
          "state": {
            "_model_module": "@jupyter-widgets/base",
            "_model_module_version": "1.2.0",
            "_model_name": "LayoutModel",
            "_view_count": null,
            "_view_module": "@jupyter-widgets/base",
            "_view_module_version": "1.2.0",
            "_view_name": "LayoutView",
            "align_content": null,
            "align_items": null,
            "align_self": null,
            "border": null,
            "bottom": null,
            "display": null,
            "flex": null,
            "flex_flow": null,
            "grid_area": null,
            "grid_auto_columns": null,
            "grid_auto_flow": null,
            "grid_auto_rows": null,
            "grid_column": null,
            "grid_gap": null,
            "grid_row": null,
            "grid_template_areas": null,
            "grid_template_columns": null,
            "grid_template_rows": null,
            "height": null,
            "justify_content": null,
            "justify_items": null,
            "left": null,
            "margin": null,
            "max_height": null,
            "max_width": null,
            "min_height": null,
            "min_width": null,
            "object_fit": null,
            "object_position": null,
            "order": null,
            "overflow": null,
            "overflow_x": null,
            "overflow_y": null,
            "padding": null,
            "right": null,
            "top": null,
            "visibility": null,
            "width": null
          }
        },
        "81f53ac256114f8bb81bfc32cbce943c": {
          "model_module": "@jupyter-widgets/controls",
          "model_name": "DescriptionStyleModel",
          "model_module_version": "1.5.0",
          "state": {
            "_model_module": "@jupyter-widgets/controls",
            "_model_module_version": "1.5.0",
            "_model_name": "DescriptionStyleModel",
            "_view_count": null,
            "_view_module": "@jupyter-widgets/base",
            "_view_module_version": "1.2.0",
            "_view_name": "StyleView",
            "description_width": ""
          }
        },
        "26ec1d2ae20a41ebb7e29a9692865acd": {
          "model_module": "@jupyter-widgets/base",
          "model_name": "LayoutModel",
          "model_module_version": "1.2.0",
          "state": {
            "_model_module": "@jupyter-widgets/base",
            "_model_module_version": "1.2.0",
            "_model_name": "LayoutModel",
            "_view_count": null,
            "_view_module": "@jupyter-widgets/base",
            "_view_module_version": "1.2.0",
            "_view_name": "LayoutView",
            "align_content": null,
            "align_items": null,
            "align_self": null,
            "border": null,
            "bottom": null,
            "display": null,
            "flex": null,
            "flex_flow": null,
            "grid_area": null,
            "grid_auto_columns": null,
            "grid_auto_flow": null,
            "grid_auto_rows": null,
            "grid_column": null,
            "grid_gap": null,
            "grid_row": null,
            "grid_template_areas": null,
            "grid_template_columns": null,
            "grid_template_rows": null,
            "height": null,
            "justify_content": null,
            "justify_items": null,
            "left": null,
            "margin": null,
            "max_height": null,
            "max_width": null,
            "min_height": null,
            "min_width": null,
            "object_fit": null,
            "object_position": null,
            "order": null,
            "overflow": null,
            "overflow_x": null,
            "overflow_y": null,
            "padding": null,
            "right": null,
            "top": null,
            "visibility": null,
            "width": null
          }
        },
        "51557a6beb194444b594afb2b61d309c": {
          "model_module": "@jupyter-widgets/controls",
          "model_name": "ProgressStyleModel",
          "model_module_version": "1.5.0",
          "state": {
            "_model_module": "@jupyter-widgets/controls",
            "_model_module_version": "1.5.0",
            "_model_name": "ProgressStyleModel",
            "_view_count": null,
            "_view_module": "@jupyter-widgets/base",
            "_view_module_version": "1.2.0",
            "_view_name": "StyleView",
            "bar_color": null,
            "description_width": ""
          }
        },
        "31b77b1da1014fb7a91c4ba041a10437": {
          "model_module": "@jupyter-widgets/base",
          "model_name": "LayoutModel",
          "model_module_version": "1.2.0",
          "state": {
            "_model_module": "@jupyter-widgets/base",
            "_model_module_version": "1.2.0",
            "_model_name": "LayoutModel",
            "_view_count": null,
            "_view_module": "@jupyter-widgets/base",
            "_view_module_version": "1.2.0",
            "_view_name": "LayoutView",
            "align_content": null,
            "align_items": null,
            "align_self": null,
            "border": null,
            "bottom": null,
            "display": null,
            "flex": null,
            "flex_flow": null,
            "grid_area": null,
            "grid_auto_columns": null,
            "grid_auto_flow": null,
            "grid_auto_rows": null,
            "grid_column": null,
            "grid_gap": null,
            "grid_row": null,
            "grid_template_areas": null,
            "grid_template_columns": null,
            "grid_template_rows": null,
            "height": null,
            "justify_content": null,
            "justify_items": null,
            "left": null,
            "margin": null,
            "max_height": null,
            "max_width": null,
            "min_height": null,
            "min_width": null,
            "object_fit": null,
            "object_position": null,
            "order": null,
            "overflow": null,
            "overflow_x": null,
            "overflow_y": null,
            "padding": null,
            "right": null,
            "top": null,
            "visibility": null,
            "width": null
          }
        },
        "2ab59d94bf4d4bba82b162fdcc18088f": {
          "model_module": "@jupyter-widgets/controls",
          "model_name": "DescriptionStyleModel",
          "model_module_version": "1.5.0",
          "state": {
            "_model_module": "@jupyter-widgets/controls",
            "_model_module_version": "1.5.0",
            "_model_name": "DescriptionStyleModel",
            "_view_count": null,
            "_view_module": "@jupyter-widgets/base",
            "_view_module_version": "1.2.0",
            "_view_name": "StyleView",
            "description_width": ""
          }
        },
        "96540601b6254faf914fd701f71d3895": {
          "model_module": "@jupyter-widgets/controls",
          "model_name": "HBoxModel",
          "model_module_version": "1.5.0",
          "state": {
            "_dom_classes": [],
            "_model_module": "@jupyter-widgets/controls",
            "_model_module_version": "1.5.0",
            "_model_name": "HBoxModel",
            "_view_count": null,
            "_view_module": "@jupyter-widgets/controls",
            "_view_module_version": "1.5.0",
            "_view_name": "HBoxView",
            "box_style": "",
            "children": [
              "IPY_MODEL_7e408aa842b84889b8fed1d2584c9e9d",
              "IPY_MODEL_f328162f37c94c07a09205f344f62e1d",
              "IPY_MODEL_a221646aa3644579b380900a5ac6bcf9"
            ],
            "layout": "IPY_MODEL_ab698399353b4d5ba8c4089fbbfa9c81"
          }
        },
        "7e408aa842b84889b8fed1d2584c9e9d": {
          "model_module": "@jupyter-widgets/controls",
          "model_name": "HTMLModel",
          "model_module_version": "1.5.0",
          "state": {
            "_dom_classes": [],
            "_model_module": "@jupyter-widgets/controls",
            "_model_module_version": "1.5.0",
            "_model_name": "HTMLModel",
            "_view_count": null,
            "_view_module": "@jupyter-widgets/controls",
            "_view_module_version": "1.5.0",
            "_view_name": "HTMLView",
            "description": "",
            "description_tooltip": null,
            "layout": "IPY_MODEL_7d402af031bc4e0eb29f6c76aa99ff66",
            "placeholder": "​",
            "style": "IPY_MODEL_2db2fe57473044c1b8dc7b561684709e",
            "value": "  1%"
          }
        },
        "f328162f37c94c07a09205f344f62e1d": {
          "model_module": "@jupyter-widgets/controls",
          "model_name": "FloatProgressModel",
          "model_module_version": "1.5.0",
          "state": {
            "_dom_classes": [],
            "_model_module": "@jupyter-widgets/controls",
            "_model_module_version": "1.5.0",
            "_model_name": "FloatProgressModel",
            "_view_count": null,
            "_view_module": "@jupyter-widgets/controls",
            "_view_module_version": "1.5.0",
            "_view_name": "ProgressView",
            "bar_style": "",
            "description": "",
            "description_tooltip": null,
            "layout": "IPY_MODEL_7933fd2f22d8418e8848f3c53ca4a589",
            "max": 500,
            "min": 0,
            "orientation": "horizontal",
            "style": "IPY_MODEL_4860f950602e4014bdccd7a74d3ca9d5",
            "value": 5
          }
        },
        "a221646aa3644579b380900a5ac6bcf9": {
          "model_module": "@jupyter-widgets/controls",
          "model_name": "HTMLModel",
          "model_module_version": "1.5.0",
          "state": {
            "_dom_classes": [],
            "_model_module": "@jupyter-widgets/controls",
            "_model_module_version": "1.5.0",
            "_model_name": "HTMLModel",
            "_view_count": null,
            "_view_module": "@jupyter-widgets/controls",
            "_view_module_version": "1.5.0",
            "_view_name": "HTMLView",
            "description": "",
            "description_tooltip": null,
            "layout": "IPY_MODEL_9df0e201cceb40d9a7292b7462b1ef08",
            "placeholder": "​",
            "style": "IPY_MODEL_39aa895e727a431091a145031deb4751",
            "value": " 5/500 [00:16&lt;24:28,  2.97s/it, loss_i=0.759, loss_u=28.7]"
          }
        },
        "ab698399353b4d5ba8c4089fbbfa9c81": {
          "model_module": "@jupyter-widgets/base",
          "model_name": "LayoutModel",
          "model_module_version": "1.2.0",
          "state": {
            "_model_module": "@jupyter-widgets/base",
            "_model_module_version": "1.2.0",
            "_model_name": "LayoutModel",
            "_view_count": null,
            "_view_module": "@jupyter-widgets/base",
            "_view_module_version": "1.2.0",
            "_view_name": "LayoutView",
            "align_content": null,
            "align_items": null,
            "align_self": null,
            "border": null,
            "bottom": null,
            "display": null,
            "flex": null,
            "flex_flow": null,
            "grid_area": null,
            "grid_auto_columns": null,
            "grid_auto_flow": null,
            "grid_auto_rows": null,
            "grid_column": null,
            "grid_gap": null,
            "grid_row": null,
            "grid_template_areas": null,
            "grid_template_columns": null,
            "grid_template_rows": null,
            "height": null,
            "justify_content": null,
            "justify_items": null,
            "left": null,
            "margin": null,
            "max_height": null,
            "max_width": null,
            "min_height": null,
            "min_width": null,
            "object_fit": null,
            "object_position": null,
            "order": null,
            "overflow": null,
            "overflow_x": null,
            "overflow_y": null,
            "padding": null,
            "right": null,
            "top": null,
            "visibility": null,
            "width": null
          }
        },
        "7d402af031bc4e0eb29f6c76aa99ff66": {
          "model_module": "@jupyter-widgets/base",
          "model_name": "LayoutModel",
          "model_module_version": "1.2.0",
          "state": {
            "_model_module": "@jupyter-widgets/base",
            "_model_module_version": "1.2.0",
            "_model_name": "LayoutModel",
            "_view_count": null,
            "_view_module": "@jupyter-widgets/base",
            "_view_module_version": "1.2.0",
            "_view_name": "LayoutView",
            "align_content": null,
            "align_items": null,
            "align_self": null,
            "border": null,
            "bottom": null,
            "display": null,
            "flex": null,
            "flex_flow": null,
            "grid_area": null,
            "grid_auto_columns": null,
            "grid_auto_flow": null,
            "grid_auto_rows": null,
            "grid_column": null,
            "grid_gap": null,
            "grid_row": null,
            "grid_template_areas": null,
            "grid_template_columns": null,
            "grid_template_rows": null,
            "height": null,
            "justify_content": null,
            "justify_items": null,
            "left": null,
            "margin": null,
            "max_height": null,
            "max_width": null,
            "min_height": null,
            "min_width": null,
            "object_fit": null,
            "object_position": null,
            "order": null,
            "overflow": null,
            "overflow_x": null,
            "overflow_y": null,
            "padding": null,
            "right": null,
            "top": null,
            "visibility": null,
            "width": null
          }
        },
        "2db2fe57473044c1b8dc7b561684709e": {
          "model_module": "@jupyter-widgets/controls",
          "model_name": "DescriptionStyleModel",
          "model_module_version": "1.5.0",
          "state": {
            "_model_module": "@jupyter-widgets/controls",
            "_model_module_version": "1.5.0",
            "_model_name": "DescriptionStyleModel",
            "_view_count": null,
            "_view_module": "@jupyter-widgets/base",
            "_view_module_version": "1.2.0",
            "_view_name": "StyleView",
            "description_width": ""
          }
        },
        "7933fd2f22d8418e8848f3c53ca4a589": {
          "model_module": "@jupyter-widgets/base",
          "model_name": "LayoutModel",
          "model_module_version": "1.2.0",
          "state": {
            "_model_module": "@jupyter-widgets/base",
            "_model_module_version": "1.2.0",
            "_model_name": "LayoutModel",
            "_view_count": null,
            "_view_module": "@jupyter-widgets/base",
            "_view_module_version": "1.2.0",
            "_view_name": "LayoutView",
            "align_content": null,
            "align_items": null,
            "align_self": null,
            "border": null,
            "bottom": null,
            "display": null,
            "flex": null,
            "flex_flow": null,
            "grid_area": null,
            "grid_auto_columns": null,
            "grid_auto_flow": null,
            "grid_auto_rows": null,
            "grid_column": null,
            "grid_gap": null,
            "grid_row": null,
            "grid_template_areas": null,
            "grid_template_columns": null,
            "grid_template_rows": null,
            "height": null,
            "justify_content": null,
            "justify_items": null,
            "left": null,
            "margin": null,
            "max_height": null,
            "max_width": null,
            "min_height": null,
            "min_width": null,
            "object_fit": null,
            "object_position": null,
            "order": null,
            "overflow": null,
            "overflow_x": null,
            "overflow_y": null,
            "padding": null,
            "right": null,
            "top": null,
            "visibility": null,
            "width": null
          }
        },
        "4860f950602e4014bdccd7a74d3ca9d5": {
          "model_module": "@jupyter-widgets/controls",
          "model_name": "ProgressStyleModel",
          "model_module_version": "1.5.0",
          "state": {
            "_model_module": "@jupyter-widgets/controls",
            "_model_module_version": "1.5.0",
            "_model_name": "ProgressStyleModel",
            "_view_count": null,
            "_view_module": "@jupyter-widgets/base",
            "_view_module_version": "1.2.0",
            "_view_name": "StyleView",
            "bar_color": null,
            "description_width": ""
          }
        },
        "9df0e201cceb40d9a7292b7462b1ef08": {
          "model_module": "@jupyter-widgets/base",
          "model_name": "LayoutModel",
          "model_module_version": "1.2.0",
          "state": {
            "_model_module": "@jupyter-widgets/base",
            "_model_module_version": "1.2.0",
            "_model_name": "LayoutModel",
            "_view_count": null,
            "_view_module": "@jupyter-widgets/base",
            "_view_module_version": "1.2.0",
            "_view_name": "LayoutView",
            "align_content": null,
            "align_items": null,
            "align_self": null,
            "border": null,
            "bottom": null,
            "display": null,
            "flex": null,
            "flex_flow": null,
            "grid_area": null,
            "grid_auto_columns": null,
            "grid_auto_flow": null,
            "grid_auto_rows": null,
            "grid_column": null,
            "grid_gap": null,
            "grid_row": null,
            "grid_template_areas": null,
            "grid_template_columns": null,
            "grid_template_rows": null,
            "height": null,
            "justify_content": null,
            "justify_items": null,
            "left": null,
            "margin": null,
            "max_height": null,
            "max_width": null,
            "min_height": null,
            "min_width": null,
            "object_fit": null,
            "object_position": null,
            "order": null,
            "overflow": null,
            "overflow_x": null,
            "overflow_y": null,
            "padding": null,
            "right": null,
            "top": null,
            "visibility": null,
            "width": null
          }
        },
        "39aa895e727a431091a145031deb4751": {
          "model_module": "@jupyter-widgets/controls",
          "model_name": "DescriptionStyleModel",
          "model_module_version": "1.5.0",
          "state": {
            "_model_module": "@jupyter-widgets/controls",
            "_model_module_version": "1.5.0",
            "_model_name": "DescriptionStyleModel",
            "_view_count": null,
            "_view_module": "@jupyter-widgets/base",
            "_view_module_version": "1.2.0",
            "_view_name": "StyleView",
            "description_width": ""
          }
        }
      }
    }
  },
  "nbformat": 4,
  "nbformat_minor": 5
}