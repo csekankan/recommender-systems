{
  "cells": [
    {
      "cell_type": "code",
      "source": [
        "gpu_info = !nvidia-smi\n",
        "gpu_info = '\\n'.join(gpu_info)\n",
        "if gpu_info.find('failed') >= 0:\n",
        "  print('Not connected to a GPU')\n",
        "else:\n",
        "  print(gpu_info)"
      ],
      "metadata": {
        "colab": {
          "base_uri": "https://localhost:8080/"
        },
        "id": "_QphkgcDcwxr",
        "outputId": "ea86af61-54ed-434e-9d3f-f169f9674a74"
      },
      "id": "_QphkgcDcwxr",
      "execution_count": null,
      "outputs": [
        {
          "output_type": "stream",
          "name": "stdout",
          "text": [
            "Sat Sep  3 06:58:37 2022       \n",
            "+-----------------------------------------------------------------------------+\n",
            "| NVIDIA-SMI 460.32.03    Driver Version: 460.32.03    CUDA Version: 11.2     |\n",
            "|-------------------------------+----------------------+----------------------+\n",
            "| GPU  Name        Persistence-M| Bus-Id        Disp.A | Volatile Uncorr. ECC |\n",
            "| Fan  Temp  Perf  Pwr:Usage/Cap|         Memory-Usage | GPU-Util  Compute M. |\n",
            "|                               |                      |               MIG M. |\n",
            "|===============================+======================+======================|\n",
            "|   0  Tesla P100-PCIE...  Off  | 00000000:00:04.0 Off |                    0 |\n",
            "| N/A   35C    P0    28W / 250W |      0MiB / 16280MiB |      0%      Default |\n",
            "|                               |                      |                  N/A |\n",
            "+-------------------------------+----------------------+----------------------+\n",
            "                                                                               \n",
            "+-----------------------------------------------------------------------------+\n",
            "| Processes:                                                                  |\n",
            "|  GPU   GI   CI        PID   Type   Process name                  GPU Memory |\n",
            "|        ID   ID                                                   Usage      |\n",
            "|=============================================================================|\n",
            "|  No running processes found                                                 |\n",
            "+-----------------------------------------------------------------------------+\n"
          ]
        }
      ]
    },
    {
      "cell_type": "code",
      "source": [
        "from psutil import virtual_memory\n",
        "ram_gb = virtual_memory().total / 1e9\n",
        "print('Your runtime has {:.1f} gigabytes of available RAM\\n'.format(ram_gb))\n",
        "\n",
        "if ram_gb < 20:\n",
        "  print('Not using a high-RAM runtime')\n",
        "else:\n",
        "  print('You are using a high-RAM runtime!')"
      ],
      "metadata": {
        "colab": {
          "base_uri": "https://localhost:8080/"
        },
        "id": "Kq_W9JJDczFA",
        "outputId": "78042a7a-6719-4b99-eeb1-711f57e3bc36"
      },
      "id": "Kq_W9JJDczFA",
      "execution_count": null,
      "outputs": [
        {
          "output_type": "stream",
          "name": "stdout",
          "text": [
            "Your runtime has 27.3 gigabytes of available RAM\n",
            "\n",
            "You are using a high-RAM runtime!\n"
          ]
        }
      ]
    },
    {
      "cell_type": "code",
      "execution_count": null,
      "id": "84eddad3",
      "metadata": {
        "id": "84eddad3"
      },
      "outputs": [],
      "source": [
        "from datetime import datetime\n",
        "import os\n",
        "import matplotlib\n",
        "import pandas as pd\n",
        "import numpy as np\n",
        "import matplotlib.pyplot as plt\n",
        "import seaborn as sns\n",
        "sns.set_style('whitegrid')\n",
        "\n",
        "from scipy import sparse\n",
        "from scipy.sparse import csc_matrix\n",
        "from sklearn.decomposition import TruncatedSVD\n",
        "\n",
        "np.random.seed(0)"
      ]
    },
    {
      "cell_type": "markdown",
      "id": "85495bf1",
      "metadata": {
        "id": "85495bf1"
      },
      "source": [
        "### Amazon product review   Dataset\n",
        "- https://www.kaggle.com/datasets/saurav9786/amazon-product-reviews?resource=download"
      ]
    },
    {
      "cell_type": "code",
      "source": [
        "!pip install gdown"
      ],
      "metadata": {
        "id": "3mSlGMHVpAt_",
        "colab": {
          "base_uri": "https://localhost:8080/"
        },
        "outputId": "4b1c92fe-a258-4fee-f961-562471309722"
      },
      "id": "3mSlGMHVpAt_",
      "execution_count": null,
      "outputs": [
        {
          "output_type": "stream",
          "name": "stdout",
          "text": [
            "Looking in indexes: https://pypi.org/simple, https://us-python.pkg.dev/colab-wheels/public/simple/\n",
            "Requirement already satisfied: gdown in /usr/local/lib/python3.7/dist-packages (4.4.0)\n",
            "Requirement already satisfied: filelock in /usr/local/lib/python3.7/dist-packages (from gdown) (3.8.0)\n",
            "Requirement already satisfied: six in /usr/local/lib/python3.7/dist-packages (from gdown) (1.15.0)\n",
            "Requirement already satisfied: requests[socks] in /usr/local/lib/python3.7/dist-packages (from gdown) (2.23.0)\n",
            "Requirement already satisfied: beautifulsoup4 in /usr/local/lib/python3.7/dist-packages (from gdown) (4.6.3)\n",
            "Requirement already satisfied: tqdm in /usr/local/lib/python3.7/dist-packages (from gdown) (4.64.0)\n",
            "Requirement already satisfied: certifi>=2017.4.17 in /usr/local/lib/python3.7/dist-packages (from requests[socks]->gdown) (2022.6.15)\n",
            "Requirement already satisfied: chardet<4,>=3.0.2 in /usr/local/lib/python3.7/dist-packages (from requests[socks]->gdown) (3.0.4)\n",
            "Requirement already satisfied: urllib3!=1.25.0,!=1.25.1,<1.26,>=1.21.1 in /usr/local/lib/python3.7/dist-packages (from requests[socks]->gdown) (1.24.3)\n",
            "Requirement already satisfied: idna<3,>=2.5 in /usr/local/lib/python3.7/dist-packages (from requests[socks]->gdown) (2.10)\n",
            "Requirement already satisfied: PySocks!=1.5.7,>=1.5.6 in /usr/local/lib/python3.7/dist-packages (from requests[socks]->gdown) (1.7.1)\n"
          ]
        }
      ]
    },
    {
      "cell_type": "code",
      "source": [
        "!gdown https://drive.google.com/uc?id=1dFuCcqIO0_vQcNg_47Ondz3akBG1ojzb"
      ],
      "metadata": {
        "colab": {
          "base_uri": "https://localhost:8080/"
        },
        "id": "JN6L-XVUpDB3",
        "outputId": "7499bad8-0be7-43eb-ebaa-674f6597e799"
      },
      "id": "JN6L-XVUpDB3",
      "execution_count": null,
      "outputs": [
        {
          "output_type": "stream",
          "name": "stdout",
          "text": [
            "Downloading...\n",
            "From: https://drive.google.com/uc?id=1dFuCcqIO0_vQcNg_47Ondz3akBG1ojzb\n",
            "To: /content/ratings_Electronics.csv\n",
            "100% 319M/319M [00:02<00:00, 124MB/s] \n"
          ]
        }
      ]
    },
    {
      "cell_type": "code",
      "source": [
        "g=pd.read_csv('ratings_Electronics.csv')"
      ],
      "metadata": {
        "id": "jMmXpU8gJjRc"
      },
      "id": "jMmXpU8gJjRc",
      "execution_count": null,
      "outputs": []
    },
    {
      "cell_type": "code",
      "execution_count": null,
      "id": "3fb6d6a6",
      "metadata": {
        "id": "3fb6d6a6"
      },
      "outputs": [],
      "source": [
        "rating_df =pd.read_csv('ratings_Electronics.csv',  names=['userID','itemID','rating','time'])\n",
        "rating_df=rating_df[['userID','itemID','rating','time']]\n",
        "\n"
      ]
    },
    {
      "cell_type": "code",
      "source": [
        "rating_df.dropna(inplace=True)"
      ],
      "metadata": {
        "id": "fH7Z6wSbTPT1"
      },
      "id": "fH7Z6wSbTPT1",
      "execution_count": null,
      "outputs": []
    },
    {
      "cell_type": "code",
      "source": [
        "\n",
        "rating_df[\"itemID\"] = rating_df[\"itemID\"].astype(str)\n",
        "rating_df[\"userID\"] = rating_df[\"userID\"].astype(str)"
      ],
      "metadata": {
        "id": "sZPaHa4i-oAr"
      },
      "id": "sZPaHa4i-oAr",
      "execution_count": null,
      "outputs": []
    },
    {
      "cell_type": "markdown",
      "source": [
        "### Prepare dataset"
      ],
      "metadata": {
        "id": "hz3Ofz-0pTS8"
      },
      "id": "hz3Ofz-0pTS8"
    },
    {
      "cell_type": "code",
      "source": [
        "unique_users = rating_df.userID.unique()\n",
        "user_ids = dict(zip(unique_users, np.arange(unique_users.shape[0], dtype=np.int32)))\n",
        "\n",
        "unique_items = rating_df.itemID.unique()\n",
        "item_ids = dict(zip(unique_items, np.arange(unique_items.shape[0], dtype=np.int32)))"
      ],
      "metadata": {
        "id": "PgNs7RtdpgsF"
      },
      "id": "PgNs7RtdpgsF",
      "execution_count": null,
      "outputs": []
    },
    {
      "cell_type": "code",
      "source": [
        "product_ids = list(set(list(rating_df.itemID.unique())))\n",
        "user_ids = list(set(list(rating_df.userID.unique())))"
      ],
      "metadata": {
        "id": "L0pWDQrppk3k"
      },
      "id": "L0pWDQrppk3k",
      "execution_count": null,
      "outputs": []
    },
    {
      "cell_type": "markdown",
      "source": [
        "## Analysis on rating distribution"
      ],
      "metadata": {
        "id": "CrBJt0YaimeN"
      },
      "id": "CrBJt0YaimeN"
    },
    {
      "cell_type": "code",
      "source": [
        "import seaborn as sns"
      ],
      "metadata": {
        "id": "Pf0i-JT6Z5Et"
      },
      "id": "Pf0i-JT6Z5Et",
      "execution_count": null,
      "outputs": []
    },
    {
      "cell_type": "code",
      "source": [
        "\n",
        "sns.distplot(x = rating_df['rating'], bins = 10)"
      ],
      "metadata": {
        "colab": {
          "base_uri": "https://localhost:8080/",
          "height": 340
        },
        "id": "PoYFLGM9aAXV",
        "outputId": "327fbeaa-77c7-44f6-8e73-ad8dbce1e6ad"
      },
      "id": "PoYFLGM9aAXV",
      "execution_count": null,
      "outputs": [
        {
          "output_type": "stream",
          "name": "stderr",
          "text": [
            "/usr/local/lib/python3.7/dist-packages/seaborn/distributions.py:2619: FutureWarning: `distplot` is a deprecated function and will be removed in a future version. Please adapt your code to use either `displot` (a figure-level function with similar flexibility) or `histplot` (an axes-level function for histograms).\n",
            "  warnings.warn(msg, FutureWarning)\n"
          ]
        },
        {
          "output_type": "execute_result",
          "data": {
            "text/plain": [
              "<matplotlib.axes._subplots.AxesSubplot at 0x7f79350b5410>"
            ]
          },
          "metadata": {},
          "execution_count": 13
        },
        {
          "output_type": "display_data",
          "data": {
            "text/plain": [
              "<Figure size 432x288 with 1 Axes>"
            ],
            "image/png": "[encoded data removed]"
          },
          "metadata": {}
        }
      ]
    },
    {
      "cell_type": "code",
      "source": [
        "rating_dist=pd.DataFrame(rating_df.groupby('rating', as_index=False)['rating'].agg(['count'])).sort_values(by=['count'],ascending=[False])\n",
        "rating_dist"
      ],
      "metadata": {
        "colab": {
          "base_uri": "https://localhost:8080/",
          "height": 237
        },
        "id": "H7SxGoK-aPZs",
        "outputId": "d9c67396-958e-4e25-d9bf-10a7a7515d9d"
      },
      "id": "H7SxGoK-aPZs",
      "execution_count": null,
      "outputs": [
        {
          "output_type": "execute_result",
          "data": {
            "text/plain": [
              "          count\n",
              "rating         \n",
              "5.0     4347541\n",
              "4.0     1485781\n",
              "1.0      901765\n",
              "3.0      633073\n",
              "2.0      456322"
            ],
            "text/html": [
              "\n",
              "  <div id=\"df-cced141a-c0ec-4aef-909c-615503b7c057\">\n",
              "    <div class=\"colab-df-container\">\n",
              "      <div>\n",
              "<style scoped>\n",
              "    .dataframe tbody tr th:only-of-type {\n",
              "        vertical-align: middle;\n",
              "    }\n",
              "\n",
              "    .dataframe tbody tr th {\n",
              "        vertical-align: top;\n",
              "    }\n",
              "\n",
              "    .dataframe thead th {\n",
              "        text-align: right;\n",
              "    }\n",
              "</style>\n",
              "<table border=\"1\" class=\"dataframe\">\n",
              "  <thead>\n",
              "    <tr style=\"text-align: right;\">\n",
              "      <th></th>\n",
              "      <th>count</th>\n",
              "    </tr>\n",
              "    <tr>\n",
              "      <th>rating</th>\n",
              "      <th></th>\n",
              "    </tr>\n",
              "  </thead>\n",
              "  <tbody>\n",
              "    <tr>\n",
              "      <th>5.0</th>\n",
              "      <td>4347541</td>\n",
              "    </tr>\n",
              "    <tr>\n",
              "      <th>4.0</th>\n",
              "      <td>1485781</td>\n",
              "    </tr>\n",
              "    <tr>\n",
              "      <th>1.0</th>\n",
              "      <td>901765</td>\n",
              "    </tr>\n",
              "    <tr>\n",
              "      <th>3.0</th>\n",
              "      <td>633073</td>\n",
              "    </tr>\n",
              "    <tr>\n",
              "      <th>2.0</th>\n",
              "      <td>456322</td>\n",
              "    </tr>\n",
              "  </tbody>\n",
              "</table>\n",
              "</div>\n",
              "      <button class=\"colab-df-convert\" onclick=\"convertToInteractive('df-cced141a-c0ec-4aef-909c-615503b7c057')\"\n",
              "              title=\"Convert this dataframe to an interactive table.\"\n",
              "              style=\"display:none;\">\n",
              "        \n",
              "  <svg xmlns=\"http://www.w3.org/2000/svg\" height=\"24px\"viewBox=\"0 0 24 24\"\n",
              "       width=\"24px\">\n",
              "    <path d=\"M0 0h24v24H0V0z\" fill=\"none\"/>\n",
              "    <path d=\"M18.56 5.44l.94 2.06.94-2.06 2.06-.94-2.06-.94-.94-2.06-.94 2.06-2.06.94zm-11 1L8.5 8.5l.94-2.06 2.06-.94-2.06-.94L8.5 2.5l-.94 2.06-2.06.94zm10 10l.94 2.06.94-2.06 2.06-.94-2.06-.94-.94-2.06-.94 2.06-2.06.94z\"/><path d=\"M17.41 7.96l-1.37-1.37c-.4-.4-.92-.59-1.43-.59-.52 0-1.04.2-1.43.59L10.3 9.45l-7.72 7.72c-.78.78-.78 2.05 0 2.83L4 21.41c.39.39.9.59 1.41.59.51 0 1.02-.2 1.41-.59l7.78-7.78 2.81-2.81c.8-.78.8-2.07 0-2.86zM5.41 20L4 18.59l7.72-7.72 1.47 1.35L5.41 20z\"/>\n",
              "  </svg>\n",
              "      </button>\n",
              "      \n",
              "  <style>\n",
              "    .colab-df-container {\n",
              "      display:flex;\n",
              "      flex-wrap:wrap;\n",
              "      gap: 12px;\n",
              "    }\n",
              "\n",
              "    .colab-df-convert {\n",
              "      background-color: #E8F0FE;\n",
              "      border: none;\n",
              "      border-radius: 50%;\n",
              "      cursor: pointer;\n",
              "      display: none;\n",
              "      fill: #1967D2;\n",
              "      height: 32px;\n",
              "      padding: 0 0 0 0;\n",
              "      width: 32px;\n",
              "    }\n",
              "\n",
              "    .colab-df-convert:hover {\n",
              "      background-color: #E2EBFA;\n",
              "      box-shadow: 0px 1px 2px rgba(60, 64, 67, 0.3), 0px 1px 3px 1px rgba(60, 64, 67, 0.15);\n",
              "      fill: #174EA6;\n",
              "    }\n",
              "\n",
              "    [theme=dark] .colab-df-convert {\n",
              "      background-color: #3B4455;\n",
              "      fill: #D2E3FC;\n",
              "    }\n",
              "\n",
              "    [theme=dark] .colab-df-convert:hover {\n",
              "      background-color: #434B5C;\n",
              "      box-shadow: 0px 1px 3px 1px rgba(0, 0, 0, 0.15);\n",
              "      filter: drop-shadow(0px 1px 2px rgba(0, 0, 0, 0.3));\n",
              "      fill: #FFFFFF;\n",
              "    }\n",
              "  </style>\n",
              "\n",
              "      <script>\n",
              "        const buttonEl =\n",
              "          document.querySelector('#df-cced141a-c0ec-4aef-909c-615503b7c057 button.colab-df-convert');\n",
              "        buttonEl.style.display =\n",
              "          google.colab.kernel.accessAllowed ? 'block' : 'none';\n",
              "\n",
              "        async function convertToInteractive(key) {\n",
              "          const element = document.querySelector('#df-cced141a-c0ec-4aef-909c-615503b7c057');\n",
              "          const dataTable =\n",
              "            await google.colab.kernel.invokeFunction('convertToInteractive',\n",
              "                                                     [key], {});\n",
              "          if (!dataTable) return;\n",
              "\n",
              "          const docLinkHtml = 'Like what you see? Visit the ' +\n",
              "            '<a target=\"_blank\" href=https://colab.research.google.com/notebooks/data_table.ipynb>data table notebook</a>'\n",
              "            + ' to learn more about interactive tables.';\n",
              "          element.innerHTML = '';\n",
              "          dataTable['output_type'] = 'display_data';\n",
              "          await google.colab.output.renderOutput(dataTable, element);\n",
              "          const docLink = document.createElement('div');\n",
              "          docLink.innerHTML = docLinkHtml;\n",
              "          element.appendChild(docLink);\n",
              "        }\n",
              "      </script>\n",
              "    </div>\n",
              "  </div>\n",
              "  "
            ]
          },
          "metadata": {},
          "execution_count": 14
        }
      ]
    },
    {
      "cell_type": "markdown",
      "source": [
        "Observations :\n",
        "Avarage rating somewhat above 3"
      ],
      "metadata": {
        "id": "4uSLW6S8KXPT"
      },
      "id": "4uSLW6S8KXPT"
    },
    {
      "cell_type": "markdown",
      "source": [
        "### Analyse on impact of time"
      ],
      "metadata": {
        "id": "w1LD_K_QAD26"
      },
      "id": "w1LD_K_QAD26"
    },
    {
      "cell_type": "code",
      "source": [
        "\n",
        "rating_df['date']=rating_df['time']"
      ],
      "metadata": {
        "id": "dOZm6PK2Kl6-"
      },
      "id": "dOZm6PK2Kl6-",
      "execution_count": null,
      "outputs": []
    },
    {
      "cell_type": "code",
      "source": [
        "\n",
        "rating_df['date']=rating_df.date.apply(lambda x: pd.datetime.fromtimestamp(x).date())"
      ],
      "metadata": {
        "colab": {
          "base_uri": "https://localhost:8080/"
        },
        "id": "4fpuSfXpLmYP",
        "outputId": "6920a678-8640-49ec-ca34-08e40acc44d6"
      },
      "id": "4fpuSfXpLmYP",
      "execution_count": null,
      "outputs": [
        {
          "output_type": "stream",
          "name": "stderr",
          "text": [
            "/usr/local/lib/python3.7/dist-packages/ipykernel_launcher.py:1: FutureWarning: The pandas.datetime class is deprecated and will be removed from pandas in a future version. Import from datetime module instead.\n",
            "  \"\"\"Entry point for launching an IPython kernel.\n"
          ]
        }
      ]
    },
    {
      "cell_type": "code",
      "source": [
        "rating_df.sort_values(by=\"time\",ascending=False).head(10)"
      ],
      "metadata": {
        "colab": {
          "base_uri": "https://localhost:8080/",
          "height": 363
        },
        "id": "kNiThI9TKl9s",
        "outputId": "07b63626-6d84-4a5a-dbf9-e4b841f6e789"
      },
      "id": "kNiThI9TKl9s",
      "execution_count": null,
      "outputs": [
        {
          "output_type": "execute_result",
          "data": {
            "text/plain": [
              "                 userID      itemID  rating        time        date\n",
              "7516086  A1NXNMRAVPGTO3  B00E98O7GC     5.0  1406073600  2014-07-23\n",
              "7807561  A1TC07CJU8ROQ2  B00J5OTUOY     5.0  1406073600  2014-07-23\n",
              "6242775  A2A50YBMOFB4S6  B008HZ595G     5.0  1406073600  2014-07-23\n",
              "7818529  A30T7JS6OLIYXW  B00K36GUQO     5.0  1406073600  2014-07-23\n",
              "7823041   ATINSLZVUUGME  B00KMRGF28     5.0  1406073600  2014-07-23\n",
              "4505389  A3SBTW3WS4IQSN  B004VFGK1I     4.0  1406073600  2014-07-23\n",
              "7818545  A3VS8VEZBH3KZ7  B00K3EPUZ8     5.0  1406073600  2014-07-23\n",
              "7807554   AYE0UDHU7HZB9  B00J5OTUOY     5.0  1406073600  2014-07-23\n",
              "7823061  A2IFGGXG3YV3Y6  B00KMRGF28     4.0  1406073600  2014-07-23\n",
              "7807565  A1ONP6JYLWATJ5  B00J5OTUOY     5.0  1406073600  2014-07-23"
            ],
            "text/html": [
              "\n",
              "  <div id=\"df-74f08ebb-b095-47ba-9036-917de4f7863d\">\n",
              "    <div class=\"colab-df-container\">\n",
              "      <div>\n",
              "<style scoped>\n",
              "    .dataframe tbody tr th:only-of-type {\n",
              "        vertical-align: middle;\n",
              "    }\n",
              "\n",
              "    .dataframe tbody tr th {\n",
              "        vertical-align: top;\n",
              "    }\n",
              "\n",
              "    .dataframe thead th {\n",
              "        text-align: right;\n",
              "    }\n",
              "</style>\n",
              "<table border=\"1\" class=\"dataframe\">\n",
              "  <thead>\n",
              "    <tr style=\"text-align: right;\">\n",
              "      <th></th>\n",
              "      <th>userID</th>\n",
              "      <th>itemID</th>\n",
              "      <th>rating</th>\n",
              "      <th>time</th>\n",
              "      <th>date</th>\n",
              "    </tr>\n",
              "  </thead>\n",
              "  <tbody>\n",
              "    <tr>\n",
              "      <th>7516086</th>\n",
              "      <td>A1NXNMRAVPGTO3</td>\n",
              "      <td>B00E98O7GC</td>\n",
              "      <td>5.0</td>\n",
              "      <td>1406073600</td>\n",
              "      <td>2014-07-23</td>\n",
              "    </tr>\n",
              "    <tr>\n",
              "      <th>7807561</th>\n",
              "      <td>A1TC07CJU8ROQ2</td>\n",
              "      <td>B00J5OTUOY</td>\n",
              "      <td>5.0</td>\n",
              "      <td>1406073600</td>\n",
              "      <td>2014-07-23</td>\n",
              "    </tr>\n",
              "    <tr>\n",
              "      <th>6242775</th>\n",
              "      <td>A2A50YBMOFB4S6</td>\n",
              "      <td>B008HZ595G</td>\n",
              "      <td>5.0</td>\n",
              "      <td>1406073600</td>\n",
              "      <td>2014-07-23</td>\n",
              "    </tr>\n",
              "    <tr>\n",
              "      <th>7818529</th>\n",
              "      <td>A30T7JS6OLIYXW</td>\n",
              "      <td>B00K36GUQO</td>\n",
              "      <td>5.0</td>\n",
              "      <td>1406073600</td>\n",
              "      <td>2014-07-23</td>\n",
              "    </tr>\n",
              "    <tr>\n",
              "      <th>7823041</th>\n",
              "      <td>ATINSLZVUUGME</td>\n",
              "      <td>B00KMRGF28</td>\n",
              "      <td>5.0</td>\n",
              "      <td>1406073600</td>\n",
              "      <td>2014-07-23</td>\n",
              "    </tr>\n",
              "    <tr>\n",
              "      <th>4505389</th>\n",
              "      <td>A3SBTW3WS4IQSN</td>\n",
              "      <td>B004VFGK1I</td>\n",
              "      <td>4.0</td>\n",
              "      <td>1406073600</td>\n",
              "      <td>2014-07-23</td>\n",
              "    </tr>\n",
              "    <tr>\n",
              "      <th>7818545</th>\n",
              "      <td>A3VS8VEZBH3KZ7</td>\n",
              "      <td>B00K3EPUZ8</td>\n",
              "      <td>5.0</td>\n",
              "      <td>1406073600</td>\n",
              "      <td>2014-07-23</td>\n",
              "    </tr>\n",
              "    <tr>\n",
              "      <th>7807554</th>\n",
              "      <td>AYE0UDHU7HZB9</td>\n",
              "      <td>B00J5OTUOY</td>\n",
              "      <td>5.0</td>\n",
              "      <td>1406073600</td>\n",
              "      <td>2014-07-23</td>\n",
              "    </tr>\n",
              "    <tr>\n",
              "      <th>7823061</th>\n",
              "      <td>A2IFGGXG3YV3Y6</td>\n",
              "      <td>B00KMRGF28</td>\n",
              "      <td>4.0</td>\n",
              "      <td>1406073600</td>\n",
              "      <td>2014-07-23</td>\n",
              "    </tr>\n",
              "    <tr>\n",
              "      <th>7807565</th>\n",
              "      <td>A1ONP6JYLWATJ5</td>\n",
              "      <td>B00J5OTUOY</td>\n",
              "      <td>5.0</td>\n",
              "      <td>1406073600</td>\n",
              "      <td>2014-07-23</td>\n",
              "    </tr>\n",
              "  </tbody>\n",
              "</table>\n",
              "</div>\n",
              "      <button class=\"colab-df-convert\" onclick=\"convertToInteractive('df-74f08ebb-b095-47ba-9036-917de4f7863d')\"\n",
              "              title=\"Convert this dataframe to an interactive table.\"\n",
              "              style=\"display:none;\">\n",
              "        \n",
              "  <svg xmlns=\"http://www.w3.org/2000/svg\" height=\"24px\"viewBox=\"0 0 24 24\"\n",
              "       width=\"24px\">\n",
              "    <path d=\"M0 0h24v24H0V0z\" fill=\"none\"/>\n",
              "    <path d=\"M18.56 5.44l.94 2.06.94-2.06 2.06-.94-2.06-.94-.94-2.06-.94 2.06-2.06.94zm-11 1L8.5 8.5l.94-2.06 2.06-.94-2.06-.94L8.5 2.5l-.94 2.06-2.06.94zm10 10l.94 2.06.94-2.06 2.06-.94-2.06-.94-.94-2.06-.94 2.06-2.06.94z\"/><path d=\"M17.41 7.96l-1.37-1.37c-.4-.4-.92-.59-1.43-.59-.52 0-1.04.2-1.43.59L10.3 9.45l-7.72 7.72c-.78.78-.78 2.05 0 2.83L4 21.41c.39.39.9.59 1.41.59.51 0 1.02-.2 1.41-.59l7.78-7.78 2.81-2.81c.8-.78.8-2.07 0-2.86zM5.41 20L4 18.59l7.72-7.72 1.47 1.35L5.41 20z\"/>\n",
              "  </svg>\n",
              "      </button>\n",
              "      \n",
              "  <style>\n",
              "    .colab-df-container {\n",
              "      display:flex;\n",
              "      flex-wrap:wrap;\n",
              "      gap: 12px;\n",
              "    }\n",
              "\n",
              "    .colab-df-convert {\n",
              "      background-color: #E8F0FE;\n",
              "      border: none;\n",
              "      border-radius: 50%;\n",
              "      cursor: pointer;\n",
              "      display: none;\n",
              "      fill: #1967D2;\n",
              "      height: 32px;\n",
              "      padding: 0 0 0 0;\n",
              "      width: 32px;\n",
              "    }\n",
              "\n",
              "    .colab-df-convert:hover {\n",
              "      background-color: #E2EBFA;\n",
              "      box-shadow: 0px 1px 2px rgba(60, 64, 67, 0.3), 0px 1px 3px 1px rgba(60, 64, 67, 0.15);\n",
              "      fill: #174EA6;\n",
              "    }\n",
              "\n",
              "    [theme=dark] .colab-df-convert {\n",
              "      background-color: #3B4455;\n",
              "      fill: #D2E3FC;\n",
              "    }\n",
              "\n",
              "    [theme=dark] .colab-df-convert:hover {\n",
              "      background-color: #434B5C;\n",
              "      box-shadow: 0px 1px 3px 1px rgba(0, 0, 0, 0.15);\n",
              "      filter: drop-shadow(0px 1px 2px rgba(0, 0, 0, 0.3));\n",
              "      fill: #FFFFFF;\n",
              "    }\n",
              "  </style>\n",
              "\n",
              "      <script>\n",
              "        const buttonEl =\n",
              "          document.querySelector('#df-74f08ebb-b095-47ba-9036-917de4f7863d button.colab-df-convert');\n",
              "        buttonEl.style.display =\n",
              "          google.colab.kernel.accessAllowed ? 'block' : 'none';\n",
              "\n",
              "        async function convertToInteractive(key) {\n",
              "          const element = document.querySelector('#df-74f08ebb-b095-47ba-9036-917de4f7863d');\n",
              "          const dataTable =\n",
              "            await google.colab.kernel.invokeFunction('convertToInteractive',\n",
              "                                                     [key], {});\n",
              "          if (!dataTable) return;\n",
              "\n",
              "          const docLinkHtml = 'Like what you see? Visit the ' +\n",
              "            '<a target=\"_blank\" href=https://colab.research.google.com/notebooks/data_table.ipynb>data table notebook</a>'\n",
              "            + ' to learn more about interactive tables.';\n",
              "          element.innerHTML = '';\n",
              "          dataTable['output_type'] = 'display_data';\n",
              "          await google.colab.output.renderOutput(dataTable, element);\n",
              "          const docLink = document.createElement('div');\n",
              "          docLink.innerHTML = docLinkHtml;\n",
              "          element.appendChild(docLink);\n",
              "        }\n",
              "      </script>\n",
              "    </div>\n",
              "  </div>\n",
              "  "
            ]
          },
          "metadata": {},
          "execution_count": 17
        }
      ]
    },
    {
      "cell_type": "code",
      "source": [
        "avg_rating_df = rating_df.groupby('itemID').mean()['rating'].reset_index()\n",
        "avg_rating_df.rename(columns={'rating':'avg_rating'},inplace=True)\n",
        "avg_rating_df.sort_values('avg_rating', ascending=[False]).head(10)\n"
      ],
      "metadata": {
        "colab": {
          "base_uri": "https://localhost:8080/",
          "height": 363
        },
        "id": "-CA24EcEMOJY",
        "outputId": "c257f598-c7db-4da6-f718-673fe84cff35"
      },
      "id": "-CA24EcEMOJY",
      "execution_count": null,
      "outputs": [
        {
          "output_type": "execute_result",
          "data": {
            "text/plain": [
              "            itemID  avg_rating\n",
              "0       0132793040         5.0\n",
              "242131  B004SGH244         5.0\n",
              "242641  B004SQBRRM         5.0\n",
              "242642  B004SQC6O0         5.0\n",
              "242644  B004SQE6YI         5.0\n",
              "242649  B004SQFFCK         5.0\n",
              "242661  B004SQOR0G         5.0\n",
              "242672  B004SQVHU4         5.0\n",
              "242674  B004SQX8W4         5.0\n",
              "242677  B004SQYSUK         5.0"
            ],
            "text/html": [
              "\n",
              "  <div id=\"df-e47712f0-12b5-4751-9ce5-9b2763175c43\">\n",
              "    <div class=\"colab-df-container\">\n",
              "      <div>\n",
              "<style scoped>\n",
              "    .dataframe tbody tr th:only-of-type {\n",
              "        vertical-align: middle;\n",
              "    }\n",
              "\n",
              "    .dataframe tbody tr th {\n",
              "        vertical-align: top;\n",
              "    }\n",
              "\n",
              "    .dataframe thead th {\n",
              "        text-align: right;\n",
              "    }\n",
              "</style>\n",
              "<table border=\"1\" class=\"dataframe\">\n",
              "  <thead>\n",
              "    <tr style=\"text-align: right;\">\n",
              "      <th></th>\n",
              "      <th>itemID</th>\n",
              "      <th>avg_rating</th>\n",
              "    </tr>\n",
              "  </thead>\n",
              "  <tbody>\n",
              "    <tr>\n",
              "      <th>0</th>\n",
              "      <td>0132793040</td>\n",
              "      <td>5.0</td>\n",
              "    </tr>\n",
              "    <tr>\n",
              "      <th>242131</th>\n",
              "      <td>B004SGH244</td>\n",
              "      <td>5.0</td>\n",
              "    </tr>\n",
              "    <tr>\n",
              "      <th>242641</th>\n",
              "      <td>B004SQBRRM</td>\n",
              "      <td>5.0</td>\n",
              "    </tr>\n",
              "    <tr>\n",
              "      <th>242642</th>\n",
              "      <td>B004SQC6O0</td>\n",
              "      <td>5.0</td>\n",
              "    </tr>\n",
              "    <tr>\n",
              "      <th>242644</th>\n",
              "      <td>B004SQE6YI</td>\n",
              "      <td>5.0</td>\n",
              "    </tr>\n",
              "    <tr>\n",
              "      <th>242649</th>\n",
              "      <td>B004SQFFCK</td>\n",
              "      <td>5.0</td>\n",
              "    </tr>\n",
              "    <tr>\n",
              "      <th>242661</th>\n",
              "      <td>B004SQOR0G</td>\n",
              "      <td>5.0</td>\n",
              "    </tr>\n",
              "    <tr>\n",
              "      <th>242672</th>\n",
              "      <td>B004SQVHU4</td>\n",
              "      <td>5.0</td>\n",
              "    </tr>\n",
              "    <tr>\n",
              "      <th>242674</th>\n",
              "      <td>B004SQX8W4</td>\n",
              "      <td>5.0</td>\n",
              "    </tr>\n",
              "    <tr>\n",
              "      <th>242677</th>\n",
              "      <td>B004SQYSUK</td>\n",
              "      <td>5.0</td>\n",
              "    </tr>\n",
              "  </tbody>\n",
              "</table>\n",
              "</div>\n",
              "      <button class=\"colab-df-convert\" onclick=\"convertToInteractive('df-e47712f0-12b5-4751-9ce5-9b2763175c43')\"\n",
              "              title=\"Convert this dataframe to an interactive table.\"\n",
              "              style=\"display:none;\">\n",
              "        \n",
              "  <svg xmlns=\"http://www.w3.org/2000/svg\" height=\"24px\"viewBox=\"0 0 24 24\"\n",
              "       width=\"24px\">\n",
              "    <path d=\"M0 0h24v24H0V0z\" fill=\"none\"/>\n",
              "    <path d=\"M18.56 5.44l.94 2.06.94-2.06 2.06-.94-2.06-.94-.94-2.06-.94 2.06-2.06.94zm-11 1L8.5 8.5l.94-2.06 2.06-.94-2.06-.94L8.5 2.5l-.94 2.06-2.06.94zm10 10l.94 2.06.94-2.06 2.06-.94-2.06-.94-.94-2.06-.94 2.06-2.06.94z\"/><path d=\"M17.41 7.96l-1.37-1.37c-.4-.4-.92-.59-1.43-.59-.52 0-1.04.2-1.43.59L10.3 9.45l-7.72 7.72c-.78.78-.78 2.05 0 2.83L4 21.41c.39.39.9.59 1.41.59.51 0 1.02-.2 1.41-.59l7.78-7.78 2.81-2.81c.8-.78.8-2.07 0-2.86zM5.41 20L4 18.59l7.72-7.72 1.47 1.35L5.41 20z\"/>\n",
              "  </svg>\n",
              "      </button>\n",
              "      \n",
              "  <style>\n",
              "    .colab-df-container {\n",
              "      display:flex;\n",
              "      flex-wrap:wrap;\n",
              "      gap: 12px;\n",
              "    }\n",
              "\n",
              "    .colab-df-convert {\n",
              "      background-color: #E8F0FE;\n",
              "      border: none;\n",
              "      border-radius: 50%;\n",
              "      cursor: pointer;\n",
              "      display: none;\n",
              "      fill: #1967D2;\n",
              "      height: 32px;\n",
              "      padding: 0 0 0 0;\n",
              "      width: 32px;\n",
              "    }\n",
              "\n",
              "    .colab-df-convert:hover {\n",
              "      background-color: #E2EBFA;\n",
              "      box-shadow: 0px 1px 2px rgba(60, 64, 67, 0.3), 0px 1px 3px 1px rgba(60, 64, 67, 0.15);\n",
              "      fill: #174EA6;\n",
              "    }\n",
              "\n",
              "    [theme=dark] .colab-df-convert {\n",
              "      background-color: #3B4455;\n",
              "      fill: #D2E3FC;\n",
              "    }\n",
              "\n",
              "    [theme=dark] .colab-df-convert:hover {\n",
              "      background-color: #434B5C;\n",
              "      box-shadow: 0px 1px 3px 1px rgba(0, 0, 0, 0.15);\n",
              "      filter: drop-shadow(0px 1px 2px rgba(0, 0, 0, 0.3));\n",
              "      fill: #FFFFFF;\n",
              "    }\n",
              "  </style>\n",
              "\n",
              "      <script>\n",
              "        const buttonEl =\n",
              "          document.querySelector('#df-e47712f0-12b5-4751-9ce5-9b2763175c43 button.colab-df-convert');\n",
              "        buttonEl.style.display =\n",
              "          google.colab.kernel.accessAllowed ? 'block' : 'none';\n",
              "\n",
              "        async function convertToInteractive(key) {\n",
              "          const element = document.querySelector('#df-e47712f0-12b5-4751-9ce5-9b2763175c43');\n",
              "          const dataTable =\n",
              "            await google.colab.kernel.invokeFunction('convertToInteractive',\n",
              "                                                     [key], {});\n",
              "          if (!dataTable) return;\n",
              "\n",
              "          const docLinkHtml = 'Like what you see? Visit the ' +\n",
              "            '<a target=\"_blank\" href=https://colab.research.google.com/notebooks/data_table.ipynb>data table notebook</a>'\n",
              "            + ' to learn more about interactive tables.';\n",
              "          element.innerHTML = '';\n",
              "          dataTable['output_type'] = 'display_data';\n",
              "          await google.colab.output.renderOutput(dataTable, element);\n",
              "          const docLink = document.createElement('div');\n",
              "          docLink.innerHTML = docLinkHtml;\n",
              "          element.appendChild(docLink);\n",
              "        }\n",
              "      </script>\n",
              "    </div>\n",
              "  </div>\n",
              "  "
            ]
          },
          "metadata": {},
          "execution_count": 18
        }
      ]
    },
    {
      "cell_type": "code",
      "source": [
        "total_rating_df = rating_df.groupby('itemID').count()['rating'].reset_index()\n",
        "total_rating_df.rename(columns={'rating':'num_ratings'},inplace=True)\n",
        "total_rating_df.sort_values('num_ratings', ascending=[False]).head(10)"
      ],
      "metadata": {
        "colab": {
          "base_uri": "https://localhost:8080/",
          "height": 363
        },
        "id": "aXNDI2RdKmA3",
        "outputId": "091dd697-46b1-43f8-eaba-32af3795eb18"
      },
      "id": "aXNDI2RdKmA3",
      "execution_count": null,
      "outputs": [
        {
          "output_type": "execute_result",
          "data": {
            "text/plain": [
              "            itemID  num_ratings\n",
              "308398  B0074BW614        18244\n",
              "429572  B00DR0PDNE        16454\n",
              "327308  B007WTAJTO        14172\n",
              "102804  B0019EHU8G        12285\n",
              "296625  B006GWO5WK        12226\n",
              "178601  B003ELYQGG        11617\n",
              "178813  B003ES5ZUU        10276\n",
              "323013  B007R5YDYA         9907\n",
              "289775  B00622AG6S         9823\n",
              "30276   B0002L5R78         9487"
            ],
            "text/html": [
              "\n",
              "  <div id=\"df-2cb10ce7-78ed-4e2f-9b78-47b2987a83cc\">\n",
              "    <div class=\"colab-df-container\">\n",
              "      <div>\n",
              "<style scoped>\n",
              "    .dataframe tbody tr th:only-of-type {\n",
              "        vertical-align: middle;\n",
              "    }\n",
              "\n",
              "    .dataframe tbody tr th {\n",
              "        vertical-align: top;\n",
              "    }\n",
              "\n",
              "    .dataframe thead th {\n",
              "        text-align: right;\n",
              "    }\n",
              "</style>\n",
              "<table border=\"1\" class=\"dataframe\">\n",
              "  <thead>\n",
              "    <tr style=\"text-align: right;\">\n",
              "      <th></th>\n",
              "      <th>itemID</th>\n",
              "      <th>num_ratings</th>\n",
              "    </tr>\n",
              "  </thead>\n",
              "  <tbody>\n",
              "    <tr>\n",
              "      <th>308398</th>\n",
              "      <td>B0074BW614</td>\n",
              "      <td>18244</td>\n",
              "    </tr>\n",
              "    <tr>\n",
              "      <th>429572</th>\n",
              "      <td>B00DR0PDNE</td>\n",
              "      <td>16454</td>\n",
              "    </tr>\n",
              "    <tr>\n",
              "      <th>327308</th>\n",
              "      <td>B007WTAJTO</td>\n",
              "      <td>14172</td>\n",
              "    </tr>\n",
              "    <tr>\n",
              "      <th>102804</th>\n",
              "      <td>B0019EHU8G</td>\n",
              "      <td>12285</td>\n",
              "    </tr>\n",
              "    <tr>\n",
              "      <th>296625</th>\n",
              "      <td>B006GWO5WK</td>\n",
              "      <td>12226</td>\n",
              "    </tr>\n",
              "    <tr>\n",
              "      <th>178601</th>\n",
              "      <td>B003ELYQGG</td>\n",
              "      <td>11617</td>\n",
              "    </tr>\n",
              "    <tr>\n",
              "      <th>178813</th>\n",
              "      <td>B003ES5ZUU</td>\n",
              "      <td>10276</td>\n",
              "    </tr>\n",
              "    <tr>\n",
              "      <th>323013</th>\n",
              "      <td>B007R5YDYA</td>\n",
              "      <td>9907</td>\n",
              "    </tr>\n",
              "    <tr>\n",
              "      <th>289775</th>\n",
              "      <td>B00622AG6S</td>\n",
              "      <td>9823</td>\n",
              "    </tr>\n",
              "    <tr>\n",
              "      <th>30276</th>\n",
              "      <td>B0002L5R78</td>\n",
              "      <td>9487</td>\n",
              "    </tr>\n",
              "  </tbody>\n",
              "</table>\n",
              "</div>\n",
              "      <button class=\"colab-df-convert\" onclick=\"convertToInteractive('df-2cb10ce7-78ed-4e2f-9b78-47b2987a83cc')\"\n",
              "              title=\"Convert this dataframe to an interactive table.\"\n",
              "              style=\"display:none;\">\n",
              "        \n",
              "  <svg xmlns=\"http://www.w3.org/2000/svg\" height=\"24px\"viewBox=\"0 0 24 24\"\n",
              "       width=\"24px\">\n",
              "    <path d=\"M0 0h24v24H0V0z\" fill=\"none\"/>\n",
              "    <path d=\"M18.56 5.44l.94 2.06.94-2.06 2.06-.94-2.06-.94-.94-2.06-.94 2.06-2.06.94zm-11 1L8.5 8.5l.94-2.06 2.06-.94-2.06-.94L8.5 2.5l-.94 2.06-2.06.94zm10 10l.94 2.06.94-2.06 2.06-.94-2.06-.94-.94-2.06-.94 2.06-2.06.94z\"/><path d=\"M17.41 7.96l-1.37-1.37c-.4-.4-.92-.59-1.43-.59-.52 0-1.04.2-1.43.59L10.3 9.45l-7.72 7.72c-.78.78-.78 2.05 0 2.83L4 21.41c.39.39.9.59 1.41.59.51 0 1.02-.2 1.41-.59l7.78-7.78 2.81-2.81c.8-.78.8-2.07 0-2.86zM5.41 20L4 18.59l7.72-7.72 1.47 1.35L5.41 20z\"/>\n",
              "  </svg>\n",
              "      </button>\n",
              "      \n",
              "  <style>\n",
              "    .colab-df-container {\n",
              "      display:flex;\n",
              "      flex-wrap:wrap;\n",
              "      gap: 12px;\n",
              "    }\n",
              "\n",
              "    .colab-df-convert {\n",
              "      background-color: #E8F0FE;\n",
              "      border: none;\n",
              "      border-radius: 50%;\n",
              "      cursor: pointer;\n",
              "      display: none;\n",
              "      fill: #1967D2;\n",
              "      height: 32px;\n",
              "      padding: 0 0 0 0;\n",
              "      width: 32px;\n",
              "    }\n",
              "\n",
              "    .colab-df-convert:hover {\n",
              "      background-color: #E2EBFA;\n",
              "      box-shadow: 0px 1px 2px rgba(60, 64, 67, 0.3), 0px 1px 3px 1px rgba(60, 64, 67, 0.15);\n",
              "      fill: #174EA6;\n",
              "    }\n",
              "\n",
              "    [theme=dark] .colab-df-convert {\n",
              "      background-color: #3B4455;\n",
              "      fill: #D2E3FC;\n",
              "    }\n",
              "\n",
              "    [theme=dark] .colab-df-convert:hover {\n",
              "      background-color: #434B5C;\n",
              "      box-shadow: 0px 1px 3px 1px rgba(0, 0, 0, 0.15);\n",
              "      filter: drop-shadow(0px 1px 2px rgba(0, 0, 0, 0.3));\n",
              "      fill: #FFFFFF;\n",
              "    }\n",
              "  </style>\n",
              "\n",
              "      <script>\n",
              "        const buttonEl =\n",
              "          document.querySelector('#df-2cb10ce7-78ed-4e2f-9b78-47b2987a83cc button.colab-df-convert');\n",
              "        buttonEl.style.display =\n",
              "          google.colab.kernel.accessAllowed ? 'block' : 'none';\n",
              "\n",
              "        async function convertToInteractive(key) {\n",
              "          const element = document.querySelector('#df-2cb10ce7-78ed-4e2f-9b78-47b2987a83cc');\n",
              "          const dataTable =\n",
              "            await google.colab.kernel.invokeFunction('convertToInteractive',\n",
              "                                                     [key], {});\n",
              "          if (!dataTable) return;\n",
              "\n",
              "          const docLinkHtml = 'Like what you see? Visit the ' +\n",
              "            '<a target=\"_blank\" href=https://colab.research.google.com/notebooks/data_table.ipynb>data table notebook</a>'\n",
              "            + ' to learn more about interactive tables.';\n",
              "          element.innerHTML = '';\n",
              "          dataTable['output_type'] = 'display_data';\n",
              "          await google.colab.output.renderOutput(dataTable, element);\n",
              "          const docLink = document.createElement('div');\n",
              "          docLink.innerHTML = docLinkHtml;\n",
              "          element.appendChild(docLink);\n",
              "        }\n",
              "      </script>\n",
              "    </div>\n",
              "  </div>\n",
              "  "
            ]
          },
          "metadata": {},
          "execution_count": 19
        }
      ]
    },
    {
      "cell_type": "code",
      "source": [
        "popular_list = total_rating_df.merge(avg_rating_df,on='itemID')\n",
        "popular_list=popular_list.sort_values(['num_ratings','avg_rating'], ascending=[False,False])\n",
        "popular_list.head(5)"
      ],
      "metadata": {
        "colab": {
          "base_uri": "https://localhost:8080/",
          "height": 206
        },
        "id": "2zzt9QWEMwSY",
        "outputId": "8ec79d64-1ea5-4ff5-f605-6ebcfd168b4c"
      },
      "id": "2zzt9QWEMwSY",
      "execution_count": null,
      "outputs": [
        {
          "output_type": "execute_result",
          "data": {
            "text/plain": [
              "            itemID  num_ratings  avg_rating\n",
              "308398  B0074BW614        18244    4.491504\n",
              "429572  B00DR0PDNE        16454    3.931020\n",
              "327308  B007WTAJTO        14172    4.424005\n",
              "102804  B0019EHU8G        12285    4.754497\n",
              "296625  B006GWO5WK        12226    4.314657"
            ],
            "text/html": [
              "\n",
              "  <div id=\"df-9d9e4458-9854-490d-9466-abed8cd5ea54\">\n",
              "    <div class=\"colab-df-container\">\n",
              "      <div>\n",
              "<style scoped>\n",
              "    .dataframe tbody tr th:only-of-type {\n",
              "        vertical-align: middle;\n",
              "    }\n",
              "\n",
              "    .dataframe tbody tr th {\n",
              "        vertical-align: top;\n",
              "    }\n",
              "\n",
              "    .dataframe thead th {\n",
              "        text-align: right;\n",
              "    }\n",
              "</style>\n",
              "<table border=\"1\" class=\"dataframe\">\n",
              "  <thead>\n",
              "    <tr style=\"text-align: right;\">\n",
              "      <th></th>\n",
              "      <th>itemID</th>\n",
              "      <th>num_ratings</th>\n",
              "      <th>avg_rating</th>\n",
              "    </tr>\n",
              "  </thead>\n",
              "  <tbody>\n",
              "    <tr>\n",
              "      <th>308398</th>\n",
              "      <td>B0074BW614</td>\n",
              "      <td>18244</td>\n",
              "      <td>4.491504</td>\n",
              "    </tr>\n",
              "    <tr>\n",
              "      <th>429572</th>\n",
              "      <td>B00DR0PDNE</td>\n",
              "      <td>16454</td>\n",
              "      <td>3.931020</td>\n",
              "    </tr>\n",
              "    <tr>\n",
              "      <th>327308</th>\n",
              "      <td>B007WTAJTO</td>\n",
              "      <td>14172</td>\n",
              "      <td>4.424005</td>\n",
              "    </tr>\n",
              "    <tr>\n",
              "      <th>102804</th>\n",
              "      <td>B0019EHU8G</td>\n",
              "      <td>12285</td>\n",
              "      <td>4.754497</td>\n",
              "    </tr>\n",
              "    <tr>\n",
              "      <th>296625</th>\n",
              "      <td>B006GWO5WK</td>\n",
              "      <td>12226</td>\n",
              "      <td>4.314657</td>\n",
              "    </tr>\n",
              "  </tbody>\n",
              "</table>\n",
              "</div>\n",
              "      <button class=\"colab-df-convert\" onclick=\"convertToInteractive('df-9d9e4458-9854-490d-9466-abed8cd5ea54')\"\n",
              "              title=\"Convert this dataframe to an interactive table.\"\n",
              "              style=\"display:none;\">\n",
              "        \n",
              "  <svg xmlns=\"http://www.w3.org/2000/svg\" height=\"24px\"viewBox=\"0 0 24 24\"\n",
              "       width=\"24px\">\n",
              "    <path d=\"M0 0h24v24H0V0z\" fill=\"none\"/>\n",
              "    <path d=\"M18.56 5.44l.94 2.06.94-2.06 2.06-.94-2.06-.94-.94-2.06-.94 2.06-2.06.94zm-11 1L8.5 8.5l.94-2.06 2.06-.94-2.06-.94L8.5 2.5l-.94 2.06-2.06.94zm10 10l.94 2.06.94-2.06 2.06-.94-2.06-.94-.94-2.06-.94 2.06-2.06.94z\"/><path d=\"M17.41 7.96l-1.37-1.37c-.4-.4-.92-.59-1.43-.59-.52 0-1.04.2-1.43.59L10.3 9.45l-7.72 7.72c-.78.78-.78 2.05 0 2.83L4 21.41c.39.39.9.59 1.41.59.51 0 1.02-.2 1.41-.59l7.78-7.78 2.81-2.81c.8-.78.8-2.07 0-2.86zM5.41 20L4 18.59l7.72-7.72 1.47 1.35L5.41 20z\"/>\n",
              "  </svg>\n",
              "      </button>\n",
              "      \n",
              "  <style>\n",
              "    .colab-df-container {\n",
              "      display:flex;\n",
              "      flex-wrap:wrap;\n",
              "      gap: 12px;\n",
              "    }\n",
              "\n",
              "    .colab-df-convert {\n",
              "      background-color: #E8F0FE;\n",
              "      border: none;\n",
              "      border-radius: 50%;\n",
              "      cursor: pointer;\n",
              "      display: none;\n",
              "      fill: #1967D2;\n",
              "      height: 32px;\n",
              "      padding: 0 0 0 0;\n",
              "      width: 32px;\n",
              "    }\n",
              "\n",
              "    .colab-df-convert:hover {\n",
              "      background-color: #E2EBFA;\n",
              "      box-shadow: 0px 1px 2px rgba(60, 64, 67, 0.3), 0px 1px 3px 1px rgba(60, 64, 67, 0.15);\n",
              "      fill: #174EA6;\n",
              "    }\n",
              "\n",
              "    [theme=dark] .colab-df-convert {\n",
              "      background-color: #3B4455;\n",
              "      fill: #D2E3FC;\n",
              "    }\n",
              "\n",
              "    [theme=dark] .colab-df-convert:hover {\n",
              "      background-color: #434B5C;\n",
              "      box-shadow: 0px 1px 3px 1px rgba(0, 0, 0, 0.15);\n",
              "      filter: drop-shadow(0px 1px 2px rgba(0, 0, 0, 0.3));\n",
              "      fill: #FFFFFF;\n",
              "    }\n",
              "  </style>\n",
              "\n",
              "      <script>\n",
              "        const buttonEl =\n",
              "          document.querySelector('#df-9d9e4458-9854-490d-9466-abed8cd5ea54 button.colab-df-convert');\n",
              "        buttonEl.style.display =\n",
              "          google.colab.kernel.accessAllowed ? 'block' : 'none';\n",
              "\n",
              "        async function convertToInteractive(key) {\n",
              "          const element = document.querySelector('#df-9d9e4458-9854-490d-9466-abed8cd5ea54');\n",
              "          const dataTable =\n",
              "            await google.colab.kernel.invokeFunction('convertToInteractive',\n",
              "                                                     [key], {});\n",
              "          if (!dataTable) return;\n",
              "\n",
              "          const docLinkHtml = 'Like what you see? Visit the ' +\n",
              "            '<a target=\"_blank\" href=https://colab.research.google.com/notebooks/data_table.ipynb>data table notebook</a>'\n",
              "            + ' to learn more about interactive tables.';\n",
              "          element.innerHTML = '';\n",
              "          dataTable['output_type'] = 'display_data';\n",
              "          await google.colab.output.renderOutput(dataTable, element);\n",
              "          const docLink = document.createElement('div');\n",
              "          docLink.innerHTML = docLinkHtml;\n",
              "          element.appendChild(docLink);\n",
              "        }\n",
              "      </script>\n",
              "    </div>\n",
              "  </div>\n",
              "  "
            ]
          },
          "metadata": {},
          "execution_count": 20
        }
      ]
    },
    {
      "cell_type": "code",
      "source": [
        "popularitems=popular_list.itemID.values[:5]"
      ],
      "metadata": {
        "id": "vAaXaAlUM6gY"
      },
      "id": "vAaXaAlUM6gY",
      "execution_count": null,
      "outputs": []
    },
    {
      "cell_type": "code",
      "source": [
        "popularitems"
      ],
      "metadata": {
        "colab": {
          "base_uri": "https://localhost:8080/"
        },
        "id": "heizviAbOn_u",
        "outputId": "ec5c3f95-ae42-4cd5-a557-80f5365fe90a"
      },
      "id": "heizviAbOn_u",
      "execution_count": null,
      "outputs": [
        {
          "output_type": "execute_result",
          "data": {
            "text/plain": [
              "array(['B0074BW614', 'B00DR0PDNE', 'B007WTAJTO', 'B0019EHU8G',\n",
              "       'B006GWO5WK'], dtype=object)"
            ]
          },
          "metadata": {},
          "execution_count": 22
        }
      ]
    },
    {
      "cell_type": "markdown",
      "source": [
        "Trend of rating with time"
      ],
      "metadata": {
        "id": "lfPVFH5eNqBo"
      },
      "id": "lfPVFH5eNqBo"
    },
    {
      "cell_type": "code",
      "source": [
        "item_df=rating_df[rating_df['itemID'].isin(popularitems)]"
      ],
      "metadata": {
        "id": "gZXAwVZBNpgg"
      },
      "id": "gZXAwVZBNpgg",
      "execution_count": null,
      "outputs": []
    },
    {
      "cell_type": "code",
      "source": [
        "item_df['date'] = pd.to_datetime(item_df.date, format='%Y-%m-%d %H:%M:%S')"
      ],
      "metadata": {
        "colab": {
          "base_uri": "https://localhost:8080/"
        },
        "id": "ycgj2XwpPcmf",
        "outputId": "d794be78-ed3d-48a3-f53a-d170ff551778"
      },
      "id": "ycgj2XwpPcmf",
      "execution_count": null,
      "outputs": [
        {
          "output_type": "stream",
          "name": "stderr",
          "text": [
            "/usr/local/lib/python3.7/dist-packages/ipykernel_launcher.py:1: SettingWithCopyWarning: \n",
            "A value is trying to be set on a copy of a slice from a DataFrame.\n",
            "Try using .loc[row_indexer,col_indexer] = value instead\n",
            "\n",
            "See the caveats in the documentation: https://pandas.pydata.org/pandas-docs/stable/user_guide/indexing.html#returning-a-view-versus-a-copy\n",
            "  \"\"\"Entry point for launching an IPython kernel.\n"
          ]
        }
      ]
    },
    {
      "cell_type": "code",
      "source": [
        "item_df['year'] = item_df['date'].dt.year"
      ],
      "metadata": {
        "colab": {
          "base_uri": "https://localhost:8080/"
        },
        "id": "TQi7UwPdPL82",
        "outputId": "f82c9153-70bf-4127-f6e8-7b39a3c0e1c7"
      },
      "id": "TQi7UwPdPL82",
      "execution_count": null,
      "outputs": [
        {
          "output_type": "stream",
          "name": "stderr",
          "text": [
            "/usr/local/lib/python3.7/dist-packages/ipykernel_launcher.py:1: SettingWithCopyWarning: \n",
            "A value is trying to be set on a copy of a slice from a DataFrame.\n",
            "Try using .loc[row_indexer,col_indexer] = value instead\n",
            "\n",
            "See the caveats in the documentation: https://pandas.pydata.org/pandas-docs/stable/user_guide/indexing.html#returning-a-view-versus-a-copy\n",
            "  \"\"\"Entry point for launching an IPython kernel.\n"
          ]
        }
      ]
    },
    {
      "cell_type": "code",
      "source": [
        "item_only_df=item_df[['itemID','rating','year']]"
      ],
      "metadata": {
        "id": "i4hufqL4PStm"
      },
      "id": "i4hufqL4PStm",
      "execution_count": null,
      "outputs": []
    },
    {
      "cell_type": "code",
      "source": [
        "item_only_df=item_only_df[item_only_df.year>=2010]"
      ],
      "metadata": {
        "id": "rx7S0DtjTT-D"
      },
      "id": "rx7S0DtjTT-D",
      "execution_count": null,
      "outputs": []
    },
    {
      "cell_type": "code",
      "source": [
        "item_only_df =item_only_df.groupby(['itemID','year'],as_index=False)['rating'].agg(['count','mean']).reset_index()\n",
        "\n"
      ],
      "metadata": {
        "id": "Z9oWVIgQP2r5"
      },
      "id": "Z9oWVIgQP2r5",
      "execution_count": null,
      "outputs": []
    },
    {
      "cell_type": "markdown",
      "source": [],
      "metadata": {
        "id": "uYYVr0XbgGLB"
      },
      "id": "uYYVr0XbgGLB"
    },
    {
      "cell_type": "code",
      "source": [
        "item_only_df.head(5)"
      ],
      "metadata": {
        "colab": {
          "base_uri": "https://localhost:8080/",
          "height": 206
        },
        "id": "2HAThlziQiLN",
        "outputId": "af05c6a1-72d6-4629-f9ed-6e9136f3cf41"
      },
      "id": "2HAThlziQiLN",
      "execution_count": null,
      "outputs": [
        {
          "output_type": "execute_result",
          "data": {
            "text/plain": [
              "       itemID  year  count      mean\n",
              "0  B0019EHU8G  2010    706  4.580737\n",
              "1  B0019EHU8G  2011   2185  4.780778\n",
              "2  B0019EHU8G  2012   4415  4.821744\n",
              "3  B0019EHU8G  2013   2792  4.700215\n",
              "4  B0019EHU8G  2014   1547  4.716871"
            ],
            "text/html": [
              "\n",
              "  <div id=\"df-f40db15b-e6a8-408b-aa3c-afaf5962b2e3\">\n",
              "    <div class=\"colab-df-container\">\n",
              "      <div>\n",
              "<style scoped>\n",
              "    .dataframe tbody tr th:only-of-type {\n",
              "        vertical-align: middle;\n",
              "    }\n",
              "\n",
              "    .dataframe tbody tr th {\n",
              "        vertical-align: top;\n",
              "    }\n",
              "\n",
              "    .dataframe thead th {\n",
              "        text-align: right;\n",
              "    }\n",
              "</style>\n",
              "<table border=\"1\" class=\"dataframe\">\n",
              "  <thead>\n",
              "    <tr style=\"text-align: right;\">\n",
              "      <th></th>\n",
              "      <th>itemID</th>\n",
              "      <th>year</th>\n",
              "      <th>count</th>\n",
              "      <th>mean</th>\n",
              "    </tr>\n",
              "  </thead>\n",
              "  <tbody>\n",
              "    <tr>\n",
              "      <th>0</th>\n",
              "      <td>B0019EHU8G</td>\n",
              "      <td>2010</td>\n",
              "      <td>706</td>\n",
              "      <td>4.580737</td>\n",
              "    </tr>\n",
              "    <tr>\n",
              "      <th>1</th>\n",
              "      <td>B0019EHU8G</td>\n",
              "      <td>2011</td>\n",
              "      <td>2185</td>\n",
              "      <td>4.780778</td>\n",
              "    </tr>\n",
              "    <tr>\n",
              "      <th>2</th>\n",
              "      <td>B0019EHU8G</td>\n",
              "      <td>2012</td>\n",
              "      <td>4415</td>\n",
              "      <td>4.821744</td>\n",
              "    </tr>\n",
              "    <tr>\n",
              "      <th>3</th>\n",
              "      <td>B0019EHU8G</td>\n",
              "      <td>2013</td>\n",
              "      <td>2792</td>\n",
              "      <td>4.700215</td>\n",
              "    </tr>\n",
              "    <tr>\n",
              "      <th>4</th>\n",
              "      <td>B0019EHU8G</td>\n",
              "      <td>2014</td>\n",
              "      <td>1547</td>\n",
              "      <td>4.716871</td>\n",
              "    </tr>\n",
              "  </tbody>\n",
              "</table>\n",
              "</div>\n",
              "      <button class=\"colab-df-convert\" onclick=\"convertToInteractive('df-f40db15b-e6a8-408b-aa3c-afaf5962b2e3')\"\n",
              "              title=\"Convert this dataframe to an interactive table.\"\n",
              "              style=\"display:none;\">\n",
              "        \n",
              "  <svg xmlns=\"http://www.w3.org/2000/svg\" height=\"24px\"viewBox=\"0 0 24 24\"\n",
              "       width=\"24px\">\n",
              "    <path d=\"M0 0h24v24H0V0z\" fill=\"none\"/>\n",
              "    <path d=\"M18.56 5.44l.94 2.06.94-2.06 2.06-.94-2.06-.94-.94-2.06-.94 2.06-2.06.94zm-11 1L8.5 8.5l.94-2.06 2.06-.94-2.06-.94L8.5 2.5l-.94 2.06-2.06.94zm10 10l.94 2.06.94-2.06 2.06-.94-2.06-.94-.94-2.06-.94 2.06-2.06.94z\"/><path d=\"M17.41 7.96l-1.37-1.37c-.4-.4-.92-.59-1.43-.59-.52 0-1.04.2-1.43.59L10.3 9.45l-7.72 7.72c-.78.78-.78 2.05 0 2.83L4 21.41c.39.39.9.59 1.41.59.51 0 1.02-.2 1.41-.59l7.78-7.78 2.81-2.81c.8-.78.8-2.07 0-2.86zM5.41 20L4 18.59l7.72-7.72 1.47 1.35L5.41 20z\"/>\n",
              "  </svg>\n",
              "      </button>\n",
              "      \n",
              "  <style>\n",
              "    .colab-df-container {\n",
              "      display:flex;\n",
              "      flex-wrap:wrap;\n",
              "      gap: 12px;\n",
              "    }\n",
              "\n",
              "    .colab-df-convert {\n",
              "      background-color: #E8F0FE;\n",
              "      border: none;\n",
              "      border-radius: 50%;\n",
              "      cursor: pointer;\n",
              "      display: none;\n",
              "      fill: #1967D2;\n",
              "      height: 32px;\n",
              "      padding: 0 0 0 0;\n",
              "      width: 32px;\n",
              "    }\n",
              "\n",
              "    .colab-df-convert:hover {\n",
              "      background-color: #E2EBFA;\n",
              "      box-shadow: 0px 1px 2px rgba(60, 64, 67, 0.3), 0px 1px 3px 1px rgba(60, 64, 67, 0.15);\n",
              "      fill: #174EA6;\n",
              "    }\n",
              "\n",
              "    [theme=dark] .colab-df-convert {\n",
              "      background-color: #3B4455;\n",
              "      fill: #D2E3FC;\n",
              "    }\n",
              "\n",
              "    [theme=dark] .colab-df-convert:hover {\n",
              "      background-color: #434B5C;\n",
              "      box-shadow: 0px 1px 3px 1px rgba(0, 0, 0, 0.15);\n",
              "      filter: drop-shadow(0px 1px 2px rgba(0, 0, 0, 0.3));\n",
              "      fill: #FFFFFF;\n",
              "    }\n",
              "  </style>\n",
              "\n",
              "      <script>\n",
              "        const buttonEl =\n",
              "          document.querySelector('#df-f40db15b-e6a8-408b-aa3c-afaf5962b2e3 button.colab-df-convert');\n",
              "        buttonEl.style.display =\n",
              "          google.colab.kernel.accessAllowed ? 'block' : 'none';\n",
              "\n",
              "        async function convertToInteractive(key) {\n",
              "          const element = document.querySelector('#df-f40db15b-e6a8-408b-aa3c-afaf5962b2e3');\n",
              "          const dataTable =\n",
              "            await google.colab.kernel.invokeFunction('convertToInteractive',\n",
              "                                                     [key], {});\n",
              "          if (!dataTable) return;\n",
              "\n",
              "          const docLinkHtml = 'Like what you see? Visit the ' +\n",
              "            '<a target=\"_blank\" href=https://colab.research.google.com/notebooks/data_table.ipynb>data table notebook</a>'\n",
              "            + ' to learn more about interactive tables.';\n",
              "          element.innerHTML = '';\n",
              "          dataTable['output_type'] = 'display_data';\n",
              "          await google.colab.output.renderOutput(dataTable, element);\n",
              "          const docLink = document.createElement('div');\n",
              "          docLink.innerHTML = docLinkHtml;\n",
              "          element.appendChild(docLink);\n",
              "        }\n",
              "      </script>\n",
              "    </div>\n",
              "  </div>\n",
              "  "
            ]
          },
          "metadata": {},
          "execution_count": 29
        }
      ]
    },
    {
      "cell_type": "code",
      "source": [
        "sns.relplot(x=\"year\", y=\"count\", hue=\"itemID\",\n",
        "            height=5,\n",
        "            kind=\"line\", estimator=None, data=item_only_df);"
      ],
      "metadata": {
        "colab": {
          "base_uri": "https://localhost:8080/",
          "height": 369
        },
        "id": "n3Jd7TZNP3Go",
        "outputId": "bf97e3eb-fb3c-4cc1-e0cd-48e9af59b38d"
      },
      "id": "n3Jd7TZNP3Go",
      "execution_count": null,
      "outputs": [
        {
          "output_type": "display_data",
          "data": {
            "text/plain": [
              "<Figure size 469.875x360 with 1 Axes>"
            ],
            "image/png": "[encoded data removed]"
          },
          "metadata": {}
        }
      ]
    },
    {
      "cell_type": "code",
      "source": [
        "sns.relplot(x=\"year\", y=\"mean\", hue=\"itemID\",\n",
        "            height=5,\n",
        "            kind=\"line\", estimator=None, data=item_only_df);"
      ],
      "metadata": {
        "colab": {
          "base_uri": "https://localhost:8080/",
          "height": 369
        },
        "id": "YMO8PaByS0S-",
        "outputId": "7489a9d8-27e0-4f6a-8768-7b2b7c3c9e8d"
      },
      "id": "YMO8PaByS0S-",
      "execution_count": null,
      "outputs": [
        {
          "output_type": "display_data",
          "data": {
            "text/plain": [
              "<Figure size 469.875x360 with 1 Axes>"
            ],
            "image/png": "[encoded data removed]"
          },
          "metadata": {}
        }
      ]
    },
    {
      "cell_type": "markdown",
      "source": [
        "Observation:\n",
        "- No specific treand observed"
      ],
      "metadata": {
        "id": "cUUSEY4tS6bM"
      },
      "id": "cUUSEY4tS6bM"
    },
    {
      "cell_type": "markdown",
      "source": [
        "### SAR Algorithm"
      ],
      "metadata": {
        "id": "FUqH530Ul-3G"
      },
      "id": "FUqH530Ul-3G"
    },
    {
      "cell_type": "code",
      "source": [
        "!pip install recommenders"
      ],
      "metadata": {
        "id": "X6sY5ul3mcvF",
        "colab": {
          "base_uri": "https://localhost:8080/"
        },
        "outputId": "988314c4-3b8d-4933-acef-8eb1090f71c7"
      },
      "execution_count": null,
      "outputs": [
        {
          "output_type": "stream",
          "name": "stdout",
          "text": [
            "Looking in indexes: https://pypi.org/simple, https://us-python.pkg.dev/colab-wheels/public/simple/\n",
            "Collecting recommenders\n",
            "  Downloading recommenders-1.1.1-py3-none-any.whl (339 kB)\n",
            "\u001b[K     |████████████████████████████████| 339 kB 4.2 MB/s \n",
            "\u001b[?25hRequirement already satisfied: numpy>=1.19 in /usr/local/lib/python3.7/dist-packages (from recommenders) (1.21.6)\n",
            "Collecting memory-profiler<1,>=0.54.0\n",
            "  Downloading memory_profiler-0.60.0.tar.gz (38 kB)\n",
            "Requirement already satisfied: lightgbm>=2.2.1 in /usr/local/lib/python3.7/dist-packages (from recommenders) (2.2.3)\n",
            "Requirement already satisfied: scipy<2,>=1.0.0 in /usr/local/lib/python3.7/dist-packages (from recommenders) (1.7.3)\n",
            "Requirement already satisfied: scikit-learn<1.0.3,>=0.22.1 in /usr/local/lib/python3.7/dist-packages (from recommenders) (1.0.2)\n",
            "Collecting pyyaml<6,>=5.4.1\n",
            "  Downloading PyYAML-5.4.1-cp37-cp37m-manylinux1_x86_64.whl (636 kB)\n",
            "\u001b[K     |████████████████████████████████| 636 kB 72.1 MB/s \n",
            "\u001b[?25hCollecting category-encoders<2,>=1.3.0\n",
            "  Downloading category_encoders-1.3.0-py2.py3-none-any.whl (61 kB)\n",
            "\u001b[K     |████████████████████████████████| 61 kB 8.4 MB/s \n",
            "\u001b[?25hRequirement already satisfied: requests<3,>=2.0.0 in /usr/local/lib/python3.7/dist-packages (from recommenders) (2.23.0)\n",
            "Requirement already satisfied: pandas<2,>1.0.3 in /usr/local/lib/python3.7/dist-packages (from recommenders) (1.3.5)\n",
            "Collecting bottleneck<2,>=1.2.1\n",
            "  Downloading Bottleneck-1.3.5-cp37-cp37m-manylinux_2_5_x86_64.manylinux1_x86_64.manylinux_2_17_x86_64.manylinux2014_x86_64.whl (355 kB)\n",
            "\u001b[K     |████████████████████████████████| 355 kB 86.5 MB/s \n",
            "\u001b[?25hRequirement already satisfied: matplotlib<4,>=2.2.2 in /usr/local/lib/python3.7/dist-packages (from recommenders) (3.2.2)\n",
            "Collecting cornac<2,>=1.1.2\n",
            "  Downloading cornac-1.14.2-cp37-cp37m-manylinux1_x86_64.whl (12.4 MB)\n",
            "\u001b[K     |████████████████████████████████| 12.4 MB 69.0 MB/s \n",
            "\u001b[?25hRequirement already satisfied: numba<1,>=0.38.1 in /usr/local/lib/python3.7/dist-packages (from recommenders) (0.56.0)\n",
            "Collecting retrying>=1.3.3\n",
            "  Downloading retrying-1.3.3.tar.gz (10 kB)\n",
            "Collecting scikit-surprise>=1.0.6\n",
            "  Downloading scikit-surprise-1.1.1.tar.gz (11.8 MB)\n",
            "\u001b[K     |████████████████████████████████| 11.8 MB 80.7 MB/s \n",
            "\u001b[?25hCollecting transformers<5,>=2.5.0\n",
            "  Downloading transformers-4.21.2-py3-none-any.whl (4.7 MB)\n",
            "\u001b[K     |████████████████████████████████| 4.7 MB 60.8 MB/s \n",
            "\u001b[?25hRequirement already satisfied: tqdm<5,>=4.31.1 in /usr/local/lib/python3.7/dist-packages (from recommenders) (4.64.0)\n",
            "Requirement already satisfied: nltk<4,>=3.4 in /usr/local/lib/python3.7/dist-packages (from recommenders) (3.7)\n",
            "Requirement already satisfied: jinja2<3.1,>=2 in /usr/local/lib/python3.7/dist-packages (from recommenders) (2.11.3)\n",
            "Requirement already satisfied: seaborn<1,>=0.8.1 in /usr/local/lib/python3.7/dist-packages (from recommenders) (0.11.2)\n",
            "Collecting pandera[strategies]>=0.6.5\n",
            "  Downloading pandera-0.9.0-py3-none-any.whl (197 kB)\n",
            "\u001b[K     |████████████████████████████████| 197 kB 46.2 MB/s \n",
            "\u001b[?25hCollecting lightfm<2,>=1.15\n",
            "  Downloading lightfm-1.16.tar.gz (310 kB)\n",
            "\u001b[K     |████████████████████████████████| 310 kB 95.4 MB/s \n",
            "\u001b[?25hRequirement already satisfied: patsy>=0.4.1 in /usr/local/lib/python3.7/dist-packages (from category-encoders<2,>=1.3.0->recommenders) (0.5.2)\n",
            "Requirement already satisfied: statsmodels>=0.6.1 in /usr/local/lib/python3.7/dist-packages (from category-encoders<2,>=1.3.0->recommenders) (0.12.2)\n",
            "Collecting powerlaw\n",
            "  Downloading powerlaw-1.5-py3-none-any.whl (24 kB)\n",
            "Requirement already satisfied: MarkupSafe>=0.23 in /usr/local/lib/python3.7/dist-packages (from jinja2<3.1,>=2->recommenders) (2.0.1)\n",
            "Requirement already satisfied: cycler>=0.10 in /usr/local/lib/python3.7/dist-packages (from matplotlib<4,>=2.2.2->recommenders) (0.11.0)\n",
            "Requirement already satisfied: python-dateutil>=2.1 in /usr/local/lib/python3.7/dist-packages (from matplotlib<4,>=2.2.2->recommenders) (2.8.2)\n",
            "Requirement already satisfied: pyparsing!=2.0.4,!=2.1.2,!=2.1.6,>=2.0.1 in /usr/local/lib/python3.7/dist-packages (from matplotlib<4,>=2.2.2->recommenders) (3.0.9)\n",
            "Requirement already satisfied: kiwisolver>=1.0.1 in /usr/local/lib/python3.7/dist-packages (from matplotlib<4,>=2.2.2->recommenders) (1.4.4)\n",
            "Requirement already satisfied: typing-extensions in /usr/local/lib/python3.7/dist-packages (from kiwisolver>=1.0.1->matplotlib<4,>=2.2.2->recommenders) (4.1.1)\n",
            "Requirement already satisfied: psutil in /usr/local/lib/python3.7/dist-packages (from memory-profiler<1,>=0.54.0->recommenders) (5.4.8)\n",
            "Requirement already satisfied: regex>=2021.8.3 in /usr/local/lib/python3.7/dist-packages (from nltk<4,>=3.4->recommenders) (2022.6.2)\n",
            "Requirement already satisfied: click in /usr/local/lib/python3.7/dist-packages (from nltk<4,>=3.4->recommenders) (7.1.2)\n",
            "Requirement already satisfied: joblib in /usr/local/lib/python3.7/dist-packages (from nltk<4,>=3.4->recommenders) (1.1.0)\n",
            "Requirement already satisfied: llvmlite<0.40,>=0.39.0dev0 in /usr/local/lib/python3.7/dist-packages (from numba<1,>=0.38.1->recommenders) (0.39.0)\n",
            "Requirement already satisfied: setuptools in /usr/local/lib/python3.7/dist-packages (from numba<1,>=0.38.1->recommenders) (57.4.0)\n",
            "Requirement already satisfied: importlib-metadata in /usr/local/lib/python3.7/dist-packages (from numba<1,>=0.38.1->recommenders) (4.12.0)\n",
            "Requirement already satisfied: pytz>=2017.3 in /usr/local/lib/python3.7/dist-packages (from pandas<2,>1.0.3->recommenders) (2022.2.1)\n",
            "Requirement already satisfied: wrapt in /usr/local/lib/python3.7/dist-packages (from pandera[strategies]>=0.6.5->recommenders) (1.14.1)\n",
            "Requirement already satisfied: pyarrow in /usr/local/lib/python3.7/dist-packages (from pandera[strategies]>=0.6.5->recommenders) (6.0.1)\n",
            "Collecting typing-inspect>=0.6.0\n",
            "  Downloading typing_inspect-0.8.0-py3-none-any.whl (8.7 kB)\n",
            "Requirement already satisfied: packaging>=20.0 in /usr/local/lib/python3.7/dist-packages (from pandera[strategies]>=0.6.5->recommenders) (21.3)\n",
            "Requirement already satisfied: pydantic in /usr/local/lib/python3.7/dist-packages (from pandera[strategies]>=0.6.5->recommenders) (1.9.2)\n",
            "Collecting hypothesis>=5.41.1\n",
            "  Downloading hypothesis-6.54.4-py3-none-any.whl (390 kB)\n",
            "\u001b[K     |████████████████████████████████| 390 kB 90.1 MB/s \n",
            "\u001b[?25hRequirement already satisfied: attrs>=19.2.0 in /usr/local/lib/python3.7/dist-packages (from hypothesis>=5.41.1->pandera[strategies]>=0.6.5->recommenders) (22.1.0)\n",
            "Collecting exceptiongroup>=1.0.0rc8\n",
            "  Downloading exceptiongroup-1.0.0rc9-py3-none-any.whl (12 kB)\n",
            "Requirement already satisfied: sortedcontainers<3.0.0,>=2.1.0 in /usr/local/lib/python3.7/dist-packages (from hypothesis>=5.41.1->pandera[strategies]>=0.6.5->recommenders) (2.4.0)\n",
            "Requirement already satisfied: six in /usr/local/lib/python3.7/dist-packages (from patsy>=0.4.1->category-encoders<2,>=1.3.0->recommenders) (1.15.0)\n",
            "Requirement already satisfied: idna<3,>=2.5 in /usr/local/lib/python3.7/dist-packages (from requests<3,>=2.0.0->recommenders) (2.10)\n",
            "Requirement already satisfied: urllib3!=1.25.0,!=1.25.1,<1.26,>=1.21.1 in /usr/local/lib/python3.7/dist-packages (from requests<3,>=2.0.0->recommenders) (1.24.3)\n",
            "Requirement already satisfied: chardet<4,>=3.0.2 in /usr/local/lib/python3.7/dist-packages (from requests<3,>=2.0.0->recommenders) (3.0.4)\n",
            "Requirement already satisfied: certifi>=2017.4.17 in /usr/local/lib/python3.7/dist-packages (from requests<3,>=2.0.0->recommenders) (2022.6.15)\n",
            "Requirement already satisfied: threadpoolctl>=2.0.0 in /usr/local/lib/python3.7/dist-packages (from scikit-learn<1.0.3,>=0.22.1->recommenders) (3.1.0)\n",
            "Collecting huggingface-hub<1.0,>=0.1.0\n",
            "  Downloading huggingface_hub-0.9.1-py3-none-any.whl (120 kB)\n",
            "\u001b[K     |████████████████████████████████| 120 kB 74.5 MB/s \n",
            "\u001b[?25hRequirement already satisfied: filelock in /usr/local/lib/python3.7/dist-packages (from transformers<5,>=2.5.0->recommenders) (3.8.0)\n",
            "Collecting tokenizers!=0.11.3,<0.13,>=0.11.1\n",
            "  Downloading tokenizers-0.12.1-cp37-cp37m-manylinux_2_12_x86_64.manylinux2010_x86_64.whl (6.6 MB)\n",
            "\u001b[K     |████████████████████████████████| 6.6 MB 74.2 MB/s \n",
            "\u001b[?25hCollecting mypy-extensions>=0.3.0\n",
            "  Downloading mypy_extensions-0.4.3-py2.py3-none-any.whl (4.5 kB)\n",
            "Requirement already satisfied: zipp>=0.5 in /usr/local/lib/python3.7/dist-packages (from importlib-metadata->numba<1,>=0.38.1->recommenders) (3.8.1)\n",
            "Requirement already satisfied: mpmath in /usr/local/lib/python3.7/dist-packages (from powerlaw->cornac<2,>=1.1.2->recommenders) (1.2.1)\n",
            "Building wheels for collected packages: lightfm, memory-profiler, retrying, scikit-surprise\n",
            "  Building wheel for lightfm (setup.py) ... \u001b[?25l\u001b[?25hdone\n",
            "  Created wheel for lightfm: filename=lightfm-1.16-cp37-cp37m-linux_x86_64.whl size=705373 sha256=ff85880f23bc81ea6b6d113ffc2e86160e4f6e86e8469b9a1369e7967d4997d0\n",
            "  Stored in directory: /root/.cache/pip/wheels/f8/56/28/5772a3bd3413d65f03aa452190b00898b680b10028a1021914\n",
            "  Building wheel for memory-profiler (setup.py) ... \u001b[?25l\u001b[?25hdone\n",
            "  Created wheel for memory-profiler: filename=memory_profiler-0.60.0-py3-none-any.whl size=31284 sha256=96d182f5913506f2b90b008eb47e1114e61ddf59e99ba1f5c0bc4f7964b6bf46\n",
            "  Stored in directory: /root/.cache/pip/wheels/67/2b/fb/326e30d638c538e69a5eb0aa47f4223d979f502bbdb403950f\n",
            "  Building wheel for retrying (setup.py) ... \u001b[?25l\u001b[?25hdone\n",
            "  Created wheel for retrying: filename=retrying-1.3.3-py3-none-any.whl size=11447 sha256=421c12598dc6deabeec69206cf78c25496e73a8cc1e98a7ad1b838c67562ab3d\n",
            "  Stored in directory: /root/.cache/pip/wheels/f9/8d/8d/f6af3f7f9eea3553bc2fe6d53e4b287dad18b06a861ac56ddf\n",
            "  Building wheel for scikit-surprise (setup.py) ... \u001b[?25l\u001b[?25hdone\n",
            "  Created wheel for scikit-surprise: filename=scikit_surprise-1.1.1-cp37-cp37m-linux_x86_64.whl size=1633965 sha256=9cb2bcc1f51baf0204c48fa39358de538c16600b79af150dcec20ce1e54a2c8b\n",
            "  Stored in directory: /root/.cache/pip/wheels/76/44/74/b498c42be47b2406bd27994e16c5188e337c657025ab400c1c\n",
            "Successfully built lightfm memory-profiler retrying scikit-surprise\n",
            "Installing collected packages: mypy-extensions, typing-inspect, pyyaml, exceptiongroup, tokenizers, powerlaw, pandera, hypothesis, huggingface-hub, transformers, scikit-surprise, retrying, memory-profiler, lightfm, cornac, category-encoders, bottleneck, recommenders\n",
            "  Attempting uninstall: pyyaml\n",
            "    Found existing installation: PyYAML 6.0\n",
            "    Uninstalling PyYAML-6.0:\n",
            "      Successfully uninstalled PyYAML-6.0\n",
            "Successfully installed bottleneck-1.3.5 category-encoders-1.3.0 cornac-1.14.2 exceptiongroup-1.0.0rc9 huggingface-hub-0.9.1 hypothesis-6.54.4 lightfm-1.16 memory-profiler-0.60.0 mypy-extensions-0.4.3 pandera-0.9.0 powerlaw-1.5 pyyaml-5.4.1 recommenders-1.1.1 retrying-1.3.3 scikit-surprise-1.1.1 tokenizers-0.12.1 transformers-4.21.2 typing-inspect-0.8.0\n"
          ]
        }
      ],
      "id": "X6sY5ul3mcvF"
    },
    {
      "cell_type": "code",
      "source": [
        "\n",
        "\n",
        "from recommenders.datasets.python_splitters import python_stratified_split\n",
        "from recommenders.evaluation.python_evaluation import map_at_k, ndcg_at_k, precision_at_k, recall_at_k\n",
        "from recommenders.models.sar import SAR\n"
      ],
      "metadata": {
        "id": "ATAL7_0Gmc1-"
      },
      "execution_count": null,
      "outputs": [],
      "id": "ATAL7_0Gmc1-"
    },
    {
      "cell_type": "code",
      "source": [
        "x = rating_df.groupby('itemID').count()['rating'] > 50\n",
        "itemIndex = x[x].index\n",
        "nm_rating_df=rating_df[rating_df['itemID'].isin(itemIndex)]\n",
        "y = nm_rating_df.groupby('userID').count()['rating']>=50\n",
        "users = y[y].index\n",
        "final_ratings = nm_rating_df[nm_rating_df['userID'].isin(users)]"
      ],
      "metadata": {
        "id": "NgjfMz1LPUl3"
      },
      "id": "NgjfMz1LPUl3",
      "execution_count": null,
      "outputs": []
    },
    {
      "cell_type": "code",
      "source": [
        "data = final_ratings[['userID','itemID','rating','time']]\n",
        "# Convert the float precision to 32-bit in order to reduce memory consumption \n"
      ],
      "metadata": {
        "id": "idRf4_yEkaBs"
      },
      "execution_count": null,
      "outputs": [],
      "id": "idRf4_yEkaBs"
    },
    {
      "cell_type": "code",
      "source": [
        "data.loc[:, 'rating'] = data['rating'].astype(np.float32)\n",
        "\n",
        "data.head()"
      ],
      "metadata": {
        "id": "NkMEEKEUnE9Y",
        "colab": {
          "base_uri": "https://localhost:8080/",
          "height": 206
        },
        "outputId": "517e608a-343c-4a08-d7f2-d6c990c0ec67"
      },
      "execution_count": null,
      "outputs": [
        {
          "output_type": "execute_result",
          "data": {
            "text/plain": [
              "              userID      itemID  rating        time\n",
              "631   A3TAS1AG6FMBQW  0972683275     5.0  1353456000\n",
              "1335  A2XIOXRRYX0KZY  1400501466     3.0  1371686400\n",
              "1777  A18S2VGUH9SCV5  1400501776     4.0  1340755200\n",
              "2162   A5JLAU2ARJ0BO  1400532655     1.0  1291334400\n",
              "2437  A3HPCRD9RX351S  1400532655     3.0  1332028800"
            ],
            "text/html": [
              "\n",
              "  <div id=\"df-8980eb3f-ba0b-4c48-9a65-0dddf5fe842f\">\n",
              "    <div class=\"colab-df-container\">\n",
              "      <div>\n",
              "<style scoped>\n",
              "    .dataframe tbody tr th:only-of-type {\n",
              "        vertical-align: middle;\n",
              "    }\n",
              "\n",
              "    .dataframe tbody tr th {\n",
              "        vertical-align: top;\n",
              "    }\n",
              "\n",
              "    .dataframe thead th {\n",
              "        text-align: right;\n",
              "    }\n",
              "</style>\n",
              "<table border=\"1\" class=\"dataframe\">\n",
              "  <thead>\n",
              "    <tr style=\"text-align: right;\">\n",
              "      <th></th>\n",
              "      <th>userID</th>\n",
              "      <th>itemID</th>\n",
              "      <th>rating</th>\n",
              "      <th>time</th>\n",
              "    </tr>\n",
              "  </thead>\n",
              "  <tbody>\n",
              "    <tr>\n",
              "      <th>631</th>\n",
              "      <td>A3TAS1AG6FMBQW</td>\n",
              "      <td>0972683275</td>\n",
              "      <td>5.0</td>\n",
              "      <td>1353456000</td>\n",
              "    </tr>\n",
              "    <tr>\n",
              "      <th>1335</th>\n",
              "      <td>A2XIOXRRYX0KZY</td>\n",
              "      <td>1400501466</td>\n",
              "      <td>3.0</td>\n",
              "      <td>1371686400</td>\n",
              "    </tr>\n",
              "    <tr>\n",
              "      <th>1777</th>\n",
              "      <td>A18S2VGUH9SCV5</td>\n",
              "      <td>1400501776</td>\n",
              "      <td>4.0</td>\n",
              "      <td>1340755200</td>\n",
              "    </tr>\n",
              "    <tr>\n",
              "      <th>2162</th>\n",
              "      <td>A5JLAU2ARJ0BO</td>\n",
              "      <td>1400532655</td>\n",
              "      <td>1.0</td>\n",
              "      <td>1291334400</td>\n",
              "    </tr>\n",
              "    <tr>\n",
              "      <th>2437</th>\n",
              "      <td>A3HPCRD9RX351S</td>\n",
              "      <td>1400532655</td>\n",
              "      <td>3.0</td>\n",
              "      <td>1332028800</td>\n",
              "    </tr>\n",
              "  </tbody>\n",
              "</table>\n",
              "</div>\n",
              "      <button class=\"colab-df-convert\" onclick=\"convertToInteractive('df-8980eb3f-ba0b-4c48-9a65-0dddf5fe842f')\"\n",
              "              title=\"Convert this dataframe to an interactive table.\"\n",
              "              style=\"display:none;\">\n",
              "        \n",
              "  <svg xmlns=\"http://www.w3.org/2000/svg\" height=\"24px\"viewBox=\"0 0 24 24\"\n",
              "       width=\"24px\">\n",
              "    <path d=\"M0 0h24v24H0V0z\" fill=\"none\"/>\n",
              "    <path d=\"M18.56 5.44l.94 2.06.94-2.06 2.06-.94-2.06-.94-.94-2.06-.94 2.06-2.06.94zm-11 1L8.5 8.5l.94-2.06 2.06-.94-2.06-.94L8.5 2.5l-.94 2.06-2.06.94zm10 10l.94 2.06.94-2.06 2.06-.94-2.06-.94-.94-2.06-.94 2.06-2.06.94z\"/><path d=\"M17.41 7.96l-1.37-1.37c-.4-.4-.92-.59-1.43-.59-.52 0-1.04.2-1.43.59L10.3 9.45l-7.72 7.72c-.78.78-.78 2.05 0 2.83L4 21.41c.39.39.9.59 1.41.59.51 0 1.02-.2 1.41-.59l7.78-7.78 2.81-2.81c.8-.78.8-2.07 0-2.86zM5.41 20L4 18.59l7.72-7.72 1.47 1.35L5.41 20z\"/>\n",
              "  </svg>\n",
              "      </button>\n",
              "      \n",
              "  <style>\n",
              "    .colab-df-container {\n",
              "      display:flex;\n",
              "      flex-wrap:wrap;\n",
              "      gap: 12px;\n",
              "    }\n",
              "\n",
              "    .colab-df-convert {\n",
              "      background-color: #E8F0FE;\n",
              "      border: none;\n",
              "      border-radius: 50%;\n",
              "      cursor: pointer;\n",
              "      display: none;\n",
              "      fill: #1967D2;\n",
              "      height: 32px;\n",
              "      padding: 0 0 0 0;\n",
              "      width: 32px;\n",
              "    }\n",
              "\n",
              "    .colab-df-convert:hover {\n",
              "      background-color: #E2EBFA;\n",
              "      box-shadow: 0px 1px 2px rgba(60, 64, 67, 0.3), 0px 1px 3px 1px rgba(60, 64, 67, 0.15);\n",
              "      fill: #174EA6;\n",
              "    }\n",
              "\n",
              "    [theme=dark] .colab-df-convert {\n",
              "      background-color: #3B4455;\n",
              "      fill: #D2E3FC;\n",
              "    }\n",
              "\n",
              "    [theme=dark] .colab-df-convert:hover {\n",
              "      background-color: #434B5C;\n",
              "      box-shadow: 0px 1px 3px 1px rgba(0, 0, 0, 0.15);\n",
              "      filter: drop-shadow(0px 1px 2px rgba(0, 0, 0, 0.3));\n",
              "      fill: #FFFFFF;\n",
              "    }\n",
              "  </style>\n",
              "\n",
              "      <script>\n",
              "        const buttonEl =\n",
              "          document.querySelector('#df-8980eb3f-ba0b-4c48-9a65-0dddf5fe842f button.colab-df-convert');\n",
              "        buttonEl.style.display =\n",
              "          google.colab.kernel.accessAllowed ? 'block' : 'none';\n",
              "\n",
              "        async function convertToInteractive(key) {\n",
              "          const element = document.querySelector('#df-8980eb3f-ba0b-4c48-9a65-0dddf5fe842f');\n",
              "          const dataTable =\n",
              "            await google.colab.kernel.invokeFunction('convertToInteractive',\n",
              "                                                     [key], {});\n",
              "          if (!dataTable) return;\n",
              "\n",
              "          const docLinkHtml = 'Like what you see? Visit the ' +\n",
              "            '<a target=\"_blank\" href=https://colab.research.google.com/notebooks/data_table.ipynb>data table notebook</a>'\n",
              "            + ' to learn more about interactive tables.';\n",
              "          element.innerHTML = '';\n",
              "          dataTable['output_type'] = 'display_data';\n",
              "          await google.colab.output.renderOutput(dataTable, element);\n",
              "          const docLink = document.createElement('div');\n",
              "          docLink.innerHTML = docLinkHtml;\n",
              "          element.appendChild(docLink);\n",
              "        }\n",
              "      </script>\n",
              "    </div>\n",
              "  </div>\n",
              "  "
            ]
          },
          "metadata": {},
          "execution_count": 23
        }
      ],
      "id": "NkMEEKEUnE9Y"
    },
    {
      "cell_type": "code",
      "source": [
        "data.shape"
      ],
      "metadata": {
        "id": "jlvecTlsoKqT",
        "colab": {
          "base_uri": "https://localhost:8080/"
        },
        "outputId": "4dc16066-7653-4d98-e96f-99329ea54adc"
      },
      "execution_count": null,
      "outputs": [
        {
          "output_type": "execute_result",
          "data": {
            "text/plain": [
              "(42857, 4)"
            ]
          },
          "metadata": {},
          "execution_count": 24
        }
      ],
      "id": "jlvecTlsoKqT"
    },
    {
      "cell_type": "code",
      "source": [
        "header = {\n",
        "    \"col_user\": \"userID\",\n",
        "    \"col_item\": \"itemID\",\n",
        "    \"col_rating\": \"rating\",\n",
        "    \"col_timestamp\": \"time\",\n",
        "    \"col_prediction\": \"Prediction\",\n",
        "}\n",
        "train, test = python_stratified_split(data, ratio=0.8, col_user=header[\"col_user\"], col_item=header[\"col_item\"], seed=42)\n"
      ],
      "metadata": {
        "id": "_G1cPD59mSWW"
      },
      "execution_count": null,
      "outputs": [],
      "id": "_G1cPD59mSWW"
    },
    {
      "cell_type": "code",
      "source": [
        "model = SAR(\n",
        "    similarity_type=\"jaccard\", \n",
        "    time_decay_coefficient=30, \n",
        "    time_now=None, \n",
        "    timedecay_formula=True, \n",
        "    **header\n",
        ")"
      ],
      "metadata": {
        "id": "87U7e8Cpi-zU"
      },
      "execution_count": null,
      "outputs": [],
      "id": "87U7e8Cpi-zU"
    },
    {
      "cell_type": "code",
      "source": [
        "model.fit(train)"
      ],
      "metadata": {
        "id": "OPIqfly1i-2Q"
      },
      "execution_count": null,
      "outputs": [],
      "id": "OPIqfly1i-2Q"
    },
    {
      "cell_type": "code",
      "source": [
        "top_k = model.recommend_k_items(test, top_k=20, remove_seen=True)\n"
      ],
      "metadata": {
        "id": "p4RfOknWL9T6"
      },
      "execution_count": null,
      "outputs": [],
      "id": "p4RfOknWL9T6"
    },
    {
      "cell_type": "code",
      "source": [
        "top_k_with_titles = (top_k.join(data[['itemID']].drop_duplicates().set_index('itemID'), \n",
        "                                on='itemID', \n",
        "                                how='inner').sort_values(by=['userID', 'Prediction'], ascending=False))\n",
        "display(top_k_with_titles.head(20))"
      ],
      "metadata": {
        "colab": {
          "base_uri": "https://localhost:8080/",
          "height": 676
        },
        "id": "rSpmceepL_eg",
        "outputId": "c01dbc5c-0e76-422a-8b8e-d9169003f2ae"
      },
      "execution_count": null,
      "outputs": [
        {
          "output_type": "display_data",
          "data": {
            "text/plain": [
              "              userID      itemID  Prediction\n",
              "11217  AZMY6E8B52L2T  B00GQS290Y    3.479825\n",
              "11205  AZMY6E8B52L2T  B00HX0RTK4    3.479825\n",
              "11206  AZMY6E8B52L2T  B007M58WWO    3.479825\n",
              "11208  AZMY6E8B52L2T  B009T3AHW0    3.479825\n",
              "11200  AZMY6E8B52L2T  B001K4YWCW    3.479825\n",
              "11210  AZMY6E8B52L2T  B005IGVXQQ    3.479825\n",
              "11211  AZMY6E8B52L2T  B00076WOC4    3.479825\n",
              "11214  AZMY6E8B52L2T  B00G335BJI    3.479825\n",
              "11213  AZMY6E8B52L2T  B00AANMVNQ    3.479825\n",
              "11201  AZMY6E8B52L2T  B0087AUCSA    3.479825\n",
              "11216  AZMY6E8B52L2T  B00CGUCBVI    3.479825\n",
              "11202  AZMY6E8B52L2T  B00GZ5E29O    3.479825\n",
              "11212  AZMY6E8B52L2T  B005MWMBBM    3.479825\n",
              "11218  AZMY6E8B52L2T  B00AWKBZ0M    3.479825\n",
              "11207  AZMY6E8B52L2T  B00FXR3RAK    3.479825\n",
              "11204  AZMY6E8B52L2T  B00IWJUGQY    3.479825\n",
              "11203  AZMY6E8B52L2T  B0001M3N7O    3.479825\n",
              "11215  AZMY6E8B52L2T  B006IKW90A    3.479825\n",
              "11209  AZMY6E8B52L2T  B007U16ODO    3.479825\n",
              "11219  AZMY6E8B52L2T  B009VK26J8    2.582759"
            ],
            "text/html": [
              "\n",
              "  <div id=\"df-e9c818a2-4277-42b0-aabc-8ff872a172c3\">\n",
              "    <div class=\"colab-df-container\">\n",
              "      <div>\n",
              "<style scoped>\n",
              "    .dataframe tbody tr th:only-of-type {\n",
              "        vertical-align: middle;\n",
              "    }\n",
              "\n",
              "    .dataframe tbody tr th {\n",
              "        vertical-align: top;\n",
              "    }\n",
              "\n",
              "    .dataframe thead th {\n",
              "        text-align: right;\n",
              "    }\n",
              "</style>\n",
              "<table border=\"1\" class=\"dataframe\">\n",
              "  <thead>\n",
              "    <tr style=\"text-align: right;\">\n",
              "      <th></th>\n",
              "      <th>userID</th>\n",
              "      <th>itemID</th>\n",
              "      <th>Prediction</th>\n",
              "    </tr>\n",
              "  </thead>\n",
              "  <tbody>\n",
              "    <tr>\n",
              "      <th>11217</th>\n",
              "      <td>AZMY6E8B52L2T</td>\n",
              "      <td>B00GQS290Y</td>\n",
              "      <td>3.479825</td>\n",
              "    </tr>\n",
              "    <tr>\n",
              "      <th>11205</th>\n",
              "      <td>AZMY6E8B52L2T</td>\n",
              "      <td>B00HX0RTK4</td>\n",
              "      <td>3.479825</td>\n",
              "    </tr>\n",
              "    <tr>\n",
              "      <th>11206</th>\n",
              "      <td>AZMY6E8B52L2T</td>\n",
              "      <td>B007M58WWO</td>\n",
              "      <td>3.479825</td>\n",
              "    </tr>\n",
              "    <tr>\n",
              "      <th>11208</th>\n",
              "      <td>AZMY6E8B52L2T</td>\n",
              "      <td>B009T3AHW0</td>\n",
              "      <td>3.479825</td>\n",
              "    </tr>\n",
              "    <tr>\n",
              "      <th>11200</th>\n",
              "      <td>AZMY6E8B52L2T</td>\n",
              "      <td>B001K4YWCW</td>\n",
              "      <td>3.479825</td>\n",
              "    </tr>\n",
              "    <tr>\n",
              "      <th>11210</th>\n",
              "      <td>AZMY6E8B52L2T</td>\n",
              "      <td>B005IGVXQQ</td>\n",
              "      <td>3.479825</td>\n",
              "    </tr>\n",
              "    <tr>\n",
              "      <th>11211</th>\n",
              "      <td>AZMY6E8B52L2T</td>\n",
              "      <td>B00076WOC4</td>\n",
              "      <td>3.479825</td>\n",
              "    </tr>\n",
              "    <tr>\n",
              "      <th>11214</th>\n",
              "      <td>AZMY6E8B52L2T</td>\n",
              "      <td>B00G335BJI</td>\n",
              "      <td>3.479825</td>\n",
              "    </tr>\n",
              "    <tr>\n",
              "      <th>11213</th>\n",
              "      <td>AZMY6E8B52L2T</td>\n",
              "      <td>B00AANMVNQ</td>\n",
              "      <td>3.479825</td>\n",
              "    </tr>\n",
              "    <tr>\n",
              "      <th>11201</th>\n",
              "      <td>AZMY6E8B52L2T</td>\n",
              "      <td>B0087AUCSA</td>\n",
              "      <td>3.479825</td>\n",
              "    </tr>\n",
              "    <tr>\n",
              "      <th>11216</th>\n",
              "      <td>AZMY6E8B52L2T</td>\n",
              "      <td>B00CGUCBVI</td>\n",
              "      <td>3.479825</td>\n",
              "    </tr>\n",
              "    <tr>\n",
              "      <th>11202</th>\n",
              "      <td>AZMY6E8B52L2T</td>\n",
              "      <td>B00GZ5E29O</td>\n",
              "      <td>3.479825</td>\n",
              "    </tr>\n",
              "    <tr>\n",
              "      <th>11212</th>\n",
              "      <td>AZMY6E8B52L2T</td>\n",
              "      <td>B005MWMBBM</td>\n",
              "      <td>3.479825</td>\n",
              "    </tr>\n",
              "    <tr>\n",
              "      <th>11218</th>\n",
              "      <td>AZMY6E8B52L2T</td>\n",
              "      <td>B00AWKBZ0M</td>\n",
              "      <td>3.479825</td>\n",
              "    </tr>\n",
              "    <tr>\n",
              "      <th>11207</th>\n",
              "      <td>AZMY6E8B52L2T</td>\n",
              "      <td>B00FXR3RAK</td>\n",
              "      <td>3.479825</td>\n",
              "    </tr>\n",
              "    <tr>\n",
              "      <th>11204</th>\n",
              "      <td>AZMY6E8B52L2T</td>\n",
              "      <td>B00IWJUGQY</td>\n",
              "      <td>3.479825</td>\n",
              "    </tr>\n",
              "    <tr>\n",
              "      <th>11203</th>\n",
              "      <td>AZMY6E8B52L2T</td>\n",
              "      <td>B0001M3N7O</td>\n",
              "      <td>3.479825</td>\n",
              "    </tr>\n",
              "    <tr>\n",
              "      <th>11215</th>\n",
              "      <td>AZMY6E8B52L2T</td>\n",
              "      <td>B006IKW90A</td>\n",
              "      <td>3.479825</td>\n",
              "    </tr>\n",
              "    <tr>\n",
              "      <th>11209</th>\n",
              "      <td>AZMY6E8B52L2T</td>\n",
              "      <td>B007U16ODO</td>\n",
              "      <td>3.479825</td>\n",
              "    </tr>\n",
              "    <tr>\n",
              "      <th>11219</th>\n",
              "      <td>AZMY6E8B52L2T</td>\n",
              "      <td>B009VK26J8</td>\n",
              "      <td>2.582759</td>\n",
              "    </tr>\n",
              "  </tbody>\n",
              "</table>\n",
              "</div>\n",
              "      <button class=\"colab-df-convert\" onclick=\"convertToInteractive('df-e9c818a2-4277-42b0-aabc-8ff872a172c3')\"\n",
              "              title=\"Convert this dataframe to an interactive table.\"\n",
              "              style=\"display:none;\">\n",
              "        \n",
              "  <svg xmlns=\"http://www.w3.org/2000/svg\" height=\"24px\"viewBox=\"0 0 24 24\"\n",
              "       width=\"24px\">\n",
              "    <path d=\"M0 0h24v24H0V0z\" fill=\"none\"/>\n",
              "    <path d=\"M18.56 5.44l.94 2.06.94-2.06 2.06-.94-2.06-.94-.94-2.06-.94 2.06-2.06.94zm-11 1L8.5 8.5l.94-2.06 2.06-.94-2.06-.94L8.5 2.5l-.94 2.06-2.06.94zm10 10l.94 2.06.94-2.06 2.06-.94-2.06-.94-.94-2.06-.94 2.06-2.06.94z\"/><path d=\"M17.41 7.96l-1.37-1.37c-.4-.4-.92-.59-1.43-.59-.52 0-1.04.2-1.43.59L10.3 9.45l-7.72 7.72c-.78.78-.78 2.05 0 2.83L4 21.41c.39.39.9.59 1.41.59.51 0 1.02-.2 1.41-.59l7.78-7.78 2.81-2.81c.8-.78.8-2.07 0-2.86zM5.41 20L4 18.59l7.72-7.72 1.47 1.35L5.41 20z\"/>\n",
              "  </svg>\n",
              "      </button>\n",
              "      \n",
              "  <style>\n",
              "    .colab-df-container {\n",
              "      display:flex;\n",
              "      flex-wrap:wrap;\n",
              "      gap: 12px;\n",
              "    }\n",
              "\n",
              "    .colab-df-convert {\n",
              "      background-color: #E8F0FE;\n",
              "      border: none;\n",
              "      border-radius: 50%;\n",
              "      cursor: pointer;\n",
              "      display: none;\n",
              "      fill: #1967D2;\n",
              "      height: 32px;\n",
              "      padding: 0 0 0 0;\n",
              "      width: 32px;\n",
              "    }\n",
              "\n",
              "    .colab-df-convert:hover {\n",
              "      background-color: #E2EBFA;\n",
              "      box-shadow: 0px 1px 2px rgba(60, 64, 67, 0.3), 0px 1px 3px 1px rgba(60, 64, 67, 0.15);\n",
              "      fill: #174EA6;\n",
              "    }\n",
              "\n",
              "    [theme=dark] .colab-df-convert {\n",
              "      background-color: #3B4455;\n",
              "      fill: #D2E3FC;\n",
              "    }\n",
              "\n",
              "    [theme=dark] .colab-df-convert:hover {\n",
              "      background-color: #434B5C;\n",
              "      box-shadow: 0px 1px 3px 1px rgba(0, 0, 0, 0.15);\n",
              "      filter: drop-shadow(0px 1px 2px rgba(0, 0, 0, 0.3));\n",
              "      fill: #FFFFFF;\n",
              "    }\n",
              "  </style>\n",
              "\n",
              "      <script>\n",
              "        const buttonEl =\n",
              "          document.querySelector('#df-e9c818a2-4277-42b0-aabc-8ff872a172c3 button.colab-df-convert');\n",
              "        buttonEl.style.display =\n",
              "          google.colab.kernel.accessAllowed ? 'block' : 'none';\n",
              "\n",
              "        async function convertToInteractive(key) {\n",
              "          const element = document.querySelector('#df-e9c818a2-4277-42b0-aabc-8ff872a172c3');\n",
              "          const dataTable =\n",
              "            await google.colab.kernel.invokeFunction('convertToInteractive',\n",
              "                                                     [key], {});\n",
              "          if (!dataTable) return;\n",
              "\n",
              "          const docLinkHtml = 'Like what you see? Visit the ' +\n",
              "            '<a target=\"_blank\" href=https://colab.research.google.com/notebooks/data_table.ipynb>data table notebook</a>'\n",
              "            + ' to learn more about interactive tables.';\n",
              "          element.innerHTML = '';\n",
              "          dataTable['output_type'] = 'display_data';\n",
              "          await google.colab.output.renderOutput(dataTable, element);\n",
              "          const docLink = document.createElement('div');\n",
              "          docLink.innerHTML = docLinkHtml;\n",
              "          element.appendChild(docLink);\n",
              "        }\n",
              "      </script>\n",
              "    </div>\n",
              "  </div>\n",
              "  "
            ]
          },
          "metadata": {}
        }
      ],
      "id": "rSpmceepL_eg"
    },
    {
      "cell_type": "code",
      "source": [
        "# all ranking metrics have the same arguments\n",
        "TOP_K=20\n",
        "args = [test, top_k]\n",
        "kwargs = dict(col_user='userID', \n",
        "              col_item='itemID', \n",
        "              col_rating='rating', \n",
        "              col_prediction='Prediction', \n",
        "              relevancy_method='top_k', \n",
        "              k=TOP_K)\n",
        "\n",
        "eval_map = map_at_k(*args, **kwargs)\n",
        "eval_ndcg = ndcg_at_k(*args, **kwargs)\n",
        "eval_precision = precision_at_k(*args, **kwargs)\n",
        "eval_recall = recall_at_k(*args, **kwargs)"
      ],
      "metadata": {
        "id": "gg9hLvsZMB4J"
      },
      "execution_count": null,
      "outputs": [],
      "id": "gg9hLvsZMB4J"
    },
    {
      "cell_type": "code",
      "source": [
        "print(f\"Model:\",\n",
        "      f\"Top K:\\t\\t {TOP_K}\",\n",
        "      f\"MAP:\\t\\t {eval_map:f}\",\n",
        "      f\"NDCG:\\t\\t {eval_ndcg:f}\",\n",
        "      f\"Precision@K:\\t {eval_precision:f}\",\n",
        "      f\"Recall@K:\\t {eval_recall:f}\", sep='\\n')"
      ],
      "metadata": {
        "colab": {
          "base_uri": "https://localhost:8080/"
        },
        "id": "Z6XVagWOMDQF",
        "outputId": "5f2f275c-1afa-4d84-bba8-7d4f3ef3922f"
      },
      "execution_count": null,
      "outputs": [
        {
          "output_type": "stream",
          "name": "stdout",
          "text": [
            "Model:\n",
            "Top K:\t\t 20\n",
            "MAP:\t\t 0.002560\n",
            "NDCG:\t\t 0.010602\n",
            "Precision@K:\t 0.007843\n",
            "Recall@K:\t 0.009545\n"
          ]
        }
      ],
      "id": "Z6XVagWOMDQF"
    },
    {
      "cell_type": "markdown",
      "source": [
        "### Catagorical features"
      ],
      "metadata": {
        "id": "4LlOPpF7-eme"
      },
      "id": "4LlOPpF7-eme"
    },
    {
      "cell_type": "code",
      "source": [
        "!pip install dython\n",
        "!pip install matplotlib==3.5.3"
      ],
      "metadata": {
        "id": "gSxgo9eTAL-S"
      },
      "id": "gSxgo9eTAL-S",
      "execution_count": null,
      "outputs": []
    },
    {
      "cell_type": "code",
      "source": [
        "# from dython.nominal import identify_nominal_columns\n",
        "# categorical_features=identify_nominal_columns(rating_df)\n",
        "# categorical_features"
      ],
      "metadata": {
        "colab": {
          "base_uri": "https://localhost:8080/"
        },
        "id": "B5jo-CwlA3Gx",
        "outputId": "68142f41-0789-4095-d4cb-ac4092cb716a"
      },
      "id": "B5jo-CwlA3Gx",
      "execution_count": null,
      "outputs": [
        {
          "output_type": "execute_result",
          "data": {
            "text/plain": [
              "['userID', 'itemID']"
            ]
          },
          "metadata": {},
          "execution_count": 15
        }
      ]
    },
    {
      "cell_type": "code",
      "source": [
        "x = rating_df.groupby('itemID').count()['rating'] > 30\n",
        "itemIndex = x[x].index\n",
        "nm_rating_df=rating_df[rating_df['itemID'].isin(itemIndex)]\n",
        "y = nm_rating_df.groupby('userID').count()['rating']>=30\n",
        "users = y[y].index\n",
        "final_ratings = nm_rating_df[nm_rating_df['userID'].isin(users)]"
      ],
      "metadata": {
        "id": "4Rs7_YxQCOs6"
      },
      "id": "4Rs7_YxQCOs6",
      "execution_count": null,
      "outputs": []
    },
    {
      "cell_type": "code",
      "source": [
        "from dython.nominal import associations\n",
        "omplete_correlation= associations(final_ratings, filename= 'complete_correlation.png', figsize=(10,10))"
      ],
      "metadata": {
        "colab": {
          "base_uri": "https://localhost:8080/",
          "height": 584
        },
        "id": "x020DZlYB0kT",
        "outputId": "09dbaa7c-7542-4a49-bfd9-066fe0214f5d"
      },
      "id": "x020DZlYB0kT",
      "execution_count": null,
      "outputs": [
        {
          "output_type": "display_data",
          "data": {
            "text/plain": [
              "<Figure size 720x720 with 2 Axes>"
            ],
            "image/png": "[encoded data removed]"
          },
          "metadata": {}
        }
      ]
    },
    {
      "cell_type": "markdown",
      "source": [
        "### Check sparsity of the data"
      ],
      "metadata": {
        "id": "mwX8-tnBC2WF"
      },
      "id": "mwX8-tnBC2WF"
    },
    {
      "cell_type": "code",
      "source": [
        "from scipy.sparse import csr_matrix\n",
        "# pivot ratings into movie features\n",
        "features_df = final_ratings.pivot_table(\n",
        "    index='itemID',\n",
        "    columns='userID',\n",
        "    values='rating'\n",
        ")\n",
        "# convert dataframe of movie features to scipy sparse matrix"
      ],
      "metadata": {
        "id": "EhN34Uh9C1ht"
      },
      "id": "EhN34Uh9C1ht",
      "execution_count": null,
      "outputs": []
    },
    {
      "cell_type": "code",
      "source": [
        "null=features_df.isna().sum().sum()"
      ],
      "metadata": {
        "id": "Lvz-Xb-MFDK5"
      },
      "id": "Lvz-Xb-MFDK5",
      "execution_count": null,
      "outputs": []
    },
    {
      "cell_type": "code",
      "source": [
        "notnull=features_df.count().sum()"
      ],
      "metadata": {
        "id": "C-Mx86FyFa5I"
      },
      "id": "C-Mx86FyFa5I",
      "execution_count": null,
      "outputs": []
    },
    {
      "cell_type": "code",
      "source": [
        "notnull"
      ],
      "metadata": {
        "colab": {
          "base_uri": "https://localhost:8080/"
        },
        "id": "CNwbUJe3GFPe",
        "outputId": "d3ffbe6c-abde-4576-8656-3f949eb47213"
      },
      "id": "CNwbUJe3GFPe",
      "execution_count": null,
      "outputs": [
        {
          "output_type": "execute_result",
          "data": {
            "text/plain": [
              "128798"
            ]
          },
          "metadata": {},
          "execution_count": 40
        }
      ]
    },
    {
      "cell_type": "code",
      "source": [
        "null"
      ],
      "metadata": {
        "colab": {
          "base_uri": "https://localhost:8080/"
        },
        "id": "neVAK9yQGQ5l",
        "outputId": "b934b9b2-278e-4912-f1b7-5879e19144c2"
      },
      "id": "neVAK9yQGQ5l",
      "execution_count": null,
      "outputs": [
        {
          "output_type": "execute_result",
          "data": {
            "text/plain": [
              "67873640"
            ]
          },
          "metadata": {},
          "execution_count": 41
        }
      ]
    },
    {
      "cell_type": "code",
      "source": [
        "sparsity=(null/(notnull+null))\n",
        "sparsity"
      ],
      "metadata": {
        "colab": {
          "base_uri": "https://localhost:8080/"
        },
        "id": "H_Falw8cFkLS",
        "outputId": "0a5fe94c-620c-4e47-e377-a8ad59f49fb8"
      },
      "id": "H_Falw8cFkLS",
      "execution_count": null,
      "outputs": [
        {
          "output_type": "execute_result",
          "data": {
            "text/plain": [
              "0.9981059796709053"
            ]
          },
          "metadata": {},
          "execution_count": 42
        }
      ]
    },
    {
      "cell_type": "markdown",
      "source": [
        "## Bilateral Variational Autoencoder"
      ],
      "metadata": {
        "id": "Hy4eACoMgKx0"
      },
      "id": "Hy4eACoMgKx0"
    },
    {
      "cell_type": "code",
      "source": [
        "x = rating_df.groupby('itemID').count()['rating'] > 50\n",
        "itemIndex = x[x].index\n",
        "nm_rating_df=rating_df[rating_df['itemID'].isin(itemIndex)]\n",
        "y = nm_rating_df.groupby('userID').count()['rating']>=50\n",
        "users = y[y].index\n",
        "final_ratings = nm_rating_df[nm_rating_df['userID'].isin(users)]"
      ],
      "metadata": {
        "id": "5cdpOo_89Pjr"
      },
      "id": "5cdpOo_89Pjr",
      "execution_count": null,
      "outputs": []
    },
    {
      "cell_type": "code",
      "source": [
        "from recommenders.datasets import movielens\n",
        "from recommenders.datasets.python_splitters import python_random_split\n",
        "from recommenders.evaluation.python_evaluation import map_at_k, ndcg_at_k, precision_at_k, recall_at_k\n",
        "from recommenders.models.cornac.cornac_utils import predict_ranking\n",
        "from recommenders.utils.timer import Timer\n",
        "from recommenders.utils.constants import SEED\n"
      ],
      "metadata": {
        "id": "7UqtPSqRgRpT"
      },
      "id": "7UqtPSqRgRpT",
      "execution_count": null,
      "outputs": []
    },
    {
      "cell_type": "code",
      "source": [
        "!pip install cornac"
      ],
      "metadata": {
        "colab": {
          "base_uri": "https://localhost:8080/"
        },
        "id": "-kydZ-FRWHuF",
        "outputId": "1b196a86-724a-4c31-f65b-85bdbc889665"
      },
      "id": "-kydZ-FRWHuF",
      "execution_count": null,
      "outputs": [
        {
          "output_type": "stream",
          "name": "stdout",
          "text": [
            "Looking in indexes: https://pypi.org/simple, https://us-python.pkg.dev/colab-wheels/public/simple/\n",
            "Requirement already satisfied: cornac in /usr/local/lib/python3.7/dist-packages (1.14.2)\n",
            "Requirement already satisfied: tqdm>=4.19 in /usr/local/lib/python3.7/dist-packages (from cornac) (4.64.0)\n",
            "Requirement already satisfied: scipy in /usr/local/lib/python3.7/dist-packages (from cornac) (1.7.3)\n",
            "Requirement already satisfied: powerlaw in /usr/local/lib/python3.7/dist-packages (from cornac) (1.5)\n",
            "Requirement already satisfied: numpy in /usr/local/lib/python3.7/dist-packages (from cornac) (1.21.6)\n",
            "Requirement already satisfied: matplotlib in /usr/local/lib/python3.7/dist-packages (from powerlaw->cornac) (3.2.2)\n",
            "Requirement already satisfied: mpmath in /usr/local/lib/python3.7/dist-packages (from powerlaw->cornac) (1.2.1)\n",
            "Requirement already satisfied: pyparsing!=2.0.4,!=2.1.2,!=2.1.6,>=2.0.1 in /usr/local/lib/python3.7/dist-packages (from matplotlib->powerlaw->cornac) (3.0.9)\n",
            "Requirement already satisfied: kiwisolver>=1.0.1 in /usr/local/lib/python3.7/dist-packages (from matplotlib->powerlaw->cornac) (1.4.4)\n",
            "Requirement already satisfied: cycler>=0.10 in /usr/local/lib/python3.7/dist-packages (from matplotlib->powerlaw->cornac) (0.11.0)\n",
            "Requirement already satisfied: python-dateutil>=2.1 in /usr/local/lib/python3.7/dist-packages (from matplotlib->powerlaw->cornac) (2.8.2)\n",
            "Requirement already satisfied: typing-extensions in /usr/local/lib/python3.7/dist-packages (from kiwisolver>=1.0.1->matplotlib->powerlaw->cornac) (4.1.1)\n",
            "Requirement already satisfied: six>=1.5 in /usr/local/lib/python3.7/dist-packages (from python-dateutil>=2.1->matplotlib->powerlaw->cornac) (1.15.0)\n"
          ]
        }
      ]
    },
    {
      "cell_type": "code",
      "source": [
        "import torch\n",
        "import cornac"
      ],
      "metadata": {
        "id": "07tGcR4DhAPA"
      },
      "id": "07tGcR4DhAPA",
      "execution_count": null,
      "outputs": []
    },
    {
      "cell_type": "code",
      "source": [
        "bva_df=final_ratings"
      ],
      "metadata": {
        "id": "8BTtsxFegoMg"
      },
      "id": "8BTtsxFegoMg",
      "execution_count": null,
      "outputs": []
    },
    {
      "cell_type": "code",
      "source": [
        "\n",
        "# top k items to recommend\n",
        "TOP_K = 20\n",
        "\n",
        "# Model parameters\n",
        "LATENT_DIM = 30\n",
        "ENCODER_DIMS = [100]\n",
        "ACT_FUNC = \"relu\"\n",
        "LIKELIHOOD = \"pois\"\n",
        "NUM_EPOCHS = 200\n",
        "BATCH_SIZE = 512\n",
        "LEARNING_RATE = 0.001"
      ],
      "metadata": {
        "id": "y0HUuMxUgj6J"
      },
      "id": "y0HUuMxUgj6J",
      "execution_count": null,
      "outputs": []
    },
    {
      "cell_type": "code",
      "source": [
        "train, test = python_random_split(bva_df, 0.8)\n"
      ],
      "metadata": {
        "id": "Nc4fFA3zgm3B"
      },
      "id": "Nc4fFA3zgm3B",
      "execution_count": null,
      "outputs": []
    },
    {
      "cell_type": "code",
      "source": [
        "train_set = cornac.data.Dataset.from_uir(train.itertuples(index=False), seed=SEED)\n",
        "\n",
        "print('Number of users: {}'.format(train_set.num_users))\n",
        "print('Number of items: {}'.format(train_set.num_items))"
      ],
      "metadata": {
        "colab": {
          "base_uri": "https://localhost:8080/"
        },
        "id": "ZOa3r8q6g1eU",
        "outputId": "3de4c6af-7065-4f04-93b4-1ec638b9b0fd"
      },
      "id": "ZOa3r8q6g1eU",
      "execution_count": null,
      "outputs": [
        {
          "output_type": "stream",
          "name": "stdout",
          "text": [
            "Number of users: 561\n",
            "Number of items: 11197\n"
          ]
        }
      ]
    },
    {
      "cell_type": "code",
      "source": [
        "bivae = cornac.models.BiVAECF(\n",
        "    k=LATENT_DIM,\n",
        "    encoder_structure=ENCODER_DIMS,\n",
        "    act_fn=ACT_FUNC,\n",
        "    likelihood=LIKELIHOOD,\n",
        "    n_epochs=NUM_EPOCHS,\n",
        "    batch_size=BATCH_SIZE,\n",
        "    learning_rate=LEARNING_RATE,\n",
        "    seed=SEED,\n",
        "    use_gpu=torch.cuda.is_available(),\n",
        "    verbose=True\n",
        ")\n",
        "\n",
        "with Timer() as t:\n",
        "    bivae.fit(train_set)\n",
        "print(\"Took {} seconds for training.\".format(t))"
      ],
      "metadata": {
        "colab": {
          "base_uri": "https://localhost:8080/",
          "height": 66,
          "referenced_widgets": [
            "d3db698042d540eb94b196b035440ddb",
            "d01468f269864c8a8c4677c11bbc3729",
            "f9b2e9209a704b5ab5105bd6b301d9c5",
            "395f43f2412e44b186381cd3f10884bb",
            "792a11d684804b0bbe73a333c7fb2df6",
            "a027a7da2dc547199c00aea71bd1dfe3",
            "7ace5e3b279a4cd8a60781fc16653d70",
            "b1b8faf3f0dd46f8a5fc69db10e3dd17",
            "1a473f4f0f6345d7b4dcaf4ee72406f6",
            "398586b586fe4c3b837bea813a6aadcd",
            "77143c263d984f80b64389fe335723be"
          ]
        },
        "id": "gGbXtSd0hF4D",
        "outputId": "454c6968-4c79-4cd9-e3a8-49e284b9b483"
      },
      "id": "gGbXtSd0hF4D",
      "execution_count": null,
      "outputs": [
        {
          "output_type": "display_data",
          "data": {
            "text/plain": [
              "  0%|          | 0/200 [00:00<?, ?it/s]"
            ],
            "application/vnd.jupyter.widget-view+json": {
              "version_major": 2,
              "version_minor": 0,
              "model_id": "d3db698042d540eb94b196b035440ddb"
            }
          },
          "metadata": {}
        },
        {
          "output_type": "stream",
          "name": "stdout",
          "text": [
            "Took 43.5997 seconds for training.\n"
          ]
        }
      ]
    },
    {
      "cell_type": "code",
      "source": [
        "with Timer() as t:\n",
        "    all_predictions = predict_ranking(bivae, train, usercol='userID', itemcol='itemID', remove_seen=True)\n",
        "print(\"Took {} seconds for prediction.\".format(t))"
      ],
      "metadata": {
        "colab": {
          "base_uri": "https://localhost:8080/"
        },
        "id": "Erc30RWIhVxG",
        "outputId": "864c0227-9427-41a9-c986-f813f4158921"
      },
      "id": "Erc30RWIhVxG",
      "execution_count": null,
      "outputs": [
        {
          "output_type": "stream",
          "name": "stdout",
          "text": [
            "Took 5.5537 seconds for prediction.\n"
          ]
        }
      ]
    },
    {
      "cell_type": "code",
      "source": [
        "eval_map = map_at_k(test, all_predictions, col_prediction='prediction', k=TOP_K)\n",
        "eval_ndcg = ndcg_at_k(test, all_predictions, col_prediction='prediction', k=TOP_K)\n",
        "eval_precision = precision_at_k(test, all_predictions, col_prediction='prediction', k=TOP_K)\n",
        "eval_recall = recall_at_k(test, all_predictions, col_prediction='prediction', k=TOP_K)\n",
        "\n",
        "print(\"MAP:\\t%f\" % eval_map,\n",
        "      \"NDCG:\\t%f\" % eval_ndcg,\n",
        "      \"Precision@K:\\t%f\" % eval_precision,\n",
        "      \"Recall@K:\\t%f\" % eval_recall, sep='\\n')"
      ],
      "metadata": {
        "colab": {
          "base_uri": "https://localhost:8080/"
        },
        "id": "MNU0_rO_hYuX",
        "outputId": "2e9f464a-4c90-48c2-a402-acbad4bb8db0"
      },
      "id": "MNU0_rO_hYuX",
      "execution_count": null,
      "outputs": [
        {
          "output_type": "stream",
          "name": "stdout",
          "text": [
            "MAP:\t0.015683\n",
            "NDCG:\t0.055628\n",
            "Precision@K:\t0.037522\n",
            "Recall@K:\t0.049875\n"
          ]
        }
      ]
    }
  ],
  "metadata": {
    "kernelspec": {
      "display_name": "Python 3",
      "language": "python",
      "name": "python3"
    },
    "language_info": {
      "codemirror_mode": {
        "name": "ipython",
        "version": 3
      },
      "file_extension": ".py",
      "mimetype": "text/x-python",
      "name": "python",
      "nbconvert_exporter": "python",
      "pygments_lexer": "ipython3",
      "version": "3.6.5"
    },
    "colab": {
      "provenance": [],
      "collapsed_sections": [
        "85495bf1",
        "mwX8-tnBC2WF",
        "hL01apFjF2At"
      ],
      "machine_shape": "hm"
    },
    "gpuClass": "standard",
    "accelerator": "GPU",
    "widgets": {
      "application/vnd.jupyter.widget-state+json": {
        "d3db698042d540eb94b196b035440ddb": {
          "model_module": "@jupyter-widgets/controls",
          "model_name": "HBoxModel",
          "model_module_version": "1.5.0",
          "state": {
            "_dom_classes": [],
            "_model_module": "@jupyter-widgets/controls",
            "_model_module_version": "1.5.0",
            "_model_name": "HBoxModel",
            "_view_count": null,
            "_view_module": "@jupyter-widgets/controls",
            "_view_module_version": "1.5.0",
            "_view_name": "HBoxView",
            "box_style": "",
            "children": [
              "IPY_MODEL_d01468f269864c8a8c4677c11bbc3729",
              "IPY_MODEL_f9b2e9209a704b5ab5105bd6b301d9c5",
              "IPY_MODEL_395f43f2412e44b186381cd3f10884bb"
            ],
            "layout": "IPY_MODEL_792a11d684804b0bbe73a333c7fb2df6"
          }
        },
        "d01468f269864c8a8c4677c11bbc3729": {
          "model_module": "@jupyter-widgets/controls",
          "model_name": "HTMLModel",
          "model_module_version": "1.5.0",
          "state": {
            "_dom_classes": [],
            "_model_module": "@jupyter-widgets/controls",
            "_model_module_version": "1.5.0",
            "_model_name": "HTMLModel",
            "_view_count": null,
            "_view_module": "@jupyter-widgets/controls",
            "_view_module_version": "1.5.0",
            "_view_name": "HTMLView",
            "description": "",
            "description_tooltip": null,
            "layout": "IPY_MODEL_a027a7da2dc547199c00aea71bd1dfe3",
            "placeholder": "​",
            "style": "IPY_MODEL_7ace5e3b279a4cd8a60781fc16653d70",
            "value": "100%"
          }
        },
        "f9b2e9209a704b5ab5105bd6b301d9c5": {
          "model_module": "@jupyter-widgets/controls",
          "model_name": "FloatProgressModel",
          "model_module_version": "1.5.0",
          "state": {
            "_dom_classes": [],
            "_model_module": "@jupyter-widgets/controls",
            "_model_module_version": "1.5.0",
            "_model_name": "FloatProgressModel",
            "_view_count": null,
            "_view_module": "@jupyter-widgets/controls",
            "_view_module_version": "1.5.0",
            "_view_name": "ProgressView",
            "bar_style": "success",
            "description": "",
            "description_tooltip": null,
            "layout": "IPY_MODEL_b1b8faf3f0dd46f8a5fc69db10e3dd17",
            "max": 200,
            "min": 0,
            "orientation": "horizontal",
            "style": "IPY_MODEL_1a473f4f0f6345d7b4dcaf4ee72406f6",
            "value": 200
          }
        },
        "395f43f2412e44b186381cd3f10884bb": {
          "model_module": "@jupyter-widgets/controls",
          "model_name": "HTMLModel",
          "model_module_version": "1.5.0",
          "state": {
            "_dom_classes": [],
            "_model_module": "@jupyter-widgets/controls",
            "_model_module_version": "1.5.0",
            "_model_name": "HTMLModel",
            "_view_count": null,
            "_view_module": "@jupyter-widgets/controls",
            "_view_module_version": "1.5.0",
            "_view_name": "HTMLView",
            "description": "",
            "description_tooltip": null,
            "layout": "IPY_MODEL_398586b586fe4c3b837bea813a6aadcd",
            "placeholder": "​",
            "style": "IPY_MODEL_77143c263d984f80b64389fe335723be",
            "value": " 200/200 [00:40&lt;00:00,  6.94it/s, loss_i=0.0402, loss_u=1.34]"
          }
        },
        "792a11d684804b0bbe73a333c7fb2df6": {
          "model_module": "@jupyter-widgets/base",
          "model_name": "LayoutModel",
          "model_module_version": "1.2.0",
          "state": {
            "_model_module": "@jupyter-widgets/base",
            "_model_module_version": "1.2.0",
            "_model_name": "LayoutModel",
            "_view_count": null,
            "_view_module": "@jupyter-widgets/base",
            "_view_module_version": "1.2.0",
            "_view_name": "LayoutView",
            "align_content": null,
            "align_items": null,
            "align_self": null,
            "border": null,
            "bottom": null,
            "display": null,
            "flex": null,
            "flex_flow": null,
            "grid_area": null,
            "grid_auto_columns": null,
            "grid_auto_flow": null,
            "grid_auto_rows": null,
            "grid_column": null,
            "grid_gap": null,
            "grid_row": null,
            "grid_template_areas": null,
            "grid_template_columns": null,
            "grid_template_rows": null,
            "height": null,
            "justify_content": null,
            "justify_items": null,
            "left": null,
            "margin": null,
            "max_height": null,
            "max_width": null,
            "min_height": null,
            "min_width": null,
            "object_fit": null,
            "object_position": null,
            "order": null,
            "overflow": null,
            "overflow_x": null,
            "overflow_y": null,
            "padding": null,
            "right": null,
            "top": null,
            "visibility": null,
            "width": null
          }
        },
        "a027a7da2dc547199c00aea71bd1dfe3": {
          "model_module": "@jupyter-widgets/base",
          "model_name": "LayoutModel",
          "model_module_version": "1.2.0",
          "state": {
            "_model_module": "@jupyter-widgets/base",
            "_model_module_version": "1.2.0",
            "_model_name": "LayoutModel",
            "_view_count": null,
            "_view_module": "@jupyter-widgets/base",
            "_view_module_version": "1.2.0",
            "_view_name": "LayoutView",
            "align_content": null,
            "align_items": null,
            "align_self": null,
            "border": null,
            "bottom": null,
            "display": null,
            "flex": null,
            "flex_flow": null,
            "grid_area": null,
            "grid_auto_columns": null,
            "grid_auto_flow": null,
            "grid_auto_rows": null,
            "grid_column": null,
            "grid_gap": null,
            "grid_row": null,
            "grid_template_areas": null,
            "grid_template_columns": null,
            "grid_template_rows": null,
            "height": null,
            "justify_content": null,
            "justify_items": null,
            "left": null,
            "margin": null,
            "max_height": null,
            "max_width": null,
            "min_height": null,
            "min_width": null,
            "object_fit": null,
            "object_position": null,
            "order": null,
            "overflow": null,
            "overflow_x": null,
            "overflow_y": null,
            "padding": null,
            "right": null,
            "top": null,
            "visibility": null,
            "width": null
          }
        },
        "7ace5e3b279a4cd8a60781fc16653d70": {
          "model_module": "@jupyter-widgets/controls",
          "model_name": "DescriptionStyleModel",
          "model_module_version": "1.5.0",
          "state": {
            "_model_module": "@jupyter-widgets/controls",
            "_model_module_version": "1.5.0",
            "_model_name": "DescriptionStyleModel",
            "_view_count": null,
            "_view_module": "@jupyter-widgets/base",
            "_view_module_version": "1.2.0",
            "_view_name": "StyleView",
            "description_width": ""
          }
        },
        "b1b8faf3f0dd46f8a5fc69db10e3dd17": {
          "model_module": "@jupyter-widgets/base",
          "model_name": "LayoutModel",
          "model_module_version": "1.2.0",
          "state": {
            "_model_module": "@jupyter-widgets/base",
            "_model_module_version": "1.2.0",
            "_model_name": "LayoutModel",
            "_view_count": null,
            "_view_module": "@jupyter-widgets/base",
            "_view_module_version": "1.2.0",
            "_view_name": "LayoutView",
            "align_content": null,
            "align_items": null,
            "align_self": null,
            "border": null,
            "bottom": null,
            "display": null,
            "flex": null,
            "flex_flow": null,
            "grid_area": null,
            "grid_auto_columns": null,
            "grid_auto_flow": null,
            "grid_auto_rows": null,
            "grid_column": null,
            "grid_gap": null,
            "grid_row": null,
            "grid_template_areas": null,
            "grid_template_columns": null,
            "grid_template_rows": null,
            "height": null,
            "justify_content": null,
            "justify_items": null,
            "left": null,
            "margin": null,
            "max_height": null,
            "max_width": null,
            "min_height": null,
            "min_width": null,
            "object_fit": null,
            "object_position": null,
            "order": null,
            "overflow": null,
            "overflow_x": null,
            "overflow_y": null,
            "padding": null,
            "right": null,
            "top": null,
            "visibility": null,
            "width": null
          }
        },
        "1a473f4f0f6345d7b4dcaf4ee72406f6": {
          "model_module": "@jupyter-widgets/controls",
          "model_name": "ProgressStyleModel",
          "model_module_version": "1.5.0",
          "state": {
            "_model_module": "@jupyter-widgets/controls",
            "_model_module_version": "1.5.0",
            "_model_name": "ProgressStyleModel",
            "_view_count": null,
            "_view_module": "@jupyter-widgets/base",
            "_view_module_version": "1.2.0",
            "_view_name": "StyleView",
            "bar_color": null,
            "description_width": ""
          }
        },
        "398586b586fe4c3b837bea813a6aadcd": {
          "model_module": "@jupyter-widgets/base",
          "model_name": "LayoutModel",
          "model_module_version": "1.2.0",
          "state": {
            "_model_module": "@jupyter-widgets/base",
            "_model_module_version": "1.2.0",
            "_model_name": "LayoutModel",
            "_view_count": null,
            "_view_module": "@jupyter-widgets/base",
            "_view_module_version": "1.2.0",
            "_view_name": "LayoutView",
            "align_content": null,
            "align_items": null,
            "align_self": null,
            "border": null,
            "bottom": null,
            "display": null,
            "flex": null,
            "flex_flow": null,
            "grid_area": null,
            "grid_auto_columns": null,
            "grid_auto_flow": null,
            "grid_auto_rows": null,
            "grid_column": null,
            "grid_gap": null,
            "grid_row": null,
            "grid_template_areas": null,
            "grid_template_columns": null,
            "grid_template_rows": null,
            "height": null,
            "justify_content": null,
            "justify_items": null,
            "left": null,
            "margin": null,
            "max_height": null,
            "max_width": null,
            "min_height": null,
            "min_width": null,
            "object_fit": null,
            "object_position": null,
            "order": null,
            "overflow": null,
            "overflow_x": null,
            "overflow_y": null,
            "padding": null,
            "right": null,
            "top": null,
            "visibility": null,
            "width": null
          }
        },
        "77143c263d984f80b64389fe335723be": {
          "model_module": "@jupyter-widgets/controls",
          "model_name": "DescriptionStyleModel",
          "model_module_version": "1.5.0",
          "state": {
            "_model_module": "@jupyter-widgets/controls",
            "_model_module_version": "1.5.0",
            "_model_name": "DescriptionStyleModel",
            "_view_count": null,
            "_view_module": "@jupyter-widgets/base",
            "_view_module_version": "1.2.0",
            "_view_name": "StyleView",
            "description_width": ""
          }
        }
      }
    }
  },
  "nbformat": 4,
  "nbformat_minor": 5
}