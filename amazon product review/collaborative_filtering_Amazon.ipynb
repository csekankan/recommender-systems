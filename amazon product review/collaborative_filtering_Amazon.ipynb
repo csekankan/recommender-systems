{
  "cells": [
    {
      "cell_type": "code",
      "source": [
        "gpu_info = !nvidia-smi\n",
        "gpu_info = '\\n'.join(gpu_info)\n",
        "if gpu_info.find('failed') >= 0:\n",
        "  print('Not connected to a GPU')\n",
        "else:\n",
        "  print(gpu_info)"
      ],
      "metadata": {
        "colab": {
          "base_uri": "https://localhost:8080/"
        },
        "id": "p9CAyfRe2S17",
        "outputId": "59196b59-acf3-49c3-e971-c63cca844df6"
      },
      "execution_count": null,
      "outputs": [
        {
          "output_type": "stream",
          "name": "stdout",
          "text": [
            "Tue Sep  6 16:43:26 2022       \n",
            "+-----------------------------------------------------------------------------+\n",
            "| NVIDIA-SMI 460.32.03    Driver Version: 460.32.03    CUDA Version: 11.2     |\n",
            "|-------------------------------+----------------------+----------------------+\n",
            "| GPU  Name        Persistence-M| Bus-Id        Disp.A | Volatile Uncorr. ECC |\n",
            "| Fan  Temp  Perf  Pwr:Usage/Cap|         Memory-Usage | GPU-Util  Compute M. |\n",
            "|                               |                      |               MIG M. |\n",
            "|===============================+======================+======================|\n",
            "|   0  Tesla P100-PCIE...  Off  | 00000000:00:04.0 Off |                    0 |\n",
            "| N/A   42C    P0    29W / 250W |      0MiB / 16280MiB |      0%      Default |\n",
            "|                               |                      |                  N/A |\n",
            "+-------------------------------+----------------------+----------------------+\n",
            "                                                                               \n",
            "+-----------------------------------------------------------------------------+\n",
            "| Processes:                                                                  |\n",
            "|  GPU   GI   CI        PID   Type   Process name                  GPU Memory |\n",
            "|        ID   ID                                                   Usage      |\n",
            "|=============================================================================|\n",
            "|  No running processes found                                                 |\n",
            "+-----------------------------------------------------------------------------+\n"
          ]
        }
      ]
    },
    {
      "cell_type": "code",
      "source": [
        "from psutil import virtual_memory\n",
        "ram_gb = virtual_memory().total / 1e9\n",
        "print('Your runtime has {:.1f} gigabytes of available RAM\\n'.format(ram_gb))\n",
        "\n",
        "if ram_gb < 20:\n",
        "  print('Not using a high-RAM runtime')\n",
        "else:\n",
        "  print('You are using a high-RAM runtime!')"
      ],
      "metadata": {
        "colab": {
          "base_uri": "https://localhost:8080/"
        },
        "id": "MZiD5zY12cfy",
        "outputId": "2ef0835a-dab3-4d65-9392-6e85a53b900b"
      },
      "execution_count": null,
      "outputs": [
        {
          "output_type": "stream",
          "name": "stdout",
          "text": [
            "Your runtime has 27.3 gigabytes of available RAM\n",
            "\n",
            "You are using a high-RAM runtime!\n"
          ]
        }
      ]
    },
    {
      "cell_type": "code",
      "execution_count": null,
      "metadata": {
        "id": "ntCWzVKw13kD"
      },
      "outputs": [],
      "source": [
        "import pandas as pd\n",
        "import numpy as np\n",
        "from zipfile import ZipFile\n",
        "import tensorflow as tf\n",
        "from tensorflow import keras\n",
        "from tensorflow.keras import layers\n",
        "from pathlib import Path\n",
        "import matplotlib.pyplot as plt"
      ]
    },
    {
      "cell_type": "code",
      "source": [
        "from datetime import datetime\n",
        "import os\n",
        "import matplotlib\n",
        "import pandas as pd\n",
        "import numpy as np\n",
        "import matplotlib.pyplot as plt\n",
        "import seaborn as sns\n",
        "sns.set_style('whitegrid')\n",
        "\n",
        "from scipy import sparse\n",
        "from scipy.sparse import csc_matrix\n",
        "from sklearn.decomposition import TruncatedSVD\n",
        "\n",
        "np.random.seed(0)"
      ],
      "metadata": {
        "id": "NL0x3rN32fxS"
      },
      "execution_count": null,
      "outputs": []
    },
    {
      "cell_type": "markdown",
      "metadata": {
        "id": "SkXjw8ih13j9"
      },
      "source": [
        "# Collaborative Filtering"
      ]
    },
    {
      "cell_type": "markdown",
      "metadata": {
        "id": "7xhkK5bF13kE"
      },
      "source": [
        "## First, load the data and apply preprocessing"
      ]
    },
    {
      "cell_type": "code",
      "source": [
        "!pip install gdown"
      ],
      "metadata": {
        "id": "3mSlGMHVpAt_",
        "colab": {
          "base_uri": "https://localhost:8080/"
        },
        "outputId": "f93c85f5-dcdb-4088-a6e4-b1dbe2639415"
      },
      "execution_count": null,
      "outputs": [
        {
          "output_type": "stream",
          "name": "stdout",
          "text": [
            "Looking in indexes: https://pypi.org/simple, https://us-python.pkg.dev/colab-wheels/public/simple/\n",
            "Requirement already satisfied: gdown in /usr/local/lib/python3.7/dist-packages (4.4.0)\n",
            "Requirement already satisfied: tqdm in /usr/local/lib/python3.7/dist-packages (from gdown) (4.64.0)\n",
            "Requirement already satisfied: filelock in /usr/local/lib/python3.7/dist-packages (from gdown) (3.8.0)\n",
            "Requirement already satisfied: requests[socks] in /usr/local/lib/python3.7/dist-packages (from gdown) (2.23.0)\n",
            "Requirement already satisfied: beautifulsoup4 in /usr/local/lib/python3.7/dist-packages (from gdown) (4.6.3)\n",
            "Requirement already satisfied: six in /usr/local/lib/python3.7/dist-packages (from gdown) (1.15.0)\n",
            "Requirement already satisfied: urllib3!=1.25.0,!=1.25.1,<1.26,>=1.21.1 in /usr/local/lib/python3.7/dist-packages (from requests[socks]->gdown) (1.24.3)\n",
            "Requirement already satisfied: certifi>=2017.4.17 in /usr/local/lib/python3.7/dist-packages (from requests[socks]->gdown) (2022.6.15)\n",
            "Requirement already satisfied: idna<3,>=2.5 in /usr/local/lib/python3.7/dist-packages (from requests[socks]->gdown) (2.10)\n",
            "Requirement already satisfied: chardet<4,>=3.0.2 in /usr/local/lib/python3.7/dist-packages (from requests[socks]->gdown) (3.0.4)\n",
            "Requirement already satisfied: PySocks!=1.5.7,>=1.5.6 in /usr/local/lib/python3.7/dist-packages (from requests[socks]->gdown) (1.7.1)\n"
          ]
        }
      ]
    },
    {
      "cell_type": "code",
      "source": [
        "!gdown https://drive.google.com/uc?id=1dFuCcqIO0_vQcNg_47Ondz3akBG1ojzb"
      ],
      "metadata": {
        "colab": {
          "base_uri": "https://localhost:8080/"
        },
        "id": "JN6L-XVUpDB3",
        "outputId": "cc00db95-e5d4-49e3-ccc7-cbfee32c1050"
      },
      "execution_count": null,
      "outputs": [
        {
          "output_type": "stream",
          "name": "stdout",
          "text": [
            "Downloading...\n",
            "From: https://drive.google.com/uc?id=1dFuCcqIO0_vQcNg_47Ondz3akBG1ojzb\n",
            "To: /content/ratings_Electronics.csv\n",
            "100% 319M/319M [00:02<00:00, 110MB/s]\n"
          ]
        }
      ]
    },
    {
      "cell_type": "code",
      "source": [
        "g=pd.read_csv('ratings_Electronics.csv')"
      ],
      "metadata": {
        "id": "jMmXpU8gJjRc"
      },
      "execution_count": null,
      "outputs": []
    },
    {
      "cell_type": "code",
      "execution_count": null,
      "metadata": {
        "id": "3fb6d6a6"
      },
      "outputs": [],
      "source": [
        "rating_df =pd.read_csv('ratings_Electronics.csv',  names=['userID','itemID','rating','time'])\n",
        "rating_df=rating_df[['userID','itemID','rating','time']]\n",
        "\n"
      ]
    },
    {
      "cell_type": "code",
      "source": [
        "rating_df.dropna(inplace=True)"
      ],
      "metadata": {
        "id": "fH7Z6wSbTPT1"
      },
      "execution_count": null,
      "outputs": []
    },
    {
      "cell_type": "code",
      "source": [
        "x = rating_df.groupby('itemID').count()['rating'] > 30\n",
        "itemIndex = x[x].index\n",
        "nm_rating_df=rating_df[rating_df['itemID'].isin(itemIndex)]\n",
        "y = nm_rating_df.groupby('userID').count()['rating']>=30\n",
        "users = y[y].index\n",
        "final_ratings = nm_rating_df[nm_rating_df['userID'].isin(users)]\n",
        "rating_df=final_ratings"
      ],
      "metadata": {
        "id": "K8_unxKI3Lvc"
      },
      "execution_count": null,
      "outputs": []
    },
    {
      "cell_type": "code",
      "source": [
        "user_ids = rating_df[\"userID\"].unique().tolist()\n",
        "user2user_encoded = {x: i for i, x in enumerate(user_ids)}\n",
        "userencoded2user = {i: x for i, x in enumerate(user_ids)}\n",
        "item_ids = rating_df[\"itemID\"].unique().tolist()\n",
        "item2item_encoded = {x: i for i, x in enumerate(item_ids)}\n",
        "item_encoded2item = {i: x for i, x in enumerate(item_ids)}\n",
        "rating_df[\"userID\"] = rating_df[\"userID\"].map(user2user_encoded)\n",
        "rating_df[\"itemID\"] = rating_df[\"itemID\"].map(item2item_encoded)"
      ],
      "metadata": {
        "colab": {
          "base_uri": "https://localhost:8080/"
        },
        "id": "MnRquM3t41rx",
        "outputId": "b8971f2d-4b9a-4eca-a176-9e195816c3c6"
      },
      "execution_count": null,
      "outputs": [
        {
          "output_type": "stream",
          "name": "stderr",
          "text": [
            "/usr/local/lib/python3.7/dist-packages/ipykernel_launcher.py:7: SettingWithCopyWarning: \n",
            "A value is trying to be set on a copy of a slice from a DataFrame.\n",
            "Try using .loc[row_indexer,col_indexer] = value instead\n",
            "\n",
            "See the caveats in the documentation: https://pandas.pydata.org/pandas-docs/stable/user_guide/indexing.html#returning-a-view-versus-a-copy\n",
            "  import sys\n",
            "/usr/local/lib/python3.7/dist-packages/ipykernel_launcher.py:8: SettingWithCopyWarning: \n",
            "A value is trying to be set on a copy of a slice from a DataFrame.\n",
            "Try using .loc[row_indexer,col_indexer] = value instead\n",
            "\n",
            "See the caveats in the documentation: https://pandas.pydata.org/pandas-docs/stable/user_guide/indexing.html#returning-a-view-versus-a-copy\n",
            "  \n"
          ]
        }
      ]
    },
    {
      "cell_type": "code",
      "source": [
        "rating_df['userID']=rating_df['userID'].astype(int)\n",
        "rating_df['itemID']=rating_df['itemID'].astype(int)"
      ],
      "metadata": {
        "colab": {
          "base_uri": "https://localhost:8080/"
        },
        "id": "7KJoQDeN8URm",
        "outputId": "70b13d2f-f2b9-4ffa-d3d3-6367e6953c74"
      },
      "execution_count": null,
      "outputs": [
        {
          "output_type": "stream",
          "name": "stderr",
          "text": [
            "/usr/local/lib/python3.7/dist-packages/ipykernel_launcher.py:1: SettingWithCopyWarning: \n",
            "A value is trying to be set on a copy of a slice from a DataFrame.\n",
            "Try using .loc[row_indexer,col_indexer] = value instead\n",
            "\n",
            "See the caveats in the documentation: https://pandas.pydata.org/pandas-docs/stable/user_guide/indexing.html#returning-a-view-versus-a-copy\n",
            "  \"\"\"Entry point for launching an IPython kernel.\n",
            "/usr/local/lib/python3.7/dist-packages/ipykernel_launcher.py:2: SettingWithCopyWarning: \n",
            "A value is trying to be set on a copy of a slice from a DataFrame.\n",
            "Try using .loc[row_indexer,col_indexer] = value instead\n",
            "\n",
            "See the caveats in the documentation: https://pandas.pydata.org/pandas-docs/stable/user_guide/indexing.html#returning-a-view-versus-a-copy\n",
            "  \n"
          ]
        }
      ]
    },
    {
      "cell_type": "code",
      "source": [
        "final_ratings=rating_df.sort_values(by=['userID','time'], ascending=[False,False]) \n",
        "final_ratings.shape"
      ],
      "metadata": {
        "colab": {
          "base_uri": "https://localhost:8080/"
        },
        "id": "dF2_HqTcVdrp",
        "outputId": "af946812-ce0b-4dd8-ead3-be99958ec328"
      },
      "execution_count": null,
      "outputs": [
        {
          "output_type": "execute_result",
          "data": {
            "text/plain": [
              "(128798, 4)"
            ]
          },
          "metadata": {},
          "execution_count": 13
        }
      ]
    },
    {
      "cell_type": "code",
      "source": [
        "test_df=final_ratings.groupby('userID').head(5)\n",
        "test_df.shape"
      ],
      "metadata": {
        "colab": {
          "base_uri": "https://localhost:8080/"
        },
        "id": "zZtmwOjaCe_a",
        "outputId": "c3da9547-cb4a-4ea9-bbb4-477ae1ef9365"
      },
      "execution_count": null,
      "outputs": [
        {
          "output_type": "execute_result",
          "data": {
            "text/plain": [
              "(13210, 4)"
            ]
          },
          "metadata": {},
          "execution_count": 14
        }
      ]
    },
    {
      "cell_type": "code",
      "source": [
        "rating_df=rating_df[~rating_df.isin(test_df).all(1)]\n",
        "final_ratings.shape"
      ],
      "metadata": {
        "colab": {
          "base_uri": "https://localhost:8080/"
        },
        "id": "P2OiW_a_4u7Z",
        "outputId": "9a5f0f87-04fa-498c-e2de-19f621c88707"
      },
      "execution_count": null,
      "outputs": [
        {
          "output_type": "execute_result",
          "data": {
            "text/plain": [
              "(128798, 4)"
            ]
          },
          "metadata": {},
          "execution_count": 15
        }
      ]
    },
    {
      "cell_type": "markdown",
      "source": [
        "removing any items from test which does not present in train"
      ],
      "metadata": {
        "id": "CzLhjis_5GvF"
      }
    },
    {
      "cell_type": "code",
      "source": [
        "itemsintrain=list(rating_df.itemID.unique())\n",
        "test_df=test_df[test_df.itemID.isin(itemsintrain)]"
      ],
      "metadata": {
        "id": "JVHVSsRY43h9"
      },
      "execution_count": null,
      "outputs": []
    },
    {
      "cell_type": "code",
      "source": [
        "item_df=pd.DataFrame (itemsintrain, columns = ['itemID'])"
      ],
      "metadata": {
        "id": "wR7SODW36otD"
      },
      "execution_count": null,
      "outputs": []
    },
    {
      "cell_type": "markdown",
      "metadata": {
        "id": "oHe8rrMB13kF"
      },
      "source": [
        "First, need to perform some preprocessing to encode users and movies as integer indices."
      ]
    },
    {
      "cell_type": "code",
      "execution_count": null,
      "metadata": {
        "id": "bE7J9SoC13kF",
        "colab": {
          "base_uri": "https://localhost:8080/"
        },
        "outputId": "53f46a87-bca5-4dfb-e194-330eaf0eff41"
      },
      "outputs": [
        {
          "output_type": "stream",
          "name": "stdout",
          "text": [
            "Number of users: 2642, Number of items: 25739, Min rating: 1.0, Max rating: 5.0\n"
          ]
        },
        {
          "output_type": "stream",
          "name": "stderr",
          "text": [
            "/usr/local/lib/python3.7/dist-packages/ipykernel_launcher.py:3: SettingWithCopyWarning: \n",
            "A value is trying to be set on a copy of a slice from a DataFrame.\n",
            "Try using .loc[row_indexer,col_indexer] = value instead\n",
            "\n",
            "See the caveats in the documentation: https://pandas.pydata.org/pandas-docs/stable/user_guide/indexing.html#returning-a-view-versus-a-copy\n",
            "  This is separate from the ipykernel package so we can avoid doing imports until\n"
          ]
        }
      ],
      "source": [
        "\n",
        "\n",
        "num_users = len(user2user_encoded)\n",
        "num_items = len(item_encoded2item)\n",
        "rating_df[\"rating\"] = rating_df[\"rating\"].values.astype(np.float32)\n",
        "# min and max ratings will be used to normalize the ratings later\n",
        "min_rating = min(rating_df[\"rating\"])\n",
        "max_rating = max(rating_df[\"rating\"])\n",
        "\n",
        "print(\n",
        "    \"Number of users: {}, Number of items: {}, Min rating: {}, Max rating: {}\".format(\n",
        "        num_users, num_items, min_rating, max_rating\n",
        "    )\n",
        ")"
      ]
    },
    {
      "cell_type": "markdown",
      "metadata": {
        "id": "u25Lw5oO13kG"
      },
      "source": [
        "## Prepare training and validation data"
      ]
    },
    {
      "cell_type": "code",
      "execution_count": null,
      "metadata": {
        "id": "MWXjknf113kG"
      },
      "outputs": [],
      "source": [
        "df = rating_df.sample(frac=1, random_state=42)\n",
        "x = df[[\"userID\", \"itemID\"]].values\n",
        "# Normalize the targets between 0 and 1. Makes it easy to train.\n",
        "y = df[\"rating\"].apply(lambda x: (x - min_rating) / (max_rating - min_rating)).values\n",
        "# Assuming training on 90% of the data and validating on 10%.\n",
        "train_indices = int(0.9 * df.shape[0])\n",
        "x_train, x_val, y_train, y_val = (\n",
        "    x[:train_indices],\n",
        "    x[train_indices:],\n",
        "    y[:train_indices],\n",
        "    y[train_indices:],\n",
        ")"
      ]
    },
    {
      "cell_type": "markdown",
      "source": [
        "Create Model"
      ],
      "metadata": {
        "id": "xdH2lJja3c5k"
      }
    },
    {
      "cell_type": "code",
      "execution_count": null,
      "metadata": {
        "id": "flfivlbe13kI"
      },
      "outputs": [],
      "source": [
        "EMBEDDING_SIZE = 50\n",
        "\n",
        "\n",
        "class RecommenderNet(keras.Model):\n",
        "    def __init__(self, num_users, num_movies, embedding_size, **kwargs):\n",
        "        super(RecommenderNet, self).__init__(**kwargs)\n",
        "        self.num_users = num_users\n",
        "        self.num_movies = num_movies\n",
        "        self.embedding_size = embedding_size\n",
        "        self.user_embedding = layers.Embedding(\n",
        "            num_users,\n",
        "            embedding_size,\n",
        "            embeddings_initializer=\"he_normal\",\n",
        "            embeddings_regularizer=keras.regularizers.l2(1e-6),\n",
        "        )\n",
        "        self.user_bias = layers.Embedding(num_users, 1)\n",
        "        self.item_embedding = layers.Embedding(\n",
        "            num_movies,\n",
        "            embedding_size,\n",
        "            embeddings_initializer=\"he_normal\",\n",
        "            embeddings_regularizer=keras.regularizers.l2(1e-6),\n",
        "        )\n",
        "        self.item_bias = layers.Embedding(num_items, 1)\n",
        "\n",
        "    def call(self, inputs):\n",
        "        user_vector = self.user_embedding(inputs[:, 0])\n",
        "        user_bias = self.user_bias(inputs[:, 0])\n",
        "        item_vector = self.item_embedding(inputs[:, 1])\n",
        "        item_bias = self.item_bias(inputs[:, 1])\n",
        "        dot_user_item = tf.tensordot(user_vector, item_vector, 2)\n",
        "        # Add all the components (including bias)\n",
        "        x = dot_user_item + user_bias + item_bias\n",
        "        # The sigmoid activation forces the rating to between 0 and 1\n",
        "        return tf.nn.sigmoid(x)\n",
        "\n",
        "\n",
        "model = RecommenderNet(num_users, num_items, EMBEDDING_SIZE)\n",
        "model.compile(\n",
        "    loss=tf.keras.losses.BinaryCrossentropy(),\n",
        "    optimizer=keras.optimizers.Adam(learning_rate=0.001),\n",
        ")"
      ]
    },
    {
      "cell_type": "markdown",
      "metadata": {
        "id": "25n_psxR13kI"
      },
      "source": [
        "## Train the model based on the data split"
      ]
    },
    {
      "cell_type": "code",
      "execution_count": null,
      "metadata": {
        "id": "awFCOskX13kI",
        "colab": {
          "base_uri": "https://localhost:8080/"
        },
        "outputId": "b4ccef06-9b45-41b6-9008-493d68b3f349"
      },
      "outputs": [
        {
          "output_type": "stream",
          "name": "stdout",
          "text": [
            "Epoch 1/20\n",
            "813/813 [==============================] - 9s 5ms/step - loss: 0.5867 - val_loss: 0.4709\n",
            "Epoch 2/20\n",
            "813/813 [==============================] - 4s 5ms/step - loss: 0.4698 - val_loss: 0.5735\n",
            "Epoch 3/20\n",
            "813/813 [==============================] - 4s 5ms/step - loss: 0.4541 - val_loss: 0.5171\n",
            "Epoch 4/20\n",
            "813/813 [==============================] - 4s 5ms/step - loss: 0.4470 - val_loss: 0.5327\n",
            "Epoch 5/20\n",
            "813/813 [==============================] - 4s 5ms/step - loss: 0.4423 - val_loss: 0.5108\n",
            "Epoch 6/20\n",
            "813/813 [==============================] - 4s 5ms/step - loss: 0.4425 - val_loss: 0.5150\n",
            "Epoch 7/20\n",
            "813/813 [==============================] - 4s 5ms/step - loss: 0.4480 - val_loss: 0.5130\n",
            "Epoch 8/20\n",
            "813/813 [==============================] - 4s 5ms/step - loss: 0.4574 - val_loss: 0.5269\n",
            "Epoch 9/20\n",
            "813/813 [==============================] - 4s 5ms/step - loss: 0.4685 - val_loss: 0.4856\n",
            "Epoch 10/20\n",
            "813/813 [==============================] - 4s 5ms/step - loss: 0.4762 - val_loss: 0.5190\n",
            "Epoch 11/20\n",
            "813/813 [==============================] - 4s 5ms/step - loss: 0.4870 - val_loss: 0.4615\n",
            "Epoch 12/20\n",
            "813/813 [==============================] - 4s 5ms/step - loss: 0.5001 - val_loss: 0.5593\n",
            "Epoch 13/20\n",
            "813/813 [==============================] - 4s 5ms/step - loss: 0.6032 - val_loss: 0.5012\n",
            "Epoch 14/20\n",
            "813/813 [==============================] - 4s 5ms/step - loss: 0.6642 - val_loss: 0.5747\n",
            "Epoch 15/20\n",
            "813/813 [==============================] - 4s 5ms/step - loss: 0.7288 - val_loss: 0.5369\n",
            "Epoch 16/20\n",
            "813/813 [==============================] - 4s 5ms/step - loss: 0.7080 - val_loss: 0.5477\n",
            "Epoch 17/20\n",
            "813/813 [==============================] - 4s 5ms/step - loss: 0.5361 - val_loss: 0.4594\n",
            "Epoch 18/20\n",
            "813/813 [==============================] - 4s 5ms/step - loss: 0.5392 - val_loss: 0.5581\n",
            "Epoch 19/20\n",
            "813/813 [==============================] - 4s 5ms/step - loss: 0.5175 - val_loss: 0.4643\n",
            "Epoch 20/20\n",
            "813/813 [==============================] - 4s 5ms/step - loss: 0.5205 - val_loss: 0.5581\n"
          ]
        }
      ],
      "source": [
        "history = model.fit(\n",
        "    x=x_train,\n",
        "    y=y_train,\n",
        "    batch_size=128,\n",
        "    epochs=20,\n",
        "    verbose=1,\n",
        "    validation_data=(x_val, y_val),\n",
        ")"
      ]
    },
    {
      "cell_type": "markdown",
      "metadata": {
        "id": "vNC11yIh13kI"
      },
      "source": [
        "## Plot training and validation loss"
      ]
    },
    {
      "cell_type": "code",
      "execution_count": null,
      "metadata": {
        "id": "9eC_rWF813kJ",
        "colab": {
          "base_uri": "https://localhost:8080/",
          "height": 295
        },
        "outputId": "8b7ba587-727b-48fb-8f37-8bb5fa95f345"
      },
      "outputs": [
        {
          "output_type": "display_data",
          "data": {
            "text/plain": [
              "<Figure size 432x288 with 1 Axes>"
            ],
            "image/png": "[encoded data removed]"
          },
          "metadata": {}
        }
      ],
      "source": [
        "plt.plot(history.history[\"loss\"])\n",
        "plt.plot(history.history[\"val_loss\"])\n",
        "plt.title(\"model loss\")\n",
        "plt.ylabel(\"loss\")\n",
        "plt.xlabel(\"epoch\")\n",
        "plt.legend([\"train\", \"test\"], loc=\"upper left\")\n",
        "plt.show()"
      ]
    },
    {
      "cell_type": "markdown",
      "metadata": {
        "id": "iFNIs5PW13kK"
      },
      "source": [
        "## Show top 10 movie recommendations to a user"
      ]
    },
    {
      "cell_type": "code",
      "source": [
        "unoque_uesrs=list(rating_df.userID.unique())"
      ],
      "metadata": {
        "id": "E5BmDUNSFD-H"
      },
      "execution_count": null,
      "outputs": []
    },
    {
      "cell_type": "code",
      "execution_count": null,
      "metadata": {
        "id": "dOcKK8O-13kK"
      },
      "outputs": [],
      "source": [
        "\n",
        "totalhit=0\n",
        "totaliteration=0\n",
        "for i in range(len(unoque_uesrs)):\n",
        "    totaliteration+=1\n",
        "    item_df['itemID']=item_df.itemID.astype(int)\n",
        "    items = list(item_df.itemID.unique())\n",
        "\n",
        "    # Let us get a user and see the top recommendations.\n",
        "    user_id = rating_df.userID.values[i]\n",
        "    items_rated_by_user = rating_df[rating_df.userID == user_id]\n",
        "\n",
        "\n",
        "    items_not_rated = item_df[\n",
        "        ~item_df[\"itemID\"].isin(list(items_rated_by_user.itemID.values))\n",
        "    ][\"itemID\"]\n",
        "    items_not_rated=list(items_not_rated)\n",
        "\n",
        "    user_encoder=user_id\n",
        "    user_encoder=[[user_encoder]] * len(items_not_rated)\n",
        "    items_not_rated = np.array(items_not_rated).reshape(len(items_not_rated),1)\n",
        "    user_item_array = np.hstack(\n",
        "        (user_encoder, items_not_rated)\n",
        "    )\n",
        "\n",
        "    ratings = model.predict(user_item_array).flatten()\n",
        "\n",
        "    recommendation = pd.DataFrame({'user': user_item_array[:, 0], 'item': user_item_array[:, 1]})\n",
        "    recommendation['rating']=list(ratings)\n",
        "    top_ratings_indices = ratings.argsort()[-20:][::-1]\n",
        "    recommended_item_ids = [\n",
        "        x for x in top_ratings_indices\n",
        "    ]\n",
        "\n",
        "    top_items_user =list (\n",
        "        recommendation.sort_values(by=\"rating\", ascending=False)\n",
        "        .head(20)\n",
        "        .item.values\n",
        "    )\n",
        "\n",
        "    #top_items_user\n",
        "    tmp_df=test_df[test_df['userID']==user_id]\n",
        "    hitcount=list(tmp_df[tmp_df['itemID'].isin(top_items_user)].itemID.values)\n",
        "\n",
        "    hitcount=len(hitcount)/len(top_items_user)\n",
        "    totalhit+=hitcount"
      ]
    },
    {
      "cell_type": "code",
      "source": [
        "print(\"precision: \"+str(totalhit/totaliteration))"
      ],
      "metadata": {
        "id": "0xQTRyDaHiPN"
      },
      "execution_count": null,
      "outputs": []
    }
  ],
  "metadata": {
    "colab": {
      "provenance": [],
      "machine_shape": "hm"
    },
    "kernelspec": {
      "display_name": "Python 3",
      "language": "python",
      "name": "python3"
    },
    "language_info": {
      "codemirror_mode": {
        "name": "ipython",
        "version": 3
      },
      "file_extension": ".py",
      "mimetype": "text/x-python",
      "name": "python",
      "nbconvert_exporter": "python",
      "pygments_lexer": "ipython3",
      "version": "3.7.0"
    },
    "accelerator": "GPU",
    "gpuClass": "standard"
  },
  "nbformat": 4,
  "nbformat_minor": 0
}