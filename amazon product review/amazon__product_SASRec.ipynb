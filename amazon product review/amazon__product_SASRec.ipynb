{
  "cells": [
    {
      "cell_type": "code",
      "source": [
        "gpu_info = !nvidia-smi\n",
        "gpu_info = '\\n'.join(gpu_info)\n",
        "if gpu_info.find('failed') >= 0:\n",
        "  print('Not connected to a GPU')\n",
        "else:\n",
        "  print(gpu_info)"
      ],
      "metadata": {
        "colab": {
          "base_uri": "https://localhost:8080/"
        },
        "id": "_QphkgcDcwxr",
        "outputId": "a8c6cb03-54a9-4b7a-8739-0dd81a0d45c8"
      },
      "id": "_QphkgcDcwxr",
      "execution_count": null,
      "outputs": [
        {
          "output_type": "stream",
          "name": "stdout",
          "text": [
            "Sat Oct  8 04:19:43 2022       \n",
            "+-----------------------------------------------------------------------------+\n",
            "| NVIDIA-SMI 460.32.03    Driver Version: 460.32.03    CUDA Version: 11.2     |\n",
            "|-------------------------------+----------------------+----------------------+\n",
            "| GPU  Name        Persistence-M| Bus-Id        Disp.A | Volatile Uncorr. ECC |\n",
            "| Fan  Temp  Perf  Pwr:Usage/Cap|         Memory-Usage | GPU-Util  Compute M. |\n",
            "|                               |                      |               MIG M. |\n",
            "|===============================+======================+======================|\n",
            "|   0  Tesla T4            Off  | 00000000:00:04.0 Off |                    0 |\n",
            "| N/A   51C    P8     9W /  70W |      0MiB / 15109MiB |      0%      Default |\n",
            "|                               |                      |                  N/A |\n",
            "+-------------------------------+----------------------+----------------------+\n",
            "                                                                               \n",
            "+-----------------------------------------------------------------------------+\n",
            "| Processes:                                                                  |\n",
            "|  GPU   GI   CI        PID   Type   Process name                  GPU Memory |\n",
            "|        ID   ID                                                   Usage      |\n",
            "|=============================================================================|\n",
            "|  No running processes found                                                 |\n",
            "+-----------------------------------------------------------------------------+\n"
          ]
        }
      ]
    },
    {
      "cell_type": "code",
      "source": [
        "from psutil import virtual_memory\n",
        "ram_gb = virtual_memory().total / 1e9\n",
        "print('Your runtime has {:.1f} gigabytes of available RAM\\n'.format(ram_gb))\n",
        "\n",
        "if ram_gb < 20:\n",
        "  print('Not using a high-RAM runtime')\n",
        "else:\n",
        "  print('You are using a high-RAM runtime!')"
      ],
      "metadata": {
        "colab": {
          "base_uri": "https://localhost:8080/"
        },
        "id": "Kq_W9JJDczFA",
        "outputId": "f449ee17-4556-441e-a1a1-446516ddb2ef"
      },
      "id": "Kq_W9JJDczFA",
      "execution_count": null,
      "outputs": [
        {
          "output_type": "stream",
          "name": "stdout",
          "text": [
            "Your runtime has 13.6 gigabytes of available RAM\n",
            "\n",
            "Not using a high-RAM runtime\n"
          ]
        }
      ]
    },
    {
      "cell_type": "code",
      "execution_count": null,
      "id": "84eddad3",
      "metadata": {
        "id": "84eddad3"
      },
      "outputs": [],
      "source": [
        "from datetime import datetime\n",
        "import os\n",
        "import matplotlib\n",
        "import pandas as pd\n",
        "import numpy as np\n",
        "import matplotlib.pyplot as plt\n",
        "import seaborn as sns\n",
        "sns.set_style('whitegrid')\n",
        "\n",
        "from scipy import sparse\n",
        "from scipy.sparse import csc_matrix\n",
        "from sklearn.decomposition import TruncatedSVD\n",
        "\n",
        "np.random.seed(0)"
      ]
    },
    {
      "cell_type": "markdown",
      "id": "85495bf1",
      "metadata": {
        "id": "85495bf1"
      },
      "source": [
        "### Amazon product review   Dataset\n",
        "- https://www.kaggle.com/datasets/saurav9786/amazon-product-reviews?resource=download"
      ]
    },
    {
      "cell_type": "code",
      "source": [
        "!pip install gdown"
      ],
      "metadata": {
        "id": "3mSlGMHVpAt_",
        "colab": {
          "base_uri": "https://localhost:8080/"
        },
        "outputId": "91fec79c-b68a-4262-ef6a-ed2a8ebede71"
      },
      "id": "3mSlGMHVpAt_",
      "execution_count": null,
      "outputs": [
        {
          "output_type": "stream",
          "name": "stdout",
          "text": [
            "Looking in indexes: https://pypi.org/simple, https://us-python.pkg.dev/colab-wheels/public/simple/\n",
            "Requirement already satisfied: gdown in /usr/local/lib/python3.7/dist-packages (4.4.0)\n",
            "Requirement already satisfied: filelock in /usr/local/lib/python3.7/dist-packages (from gdown) (3.8.0)\n",
            "Requirement already satisfied: tqdm in /usr/local/lib/python3.7/dist-packages (from gdown) (4.64.1)\n",
            "Requirement already satisfied: six in /usr/local/lib/python3.7/dist-packages (from gdown) (1.15.0)\n",
            "Requirement already satisfied: requests[socks] in /usr/local/lib/python3.7/dist-packages (from gdown) (2.23.0)\n",
            "Requirement already satisfied: beautifulsoup4 in /usr/local/lib/python3.7/dist-packages (from gdown) (4.6.3)\n",
            "Requirement already satisfied: urllib3!=1.25.0,!=1.25.1,<1.26,>=1.21.1 in /usr/local/lib/python3.7/dist-packages (from requests[socks]->gdown) (1.24.3)\n",
            "Requirement already satisfied: certifi>=2017.4.17 in /usr/local/lib/python3.7/dist-packages (from requests[socks]->gdown) (2022.9.24)\n",
            "Requirement already satisfied: idna<3,>=2.5 in /usr/local/lib/python3.7/dist-packages (from requests[socks]->gdown) (2.10)\n",
            "Requirement already satisfied: chardet<4,>=3.0.2 in /usr/local/lib/python3.7/dist-packages (from requests[socks]->gdown) (3.0.4)\n",
            "Requirement already satisfied: PySocks!=1.5.7,>=1.5.6 in /usr/local/lib/python3.7/dist-packages (from requests[socks]->gdown) (1.7.1)\n"
          ]
        }
      ]
    },
    {
      "cell_type": "code",
      "source": [
        "!gdown https://drive.google.com/uc?id=1dFuCcqIO0_vQcNg_47Ondz3akBG1ojzb"
      ],
      "metadata": {
        "colab": {
          "base_uri": "https://localhost:8080/"
        },
        "id": "JN6L-XVUpDB3",
        "outputId": "62860040-bf16-445f-968f-a642e13507c2"
      },
      "id": "JN6L-XVUpDB3",
      "execution_count": null,
      "outputs": [
        {
          "output_type": "stream",
          "name": "stdout",
          "text": [
            "Downloading...\n",
            "From: https://drive.google.com/uc?id=1dFuCcqIO0_vQcNg_47Ondz3akBG1ojzb\n",
            "To: /content/ratings_Electronics.csv\n",
            "100% 319M/319M [00:02<00:00, 129MB/s]\n"
          ]
        }
      ]
    },
    {
      "cell_type": "code",
      "source": [
        "g=pd.read_csv('ratings_Electronics.csv')"
      ],
      "metadata": {
        "id": "jMmXpU8gJjRc"
      },
      "id": "jMmXpU8gJjRc",
      "execution_count": null,
      "outputs": []
    },
    {
      "cell_type": "code",
      "execution_count": null,
      "id": "3fb6d6a6",
      "metadata": {
        "id": "3fb6d6a6"
      },
      "outputs": [],
      "source": [
        "rating_df =pd.read_csv('ratings_Electronics.csv',  names=['userID','itemID','rating','time'])\n",
        "rating_df=rating_df[['userID','itemID','rating','time']]\n",
        "\n"
      ]
    },
    {
      "cell_type": "code",
      "source": [
        "rating_df.dropna(inplace=True)"
      ],
      "metadata": {
        "id": "fH7Z6wSbTPT1"
      },
      "id": "fH7Z6wSbTPT1",
      "execution_count": null,
      "outputs": []
    },
    {
      "cell_type": "code",
      "source": [
        "\n",
        "rating_df[\"itemID\"] = rating_df[\"itemID\"].astype(str)\n",
        "rating_df[\"userID\"] = rating_df[\"userID\"].astype(str)"
      ],
      "metadata": {
        "id": "sZPaHa4i-oAr"
      },
      "id": "sZPaHa4i-oAr",
      "execution_count": null,
      "outputs": []
    },
    {
      "cell_type": "markdown",
      "source": [
        "### Prepare dataset"
      ],
      "metadata": {
        "id": "hz3Ofz-0pTS8"
      },
      "id": "hz3Ofz-0pTS8"
    },
    {
      "cell_type": "code",
      "source": [
        "unique_users = rating_df.userID.unique()\n",
        "user_ids = dict(zip(unique_users, np.arange(unique_users.shape[0], dtype=np.int32)))\n",
        "\n",
        "unique_items = rating_df.itemID.unique()\n",
        "item_ids = dict(zip(unique_items, np.arange(unique_items.shape[0], dtype=np.int32)))"
      ],
      "metadata": {
        "id": "PgNs7RtdpgsF"
      },
      "id": "PgNs7RtdpgsF",
      "execution_count": null,
      "outputs": []
    },
    {
      "cell_type": "code",
      "source": [
        "product_ids = list(set(list(rating_df.itemID.unique())))\n",
        "user_ids = list(set(list(rating_df.userID.unique())))"
      ],
      "metadata": {
        "id": "L0pWDQrppk3k"
      },
      "id": "L0pWDQrppk3k",
      "execution_count": null,
      "outputs": []
    },
    {
      "cell_type": "code",
      "source": [
        "x = rating_df.groupby('itemID').count()['rating'] > 50\n",
        "itemIndex = x[x].index\n",
        "nm_rating_df=rating_df[rating_df['itemID'].isin(itemIndex)]\n",
        "y = nm_rating_df.groupby('userID').count()['rating']>=50\n",
        "users = y[y].index\n",
        "final_ratings = nm_rating_df[nm_rating_df['userID'].isin(users)]"
      ],
      "metadata": {
        "id": "VMSvF0GI9yd_"
      },
      "id": "VMSvF0GI9yd_",
      "execution_count": null,
      "outputs": []
    },
    {
      "cell_type": "code",
      "source": [
        "!pip install recommenders\n",
        "!pip install tf_slim"
      ],
      "metadata": {
        "id": "1n021jmGYj-S"
      },
      "id": "1n021jmGYj-S",
      "execution_count": null,
      "outputs": []
    },
    {
      "cell_type": "code",
      "source": [
        "\n",
        "from collections import defaultdict\n",
        "import tensorflow as tf\n",
        "tf.get_logger().setLevel('ERROR') # only show error messages\n",
        "\n",
        "from recommenders.utils.timer import Timer\n",
        "from recommenders.datasets.amazon_reviews import get_review_data\n",
        "from recommenders.datasets.split_utils import filter_k_core\n",
        "\n",
        "# Transformer Based Models\n",
        "from recommenders.models.sasrec.model import SASREC\n",
        "from recommenders.models.sasrec.ssept import SSEPT\n",
        "\n",
        "# Sampler for sequential prediction\n",
        "from recommenders.models.sasrec.sampler import WarpSampler\n",
        "from recommenders.models.sasrec.util import SASRecDataSet\n",
        "\n"
      ],
      "metadata": {
        "id": "O1q9Sdi9Wy7k"
      },
      "execution_count": null,
      "outputs": [],
      "id": "O1q9Sdi9Wy7k"
    },
    {
      "cell_type": "code",
      "source": [
        "ncf_df=final_ratings[['userID','itemID','rating','time']]"
      ],
      "metadata": {
        "id": "KjFX265aZIDT"
      },
      "id": "KjFX265aZIDT",
      "execution_count": null,
      "outputs": []
    },
    {
      "cell_type": "code",
      "source": [
        "item_ids = list(set(list(ncf_df.itemID.unique())))\n",
        "user_ids = list(set(list(ncf_df.userID.unique())))"
      ],
      "metadata": {
        "id": "N0oek65RZDOj"
      },
      "id": "N0oek65RZDOj",
      "execution_count": null,
      "outputs": []
    },
    {
      "cell_type": "code",
      "source": [
        "dict_users = {}\n",
        "index = 0\n",
        "for ids in sorted(user_ids):\n",
        "    dict_users[ids] = index\n",
        "    index += 1\n",
        "dict_items = {}\n",
        "index = 0\n",
        "for ids in sorted(item_ids):\n",
        "    dict_items[ids] = index\n",
        "    index += 1"
      ],
      "metadata": {
        "id": "wbdwZjvLLUsD"
      },
      "id": "wbdwZjvLLUsD",
      "execution_count": null,
      "outputs": []
    },
    {
      "cell_type": "code",
      "source": [
        "ncf_df['userID'] = ncf_df.userID.map(dict_users)\n",
        "ncf_df['itemID'] = ncf_df.itemID.map(dict_items)"
      ],
      "metadata": {
        "id": "_hPUhWhMZNR3"
      },
      "id": "_hPUhWhMZNR3",
      "execution_count": null,
      "outputs": []
    },
    {
      "cell_type": "code",
      "source": [
        "final_ratings_NCF=ncf_df.sort_values(by=['userID','time'], ascending=[False,False]) \n",
        "final_ratings_NCF.shape"
      ],
      "metadata": {
        "colab": {
          "base_uri": "https://localhost:8080/"
        },
        "id": "8fvOka9XZa6R",
        "outputId": "5c144783-826e-4f25-b7fc-b4b739b55692"
      },
      "id": "8fvOka9XZa6R",
      "execution_count": null,
      "outputs": [
        {
          "output_type": "execute_result",
          "data": {
            "text/plain": [
              "(42857, 4)"
            ]
          },
          "metadata": {},
          "execution_count": 118
        }
      ]
    },
    {
      "cell_type": "code",
      "source": [
        "\n",
        "lr = 0.001             # learning rate\n",
        "maxlen = 50            # maximum sequence length for each user\n",
        "num_blocks = 2         # number of transformer blocks\n",
        "hidden_units = 100     # number of units in the attention calculation\n",
        "num_heads = 1          # number of attention heads\n",
        "dropout_rate = 0.1     # dropout rate\n",
        "l2_emb = 0.0           # L2 regularization coefficient\n",
        "num_neg_test = 30     # number of negative examples per positive example\n",
        "model_name = 'ssept'  # 'sasrec' or 'ssept'"
      ],
      "metadata": {
        "id": "CfBmOcaE09Es"
      },
      "id": "CfBmOcaE09Es",
      "execution_count": null,
      "outputs": []
    },
    {
      "cell_type": "code",
      "source": [
        "final_ratings_NCF=final_ratings_NCF[['userID','itemID','time']]"
      ],
      "metadata": {
        "id": "JcMZny381OaH"
      },
      "id": "JcMZny381OaH",
      "execution_count": null,
      "outputs": []
    },
    {
      "cell_type": "code",
      "source": [
        "\n",
        "outfile = \"input_sasrec\" + '.txt'\n"
      ],
      "metadata": {
        "id": "_7lDvV_Z1rqL"
      },
      "id": "_7lDvV_Z1rqL",
      "execution_count": null,
      "outputs": []
    },
    {
      "cell_type": "code",
      "source": [
        "final_ratings_NCF = final_ratings_NCF.sort_values(by=[\"userID\", \"time\"])\n",
        "final_ratings_NCF.drop(columns=[\"time\"], inplace=True)\n",
        "final_ratings_NCF.to_csv( outfile, sep=\"\\t\", header=False, index=False)"
      ],
      "metadata": {
        "id": "ZDmt3tQR1kmE"
      },
      "id": "ZDmt3tQR1kmE",
      "execution_count": null,
      "outputs": []
    },
    {
      "cell_type": "markdown",
      "source": [
        "### SASREC"
      ],
      "metadata": {
        "id": "sGd6GbqJ2GVD"
      },
      "id": "sGd6GbqJ2GVD"
    },
    {
      "cell_type": "code",
      "source": [
        "data = SASRecDataSet(filename=outfile, col_sep=\"\\t\")"
      ],
      "metadata": {
        "id": "wTimJjiP2Z1z"
      },
      "id": "wTimJjiP2Z1z",
      "execution_count": null,
      "outputs": []
    },
    {
      "cell_type": "code",
      "source": [
        "num_epochs = 3\n",
        "batch_size = 512"
      ],
      "metadata": {
        "id": "sMxWssca2xQz"
      },
      "id": "sMxWssca2xQz",
      "execution_count": null,
      "outputs": []
    },
    {
      "cell_type": "code",
      "source": [
        "# create train, validation and test splits\n",
        "data.split()\n",
        "\n",
        "# some statistics\n",
        "num_steps = int(len(data.user_train) / batch_size)\n",
        "cc = 0.0\n",
        "for u in data.user_train:\n",
        "    cc += len(data.user_train[u])\n",
        "print('%g Users and %g items' % (data.usernum, data.itemnum))\n",
        "print('average sequence length: %.2f' % (cc / len(data.user_train)))"
      ],
      "metadata": {
        "colab": {
          "base_uri": "https://localhost:8080/"
        },
        "id": "luieF0hp2kBb",
        "outputId": "26be3944-e228-475e-ed8d-8408e2ab5ef5"
      },
      "id": "luieF0hp2kBb",
      "execution_count": null,
      "outputs": [
        {
          "output_type": "stream",
          "name": "stdout",
          "text": [
            "560 Users and 12461 items\n",
            "average sequence length: 74.39\n"
          ]
        }
      ]
    },
    {
      "cell_type": "code",
      "source": [
        "model = SASREC(item_num=data.itemnum,\n",
        "                   seq_max_len=maxlen,\n",
        "                   num_blocks=num_blocks,\n",
        "                   embedding_dim=hidden_units,\n",
        "                   attention_dim=hidden_units,\n",
        "                   attention_num_heads=num_heads,\n",
        "                   dropout_rate=dropout_rate,\n",
        "                   conv_dims = [100, 100],\n",
        "                   l2_reg=l2_emb,\n",
        "                   num_neg_test=num_neg_test\n",
        "    )"
      ],
      "metadata": {
        "id": "PZT6yfzq2Q5t"
      },
      "id": "PZT6yfzq2Q5t",
      "execution_count": null,
      "outputs": []
    },
    {
      "cell_type": "code",
      "source": [
        "#the sampler generates a sequence of negative items of the same length as the original history\n",
        "\n",
        "sampler = WarpSampler(data.user_train, data.usernum, data.itemnum, batch_size=batch_size, maxlen=maxlen, n_workers=3)\n"
      ],
      "metadata": {
        "id": "xmt0wd0u3OXK"
      },
      "id": "xmt0wd0u3OXK",
      "execution_count": null,
      "outputs": []
    },
    {
      "cell_type": "code",
      "source": [
        "with Timer() as train_time:\n",
        "    t_test = model.train(data, sampler, num_epochs=num_epochs, batch_size=batch_size, lr=lr, val_epoch=6)\n",
        "\n",
        "print('Time cost for training is {0:.2f} mins'.format(train_time.interval/60.0))"
      ],
      "metadata": {
        "colab": {
          "base_uri": "https://localhost:8080/"
        },
        "id": "vHGVBq-E3YBD",
        "outputId": "a0084de8-86c0-4bfa-b976-1064b34de217"
      },
      "id": "vHGVBq-E3YBD",
      "execution_count": null,
      "outputs": [
        {
          "output_type": "stream",
          "name": "stderr",
          "text": [
            "                                                                      "
          ]
        },
        {
          "output_type": "stream",
          "name": "stdout",
          "text": [
            "\n",
            "epoch: 3, test (NDCG@10: 0.16877080891648447, HR@10: 0.3625)\n",
            "Time cost for training is 0.63 mins\n"
          ]
        },
        {
          "output_type": "stream",
          "name": "stderr",
          "text": [
            "\r"
          ]
        }
      ]
    },
    {
      "cell_type": "code",
      "source": [],
      "metadata": {
        "id": "j2DRjWuDO9Gy"
      },
      "id": "j2DRjWuDO9Gy",
      "execution_count": null,
      "outputs": []
    },
    {
      "cell_type": "markdown",
      "source": [
        "### SSEPT"
      ],
      "metadata": {
        "id": "hkydH0jxO9Uj"
      },
      "id": "hkydH0jxO9Uj"
    },
    {
      "cell_type": "code",
      "source": [
        "model = SSEPT(item_num=data.itemnum,\n",
        "                  user_num=data.usernum,\n",
        "                  seq_max_len=maxlen,\n",
        "                  num_blocks=num_blocks,\n",
        "                  # embedding_dim=hidden_units,  # optional\n",
        "                  user_embedding_dim=10,\n",
        "                  item_embedding_dim=hidden_units,\n",
        "                  attention_dim=hidden_units,\n",
        "                  attention_num_heads=num_heads,\n",
        "                  dropout_rate=dropout_rate,\n",
        "                  conv_dims = [110, 110],\n",
        "                  l2_reg=l2_emb,\n",
        "                  num_neg_test=num_neg_test\n",
        "    )"
      ],
      "metadata": {
        "id": "urHscQtgO91T"
      },
      "id": "urHscQtgO91T",
      "execution_count": null,
      "outputs": []
    },
    {
      "cell_type": "code",
      "source": [
        "with Timer() as train_time:\n",
        "    t_test = model.train(data, sampler, num_epochs=num_epochs, batch_size=batch_size, lr=lr, val_epoch=6)\n",
        "\n",
        "print('Time cost for training is {0:.2f} mins'.format(train_time.interval/60.0))"
      ],
      "metadata": {
        "colab": {
          "base_uri": "https://localhost:8080/"
        },
        "id": "ptDah9nYPFgJ",
        "outputId": "0fcce931-3aec-4130-8df4-5acf198591d9"
      },
      "id": "ptDah9nYPFgJ",
      "execution_count": null,
      "outputs": [
        {
          "output_type": "stream",
          "name": "stderr",
          "text": []
        },
        {
          "output_type": "stream",
          "name": "stdout",
          "text": [
            "\n",
            "epoch: 3, test (NDCG@10: 0.18570632582702362, HR@10: 0.375)\n",
            "Time cost for training is 0.42 mins\n"
          ]
        }
      ]
    }
  ],
  "metadata": {
    "kernelspec": {
      "display_name": "Python 3",
      "language": "python",
      "name": "python3"
    },
    "language_info": {
      "codemirror_mode": {
        "name": "ipython",
        "version": 3
      },
      "file_extension": ".py",
      "mimetype": "text/x-python",
      "name": "python",
      "nbconvert_exporter": "python",
      "pygments_lexer": "ipython3",
      "version": "3.6.5"
    },
    "colab": {
      "provenance": [],
      "machine_shape": "hm"
    },
    "gpuClass": "standard",
    "accelerator": "GPU"
  },
  "nbformat": 4,
  "nbformat_minor": 5
}