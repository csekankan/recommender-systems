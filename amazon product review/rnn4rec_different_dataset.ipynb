{
  "cells": [
    {
      "cell_type": "code",
      "source": [
        "gpu_info = !nvidia-smi\n",
        "gpu_info = '\\n'.join(gpu_info)\n",
        "if gpu_info.find('failed') >= 0:\n",
        "  print('Not connected to a GPU')\n",
        "else:\n",
        "  print(gpu_info)"
      ],
      "metadata": {
        "colab": {
          "base_uri": "https://localhost:8080/"
        },
        "id": "_QphkgcDcwxr",
        "outputId": "cae4f704-1eea-4af2-a6a8-579491fb30c8"
      },
      "id": "_QphkgcDcwxr",
      "execution_count": null,
      "outputs": [
        {
          "output_type": "stream",
          "name": "stdout",
          "text": [
            "Fri Feb  3 08:53:48 2023       \n",
            "+-----------------------------------------------------------------------------+\n",
            "| NVIDIA-SMI 510.47.03    Driver Version: 510.47.03    CUDA Version: 11.6     |\n",
            "|-------------------------------+----------------------+----------------------+\n",
            "| GPU  Name        Persistence-M| Bus-Id        Disp.A | Volatile Uncorr. ECC |\n",
            "| Fan  Temp  Perf  Pwr:Usage/Cap|         Memory-Usage | GPU-Util  Compute M. |\n",
            "|                               |                      |               MIG M. |\n",
            "|===============================+======================+======================|\n",
            "|   0  Tesla T4            Off  | 00000000:00:04.0 Off |                    0 |\n",
            "| N/A   68C    P0    28W /  70W |      0MiB / 15360MiB |      0%      Default |\n",
            "|                               |                      |                  N/A |\n",
            "+-------------------------------+----------------------+----------------------+\n",
            "                                                                               \n",
            "+-----------------------------------------------------------------------------+\n",
            "| Processes:                                                                  |\n",
            "|  GPU   GI   CI        PID   Type   Process name                  GPU Memory |\n",
            "|        ID   ID                                                   Usage      |\n",
            "|=============================================================================|\n",
            "|  No running processes found                                                 |\n",
            "+-----------------------------------------------------------------------------+\n"
          ]
        }
      ]
    },
    {
      "cell_type": "code",
      "source": [
        "from psutil import virtual_memory\n",
        "ram_gb = virtual_memory().total / 1e9\n",
        "print('Your runtime has {:.1f} gigabytes of available RAM\\n'.format(ram_gb))\n",
        "\n",
        "if ram_gb < 20:\n",
        "  print('Not using a high-RAM runtime')\n",
        "else:\n",
        "  print('You are using a high-RAM runtime!')"
      ],
      "metadata": {
        "colab": {
          "base_uri": "https://localhost:8080/"
        },
        "id": "Kq_W9JJDczFA",
        "outputId": "20995e75-593c-4bb9-a0fd-7271e5335eb7"
      },
      "id": "Kq_W9JJDczFA",
      "execution_count": null,
      "outputs": [
        {
          "output_type": "stream",
          "name": "stdout",
          "text": [
            "Your runtime has 27.3 gigabytes of available RAM\n",
            "\n",
            "You are using a high-RAM runtime!\n"
          ]
        }
      ]
    },
    {
      "cell_type": "markdown",
      "id": "85495bf1",
      "metadata": {
        "id": "85495bf1"
      },
      "source": [
        "##  data set\n"
      ]
    },
    {
      "cell_type": "markdown",
      "source": [
        "## RNN4Rec LibRecommender"
      ],
      "metadata": {
        "id": "-28WG-vCQwYz"
      },
      "id": "-28WG-vCQwYz"
    },
    {
      "cell_type": "code",
      "source": [
        "!pip install --upgrade numpy"
      ],
      "metadata": {
        "colab": {
          "base_uri": "https://localhost:8080/"
        },
        "id": "zaMRVC0lz0UZ",
        "outputId": "27a635f9-ccd6-4006-a8ec-6cab79612733"
      },
      "id": "zaMRVC0lz0UZ",
      "execution_count": null,
      "outputs": [
        {
          "output_type": "stream",
          "name": "stdout",
          "text": [
            "Looking in indexes: https://pypi.org/simple, https://us-python.pkg.dev/colab-wheels/public/simple/\n",
            "Requirement already satisfied: numpy in /usr/local/lib/python3.8/dist-packages (1.22.4)\n",
            "Collecting numpy\n",
            "  Using cached numpy-1.24.1-cp38-cp38-manylinux_2_17_x86_64.manylinux2014_x86_64.whl (17.3 MB)\n",
            "Installing collected packages: numpy\n",
            "  Attempting uninstall: numpy\n",
            "    Found existing installation: numpy 1.22.4\n",
            "    Uninstalling numpy-1.22.4:\n",
            "      Successfully uninstalled numpy-1.22.4\n",
            "\u001b[31mERROR: pip's dependency resolver does not currently take into account all the packages that are installed. This behaviour is the source of the following dependency conflicts.\n",
            "scipy 1.7.3 requires numpy<1.23.0,>=1.16.5, but you have numpy 1.24.1 which is incompatible.\n",
            "numba 0.56.4 requires numpy<1.24,>=1.18, but you have numpy 1.24.1 which is incompatible.\u001b[0m\u001b[31m\n",
            "\u001b[0mSuccessfully installed numpy-1.24.1\n"
          ]
        }
      ]
    },
    {
      "cell_type": "code",
      "source": [
        "!pip uninstall pycocotools\n",
        "!pip install  pycocotools"
      ],
      "metadata": {
        "colab": {
          "base_uri": "https://localhost:8080/"
        },
        "id": "dS5pL5MQzoM-",
        "outputId": "300e4dcf-b476-4bd7-dd9d-4eb69f9c4cb3"
      },
      "id": "dS5pL5MQzoM-",
      "execution_count": null,
      "outputs": [
        {
          "output_type": "stream",
          "name": "stdout",
          "text": [
            "Found existing installation: pycocotools 2.0.6\n",
            "Uninstalling pycocotools-2.0.6:\n",
            "  Would remove:\n",
            "    /usr/local/lib/python3.8/dist-packages/pycocotools-2.0.6.dist-info/*\n",
            "    /usr/local/lib/python3.8/dist-packages/pycocotools/*\n",
            "Proceed (Y/n)? n\n",
            "Looking in indexes: https://pypi.org/simple, https://us-python.pkg.dev/colab-wheels/public/simple/\n",
            "Requirement already satisfied: pycocotools in /usr/local/lib/python3.8/dist-packages (2.0.6)\n",
            "Requirement already satisfied: numpy in /usr/local/lib/python3.8/dist-packages (from pycocotools) (1.24.1)\n",
            "Requirement already satisfied: matplotlib>=2.1.0 in /usr/local/lib/python3.8/dist-packages (from pycocotools) (3.2.2)\n",
            "Requirement already satisfied: kiwisolver>=1.0.1 in /usr/local/lib/python3.8/dist-packages (from matplotlib>=2.1.0->pycocotools) (1.4.4)\n",
            "Requirement already satisfied: python-dateutil>=2.1 in /usr/local/lib/python3.8/dist-packages (from matplotlib>=2.1.0->pycocotools) (2.8.2)\n",
            "Requirement already satisfied: cycler>=0.10 in /usr/local/lib/python3.8/dist-packages (from matplotlib>=2.1.0->pycocotools) (0.11.0)\n",
            "Requirement already satisfied: pyparsing!=2.0.4,!=2.1.2,!=2.1.6,>=2.0.1 in /usr/local/lib/python3.8/dist-packages (from matplotlib>=2.1.0->pycocotools) (3.0.9)\n",
            "Requirement already satisfied: six>=1.5 in /usr/local/lib/python3.8/dist-packages (from python-dateutil>=2.1->matplotlib>=2.1.0->pycocotools) (1.15.0)\n"
          ]
        }
      ]
    },
    {
      "cell_type": "code",
      "source": [
        "!pip install LibRecommender==0.12.0"
      ],
      "metadata": {
        "colab": {
          "base_uri": "https://localhost:8080/",
          "height": 1000
        },
        "id": "F-HU8InaQura",
        "outputId": "f76321b5-eee8-4623-e6da-345a1a9984ff"
      },
      "id": "F-HU8InaQura",
      "execution_count": null,
      "outputs": [
        {
          "output_type": "stream",
          "name": "stdout",
          "text": [
            "Looking in indexes: https://pypi.org/simple, https://us-python.pkg.dev/colab-wheels/public/simple/\n",
            "Collecting LibRecommender==0.12.0\n",
            "  Downloading LibRecommender-0.12.0-cp38-cp38-manylinux_2_17_x86_64.manylinux2014_x86_64.whl (2.1 MB)\n",
            "\u001b[2K     \u001b[90m━━━━━━━━━━━━━━━━━━━━━━━━━━━━━━━━━━━━━━━━\u001b[0m \u001b[32m2.1/2.1 MB\u001b[0m \u001b[31m5.5 MB/s\u001b[0m eta \u001b[36m0:00:00\u001b[0m\n",
            "\u001b[?25hRequirement already satisfied: tqdm in /usr/local/lib/python3.8/dist-packages (from LibRecommender==0.12.0) (4.64.1)\n",
            "Requirement already satisfied: tensorflow>=1.15.0 in /usr/local/lib/python3.8/dist-packages (from LibRecommender==0.12.0) (2.9.2)\n",
            "Requirement already satisfied: numpy>=1.19.5 in /usr/local/lib/python3.8/dist-packages (from LibRecommender==0.12.0) (1.24.1)\n",
            "Requirement already satisfied: torch>=1.10.0 in /usr/local/lib/python3.8/dist-packages (from LibRecommender==0.12.0) (1.13.1+cu116)\n",
            "Requirement already satisfied: scikit-learn>=0.20.0 in /usr/local/lib/python3.8/dist-packages (from LibRecommender==0.12.0) (1.0.2)\n",
            "Requirement already satisfied: pandas>=1.0.0 in /usr/local/lib/python3.8/dist-packages (from LibRecommender==0.12.0) (1.3.5)\n",
            "Requirement already satisfied: cython<3,>=0.29.0 in /usr/local/lib/python3.8/dist-packages (from LibRecommender==0.12.0) (0.29.33)\n",
            "Collecting gensim>=4.0.0\n",
            "  Downloading gensim-4.3.0-cp38-cp38-manylinux_2_12_x86_64.manylinux2010_x86_64.whl (24.1 MB)\n",
            "\u001b[2K     \u001b[90m━━━━━━━━━━━━━━━━━━━━━━━━━━━━━━━━━━━━━━━━\u001b[0m \u001b[32m24.1/24.1 MB\u001b[0m \u001b[31m75.6 MB/s\u001b[0m eta \u001b[36m0:00:00\u001b[0m\n",
            "\u001b[?25hRequirement already satisfied: scipy>=1.2.1 in /usr/local/lib/python3.8/dist-packages (from LibRecommender==0.12.0) (1.7.3)\n",
            "Collecting FuzzyTM>=0.4.0\n",
            "  Downloading FuzzyTM-2.0.5-py3-none-any.whl (29 kB)\n",
            "Requirement already satisfied: smart-open>=1.8.1 in /usr/local/lib/python3.8/dist-packages (from gensim>=4.0.0->LibRecommender==0.12.0) (6.3.0)\n",
            "Requirement already satisfied: pytz>=2017.3 in /usr/local/lib/python3.8/dist-packages (from pandas>=1.0.0->LibRecommender==0.12.0) (2022.7.1)\n",
            "Requirement already satisfied: python-dateutil>=2.7.3 in /usr/local/lib/python3.8/dist-packages (from pandas>=1.0.0->LibRecommender==0.12.0) (2.8.2)\n",
            "Requirement already satisfied: joblib>=0.11 in /usr/local/lib/python3.8/dist-packages (from scikit-learn>=0.20.0->LibRecommender==0.12.0) (1.2.0)\n",
            "Requirement already satisfied: threadpoolctl>=2.0.0 in /usr/local/lib/python3.8/dist-packages (from scikit-learn>=0.20.0->LibRecommender==0.12.0) (3.1.0)\n",
            "Collecting numpy>=1.19.5\n",
            "  Downloading numpy-1.22.4-cp38-cp38-manylinux_2_17_x86_64.manylinux2014_x86_64.whl (16.9 MB)\n",
            "\u001b[2K     \u001b[90m━━━━━━━━━━━━━━━━━━━━━━━━━━━━━━━━━━━━━━━━\u001b[0m \u001b[32m16.9/16.9 MB\u001b[0m \u001b[31m97.6 MB/s\u001b[0m eta \u001b[36m0:00:00\u001b[0m\n",
            "\u001b[?25hRequirement already satisfied: wrapt>=1.11.0 in /usr/local/lib/python3.8/dist-packages (from tensorflow>=1.15.0->LibRecommender==0.12.0) (1.14.1)\n",
            "Requirement already satisfied: google-pasta>=0.1.1 in /usr/local/lib/python3.8/dist-packages (from tensorflow>=1.15.0->LibRecommender==0.12.0) (0.2.0)\n",
            "Requirement already satisfied: typing-extensions>=3.6.6 in /usr/local/lib/python3.8/dist-packages (from tensorflow>=1.15.0->LibRecommender==0.12.0) (4.4.0)\n",
            "Requirement already satisfied: flatbuffers<2,>=1.12 in /usr/local/lib/python3.8/dist-packages (from tensorflow>=1.15.0->LibRecommender==0.12.0) (1.12)\n",
            "Requirement already satisfied: protobuf<3.20,>=3.9.2 in /usr/local/lib/python3.8/dist-packages (from tensorflow>=1.15.0->LibRecommender==0.12.0) (3.19.6)\n",
            "Requirement already satisfied: libclang>=13.0.0 in /usr/local/lib/python3.8/dist-packages (from tensorflow>=1.15.0->LibRecommender==0.12.0) (15.0.6.1)\n",
            "Requirement already satisfied: opt-einsum>=2.3.2 in /usr/local/lib/python3.8/dist-packages (from tensorflow>=1.15.0->LibRecommender==0.12.0) (3.3.0)\n",
            "Requirement already satisfied: tensorboard<2.10,>=2.9 in /usr/local/lib/python3.8/dist-packages (from tensorflow>=1.15.0->LibRecommender==0.12.0) (2.9.1)\n",
            "Requirement already satisfied: termcolor>=1.1.0 in /usr/local/lib/python3.8/dist-packages (from tensorflow>=1.15.0->LibRecommender==0.12.0) (2.2.0)\n",
            "Requirement already satisfied: astunparse>=1.6.0 in /usr/local/lib/python3.8/dist-packages (from tensorflow>=1.15.0->LibRecommender==0.12.0) (1.6.3)\n",
            "Requirement already satisfied: h5py>=2.9.0 in /usr/local/lib/python3.8/dist-packages (from tensorflow>=1.15.0->LibRecommender==0.12.0) (3.1.0)\n",
            "Requirement already satisfied: absl-py>=1.0.0 in /usr/local/lib/python3.8/dist-packages (from tensorflow>=1.15.0->LibRecommender==0.12.0) (1.4.0)\n",
            "Requirement already satisfied: keras<2.10.0,>=2.9.0rc0 in /usr/local/lib/python3.8/dist-packages (from tensorflow>=1.15.0->LibRecommender==0.12.0) (2.9.0)\n",
            "Requirement already satisfied: setuptools in /usr/local/lib/python3.8/dist-packages (from tensorflow>=1.15.0->LibRecommender==0.12.0) (57.4.0)\n",
            "Requirement already satisfied: six>=1.12.0 in /usr/local/lib/python3.8/dist-packages (from tensorflow>=1.15.0->LibRecommender==0.12.0) (1.15.0)\n",
            "Requirement already satisfied: tensorflow-io-gcs-filesystem>=0.23.1 in /usr/local/lib/python3.8/dist-packages (from tensorflow>=1.15.0->LibRecommender==0.12.0) (0.30.0)\n",
            "Requirement already satisfied: grpcio<2.0,>=1.24.3 in /usr/local/lib/python3.8/dist-packages (from tensorflow>=1.15.0->LibRecommender==0.12.0) (1.51.1)\n",
            "Requirement already satisfied: keras-preprocessing>=1.1.1 in /usr/local/lib/python3.8/dist-packages (from tensorflow>=1.15.0->LibRecommender==0.12.0) (1.1.2)\n",
            "Requirement already satisfied: packaging in /usr/local/lib/python3.8/dist-packages (from tensorflow>=1.15.0->LibRecommender==0.12.0) (23.0)\n",
            "Requirement already satisfied: gast<=0.4.0,>=0.2.1 in /usr/local/lib/python3.8/dist-packages (from tensorflow>=1.15.0->LibRecommender==0.12.0) (0.4.0)\n",
            "Requirement already satisfied: tensorflow-estimator<2.10.0,>=2.9.0rc0 in /usr/local/lib/python3.8/dist-packages (from tensorflow>=1.15.0->LibRecommender==0.12.0) (2.9.0)\n",
            "Requirement already satisfied: wheel<1.0,>=0.23.0 in /usr/local/lib/python3.8/dist-packages (from astunparse>=1.6.0->tensorflow>=1.15.0->LibRecommender==0.12.0) (0.38.4)\n",
            "Collecting pyfume\n",
            "  Downloading pyFUME-0.2.25-py3-none-any.whl (67 kB)\n",
            "\u001b[2K     \u001b[90m━━━━━━━━━━━━━━━━━━━━━━━━━━━━━━━━━━━━━━━━\u001b[0m \u001b[32m67.1/67.1 KB\u001b[0m \u001b[31m8.8 MB/s\u001b[0m eta \u001b[36m0:00:00\u001b[0m\n",
            "\u001b[?25hRequirement already satisfied: requests<3,>=2.21.0 in /usr/local/lib/python3.8/dist-packages (from tensorboard<2.10,>=2.9->tensorflow>=1.15.0->LibRecommender==0.12.0) (2.25.1)\n",
            "Requirement already satisfied: tensorboard-plugin-wit>=1.6.0 in /usr/local/lib/python3.8/dist-packages (from tensorboard<2.10,>=2.9->tensorflow>=1.15.0->LibRecommender==0.12.0) (1.8.1)\n",
            "Requirement already satisfied: google-auth-oauthlib<0.5,>=0.4.1 in /usr/local/lib/python3.8/dist-packages (from tensorboard<2.10,>=2.9->tensorflow>=1.15.0->LibRecommender==0.12.0) (0.4.6)\n",
            "Requirement already satisfied: markdown>=2.6.8 in /usr/local/lib/python3.8/dist-packages (from tensorboard<2.10,>=2.9->tensorflow>=1.15.0->LibRecommender==0.12.0) (3.4.1)\n",
            "Requirement already satisfied: tensorboard-data-server<0.7.0,>=0.6.0 in /usr/local/lib/python3.8/dist-packages (from tensorboard<2.10,>=2.9->tensorflow>=1.15.0->LibRecommender==0.12.0) (0.6.1)\n",
            "Requirement already satisfied: google-auth<3,>=1.6.3 in /usr/local/lib/python3.8/dist-packages (from tensorboard<2.10,>=2.9->tensorflow>=1.15.0->LibRecommender==0.12.0) (2.16.0)\n",
            "Requirement already satisfied: werkzeug>=1.0.1 in /usr/local/lib/python3.8/dist-packages (from tensorboard<2.10,>=2.9->tensorflow>=1.15.0->LibRecommender==0.12.0) (1.0.1)\n",
            "Requirement already satisfied: pyasn1-modules>=0.2.1 in /usr/local/lib/python3.8/dist-packages (from google-auth<3,>=1.6.3->tensorboard<2.10,>=2.9->tensorflow>=1.15.0->LibRecommender==0.12.0) (0.2.8)\n",
            "Requirement already satisfied: cachetools<6.0,>=2.0.0 in /usr/local/lib/python3.8/dist-packages (from google-auth<3,>=1.6.3->tensorboard<2.10,>=2.9->tensorflow>=1.15.0->LibRecommender==0.12.0) (5.3.0)\n",
            "Requirement already satisfied: rsa<5,>=3.1.4 in /usr/local/lib/python3.8/dist-packages (from google-auth<3,>=1.6.3->tensorboard<2.10,>=2.9->tensorflow>=1.15.0->LibRecommender==0.12.0) (4.9)\n",
            "Requirement already satisfied: requests-oauthlib>=0.7.0 in /usr/local/lib/python3.8/dist-packages (from google-auth-oauthlib<0.5,>=0.4.1->tensorboard<2.10,>=2.9->tensorflow>=1.15.0->LibRecommender==0.12.0) (1.3.1)\n",
            "Requirement already satisfied: importlib-metadata>=4.4 in /usr/local/lib/python3.8/dist-packages (from markdown>=2.6.8->tensorboard<2.10,>=2.9->tensorflow>=1.15.0->LibRecommender==0.12.0) (6.0.0)\n",
            "Requirement already satisfied: urllib3<1.27,>=1.21.1 in /usr/local/lib/python3.8/dist-packages (from requests<3,>=2.21.0->tensorboard<2.10,>=2.9->tensorflow>=1.15.0->LibRecommender==0.12.0) (1.24.3)\n",
            "Requirement already satisfied: chardet<5,>=3.0.2 in /usr/local/lib/python3.8/dist-packages (from requests<3,>=2.21.0->tensorboard<2.10,>=2.9->tensorflow>=1.15.0->LibRecommender==0.12.0) (4.0.0)\n",
            "Requirement already satisfied: idna<3,>=2.5 in /usr/local/lib/python3.8/dist-packages (from requests<3,>=2.21.0->tensorboard<2.10,>=2.9->tensorflow>=1.15.0->LibRecommender==0.12.0) (2.10)\n",
            "Requirement already satisfied: certifi>=2017.4.17 in /usr/local/lib/python3.8/dist-packages (from requests<3,>=2.21.0->tensorboard<2.10,>=2.9->tensorflow>=1.15.0->LibRecommender==0.12.0) (2022.12.7)\n",
            "Collecting fst-pso\n",
            "  Downloading fst-pso-1.8.1.tar.gz (18 kB)\n",
            "  Preparing metadata (setup.py) ... \u001b[?25l\u001b[?25hdone\n",
            "Collecting simpful\n",
            "  Downloading simpful-2.9.0-py3-none-any.whl (30 kB)\n",
            "Requirement already satisfied: zipp>=0.5 in /usr/local/lib/python3.8/dist-packages (from importlib-metadata>=4.4->markdown>=2.6.8->tensorboard<2.10,>=2.9->tensorflow>=1.15.0->LibRecommender==0.12.0) (3.12.0)\n",
            "Requirement already satisfied: pyasn1<0.5.0,>=0.4.6 in /usr/local/lib/python3.8/dist-packages (from pyasn1-modules>=0.2.1->google-auth<3,>=1.6.3->tensorboard<2.10,>=2.9->tensorflow>=1.15.0->LibRecommender==0.12.0) (0.4.8)\n",
            "Requirement already satisfied: oauthlib>=3.0.0 in /usr/local/lib/python3.8/dist-packages (from requests-oauthlib>=0.7.0->google-auth-oauthlib<0.5,>=0.4.1->tensorboard<2.10,>=2.9->tensorflow>=1.15.0->LibRecommender==0.12.0) (3.2.2)\n",
            "Collecting miniful\n",
            "  Downloading miniful-0.0.6.tar.gz (2.8 kB)\n",
            "  Preparing metadata (setup.py) ... \u001b[?25l\u001b[?25hdone\n",
            "Building wheels for collected packages: fst-pso, miniful\n",
            "  Building wheel for fst-pso (setup.py) ... \u001b[?25l\u001b[?25hdone\n",
            "  Created wheel for fst-pso: filename=fst_pso-1.8.1-py3-none-any.whl size=20443 sha256=ea9fe915060eaf498fb1128c0c6956f75280e550bcc9d0f1b745d694028f3756\n",
            "  Stored in directory: /root/.cache/pip/wheels/6a/65/c4/d27eeee9ba3fc150a0dae150519591103b9e0dbffde3ae77dc\n",
            "  Building wheel for miniful (setup.py) ... \u001b[?25l\u001b[?25hdone\n",
            "  Created wheel for miniful: filename=miniful-0.0.6-py3-none-any.whl size=3530 sha256=bf5dafa10e7fe2f5a28888fc3d70ca143bedc445b4c1a682d7eef459246a1f60\n",
            "  Stored in directory: /root/.cache/pip/wheels/ba/d9/a0/ddd93af16d5855dd9bad417623e70948fdac119d1d34fb17c8\n",
            "Successfully built fst-pso miniful\n",
            "Installing collected packages: numpy, simpful, miniful, fst-pso, pyfume, FuzzyTM, gensim, LibRecommender\n",
            "  Attempting uninstall: numpy\n",
            "    Found existing installation: numpy 1.24.1\n",
            "    Uninstalling numpy-1.24.1:\n",
            "      Successfully uninstalled numpy-1.24.1\n",
            "  Attempting uninstall: gensim\n",
            "    Found existing installation: gensim 3.6.0\n",
            "    Uninstalling gensim-3.6.0:\n",
            "      Successfully uninstalled gensim-3.6.0\n",
            "Successfully installed FuzzyTM-2.0.5 LibRecommender-0.12.0 fst-pso-1.8.1 gensim-4.3.0 miniful-0.0.6 numpy-1.22.4 pyfume-0.2.25 simpful-2.9.0\n"
          ]
        },
        {
          "output_type": "display_data",
          "data": {
            "application/vnd.colab-display-data+json": {
              "pip_warning": {
                "packages": [
                  "numpy"
                ]
              }
            }
          },
          "metadata": {}
        }
      ]
    },
    {
      "cell_type": "code",
      "source": [
        "from datetime import datetime\n",
        "import os\n",
        "import matplotlib\n",
        "import pandas as pd\n",
        "import numpy as np\n",
        "import matplotlib.pyplot as plt\n",
        "import seaborn as sns\n",
        "sns.set_style('whitegrid')\n",
        "\n",
        "from scipy import sparse\n",
        "from scipy.sparse import csc_matrix\n",
        "from sklearn.decomposition import TruncatedSVD\n",
        "\n",
        "np.random.seed(0)\n",
        "import tensorflow as tf\n",
        "\n",
        "from libreco.data import DatasetFeat, DataInfo, DatasetPure\n",
        "from libreco.data import split_by_ratio_chrono,split_by_ratio\n",
        "from libreco.algorithms import DeepFM\n",
        "from libreco.evaluation import evaluate\n",
        "from libreco.prediction import predict_data_with_feats"
      ],
      "metadata": {
        "id": "dw6xoobtRzyh"
      },
      "id": "dw6xoobtRzyh",
      "execution_count": null,
      "outputs": []
    },
    {
      "cell_type": "code",
      "source": [
        "\n",
        "col_user = [\"user\"]\n",
        "col_item = [\"item\"]\n",
        "col_dense = [\"label\"]"
      ],
      "metadata": {
        "id": "n1F600UuQ_nR"
      },
      "id": "n1F600UuQ_nR",
      "execution_count": null,
      "outputs": []
    },
    {
      "cell_type": "code",
      "source": [
        "!gdown https://drive.google.com/uc?id=1kl65YOvoSAMSgszQQbua2q4Zwe1HgPct\n",
        "!unzip -o \"data.zip\"  -d  \"/content\"\n",
        "\n",
        "movie_10k_df = pd.read_csv(\"movies_min.csv\")\n",
        "amazon_df =pd.read_csv('amazon_min.csv')\n",
        "book_df=pd.read_csv(\"book_min.csv\")\n",
        "food_df = pd.read_csv('food_min.csv')\n",
        "ecommerce_df=pd.read_csv('ecom_min.csv')\n",
        "ciao_df=pd.read_csv('ciao_min.csv')\n",
        "amazon_df=amazon_df[['userID',\t'itemID',\t'rating','time']]\n",
        "amazon_df.columns=[ 'user', 'item', 'label','timestamp']\n",
        "item_ids = list(set(list(amazon_df.item.unique())))\n",
        "user_ids = list(set(list(amazon_df.user.unique())))\n",
        "dict_users = {}\n",
        "index = 0\n",
        "for ids in sorted(user_ids):\n",
        "    dict_users[ids] = index\n",
        "    index += 1\n",
        "dict_items = {}\n",
        "index = 0\n",
        "for ids in sorted(item_ids):\n",
        "    dict_items[ids] = index\n",
        "    index += 1\n",
        "amazon_df['user'] = amazon_df.user.map(dict_users)\n",
        "amazon_df['item'] = amazon_df.item.map(dict_items)"
      ],
      "metadata": {
        "colab": {
          "base_uri": "https://localhost:8080/"
        },
        "outputId": "41a37068-087e-47f1-c7fa-6cbe2ebdc219",
        "id": "yG4v6I3PUdpY"
      },
      "execution_count": null,
      "outputs": [
        {
          "output_type": "stream",
          "name": "stdout",
          "text": [
            "Downloading...\n",
            "From: https://drive.google.com/uc?id=1kl65YOvoSAMSgszQQbua2q4Zwe1HgPct\n",
            "To: /content/data.zip\n",
            "\r  0% 0.00/4.16M [00:00<?, ?B/s]\r100% 4.16M/4.16M [00:00<00:00, 327MB/s]\n",
            "Archive:  data.zip\n",
            "  inflating: /content/amazon_min.csv  \n",
            "  inflating: /content/book_min.csv   \n",
            "  inflating: /content/ciao_min.csv   \n",
            "  inflating: /content/ecom_min.csv   \n",
            "  inflating: /content/food_min.csv   \n",
            "  inflating: /content/movies_min.csv  \n"
          ]
        }
      ],
      "id": "yG4v6I3PUdpY"
    },
    {
      "cell_type": "markdown",
      "source": [
        "### prepare dataset"
      ],
      "metadata": {
        "id": "ivIBxGSMe_io"
      },
      "id": "ivIBxGSMe_io"
    },
    {
      "cell_type": "code",
      "source": [
        "train, test = split_by_ratio(amazon_df, test_size=0.2)"
      ],
      "metadata": {
        "id": "nDRztFi4RxfK"
      },
      "id": "nDRztFi4RxfK",
      "execution_count": null,
      "outputs": []
    },
    {
      "cell_type": "code",
      "source": [
        "train_data, data_info =  DatasetPure.build_trainset(\n",
        "        train,\n",
        "       \n",
        "        shuffle=False,\n",
        "    )"
      ],
      "metadata": {
        "id": "HY7pFM-YUy7U"
      },
      "id": "HY7pFM-YUy7U",
      "execution_count": null,
      "outputs": []
    },
    {
      "cell_type": "code",
      "source": [
        "test_data =  DatasetPure.build_testset(test, shuffle=False)"
      ],
      "metadata": {
        "id": "OVcuzjuoUy-K"
      },
      "id": "OVcuzjuoUy-K",
      "execution_count": null,
      "outputs": []
    },
    {
      "cell_type": "code",
      "source": [
        "#eval_data =  DatasetPure.build_testset(test)\n",
        "print(data_info)\n"
      ],
      "metadata": {
        "colab": {
          "base_uri": "https://localhost:8080/"
        },
        "id": "rPbo5wNYWBIC",
        "outputId": "bedcffff-37fe-4216-dd87-b75b4e5ec602"
      },
      "id": "rPbo5wNYWBIC",
      "execution_count": null,
      "outputs": [
        {
          "output_type": "stream",
          "name": "stdout",
          "text": [
            "n_users: 2952, n_items: 2661, data sparsity: 0.6742 %\n"
          ]
        }
      ]
    },
    {
      "cell_type": "code",
      "source": [
        "train_data.build_negative_samples(\n",
        "        data_info, item_gen_mode=\"random\", num_neg=1, seed=2020\n",
        "    )\n",
        "test_data.build_negative_samples(\n",
        "        data_info, item_gen_mode=\"random\", num_neg=1, seed=2222\n",
        "    )\n"
      ],
      "metadata": {
        "id": "N7j9bpxi2GdO",
        "colab": {
          "base_uri": "https://localhost:8080/"
        },
        "outputId": "a7343a09-9248-4578-a46f-4dfaa7185d13"
      },
      "id": "N7j9bpxi2GdO",
      "execution_count": null,
      "outputs": [
        {
          "output_type": "stream",
          "name": "stdout",
          "text": [
            "random neg item sampling elapsed: 0.044s\n",
            "random neg item sampling elapsed: 0.008s\n"
          ]
        }
      ]
    },
    {
      "cell_type": "code",
      "source": [
        "import torch\n",
        "from libreco.data import split_by_ratio_chrono, DatasetPure, DatasetFeat\n",
        "from libreco.algorithms import (\n",
        "   \n",
        "    RNN4Rec,\n",
        "    Caser,\n",
        "    WaveNet,\n",
        "    Item2Vec,\n",
        "    DeepWalk,\n",
        ")\n",
        "\n",
        "    # # only do negative sampling on eval data\n",
        "    # eval_data.build_negative_samples(\n",
        "    #     data_info, item_gen_mode=\"random\", num_neg=1, seed=2222\n",
        "    # )\n",
        "metrics = [  \n",
        "        \"precision\",\n",
        "        \"recall\",\n",
        "        \"map\",\n",
        "        \"ndcg\",\n",
        "    ]\n"
      ],
      "metadata": {
        "id": "yWN-zHhKsZgg"
      },
      "id": "yWN-zHhKsZgg",
      "execution_count": null,
      "outputs": []
    },
    {
      "cell_type": "markdown",
      "source": [
        "### RNN4Rec"
      ],
      "metadata": {
        "id": "eAhyT3xrfEiP"
      },
      "id": "eAhyT3xrfEiP"
    },
    {
      "cell_type": "code",
      "source": [
        "rnn = RNN4Rec(\n",
        "        \"ranking\",\n",
        "        data_info,\n",
        "        rnn_type=\"gru\",\n",
        "        loss_type=\"cross_entropy\",\n",
        "        embed_size=32,\n",
        "        n_epochs=20,\n",
        "        lr=0.001,\n",
        "        lr_decay=None,\n",
        "        hidden_units=\"64,16\",\n",
        "        reg=None,\n",
        "        batch_size=512,\n",
        "        num_neg=1,\n",
        "        dropout_rate=None,\n",
        "        recent_num=20,\n",
        "        tf_sess_config=None,\n",
        "    )\n",
        "rnn.fit(\n",
        "        train_data,\n",
        "        verbose=2,\n",
        "        shuffle=True,\n",
        "        eval_data=test_data,\n",
        "        metrics=metrics,\n",
        "    )"
      ],
      "metadata": {
        "colab": {
          "base_uri": "https://localhost:8080/"
        },
        "id": "LgmG0om8dDDA",
        "outputId": "e53e32a4-804c-41cd-f8ce-d0af769b6424"
      },
      "id": "LgmG0om8dDDA",
      "execution_count": null,
      "outputs": [
        {
          "output_type": "stream",
          "name": "stdout",
          "text": [
            "total params: \u001b[33m287,381\u001b[0m | embedding params: \u001b[33m258,453\u001b[0m | network params: \u001b[33m28,928\u001b[0m\n",
            "Training start time: \u001b[35m2023-02-03 08:18:56\u001b[0m\n"
          ]
        },
        {
          "output_type": "stream",
          "name": "stderr",
          "text": [
            "train: 100%|██████████| 207/207 [00:13<00:00, 15.20it/s]\n"
          ]
        },
        {
          "output_type": "stream",
          "name": "stdout",
          "text": [
            "Epoch 1 elapsed: 13.644s\n",
            "\t \u001b[32mtrain_loss: 0.6665\u001b[0m\n"
          ]
        },
        {
          "output_type": "stream",
          "name": "stderr",
          "text": [
            "eval_rec: 100%|██████████| 2855/2855 [00:00<00:00, 5975.47it/s]\n"
          ]
        },
        {
          "output_type": "stream",
          "name": "stdout",
          "text": [
            "\t eval precision@10: 0.0062\n",
            "\t eval recall@10: 0.0190\n",
            "\t eval map@10: 0.0119\n",
            "\t eval ndcg@10: 0.0231\n",
            "==============================\n"
          ]
        },
        {
          "output_type": "stream",
          "name": "stderr",
          "text": [
            "train: 100%|██████████| 207/207 [00:12<00:00, 15.95it/s]\n"
          ]
        },
        {
          "output_type": "stream",
          "name": "stdout",
          "text": [
            "Epoch 2 elapsed: 12.999s\n",
            "\t \u001b[32mtrain_loss: 0.4746\u001b[0m\n"
          ]
        },
        {
          "output_type": "stream",
          "name": "stderr",
          "text": [
            "eval_rec: 100%|██████████| 2855/2855 [00:00<00:00, 7663.80it/s]\n"
          ]
        },
        {
          "output_type": "stream",
          "name": "stdout",
          "text": [
            "\t eval precision@10: 0.0092\n",
            "\t eval recall@10: 0.0252\n",
            "\t eval map@10: 0.0352\n",
            "\t eval ndcg@10: 0.0476\n",
            "==============================\n"
          ]
        },
        {
          "output_type": "stream",
          "name": "stderr",
          "text": [
            "train: 100%|██████████| 207/207 [00:12<00:00, 16.35it/s]\n"
          ]
        },
        {
          "output_type": "stream",
          "name": "stdout",
          "text": [
            "Epoch 3 elapsed: 12.686s\n",
            "\t \u001b[32mtrain_loss: 0.3\u001b[0m\n"
          ]
        },
        {
          "output_type": "stream",
          "name": "stderr",
          "text": [
            "eval_rec: 100%|██████████| 2855/2855 [00:00<00:00, 7271.61it/s]\n"
          ]
        },
        {
          "output_type": "stream",
          "name": "stdout",
          "text": [
            "\t eval precision@10: 0.0111\n",
            "\t eval recall@10: 0.0274\n",
            "\t eval map@10: 0.0302\n",
            "\t eval ndcg@10: 0.0467\n",
            "==============================\n"
          ]
        },
        {
          "output_type": "stream",
          "name": "stderr",
          "text": [
            "train: 100%|██████████| 207/207 [00:13<00:00, 15.89it/s]\n"
          ]
        },
        {
          "output_type": "stream",
          "name": "stdout",
          "text": [
            "Epoch 4 elapsed: 13.052s\n",
            "\t \u001b[32mtrain_loss: 0.2182\u001b[0m\n"
          ]
        },
        {
          "output_type": "stream",
          "name": "stderr",
          "text": [
            "eval_rec: 100%|██████████| 2855/2855 [00:00<00:00, 7823.81it/s]\n"
          ]
        },
        {
          "output_type": "stream",
          "name": "stdout",
          "text": [
            "\t eval precision@10: 0.0114\n",
            "\t eval recall@10: 0.0314\n",
            "\t eval map@10: 0.0316\n",
            "\t eval ndcg@10: 0.0490\n",
            "==============================\n"
          ]
        },
        {
          "output_type": "stream",
          "name": "stderr",
          "text": [
            "train: 100%|██████████| 207/207 [00:12<00:00, 16.49it/s]\n"
          ]
        },
        {
          "output_type": "stream",
          "name": "stdout",
          "text": [
            "Epoch 5 elapsed: 12.578s\n",
            "\t \u001b[32mtrain_loss: 0.1513\u001b[0m\n"
          ]
        },
        {
          "output_type": "stream",
          "name": "stderr",
          "text": [
            "eval_rec: 100%|██████████| 2855/2855 [00:00<00:00, 7518.93it/s]\n"
          ]
        },
        {
          "output_type": "stream",
          "name": "stdout",
          "text": [
            "\t eval precision@10: 0.0122\n",
            "\t eval recall@10: 0.0321\n",
            "\t eval map@10: 0.0385\n",
            "\t eval ndcg@10: 0.0554\n",
            "==============================\n"
          ]
        },
        {
          "output_type": "stream",
          "name": "stderr",
          "text": [
            "train: 100%|██████████| 207/207 [00:12<00:00, 16.45it/s]\n"
          ]
        },
        {
          "output_type": "stream",
          "name": "stdout",
          "text": [
            "Epoch 6 elapsed: 12.607s\n",
            "\t \u001b[32mtrain_loss: 0.1051\u001b[0m\n"
          ]
        },
        {
          "output_type": "stream",
          "name": "stderr",
          "text": [
            "eval_rec: 100%|██████████| 2855/2855 [00:00<00:00, 7269.18it/s]\n"
          ]
        },
        {
          "output_type": "stream",
          "name": "stdout",
          "text": [
            "\t eval precision@10: 0.0154\n",
            "\t eval recall@10: 0.0399\n",
            "\t eval map@10: 0.0486\n",
            "\t eval ndcg@10: 0.0704\n",
            "==============================\n"
          ]
        },
        {
          "output_type": "stream",
          "name": "stderr",
          "text": [
            "train: 100%|██████████| 207/207 [00:12<00:00, 16.55it/s]\n"
          ]
        },
        {
          "output_type": "stream",
          "name": "stdout",
          "text": [
            "Epoch 7 elapsed: 12.530s\n",
            "\t \u001b[32mtrain_loss: 0.0798\u001b[0m\n"
          ]
        },
        {
          "output_type": "stream",
          "name": "stderr",
          "text": [
            "eval_rec: 100%|██████████| 2855/2855 [00:00<00:00, 7370.82it/s]\n"
          ]
        },
        {
          "output_type": "stream",
          "name": "stdout",
          "text": [
            "\t eval precision@10: 0.0175\n",
            "\t eval recall@10: 0.0465\n",
            "\t eval map@10: 0.0613\n",
            "\t eval ndcg@10: 0.0845\n",
            "==============================\n"
          ]
        },
        {
          "output_type": "stream",
          "name": "stderr",
          "text": [
            "train: 100%|██████████| 207/207 [00:12<00:00, 16.50it/s]\n"
          ]
        },
        {
          "output_type": "stream",
          "name": "stdout",
          "text": [
            "Epoch 8 elapsed: 12.563s\n",
            "\t \u001b[32mtrain_loss: 0.063\u001b[0m\n"
          ]
        },
        {
          "output_type": "stream",
          "name": "stderr",
          "text": [
            "eval_rec: 100%|██████████| 2855/2855 [00:00<00:00, 7279.97it/s]\n"
          ]
        },
        {
          "output_type": "stream",
          "name": "stdout",
          "text": [
            "\t eval precision@10: 0.0175\n",
            "\t eval recall@10: 0.0469\n",
            "\t eval map@10: 0.0592\n",
            "\t eval ndcg@10: 0.0825\n",
            "==============================\n"
          ]
        },
        {
          "output_type": "stream",
          "name": "stderr",
          "text": [
            "train: 100%|██████████| 207/207 [00:12<00:00, 16.31it/s]\n"
          ]
        },
        {
          "output_type": "stream",
          "name": "stdout",
          "text": [
            "Epoch 9 elapsed: 12.714s\n",
            "\t \u001b[32mtrain_loss: 0.0542\u001b[0m\n"
          ]
        },
        {
          "output_type": "stream",
          "name": "stderr",
          "text": [
            "eval_rec: 100%|██████████| 2855/2855 [00:00<00:00, 7268.50it/s]\n"
          ]
        },
        {
          "output_type": "stream",
          "name": "stdout",
          "text": [
            "\t eval precision@10: 0.0177\n",
            "\t eval recall@10: 0.0469\n",
            "\t eval map@10: 0.0484\n",
            "\t eval ndcg@10: 0.0744\n",
            "==============================\n"
          ]
        },
        {
          "output_type": "stream",
          "name": "stderr",
          "text": [
            "train: 100%|██████████| 207/207 [00:12<00:00, 16.44it/s]\n"
          ]
        },
        {
          "output_type": "stream",
          "name": "stdout",
          "text": [
            "Epoch 10 elapsed: 12.611s\n",
            "\t \u001b[32mtrain_loss: 0.0448\u001b[0m\n"
          ]
        },
        {
          "output_type": "stream",
          "name": "stderr",
          "text": [
            "eval_rec: 100%|██████████| 2855/2855 [00:00<00:00, 7632.01it/s]\n"
          ]
        },
        {
          "output_type": "stream",
          "name": "stdout",
          "text": [
            "\t eval precision@10: 0.0174\n",
            "\t eval recall@10: 0.0468\n",
            "\t eval map@10: 0.0632\n",
            "\t eval ndcg@10: 0.0862\n",
            "==============================\n"
          ]
        },
        {
          "output_type": "stream",
          "name": "stderr",
          "text": [
            "train: 100%|██████████| 207/207 [00:12<00:00, 16.33it/s]\n"
          ]
        },
        {
          "output_type": "stream",
          "name": "stdout",
          "text": [
            "Epoch 11 elapsed: 12.694s\n",
            "\t \u001b[32mtrain_loss: 0.0384\u001b[0m\n"
          ]
        },
        {
          "output_type": "stream",
          "name": "stderr",
          "text": [
            "eval_rec: 100%|██████████| 2855/2855 [00:00<00:00, 7696.67it/s]\n"
          ]
        },
        {
          "output_type": "stream",
          "name": "stdout",
          "text": [
            "\t eval precision@10: 0.0168\n",
            "\t eval recall@10: 0.0459\n",
            "\t eval map@10: 0.0528\n",
            "\t eval ndcg@10: 0.0766\n",
            "==============================\n"
          ]
        },
        {
          "output_type": "stream",
          "name": "stderr",
          "text": [
            "train: 100%|██████████| 207/207 [00:12<00:00, 16.41it/s]\n"
          ]
        },
        {
          "output_type": "stream",
          "name": "stdout",
          "text": [
            "Epoch 12 elapsed: 12.631s\n",
            "\t \u001b[32mtrain_loss: 0.0329\u001b[0m\n"
          ]
        },
        {
          "output_type": "stream",
          "name": "stderr",
          "text": [
            "eval_rec: 100%|██████████| 2855/2855 [00:00<00:00, 8023.17it/s]\n"
          ]
        },
        {
          "output_type": "stream",
          "name": "stdout",
          "text": [
            "\t eval precision@10: 0.0169\n",
            "\t eval recall@10: 0.0451\n",
            "\t eval map@10: 0.0604\n",
            "\t eval ndcg@10: 0.0825\n",
            "==============================\n"
          ]
        },
        {
          "output_type": "stream",
          "name": "stderr",
          "text": [
            "train: 100%|██████████| 207/207 [00:12<00:00, 16.16it/s]\n"
          ]
        },
        {
          "output_type": "stream",
          "name": "stdout",
          "text": [
            "Epoch 13 elapsed: 12.831s\n",
            "\t \u001b[32mtrain_loss: 0.03\u001b[0m\n"
          ]
        },
        {
          "output_type": "stream",
          "name": "stderr",
          "text": [
            "eval_rec: 100%|██████████| 2855/2855 [00:00<00:00, 7768.43it/s]\n"
          ]
        },
        {
          "output_type": "stream",
          "name": "stdout",
          "text": [
            "\t eval precision@10: 0.0173\n",
            "\t eval recall@10: 0.0471\n",
            "\t eval map@10: 0.0603\n",
            "\t eval ndcg@10: 0.0837\n",
            "==============================\n"
          ]
        },
        {
          "output_type": "stream",
          "name": "stderr",
          "text": [
            "train: 100%|██████████| 207/207 [00:12<00:00, 16.55it/s]\n"
          ]
        },
        {
          "output_type": "stream",
          "name": "stdout",
          "text": [
            "Epoch 14 elapsed: 12.525s\n",
            "\t \u001b[32mtrain_loss: 0.0259\u001b[0m\n"
          ]
        },
        {
          "output_type": "stream",
          "name": "stderr",
          "text": [
            "eval_rec: 100%|██████████| 2855/2855 [00:00<00:00, 7571.34it/s]\n"
          ]
        },
        {
          "output_type": "stream",
          "name": "stdout",
          "text": [
            "\t eval precision@10: 0.0154\n",
            "\t eval recall@10: 0.0423\n",
            "\t eval map@10: 0.0511\n",
            "\t eval ndcg@10: 0.0731\n",
            "==============================\n"
          ]
        },
        {
          "output_type": "stream",
          "name": "stderr",
          "text": [
            "train: 100%|██████████| 207/207 [00:12<00:00, 16.43it/s]\n"
          ]
        },
        {
          "output_type": "stream",
          "name": "stdout",
          "text": [
            "Epoch 15 elapsed: 12.616s\n",
            "\t \u001b[32mtrain_loss: 0.0246\u001b[0m\n"
          ]
        },
        {
          "output_type": "stream",
          "name": "stderr",
          "text": [
            "eval_rec: 100%|██████████| 2855/2855 [00:00<00:00, 7806.59it/s]\n"
          ]
        },
        {
          "output_type": "stream",
          "name": "stdout",
          "text": [
            "\t eval precision@10: 0.0164\n",
            "\t eval recall@10: 0.0450\n",
            "\t eval map@10: 0.0588\n",
            "\t eval ndcg@10: 0.0805\n",
            "==============================\n"
          ]
        },
        {
          "output_type": "stream",
          "name": "stderr",
          "text": [
            "train: 100%|██████████| 207/207 [00:12<00:00, 16.43it/s]\n"
          ]
        },
        {
          "output_type": "stream",
          "name": "stdout",
          "text": [
            "Epoch 16 elapsed: 12.622s\n",
            "\t \u001b[32mtrain_loss: 0.0212\u001b[0m\n"
          ]
        },
        {
          "output_type": "stream",
          "name": "stderr",
          "text": [
            "eval_rec: 100%|██████████| 2855/2855 [00:00<00:00, 7351.85it/s]\n"
          ]
        },
        {
          "output_type": "stream",
          "name": "stdout",
          "text": [
            "\t eval precision@10: 0.0142\n",
            "\t eval recall@10: 0.0388\n",
            "\t eval map@10: 0.0476\n",
            "\t eval ndcg@10: 0.0674\n",
            "==============================\n"
          ]
        },
        {
          "output_type": "stream",
          "name": "stderr",
          "text": [
            "train: 100%|██████████| 207/207 [00:12<00:00, 16.21it/s]\n"
          ]
        },
        {
          "output_type": "stream",
          "name": "stdout",
          "text": [
            "Epoch 17 elapsed: 12.790s\n",
            "\t \u001b[32mtrain_loss: 0.0168\u001b[0m\n"
          ]
        },
        {
          "output_type": "stream",
          "name": "stderr",
          "text": [
            "eval_rec: 100%|██████████| 2855/2855 [00:00<00:00, 7508.99it/s]\n"
          ]
        },
        {
          "output_type": "stream",
          "name": "stdout",
          "text": [
            "\t eval precision@10: 0.0132\n",
            "\t eval recall@10: 0.0356\n",
            "\t eval map@10: 0.0449\n",
            "\t eval ndcg@10: 0.0629\n",
            "==============================\n"
          ]
        },
        {
          "output_type": "stream",
          "name": "stderr",
          "text": [
            "train: 100%|██████████| 207/207 [00:12<00:00, 16.35it/s]\n"
          ]
        },
        {
          "output_type": "stream",
          "name": "stdout",
          "text": [
            "Epoch 18 elapsed: 12.681s\n",
            "\t \u001b[32mtrain_loss: 0.0193\u001b[0m\n"
          ]
        },
        {
          "output_type": "stream",
          "name": "stderr",
          "text": [
            "eval_rec: 100%|██████████| 2855/2855 [00:00<00:00, 7478.17it/s]\n"
          ]
        },
        {
          "output_type": "stream",
          "name": "stdout",
          "text": [
            "\t eval precision@10: 0.0129\n",
            "\t eval recall@10: 0.0347\n",
            "\t eval map@10: 0.0361\n",
            "\t eval ndcg@10: 0.0557\n",
            "==============================\n"
          ]
        },
        {
          "output_type": "stream",
          "name": "stderr",
          "text": [
            "train: 100%|██████████| 207/207 [00:12<00:00, 16.43it/s]\n"
          ]
        },
        {
          "output_type": "stream",
          "name": "stdout",
          "text": [
            "Epoch 19 elapsed: 12.618s\n",
            "\t \u001b[32mtrain_loss: 0.0151\u001b[0m\n"
          ]
        },
        {
          "output_type": "stream",
          "name": "stderr",
          "text": [
            "eval_rec: 100%|██████████| 2855/2855 [00:00<00:00, 6919.73it/s]\n"
          ]
        },
        {
          "output_type": "stream",
          "name": "stdout",
          "text": [
            "\t eval precision@10: 0.0139\n",
            "\t eval recall@10: 0.0375\n",
            "\t eval map@10: 0.0445\n",
            "\t eval ndcg@10: 0.0645\n",
            "==============================\n"
          ]
        },
        {
          "output_type": "stream",
          "name": "stderr",
          "text": [
            "train: 100%|██████████| 207/207 [00:12<00:00, 16.31it/s]\n"
          ]
        },
        {
          "output_type": "stream",
          "name": "stdout",
          "text": [
            "Epoch 20 elapsed: 12.713s\n",
            "\t \u001b[32mtrain_loss: 0.0135\u001b[0m\n"
          ]
        },
        {
          "output_type": "stream",
          "name": "stderr",
          "text": [
            "eval_rec: 100%|██████████| 2855/2855 [00:00<00:00, 7768.14it/s]\n"
          ]
        },
        {
          "output_type": "stream",
          "name": "stdout",
          "text": [
            "\t eval precision@10: 0.0147\n",
            "\t eval recall@10: 0.0418\n",
            "\t eval map@10: 0.0454\n",
            "\t eval ndcg@10: 0.0669\n",
            "==============================\n"
          ]
        }
      ]
    },
    {
      "cell_type": "code",
      "source": [
        "print(\"recommendation: \", rnn.recommend_user(user=1, n_rec=7))"
      ],
      "metadata": {
        "colab": {
          "base_uri": "https://localhost:8080/"
        },
        "id": "_LNhXMXvee_p",
        "outputId": "e50d074f-bd44-44be-b0e3-cab49af56a70"
      },
      "id": "_LNhXMXvee_p",
      "execution_count": null,
      "outputs": [
        {
          "output_type": "stream",
          "name": "stdout",
          "text": [
            "recommendation:  [(2290, 0.9999999), (2143, 0.99999976), (2229, 0.99999976), (2243, 0.99999976), (2521, 0.9999995), (2421, 0.9999994), (2473, 0.9999987)]\n"
          ]
        }
      ]
    },
    {
      "cell_type": "markdown",
      "source": [
        "### Caser"
      ],
      "metadata": {
        "id": "BKxDLL82fHfY"
      },
      "id": "BKxDLL82fHfY"
    },
    {
      "cell_type": "code",
      "source": [
        "cas = Caser(\n",
        "       \"ranking\",\n",
        "        data_info,\n",
        "        loss_type=\"cross_entropy\",\n",
        "        embed_size=32,\n",
        "        n_epochs=20,\n",
        "        lr=1e-4,\n",
        "        lr_decay=None,\n",
        "        reg=None,\n",
        "        batch_size=512,\n",
        "        num_neg=1,\n",
        "        dropout_rate=0.0,\n",
        "        use_bn=False,\n",
        "        nh_filters=16,\n",
        "        nv_filters=4,\n",
        "        recent_num=10,\n",
        "        tf_sess_config=None,\n",
        "    )\n",
        "cas.fit(\n",
        "        train_data,\n",
        "        verbose=2,\n",
        "        shuffle=True,\n",
        "        eval_data=test_data,\n",
        "        metrics=metrics,\n",
        "    )"
      ],
      "metadata": {
        "colab": {
          "base_uri": "https://localhost:8080/"
        },
        "id": "hyiTY1d8eiyP",
        "outputId": "09e5dcbe-1f15-4558-c907-2ac56e7a6eaf"
      },
      "id": "hyiTY1d8eiyP",
      "execution_count": null,
      "outputs": [
        {
          "output_type": "stream",
          "name": "stdout",
          "text": [
            "total params: \u001b[33m390,225\u001b[0m | embedding params: \u001b[33m352,809\u001b[0m | network params: \u001b[33m37,416\u001b[0m\n",
            "Training start time: \u001b[35m2023-02-03 08:57:08\u001b[0m\n"
          ]
        },
        {
          "output_type": "stream",
          "name": "stderr",
          "text": [
            "train: 100%|██████████| 207/207 [00:04<00:00, 47.20it/s] \n"
          ]
        },
        {
          "output_type": "stream",
          "name": "stdout",
          "text": [
            "Epoch 1 elapsed: 4.415s\n",
            "\t \u001b[32mtrain_loss: 0.6928\u001b[0m\n"
          ]
        },
        {
          "output_type": "stream",
          "name": "stderr",
          "text": [
            "eval_rec: 100%|██████████| 2855/2855 [00:00<00:00, 6124.59it/s]\n"
          ]
        },
        {
          "output_type": "stream",
          "name": "stdout",
          "text": [
            "\t eval precision@10: 0.0063\n",
            "\t eval recall@10: 0.0187\n",
            "\t eval map@10: 0.0332\n",
            "\t eval ndcg@10: 0.0400\n",
            "==============================\n"
          ]
        },
        {
          "output_type": "stream",
          "name": "stderr",
          "text": [
            "train: 100%|██████████| 207/207 [00:01<00:00, 114.31it/s]\n"
          ]
        },
        {
          "output_type": "stream",
          "name": "stdout",
          "text": [
            "Epoch 2 elapsed: 1.832s\n",
            "\t \u001b[32mtrain_loss: 0.691\u001b[0m\n"
          ]
        },
        {
          "output_type": "stream",
          "name": "stderr",
          "text": [
            "eval_rec: 100%|██████████| 2855/2855 [00:00<00:00, 6181.62it/s]\n"
          ]
        },
        {
          "output_type": "stream",
          "name": "stdout",
          "text": [
            "\t eval precision@10: 0.0062\n",
            "\t eval recall@10: 0.0194\n",
            "\t eval map@10: 0.0442\n",
            "\t eval ndcg@10: 0.0481\n",
            "==============================\n"
          ]
        },
        {
          "output_type": "stream",
          "name": "stderr",
          "text": [
            "train: 100%|██████████| 207/207 [00:01<00:00, 114.68it/s]\n"
          ]
        },
        {
          "output_type": "stream",
          "name": "stdout",
          "text": [
            "Epoch 3 elapsed: 1.828s\n",
            "\t \u001b[32mtrain_loss: 0.675\u001b[0m\n"
          ]
        },
        {
          "output_type": "stream",
          "name": "stderr",
          "text": [
            "eval_rec: 100%|██████████| 2855/2855 [00:00<00:00, 5812.19it/s]\n"
          ]
        },
        {
          "output_type": "stream",
          "name": "stdout",
          "text": [
            "\t eval precision@10: 0.0063\n",
            "\t eval recall@10: 0.0195\n",
            "\t eval map@10: 0.0260\n",
            "\t eval ndcg@10: 0.0344\n",
            "==============================\n"
          ]
        },
        {
          "output_type": "stream",
          "name": "stderr",
          "text": [
            "train: 100%|██████████| 207/207 [00:01<00:00, 112.48it/s]\n"
          ]
        },
        {
          "output_type": "stream",
          "name": "stdout",
          "text": [
            "Epoch 4 elapsed: 1.860s\n",
            "\t \u001b[32mtrain_loss: 0.6228\u001b[0m\n"
          ]
        },
        {
          "output_type": "stream",
          "name": "stderr",
          "text": [
            "eval_rec: 100%|██████████| 2855/2855 [00:00<00:00, 6406.44it/s]\n"
          ]
        },
        {
          "output_type": "stream",
          "name": "stdout",
          "text": [
            "\t eval precision@10: 0.0077\n",
            "\t eval recall@10: 0.0229\n",
            "\t eval map@10: 0.0313\n",
            "\t eval ndcg@10: 0.0419\n",
            "==============================\n"
          ]
        },
        {
          "output_type": "stream",
          "name": "stderr",
          "text": [
            "train: 100%|██████████| 207/207 [00:01<00:00, 111.22it/s]\n"
          ]
        },
        {
          "output_type": "stream",
          "name": "stdout",
          "text": [
            "Epoch 5 elapsed: 1.881s\n",
            "\t \u001b[32mtrain_loss: 0.5854\u001b[0m\n"
          ]
        },
        {
          "output_type": "stream",
          "name": "stderr",
          "text": [
            "eval_rec: 100%|██████████| 2855/2855 [00:00<00:00, 6045.84it/s]\n"
          ]
        },
        {
          "output_type": "stream",
          "name": "stdout",
          "text": [
            "\t eval precision@10: 0.0086\n",
            "\t eval recall@10: 0.0246\n",
            "\t eval map@10: 0.0323\n",
            "\t eval ndcg@10: 0.0440\n",
            "==============================\n"
          ]
        },
        {
          "output_type": "stream",
          "name": "stderr",
          "text": [
            "train: 100%|██████████| 207/207 [00:01<00:00, 112.52it/s]\n"
          ]
        },
        {
          "output_type": "stream",
          "name": "stdout",
          "text": [
            "Epoch 6 elapsed: 1.859s\n",
            "\t \u001b[32mtrain_loss: 0.5492\u001b[0m\n"
          ]
        },
        {
          "output_type": "stream",
          "name": "stderr",
          "text": [
            "eval_rec: 100%|██████████| 2855/2855 [00:00<00:00, 6203.96it/s]\n"
          ]
        },
        {
          "output_type": "stream",
          "name": "stdout",
          "text": [
            "\t eval precision@10: 0.0101\n",
            "\t eval recall@10: 0.0291\n",
            "\t eval map@10: 0.0303\n",
            "\t eval ndcg@10: 0.0451\n",
            "==============================\n"
          ]
        },
        {
          "output_type": "stream",
          "name": "stderr",
          "text": [
            "train: 100%|██████████| 207/207 [00:01<00:00, 113.72it/s]\n"
          ]
        },
        {
          "output_type": "stream",
          "name": "stdout",
          "text": [
            "Epoch 7 elapsed: 1.841s\n",
            "\t \u001b[32mtrain_loss: 0.5075\u001b[0m\n"
          ]
        },
        {
          "output_type": "stream",
          "name": "stderr",
          "text": [
            "eval_rec: 100%|██████████| 2855/2855 [00:00<00:00, 6160.80it/s]\n"
          ]
        },
        {
          "output_type": "stream",
          "name": "stdout",
          "text": [
            "\t eval precision@10: 0.0106\n",
            "\t eval recall@10: 0.0301\n",
            "\t eval map@10: 0.0301\n",
            "\t eval ndcg@10: 0.0461\n",
            "==============================\n"
          ]
        },
        {
          "output_type": "stream",
          "name": "stderr",
          "text": [
            "train: 100%|██████████| 207/207 [00:01<00:00, 112.07it/s]\n"
          ]
        },
        {
          "output_type": "stream",
          "name": "stdout",
          "text": [
            "Epoch 8 elapsed: 1.867s\n",
            "\t \u001b[32mtrain_loss: 0.4668\u001b[0m\n"
          ]
        },
        {
          "output_type": "stream",
          "name": "stderr",
          "text": [
            "eval_rec: 100%|██████████| 2855/2855 [00:00<00:00, 6609.83it/s]\n"
          ]
        },
        {
          "output_type": "stream",
          "name": "stdout",
          "text": [
            "\t eval precision@10: 0.0106\n",
            "\t eval recall@10: 0.0303\n",
            "\t eval map@10: 0.0302\n",
            "\t eval ndcg@10: 0.0461\n",
            "==============================\n"
          ]
        },
        {
          "output_type": "stream",
          "name": "stderr",
          "text": [
            "train: 100%|██████████| 207/207 [00:01<00:00, 113.56it/s]\n"
          ]
        },
        {
          "output_type": "stream",
          "name": "stdout",
          "text": [
            "Epoch 9 elapsed: 1.843s\n",
            "\t \u001b[32mtrain_loss: 0.4311\u001b[0m\n"
          ]
        },
        {
          "output_type": "stream",
          "name": "stderr",
          "text": [
            "eval_rec: 100%|██████████| 2855/2855 [00:00<00:00, 6261.39it/s]\n"
          ]
        },
        {
          "output_type": "stream",
          "name": "stdout",
          "text": [
            "\t eval precision@10: 0.0109\n",
            "\t eval recall@10: 0.0298\n",
            "\t eval map@10: 0.0304\n",
            "\t eval ndcg@10: 0.0466\n",
            "==============================\n"
          ]
        },
        {
          "output_type": "stream",
          "name": "stderr",
          "text": [
            "train: 100%|██████████| 207/207 [00:01<00:00, 111.58it/s]\n"
          ]
        },
        {
          "output_type": "stream",
          "name": "stdout",
          "text": [
            "Epoch 10 elapsed: 1.876s\n",
            "\t \u001b[32mtrain_loss: 0.3979\u001b[0m\n"
          ]
        },
        {
          "output_type": "stream",
          "name": "stderr",
          "text": [
            "eval_rec: 100%|██████████| 2855/2855 [00:00<00:00, 6669.93it/s]\n"
          ]
        },
        {
          "output_type": "stream",
          "name": "stdout",
          "text": [
            "\t eval precision@10: 0.0108\n",
            "\t eval recall@10: 0.0289\n",
            "\t eval map@10: 0.0303\n",
            "\t eval ndcg@10: 0.0464\n",
            "==============================\n"
          ]
        },
        {
          "output_type": "stream",
          "name": "stderr",
          "text": [
            "train: 100%|██████████| 207/207 [00:01<00:00, 115.40it/s]\n"
          ]
        },
        {
          "output_type": "stream",
          "name": "stdout",
          "text": [
            "Epoch 11 elapsed: 1.813s\n",
            "\t \u001b[32mtrain_loss: 0.3696\u001b[0m\n"
          ]
        },
        {
          "output_type": "stream",
          "name": "stderr",
          "text": [
            "eval_rec: 100%|██████████| 2855/2855 [00:00<00:00, 6696.23it/s]\n"
          ]
        },
        {
          "output_type": "stream",
          "name": "stdout",
          "text": [
            "\t eval precision@10: 0.0105\n",
            "\t eval recall@10: 0.0283\n",
            "\t eval map@10: 0.0293\n",
            "\t eval ndcg@10: 0.0451\n",
            "==============================\n"
          ]
        },
        {
          "output_type": "stream",
          "name": "stderr",
          "text": [
            "train: 100%|██████████| 207/207 [00:01<00:00, 115.96it/s]\n"
          ]
        },
        {
          "output_type": "stream",
          "name": "stdout",
          "text": [
            "Epoch 12 elapsed: 1.805s\n",
            "\t \u001b[32mtrain_loss: 0.3461\u001b[0m\n"
          ]
        },
        {
          "output_type": "stream",
          "name": "stderr",
          "text": [
            "eval_rec: 100%|██████████| 2855/2855 [00:00<00:00, 6819.13it/s]\n"
          ]
        },
        {
          "output_type": "stream",
          "name": "stdout",
          "text": [
            "\t eval precision@10: 0.0100\n",
            "\t eval recall@10: 0.0266\n",
            "\t eval map@10: 0.0285\n",
            "\t eval ndcg@10: 0.0433\n",
            "==============================\n"
          ]
        },
        {
          "output_type": "stream",
          "name": "stderr",
          "text": [
            "train: 100%|██████████| 207/207 [00:01<00:00, 115.69it/s]\n"
          ]
        },
        {
          "output_type": "stream",
          "name": "stdout",
          "text": [
            "Epoch 13 elapsed: 1.809s\n",
            "\t \u001b[32mtrain_loss: 0.3274\u001b[0m\n"
          ]
        },
        {
          "output_type": "stream",
          "name": "stderr",
          "text": [
            "eval_rec: 100%|██████████| 2855/2855 [00:00<00:00, 6582.50it/s]\n"
          ]
        },
        {
          "output_type": "stream",
          "name": "stdout",
          "text": [
            "\t eval precision@10: 0.0100\n",
            "\t eval recall@10: 0.0266\n",
            "\t eval map@10: 0.0296\n",
            "\t eval ndcg@10: 0.0442\n",
            "==============================\n"
          ]
        },
        {
          "output_type": "stream",
          "name": "stderr",
          "text": [
            "train: 100%|██████████| 207/207 [00:01<00:00, 113.37it/s]\n"
          ]
        },
        {
          "output_type": "stream",
          "name": "stdout",
          "text": [
            "Epoch 14 elapsed: 1.846s\n",
            "\t \u001b[32mtrain_loss: 0.3118\u001b[0m\n"
          ]
        },
        {
          "output_type": "stream",
          "name": "stderr",
          "text": [
            "eval_rec: 100%|██████████| 2855/2855 [00:00<00:00, 6951.16it/s]\n"
          ]
        },
        {
          "output_type": "stream",
          "name": "stdout",
          "text": [
            "\t eval precision@10: 0.0099\n",
            "\t eval recall@10: 0.0267\n",
            "\t eval map@10: 0.0308\n",
            "\t eval ndcg@10: 0.0451\n",
            "==============================\n"
          ]
        },
        {
          "output_type": "stream",
          "name": "stderr",
          "text": [
            "train: 100%|██████████| 207/207 [00:01<00:00, 114.28it/s]\n"
          ]
        },
        {
          "output_type": "stream",
          "name": "stdout",
          "text": [
            "Epoch 15 elapsed: 1.832s\n",
            "\t \u001b[32mtrain_loss: 0.2971\u001b[0m\n"
          ]
        },
        {
          "output_type": "stream",
          "name": "stderr",
          "text": [
            "eval_rec: 100%|██████████| 2855/2855 [00:00<00:00, 7124.19it/s]\n"
          ]
        },
        {
          "output_type": "stream",
          "name": "stdout",
          "text": [
            "\t eval precision@10: 0.0100\n",
            "\t eval recall@10: 0.0266\n",
            "\t eval map@10: 0.0307\n",
            "\t eval ndcg@10: 0.0454\n",
            "==============================\n"
          ]
        },
        {
          "output_type": "stream",
          "name": "stderr",
          "text": [
            "train: 100%|██████████| 207/207 [00:01<00:00, 113.88it/s]\n"
          ]
        },
        {
          "output_type": "stream",
          "name": "stdout",
          "text": [
            "Epoch 16 elapsed: 1.838s\n",
            "\t \u001b[32mtrain_loss: 0.2852\u001b[0m\n"
          ]
        },
        {
          "output_type": "stream",
          "name": "stderr",
          "text": [
            "eval_rec: 100%|██████████| 2855/2855 [00:00<00:00, 7140.33it/s]\n"
          ]
        },
        {
          "output_type": "stream",
          "name": "stdout",
          "text": [
            "\t eval precision@10: 0.0093\n",
            "\t eval recall@10: 0.0247\n",
            "\t eval map@10: 0.0303\n",
            "\t eval ndcg@10: 0.0437\n",
            "==============================\n"
          ]
        },
        {
          "output_type": "stream",
          "name": "stderr",
          "text": [
            "train: 100%|██████████| 207/207 [00:01<00:00, 113.16it/s]\n"
          ]
        },
        {
          "output_type": "stream",
          "name": "stdout",
          "text": [
            "Epoch 17 elapsed: 1.850s\n",
            "\t \u001b[32mtrain_loss: 0.2724\u001b[0m\n"
          ]
        },
        {
          "output_type": "stream",
          "name": "stderr",
          "text": [
            "eval_rec: 100%|██████████| 2855/2855 [00:00<00:00, 7500.47it/s]\n"
          ]
        },
        {
          "output_type": "stream",
          "name": "stdout",
          "text": [
            "\t eval precision@10: 0.0099\n",
            "\t eval recall@10: 0.0262\n",
            "\t eval map@10: 0.0323\n",
            "\t eval ndcg@10: 0.0460\n",
            "==============================\n"
          ]
        },
        {
          "output_type": "stream",
          "name": "stderr",
          "text": [
            "train: 100%|██████████| 207/207 [00:01<00:00, 113.89it/s]\n"
          ]
        },
        {
          "output_type": "stream",
          "name": "stdout",
          "text": [
            "Epoch 18 elapsed: 1.839s\n",
            "\t \u001b[32mtrain_loss: 0.2616\u001b[0m\n"
          ]
        },
        {
          "output_type": "stream",
          "name": "stderr",
          "text": [
            "eval_rec: 100%|██████████| 2855/2855 [00:00<00:00, 6733.73it/s]\n"
          ]
        },
        {
          "output_type": "stream",
          "name": "stdout",
          "text": [
            "\t eval precision@10: 0.0104\n",
            "\t eval recall@10: 0.0274\n",
            "\t eval map@10: 0.0428\n",
            "\t eval ndcg@10: 0.0550\n",
            "==============================\n"
          ]
        },
        {
          "output_type": "stream",
          "name": "stderr",
          "text": [
            "train: 100%|██████████| 207/207 [00:01<00:00, 111.03it/s]\n"
          ]
        },
        {
          "output_type": "stream",
          "name": "stdout",
          "text": [
            "Epoch 19 elapsed: 1.884s\n",
            "\t \u001b[32mtrain_loss: 0.2489\u001b[0m\n"
          ]
        },
        {
          "output_type": "stream",
          "name": "stderr",
          "text": [
            "eval_rec: 100%|██████████| 2855/2855 [00:00<00:00, 7611.24it/s]\n"
          ]
        },
        {
          "output_type": "stream",
          "name": "stdout",
          "text": [
            "\t eval precision@10: 0.0114\n",
            "\t eval recall@10: 0.0299\n",
            "\t eval map@10: 0.0459\n",
            "\t eval ndcg@10: 0.0600\n",
            "==============================\n"
          ]
        },
        {
          "output_type": "stream",
          "name": "stderr",
          "text": [
            "train: 100%|██████████| 207/207 [00:01<00:00, 114.68it/s]\n"
          ]
        },
        {
          "output_type": "stream",
          "name": "stdout",
          "text": [
            "Epoch 20 elapsed: 1.824s\n",
            "\t \u001b[32mtrain_loss: 0.239\u001b[0m\n"
          ]
        },
        {
          "output_type": "stream",
          "name": "stderr",
          "text": [
            "eval_rec: 100%|██████████| 2855/2855 [00:00<00:00, 7320.54it/s]\n"
          ]
        },
        {
          "output_type": "stream",
          "name": "stdout",
          "text": [
            "\t eval precision@10: 0.0116\n",
            "\t eval recall@10: 0.0292\n",
            "\t eval map@10: 0.0454\n",
            "\t eval ndcg@10: 0.0597\n",
            "==============================\n"
          ]
        }
      ]
    },
    {
      "cell_type": "code",
      "source": [
        "print(\"recommendation: \", cas.recommend_user(user=1, n_rec=7))"
      ],
      "metadata": {
        "colab": {
          "base_uri": "https://localhost:8080/"
        },
        "id": "ZaSj9B-3fK2X",
        "outputId": "c900e4fc-d712-490d-abe5-6de07d08dabc"
      },
      "id": "ZaSj9B-3fK2X",
      "execution_count": null,
      "outputs": [
        {
          "output_type": "stream",
          "name": "stdout",
          "text": [
            "recommendation:  [(1986, 0.9871257), (2017, 0.98326725), (2088, 0.9675387), (2015, 0.9666409), (2229, 0.96572703), (2246, 0.95985097), (2478, 0.9583813)]\n"
          ]
        }
      ]
    }
  ],
  "metadata": {
    "kernelspec": {
      "display_name": "Python 3",
      "language": "python",
      "name": "python3"
    },
    "language_info": {
      "codemirror_mode": {
        "name": "ipython",
        "version": 3
      },
      "file_extension": ".py",
      "mimetype": "text/x-python",
      "name": "python",
      "nbconvert_exporter": "python",
      "pygments_lexer": "ipython3",
      "version": "3.6.5"
    },
    "colab": {
      "provenance": [],
      "machine_shape": "hm"
    },
    "gpuClass": "standard",
    "accelerator": "GPU"
  },
  "nbformat": 4,
  "nbformat_minor": 5
}