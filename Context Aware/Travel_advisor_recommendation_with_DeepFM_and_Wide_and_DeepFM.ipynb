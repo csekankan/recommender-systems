{
  "cells": [
    {
      "cell_type": "code",
      "source": [
        "!pip install numpy==1.22"
      ],
      "metadata": {
        "colab": {
          "base_uri": "https://localhost:8080/",
          "height": 121
        },
        "id": "zaMRVC0lz0UZ",
        "outputId": "986407de-b8fc-45eb-cfd2-472de40c40f1"
      },
      "execution_count": null,
      "outputs": [
        {
          "output_type": "stream",
          "name": "stdout",
          "text": [
            "Successfully installed numpy-1.22.0\n"
          ]
        },
        {
          "output_type": "display_data",
          "data": {
            "application/vnd.colab-display-data+json": {
              "pip_warning": {
                "packages": [
                  "numpy"
                ]
              }
            }
          },
          "metadata": {}
        }
      ],
      "id": "zaMRVC0lz0UZ"
    },
    {
      "cell_type": "code",
      "source": [
        "!pip install LibRecommender==0.12.0"
      ],
      "metadata": {
        "id": "F-HU8InaQura",
        "colab": {
          "base_uri": "https://localhost:8080/"
        },
        "outputId": "68bc35a8-bc09-45b4-ce93-8ae2237379fa"
      },
      "id": "F-HU8InaQura",
      "execution_count": null,
      "outputs": [
        {
          "output_type": "stream",
          "name": "stdout",
          "text": [
            "Installing collected packages: simpful, miniful, fst-pso, pyfume, FuzzyTM, gensim, LibRecommender\n",
            "  Attempting uninstall: gensim\n",
            "    Found existing installation: gensim 3.6.0\n",
            "    Uninstalling gensim-3.6.0:\n",
            "      Successfully uninstalled gensim-3.6.0\n",
            "Successfully installed FuzzyTM-2.0.5 LibRecommender-0.12.0 fst-pso-1.8.1 gensim-4.3.0 miniful-0.0.6 pyfume-0.2.25 simpful-2.9.0\n"
          ]
        }
      ]
    },
    {
      "cell_type": "code",
      "source": [
        "gpu_info = !nvidia-smi\n",
        "gpu_info = '\\n'.join(gpu_info)\n",
        "if gpu_info.find('failed') >= 0:\n",
        "  print('Not connected to a GPU')\n",
        "else:\n",
        "  print(gpu_info)"
      ],
      "metadata": {
        "colab": {
          "base_uri": "https://localhost:8080/"
        },
        "id": "_QphkgcDcwxr",
        "outputId": "8db70b0c-b026-4e2b-8ceb-8c9196a9877b"
      },
      "id": "_QphkgcDcwxr",
      "execution_count": null,
      "outputs": [
        {
          "output_type": "stream",
          "name": "stdout",
          "text": [
            "Tue Feb  7 21:06:37 2023       \n",
            "+-----------------------------------------------------------------------------+\n",
            "| NVIDIA-SMI 510.47.03    Driver Version: 510.47.03    CUDA Version: 11.6     |\n",
            "|-------------------------------+----------------------+----------------------+\n",
            "| GPU  Name        Persistence-M| Bus-Id        Disp.A | Volatile Uncorr. ECC |\n",
            "| Fan  Temp  Perf  Pwr:Usage/Cap|         Memory-Usage | GPU-Util  Compute M. |\n",
            "|                               |                      |               MIG M. |\n",
            "|===============================+======================+======================|\n",
            "|   0  Tesla T4            Off  | 00000000:00:04.0 Off |                    0 |\n",
            "| N/A   34C    P0    23W /  70W |      0MiB / 15360MiB |      0%      Default |\n",
            "|                               |                      |                  N/A |\n",
            "+-------------------------------+----------------------+----------------------+\n",
            "                                                                               \n",
            "+-----------------------------------------------------------------------------+\n",
            "| Processes:                                                                  |\n",
            "|  GPU   GI   CI        PID   Type   Process name                  GPU Memory |\n",
            "|        ID   ID                                                   Usage      |\n",
            "|=============================================================================|\n",
            "|  No running processes found                                                 |\n",
            "+-----------------------------------------------------------------------------+\n"
          ]
        }
      ]
    },
    {
      "cell_type": "code",
      "source": [
        "from psutil import virtual_memory\n",
        "ram_gb = virtual_memory().total / 1e9\n",
        "print('Your runtime has {:.1f} gigabytes of available RAM\\n'.format(ram_gb))\n",
        "\n",
        "if ram_gb < 20:\n",
        "  print('Not using a high-RAM runtime')\n",
        "else:\n",
        "  print('You are using a high-RAM runtime!')"
      ],
      "metadata": {
        "colab": {
          "base_uri": "https://localhost:8080/"
        },
        "id": "Kq_W9JJDczFA",
        "outputId": "5e3056fe-5b4e-44cb-cb56-8e877ab8bb0a"
      },
      "id": "Kq_W9JJDczFA",
      "execution_count": null,
      "outputs": [
        {
          "output_type": "stream",
          "name": "stdout",
          "text": [
            "Your runtime has 27.3 gigabytes of available RAM\n",
            "\n",
            "You are using a high-RAM runtime!\n"
          ]
        }
      ]
    },
    {
      "cell_type": "code",
      "execution_count": null,
      "id": "84eddad3",
      "metadata": {
        "id": "84eddad3"
      },
      "outputs": [],
      "source": [
        "from datetime import datetime\n",
        "import os\n",
        "import matplotlib\n",
        "import pandas as pd\n",
        "import numpy as np\n",
        "import matplotlib.pyplot as plt\n",
        "import seaborn as sns\n",
        "sns.set_style('whitegrid')\n",
        "\n",
        "from scipy import sparse\n",
        "from scipy.sparse import csc_matrix\n",
        "from sklearn.decomposition import TruncatedSVD\n",
        "\n",
        "np.random.seed(0)"
      ]
    },
    {
      "cell_type": "markdown",
      "id": "85495bf1",
      "metadata": {
        "id": "85495bf1"
      },
      "source": [
        "##  data set\n"
      ]
    },
    {
      "cell_type": "markdown",
      "metadata": {
        "id": "ohsC49cVr-Ox"
      },
      "source": [
        "### Setup and Load dataset"
      ],
      "id": "ohsC49cVr-Ox"
    },
    {
      "cell_type": "code",
      "execution_count": null,
      "metadata": {
        "id": "DjzX44HQr-Ox"
      },
      "outputs": [],
      "source": [
        "\n",
        "import pandas as pd\n",
        "import os\n",
        "from os.path import exists\n",
        "import zipfile\n",
        "import numpy as np"
      ],
      "id": "DjzX44HQr-Ox"
    },
    {
      "cell_type": "code",
      "source": [
        "!pip install gdown"
      ],
      "metadata": {
        "colab": {
          "base_uri": "https://localhost:8080/"
        },
        "outputId": "04412dd4-0830-40dc-861c-a229e98b648a",
        "id": "woePr-2jr-Ox"
      },
      "execution_count": null,
      "outputs": [
        {
          "output_type": "stream",
          "name": "stdout",
          "text": [
            "Looking in indexes: https://pypi.org/simple, https://us-python.pkg.dev/colab-wheels/public/simple/\n",
            "Requirement already satisfied: gdown in /usr/local/lib/python3.8/dist-packages (4.4.0)\n",
            "Requirement already satisfied: requests[socks] in /usr/local/lib/python3.8/dist-packages (from gdown) (2.25.1)\n",
            "Requirement already satisfied: tqdm in /usr/local/lib/python3.8/dist-packages (from gdown) (4.64.1)\n",
            "Requirement already satisfied: beautifulsoup4 in /usr/local/lib/python3.8/dist-packages (from gdown) (4.6.3)\n",
            "Requirement already satisfied: filelock in /usr/local/lib/python3.8/dist-packages (from gdown) (3.9.0)\n",
            "Requirement already satisfied: six in /usr/local/lib/python3.8/dist-packages (from gdown) (1.15.0)\n",
            "Requirement already satisfied: urllib3<1.27,>=1.21.1 in /usr/local/lib/python3.8/dist-packages (from requests[socks]->gdown) (1.24.3)\n",
            "Requirement already satisfied: idna<3,>=2.5 in /usr/local/lib/python3.8/dist-packages (from requests[socks]->gdown) (2.10)\n",
            "Requirement already satisfied: certifi>=2017.4.17 in /usr/local/lib/python3.8/dist-packages (from requests[socks]->gdown) (2022.12.7)\n",
            "Requirement already satisfied: chardet<5,>=3.0.2 in /usr/local/lib/python3.8/dist-packages (from requests[socks]->gdown) (4.0.0)\n",
            "Requirement already satisfied: PySocks!=1.5.7,>=1.5.6 in /usr/local/lib/python3.8/dist-packages (from requests[socks]->gdown) (1.7.1)\n"
          ]
        }
      ],
      "id": "woePr-2jr-Ox"
    },
    {
      "cell_type": "code",
      "source": [],
      "metadata": {
        "id": "dGS3UDKhw7TR"
      },
      "execution_count": null,
      "outputs": [],
      "id": "dGS3UDKhw7TR"
    },
    {
      "cell_type": "code",
      "source": [
        "!pip install gdown"
      ],
      "metadata": {
        "colab": {
          "base_uri": "https://localhost:8080/"
        },
        "outputId": "8359d011-b141-4f6c-abc0-90cb4af90ed3",
        "id": "XGE5Rr5foLtv"
      },
      "execution_count": null,
      "outputs": [
        {
          "output_type": "stream",
          "name": "stdout",
          "text": [
            "Looking in indexes: https://pypi.org/simple, https://us-python.pkg.dev/colab-wheels/public/simple/\n",
            "Requirement already satisfied: gdown in /usr/local/lib/python3.8/dist-packages (4.4.0)\n",
            "Requirement already satisfied: beautifulsoup4 in /usr/local/lib/python3.8/dist-packages (from gdown) (4.6.3)\n",
            "Requirement already satisfied: six in /usr/local/lib/python3.8/dist-packages (from gdown) (1.15.0)\n",
            "Requirement already satisfied: tqdm in /usr/local/lib/python3.8/dist-packages (from gdown) (4.64.1)\n",
            "Requirement already satisfied: requests[socks] in /usr/local/lib/python3.8/dist-packages (from gdown) (2.25.1)\n",
            "Requirement already satisfied: filelock in /usr/local/lib/python3.8/dist-packages (from gdown) (3.9.0)\n",
            "Requirement already satisfied: urllib3<1.27,>=1.21.1 in /usr/local/lib/python3.8/dist-packages (from requests[socks]->gdown) (1.24.3)\n",
            "Requirement already satisfied: certifi>=2017.4.17 in /usr/local/lib/python3.8/dist-packages (from requests[socks]->gdown) (2022.12.7)\n",
            "Requirement already satisfied: idna<3,>=2.5 in /usr/local/lib/python3.8/dist-packages (from requests[socks]->gdown) (2.10)\n",
            "Requirement already satisfied: chardet<5,>=3.0.2 in /usr/local/lib/python3.8/dist-packages (from requests[socks]->gdown) (4.0.0)\n",
            "Requirement already satisfied: PySocks!=1.5.7,>=1.5.6 in /usr/local/lib/python3.8/dist-packages (from requests[socks]->gdown) (1.7.1)\n"
          ]
        }
      ],
      "id": "XGE5Rr5foLtv"
    },
    {
      "cell_type": "code",
      "source": [
        "!gdown https://drive.google.com/uc?id=1tZlrPeJf7geYfRRTxeRhdPU_Hq5m8tg6"
      ],
      "metadata": {
        "colab": {
          "base_uri": "https://localhost:8080/"
        },
        "outputId": "6af8c89c-310f-4aaa-c795-d289d57a2b5b",
        "id": "5YlrLKiBr-Oy"
      },
      "execution_count": null,
      "outputs": [
        {
          "output_type": "stream",
          "name": "stdout",
          "text": [
            "Downloading...\n",
            "From: https://drive.google.com/uc?id=1tZlrPeJf7geYfRRTxeRhdPU_Hq5m8tg6\n",
            "To: /content/Travel_TripAdvisor_v1.zip\n",
            "\r  0% 0.00/155k [00:00<?, ?B/s]\r100% 155k/155k [00:00<00:00, 93.9MB/s]\n"
          ]
        }
      ],
      "id": "5YlrLKiBr-Oy"
    },
    {
      "cell_type": "code",
      "source": [
        "!unzip \"Travel_TripAdvisor_v1.zip\"  -d  \"/content\""
      ],
      "metadata": {
        "id": "zVe-QzFtyZcR",
        "colab": {
          "base_uri": "https://localhost:8080/"
        },
        "outputId": "d6e2391a-2f93-4253-f2ba-17143f17e3f6"
      },
      "execution_count": null,
      "outputs": [
        {
          "output_type": "stream",
          "name": "stdout",
          "text": [
            "Archive:  Travel_TripAdvisor_v1.zip\n",
            "replace /content/Travel_TripAdvisor_v1/Data_TripAdvisor_v1.xls? [y]es, [n]o, [A]ll, [N]one, [r]ename: A\n",
            "  inflating: /content/Travel_TripAdvisor_v1/Data_TripAdvisor_v1.xls  \n",
            "  inflating: /content/Travel_TripAdvisor_v1/ReadMe.html  \n"
          ]
        }
      ],
      "id": "zVe-QzFtyZcR"
    },
    {
      "cell_type": "code",
      "source": [
        "!pip install pandas openpyxl"
      ],
      "metadata": {
        "colab": {
          "base_uri": "https://localhost:8080/"
        },
        "outputId": "5a8221f8-f4e0-45c6-d5ca-45270b0cd1b8",
        "id": "kL5ASmbGyZcS"
      },
      "execution_count": null,
      "outputs": [
        {
          "output_type": "stream",
          "name": "stdout",
          "text": [
            "Looking in indexes: https://pypi.org/simple, https://us-python.pkg.dev/colab-wheels/public/simple/\n",
            "Requirement already satisfied: pandas in /usr/local/lib/python3.8/dist-packages (1.3.5)\n",
            "Requirement already satisfied: openpyxl in /usr/local/lib/python3.8/dist-packages (3.0.10)\n",
            "Requirement already satisfied: python-dateutil>=2.7.3 in /usr/local/lib/python3.8/dist-packages (from pandas) (2.8.2)\n",
            "Requirement already satisfied: pytz>=2017.3 in /usr/local/lib/python3.8/dist-packages (from pandas) (2022.7.1)\n",
            "Requirement already satisfied: numpy>=1.17.3 in /usr/local/lib/python3.8/dist-packages (from pandas) (1.22.0)\n",
            "Requirement already satisfied: et-xmlfile in /usr/local/lib/python3.8/dist-packages (from openpyxl) (1.1.0)\n",
            "Requirement already satisfied: six>=1.5 in /usr/local/lib/python3.8/dist-packages (from python-dateutil>=2.7.3->pandas) (1.15.0)\n"
          ]
        }
      ],
      "id": "kL5ASmbGyZcS"
    },
    {
      "cell_type": "code",
      "source": [
        "\n",
        "import pandas as pd\n",
        "\n",
        "xls = pd.ExcelFile(r\"Travel_TripAdvisor_v1/Data_TripAdvisor_v1.xls\") \n",
        "\n",
        "rating_df = xls.parse(0) #2 is the sheet number+1 thus if the file has only 1 sheet write 0 in paranthesis\n",
        "\n"
      ],
      "metadata": {
        "id": "FcBWdcpFyZcT"
      },
      "execution_count": null,
      "outputs": [],
      "id": "FcBWdcpFyZcT"
    },
    {
      "cell_type": "code",
      "source": [
        "rating_df"
      ],
      "metadata": {
        "colab": {
          "base_uri": "https://localhost:8080/",
          "height": 423
        },
        "id": "djUICjYLMZP7",
        "outputId": "a0944ccd-0dc1-4b1a-8e2a-5f4bbec9e227"
      },
      "id": "djUICjYLMZP7",
      "execution_count": null,
      "outputs": [
        {
          "output_type": "execute_result",
          "data": {
            "text/plain": [
              "      ID_USER USER_STATE USER_TIMEZONE  ID_HOTEL   HOTEL_CITY HOTEL_STATE  \\\n",
              "0          45         GA       Eastern    105170      Memphis          TN   \n",
              "1          45         GA       Eastern    223229   SanAntonio          TX   \n",
              "2          45         GA       Eastern    258688  Albuquerque          NM   \n",
              "3          45         GA       Eastern     98827       ELPaso          TX   \n",
              "4          45         GA       Eastern     99518   SanAntonio          TX   \n",
              "...       ...        ...           ...       ...          ...         ...   \n",
              "4664    65440         MI       Eastern     95715  Minneapolis          MN   \n",
              "4665    65457         AZ      Mountain   1027019    FortWorth          TX   \n",
              "4666    65457         AZ      Mountain    224458    Milwaukee          WI   \n",
              "4667    65457         AZ      Mountain    223749     Columbus          OH   \n",
              "4668    65457         AZ      Mountain     92744  Albuquerque          NM   \n",
              "\n",
              "     HOTEL_TIMEZONE  Trip Type  Rating  \n",
              "0           Central          3       5  \n",
              "1           Central          3       5  \n",
              "2          Mountain          3       5  \n",
              "3           Central          3       5  \n",
              "4           Central          3       3  \n",
              "...             ...        ...     ...  \n",
              "4664        Central          4       5  \n",
              "4665        Central          3       3  \n",
              "4666        Central          3       3  \n",
              "4667        Eastern          3       2  \n",
              "4668       Mountain          4       3  \n",
              "\n",
              "[4669 rows x 9 columns]"
            ],
            "text/html": [
              "\n",
              "  <div id=\"df-0eee0e62-d816-4206-8ae4-5ed25b075c39\">\n",
              "    <div class=\"colab-df-container\">\n",
              "      <div>\n",
              "<style scoped>\n",
              "    .dataframe tbody tr th:only-of-type {\n",
              "        vertical-align: middle;\n",
              "    }\n",
              "\n",
              "    .dataframe tbody tr th {\n",
              "        vertical-align: top;\n",
              "    }\n",
              "\n",
              "    .dataframe thead th {\n",
              "        text-align: right;\n",
              "    }\n",
              "</style>\n",
              "<table border=\"1\" class=\"dataframe\">\n",
              "  <thead>\n",
              "    <tr style=\"text-align: right;\">\n",
              "      <th></th>\n",
              "      <th>ID_USER</th>\n",
              "      <th>USER_STATE</th>\n",
              "      <th>USER_TIMEZONE</th>\n",
              "      <th>ID_HOTEL</th>\n",
              "      <th>HOTEL_CITY</th>\n",
              "      <th>HOTEL_STATE</th>\n",
              "      <th>HOTEL_TIMEZONE</th>\n",
              "      <th>Trip Type</th>\n",
              "      <th>Rating</th>\n",
              "    </tr>\n",
              "  </thead>\n",
              "  <tbody>\n",
              "    <tr>\n",
              "      <th>0</th>\n",
              "      <td>45</td>\n",
              "      <td>GA</td>\n",
              "      <td>Eastern</td>\n",
              "      <td>105170</td>\n",
              "      <td>Memphis</td>\n",
              "      <td>TN</td>\n",
              "      <td>Central</td>\n",
              "      <td>3</td>\n",
              "      <td>5</td>\n",
              "    </tr>\n",
              "    <tr>\n",
              "      <th>1</th>\n",
              "      <td>45</td>\n",
              "      <td>GA</td>\n",
              "      <td>Eastern</td>\n",
              "      <td>223229</td>\n",
              "      <td>SanAntonio</td>\n",
              "      <td>TX</td>\n",
              "      <td>Central</td>\n",
              "      <td>3</td>\n",
              "      <td>5</td>\n",
              "    </tr>\n",
              "    <tr>\n",
              "      <th>2</th>\n",
              "      <td>45</td>\n",
              "      <td>GA</td>\n",
              "      <td>Eastern</td>\n",
              "      <td>258688</td>\n",
              "      <td>Albuquerque</td>\n",
              "      <td>NM</td>\n",
              "      <td>Mountain</td>\n",
              "      <td>3</td>\n",
              "      <td>5</td>\n",
              "    </tr>\n",
              "    <tr>\n",
              "      <th>3</th>\n",
              "      <td>45</td>\n",
              "      <td>GA</td>\n",
              "      <td>Eastern</td>\n",
              "      <td>98827</td>\n",
              "      <td>ELPaso</td>\n",
              "      <td>TX</td>\n",
              "      <td>Central</td>\n",
              "      <td>3</td>\n",
              "      <td>5</td>\n",
              "    </tr>\n",
              "    <tr>\n",
              "      <th>4</th>\n",
              "      <td>45</td>\n",
              "      <td>GA</td>\n",
              "      <td>Eastern</td>\n",
              "      <td>99518</td>\n",
              "      <td>SanAntonio</td>\n",
              "      <td>TX</td>\n",
              "      <td>Central</td>\n",
              "      <td>3</td>\n",
              "      <td>3</td>\n",
              "    </tr>\n",
              "    <tr>\n",
              "      <th>...</th>\n",
              "      <td>...</td>\n",
              "      <td>...</td>\n",
              "      <td>...</td>\n",
              "      <td>...</td>\n",
              "      <td>...</td>\n",
              "      <td>...</td>\n",
              "      <td>...</td>\n",
              "      <td>...</td>\n",
              "      <td>...</td>\n",
              "    </tr>\n",
              "    <tr>\n",
              "      <th>4664</th>\n",
              "      <td>65440</td>\n",
              "      <td>MI</td>\n",
              "      <td>Eastern</td>\n",
              "      <td>95715</td>\n",
              "      <td>Minneapolis</td>\n",
              "      <td>MN</td>\n",
              "      <td>Central</td>\n",
              "      <td>4</td>\n",
              "      <td>5</td>\n",
              "    </tr>\n",
              "    <tr>\n",
              "      <th>4665</th>\n",
              "      <td>65457</td>\n",
              "      <td>AZ</td>\n",
              "      <td>Mountain</td>\n",
              "      <td>1027019</td>\n",
              "      <td>FortWorth</td>\n",
              "      <td>TX</td>\n",
              "      <td>Central</td>\n",
              "      <td>3</td>\n",
              "      <td>3</td>\n",
              "    </tr>\n",
              "    <tr>\n",
              "      <th>4666</th>\n",
              "      <td>65457</td>\n",
              "      <td>AZ</td>\n",
              "      <td>Mountain</td>\n",
              "      <td>224458</td>\n",
              "      <td>Milwaukee</td>\n",
              "      <td>WI</td>\n",
              "      <td>Central</td>\n",
              "      <td>3</td>\n",
              "      <td>3</td>\n",
              "    </tr>\n",
              "    <tr>\n",
              "      <th>4667</th>\n",
              "      <td>65457</td>\n",
              "      <td>AZ</td>\n",
              "      <td>Mountain</td>\n",
              "      <td>223749</td>\n",
              "      <td>Columbus</td>\n",
              "      <td>OH</td>\n",
              "      <td>Eastern</td>\n",
              "      <td>3</td>\n",
              "      <td>2</td>\n",
              "    </tr>\n",
              "    <tr>\n",
              "      <th>4668</th>\n",
              "      <td>65457</td>\n",
              "      <td>AZ</td>\n",
              "      <td>Mountain</td>\n",
              "      <td>92744</td>\n",
              "      <td>Albuquerque</td>\n",
              "      <td>NM</td>\n",
              "      <td>Mountain</td>\n",
              "      <td>4</td>\n",
              "      <td>3</td>\n",
              "    </tr>\n",
              "  </tbody>\n",
              "</table>\n",
              "<p>4669 rows × 9 columns</p>\n",
              "</div>\n",
              "      <button class=\"colab-df-convert\" onclick=\"convertToInteractive('df-0eee0e62-d816-4206-8ae4-5ed25b075c39')\"\n",
              "              title=\"Convert this dataframe to an interactive table.\"\n",
              "              style=\"display:none;\">\n",
              "        \n",
              "  <svg xmlns=\"http://www.w3.org/2000/svg\" height=\"24px\"viewBox=\"0 0 24 24\"\n",
              "       width=\"24px\">\n",
              "    <path d=\"M0 0h24v24H0V0z\" fill=\"none\"/>\n",
              "    <path d=\"M18.56 5.44l.94 2.06.94-2.06 2.06-.94-2.06-.94-.94-2.06-.94 2.06-2.06.94zm-11 1L8.5 8.5l.94-2.06 2.06-.94-2.06-.94L8.5 2.5l-.94 2.06-2.06.94zm10 10l.94 2.06.94-2.06 2.06-.94-2.06-.94-.94-2.06-.94 2.06-2.06.94z\"/><path d=\"M17.41 7.96l-1.37-1.37c-.4-.4-.92-.59-1.43-.59-.52 0-1.04.2-1.43.59L10.3 9.45l-7.72 7.72c-.78.78-.78 2.05 0 2.83L4 21.41c.39.39.9.59 1.41.59.51 0 1.02-.2 1.41-.59l7.78-7.78 2.81-2.81c.8-.78.8-2.07 0-2.86zM5.41 20L4 18.59l7.72-7.72 1.47 1.35L5.41 20z\"/>\n",
              "  </svg>\n",
              "      </button>\n",
              "      \n",
              "  <style>\n",
              "    .colab-df-container {\n",
              "      display:flex;\n",
              "      flex-wrap:wrap;\n",
              "      gap: 12px;\n",
              "    }\n",
              "\n",
              "    .colab-df-convert {\n",
              "      background-color: #E8F0FE;\n",
              "      border: none;\n",
              "      border-radius: 50%;\n",
              "      cursor: pointer;\n",
              "      display: none;\n",
              "      fill: #1967D2;\n",
              "      height: 32px;\n",
              "      padding: 0 0 0 0;\n",
              "      width: 32px;\n",
              "    }\n",
              "\n",
              "    .colab-df-convert:hover {\n",
              "      background-color: #E2EBFA;\n",
              "      box-shadow: 0px 1px 2px rgba(60, 64, 67, 0.3), 0px 1px 3px 1px rgba(60, 64, 67, 0.15);\n",
              "      fill: #174EA6;\n",
              "    }\n",
              "\n",
              "    [theme=dark] .colab-df-convert {\n",
              "      background-color: #3B4455;\n",
              "      fill: #D2E3FC;\n",
              "    }\n",
              "\n",
              "    [theme=dark] .colab-df-convert:hover {\n",
              "      background-color: #434B5C;\n",
              "      box-shadow: 0px 1px 3px 1px rgba(0, 0, 0, 0.15);\n",
              "      filter: drop-shadow(0px 1px 2px rgba(0, 0, 0, 0.3));\n",
              "      fill: #FFFFFF;\n",
              "    }\n",
              "  </style>\n",
              "\n",
              "      <script>\n",
              "        const buttonEl =\n",
              "          document.querySelector('#df-0eee0e62-d816-4206-8ae4-5ed25b075c39 button.colab-df-convert');\n",
              "        buttonEl.style.display =\n",
              "          google.colab.kernel.accessAllowed ? 'block' : 'none';\n",
              "\n",
              "        async function convertToInteractive(key) {\n",
              "          const element = document.querySelector('#df-0eee0e62-d816-4206-8ae4-5ed25b075c39');\n",
              "          const dataTable =\n",
              "            await google.colab.kernel.invokeFunction('convertToInteractive',\n",
              "                                                     [key], {});\n",
              "          if (!dataTable) return;\n",
              "\n",
              "          const docLinkHtml = 'Like what you see? Visit the ' +\n",
              "            '<a target=\"_blank\" href=https://colab.research.google.com/notebooks/data_table.ipynb>data table notebook</a>'\n",
              "            + ' to learn more about interactive tables.';\n",
              "          element.innerHTML = '';\n",
              "          dataTable['output_type'] = 'display_data';\n",
              "          await google.colab.output.renderOutput(dataTable, element);\n",
              "          const docLink = document.createElement('div');\n",
              "          docLink.innerHTML = docLinkHtml;\n",
              "          element.appendChild(docLink);\n",
              "        }\n",
              "      </script>\n",
              "    </div>\n",
              "  </div>\n",
              "  "
            ]
          },
          "metadata": {},
          "execution_count": 9
        }
      ]
    },
    {
      "cell_type": "code",
      "source": [
        "rating_df=rating_df.reset_index(drop=True)"
      ],
      "metadata": {
        "id": "p3CDyklH1Kv1"
      },
      "execution_count": null,
      "outputs": [],
      "id": "p3CDyklH1Kv1"
    },
    {
      "cell_type": "code",
      "source": [
        "\n",
        "rating_df.rename(columns = {'ID_USER':'user'}, inplace = True)\n",
        "rating_df.rename(columns = {'ID_HOTEL':'item'}, inplace = True)\n",
        "rating_df.rename(columns = {'Rating':'label'}, inplace = True)"
      ],
      "metadata": {
        "id": "NHIInGM3yZcW"
      },
      "execution_count": null,
      "outputs": [],
      "id": "NHIInGM3yZcW"
    },
    {
      "cell_type": "markdown",
      "source": [
        "## Train"
      ],
      "metadata": {
        "id": "_XEJMqJwsRsQ"
      },
      "id": "_XEJMqJwsRsQ"
    },
    {
      "cell_type": "code",
      "source": [
        "\n",
        "import tensorflow as tf\n",
        "\n",
        "from libreco.data import DatasetFeat, DataInfo\n",
        "from libreco.data import split_by_ratio_chrono,split_by_ratio\n",
        "from libreco.algorithms import DeepFM,YouTubeRanking\n",
        "from libreco.evaluation import evaluate\n",
        "from libreco.prediction import predict_data_with_feats"
      ],
      "metadata": {
        "id": "dw6xoobtRzyh",
        "colab": {
          "base_uri": "https://localhost:8080/"
        },
        "outputId": "68748b68-6709-4c1b-8d91-bb30bee84546"
      },
      "id": "dw6xoobtRzyh",
      "execution_count": null,
      "outputs": [
        {
          "output_type": "stream",
          "name": "stderr",
          "text": [
            "WARNING:tensorflow:From /usr/local/lib/python3.8/dist-packages/tensorflow/python/compat/v2_compat.py:107: disable_resource_variables (from tensorflow.python.ops.variable_scope) is deprecated and will be removed in a future version.\n",
            "Instructions for updating:\n",
            "non-resource variables are not supported in the long term\n"
          ]
        }
      ]
    },
    {
      "cell_type": "code",
      "source": [
        "rating_df.columns"
      ],
      "metadata": {
        "colab": {
          "base_uri": "https://localhost:8080/"
        },
        "id": "iaXquBwQoo1R",
        "outputId": "9e7a2855-db25-4038-ae69-d097f02ce0f7"
      },
      "id": "iaXquBwQoo1R",
      "execution_count": null,
      "outputs": [
        {
          "output_type": "execute_result",
          "data": {
            "text/plain": [
              "Index(['user', 'USER_STATE', 'USER_TIMEZONE', 'item', 'HOTEL_CITY',\n",
              "       'HOTEL_STATE', 'HOTEL_TIMEZONE', 'Trip Type', 'label'],\n",
              "      dtype='object')"
            ]
          },
          "metadata": {},
          "execution_count": 13
        }
      ]
    },
    {
      "cell_type": "code",
      "source": [
        "\n",
        "col_sparse= ['USER_STATE', 'USER_TIMEZONE','Trip Type']\n",
        "user_col = ['USER_STATE', 'USER_TIMEZONE','Trip Type']\n",
        "item_col=None\n",
        "dense_col=None"
      ],
      "metadata": {
        "id": "n1F600UuQ_nR"
      },
      "id": "n1F600UuQ_nR",
      "execution_count": null,
      "outputs": []
    },
    {
      "cell_type": "code",
      "source": [
        "rating_df=rating_df[['user','item','label','USER_STATE', 'USER_TIMEZONE', 'Trip Type']]"
      ],
      "metadata": {
        "id": "HUEVQBsqNNND"
      },
      "id": "HUEVQBsqNNND",
      "execution_count": null,
      "outputs": []
    },
    {
      "cell_type": "code",
      "source": [
        "# rating_df['label']=1"
      ],
      "metadata": {
        "id": "AdwHaZravqBQ"
      },
      "id": "AdwHaZravqBQ",
      "execution_count": null,
      "outputs": []
    },
    {
      "cell_type": "code",
      "source": [
        "train, test = split_by_ratio(rating_df, test_size=0.2)"
      ],
      "metadata": {
        "id": "nDRztFi4RxfK"
      },
      "id": "nDRztFi4RxfK",
      "execution_count": null,
      "outputs": []
    },
    {
      "cell_type": "code",
      "source": [
        "train_data, data_info = DatasetFeat.build_trainset(\n",
        "        train, user_col, item_col, col_sparse, dense_col\n",
        "    )"
      ],
      "metadata": {
        "id": "1WLHDVispHV4"
      },
      "id": "1WLHDVispHV4",
      "execution_count": null,
      "outputs": []
    },
    {
      "cell_type": "code",
      "source": [
        "test_data = DatasetFeat.build_testset(test, shuffle=False)"
      ],
      "metadata": {
        "id": "OVcuzjuoUy-K"
      },
      "id": "OVcuzjuoUy-K",
      "execution_count": null,
      "outputs": []
    },
    {
      "cell_type": "code",
      "source": [
        "import torch\n",
        "from libreco.algorithms import (\n",
        "    FM,\n",
        "    WideDeep,\n",
        "    DeepFM\n",
        ")\n",
        "\n",
        "\n",
        "    # # only do negative sampling on eval data\n",
        "    # eval_data.build_negative_samples(\n",
        "    #     data_info, item_gen_mode=\"random\", num_neg=1, seed=2222\n",
        "    # )\n",
        "\n"
      ],
      "metadata": {
        "id": "yWN-zHhKsZgg"
      },
      "id": "yWN-zHhKsZgg",
      "execution_count": null,
      "outputs": []
    },
    {
      "cell_type": "markdown",
      "source": [
        "## Widedeep"
      ],
      "metadata": {
        "id": "0V2aHDKgtlkm"
      },
      "id": "0V2aHDKgtlkm"
    },
    {
      "cell_type": "code",
      "source": [
        "wd = WideDeep(\n",
        "        \"ranking\",\n",
        "        data_info,\n",
        "        embed_size=16,\n",
        "        n_epochs=10,\n",
        "        lr={\"wide\": 0.01, \"deep\": 1e-4},\n",
        "        lr_decay=False,\n",
        "        reg=None,\n",
        "        batch_size=256,\n",
        "        num_neg=1,\n",
        "        use_bn=False,\n",
        "        dropout_rate=None,\n",
        "        hidden_units=\"128,64,32\",\n",
        "        tf_sess_config=None,\n",
        "    )\n",
        "wd.fit(\n",
        "        train_data,\n",
        "        verbose=2,\n",
        "        shuffle=True,\n",
        "        eval_data=test_data,\n",
        "        metrics=[ \"precision\", \"recall\", \"map\", \"ndcg\"],\n",
        "    )\n"
      ],
      "metadata": {
        "colab": {
          "base_uri": "https://localhost:8080/"
        },
        "id": "NqgsoqVdtoak",
        "outputId": "3936bf2d-8ac1-4340-86b5-1e143a0abaed"
      },
      "id": "NqgsoqVdtoak",
      "execution_count": null,
      "outputs": [
        {
          "output_type": "stream",
          "name": "stdout",
          "text": [
            "total params: \u001b[33m72,848\u001b[0m | embedding params: \u001b[33m52,331\u001b[0m | network params: \u001b[33m20,517\u001b[0m\n",
            "Training start time: \u001b[35m2023-02-07 21:13:10\u001b[0m\n"
          ]
        },
        {
          "output_type": "stream",
          "name": "stderr",
          "text": [
            "train: 100%|██████████| 17/17 [00:00<00:00, 17.92it/s]\n"
          ]
        },
        {
          "output_type": "stream",
          "name": "stdout",
          "text": [
            "Epoch 1 elapsed: 0.955s\n",
            "\t \u001b[32mtrain_loss: 0.4351\u001b[0m\n"
          ]
        },
        {
          "output_type": "stream",
          "name": "stderr",
          "text": [
            "eval_rec: 100%|██████████| 411/411 [00:00<00:00, 708.63it/s]\n"
          ]
        },
        {
          "output_type": "stream",
          "name": "stdout",
          "text": [
            "\t eval precision@10: 0.0015\n",
            "\t eval recall@10: 0.0146\n",
            "\t eval map@10: 0.0026\n",
            "\t eval ndcg@10: 0.0053\n",
            "==============================\n"
          ]
        },
        {
          "output_type": "stream",
          "name": "stderr",
          "text": [
            "train: 100%|██████████| 17/17 [00:00<00:00, 240.63it/s]\n"
          ]
        },
        {
          "output_type": "stream",
          "name": "stdout",
          "text": [
            "Epoch 2 elapsed: 0.077s\n",
            "\t \u001b[32mtrain_loss: 0.0178\u001b[0m\n"
          ]
        },
        {
          "output_type": "stream",
          "name": "stderr",
          "text": [
            "eval_rec: 100%|██████████| 411/411 [00:00<00:00, 741.20it/s]\n"
          ]
        },
        {
          "output_type": "stream",
          "name": "stdout",
          "text": [
            "\t eval precision@10: 0.0022\n",
            "\t eval recall@10: 0.0207\n",
            "\t eval map@10: 0.0039\n",
            "\t eval ndcg@10: 0.0080\n",
            "==============================\n"
          ]
        },
        {
          "output_type": "stream",
          "name": "stderr",
          "text": [
            "train: 100%|██████████| 17/17 [00:00<00:00, 250.17it/s]\n"
          ]
        },
        {
          "output_type": "stream",
          "name": "stdout",
          "text": [
            "Epoch 3 elapsed: 0.075s\n",
            "\t \u001b[32mtrain_loss: -0.4459\u001b[0m\n"
          ]
        },
        {
          "output_type": "stream",
          "name": "stderr",
          "text": [
            "eval_rec: 100%|██████████| 411/411 [00:00<00:00, 749.96it/s]\n"
          ]
        },
        {
          "output_type": "stream",
          "name": "stdout",
          "text": [
            "\t eval precision@10: 0.0017\n",
            "\t eval recall@10: 0.0158\n",
            "\t eval map@10: 0.0035\n",
            "\t eval ndcg@10: 0.0067\n",
            "==============================\n"
          ]
        },
        {
          "output_type": "stream",
          "name": "stderr",
          "text": [
            "train: 100%|██████████| 17/17 [00:00<00:00, 243.71it/s]\n"
          ]
        },
        {
          "output_type": "stream",
          "name": "stdout",
          "text": [
            "Epoch 4 elapsed: 0.076s\n",
            "\t \u001b[32mtrain_loss: -1.1117\u001b[0m\n"
          ]
        },
        {
          "output_type": "stream",
          "name": "stderr",
          "text": [
            "eval_rec: 100%|██████████| 411/411 [00:00<00:00, 751.38it/s]\n"
          ]
        },
        {
          "output_type": "stream",
          "name": "stdout",
          "text": [
            "\t eval precision@10: 0.0017\n",
            "\t eval recall@10: 0.0158\n",
            "\t eval map@10: 0.0031\n",
            "\t eval ndcg@10: 0.0063\n",
            "==============================\n"
          ]
        },
        {
          "output_type": "stream",
          "name": "stderr",
          "text": [
            "train: 100%|██████████| 17/17 [00:00<00:00, 237.12it/s]\n"
          ]
        },
        {
          "output_type": "stream",
          "name": "stdout",
          "text": [
            "Epoch 5 elapsed: 0.078s\n",
            "\t \u001b[32mtrain_loss: -1.9893\u001b[0m\n"
          ]
        },
        {
          "output_type": "stream",
          "name": "stderr",
          "text": [
            "eval_rec: 100%|██████████| 411/411 [00:00<00:00, 700.91it/s]\n"
          ]
        },
        {
          "output_type": "stream",
          "name": "stdout",
          "text": [
            "\t eval precision@10: 0.0015\n",
            "\t eval recall@10: 0.0134\n",
            "\t eval map@10: 0.0029\n",
            "\t eval ndcg@10: 0.0056\n",
            "==============================\n"
          ]
        },
        {
          "output_type": "stream",
          "name": "stderr",
          "text": [
            "train: 100%|██████████| 17/17 [00:00<00:00, 228.88it/s]\n"
          ]
        },
        {
          "output_type": "stream",
          "name": "stdout",
          "text": [
            "Epoch 6 elapsed: 0.081s\n",
            "\t \u001b[32mtrain_loss: -3.2129\u001b[0m\n"
          ]
        },
        {
          "output_type": "stream",
          "name": "stderr",
          "text": [
            "eval_rec: 100%|██████████| 411/411 [00:00<00:00, 755.11it/s]\n"
          ]
        },
        {
          "output_type": "stream",
          "name": "stdout",
          "text": [
            "\t eval precision@10: 0.0015\n",
            "\t eval recall@10: 0.0134\n",
            "\t eval map@10: 0.0025\n",
            "\t eval ndcg@10: 0.0053\n",
            "==============================\n"
          ]
        },
        {
          "output_type": "stream",
          "name": "stderr",
          "text": [
            "train: 100%|██████████| 17/17 [00:00<00:00, 247.47it/s]\n"
          ]
        },
        {
          "output_type": "stream",
          "name": "stdout",
          "text": [
            "Epoch 7 elapsed: 0.074s\n",
            "\t \u001b[32mtrain_loss: -4.8453\u001b[0m\n"
          ]
        },
        {
          "output_type": "stream",
          "name": "stderr",
          "text": [
            "eval_rec: 100%|██████████| 411/411 [00:00<00:00, 759.08it/s]\n"
          ]
        },
        {
          "output_type": "stream",
          "name": "stdout",
          "text": [
            "\t eval precision@10: 0.0017\n",
            "\t eval recall@10: 0.0158\n",
            "\t eval map@10: 0.0029\n",
            "\t eval ndcg@10: 0.0061\n",
            "==============================\n"
          ]
        },
        {
          "output_type": "stream",
          "name": "stderr",
          "text": [
            "train: 100%|██████████| 17/17 [00:00<00:00, 247.85it/s]\n"
          ]
        },
        {
          "output_type": "stream",
          "name": "stdout",
          "text": [
            "Epoch 8 elapsed: 0.075s\n",
            "\t \u001b[32mtrain_loss: -6.983\u001b[0m\n"
          ]
        },
        {
          "output_type": "stream",
          "name": "stderr",
          "text": [
            "eval_rec: 100%|██████████| 411/411 [00:00<00:00, 723.32it/s]\n"
          ]
        },
        {
          "output_type": "stream",
          "name": "stdout",
          "text": [
            "\t eval precision@10: 0.0017\n",
            "\t eval recall@10: 0.0158\n",
            "\t eval map@10: 0.0031\n",
            "\t eval ndcg@10: 0.0062\n",
            "==============================\n"
          ]
        },
        {
          "output_type": "stream",
          "name": "stderr",
          "text": [
            "train: 100%|██████████| 17/17 [00:00<00:00, 237.70it/s]\n"
          ]
        },
        {
          "output_type": "stream",
          "name": "stdout",
          "text": [
            "Epoch 9 elapsed: 0.077s\n",
            "\t \u001b[32mtrain_loss: -9.4785\u001b[0m\n"
          ]
        },
        {
          "output_type": "stream",
          "name": "stderr",
          "text": [
            "eval_rec: 100%|██████████| 411/411 [00:00<00:00, 776.15it/s]\n"
          ]
        },
        {
          "output_type": "stream",
          "name": "stdout",
          "text": [
            "\t eval precision@10: 0.0022\n",
            "\t eval recall@10: 0.0207\n",
            "\t eval map@10: 0.0035\n",
            "\t eval ndcg@10: 0.0075\n",
            "==============================\n"
          ]
        },
        {
          "output_type": "stream",
          "name": "stderr",
          "text": [
            "train: 100%|██████████| 17/17 [00:00<00:00, 264.58it/s]\n"
          ]
        },
        {
          "output_type": "stream",
          "name": "stdout",
          "text": [
            "Epoch 10 elapsed: 0.069s\n",
            "\t \u001b[32mtrain_loss: -12.5001\u001b[0m\n"
          ]
        },
        {
          "output_type": "stream",
          "name": "stderr",
          "text": [
            "eval_rec: 100%|██████████| 411/411 [00:00<00:00, 777.24it/s]\n"
          ]
        },
        {
          "output_type": "stream",
          "name": "stdout",
          "text": [
            "\t eval precision@10: 0.0015\n",
            "\t eval recall@10: 0.0146\n",
            "\t eval map@10: 0.0035\n",
            "\t eval ndcg@10: 0.0060\n",
            "==============================\n"
          ]
        }
      ]
    },
    {
      "cell_type": "code",
      "source": [
        "print( \"recommendation: \",\n",
        "        wd.recommend_user(\n",
        "            user=65457,\n",
        "            n_rec=7,\n",
        "            inner_id=False,\n",
        "            cold_start=\"average\",\n",
        "            user_feats=pd.Series({\"USER_STATE\": \"GA\", \"USER_TIMEZONE\": \"Mountain\", \"Trip Type\": 1}),\n",
        "           \n",
        "        ))"
      ],
      "metadata": {
        "colab": {
          "base_uri": "https://localhost:8080/"
        },
        "id": "Vocpm7JwuTPT",
        "outputId": "a1b1b1f0-a1f9-491f-aa67-cb1b845fe201"
      },
      "id": "Vocpm7JwuTPT",
      "execution_count": null,
      "outputs": [
        {
          "output_type": "stream",
          "name": "stdout",
          "text": [
            "recommendation:  [(105455, 0.99555427), (98197, 0.9954384), (224227, 0.9953811), (596431, 0.99536884), (108149, 0.9953622), (111855, 0.9953497), (108972, 0.9953157)]\n"
          ]
        }
      ]
    },
    {
      "cell_type": "code",
      "source": [
        "print(\"recommendation: \", wd.recommend_user(user=1, n_rec=7))"
      ],
      "metadata": {
        "colab": {
          "base_uri": "https://localhost:8080/"
        },
        "id": "v870GTzCtq27",
        "outputId": "fca16af3-49f8-4798-b676-5e367add5046"
      },
      "id": "v870GTzCtq27",
      "execution_count": null,
      "outputs": [
        {
          "output_type": "stream",
          "name": "stdout",
          "text": [
            "\u001b[31mdetect unknown user: 1\u001b[0m\n",
            "recommendation:  [(105455, 0.99534494), (98197, 0.9952237), (224227, 0.9951626), (596431, 0.99515015), (108149, 0.9951439), (111855, 0.9951304), (108972, 0.99509466)]\n"
          ]
        }
      ]
    },
    {
      "cell_type": "markdown",
      "source": [
        "## Youtube retrival"
      ],
      "metadata": {
        "id": "xSTMnrQNJNNz"
      },
      "id": "xSTMnrQNJNNz"
    },
    {
      "cell_type": "code",
      "source": [
        "\n",
        "ytb_ranking = YouTubeRanking(task=\"ranking\", data_info=data_info, embed_size=64,\n",
        "                             n_epochs=20, lr=1e-4, batch_size=256, use_bn=True,\n",
        "                             hidden_units=\"128,128,32\")\n",
        "ytb_ranking.fit(train_data, verbose=2, shuffle=True, eval_data=test_data,\n",
        "                metrics=[ \"precision\", \"recall\", \"map\", \"ndcg\"])\n",
        "\n"
      ],
      "metadata": {
        "colab": {
          "base_uri": "https://localhost:8080/"
        },
        "id": "k67VgX7CJPaS",
        "outputId": "1af473c4-623f-4331-a4c5-df7d7acc0dbe"
      },
      "id": "k67VgX7CJPaS",
      "execution_count": null,
      "outputs": [
        {
          "output_type": "stream",
          "name": "stderr",
          "text": [
            "WARNING:tensorflow:From /usr/local/lib/python3.8/dist-packages/keras/layers/normalization/batch_normalization.py:514: _colocate_with (from tensorflow.python.framework.ops) is deprecated and will be removed in a future version.\n",
            "Instructions for updating:\n",
            "Colocations handled automatically by placer.\n"
          ]
        },
        {
          "output_type": "stream",
          "name": "stdout",
          "text": [
            "total params: \u001b[33m267,457\u001b[0m | embedding params: \u001b[33m196,449\u001b[0m | network params: \u001b[33m71,008\u001b[0m\n",
            "Training start time: \u001b[35m2023-02-05 11:02:36\u001b[0m\n"
          ]
        },
        {
          "output_type": "stream",
          "name": "stderr",
          "text": [
            "train: 100%|██████████| 17/17 [00:00<00:00, 17.89it/s]\n"
          ]
        },
        {
          "output_type": "stream",
          "name": "stdout",
          "text": [
            "Epoch 1 elapsed: 0.957s\n",
            "\t \u001b[32mtrain_loss: 0.7701\u001b[0m\n"
          ]
        },
        {
          "output_type": "stream",
          "name": "stderr",
          "text": [
            "eval_rec: 100%|██████████| 411/411 [00:00<00:00, 437.74it/s]\n"
          ]
        },
        {
          "output_type": "stream",
          "name": "stdout",
          "text": [
            "\t eval precision@10: 0.0015\n",
            "\t eval recall@10: 0.0134\n",
            "\t eval map@10: 0.0042\n",
            "\t eval ndcg@10: 0.0067\n",
            "==============================\n"
          ]
        },
        {
          "output_type": "stream",
          "name": "stderr",
          "text": [
            "train: 100%|██████████| 17/17 [00:00<00:00, 176.84it/s]\n"
          ]
        },
        {
          "output_type": "stream",
          "name": "stdout",
          "text": [
            "Epoch 2 elapsed: 0.101s\n",
            "\t \u001b[32mtrain_loss: 0.4065\u001b[0m\n"
          ]
        },
        {
          "output_type": "stream",
          "name": "stderr",
          "text": [
            "eval_rec: 100%|██████████| 411/411 [00:00<00:00, 474.11it/s]\n"
          ]
        },
        {
          "output_type": "stream",
          "name": "stdout",
          "text": [
            "\t eval precision@10: 0.0015\n",
            "\t eval recall@10: 0.0134\n",
            "\t eval map@10: 0.0067\n",
            "\t eval ndcg@10: 0.0085\n",
            "==============================\n"
          ]
        },
        {
          "output_type": "stream",
          "name": "stderr",
          "text": [
            "train: 100%|██████████| 17/17 [00:00<00:00, 182.40it/s]\n"
          ]
        },
        {
          "output_type": "stream",
          "name": "stdout",
          "text": [
            "Epoch 3 elapsed: 0.099s\n",
            "\t \u001b[32mtrain_loss: 0.1046\u001b[0m\n"
          ]
        },
        {
          "output_type": "stream",
          "name": "stderr",
          "text": [
            "eval_rec: 100%|██████████| 411/411 [00:00<00:00, 475.90it/s]\n"
          ]
        },
        {
          "output_type": "stream",
          "name": "stdout",
          "text": [
            "\t eval precision@10: 0.0015\n",
            "\t eval recall@10: 0.0134\n",
            "\t eval map@10: 0.0034\n",
            "\t eval ndcg@10: 0.0060\n",
            "==============================\n"
          ]
        },
        {
          "output_type": "stream",
          "name": "stderr",
          "text": [
            "train: 100%|██████████| 17/17 [00:00<00:00, 129.52it/s]\n"
          ]
        },
        {
          "output_type": "stream",
          "name": "stdout",
          "text": [
            "Epoch 4 elapsed: 0.137s\n",
            "\t \u001b[32mtrain_loss: -0.1626\u001b[0m\n"
          ]
        },
        {
          "output_type": "stream",
          "name": "stderr",
          "text": [
            "eval_rec: 100%|██████████| 411/411 [00:01<00:00, 392.50it/s]\n"
          ]
        },
        {
          "output_type": "stream",
          "name": "stdout",
          "text": [
            "\t eval precision@10: 0.0012\n",
            "\t eval recall@10: 0.0109\n",
            "\t eval map@10: 0.0035\n",
            "\t eval ndcg@10: 0.0056\n",
            "==============================\n"
          ]
        },
        {
          "output_type": "stream",
          "name": "stderr",
          "text": [
            "train: 100%|██████████| 17/17 [00:00<00:00, 123.75it/s]\n"
          ]
        },
        {
          "output_type": "stream",
          "name": "stdout",
          "text": [
            "Epoch 5 elapsed: 0.150s\n",
            "\t \u001b[32mtrain_loss: -0.6023\u001b[0m\n"
          ]
        },
        {
          "output_type": "stream",
          "name": "stderr",
          "text": [
            "eval_rec: 100%|██████████| 411/411 [00:01<00:00, 346.46it/s]\n"
          ]
        },
        {
          "output_type": "stream",
          "name": "stdout",
          "text": [
            "\t eval precision@10: 0.0012\n",
            "\t eval recall@10: 0.0109\n",
            "\t eval map@10: 0.0027\n",
            "\t eval ndcg@10: 0.0049\n",
            "==============================\n"
          ]
        },
        {
          "output_type": "stream",
          "name": "stderr",
          "text": [
            "train: 100%|██████████| 17/17 [00:00<00:00, 132.12it/s]\n"
          ]
        },
        {
          "output_type": "stream",
          "name": "stdout",
          "text": [
            "Epoch 6 elapsed: 0.136s\n",
            "\t \u001b[32mtrain_loss: -1.1013\u001b[0m\n"
          ]
        },
        {
          "output_type": "stream",
          "name": "stderr",
          "text": [
            "eval_rec: 100%|██████████| 411/411 [00:01<00:00, 316.21it/s]\n"
          ]
        },
        {
          "output_type": "stream",
          "name": "stdout",
          "text": [
            "\t eval precision@10: 0.0010\n",
            "\t eval recall@10: 0.0097\n",
            "\t eval map@10: 0.0020\n",
            "\t eval ndcg@10: 0.0038\n",
            "==============================\n"
          ]
        },
        {
          "output_type": "stream",
          "name": "stderr",
          "text": [
            "train: 100%|██████████| 17/17 [00:00<00:00, 141.89it/s]\n"
          ]
        },
        {
          "output_type": "stream",
          "name": "stdout",
          "text": [
            "Epoch 7 elapsed: 0.127s\n",
            "\t \u001b[32mtrain_loss: -1.5377\u001b[0m\n"
          ]
        },
        {
          "output_type": "stream",
          "name": "stderr",
          "text": [
            "eval_rec: 100%|██████████| 411/411 [00:01<00:00, 349.05it/s]\n"
          ]
        },
        {
          "output_type": "stream",
          "name": "stdout",
          "text": [
            "\t eval precision@10: 0.0005\n",
            "\t eval recall@10: 0.0049\n",
            "\t eval map@10: 0.0011\n",
            "\t eval ndcg@10: 0.0020\n",
            "==============================\n"
          ]
        },
        {
          "output_type": "stream",
          "name": "stderr",
          "text": [
            "train: 100%|██████████| 17/17 [00:00<00:00, 127.66it/s]\n"
          ]
        },
        {
          "output_type": "stream",
          "name": "stdout",
          "text": [
            "Epoch 8 elapsed: 0.139s\n",
            "\t \u001b[32mtrain_loss: -2.0436\u001b[0m\n"
          ]
        },
        {
          "output_type": "stream",
          "name": "stderr",
          "text": [
            "eval_rec: 100%|██████████| 411/411 [00:01<00:00, 327.45it/s]\n"
          ]
        },
        {
          "output_type": "stream",
          "name": "stdout",
          "text": [
            "\t eval precision@10: 0.0005\n",
            "\t eval recall@10: 0.0036\n",
            "\t eval map@10: 0.0011\n",
            "\t eval ndcg@10: 0.0020\n",
            "==============================\n"
          ]
        },
        {
          "output_type": "stream",
          "name": "stderr",
          "text": [
            "train: 100%|██████████| 17/17 [00:00<00:00, 151.81it/s]\n"
          ]
        },
        {
          "output_type": "stream",
          "name": "stdout",
          "text": [
            "Epoch 9 elapsed: 0.120s\n",
            "\t \u001b[32mtrain_loss: -2.4611\u001b[0m\n"
          ]
        },
        {
          "output_type": "stream",
          "name": "stderr",
          "text": [
            "eval_rec: 100%|██████████| 411/411 [00:01<00:00, 340.69it/s]\n"
          ]
        },
        {
          "output_type": "stream",
          "name": "stdout",
          "text": [
            "\t eval precision@10: 0.0005\n",
            "\t eval recall@10: 0.0036\n",
            "\t eval map@10: 0.0011\n",
            "\t eval ndcg@10: 0.0019\n",
            "==============================\n"
          ]
        },
        {
          "output_type": "stream",
          "name": "stderr",
          "text": [
            "train: 100%|██████████| 17/17 [00:00<00:00, 141.35it/s]\n"
          ]
        },
        {
          "output_type": "stream",
          "name": "stdout",
          "text": [
            "Epoch 10 elapsed: 0.127s\n",
            "\t \u001b[32mtrain_loss: -2.9809\u001b[0m\n"
          ]
        },
        {
          "output_type": "stream",
          "name": "stderr",
          "text": [
            "eval_rec: 100%|██████████| 411/411 [00:01<00:00, 400.02it/s]\n"
          ]
        },
        {
          "output_type": "stream",
          "name": "stdout",
          "text": [
            "\t eval precision@10: 0.0005\n",
            "\t eval recall@10: 0.0036\n",
            "\t eval map@10: 0.0012\n",
            "\t eval ndcg@10: 0.0020\n",
            "==============================\n"
          ]
        },
        {
          "output_type": "stream",
          "name": "stderr",
          "text": [
            "train: 100%|██████████| 17/17 [00:00<00:00, 185.63it/s]\n"
          ]
        },
        {
          "output_type": "stream",
          "name": "stdout",
          "text": [
            "Epoch 11 elapsed: 0.096s\n",
            "\t \u001b[32mtrain_loss: -3.3786\u001b[0m\n"
          ]
        },
        {
          "output_type": "stream",
          "name": "stderr",
          "text": [
            "eval_rec: 100%|██████████| 411/411 [00:00<00:00, 471.50it/s]\n"
          ]
        },
        {
          "output_type": "stream",
          "name": "stdout",
          "text": [
            "\t eval precision@10: 0.0007\n",
            "\t eval recall@10: 0.0061\n",
            "\t eval map@10: 0.0012\n",
            "\t eval ndcg@10: 0.0025\n",
            "==============================\n"
          ]
        },
        {
          "output_type": "stream",
          "name": "stderr",
          "text": [
            "train: 100%|██████████| 17/17 [00:00<00:00, 175.50it/s]\n"
          ]
        },
        {
          "output_type": "stream",
          "name": "stdout",
          "text": [
            "Epoch 12 elapsed: 0.102s\n",
            "\t \u001b[32mtrain_loss: -3.7248\u001b[0m\n"
          ]
        },
        {
          "output_type": "stream",
          "name": "stderr",
          "text": [
            "eval_rec: 100%|██████████| 411/411 [00:00<00:00, 473.72it/s]\n"
          ]
        },
        {
          "output_type": "stream",
          "name": "stdout",
          "text": [
            "\t eval precision@10: 0.0005\n",
            "\t eval recall@10: 0.0049\n",
            "\t eval map@10: 0.0008\n",
            "\t eval ndcg@10: 0.0017\n",
            "==============================\n"
          ]
        },
        {
          "output_type": "stream",
          "name": "stderr",
          "text": [
            "train: 100%|██████████| 17/17 [00:00<00:00, 175.31it/s]\n"
          ]
        },
        {
          "output_type": "stream",
          "name": "stdout",
          "text": [
            "Epoch 13 elapsed: 0.104s\n",
            "\t \u001b[32mtrain_loss: -3.7969\u001b[0m\n"
          ]
        },
        {
          "output_type": "stream",
          "name": "stderr",
          "text": [
            "eval_rec: 100%|██████████| 411/411 [00:00<00:00, 471.79it/s]\n"
          ]
        },
        {
          "output_type": "stream",
          "name": "stdout",
          "text": [
            "\t eval precision@10: 0.0007\n",
            "\t eval recall@10: 0.0073\n",
            "\t eval map@10: 0.0009\n",
            "\t eval ndcg@10: 0.0023\n",
            "==============================\n"
          ]
        },
        {
          "output_type": "stream",
          "name": "stderr",
          "text": [
            "train: 100%|██████████| 17/17 [00:00<00:00, 183.01it/s]\n"
          ]
        },
        {
          "output_type": "stream",
          "name": "stdout",
          "text": [
            "Epoch 14 elapsed: 0.098s\n",
            "\t \u001b[32mtrain_loss: -4.1078\u001b[0m\n"
          ]
        },
        {
          "output_type": "stream",
          "name": "stderr",
          "text": [
            "eval_rec: 100%|██████████| 411/411 [00:00<00:00, 479.17it/s]\n"
          ]
        },
        {
          "output_type": "stream",
          "name": "stdout",
          "text": [
            "\t eval precision@10: 0.0005\n",
            "\t eval recall@10: 0.0049\n",
            "\t eval map@10: 0.0007\n",
            "\t eval ndcg@10: 0.0016\n",
            "==============================\n"
          ]
        },
        {
          "output_type": "stream",
          "name": "stderr",
          "text": [
            "train: 100%|██████████| 17/17 [00:00<00:00, 187.05it/s]\n"
          ]
        },
        {
          "output_type": "stream",
          "name": "stdout",
          "text": [
            "Epoch 15 elapsed: 0.097s\n",
            "\t \u001b[32mtrain_loss: -4.4051\u001b[0m\n"
          ]
        },
        {
          "output_type": "stream",
          "name": "stderr",
          "text": [
            "eval_rec: 100%|██████████| 411/411 [00:00<00:00, 477.74it/s]\n"
          ]
        },
        {
          "output_type": "stream",
          "name": "stdout",
          "text": [
            "\t eval precision@10: 0.0002\n",
            "\t eval recall@10: 0.0024\n",
            "\t eval map@10: 0.0005\n",
            "\t eval ndcg@10: 0.0009\n",
            "==============================\n"
          ]
        },
        {
          "output_type": "stream",
          "name": "stderr",
          "text": [
            "train: 100%|██████████| 17/17 [00:00<00:00, 188.53it/s]\n"
          ]
        },
        {
          "output_type": "stream",
          "name": "stdout",
          "text": [
            "Epoch 16 elapsed: 0.095s\n",
            "\t \u001b[32mtrain_loss: -4.5766\u001b[0m\n"
          ]
        },
        {
          "output_type": "stream",
          "name": "stderr",
          "text": [
            "eval_rec: 100%|██████████| 411/411 [00:00<00:00, 479.84it/s]\n"
          ]
        },
        {
          "output_type": "stream",
          "name": "stdout",
          "text": [
            "\t eval precision@10: 0.0002\n",
            "\t eval recall@10: 0.0024\n",
            "\t eval map@10: 0.0004\n",
            "\t eval ndcg@10: 0.0009\n",
            "==============================\n"
          ]
        },
        {
          "output_type": "stream",
          "name": "stderr",
          "text": [
            "train: 100%|██████████| 17/17 [00:00<00:00, 179.83it/s]\n"
          ]
        },
        {
          "output_type": "stream",
          "name": "stdout",
          "text": [
            "Epoch 17 elapsed: 0.101s\n",
            "\t \u001b[32mtrain_loss: -4.804\u001b[0m\n"
          ]
        },
        {
          "output_type": "stream",
          "name": "stderr",
          "text": [
            "eval_rec: 100%|██████████| 411/411 [00:01<00:00, 401.48it/s]\n"
          ]
        },
        {
          "output_type": "stream",
          "name": "stdout",
          "text": [
            "\t eval precision@10: 0.0002\n",
            "\t eval recall@10: 0.0024\n",
            "\t eval map@10: 0.0003\n",
            "\t eval ndcg@10: 0.0008\n",
            "==============================\n"
          ]
        },
        {
          "output_type": "stream",
          "name": "stderr",
          "text": [
            "train: 100%|██████████| 17/17 [00:00<00:00, 147.44it/s]\n"
          ]
        },
        {
          "output_type": "stream",
          "name": "stdout",
          "text": [
            "Epoch 18 elapsed: 0.124s\n",
            "\t \u001b[32mtrain_loss: -4.7167\u001b[0m\n"
          ]
        },
        {
          "output_type": "stream",
          "name": "stderr",
          "text": [
            "eval_rec: 100%|██████████| 411/411 [00:01<00:00, 397.63it/s]\n"
          ]
        },
        {
          "output_type": "stream",
          "name": "stdout",
          "text": [
            "\t eval precision@10: 0.0002\n",
            "\t eval recall@10: 0.0024\n",
            "\t eval map@10: 0.0003\n",
            "\t eval ndcg@10: 0.0008\n",
            "==============================\n"
          ]
        },
        {
          "output_type": "stream",
          "name": "stderr",
          "text": [
            "train: 100%|██████████| 17/17 [00:00<00:00, 177.85it/s]\n"
          ]
        },
        {
          "output_type": "stream",
          "name": "stdout",
          "text": [
            "Epoch 19 elapsed: 0.101s\n",
            "\t \u001b[32mtrain_loss: -5.0286\u001b[0m\n"
          ]
        },
        {
          "output_type": "stream",
          "name": "stderr",
          "text": [
            "eval_rec: 100%|██████████| 411/411 [00:00<00:00, 468.30it/s]\n"
          ]
        },
        {
          "output_type": "stream",
          "name": "stdout",
          "text": [
            "\t eval precision@10: 0.0002\n",
            "\t eval recall@10: 0.0024\n",
            "\t eval map@10: 0.0006\n",
            "\t eval ndcg@10: 0.0010\n",
            "==============================\n"
          ]
        },
        {
          "output_type": "stream",
          "name": "stderr",
          "text": [
            "train: 100%|██████████| 17/17 [00:00<00:00, 177.72it/s]\n"
          ]
        },
        {
          "output_type": "stream",
          "name": "stdout",
          "text": [
            "Epoch 20 elapsed: 0.102s\n",
            "\t \u001b[32mtrain_loss: -5.2983\u001b[0m\n"
          ]
        },
        {
          "output_type": "stream",
          "name": "stderr",
          "text": [
            "eval_rec: 100%|██████████| 411/411 [00:00<00:00, 480.84it/s]\n"
          ]
        },
        {
          "output_type": "stream",
          "name": "stdout",
          "text": [
            "\t eval precision@10: 0.0005\n",
            "\t eval recall@10: 0.0049\n",
            "\t eval map@10: 0.0009\n",
            "\t eval ndcg@10: 0.0018\n",
            "==============================\n"
          ]
        }
      ]
    },
    {
      "cell_type": "code",
      "source": [
        "rating_df"
      ],
      "metadata": {
        "colab": {
          "base_uri": "https://localhost:8080/",
          "height": 423
        },
        "id": "xedPry0yPqua",
        "outputId": "abcfb757-5984-41c0-a495-2b2c9791af89"
      },
      "id": "xedPry0yPqua",
      "execution_count": null,
      "outputs": [
        {
          "output_type": "execute_result",
          "data": {
            "text/plain": [
              "       user     item  label USER_STATE USER_TIMEZONE  Trip Type\n",
              "0        45   105170      5         GA       Eastern          3\n",
              "1        45   223229      5         GA       Eastern          3\n",
              "2        45   258688      5         GA       Eastern          3\n",
              "3        45    98827      5         GA       Eastern          3\n",
              "4        45    99518      3         GA       Eastern          3\n",
              "...     ...      ...    ...        ...           ...        ...\n",
              "4664  65440    95715      5         MI       Eastern          4\n",
              "4665  65457  1027019      3         AZ      Mountain          3\n",
              "4666  65457   224458      3         AZ      Mountain          3\n",
              "4667  65457   223749      2         AZ      Mountain          3\n",
              "4668  65457    92744      3         AZ      Mountain          4\n",
              "\n",
              "[4669 rows x 6 columns]"
            ],
            "text/html": [
              "\n",
              "  <div id=\"df-d6920cb4-f2d0-45da-81be-f9b53a36c766\">\n",
              "    <div class=\"colab-df-container\">\n",
              "      <div>\n",
              "<style scoped>\n",
              "    .dataframe tbody tr th:only-of-type {\n",
              "        vertical-align: middle;\n",
              "    }\n",
              "\n",
              "    .dataframe tbody tr th {\n",
              "        vertical-align: top;\n",
              "    }\n",
              "\n",
              "    .dataframe thead th {\n",
              "        text-align: right;\n",
              "    }\n",
              "</style>\n",
              "<table border=\"1\" class=\"dataframe\">\n",
              "  <thead>\n",
              "    <tr style=\"text-align: right;\">\n",
              "      <th></th>\n",
              "      <th>user</th>\n",
              "      <th>item</th>\n",
              "      <th>label</th>\n",
              "      <th>USER_STATE</th>\n",
              "      <th>USER_TIMEZONE</th>\n",
              "      <th>Trip Type</th>\n",
              "    </tr>\n",
              "  </thead>\n",
              "  <tbody>\n",
              "    <tr>\n",
              "      <th>0</th>\n",
              "      <td>45</td>\n",
              "      <td>105170</td>\n",
              "      <td>5</td>\n",
              "      <td>GA</td>\n",
              "      <td>Eastern</td>\n",
              "      <td>3</td>\n",
              "    </tr>\n",
              "    <tr>\n",
              "      <th>1</th>\n",
              "      <td>45</td>\n",
              "      <td>223229</td>\n",
              "      <td>5</td>\n",
              "      <td>GA</td>\n",
              "      <td>Eastern</td>\n",
              "      <td>3</td>\n",
              "    </tr>\n",
              "    <tr>\n",
              "      <th>2</th>\n",
              "      <td>45</td>\n",
              "      <td>258688</td>\n",
              "      <td>5</td>\n",
              "      <td>GA</td>\n",
              "      <td>Eastern</td>\n",
              "      <td>3</td>\n",
              "    </tr>\n",
              "    <tr>\n",
              "      <th>3</th>\n",
              "      <td>45</td>\n",
              "      <td>98827</td>\n",
              "      <td>5</td>\n",
              "      <td>GA</td>\n",
              "      <td>Eastern</td>\n",
              "      <td>3</td>\n",
              "    </tr>\n",
              "    <tr>\n",
              "      <th>4</th>\n",
              "      <td>45</td>\n",
              "      <td>99518</td>\n",
              "      <td>3</td>\n",
              "      <td>GA</td>\n",
              "      <td>Eastern</td>\n",
              "      <td>3</td>\n",
              "    </tr>\n",
              "    <tr>\n",
              "      <th>...</th>\n",
              "      <td>...</td>\n",
              "      <td>...</td>\n",
              "      <td>...</td>\n",
              "      <td>...</td>\n",
              "      <td>...</td>\n",
              "      <td>...</td>\n",
              "    </tr>\n",
              "    <tr>\n",
              "      <th>4664</th>\n",
              "      <td>65440</td>\n",
              "      <td>95715</td>\n",
              "      <td>5</td>\n",
              "      <td>MI</td>\n",
              "      <td>Eastern</td>\n",
              "      <td>4</td>\n",
              "    </tr>\n",
              "    <tr>\n",
              "      <th>4665</th>\n",
              "      <td>65457</td>\n",
              "      <td>1027019</td>\n",
              "      <td>3</td>\n",
              "      <td>AZ</td>\n",
              "      <td>Mountain</td>\n",
              "      <td>3</td>\n",
              "    </tr>\n",
              "    <tr>\n",
              "      <th>4666</th>\n",
              "      <td>65457</td>\n",
              "      <td>224458</td>\n",
              "      <td>3</td>\n",
              "      <td>AZ</td>\n",
              "      <td>Mountain</td>\n",
              "      <td>3</td>\n",
              "    </tr>\n",
              "    <tr>\n",
              "      <th>4667</th>\n",
              "      <td>65457</td>\n",
              "      <td>223749</td>\n",
              "      <td>2</td>\n",
              "      <td>AZ</td>\n",
              "      <td>Mountain</td>\n",
              "      <td>3</td>\n",
              "    </tr>\n",
              "    <tr>\n",
              "      <th>4668</th>\n",
              "      <td>65457</td>\n",
              "      <td>92744</td>\n",
              "      <td>3</td>\n",
              "      <td>AZ</td>\n",
              "      <td>Mountain</td>\n",
              "      <td>4</td>\n",
              "    </tr>\n",
              "  </tbody>\n",
              "</table>\n",
              "<p>4669 rows × 6 columns</p>\n",
              "</div>\n",
              "      <button class=\"colab-df-convert\" onclick=\"convertToInteractive('df-d6920cb4-f2d0-45da-81be-f9b53a36c766')\"\n",
              "              title=\"Convert this dataframe to an interactive table.\"\n",
              "              style=\"display:none;\">\n",
              "        \n",
              "  <svg xmlns=\"http://www.w3.org/2000/svg\" height=\"24px\"viewBox=\"0 0 24 24\"\n",
              "       width=\"24px\">\n",
              "    <path d=\"M0 0h24v24H0V0z\" fill=\"none\"/>\n",
              "    <path d=\"M18.56 5.44l.94 2.06.94-2.06 2.06-.94-2.06-.94-.94-2.06-.94 2.06-2.06.94zm-11 1L8.5 8.5l.94-2.06 2.06-.94-2.06-.94L8.5 2.5l-.94 2.06-2.06.94zm10 10l.94 2.06.94-2.06 2.06-.94-2.06-.94-.94-2.06-.94 2.06-2.06.94z\"/><path d=\"M17.41 7.96l-1.37-1.37c-.4-.4-.92-.59-1.43-.59-.52 0-1.04.2-1.43.59L10.3 9.45l-7.72 7.72c-.78.78-.78 2.05 0 2.83L4 21.41c.39.39.9.59 1.41.59.51 0 1.02-.2 1.41-.59l7.78-7.78 2.81-2.81c.8-.78.8-2.07 0-2.86zM5.41 20L4 18.59l7.72-7.72 1.47 1.35L5.41 20z\"/>\n",
              "  </svg>\n",
              "      </button>\n",
              "      \n",
              "  <style>\n",
              "    .colab-df-container {\n",
              "      display:flex;\n",
              "      flex-wrap:wrap;\n",
              "      gap: 12px;\n",
              "    }\n",
              "\n",
              "    .colab-df-convert {\n",
              "      background-color: #E8F0FE;\n",
              "      border: none;\n",
              "      border-radius: 50%;\n",
              "      cursor: pointer;\n",
              "      display: none;\n",
              "      fill: #1967D2;\n",
              "      height: 32px;\n",
              "      padding: 0 0 0 0;\n",
              "      width: 32px;\n",
              "    }\n",
              "\n",
              "    .colab-df-convert:hover {\n",
              "      background-color: #E2EBFA;\n",
              "      box-shadow: 0px 1px 2px rgba(60, 64, 67, 0.3), 0px 1px 3px 1px rgba(60, 64, 67, 0.15);\n",
              "      fill: #174EA6;\n",
              "    }\n",
              "\n",
              "    [theme=dark] .colab-df-convert {\n",
              "      background-color: #3B4455;\n",
              "      fill: #D2E3FC;\n",
              "    }\n",
              "\n",
              "    [theme=dark] .colab-df-convert:hover {\n",
              "      background-color: #434B5C;\n",
              "      box-shadow: 0px 1px 3px 1px rgba(0, 0, 0, 0.15);\n",
              "      filter: drop-shadow(0px 1px 2px rgba(0, 0, 0, 0.3));\n",
              "      fill: #FFFFFF;\n",
              "    }\n",
              "  </style>\n",
              "\n",
              "      <script>\n",
              "        const buttonEl =\n",
              "          document.querySelector('#df-d6920cb4-f2d0-45da-81be-f9b53a36c766 button.colab-df-convert');\n",
              "        buttonEl.style.display =\n",
              "          google.colab.kernel.accessAllowed ? 'block' : 'none';\n",
              "\n",
              "        async function convertToInteractive(key) {\n",
              "          const element = document.querySelector('#df-d6920cb4-f2d0-45da-81be-f9b53a36c766');\n",
              "          const dataTable =\n",
              "            await google.colab.kernel.invokeFunction('convertToInteractive',\n",
              "                                                     [key], {});\n",
              "          if (!dataTable) return;\n",
              "\n",
              "          const docLinkHtml = 'Like what you see? Visit the ' +\n",
              "            '<a target=\"_blank\" href=https://colab.research.google.com/notebooks/data_table.ipynb>data table notebook</a>'\n",
              "            + ' to learn more about interactive tables.';\n",
              "          element.innerHTML = '';\n",
              "          dataTable['output_type'] = 'display_data';\n",
              "          await google.colab.output.renderOutput(dataTable, element);\n",
              "          const docLink = document.createElement('div');\n",
              "          docLink.innerHTML = docLinkHtml;\n",
              "          element.appendChild(docLink);\n",
              "        }\n",
              "      </script>\n",
              "    </div>\n",
              "  </div>\n",
              "  "
            ]
          },
          "metadata": {},
          "execution_count": 20
        }
      ]
    },
    {
      "cell_type": "code",
      "source": [
        "print( \"recommendation: \",\n",
        "        ytb_ranking.recommend_user(\n",
        "            user=65457,\n",
        "            n_rec=7,\n",
        "            inner_id=False,\n",
        "            cold_start=\"average\",\n",
        "            user_feats=pd.Series({\"USER_STATE\": \"GA\", \"USER_TIMEZONE\": \"Mountain\", \"Trip Type\": 1}),\n",
        "           \n",
        "        ))\n",
        "    "
      ],
      "metadata": {
        "colab": {
          "base_uri": "https://localhost:8080/"
        },
        "id": "Yl2QCi5ZOjwR",
        "outputId": "39ea69e1-04d5-4e4e-dbca-9228cc4c4596"
      },
      "id": "Yl2QCi5ZOjwR",
      "execution_count": null,
      "outputs": [
        {
          "output_type": "stream",
          "name": "stdout",
          "text": [
            "recommendation:  [(91813, 0.94110066), (633673, 0.9405274), (107844, 0.9404271), (95707, 0.9396957), (729441, 0.9396075), (95732, 0.93904823), (1201174, 0.93902487)]\n"
          ]
        }
      ]
    },
    {
      "cell_type": "code",
      "source": [
        "\n",
        "\n",
        "# recommend 7 items for user 2211\n",
        "print(\"recommendation(id, probability): \", ytb_ranking.recommend_user(user=1, n_rec=7))"
      ],
      "metadata": {
        "colab": {
          "base_uri": "https://localhost:8080/"
        },
        "id": "fgqbPvT3Jfxc",
        "outputId": "2cbee59b-c6ea-42e3-9f17-4f3ee2a1fcad"
      },
      "id": "fgqbPvT3Jfxc",
      "execution_count": null,
      "outputs": [
        {
          "output_type": "stream",
          "name": "stdout",
          "text": [
            "\u001b[31mdetect unknown user: 1\u001b[0m\n",
            "recommendation(id, probability):  [(91813, 0.94102156), (633673, 0.9404539), (107844, 0.94035184), (95707, 0.93962556), (729441, 0.93954206), (95732, 0.9389738), (1201174, 0.9389589)]\n"
          ]
        }
      ]
    },
    {
      "cell_type": "code",
      "source": [],
      "metadata": {
        "id": "x8xjC-P6Ppfb"
      },
      "id": "x8xjC-P6Ppfb",
      "execution_count": null,
      "outputs": []
    },
    {
      "cell_type": "markdown",
      "source": [
        "## deepFM"
      ],
      "metadata": {
        "id": "A2XDU2gcvO-X"
      },
      "id": "A2XDU2gcvO-X"
    },
    {
      "cell_type": "code",
      "source": [
        "train_data.build_negative_samples(\n",
        "        data_info, num_neg=1, item_gen_mode=\"random\", seed=2020\n",
        "    )\n",
        "test_data.build_negative_samples(\n",
        "        data_info, num_neg=1, item_gen_mode=\"random\", seed=2222\n",
        "    )"
      ],
      "metadata": {
        "colab": {
          "base_uri": "https://localhost:8080/"
        },
        "id": "kTBmL7T2qcS7",
        "outputId": "29863c07-e9b1-4b0b-fe0e-83e4a899dcb0"
      },
      "id": "kTBmL7T2qcS7",
      "execution_count": null,
      "outputs": [
        {
          "output_type": "stream",
          "name": "stdout",
          "text": [
            "random neg item sampling elapsed: 0.006s\n",
            "random neg item sampling elapsed: 0.000s\n"
          ]
        }
      ]
    },
    {
      "cell_type": "code",
      "source": [
        "deepfm = DeepFM(\n",
        "        \"ranking\",\n",
        "        data_info,\n",
        "        embed_size=128,\n",
        "        n_epochs=30,\n",
        "        lr=1e-4,\n",
        "        lr_decay=False,\n",
        "        reg=None,\n",
        "        batch_size=256,\n",
        "        num_neg=1,\n",
        "        use_bn=False,\n",
        "        dropout_rate=None,\n",
        "        hidden_units=\"128,128,32\",\n",
        "        tf_sess_config=None,\n",
        "    )\n",
        "    "
      ],
      "metadata": {
        "colab": {
          "base_uri": "https://localhost:8080/"
        },
        "id": "LgmG0om8dDDA",
        "outputId": "47d649c5-0b18-4469-c148-8f28f43690d5"
      },
      "id": "LgmG0om8dDDA",
      "execution_count": null,
      "outputs": [
        {
          "output_type": "stream",
          "name": "stdout",
          "text": [
            "total params: \u001b[33m571,089\u001b[0m | embedding params: \u001b[33m448,006\u001b[0m | network params: \u001b[33m123,083\u001b[0m\n"
          ]
        }
      ]
    },
    {
      "cell_type": "code",
      "source": [
        "deepfm.fit(\n",
        "        train_data,\n",
        "        verbose=2,\n",
        "        shuffle=True,\n",
        "        eval_data=test_data,\n",
        "        metrics=[\n",
        "            \"loss\",\n",
        "            \"balanced_accuracy\",\n",
        "            \"roc_auc\",\n",
        "            \"pr_auc\",\n",
        "            \"precision\",\n",
        "            \"recall\",\n",
        "            \"map\",\n",
        "            \"ndcg\",\n",
        "        ],\n",
        "    )\n"
      ],
      "metadata": {
        "colab": {
          "base_uri": "https://localhost:8080/"
        },
        "id": "IcV1AtVjsIGJ",
        "outputId": "fe66c7e0-d9c8-4e5e-9602-77ffed0ce2cd"
      },
      "id": "IcV1AtVjsIGJ",
      "execution_count": null,
      "outputs": [
        {
          "output_type": "stream",
          "name": "stdout",
          "text": [
            "Training start time: \u001b[35m2023-02-07 21:13:37\u001b[0m\n"
          ]
        },
        {
          "output_type": "stream",
          "name": "stderr",
          "text": [
            "train: 100%|██████████| 33/33 [00:00<00:00, 95.85it/s]\n"
          ]
        },
        {
          "output_type": "stream",
          "name": "stdout",
          "text": [
            "Epoch 1 elapsed: 0.353s\n",
            "\t \u001b[32mtrain_loss: 0.6933\u001b[0m\n"
          ]
        },
        {
          "output_type": "stream",
          "name": "stderr",
          "text": [
            "eval_pred: 100%|██████████| 1/1 [00:00<00:00, 29.89it/s]\n",
            "eval_rec: 100%|██████████| 411/411 [00:00<00:00, 611.93it/s]\n"
          ]
        },
        {
          "output_type": "stream",
          "name": "stdout",
          "text": [
            "\t eval log_loss: 0.6932\n",
            "\t eval balanced accuracy: 0.4989\n",
            "\t eval roc_auc: 0.4962\n",
            "\t eval pr_auc: 0.5047\n",
            "\t eval precision@10: 0.0005\n",
            "\t eval recall@10: 0.0049\n",
            "\t eval map@10: 0.0010\n",
            "\t eval ndcg@10: 0.0019\n",
            "==============================\n"
          ]
        },
        {
          "output_type": "stream",
          "name": "stderr",
          "text": [
            "train: 100%|██████████| 33/33 [00:00<00:00, 210.52it/s]\n"
          ]
        },
        {
          "output_type": "stream",
          "name": "stdout",
          "text": [
            "Epoch 2 elapsed: 0.164s\n",
            "\t \u001b[32mtrain_loss: 0.6931\u001b[0m\n"
          ]
        },
        {
          "output_type": "stream",
          "name": "stderr",
          "text": [
            "eval_pred: 100%|██████████| 1/1 [00:00<00:00, 386.86it/s]\n",
            "eval_rec: 100%|██████████| 411/411 [00:00<00:00, 612.63it/s]\n"
          ]
        },
        {
          "output_type": "stream",
          "name": "stdout",
          "text": [
            "\t eval log_loss: 0.6931\n",
            "\t eval balanced accuracy: 0.4933\n",
            "\t eval roc_auc: 0.5082\n",
            "\t eval pr_auc: 0.5166\n",
            "\t eval precision@10: 0.0010\n",
            "\t eval recall@10: 0.0097\n",
            "\t eval map@10: 0.0018\n",
            "\t eval ndcg@10: 0.0036\n",
            "==============================\n"
          ]
        },
        {
          "output_type": "stream",
          "name": "stderr",
          "text": [
            "train: 100%|██████████| 33/33 [00:00<00:00, 214.04it/s]\n"
          ]
        },
        {
          "output_type": "stream",
          "name": "stdout",
          "text": [
            "Epoch 3 elapsed: 0.164s\n",
            "\t \u001b[32mtrain_loss: 0.6929\u001b[0m\n"
          ]
        },
        {
          "output_type": "stream",
          "name": "stderr",
          "text": [
            "eval_pred: 100%|██████████| 1/1 [00:00<00:00, 246.52it/s]\n",
            "eval_rec: 100%|██████████| 411/411 [00:00<00:00, 625.39it/s]\n"
          ]
        },
        {
          "output_type": "stream",
          "name": "stdout",
          "text": [
            "\t eval log_loss: 0.6930\n",
            "\t eval balanced accuracy: 0.5112\n",
            "\t eval roc_auc: 0.5253\n",
            "\t eval pr_auc: 0.5344\n",
            "\t eval precision@10: 0.0007\n",
            "\t eval recall@10: 0.0073\n",
            "\t eval map@10: 0.0018\n",
            "\t eval ndcg@10: 0.0031\n",
            "==============================\n"
          ]
        },
        {
          "output_type": "stream",
          "name": "stderr",
          "text": [
            "train: 100%|██████████| 33/33 [00:00<00:00, 208.53it/s]\n"
          ]
        },
        {
          "output_type": "stream",
          "name": "stdout",
          "text": [
            "Epoch 4 elapsed: 0.164s\n",
            "\t \u001b[32mtrain_loss: 0.6926\u001b[0m\n"
          ]
        },
        {
          "output_type": "stream",
          "name": "stderr",
          "text": [
            "eval_pred: 100%|██████████| 1/1 [00:00<00:00, 206.60it/s]\n",
            "eval_rec: 100%|██████████| 411/411 [00:00<00:00, 609.94it/s]\n"
          ]
        },
        {
          "output_type": "stream",
          "name": "stdout",
          "text": [
            "\t eval log_loss: 0.6928\n",
            "\t eval balanced accuracy: 0.5146\n",
            "\t eval roc_auc: 0.5416\n",
            "\t eval pr_auc: 0.5491\n",
            "\t eval precision@10: 0.0012\n",
            "\t eval recall@10: 0.0122\n",
            "\t eval map@10: 0.0036\n",
            "\t eval ndcg@10: 0.0056\n",
            "==============================\n"
          ]
        },
        {
          "output_type": "stream",
          "name": "stderr",
          "text": [
            "train: 100%|██████████| 33/33 [00:00<00:00, 213.33it/s]\n"
          ]
        },
        {
          "output_type": "stream",
          "name": "stdout",
          "text": [
            "Epoch 5 elapsed: 0.161s\n",
            "\t \u001b[32mtrain_loss: 0.692\u001b[0m\n"
          ]
        },
        {
          "output_type": "stream",
          "name": "stderr",
          "text": [
            "eval_pred: 100%|██████████| 1/1 [00:00<00:00, 318.81it/s]\n",
            "eval_rec: 100%|██████████| 411/411 [00:00<00:00, 582.38it/s]\n"
          ]
        },
        {
          "output_type": "stream",
          "name": "stdout",
          "text": [
            "\t eval log_loss: 0.6926\n",
            "\t eval balanced accuracy: 0.5303\n",
            "\t eval roc_auc: 0.5554\n",
            "\t eval pr_auc: 0.5674\n",
            "\t eval precision@10: 0.0012\n",
            "\t eval recall@10: 0.0122\n",
            "\t eval map@10: 0.0057\n",
            "\t eval ndcg@10: 0.0073\n",
            "==============================\n"
          ]
        },
        {
          "output_type": "stream",
          "name": "stderr",
          "text": [
            "train: 100%|██████████| 33/33 [00:00<00:00, 184.31it/s]\n"
          ]
        },
        {
          "output_type": "stream",
          "name": "stdout",
          "text": [
            "Epoch 6 elapsed: 0.185s\n",
            "\t \u001b[32mtrain_loss: 0.6909\u001b[0m\n"
          ]
        },
        {
          "output_type": "stream",
          "name": "stderr",
          "text": [
            "eval_pred: 100%|██████████| 1/1 [00:00<00:00, 606.29it/s]\n",
            "eval_rec: 100%|██████████| 411/411 [00:00<00:00, 568.46it/s]\n"
          ]
        },
        {
          "output_type": "stream",
          "name": "stdout",
          "text": [
            "\t eval log_loss: 0.6919\n",
            "\t eval balanced accuracy: 0.5561\n",
            "\t eval roc_auc: 0.5654\n",
            "\t eval pr_auc: 0.5819\n",
            "\t eval precision@10: 0.0027\n",
            "\t eval recall@10: 0.0255\n",
            "\t eval map@10: 0.0056\n",
            "\t eval ndcg@10: 0.0104\n",
            "==============================\n"
          ]
        },
        {
          "output_type": "stream",
          "name": "stderr",
          "text": [
            "train: 100%|██████████| 33/33 [00:00<00:00, 178.44it/s]\n"
          ]
        },
        {
          "output_type": "stream",
          "name": "stdout",
          "text": [
            "Epoch 7 elapsed: 0.193s\n",
            "\t \u001b[32mtrain_loss: 0.6887\u001b[0m\n"
          ]
        },
        {
          "output_type": "stream",
          "name": "stderr",
          "text": [
            "eval_pred: 100%|██████████| 1/1 [00:00<00:00, 333.38it/s]\n",
            "eval_rec: 100%|██████████| 411/411 [00:00<00:00, 555.30it/s]\n"
          ]
        },
        {
          "output_type": "stream",
          "name": "stdout",
          "text": [
            "\t eval log_loss: 0.6906\n",
            "\t eval balanced accuracy: 0.5594\n",
            "\t eval roc_auc: 0.5725\n",
            "\t eval pr_auc: 0.5912\n",
            "\t eval precision@10: 0.0029\n",
            "\t eval recall@10: 0.0280\n",
            "\t eval map@10: 0.0054\n",
            "\t eval ndcg@10: 0.0108\n",
            "==============================\n"
          ]
        },
        {
          "output_type": "stream",
          "name": "stderr",
          "text": [
            "train: 100%|██████████| 33/33 [00:00<00:00, 185.86it/s]\n"
          ]
        },
        {
          "output_type": "stream",
          "name": "stdout",
          "text": [
            "Epoch 8 elapsed: 0.184s\n",
            "\t \u001b[32mtrain_loss: 0.6827\u001b[0m\n"
          ]
        },
        {
          "output_type": "stream",
          "name": "stderr",
          "text": [
            "eval_pred: 100%|██████████| 1/1 [00:00<00:00, 326.91it/s]\n",
            "eval_rec: 100%|██████████| 411/411 [00:00<00:00, 620.86it/s]\n"
          ]
        },
        {
          "output_type": "stream",
          "name": "stdout",
          "text": [
            "\t eval log_loss: 0.6878\n",
            "\t eval balanced accuracy: 0.5392\n",
            "\t eval roc_auc: 0.5767\n",
            "\t eval pr_auc: 0.5902\n",
            "\t eval precision@10: 0.0029\n",
            "\t eval recall@10: 0.0280\n",
            "\t eval map@10: 0.0060\n",
            "\t eval ndcg@10: 0.0112\n",
            "==============================\n"
          ]
        },
        {
          "output_type": "stream",
          "name": "stderr",
          "text": [
            "train: 100%|██████████| 33/33 [00:00<00:00, 207.71it/s]\n"
          ]
        },
        {
          "output_type": "stream",
          "name": "stdout",
          "text": [
            "Epoch 9 elapsed: 0.164s\n",
            "\t \u001b[32mtrain_loss: 0.6692\u001b[0m\n"
          ]
        },
        {
          "output_type": "stream",
          "name": "stderr",
          "text": [
            "eval_pred: 100%|██████████| 1/1 [00:00<00:00, 392.76it/s]\n",
            "eval_rec: 100%|██████████| 411/411 [00:00<00:00, 620.42it/s]\n"
          ]
        },
        {
          "output_type": "stream",
          "name": "stdout",
          "text": [
            "\t eval log_loss: 0.6831\n",
            "\t eval balanced accuracy: 0.5527\n",
            "\t eval roc_auc: 0.5794\n",
            "\t eval pr_auc: 0.5951\n",
            "\t eval precision@10: 0.0027\n",
            "\t eval recall@10: 0.0255\n",
            "\t eval map@10: 0.0052\n",
            "\t eval ndcg@10: 0.0100\n",
            "==============================\n"
          ]
        },
        {
          "output_type": "stream",
          "name": "stderr",
          "text": [
            "train: 100%|██████████| 33/33 [00:00<00:00, 194.74it/s]\n"
          ]
        },
        {
          "output_type": "stream",
          "name": "stdout",
          "text": [
            "Epoch 10 elapsed: 0.177s\n",
            "\t \u001b[32mtrain_loss: 0.6452\u001b[0m\n"
          ]
        },
        {
          "output_type": "stream",
          "name": "stderr",
          "text": [
            "eval_pred: 100%|██████████| 1/1 [00:00<00:00, 297.24it/s]\n",
            "eval_rec: 100%|██████████| 411/411 [00:00<00:00, 614.45it/s]\n"
          ]
        },
        {
          "output_type": "stream",
          "name": "stdout",
          "text": [
            "\t eval log_loss: 0.6870\n",
            "\t eval balanced accuracy: 0.5538\n",
            "\t eval roc_auc: 0.5819\n",
            "\t eval pr_auc: 0.5948\n",
            "\t eval precision@10: 0.0022\n",
            "\t eval recall@10: 0.0207\n",
            "\t eval map@10: 0.0043\n",
            "\t eval ndcg@10: 0.0083\n",
            "==============================\n"
          ]
        },
        {
          "output_type": "stream",
          "name": "stderr",
          "text": [
            "train: 100%|██████████| 33/33 [00:00<00:00, 208.31it/s]\n"
          ]
        },
        {
          "output_type": "stream",
          "name": "stdout",
          "text": [
            "Epoch 11 elapsed: 0.166s\n",
            "\t \u001b[32mtrain_loss: 0.6202\u001b[0m\n"
          ]
        },
        {
          "output_type": "stream",
          "name": "stderr",
          "text": [
            "eval_pred: 100%|██████████| 1/1 [00:00<00:00, 250.29it/s]\n",
            "eval_rec: 100%|██████████| 411/411 [00:00<00:00, 629.86it/s]\n"
          ]
        },
        {
          "output_type": "stream",
          "name": "stdout",
          "text": [
            "\t eval log_loss: 0.7097\n",
            "\t eval balanced accuracy: 0.5583\n",
            "\t eval roc_auc: 0.5815\n",
            "\t eval pr_auc: 0.5916\n",
            "\t eval precision@10: 0.0019\n",
            "\t eval recall@10: 0.0182\n",
            "\t eval map@10: 0.0036\n",
            "\t eval ndcg@10: 0.0071\n",
            "==============================\n"
          ]
        },
        {
          "output_type": "stream",
          "name": "stderr",
          "text": [
            "train: 100%|██████████| 33/33 [00:00<00:00, 209.25it/s]\n"
          ]
        },
        {
          "output_type": "stream",
          "name": "stdout",
          "text": [
            "Epoch 12 elapsed: 0.164s\n",
            "\t \u001b[32mtrain_loss: 0.6101\u001b[0m\n"
          ]
        },
        {
          "output_type": "stream",
          "name": "stderr",
          "text": [
            "eval_pred: 100%|██████████| 1/1 [00:00<00:00, 492.00it/s]\n",
            "eval_rec: 100%|██████████| 411/411 [00:00<00:00, 626.63it/s]\n"
          ]
        },
        {
          "output_type": "stream",
          "name": "stdout",
          "text": [
            "\t eval log_loss: 0.7285\n",
            "\t eval balanced accuracy: 0.5482\n",
            "\t eval roc_auc: 0.5775\n",
            "\t eval pr_auc: 0.5824\n",
            "\t eval precision@10: 0.0010\n",
            "\t eval recall@10: 0.0097\n",
            "\t eval map@10: 0.0024\n",
            "\t eval ndcg@10: 0.0041\n",
            "==============================\n"
          ]
        },
        {
          "output_type": "stream",
          "name": "stderr",
          "text": [
            "train: 100%|██████████| 33/33 [00:00<00:00, 216.94it/s]\n"
          ]
        },
        {
          "output_type": "stream",
          "name": "stdout",
          "text": [
            "Epoch 13 elapsed: 0.158s\n",
            "\t \u001b[32mtrain_loss: 0.6024\u001b[0m\n"
          ]
        },
        {
          "output_type": "stream",
          "name": "stderr",
          "text": [
            "eval_pred: 100%|██████████| 1/1 [00:00<00:00, 156.39it/s]\n",
            "eval_rec: 100%|██████████| 411/411 [00:00<00:00, 583.97it/s]\n"
          ]
        },
        {
          "output_type": "stream",
          "name": "stdout",
          "text": [
            "\t eval log_loss: 0.7338\n",
            "\t eval balanced accuracy: 0.5493\n",
            "\t eval roc_auc: 0.5802\n",
            "\t eval pr_auc: 0.5812\n",
            "\t eval precision@10: 0.0010\n",
            "\t eval recall@10: 0.0097\n",
            "\t eval map@10: 0.0026\n",
            "\t eval ndcg@10: 0.0043\n",
            "==============================\n"
          ]
        },
        {
          "output_type": "stream",
          "name": "stderr",
          "text": [
            "train: 100%|██████████| 33/33 [00:00<00:00, 189.69it/s]\n"
          ]
        },
        {
          "output_type": "stream",
          "name": "stdout",
          "text": [
            "Epoch 14 elapsed: 0.192s\n",
            "\t \u001b[32mtrain_loss: 0.5996\u001b[0m\n"
          ]
        },
        {
          "output_type": "stream",
          "name": "stderr",
          "text": [
            "eval_pred: 100%|██████████| 1/1 [00:00<00:00, 335.33it/s]\n",
            "eval_rec: 100%|██████████| 411/411 [00:00<00:00, 536.96it/s]\n"
          ]
        },
        {
          "output_type": "stream",
          "name": "stdout",
          "text": [
            "\t eval log_loss: 0.7388\n",
            "\t eval balanced accuracy: 0.5516\n",
            "\t eval roc_auc: 0.5806\n",
            "\t eval pr_auc: 0.5777\n",
            "\t eval precision@10: 0.0010\n",
            "\t eval recall@10: 0.0097\n",
            "\t eval map@10: 0.0025\n",
            "\t eval ndcg@10: 0.0042\n",
            "==============================\n"
          ]
        },
        {
          "output_type": "stream",
          "name": "stderr",
          "text": [
            "train: 100%|██████████| 33/33 [00:00<00:00, 206.16it/s]\n"
          ]
        },
        {
          "output_type": "stream",
          "name": "stdout",
          "text": [
            "Epoch 15 elapsed: 0.168s\n",
            "\t \u001b[32mtrain_loss: 0.5964\u001b[0m\n"
          ]
        },
        {
          "output_type": "stream",
          "name": "stderr",
          "text": [
            "eval_pred: 100%|██████████| 1/1 [00:00<00:00, 653.42it/s]\n",
            "eval_rec: 100%|██████████| 411/411 [00:00<00:00, 538.39it/s]\n"
          ]
        },
        {
          "output_type": "stream",
          "name": "stdout",
          "text": [
            "\t eval log_loss: 0.7453\n",
            "\t eval balanced accuracy: 0.5605\n",
            "\t eval roc_auc: 0.5802\n",
            "\t eval pr_auc: 0.5753\n",
            "\t eval precision@10: 0.0010\n",
            "\t eval recall@10: 0.0097\n",
            "\t eval map@10: 0.0025\n",
            "\t eval ndcg@10: 0.0042\n",
            "==============================\n"
          ]
        },
        {
          "output_type": "stream",
          "name": "stderr",
          "text": [
            "train: 100%|██████████| 33/33 [00:00<00:00, 214.60it/s]\n"
          ]
        },
        {
          "output_type": "stream",
          "name": "stdout",
          "text": [
            "Epoch 16 elapsed: 0.161s\n",
            "\t \u001b[32mtrain_loss: 0.5935\u001b[0m\n"
          ]
        },
        {
          "output_type": "stream",
          "name": "stderr",
          "text": [
            "eval_pred: 100%|██████████| 1/1 [00:00<00:00, 306.24it/s]\n",
            "eval_rec: 100%|██████████| 411/411 [00:00<00:00, 632.78it/s]\n"
          ]
        },
        {
          "output_type": "stream",
          "name": "stdout",
          "text": [
            "\t eval log_loss: 0.7507\n",
            "\t eval balanced accuracy: 0.5583\n",
            "\t eval roc_auc: 0.5807\n",
            "\t eval pr_auc: 0.5731\n",
            "\t eval precision@10: 0.0010\n",
            "\t eval recall@10: 0.0097\n",
            "\t eval map@10: 0.0024\n",
            "\t eval ndcg@10: 0.0041\n",
            "==============================\n"
          ]
        },
        {
          "output_type": "stream",
          "name": "stderr",
          "text": [
            "train: 100%|██████████| 33/33 [00:00<00:00, 209.41it/s]\n"
          ]
        },
        {
          "output_type": "stream",
          "name": "stdout",
          "text": [
            "Epoch 17 elapsed: 0.165s\n",
            "\t \u001b[32mtrain_loss: 0.5947\u001b[0m\n"
          ]
        },
        {
          "output_type": "stream",
          "name": "stderr",
          "text": [
            "eval_pred: 100%|██████████| 1/1 [00:00<00:00, 276.49it/s]\n",
            "eval_rec: 100%|██████████| 411/411 [00:00<00:00, 633.56it/s]\n"
          ]
        },
        {
          "output_type": "stream",
          "name": "stdout",
          "text": [
            "\t eval log_loss: 0.7573\n",
            "\t eval balanced accuracy: 0.5594\n",
            "\t eval roc_auc: 0.5791\n",
            "\t eval pr_auc: 0.5707\n",
            "\t eval precision@10: 0.0012\n",
            "\t eval recall@10: 0.0122\n",
            "\t eval map@10: 0.0029\n",
            "\t eval ndcg@10: 0.0051\n",
            "==============================\n"
          ]
        },
        {
          "output_type": "stream",
          "name": "stderr",
          "text": [
            "train: 100%|██████████| 33/33 [00:00<00:00, 214.11it/s]\n"
          ]
        },
        {
          "output_type": "stream",
          "name": "stdout",
          "text": [
            "Epoch 18 elapsed: 0.160s\n",
            "\t \u001b[32mtrain_loss: 0.5899\u001b[0m\n"
          ]
        },
        {
          "output_type": "stream",
          "name": "stderr",
          "text": [
            "eval_pred: 100%|██████████| 1/1 [00:00<00:00, 196.32it/s]\n",
            "eval_rec: 100%|██████████| 411/411 [00:00<00:00, 627.83it/s]\n"
          ]
        },
        {
          "output_type": "stream",
          "name": "stdout",
          "text": [
            "\t eval log_loss: 0.7623\n",
            "\t eval balanced accuracy: 0.5617\n",
            "\t eval roc_auc: 0.5797\n",
            "\t eval pr_auc: 0.5696\n",
            "\t eval precision@10: 0.0012\n",
            "\t eval recall@10: 0.0122\n",
            "\t eval map@10: 0.0029\n",
            "\t eval ndcg@10: 0.0051\n",
            "==============================\n"
          ]
        },
        {
          "output_type": "stream",
          "name": "stderr",
          "text": [
            "train: 100%|██████████| 33/33 [00:00<00:00, 183.05it/s]\n"
          ]
        },
        {
          "output_type": "stream",
          "name": "stdout",
          "text": [
            "Epoch 19 elapsed: 0.187s\n",
            "\t \u001b[32mtrain_loss: 0.592\u001b[0m\n"
          ]
        },
        {
          "output_type": "stream",
          "name": "stderr",
          "text": [
            "eval_pred: 100%|██████████| 1/1 [00:00<00:00, 192.03it/s]\n",
            "eval_rec: 100%|██████████| 411/411 [00:00<00:00, 586.75it/s]\n"
          ]
        },
        {
          "output_type": "stream",
          "name": "stdout",
          "text": [
            "\t eval log_loss: 0.7672\n",
            "\t eval balanced accuracy: 0.5549\n",
            "\t eval roc_auc: 0.5788\n",
            "\t eval pr_auc: 0.5665\n",
            "\t eval precision@10: 0.0012\n",
            "\t eval recall@10: 0.0122\n",
            "\t eval map@10: 0.0028\n",
            "\t eval ndcg@10: 0.0049\n",
            "==============================\n"
          ]
        },
        {
          "output_type": "stream",
          "name": "stderr",
          "text": [
            "train: 100%|██████████| 33/33 [00:00<00:00, 193.19it/s]\n"
          ]
        },
        {
          "output_type": "stream",
          "name": "stdout",
          "text": [
            "Epoch 20 elapsed: 0.177s\n",
            "\t \u001b[32mtrain_loss: 0.5849\u001b[0m\n"
          ]
        },
        {
          "output_type": "stream",
          "name": "stderr",
          "text": [
            "eval_pred: 100%|██████████| 1/1 [00:00<00:00, 674.43it/s]\n",
            "eval_rec: 100%|██████████| 411/411 [00:00<00:00, 570.56it/s]\n"
          ]
        },
        {
          "output_type": "stream",
          "name": "stdout",
          "text": [
            "\t eval log_loss: 0.7735\n",
            "\t eval balanced accuracy: 0.5594\n",
            "\t eval roc_auc: 0.5802\n",
            "\t eval pr_auc: 0.5649\n",
            "\t eval precision@10: 0.0012\n",
            "\t eval recall@10: 0.0122\n",
            "\t eval map@10: 0.0029\n",
            "\t eval ndcg@10: 0.0051\n",
            "==============================\n"
          ]
        },
        {
          "output_type": "stream",
          "name": "stderr",
          "text": [
            "train: 100%|██████████| 33/33 [00:00<00:00, 186.74it/s]\n"
          ]
        },
        {
          "output_type": "stream",
          "name": "stdout",
          "text": [
            "Epoch 21 elapsed: 0.186s\n",
            "\t \u001b[32mtrain_loss: 0.5817\u001b[0m\n"
          ]
        },
        {
          "output_type": "stream",
          "name": "stderr",
          "text": [
            "eval_pred: 100%|██████████| 1/1 [00:00<00:00, 616.36it/s]\n",
            "eval_rec: 100%|██████████| 411/411 [00:00<00:00, 606.17it/s]\n"
          ]
        },
        {
          "output_type": "stream",
          "name": "stdout",
          "text": [
            "\t eval log_loss: 0.7842\n",
            "\t eval balanced accuracy: 0.5572\n",
            "\t eval roc_auc: 0.5791\n",
            "\t eval pr_auc: 0.5638\n",
            "\t eval precision@10: 0.0012\n",
            "\t eval recall@10: 0.0122\n",
            "\t eval map@10: 0.0027\n",
            "\t eval ndcg@10: 0.0049\n",
            "==============================\n"
          ]
        },
        {
          "output_type": "stream",
          "name": "stderr",
          "text": [
            "train: 100%|██████████| 33/33 [00:00<00:00, 215.15it/s]\n"
          ]
        },
        {
          "output_type": "stream",
          "name": "stdout",
          "text": [
            "Epoch 22 elapsed: 0.160s\n",
            "\t \u001b[32mtrain_loss: 0.5839\u001b[0m\n"
          ]
        },
        {
          "output_type": "stream",
          "name": "stderr",
          "text": [
            "eval_pred: 100%|██████████| 1/1 [00:00<00:00, 434.73it/s]\n",
            "eval_rec: 100%|██████████| 411/411 [00:00<00:00, 611.42it/s]\n"
          ]
        },
        {
          "output_type": "stream",
          "name": "stdout",
          "text": [
            "\t eval log_loss: 0.7978\n",
            "\t eval balanced accuracy: 0.5583\n",
            "\t eval roc_auc: 0.5801\n",
            "\t eval pr_auc: 0.5624\n",
            "\t eval precision@10: 0.0012\n",
            "\t eval recall@10: 0.0122\n",
            "\t eval map@10: 0.0027\n",
            "\t eval ndcg@10: 0.0049\n",
            "==============================\n"
          ]
        },
        {
          "output_type": "stream",
          "name": "stderr",
          "text": [
            "train: 100%|██████████| 33/33 [00:00<00:00, 215.30it/s]\n"
          ]
        },
        {
          "output_type": "stream",
          "name": "stdout",
          "text": [
            "Epoch 23 elapsed: 0.160s\n",
            "\t \u001b[32mtrain_loss: 0.5827\u001b[0m\n"
          ]
        },
        {
          "output_type": "stream",
          "name": "stderr",
          "text": [
            "eval_pred: 100%|██████████| 1/1 [00:00<00:00, 230.06it/s]\n",
            "eval_rec: 100%|██████████| 411/411 [00:00<00:00, 619.13it/s]\n"
          ]
        },
        {
          "output_type": "stream",
          "name": "stdout",
          "text": [
            "\t eval log_loss: 0.7994\n",
            "\t eval balanced accuracy: 0.5538\n",
            "\t eval roc_auc: 0.5801\n",
            "\t eval pr_auc: 0.5601\n",
            "\t eval precision@10: 0.0012\n",
            "\t eval recall@10: 0.0122\n",
            "\t eval map@10: 0.0027\n",
            "\t eval ndcg@10: 0.0049\n",
            "==============================\n"
          ]
        },
        {
          "output_type": "stream",
          "name": "stderr",
          "text": [
            "train: 100%|██████████| 33/33 [00:00<00:00, 210.90it/s]\n"
          ]
        },
        {
          "output_type": "stream",
          "name": "stdout",
          "text": [
            "Epoch 24 elapsed: 0.163s\n",
            "\t \u001b[32mtrain_loss: 0.5807\u001b[0m\n"
          ]
        },
        {
          "output_type": "stream",
          "name": "stderr",
          "text": [
            "eval_pred: 100%|██████████| 1/1 [00:00<00:00, 293.97it/s]\n",
            "eval_rec: 100%|██████████| 411/411 [00:00<00:00, 632.99it/s]\n"
          ]
        },
        {
          "output_type": "stream",
          "name": "stdout",
          "text": [
            "\t eval log_loss: 0.8032\n",
            "\t eval balanced accuracy: 0.5504\n",
            "\t eval roc_auc: 0.5797\n",
            "\t eval pr_auc: 0.5590\n",
            "\t eval precision@10: 0.0012\n",
            "\t eval recall@10: 0.0122\n",
            "\t eval map@10: 0.0027\n",
            "\t eval ndcg@10: 0.0049\n",
            "==============================\n"
          ]
        },
        {
          "output_type": "stream",
          "name": "stderr",
          "text": [
            "train: 100%|██████████| 33/33 [00:00<00:00, 209.51it/s]\n"
          ]
        },
        {
          "output_type": "stream",
          "name": "stdout",
          "text": [
            "Epoch 25 elapsed: 0.163s\n",
            "\t \u001b[32mtrain_loss: 0.576\u001b[0m\n"
          ]
        },
        {
          "output_type": "stream",
          "name": "stderr",
          "text": [
            "eval_pred: 100%|██████████| 1/1 [00:00<00:00, 399.88it/s]\n",
            "eval_rec: 100%|██████████| 411/411 [00:00<00:00, 633.20it/s]\n"
          ]
        },
        {
          "output_type": "stream",
          "name": "stdout",
          "text": [
            "\t eval log_loss: 0.8104\n",
            "\t eval balanced accuracy: 0.5561\n",
            "\t eval roc_auc: 0.5802\n",
            "\t eval pr_auc: 0.5594\n",
            "\t eval precision@10: 0.0010\n",
            "\t eval recall@10: 0.0097\n",
            "\t eval map@10: 0.0027\n",
            "\t eval ndcg@10: 0.0043\n",
            "==============================\n"
          ]
        },
        {
          "output_type": "stream",
          "name": "stderr",
          "text": [
            "train: 100%|██████████| 33/33 [00:00<00:00, 198.33it/s]\n"
          ]
        },
        {
          "output_type": "stream",
          "name": "stdout",
          "text": [
            "Epoch 26 elapsed: 0.173s\n",
            "\t \u001b[32mtrain_loss: 0.5745\u001b[0m\n"
          ]
        },
        {
          "output_type": "stream",
          "name": "stderr",
          "text": [
            "eval_pred: 100%|██████████| 1/1 [00:00<00:00, 475.49it/s]\n",
            "eval_rec: 100%|██████████| 411/411 [00:00<00:00, 630.05it/s]\n"
          ]
        },
        {
          "output_type": "stream",
          "name": "stdout",
          "text": [
            "\t eval log_loss: 0.8229\n",
            "\t eval balanced accuracy: 0.5527\n",
            "\t eval roc_auc: 0.5824\n",
            "\t eval pr_auc: 0.5601\n",
            "\t eval precision@10: 0.0010\n",
            "\t eval recall@10: 0.0097\n",
            "\t eval map@10: 0.0026\n",
            "\t eval ndcg@10: 0.0042\n",
            "==============================\n"
          ]
        },
        {
          "output_type": "stream",
          "name": "stderr",
          "text": [
            "train: 100%|██████████| 33/33 [00:00<00:00, 199.70it/s]\n"
          ]
        },
        {
          "output_type": "stream",
          "name": "stdout",
          "text": [
            "Epoch 27 elapsed: 0.172s\n",
            "\t \u001b[32mtrain_loss: 0.5745\u001b[0m\n"
          ]
        },
        {
          "output_type": "stream",
          "name": "stderr",
          "text": [
            "eval_pred: 100%|██████████| 1/1 [00:00<00:00, 331.54it/s]\n",
            "eval_rec: 100%|██████████| 411/411 [00:00<00:00, 621.66it/s]\n"
          ]
        },
        {
          "output_type": "stream",
          "name": "stdout",
          "text": [
            "\t eval log_loss: 0.8271\n",
            "\t eval balanced accuracy: 0.5594\n",
            "\t eval roc_auc: 0.5820\n",
            "\t eval pr_auc: 0.5598\n",
            "\t eval precision@10: 0.0010\n",
            "\t eval recall@10: 0.0097\n",
            "\t eval map@10: 0.0026\n",
            "\t eval ndcg@10: 0.0043\n",
            "==============================\n"
          ]
        },
        {
          "output_type": "stream",
          "name": "stderr",
          "text": [
            "train: 100%|██████████| 33/33 [00:00<00:00, 202.66it/s]\n"
          ]
        },
        {
          "output_type": "stream",
          "name": "stdout",
          "text": [
            "Epoch 28 elapsed: 0.170s\n",
            "\t \u001b[32mtrain_loss: 0.5726\u001b[0m\n"
          ]
        },
        {
          "output_type": "stream",
          "name": "stderr",
          "text": [
            "eval_pred: 100%|██████████| 1/1 [00:00<00:00, 217.15it/s]\n",
            "eval_rec: 100%|██████████| 411/411 [00:00<00:00, 619.93it/s]\n"
          ]
        },
        {
          "output_type": "stream",
          "name": "stdout",
          "text": [
            "\t eval log_loss: 0.8326\n",
            "\t eval balanced accuracy: 0.5527\n",
            "\t eval roc_auc: 0.5825\n",
            "\t eval pr_auc: 0.5593\n",
            "\t eval precision@10: 0.0010\n",
            "\t eval recall@10: 0.0097\n",
            "\t eval map@10: 0.0026\n",
            "\t eval ndcg@10: 0.0042\n",
            "==============================\n"
          ]
        },
        {
          "output_type": "stream",
          "name": "stderr",
          "text": [
            "train: 100%|██████████| 33/33 [00:00<00:00, 215.49it/s]\n"
          ]
        },
        {
          "output_type": "stream",
          "name": "stdout",
          "text": [
            "Epoch 29 elapsed: 0.159s\n",
            "\t \u001b[32mtrain_loss: 0.5743\u001b[0m\n"
          ]
        },
        {
          "output_type": "stream",
          "name": "stderr",
          "text": [
            "eval_pred: 100%|██████████| 1/1 [00:00<00:00, 313.24it/s]\n",
            "eval_rec: 100%|██████████| 411/411 [00:00<00:00, 633.67it/s]\n"
          ]
        },
        {
          "output_type": "stream",
          "name": "stdout",
          "text": [
            "\t eval log_loss: 0.8362\n",
            "\t eval balanced accuracy: 0.5538\n",
            "\t eval roc_auc: 0.5808\n",
            "\t eval pr_auc: 0.5580\n",
            "\t eval precision@10: 0.0010\n",
            "\t eval recall@10: 0.0097\n",
            "\t eval map@10: 0.0023\n",
            "\t eval ndcg@10: 0.0040\n",
            "==============================\n"
          ]
        },
        {
          "output_type": "stream",
          "name": "stderr",
          "text": [
            "train: 100%|██████████| 33/33 [00:00<00:00, 208.93it/s]\n"
          ]
        },
        {
          "output_type": "stream",
          "name": "stdout",
          "text": [
            "Epoch 30 elapsed: 0.164s\n",
            "\t \u001b[32mtrain_loss: 0.5752\u001b[0m\n"
          ]
        },
        {
          "output_type": "stream",
          "name": "stderr",
          "text": [
            "eval_pred: 100%|██████████| 1/1 [00:00<00:00, 622.58it/s]\n",
            "eval_rec: 100%|██████████| 411/411 [00:00<00:00, 641.01it/s]\n"
          ]
        },
        {
          "output_type": "stream",
          "name": "stdout",
          "text": [
            "\t eval log_loss: 0.8436\n",
            "\t eval balanced accuracy: 0.5504\n",
            "\t eval roc_auc: 0.5812\n",
            "\t eval pr_auc: 0.5592\n",
            "\t eval precision@10: 0.0010\n",
            "\t eval recall@10: 0.0097\n",
            "\t eval map@10: 0.0023\n",
            "\t eval ndcg@10: 0.0040\n",
            "==============================\n"
          ]
        }
      ]
    },
    {
      "cell_type": "code",
      "source": [
        "print( \"recommendation: \",\n",
        "        deepfm.recommend_user(\n",
        "            user=65457,\n",
        "            n_rec=7,\n",
        "            inner_id=False,\n",
        "            cold_start=\"average\",\n",
        "            user_feats=pd.Series({\"USER_STATE\": \"GA\", \"USER_TIMEZONE\": \"Mountain\", \"Trip Type\": 1}),\n",
        "           \n",
        "        ))\n",
        "    "
      ],
      "metadata": {
        "colab": {
          "base_uri": "https://localhost:8080/"
        },
        "id": "eeJ3pgq4Okh6",
        "outputId": "a526ef44-25ad-407c-a6a1-80cdeb7c13ee"
      },
      "id": "eeJ3pgq4Okh6",
      "execution_count": null,
      "outputs": [
        {
          "output_type": "stream",
          "name": "stdout",
          "text": [
            "recommendation:  [(1176838, 0.99383575), (98674, 0.9916346), (98827, 0.990902), (217517, 0.99076664), (570279, 0.9906881), (299922, 0.99065405), (1200984, 0.99055)]\n"
          ]
        }
      ]
    }
  ],
  "metadata": {
    "kernelspec": {
      "display_name": "Python 3",
      "language": "python",
      "name": "python3"
    },
    "language_info": {
      "codemirror_mode": {
        "name": "ipython",
        "version": 3
      },
      "file_extension": ".py",
      "mimetype": "text/x-python",
      "name": "python",
      "nbconvert_exporter": "python",
      "pygments_lexer": "ipython3",
      "version": "3.6.5"
    },
    "colab": {
      "provenance": [],
      "collapsed_sections": [
        "ohsC49cVr-Ox"
      ],
      "machine_shape": "hm"
    },
    "gpuClass": "standard",
    "accelerator": "GPU"
  },
  "nbformat": 4,
  "nbformat_minor": 5
}