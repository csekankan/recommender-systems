{
  "cells": [
    {
      "cell_type": "code",
      "source": [
        "gpu_info = !nvidia-smi\n",
        "gpu_info = '\\n'.join(gpu_info)\n",
        "if gpu_info.find('failed') >= 0:\n",
        "  print('Not connected to a GPU')\n",
        "else:\n",
        "  print(gpu_info)"
      ],
      "metadata": {
        "colab": {
          "base_uri": "https://localhost:8080/"
        },
        "id": "_QphkgcDcwxr",
        "outputId": "bf915dfa-5acd-45b8-f7d5-e1385eb38065"
      },
      "id": "_QphkgcDcwxr",
      "execution_count": null,
      "outputs": [
        {
          "output_type": "stream",
          "name": "stdout",
          "text": [
            "Sun Feb  5 11:10:44 2023       \n",
            "+-----------------------------------------------------------------------------+\n",
            "| NVIDIA-SMI 510.47.03    Driver Version: 510.47.03    CUDA Version: 11.6     |\n",
            "|-------------------------------+----------------------+----------------------+\n",
            "| GPU  Name        Persistence-M| Bus-Id        Disp.A | Volatile Uncorr. ECC |\n",
            "| Fan  Temp  Perf  Pwr:Usage/Cap|         Memory-Usage | GPU-Util  Compute M. |\n",
            "|                               |                      |               MIG M. |\n",
            "|===============================+======================+======================|\n",
            "|   0  Tesla T4            Off  | 00000000:00:04.0 Off |                    0 |\n",
            "| N/A   66C    P0    30W /  70W |      0MiB / 15360MiB |      0%      Default |\n",
            "|                               |                      |                  N/A |\n",
            "+-------------------------------+----------------------+----------------------+\n",
            "                                                                               \n",
            "+-----------------------------------------------------------------------------+\n",
            "| Processes:                                                                  |\n",
            "|  GPU   GI   CI        PID   Type   Process name                  GPU Memory |\n",
            "|        ID   ID                                                   Usage      |\n",
            "|=============================================================================|\n",
            "|  No running processes found                                                 |\n",
            "+-----------------------------------------------------------------------------+\n"
          ]
        }
      ]
    },
    {
      "cell_type": "code",
      "source": [
        "from psutil import virtual_memory\n",
        "ram_gb = virtual_memory().total / 1e9\n",
        "print('Your runtime has {:.1f} gigabytes of available RAM\\n'.format(ram_gb))\n",
        "\n",
        "if ram_gb < 20:\n",
        "  print('Not using a high-RAM runtime')\n",
        "else:\n",
        "  print('You are using a high-RAM runtime!')"
      ],
      "metadata": {
        "colab": {
          "base_uri": "https://localhost:8080/"
        },
        "id": "Kq_W9JJDczFA",
        "outputId": "2a5d165b-c894-4e5e-cc99-c9f223ee4d51"
      },
      "id": "Kq_W9JJDczFA",
      "execution_count": null,
      "outputs": [
        {
          "output_type": "stream",
          "name": "stdout",
          "text": [
            "Your runtime has 27.3 gigabytes of available RAM\n",
            "\n",
            "You are using a high-RAM runtime!\n"
          ]
        }
      ]
    },
    {
      "cell_type": "code",
      "execution_count": null,
      "id": "84eddad3",
      "metadata": {
        "id": "84eddad3"
      },
      "outputs": [],
      "source": [
        "from datetime import datetime\n",
        "import os\n",
        "import matplotlib\n",
        "import pandas as pd\n",
        "import numpy as np\n",
        "import matplotlib.pyplot as plt\n",
        "import seaborn as sns\n",
        "sns.set_style('whitegrid')\n",
        "\n",
        "from scipy import sparse\n",
        "from scipy.sparse import csc_matrix\n",
        "from sklearn.decomposition import TruncatedSVD\n",
        "\n",
        "np.random.seed(0)"
      ]
    },
    {
      "cell_type": "markdown",
      "id": "85495bf1",
      "metadata": {
        "id": "85495bf1"
      },
      "source": [
        "##  data set\n"
      ]
    },
    {
      "cell_type": "markdown",
      "metadata": {
        "id": "ohsC49cVr-Ox"
      },
      "source": [
        "### Setup and Load dataset"
      ],
      "id": "ohsC49cVr-Ox"
    },
    {
      "cell_type": "code",
      "execution_count": null,
      "metadata": {
        "id": "DjzX44HQr-Ox"
      },
      "outputs": [],
      "source": [
        "\n",
        "import pandas as pd\n",
        "import os\n",
        "from os.path import exists\n",
        "import zipfile\n",
        "import numpy as np"
      ],
      "id": "DjzX44HQr-Ox"
    },
    {
      "cell_type": "code",
      "source": [
        "!pip install gdown"
      ],
      "metadata": {
        "colab": {
          "base_uri": "https://localhost:8080/"
        },
        "outputId": "7edc9ed8-5bfb-4a94-ff8e-ffe3807c5d73",
        "id": "woePr-2jr-Ox"
      },
      "execution_count": null,
      "outputs": [
        {
          "output_type": "stream",
          "name": "stdout",
          "text": [
            "Looking in indexes: https://pypi.org/simple, https://us-python.pkg.dev/colab-wheels/public/simple/\n",
            "Requirement already satisfied: gdown in /usr/local/lib/python3.8/dist-packages (4.4.0)\n",
            "Requirement already satisfied: requests[socks] in /usr/local/lib/python3.8/dist-packages (from gdown) (2.25.1)\n",
            "Requirement already satisfied: tqdm in /usr/local/lib/python3.8/dist-packages (from gdown) (4.64.1)\n",
            "Requirement already satisfied: filelock in /usr/local/lib/python3.8/dist-packages (from gdown) (3.9.0)\n",
            "Requirement already satisfied: beautifulsoup4 in /usr/local/lib/python3.8/dist-packages (from gdown) (4.6.3)\n",
            "Requirement already satisfied: six in /usr/local/lib/python3.8/dist-packages (from gdown) (1.15.0)\n",
            "Requirement already satisfied: idna<3,>=2.5 in /usr/local/lib/python3.8/dist-packages (from requests[socks]->gdown) (2.10)\n",
            "Requirement already satisfied: chardet<5,>=3.0.2 in /usr/local/lib/python3.8/dist-packages (from requests[socks]->gdown) (4.0.0)\n",
            "Requirement already satisfied: urllib3<1.27,>=1.21.1 in /usr/local/lib/python3.8/dist-packages (from requests[socks]->gdown) (1.24.3)\n",
            "Requirement already satisfied: certifi>=2017.4.17 in /usr/local/lib/python3.8/dist-packages (from requests[socks]->gdown) (2022.12.7)\n",
            "Requirement already satisfied: PySocks!=1.5.7,>=1.5.6 in /usr/local/lib/python3.8/dist-packages (from requests[socks]->gdown) (1.7.1)\n"
          ]
        }
      ],
      "id": "woePr-2jr-Ox"
    },
    {
      "cell_type": "code",
      "source": [
        "!gdown https://drive.google.com/uc?id=1IaTQjGzKzbbu6uoISwTx_J4XuJLTwr52"
      ],
      "metadata": {
        "colab": {
          "base_uri": "https://localhost:8080/"
        },
        "outputId": "58c47465-24e6-45d8-8629-78af79fa22b3",
        "id": "5YlrLKiBr-Oy"
      },
      "execution_count": null,
      "outputs": [
        {
          "output_type": "stream",
          "name": "stdout",
          "text": [
            "Downloading...\n",
            "From: https://drive.google.com/uc?id=1IaTQjGzKzbbu6uoISwTx_J4XuJLTwr52\n",
            "To: /content/Mobile_Frappe.zip\n",
            "\r  0% 0.00/3.37M [00:00<?, ?B/s]\r100% 3.37M/3.37M [00:00<00:00, 264MB/s]\n"
          ]
        }
      ],
      "id": "5YlrLKiBr-Oy"
    },
    {
      "cell_type": "code",
      "source": [
        "!unzip \"Mobile_Frappe.zip\"  -d  \"/content\""
      ],
      "metadata": {
        "id": "zVe-QzFtyZcR",
        "colab": {
          "base_uri": "https://localhost:8080/"
        },
        "outputId": "f3f8598e-5d6b-4775-eb18-480560be62d6"
      },
      "execution_count": null,
      "outputs": [
        {
          "output_type": "stream",
          "name": "stdout",
          "text": [
            "Archive:  Mobile_Frappe.zip\n",
            "replace /content/Mobile_Frappe/frappe/.DS_Store? [y]es, [n]o, [A]ll, [N]one, [r]ename: A\n",
            "  inflating: /content/Mobile_Frappe/frappe/.DS_Store  \n",
            "  inflating: /content/Mobile_Frappe/frappe/.ipynb_checkpoints/stats-checkpoint.ipynb  \n",
            "  inflating: /content/Mobile_Frappe/frappe/frappe.csv  \n",
            "  inflating: /content/Mobile_Frappe/frappe/meta.csv  \n",
            "  inflating: /content/Mobile_Frappe/frappe/stats.ipynb  \n",
            "  inflating: /content/Mobile_Frappe/README.txt  \n"
          ]
        }
      ],
      "id": "zVe-QzFtyZcR"
    },
    {
      "cell_type": "code",
      "source": [
        "import pandas\n",
        "rating_df = pandas.read_csv('Mobile_Frappe/frappe/frappe.csv', sep=\"\\t\")\n",
        "rating_df.head()"
      ],
      "metadata": {
        "colab": {
          "base_uri": "https://localhost:8080/",
          "height": 206
        },
        "id": "Vqyh5GsmRsZJ",
        "outputId": "7d3ac107-4c66-4db6-ca75-c4a93b6a93b2"
      },
      "id": "Vqyh5GsmRsZJ",
      "execution_count": null,
      "outputs": [
        {
          "output_type": "execute_result",
          "data": {
            "text/plain": [
              "   user  item  cnt    daytime   weekday isweekend homework  cost  weather  \\\n",
              "0     0     0    1    morning    sunday   weekend  unknown  free    sunny   \n",
              "1     1     1    7  afternoon  saturday   weekend  unknown  free   cloudy   \n",
              "2     2     2    6    evening    monday   workday  unknown  free   cloudy   \n",
              "3     3     3    1     sunset  thursday   workday  unknown  free  unknown   \n",
              "4     4     4  428      night  thursday   workday     home  free    sunny   \n",
              "\n",
              "         country  city  \n",
              "0  United States     0  \n",
              "1          Spain     0  \n",
              "2          Spain   369  \n",
              "3  United States  1028  \n",
              "4    Switzerland   147  "
            ],
            "text/html": [
              "\n",
              "  <div id=\"df-dffd73e3-f236-498b-ac06-3cbdf8c62fe5\">\n",
              "    <div class=\"colab-df-container\">\n",
              "      <div>\n",
              "<style scoped>\n",
              "    .dataframe tbody tr th:only-of-type {\n",
              "        vertical-align: middle;\n",
              "    }\n",
              "\n",
              "    .dataframe tbody tr th {\n",
              "        vertical-align: top;\n",
              "    }\n",
              "\n",
              "    .dataframe thead th {\n",
              "        text-align: right;\n",
              "    }\n",
              "</style>\n",
              "<table border=\"1\" class=\"dataframe\">\n",
              "  <thead>\n",
              "    <tr style=\"text-align: right;\">\n",
              "      <th></th>\n",
              "      <th>user</th>\n",
              "      <th>item</th>\n",
              "      <th>cnt</th>\n",
              "      <th>daytime</th>\n",
              "      <th>weekday</th>\n",
              "      <th>isweekend</th>\n",
              "      <th>homework</th>\n",
              "      <th>cost</th>\n",
              "      <th>weather</th>\n",
              "      <th>country</th>\n",
              "      <th>city</th>\n",
              "    </tr>\n",
              "  </thead>\n",
              "  <tbody>\n",
              "    <tr>\n",
              "      <th>0</th>\n",
              "      <td>0</td>\n",
              "      <td>0</td>\n",
              "      <td>1</td>\n",
              "      <td>morning</td>\n",
              "      <td>sunday</td>\n",
              "      <td>weekend</td>\n",
              "      <td>unknown</td>\n",
              "      <td>free</td>\n",
              "      <td>sunny</td>\n",
              "      <td>United States</td>\n",
              "      <td>0</td>\n",
              "    </tr>\n",
              "    <tr>\n",
              "      <th>1</th>\n",
              "      <td>1</td>\n",
              "      <td>1</td>\n",
              "      <td>7</td>\n",
              "      <td>afternoon</td>\n",
              "      <td>saturday</td>\n",
              "      <td>weekend</td>\n",
              "      <td>unknown</td>\n",
              "      <td>free</td>\n",
              "      <td>cloudy</td>\n",
              "      <td>Spain</td>\n",
              "      <td>0</td>\n",
              "    </tr>\n",
              "    <tr>\n",
              "      <th>2</th>\n",
              "      <td>2</td>\n",
              "      <td>2</td>\n",
              "      <td>6</td>\n",
              "      <td>evening</td>\n",
              "      <td>monday</td>\n",
              "      <td>workday</td>\n",
              "      <td>unknown</td>\n",
              "      <td>free</td>\n",
              "      <td>cloudy</td>\n",
              "      <td>Spain</td>\n",
              "      <td>369</td>\n",
              "    </tr>\n",
              "    <tr>\n",
              "      <th>3</th>\n",
              "      <td>3</td>\n",
              "      <td>3</td>\n",
              "      <td>1</td>\n",
              "      <td>sunset</td>\n",
              "      <td>thursday</td>\n",
              "      <td>workday</td>\n",
              "      <td>unknown</td>\n",
              "      <td>free</td>\n",
              "      <td>unknown</td>\n",
              "      <td>United States</td>\n",
              "      <td>1028</td>\n",
              "    </tr>\n",
              "    <tr>\n",
              "      <th>4</th>\n",
              "      <td>4</td>\n",
              "      <td>4</td>\n",
              "      <td>428</td>\n",
              "      <td>night</td>\n",
              "      <td>thursday</td>\n",
              "      <td>workday</td>\n",
              "      <td>home</td>\n",
              "      <td>free</td>\n",
              "      <td>sunny</td>\n",
              "      <td>Switzerland</td>\n",
              "      <td>147</td>\n",
              "    </tr>\n",
              "  </tbody>\n",
              "</table>\n",
              "</div>\n",
              "      <button class=\"colab-df-convert\" onclick=\"convertToInteractive('df-dffd73e3-f236-498b-ac06-3cbdf8c62fe5')\"\n",
              "              title=\"Convert this dataframe to an interactive table.\"\n",
              "              style=\"display:none;\">\n",
              "        \n",
              "  <svg xmlns=\"http://www.w3.org/2000/svg\" height=\"24px\"viewBox=\"0 0 24 24\"\n",
              "       width=\"24px\">\n",
              "    <path d=\"M0 0h24v24H0V0z\" fill=\"none\"/>\n",
              "    <path d=\"M18.56 5.44l.94 2.06.94-2.06 2.06-.94-2.06-.94-.94-2.06-.94 2.06-2.06.94zm-11 1L8.5 8.5l.94-2.06 2.06-.94-2.06-.94L8.5 2.5l-.94 2.06-2.06.94zm10 10l.94 2.06.94-2.06 2.06-.94-2.06-.94-.94-2.06-.94 2.06-2.06.94z\"/><path d=\"M17.41 7.96l-1.37-1.37c-.4-.4-.92-.59-1.43-.59-.52 0-1.04.2-1.43.59L10.3 9.45l-7.72 7.72c-.78.78-.78 2.05 0 2.83L4 21.41c.39.39.9.59 1.41.59.51 0 1.02-.2 1.41-.59l7.78-7.78 2.81-2.81c.8-.78.8-2.07 0-2.86zM5.41 20L4 18.59l7.72-7.72 1.47 1.35L5.41 20z\"/>\n",
              "  </svg>\n",
              "      </button>\n",
              "      \n",
              "  <style>\n",
              "    .colab-df-container {\n",
              "      display:flex;\n",
              "      flex-wrap:wrap;\n",
              "      gap: 12px;\n",
              "    }\n",
              "\n",
              "    .colab-df-convert {\n",
              "      background-color: #E8F0FE;\n",
              "      border: none;\n",
              "      border-radius: 50%;\n",
              "      cursor: pointer;\n",
              "      display: none;\n",
              "      fill: #1967D2;\n",
              "      height: 32px;\n",
              "      padding: 0 0 0 0;\n",
              "      width: 32px;\n",
              "    }\n",
              "\n",
              "    .colab-df-convert:hover {\n",
              "      background-color: #E2EBFA;\n",
              "      box-shadow: 0px 1px 2px rgba(60, 64, 67, 0.3), 0px 1px 3px 1px rgba(60, 64, 67, 0.15);\n",
              "      fill: #174EA6;\n",
              "    }\n",
              "\n",
              "    [theme=dark] .colab-df-convert {\n",
              "      background-color: #3B4455;\n",
              "      fill: #D2E3FC;\n",
              "    }\n",
              "\n",
              "    [theme=dark] .colab-df-convert:hover {\n",
              "      background-color: #434B5C;\n",
              "      box-shadow: 0px 1px 3px 1px rgba(0, 0, 0, 0.15);\n",
              "      filter: drop-shadow(0px 1px 2px rgba(0, 0, 0, 0.3));\n",
              "      fill: #FFFFFF;\n",
              "    }\n",
              "  </style>\n",
              "\n",
              "      <script>\n",
              "        const buttonEl =\n",
              "          document.querySelector('#df-dffd73e3-f236-498b-ac06-3cbdf8c62fe5 button.colab-df-convert');\n",
              "        buttonEl.style.display =\n",
              "          google.colab.kernel.accessAllowed ? 'block' : 'none';\n",
              "\n",
              "        async function convertToInteractive(key) {\n",
              "          const element = document.querySelector('#df-dffd73e3-f236-498b-ac06-3cbdf8c62fe5');\n",
              "          const dataTable =\n",
              "            await google.colab.kernel.invokeFunction('convertToInteractive',\n",
              "                                                     [key], {});\n",
              "          if (!dataTable) return;\n",
              "\n",
              "          const docLinkHtml = 'Like what you see? Visit the ' +\n",
              "            '<a target=\"_blank\" href=https://colab.research.google.com/notebooks/data_table.ipynb>data table notebook</a>'\n",
              "            + ' to learn more about interactive tables.';\n",
              "          element.innerHTML = '';\n",
              "          dataTable['output_type'] = 'display_data';\n",
              "          await google.colab.output.renderOutput(dataTable, element);\n",
              "          const docLink = document.createElement('div');\n",
              "          docLink.innerHTML = docLinkHtml;\n",
              "          element.appendChild(docLink);\n",
              "        }\n",
              "      </script>\n",
              "    </div>\n",
              "  </div>\n",
              "  "
            ]
          },
          "metadata": {},
          "execution_count": 6
        }
      ]
    },
    {
      "cell_type": "code",
      "source": [
        "item_df = pandas.read_csv('Mobile_Frappe/frappe/meta.csv', sep=\"\\t\")\n",
        "item_df.head(2)"
      ],
      "metadata": {
        "colab": {
          "base_uri": "https://localhost:8080/",
          "height": 315
        },
        "id": "Ss1peB4SShHx",
        "outputId": "184fc17b-5abc-49f4-e83f-b7ec91fd8aee"
      },
      "id": "Ss1peB4SShHx",
      "execution_count": null,
      "outputs": [
        {
          "output_type": "execute_result",
          "data": {
            "text/plain": [
              "   item                                package          category  \\\n",
              "0     0                              com.anydo      Productivity   \n",
              "1     1  com.yahoo.mobile.client.android.yahoo  News & Magazines   \n",
              "\n",
              "               downloads    developer  \\\n",
              "0  1,000,000 - 5,000,000       Any.DO   \n",
              "1  1,000,000 - 5,000,000  Yahoo! Inc.   \n",
              "\n",
              "                                                icon language  \\\n",
              "0  http://d2lh3rxs7crswz.cloudfront.net/com.anydo...       en   \n",
              "1  http://d2lh3rxs7crswz.cloudfront.net/com.yahoo...       en   \n",
              "\n",
              "                                         description  \\\n",
              "0  Meet Any.DO, the best way to-do To-do's on And...   \n",
              "1  With Yahoo! for Android, you’ll stay connected...   \n",
              "\n",
              "                        name price rating  \\\n",
              "0  Any.DO To-do & Tasks List  Free    4.5   \n",
              "1                     Yahoo!  Free    4.2   \n",
              "\n",
              "                                          short desc  \n",
              "0  Any.DO helps you remember everything you have ...  \n",
              "1  With Yahoo! for Android, you’ll stay connected...  "
            ],
            "text/html": [
              "\n",
              "  <div id=\"df-abb2b2a7-980d-4e1e-ada4-d2089352f7f0\">\n",
              "    <div class=\"colab-df-container\">\n",
              "      <div>\n",
              "<style scoped>\n",
              "    .dataframe tbody tr th:only-of-type {\n",
              "        vertical-align: middle;\n",
              "    }\n",
              "\n",
              "    .dataframe tbody tr th {\n",
              "        vertical-align: top;\n",
              "    }\n",
              "\n",
              "    .dataframe thead th {\n",
              "        text-align: right;\n",
              "    }\n",
              "</style>\n",
              "<table border=\"1\" class=\"dataframe\">\n",
              "  <thead>\n",
              "    <tr style=\"text-align: right;\">\n",
              "      <th></th>\n",
              "      <th>item</th>\n",
              "      <th>package</th>\n",
              "      <th>category</th>\n",
              "      <th>downloads</th>\n",
              "      <th>developer</th>\n",
              "      <th>icon</th>\n",
              "      <th>language</th>\n",
              "      <th>description</th>\n",
              "      <th>name</th>\n",
              "      <th>price</th>\n",
              "      <th>rating</th>\n",
              "      <th>short desc</th>\n",
              "    </tr>\n",
              "  </thead>\n",
              "  <tbody>\n",
              "    <tr>\n",
              "      <th>0</th>\n",
              "      <td>0</td>\n",
              "      <td>com.anydo</td>\n",
              "      <td>Productivity</td>\n",
              "      <td>1,000,000 - 5,000,000</td>\n",
              "      <td>Any.DO</td>\n",
              "      <td>http://d2lh3rxs7crswz.cloudfront.net/com.anydo...</td>\n",
              "      <td>en</td>\n",
              "      <td>Meet Any.DO, the best way to-do To-do's on And...</td>\n",
              "      <td>Any.DO To-do &amp; Tasks List</td>\n",
              "      <td>Free</td>\n",
              "      <td>4.5</td>\n",
              "      <td>Any.DO helps you remember everything you have ...</td>\n",
              "    </tr>\n",
              "    <tr>\n",
              "      <th>1</th>\n",
              "      <td>1</td>\n",
              "      <td>com.yahoo.mobile.client.android.yahoo</td>\n",
              "      <td>News &amp; Magazines</td>\n",
              "      <td>1,000,000 - 5,000,000</td>\n",
              "      <td>Yahoo! Inc.</td>\n",
              "      <td>http://d2lh3rxs7crswz.cloudfront.net/com.yahoo...</td>\n",
              "      <td>en</td>\n",
              "      <td>With Yahoo! for Android, you’ll stay connected...</td>\n",
              "      <td>Yahoo!</td>\n",
              "      <td>Free</td>\n",
              "      <td>4.2</td>\n",
              "      <td>With Yahoo! for Android, you’ll stay connected...</td>\n",
              "    </tr>\n",
              "  </tbody>\n",
              "</table>\n",
              "</div>\n",
              "      <button class=\"colab-df-convert\" onclick=\"convertToInteractive('df-abb2b2a7-980d-4e1e-ada4-d2089352f7f0')\"\n",
              "              title=\"Convert this dataframe to an interactive table.\"\n",
              "              style=\"display:none;\">\n",
              "        \n",
              "  <svg xmlns=\"http://www.w3.org/2000/svg\" height=\"24px\"viewBox=\"0 0 24 24\"\n",
              "       width=\"24px\">\n",
              "    <path d=\"M0 0h24v24H0V0z\" fill=\"none\"/>\n",
              "    <path d=\"M18.56 5.44l.94 2.06.94-2.06 2.06-.94-2.06-.94-.94-2.06-.94 2.06-2.06.94zm-11 1L8.5 8.5l.94-2.06 2.06-.94-2.06-.94L8.5 2.5l-.94 2.06-2.06.94zm10 10l.94 2.06.94-2.06 2.06-.94-2.06-.94-.94-2.06-.94 2.06-2.06.94z\"/><path d=\"M17.41 7.96l-1.37-1.37c-.4-.4-.92-.59-1.43-.59-.52 0-1.04.2-1.43.59L10.3 9.45l-7.72 7.72c-.78.78-.78 2.05 0 2.83L4 21.41c.39.39.9.59 1.41.59.51 0 1.02-.2 1.41-.59l7.78-7.78 2.81-2.81c.8-.78.8-2.07 0-2.86zM5.41 20L4 18.59l7.72-7.72 1.47 1.35L5.41 20z\"/>\n",
              "  </svg>\n",
              "      </button>\n",
              "      \n",
              "  <style>\n",
              "    .colab-df-container {\n",
              "      display:flex;\n",
              "      flex-wrap:wrap;\n",
              "      gap: 12px;\n",
              "    }\n",
              "\n",
              "    .colab-df-convert {\n",
              "      background-color: #E8F0FE;\n",
              "      border: none;\n",
              "      border-radius: 50%;\n",
              "      cursor: pointer;\n",
              "      display: none;\n",
              "      fill: #1967D2;\n",
              "      height: 32px;\n",
              "      padding: 0 0 0 0;\n",
              "      width: 32px;\n",
              "    }\n",
              "\n",
              "    .colab-df-convert:hover {\n",
              "      background-color: #E2EBFA;\n",
              "      box-shadow: 0px 1px 2px rgba(60, 64, 67, 0.3), 0px 1px 3px 1px rgba(60, 64, 67, 0.15);\n",
              "      fill: #174EA6;\n",
              "    }\n",
              "\n",
              "    [theme=dark] .colab-df-convert {\n",
              "      background-color: #3B4455;\n",
              "      fill: #D2E3FC;\n",
              "    }\n",
              "\n",
              "    [theme=dark] .colab-df-convert:hover {\n",
              "      background-color: #434B5C;\n",
              "      box-shadow: 0px 1px 3px 1px rgba(0, 0, 0, 0.15);\n",
              "      filter: drop-shadow(0px 1px 2px rgba(0, 0, 0, 0.3));\n",
              "      fill: #FFFFFF;\n",
              "    }\n",
              "  </style>\n",
              "\n",
              "      <script>\n",
              "        const buttonEl =\n",
              "          document.querySelector('#df-abb2b2a7-980d-4e1e-ada4-d2089352f7f0 button.colab-df-convert');\n",
              "        buttonEl.style.display =\n",
              "          google.colab.kernel.accessAllowed ? 'block' : 'none';\n",
              "\n",
              "        async function convertToInteractive(key) {\n",
              "          const element = document.querySelector('#df-abb2b2a7-980d-4e1e-ada4-d2089352f7f0');\n",
              "          const dataTable =\n",
              "            await google.colab.kernel.invokeFunction('convertToInteractive',\n",
              "                                                     [key], {});\n",
              "          if (!dataTable) return;\n",
              "\n",
              "          const docLinkHtml = 'Like what you see? Visit the ' +\n",
              "            '<a target=\"_blank\" href=https://colab.research.google.com/notebooks/data_table.ipynb>data table notebook</a>'\n",
              "            + ' to learn more about interactive tables.';\n",
              "          element.innerHTML = '';\n",
              "          dataTable['output_type'] = 'display_data';\n",
              "          await google.colab.output.renderOutput(dataTable, element);\n",
              "          const docLink = document.createElement('div');\n",
              "          docLink.innerHTML = docLinkHtml;\n",
              "          element.appendChild(docLink);\n",
              "        }\n",
              "      </script>\n",
              "    </div>\n",
              "  </div>\n",
              "  "
            ]
          },
          "metadata": {},
          "execution_count": 7
        }
      ]
    },
    {
      "cell_type": "code",
      "source": [
        "item_df=item_df[['item']]"
      ],
      "metadata": {
        "id": "7EYDKoi4Tjxw"
      },
      "id": "7EYDKoi4Tjxw",
      "execution_count": null,
      "outputs": []
    },
    {
      "cell_type": "code",
      "source": [
        "rating_df = pd.merge(rating_df, item_df,  how='left', left_on=['item'], right_on = ['item'])\n"
      ],
      "metadata": {
        "id": "kK6n1KszTt5c"
      },
      "id": "kK6n1KszTt5c",
      "execution_count": null,
      "outputs": []
    },
    {
      "cell_type": "code",
      "source": [
        "rating_df=rating_df.reset_index(drop=True)"
      ],
      "metadata": {
        "id": "p3CDyklH1Kv1"
      },
      "execution_count": null,
      "outputs": [],
      "id": "p3CDyklH1Kv1"
    },
    {
      "cell_type": "code",
      "source": [
        "\n",
        "rating_df.rename(columns = {'cnt':'label'}, inplace = True)"
      ],
      "metadata": {
        "id": "NHIInGM3yZcW"
      },
      "execution_count": null,
      "outputs": [],
      "id": "NHIInGM3yZcW"
    },
    {
      "cell_type": "code",
      "source": [
        "rating_df.head(1)"
      ],
      "metadata": {
        "colab": {
          "base_uri": "https://localhost:8080/",
          "height": 80
        },
        "id": "37btgcOfUDmp",
        "outputId": "6565c3f0-e3d2-49d6-f653-99413cb9c581"
      },
      "id": "37btgcOfUDmp",
      "execution_count": null,
      "outputs": [
        {
          "output_type": "execute_result",
          "data": {
            "text/plain": [
              "   user  item  label  daytime weekday isweekend homework  cost weather  \\\n",
              "0     0     0      1  morning  sunday   weekend  unknown  free   sunny   \n",
              "\n",
              "         country  city      category language  \n",
              "0  United States     0  Productivity       en  "
            ],
            "text/html": [
              "\n",
              "  <div id=\"df-c0ee3370-37c6-40df-b67f-8b379f4eb2ab\">\n",
              "    <div class=\"colab-df-container\">\n",
              "      <div>\n",
              "<style scoped>\n",
              "    .dataframe tbody tr th:only-of-type {\n",
              "        vertical-align: middle;\n",
              "    }\n",
              "\n",
              "    .dataframe tbody tr th {\n",
              "        vertical-align: top;\n",
              "    }\n",
              "\n",
              "    .dataframe thead th {\n",
              "        text-align: right;\n",
              "    }\n",
              "</style>\n",
              "<table border=\"1\" class=\"dataframe\">\n",
              "  <thead>\n",
              "    <tr style=\"text-align: right;\">\n",
              "      <th></th>\n",
              "      <th>user</th>\n",
              "      <th>item</th>\n",
              "      <th>label</th>\n",
              "      <th>daytime</th>\n",
              "      <th>weekday</th>\n",
              "      <th>isweekend</th>\n",
              "      <th>homework</th>\n",
              "      <th>cost</th>\n",
              "      <th>weather</th>\n",
              "      <th>country</th>\n",
              "      <th>city</th>\n",
              "      <th>category</th>\n",
              "      <th>language</th>\n",
              "    </tr>\n",
              "  </thead>\n",
              "  <tbody>\n",
              "    <tr>\n",
              "      <th>0</th>\n",
              "      <td>0</td>\n",
              "      <td>0</td>\n",
              "      <td>1</td>\n",
              "      <td>morning</td>\n",
              "      <td>sunday</td>\n",
              "      <td>weekend</td>\n",
              "      <td>unknown</td>\n",
              "      <td>free</td>\n",
              "      <td>sunny</td>\n",
              "      <td>United States</td>\n",
              "      <td>0</td>\n",
              "      <td>Productivity</td>\n",
              "      <td>en</td>\n",
              "    </tr>\n",
              "  </tbody>\n",
              "</table>\n",
              "</div>\n",
              "      <button class=\"colab-df-convert\" onclick=\"convertToInteractive('df-c0ee3370-37c6-40df-b67f-8b379f4eb2ab')\"\n",
              "              title=\"Convert this dataframe to an interactive table.\"\n",
              "              style=\"display:none;\">\n",
              "        \n",
              "  <svg xmlns=\"http://www.w3.org/2000/svg\" height=\"24px\"viewBox=\"0 0 24 24\"\n",
              "       width=\"24px\">\n",
              "    <path d=\"M0 0h24v24H0V0z\" fill=\"none\"/>\n",
              "    <path d=\"M18.56 5.44l.94 2.06.94-2.06 2.06-.94-2.06-.94-.94-2.06-.94 2.06-2.06.94zm-11 1L8.5 8.5l.94-2.06 2.06-.94-2.06-.94L8.5 2.5l-.94 2.06-2.06.94zm10 10l.94 2.06.94-2.06 2.06-.94-2.06-.94-.94-2.06-.94 2.06-2.06.94z\"/><path d=\"M17.41 7.96l-1.37-1.37c-.4-.4-.92-.59-1.43-.59-.52 0-1.04.2-1.43.59L10.3 9.45l-7.72 7.72c-.78.78-.78 2.05 0 2.83L4 21.41c.39.39.9.59 1.41.59.51 0 1.02-.2 1.41-.59l7.78-7.78 2.81-2.81c.8-.78.8-2.07 0-2.86zM5.41 20L4 18.59l7.72-7.72 1.47 1.35L5.41 20z\"/>\n",
              "  </svg>\n",
              "      </button>\n",
              "      \n",
              "  <style>\n",
              "    .colab-df-container {\n",
              "      display:flex;\n",
              "      flex-wrap:wrap;\n",
              "      gap: 12px;\n",
              "    }\n",
              "\n",
              "    .colab-df-convert {\n",
              "      background-color: #E8F0FE;\n",
              "      border: none;\n",
              "      border-radius: 50%;\n",
              "      cursor: pointer;\n",
              "      display: none;\n",
              "      fill: #1967D2;\n",
              "      height: 32px;\n",
              "      padding: 0 0 0 0;\n",
              "      width: 32px;\n",
              "    }\n",
              "\n",
              "    .colab-df-convert:hover {\n",
              "      background-color: #E2EBFA;\n",
              "      box-shadow: 0px 1px 2px rgba(60, 64, 67, 0.3), 0px 1px 3px 1px rgba(60, 64, 67, 0.15);\n",
              "      fill: #174EA6;\n",
              "    }\n",
              "\n",
              "    [theme=dark] .colab-df-convert {\n",
              "      background-color: #3B4455;\n",
              "      fill: #D2E3FC;\n",
              "    }\n",
              "\n",
              "    [theme=dark] .colab-df-convert:hover {\n",
              "      background-color: #434B5C;\n",
              "      box-shadow: 0px 1px 3px 1px rgba(0, 0, 0, 0.15);\n",
              "      filter: drop-shadow(0px 1px 2px rgba(0, 0, 0, 0.3));\n",
              "      fill: #FFFFFF;\n",
              "    }\n",
              "  </style>\n",
              "\n",
              "      <script>\n",
              "        const buttonEl =\n",
              "          document.querySelector('#df-c0ee3370-37c6-40df-b67f-8b379f4eb2ab button.colab-df-convert');\n",
              "        buttonEl.style.display =\n",
              "          google.colab.kernel.accessAllowed ? 'block' : 'none';\n",
              "\n",
              "        async function convertToInteractive(key) {\n",
              "          const element = document.querySelector('#df-c0ee3370-37c6-40df-b67f-8b379f4eb2ab');\n",
              "          const dataTable =\n",
              "            await google.colab.kernel.invokeFunction('convertToInteractive',\n",
              "                                                     [key], {});\n",
              "          if (!dataTable) return;\n",
              "\n",
              "          const docLinkHtml = 'Like what you see? Visit the ' +\n",
              "            '<a target=\"_blank\" href=https://colab.research.google.com/notebooks/data_table.ipynb>data table notebook</a>'\n",
              "            + ' to learn more about interactive tables.';\n",
              "          element.innerHTML = '';\n",
              "          dataTable['output_type'] = 'display_data';\n",
              "          await google.colab.output.renderOutput(dataTable, element);\n",
              "          const docLink = document.createElement('div');\n",
              "          docLink.innerHTML = docLinkHtml;\n",
              "          element.appendChild(docLink);\n",
              "        }\n",
              "      </script>\n",
              "    </div>\n",
              "  </div>\n",
              "  "
            ]
          },
          "metadata": {},
          "execution_count": 21
        }
      ]
    },
    {
      "cell_type": "markdown",
      "source": [
        "## LibRecommender"
      ],
      "metadata": {
        "id": "-28WG-vCQwYz"
      },
      "id": "-28WG-vCQwYz"
    },
    {
      "cell_type": "code",
      "source": [
        "!pip install numpy==1.22"
      ],
      "metadata": {
        "colab": {
          "base_uri": "https://localhost:8080/",
          "height": 277
        },
        "id": "zaMRVC0lz0UZ",
        "outputId": "8ea01b46-d2b1-43f1-ae79-0b481e0650e1"
      },
      "execution_count": null,
      "outputs": [
        {
          "output_type": "stream",
          "name": "stdout",
          "text": [
            "Looking in indexes: https://pypi.org/simple, https://us-python.pkg.dev/colab-wheels/public/simple/\n",
            "Collecting numpy==1.22\n",
            "  Downloading numpy-1.22.0-cp38-cp38-manylinux_2_17_x86_64.manylinux2014_x86_64.whl (16.8 MB)\n",
            "\u001b[2K     \u001b[90m━━━━━━━━━━━━━━━━━━━━━━━━━━━━━━━━━━━━━━━━\u001b[0m \u001b[32m16.8/16.8 MB\u001b[0m \u001b[31m74.6 MB/s\u001b[0m eta \u001b[36m0:00:00\u001b[0m\n",
            "\u001b[?25hInstalling collected packages: numpy\n",
            "  Attempting uninstall: numpy\n",
            "    Found existing installation: numpy 1.21.6\n",
            "    Uninstalling numpy-1.21.6:\n",
            "      Successfully uninstalled numpy-1.21.6\n",
            "Successfully installed numpy-1.22.0\n"
          ]
        },
        {
          "output_type": "display_data",
          "data": {
            "application/vnd.colab-display-data+json": {
              "pip_warning": {
                "packages": [
                  "numpy"
                ]
              }
            }
          },
          "metadata": {}
        }
      ],
      "id": "zaMRVC0lz0UZ"
    },
    {
      "cell_type": "code",
      "source": [
        "!pip install LibRecommender==0.12.0"
      ],
      "metadata": {
        "id": "F-HU8InaQura",
        "colab": {
          "base_uri": "https://localhost:8080/"
        },
        "outputId": "24cd1d0a-8499-4f0f-cdab-e2353b18fc0d"
      },
      "id": "F-HU8InaQura",
      "execution_count": null,
      "outputs": [
        {
          "output_type": "stream",
          "name": "stdout",
          "text": [
            "Installing collected packages: simpful, miniful, fst-pso, pyfume, FuzzyTM, gensim, LibRecommender\n",
            "  Attempting uninstall: gensim\n",
            "    Found existing installation: gensim 3.6.0\n",
            "    Uninstalling gensim-3.6.0:\n",
            "      Successfully uninstalled gensim-3.6.0\n",
            "Successfully installed FuzzyTM-2.0.5 LibRecommender-0.12.0 fst-pso-1.8.1 gensim-4.3.0 miniful-0.0.6 pyfume-0.2.25 simpful-2.9.0\n"
          ]
        }
      ]
    },
    {
      "cell_type": "markdown",
      "source": [
        "## Train"
      ],
      "metadata": {
        "id": "_XEJMqJwsRsQ"
      },
      "id": "_XEJMqJwsRsQ"
    },
    {
      "cell_type": "code",
      "source": [
        "\n",
        "import tensorflow as tf\n",
        "\n",
        "from libreco.data import DatasetFeat, DataInfo\n",
        "from libreco.data import split_by_ratio_chrono,split_by_ratio\n",
        "from libreco.algorithms import DeepFM,YouTubeRanking\n",
        "from libreco.evaluation import evaluate\n",
        "from libreco.prediction import predict_data_with_feats"
      ],
      "metadata": {
        "id": "dw6xoobtRzyh"
      },
      "id": "dw6xoobtRzyh",
      "execution_count": null,
      "outputs": []
    },
    {
      "cell_type": "code",
      "source": [
        "rating_df"
      ],
      "metadata": {
        "colab": {
          "base_uri": "https://localhost:8080/"
        },
        "id": "iaXquBwQoo1R",
        "outputId": "065d32c5-3d8b-4ba5-d734-c84b65fa4c2a"
      },
      "id": "iaXquBwQoo1R",
      "execution_count": null,
      "outputs": [
        {
          "output_type": "execute_result",
          "data": {
            "text/plain": [
              "Index(['user', 'item', 'label', 'daytime', 'weekday', 'isweekend', 'homework',\n",
              "       'cost', 'weather', 'country', 'city', 'category', 'price', 'rating'],\n",
              "      dtype='object')"
            ]
          },
          "metadata": {},
          "execution_count": 14
        }
      ]
    },
    {
      "cell_type": "code",
      "source": [
        "from numpy.random import noncentral_f\n",
        "\n",
        "col_sparse= ['daytime', 'weekday', 'isweekend', 'homework',\n",
        "        'cost','weather', 'country', 'city']\n",
        "user_col = ['daytime', 'weekday', 'isweekend', 'homework',\n",
        "       'cost', 'weather', 'country', 'city']\n",
        "item_col=None\n",
        "dense_col=None"
      ],
      "metadata": {
        "id": "n1F600UuQ_nR"
      },
      "id": "n1F600UuQ_nR",
      "execution_count": null,
      "outputs": []
    },
    {
      "cell_type": "code",
      "source": [
        "# rating_df['label']=1"
      ],
      "metadata": {
        "id": "AdwHaZravqBQ"
      },
      "id": "AdwHaZravqBQ",
      "execution_count": null,
      "outputs": []
    },
    {
      "cell_type": "code",
      "source": [
        "train, test = split_by_ratio(rating_df, test_size=0.2)"
      ],
      "metadata": {
        "id": "nDRztFi4RxfK"
      },
      "id": "nDRztFi4RxfK",
      "execution_count": null,
      "outputs": []
    },
    {
      "cell_type": "code",
      "source": [
        "train_data, data_info = DatasetFeat.build_trainset(\n",
        "        train, user_col, item_col, col_sparse, dense_col\n",
        "    )"
      ],
      "metadata": {
        "id": "1WLHDVispHV4"
      },
      "id": "1WLHDVispHV4",
      "execution_count": null,
      "outputs": []
    },
    {
      "cell_type": "code",
      "source": [
        "test_data = DatasetFeat.build_testset(test, shuffle=False)"
      ],
      "metadata": {
        "id": "OVcuzjuoUy-K"
      },
      "id": "OVcuzjuoUy-K",
      "execution_count": null,
      "outputs": []
    },
    {
      "cell_type": "code",
      "source": [
        "import torch\n",
        "from libreco.algorithms import (\n",
        "    FM,\n",
        "    WideDeep,\n",
        "    DeepFM\n",
        ")\n",
        "\n",
        "\n",
        "    # # only do negative sampling on eval data\n",
        "    # eval_data.build_negative_samples(\n",
        "    #     data_info, item_gen_mode=\"random\", num_neg=1, seed=2222\n",
        "    # )\n",
        "\n"
      ],
      "metadata": {
        "id": "yWN-zHhKsZgg"
      },
      "id": "yWN-zHhKsZgg",
      "execution_count": null,
      "outputs": []
    },
    {
      "cell_type": "markdown",
      "source": [
        "# Youtube retrival"
      ],
      "metadata": {
        "id": "xSTMnrQNJNNz"
      },
      "id": "xSTMnrQNJNNz"
    },
    {
      "cell_type": "code",
      "source": [
        "\n",
        "ytb_ranking = YouTubeRanking(task=\"ranking\", data_info=data_info, embed_size=64,\n",
        "                             n_epochs=20, lr=1e-4, batch_size=256, use_bn=True,\n",
        "                             hidden_units=\"128,128,32\")\n",
        "ytb_ranking.fit(train_data, verbose=2, shuffle=True, eval_data=test_data,\n",
        "                metrics=[ \"precision\", \"recall\", \"map\", \"ndcg\"])\n",
        "\n"
      ],
      "metadata": {
        "colab": {
          "base_uri": "https://localhost:8080/"
        },
        "id": "k67VgX7CJPaS",
        "outputId": "69a56ff9-0c97-4012-9396-47ce3a2a8836"
      },
      "id": "k67VgX7CJPaS",
      "execution_count": null,
      "outputs": [
        {
          "output_type": "stream",
          "name": "stderr",
          "text": [
            "WARNING:tensorflow:From /usr/local/lib/python3.8/dist-packages/keras/layers/normalization/batch_normalization.py:514: _colocate_with (from tensorflow.python.framework.ops) is deprecated and will be removed in a future version.\n",
            "Instructions for updating:\n",
            "Colocations handled automatically by placer.\n"
          ]
        },
        {
          "output_type": "stream",
          "name": "stdout",
          "text": [
            "total params: \u001b[33m440,065\u001b[0m | embedding params: \u001b[33m327,457\u001b[0m | network params: \u001b[33m112,608\u001b[0m\n",
            "Training start time: \u001b[35m2023-02-05 11:36:55\u001b[0m\n"
          ]
        },
        {
          "output_type": "stream",
          "name": "stderr",
          "text": [
            "train: 100%|██████████| 301/301 [00:03<00:00, 78.23it/s] \n"
          ]
        },
        {
          "output_type": "stream",
          "name": "stdout",
          "text": [
            "Epoch 1 elapsed: 3.873s\n",
            "\t \u001b[32mtrain_loss: -426.9019\u001b[0m\n"
          ]
        },
        {
          "output_type": "stream",
          "name": "stderr",
          "text": [
            "eval_rec: 100%|██████████| 759/759 [00:02<00:00, 314.57it/s]\n"
          ]
        },
        {
          "output_type": "stream",
          "name": "stdout",
          "text": [
            "\t eval precision@10: 0.0001\n",
            "\t eval recall@10: 0.0000\n",
            "\t eval map@10: 0.0001\n",
            "\t eval ndcg@10: 0.0004\n",
            "==============================\n"
          ]
        },
        {
          "output_type": "stream",
          "name": "stderr",
          "text": [
            "train: 100%|██████████| 301/301 [00:02<00:00, 111.84it/s]\n"
          ]
        },
        {
          "output_type": "stream",
          "name": "stdout",
          "text": [
            "Epoch 2 elapsed: 2.718s\n",
            "\t \u001b[32mtrain_loss: -929.0727\u001b[0m\n"
          ]
        },
        {
          "output_type": "stream",
          "name": "stderr",
          "text": [
            "eval_rec: 100%|██████████| 759/759 [00:02<00:00, 287.82it/s]\n"
          ]
        },
        {
          "output_type": "stream",
          "name": "stdout",
          "text": [
            "\t eval precision@10: 0.0000\n",
            "\t eval recall@10: 0.0000\n",
            "\t eval map@10: 0.0000\n",
            "\t eval ndcg@10: 0.0000\n",
            "==============================\n"
          ]
        },
        {
          "output_type": "stream",
          "name": "stderr",
          "text": [
            "train: 100%|██████████| 301/301 [00:02<00:00, 145.31it/s]\n"
          ]
        },
        {
          "output_type": "stream",
          "name": "stdout",
          "text": [
            "Epoch 3 elapsed: 2.106s\n",
            "\t \u001b[32mtrain_loss: -1303.3652\u001b[0m\n"
          ]
        },
        {
          "output_type": "stream",
          "name": "stderr",
          "text": [
            "eval_rec: 100%|██████████| 759/759 [00:02<00:00, 371.83it/s]\n"
          ]
        },
        {
          "output_type": "stream",
          "name": "stdout",
          "text": [
            "\t eval precision@10: 0.0001\n",
            "\t eval recall@10: 0.0000\n",
            "\t eval map@10: 0.0001\n",
            "\t eval ndcg@10: 0.0004\n",
            "==============================\n"
          ]
        },
        {
          "output_type": "stream",
          "name": "stderr",
          "text": [
            "train: 100%|██████████| 301/301 [00:01<00:00, 157.86it/s]\n"
          ]
        },
        {
          "output_type": "stream",
          "name": "stdout",
          "text": [
            "Epoch 4 elapsed: 1.931s\n",
            "\t \u001b[32mtrain_loss: -1690.0045\u001b[0m\n"
          ]
        },
        {
          "output_type": "stream",
          "name": "stderr",
          "text": [
            "eval_rec: 100%|██████████| 759/759 [00:01<00:00, 396.02it/s]\n"
          ]
        },
        {
          "output_type": "stream",
          "name": "stdout",
          "text": [
            "\t eval precision@10: 0.0000\n",
            "\t eval recall@10: 0.0000\n",
            "\t eval map@10: 0.0000\n",
            "\t eval ndcg@10: 0.0000\n",
            "==============================\n"
          ]
        },
        {
          "output_type": "stream",
          "name": "stderr",
          "text": [
            "train: 100%|██████████| 301/301 [00:01<00:00, 158.97it/s]\n"
          ]
        },
        {
          "output_type": "stream",
          "name": "stdout",
          "text": [
            "Epoch 5 elapsed: 1.925s\n",
            "\t \u001b[32mtrain_loss: -2119.6228\u001b[0m\n"
          ]
        },
        {
          "output_type": "stream",
          "name": "stderr",
          "text": [
            "eval_rec: 100%|██████████| 759/759 [00:01<00:00, 401.46it/s]\n"
          ]
        },
        {
          "output_type": "stream",
          "name": "stdout",
          "text": [
            "\t eval precision@10: 0.0000\n",
            "\t eval recall@10: 0.0000\n",
            "\t eval map@10: 0.0000\n",
            "\t eval ndcg@10: 0.0000\n",
            "==============================\n"
          ]
        },
        {
          "output_type": "stream",
          "name": "stderr",
          "text": [
            "train: 100%|██████████| 301/301 [00:01<00:00, 159.30it/s]\n"
          ]
        },
        {
          "output_type": "stream",
          "name": "stdout",
          "text": [
            "Epoch 6 elapsed: 1.913s\n",
            "\t \u001b[32mtrain_loss: -2604.7131\u001b[0m\n"
          ]
        },
        {
          "output_type": "stream",
          "name": "stderr",
          "text": [
            "eval_rec: 100%|██████████| 759/759 [00:01<00:00, 401.02it/s]\n"
          ]
        },
        {
          "output_type": "stream",
          "name": "stdout",
          "text": [
            "\t eval precision@10: 0.0003\n",
            "\t eval recall@10: 0.0015\n",
            "\t eval map@10: 0.0015\n",
            "\t eval ndcg@10: 0.0018\n",
            "==============================\n"
          ]
        },
        {
          "output_type": "stream",
          "name": "stderr",
          "text": [
            "train: 100%|██████████| 301/301 [00:01<00:00, 157.79it/s]\n"
          ]
        },
        {
          "output_type": "stream",
          "name": "stdout",
          "text": [
            "Epoch 7 elapsed: 1.931s\n",
            "\t \u001b[32mtrain_loss: -3164.7139\u001b[0m\n"
          ]
        },
        {
          "output_type": "stream",
          "name": "stderr",
          "text": [
            "eval_rec: 100%|██████████| 759/759 [00:01<00:00, 401.15it/s]\n"
          ]
        },
        {
          "output_type": "stream",
          "name": "stdout",
          "text": [
            "\t eval precision@10: 0.0003\n",
            "\t eval recall@10: 0.0015\n",
            "\t eval map@10: 0.0016\n",
            "\t eval ndcg@10: 0.0019\n",
            "==============================\n"
          ]
        },
        {
          "output_type": "stream",
          "name": "stderr",
          "text": [
            "train: 100%|██████████| 301/301 [00:01<00:00, 157.16it/s]\n"
          ]
        },
        {
          "output_type": "stream",
          "name": "stdout",
          "text": [
            "Epoch 8 elapsed: 1.940s\n",
            "\t \u001b[32mtrain_loss: -3718.978\u001b[0m\n"
          ]
        },
        {
          "output_type": "stream",
          "name": "stderr",
          "text": [
            "eval_rec: 100%|██████████| 759/759 [00:01<00:00, 399.53it/s]\n"
          ]
        },
        {
          "output_type": "stream",
          "name": "stdout",
          "text": [
            "\t eval precision@10: 0.0003\n",
            "\t eval recall@10: 0.0015\n",
            "\t eval map@10: 0.0018\n",
            "\t eval ndcg@10: 0.0020\n",
            "==============================\n"
          ]
        },
        {
          "output_type": "stream",
          "name": "stderr",
          "text": [
            "train: 100%|██████████| 301/301 [00:02<00:00, 134.74it/s]\n"
          ]
        },
        {
          "output_type": "stream",
          "name": "stdout",
          "text": [
            "Epoch 9 elapsed: 2.258s\n",
            "\t \u001b[32mtrain_loss: -4294.3706\u001b[0m\n"
          ]
        },
        {
          "output_type": "stream",
          "name": "stderr",
          "text": [
            "eval_rec: 100%|██████████| 759/759 [00:01<00:00, 392.61it/s]\n"
          ]
        },
        {
          "output_type": "stream",
          "name": "stdout",
          "text": [
            "\t eval precision@10: 0.0001\n",
            "\t eval recall@10: 0.0013\n",
            "\t eval map@10: 0.0013\n",
            "\t eval ndcg@10: 0.0013\n",
            "==============================\n"
          ]
        },
        {
          "output_type": "stream",
          "name": "stderr",
          "text": [
            "train: 100%|██████████| 301/301 [00:01<00:00, 156.05it/s]\n"
          ]
        },
        {
          "output_type": "stream",
          "name": "stdout",
          "text": [
            "Epoch 10 elapsed: 1.961s\n",
            "\t \u001b[32mtrain_loss: -4941.7358\u001b[0m\n"
          ]
        },
        {
          "output_type": "stream",
          "name": "stderr",
          "text": [
            "eval_rec: 100%|██████████| 759/759 [00:01<00:00, 398.82it/s]\n"
          ]
        },
        {
          "output_type": "stream",
          "name": "stdout",
          "text": [
            "\t eval precision@10: 0.0001\n",
            "\t eval recall@10: 0.0013\n",
            "\t eval map@10: 0.0003\n",
            "\t eval ndcg@10: 0.0005\n",
            "==============================\n"
          ]
        },
        {
          "output_type": "stream",
          "name": "stderr",
          "text": [
            "train: 100%|██████████| 301/301 [00:01<00:00, 157.22it/s]\n"
          ]
        },
        {
          "output_type": "stream",
          "name": "stdout",
          "text": [
            "Epoch 11 elapsed: 1.942s\n",
            "\t \u001b[32mtrain_loss: -5467.1597\u001b[0m\n"
          ]
        },
        {
          "output_type": "stream",
          "name": "stderr",
          "text": [
            "eval_rec: 100%|██████████| 759/759 [00:01<00:00, 403.23it/s]\n"
          ]
        },
        {
          "output_type": "stream",
          "name": "stdout",
          "text": [
            "\t eval precision@10: 0.0001\n",
            "\t eval recall@10: 0.0013\n",
            "\t eval map@10: 0.0002\n",
            "\t eval ndcg@10: 0.0005\n",
            "==============================\n"
          ]
        },
        {
          "output_type": "stream",
          "name": "stderr",
          "text": [
            "train: 100%|██████████| 301/301 [00:01<00:00, 157.68it/s]\n"
          ]
        },
        {
          "output_type": "stream",
          "name": "stdout",
          "text": [
            "Epoch 12 elapsed: 1.931s\n",
            "\t \u001b[32mtrain_loss: -6093.772\u001b[0m\n"
          ]
        },
        {
          "output_type": "stream",
          "name": "stderr",
          "text": [
            "eval_rec: 100%|██████████| 759/759 [00:01<00:00, 397.86it/s]\n"
          ]
        },
        {
          "output_type": "stream",
          "name": "stdout",
          "text": [
            "\t eval precision@10: 0.0001\n",
            "\t eval recall@10: 0.0013\n",
            "\t eval map@10: 0.0003\n",
            "\t eval ndcg@10: 0.0006\n",
            "==============================\n"
          ]
        },
        {
          "output_type": "stream",
          "name": "stderr",
          "text": [
            "train: 100%|██████████| 301/301 [00:01<00:00, 160.28it/s]\n"
          ]
        },
        {
          "output_type": "stream",
          "name": "stdout",
          "text": [
            "Epoch 13 elapsed: 1.904s\n",
            "\t \u001b[32mtrain_loss: -6756.5986\u001b[0m\n"
          ]
        },
        {
          "output_type": "stream",
          "name": "stderr",
          "text": [
            "eval_rec: 100%|██████████| 759/759 [00:01<00:00, 402.19it/s]\n"
          ]
        },
        {
          "output_type": "stream",
          "name": "stdout",
          "text": [
            "\t eval precision@10: 0.0000\n",
            "\t eval recall@10: 0.0000\n",
            "\t eval map@10: 0.0000\n",
            "\t eval ndcg@10: 0.0000\n",
            "==============================\n"
          ]
        },
        {
          "output_type": "stream",
          "name": "stderr",
          "text": [
            "train: 100%|██████████| 301/301 [00:01<00:00, 161.30it/s]\n"
          ]
        },
        {
          "output_type": "stream",
          "name": "stdout",
          "text": [
            "Epoch 14 elapsed: 1.892s\n",
            "\t \u001b[32mtrain_loss: -7297.1602\u001b[0m\n"
          ]
        },
        {
          "output_type": "stream",
          "name": "stderr",
          "text": [
            "eval_rec: 100%|██████████| 759/759 [00:01<00:00, 401.52it/s]\n"
          ]
        },
        {
          "output_type": "stream",
          "name": "stdout",
          "text": [
            "\t eval precision@10: 0.0000\n",
            "\t eval recall@10: 0.0000\n",
            "\t eval map@10: 0.0000\n",
            "\t eval ndcg@10: 0.0000\n",
            "==============================\n"
          ]
        },
        {
          "output_type": "stream",
          "name": "stderr",
          "text": [
            "train: 100%|██████████| 301/301 [00:01<00:00, 156.88it/s]\n"
          ]
        },
        {
          "output_type": "stream",
          "name": "stdout",
          "text": [
            "Epoch 15 elapsed: 1.946s\n",
            "\t \u001b[32mtrain_loss: -8018.8652\u001b[0m\n"
          ]
        },
        {
          "output_type": "stream",
          "name": "stderr",
          "text": [
            "eval_rec: 100%|██████████| 759/759 [00:01<00:00, 388.59it/s]\n"
          ]
        },
        {
          "output_type": "stream",
          "name": "stdout",
          "text": [
            "\t eval precision@10: 0.0001\n",
            "\t eval recall@10: 0.0001\n",
            "\t eval map@10: 0.0002\n",
            "\t eval ndcg@10: 0.0004\n",
            "==============================\n"
          ]
        },
        {
          "output_type": "stream",
          "name": "stderr",
          "text": [
            "train: 100%|██████████| 301/301 [00:02<00:00, 130.44it/s]\n"
          ]
        },
        {
          "output_type": "stream",
          "name": "stdout",
          "text": [
            "Epoch 16 elapsed: 2.335s\n",
            "\t \u001b[32mtrain_loss: -8632.8691\u001b[0m\n"
          ]
        },
        {
          "output_type": "stream",
          "name": "stderr",
          "text": [
            "eval_rec: 100%|██████████| 759/759 [00:01<00:00, 397.01it/s]\n"
          ]
        },
        {
          "output_type": "stream",
          "name": "stdout",
          "text": [
            "\t eval precision@10: 0.0001\n",
            "\t eval recall@10: 0.0001\n",
            "\t eval map@10: 0.0003\n",
            "\t eval ndcg@10: 0.0005\n",
            "==============================\n"
          ]
        },
        {
          "output_type": "stream",
          "name": "stderr",
          "text": [
            "train: 100%|██████████| 301/301 [00:01<00:00, 154.77it/s]\n"
          ]
        },
        {
          "output_type": "stream",
          "name": "stdout",
          "text": [
            "Epoch 17 elapsed: 1.969s\n",
            "\t \u001b[32mtrain_loss: -9190.8789\u001b[0m\n"
          ]
        },
        {
          "output_type": "stream",
          "name": "stderr",
          "text": [
            "eval_rec: 100%|██████████| 759/759 [00:01<00:00, 394.09it/s]\n"
          ]
        },
        {
          "output_type": "stream",
          "name": "stdout",
          "text": [
            "\t eval precision@10: 0.0001\n",
            "\t eval recall@10: 0.0001\n",
            "\t eval map@10: 0.0002\n",
            "\t eval ndcg@10: 0.0004\n",
            "==============================\n"
          ]
        },
        {
          "output_type": "stream",
          "name": "stderr",
          "text": [
            "train: 100%|██████████| 301/301 [00:01<00:00, 158.18it/s]\n"
          ]
        },
        {
          "output_type": "stream",
          "name": "stdout",
          "text": [
            "Epoch 18 elapsed: 1.927s\n",
            "\t \u001b[32mtrain_loss: -9984.2773\u001b[0m\n"
          ]
        },
        {
          "output_type": "stream",
          "name": "stderr",
          "text": [
            "eval_rec: 100%|██████████| 759/759 [00:01<00:00, 397.82it/s]\n"
          ]
        },
        {
          "output_type": "stream",
          "name": "stdout",
          "text": [
            "\t eval precision@10: 0.0001\n",
            "\t eval recall@10: 0.0001\n",
            "\t eval map@10: 0.0002\n",
            "\t eval ndcg@10: 0.0005\n",
            "==============================\n"
          ]
        },
        {
          "output_type": "stream",
          "name": "stderr",
          "text": [
            "train: 100%|██████████| 301/301 [00:01<00:00, 156.90it/s]\n"
          ]
        },
        {
          "output_type": "stream",
          "name": "stdout",
          "text": [
            "Epoch 19 elapsed: 1.942s\n",
            "\t \u001b[32mtrain_loss: -10706.0449\u001b[0m\n"
          ]
        },
        {
          "output_type": "stream",
          "name": "stderr",
          "text": [
            "eval_rec: 100%|██████████| 759/759 [00:02<00:00, 369.17it/s]\n"
          ]
        },
        {
          "output_type": "stream",
          "name": "stdout",
          "text": [
            "\t eval precision@10: 0.0001\n",
            "\t eval recall@10: 0.0001\n",
            "\t eval map@10: 0.0003\n",
            "\t eval ndcg@10: 0.0005\n",
            "==============================\n"
          ]
        },
        {
          "output_type": "stream",
          "name": "stderr",
          "text": [
            "train: 100%|██████████| 301/301 [00:02<00:00, 148.69it/s]\n"
          ]
        },
        {
          "output_type": "stream",
          "name": "stdout",
          "text": [
            "Epoch 20 elapsed: 2.049s\n",
            "\t \u001b[32mtrain_loss: -11192.5225\u001b[0m\n"
          ]
        },
        {
          "output_type": "stream",
          "name": "stderr",
          "text": [
            "eval_rec: 100%|██████████| 759/759 [00:01<00:00, 401.49it/s]\n"
          ]
        },
        {
          "output_type": "stream",
          "name": "stdout",
          "text": [
            "\t eval precision@10: 0.0001\n",
            "\t eval recall@10: 0.0001\n",
            "\t eval map@10: 0.0013\n",
            "\t eval ndcg@10: 0.0013\n",
            "==============================\n"
          ]
        }
      ]
    },
    {
      "cell_type": "code",
      "source": [
        "rating_df.head(1)"
      ],
      "metadata": {
        "colab": {
          "base_uri": "https://localhost:8080/",
          "height": 80
        },
        "id": "xedPry0yPqua",
        "outputId": "f571a273-7d16-4bce-f245-bc2e4c103bfa"
      },
      "id": "xedPry0yPqua",
      "execution_count": null,
      "outputs": [
        {
          "output_type": "execute_result",
          "data": {
            "text/plain": [
              "   user  item  label  daytime weekday isweekend homework  cost weather  \\\n",
              "0     0     0      1  morning  sunday   weekend  unknown  free   sunny   \n",
              "\n",
              "         country  city      category language  \n",
              "0  United States     0  Productivity       en  "
            ],
            "text/html": [
              "\n",
              "  <div id=\"df-0677b285-324f-43de-ad81-6388ff5981ed\">\n",
              "    <div class=\"colab-df-container\">\n",
              "      <div>\n",
              "<style scoped>\n",
              "    .dataframe tbody tr th:only-of-type {\n",
              "        vertical-align: middle;\n",
              "    }\n",
              "\n",
              "    .dataframe tbody tr th {\n",
              "        vertical-align: top;\n",
              "    }\n",
              "\n",
              "    .dataframe thead th {\n",
              "        text-align: right;\n",
              "    }\n",
              "</style>\n",
              "<table border=\"1\" class=\"dataframe\">\n",
              "  <thead>\n",
              "    <tr style=\"text-align: right;\">\n",
              "      <th></th>\n",
              "      <th>user</th>\n",
              "      <th>item</th>\n",
              "      <th>label</th>\n",
              "      <th>daytime</th>\n",
              "      <th>weekday</th>\n",
              "      <th>isweekend</th>\n",
              "      <th>homework</th>\n",
              "      <th>cost</th>\n",
              "      <th>weather</th>\n",
              "      <th>country</th>\n",
              "      <th>city</th>\n",
              "      <th>category</th>\n",
              "      <th>language</th>\n",
              "    </tr>\n",
              "  </thead>\n",
              "  <tbody>\n",
              "    <tr>\n",
              "      <th>0</th>\n",
              "      <td>0</td>\n",
              "      <td>0</td>\n",
              "      <td>1</td>\n",
              "      <td>morning</td>\n",
              "      <td>sunday</td>\n",
              "      <td>weekend</td>\n",
              "      <td>unknown</td>\n",
              "      <td>free</td>\n",
              "      <td>sunny</td>\n",
              "      <td>United States</td>\n",
              "      <td>0</td>\n",
              "      <td>Productivity</td>\n",
              "      <td>en</td>\n",
              "    </tr>\n",
              "  </tbody>\n",
              "</table>\n",
              "</div>\n",
              "      <button class=\"colab-df-convert\" onclick=\"convertToInteractive('df-0677b285-324f-43de-ad81-6388ff5981ed')\"\n",
              "              title=\"Convert this dataframe to an interactive table.\"\n",
              "              style=\"display:none;\">\n",
              "        \n",
              "  <svg xmlns=\"http://www.w3.org/2000/svg\" height=\"24px\"viewBox=\"0 0 24 24\"\n",
              "       width=\"24px\">\n",
              "    <path d=\"M0 0h24v24H0V0z\" fill=\"none\"/>\n",
              "    <path d=\"M18.56 5.44l.94 2.06.94-2.06 2.06-.94-2.06-.94-.94-2.06-.94 2.06-2.06.94zm-11 1L8.5 8.5l.94-2.06 2.06-.94-2.06-.94L8.5 2.5l-.94 2.06-2.06.94zm10 10l.94 2.06.94-2.06 2.06-.94-2.06-.94-.94-2.06-.94 2.06-2.06.94z\"/><path d=\"M17.41 7.96l-1.37-1.37c-.4-.4-.92-.59-1.43-.59-.52 0-1.04.2-1.43.59L10.3 9.45l-7.72 7.72c-.78.78-.78 2.05 0 2.83L4 21.41c.39.39.9.59 1.41.59.51 0 1.02-.2 1.41-.59l7.78-7.78 2.81-2.81c.8-.78.8-2.07 0-2.86zM5.41 20L4 18.59l7.72-7.72 1.47 1.35L5.41 20z\"/>\n",
              "  </svg>\n",
              "      </button>\n",
              "      \n",
              "  <style>\n",
              "    .colab-df-container {\n",
              "      display:flex;\n",
              "      flex-wrap:wrap;\n",
              "      gap: 12px;\n",
              "    }\n",
              "\n",
              "    .colab-df-convert {\n",
              "      background-color: #E8F0FE;\n",
              "      border: none;\n",
              "      border-radius: 50%;\n",
              "      cursor: pointer;\n",
              "      display: none;\n",
              "      fill: #1967D2;\n",
              "      height: 32px;\n",
              "      padding: 0 0 0 0;\n",
              "      width: 32px;\n",
              "    }\n",
              "\n",
              "    .colab-df-convert:hover {\n",
              "      background-color: #E2EBFA;\n",
              "      box-shadow: 0px 1px 2px rgba(60, 64, 67, 0.3), 0px 1px 3px 1px rgba(60, 64, 67, 0.15);\n",
              "      fill: #174EA6;\n",
              "    }\n",
              "\n",
              "    [theme=dark] .colab-df-convert {\n",
              "      background-color: #3B4455;\n",
              "      fill: #D2E3FC;\n",
              "    }\n",
              "\n",
              "    [theme=dark] .colab-df-convert:hover {\n",
              "      background-color: #434B5C;\n",
              "      box-shadow: 0px 1px 3px 1px rgba(0, 0, 0, 0.15);\n",
              "      filter: drop-shadow(0px 1px 2px rgba(0, 0, 0, 0.3));\n",
              "      fill: #FFFFFF;\n",
              "    }\n",
              "  </style>\n",
              "\n",
              "      <script>\n",
              "        const buttonEl =\n",
              "          document.querySelector('#df-0677b285-324f-43de-ad81-6388ff5981ed button.colab-df-convert');\n",
              "        buttonEl.style.display =\n",
              "          google.colab.kernel.accessAllowed ? 'block' : 'none';\n",
              "\n",
              "        async function convertToInteractive(key) {\n",
              "          const element = document.querySelector('#df-0677b285-324f-43de-ad81-6388ff5981ed');\n",
              "          const dataTable =\n",
              "            await google.colab.kernel.invokeFunction('convertToInteractive',\n",
              "                                                     [key], {});\n",
              "          if (!dataTable) return;\n",
              "\n",
              "          const docLinkHtml = 'Like what you see? Visit the ' +\n",
              "            '<a target=\"_blank\" href=https://colab.research.google.com/notebooks/data_table.ipynb>data table notebook</a>'\n",
              "            + ' to learn more about interactive tables.';\n",
              "          element.innerHTML = '';\n",
              "          dataTable['output_type'] = 'display_data';\n",
              "          await google.colab.output.renderOutput(dataTable, element);\n",
              "          const docLink = document.createElement('div');\n",
              "          docLink.innerHTML = docLinkHtml;\n",
              "          element.appendChild(docLink);\n",
              "        }\n",
              "      </script>\n",
              "    </div>\n",
              "  </div>\n",
              "  "
            ]
          },
          "metadata": {},
          "execution_count": 29
        }
      ]
    },
    {
      "cell_type": "code",
      "source": [
        "print( \"recommendation: \",\n",
        "        ytb_ranking.recommend_user(\n",
        "            user=0,\n",
        "            n_rec=7,\n",
        "            inner_id=False,\n",
        "            cold_start=\"average\",\n",
        "            user_feats=pd.Series({\"daytime\": \"morning\", \"weekday\": \"sunday\t\", \"isweekend\": \"weekend\",\"homework\": \"unknown\", \"cost\": \"free\t\", \"weather\": \"sunny\",\"country\":\"United States\",\"city\":\"0\"}),\n",
        "           \n",
        "        ))\n",
        "    "
      ],
      "metadata": {
        "colab": {
          "base_uri": "https://localhost:8080/"
        },
        "id": "Yl2QCi5ZOjwR",
        "outputId": "92104171-393b-4024-8391-5d7000568573"
      },
      "id": "Yl2QCi5ZOjwR",
      "execution_count": null,
      "outputs": [
        {
          "output_type": "stream",
          "name": "stdout",
          "text": [
            "recommendation:  [(1730, 8.649467e-22), (918, 8.630548e-22), (1831, 8.613215e-22), (1172, 8.613117e-22), (1100, 8.554863e-22), (2752, 8.546937e-22), (756, 8.521349e-22)]\n"
          ]
        }
      ]
    },
    {
      "cell_type": "code",
      "source": [
        "item_df[item_df.item==1831]"
      ],
      "metadata": {
        "colab": {
          "base_uri": "https://localhost:8080/",
          "height": 80
        },
        "id": "XG-gujJ5YKzo",
        "outputId": "b81b40de-45b9-4582-833e-a3be19f5ba58"
      },
      "id": "XG-gujJ5YKzo",
      "execution_count": null,
      "outputs": [
        {
          "output_type": "execute_result",
          "data": {
            "text/plain": [
              "      item\n",
              "1831  1831"
            ],
            "text/html": [
              "\n",
              "  <div id=\"df-03f912cf-04b9-4790-b56d-84c740eff4f3\">\n",
              "    <div class=\"colab-df-container\">\n",
              "      <div>\n",
              "<style scoped>\n",
              "    .dataframe tbody tr th:only-of-type {\n",
              "        vertical-align: middle;\n",
              "    }\n",
              "\n",
              "    .dataframe tbody tr th {\n",
              "        vertical-align: top;\n",
              "    }\n",
              "\n",
              "    .dataframe thead th {\n",
              "        text-align: right;\n",
              "    }\n",
              "</style>\n",
              "<table border=\"1\" class=\"dataframe\">\n",
              "  <thead>\n",
              "    <tr style=\"text-align: right;\">\n",
              "      <th></th>\n",
              "      <th>item</th>\n",
              "    </tr>\n",
              "  </thead>\n",
              "  <tbody>\n",
              "    <tr>\n",
              "      <th>1831</th>\n",
              "      <td>1831</td>\n",
              "    </tr>\n",
              "  </tbody>\n",
              "</table>\n",
              "</div>\n",
              "      <button class=\"colab-df-convert\" onclick=\"convertToInteractive('df-03f912cf-04b9-4790-b56d-84c740eff4f3')\"\n",
              "              title=\"Convert this dataframe to an interactive table.\"\n",
              "              style=\"display:none;\">\n",
              "        \n",
              "  <svg xmlns=\"http://www.w3.org/2000/svg\" height=\"24px\"viewBox=\"0 0 24 24\"\n",
              "       width=\"24px\">\n",
              "    <path d=\"M0 0h24v24H0V0z\" fill=\"none\"/>\n",
              "    <path d=\"M18.56 5.44l.94 2.06.94-2.06 2.06-.94-2.06-.94-.94-2.06-.94 2.06-2.06.94zm-11 1L8.5 8.5l.94-2.06 2.06-.94-2.06-.94L8.5 2.5l-.94 2.06-2.06.94zm10 10l.94 2.06.94-2.06 2.06-.94-2.06-.94-.94-2.06-.94 2.06-2.06.94z\"/><path d=\"M17.41 7.96l-1.37-1.37c-.4-.4-.92-.59-1.43-.59-.52 0-1.04.2-1.43.59L10.3 9.45l-7.72 7.72c-.78.78-.78 2.05 0 2.83L4 21.41c.39.39.9.59 1.41.59.51 0 1.02-.2 1.41-.59l7.78-7.78 2.81-2.81c.8-.78.8-2.07 0-2.86zM5.41 20L4 18.59l7.72-7.72 1.47 1.35L5.41 20z\"/>\n",
              "  </svg>\n",
              "      </button>\n",
              "      \n",
              "  <style>\n",
              "    .colab-df-container {\n",
              "      display:flex;\n",
              "      flex-wrap:wrap;\n",
              "      gap: 12px;\n",
              "    }\n",
              "\n",
              "    .colab-df-convert {\n",
              "      background-color: #E8F0FE;\n",
              "      border: none;\n",
              "      border-radius: 50%;\n",
              "      cursor: pointer;\n",
              "      display: none;\n",
              "      fill: #1967D2;\n",
              "      height: 32px;\n",
              "      padding: 0 0 0 0;\n",
              "      width: 32px;\n",
              "    }\n",
              "\n",
              "    .colab-df-convert:hover {\n",
              "      background-color: #E2EBFA;\n",
              "      box-shadow: 0px 1px 2px rgba(60, 64, 67, 0.3), 0px 1px 3px 1px rgba(60, 64, 67, 0.15);\n",
              "      fill: #174EA6;\n",
              "    }\n",
              "\n",
              "    [theme=dark] .colab-df-convert {\n",
              "      background-color: #3B4455;\n",
              "      fill: #D2E3FC;\n",
              "    }\n",
              "\n",
              "    [theme=dark] .colab-df-convert:hover {\n",
              "      background-color: #434B5C;\n",
              "      box-shadow: 0px 1px 3px 1px rgba(0, 0, 0, 0.15);\n",
              "      filter: drop-shadow(0px 1px 2px rgba(0, 0, 0, 0.3));\n",
              "      fill: #FFFFFF;\n",
              "    }\n",
              "  </style>\n",
              "\n",
              "      <script>\n",
              "        const buttonEl =\n",
              "          document.querySelector('#df-03f912cf-04b9-4790-b56d-84c740eff4f3 button.colab-df-convert');\n",
              "        buttonEl.style.display =\n",
              "          google.colab.kernel.accessAllowed ? 'block' : 'none';\n",
              "\n",
              "        async function convertToInteractive(key) {\n",
              "          const element = document.querySelector('#df-03f912cf-04b9-4790-b56d-84c740eff4f3');\n",
              "          const dataTable =\n",
              "            await google.colab.kernel.invokeFunction('convertToInteractive',\n",
              "                                                     [key], {});\n",
              "          if (!dataTable) return;\n",
              "\n",
              "          const docLinkHtml = 'Like what you see? Visit the ' +\n",
              "            '<a target=\"_blank\" href=https://colab.research.google.com/notebooks/data_table.ipynb>data table notebook</a>'\n",
              "            + ' to learn more about interactive tables.';\n",
              "          element.innerHTML = '';\n",
              "          dataTable['output_type'] = 'display_data';\n",
              "          await google.colab.output.renderOutput(dataTable, element);\n",
              "          const docLink = document.createElement('div');\n",
              "          docLink.innerHTML = docLinkHtml;\n",
              "          element.appendChild(docLink);\n",
              "        }\n",
              "      </script>\n",
              "    </div>\n",
              "  </div>\n",
              "  "
            ]
          },
          "metadata": {},
          "execution_count": 35
        }
      ]
    },
    {
      "cell_type": "code",
      "source": [],
      "metadata": {
        "id": "x8xjC-P6Ppfb"
      },
      "id": "x8xjC-P6Ppfb",
      "execution_count": null,
      "outputs": []
    },
    {
      "cell_type": "markdown",
      "source": [
        "## deepFM"
      ],
      "metadata": {
        "id": "A2XDU2gcvO-X"
      },
      "id": "A2XDU2gcvO-X"
    },
    {
      "cell_type": "code",
      "source": [
        "train_data.build_negative_samples(\n",
        "        data_info, num_neg=1, item_gen_mode=\"random\", seed=2020\n",
        "    )\n",
        "test_data.build_negative_samples(\n",
        "        data_info, num_neg=1, item_gen_mode=\"random\", seed=2222\n",
        "    )"
      ],
      "metadata": {
        "colab": {
          "base_uri": "https://localhost:8080/"
        },
        "id": "kTBmL7T2qcS7",
        "outputId": "45c2f02f-6c86-485a-f6e3-e1a1e2e8ae22"
      },
      "id": "kTBmL7T2qcS7",
      "execution_count": null,
      "outputs": [
        {
          "output_type": "stream",
          "name": "stdout",
          "text": [
            "random neg item sampling elapsed: 0.060s\n",
            "random neg item sampling elapsed: 0.014s\n"
          ]
        }
      ]
    },
    {
      "cell_type": "code",
      "source": [
        "deepfm = DeepFM(\n",
        "        \"ranking\",\n",
        "        data_info,\n",
        "        embed_size=128,\n",
        "        n_epochs=30,\n",
        "        lr=1e-4,\n",
        "        lr_decay=False,\n",
        "        reg=None,\n",
        "        batch_size=256,\n",
        "        num_neg=1,\n",
        "        use_bn=False,\n",
        "        dropout_rate=None,\n",
        "        hidden_units=\"128,128,32\",\n",
        "        tf_sess_config=None,\n",
        "    )\n",
        "    "
      ],
      "metadata": {
        "colab": {
          "base_uri": "https://localhost:8080/"
        },
        "id": "LgmG0om8dDDA",
        "outputId": "b97ea3a6-c69d-460d-ff71-41fa7ca4e119"
      },
      "id": "LgmG0om8dDDA",
      "execution_count": null,
      "outputs": [
        {
          "output_type": "stream",
          "name": "stdout",
          "text": [
            "total params: \u001b[33m1,284,294\u001b[0m | embedding params: \u001b[33m987,195\u001b[0m | network params: \u001b[33m297,099\u001b[0m\n"
          ]
        }
      ]
    },
    {
      "cell_type": "code",
      "source": [
        "deepfm.fit(\n",
        "        train_data,\n",
        "        verbose=2,\n",
        "        shuffle=True,\n",
        "        eval_data=test_data,\n",
        "        metrics=[\n",
        "            \"loss\",\n",
        "            \"balanced_accuracy\",\n",
        "            \"roc_auc\",\n",
        "            \"pr_auc\",\n",
        "            \"precision\",\n",
        "            \"recall\",\n",
        "            \"map\",\n",
        "            \"ndcg\",\n",
        "        ],\n",
        "    )\n"
      ],
      "metadata": {
        "colab": {
          "base_uri": "https://localhost:8080/"
        },
        "id": "IcV1AtVjsIGJ",
        "outputId": "6bb5e39b-e7e0-46c0-d101-30627f5d6c79"
      },
      "id": "IcV1AtVjsIGJ",
      "execution_count": null,
      "outputs": [
        {
          "output_type": "stream",
          "name": "stdout",
          "text": [
            "Training start time: \u001b[35m2023-02-05 11:41:44\u001b[0m\n"
          ]
        },
        {
          "output_type": "stream",
          "name": "stderr",
          "text": [
            "train: 100%|██████████| 602/602 [00:02<00:00, 215.38it/s]\n"
          ]
        },
        {
          "output_type": "stream",
          "name": "stdout",
          "text": [
            "Epoch 1 elapsed: 2.841s\n",
            "\t \u001b[32mtrain_loss: 0.4281\u001b[0m\n"
          ]
        },
        {
          "output_type": "stream",
          "name": "stderr",
          "text": [
            "eval_pred: 100%|██████████| 5/5 [00:00<00:00, 89.38it/s]\n",
            "eval_rec: 100%|██████████| 759/759 [00:01<00:00, 437.92it/s]\n"
          ]
        },
        {
          "output_type": "stream",
          "name": "stdout",
          "text": [
            "\t eval log_loss: 0.3037\n",
            "\t eval balanced accuracy: 0.8768\n",
            "\t eval roc_auc: 0.9435\n",
            "\t eval pr_auc: 0.9467\n",
            "\t eval precision@10: 0.0241\n",
            "\t eval recall@10: 0.0596\n",
            "\t eval map@10: 0.0806\n",
            "\t eval ndcg@10: 0.1131\n",
            "==============================\n"
          ]
        },
        {
          "output_type": "stream",
          "name": "stderr",
          "text": [
            "train: 100%|██████████| 602/602 [00:03<00:00, 188.00it/s]\n"
          ]
        },
        {
          "output_type": "stream",
          "name": "stdout",
          "text": [
            "Epoch 2 elapsed: 3.254s\n",
            "\t \u001b[32mtrain_loss: 0.3107\u001b[0m\n"
          ]
        },
        {
          "output_type": "stream",
          "name": "stderr",
          "text": [
            "eval_pred: 100%|██████████| 5/5 [00:00<00:00, 224.98it/s]\n",
            "eval_rec: 100%|██████████| 759/759 [00:01<00:00, 440.29it/s]\n"
          ]
        },
        {
          "output_type": "stream",
          "name": "stdout",
          "text": [
            "\t eval log_loss: 0.2995\n",
            "\t eval balanced accuracy: 0.8795\n",
            "\t eval roc_auc: 0.9449\n",
            "\t eval pr_auc: 0.9477\n",
            "\t eval precision@10: 0.0232\n",
            "\t eval recall@10: 0.0576\n",
            "\t eval map@10: 0.0808\n",
            "\t eval ndcg@10: 0.1110\n",
            "==============================\n"
          ]
        },
        {
          "output_type": "stream",
          "name": "stderr",
          "text": [
            "train: 100%|██████████| 602/602 [00:02<00:00, 226.30it/s]\n"
          ]
        },
        {
          "output_type": "stream",
          "name": "stdout",
          "text": [
            "Epoch 3 elapsed: 2.703s\n",
            "\t \u001b[32mtrain_loss: 0.3059\u001b[0m\n"
          ]
        },
        {
          "output_type": "stream",
          "name": "stderr",
          "text": [
            "eval_pred: 100%|██████████| 5/5 [00:00<00:00, 226.85it/s]\n",
            "eval_rec: 100%|██████████| 759/759 [00:01<00:00, 441.87it/s]\n"
          ]
        },
        {
          "output_type": "stream",
          "name": "stdout",
          "text": [
            "\t eval log_loss: 0.2976\n",
            "\t eval balanced accuracy: 0.8789\n",
            "\t eval roc_auc: 0.9456\n",
            "\t eval pr_auc: 0.9478\n",
            "\t eval precision@10: 0.0232\n",
            "\t eval recall@10: 0.0570\n",
            "\t eval map@10: 0.0798\n",
            "\t eval ndcg@10: 0.1104\n",
            "==============================\n"
          ]
        },
        {
          "output_type": "stream",
          "name": "stderr",
          "text": [
            "train: 100%|██████████| 602/602 [00:03<00:00, 197.12it/s]\n"
          ]
        },
        {
          "output_type": "stream",
          "name": "stdout",
          "text": [
            "Epoch 4 elapsed: 3.095s\n",
            "\t \u001b[32mtrain_loss: 0.3033\u001b[0m\n"
          ]
        },
        {
          "output_type": "stream",
          "name": "stderr",
          "text": [
            "eval_pred: 100%|██████████| 5/5 [00:00<00:00, 215.64it/s]\n",
            "eval_rec: 100%|██████████| 759/759 [00:01<00:00, 438.45it/s]\n"
          ]
        },
        {
          "output_type": "stream",
          "name": "stdout",
          "text": [
            "\t eval log_loss: 0.2972\n",
            "\t eval balanced accuracy: 0.8795\n",
            "\t eval roc_auc: 0.9461\n",
            "\t eval pr_auc: 0.9486\n",
            "\t eval precision@10: 0.0237\n",
            "\t eval recall@10: 0.0594\n",
            "\t eval map@10: 0.0805\n",
            "\t eval ndcg@10: 0.1120\n",
            "==============================\n"
          ]
        },
        {
          "output_type": "stream",
          "name": "stderr",
          "text": [
            "train: 100%|██████████| 602/602 [00:02<00:00, 224.97it/s]\n"
          ]
        },
        {
          "output_type": "stream",
          "name": "stdout",
          "text": [
            "Epoch 5 elapsed: 2.718s\n",
            "\t \u001b[32mtrain_loss: 0.3001\u001b[0m\n"
          ]
        },
        {
          "output_type": "stream",
          "name": "stderr",
          "text": [
            "eval_pred: 100%|██████████| 5/5 [00:00<00:00, 231.74it/s]\n",
            "eval_rec: 100%|██████████| 759/759 [00:01<00:00, 441.81it/s]\n"
          ]
        },
        {
          "output_type": "stream",
          "name": "stdout",
          "text": [
            "\t eval log_loss: 0.2942\n",
            "\t eval balanced accuracy: 0.8778\n",
            "\t eval roc_auc: 0.9468\n",
            "\t eval pr_auc: 0.9499\n",
            "\t eval precision@10: 0.0241\n",
            "\t eval recall@10: 0.0602\n",
            "\t eval map@10: 0.0803\n",
            "\t eval ndcg@10: 0.1123\n",
            "==============================\n"
          ]
        },
        {
          "output_type": "stream",
          "name": "stderr",
          "text": [
            "train: 100%|██████████| 602/602 [00:03<00:00, 173.16it/s]\n"
          ]
        },
        {
          "output_type": "stream",
          "name": "stdout",
          "text": [
            "Epoch 6 elapsed: 3.536s\n",
            "\t \u001b[32mtrain_loss: 0.2958\u001b[0m\n"
          ]
        },
        {
          "output_type": "stream",
          "name": "stderr",
          "text": [
            "eval_pred: 100%|██████████| 5/5 [00:00<00:00, 214.77it/s]\n",
            "eval_rec: 100%|██████████| 759/759 [00:01<00:00, 416.48it/s]\n"
          ]
        },
        {
          "output_type": "stream",
          "name": "stdout",
          "text": [
            "\t eval log_loss: 0.2917\n",
            "\t eval balanced accuracy: 0.8768\n",
            "\t eval roc_auc: 0.9480\n",
            "\t eval pr_auc: 0.9508\n",
            "\t eval precision@10: 0.0245\n",
            "\t eval recall@10: 0.0596\n",
            "\t eval map@10: 0.0792\n",
            "\t eval ndcg@10: 0.1114\n",
            "==============================\n"
          ]
        },
        {
          "output_type": "stream",
          "name": "stderr",
          "text": [
            "train: 100%|██████████| 602/602 [00:02<00:00, 218.34it/s]\n"
          ]
        },
        {
          "output_type": "stream",
          "name": "stdout",
          "text": [
            "Epoch 7 elapsed: 2.804s\n",
            "\t \u001b[32mtrain_loss: 0.2918\u001b[0m\n"
          ]
        },
        {
          "output_type": "stream",
          "name": "stderr",
          "text": [
            "eval_pred: 100%|██████████| 5/5 [00:00<00:00, 216.30it/s]\n",
            "eval_rec: 100%|██████████| 759/759 [00:01<00:00, 441.88it/s]\n"
          ]
        },
        {
          "output_type": "stream",
          "name": "stdout",
          "text": [
            "\t eval log_loss: 0.2895\n",
            "\t eval balanced accuracy: 0.8752\n",
            "\t eval roc_auc: 0.9488\n",
            "\t eval pr_auc: 0.9512\n",
            "\t eval precision@10: 0.0248\n",
            "\t eval recall@10: 0.0604\n",
            "\t eval map@10: 0.0806\n",
            "\t eval ndcg@10: 0.1135\n",
            "==============================\n"
          ]
        },
        {
          "output_type": "stream",
          "name": "stderr",
          "text": [
            "train: 100%|██████████| 602/602 [00:02<00:00, 228.87it/s]\n"
          ]
        },
        {
          "output_type": "stream",
          "name": "stdout",
          "text": [
            "Epoch 8 elapsed: 2.669s\n",
            "\t \u001b[32mtrain_loss: 0.2889\u001b[0m\n"
          ]
        },
        {
          "output_type": "stream",
          "name": "stderr",
          "text": [
            "eval_pred: 100%|██████████| 5/5 [00:00<00:00, 238.24it/s]\n",
            "eval_rec: 100%|██████████| 759/759 [00:01<00:00, 429.61it/s]\n"
          ]
        },
        {
          "output_type": "stream",
          "name": "stdout",
          "text": [
            "\t eval log_loss: 0.2881\n",
            "\t eval balanced accuracy: 0.8763\n",
            "\t eval roc_auc: 0.9494\n",
            "\t eval pr_auc: 0.9514\n",
            "\t eval precision@10: 0.0245\n",
            "\t eval recall@10: 0.0602\n",
            "\t eval map@10: 0.0806\n",
            "\t eval ndcg@10: 0.1131\n",
            "==============================\n"
          ]
        },
        {
          "output_type": "stream",
          "name": "stderr",
          "text": [
            "train: 100%|██████████| 602/602 [00:02<00:00, 223.77it/s]\n"
          ]
        },
        {
          "output_type": "stream",
          "name": "stdout",
          "text": [
            "Epoch 9 elapsed: 2.730s\n",
            "\t \u001b[32mtrain_loss: 0.2864\u001b[0m\n"
          ]
        },
        {
          "output_type": "stream",
          "name": "stderr",
          "text": [
            "eval_pred: 100%|██████████| 5/5 [00:00<00:00, 215.08it/s]\n",
            "eval_rec: 100%|██████████| 759/759 [00:01<00:00, 433.89it/s]\n"
          ]
        },
        {
          "output_type": "stream",
          "name": "stdout",
          "text": [
            "\t eval log_loss: 0.2875\n",
            "\t eval balanced accuracy: 0.8756\n",
            "\t eval roc_auc: 0.9497\n",
            "\t eval pr_auc: 0.9514\n",
            "\t eval precision@10: 0.0245\n",
            "\t eval recall@10: 0.0602\n",
            "\t eval map@10: 0.0806\n",
            "\t eval ndcg@10: 0.1131\n",
            "==============================\n"
          ]
        },
        {
          "output_type": "stream",
          "name": "stderr",
          "text": [
            "train: 100%|██████████| 602/602 [00:02<00:00, 229.12it/s]\n"
          ]
        },
        {
          "output_type": "stream",
          "name": "stdout",
          "text": [
            "Epoch 10 elapsed: 2.672s\n",
            "\t \u001b[32mtrain_loss: 0.2842\u001b[0m\n"
          ]
        },
        {
          "output_type": "stream",
          "name": "stderr",
          "text": [
            "eval_pred: 100%|██████████| 5/5 [00:00<00:00, 237.57it/s]\n",
            "eval_rec: 100%|██████████| 759/759 [00:01<00:00, 441.05it/s]\n"
          ]
        },
        {
          "output_type": "stream",
          "name": "stdout",
          "text": [
            "\t eval log_loss: 0.2868\n",
            "\t eval balanced accuracy: 0.8758\n",
            "\t eval roc_auc: 0.9500\n",
            "\t eval pr_auc: 0.9515\n",
            "\t eval precision@10: 0.0244\n",
            "\t eval recall@10: 0.0602\n",
            "\t eval map@10: 0.0806\n",
            "\t eval ndcg@10: 0.1130\n",
            "==============================\n"
          ]
        },
        {
          "output_type": "stream",
          "name": "stderr",
          "text": [
            "train: 100%|██████████| 602/602 [00:02<00:00, 226.20it/s]\n"
          ]
        },
        {
          "output_type": "stream",
          "name": "stdout",
          "text": [
            "Epoch 11 elapsed: 2.701s\n",
            "\t \u001b[32mtrain_loss: 0.2817\u001b[0m\n"
          ]
        },
        {
          "output_type": "stream",
          "name": "stderr",
          "text": [
            "eval_pred: 100%|██████████| 5/5 [00:00<00:00, 234.47it/s]\n",
            "eval_rec: 100%|██████████| 759/759 [00:01<00:00, 439.78it/s]\n"
          ]
        },
        {
          "output_type": "stream",
          "name": "stdout",
          "text": [
            "\t eval log_loss: 0.2845\n",
            "\t eval balanced accuracy: 0.8763\n",
            "\t eval roc_auc: 0.9507\n",
            "\t eval pr_auc: 0.9521\n",
            "\t eval precision@10: 0.0246\n",
            "\t eval recall@10: 0.0597\n",
            "\t eval map@10: 0.0804\n",
            "\t eval ndcg@10: 0.1132\n",
            "==============================\n"
          ]
        },
        {
          "output_type": "stream",
          "name": "stderr",
          "text": [
            "train: 100%|██████████| 602/602 [00:02<00:00, 227.93it/s]\n"
          ]
        },
        {
          "output_type": "stream",
          "name": "stdout",
          "text": [
            "Epoch 12 elapsed: 2.680s\n",
            "\t \u001b[32mtrain_loss: 0.2776\u001b[0m\n"
          ]
        },
        {
          "output_type": "stream",
          "name": "stderr",
          "text": [
            "eval_pred: 100%|██████████| 5/5 [00:00<00:00, 234.31it/s]\n",
            "eval_rec: 100%|██████████| 759/759 [00:01<00:00, 437.44it/s]\n"
          ]
        },
        {
          "output_type": "stream",
          "name": "stdout",
          "text": [
            "\t eval log_loss: 0.2810\n",
            "\t eval balanced accuracy: 0.8787\n",
            "\t eval roc_auc: 0.9521\n",
            "\t eval pr_auc: 0.9533\n",
            "\t eval precision@10: 0.0244\n",
            "\t eval recall@10: 0.0603\n",
            "\t eval map@10: 0.0810\n",
            "\t eval ndcg@10: 0.1132\n",
            "==============================\n"
          ]
        },
        {
          "output_type": "stream",
          "name": "stderr",
          "text": [
            "train: 100%|██████████| 602/602 [00:02<00:00, 226.24it/s]\n"
          ]
        },
        {
          "output_type": "stream",
          "name": "stdout",
          "text": [
            "Epoch 13 elapsed: 2.702s\n",
            "\t \u001b[32mtrain_loss: 0.2702\u001b[0m\n"
          ]
        },
        {
          "output_type": "stream",
          "name": "stderr",
          "text": [
            "eval_pred: 100%|██████████| 5/5 [00:00<00:00, 232.67it/s]\n",
            "eval_rec: 100%|██████████| 759/759 [00:01<00:00, 417.00it/s]\n"
          ]
        },
        {
          "output_type": "stream",
          "name": "stdout",
          "text": [
            "\t eval log_loss: 0.2726\n",
            "\t eval balanced accuracy: 0.8853\n",
            "\t eval roc_auc: 0.9551\n",
            "\t eval pr_auc: 0.9559\n",
            "\t eval precision@10: 0.0238\n",
            "\t eval recall@10: 0.0591\n",
            "\t eval map@10: 0.0810\n",
            "\t eval ndcg@10: 0.1128\n",
            "==============================\n"
          ]
        },
        {
          "output_type": "stream",
          "name": "stderr",
          "text": [
            "train: 100%|██████████| 602/602 [00:02<00:00, 211.64it/s]\n"
          ]
        },
        {
          "output_type": "stream",
          "name": "stdout",
          "text": [
            "Epoch 14 elapsed: 2.884s\n",
            "\t \u001b[32mtrain_loss: 0.2588\u001b[0m\n"
          ]
        },
        {
          "output_type": "stream",
          "name": "stderr",
          "text": [
            "eval_pred: 100%|██████████| 5/5 [00:00<00:00, 182.94it/s]\n",
            "eval_rec: 100%|██████████| 759/759 [00:01<00:00, 419.29it/s]\n"
          ]
        },
        {
          "output_type": "stream",
          "name": "stdout",
          "text": [
            "\t eval log_loss: 0.2626\n",
            "\t eval balanced accuracy: 0.8917\n",
            "\t eval roc_auc: 0.9589\n",
            "\t eval pr_auc: 0.9591\n",
            "\t eval precision@10: 0.0225\n",
            "\t eval recall@10: 0.0584\n",
            "\t eval map@10: 0.0785\n",
            "\t eval ndcg@10: 0.1084\n",
            "==============================\n"
          ]
        },
        {
          "output_type": "stream",
          "name": "stderr",
          "text": [
            "train: 100%|██████████| 602/602 [00:02<00:00, 227.48it/s]\n"
          ]
        },
        {
          "output_type": "stream",
          "name": "stdout",
          "text": [
            "Epoch 15 elapsed: 2.690s\n",
            "\t \u001b[32mtrain_loss: 0.2454\u001b[0m\n"
          ]
        },
        {
          "output_type": "stream",
          "name": "stderr",
          "text": [
            "eval_pred: 100%|██████████| 5/5 [00:00<00:00, 232.99it/s]\n",
            "eval_rec: 100%|██████████| 759/759 [00:01<00:00, 440.03it/s]\n"
          ]
        },
        {
          "output_type": "stream",
          "name": "stdout",
          "text": [
            "\t eval log_loss: 0.2524\n",
            "\t eval balanced accuracy: 0.8986\n",
            "\t eval roc_auc: 0.9623\n",
            "\t eval pr_auc: 0.9616\n",
            "\t eval precision@10: 0.0202\n",
            "\t eval recall@10: 0.0550\n",
            "\t eval map@10: 0.0776\n",
            "\t eval ndcg@10: 0.1039\n",
            "==============================\n"
          ]
        },
        {
          "output_type": "stream",
          "name": "stderr",
          "text": [
            "train: 100%|██████████| 602/602 [00:02<00:00, 229.31it/s]\n"
          ]
        },
        {
          "output_type": "stream",
          "name": "stdout",
          "text": [
            "Epoch 16 elapsed: 2.666s\n",
            "\t \u001b[32mtrain_loss: 0.2321\u001b[0m\n"
          ]
        },
        {
          "output_type": "stream",
          "name": "stderr",
          "text": [
            "eval_pred: 100%|██████████| 5/5 [00:00<00:00, 216.86it/s]\n",
            "eval_rec: 100%|██████████| 759/759 [00:01<00:00, 440.20it/s]\n"
          ]
        },
        {
          "output_type": "stream",
          "name": "stdout",
          "text": [
            "\t eval log_loss: 0.2439\n",
            "\t eval balanced accuracy: 0.9019\n",
            "\t eval roc_auc: 0.9651\n",
            "\t eval pr_auc: 0.9639\n",
            "\t eval precision@10: 0.0211\n",
            "\t eval recall@10: 0.0532\n",
            "\t eval map@10: 0.0742\n",
            "\t eval ndcg@10: 0.1018\n",
            "==============================\n"
          ]
        },
        {
          "output_type": "stream",
          "name": "stderr",
          "text": [
            "train: 100%|██████████| 602/602 [00:02<00:00, 229.20it/s]\n"
          ]
        },
        {
          "output_type": "stream",
          "name": "stdout",
          "text": [
            "Epoch 17 elapsed: 2.667s\n",
            "\t \u001b[32mtrain_loss: 0.2209\u001b[0m\n"
          ]
        },
        {
          "output_type": "stream",
          "name": "stderr",
          "text": [
            "eval_pred: 100%|██████████| 5/5 [00:00<00:00, 227.86it/s]\n",
            "eval_rec: 100%|██████████| 759/759 [00:01<00:00, 438.50it/s]\n"
          ]
        },
        {
          "output_type": "stream",
          "name": "stdout",
          "text": [
            "\t eval log_loss: 0.2396\n",
            "\t eval balanced accuracy: 0.9054\n",
            "\t eval roc_auc: 0.9665\n",
            "\t eval pr_auc: 0.9648\n",
            "\t eval precision@10: 0.0203\n",
            "\t eval recall@10: 0.0533\n",
            "\t eval map@10: 0.0736\n",
            "\t eval ndcg@10: 0.1000\n",
            "==============================\n"
          ]
        },
        {
          "output_type": "stream",
          "name": "stderr",
          "text": [
            "train: 100%|██████████| 602/602 [00:02<00:00, 228.53it/s]\n"
          ]
        },
        {
          "output_type": "stream",
          "name": "stdout",
          "text": [
            "Epoch 18 elapsed: 2.675s\n",
            "\t \u001b[32mtrain_loss: 0.2118\u001b[0m\n"
          ]
        },
        {
          "output_type": "stream",
          "name": "stderr",
          "text": [
            "eval_pred: 100%|██████████| 5/5 [00:00<00:00, 235.79it/s]\n",
            "eval_rec: 100%|██████████| 759/759 [00:01<00:00, 439.17it/s]\n"
          ]
        },
        {
          "output_type": "stream",
          "name": "stdout",
          "text": [
            "\t eval log_loss: 0.2344\n",
            "\t eval balanced accuracy: 0.9081\n",
            "\t eval roc_auc: 0.9675\n",
            "\t eval pr_auc: 0.9657\n",
            "\t eval precision@10: 0.0207\n",
            "\t eval recall@10: 0.0541\n",
            "\t eval map@10: 0.0753\n",
            "\t eval ndcg@10: 0.1024\n",
            "==============================\n"
          ]
        },
        {
          "output_type": "stream",
          "name": "stderr",
          "text": [
            "train: 100%|██████████| 602/602 [00:02<00:00, 212.01it/s]\n"
          ]
        },
        {
          "output_type": "stream",
          "name": "stdout",
          "text": [
            "Epoch 19 elapsed: 2.882s\n",
            "\t \u001b[32mtrain_loss: 0.2047\u001b[0m\n"
          ]
        },
        {
          "output_type": "stream",
          "name": "stderr",
          "text": [
            "eval_pred: 100%|██████████| 5/5 [00:00<00:00, 228.25it/s]\n",
            "eval_rec: 100%|██████████| 759/759 [00:01<00:00, 407.08it/s]\n"
          ]
        },
        {
          "output_type": "stream",
          "name": "stdout",
          "text": [
            "\t eval log_loss: 0.2308\n",
            "\t eval balanced accuracy: 0.9107\n",
            "\t eval roc_auc: 0.9684\n",
            "\t eval pr_auc: 0.9663\n",
            "\t eval precision@10: 0.0191\n",
            "\t eval recall@10: 0.0497\n",
            "\t eval map@10: 0.0736\n",
            "\t eval ndcg@10: 0.0981\n",
            "==============================\n"
          ]
        },
        {
          "output_type": "stream",
          "name": "stderr",
          "text": [
            "train: 100%|██████████| 602/602 [00:02<00:00, 230.50it/s]\n"
          ]
        },
        {
          "output_type": "stream",
          "name": "stdout",
          "text": [
            "Epoch 20 elapsed: 2.654s\n",
            "\t \u001b[32mtrain_loss: 0.1986\u001b[0m\n"
          ]
        },
        {
          "output_type": "stream",
          "name": "stderr",
          "text": [
            "eval_pred: 100%|██████████| 5/5 [00:00<00:00, 220.98it/s]\n",
            "eval_rec: 100%|██████████| 759/759 [00:01<00:00, 437.16it/s]\n"
          ]
        },
        {
          "output_type": "stream",
          "name": "stdout",
          "text": [
            "\t eval log_loss: 0.2291\n",
            "\t eval balanced accuracy: 0.9116\n",
            "\t eval roc_auc: 0.9693\n",
            "\t eval pr_auc: 0.9670\n",
            "\t eval precision@10: 0.0206\n",
            "\t eval recall@10: 0.0541\n",
            "\t eval map@10: 0.0762\n",
            "\t eval ndcg@10: 0.1033\n",
            "==============================\n"
          ]
        },
        {
          "output_type": "stream",
          "name": "stderr",
          "text": [
            "train: 100%|██████████| 602/602 [00:02<00:00, 229.56it/s]\n"
          ]
        },
        {
          "output_type": "stream",
          "name": "stdout",
          "text": [
            "Epoch 21 elapsed: 2.662s\n",
            "\t \u001b[32mtrain_loss: 0.1935\u001b[0m\n"
          ]
        },
        {
          "output_type": "stream",
          "name": "stderr",
          "text": [
            "eval_pred: 100%|██████████| 5/5 [00:00<00:00, 225.87it/s]\n",
            "eval_rec: 100%|██████████| 759/759 [00:01<00:00, 437.56it/s]\n"
          ]
        },
        {
          "output_type": "stream",
          "name": "stdout",
          "text": [
            "\t eval log_loss: 0.2261\n",
            "\t eval balanced accuracy: 0.9134\n",
            "\t eval roc_auc: 0.9698\n",
            "\t eval pr_auc: 0.9675\n",
            "\t eval precision@10: 0.0202\n",
            "\t eval recall@10: 0.0508\n",
            "\t eval map@10: 0.0734\n",
            "\t eval ndcg@10: 0.0997\n",
            "==============================\n"
          ]
        },
        {
          "output_type": "stream",
          "name": "stderr",
          "text": [
            "train: 100%|██████████| 602/602 [00:02<00:00, 228.89it/s]\n"
          ]
        },
        {
          "output_type": "stream",
          "name": "stdout",
          "text": [
            "Epoch 22 elapsed: 2.669s\n",
            "\t \u001b[32mtrain_loss: 0.189\u001b[0m\n"
          ]
        },
        {
          "output_type": "stream",
          "name": "stderr",
          "text": [
            "eval_pred: 100%|██████████| 5/5 [00:00<00:00, 230.79it/s]\n",
            "eval_rec: 100%|██████████| 759/759 [00:01<00:00, 440.34it/s]\n"
          ]
        },
        {
          "output_type": "stream",
          "name": "stdout",
          "text": [
            "\t eval log_loss: 0.2235\n",
            "\t eval balanced accuracy: 0.9156\n",
            "\t eval roc_auc: 0.9698\n",
            "\t eval pr_auc: 0.9673\n",
            "\t eval precision@10: 0.0195\n",
            "\t eval recall@10: 0.0486\n",
            "\t eval map@10: 0.0711\n",
            "\t eval ndcg@10: 0.0964\n",
            "==============================\n"
          ]
        },
        {
          "output_type": "stream",
          "name": "stderr",
          "text": [
            "train: 100%|██████████| 602/602 [00:02<00:00, 230.58it/s]\n"
          ]
        },
        {
          "output_type": "stream",
          "name": "stdout",
          "text": [
            "Epoch 23 elapsed: 2.651s\n",
            "\t \u001b[32mtrain_loss: 0.1846\u001b[0m\n"
          ]
        },
        {
          "output_type": "stream",
          "name": "stderr",
          "text": [
            "eval_pred: 100%|██████████| 5/5 [00:00<00:00, 209.00it/s]\n",
            "eval_rec: 100%|██████████| 759/759 [00:01<00:00, 441.73it/s]\n"
          ]
        },
        {
          "output_type": "stream",
          "name": "stdout",
          "text": [
            "\t eval log_loss: 0.2200\n",
            "\t eval balanced accuracy: 0.9154\n",
            "\t eval roc_auc: 0.9704\n",
            "\t eval pr_auc: 0.9677\n",
            "\t eval precision@10: 0.0187\n",
            "\t eval recall@10: 0.0474\n",
            "\t eval map@10: 0.0678\n",
            "\t eval ndcg@10: 0.0921\n",
            "==============================\n"
          ]
        },
        {
          "output_type": "stream",
          "name": "stderr",
          "text": [
            "train: 100%|██████████| 602/602 [00:02<00:00, 231.05it/s]\n"
          ]
        },
        {
          "output_type": "stream",
          "name": "stdout",
          "text": [
            "Epoch 24 elapsed: 2.648s\n",
            "\t \u001b[32mtrain_loss: 0.1811\u001b[0m\n"
          ]
        },
        {
          "output_type": "stream",
          "name": "stderr",
          "text": [
            "eval_pred: 100%|██████████| 5/5 [00:00<00:00, 225.84it/s]\n",
            "eval_rec: 100%|██████████| 759/759 [00:01<00:00, 439.78it/s]\n"
          ]
        },
        {
          "output_type": "stream",
          "name": "stdout",
          "text": [
            "\t eval log_loss: 0.2193\n",
            "\t eval balanced accuracy: 0.9157\n",
            "\t eval roc_auc: 0.9707\n",
            "\t eval pr_auc: 0.9679\n",
            "\t eval precision@10: 0.0192\n",
            "\t eval recall@10: 0.0485\n",
            "\t eval map@10: 0.0697\n",
            "\t eval ndcg@10: 0.0953\n",
            "==============================\n"
          ]
        },
        {
          "output_type": "stream",
          "name": "stderr",
          "text": [
            "train: 100%|██████████| 602/602 [00:02<00:00, 229.78it/s]\n"
          ]
        },
        {
          "output_type": "stream",
          "name": "stdout",
          "text": [
            "Epoch 25 elapsed: 2.663s\n",
            "\t \u001b[32mtrain_loss: 0.1775\u001b[0m\n"
          ]
        },
        {
          "output_type": "stream",
          "name": "stderr",
          "text": [
            "eval_pred: 100%|██████████| 5/5 [00:00<00:00, 228.01it/s]\n",
            "eval_rec: 100%|██████████| 759/759 [00:01<00:00, 433.22it/s]\n"
          ]
        },
        {
          "output_type": "stream",
          "name": "stdout",
          "text": [
            "\t eval log_loss: 0.2196\n",
            "\t eval balanced accuracy: 0.9178\n",
            "\t eval roc_auc: 0.9710\n",
            "\t eval pr_auc: 0.9683\n",
            "\t eval precision@10: 0.0195\n",
            "\t eval recall@10: 0.0478\n",
            "\t eval map@10: 0.0715\n",
            "\t eval ndcg@10: 0.0971\n",
            "==============================\n"
          ]
        },
        {
          "output_type": "stream",
          "name": "stderr",
          "text": [
            "train: 100%|██████████| 602/602 [00:02<00:00, 227.84it/s]\n"
          ]
        },
        {
          "output_type": "stream",
          "name": "stdout",
          "text": [
            "Epoch 26 elapsed: 2.684s\n",
            "\t \u001b[32mtrain_loss: 0.1744\u001b[0m\n"
          ]
        },
        {
          "output_type": "stream",
          "name": "stderr",
          "text": [
            "eval_pred: 100%|██████████| 5/5 [00:00<00:00, 238.30it/s]\n",
            "eval_rec: 100%|██████████| 759/759 [00:01<00:00, 437.88it/s]\n"
          ]
        },
        {
          "output_type": "stream",
          "name": "stdout",
          "text": [
            "\t eval log_loss: 0.2174\n",
            "\t eval balanced accuracy: 0.9175\n",
            "\t eval roc_auc: 0.9711\n",
            "\t eval pr_auc: 0.9682\n",
            "\t eval precision@10: 0.0195\n",
            "\t eval recall@10: 0.0480\n",
            "\t eval map@10: 0.0675\n",
            "\t eval ndcg@10: 0.0932\n",
            "==============================\n"
          ]
        },
        {
          "output_type": "stream",
          "name": "stderr",
          "text": [
            "train: 100%|██████████| 602/602 [00:02<00:00, 229.05it/s]\n"
          ]
        },
        {
          "output_type": "stream",
          "name": "stdout",
          "text": [
            "Epoch 27 elapsed: 2.669s\n",
            "\t \u001b[32mtrain_loss: 0.1707\u001b[0m\n"
          ]
        },
        {
          "output_type": "stream",
          "name": "stderr",
          "text": [
            "eval_pred: 100%|██████████| 5/5 [00:00<00:00, 247.49it/s]\n",
            "eval_rec: 100%|██████████| 759/759 [00:01<00:00, 440.60it/s]\n"
          ]
        },
        {
          "output_type": "stream",
          "name": "stdout",
          "text": [
            "\t eval log_loss: 0.2173\n",
            "\t eval balanced accuracy: 0.9186\n",
            "\t eval roc_auc: 0.9718\n",
            "\t eval pr_auc: 0.9690\n",
            "\t eval precision@10: 0.0198\n",
            "\t eval recall@10: 0.0477\n",
            "\t eval map@10: 0.0736\n",
            "\t eval ndcg@10: 0.0992\n",
            "==============================\n"
          ]
        },
        {
          "output_type": "stream",
          "name": "stderr",
          "text": [
            "train: 100%|██████████| 602/602 [00:02<00:00, 228.94it/s]\n"
          ]
        },
        {
          "output_type": "stream",
          "name": "stdout",
          "text": [
            "Epoch 28 elapsed: 2.672s\n",
            "\t \u001b[32mtrain_loss: 0.1668\u001b[0m\n"
          ]
        },
        {
          "output_type": "stream",
          "name": "stderr",
          "text": [
            "eval_pred: 100%|██████████| 5/5 [00:00<00:00, 233.11it/s]\n",
            "eval_rec: 100%|██████████| 759/759 [00:01<00:00, 443.51it/s]\n"
          ]
        },
        {
          "output_type": "stream",
          "name": "stdout",
          "text": [
            "\t eval log_loss: 0.2146\n",
            "\t eval balanced accuracy: 0.9209\n",
            "\t eval roc_auc: 0.9720\n",
            "\t eval pr_auc: 0.9689\n",
            "\t eval precision@10: 0.0182\n",
            "\t eval recall@10: 0.0467\n",
            "\t eval map@10: 0.0684\n",
            "\t eval ndcg@10: 0.0922\n",
            "==============================\n"
          ]
        },
        {
          "output_type": "stream",
          "name": "stderr",
          "text": [
            "train: 100%|██████████| 602/602 [00:02<00:00, 230.29it/s]\n"
          ]
        },
        {
          "output_type": "stream",
          "name": "stdout",
          "text": [
            "Epoch 29 elapsed: 2.654s\n",
            "\t \u001b[32mtrain_loss: 0.1642\u001b[0m\n"
          ]
        },
        {
          "output_type": "stream",
          "name": "stderr",
          "text": [
            "eval_pred: 100%|██████████| 5/5 [00:00<00:00, 233.47it/s]\n",
            "eval_rec: 100%|██████████| 759/759 [00:01<00:00, 439.18it/s]\n"
          ]
        },
        {
          "output_type": "stream",
          "name": "stdout",
          "text": [
            "\t eval log_loss: 0.2147\n",
            "\t eval balanced accuracy: 0.9204\n",
            "\t eval roc_auc: 0.9723\n",
            "\t eval pr_auc: 0.9692\n",
            "\t eval precision@10: 0.0179\n",
            "\t eval recall@10: 0.0450\n",
            "\t eval map@10: 0.0675\n",
            "\t eval ndcg@10: 0.0902\n",
            "==============================\n"
          ]
        },
        {
          "output_type": "stream",
          "name": "stderr",
          "text": [
            "train: 100%|██████████| 602/602 [00:02<00:00, 228.15it/s]\n"
          ]
        },
        {
          "output_type": "stream",
          "name": "stdout",
          "text": [
            "Epoch 30 elapsed: 2.679s\n",
            "\t \u001b[32mtrain_loss: 0.1608\u001b[0m\n"
          ]
        },
        {
          "output_type": "stream",
          "name": "stderr",
          "text": [
            "eval_pred: 100%|██████████| 5/5 [00:00<00:00, 236.46it/s]\n",
            "eval_rec: 100%|██████████| 759/759 [00:01<00:00, 438.86it/s]\n"
          ]
        },
        {
          "output_type": "stream",
          "name": "stdout",
          "text": [
            "\t eval log_loss: 0.2121\n",
            "\t eval balanced accuracy: 0.9202\n",
            "\t eval roc_auc: 0.9722\n",
            "\t eval pr_auc: 0.9689\n",
            "\t eval precision@10: 0.0167\n",
            "\t eval recall@10: 0.0406\n",
            "\t eval map@10: 0.0653\n",
            "\t eval ndcg@10: 0.0860\n",
            "==============================\n"
          ]
        }
      ]
    },
    {
      "cell_type": "code",
      "source": [
        "print( \"recommendation: \",\n",
        "        deepfm.recommend_user(\n",
        "            user=0,\n",
        "            n_rec=7,\n",
        "            inner_id=False,\n",
        "            cold_start=\"average\",\n",
        "            user_feats=pd.Series({\"daytime\": \"morning\", \"weekday\": \"sunday\t\", \"isweekend\": \"weekend\",\"homework\": \"unknown\", \"cost\": \"free\t\", \"weather\": \"sunny\",\"country\":\"United States\",\"city\":\"0\"}),\n",
        "           \n",
        "        ))\n",
        "    "
      ],
      "metadata": {
        "colab": {
          "base_uri": "https://localhost:8080/"
        },
        "id": "eeJ3pgq4Okh6",
        "outputId": "d0fbde72-cd9f-4403-c504-c24c7ba04764"
      },
      "id": "eeJ3pgq4Okh6",
      "execution_count": null,
      "outputs": [
        {
          "output_type": "stream",
          "name": "stdout",
          "text": [
            "recommendation:  [(5, 0.9997583), (59, 0.9994455), (38, 0.9992636), (103, 0.9990024), (49, 0.9988986), (11, 0.9986292), (319, 0.9983712)]\n"
          ]
        }
      ]
    }
  ],
  "metadata": {
    "kernelspec": {
      "display_name": "Python 3",
      "language": "python",
      "name": "python3"
    },
    "language_info": {
      "codemirror_mode": {
        "name": "ipython",
        "version": 3
      },
      "file_extension": ".py",
      "mimetype": "text/x-python",
      "name": "python",
      "nbconvert_exporter": "python",
      "pygments_lexer": "ipython3",
      "version": "3.6.5"
    },
    "colab": {
      "provenance": [],
      "collapsed_sections": [
        "ohsC49cVr-Ox"
      ],
      "machine_shape": "hm"
    },
    "gpuClass": "standard",
    "accelerator": "GPU"
  },
  "nbformat": 4,
  "nbformat_minor": 5
}