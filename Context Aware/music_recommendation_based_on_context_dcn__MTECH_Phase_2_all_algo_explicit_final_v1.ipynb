{
  "cells": [
    {
      "cell_type": "code",
      "source": [
        "gpu_info = !nvidia-smi\n",
        "gpu_info = '\\n'.join(gpu_info)\n",
        "if gpu_info.find('failed') >= 0:\n",
        "  print('Not connected to a GPU')\n",
        "else:\n",
        "  print(gpu_info)"
      ],
      "metadata": {
        "colab": {
          "base_uri": "https://localhost:8080/"
        },
        "id": "_QphkgcDcwxr",
        "outputId": "9e0b578f-7906-472d-cd91-d69bc635e5db"
      },
      "id": "_QphkgcDcwxr",
      "execution_count": null,
      "outputs": [
        {
          "output_type": "stream",
          "name": "stdout",
          "text": [
            "Wed Feb  8 13:52:25 2023       \n",
            "+-----------------------------------------------------------------------------+\n",
            "| NVIDIA-SMI 510.47.03    Driver Version: 510.47.03    CUDA Version: 11.6     |\n",
            "|-------------------------------+----------------------+----------------------+\n",
            "| GPU  Name        Persistence-M| Bus-Id        Disp.A | Volatile Uncorr. ECC |\n",
            "| Fan  Temp  Perf  Pwr:Usage/Cap|         Memory-Usage | GPU-Util  Compute M. |\n",
            "|                               |                      |               MIG M. |\n",
            "|===============================+======================+======================|\n",
            "|   0  Tesla T4            Off  | 00000000:00:04.0 Off |                    0 |\n",
            "| N/A   64C    P0    31W /  70W |    482MiB / 15360MiB |      0%      Default |\n",
            "|                               |                      |                  N/A |\n",
            "+-------------------------------+----------------------+----------------------+\n",
            "                                                                               \n",
            "+-----------------------------------------------------------------------------+\n",
            "| Processes:                                                                  |\n",
            "|  GPU   GI   CI        PID   Type   Process name                  GPU Memory |\n",
            "|        ID   ID                                                   Usage      |\n",
            "|=============================================================================|\n",
            "|    0   N/A  N/A     11137      C                                     479MiB |\n",
            "+-----------------------------------------------------------------------------+\n"
          ]
        }
      ]
    },
    {
      "cell_type": "code",
      "source": [
        "from psutil import virtual_memory\n",
        "ram_gb = virtual_memory().total / 1e9\n",
        "print('Your runtime has {:.1f} gigabytes of available RAM\\n'.format(ram_gb))\n",
        "\n",
        "if ram_gb < 20:\n",
        "  print('Not using a high-RAM runtime')\n",
        "else:\n",
        "  print('You are using a high-RAM runtime!')"
      ],
      "metadata": {
        "colab": {
          "base_uri": "https://localhost:8080/"
        },
        "id": "Kq_W9JJDczFA",
        "outputId": "2adc29d0-8d74-4f8f-f676-baaa7a5d2b10"
      },
      "id": "Kq_W9JJDczFA",
      "execution_count": null,
      "outputs": [
        {
          "output_type": "stream",
          "name": "stdout",
          "text": [
            "Your runtime has 27.3 gigabytes of available RAM\n",
            "\n",
            "You are using a high-RAM runtime!\n"
          ]
        }
      ]
    },
    {
      "cell_type": "code",
      "execution_count": null,
      "id": "84eddad3",
      "metadata": {
        "id": "84eddad3"
      },
      "outputs": [],
      "source": [
        "from datetime import datetime\n",
        "import os\n",
        "import matplotlib\n",
        "import pandas as pd\n",
        "import numpy as np\n",
        "import matplotlib.pyplot as plt\n",
        "import seaborn as sns\n",
        "sns.set_style('whitegrid')\n",
        "\n",
        "from scipy import sparse\n",
        "from scipy.sparse import csc_matrix\n",
        "from sklearn.decomposition import TruncatedSVD\n",
        "\n",
        "np.random.seed(0)"
      ]
    },
    {
      "cell_type": "markdown",
      "metadata": {
        "id": "ohsC49cVr-Ox"
      },
      "source": [
        "### Setup and Load dataset"
      ],
      "id": "ohsC49cVr-Ox"
    },
    {
      "cell_type": "code",
      "execution_count": null,
      "metadata": {
        "id": "DjzX44HQr-Ox"
      },
      "outputs": [],
      "source": [
        "\n",
        "import pandas as pd\n",
        "import os\n",
        "from os.path import exists\n",
        "import zipfile\n",
        "import numpy as np"
      ],
      "id": "DjzX44HQr-Ox"
    },
    {
      "cell_type": "code",
      "source": [
        "!pip install gdown"
      ],
      "metadata": {
        "colab": {
          "base_uri": "https://localhost:8080/"
        },
        "outputId": "e2d40534-c2e9-415d-ee87-6189d4831835",
        "id": "woePr-2jr-Ox"
      },
      "execution_count": null,
      "outputs": [
        {
          "output_type": "stream",
          "name": "stdout",
          "text": [
            "Looking in indexes: https://pypi.org/simple, https://us-python.pkg.dev/colab-wheels/public/simple/\n",
            "Requirement already satisfied: gdown in /usr/local/lib/python3.8/dist-packages (4.4.0)\n",
            "Requirement already satisfied: filelock in /usr/local/lib/python3.8/dist-packages (from gdown) (3.9.0)\n",
            "Requirement already satisfied: tqdm in /usr/local/lib/python3.8/dist-packages (from gdown) (4.64.1)\n",
            "Requirement already satisfied: beautifulsoup4 in /usr/local/lib/python3.8/dist-packages (from gdown) (4.6.3)\n",
            "Requirement already satisfied: requests[socks] in /usr/local/lib/python3.8/dist-packages (from gdown) (2.25.1)\n",
            "Requirement already satisfied: six in /usr/local/lib/python3.8/dist-packages (from gdown) (1.15.0)\n",
            "Requirement already satisfied: chardet<5,>=3.0.2 in /usr/local/lib/python3.8/dist-packages (from requests[socks]->gdown) (4.0.0)\n",
            "Requirement already satisfied: urllib3<1.27,>=1.21.1 in /usr/local/lib/python3.8/dist-packages (from requests[socks]->gdown) (1.24.3)\n",
            "Requirement already satisfied: certifi>=2017.4.17 in /usr/local/lib/python3.8/dist-packages (from requests[socks]->gdown) (2022.12.7)\n",
            "Requirement already satisfied: idna<3,>=2.5 in /usr/local/lib/python3.8/dist-packages (from requests[socks]->gdown) (2.10)\n",
            "Requirement already satisfied: PySocks!=1.5.7,>=1.5.6 in /usr/local/lib/python3.8/dist-packages (from requests[socks]->gdown) (1.7.1)\n"
          ]
        }
      ],
      "id": "woePr-2jr-Ox"
    },
    {
      "cell_type": "code",
      "source": [],
      "metadata": {
        "id": "dGS3UDKhw7TR"
      },
      "id": "dGS3UDKhw7TR",
      "execution_count": null,
      "outputs": []
    },
    {
      "cell_type": "code",
      "source": [
        "!gdown https://drive.google.com/uc?id=1gfGS5iL8-8HxdWVtTHXLGWGfPZRvMj6x\n"
      ],
      "metadata": {
        "colab": {
          "base_uri": "https://localhost:8080/"
        },
        "outputId": "cdc8d537-ed56-4c88-f3f2-b32dca96eeab",
        "id": "5YlrLKiBr-Oy"
      },
      "execution_count": null,
      "outputs": [
        {
          "output_type": "stream",
          "name": "stdout",
          "text": [
            "Downloading...\n",
            "From: https://drive.google.com/uc?id=1gfGS5iL8-8HxdWVtTHXLGWGfPZRvMj6x\n",
            "To: /content/Music_InCarMusic.zip\n",
            "\r  0% 0.00/152k [00:00<?, ?B/s]\r100% 152k/152k [00:00<00:00, 80.4MB/s]\n"
          ]
        }
      ],
      "id": "5YlrLKiBr-Oy"
    },
    {
      "cell_type": "code",
      "source": [
        "!unzip \"Music_InCarMusic.zip\"  -d  \"/content\""
      ],
      "metadata": {
        "colab": {
          "base_uri": "https://localhost:8080/"
        },
        "id": "ncJF1kivt_uR",
        "outputId": "8dd0f10f-14af-4f54-bd49-3195cd72254c"
      },
      "execution_count": null,
      "outputs": [
        {
          "output_type": "stream",
          "name": "stdout",
          "text": [
            "Archive:  Music_InCarMusic.zip\n",
            "replace /content/Music_InCarMusic/Data_InCarMusic.xlsx? [y]es, [n]o, [A]ll, [N]one, [r]ename: A\n",
            "  inflating: /content/Music_InCarMusic/Data_InCarMusic.xlsx  \n",
            "  inflating: /content/Music_InCarMusic/ReadMe.txt  \n"
          ]
        }
      ],
      "id": "ncJF1kivt_uR"
    },
    {
      "cell_type": "code",
      "source": [
        "!pip install pandas openpyxl"
      ],
      "metadata": {
        "colab": {
          "base_uri": "https://localhost:8080/"
        },
        "id": "3mtrGQTYOckU",
        "outputId": "ec8e48ef-c06d-49b8-c26c-ae327f4da49b"
      },
      "execution_count": null,
      "outputs": [
        {
          "output_type": "stream",
          "name": "stdout",
          "text": [
            "Looking in indexes: https://pypi.org/simple, https://us-python.pkg.dev/colab-wheels/public/simple/\n",
            "Requirement already satisfied: pandas in /usr/local/lib/python3.8/dist-packages (1.3.5)\n",
            "Requirement already satisfied: openpyxl in /usr/local/lib/python3.8/dist-packages (3.0.10)\n",
            "Requirement already satisfied: pytz>=2017.3 in /usr/local/lib/python3.8/dist-packages (from pandas) (2022.7.1)\n",
            "Requirement already satisfied: python-dateutil>=2.7.3 in /usr/local/lib/python3.8/dist-packages (from pandas) (2.8.2)\n",
            "Requirement already satisfied: numpy>=1.17.3 in /usr/local/lib/python3.8/dist-packages (from pandas) (1.21.6)\n",
            "Requirement already satisfied: et-xmlfile in /usr/local/lib/python3.8/dist-packages (from openpyxl) (1.1.0)\n",
            "Requirement already satisfied: six>=1.5 in /usr/local/lib/python3.8/dist-packages (from python-dateutil>=2.7.3->pandas) (1.15.0)\n"
          ]
        }
      ],
      "id": "3mtrGQTYOckU"
    },
    {
      "cell_type": "code",
      "source": [
        "\n",
        "import pandas as pd\n",
        "\n",
        "xls = pd.ExcelFile(r\"Music_InCarMusic/Data_InCarMusic.xlsx\") \n",
        "\n",
        "rating_df = xls.parse(0) #2 is the sheet number+1 thus if the file has only 1 sheet write 0 in paranthesis\n",
        "music_df = xls.parse(2)\n",
        "context_df = xls.parse(1)\n",
        "cat_df = xls.parse(3)"
      ],
      "metadata": {
        "id": "vJmVTv85OheC"
      },
      "execution_count": null,
      "outputs": [],
      "id": "vJmVTv85OheC"
    },
    {
      "cell_type": "code",
      "source": [
        "rating_df['mood'] = rating_df['mood'].fillna('NA')\n",
        "rating_df['RoadType'] = rating_df['RoadType'].fillna('NA')\n",
        "rating_df['sleepiness'] = rating_df['sleepiness'].fillna('NA')\n",
        "rating_df['trafficConditions'] = rating_df['trafficConditions'].fillna('NA')\n",
        "rating_df['weather'] = rating_df['weather'].fillna('NA')\n",
        "rating_df['landscape'] = rating_df['landscape'].fillna('NA')\n",
        "rating_df['DrivingStyle'] = rating_df['DrivingStyle'].fillna('NA')\n",
        "\n",
        "rating_df['naturalphenomena '] = rating_df['naturalphenomena '].fillna('NA')\n",
        "rating_df.head(1)"
      ],
      "metadata": {
        "colab": {
          "base_uri": "https://localhost:8080/",
          "height": 80
        },
        "id": "2Pa0S-lIx7hD",
        "outputId": "59586d4d-39d8-49bb-e655-5f51a7114488"
      },
      "id": "2Pa0S-lIx7hD",
      "execution_count": null,
      "outputs": [
        {
          "output_type": "execute_result",
          "data": {
            "text/plain": [
              "   UserID  ItemID   Rating DrivingStyle landscape mood naturalphenomena   \\\n",
              "0    1001     715        2           NA        NA   NA                NA   \n",
              "\n",
              "  RoadType sleepiness trafficConditions weather  \n",
              "0       NA         NA                NA   sunny  "
            ],
            "text/html": [
              "\n",
              "  <div id=\"df-8e20c488-1a02-452e-8f47-144bc3a3d956\">\n",
              "    <div class=\"colab-df-container\">\n",
              "      <div>\n",
              "<style scoped>\n",
              "    .dataframe tbody tr th:only-of-type {\n",
              "        vertical-align: middle;\n",
              "    }\n",
              "\n",
              "    .dataframe tbody tr th {\n",
              "        vertical-align: top;\n",
              "    }\n",
              "\n",
              "    .dataframe thead th {\n",
              "        text-align: right;\n",
              "    }\n",
              "</style>\n",
              "<table border=\"1\" class=\"dataframe\">\n",
              "  <thead>\n",
              "    <tr style=\"text-align: right;\">\n",
              "      <th></th>\n",
              "      <th>UserID</th>\n",
              "      <th>ItemID</th>\n",
              "      <th>Rating</th>\n",
              "      <th>DrivingStyle</th>\n",
              "      <th>landscape</th>\n",
              "      <th>mood</th>\n",
              "      <th>naturalphenomena</th>\n",
              "      <th>RoadType</th>\n",
              "      <th>sleepiness</th>\n",
              "      <th>trafficConditions</th>\n",
              "      <th>weather</th>\n",
              "    </tr>\n",
              "  </thead>\n",
              "  <tbody>\n",
              "    <tr>\n",
              "      <th>0</th>\n",
              "      <td>1001</td>\n",
              "      <td>715</td>\n",
              "      <td>2</td>\n",
              "      <td>NA</td>\n",
              "      <td>NA</td>\n",
              "      <td>NA</td>\n",
              "      <td>NA</td>\n",
              "      <td>NA</td>\n",
              "      <td>NA</td>\n",
              "      <td>NA</td>\n",
              "      <td>sunny</td>\n",
              "    </tr>\n",
              "  </tbody>\n",
              "</table>\n",
              "</div>\n",
              "      <button class=\"colab-df-convert\" onclick=\"convertToInteractive('df-8e20c488-1a02-452e-8f47-144bc3a3d956')\"\n",
              "              title=\"Convert this dataframe to an interactive table.\"\n",
              "              style=\"display:none;\">\n",
              "        \n",
              "  <svg xmlns=\"http://www.w3.org/2000/svg\" height=\"24px\"viewBox=\"0 0 24 24\"\n",
              "       width=\"24px\">\n",
              "    <path d=\"M0 0h24v24H0V0z\" fill=\"none\"/>\n",
              "    <path d=\"M18.56 5.44l.94 2.06.94-2.06 2.06-.94-2.06-.94-.94-2.06-.94 2.06-2.06.94zm-11 1L8.5 8.5l.94-2.06 2.06-.94-2.06-.94L8.5 2.5l-.94 2.06-2.06.94zm10 10l.94 2.06.94-2.06 2.06-.94-2.06-.94-.94-2.06-.94 2.06-2.06.94z\"/><path d=\"M17.41 7.96l-1.37-1.37c-.4-.4-.92-.59-1.43-.59-.52 0-1.04.2-1.43.59L10.3 9.45l-7.72 7.72c-.78.78-.78 2.05 0 2.83L4 21.41c.39.39.9.59 1.41.59.51 0 1.02-.2 1.41-.59l7.78-7.78 2.81-2.81c.8-.78.8-2.07 0-2.86zM5.41 20L4 18.59l7.72-7.72 1.47 1.35L5.41 20z\"/>\n",
              "  </svg>\n",
              "      </button>\n",
              "      \n",
              "  <style>\n",
              "    .colab-df-container {\n",
              "      display:flex;\n",
              "      flex-wrap:wrap;\n",
              "      gap: 12px;\n",
              "    }\n",
              "\n",
              "    .colab-df-convert {\n",
              "      background-color: #E8F0FE;\n",
              "      border: none;\n",
              "      border-radius: 50%;\n",
              "      cursor: pointer;\n",
              "      display: none;\n",
              "      fill: #1967D2;\n",
              "      height: 32px;\n",
              "      padding: 0 0 0 0;\n",
              "      width: 32px;\n",
              "    }\n",
              "\n",
              "    .colab-df-convert:hover {\n",
              "      background-color: #E2EBFA;\n",
              "      box-shadow: 0px 1px 2px rgba(60, 64, 67, 0.3), 0px 1px 3px 1px rgba(60, 64, 67, 0.15);\n",
              "      fill: #174EA6;\n",
              "    }\n",
              "\n",
              "    [theme=dark] .colab-df-convert {\n",
              "      background-color: #3B4455;\n",
              "      fill: #D2E3FC;\n",
              "    }\n",
              "\n",
              "    [theme=dark] .colab-df-convert:hover {\n",
              "      background-color: #434B5C;\n",
              "      box-shadow: 0px 1px 3px 1px rgba(0, 0, 0, 0.15);\n",
              "      filter: drop-shadow(0px 1px 2px rgba(0, 0, 0, 0.3));\n",
              "      fill: #FFFFFF;\n",
              "    }\n",
              "  </style>\n",
              "\n",
              "      <script>\n",
              "        const buttonEl =\n",
              "          document.querySelector('#df-8e20c488-1a02-452e-8f47-144bc3a3d956 button.colab-df-convert');\n",
              "        buttonEl.style.display =\n",
              "          google.colab.kernel.accessAllowed ? 'block' : 'none';\n",
              "\n",
              "        async function convertToInteractive(key) {\n",
              "          const element = document.querySelector('#df-8e20c488-1a02-452e-8f47-144bc3a3d956');\n",
              "          const dataTable =\n",
              "            await google.colab.kernel.invokeFunction('convertToInteractive',\n",
              "                                                     [key], {});\n",
              "          if (!dataTable) return;\n",
              "\n",
              "          const docLinkHtml = 'Like what you see? Visit the ' +\n",
              "            '<a target=\"_blank\" href=https://colab.research.google.com/notebooks/data_table.ipynb>data table notebook</a>'\n",
              "            + ' to learn more about interactive tables.';\n",
              "          element.innerHTML = '';\n",
              "          dataTable['output_type'] = 'display_data';\n",
              "          await google.colab.output.renderOutput(dataTable, element);\n",
              "          const docLink = document.createElement('div');\n",
              "          docLink.innerHTML = docLinkHtml;\n",
              "          element.appendChild(docLink);\n",
              "        }\n",
              "      </script>\n",
              "    </div>\n",
              "  </div>\n",
              "  "
            ]
          },
          "metadata": {},
          "execution_count": 113
        }
      ]
    },
    {
      "cell_type": "code",
      "source": [
        "rating_df=rating_df.reset_index(drop=True)"
      ],
      "metadata": {
        "id": "p3CDyklH1Kv1"
      },
      "id": "p3CDyklH1Kv1",
      "execution_count": null,
      "outputs": []
    },
    {
      "cell_type": "code",
      "source": [
        "\n",
        "rating_df.rename(columns = {'UserID':'userID'}, inplace = True)\n",
        "rating_df.rename(columns = {'ItemID':'itemID'}, inplace = True)\n",
        "rating_df.rename(columns = {'naturalphenomena ':'naturalphenomena'}, inplace = True)\n",
        "rating_df.rename(columns = {' Rating':'rating'}, inplace = True)"
      ],
      "metadata": {
        "id": "csLcBNutO4QS"
      },
      "execution_count": null,
      "outputs": [],
      "id": "csLcBNutO4QS"
    },
    {
      "cell_type": "code",
      "source": [
        "rating_df[\"itemID\"] = rating_df[\"itemID\"].astype(str)\n",
        "rating_df[\"userID\"] = rating_df[\"userID\"].astype(str)\n",
        "rating_df[\"mood\"] = rating_df[\"mood\"].astype(str)\n",
        "rating_df[\"RoadType\"] = rating_df[\"RoadType\"].astype(str)\n",
        "rating_df[\"sleepiness\"] = rating_df[\"sleepiness\"].astype(str)\n",
        "rating_df[\"trafficConditions\"] = rating_df[\"trafficConditions\"].astype(str)\n",
        "rating_df[\"weather\"] = rating_df[\"weather\"].astype(str)\n",
        "rating_df[\"landscape\"] = rating_df[\"landscape\"].astype(str)\n",
        "rating_df[\"DrivingStyle\"] = rating_df[\"DrivingStyle\"].astype(str)\n",
        "rating_df[\"naturalphenomena\"] = rating_df[\"naturalphenomena\"].astype(str)"
      ],
      "metadata": {
        "id": "sZPaHa4i-oAr"
      },
      "execution_count": null,
      "outputs": [],
      "id": "sZPaHa4i-oAr"
    },
    {
      "cell_type": "markdown",
      "source": [
        "# Tensorflow recommenders"
      ],
      "metadata": {
        "id": "aHpgrDyYLe9Z"
      },
      "id": "aHpgrDyYLe9Z"
    },
    {
      "cell_type": "code",
      "source": [
        "!pip install tensorflow-recommenders==0.6.0\n"
      ],
      "metadata": {
        "id": "DySpFNPLeYvJ",
        "colab": {
          "base_uri": "https://localhost:8080/"
        },
        "outputId": "f5c99212-d830-49ff-ff43-9fd9af4f2765"
      },
      "execution_count": null,
      "outputs": [
        {
          "output_type": "stream",
          "name": "stdout",
          "text": [
            "Looking in indexes: https://pypi.org/simple, https://us-python.pkg.dev/colab-wheels/public/simple/\n",
            "Requirement already satisfied: tensorflow-recommenders==0.6.0 in /usr/local/lib/python3.8/dist-packages (0.6.0)\n",
            "Requirement already satisfied: absl-py>=0.1.6 in /usr/local/lib/python3.8/dist-packages (from tensorflow-recommenders==0.6.0) (1.4.0)\n",
            "Requirement already satisfied: tensorflow>=2.6.0 in /usr/local/lib/python3.8/dist-packages (from tensorflow-recommenders==0.6.0) (2.9.2)\n",
            "Requirement already satisfied: protobuf<3.20,>=3.9.2 in /usr/local/lib/python3.8/dist-packages (from tensorflow>=2.6.0->tensorflow-recommenders==0.6.0) (3.19.6)\n",
            "Requirement already satisfied: tensorboard<2.10,>=2.9 in /usr/local/lib/python3.8/dist-packages (from tensorflow>=2.6.0->tensorflow-recommenders==0.6.0) (2.9.1)\n",
            "Requirement already satisfied: tensorflow-estimator<2.10.0,>=2.9.0rc0 in /usr/local/lib/python3.8/dist-packages (from tensorflow>=2.6.0->tensorflow-recommenders==0.6.0) (2.9.0)\n",
            "Requirement already satisfied: packaging in /usr/local/lib/python3.8/dist-packages (from tensorflow>=2.6.0->tensorflow-recommenders==0.6.0) (23.0)\n",
            "Requirement already satisfied: six>=1.12.0 in /usr/local/lib/python3.8/dist-packages (from tensorflow>=2.6.0->tensorflow-recommenders==0.6.0) (1.15.0)\n",
            "Requirement already satisfied: flatbuffers<2,>=1.12 in /usr/local/lib/python3.8/dist-packages (from tensorflow>=2.6.0->tensorflow-recommenders==0.6.0) (1.12)\n",
            "Requirement already satisfied: keras-preprocessing>=1.1.1 in /usr/local/lib/python3.8/dist-packages (from tensorflow>=2.6.0->tensorflow-recommenders==0.6.0) (1.1.2)\n",
            "Requirement already satisfied: termcolor>=1.1.0 in /usr/local/lib/python3.8/dist-packages (from tensorflow>=2.6.0->tensorflow-recommenders==0.6.0) (2.2.0)\n",
            "Requirement already satisfied: keras<2.10.0,>=2.9.0rc0 in /usr/local/lib/python3.8/dist-packages (from tensorflow>=2.6.0->tensorflow-recommenders==0.6.0) (2.9.0)\n",
            "Requirement already satisfied: setuptools in /usr/local/lib/python3.8/dist-packages (from tensorflow>=2.6.0->tensorflow-recommenders==0.6.0) (57.4.0)\n",
            "Requirement already satisfied: numpy>=1.20 in /usr/local/lib/python3.8/dist-packages (from tensorflow>=2.6.0->tensorflow-recommenders==0.6.0) (1.21.6)\n",
            "Requirement already satisfied: typing-extensions>=3.6.6 in /usr/local/lib/python3.8/dist-packages (from tensorflow>=2.6.0->tensorflow-recommenders==0.6.0) (4.4.0)\n",
            "Requirement already satisfied: h5py>=2.9.0 in /usr/local/lib/python3.8/dist-packages (from tensorflow>=2.6.0->tensorflow-recommenders==0.6.0) (3.1.0)\n",
            "Requirement already satisfied: astunparse>=1.6.0 in /usr/local/lib/python3.8/dist-packages (from tensorflow>=2.6.0->tensorflow-recommenders==0.6.0) (1.6.3)\n",
            "Requirement already satisfied: grpcio<2.0,>=1.24.3 in /usr/local/lib/python3.8/dist-packages (from tensorflow>=2.6.0->tensorflow-recommenders==0.6.0) (1.51.1)\n",
            "Requirement already satisfied: wrapt>=1.11.0 in /usr/local/lib/python3.8/dist-packages (from tensorflow>=2.6.0->tensorflow-recommenders==0.6.0) (1.14.1)\n",
            "Requirement already satisfied: gast<=0.4.0,>=0.2.1 in /usr/local/lib/python3.8/dist-packages (from tensorflow>=2.6.0->tensorflow-recommenders==0.6.0) (0.4.0)\n",
            "Requirement already satisfied: libclang>=13.0.0 in /usr/local/lib/python3.8/dist-packages (from tensorflow>=2.6.0->tensorflow-recommenders==0.6.0) (15.0.6.1)\n",
            "Requirement already satisfied: google-pasta>=0.1.1 in /usr/local/lib/python3.8/dist-packages (from tensorflow>=2.6.0->tensorflow-recommenders==0.6.0) (0.2.0)\n",
            "Requirement already satisfied: tensorflow-io-gcs-filesystem>=0.23.1 in /usr/local/lib/python3.8/dist-packages (from tensorflow>=2.6.0->tensorflow-recommenders==0.6.0) (0.30.0)\n",
            "Requirement already satisfied: opt-einsum>=2.3.2 in /usr/local/lib/python3.8/dist-packages (from tensorflow>=2.6.0->tensorflow-recommenders==0.6.0) (3.3.0)\n",
            "Requirement already satisfied: wheel<1.0,>=0.23.0 in /usr/local/lib/python3.8/dist-packages (from astunparse>=1.6.0->tensorflow>=2.6.0->tensorflow-recommenders==0.6.0) (0.38.4)\n",
            "Requirement already satisfied: tensorboard-plugin-wit>=1.6.0 in /usr/local/lib/python3.8/dist-packages (from tensorboard<2.10,>=2.9->tensorflow>=2.6.0->tensorflow-recommenders==0.6.0) (1.8.1)\n",
            "Requirement already satisfied: google-auth-oauthlib<0.5,>=0.4.1 in /usr/local/lib/python3.8/dist-packages (from tensorboard<2.10,>=2.9->tensorflow>=2.6.0->tensorflow-recommenders==0.6.0) (0.4.6)\n",
            "Requirement already satisfied: werkzeug>=1.0.1 in /usr/local/lib/python3.8/dist-packages (from tensorboard<2.10,>=2.9->tensorflow>=2.6.0->tensorflow-recommenders==0.6.0) (1.0.1)\n",
            "Requirement already satisfied: markdown>=2.6.8 in /usr/local/lib/python3.8/dist-packages (from tensorboard<2.10,>=2.9->tensorflow>=2.6.0->tensorflow-recommenders==0.6.0) (3.4.1)\n",
            "Requirement already satisfied: tensorboard-data-server<0.7.0,>=0.6.0 in /usr/local/lib/python3.8/dist-packages (from tensorboard<2.10,>=2.9->tensorflow>=2.6.0->tensorflow-recommenders==0.6.0) (0.6.1)\n",
            "Requirement already satisfied: requests<3,>=2.21.0 in /usr/local/lib/python3.8/dist-packages (from tensorboard<2.10,>=2.9->tensorflow>=2.6.0->tensorflow-recommenders==0.6.0) (2.25.1)\n",
            "Requirement already satisfied: google-auth<3,>=1.6.3 in /usr/local/lib/python3.8/dist-packages (from tensorboard<2.10,>=2.9->tensorflow>=2.6.0->tensorflow-recommenders==0.6.0) (2.16.0)\n",
            "Requirement already satisfied: pyasn1-modules>=0.2.1 in /usr/local/lib/python3.8/dist-packages (from google-auth<3,>=1.6.3->tensorboard<2.10,>=2.9->tensorflow>=2.6.0->tensorflow-recommenders==0.6.0) (0.2.8)\n",
            "Requirement already satisfied: rsa<5,>=3.1.4 in /usr/local/lib/python3.8/dist-packages (from google-auth<3,>=1.6.3->tensorboard<2.10,>=2.9->tensorflow>=2.6.0->tensorflow-recommenders==0.6.0) (4.9)\n",
            "Requirement already satisfied: cachetools<6.0,>=2.0.0 in /usr/local/lib/python3.8/dist-packages (from google-auth<3,>=1.6.3->tensorboard<2.10,>=2.9->tensorflow>=2.6.0->tensorflow-recommenders==0.6.0) (5.3.0)\n",
            "Requirement already satisfied: requests-oauthlib>=0.7.0 in /usr/local/lib/python3.8/dist-packages (from google-auth-oauthlib<0.5,>=0.4.1->tensorboard<2.10,>=2.9->tensorflow>=2.6.0->tensorflow-recommenders==0.6.0) (1.3.1)\n",
            "Requirement already satisfied: importlib-metadata>=4.4 in /usr/local/lib/python3.8/dist-packages (from markdown>=2.6.8->tensorboard<2.10,>=2.9->tensorflow>=2.6.0->tensorflow-recommenders==0.6.0) (6.0.0)\n",
            "Requirement already satisfied: urllib3<1.27,>=1.21.1 in /usr/local/lib/python3.8/dist-packages (from requests<3,>=2.21.0->tensorboard<2.10,>=2.9->tensorflow>=2.6.0->tensorflow-recommenders==0.6.0) (1.24.3)\n",
            "Requirement already satisfied: idna<3,>=2.5 in /usr/local/lib/python3.8/dist-packages (from requests<3,>=2.21.0->tensorboard<2.10,>=2.9->tensorflow>=2.6.0->tensorflow-recommenders==0.6.0) (2.10)\n",
            "Requirement already satisfied: chardet<5,>=3.0.2 in /usr/local/lib/python3.8/dist-packages (from requests<3,>=2.21.0->tensorboard<2.10,>=2.9->tensorflow>=2.6.0->tensorflow-recommenders==0.6.0) (4.0.0)\n",
            "Requirement already satisfied: certifi>=2017.4.17 in /usr/local/lib/python3.8/dist-packages (from requests<3,>=2.21.0->tensorboard<2.10,>=2.9->tensorflow>=2.6.0->tensorflow-recommenders==0.6.0) (2022.12.7)\n",
            "Requirement already satisfied: zipp>=0.5 in /usr/local/lib/python3.8/dist-packages (from importlib-metadata>=4.4->markdown>=2.6.8->tensorboard<2.10,>=2.9->tensorflow>=2.6.0->tensorflow-recommenders==0.6.0) (3.12.0)\n",
            "Requirement already satisfied: pyasn1<0.5.0,>=0.4.6 in /usr/local/lib/python3.8/dist-packages (from pyasn1-modules>=0.2.1->google-auth<3,>=1.6.3->tensorboard<2.10,>=2.9->tensorflow>=2.6.0->tensorflow-recommenders==0.6.0) (0.4.8)\n",
            "Requirement already satisfied: oauthlib>=3.0.0 in /usr/local/lib/python3.8/dist-packages (from requests-oauthlib>=0.7.0->google-auth-oauthlib<0.5,>=0.4.1->tensorboard<2.10,>=2.9->tensorflow>=2.6.0->tensorflow-recommenders==0.6.0) (3.2.2)\n"
          ]
        }
      ],
      "id": "DySpFNPLeYvJ"
    },
    {
      "cell_type": "code",
      "source": [
        "import tensorflow as tf\n",
        "import tensorflow_datasets as tfds\n",
        "\n",
        "import tensorflow_recommenders as tfrs\n",
        "from typing import Dict, Text"
      ],
      "metadata": {
        "id": "etlRCOGlK81S"
      },
      "execution_count": null,
      "outputs": [],
      "id": "etlRCOGlK81S"
    },
    {
      "cell_type": "code",
      "source": [
        "interactions_dict = rating_df[['userID', \n",
        "                                'itemID',\n",
        "                                 'DrivingStyle',\n",
        "                                'landscape',\n",
        "                                'naturalphenomena',\n",
        "                                'RoadType',\n",
        "                                'sleepiness',\n",
        "                                'trafficConditions',\n",
        "                                'weather',\n",
        "                                'mood',\n",
        "                                'rating'\n",
        "                                      ]]\n"
      ],
      "metadata": {
        "id": "cE6nJ0aOXgSs"
      },
      "execution_count": null,
      "outputs": [],
      "id": "cE6nJ0aOXgSs"
    },
    {
      "cell_type": "code",
      "source": [
        "ratings = tf.data.Dataset.from_tensor_slices(dict(interactions_dict))"
      ],
      "metadata": {
        "id": "CvE7W3pwSGti"
      },
      "id": "CvE7W3pwSGti",
      "execution_count": null,
      "outputs": []
    },
    {
      "cell_type": "code",
      "source": [
        "# #interactions_dict = {name: np.array(value) for name, value in interactions_dict.items()}\n",
        "# interactions = tf.data.Dataset.from_tensor_slices(dict(interactions_dict))\n",
        "\n",
        "# ## item features\n",
        "# items_dict = rating_df[['itemID']].drop_duplicates()\n",
        "# #items_dict = {name: np.array(value) for name, value in items_dict.items()}\n",
        "# items = tf.data.Dataset.from_tensor_slices(dict(items_dict))\n",
        "\n",
        "# ## map the features in interactions and items\n"
      ],
      "metadata": {
        "id": "rYLVAIf1PDC2"
      },
      "execution_count": null,
      "outputs": [],
      "id": "rYLVAIf1PDC2"
    },
    {
      "cell_type": "code",
      "source": [
        "\n",
        "# # Select the basic features.\n",
        "# interactions = interactions.map(lambda x: {\n",
        "#     'userID' : str(x['userID']), \n",
        "#     'itemID' : str(x['itemID']), \n",
        "#     'DrivingStyle' : str(x['DrivingStyle']), \n",
        "#     'landscape' : str(x['landscape']), \n",
        "#     'naturalphenomena' : str(x['naturalphenomena']), \n",
        "#      'sleepiness' : str(x['sleepiness']), \n",
        "#     'RoadType' : str(x['RoadType']), \n",
        "#     'trafficConditions' : str(x['trafficConditions']), \n",
        "#      'weather' : str(x['weather']), \n",
        "#     'mood' : str(x['mood']), \n",
        "#     'rating' : int(x['rating']),\n",
        "    \n",
        "# })\n",
        "\n",
        "# itemlists = items.map(lambda x: str(x['itemID']))"
      ],
      "metadata": {
        "id": "Hq24vgVNerYr"
      },
      "id": "Hq24vgVNerYr",
      "execution_count": null,
      "outputs": []
    },
    {
      "cell_type": "code",
      "source": [
        "\n",
        "\n",
        "## item features\n",
        "items_dict = rating_df[['itemID']].drop_duplicates()\n",
        "#items_dict = {name: np.array(value) for name, value in items_dict.items()}\n",
        "items = tf.data.Dataset.from_tensor_slices(dict(items_dict))\n",
        "\n",
        "## map the features in interactions and items"
      ],
      "metadata": {
        "id": "mLzOzQp3SNIY"
      },
      "id": "mLzOzQp3SNIY",
      "execution_count": null,
      "outputs": []
    },
    {
      "cell_type": "code",
      "source": [
        "itemlists = items.map(lambda x: x['itemID'])"
      ],
      "metadata": {
        "id": "FbyKSSCeSKZp"
      },
      "id": "FbyKSSCeSKZp",
      "execution_count": null,
      "outputs": []
    },
    {
      "cell_type": "code",
      "source": [
        "# itemlists = items.map(lambda x: x['itemID'])"
      ],
      "metadata": {
        "id": "QEeCwFJBTXYE"
      },
      "id": "QEeCwFJBTXYE",
      "execution_count": null,
      "outputs": []
    },
    {
      "cell_type": "code",
      "source": [],
      "metadata": {
        "id": "xyhJYXfvQZkB"
      },
      "id": "xyhJYXfvQZkB",
      "execution_count": null,
      "outputs": []
    },
    {
      "cell_type": "code",
      "source": [
        "userIds    = rating_df.userID.unique()\n",
        "productIds = rating_df.itemID.unique()\n",
        "total_ratings= len(rating_df.index)"
      ],
      "metadata": {
        "id": "758XFYViZpB-"
      },
      "execution_count": null,
      "outputs": [],
      "id": "758XFYViZpB-"
    },
    {
      "cell_type": "code",
      "source": [
        "unique_mood = np.unique(np.concatenate(list(ratings.batch(1_000).map(lambda x: x[\"mood\"]))))"
      ],
      "metadata": {
        "id": "AQJ-cqomTvkb"
      },
      "id": "AQJ-cqomTvkb",
      "execution_count": null,
      "outputs": []
    },
    {
      "cell_type": "code",
      "source": [
        "\n",
        "unique_landscape = np.unique(np.concatenate(list(ratings.batch(1_000).map(lambda x: x[\"landscape\"]))))\n",
        "unique_DrivingStyle = np.unique(np.concatenate(list(ratings.batch(1_000).map(lambda x:x[\"DrivingStyle\"]))))\n",
        "\n",
        "unique_naturalphenomena = np.unique(np.concatenate(list(ratings.batch(1_000).map(lambda x: x[\"naturalphenomena\"]))))\n",
        "unique_RoadType =np.unique(np.concatenate(list(ratings.batch(1_000).map(lambda x: x[\"RoadType\"]))))\n",
        "unique_sleepiness =np.unique(np.concatenate(list(ratings.batch(1_000).map(lambda x: x[\"sleepiness\"]))))\n",
        "\n",
        "unique_trafficConditions =np.unique(np.concatenate(list(ratings.batch(1_000).map(lambda x: x[\"trafficConditions\"]))))\n",
        "unique_weather =np.unique(np.concatenate(list(ratings.batch(1_000).map(lambda x: x[\"weather\"]))))\n",
        "\n",
        "unique_user_ids =np.unique(np.concatenate(list(ratings.batch(1_000).map(lambda x: x[\"userID\"]))))"
      ],
      "metadata": {
        "id": "8yNfFjTkwWSF"
      },
      "execution_count": null,
      "outputs": [],
      "id": "8yNfFjTkwWSF"
    },
    {
      "cell_type": "code",
      "source": [
        "unique_items = np.unique(np.concatenate(list(items.batch(1000).map(lambda x: x[\"itemID\"]))))"
      ],
      "metadata": {
        "id": "bqeW6KSRUYm8"
      },
      "id": "bqeW6KSRUYm8",
      "execution_count": null,
      "outputs": []
    },
    {
      "cell_type": "code",
      "source": [],
      "metadata": {
        "id": "98CkMlFjQVfK"
      },
      "id": "98CkMlFjQVfK",
      "execution_count": null,
      "outputs": []
    },
    {
      "cell_type": "code",
      "source": [
        "total=ratings.__len__().numpy()\n",
        "train_size=(int) (total * .8 )\n",
        "test_size=(int) (total * .2 )"
      ],
      "metadata": {
        "id": "89VGTaYKX8mU"
      },
      "execution_count": null,
      "outputs": [],
      "id": "89VGTaYKX8mU"
    },
    {
      "cell_type": "code",
      "source": [
        "total_ratings= len(rating_df.index)\n",
        "tf.random.set_seed(42)\n",
        "shuffled = ratings.shuffle(int(total_ratings), seed=42, reshuffle_each_iteration=False)\n",
        "\n",
        "train = shuffled.take( int(total_ratings*0.8) )\n",
        "test = shuffled.skip(int(total_ratings*0.8)).take(int(total_ratings*0.2))\n",
        "# unique_productIds = unique_items\n",
        "# unique_userIds    = unique_user_ids\n",
        "cached_train = train.shuffle(100_000).batch(8192).cache()\n",
        "cached_test = test.batch(4096).cache()\n"
      ],
      "metadata": {
        "id": "v6qVBsUhX8mU"
      },
      "execution_count": null,
      "outputs": [],
      "id": "v6qVBsUhX8mU"
    },
    {
      "cell_type": "code",
      "source": [
        "# mood = np.concatenate(list(interactions.map(lambda x: x[\"mood\"]).batch(100)))\n",
        "# landscape = np.concatenate(list(interactions.map(lambda x: x[\"landscape\"]).batch(100)))\n",
        "# DrivingStyle = np.concatenate(list(interactions.map(lambda x: x[\"DrivingStyle\"]).batch(100)))\n",
        "\n",
        "# naturalphenomena = np.concatenate(list(interactions.map(lambda x: x[\"naturalphenomena\"]).batch(100)))\n",
        "# RoadType = np.concatenate(list(interactions.map(lambda x: x[\"RoadType\"]).batch(100)))\n",
        "# sleepiness = np.concatenate(list(interactions.map(lambda x: x[\"sleepiness\"]).batch(100)))\n",
        "\n",
        "# trafficConditions = np.concatenate(list(interactions.map(lambda x: x[\"trafficConditions\"]).batch(100)))\n",
        "# weather = np.concatenate(list(interactions.map(lambda x: x[\"weather\"]).batch(100)))"
      ],
      "metadata": {
        "id": "3od7QhjaMdEy"
      },
      "execution_count": null,
      "outputs": [],
      "id": "3od7QhjaMdEy"
    },
    {
      "cell_type": "code",
      "source": [
        "# itemlists=np.concatenate(list(items.map(lambda x: x[\"itemID\"]).batch(100)))"
      ],
      "metadata": {
        "id": "GK84MUMbVncW"
      },
      "id": "GK84MUMbVncW",
      "execution_count": null,
      "outputs": []
    },
    {
      "cell_type": "code",
      "source": [],
      "metadata": {
        "id": "dxNl3bABQj45"
      },
      "id": "dxNl3bABQj45",
      "execution_count": null,
      "outputs": []
    },
    {
      "cell_type": "markdown",
      "source": [
        "#  Retrival"
      ],
      "metadata": {
        "id": "_1fynukQ9omq"
      },
      "id": "_1fynukQ9omq"
    },
    {
      "cell_type": "code",
      "source": [
        "class UserModel(tf.keras.Model):\n",
        "\n",
        "    def __init__(self):\n",
        "        super().__init__()\n",
        "        \n",
        "        self.embedding_dimension = 32\n",
        "        max_tokens = 10_000\n",
        "\n",
        "        ## user id\n",
        "        self.user_embedding = tf.keras.Sequential([\n",
        "                                                    tf.keras.layers.experimental.preprocessing.StringLookup(\n",
        "                                                    vocabulary=unique_user_ids, mask_token=None),\n",
        "                                                    tf.keras.layers.Embedding(len(unique_user_ids) + 1, 32),\n",
        "                                                    ])\n",
        "       \n",
        "        # product category\n",
        "        # self.catagory_embedding = tf.keras.Sequential([\n",
        "        #                           tf.keras.layers.experimental.preprocessing.StringLookup(\n",
        "        #                             vocabulary=unique_category, mask_token=None),\n",
        "        #                           tf.keras.layers.Embedding(len(unique_category) + 1, self.embedding_dimension)\n",
        "        #                         ])\n",
        "        self.mood_embedding = tf.keras.Sequential([\n",
        "                                  tf.keras.layers.experimental.preprocessing.StringLookup(\n",
        "                                    vocabulary=unique_mood, mask_token=None),\n",
        "                                  tf.keras.layers.Embedding(len(unique_mood) + 1, self.embedding_dimension)\n",
        "                                ])\n",
        "\n",
        "        \n",
        "        # self.catagory_vectorizer = tf.keras.layers.experimental.preprocessing.TextVectorization(\n",
        "        #                                                                                 max_tokens=max_tokens)\n",
        "        # self.catagory_text_embedding = tf.keras.Sequential([\n",
        "        #                           self.catagory_vectorizer,\n",
        "        #                           tf.keras.layers.Embedding(max_tokens, self.embedding_dimension, mask_zero=True),\n",
        "        #                           tf.keras.layers.GlobalAveragePooling1D(),\n",
        "        #                         ])\n",
        "\n",
        "        # self.catagory_vectorizer.adapt(category)\n",
        "              \n",
        "        self.landscape_embedding = tf.keras.Sequential([\n",
        "                                  tf.keras.layers.experimental.preprocessing.StringLookup(\n",
        "                                    vocabulary=unique_landscape, mask_token=None),\n",
        "                                  tf.keras.layers.Embedding(len(unique_landscape) + 1, self.embedding_dimension)\n",
        "                                ])\n",
        "        self.DrivingStyle_embedding = tf.keras.Sequential([\n",
        "                                  tf.keras.layers.experimental.preprocessing.StringLookup(\n",
        "                                    vocabulary=unique_DrivingStyle, mask_token=None),\n",
        "                                  tf.keras.layers.Embedding(len(unique_DrivingStyle) + 1, self.embedding_dimension)\n",
        "                                ])\n",
        "        self.naturalphenomena_embedding = tf.keras.Sequential([\n",
        "                                  tf.keras.layers.experimental.preprocessing.StringLookup(\n",
        "                                    vocabulary=unique_naturalphenomena, mask_token=None),\n",
        "                                  tf.keras.layers.Embedding(len(unique_naturalphenomena) + 1, self.embedding_dimension)\n",
        "                                ])\n",
        "        self.RoadType_embedding = tf.keras.Sequential([\n",
        "                                  tf.keras.layers.experimental.preprocessing.StringLookup(\n",
        "                                    vocabulary=unique_RoadType, mask_token=None),\n",
        "                                  tf.keras.layers.Embedding(len(unique_RoadType) + 1, self.embedding_dimension)\n",
        "                                ])\n",
        "        self.sleepiness_embedding = tf.keras.Sequential([\n",
        "                                  tf.keras.layers.experimental.preprocessing.StringLookup(\n",
        "                                    vocabulary=unique_sleepiness, mask_token=None),\n",
        "                                  tf.keras.layers.Embedding(len(unique_sleepiness) + 1, self.embedding_dimension)\n",
        "                                ])\n",
        "        self.trafficConditions_embedding = tf.keras.Sequential([\n",
        "                                  tf.keras.layers.experimental.preprocessing.StringLookup(\n",
        "                                    vocabulary=unique_trafficConditions, mask_token=None),\n",
        "                                  tf.keras.layers.Embedding(len(unique_trafficConditions) + 1, self.embedding_dimension)\n",
        "                                ])\n",
        "        self.weather_embedding = tf.keras.Sequential([\n",
        "                                  tf.keras.layers.experimental.preprocessing.StringLookup(\n",
        "                                    vocabulary=unique_weather, mask_token=None),\n",
        "                                  tf.keras.layers.Embedding(len(unique_weather) + 1, self.embedding_dimension)\n",
        "                                ])\n",
        "\n",
        "\n",
        "        \n",
        "\n",
        "    def call(self, inputs):\n",
        "        # Take the input dictionary, pass it through each input layer,\n",
        "        # and concatenate the result.\n",
        "        return tf.concat([\n",
        "            self.user_embedding(inputs[\"userID\"]),\n",
        "            self.DrivingStyle_embedding(inputs[\"DrivingStyle\"]),\n",
        "            self.landscape_embedding(inputs[\"landscape\"]),\n",
        "            self.naturalphenomena_embedding(inputs[\"naturalphenomena\"]),\n",
        "            self.RoadType_embedding(inputs[\"RoadType\"]),\n",
        "            self.sleepiness_embedding(inputs[\"sleepiness\"]),\n",
        "            self.trafficConditions_embedding(inputs[\"trafficConditions\"]),\n",
        "            self.weather_embedding(inputs[\"weather\"]),\n",
        "            self.mood_embedding(inputs[\"mood\"])\n",
        "        ], axis=1)"
      ],
      "metadata": {
        "id": "qhCt0K7s9omt"
      },
      "execution_count": null,
      "outputs": [],
      "id": "qhCt0K7s9omt"
    },
    {
      "cell_type": "code",
      "source": [
        "class QueryModel(tf.keras.Model):\n",
        "    \"\"\"Model for encoding user queries.\"\"\"\n",
        "\n",
        "    def __init__(self, layer_sizes, projection_dim=None):\n",
        "        \"\"\"Model for encoding user queries\n",
        "        \"\"\"\n",
        "        super().__init__()\n",
        "\n",
        "        # We first use the user model for generating embeddings.\n",
        "        self.embedding_model = UserModel()\n",
        "            \n",
        "\n",
        "        # Then construct the layers.\n",
        "        self.dense_layers = tf.keras.Sequential()\n",
        "     \n",
        "      \n",
        "        for layer_size in layer_sizes[-1:]:\n",
        "            self.dense_layers.add(tf.keras.layers.Dense(layer_size))\n",
        "\n",
        "        # Use the ReLU activation for all but the last layer.\n",
        "        for layer_size in layer_sizes[:-1]:\n",
        "            self.dense_layers.add(tf.keras.layers.Dense(layer_size, activation=\"relu\"))\n",
        "\n",
        "        # No activation for the last layer.\n",
        "        for layer_size in layer_sizes[-1:]:\n",
        "            self.dense_layers.add(tf.keras.layers.Dense(layer_size))\n",
        "\n",
        "    def call(self, inputs):\n",
        "        feature_embedding = self.embedding_model(inputs)\n",
        "        return self.dense_layers(feature_embedding)"
      ],
      "metadata": {
        "id": "HnDEXl5h9omy"
      },
      "execution_count": null,
      "outputs": [],
      "id": "HnDEXl5h9omy"
    },
    {
      "cell_type": "code",
      "source": [
        "class ItemModel(tf.keras.Model):\n",
        "\n",
        "    def __init__(self):\n",
        "        super().__init__()\n",
        "        \n",
        "        self.embedding_dimension = 32\n",
        "\n",
        "        #max_tokens = 10_000\n",
        "\n",
        "        self.item_embedding = tf.keras.Sequential([\n",
        "          tf.keras.layers.experimental.preprocessing.StringLookup(\n",
        "              vocabulary=unique_items,mask_token=None),\n",
        "          tf.keras.layers.Embedding(len(unique_items) + 1, self.embedding_dimension)\n",
        "        ])\n",
        "\n",
        "        # self.item_vectorizer = tf.keras.layers.experimental.preprocessing.TextVectorization(\n",
        "        #     max_tokens=max_tokens)\n",
        "\n",
        "        # self.item_vectorizer.adapt(items)\n",
        "      \n",
        "    def call(self, it):\n",
        "        return tf.concat([\n",
        "            self.item_embedding(it)\n",
        "         \n",
        "        ], axis=1)"
      ],
      "metadata": {
        "id": "6YwOmVrt9om0"
      },
      "execution_count": null,
      "outputs": [],
      "id": "6YwOmVrt9om0"
    },
    {
      "cell_type": "code",
      "source": [
        "class CandidateModel(tf.keras.Model):\n",
        "    \"\"\"Model for encoding items.\"\"\"\n",
        "\n",
        "    def __init__(self, layer_sizes, projection_dim=None):\n",
        "        \"\"\"Model for encoding items.\n",
        "\n",
        "        \n",
        "        \"\"\"\n",
        "        super().__init__()\n",
        "\n",
        "        self.embedding_model = ItemModel()\n",
        "\n",
        "         # Then construct the layers.\n",
        "        self.dense_layers =  tf.keras.Sequential()\n",
        "     \n",
        "\n",
        "        # Use the ReLU activation for all but the last layer.\n",
        "        for layer_size in layer_sizes[:-1]:\n",
        "            self.dense_layers.add(tf.keras.layers.Dense(layer_size, activation=\"relu\"))\n",
        "\n",
        "        # No activation for the last layer.\n",
        "        for layer_size in layer_sizes[-1:]:\n",
        "            self.dense_layers.add(tf.keras.layers.Dense(layer_size))\n",
        "\n",
        "    def call(self, inputs):\n",
        "        feature_embedding = self.embedding_model(inputs)\n",
        "        return self.dense_layers(feature_embedding)"
      ],
      "metadata": {
        "id": "8xCUnFg59om1"
      },
      "execution_count": null,
      "outputs": [],
      "id": "8xCUnFg59om1"
    },
    {
      "cell_type": "code",
      "source": [
        "class RetrivalModel(tfrs.models.Model):\n",
        "\n",
        "    def __init__(self, layer_sizes,projection_dim=None ):\n",
        "        super().__init__()\n",
        "        \n",
        "        self.query_model : tf.keras.Model = QueryModel(layer_sizes)\n",
        "        self.candidate_model : tf.keras.Model = CandidateModel(layer_sizes)\n",
        "        \n",
        "        ## rating and retrieval task.\n",
        "        \n",
        "        # self.rating_task = tfrs.tasks.Ranking(\n",
        "        #     loss=tf.keras.losses.MeanSquaredError(),\n",
        "        #     metrics=[tf.keras.metrics.RootMeanSquaredError()],\n",
        "        # )\n",
        "                 \n",
        "        self.retrieval_task : tf.keras.layers.Layer = tfrs.tasks.Retrieval(\n",
        "            metrics=tfrs.metrics.FactorizedTopK(\n",
        "                candidates=itemlists.batch(128).map(self.candidate_model)\n",
        "            )\n",
        "        )\n",
        "\n",
        "    \n",
        "\n",
        "    def compute_loss(self, features, training=False):\n",
        "        \n",
        "        # We only pass the user id and timestamp features into the query model. This\n",
        "        # is to ensure that the training inputs would have the same keys as the\n",
        "        # query inputs. Otherwise the discrepancy in input structure would cause an\n",
        "        # error when loading the query model after saving it.\n",
        "        ratings = features.pop(\"rating\")\n",
        "        \n",
        "        query_embeddings = self.query_model({\n",
        "            \"userID\": features[\"userID\"],\n",
        "            \"DrivingStyle\": features[\"DrivingStyle\"],\n",
        "            \"landscape\": features[\"landscape\"],\n",
        "            \"naturalphenomena\": features[\"naturalphenomena\"],\n",
        "            \"RoadType\": features[\"RoadType\"],\n",
        "            \"sleepiness\": features[\"sleepiness\"],\n",
        "            \"trafficConditions\": features[\"trafficConditions\"],\n",
        "             \"weather\": features[\"weather\"],\n",
        "            \"mood\": features[\"mood\"]\n",
        "        })\n",
        "    \n",
        "        item_embeddings = self.candidate_model(features[\"itemID\"])       \n",
        "        retrieval_loss = self.retrieval_task(query_embeddings, item_embeddings)\n",
        "    \n",
        "    \n",
        "        return self.retrieval_task(query_embeddings, item_embeddings)"
      ],
      "metadata": {
        "id": "CiCYVpWc9om3"
      },
      "execution_count": null,
      "outputs": [],
      "id": "CiCYVpWc9om3"
    },
    {
      "cell_type": "code",
      "source": [
        "cached_train = train.shuffle(train_size).batch(128).cache()\n",
        "cached_test = test.batch(32).cache()\n",
        "\n",
        "model = RetrivalModel([128,32], \n",
        "                      projection_dim=None)\n",
        "\n"
      ],
      "metadata": {
        "id": "rj7f0F9e9om5"
      },
      "execution_count": null,
      "outputs": [],
      "id": "rj7f0F9e9om5"
    },
    {
      "cell_type": "code",
      "source": [
        "model.compile(optimizer=tf.keras.optimizers.RMSprop(0.01))\n",
        "\n",
        "modelhist_dcn=model.fit(cached_train, \n",
        "         epochs=1)\n",
        "\n",
        "metrics = model.evaluate(cached_test, return_dict=True)\n",
        "\n",
        "print(f\"Retrieval top-100 accuracy: {metrics['factorized_top_k/top_100_categorical_accuracy']:.3f}.\")\n",
        "print(f\"Retrieval top-50 accuracy: {metrics['factorized_top_k/top_50_categorical_accuracy']:.3f}.\")\n",
        "print(f\"Retrieval top-10 accuracy: {metrics['factorized_top_k/top_10_categorical_accuracy']:.3f}.\")\n",
        "print(f\"Retrieval top-5 accuracy: {metrics['factorized_top_k/top_5_categorical_accuracy']:.3f}.\")\n",
        "print(f\"Retrieval top-1 accuracy: {metrics['factorized_top_k/top_1_categorical_accuracy']:.3f}.\")"
      ],
      "metadata": {
        "colab": {
          "base_uri": "https://localhost:8080/"
        },
        "outputId": "898ff380-0609-4272-cc08-407b07146924",
        "id": "LD5-4GkB9om6"
      },
      "execution_count": null,
      "outputs": [
        {
          "output_type": "stream",
          "name": "stdout",
          "text": [
            "26/26 [==============================] - 4s 93ms/step - factorized_top_k/top_1_categorical_accuracy: 0.0480 - factorized_top_k/top_5_categorical_accuracy: 0.1000 - factorized_top_k/top_10_categorical_accuracy: 0.1405 - factorized_top_k/top_50_categorical_accuracy: 0.4300 - factorized_top_k/top_100_categorical_accuracy: 0.7304 - loss: 577.1701 - regularization_loss: 0.0000e+00 - total_loss: 577.1701\n",
            "26/26 [==============================] - 3s 92ms/step - factorized_top_k/top_1_categorical_accuracy: 0.0062 - factorized_top_k/top_5_categorical_accuracy: 0.0436 - factorized_top_k/top_10_categorical_accuracy: 0.0860 - factorized_top_k/top_50_categorical_accuracy: 0.4539 - factorized_top_k/top_100_categorical_accuracy: 0.8017 - loss: 101.9048 - regularization_loss: 0.0000e+00 - total_loss: 101.9048\n",
            "Retrieval top-100 accuracy: 0.802.\n",
            "Retrieval top-50 accuracy: 0.454.\n",
            "Retrieval top-10 accuracy: 0.086.\n",
            "Retrieval top-5 accuracy: 0.044.\n",
            "Retrieval top-1 accuracy: 0.006.\n"
          ]
        }
      ],
      "id": "LD5-4GkB9om6"
    },
    {
      "cell_type": "code",
      "source": [
        "\n",
        "index = tfrs.layers.factorized_top_k.BruteForce(model.query_model)\n",
        "index.index_from_dataset(\n",
        "  tf.data.Dataset.zip((itemlists.batch(100), itemlists.batch(100).map(model.candidate_model)))\n",
        ")\n",
        " \n",
        " \n",
        "_, titles = index({\n",
        "    \"userID\": np.array(['25']),\n",
        "     \"DrivingStyle\": np.array(['NA']),\n",
        "            \"landscape\":np.array(['NA']),\n",
        "            \"naturalphenomena\": np.array(['NA']),\n",
        "            \"RoadType\": np.array(['NA']),\n",
        "            \"sleepiness\": np.array(['NA']),\n",
        "            \"trafficConditions\": np.array(['NA']),\n",
        "             \"weather\": np.array(['rainy']),\n",
        "            \"mood\": np.array(['NA']\n",
        "    )},\n",
        "    k=10\n",
        ")\n",
        "titles[0]"
      ],
      "metadata": {
        "id": "rQq4esISmpbq",
        "colab": {
          "base_uri": "https://localhost:8080/"
        },
        "outputId": "d1e8afb5-898c-44f8-c24a-9ed2180377f1"
      },
      "execution_count": null,
      "outputs": [
        {
          "output_type": "execute_result",
          "data": {
            "text/plain": [
              "<tf.Tensor: shape=(10,), dtype=string, numpy=\n",
              "array([b'288', b'678', b'286', b'277', b'746', b'761', b'759', b'706',\n",
              "       b'729', b'691'], dtype=object)>"
            ]
          },
          "metadata": {},
          "execution_count": 141
        }
      ],
      "id": "rQq4esISmpbq"
    },
    {
      "cell_type": "markdown",
      "source": [
        "# Deep cross Network"
      ],
      "metadata": {
        "id": "inSByO3A8fA9"
      },
      "id": "inSByO3A8fA9"
    },
    {
      "cell_type": "markdown",
      "source": [
        "## User model"
      ],
      "metadata": {
        "id": "qlWqAZcUsdWC"
      },
      "id": "qlWqAZcUsdWC"
    },
    {
      "cell_type": "code",
      "source": [
        "class UserModel(tf.keras.Model):\n",
        "\n",
        "    def __init__(self):\n",
        "        super().__init__()\n",
        "        \n",
        "        self.embedding_dimension = 32\n",
        "        max_tokens = 10_000\n",
        "\n",
        "        ## user id\n",
        "        self.user_embedding = tf.keras.Sequential([\n",
        "                                                    tf.keras.layers.experimental.preprocessing.StringLookup(\n",
        "                                                    vocabulary=unique_user_ids, mask_token=None),\n",
        "                                                    tf.keras.layers.Embedding(len(unique_user_ids) + 1, 32),\n",
        "                                                    ])\n",
        "       \n",
        "        # product category\n",
        "        # self.catagory_embedding = tf.keras.Sequential([\n",
        "        #                           tf.keras.layers.experimental.preprocessing.StringLookup(\n",
        "        #                             vocabulary=unique_category, mask_token=None),\n",
        "        #                           tf.keras.layers.Embedding(len(unique_category) + 1, self.embedding_dimension)\n",
        "        #                         ])\n",
        "        self.mood_embedding = tf.keras.Sequential([\n",
        "                                  tf.keras.layers.experimental.preprocessing.StringLookup(\n",
        "                                    vocabulary=unique_mood, mask_token=None),\n",
        "                                  tf.keras.layers.Embedding(len(unique_mood) + 1, self.embedding_dimension)\n",
        "                                ])\n",
        "\n",
        "        \n",
        "        # self.catagory_vectorizer = tf.keras.layers.experimental.preprocessing.TextVectorization(\n",
        "        #                                                                                 max_tokens=max_tokens)\n",
        "        # self.catagory_text_embedding = tf.keras.Sequential([\n",
        "        #                           self.catagory_vectorizer,\n",
        "        #                           tf.keras.layers.Embedding(max_tokens, self.embedding_dimension, mask_zero=True),\n",
        "        #                           tf.keras.layers.GlobalAveragePooling1D(),\n",
        "        #                         ])\n",
        "\n",
        "        # self.catagory_vectorizer.adapt(category)\n",
        "              \n",
        "        self.landscape_embedding = tf.keras.Sequential([\n",
        "                                  tf.keras.layers.experimental.preprocessing.StringLookup(\n",
        "                                    vocabulary=unique_landscape, mask_token=None),\n",
        "                                  tf.keras.layers.Embedding(len(unique_landscape) + 1, self.embedding_dimension)\n",
        "                                ])\n",
        "        self.DrivingStyle_embedding = tf.keras.Sequential([\n",
        "                                  tf.keras.layers.experimental.preprocessing.StringLookup(\n",
        "                                    vocabulary=unique_DrivingStyle, mask_token=None),\n",
        "                                  tf.keras.layers.Embedding(len(unique_DrivingStyle) + 1, self.embedding_dimension)\n",
        "                                ])\n",
        "        self.naturalphenomena_embedding = tf.keras.Sequential([\n",
        "                                  tf.keras.layers.experimental.preprocessing.StringLookup(\n",
        "                                    vocabulary=unique_naturalphenomena, mask_token=None),\n",
        "                                  tf.keras.layers.Embedding(len(unique_naturalphenomena) + 1, self.embedding_dimension)\n",
        "                                ])\n",
        "        self.RoadType_embedding = tf.keras.Sequential([\n",
        "                                  tf.keras.layers.experimental.preprocessing.StringLookup(\n",
        "                                    vocabulary=unique_RoadType, mask_token=None),\n",
        "                                  tf.keras.layers.Embedding(len(unique_RoadType) + 1, self.embedding_dimension)\n",
        "                                ])\n",
        "        self.sleepiness_embedding = tf.keras.Sequential([\n",
        "                                  tf.keras.layers.experimental.preprocessing.StringLookup(\n",
        "                                    vocabulary=unique_sleepiness, mask_token=None),\n",
        "                                  tf.keras.layers.Embedding(len(unique_sleepiness) + 1, self.embedding_dimension)\n",
        "                                ])\n",
        "        self.trafficConditions_embedding = tf.keras.Sequential([\n",
        "                                  tf.keras.layers.experimental.preprocessing.StringLookup(\n",
        "                                    vocabulary=unique_trafficConditions, mask_token=None),\n",
        "                                  tf.keras.layers.Embedding(len(unique_trafficConditions) + 1, self.embedding_dimension)\n",
        "                                ])\n",
        "        self.weather_embedding = tf.keras.Sequential([\n",
        "                                  tf.keras.layers.experimental.preprocessing.StringLookup(\n",
        "                                    vocabulary=unique_weather, mask_token=None),\n",
        "                                  tf.keras.layers.Embedding(len(unique_weather) + 1, self.embedding_dimension)\n",
        "                                ])\n",
        "\n",
        "\n",
        "        \n",
        "\n",
        "    def call(self, inputs):\n",
        "        # Take the input dictionary, pass it through each input layer,\n",
        "        # and concatenate the result.\n",
        "        return tf.concat([\n",
        "            self.user_embedding(inputs[\"userID\"]),\n",
        "            self.DrivingStyle_embedding(inputs[\"DrivingStyle\"]),\n",
        "            self.landscape_embedding(inputs[\"landscape\"]),\n",
        "            self.naturalphenomena_embedding(inputs[\"naturalphenomena\"]),\n",
        "            self.RoadType_embedding(inputs[\"RoadType\"]),\n",
        "            self.sleepiness_embedding(inputs[\"sleepiness\"]),\n",
        "            self.trafficConditions_embedding(inputs[\"trafficConditions\"]),\n",
        "            self.weather_embedding(inputs[\"weather\"]),\n",
        "            self.mood_embedding(inputs[\"mood\"])\n",
        "        ], axis=1)"
      ],
      "metadata": {
        "id": "4hG7wh_XPx86"
      },
      "id": "4hG7wh_XPx86",
      "execution_count": null,
      "outputs": []
    },
    {
      "cell_type": "code",
      "source": [
        "class QueryModel(tf.keras.Model):\n",
        "    \"\"\"Model for encoding user queries.\"\"\"\n",
        "\n",
        "    def __init__(self, layer_sizes, projection_dim=None):\n",
        "        \"\"\"Model for encoding user queries\n",
        "        \"\"\"\n",
        "        super().__init__()\n",
        "\n",
        "        # We first use the user model for generating embeddings.\n",
        "        self.embedding_model = UserModel()\n",
        "            \n",
        "\n",
        "        # Then construct the layers.\n",
        "        self.dense_layers = tf.keras.Sequential(tfrs.layers.dcn.Cross(projection_dim=projection_dim,\n",
        "                                        kernel_initializer=\"glorot_uniform\"))\n",
        "\n",
        "        # Use the ReLU activation for all but the last layer.\n",
        "        for layer_size in layer_sizes[:-1]:\n",
        "            self.dense_layers.add(tf.keras.layers.Dense(layer_size, activation=\"relu\"))\n",
        "\n",
        "        # No activation for the last layer.\n",
        "        for layer_size in layer_sizes[-1:]:\n",
        "            self.dense_layers.add(tf.keras.layers.Dense(layer_size))\n",
        "\n",
        "    def call(self, inputs):\n",
        "        feature_embedding = self.embedding_model(inputs)\n",
        "        return self.dense_layers(feature_embedding)"
      ],
      "metadata": {
        "id": "9kPoLJebYhW_"
      },
      "id": "9kPoLJebYhW_",
      "execution_count": null,
      "outputs": []
    },
    {
      "cell_type": "code",
      "source": [
        "class ItemModel(tf.keras.Model):\n",
        "\n",
        "    def __init__(self):\n",
        "        super().__init__()\n",
        "        \n",
        "        self.embedding_dimension = 32\n",
        "\n",
        "        max_tokens = 10_000\n",
        "\n",
        "        self.item_embedding = tf.keras.Sequential([\n",
        "          tf.keras.layers.experimental.preprocessing.StringLookup(\n",
        "              vocabulary=unique_items,mask_token=None),\n",
        "          tf.keras.layers.Embedding(len(unique_items) + 1, self.embedding_dimension)\n",
        "        ])\n",
        "\n",
        "        # self.item_vectorizer = tf.keras.layers.experimental.preprocessing.TextVectorization(\n",
        "        #     max_tokens=max_tokens)\n",
        "\n",
        "        # self.item_text_embedding = tf.keras.Sequential([\n",
        "        #   self.item_vectorizer,\n",
        "        #   tf.keras.layers.Embedding(max_tokens, self.embedding_dimension, mask_zero=True),\n",
        "        #   tf.keras.layers.GlobalAveragePooling1D(),\n",
        "        # ])\n",
        "\n",
        "        # self.item_vectorizer.adapt(items)\n",
        "      \n",
        "    def call(self, items):\n",
        "        return tf.concat([\n",
        "            self.item_embedding(items),\n",
        "            \n",
        "        ], axis=1)"
      ],
      "metadata": {
        "id": "HmTiWaD2YlzJ"
      },
      "id": "HmTiWaD2YlzJ",
      "execution_count": null,
      "outputs": []
    },
    {
      "cell_type": "code",
      "source": [
        "class CandidateModel(tf.keras.Model):\n",
        "    \"\"\"Model for encoding items.\"\"\"\n",
        "\n",
        "    def __init__(self, layer_sizes, projection_dim=None):\n",
        "        \"\"\"Model for encoding items.\n",
        "\n",
        "        \n",
        "        \"\"\"\n",
        "        super().__init__()\n",
        "\n",
        "        self.embedding_model = ItemModel()\n",
        "\n",
        "         # Then construct the layers.\n",
        "        self.dense_layers = tf.keras.Sequential(tfrs.layers.dcn.Cross(projection_dim=projection_dim,\n",
        "                                                kernel_initializer=\"glorot_uniform\"))\n",
        "\n",
        "        # Use the ReLU activation for all but the last layer.\n",
        "        for layer_size in layer_sizes[:-1]:\n",
        "            self.dense_layers.add(tf.keras.layers.Dense(layer_size, activation=\"relu\"))\n",
        "\n",
        "        # No activation for the last layer.\n",
        "        for layer_size in layer_sizes[-1:]:\n",
        "            self.dense_layers.add(tf.keras.layers.Dense(layer_size))\n",
        "\n",
        "    def call(self, inputs):\n",
        "        feature_embedding = self.embedding_model(inputs)\n",
        "        return self.dense_layers(feature_embedding)"
      ],
      "metadata": {
        "id": "dR_Uy7FwRt2y"
      },
      "id": "dR_Uy7FwRt2y",
      "execution_count": null,
      "outputs": []
    },
    {
      "cell_type": "code",
      "source": [
        "class CrossDNNModel(tfrs.models.Model):\n",
        "\n",
        "    def __init__(self, layer_sizes,projection_dim=None ):\n",
        "        super().__init__()\n",
        "        \n",
        "        self.query_model : tf.keras.Model = QueryModel(layer_sizes)\n",
        "        self.candidate_model : tf.keras.Model = CandidateModel(layer_sizes)\n",
        "        \n",
        "        ## rating and retrieval task.\n",
        "        \n",
        "        self.rating_task = tfrs.tasks.Ranking(\n",
        "            loss=tf.keras.losses.MeanSquaredError(),\n",
        "            metrics=[tf.keras.metrics.RootMeanSquaredError()],\n",
        "        )\n",
        "                 \n",
        "        self.retrieval_task : tf.keras.layers.Layer = tfrs.tasks.Retrieval(\n",
        "            metrics=tfrs.metrics.FactorizedTopK(\n",
        "                candidates=itemlists.batch(128).map(self.candidate_model)\n",
        "            )\n",
        "        )\n",
        "\n",
        "      \n",
        "\n",
        "    def compute_loss(self, features, training=False):\n",
        "        \n",
        "        # We only pass the user id and timestamp features into the query model. This\n",
        "        # is to ensure that the training inputs would have the same keys as the\n",
        "        # query inputs. Otherwise the discrepancy in input structure would cause an\n",
        "        # error when loading the query model after saving it.\n",
        "        ratings = features.pop(\"rating\")\n",
        "        \n",
        "        query_embeddings = self.query_model({\n",
        "            \"userID\": features[\"userID\"],\n",
        "            \"DrivingStyle\": features[\"DrivingStyle\"],\n",
        "            \"landscape\": features[\"landscape\"],\n",
        "            \"naturalphenomena\": features[\"naturalphenomena\"],\n",
        "            \"RoadType\": features[\"RoadType\"],\n",
        "            \"sleepiness\": features[\"sleepiness\"],\n",
        "            \"trafficConditions\": features[\"trafficConditions\"],\n",
        "             \"weather\": features[\"weather\"],\n",
        "            \"mood\": features[\"mood\"]\n",
        "        })\n",
        "    \n",
        "        item_embeddings = self.candidate_model(features[\"itemID\"])       \n",
        "        retrieval_loss = self.retrieval_task(query_embeddings, item_embeddings)\n",
        "    \n",
        "    \n",
        "        return self.retrieval_task(query_embeddings, item_embeddings)"
      ],
      "metadata": {
        "id": "9fOA8TGkYxTx"
      },
      "id": "9fOA8TGkYxTx",
      "execution_count": null,
      "outputs": []
    },
    {
      "cell_type": "code",
      "source": [
        "cached_train = train.shuffle(train_size).batch(32).cache()\n",
        "cached_test = test.batch(32).cache()\n",
        "\n",
        "model = CrossDNNModel([128,32], \n",
        "                      projection_dim=None)\n",
        "\n"
      ],
      "metadata": {
        "id": "WkMkr2hbY23_"
      },
      "id": "WkMkr2hbY23_",
      "execution_count": null,
      "outputs": []
    },
    {
      "cell_type": "code",
      "source": [
        "model.compile(optimizer=tf.keras.optimizers.RMSprop(0.01))\n",
        "\n",
        "modelhist_dcn=model.fit(cached_train, \n",
        "         epochs=3)\n",
        "\n",
        "metrics = model.evaluate(cached_test, return_dict=True)\n",
        "\n",
        "print(f\"Retrieval top-100 accuracy: {metrics['factorized_top_k/top_100_categorical_accuracy']:.3f}.\")\n",
        "print(f\"Retrieval top-50 accuracy: {metrics['factorized_top_k/top_50_categorical_accuracy']:.3f}.\")\n",
        "print(f\"Retrieval top-10 accuracy: {metrics['factorized_top_k/top_10_categorical_accuracy']:.3f}.\")\n",
        "print(f\"Retrieval top-5 accuracy: {metrics['factorized_top_k/top_5_categorical_accuracy']:.3f}.\")\n",
        "print(f\"Retrieval top-1 accuracy: {metrics['factorized_top_k/top_1_categorical_accuracy']:.3f}.\")"
      ],
      "metadata": {
        "colab": {
          "base_uri": "https://localhost:8080/"
        },
        "id": "Isj2sVoZAtgS",
        "outputId": "4c301932-2c16-4b1f-bc2c-12539651ebd6"
      },
      "execution_count": null,
      "outputs": [
        {
          "output_type": "stream",
          "name": "stdout",
          "text": [
            "Epoch 1/3\n",
            "101/101 [==============================] - 13s 106ms/step - root_mean_squared_error: 0.0000e+00 - factorized_top_k/top_1_categorical_accuracy: 0.0097 - factorized_top_k/top_5_categorical_accuracy: 0.0424 - factorized_top_k/top_10_categorical_accuracy: 0.0807 - factorized_top_k/top_50_categorical_accuracy: 0.3864 - factorized_top_k/top_100_categorical_accuracy: 0.7205 - loss: 109.2698 - regularization_loss: 0.0000e+00 - total_loss: 109.2698\n",
            "Epoch 2/3\n",
            "101/101 [==============================] - 11s 105ms/step - root_mean_squared_error: 0.0000e+00 - factorized_top_k/top_1_categorical_accuracy: 0.0103 - factorized_top_k/top_5_categorical_accuracy: 0.0564 - factorized_top_k/top_10_categorical_accuracy: 0.1165 - factorized_top_k/top_50_categorical_accuracy: 0.4730 - factorized_top_k/top_100_categorical_accuracy: 0.7928 - loss: 107.0468 - regularization_loss: 0.0000e+00 - total_loss: 107.0468\n",
            "Epoch 3/3\n",
            "101/101 [==============================] - 10s 95ms/step - root_mean_squared_error: 0.0000e+00 - factorized_top_k/top_1_categorical_accuracy: 0.0128 - factorized_top_k/top_5_categorical_accuracy: 0.0779 - factorized_top_k/top_10_categorical_accuracy: 0.1546 - factorized_top_k/top_50_categorical_accuracy: 0.5294 - factorized_top_k/top_100_categorical_accuracy: 0.8233 - loss: 104.1810 - regularization_loss: 0.0000e+00 - total_loss: 104.1810\n",
            "26/26 [==============================] - 3s 91ms/step - root_mean_squared_error: 0.0000e+00 - factorized_top_k/top_1_categorical_accuracy: 0.0050 - factorized_top_k/top_5_categorical_accuracy: 0.0536 - factorized_top_k/top_10_categorical_accuracy: 0.1234 - factorized_top_k/top_50_categorical_accuracy: 0.5100 - factorized_top_k/top_100_categorical_accuracy: 0.8242 - loss: 99.5287 - regularization_loss: 0.0000e+00 - total_loss: 99.5287\n",
            "Retrieval top-100 accuracy: 0.824.\n",
            "Retrieval top-50 accuracy: 0.510.\n",
            "Retrieval top-10 accuracy: 0.123.\n",
            "Retrieval top-5 accuracy: 0.054.\n",
            "Retrieval top-1 accuracy: 0.005.\n"
          ]
        }
      ],
      "id": "Isj2sVoZAtgS"
    },
    {
      "cell_type": "code",
      "source": [
        "\n",
        "index = tfrs.layers.factorized_top_k.BruteForce(model.query_model)\n",
        "index.index_from_dataset(\n",
        "  tf.data.Dataset.zip((itemlists.batch(100), itemlists.batch(100).map(model.candidate_model)))\n",
        ")\n",
        " \n",
        " \n",
        "_, titles = index({\n",
        "    \"userID\": np.array(['25']),\n",
        "     \"DrivingStyle\": np.array(['NA']),\n",
        "            \"landscape\":np.array(['NA']),\n",
        "            \"naturalphenomena\": np.array(['NA']),\n",
        "            \"RoadType\": np.array(['NA']),\n",
        "            \"sleepiness\": np.array(['NA']),\n",
        "            \"trafficConditions\": np.array(['NA']),\n",
        "             \"weather\": np.array(['rainy']),\n",
        "            \"mood\": np.array(['NA']\n",
        "    )},\n",
        "    k=10\n",
        ")\n",
        "titles[0]"
      ],
      "metadata": {
        "colab": {
          "base_uri": "https://localhost:8080/"
        },
        "id": "yLXiyx5Vlq6S",
        "outputId": "fac39f48-aacd-423f-9eb6-d0ca2c1bfcf1"
      },
      "execution_count": null,
      "outputs": [
        {
          "output_type": "execute_result",
          "data": {
            "text/plain": [
              "<tf.Tensor: shape=(10,), dtype=string, numpy=\n",
              "array([b'249', b'263', b'279', b'250', b'719', b'716', b'262', b'740',\n",
              "       b'762', b'286'], dtype=object)>"
            ]
          },
          "metadata": {},
          "execution_count": 149
        }
      ],
      "id": "yLXiyx5Vlq6S"
    }
  ],
  "metadata": {
    "kernelspec": {
      "display_name": "Python 3",
      "language": "python",
      "name": "python3"
    },
    "language_info": {
      "codemirror_mode": {
        "name": "ipython",
        "version": 3
      },
      "file_extension": ".py",
      "mimetype": "text/x-python",
      "name": "python",
      "nbconvert_exporter": "python",
      "pygments_lexer": "ipython3",
      "version": "3.6.5"
    },
    "colab": {
      "provenance": [],
      "machine_shape": "hm"
    },
    "gpuClass": "standard",
    "accelerator": "GPU"
  },
  "nbformat": 4,
  "nbformat_minor": 5
}