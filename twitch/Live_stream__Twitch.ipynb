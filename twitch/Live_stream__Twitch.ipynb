{
  "cells": [
    {
      "cell_type": "code",
      "source": [
        "gpu_info = !nvidia-smi\n",
        "gpu_info = '\\n'.join(gpu_info)\n",
        "if gpu_info.find('failed') >= 0:\n",
        "  print('Not connected to a GPU')\n",
        "else:\n",
        "  print(gpu_info)"
      ],
      "metadata": {
        "colab": {
          "base_uri": "https://localhost:8080/"
        },
        "id": "_QphkgcDcwxr",
        "outputId": "e27bbb92-fb8f-44bf-b0e5-04f9587d03fc"
      },
      "id": "_QphkgcDcwxr",
      "execution_count": null,
      "outputs": [
        {
          "output_type": "stream",
          "name": "stdout",
          "text": [
            "Mon Jan 30 07:53:05 2023       \n",
            "+-----------------------------------------------------------------------------+\n",
            "| NVIDIA-SMI 510.47.03    Driver Version: 510.47.03    CUDA Version: 11.6     |\n",
            "|-------------------------------+----------------------+----------------------+\n",
            "| GPU  Name        Persistence-M| Bus-Id        Disp.A | Volatile Uncorr. ECC |\n",
            "| Fan  Temp  Perf  Pwr:Usage/Cap|         Memory-Usage | GPU-Util  Compute M. |\n",
            "|                               |                      |               MIG M. |\n",
            "|===============================+======================+======================|\n",
            "|   0  Tesla T4            Off  | 00000000:00:04.0 Off |                    0 |\n",
            "| N/A   45C    P0    25W /  70W |      0MiB / 15360MiB |      0%      Default |\n",
            "|                               |                      |                  N/A |\n",
            "+-------------------------------+----------------------+----------------------+\n",
            "                                                                               \n",
            "+-----------------------------------------------------------------------------+\n",
            "| Processes:                                                                  |\n",
            "|  GPU   GI   CI        PID   Type   Process name                  GPU Memory |\n",
            "|        ID   ID                                                   Usage      |\n",
            "|=============================================================================|\n",
            "|  No running processes found                                                 |\n",
            "+-----------------------------------------------------------------------------+\n"
          ]
        }
      ]
    },
    {
      "cell_type": "code",
      "source": [
        "from psutil import virtual_memory\n",
        "ram_gb = virtual_memory().total / 1e9\n",
        "print('Your runtime has {:.1f} gigabytes of available RAM\\n'.format(ram_gb))\n",
        "\n",
        "if ram_gb < 20:\n",
        "  print('Not using a high-RAM runtime')\n",
        "else:\n",
        "  print('You are using a high-RAM runtime!')"
      ],
      "metadata": {
        "colab": {
          "base_uri": "https://localhost:8080/"
        },
        "id": "Kq_W9JJDczFA",
        "outputId": "b25fb284-721d-48e2-cc78-ebcfcd3b9151"
      },
      "id": "Kq_W9JJDczFA",
      "execution_count": null,
      "outputs": [
        {
          "output_type": "stream",
          "name": "stdout",
          "text": [
            "Your runtime has 27.3 gigabytes of available RAM\n",
            "\n",
            "You are using a high-RAM runtime!\n"
          ]
        }
      ]
    },
    {
      "cell_type": "code",
      "execution_count": null,
      "id": "84eddad3",
      "metadata": {
        "id": "84eddad3"
      },
      "outputs": [],
      "source": [
        "from datetime import datetime\n",
        "import os\n",
        "import matplotlib\n",
        "import pandas as pd\n",
        "import numpy as np\n",
        "import matplotlib.pyplot as plt\n",
        "import seaborn as sns\n",
        "sns.set_style('whitegrid')\n",
        "\n",
        "from scipy import sparse\n",
        "from scipy.sparse import csc_matrix\n",
        "from sklearn.decomposition import TruncatedSVD\n",
        "\n",
        "np.random.seed(0)"
      ]
    },
    {
      "cell_type": "markdown",
      "metadata": {
        "id": "uGRD8a9sKacB"
      },
      "source": [
        "### Setup and Load dataset"
      ],
      "id": "uGRD8a9sKacB"
    },
    {
      "cell_type": "code",
      "execution_count": null,
      "metadata": {
        "id": "d6266078"
      },
      "outputs": [],
      "source": [
        "\n",
        "import pandas as pd\n",
        "import os\n",
        "from os.path import exists\n",
        "import zipfile\n",
        "import numpy as np"
      ],
      "id": "d6266078"
    },
    {
      "cell_type": "code",
      "source": [
        "!pip install scikit-learn"
      ],
      "metadata": {
        "colab": {
          "base_uri": "https://localhost:8080/"
        },
        "id": "H54YO5cNfiWJ",
        "outputId": "9cb86ba2-b32a-4e1b-bc8f-18c13a7cc9ea"
      },
      "id": "H54YO5cNfiWJ",
      "execution_count": null,
      "outputs": [
        {
          "output_type": "stream",
          "name": "stdout",
          "text": [
            "Looking in indexes: https://pypi.org/simple, https://us-python.pkg.dev/colab-wheels/public/simple/\n",
            "Requirement already satisfied: scikit-learn in /usr/local/lib/python3.8/dist-packages (1.0.2)\n",
            "Requirement already satisfied: scipy>=1.1.0 in /usr/local/lib/python3.8/dist-packages (from scikit-learn) (1.7.3)\n",
            "Requirement already satisfied: joblib>=0.11 in /usr/local/lib/python3.8/dist-packages (from scikit-learn) (1.2.0)\n",
            "Requirement already satisfied: threadpoolctl>=2.0.0 in /usr/local/lib/python3.8/dist-packages (from scikit-learn) (3.1.0)\n",
            "Requirement already satisfied: numpy>=1.14.6 in /usr/local/lib/python3.8/dist-packages (from scikit-learn) (1.21.6)\n"
          ]
        }
      ]
    },
    {
      "cell_type": "code",
      "source": [
        "\n",
        "!pip uninstall scikit-surprise"
      ],
      "metadata": {
        "id": "DySpFNPLeYvJ",
        "colab": {
          "base_uri": "https://localhost:8080/"
        },
        "outputId": "9181385d-348c-4aff-ddf2-e9bfa8521b72"
      },
      "id": "DySpFNPLeYvJ",
      "execution_count": null,
      "outputs": [
        {
          "output_type": "stream",
          "name": "stdout",
          "text": [
            "Looking in indexes: https://pypi.org/simple, https://us-python.pkg.dev/colab-wheels/public/simple/\n",
            "Requirement already satisfied: gdown in /usr/local/lib/python3.8/dist-packages (4.4.0)\n",
            "Requirement already satisfied: six in /usr/local/lib/python3.8/dist-packages (from gdown) (1.15.0)\n",
            "Requirement already satisfied: requests[socks] in /usr/local/lib/python3.8/dist-packages (from gdown) (2.25.1)\n",
            "Requirement already satisfied: tqdm in /usr/local/lib/python3.8/dist-packages (from gdown) (4.64.1)\n",
            "Requirement already satisfied: filelock in /usr/local/lib/python3.8/dist-packages (from gdown) (3.9.0)\n",
            "Requirement already satisfied: beautifulsoup4 in /usr/local/lib/python3.8/dist-packages (from gdown) (4.6.3)\n",
            "Requirement already satisfied: urllib3<1.27,>=1.21.1 in /usr/local/lib/python3.8/dist-packages (from requests[socks]->gdown) (1.24.3)\n",
            "Requirement already satisfied: chardet<5,>=3.0.2 in /usr/local/lib/python3.8/dist-packages (from requests[socks]->gdown) (4.0.0)\n",
            "Requirement already satisfied: certifi>=2017.4.17 in /usr/local/lib/python3.8/dist-packages (from requests[socks]->gdown) (2022.12.7)\n",
            "Requirement already satisfied: idna<3,>=2.5 in /usr/local/lib/python3.8/dist-packages (from requests[socks]->gdown) (2.10)\n",
            "Requirement already satisfied: PySocks!=1.5.7,>=1.5.6 in /usr/local/lib/python3.8/dist-packages (from requests[socks]->gdown) (1.7.1)\n",
            "\u001b[33mWARNING: Skipping scikit-surprise as it is not installed.\u001b[0m\u001b[33m\n",
            "\u001b[0m"
          ]
        }
      ]
    },
    {
      "cell_type": "code",
      "source": [
        "!pip install --upgrade --no-cache-dir gdown\n"
      ],
      "metadata": {
        "colab": {
          "base_uri": "https://localhost:8080/"
        },
        "id": "o_ek4vP7uqzq",
        "outputId": "34a09186-8ed6-457b-a5a0-b34b044e5ce0"
      },
      "id": "o_ek4vP7uqzq",
      "execution_count": null,
      "outputs": [
        {
          "output_type": "stream",
          "name": "stdout",
          "text": [
            "Looking in indexes: https://pypi.org/simple, https://us-python.pkg.dev/colab-wheels/public/simple/\n",
            "Requirement already satisfied: gdown in /usr/local/lib/python3.8/dist-packages (4.4.0)\n",
            "Collecting gdown\n",
            "  Downloading gdown-4.6.0-py3-none-any.whl (14 kB)\n",
            "Requirement already satisfied: tqdm in /usr/local/lib/python3.8/dist-packages (from gdown) (4.64.1)\n",
            "Requirement already satisfied: six in /usr/local/lib/python3.8/dist-packages (from gdown) (1.15.0)\n",
            "Requirement already satisfied: requests[socks] in /usr/local/lib/python3.8/dist-packages (from gdown) (2.25.1)\n",
            "Requirement already satisfied: beautifulsoup4 in /usr/local/lib/python3.8/dist-packages (from gdown) (4.6.3)\n",
            "Requirement already satisfied: filelock in /usr/local/lib/python3.8/dist-packages (from gdown) (3.9.0)\n",
            "Requirement already satisfied: certifi>=2017.4.17 in /usr/local/lib/python3.8/dist-packages (from requests[socks]->gdown) (2022.12.7)\n",
            "Requirement already satisfied: idna<3,>=2.5 in /usr/local/lib/python3.8/dist-packages (from requests[socks]->gdown) (2.10)\n",
            "Requirement already satisfied: urllib3<1.27,>=1.21.1 in /usr/local/lib/python3.8/dist-packages (from requests[socks]->gdown) (1.24.3)\n",
            "Requirement already satisfied: chardet<5,>=3.0.2 in /usr/local/lib/python3.8/dist-packages (from requests[socks]->gdown) (4.0.0)\n",
            "Requirement already satisfied: PySocks!=1.5.7,>=1.5.6 in /usr/local/lib/python3.8/dist-packages (from requests[socks]->gdown) (1.7.1)\n",
            "Installing collected packages: gdown\n",
            "  Attempting uninstall: gdown\n",
            "    Found existing installation: gdown 4.4.0\n",
            "    Uninstalling gdown-4.4.0:\n",
            "      Successfully uninstalled gdown-4.4.0\n",
            "Successfully installed gdown-4.6.0\n"
          ]
        }
      ]
    },
    {
      "cell_type": "code",
      "source": [
        "!gdown --id 15NcjFuDNMozx2kR8-OMFq5Y206xtzWEj\n"
      ],
      "metadata": {
        "colab": {
          "base_uri": "https://localhost:8080/"
        },
        "id": "JN6L-XVUpDB3",
        "outputId": "79629682-1c10-418f-a4b0-c3c26d998fa7"
      },
      "execution_count": null,
      "outputs": [
        {
          "output_type": "stream",
          "name": "stdout",
          "text": [
            "/usr/local/lib/python3.8/dist-packages/gdown/cli.py:121: FutureWarning: Option `--id` was deprecated in version 4.3.1 and will be removed in 5.0. You don't need to pass it anymore to use a file ID.\n",
            "  warnings.warn(\n",
            "Downloading...\n",
            "From: https://drive.google.com/uc?id=15NcjFuDNMozx2kR8-OMFq5Y206xtzWEj\n",
            "To: /content/100k_a.zip\n",
            "100% 44.8M/44.8M [00:00<00:00, 100MB/s]\n"
          ]
        }
      ],
      "id": "JN6L-XVUpDB3"
    },
    {
      "cell_type": "markdown",
      "metadata": {
        "id": "D_UJlmcgZNBc"
      },
      "source": [
        "### Setup"
      ],
      "id": "D_UJlmcgZNBc"
    },
    {
      "cell_type": "code",
      "execution_count": null,
      "metadata": {
        "id": "HcRlILa1ZNBc"
      },
      "outputs": [],
      "source": [
        "\n",
        "import pandas as pd\n",
        "import os\n",
        "from os.path import exists\n",
        "import zipfile\n",
        "import numpy as np"
      ],
      "id": "HcRlILa1ZNBc"
    },
    {
      "cell_type": "code",
      "source": [
        "!unzip -o \"100k_a.zip\"  -d  \"/content\""
      ],
      "metadata": {
        "colab": {
          "base_uri": "https://localhost:8080/"
        },
        "id": "TtZEDi2_JS0Z",
        "outputId": "2c437a3f-df43-4b8a-c3f1-cf52ba4e9f11"
      },
      "id": "TtZEDi2_JS0Z",
      "execution_count": null,
      "outputs": [
        {
          "output_type": "stream",
          "name": "stdout",
          "text": [
            "Archive:  100k_a.zip\n",
            "  inflating: /content/100k_a.csv     \n"
          ]
        }
      ]
    },
    {
      "cell_type": "code",
      "source": [
        "colnames=['userID','StreamID','Streamer_username','Time_start','Time_stop']\n",
        "data_df = pd.read_csv(\"100k_a.csv\",names=colnames)\n"
      ],
      "metadata": {
        "id": "srhJBCtkJaHZ"
      },
      "id": "srhJBCtkJaHZ",
      "execution_count": null,
      "outputs": []
    },
    {
      "cell_type": "code",
      "source": [
        "data_df.rename(columns = {'Streamer_username':'itemID'}, inplace = True)\n"
      ],
      "metadata": {
        "id": "wGy8t3TGw13K"
      },
      "id": "wGy8t3TGw13K",
      "execution_count": null,
      "outputs": []
    },
    {
      "cell_type": "code",
      "source": [
        "data_df['duration']=data_df['Time_stop']-data_df['Time_start']"
      ],
      "metadata": {
        "id": "vtBMw40vyzQs"
      },
      "id": "vtBMw40vyzQs",
      "execution_count": null,
      "outputs": []
    },
    {
      "cell_type": "code",
      "source": [
        "rating_df=data_df.groupby(['userID', 'itemID'])['duration'].sum().reset_index()\n"
      ],
      "metadata": {
        "id": "EVySFYY-zlIb"
      },
      "id": "EVySFYY-zlIb",
      "execution_count": null,
      "outputs": []
    },
    {
      "cell_type": "code",
      "source": [
        "rating_df.rename(columns = {'duration':'rating'}, inplace = True)\n"
      ],
      "metadata": {
        "id": "Hr_882Cq0Ve8"
      },
      "id": "Hr_882Cq0Ve8",
      "execution_count": null,
      "outputs": []
    },
    {
      "cell_type": "markdown",
      "metadata": {
        "id": "sjJpU6lTGK51"
      },
      "source": [
        "# Details about dataset"
      ],
      "id": "sjJpU6lTGK51"
    },
    {
      "cell_type": "code",
      "execution_count": null,
      "metadata": {
        "id": "LpnvsLU_U-7O"
      },
      "outputs": [],
      "source": [
        "summary_df=pd.DataFrame(columns=['Dataset','Algorithm','Sparsity','Precision@k'])"
      ],
      "id": "LpnvsLU_U-7O"
    },
    {
      "cell_type": "code",
      "execution_count": null,
      "metadata": {
        "id": "48b485cd"
      },
      "outputs": [],
      "source": [
        "userID=\"userID\"\n",
        "itemID=\"itemID\"\n",
        "score=\"rating\"\n",
        "timestamp='time'"
      ],
      "id": "48b485cd"
    },
    {
      "cell_type": "markdown",
      "metadata": {
        "id": "3enVbN86POhO"
      },
      "source": [
        "# Sparsity "
      ],
      "id": "3enVbN86POhO"
    },
    {
      "cell_type": "code",
      "execution_count": null,
      "metadata": {
        "id": "AnavbMK3Z-7N"
      },
      "outputs": [],
      "source": [
        "from scipy.sparse import csr_matrix\n",
        "def checkSparsity(main_df):\n",
        "   \n",
        "    # pivot_df = main_df.pivot_table(\n",
        "    #     index='itemID',\n",
        "    #     columns='userID',\n",
        "    #     values='rating'\n",
        "    # )\n",
        "    totalUsers=main_df.userID.unique().shape[0]\n",
        "    totalitems= main_df.itemID.unique().shape[0]\n",
        "    total=totalUsers*totalitems\n",
        "    totalreconds=main_df.shape[0]\n",
        "    sparsity=(total-totalreconds)/total\n",
        "    return sparsity"
      ],
      "id": "AnavbMK3Z-7N"
    },
    {
      "cell_type": "code",
      "source": [
        "\n",
        "y = rating_df.groupby('userID').count()['rating']>=50\n",
        "new = y[y].index\n",
        "rating_df = rating_df[rating_df['userID'].isin(new)]\n",
        "rating_df.shape\n",
        "y = rating_df.groupby('itemID').count()['rating']>=50\n",
        "new = y[y].index\n",
        "rating_df = rating_df[rating_df['itemID'].isin(new)]"
      ],
      "metadata": {
        "id": "2yeuojSK2LFt"
      },
      "id": "2yeuojSK2LFt",
      "execution_count": null,
      "outputs": []
    },
    {
      "cell_type": "code",
      "execution_count": null,
      "metadata": {
        "colab": {
          "base_uri": "https://localhost:8080/"
        },
        "id": "08dPB9SMAgIF",
        "outputId": "ae2c4185-a12d-4db9-e5c8-fbe8c0f45d6c"
      },
      "outputs": [
        {
          "output_type": "execute_result",
          "data": {
            "text/plain": [
              "0.9658830406384222"
            ]
          },
          "metadata": {},
          "execution_count": 93
        }
      ],
      "source": [
        "\n",
        "sparsity=checkSparsity(rating_df)\n",
        "sparsity"
      ],
      "id": "08dPB9SMAgIF"
    },
    {
      "cell_type": "code",
      "source": [
        "# movie_10k_df['rating']=1\n",
        "# amazon_df['rating']=1\n",
        "# book_df['rating']=1\n",
        "# food_df['rating']=1\n",
        "# ciao_df['rating']=1\n",
        "# ecommerce_df['rating']=1"
      ],
      "metadata": {
        "id": "GDmSBy60J_YD"
      },
      "id": "GDmSBy60J_YD",
      "execution_count": null,
      "outputs": []
    },
    {
      "cell_type": "code",
      "source": [
        "import time\n",
        "import datetime\n",
        "def replaceCatagoricalValues(df,colstoskip):\n",
        "    \n",
        "    catagoricals_cols=df.select_dtypes(include=['object']).columns.tolist()\n",
        "    \n",
        "    for col in catagoricals_cols:\n",
        "      if col in colstoskip:\n",
        "        continue\n",
        "      unique_items = df[col].unique()\n",
        "      item_ids = dict(zip(unique_items, np.arange(unique_items.shape[0], dtype=np.int32)))\n",
        "      dict_items = {}\n",
        "      index = 0\n",
        "      for ids in item_ids:\n",
        "        dict_items[ids] = index\n",
        "        index += 1\n",
        "      df[col] = df[col].map(dict_items)\n",
        "\n",
        "    return df"
      ],
      "metadata": {
        "id": "2cBLIegc1rgm"
      },
      "id": "2cBLIegc1rgm",
      "execution_count": null,
      "outputs": []
    },
    {
      "cell_type": "code",
      "source": [
        "rating_df=replaceCatagoricalValues(rating_df,['rating'])"
      ],
      "metadata": {
        "id": "5Jt-X7mm1tiD"
      },
      "id": "5Jt-X7mm1tiD",
      "execution_count": null,
      "outputs": []
    },
    {
      "cell_type": "code",
      "source": [
        "twitch_df=rating_df"
      ],
      "metadata": {
        "id": "wOuZvGdE2wy9"
      },
      "id": "wOuZvGdE2wy9",
      "execution_count": null,
      "outputs": []
    },
    {
      "cell_type": "code",
      "source": [
        "twitch_df.shape"
      ],
      "metadata": {
        "colab": {
          "base_uri": "https://localhost:8080/"
        },
        "id": "k0C1Jhe13GAM",
        "outputId": "18274837-ada9-4b8d-9bb6-6fd9c282c01b"
      },
      "id": "k0C1Jhe13GAM",
      "execution_count": null,
      "outputs": [
        {
          "output_type": "execute_result",
          "data": {
            "text/plain": [
              "(67120, 3)"
            ]
          },
          "metadata": {},
          "execution_count": 97
        }
      ]
    },
    {
      "cell_type": "markdown",
      "metadata": {
        "id": "ry8ttqPqPHUI"
      },
      "source": [
        "# Factorization machine"
      ],
      "id": "ry8ttqPqPHUI"
    },
    {
      "cell_type": "code",
      "source": [
        "!pip install rankfm"
      ],
      "metadata": {
        "colab": {
          "base_uri": "https://localhost:8080/"
        },
        "id": "VocHPciSU4LG",
        "outputId": "bd80f546-3622-4bf7-b815-10defa657cea"
      },
      "execution_count": null,
      "outputs": [
        {
          "output_type": "stream",
          "name": "stdout",
          "text": [
            "Looking in indexes: https://pypi.org/simple, https://us-python.pkg.dev/colab-wheels/public/simple/\n",
            "Requirement already satisfied: rankfm in /usr/local/lib/python3.8/dist-packages (0.2.5)\n",
            "Requirement already satisfied: pandas>=0.24 in /usr/local/lib/python3.8/dist-packages (from rankfm) (1.3.5)\n",
            "Requirement already satisfied: numpy>=1.15 in /usr/local/lib/python3.8/dist-packages (from rankfm) (1.21.6)\n",
            "Requirement already satisfied: python-dateutil>=2.7.3 in /usr/local/lib/python3.8/dist-packages (from pandas>=0.24->rankfm) (2.8.2)\n",
            "Requirement already satisfied: pytz>=2017.3 in /usr/local/lib/python3.8/dist-packages (from pandas>=0.24->rankfm) (2022.7)\n",
            "Requirement already satisfied: six>=1.5 in /usr/local/lib/python3.8/dist-packages (from python-dateutil>=2.7.3->pandas>=0.24->rankfm) (1.15.0)\n"
          ]
        }
      ],
      "id": "VocHPciSU4LG"
    },
    {
      "cell_type": "code",
      "execution_count": null,
      "metadata": {
        "id": "EkeobLglJZF1"
      },
      "outputs": [],
      "source": [
        "from rankfm.rankfm import RankFM\n",
        "from rankfm.evaluation import hit_rate, reciprocal_rank, discounted_cumulative_gain, precision, recall, diversity\n",
        "from datetime import datetime\n"
      ],
      "id": "EkeobLglJZF1"
    },
    {
      "cell_type": "code",
      "execution_count": null,
      "metadata": {
        "id": "PZ-CEmcAJZF1"
      },
      "outputs": [],
      "source": [
        "EPOCHS=50\n",
        "MAX_SAMPLES=30\n",
        "ALPHA=0.01\n",
        "SIGMA=0.1\n",
        "LR=0.10\n",
        "LOSS='warp'\n",
        "FACTORS=20"
      ],
      "id": "PZ-CEmcAJZF1"
    },
    {
      "cell_type": "code",
      "source": [
        "FMUSER='user_id'\n",
        "FMITEM='item_id'"
      ],
      "metadata": {
        "id": "-Y7HBRplkOaG"
      },
      "id": "-Y7HBRplkOaG",
      "execution_count": null,
      "outputs": []
    },
    {
      "cell_type": "code",
      "execution_count": null,
      "metadata": {
        "id": "2DUwx1z4JZF1"
      },
      "outputs": [],
      "source": [
        "class FactMachineExplicit:\n",
        "  def setup(self,fm_df):\n",
        "    self.valid_recommendations= None\n",
        "    fm_df['random'] = np.random.random(size=len(fm_df))\n",
        "    test_pct = 0.25\n",
        "    train_mask = fm_df['random'] <  (1 - test_pct)\n",
        "    valid_mask = fm_df['random'] >= (1 - test_pct)\n",
        "    self.interactions_train = fm_df[train_mask].groupby([FMUSER, FMITEM]).mean().reset_index()\n",
        "    self.interactions_valid = fm_df[valid_mask].groupby([FMUSER, FMITEM]).mean().reset_index()\n",
        " \n",
        "   \n",
        "    self.weight_train = np.log2(self.interactions_train[RATING] + 1)\n",
        "    self.weight_valid =  np.log2(self.interactions_valid[RATING] + 1)\n",
        "\n",
        "    self.interactions_train=self.interactions_train[[FMUSER, FMITEM]]\n",
        "    self.interactions_valid=self.interactions_valid[[FMUSER, FMITEM]]\n",
        "    self.train_users = np.sort(self.interactions_train[FMUSER].unique())\n",
        "    self.valid_users = np.sort(self.interactions_valid[FMUSER].unique())\n",
        "    cold_start_users = set(self.valid_users) - set(self.train_users)\n",
        "    self.train_items = np.sort(self.interactions_train[FMITEM].unique())\n",
        "    self.valid_items = np.sort(self.interactions_valid[FMITEM].unique())\n",
        "    cold_start_items = set(self.valid_items) - set(self.train_items)\n",
        "    \n",
        "    print(\"train shape: {}\".format(self.interactions_train.shape))\n",
        "    print(\"valid shape: {}\".format(self.interactions_valid.shape))\n",
        "\n",
        "    print(\"train users: {}\".format(len(self.train_users)))\n",
        "    print(\"valid users: {}\".format(len(self.valid_users)))\n",
        "    print(\"cold-start users: {}\".format(cold_start_users))\n",
        "\n",
        "    print(\"train items: {}\".format(len(self.train_items)))\n",
        "    print(\"valid items: {}\".format(len(self.valid_items)))\n",
        "    print(\"cold-start items: {}\".format(cold_start_items))\n",
        "    self.user_features_train=None\n",
        "    self.user_features_valid=None\n",
        "    self.item_features_train=None\n",
        "    self.item_features_valid=None\n",
        "\n",
        "     \n",
        "    self.model = RankFM(factors=FACTORS, loss=LOSS, max_samples=MAX_SAMPLES, alpha=ALPHA, sigma=SIGMA, learning_rate=LR, learning_schedule='invscaling')\n",
        "\n",
        "  def train(self):\n",
        "    #print(self.item_features_train.columns[0])\n",
        "    before= datetime.now()\n",
        "    # if self.item_features_train is not None and self.user_features_train is not None:\n",
        "    #   self.model.fit(self.interactions_train,item_features=self.item_features_train,user_features=self.user_features_train, epochs=20, verbose=True)\n",
        "    # if self.item_features_train is  None and self.user_features_train is not None:\n",
        "    #   self.model.fit(self.interactions_train,user_features=self.user_features_train, epochs=EPOCHS, verbose=True)\n",
        " \n",
        "    # if self.item_features_train is not None and self.user_features_train is  None:\n",
        "    #   self.model.fit(self.interactions_train,sample_weight=self.weight_train,item_features=self.item_features_train, epochs=EPOCHS, verbose=True)\n",
        "    # if self.item_features_train is  None and self.user_features_train is  None:\n",
        "    self.model.fit(self.interactions_train,sample_weight=self.weight_train, epochs=EPOCHS, verbose=False)\n",
        " \n",
        "    after= datetime.now()\n",
        "    self.duration = after-before \n",
        "  def evaluate(self,k):\n",
        "    if self.valid_recommendations is None:\n",
        "      self.valid_recommendations = self.model.recommend(self.valid_users, n_items=10, filter_previous=True, cold_start='nan')\n",
        "    self.model_hit_rate = hit_rate(self.model, self.interactions_valid, k=k)\n",
        "    self.model_reciprocal_rank = reciprocal_rank(self.model, self.interactions_valid, k=k)\n",
        "    self.model_dcg = discounted_cumulative_gain(self.model, self.interactions_valid, k=k)\n",
        "    self.model_precision = precision(self.model, self.interactions_valid, k=k)\n",
        "    self.model_recall = recall(self.model, self.interactions_valid, k=k)\n",
        "    print(\"hit_rate: {:.3f}\".format(self.model_hit_rate))\n",
        "    print(\"reciprocal_rank: {:.3f}\".format(self.model_reciprocal_rank))\n",
        "    print(\"dcg: {:.3f}\".format(self.model_dcg, 3))\n",
        "    print(\"precision: {:.3f}\".format(self.model_precision))\n",
        "    print(\"recall: {:.3f}\".format(self.model_recall))\n",
        "    return self.model_recall,self.model_precision,self.model_hit_rate,self.duration.total_seconds()\n",
        "\n"
      ],
      "id": "2DUwx1z4JZF1"
    },
    {
      "cell_type": "code",
      "source": [
        "USER=\"userID\"\n",
        "ITEM=\"itemID\"\n",
        "RATING=\"rating\"\n",
        "TOP_K=10"
      ],
      "metadata": {
        "id": "SbSQbeG1VAju"
      },
      "execution_count": null,
      "outputs": [],
      "id": "SbSQbeG1VAju"
    },
    {
      "cell_type": "code",
      "source": [
        "fm_df=twitch_df.copy()\n",
        "\n",
        "FMUSER='user_id'\n",
        "FMITEM='item_id'\n",
        "fm_df.rename(columns = {USER:FMUSER, ITEM:FMITEM}, inplace = True)\n",
        "fm_df=fm_df[[FMUSER,FMITEM,RATING]]\n",
        "fm=FactMachineExplicit()\n",
        "fm.setup(fm_df)\n",
        "fm.train()\n",
        "fm_testrecall,fm_testprecesion,hit,fm_duration=fm.evaluate(TOP_K)\n"
      ],
      "metadata": {
        "colab": {
          "base_uri": "https://localhost:8080/"
        },
        "id": "Qty-qLw-kVIt",
        "outputId": "674c56d8-107a-4f30-de6e-47cf3a5aaae8"
      },
      "id": "Qty-qLw-kVIt",
      "execution_count": null,
      "outputs": [
        {
          "output_type": "stream",
          "name": "stdout",
          "text": [
            "train shape: (50226, 2)\n",
            "valid shape: (16894, 2)\n",
            "train users: 3546\n",
            "valid users: 3245\n",
            "cold-start users: {50819, 43780, 3590, 10633, 4490, 7960, 88987, 26910, 79006, 49570, 38436, 27942, 94246, 6695, 75435, 96429, 66991, 72242, 25523, 54067, 62649, 14844, 10436, 1362, 45652, 13919, 28260, 53988, 23914, 62574, 69500}\n",
            "train items: 550\n",
            "valid items: 550\n",
            "cold-start items: set()\n",
            "hit_rate: 0.558\n",
            "reciprocal_rank: 0.161\n",
            "dcg: 0.330\n",
            "precision: 0.079\n",
            "recall: 0.197\n"
          ]
        }
      ]
    },
    {
      "cell_type": "code",
      "source": [
        "df2 = {'Dataset':\"Twitch\",'Algorithm':\"Factorization Machine\",'Sparsity':sparsity,'Recall@K':fm_testrecall,'Precision@k':fm_testprecesion,'HitRate@k':hit}\n",
        "summary_df = summary_df.append(df2, ignore_index = True)"
      ],
      "metadata": {
        "id": "dn08g12wkbeD"
      },
      "id": "dn08g12wkbeD",
      "execution_count": null,
      "outputs": []
    },
    {
      "cell_type": "code",
      "source": [
        "summary_df"
      ],
      "metadata": {
        "colab": {
          "base_uri": "https://localhost:8080/",
          "height": 80
        },
        "id": "LW0xBZ--b-Qe",
        "outputId": "dfb6ecfe-10b5-47c0-bf39-137b1065ea4d"
      },
      "id": "LW0xBZ--b-Qe",
      "execution_count": null,
      "outputs": [
        {
          "output_type": "execute_result",
          "data": {
            "text/plain": [
              "  Dataset              Algorithm  Sparsity  Precision@k  HitRate@k  Recall@K\n",
              "0  Twitch  Factorization Machine  0.965883     0.079091   0.558183  0.197351"
            ],
            "text/html": [
              "\n",
              "  <div id=\"df-56679ed5-42cc-468f-aca2-5fb190794627\">\n",
              "    <div class=\"colab-df-container\">\n",
              "      <div>\n",
              "<style scoped>\n",
              "    .dataframe tbody tr th:only-of-type {\n",
              "        vertical-align: middle;\n",
              "    }\n",
              "\n",
              "    .dataframe tbody tr th {\n",
              "        vertical-align: top;\n",
              "    }\n",
              "\n",
              "    .dataframe thead th {\n",
              "        text-align: right;\n",
              "    }\n",
              "</style>\n",
              "<table border=\"1\" class=\"dataframe\">\n",
              "  <thead>\n",
              "    <tr style=\"text-align: right;\">\n",
              "      <th></th>\n",
              "      <th>Dataset</th>\n",
              "      <th>Algorithm</th>\n",
              "      <th>Sparsity</th>\n",
              "      <th>Precision@k</th>\n",
              "      <th>HitRate@k</th>\n",
              "      <th>Recall@K</th>\n",
              "    </tr>\n",
              "  </thead>\n",
              "  <tbody>\n",
              "    <tr>\n",
              "      <th>0</th>\n",
              "      <td>Twitch</td>\n",
              "      <td>Factorization Machine</td>\n",
              "      <td>0.965883</td>\n",
              "      <td>0.079091</td>\n",
              "      <td>0.558183</td>\n",
              "      <td>0.197351</td>\n",
              "    </tr>\n",
              "  </tbody>\n",
              "</table>\n",
              "</div>\n",
              "      <button class=\"colab-df-convert\" onclick=\"convertToInteractive('df-56679ed5-42cc-468f-aca2-5fb190794627')\"\n",
              "              title=\"Convert this dataframe to an interactive table.\"\n",
              "              style=\"display:none;\">\n",
              "        \n",
              "  <svg xmlns=\"http://www.w3.org/2000/svg\" height=\"24px\"viewBox=\"0 0 24 24\"\n",
              "       width=\"24px\">\n",
              "    <path d=\"M0 0h24v24H0V0z\" fill=\"none\"/>\n",
              "    <path d=\"M18.56 5.44l.94 2.06.94-2.06 2.06-.94-2.06-.94-.94-2.06-.94 2.06-2.06.94zm-11 1L8.5 8.5l.94-2.06 2.06-.94-2.06-.94L8.5 2.5l-.94 2.06-2.06.94zm10 10l.94 2.06.94-2.06 2.06-.94-2.06-.94-.94-2.06-.94 2.06-2.06.94z\"/><path d=\"M17.41 7.96l-1.37-1.37c-.4-.4-.92-.59-1.43-.59-.52 0-1.04.2-1.43.59L10.3 9.45l-7.72 7.72c-.78.78-.78 2.05 0 2.83L4 21.41c.39.39.9.59 1.41.59.51 0 1.02-.2 1.41-.59l7.78-7.78 2.81-2.81c.8-.78.8-2.07 0-2.86zM5.41 20L4 18.59l7.72-7.72 1.47 1.35L5.41 20z\"/>\n",
              "  </svg>\n",
              "      </button>\n",
              "      \n",
              "  <style>\n",
              "    .colab-df-container {\n",
              "      display:flex;\n",
              "      flex-wrap:wrap;\n",
              "      gap: 12px;\n",
              "    }\n",
              "\n",
              "    .colab-df-convert {\n",
              "      background-color: #E8F0FE;\n",
              "      border: none;\n",
              "      border-radius: 50%;\n",
              "      cursor: pointer;\n",
              "      display: none;\n",
              "      fill: #1967D2;\n",
              "      height: 32px;\n",
              "      padding: 0 0 0 0;\n",
              "      width: 32px;\n",
              "    }\n",
              "\n",
              "    .colab-df-convert:hover {\n",
              "      background-color: #E2EBFA;\n",
              "      box-shadow: 0px 1px 2px rgba(60, 64, 67, 0.3), 0px 1px 3px 1px rgba(60, 64, 67, 0.15);\n",
              "      fill: #174EA6;\n",
              "    }\n",
              "\n",
              "    [theme=dark] .colab-df-convert {\n",
              "      background-color: #3B4455;\n",
              "      fill: #D2E3FC;\n",
              "    }\n",
              "\n",
              "    [theme=dark] .colab-df-convert:hover {\n",
              "      background-color: #434B5C;\n",
              "      box-shadow: 0px 1px 3px 1px rgba(0, 0, 0, 0.15);\n",
              "      filter: drop-shadow(0px 1px 2px rgba(0, 0, 0, 0.3));\n",
              "      fill: #FFFFFF;\n",
              "    }\n",
              "  </style>\n",
              "\n",
              "      <script>\n",
              "        const buttonEl =\n",
              "          document.querySelector('#df-56679ed5-42cc-468f-aca2-5fb190794627 button.colab-df-convert');\n",
              "        buttonEl.style.display =\n",
              "          google.colab.kernel.accessAllowed ? 'block' : 'none';\n",
              "\n",
              "        async function convertToInteractive(key) {\n",
              "          const element = document.querySelector('#df-56679ed5-42cc-468f-aca2-5fb190794627');\n",
              "          const dataTable =\n",
              "            await google.colab.kernel.invokeFunction('convertToInteractive',\n",
              "                                                     [key], {});\n",
              "          if (!dataTable) return;\n",
              "\n",
              "          const docLinkHtml = 'Like what you see? Visit the ' +\n",
              "            '<a target=\"_blank\" href=https://colab.research.google.com/notebooks/data_table.ipynb>data table notebook</a>'\n",
              "            + ' to learn more about interactive tables.';\n",
              "          element.innerHTML = '';\n",
              "          dataTable['output_type'] = 'display_data';\n",
              "          await google.colab.output.renderOutput(dataTable, element);\n",
              "          const docLink = document.createElement('div');\n",
              "          docLink.innerHTML = docLinkHtml;\n",
              "          element.appendChild(docLink);\n",
              "        }\n",
              "      </script>\n",
              "    </div>\n",
              "  </div>\n",
              "  "
            ]
          },
          "metadata": {},
          "execution_count": 105
        }
      ]
    },
    {
      "cell_type": "markdown",
      "metadata": {
        "id": "JPhXr7O5TIdq"
      },
      "source": [
        "# RBM"
      ],
      "id": "JPhXr7O5TIdq"
    },
    {
      "cell_type": "code",
      "source": [
        "!pip install recommenders"
      ],
      "metadata": {
        "id": "KbSZMuAUmU2C",
        "colab": {
          "base_uri": "https://localhost:8080/"
        },
        "outputId": "e51368d6-3342-463c-802d-60d0239a6932"
      },
      "execution_count": null,
      "outputs": [
        {
          "output_type": "stream",
          "name": "stdout",
          "text": [
            "Looking in indexes: https://pypi.org/simple, https://us-python.pkg.dev/colab-wheels/public/simple/\n",
            "Collecting recommenders\n",
            "  Downloading recommenders-1.1.1-py3-none-any.whl (339 kB)\n",
            "\u001b[2K     \u001b[90m━━━━━━━━━━━━━━━━━━━━━━━━━━━━━━━━━━━━━━\u001b[0m \u001b[32m339.0/339.0 KB\u001b[0m \u001b[31m21.5 MB/s\u001b[0m eta \u001b[36m0:00:00\u001b[0m\n",
            "\u001b[?25hRequirement already satisfied: seaborn<1,>=0.8.1 in /usr/local/lib/python3.8/dist-packages (from recommenders) (0.11.2)\n",
            "Requirement already satisfied: nltk<4,>=3.4 in /usr/local/lib/python3.8/dist-packages (from recommenders) (3.7)\n",
            "Requirement already satisfied: scikit-learn<1.0.3,>=0.22.1 in /usr/local/lib/python3.8/dist-packages (from recommenders) (1.0.2)\n",
            "Collecting pandera[strategies]>=0.6.5\n",
            "  Downloading pandera-0.13.4-py3-none-any.whl (122 kB)\n",
            "\u001b[2K     \u001b[90m━━━━━━━━━━━━━━━━━━━━━━━━━━━━━━━━━━━━━━\u001b[0m \u001b[32m122.4/122.4 KB\u001b[0m \u001b[31m17.0 MB/s\u001b[0m eta \u001b[36m0:00:00\u001b[0m\n",
            "\u001b[?25hRequirement already satisfied: lightgbm>=2.2.1 in /usr/local/lib/python3.8/dist-packages (from recommenders) (2.2.3)\n",
            "Requirement already satisfied: numba<1,>=0.38.1 in /usr/local/lib/python3.8/dist-packages (from recommenders) (0.56.4)\n",
            "Requirement already satisfied: pandas<2,>1.0.3 in /usr/local/lib/python3.8/dist-packages (from recommenders) (1.3.5)\n",
            "Requirement already satisfied: scipy<2,>=1.0.0 in /usr/local/lib/python3.8/dist-packages (from recommenders) (1.7.3)\n",
            "Collecting lightfm<2,>=1.15\n",
            "  Downloading lightfm-1.16.tar.gz (310 kB)\n",
            "\u001b[2K     \u001b[90m━━━━━━━━━━━━━━━━━━━━━━━━━━━━━━━━━━━━━━\u001b[0m \u001b[32m310.1/310.1 KB\u001b[0m \u001b[31m35.8 MB/s\u001b[0m eta \u001b[36m0:00:00\u001b[0m\n",
            "\u001b[?25h  Preparing metadata (setup.py) ... \u001b[?25l\u001b[?25hdone\n",
            "Collecting transformers<5,>=2.5.0\n",
            "  Downloading transformers-4.26.0-py3-none-any.whl (6.3 MB)\n",
            "\u001b[2K     \u001b[90m━━━━━━━━━━━━━━━━━━━━━━━━━━━━━━━━━━━━━━━━\u001b[0m \u001b[32m6.3/6.3 MB\u001b[0m \u001b[31m108.2 MB/s\u001b[0m eta \u001b[36m0:00:00\u001b[0m\n",
            "\u001b[?25hRequirement already satisfied: jinja2<3.1,>=2 in /usr/local/lib/python3.8/dist-packages (from recommenders) (2.11.3)\n",
            "Collecting pyyaml<6,>=5.4.1\n",
            "  Downloading PyYAML-5.4.1-cp38-cp38-manylinux1_x86_64.whl (662 kB)\n",
            "\u001b[2K     \u001b[90m━━━━━━━━━━━━━━━━━━━━━━━━━━━━━━━━━━━━━━\u001b[0m \u001b[32m662.4/662.4 KB\u001b[0m \u001b[31m39.4 MB/s\u001b[0m eta \u001b[36m0:00:00\u001b[0m\n",
            "\u001b[?25hRequirement already satisfied: matplotlib<4,>=2.2.2 in /usr/local/lib/python3.8/dist-packages (from recommenders) (3.2.2)\n",
            "Collecting category-encoders<2,>=1.3.0\n",
            "  Downloading category_encoders-1.3.0-py2.py3-none-any.whl (61 kB)\n",
            "\u001b[2K     \u001b[90m━━━━━━━━━━━━━━━━━━━━━━━━━━━━━━━━━━━━━━━━\u001b[0m \u001b[32m61.4/61.4 KB\u001b[0m \u001b[31m9.5 MB/s\u001b[0m eta \u001b[36m0:00:00\u001b[0m\n",
            "\u001b[?25hRequirement already satisfied: tqdm<5,>=4.31.1 in /usr/local/lib/python3.8/dist-packages (from recommenders) (4.64.1)\n",
            "Collecting retrying>=1.3.3\n",
            "  Downloading retrying-1.3.4-py3-none-any.whl (11 kB)\n",
            "Requirement already satisfied: numpy>=1.19 in /usr/local/lib/python3.8/dist-packages (from recommenders) (1.21.6)\n",
            "Collecting bottleneck<2,>=1.2.1\n",
            "  Downloading Bottleneck-1.3.6-cp38-cp38-manylinux_2_5_x86_64.manylinux1_x86_64.manylinux_2_17_x86_64.manylinux2014_x86_64.whl (355 kB)\n",
            "\u001b[2K     \u001b[90m━━━━━━━━━━━━━━━━━━━━━━━━━━━━━━━━━━━━━━\u001b[0m \u001b[32m355.2/355.2 KB\u001b[0m \u001b[31m40.5 MB/s\u001b[0m eta \u001b[36m0:00:00\u001b[0m\n",
            "\u001b[?25hCollecting memory-profiler<1,>=0.54.0\n",
            "  Downloading memory_profiler-0.61.0-py3-none-any.whl (31 kB)\n",
            "Collecting cornac<2,>=1.1.2\n",
            "  Downloading cornac-1.14.2-cp38-cp38-manylinux1_x86_64.whl (14.4 MB)\n",
            "\u001b[2K     \u001b[90m━━━━━━━━━━━━━━━━━━━━━━━━━━━━━━━━━━━━━━━━\u001b[0m \u001b[32m14.4/14.4 MB\u001b[0m \u001b[31m80.0 MB/s\u001b[0m eta \u001b[36m0:00:00\u001b[0m\n",
            "\u001b[?25hRequirement already satisfied: requests<3,>=2.0.0 in /usr/local/lib/python3.8/dist-packages (from recommenders) (2.25.1)\n",
            "Collecting scikit-surprise>=1.0.6\n",
            "  Downloading scikit-surprise-1.1.3.tar.gz (771 kB)\n",
            "\u001b[2K     \u001b[90m━━━━━━━━━━━━━━━━━━━━━━━━━━━━━━━━━━━━━━\u001b[0m \u001b[32m772.0/772.0 KB\u001b[0m \u001b[31m65.7 MB/s\u001b[0m eta \u001b[36m0:00:00\u001b[0m\n",
            "\u001b[?25h  Preparing metadata (setup.py) ... \u001b[?25l\u001b[?25hdone\n",
            "Requirement already satisfied: statsmodels>=0.6.1 in /usr/local/lib/python3.8/dist-packages (from category-encoders<2,>=1.3.0->recommenders) (0.12.2)\n",
            "Requirement already satisfied: patsy>=0.4.1 in /usr/local/lib/python3.8/dist-packages (from category-encoders<2,>=1.3.0->recommenders) (0.5.3)\n",
            "Collecting powerlaw\n",
            "  Downloading powerlaw-1.5-py3-none-any.whl (24 kB)\n",
            "Requirement already satisfied: MarkupSafe>=0.23 in /usr/local/lib/python3.8/dist-packages (from jinja2<3.1,>=2->recommenders) (2.0.1)\n",
            "Requirement already satisfied: python-dateutil>=2.1 in /usr/local/lib/python3.8/dist-packages (from matplotlib<4,>=2.2.2->recommenders) (2.8.2)\n",
            "Requirement already satisfied: cycler>=0.10 in /usr/local/lib/python3.8/dist-packages (from matplotlib<4,>=2.2.2->recommenders) (0.11.0)\n",
            "Requirement already satisfied: pyparsing!=2.0.4,!=2.1.2,!=2.1.6,>=2.0.1 in /usr/local/lib/python3.8/dist-packages (from matplotlib<4,>=2.2.2->recommenders) (3.0.9)\n",
            "Requirement already satisfied: kiwisolver>=1.0.1 in /usr/local/lib/python3.8/dist-packages (from matplotlib<4,>=2.2.2->recommenders) (1.4.4)\n",
            "Requirement already satisfied: psutil in /usr/local/lib/python3.8/dist-packages (from memory-profiler<1,>=0.54.0->recommenders) (5.4.8)\n",
            "Requirement already satisfied: click in /usr/local/lib/python3.8/dist-packages (from nltk<4,>=3.4->recommenders) (7.1.2)\n",
            "Requirement already satisfied: joblib in /usr/local/lib/python3.8/dist-packages (from nltk<4,>=3.4->recommenders) (1.2.0)\n",
            "Requirement already satisfied: regex>=2021.8.3 in /usr/local/lib/python3.8/dist-packages (from nltk<4,>=3.4->recommenders) (2022.6.2)\n",
            "Requirement already satisfied: importlib-metadata in /usr/local/lib/python3.8/dist-packages (from numba<1,>=0.38.1->recommenders) (6.0.0)\n",
            "Requirement already satisfied: setuptools in /usr/local/lib/python3.8/dist-packages (from numba<1,>=0.38.1->recommenders) (57.4.0)\n",
            "Requirement already satisfied: llvmlite<0.40,>=0.39.0dev0 in /usr/local/lib/python3.8/dist-packages (from numba<1,>=0.38.1->recommenders) (0.39.1)\n",
            "Requirement already satisfied: pytz>=2017.3 in /usr/local/lib/python3.8/dist-packages (from pandas<2,>1.0.3->recommenders) (2022.7)\n",
            "Requirement already satisfied: wrapt in /usr/local/lib/python3.8/dist-packages (from pandera[strategies]>=0.6.5->recommenders) (1.14.1)\n",
            "Requirement already satisfied: packaging>=20.0 in /usr/local/lib/python3.8/dist-packages (from pandera[strategies]>=0.6.5->recommenders) (21.3)\n",
            "Requirement already satisfied: pydantic in /usr/local/lib/python3.8/dist-packages (from pandera[strategies]>=0.6.5->recommenders) (1.10.4)\n",
            "Collecting typing-inspect>=0.6.0\n",
            "  Downloading typing_inspect-0.8.0-py3-none-any.whl (8.7 kB)\n",
            "Collecting hypothesis>=5.41.1\n",
            "  Downloading hypothesis-6.65.2-py3-none-any.whl (402 kB)\n",
            "\u001b[2K     \u001b[90m━━━━━━━━━━━━━━━━━━━━━━━━━━━━━━━━━━━━━━\u001b[0m \u001b[32m402.5/402.5 KB\u001b[0m \u001b[31m46.9 MB/s\u001b[0m eta \u001b[36m0:00:00\u001b[0m\n",
            "\u001b[?25hRequirement already satisfied: chardet<5,>=3.0.2 in /usr/local/lib/python3.8/dist-packages (from requests<3,>=2.0.0->recommenders) (4.0.0)\n",
            "Requirement already satisfied: idna<3,>=2.5 in /usr/local/lib/python3.8/dist-packages (from requests<3,>=2.0.0->recommenders) (2.10)\n",
            "Requirement already satisfied: certifi>=2017.4.17 in /usr/local/lib/python3.8/dist-packages (from requests<3,>=2.0.0->recommenders) (2022.12.7)\n",
            "Requirement already satisfied: urllib3<1.27,>=1.21.1 in /usr/local/lib/python3.8/dist-packages (from requests<3,>=2.0.0->recommenders) (1.24.3)\n",
            "Requirement already satisfied: six>=1.7.0 in /usr/local/lib/python3.8/dist-packages (from retrying>=1.3.3->recommenders) (1.15.0)\n",
            "Requirement already satisfied: threadpoolctl>=2.0.0 in /usr/local/lib/python3.8/dist-packages (from scikit-learn<1.0.3,>=0.22.1->recommenders) (3.1.0)\n",
            "Requirement already satisfied: filelock in /usr/local/lib/python3.8/dist-packages (from transformers<5,>=2.5.0->recommenders) (3.9.0)\n",
            "Collecting tokenizers!=0.11.3,<0.14,>=0.11.1\n",
            "  Downloading tokenizers-0.13.2-cp38-cp38-manylinux_2_17_x86_64.manylinux2014_x86_64.whl (7.6 MB)\n",
            "\u001b[2K     \u001b[90m━━━━━━━━━━━━━━━━━━━━━━━━━━━━━━━━━━━━━━━━\u001b[0m \u001b[32m7.6/7.6 MB\u001b[0m \u001b[31m112.6 MB/s\u001b[0m eta \u001b[36m0:00:00\u001b[0m\n",
            "\u001b[?25hCollecting huggingface-hub<1.0,>=0.11.0\n",
            "  Downloading huggingface_hub-0.12.0-py3-none-any.whl (190 kB)\n",
            "\u001b[2K     \u001b[90m━━━━━━━━━━━━━━━━━━━━━━━━━━━━━━━━━━━━━━\u001b[0m \u001b[32m190.3/190.3 KB\u001b[0m \u001b[31m25.6 MB/s\u001b[0m eta \u001b[36m0:00:00\u001b[0m\n",
            "\u001b[?25hRequirement already satisfied: typing-extensions>=3.7.4.3 in /usr/local/lib/python3.8/dist-packages (from huggingface-hub<1.0,>=0.11.0->transformers<5,>=2.5.0->recommenders) (4.4.0)\n",
            "Requirement already satisfied: sortedcontainers<3.0.0,>=2.1.0 in /usr/local/lib/python3.8/dist-packages (from hypothesis>=5.41.1->pandera[strategies]>=0.6.5->recommenders) (2.4.0)\n",
            "Collecting exceptiongroup>=1.0.0\n",
            "  Downloading exceptiongroup-1.1.0-py3-none-any.whl (14 kB)\n",
            "Requirement already satisfied: attrs>=19.2.0 in /usr/local/lib/python3.8/dist-packages (from hypothesis>=5.41.1->pandera[strategies]>=0.6.5->recommenders) (22.2.0)\n",
            "Collecting mypy-extensions>=0.3.0\n",
            "  Downloading mypy_extensions-0.4.3-py2.py3-none-any.whl (4.5 kB)\n",
            "Requirement already satisfied: zipp>=0.5 in /usr/local/lib/python3.8/dist-packages (from importlib-metadata->numba<1,>=0.38.1->recommenders) (3.11.0)\n",
            "Requirement already satisfied: mpmath in /usr/local/lib/python3.8/dist-packages (from powerlaw->cornac<2,>=1.1.2->recommenders) (1.2.1)\n",
            "Building wheels for collected packages: lightfm, scikit-surprise\n",
            "  Building wheel for lightfm (setup.py) ... \u001b[?25l\u001b[?25hdone\n",
            "  Created wheel for lightfm: filename=lightfm-1.16-cp38-cp38-linux_x86_64.whl size=916407 sha256=4ff3bed97800be26551a30cafd3711e4dcf0c719ea43f59e345f3fb5c891f23d\n",
            "  Stored in directory: /root/.cache/pip/wheels/ec/bb/51/9c487d021c1373b691d13cadca0b65b6852627b1f3f43550fa\n",
            "  Building wheel for scikit-surprise (setup.py) ... \u001b[?25l\u001b[?25hdone\n",
            "  Created wheel for scikit-surprise: filename=scikit_surprise-1.1.3-cp38-cp38-linux_x86_64.whl size=3366483 sha256=2a9a49ac63273b72c79c64d6146f22e4cf80715b4fa119c7cac2abd85a4f327f\n",
            "  Stored in directory: /root/.cache/pip/wheels/af/db/86/2c18183a80ba05da35bf0fb7417aac5cddbd93bcb1b92fd3ea\n",
            "Successfully built lightfm scikit-surprise\n",
            "Installing collected packages: tokenizers, mypy-extensions, typing-inspect, retrying, pyyaml, memory-profiler, exceptiongroup, bottleneck, scikit-surprise, hypothesis, huggingface-hub, transformers, powerlaw, pandera, lightfm, cornac, category-encoders, recommenders\n",
            "  Attempting uninstall: pyyaml\n",
            "    Found existing installation: PyYAML 6.0\n",
            "    Uninstalling PyYAML-6.0:\n",
            "      Successfully uninstalled PyYAML-6.0\n",
            "Successfully installed bottleneck-1.3.6 category-encoders-1.3.0 cornac-1.14.2 exceptiongroup-1.1.0 huggingface-hub-0.12.0 hypothesis-6.65.2 lightfm-1.16 memory-profiler-0.61.0 mypy-extensions-0.4.3 pandera-0.13.4 powerlaw-1.5 pyyaml-5.4.1 recommenders-1.1.1 retrying-1.3.4 scikit-surprise-1.1.3 tokenizers-0.13.2 transformers-4.26.0 typing-inspect-0.8.0\n"
          ]
        }
      ],
      "id": "KbSZMuAUmU2C"
    },
    {
      "cell_type": "code",
      "execution_count": null,
      "metadata": {
        "id": "GZDL98R2W0vA"
      },
      "outputs": [],
      "source": [
        "\n",
        "from recommenders.datasets.python_splitters import python_random_split,  python_stratified_split\n",
        "\n",
        "from recommenders.evaluation.python_evaluation import map_at_k, ndcg_at_k, precision_at_k, recall_at_k\n",
        "from recommenders.models.cornac.cornac_utils import predict_ranking\n",
        "from recommenders.utils.timer import Timer\n",
        "from recommenders.utils.constants import SEED\n"
      ],
      "id": "GZDL98R2W0vA"
    },
    {
      "cell_type": "code",
      "source": [
        "import torch\n",
        "import cornac"
      ],
      "metadata": {
        "id": "g39S-00fNKwV"
      },
      "execution_count": null,
      "outputs": [],
      "id": "g39S-00fNKwV"
    },
    {
      "cell_type": "code",
      "source": [
        "\n",
        "from recommenders.models.rbm.rbm import RBM\n",
        "from recommenders.datasets.python_splitters import numpy_stratified_split\n",
        "from recommenders.datasets.sparse import AffinityMatrix\n",
        "from recommenders.datasets import movielens\n",
        "from recommenders.evaluation.python_evaluation import map_at_k, ndcg_at_k, precision_at_k, recall_at_k\n",
        "from recommenders.utils.timer import Timer\n",
        "from recommenders.utils.plot import line_graph"
      ],
      "metadata": {
        "id": "R0xJi0O17KCW"
      },
      "execution_count": null,
      "outputs": [],
      "id": "R0xJi0O17KCW"
    },
    {
      "cell_type": "code",
      "source": [
        "rating_df=twitch_df.copy()\n"
      ],
      "metadata": {
        "id": "ITZWzCSmNVSV"
      },
      "execution_count": null,
      "outputs": [],
      "id": "ITZWzCSmNVSV"
    },
    {
      "cell_type": "code",
      "source": [
        "item_ids = list(set(list(rating_df.itemID.unique())))\n",
        "user_ids = list(set(list(rating_df.userID.unique())))"
      ],
      "metadata": {
        "id": "L0pWDQrppk3k"
      },
      "execution_count": null,
      "outputs": [],
      "id": "L0pWDQrppk3k"
    },
    {
      "cell_type": "code",
      "source": [
        "dict_users = {}\n",
        "index = 0\n",
        "for ids in sorted(user_ids):\n",
        "    dict_users[ids] = index\n",
        "    index += 1\n",
        "dict_items = {}\n",
        "index = 0\n",
        "for ids in sorted(item_ids):\n",
        "    dict_items[ids] = index\n",
        "    index += 1"
      ],
      "metadata": {
        "id": "wbdwZjvLLUsD"
      },
      "execution_count": null,
      "outputs": [],
      "id": "wbdwZjvLLUsD"
    },
    {
      "cell_type": "code",
      "source": [
        "rating_df['userID'] = rating_df.userID.map(dict_users)\n",
        "rating_df['itemID'] = rating_df.itemID.map(dict_items)"
      ],
      "metadata": {
        "id": "_hPUhWhMZNR3"
      },
      "execution_count": null,
      "outputs": [],
      "id": "_hPUhWhMZNR3"
    },
    {
      "cell_type": "code",
      "source": [
        "# from sklearn.preprocessing import MinMaxScaler\n",
        "# scaler = MinMaxScaler()\n",
        "# rating_df[['rating']] = scaler.fit_transform(rating_df[['rating']])"
      ],
      "metadata": {
        "id": "TEymeAS4XpJc"
      },
      "execution_count": null,
      "outputs": [],
      "id": "TEymeAS4XpJc"
    },
    {
      "cell_type": "code",
      "source": [
        "header = {\n",
        "        \"col_user\": \"userID\",\n",
        "        \"col_item\": \"itemID\",\n",
        "        \"col_rating\": \"rating\",\n",
        "    }\n",
        "\n",
        "#instantiate the sparse matrix generation  \n",
        "am = AffinityMatrix(df =rating_df, **header)\n",
        "\n",
        "#obtain the sparse matrix \n",
        "X, _, _ = am.gen_affinity_matrix()\n",
        "Xtr, Xtst = numpy_stratified_split(X)\n",
        "#First we initialize the model class\n",
        "model = RBM(\n",
        "    possible_ratings=np.setdiff1d(np.unique(Xtr), np.array([0])),\n",
        "    visible_units=Xtr.shape[1],\n",
        "    hidden_units=600,\n",
        "    training_epoch=30,\n",
        "    minibatch_size=60,\n",
        "    keep_prob=0.8,\n",
        "    with_metrics=True\n",
        ")\n",
        "# Model Fit\n",
        "model.fit(Xtr)\n",
        "\n",
        "# Plot the train RMSE as a function of the epochs\n",
        "line_graph(values=model.rmse_train, labels='train', x_name='epoch', y_name='rmse_train')\n"
      ],
      "metadata": {
        "id": "3Qrmh92DNdB1",
        "colab": {
          "base_uri": "https://localhost:8080/",
          "height": 406
        },
        "outputId": "c6cdb571-fc2d-470a-c051-ad06833a3108"
      },
      "execution_count": null,
      "outputs": [
        {
          "output_type": "stream",
          "name": "stderr",
          "text": [
            "WARNING:tensorflow:From /usr/local/lib/python3.8/dist-packages/tensorflow/python/util/dispatch.py:1082: div (from tensorflow.python.ops.math_ops) is deprecated and will be removed in a future version.\n",
            "Instructions for updating:\n",
            "Deprecated in favor of operator or tf.math.divide.\n"
          ]
        },
        {
          "output_type": "display_data",
          "data": {
            "text/plain": [
              "<Figure size 360x360 with 1 Axes>"
            ],
            "image/png": "[encoded data removed]"
          },
          "metadata": {}
        }
      ],
      "id": "3Qrmh92DNdB1"
    },
    {
      "cell_type": "code",
      "source": [
        "top_k =  model.recommend_k_items(Xtst)\n",
        "top_k_df = am.map_back_sparse(top_k, kind = 'prediction')\n",
        "test_df = am.map_back_sparse(Xtst, kind = 'ratings')"
      ],
      "metadata": {
        "id": "bNCOPoRTNaDt"
      },
      "execution_count": null,
      "outputs": [],
      "id": "bNCOPoRTNaDt"
    },
    {
      "cell_type": "code",
      "source": [
        "eval_precision = precision_at_k(test_df, top_k_df, col_user=\"userID\", col_item=\"itemID\", \n",
        "                               col_rating=\"rating\", col_prediction=\"prediction\", \n",
        "                               relevancy_method=\"top_k\", k= 20)"
      ],
      "metadata": {
        "id": "kOM67nta7gdJ"
      },
      "execution_count": null,
      "outputs": [],
      "id": "kOM67nta7gdJ"
    },
    {
      "cell_type": "code",
      "source": [
        "eval_recall = recall_at_k(test_df, top_k_df, col_user=\"userID\", col_item=\"itemID\", \n",
        "                          col_rating=\"rating\", col_prediction=\"prediction\", \n",
        "                          relevancy_method=\"top_k\", k= 20)\n"
      ],
      "metadata": {
        "id": "WsrGCwGc7JF_"
      },
      "execution_count": null,
      "outputs": [],
      "id": "WsrGCwGc7JF_"
    },
    {
      "cell_type": "code",
      "source": [
        "eval_precision"
      ],
      "metadata": {
        "colab": {
          "base_uri": "https://localhost:8080/"
        },
        "id": "2PzHDtMjRZqZ",
        "outputId": "496880ac-620f-4c58-a64d-54cdd17fa297"
      },
      "id": "2PzHDtMjRZqZ",
      "execution_count": null,
      "outputs": [
        {
          "output_type": "execute_result",
          "data": {
            "text/plain": [
              "0.07778771615980919"
            ]
          },
          "metadata": {},
          "execution_count": 119
        }
      ]
    },
    {
      "cell_type": "code",
      "source": [
        "df2 = {'Dataset':\"twitch\",'Algorithm':\"RBM\",'Sparsity':sparsity,'Precision@k':eval_precision,'Recall@k':eval_recall}\n",
        "summary_df = summary_df.append(df2, ignore_index = True)"
      ],
      "metadata": {
        "id": "1BOvo4TFnXe0"
      },
      "execution_count": null,
      "outputs": [],
      "id": "1BOvo4TFnXe0"
    },
    {
      "cell_type": "code",
      "source": [
        "summary_df"
      ],
      "metadata": {
        "colab": {
          "base_uri": "https://localhost:8080/",
          "height": 112
        },
        "id": "MtPTeV2sRF0C",
        "outputId": "5dfc1205-86e9-45d0-e127-c9535eb1ef1d"
      },
      "id": "MtPTeV2sRF0C",
      "execution_count": null,
      "outputs": [
        {
          "output_type": "execute_result",
          "data": {
            "text/plain": [
              "  Dataset              Algorithm  Sparsity  Precision@k  HitRate@k  Recall@K  \\\n",
              "0  Twitch  Factorization Machine  0.965883     0.079091   0.558183  0.197351   \n",
              "1  twitch                    RBM  0.965883     0.077788        NaN       NaN   \n",
              "\n",
              "   Recall@k  \n",
              "0       NaN  \n",
              "1  0.330636  "
            ],
            "text/html": [
              "\n",
              "  <div id=\"df-ac05a9d6-c7da-45b9-a61f-7a12a9c27863\">\n",
              "    <div class=\"colab-df-container\">\n",
              "      <div>\n",
              "<style scoped>\n",
              "    .dataframe tbody tr th:only-of-type {\n",
              "        vertical-align: middle;\n",
              "    }\n",
              "\n",
              "    .dataframe tbody tr th {\n",
              "        vertical-align: top;\n",
              "    }\n",
              "\n",
              "    .dataframe thead th {\n",
              "        text-align: right;\n",
              "    }\n",
              "</style>\n",
              "<table border=\"1\" class=\"dataframe\">\n",
              "  <thead>\n",
              "    <tr style=\"text-align: right;\">\n",
              "      <th></th>\n",
              "      <th>Dataset</th>\n",
              "      <th>Algorithm</th>\n",
              "      <th>Sparsity</th>\n",
              "      <th>Precision@k</th>\n",
              "      <th>HitRate@k</th>\n",
              "      <th>Recall@K</th>\n",
              "      <th>Recall@k</th>\n",
              "    </tr>\n",
              "  </thead>\n",
              "  <tbody>\n",
              "    <tr>\n",
              "      <th>0</th>\n",
              "      <td>Twitch</td>\n",
              "      <td>Factorization Machine</td>\n",
              "      <td>0.965883</td>\n",
              "      <td>0.079091</td>\n",
              "      <td>0.558183</td>\n",
              "      <td>0.197351</td>\n",
              "      <td>NaN</td>\n",
              "    </tr>\n",
              "    <tr>\n",
              "      <th>1</th>\n",
              "      <td>twitch</td>\n",
              "      <td>RBM</td>\n",
              "      <td>0.965883</td>\n",
              "      <td>0.077788</td>\n",
              "      <td>NaN</td>\n",
              "      <td>NaN</td>\n",
              "      <td>0.330636</td>\n",
              "    </tr>\n",
              "  </tbody>\n",
              "</table>\n",
              "</div>\n",
              "      <button class=\"colab-df-convert\" onclick=\"convertToInteractive('df-ac05a9d6-c7da-45b9-a61f-7a12a9c27863')\"\n",
              "              title=\"Convert this dataframe to an interactive table.\"\n",
              "              style=\"display:none;\">\n",
              "        \n",
              "  <svg xmlns=\"http://www.w3.org/2000/svg\" height=\"24px\"viewBox=\"0 0 24 24\"\n",
              "       width=\"24px\">\n",
              "    <path d=\"M0 0h24v24H0V0z\" fill=\"none\"/>\n",
              "    <path d=\"M18.56 5.44l.94 2.06.94-2.06 2.06-.94-2.06-.94-.94-2.06-.94 2.06-2.06.94zm-11 1L8.5 8.5l.94-2.06 2.06-.94-2.06-.94L8.5 2.5l-.94 2.06-2.06.94zm10 10l.94 2.06.94-2.06 2.06-.94-2.06-.94-.94-2.06-.94 2.06-2.06.94z\"/><path d=\"M17.41 7.96l-1.37-1.37c-.4-.4-.92-.59-1.43-.59-.52 0-1.04.2-1.43.59L10.3 9.45l-7.72 7.72c-.78.78-.78 2.05 0 2.83L4 21.41c.39.39.9.59 1.41.59.51 0 1.02-.2 1.41-.59l7.78-7.78 2.81-2.81c.8-.78.8-2.07 0-2.86zM5.41 20L4 18.59l7.72-7.72 1.47 1.35L5.41 20z\"/>\n",
              "  </svg>\n",
              "      </button>\n",
              "      \n",
              "  <style>\n",
              "    .colab-df-container {\n",
              "      display:flex;\n",
              "      flex-wrap:wrap;\n",
              "      gap: 12px;\n",
              "    }\n",
              "\n",
              "    .colab-df-convert {\n",
              "      background-color: #E8F0FE;\n",
              "      border: none;\n",
              "      border-radius: 50%;\n",
              "      cursor: pointer;\n",
              "      display: none;\n",
              "      fill: #1967D2;\n",
              "      height: 32px;\n",
              "      padding: 0 0 0 0;\n",
              "      width: 32px;\n",
              "    }\n",
              "\n",
              "    .colab-df-convert:hover {\n",
              "      background-color: #E2EBFA;\n",
              "      box-shadow: 0px 1px 2px rgba(60, 64, 67, 0.3), 0px 1px 3px 1px rgba(60, 64, 67, 0.15);\n",
              "      fill: #174EA6;\n",
              "    }\n",
              "\n",
              "    [theme=dark] .colab-df-convert {\n",
              "      background-color: #3B4455;\n",
              "      fill: #D2E3FC;\n",
              "    }\n",
              "\n",
              "    [theme=dark] .colab-df-convert:hover {\n",
              "      background-color: #434B5C;\n",
              "      box-shadow: 0px 1px 3px 1px rgba(0, 0, 0, 0.15);\n",
              "      filter: drop-shadow(0px 1px 2px rgba(0, 0, 0, 0.3));\n",
              "      fill: #FFFFFF;\n",
              "    }\n",
              "  </style>\n",
              "\n",
              "      <script>\n",
              "        const buttonEl =\n",
              "          document.querySelector('#df-ac05a9d6-c7da-45b9-a61f-7a12a9c27863 button.colab-df-convert');\n",
              "        buttonEl.style.display =\n",
              "          google.colab.kernel.accessAllowed ? 'block' : 'none';\n",
              "\n",
              "        async function convertToInteractive(key) {\n",
              "          const element = document.querySelector('#df-ac05a9d6-c7da-45b9-a61f-7a12a9c27863');\n",
              "          const dataTable =\n",
              "            await google.colab.kernel.invokeFunction('convertToInteractive',\n",
              "                                                     [key], {});\n",
              "          if (!dataTable) return;\n",
              "\n",
              "          const docLinkHtml = 'Like what you see? Visit the ' +\n",
              "            '<a target=\"_blank\" href=https://colab.research.google.com/notebooks/data_table.ipynb>data table notebook</a>'\n",
              "            + ' to learn more about interactive tables.';\n",
              "          element.innerHTML = '';\n",
              "          dataTable['output_type'] = 'display_data';\n",
              "          await google.colab.output.renderOutput(dataTable, element);\n",
              "          const docLink = document.createElement('div');\n",
              "          docLink.innerHTML = docLinkHtml;\n",
              "          element.appendChild(docLink);\n",
              "        }\n",
              "      </script>\n",
              "    </div>\n",
              "  </div>\n",
              "  "
            ]
          },
          "metadata": {},
          "execution_count": 121
        }
      ]
    },
    {
      "cell_type": "markdown",
      "source": [
        "#BPR"
      ],
      "metadata": {
        "id": "9Ca5qPb-M5cK"
      },
      "id": "9Ca5qPb-M5cK"
    },
    {
      "cell_type": "code",
      "source": [
        "import cornac\n",
        "from recommenders.datasets.python_splitters import python_random_split,python_stratified_split\n",
        "from recommenders.evaluation.python_evaluation import map_at_k, ndcg_at_k, precision_at_k, recall_at_k\n",
        "from recommenders.models.cornac.cornac_utils import predict_ranking\n",
        "from recommenders.utils.timer import Timer\n",
        "from recommenders.utils.constants import SEED\n",
        "\n"
      ],
      "metadata": {
        "id": "GXwz5I4_OFP6"
      },
      "id": "GXwz5I4_OFP6",
      "execution_count": null,
      "outputs": []
    },
    {
      "cell_type": "code",
      "source": [
        "df=twitch_df.copy()\n",
        "df=df[['userID','itemID','rating']]\n",
        "train, test = python_stratified_split(df, 0.75)\n",
        "\n",
        "train_set = cornac.data.Dataset.from_uir(train.itertuples(index=False), seed=SEED)\n",
        "bpr = cornac.models.BPR(\n",
        "    k=200,\n",
        "    max_iter=100,\n",
        "    learning_rate=0.01,\n",
        "    lambda_reg=0.001,\n",
        "    verbose=True,\n",
        "    seed=42\n",
        ")\n",
        "\n",
        "bpr.fit(train_set)\n",
        "\n",
        "all_predictions = predict_ranking(bpr, train, usercol='userID', itemcol='itemID', remove_seen=True)\n",
        "\n",
        "k = 10\n",
        "eval_precision = precision_at_k(test, all_predictions, col_prediction='prediction', k=k)\n",
        "eval_recall = recall_at_k(test, all_predictions, col_prediction='prediction', k=k)\n",
        "\n",
        "print(\n",
        "      \"Precision@K:\\t%f\" % eval_precision,\n",
        "      \"Recall@K:\\t%f\" % eval_recall, sep='\\n')\n"
      ],
      "metadata": {
        "colab": {
          "base_uri": "https://localhost:8080/",
          "height": 101,
          "referenced_widgets": [
            "e101c49daba44184906a6fba554b22eb",
            "bbb1c0f4f71946ce93583f93b9691b25",
            "5533d2a447944f469b5efb2aeb938548",
            "6cf74d27b9ac4a96ab4bcbd870ba198d",
            "b8562e7d5643434c8a56bc26db55ff00",
            "0c0a4aadc042494e9850e09b86fb05bc",
            "cf8de9480baf4128a335f7c5f5777c6e",
            "a49d81911a79413fbeaf622f7b5f3d4e",
            "ea3c8cdb972d495981ea44b9ffa72e70",
            "b2c517ee9d3b4d9ca8a9829140803cc9",
            "4c4d159c736d404dbc535cf2a1eef2a2"
          ]
        },
        "id": "SucFQWquM7DJ",
        "outputId": "87d61181-c80a-474a-c0c0-469556c70d8a"
      },
      "id": "SucFQWquM7DJ",
      "execution_count": null,
      "outputs": [
        {
          "output_type": "display_data",
          "data": {
            "text/plain": [
              "  0%|          | 0/100 [00:00<?, ?it/s]"
            ],
            "application/vnd.jupyter.widget-view+json": {
              "version_major": 2,
              "version_minor": 0,
              "model_id": "e101c49daba44184906a6fba554b22eb"
            }
          },
          "metadata": {}
        },
        {
          "output_type": "stream",
          "name": "stdout",
          "text": [
            "Optimization finished!\n",
            "Precision@K:\t0.174270\n",
            "Recall@K:\t0.350382\n"
          ]
        }
      ]
    },
    {
      "cell_type": "code",
      "source": [
        "\n",
        "df2 = {'Dataset':\"twitch\",'Algorithm':\"BPR\",'Sparsity':sparsity,'Recall@K':eval_recall,'Precision@k': eval_precision }\n",
        "summary_df = summary_df.append(df2, ignore_index = True)\n",
        "summary_df"
      ],
      "metadata": {
        "colab": {
          "base_uri": "https://localhost:8080/",
          "height": 143
        },
        "id": "i25ZX3J9NK6i",
        "outputId": "88bdffc4-0842-4e56-dc62-850b2f9fe2e5"
      },
      "id": "i25ZX3J9NK6i",
      "execution_count": null,
      "outputs": [
        {
          "output_type": "execute_result",
          "data": {
            "text/plain": [
              "  Dataset              Algorithm  Sparsity  Precision@k  HitRate@k  Recall@K  \\\n",
              "0  Twitch  Factorization Machine  0.965883     0.079091   0.558183  0.197351   \n",
              "1  twitch                    RBM  0.965883     0.077788        NaN       NaN   \n",
              "2  twitch                    BPR  0.965883     0.174270        NaN  0.350382   \n",
              "\n",
              "   Recall@k  \n",
              "0       NaN  \n",
              "1  0.330636  \n",
              "2       NaN  "
            ],
            "text/html": [
              "\n",
              "  <div id=\"df-fc52df2c-b830-4497-baca-3cb4968da125\">\n",
              "    <div class=\"colab-df-container\">\n",
              "      <div>\n",
              "<style scoped>\n",
              "    .dataframe tbody tr th:only-of-type {\n",
              "        vertical-align: middle;\n",
              "    }\n",
              "\n",
              "    .dataframe tbody tr th {\n",
              "        vertical-align: top;\n",
              "    }\n",
              "\n",
              "    .dataframe thead th {\n",
              "        text-align: right;\n",
              "    }\n",
              "</style>\n",
              "<table border=\"1\" class=\"dataframe\">\n",
              "  <thead>\n",
              "    <tr style=\"text-align: right;\">\n",
              "      <th></th>\n",
              "      <th>Dataset</th>\n",
              "      <th>Algorithm</th>\n",
              "      <th>Sparsity</th>\n",
              "      <th>Precision@k</th>\n",
              "      <th>HitRate@k</th>\n",
              "      <th>Recall@K</th>\n",
              "      <th>Recall@k</th>\n",
              "    </tr>\n",
              "  </thead>\n",
              "  <tbody>\n",
              "    <tr>\n",
              "      <th>0</th>\n",
              "      <td>Twitch</td>\n",
              "      <td>Factorization Machine</td>\n",
              "      <td>0.965883</td>\n",
              "      <td>0.079091</td>\n",
              "      <td>0.558183</td>\n",
              "      <td>0.197351</td>\n",
              "      <td>NaN</td>\n",
              "    </tr>\n",
              "    <tr>\n",
              "      <th>1</th>\n",
              "      <td>twitch</td>\n",
              "      <td>RBM</td>\n",
              "      <td>0.965883</td>\n",
              "      <td>0.077788</td>\n",
              "      <td>NaN</td>\n",
              "      <td>NaN</td>\n",
              "      <td>0.330636</td>\n",
              "    </tr>\n",
              "    <tr>\n",
              "      <th>2</th>\n",
              "      <td>twitch</td>\n",
              "      <td>BPR</td>\n",
              "      <td>0.965883</td>\n",
              "      <td>0.174270</td>\n",
              "      <td>NaN</td>\n",
              "      <td>0.350382</td>\n",
              "      <td>NaN</td>\n",
              "    </tr>\n",
              "  </tbody>\n",
              "</table>\n",
              "</div>\n",
              "      <button class=\"colab-df-convert\" onclick=\"convertToInteractive('df-fc52df2c-b830-4497-baca-3cb4968da125')\"\n",
              "              title=\"Convert this dataframe to an interactive table.\"\n",
              "              style=\"display:none;\">\n",
              "        \n",
              "  <svg xmlns=\"http://www.w3.org/2000/svg\" height=\"24px\"viewBox=\"0 0 24 24\"\n",
              "       width=\"24px\">\n",
              "    <path d=\"M0 0h24v24H0V0z\" fill=\"none\"/>\n",
              "    <path d=\"M18.56 5.44l.94 2.06.94-2.06 2.06-.94-2.06-.94-.94-2.06-.94 2.06-2.06.94zm-11 1L8.5 8.5l.94-2.06 2.06-.94-2.06-.94L8.5 2.5l-.94 2.06-2.06.94zm10 10l.94 2.06.94-2.06 2.06-.94-2.06-.94-.94-2.06-.94 2.06-2.06.94z\"/><path d=\"M17.41 7.96l-1.37-1.37c-.4-.4-.92-.59-1.43-.59-.52 0-1.04.2-1.43.59L10.3 9.45l-7.72 7.72c-.78.78-.78 2.05 0 2.83L4 21.41c.39.39.9.59 1.41.59.51 0 1.02-.2 1.41-.59l7.78-7.78 2.81-2.81c.8-.78.8-2.07 0-2.86zM5.41 20L4 18.59l7.72-7.72 1.47 1.35L5.41 20z\"/>\n",
              "  </svg>\n",
              "      </button>\n",
              "      \n",
              "  <style>\n",
              "    .colab-df-container {\n",
              "      display:flex;\n",
              "      flex-wrap:wrap;\n",
              "      gap: 12px;\n",
              "    }\n",
              "\n",
              "    .colab-df-convert {\n",
              "      background-color: #E8F0FE;\n",
              "      border: none;\n",
              "      border-radius: 50%;\n",
              "      cursor: pointer;\n",
              "      display: none;\n",
              "      fill: #1967D2;\n",
              "      height: 32px;\n",
              "      padding: 0 0 0 0;\n",
              "      width: 32px;\n",
              "    }\n",
              "\n",
              "    .colab-df-convert:hover {\n",
              "      background-color: #E2EBFA;\n",
              "      box-shadow: 0px 1px 2px rgba(60, 64, 67, 0.3), 0px 1px 3px 1px rgba(60, 64, 67, 0.15);\n",
              "      fill: #174EA6;\n",
              "    }\n",
              "\n",
              "    [theme=dark] .colab-df-convert {\n",
              "      background-color: #3B4455;\n",
              "      fill: #D2E3FC;\n",
              "    }\n",
              "\n",
              "    [theme=dark] .colab-df-convert:hover {\n",
              "      background-color: #434B5C;\n",
              "      box-shadow: 0px 1px 3px 1px rgba(0, 0, 0, 0.15);\n",
              "      filter: drop-shadow(0px 1px 2px rgba(0, 0, 0, 0.3));\n",
              "      fill: #FFFFFF;\n",
              "    }\n",
              "  </style>\n",
              "\n",
              "      <script>\n",
              "        const buttonEl =\n",
              "          document.querySelector('#df-fc52df2c-b830-4497-baca-3cb4968da125 button.colab-df-convert');\n",
              "        buttonEl.style.display =\n",
              "          google.colab.kernel.accessAllowed ? 'block' : 'none';\n",
              "\n",
              "        async function convertToInteractive(key) {\n",
              "          const element = document.querySelector('#df-fc52df2c-b830-4497-baca-3cb4968da125');\n",
              "          const dataTable =\n",
              "            await google.colab.kernel.invokeFunction('convertToInteractive',\n",
              "                                                     [key], {});\n",
              "          if (!dataTable) return;\n",
              "\n",
              "          const docLinkHtml = 'Like what you see? Visit the ' +\n",
              "            '<a target=\"_blank\" href=https://colab.research.google.com/notebooks/data_table.ipynb>data table notebook</a>'\n",
              "            + ' to learn more about interactive tables.';\n",
              "          element.innerHTML = '';\n",
              "          dataTable['output_type'] = 'display_data';\n",
              "          await google.colab.output.renderOutput(dataTable, element);\n",
              "          const docLink = document.createElement('div');\n",
              "          docLink.innerHTML = docLinkHtml;\n",
              "          element.appendChild(docLink);\n",
              "        }\n",
              "      </script>\n",
              "    </div>\n",
              "  </div>\n",
              "  "
            ]
          },
          "metadata": {},
          "execution_count": 124
        }
      ]
    },
    {
      "cell_type": "markdown",
      "metadata": {
        "id": "mTdfxrJJPfqx"
      },
      "source": [
        "# LightGCN"
      ],
      "id": "mTdfxrJJPfqx"
    },
    {
      "cell_type": "code",
      "execution_count": null,
      "metadata": {
        "id": "BysZKxPhPfqx"
      },
      "outputs": [],
      "source": [
        "!pip install recommenders"
      ],
      "id": "BysZKxPhPfqx"
    },
    {
      "cell_type": "code",
      "execution_count": null,
      "metadata": {
        "id": "4GEPZhv9Pfqy"
      },
      "outputs": [],
      "source": [
        "from recommenders.utils.timer import Timer\n",
        "from recommenders.models.deeprec.models.graphrec.lightgcn import LightGCN\n",
        "from recommenders.models.deeprec.DataModel.ImplicitCF import ImplicitCF\n",
        "from recommenders.datasets import movielens\n",
        "from recommenders.datasets.python_splitters import python_stratified_split\n",
        "from recommenders.evaluation.python_evaluation import map_at_k, ndcg_at_k, precision_at_k, recall_at_k\n",
        "from recommenders.utils.constants import SEED as DEFAULT_SEED\n",
        "from recommenders.models.deeprec.deeprec_utils import prepare_hparams"
      ],
      "id": "4GEPZhv9Pfqy"
    },
    {
      "cell_type": "code",
      "source": [
        "from datetime import datetime\n"
      ],
      "metadata": {
        "id": "6ksVvb57OBVR"
      },
      "execution_count": null,
      "outputs": [],
      "id": "6ksVvb57OBVR"
    },
    {
      "cell_type": "code",
      "execution_count": null,
      "metadata": {
        "id": "_qSS3J5uYuK9"
      },
      "outputs": [],
      "source": [
        "SEED=0\n",
        "# top k items to recommend\n",
        "TOP_K = 10\n",
        "\n",
        "# Model parameters\n",
        "EPOCHS = 20\n",
        "BATCH_SIZE = 256"
      ],
      "id": "_qSS3J5uYuK9"
    },
    {
      "cell_type": "code",
      "execution_count": null,
      "metadata": {
        "id": "4ewhxuo-YLce"
      },
      "outputs": [],
      "source": [
        "def runLighGCN(df_input):\n",
        "  gcn_df=df_input.copy()\n",
        "  ct = datetime.now()\n",
        "\n",
        "  \n",
        "  gcn_df=gcn_df[['userID','itemID','rating']]\n",
        "  gcn_item_ids = list(set(list(gcn_df.itemID.unique())))\n",
        "  gcn_user_ids = list(set(list(gcn_df.userID.unique())))\n",
        "  dict_items = {}\n",
        "  index = 0\n",
        "  for ids in sorted(gcn_item_ids):\n",
        "      dict_items[ids] = index\n",
        "      index += 1\n",
        "  dict_users = {}\n",
        "  index = 0\n",
        "  for ids in sorted(gcn_user_ids):\n",
        "      dict_users[ids] = index\n",
        "      index += 1\n",
        "  gcn_df[\"itemID\"] = gcn_df[\"itemID\"].map(dict_items)\n",
        "  gcn_df[\"userID\"] = gcn_df[\"userID\"].map(dict_users)\n",
        "  gcn_df.reset_index()\n",
        "  train, test = python_stratified_split(gcn_df, ratio=0.8)\n",
        "  data = ImplicitCF(train=train, test=test, seed=SEED)\n",
        "  yaml_file = \"param_gcn.yaml\"\n",
        "  hparams = prepare_hparams(yaml_file,\n",
        "                            n_layers=4,\n",
        "                            batch_size=BATCH_SIZE,\n",
        "                            epochs=EPOCHS,\n",
        "                            learning_rate=0.005,\n",
        "                            eval_epoch=5,\n",
        "                            top_k=TOP_K,\n",
        "                           )\n",
        "  model = LightGCN(hparams, data, seed=SEED)\n",
        "  before= datetime.now()\n",
        "  model.fit()\n",
        "  after= datetime.now()\n",
        "  duration=after-before\n",
        "  topk_scores = model.recommend_k_items(test, top_k=TOP_K, remove_seen=True)\n",
        "  eval_map = map_at_k(test, topk_scores, k=TOP_K)\n",
        "  eval_ndcg = ndcg_at_k(test, topk_scores, k=TOP_K)\n",
        "  eval_precision = precision_at_k(test, topk_scores, k=TOP_K)\n",
        "  eval_recall = recall_at_k(test, topk_scores, k=TOP_K)\n",
        "  # Record results with papermill for tests\n",
        "  print(\"map\"+ str(eval_map))\n",
        "  print(\"ndcg\"+ str(eval_ndcg))\n",
        "  print(\"precision\"+ str( eval_precision))\n",
        "  print(\"recall\"+ str(eval_recall))\n",
        "  return eval_map,eval_ndcg,eval_precision,eval_recall,duration.total_seconds()"
      ],
      "id": "4ewhxuo-YLce"
    },
    {
      "cell_type": "code",
      "source": [],
      "metadata": {
        "id": "x61aoc_yevHo"
      },
      "id": "x61aoc_yevHo",
      "execution_count": null,
      "outputs": []
    },
    {
      "cell_type": "code",
      "source": [
        "df=twitch_df.copy()\n",
        "gcn_eval_map,gcn_eval_ndcg,gcn_eval_precision,gcn_eval_recall,gcn_duration=None,None,None,None,None\n",
        "\n",
        "gcn_eval_map,gcn_eval_ndcg,gcn_eval_precision,gcn_eval_recall,gcn_duration=runLighGCN(df)\n",
        "\n"
      ],
      "metadata": {
        "colab": {
          "base_uri": "https://localhost:8080/"
        },
        "id": "P87BkLkQPW64",
        "outputId": "fa5d3520-4410-41d8-d5e1-c6a735cc4e11"
      },
      "id": "P87BkLkQPW64",
      "execution_count": null,
      "outputs": [
        {
          "output_type": "stream",
          "name": "stdout",
          "text": [
            "Already create adjacency matrix.\n",
            "Already normalize adjacency matrix.\n",
            "Using xavier initialization.\n",
            "Epoch 1 (train)0.9s: train loss = 0.49553 = (mf)0.49518 + (embed)0.00035\n",
            "Epoch 2 (train)0.8s: train loss = 0.28711 = (mf)0.28598 + (embed)0.00114\n",
            "Epoch 3 (train)0.9s: train loss = 0.22343 = (mf)0.22173 + (embed)0.00170\n",
            "Epoch 4 (train)0.8s: train loss = 0.19370 = (mf)0.19156 + (embed)0.00213\n",
            "Epoch 5 (train)0.8s + (eval)0.3s: train loss = 0.17293 = (mf)0.17042 + (embed)0.00250, recall = 0.38633, ndcg = 0.31065, precision = 0.13980, map = 0.20269\n",
            "Epoch 6 (train)0.7s: train loss = 0.15636 = (mf)0.15353 + (embed)0.00283\n",
            "Epoch 7 (train)0.7s: train loss = 0.14686 = (mf)0.14374 + (embed)0.00312\n",
            "Epoch 8 (train)0.7s: train loss = 0.13736 = (mf)0.13397 + (embed)0.00339\n",
            "Epoch 9 (train)0.7s: train loss = 0.12727 = (mf)0.12362 + (embed)0.00365\n",
            "Epoch 10 (train)0.7s + (eval)0.2s: train loss = 0.12119 = (mf)0.11732 + (embed)0.00388, recall = 0.41700, ndcg = 0.33594, precision = 0.14982, map = 0.22196\n",
            "map0.22196028000942886\n",
            "ndcg0.33593869225554945\n",
            "precision0.14982110912343471\n",
            "recall0.4169985384654436\n"
          ]
        }
      ]
    },
    {
      "cell_type": "code",
      "source": [
        "df2 = {'Dataset':\"twitch\",'Algorithm':\"LightGCN\",'Sparsity':sparsity,'Precision@k':gcn_eval_precision,'Recall@k':gcn_eval_recall}\n",
        "summary_df = summary_df.append(df2, ignore_index = True)"
      ],
      "metadata": {
        "id": "65uNqXNWPwZA"
      },
      "id": "65uNqXNWPwZA",
      "execution_count": null,
      "outputs": []
    },
    {
      "cell_type": "code",
      "source": [
        "summary_df"
      ],
      "metadata": {
        "colab": {
          "base_uri": "https://localhost:8080/",
          "height": 300
        },
        "id": "KRZ8zxa5f7_B",
        "outputId": "941621e1-6716-47db-cbb3-fd5f73361ae4"
      },
      "id": "KRZ8zxa5f7_B",
      "execution_count": null,
      "outputs": [
        {
          "output_type": "execute_result",
          "data": {
            "text/plain": [
              "  Dataset              Algorithm  Sparsity  Precision@k  HitRate@k  Recall@K  \\\n",
              "0  Twitch  Factorization Machine  0.965883     0.079091   0.558183  0.197351   \n",
              "1  twitch                    RBM  0.965883     0.077788        NaN       NaN   \n",
              "2  twitch                    BPR  0.965883     0.174270        NaN  0.350382   \n",
              "3  twitch                    NCF  0.965883     0.161538        NaN       NaN   \n",
              "4  twitch                  BiVAE  0.965883     0.158388        NaN       NaN   \n",
              "5  twitch                    SVD  0.965883     0.023049   0.351067       NaN   \n",
              "6  twitch                    NMF  0.965883     0.016215   0.270980       NaN   \n",
              "7  twitch               LightGCN  0.965883     0.149821        NaN       NaN   \n",
              "\n",
              "   Recall@k       rmse  \n",
              "0       NaN        NaN  \n",
              "1  0.330636        NaN  \n",
              "2       NaN        NaN  \n",
              "3  0.332979        NaN  \n",
              "4  0.296624        NaN  \n",
              "5       NaN  14.240035  \n",
              "6       NaN  13.814859  \n",
              "7  0.416999        NaN  "
            ],
            "text/html": [
              "\n",
              "  <div id=\"df-e5a467a5-23a8-41e9-bf54-4d1ace894917\">\n",
              "    <div class=\"colab-df-container\">\n",
              "      <div>\n",
              "<style scoped>\n",
              "    .dataframe tbody tr th:only-of-type {\n",
              "        vertical-align: middle;\n",
              "    }\n",
              "\n",
              "    .dataframe tbody tr th {\n",
              "        vertical-align: top;\n",
              "    }\n",
              "\n",
              "    .dataframe thead th {\n",
              "        text-align: right;\n",
              "    }\n",
              "</style>\n",
              "<table border=\"1\" class=\"dataframe\">\n",
              "  <thead>\n",
              "    <tr style=\"text-align: right;\">\n",
              "      <th></th>\n",
              "      <th>Dataset</th>\n",
              "      <th>Algorithm</th>\n",
              "      <th>Sparsity</th>\n",
              "      <th>Precision@k</th>\n",
              "      <th>HitRate@k</th>\n",
              "      <th>Recall@K</th>\n",
              "      <th>Recall@k</th>\n",
              "      <th>rmse</th>\n",
              "    </tr>\n",
              "  </thead>\n",
              "  <tbody>\n",
              "    <tr>\n",
              "      <th>0</th>\n",
              "      <td>Twitch</td>\n",
              "      <td>Factorization Machine</td>\n",
              "      <td>0.965883</td>\n",
              "      <td>0.079091</td>\n",
              "      <td>0.558183</td>\n",
              "      <td>0.197351</td>\n",
              "      <td>NaN</td>\n",
              "      <td>NaN</td>\n",
              "    </tr>\n",
              "    <tr>\n",
              "      <th>1</th>\n",
              "      <td>twitch</td>\n",
              "      <td>RBM</td>\n",
              "      <td>0.965883</td>\n",
              "      <td>0.077788</td>\n",
              "      <td>NaN</td>\n",
              "      <td>NaN</td>\n",
              "      <td>0.330636</td>\n",
              "      <td>NaN</td>\n",
              "    </tr>\n",
              "    <tr>\n",
              "      <th>2</th>\n",
              "      <td>twitch</td>\n",
              "      <td>BPR</td>\n",
              "      <td>0.965883</td>\n",
              "      <td>0.174270</td>\n",
              "      <td>NaN</td>\n",
              "      <td>0.350382</td>\n",
              "      <td>NaN</td>\n",
              "      <td>NaN</td>\n",
              "    </tr>\n",
              "    <tr>\n",
              "      <th>3</th>\n",
              "      <td>twitch</td>\n",
              "      <td>NCF</td>\n",
              "      <td>0.965883</td>\n",
              "      <td>0.161538</td>\n",
              "      <td>NaN</td>\n",
              "      <td>NaN</td>\n",
              "      <td>0.332979</td>\n",
              "      <td>NaN</td>\n",
              "    </tr>\n",
              "    <tr>\n",
              "      <th>4</th>\n",
              "      <td>twitch</td>\n",
              "      <td>BiVAE</td>\n",
              "      <td>0.965883</td>\n",
              "      <td>0.158388</td>\n",
              "      <td>NaN</td>\n",
              "      <td>NaN</td>\n",
              "      <td>0.296624</td>\n",
              "      <td>NaN</td>\n",
              "    </tr>\n",
              "    <tr>\n",
              "      <th>5</th>\n",
              "      <td>twitch</td>\n",
              "      <td>SVD</td>\n",
              "      <td>0.965883</td>\n",
              "      <td>0.023049</td>\n",
              "      <td>0.351067</td>\n",
              "      <td>NaN</td>\n",
              "      <td>NaN</td>\n",
              "      <td>14.240035</td>\n",
              "    </tr>\n",
              "    <tr>\n",
              "      <th>6</th>\n",
              "      <td>twitch</td>\n",
              "      <td>NMF</td>\n",
              "      <td>0.965883</td>\n",
              "      <td>0.016215</td>\n",
              "      <td>0.270980</td>\n",
              "      <td>NaN</td>\n",
              "      <td>NaN</td>\n",
              "      <td>13.814859</td>\n",
              "    </tr>\n",
              "    <tr>\n",
              "      <th>7</th>\n",
              "      <td>twitch</td>\n",
              "      <td>LightGCN</td>\n",
              "      <td>0.965883</td>\n",
              "      <td>0.149821</td>\n",
              "      <td>NaN</td>\n",
              "      <td>NaN</td>\n",
              "      <td>0.416999</td>\n",
              "      <td>NaN</td>\n",
              "    </tr>\n",
              "  </tbody>\n",
              "</table>\n",
              "</div>\n",
              "      <button class=\"colab-df-convert\" onclick=\"convertToInteractive('df-e5a467a5-23a8-41e9-bf54-4d1ace894917')\"\n",
              "              title=\"Convert this dataframe to an interactive table.\"\n",
              "              style=\"display:none;\">\n",
              "        \n",
              "  <svg xmlns=\"http://www.w3.org/2000/svg\" height=\"24px\"viewBox=\"0 0 24 24\"\n",
              "       width=\"24px\">\n",
              "    <path d=\"M0 0h24v24H0V0z\" fill=\"none\"/>\n",
              "    <path d=\"M18.56 5.44l.94 2.06.94-2.06 2.06-.94-2.06-.94-.94-2.06-.94 2.06-2.06.94zm-11 1L8.5 8.5l.94-2.06 2.06-.94-2.06-.94L8.5 2.5l-.94 2.06-2.06.94zm10 10l.94 2.06.94-2.06 2.06-.94-2.06-.94-.94-2.06-.94 2.06-2.06.94z\"/><path d=\"M17.41 7.96l-1.37-1.37c-.4-.4-.92-.59-1.43-.59-.52 0-1.04.2-1.43.59L10.3 9.45l-7.72 7.72c-.78.78-.78 2.05 0 2.83L4 21.41c.39.39.9.59 1.41.59.51 0 1.02-.2 1.41-.59l7.78-7.78 2.81-2.81c.8-.78.8-2.07 0-2.86zM5.41 20L4 18.59l7.72-7.72 1.47 1.35L5.41 20z\"/>\n",
              "  </svg>\n",
              "      </button>\n",
              "      \n",
              "  <style>\n",
              "    .colab-df-container {\n",
              "      display:flex;\n",
              "      flex-wrap:wrap;\n",
              "      gap: 12px;\n",
              "    }\n",
              "\n",
              "    .colab-df-convert {\n",
              "      background-color: #E8F0FE;\n",
              "      border: none;\n",
              "      border-radius: 50%;\n",
              "      cursor: pointer;\n",
              "      display: none;\n",
              "      fill: #1967D2;\n",
              "      height: 32px;\n",
              "      padding: 0 0 0 0;\n",
              "      width: 32px;\n",
              "    }\n",
              "\n",
              "    .colab-df-convert:hover {\n",
              "      background-color: #E2EBFA;\n",
              "      box-shadow: 0px 1px 2px rgba(60, 64, 67, 0.3), 0px 1px 3px 1px rgba(60, 64, 67, 0.15);\n",
              "      fill: #174EA6;\n",
              "    }\n",
              "\n",
              "    [theme=dark] .colab-df-convert {\n",
              "      background-color: #3B4455;\n",
              "      fill: #D2E3FC;\n",
              "    }\n",
              "\n",
              "    [theme=dark] .colab-df-convert:hover {\n",
              "      background-color: #434B5C;\n",
              "      box-shadow: 0px 1px 3px 1px rgba(0, 0, 0, 0.15);\n",
              "      filter: drop-shadow(0px 1px 2px rgba(0, 0, 0, 0.3));\n",
              "      fill: #FFFFFF;\n",
              "    }\n",
              "  </style>\n",
              "\n",
              "      <script>\n",
              "        const buttonEl =\n",
              "          document.querySelector('#df-e5a467a5-23a8-41e9-bf54-4d1ace894917 button.colab-df-convert');\n",
              "        buttonEl.style.display =\n",
              "          google.colab.kernel.accessAllowed ? 'block' : 'none';\n",
              "\n",
              "        async function convertToInteractive(key) {\n",
              "          const element = document.querySelector('#df-e5a467a5-23a8-41e9-bf54-4d1ace894917');\n",
              "          const dataTable =\n",
              "            await google.colab.kernel.invokeFunction('convertToInteractive',\n",
              "                                                     [key], {});\n",
              "          if (!dataTable) return;\n",
              "\n",
              "          const docLinkHtml = 'Like what you see? Visit the ' +\n",
              "            '<a target=\"_blank\" href=https://colab.research.google.com/notebooks/data_table.ipynb>data table notebook</a>'\n",
              "            + ' to learn more about interactive tables.';\n",
              "          element.innerHTML = '';\n",
              "          dataTable['output_type'] = 'display_data';\n",
              "          await google.colab.output.renderOutput(dataTable, element);\n",
              "          const docLink = document.createElement('div');\n",
              "          docLink.innerHTML = docLinkHtml;\n",
              "          element.appendChild(docLink);\n",
              "        }\n",
              "      </script>\n",
              "    </div>\n",
              "  </div>\n",
              "  "
            ]
          },
          "metadata": {},
          "execution_count": 164
        }
      ]
    },
    {
      "cell_type": "markdown",
      "metadata": {
        "id": "-LDkgRe1QvYA"
      },
      "source": [
        "# BiVAE"
      ],
      "id": "-LDkgRe1QvYA"
    },
    {
      "cell_type": "code",
      "execution_count": null,
      "metadata": {
        "id": "71-BN06yRSZC"
      },
      "outputs": [],
      "source": [
        "\n",
        "from recommenders.datasets.python_splitters import python_random_split,  python_stratified_split\n",
        "\n",
        "from recommenders.evaluation.python_evaluation import map_at_k, ndcg_at_k, precision_at_k, recall_at_k\n",
        "from recommenders.models.cornac.cornac_utils import predict_ranking\n",
        "from recommenders.utils.timer import Timer\n",
        "from recommenders.utils.constants import SEED\n"
      ],
      "id": "71-BN06yRSZC"
    },
    {
      "cell_type": "code",
      "source": [
        "import torch\n",
        "import cornac"
      ],
      "metadata": {
        "id": "yGjTQEnaRSZC"
      },
      "execution_count": null,
      "outputs": [],
      "id": "yGjTQEnaRSZC"
    },
    {
      "cell_type": "code",
      "source": [
        "import pandas as pd\n",
        "from recommenders.datasets import movielens\n",
        "from recommenders.datasets.python_splitters import python_random_split\n",
        "from recommenders.evaluation.python_evaluation import map_at_k, ndcg_at_k, precision_at_k, recall_at_k\n",
        "from recommenders.models.cornac.cornac_utils import predict_ranking\n",
        "from recommenders.utils.timer import Timer\n",
        "from recommenders.utils.constants import SEED"
      ],
      "metadata": {
        "id": "rzXejRZhRSZC"
      },
      "execution_count": null,
      "outputs": [],
      "id": "rzXejRZhRSZC"
    },
    {
      "cell_type": "code",
      "source": [
        "TOP_K = 10\n",
        "\n",
        "# Model parameters\n",
        "LATENT_DIM = 50\n",
        "ENCODER_DIMS = [100]\n",
        "ACT_FUNC = \"tanh\"\n",
        "LIKELIHOOD = \"pois\"\n",
        "NUM_EPOCHS = 50\n",
        "BATCH_SIZE = 512\n",
        "LEARNING_RATE = 0.001"
      ],
      "metadata": {
        "id": "JK3D3mg-6pAq"
      },
      "execution_count": null,
      "outputs": [],
      "id": "JK3D3mg-6pAq"
    },
    {
      "cell_type": "code",
      "source": [
        "rating_df=twitch_df.copy()\n",
        "rating_df['rating']=1"
      ],
      "metadata": {
        "id": "B40IVL1J9d60"
      },
      "execution_count": null,
      "outputs": [],
      "id": "B40IVL1J9d60"
    },
    {
      "cell_type": "code",
      "source": [
        "item_ids = list(set(list(rating_df.itemID.unique())))\n",
        "user_ids = list(set(list(rating_df.userID.unique())))\n",
        "dict_users = {}\n",
        "index = 0\n",
        "for ids in sorted(user_ids):\n",
        "    dict_users[ids] = index\n",
        "    index += 1\n",
        "dict_items = {}\n",
        "index = 0\n",
        "for ids in sorted(item_ids):\n",
        "    dict_items[ids] = index\n",
        "    index += 1\n",
        "rating_df['userID'] = rating_df.userID.map(dict_users)\n",
        "rating_df['itemID'] = rating_df.itemID.map(dict_items)\n",
        "train, test = python_random_split(rating_df, 0.75)\n",
        "train_set = cornac.data.Dataset.from_uir(train.itertuples(index=False), seed=SEED)\n",
        "\n",
        "#First we initialize the model class\n",
        "model = bivae = cornac.models.BiVAECF(\n",
        "    k=LATENT_DIM,\n",
        "    encoder_structure=ENCODER_DIMS,\n",
        "    act_fn=ACT_FUNC,\n",
        "    likelihood=LIKELIHOOD,\n",
        "    n_epochs=NUM_EPOCHS,\n",
        "    batch_size=BATCH_SIZE,\n",
        "    learning_rate=LEARNING_RATE,\n",
        "    seed=SEED,\n",
        "    use_gpu=torch.cuda.is_available(),\n",
        "    verbose=True\n",
        ")\n",
        "# Model Fit\n",
        "model.fit(train_set)\n",
        "\n",
        "all_predictions = predict_ranking(bivae, train, usercol='userID', itemcol='itemID', remove_seen=True)\n",
        "eval_precision = precision_at_k(test, all_predictions, col_prediction='prediction', k=TOP_K)\n",
        "eval_recall = recall_at_k(test, all_predictions, col_prediction='prediction', k=TOP_K)\n",
        "\n",
        "print(\n",
        "      \"Precision@K:\\t%f\" % eval_precision,\n",
        "      \"Recall@K:\\t%f\" % eval_recall, sep='\\n')\n"
      ],
      "metadata": {
        "id": "I9PTkgcV9d61",
        "colab": {
          "base_uri": "https://localhost:8080/",
          "height": 84,
          "referenced_widgets": [
            "3031d02d5f0a479e94cb288b7769031b",
            "73edfaadfef44fb1bf7596274c517850",
            "d766ce262e3b48848ce99242bcfe3bdc",
            "e82f0015755c4a59adadd8edc23b9796",
            "c5ce58be3bb1445c9976ee9e9347c81b",
            "669c1a8423f04427b00e32b66ba55514",
            "3ee334cc84de4f8ba6d54d4553017678",
            "fea29758e801491fb7157d4d730ac636",
            "c24786ce9c4e45e987b50f7d3e44ac7b",
            "c8e2671fc65a48298066488807e58634",
            "fe50b01f8d774e81b98021e56b58b4a1"
          ]
        },
        "outputId": "9fcb4e6b-ec49-4d7d-e986-aaf28f3aca30"
      },
      "execution_count": null,
      "outputs": [
        {
          "output_type": "display_data",
          "data": {
            "text/plain": [
              "  0%|          | 0/50 [00:00<?, ?it/s]"
            ],
            "application/vnd.jupyter.widget-view+json": {
              "version_major": 2,
              "version_minor": 0,
              "model_id": "3031d02d5f0a479e94cb288b7769031b"
            }
          },
          "metadata": {}
        },
        {
          "output_type": "stream",
          "name": "stdout",
          "text": [
            "Precision@K:\t0.158388\n",
            "Recall@K:\t0.296624\n"
          ]
        }
      ],
      "id": "I9PTkgcV9d61"
    },
    {
      "cell_type": "code",
      "source": [
        "df2 = {'Dataset':\"twitch\",'Algorithm':\"BiVAE\",'Sparsity':sparsity,'Precision@k':eval_precision,'Recall@k':eval_recall}\n",
        "summary_df = summary_df.append(df2, ignore_index = True)"
      ],
      "metadata": {
        "id": "okmxHC7Z9d68"
      },
      "execution_count": null,
      "outputs": [],
      "id": "okmxHC7Z9d68"
    },
    {
      "cell_type": "code",
      "source": [
        "summary_df"
      ],
      "metadata": {
        "id": "y4cCPAYQRgEB",
        "colab": {
          "base_uri": "https://localhost:8080/",
          "height": 206
        },
        "outputId": "ce52cf60-0a6b-4ada-8de0-74499c5bff03"
      },
      "id": "y4cCPAYQRgEB",
      "execution_count": null,
      "outputs": [
        {
          "output_type": "execute_result",
          "data": {
            "text/plain": [
              "  Dataset              Algorithm  Sparsity  Precision@k  HitRate@k  Recall@K  \\\n",
              "0  Twitch  Factorization Machine  0.965883     0.079091   0.558183  0.197351   \n",
              "1  twitch                    RBM  0.965883     0.077788        NaN       NaN   \n",
              "2  twitch                    BPR  0.965883     0.174270        NaN  0.350382   \n",
              "3  twitch                    NCF  0.965883     0.161538        NaN       NaN   \n",
              "4  twitch                  BiVAE  0.965883     0.158388        NaN       NaN   \n",
              "\n",
              "   Recall@k  \n",
              "0       NaN  \n",
              "1  0.330636  \n",
              "2       NaN  \n",
              "3  0.332979  \n",
              "4  0.296624  "
            ],
            "text/html": [
              "\n",
              "  <div id=\"df-b59a3064-ecee-4a1e-82de-ccf69e604071\">\n",
              "    <div class=\"colab-df-container\">\n",
              "      <div>\n",
              "<style scoped>\n",
              "    .dataframe tbody tr th:only-of-type {\n",
              "        vertical-align: middle;\n",
              "    }\n",
              "\n",
              "    .dataframe tbody tr th {\n",
              "        vertical-align: top;\n",
              "    }\n",
              "\n",
              "    .dataframe thead th {\n",
              "        text-align: right;\n",
              "    }\n",
              "</style>\n",
              "<table border=\"1\" class=\"dataframe\">\n",
              "  <thead>\n",
              "    <tr style=\"text-align: right;\">\n",
              "      <th></th>\n",
              "      <th>Dataset</th>\n",
              "      <th>Algorithm</th>\n",
              "      <th>Sparsity</th>\n",
              "      <th>Precision@k</th>\n",
              "      <th>HitRate@k</th>\n",
              "      <th>Recall@K</th>\n",
              "      <th>Recall@k</th>\n",
              "    </tr>\n",
              "  </thead>\n",
              "  <tbody>\n",
              "    <tr>\n",
              "      <th>0</th>\n",
              "      <td>Twitch</td>\n",
              "      <td>Factorization Machine</td>\n",
              "      <td>0.965883</td>\n",
              "      <td>0.079091</td>\n",
              "      <td>0.558183</td>\n",
              "      <td>0.197351</td>\n",
              "      <td>NaN</td>\n",
              "    </tr>\n",
              "    <tr>\n",
              "      <th>1</th>\n",
              "      <td>twitch</td>\n",
              "      <td>RBM</td>\n",
              "      <td>0.965883</td>\n",
              "      <td>0.077788</td>\n",
              "      <td>NaN</td>\n",
              "      <td>NaN</td>\n",
              "      <td>0.330636</td>\n",
              "    </tr>\n",
              "    <tr>\n",
              "      <th>2</th>\n",
              "      <td>twitch</td>\n",
              "      <td>BPR</td>\n",
              "      <td>0.965883</td>\n",
              "      <td>0.174270</td>\n",
              "      <td>NaN</td>\n",
              "      <td>0.350382</td>\n",
              "      <td>NaN</td>\n",
              "    </tr>\n",
              "    <tr>\n",
              "      <th>3</th>\n",
              "      <td>twitch</td>\n",
              "      <td>NCF</td>\n",
              "      <td>0.965883</td>\n",
              "      <td>0.161538</td>\n",
              "      <td>NaN</td>\n",
              "      <td>NaN</td>\n",
              "      <td>0.332979</td>\n",
              "    </tr>\n",
              "    <tr>\n",
              "      <th>4</th>\n",
              "      <td>twitch</td>\n",
              "      <td>BiVAE</td>\n",
              "      <td>0.965883</td>\n",
              "      <td>0.158388</td>\n",
              "      <td>NaN</td>\n",
              "      <td>NaN</td>\n",
              "      <td>0.296624</td>\n",
              "    </tr>\n",
              "  </tbody>\n",
              "</table>\n",
              "</div>\n",
              "      <button class=\"colab-df-convert\" onclick=\"convertToInteractive('df-b59a3064-ecee-4a1e-82de-ccf69e604071')\"\n",
              "              title=\"Convert this dataframe to an interactive table.\"\n",
              "              style=\"display:none;\">\n",
              "        \n",
              "  <svg xmlns=\"http://www.w3.org/2000/svg\" height=\"24px\"viewBox=\"0 0 24 24\"\n",
              "       width=\"24px\">\n",
              "    <path d=\"M0 0h24v24H0V0z\" fill=\"none\"/>\n",
              "    <path d=\"M18.56 5.44l.94 2.06.94-2.06 2.06-.94-2.06-.94-.94-2.06-.94 2.06-2.06.94zm-11 1L8.5 8.5l.94-2.06 2.06-.94-2.06-.94L8.5 2.5l-.94 2.06-2.06.94zm10 10l.94 2.06.94-2.06 2.06-.94-2.06-.94-.94-2.06-.94 2.06-2.06.94z\"/><path d=\"M17.41 7.96l-1.37-1.37c-.4-.4-.92-.59-1.43-.59-.52 0-1.04.2-1.43.59L10.3 9.45l-7.72 7.72c-.78.78-.78 2.05 0 2.83L4 21.41c.39.39.9.59 1.41.59.51 0 1.02-.2 1.41-.59l7.78-7.78 2.81-2.81c.8-.78.8-2.07 0-2.86zM5.41 20L4 18.59l7.72-7.72 1.47 1.35L5.41 20z\"/>\n",
              "  </svg>\n",
              "      </button>\n",
              "      \n",
              "  <style>\n",
              "    .colab-df-container {\n",
              "      display:flex;\n",
              "      flex-wrap:wrap;\n",
              "      gap: 12px;\n",
              "    }\n",
              "\n",
              "    .colab-df-convert {\n",
              "      background-color: #E8F0FE;\n",
              "      border: none;\n",
              "      border-radius: 50%;\n",
              "      cursor: pointer;\n",
              "      display: none;\n",
              "      fill: #1967D2;\n",
              "      height: 32px;\n",
              "      padding: 0 0 0 0;\n",
              "      width: 32px;\n",
              "    }\n",
              "\n",
              "    .colab-df-convert:hover {\n",
              "      background-color: #E2EBFA;\n",
              "      box-shadow: 0px 1px 2px rgba(60, 64, 67, 0.3), 0px 1px 3px 1px rgba(60, 64, 67, 0.15);\n",
              "      fill: #174EA6;\n",
              "    }\n",
              "\n",
              "    [theme=dark] .colab-df-convert {\n",
              "      background-color: #3B4455;\n",
              "      fill: #D2E3FC;\n",
              "    }\n",
              "\n",
              "    [theme=dark] .colab-df-convert:hover {\n",
              "      background-color: #434B5C;\n",
              "      box-shadow: 0px 1px 3px 1px rgba(0, 0, 0, 0.15);\n",
              "      filter: drop-shadow(0px 1px 2px rgba(0, 0, 0, 0.3));\n",
              "      fill: #FFFFFF;\n",
              "    }\n",
              "  </style>\n",
              "\n",
              "      <script>\n",
              "        const buttonEl =\n",
              "          document.querySelector('#df-b59a3064-ecee-4a1e-82de-ccf69e604071 button.colab-df-convert');\n",
              "        buttonEl.style.display =\n",
              "          google.colab.kernel.accessAllowed ? 'block' : 'none';\n",
              "\n",
              "        async function convertToInteractive(key) {\n",
              "          const element = document.querySelector('#df-b59a3064-ecee-4a1e-82de-ccf69e604071');\n",
              "          const dataTable =\n",
              "            await google.colab.kernel.invokeFunction('convertToInteractive',\n",
              "                                                     [key], {});\n",
              "          if (!dataTable) return;\n",
              "\n",
              "          const docLinkHtml = 'Like what you see? Visit the ' +\n",
              "            '<a target=\"_blank\" href=https://colab.research.google.com/notebooks/data_table.ipynb>data table notebook</a>'\n",
              "            + ' to learn more about interactive tables.';\n",
              "          element.innerHTML = '';\n",
              "          dataTable['output_type'] = 'display_data';\n",
              "          await google.colab.output.renderOutput(dataTable, element);\n",
              "          const docLink = document.createElement('div');\n",
              "          docLink.innerHTML = docLinkHtml;\n",
              "          element.appendChild(docLink);\n",
              "        }\n",
              "      </script>\n",
              "    </div>\n",
              "  </div>\n",
              "  "
            ]
          },
          "metadata": {},
          "execution_count": 149
        }
      ]
    },
    {
      "cell_type": "markdown",
      "source": [
        "# Compare Results"
      ],
      "metadata": {
        "id": "Hso89hVSFNeY"
      },
      "id": "Hso89hVSFNeY"
    },
    {
      "cell_type": "code",
      "source": [
        "summary_df[['Dataset','Algorithm','Precision@k']].sort_values(by=['Dataset','Precision@k'],ascending=False)"
      ],
      "metadata": {
        "id": "8v5r208cAvyr",
        "colab": {
          "base_uri": "https://localhost:8080/"
        },
        "outputId": "7aafbd42-cce1-4abe-ec8e-1a93f5d523f1"
      },
      "id": "8v5r208cAvyr",
      "execution_count": null,
      "outputs": [
        {
          "output_type": "execute_result",
          "data": {
            "text/plain": [
              "  Dataset              Algorithm  Precision@k\n",
              "2  twitch                    BPR     0.174270\n",
              "3  twitch                    NCF     0.161538\n",
              "1  twitch                    RBM     0.077788\n",
              "0  Twitch  Factorization Machine     0.079091"
            ],
            "text/html": [
              "\n",
              "  <div id=\"df-8f3f6009-495f-4764-a857-6edf802e85d1\">\n",
              "    <div class=\"colab-df-container\">\n",
              "      <div>\n",
              "<style scoped>\n",
              "    .dataframe tbody tr th:only-of-type {\n",
              "        vertical-align: middle;\n",
              "    }\n",
              "\n",
              "    .dataframe tbody tr th {\n",
              "        vertical-align: top;\n",
              "    }\n",
              "\n",
              "    .dataframe thead th {\n",
              "        text-align: right;\n",
              "    }\n",
              "</style>\n",
              "<table border=\"1\" class=\"dataframe\">\n",
              "  <thead>\n",
              "    <tr style=\"text-align: right;\">\n",
              "      <th></th>\n",
              "      <th>Dataset</th>\n",
              "      <th>Algorithm</th>\n",
              "      <th>Precision@k</th>\n",
              "    </tr>\n",
              "  </thead>\n",
              "  <tbody>\n",
              "    <tr>\n",
              "      <th>2</th>\n",
              "      <td>twitch</td>\n",
              "      <td>BPR</td>\n",
              "      <td>0.174270</td>\n",
              "    </tr>\n",
              "    <tr>\n",
              "      <th>3</th>\n",
              "      <td>twitch</td>\n",
              "      <td>NCF</td>\n",
              "      <td>0.161538</td>\n",
              "    </tr>\n",
              "    <tr>\n",
              "      <th>1</th>\n",
              "      <td>twitch</td>\n",
              "      <td>RBM</td>\n",
              "      <td>0.077788</td>\n",
              "    </tr>\n",
              "    <tr>\n",
              "      <th>0</th>\n",
              "      <td>Twitch</td>\n",
              "      <td>Factorization Machine</td>\n",
              "      <td>0.079091</td>\n",
              "    </tr>\n",
              "  </tbody>\n",
              "</table>\n",
              "</div>\n",
              "      <button class=\"colab-df-convert\" onclick=\"convertToInteractive('df-8f3f6009-495f-4764-a857-6edf802e85d1')\"\n",
              "              title=\"Convert this dataframe to an interactive table.\"\n",
              "              style=\"display:none;\">\n",
              "        \n",
              "  <svg xmlns=\"http://www.w3.org/2000/svg\" height=\"24px\"viewBox=\"0 0 24 24\"\n",
              "       width=\"24px\">\n",
              "    <path d=\"M0 0h24v24H0V0z\" fill=\"none\"/>\n",
              "    <path d=\"M18.56 5.44l.94 2.06.94-2.06 2.06-.94-2.06-.94-.94-2.06-.94 2.06-2.06.94zm-11 1L8.5 8.5l.94-2.06 2.06-.94-2.06-.94L8.5 2.5l-.94 2.06-2.06.94zm10 10l.94 2.06.94-2.06 2.06-.94-2.06-.94-.94-2.06-.94 2.06-2.06.94z\"/><path d=\"M17.41 7.96l-1.37-1.37c-.4-.4-.92-.59-1.43-.59-.52 0-1.04.2-1.43.59L10.3 9.45l-7.72 7.72c-.78.78-.78 2.05 0 2.83L4 21.41c.39.39.9.59 1.41.59.51 0 1.02-.2 1.41-.59l7.78-7.78 2.81-2.81c.8-.78.8-2.07 0-2.86zM5.41 20L4 18.59l7.72-7.72 1.47 1.35L5.41 20z\"/>\n",
              "  </svg>\n",
              "      </button>\n",
              "      \n",
              "  <style>\n",
              "    .colab-df-container {\n",
              "      display:flex;\n",
              "      flex-wrap:wrap;\n",
              "      gap: 12px;\n",
              "    }\n",
              "\n",
              "    .colab-df-convert {\n",
              "      background-color: #E8F0FE;\n",
              "      border: none;\n",
              "      border-radius: 50%;\n",
              "      cursor: pointer;\n",
              "      display: none;\n",
              "      fill: #1967D2;\n",
              "      height: 32px;\n",
              "      padding: 0 0 0 0;\n",
              "      width: 32px;\n",
              "    }\n",
              "\n",
              "    .colab-df-convert:hover {\n",
              "      background-color: #E2EBFA;\n",
              "      box-shadow: 0px 1px 2px rgba(60, 64, 67, 0.3), 0px 1px 3px 1px rgba(60, 64, 67, 0.15);\n",
              "      fill: #174EA6;\n",
              "    }\n",
              "\n",
              "    [theme=dark] .colab-df-convert {\n",
              "      background-color: #3B4455;\n",
              "      fill: #D2E3FC;\n",
              "    }\n",
              "\n",
              "    [theme=dark] .colab-df-convert:hover {\n",
              "      background-color: #434B5C;\n",
              "      box-shadow: 0px 1px 3px 1px rgba(0, 0, 0, 0.15);\n",
              "      filter: drop-shadow(0px 1px 2px rgba(0, 0, 0, 0.3));\n",
              "      fill: #FFFFFF;\n",
              "    }\n",
              "  </style>\n",
              "\n",
              "      <script>\n",
              "        const buttonEl =\n",
              "          document.querySelector('#df-8f3f6009-495f-4764-a857-6edf802e85d1 button.colab-df-convert');\n",
              "        buttonEl.style.display =\n",
              "          google.colab.kernel.accessAllowed ? 'block' : 'none';\n",
              "\n",
              "        async function convertToInteractive(key) {\n",
              "          const element = document.querySelector('#df-8f3f6009-495f-4764-a857-6edf802e85d1');\n",
              "          const dataTable =\n",
              "            await google.colab.kernel.invokeFunction('convertToInteractive',\n",
              "                                                     [key], {});\n",
              "          if (!dataTable) return;\n",
              "\n",
              "          const docLinkHtml = 'Like what you see? Visit the ' +\n",
              "            '<a target=\"_blank\" href=https://colab.research.google.com/notebooks/data_table.ipynb>data table notebook</a>'\n",
              "            + ' to learn more about interactive tables.';\n",
              "          element.innerHTML = '';\n",
              "          dataTable['output_type'] = 'display_data';\n",
              "          await google.colab.output.renderOutput(dataTable, element);\n",
              "          const docLink = document.createElement('div');\n",
              "          docLink.innerHTML = docLinkHtml;\n",
              "          element.appendChild(docLink);\n",
              "        }\n",
              "      </script>\n",
              "    </div>\n",
              "  </div>\n",
              "  "
            ]
          },
          "metadata": {},
          "execution_count": 141
        }
      ]
    },
    {
      "cell_type": "markdown",
      "source": [
        "# NCF"
      ],
      "metadata": {
        "id": "oPaqNcVqUkNI"
      },
      "id": "oPaqNcVqUkNI"
    },
    {
      "cell_type": "code",
      "source": [
        "!pip install tf_slim"
      ],
      "metadata": {
        "colab": {
          "base_uri": "https://localhost:8080/"
        },
        "id": "c2bB4J_PUlVP",
        "outputId": "77cfddd3-9332-473b-ec37-559b96380331"
      },
      "id": "c2bB4J_PUlVP",
      "execution_count": null,
      "outputs": [
        {
          "output_type": "stream",
          "name": "stdout",
          "text": [
            "Looking in indexes: https://pypi.org/simple, https://us-python.pkg.dev/colab-wheels/public/simple/\n",
            "Collecting tf_slim\n",
            "  Downloading tf_slim-1.1.0-py2.py3-none-any.whl (352 kB)\n",
            "\u001b[2K     \u001b[90m━━━━━━━━━━━━━━━━━━━━━━━━━━━━━━━━━━━━━━\u001b[0m \u001b[32m352.1/352.1 KB\u001b[0m \u001b[31m26.3 MB/s\u001b[0m eta \u001b[36m0:00:00\u001b[0m\n",
            "\u001b[?25hRequirement already satisfied: absl-py>=0.2.2 in /usr/local/lib/python3.8/dist-packages (from tf_slim) (1.3.0)\n",
            "Installing collected packages: tf_slim\n",
            "Successfully installed tf_slim-1.1.0\n"
          ]
        }
      ]
    },
    {
      "cell_type": "markdown",
      "source": [
        "### twitch"
      ],
      "metadata": {
        "id": "ekDr_0GwUyee"
      },
      "id": "ekDr_0GwUyee"
    },
    {
      "cell_type": "code",
      "source": [
        "import pandas as pd\n",
        "import tensorflow as tf\n",
        "tf.get_logger().setLevel('ERROR') # only show error messages\n",
        "\n",
        "from recommenders.utils.timer import Timer\n",
        "from recommenders.models.ncf.ncf_singlenode import NCF\n",
        "from recommenders.models.ncf.dataset import Dataset as NCFDataset\n",
        "from recommenders.datasets import movielens\n",
        "from recommenders.utils.notebook_utils import is_jupyter\n",
        "from recommenders.datasets.python_splitters import python_chrono_split\n",
        "from recommenders.evaluation.python_evaluation import (rmse, mae, rsquared, exp_var, map_at_k, ndcg_at_k, precision_at_k, \n",
        "                                                     recall_at_k, get_top_k_items)"
      ],
      "metadata": {
        "id": "vA-6z3XEU0dn"
      },
      "id": "vA-6z3XEU0dn",
      "execution_count": null,
      "outputs": []
    },
    {
      "cell_type": "code",
      "source": [
        "df=twitch_df.copy()\n",
        "train, test = python_stratified_split(df, 0.75)"
      ],
      "metadata": {
        "id": "9V2doArDUxSd"
      },
      "id": "9V2doArDUxSd",
      "execution_count": null,
      "outputs": []
    },
    {
      "cell_type": "code",
      "source": [
        "SEED=0\n",
        "# top k items to recommend\n",
        "TOP_K = 10\n",
        "\n",
        "# Model parameters\n",
        "EPOCHS = 10\n",
        "BATCH_SIZE = 256\n"
      ],
      "metadata": {
        "id": "0tk9suhiVPrv"
      },
      "id": "0tk9suhiVPrv",
      "execution_count": null,
      "outputs": []
    },
    {
      "cell_type": "code",
      "source": [
        "test = test[test[\"userID\"].isin(train[\"userID\"].unique())]\n",
        "test = test[test[\"itemID\"].isin(train[\"itemID\"].unique())]\n",
        "train_file = \"./train.csv\"\n",
        "test_file = \"./test.csv\"\n",
        "train.to_csv(train_file, index=False)\n",
        "test.to_csv(test_file, index=False)\n",
        "data = NCFDataset(train_file=train_file, test_file=test_file, seed=SEED)\n",
        "model = NCF (\n",
        "    n_users=data.n_users, \n",
        "    n_items=data.n_items,\n",
        "    model_type=\"NeuMF\",\n",
        "    n_factors=4,\n",
        "    layer_sizes=[16,8,4],\n",
        "    n_epochs=EPOCHS,\n",
        "    batch_size=BATCH_SIZE,\n",
        "    learning_rate=1e-3,\n",
        "    verbose=10,\n",
        "    seed=SEED\n",
        ")\n",
        "model.fit(data)"
      ],
      "metadata": {
        "colab": {
          "base_uri": "https://localhost:8080/"
        },
        "id": "trAorJ82VUsv",
        "outputId": "26af218d-9a5c-4922-bcd9-a0f80379c5c9"
      },
      "id": "trAorJ82VUsv",
      "execution_count": null,
      "outputs": [
        {
          "output_type": "stream",
          "name": "stderr",
          "text": [
            "100%|██████████| 3354/3354 [00:42<00:00, 79.39it/s]\n",
            "/usr/local/lib/python3.8/dist-packages/tensorflow/python/keras/engine/base_layer_v1.py:1694: UserWarning: `layer.apply` is deprecated and will be removed in a future version. Please use `layer.__call__` method instead.\n",
            "  warnings.warn('`layer.apply` is deprecated and '\n"
          ]
        }
      ]
    },
    {
      "cell_type": "code",
      "source": [
        "with Timer() as test_time:\n",
        "    users, items, preds = [], [], []\n",
        "    item = list(train.itemID.unique())\n",
        "    for user in train.userID.unique():\n",
        "        user = [user] * len(item) \n",
        "        users.extend(user)\n",
        "        items.extend(item)\n",
        "        preds.extend(list(model.predict(user, item, is_list=True)))\n",
        "\n",
        "    all_predictions = pd.DataFrame(data={\"userID\": users, \"itemID\":items, \"prediction\":preds})\n",
        "\n",
        "    merged = pd.merge(train, all_predictions, on=[\"userID\", \"itemID\"], how=\"outer\")\n",
        "    all_predictions = merged[merged.rating.isnull()].drop('rating', axis=1)\n",
        "\n",
        "print(\"Took {} seconds for prediction.\".format(test_time))"
      ],
      "metadata": {
        "colab": {
          "base_uri": "https://localhost:8080/"
        },
        "id": "5E0kPEkeVog-",
        "outputId": "561e45b1-5bb3-46ba-808b-03fe8f7c37fc"
      },
      "id": "5E0kPEkeVog-",
      "execution_count": null,
      "outputs": [
        {
          "output_type": "stream",
          "name": "stdout",
          "text": [
            "Took 6.8728 seconds for prediction.\n"
          ]
        }
      ]
    },
    {
      "cell_type": "code",
      "source": [
        "eval_precision = precision_at_k(test, all_predictions, col_prediction='prediction', k=TOP_K)\n",
        "eval_recall = recall_at_k(test, all_predictions, col_prediction='prediction', k=TOP_K)\n",
        "\n",
        "print(\n",
        "      \"Precision@K:\\t%f\" % eval_precision,\n",
        "      \"Recall@K:\\t%f\" % eval_recall, sep='\\n')"
      ],
      "metadata": {
        "colab": {
          "base_uri": "https://localhost:8080/"
        },
        "id": "LztAE9sgVtP6",
        "outputId": "16ce8432-fb3f-40d6-aaa2-e1b37684835d"
      },
      "id": "LztAE9sgVtP6",
      "execution_count": null,
      "outputs": [
        {
          "output_type": "stream",
          "name": "stdout",
          "text": [
            "Precision@K:\t0.161538\n",
            "Recall@K:\t0.332979\n"
          ]
        }
      ]
    },
    {
      "cell_type": "code",
      "source": [
        "df2 = {'Dataset':\"twitch\",'Algorithm':\"NCF\",'Sparsity':sparsity,'Precision@k':eval_precision,'Recall@k':eval_recall}\n",
        "summary_df = summary_df.append(df2, ignore_index = True)"
      ],
      "metadata": {
        "id": "l47Mgh22VWMB"
      },
      "id": "l47Mgh22VWMB",
      "execution_count": null,
      "outputs": []
    },
    {
      "cell_type": "code",
      "source": [
        "summary_df[['Dataset','Algorithm','Precision@k']].sort_values(by=['Dataset','Precision@k'],ascending=False)"
      ],
      "metadata": {
        "colab": {
          "base_uri": "https://localhost:8080/",
          "height": 174
        },
        "id": "tuoQkQyuTSi4",
        "outputId": "5818b7ac-b4fa-456f-d10c-eed3558f2c32"
      },
      "execution_count": null,
      "outputs": [
        {
          "output_type": "execute_result",
          "data": {
            "text/plain": [
              "  Dataset              Algorithm  Precision@k\n",
              "2  twitch                    BPR     0.174270\n",
              "3  twitch                    NCF     0.161538\n",
              "1  twitch                    RBM     0.077788\n",
              "0  Twitch  Factorization Machine     0.079091"
            ],
            "text/html": [
              "\n",
              "  <div id=\"df-16341e68-6f79-477f-8e98-6f64efaf1b4b\">\n",
              "    <div class=\"colab-df-container\">\n",
              "      <div>\n",
              "<style scoped>\n",
              "    .dataframe tbody tr th:only-of-type {\n",
              "        vertical-align: middle;\n",
              "    }\n",
              "\n",
              "    .dataframe tbody tr th {\n",
              "        vertical-align: top;\n",
              "    }\n",
              "\n",
              "    .dataframe thead th {\n",
              "        text-align: right;\n",
              "    }\n",
              "</style>\n",
              "<table border=\"1\" class=\"dataframe\">\n",
              "  <thead>\n",
              "    <tr style=\"text-align: right;\">\n",
              "      <th></th>\n",
              "      <th>Dataset</th>\n",
              "      <th>Algorithm</th>\n",
              "      <th>Precision@k</th>\n",
              "    </tr>\n",
              "  </thead>\n",
              "  <tbody>\n",
              "    <tr>\n",
              "      <th>2</th>\n",
              "      <td>twitch</td>\n",
              "      <td>BPR</td>\n",
              "      <td>0.174270</td>\n",
              "    </tr>\n",
              "    <tr>\n",
              "      <th>3</th>\n",
              "      <td>twitch</td>\n",
              "      <td>NCF</td>\n",
              "      <td>0.161538</td>\n",
              "    </tr>\n",
              "    <tr>\n",
              "      <th>1</th>\n",
              "      <td>twitch</td>\n",
              "      <td>RBM</td>\n",
              "      <td>0.077788</td>\n",
              "    </tr>\n",
              "    <tr>\n",
              "      <th>0</th>\n",
              "      <td>Twitch</td>\n",
              "      <td>Factorization Machine</td>\n",
              "      <td>0.079091</td>\n",
              "    </tr>\n",
              "  </tbody>\n",
              "</table>\n",
              "</div>\n",
              "      <button class=\"colab-df-convert\" onclick=\"convertToInteractive('df-16341e68-6f79-477f-8e98-6f64efaf1b4b')\"\n",
              "              title=\"Convert this dataframe to an interactive table.\"\n",
              "              style=\"display:none;\">\n",
              "        \n",
              "  <svg xmlns=\"http://www.w3.org/2000/svg\" height=\"24px\"viewBox=\"0 0 24 24\"\n",
              "       width=\"24px\">\n",
              "    <path d=\"M0 0h24v24H0V0z\" fill=\"none\"/>\n",
              "    <path d=\"M18.56 5.44l.94 2.06.94-2.06 2.06-.94-2.06-.94-.94-2.06-.94 2.06-2.06.94zm-11 1L8.5 8.5l.94-2.06 2.06-.94-2.06-.94L8.5 2.5l-.94 2.06-2.06.94zm10 10l.94 2.06.94-2.06 2.06-.94-2.06-.94-.94-2.06-.94 2.06-2.06.94z\"/><path d=\"M17.41 7.96l-1.37-1.37c-.4-.4-.92-.59-1.43-.59-.52 0-1.04.2-1.43.59L10.3 9.45l-7.72 7.72c-.78.78-.78 2.05 0 2.83L4 21.41c.39.39.9.59 1.41.59.51 0 1.02-.2 1.41-.59l7.78-7.78 2.81-2.81c.8-.78.8-2.07 0-2.86zM5.41 20L4 18.59l7.72-7.72 1.47 1.35L5.41 20z\"/>\n",
              "  </svg>\n",
              "      </button>\n",
              "      \n",
              "  <style>\n",
              "    .colab-df-container {\n",
              "      display:flex;\n",
              "      flex-wrap:wrap;\n",
              "      gap: 12px;\n",
              "    }\n",
              "\n",
              "    .colab-df-convert {\n",
              "      background-color: #E8F0FE;\n",
              "      border: none;\n",
              "      border-radius: 50%;\n",
              "      cursor: pointer;\n",
              "      display: none;\n",
              "      fill: #1967D2;\n",
              "      height: 32px;\n",
              "      padding: 0 0 0 0;\n",
              "      width: 32px;\n",
              "    }\n",
              "\n",
              "    .colab-df-convert:hover {\n",
              "      background-color: #E2EBFA;\n",
              "      box-shadow: 0px 1px 2px rgba(60, 64, 67, 0.3), 0px 1px 3px 1px rgba(60, 64, 67, 0.15);\n",
              "      fill: #174EA6;\n",
              "    }\n",
              "\n",
              "    [theme=dark] .colab-df-convert {\n",
              "      background-color: #3B4455;\n",
              "      fill: #D2E3FC;\n",
              "    }\n",
              "\n",
              "    [theme=dark] .colab-df-convert:hover {\n",
              "      background-color: #434B5C;\n",
              "      box-shadow: 0px 1px 3px 1px rgba(0, 0, 0, 0.15);\n",
              "      filter: drop-shadow(0px 1px 2px rgba(0, 0, 0, 0.3));\n",
              "      fill: #FFFFFF;\n",
              "    }\n",
              "  </style>\n",
              "\n",
              "      <script>\n",
              "        const buttonEl =\n",
              "          document.querySelector('#df-16341e68-6f79-477f-8e98-6f64efaf1b4b button.colab-df-convert');\n",
              "        buttonEl.style.display =\n",
              "          google.colab.kernel.accessAllowed ? 'block' : 'none';\n",
              "\n",
              "        async function convertToInteractive(key) {\n",
              "          const element = document.querySelector('#df-16341e68-6f79-477f-8e98-6f64efaf1b4b');\n",
              "          const dataTable =\n",
              "            await google.colab.kernel.invokeFunction('convertToInteractive',\n",
              "                                                     [key], {});\n",
              "          if (!dataTable) return;\n",
              "\n",
              "          const docLinkHtml = 'Like what you see? Visit the ' +\n",
              "            '<a target=\"_blank\" href=https://colab.research.google.com/notebooks/data_table.ipynb>data table notebook</a>'\n",
              "            + ' to learn more about interactive tables.';\n",
              "          element.innerHTML = '';\n",
              "          dataTable['output_type'] = 'display_data';\n",
              "          await google.colab.output.renderOutput(dataTable, element);\n",
              "          const docLink = document.createElement('div');\n",
              "          docLink.innerHTML = docLinkHtml;\n",
              "          element.appendChild(docLink);\n",
              "        }\n",
              "      </script>\n",
              "    </div>\n",
              "  </div>\n",
              "  "
            ]
          },
          "metadata": {},
          "execution_count": 140
        }
      ],
      "id": "tuoQkQyuTSi4"
    },
    {
      "cell_type": "markdown",
      "metadata": {
        "id": "qsASfBUzLb4O"
      },
      "source": [
        "# Matrix factorisation Methods"
      ],
      "id": "qsASfBUzLb4O"
    },
    {
      "cell_type": "markdown",
      "source": [
        "### Code Block"
      ],
      "metadata": {
        "id": "lg_CT5w5EXCc"
      },
      "id": "lg_CT5w5EXCc"
    },
    {
      "cell_type": "code",
      "execution_count": null,
      "metadata": {
        "id": "5H0W7_oE7cT-"
      },
      "outputs": [],
      "source": [
        "from surprise import AlgoBase\n",
        "from surprise import PredictionImpossible\n",
        "import math\n",
        "import numpy as np\n",
        "import heapq\n",
        "from datetime import datetime\n",
        "from surprise import SVD\n",
        "from surprise import SVDpp\n",
        "from surprise import NMF\n",
        "from datetime import datetime\n",
        "from sklearn import preprocessing"
      ],
      "id": "5H0W7_oE7cT-"
    },
    {
      "cell_type": "code",
      "execution_count": null,
      "metadata": {
        "id": "ata7DH7kZqjK"
      },
      "outputs": [],
      "source": [
        "from surprise import accuracy\n",
        "from collections import defaultdict\n",
        "from surprise import Dataset,Reader\n",
        "from surprise.model_selection import cross_validate\n",
        "from surprise.model_selection import train_test_split\n",
        "from surprise.model_selection.split import train_test_split\n",
        "\n",
        "\n",
        "\n",
        "def surprisePreprocessing(rating_df,user_col=\"userID\",item_col=\"itemID\",rating_col=\"rating\"):\n",
        "  reader = Reader(rating_scale=(0, 5))\n",
        "  data = Dataset.load_from_df(rating_df[[user_col, item_col, rating_col]], reader)\n",
        "  trainset, testset = train_test_split(data, test_size=0.2)\n",
        "  fullTrainSet = data.build_full_trainset()\n",
        "  return trainset, testset,fullTrainSet\n",
        "def Get_Top_Predictions_In_Actual_DataSet(predictions, n=20, minimumRating=0):\n",
        "  topN = defaultdict(list)\n",
        "  for uid, mid, actualRating in predictions:\n",
        "      if (actualRating >= minimumRating):\n",
        "          topN[uid].append((mid, actualRating))\n",
        "  for uid, ratings in topN.items():\n",
        "      ratings.sort(key=lambda x: x[1], reverse=True)\n",
        "      topN[uid] = ratings[:n]\n",
        "  return topN\n",
        "def Get_Top_Predictions(predictions, n=10, minimumRating=3.0):\n",
        "    topN = defaultdict(list)\n",
        "    for uid, mid, actualRating, estimatedRating, _ in predictions:\n",
        "        if (estimatedRating >= minimumRating):\n",
        "            topN[uid].append((mid, estimatedRating))\n",
        "    for uid, ratings in topN.items():\n",
        "        ratings.sort(key=lambda x: x[1], reverse=True)\n",
        "        topN[uid] = ratings[:n]\n",
        "    return topN"
      ],
      "id": "ata7DH7kZqjK"
    },
    {
      "cell_type": "code",
      "execution_count": null,
      "metadata": {
        "id": "L0JtLYHdZtO2"
      },
      "outputs": [],
      "source": [
        "def MAE(predictions):\n",
        "    return accuracy.mae(predictions, verbose=False)\n",
        "def RMSE(predictions):\n",
        "    return accuracy.rmse(predictions, verbose=False)"
      ],
      "id": "L0JtLYHdZtO2"
    },
    {
      "cell_type": "code",
      "execution_count": null,
      "metadata": {
        "id": "zwJosykJQka4"
      },
      "outputs": [],
      "source": [
        "\n",
        "class  MatrixFactorization:\n",
        "  def __init__(self, algo):\n",
        "    self.algo = algo\n",
        "  \n",
        "  def start(self,trainset,testset, n=20, verbose=True):\n",
        "        before=datetime.now() \n",
        "        #trainSet, testSet = train_test_split(data, test_size=.25, random_state=1)\n",
        "        self.algo.fit(trainset)\n",
        "        after= datetime.now()\n",
        "        duration = after-before                         \n",
        "        self.duration = round(duration.total_seconds())\n",
        "        print('time taken '+str(duration)+'s')\n",
        "        predictions = self.algo.test(testset)\n",
        "        self.rmse= RMSE(predictions)\n",
        "        self.mae= MAE(predictions)\n",
        "        print(\"Computing RMSE \"+str(self.rmse))\n",
        "        print(\"Computing MAE \"+str(self.mae))\n",
        "        return self.duration,self.rmse,self.mae\n",
        "    \n",
        "   \n",
        "  def getModel(self):\n",
        "        return self.algo\n",
        "        \n",
        "   \n",
        "  def RecommendationMetricsOnwholeTestSet(self,trainset,testset,n=20):\n",
        "       \n",
        "        print(\"Computing recommendations with train and test dataset...\")\n",
        "        # Build predictions for all ratings  in the test set\n",
        "        print(\"Predict ratings...\")\n",
        "        #allPredictions = self.algo.test(testset)\n",
        "        bigTestSet = trainset.build_anti_testset()\n",
        "        allPredictions = self.algo.test(bigTestSet)\n",
        "        self.allPredictions=allPredictions\n",
        "        # Compute top TOP_K recs for each user\n",
        "        print(\"Compute top \"+str(n)+ \" recs per user\")\n",
        "        topNPredicted = Get_Top_Predictions(self.allPredictions, n)\n",
        "        topNPredictedOnActualDataSet = Get_Top_Predictions_In_Actual_DataSet(testset, n=10)\n",
        "        #Calculate hit rate\n",
        "        self.Precision=self.Precision_k(topNPredicted, topNPredictedOnActualDataSet)\n",
        "        self.hit=self.hitrate_k(topNPredicted, topNPredictedOnActualDataSet)\n",
        "        print(\"\\nPrecision@k: \",self.Precision )\n",
        "        print(\"\\nHit Rate@k: \",self.hit )\n",
        "          \n",
        "        return self.Precision,self.hit\n",
        "  def Precision_k(self,topNPredicted, topNPredictedOnActualDataSet):\n",
        "    totalhit_ratio=0;\n",
        "    totalcount=0\n",
        "    for userid in topNPredictedOnActualDataSet:\n",
        "        totalcount+=1\n",
        "        hit=0\n",
        "        total=0\n",
        "        predictions=[]\n",
        "        actual_predictions=[]\n",
        "        for item,_ in topNPredicted[int(userid)]:\n",
        "            predictions.append(item)\n",
        "        for item,_ in topNPredictedOnActualDataSet[int(userid)]:\n",
        "            actual_predictions.append(item)\n",
        "            \n",
        "        for i in predictions:\n",
        "            total+=1\n",
        "            if i in actual_predictions:\n",
        "                hit+=1\n",
        "        if(total!=0):    \n",
        "          totalhit_ratio+=(hit/total)\n",
        "      \n",
        "\n",
        "    self.Precision_k=(totalhit_ratio/totalcount)   \n",
        "    return self.Precision_k\n",
        "  def hitrate_k(self,topNPredicted, topNPredictedOnActualDataSet):\n",
        "    totalhit_ratio=0;\n",
        "    totalcount=0\n",
        "    hit=0\n",
        "    for userid in topNPredictedOnActualDataSet:\n",
        "        totalcount+=1\n",
        "       \n",
        "        predictions=[]\n",
        "        actual_predictions=[]\n",
        "        for item,_ in topNPredicted[int(userid)]:\n",
        "            predictions.append(item)\n",
        "        for item,_ in topNPredictedOnActualDataSet[int(userid)]:\n",
        "            actual_predictions.append(item)\n",
        "            \n",
        "        for i in predictions:\n",
        "            if i in actual_predictions:\n",
        "                hit+=1\n",
        "                break\n",
        "        \n",
        "\n",
        "    self.hitrate_k=(hit/totalcount)   \n",
        "    return self.hitrate_k"
      ],
      "id": "zwJosykJQka4"
    },
    {
      "cell_type": "markdown",
      "metadata": {
        "id": "5Qj5zP9zV4bG"
      },
      "source": [
        "Run all Matrix factorization models on small sub sample"
      ],
      "id": "5Qj5zP9zV4bG"
    },
    {
      "cell_type": "code",
      "execution_count": null,
      "metadata": {
        "id": "a5w4mX-qVHEY"
      },
      "outputs": [],
      "source": [
        "def startMatrixFactorizationontwitch(bestmodel):\n",
        "\n",
        "  ## Run best Model on whole dataset\n",
        "  # final_matrix_fact_algo=None\n",
        "  # bestmodel=runMatrixFactorizationOnSampleDataset()\n",
        "  final_matrix_fact_algo=None\n",
        "  if bestmodel=='SVD':\n",
        "    final_matrix_fact_algo=SVD()\n",
        "  if bestmodel=='SVDPP':\n",
        "    final_matrix_fact_algo=SVDpp()\n",
        "  if bestmodel=='NMF':\n",
        "    final_matrix_fact_algo=NMF()\n",
        "  trainset, testset,fullTrainSet=surprisePreprocessing(twitch_df)\n",
        "  algo_surprise=MatrixFactorization(final_matrix_fact_algo)\n",
        "  MF_duration,MF_rmse,MF_mae=algo_surprise.start(trainset,testset)\n",
        "  MF__Precision_k,mf_hit=algo_surprise.RecommendationMetricsOnwholeTestSet(trainset,testset)\n",
        "\n",
        "  return bestmodel,algo_surprise.algo,MF_rmse,MF_duration,MF__Precision_k,mf_hit"
      ],
      "id": "a5w4mX-qVHEY"
    },
    {
      "cell_type": "code",
      "source": [
        "df=twitch_df.copy()\n",
        "product_ids = list(set(list(df.itemID.unique())))\n",
        "user_ids = list(set(list(df.userID.unique())))\n",
        "dict_products = {}\n",
        "index = 0\n",
        "for ids in sorted(product_ids):\n",
        "    dict_products[ids] = index\n",
        "    index += 1\n",
        "dict_products = {}\n",
        "index = 0\n",
        "for ids in sorted(product_ids):\n",
        "    dict_products[ids] = index\n",
        "    index += 1\n",
        "dict_users = {}\n",
        "index = 0\n",
        "for ids in sorted(user_ids):\n",
        "    dict_users[ids] = index\n",
        "    index += 1\n",
        "df[\"itemID\"] = df[\"itemID\"].map(dict_products)\n",
        "df[\"userID\"] = df[\"userID\"].map(dict_users)\n",
        "\n",
        "amazon_int_df=df.copy()"
      ],
      "metadata": {
        "id": "Tv33MCgTj6b1"
      },
      "id": "Tv33MCgTj6b1",
      "execution_count": null,
      "outputs": []
    },
    {
      "cell_type": "markdown",
      "source": [
        "## Experiment on movielens dataset"
      ],
      "metadata": {
        "id": "A_kvnvOKEiVJ"
      },
      "id": "A_kvnvOKEiVJ"
    },
    {
      "cell_type": "code",
      "source": [
        "bestmodel,algo_mf,MF_rmsemovielens,MF_durationmovielens,MF__Precision_kmovielens,mf_hitmovielens=startMatrixFactorizationontwitch('SVD')\n",
        "\n",
        "  "
      ],
      "metadata": {
        "colab": {
          "base_uri": "https://localhost:8080/"
        },
        "id": "D3a-VYFhCxvK",
        "outputId": "f10abd98-7730-4d36-cb49-408de4bcf517"
      },
      "execution_count": null,
      "outputs": [
        {
          "output_type": "stream",
          "name": "stdout",
          "text": [
            "time taken 0:00:00.618412s\n",
            "Computing RMSE 14.240035304826934\n",
            "Computing MAE 6.571662693682956\n",
            "Computing recommendations with train and test dataset...\n",
            "Predict ratings...\n",
            "Compute top 20 recs per user\n",
            "\n",
            "Precision@k:  0.02304874163746377\n",
            "\n",
            "Hit Rate@k:  0.3510672188595094\n"
          ]
        }
      ],
      "id": "D3a-VYFhCxvK"
    },
    {
      "cell_type": "code",
      "source": [
        "df2 = {'Dataset':\"twitch\",'Algorithm':\"SVD\",'Sparsity':sparsity,'rmse':MF_rmsemovielens,'Precision@k':MF__Precision_kmovielens,'HitRate@k':mf_hitmovielens}\n",
        "summary_df = summary_df.append(df2, ignore_index = True)"
      ],
      "metadata": {
        "id": "Uo5bVS2hCwTK"
      },
      "execution_count": null,
      "outputs": [],
      "id": "Uo5bVS2hCwTK"
    },
    {
      "cell_type": "code",
      "source": [
        "bestmodel,algo_mf,MF_rmsemovielens,MF_durationmovielens,MF__Precision_kmovielens,mf_hitmovielens=startMatrixFactorizationontwitch('NMF')\n",
        "\n",
        "  "
      ],
      "metadata": {
        "colab": {
          "base_uri": "https://localhost:8080/"
        },
        "outputId": "2e430345-5f8b-4019-d9f3-231d3ec5aad0",
        "id": "nDNHyvG4l2CU"
      },
      "execution_count": null,
      "outputs": [
        {
          "output_type": "stream",
          "name": "stdout",
          "text": [
            "time taken 0:00:01.099118s\n",
            "Computing RMSE 13.814858579494057\n",
            "Computing MAE 6.091012644628762\n",
            "Computing recommendations with train and test dataset...\n",
            "Predict ratings...\n",
            "Compute top 20 recs per user\n",
            "\n",
            "Precision@k:  0.016215265903387385\n",
            "\n",
            "Hit Rate@k:  0.2709801409352979\n"
          ]
        }
      ],
      "id": "nDNHyvG4l2CU"
    },
    {
      "cell_type": "code",
      "source": [
        "df2 = {'Dataset':\"twitch\",'Algorithm':\"NMF\",'Sparsity':sparsity,'rmse':MF_rmsemovielens,'Precision@k':MF__Precision_kmovielens,'HitRate@k':mf_hitmovielens}\n",
        "summary_df = summary_df.append(df2, ignore_index = True)"
      ],
      "metadata": {
        "id": "hrSJHEqRl2CU"
      },
      "execution_count": null,
      "outputs": [],
      "id": "hrSJHEqRl2CU"
    },
    {
      "cell_type": "markdown",
      "source": [
        "# Summary"
      ],
      "metadata": {
        "id": "bxPjVbJhh1IF"
      },
      "id": "bxPjVbJhh1IF"
    },
    {
      "cell_type": "code",
      "source": [
        "summary_df[['Dataset','Algorithm','Precision@k']].sort_values(by=['Dataset','Precision@k'],ascending=False)"
      ],
      "metadata": {
        "colab": {
          "base_uri": "https://localhost:8080/",
          "height": 300
        },
        "id": "L5xHWBedh2kN",
        "outputId": "e3d13c43-6374-4765-abb6-d29ed760b892"
      },
      "id": "L5xHWBedh2kN",
      "execution_count": null,
      "outputs": [
        {
          "output_type": "execute_result",
          "data": {
            "text/plain": [
              "  Dataset              Algorithm  Precision@k\n",
              "2  twitch                    BPR     0.174270\n",
              "3  twitch                    NCF     0.161538\n",
              "4  twitch                  BiVAE     0.158388\n",
              "7  twitch               LightGCN     0.149821\n",
              "1  twitch                    RBM     0.077788\n",
              "5  twitch                    SVD     0.023049\n",
              "6  twitch                    NMF     0.016215\n",
              "0  Twitch  Factorization Machine     0.079091"
            ],
            "text/html": [
              "\n",
              "  <div id=\"df-54535873-e07d-4114-892f-90218df5a7f1\">\n",
              "    <div class=\"colab-df-container\">\n",
              "      <div>\n",
              "<style scoped>\n",
              "    .dataframe tbody tr th:only-of-type {\n",
              "        vertical-align: middle;\n",
              "    }\n",
              "\n",
              "    .dataframe tbody tr th {\n",
              "        vertical-align: top;\n",
              "    }\n",
              "\n",
              "    .dataframe thead th {\n",
              "        text-align: right;\n",
              "    }\n",
              "</style>\n",
              "<table border=\"1\" class=\"dataframe\">\n",
              "  <thead>\n",
              "    <tr style=\"text-align: right;\">\n",
              "      <th></th>\n",
              "      <th>Dataset</th>\n",
              "      <th>Algorithm</th>\n",
              "      <th>Precision@k</th>\n",
              "    </tr>\n",
              "  </thead>\n",
              "  <tbody>\n",
              "    <tr>\n",
              "      <th>2</th>\n",
              "      <td>twitch</td>\n",
              "      <td>BPR</td>\n",
              "      <td>0.174270</td>\n",
              "    </tr>\n",
              "    <tr>\n",
              "      <th>3</th>\n",
              "      <td>twitch</td>\n",
              "      <td>NCF</td>\n",
              "      <td>0.161538</td>\n",
              "    </tr>\n",
              "    <tr>\n",
              "      <th>4</th>\n",
              "      <td>twitch</td>\n",
              "      <td>BiVAE</td>\n",
              "      <td>0.158388</td>\n",
              "    </tr>\n",
              "    <tr>\n",
              "      <th>7</th>\n",
              "      <td>twitch</td>\n",
              "      <td>LightGCN</td>\n",
              "      <td>0.149821</td>\n",
              "    </tr>\n",
              "    <tr>\n",
              "      <th>1</th>\n",
              "      <td>twitch</td>\n",
              "      <td>RBM</td>\n",
              "      <td>0.077788</td>\n",
              "    </tr>\n",
              "    <tr>\n",
              "      <th>5</th>\n",
              "      <td>twitch</td>\n",
              "      <td>SVD</td>\n",
              "      <td>0.023049</td>\n",
              "    </tr>\n",
              "    <tr>\n",
              "      <th>6</th>\n",
              "      <td>twitch</td>\n",
              "      <td>NMF</td>\n",
              "      <td>0.016215</td>\n",
              "    </tr>\n",
              "    <tr>\n",
              "      <th>0</th>\n",
              "      <td>Twitch</td>\n",
              "      <td>Factorization Machine</td>\n",
              "      <td>0.079091</td>\n",
              "    </tr>\n",
              "  </tbody>\n",
              "</table>\n",
              "</div>\n",
              "      <button class=\"colab-df-convert\" onclick=\"convertToInteractive('df-54535873-e07d-4114-892f-90218df5a7f1')\"\n",
              "              title=\"Convert this dataframe to an interactive table.\"\n",
              "              style=\"display:none;\">\n",
              "        \n",
              "  <svg xmlns=\"http://www.w3.org/2000/svg\" height=\"24px\"viewBox=\"0 0 24 24\"\n",
              "       width=\"24px\">\n",
              "    <path d=\"M0 0h24v24H0V0z\" fill=\"none\"/>\n",
              "    <path d=\"M18.56 5.44l.94 2.06.94-2.06 2.06-.94-2.06-.94-.94-2.06-.94 2.06-2.06.94zm-11 1L8.5 8.5l.94-2.06 2.06-.94-2.06-.94L8.5 2.5l-.94 2.06-2.06.94zm10 10l.94 2.06.94-2.06 2.06-.94-2.06-.94-.94-2.06-.94 2.06-2.06.94z\"/><path d=\"M17.41 7.96l-1.37-1.37c-.4-.4-.92-.59-1.43-.59-.52 0-1.04.2-1.43.59L10.3 9.45l-7.72 7.72c-.78.78-.78 2.05 0 2.83L4 21.41c.39.39.9.59 1.41.59.51 0 1.02-.2 1.41-.59l7.78-7.78 2.81-2.81c.8-.78.8-2.07 0-2.86zM5.41 20L4 18.59l7.72-7.72 1.47 1.35L5.41 20z\"/>\n",
              "  </svg>\n",
              "      </button>\n",
              "      \n",
              "  <style>\n",
              "    .colab-df-container {\n",
              "      display:flex;\n",
              "      flex-wrap:wrap;\n",
              "      gap: 12px;\n",
              "    }\n",
              "\n",
              "    .colab-df-convert {\n",
              "      background-color: #E8F0FE;\n",
              "      border: none;\n",
              "      border-radius: 50%;\n",
              "      cursor: pointer;\n",
              "      display: none;\n",
              "      fill: #1967D2;\n",
              "      height: 32px;\n",
              "      padding: 0 0 0 0;\n",
              "      width: 32px;\n",
              "    }\n",
              "\n",
              "    .colab-df-convert:hover {\n",
              "      background-color: #E2EBFA;\n",
              "      box-shadow: 0px 1px 2px rgba(60, 64, 67, 0.3), 0px 1px 3px 1px rgba(60, 64, 67, 0.15);\n",
              "      fill: #174EA6;\n",
              "    }\n",
              "\n",
              "    [theme=dark] .colab-df-convert {\n",
              "      background-color: #3B4455;\n",
              "      fill: #D2E3FC;\n",
              "    }\n",
              "\n",
              "    [theme=dark] .colab-df-convert:hover {\n",
              "      background-color: #434B5C;\n",
              "      box-shadow: 0px 1px 3px 1px rgba(0, 0, 0, 0.15);\n",
              "      filter: drop-shadow(0px 1px 2px rgba(0, 0, 0, 0.3));\n",
              "      fill: #FFFFFF;\n",
              "    }\n",
              "  </style>\n",
              "\n",
              "      <script>\n",
              "        const buttonEl =\n",
              "          document.querySelector('#df-54535873-e07d-4114-892f-90218df5a7f1 button.colab-df-convert');\n",
              "        buttonEl.style.display =\n",
              "          google.colab.kernel.accessAllowed ? 'block' : 'none';\n",
              "\n",
              "        async function convertToInteractive(key) {\n",
              "          const element = document.querySelector('#df-54535873-e07d-4114-892f-90218df5a7f1');\n",
              "          const dataTable =\n",
              "            await google.colab.kernel.invokeFunction('convertToInteractive',\n",
              "                                                     [key], {});\n",
              "          if (!dataTable) return;\n",
              "\n",
              "          const docLinkHtml = 'Like what you see? Visit the ' +\n",
              "            '<a target=\"_blank\" href=https://colab.research.google.com/notebooks/data_table.ipynb>data table notebook</a>'\n",
              "            + ' to learn more about interactive tables.';\n",
              "          element.innerHTML = '';\n",
              "          dataTable['output_type'] = 'display_data';\n",
              "          await google.colab.output.renderOutput(dataTable, element);\n",
              "          const docLink = document.createElement('div');\n",
              "          docLink.innerHTML = docLinkHtml;\n",
              "          element.appendChild(docLink);\n",
              "        }\n",
              "      </script>\n",
              "    </div>\n",
              "  </div>\n",
              "  "
            ]
          },
          "metadata": {},
          "execution_count": 166
        }
      ]
    }
  ],
  "metadata": {
    "kernelspec": {
      "display_name": "Python 3",
      "language": "python",
      "name": "python3"
    },
    "language_info": {
      "codemirror_mode": {
        "name": "ipython",
        "version": 3
      },
      "file_extension": ".py",
      "mimetype": "text/x-python",
      "name": "python",
      "nbconvert_exporter": "python",
      "pygments_lexer": "ipython3",
      "version": "3.6.5"
    },
    "colab": {
      "provenance": [],
      "machine_shape": "hm",
      "collapsed_sections": [
        "uGRD8a9sKacB",
        "3enVbN86POhO",
        "ry8ttqPqPHUI"
      ]
    },
    "gpuClass": "standard",
    "accelerator": "GPU",
    "widgets": {
      "application/vnd.jupyter.widget-state+json": {
        "e101c49daba44184906a6fba554b22eb": {
          "model_module": "@jupyter-widgets/controls",
          "model_name": "HBoxModel",
          "model_module_version": "1.5.0",
          "state": {
            "_dom_classes": [],
            "_model_module": "@jupyter-widgets/controls",
            "_model_module_version": "1.5.0",
            "_model_name": "HBoxModel",
            "_view_count": null,
            "_view_module": "@jupyter-widgets/controls",
            "_view_module_version": "1.5.0",
            "_view_name": "HBoxView",
            "box_style": "",
            "children": [
              "IPY_MODEL_bbb1c0f4f71946ce93583f93b9691b25",
              "IPY_MODEL_5533d2a447944f469b5efb2aeb938548",
              "IPY_MODEL_6cf74d27b9ac4a96ab4bcbd870ba198d"
            ],
            "layout": "IPY_MODEL_b8562e7d5643434c8a56bc26db55ff00"
          }
        },
        "bbb1c0f4f71946ce93583f93b9691b25": {
          "model_module": "@jupyter-widgets/controls",
          "model_name": "HTMLModel",
          "model_module_version": "1.5.0",
          "state": {
            "_dom_classes": [],
            "_model_module": "@jupyter-widgets/controls",
            "_model_module_version": "1.5.0",
            "_model_name": "HTMLModel",
            "_view_count": null,
            "_view_module": "@jupyter-widgets/controls",
            "_view_module_version": "1.5.0",
            "_view_name": "HTMLView",
            "description": "",
            "description_tooltip": null,
            "layout": "IPY_MODEL_0c0a4aadc042494e9850e09b86fb05bc",
            "placeholder": "​",
            "style": "IPY_MODEL_cf8de9480baf4128a335f7c5f5777c6e",
            "value": "100%"
          }
        },
        "5533d2a447944f469b5efb2aeb938548": {
          "model_module": "@jupyter-widgets/controls",
          "model_name": "FloatProgressModel",
          "model_module_version": "1.5.0",
          "state": {
            "_dom_classes": [],
            "_model_module": "@jupyter-widgets/controls",
            "_model_module_version": "1.5.0",
            "_model_name": "FloatProgressModel",
            "_view_count": null,
            "_view_module": "@jupyter-widgets/controls",
            "_view_module_version": "1.5.0",
            "_view_name": "ProgressView",
            "bar_style": "success",
            "description": "",
            "description_tooltip": null,
            "layout": "IPY_MODEL_a49d81911a79413fbeaf622f7b5f3d4e",
            "max": 100,
            "min": 0,
            "orientation": "horizontal",
            "style": "IPY_MODEL_ea3c8cdb972d495981ea44b9ffa72e70",
            "value": 100
          }
        },
        "6cf74d27b9ac4a96ab4bcbd870ba198d": {
          "model_module": "@jupyter-widgets/controls",
          "model_name": "HTMLModel",
          "model_module_version": "1.5.0",
          "state": {
            "_dom_classes": [],
            "_model_module": "@jupyter-widgets/controls",
            "_model_module_version": "1.5.0",
            "_model_name": "HTMLModel",
            "_view_count": null,
            "_view_module": "@jupyter-widgets/controls",
            "_view_module_version": "1.5.0",
            "_view_name": "HTMLView",
            "description": "",
            "description_tooltip": null,
            "layout": "IPY_MODEL_b2c517ee9d3b4d9ca8a9829140803cc9",
            "placeholder": "​",
            "style": "IPY_MODEL_4c4d159c736d404dbc535cf2a1eef2a2",
            "value": " 100/100 [00:01&lt;00:00, 50.80it/s, correct=94.27%, skipped=3.65%]"
          }
        },
        "b8562e7d5643434c8a56bc26db55ff00": {
          "model_module": "@jupyter-widgets/base",
          "model_name": "LayoutModel",
          "model_module_version": "1.2.0",
          "state": {
            "_model_module": "@jupyter-widgets/base",
            "_model_module_version": "1.2.0",
            "_model_name": "LayoutModel",
            "_view_count": null,
            "_view_module": "@jupyter-widgets/base",
            "_view_module_version": "1.2.0",
            "_view_name": "LayoutView",
            "align_content": null,
            "align_items": null,
            "align_self": null,
            "border": null,
            "bottom": null,
            "display": null,
            "flex": null,
            "flex_flow": null,
            "grid_area": null,
            "grid_auto_columns": null,
            "grid_auto_flow": null,
            "grid_auto_rows": null,
            "grid_column": null,
            "grid_gap": null,
            "grid_row": null,
            "grid_template_areas": null,
            "grid_template_columns": null,
            "grid_template_rows": null,
            "height": null,
            "justify_content": null,
            "justify_items": null,
            "left": null,
            "margin": null,
            "max_height": null,
            "max_width": null,
            "min_height": null,
            "min_width": null,
            "object_fit": null,
            "object_position": null,
            "order": null,
            "overflow": null,
            "overflow_x": null,
            "overflow_y": null,
            "padding": null,
            "right": null,
            "top": null,
            "visibility": null,
            "width": null
          }
        },
        "0c0a4aadc042494e9850e09b86fb05bc": {
          "model_module": "@jupyter-widgets/base",
          "model_name": "LayoutModel",
          "model_module_version": "1.2.0",
          "state": {
            "_model_module": "@jupyter-widgets/base",
            "_model_module_version": "1.2.0",
            "_model_name": "LayoutModel",
            "_view_count": null,
            "_view_module": "@jupyter-widgets/base",
            "_view_module_version": "1.2.0",
            "_view_name": "LayoutView",
            "align_content": null,
            "align_items": null,
            "align_self": null,
            "border": null,
            "bottom": null,
            "display": null,
            "flex": null,
            "flex_flow": null,
            "grid_area": null,
            "grid_auto_columns": null,
            "grid_auto_flow": null,
            "grid_auto_rows": null,
            "grid_column": null,
            "grid_gap": null,
            "grid_row": null,
            "grid_template_areas": null,
            "grid_template_columns": null,
            "grid_template_rows": null,
            "height": null,
            "justify_content": null,
            "justify_items": null,
            "left": null,
            "margin": null,
            "max_height": null,
            "max_width": null,
            "min_height": null,
            "min_width": null,
            "object_fit": null,
            "object_position": null,
            "order": null,
            "overflow": null,
            "overflow_x": null,
            "overflow_y": null,
            "padding": null,
            "right": null,
            "top": null,
            "visibility": null,
            "width": null
          }
        },
        "cf8de9480baf4128a335f7c5f5777c6e": {
          "model_module": "@jupyter-widgets/controls",
          "model_name": "DescriptionStyleModel",
          "model_module_version": "1.5.0",
          "state": {
            "_model_module": "@jupyter-widgets/controls",
            "_model_module_version": "1.5.0",
            "_model_name": "DescriptionStyleModel",
            "_view_count": null,
            "_view_module": "@jupyter-widgets/base",
            "_view_module_version": "1.2.0",
            "_view_name": "StyleView",
            "description_width": ""
          }
        },
        "a49d81911a79413fbeaf622f7b5f3d4e": {
          "model_module": "@jupyter-widgets/base",
          "model_name": "LayoutModel",
          "model_module_version": "1.2.0",
          "state": {
            "_model_module": "@jupyter-widgets/base",
            "_model_module_version": "1.2.0",
            "_model_name": "LayoutModel",
            "_view_count": null,
            "_view_module": "@jupyter-widgets/base",
            "_view_module_version": "1.2.0",
            "_view_name": "LayoutView",
            "align_content": null,
            "align_items": null,
            "align_self": null,
            "border": null,
            "bottom": null,
            "display": null,
            "flex": null,
            "flex_flow": null,
            "grid_area": null,
            "grid_auto_columns": null,
            "grid_auto_flow": null,
            "grid_auto_rows": null,
            "grid_column": null,
            "grid_gap": null,
            "grid_row": null,
            "grid_template_areas": null,
            "grid_template_columns": null,
            "grid_template_rows": null,
            "height": null,
            "justify_content": null,
            "justify_items": null,
            "left": null,
            "margin": null,
            "max_height": null,
            "max_width": null,
            "min_height": null,
            "min_width": null,
            "object_fit": null,
            "object_position": null,
            "order": null,
            "overflow": null,
            "overflow_x": null,
            "overflow_y": null,
            "padding": null,
            "right": null,
            "top": null,
            "visibility": null,
            "width": null
          }
        },
        "ea3c8cdb972d495981ea44b9ffa72e70": {
          "model_module": "@jupyter-widgets/controls",
          "model_name": "ProgressStyleModel",
          "model_module_version": "1.5.0",
          "state": {
            "_model_module": "@jupyter-widgets/controls",
            "_model_module_version": "1.5.0",
            "_model_name": "ProgressStyleModel",
            "_view_count": null,
            "_view_module": "@jupyter-widgets/base",
            "_view_module_version": "1.2.0",
            "_view_name": "StyleView",
            "bar_color": null,
            "description_width": ""
          }
        },
        "b2c517ee9d3b4d9ca8a9829140803cc9": {
          "model_module": "@jupyter-widgets/base",
          "model_name": "LayoutModel",
          "model_module_version": "1.2.0",
          "state": {
            "_model_module": "@jupyter-widgets/base",
            "_model_module_version": "1.2.0",
            "_model_name": "LayoutModel",
            "_view_count": null,
            "_view_module": "@jupyter-widgets/base",
            "_view_module_version": "1.2.0",
            "_view_name": "LayoutView",
            "align_content": null,
            "align_items": null,
            "align_self": null,
            "border": null,
            "bottom": null,
            "display": null,
            "flex": null,
            "flex_flow": null,
            "grid_area": null,
            "grid_auto_columns": null,
            "grid_auto_flow": null,
            "grid_auto_rows": null,
            "grid_column": null,
            "grid_gap": null,
            "grid_row": null,
            "grid_template_areas": null,
            "grid_template_columns": null,
            "grid_template_rows": null,
            "height": null,
            "justify_content": null,
            "justify_items": null,
            "left": null,
            "margin": null,
            "max_height": null,
            "max_width": null,
            "min_height": null,
            "min_width": null,
            "object_fit": null,
            "object_position": null,
            "order": null,
            "overflow": null,
            "overflow_x": null,
            "overflow_y": null,
            "padding": null,
            "right": null,
            "top": null,
            "visibility": null,
            "width": null
          }
        },
        "4c4d159c736d404dbc535cf2a1eef2a2": {
          "model_module": "@jupyter-widgets/controls",
          "model_name": "DescriptionStyleModel",
          "model_module_version": "1.5.0",
          "state": {
            "_model_module": "@jupyter-widgets/controls",
            "_model_module_version": "1.5.0",
            "_model_name": "DescriptionStyleModel",
            "_view_count": null,
            "_view_module": "@jupyter-widgets/base",
            "_view_module_version": "1.2.0",
            "_view_name": "StyleView",
            "description_width": ""
          }
        },
        "3031d02d5f0a479e94cb288b7769031b": {
          "model_module": "@jupyter-widgets/controls",
          "model_name": "HBoxModel",
          "model_module_version": "1.5.0",
          "state": {
            "_dom_classes": [],
            "_model_module": "@jupyter-widgets/controls",
            "_model_module_version": "1.5.0",
            "_model_name": "HBoxModel",
            "_view_count": null,
            "_view_module": "@jupyter-widgets/controls",
            "_view_module_version": "1.5.0",
            "_view_name": "HBoxView",
            "box_style": "",
            "children": [
              "IPY_MODEL_73edfaadfef44fb1bf7596274c517850",
              "IPY_MODEL_d766ce262e3b48848ce99242bcfe3bdc",
              "IPY_MODEL_e82f0015755c4a59adadd8edc23b9796"
            ],
            "layout": "IPY_MODEL_c5ce58be3bb1445c9976ee9e9347c81b"
          }
        },
        "73edfaadfef44fb1bf7596274c517850": {
          "model_module": "@jupyter-widgets/controls",
          "model_name": "HTMLModel",
          "model_module_version": "1.5.0",
          "state": {
            "_dom_classes": [],
            "_model_module": "@jupyter-widgets/controls",
            "_model_module_version": "1.5.0",
            "_model_name": "HTMLModel",
            "_view_count": null,
            "_view_module": "@jupyter-widgets/controls",
            "_view_module_version": "1.5.0",
            "_view_name": "HTMLView",
            "description": "",
            "description_tooltip": null,
            "layout": "IPY_MODEL_669c1a8423f04427b00e32b66ba55514",
            "placeholder": "​",
            "style": "IPY_MODEL_3ee334cc84de4f8ba6d54d4553017678",
            "value": "100%"
          }
        },
        "d766ce262e3b48848ce99242bcfe3bdc": {
          "model_module": "@jupyter-widgets/controls",
          "model_name": "FloatProgressModel",
          "model_module_version": "1.5.0",
          "state": {
            "_dom_classes": [],
            "_model_module": "@jupyter-widgets/controls",
            "_model_module_version": "1.5.0",
            "_model_name": "FloatProgressModel",
            "_view_count": null,
            "_view_module": "@jupyter-widgets/controls",
            "_view_module_version": "1.5.0",
            "_view_name": "ProgressView",
            "bar_style": "success",
            "description": "",
            "description_tooltip": null,
            "layout": "IPY_MODEL_fea29758e801491fb7157d4d730ac636",
            "max": 50,
            "min": 0,
            "orientation": "horizontal",
            "style": "IPY_MODEL_c24786ce9c4e45e987b50f7d3e44ac7b",
            "value": 50
          }
        },
        "e82f0015755c4a59adadd8edc23b9796": {
          "model_module": "@jupyter-widgets/controls",
          "model_name": "HTMLModel",
          "model_module_version": "1.5.0",
          "state": {
            "_dom_classes": [],
            "_model_module": "@jupyter-widgets/controls",
            "_model_module_version": "1.5.0",
            "_model_name": "HTMLModel",
            "_view_count": null,
            "_view_module": "@jupyter-widgets/controls",
            "_view_module_version": "1.5.0",
            "_view_name": "HTMLView",
            "description": "",
            "description_tooltip": null,
            "layout": "IPY_MODEL_c8e2671fc65a48298066488807e58634",
            "placeholder": "​",
            "style": "IPY_MODEL_fe50b01f8d774e81b98021e56b58b4a1",
            "value": " 50/50 [00:03&lt;00:00, 15.95it/s, loss_i=1.4, loss_u=0.132]"
          }
        },
        "c5ce58be3bb1445c9976ee9e9347c81b": {
          "model_module": "@jupyter-widgets/base",
          "model_name": "LayoutModel",
          "model_module_version": "1.2.0",
          "state": {
            "_model_module": "@jupyter-widgets/base",
            "_model_module_version": "1.2.0",
            "_model_name": "LayoutModel",
            "_view_count": null,
            "_view_module": "@jupyter-widgets/base",
            "_view_module_version": "1.2.0",
            "_view_name": "LayoutView",
            "align_content": null,
            "align_items": null,
            "align_self": null,
            "border": null,
            "bottom": null,
            "display": null,
            "flex": null,
            "flex_flow": null,
            "grid_area": null,
            "grid_auto_columns": null,
            "grid_auto_flow": null,
            "grid_auto_rows": null,
            "grid_column": null,
            "grid_gap": null,
            "grid_row": null,
            "grid_template_areas": null,
            "grid_template_columns": null,
            "grid_template_rows": null,
            "height": null,
            "justify_content": null,
            "justify_items": null,
            "left": null,
            "margin": null,
            "max_height": null,
            "max_width": null,
            "min_height": null,
            "min_width": null,
            "object_fit": null,
            "object_position": null,
            "order": null,
            "overflow": null,
            "overflow_x": null,
            "overflow_y": null,
            "padding": null,
            "right": null,
            "top": null,
            "visibility": null,
            "width": null
          }
        },
        "669c1a8423f04427b00e32b66ba55514": {
          "model_module": "@jupyter-widgets/base",
          "model_name": "LayoutModel",
          "model_module_version": "1.2.0",
          "state": {
            "_model_module": "@jupyter-widgets/base",
            "_model_module_version": "1.2.0",
            "_model_name": "LayoutModel",
            "_view_count": null,
            "_view_module": "@jupyter-widgets/base",
            "_view_module_version": "1.2.0",
            "_view_name": "LayoutView",
            "align_content": null,
            "align_items": null,
            "align_self": null,
            "border": null,
            "bottom": null,
            "display": null,
            "flex": null,
            "flex_flow": null,
            "grid_area": null,
            "grid_auto_columns": null,
            "grid_auto_flow": null,
            "grid_auto_rows": null,
            "grid_column": null,
            "grid_gap": null,
            "grid_row": null,
            "grid_template_areas": null,
            "grid_template_columns": null,
            "grid_template_rows": null,
            "height": null,
            "justify_content": null,
            "justify_items": null,
            "left": null,
            "margin": null,
            "max_height": null,
            "max_width": null,
            "min_height": null,
            "min_width": null,
            "object_fit": null,
            "object_position": null,
            "order": null,
            "overflow": null,
            "overflow_x": null,
            "overflow_y": null,
            "padding": null,
            "right": null,
            "top": null,
            "visibility": null,
            "width": null
          }
        },
        "3ee334cc84de4f8ba6d54d4553017678": {
          "model_module": "@jupyter-widgets/controls",
          "model_name": "DescriptionStyleModel",
          "model_module_version": "1.5.0",
          "state": {
            "_model_module": "@jupyter-widgets/controls",
            "_model_module_version": "1.5.0",
            "_model_name": "DescriptionStyleModel",
            "_view_count": null,
            "_view_module": "@jupyter-widgets/base",
            "_view_module_version": "1.2.0",
            "_view_name": "StyleView",
            "description_width": ""
          }
        },
        "fea29758e801491fb7157d4d730ac636": {
          "model_module": "@jupyter-widgets/base",
          "model_name": "LayoutModel",
          "model_module_version": "1.2.0",
          "state": {
            "_model_module": "@jupyter-widgets/base",
            "_model_module_version": "1.2.0",
            "_model_name": "LayoutModel",
            "_view_count": null,
            "_view_module": "@jupyter-widgets/base",
            "_view_module_version": "1.2.0",
            "_view_name": "LayoutView",
            "align_content": null,
            "align_items": null,
            "align_self": null,
            "border": null,
            "bottom": null,
            "display": null,
            "flex": null,
            "flex_flow": null,
            "grid_area": null,
            "grid_auto_columns": null,
            "grid_auto_flow": null,
            "grid_auto_rows": null,
            "grid_column": null,
            "grid_gap": null,
            "grid_row": null,
            "grid_template_areas": null,
            "grid_template_columns": null,
            "grid_template_rows": null,
            "height": null,
            "justify_content": null,
            "justify_items": null,
            "left": null,
            "margin": null,
            "max_height": null,
            "max_width": null,
            "min_height": null,
            "min_width": null,
            "object_fit": null,
            "object_position": null,
            "order": null,
            "overflow": null,
            "overflow_x": null,
            "overflow_y": null,
            "padding": null,
            "right": null,
            "top": null,
            "visibility": null,
            "width": null
          }
        },
        "c24786ce9c4e45e987b50f7d3e44ac7b": {
          "model_module": "@jupyter-widgets/controls",
          "model_name": "ProgressStyleModel",
          "model_module_version": "1.5.0",
          "state": {
            "_model_module": "@jupyter-widgets/controls",
            "_model_module_version": "1.5.0",
            "_model_name": "ProgressStyleModel",
            "_view_count": null,
            "_view_module": "@jupyter-widgets/base",
            "_view_module_version": "1.2.0",
            "_view_name": "StyleView",
            "bar_color": null,
            "description_width": ""
          }
        },
        "c8e2671fc65a48298066488807e58634": {
          "model_module": "@jupyter-widgets/base",
          "model_name": "LayoutModel",
          "model_module_version": "1.2.0",
          "state": {
            "_model_module": "@jupyter-widgets/base",
            "_model_module_version": "1.2.0",
            "_model_name": "LayoutModel",
            "_view_count": null,
            "_view_module": "@jupyter-widgets/base",
            "_view_module_version": "1.2.0",
            "_view_name": "LayoutView",
            "align_content": null,
            "align_items": null,
            "align_self": null,
            "border": null,
            "bottom": null,
            "display": null,
            "flex": null,
            "flex_flow": null,
            "grid_area": null,
            "grid_auto_columns": null,
            "grid_auto_flow": null,
            "grid_auto_rows": null,
            "grid_column": null,
            "grid_gap": null,
            "grid_row": null,
            "grid_template_areas": null,
            "grid_template_columns": null,
            "grid_template_rows": null,
            "height": null,
            "justify_content": null,
            "justify_items": null,
            "left": null,
            "margin": null,
            "max_height": null,
            "max_width": null,
            "min_height": null,
            "min_width": null,
            "object_fit": null,
            "object_position": null,
            "order": null,
            "overflow": null,
            "overflow_x": null,
            "overflow_y": null,
            "padding": null,
            "right": null,
            "top": null,
            "visibility": null,
            "width": null
          }
        },
        "fe50b01f8d774e81b98021e56b58b4a1": {
          "model_module": "@jupyter-widgets/controls",
          "model_name": "DescriptionStyleModel",
          "model_module_version": "1.5.0",
          "state": {
            "_model_module": "@jupyter-widgets/controls",
            "_model_module_version": "1.5.0",
            "_model_name": "DescriptionStyleModel",
            "_view_count": null,
            "_view_module": "@jupyter-widgets/base",
            "_view_module_version": "1.2.0",
            "_view_name": "StyleView",
            "description_width": ""
          }
        }
      }
    }
  },
  "nbformat": 4,
  "nbformat_minor": 5
}