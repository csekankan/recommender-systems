{
  "cells": [
    {
      "cell_type": "code",
      "execution_count": null,
      "metadata": {
        "id": "5b97d650"
      },
      "outputs": [],
      "source": [
        "import warnings\n",
        "warnings.filterwarnings(\"ignore\")"
      ],
      "id": "5b97d650"
    },
    {
      "cell_type": "code",
      "execution_count": null,
      "metadata": {
        "id": "519937e0"
      },
      "outputs": [],
      "source": [
        "from datetime import datetime\n",
        "import os\n",
        "import matplotlib\n",
        "import pandas as pd\n",
        "import numpy as np\n",
        "import matplotlib.pyplot as plt\n",
        "import seaborn as sns\n",
        "sns.set_style('whitegrid')\n",
        "\n",
        "from scipy import sparse\n",
        "from scipy.sparse import csc_matrix\n",
        "from sklearn.decomposition import TruncatedSVD\n",
        "import random\n",
        "random.seed(0)\n",
        "np.random.seed(0)"
      ],
      "id": "519937e0"
    },
    {
      "cell_type": "markdown",
      "metadata": {
        "id": "1ac47295"
      },
      "source": [
        "## Analyse Dataset"
      ],
      "id": "1ac47295"
    },
    {
      "cell_type": "code",
      "execution_count": null,
      "metadata": {
        "colab": {
          "base_uri": "https://localhost:8080/"
        },
        "id": "IiQlKPR5z099",
        "outputId": "4f5b3c81-e613-4178-c772-7d3b5fc8a9f8"
      },
      "outputs": [
        {
          "output_type": "stream",
          "name": "stdout",
          "text": [
            "Looking in indexes: https://pypi.org/simple, https://us-python.pkg.dev/colab-wheels/public/simple/\n",
            "Requirement already satisfied: gdown in /usr/local/lib/python3.7/dist-packages (4.4.0)\n",
            "Requirement already satisfied: tqdm in /usr/local/lib/python3.7/dist-packages (from gdown) (4.64.1)\n",
            "Requirement already satisfied: filelock in /usr/local/lib/python3.7/dist-packages (from gdown) (3.8.0)\n",
            "Requirement already satisfied: requests[socks] in /usr/local/lib/python3.7/dist-packages (from gdown) (2.23.0)\n",
            "Requirement already satisfied: six in /usr/local/lib/python3.7/dist-packages (from gdown) (1.15.0)\n",
            "Requirement already satisfied: beautifulsoup4 in /usr/local/lib/python3.7/dist-packages (from gdown) (4.6.3)\n",
            "Requirement already satisfied: certifi>=2017.4.17 in /usr/local/lib/python3.7/dist-packages (from requests[socks]->gdown) (2022.6.15)\n",
            "Requirement already satisfied: chardet<4,>=3.0.2 in /usr/local/lib/python3.7/dist-packages (from requests[socks]->gdown) (3.0.4)\n",
            "Requirement already satisfied: urllib3!=1.25.0,!=1.25.1,<1.26,>=1.21.1 in /usr/local/lib/python3.7/dist-packages (from requests[socks]->gdown) (1.24.3)\n",
            "Requirement already satisfied: idna<3,>=2.5 in /usr/local/lib/python3.7/dist-packages (from requests[socks]->gdown) (2.10)\n",
            "Requirement already satisfied: PySocks!=1.5.7,>=1.5.6 in /usr/local/lib/python3.7/dist-packages (from requests[socks]->gdown) (1.7.1)\n"
          ]
        }
      ],
      "source": [
        "!pip install gdown"
      ],
      "id": "IiQlKPR5z099"
    },
    {
      "cell_type": "code",
      "execution_count": null,
      "metadata": {
        "colab": {
          "base_uri": "https://localhost:8080/"
        },
        "id": "043QLPG0z6m8",
        "outputId": "4850ccbb-e349-402f-8dce-852fd487f85c"
      },
      "outputs": [
        {
          "output_type": "stream",
          "name": "stdout",
          "text": [
            "Downloading...\n",
            "From: https://drive.google.com/uc?id=1ccoCOvxD2hFm1ejOVRDlT2SivkoNtC6V\n",
            "To: /content/ml-100k.zip\n",
            "\r  0% 0.00/4.92M [00:00<?, ?B/s]\r100% 4.92M/4.92M [00:00<00:00, 162MB/s]\n"
          ]
        }
      ],
      "source": [
        "!gdown https://drive.google.com/uc?id=1ccoCOvxD2hFm1ejOVRDlT2SivkoNtC6V"
      ],
      "id": "043QLPG0z6m8"
    },
    {
      "cell_type": "code",
      "execution_count": null,
      "metadata": {
        "colab": {
          "base_uri": "https://localhost:8080/"
        },
        "id": "i9u5KSq29ehH",
        "outputId": "17474b58-7ed7-4450-ab36-a0dd0056f852"
      },
      "outputs": [
        {
          "output_type": "stream",
          "name": "stdout",
          "text": [
            "Archive:  ml-100k.zip\n",
            "  inflating: /content/ml-100k/allbut.pl  \n",
            "  inflating: /content/ml-100k/mku.sh  \n",
            "  inflating: /content/ml-100k/README  \n",
            "  inflating: /content/ml-100k/u.data  \n",
            "  inflating: /content/ml-100k/u.genre  \n",
            "  inflating: /content/ml-100k/u.info  \n",
            "  inflating: /content/ml-100k/u.item  \n",
            "  inflating: /content/ml-100k/u.occupation  \n",
            "  inflating: /content/ml-100k/u.user  \n",
            "  inflating: /content/ml-100k/u1.base  \n",
            "  inflating: /content/ml-100k/u1.test  \n",
            "  inflating: /content/ml-100k/u2.base  \n",
            "  inflating: /content/ml-100k/u2.test  \n",
            "  inflating: /content/ml-100k/u3.base  \n",
            "  inflating: /content/ml-100k/u3.test  \n",
            "  inflating: /content/ml-100k/u4.base  \n",
            "  inflating: /content/ml-100k/u4.test  \n",
            "  inflating: /content/ml-100k/u5.base  \n",
            "  inflating: /content/ml-100k/u5.test  \n",
            "  inflating: /content/ml-100k/ua.base  \n",
            "  inflating: /content/ml-100k/ua.test  \n",
            "  inflating: /content/ml-100k/ub.base  \n",
            "  inflating: /content/ml-100k/ub.test  \n"
          ]
        }
      ],
      "source": [
        "!unzip \"ml-100k.zip\"  -d  \"/content\"\n",
        "!mv ml-100k/* ./"
      ],
      "id": "i9u5KSq29ehH"
    },
    {
      "cell_type": "code",
      "execution_count": null,
      "metadata": {
        "id": "SDC1L-uK-TZm"
      },
      "outputs": [],
      "source": [
        "dateparse = lambda x: datetime.utcfromtimestamp(int(x)).strftime('%Y-%m-%d %H:%M:%S')\n",
        "\n",
        "rating_df = pd.read_csv('u.data', sep='\\t', \n",
        "                        names=['userID', 'itemID', 'rating', 'time'], \n",
        "                       )\n",
        "\n",
        "movie_df = pd.read_csv('u.item', sep='|', encoding='latin-1',\n",
        "                    names=['itemID', 'movie', 'release_date', 'video_release_date', 'imdb_url', 'unknown', 'action', \n",
        "                           'adventure', 'animation', 'childrens', 'comedy', 'crime', 'documentary', 'drama', 'fantasy', \n",
        "                           'film_noir', 'horror', 'musical', 'mystery', 'romance', 'sci_fi', 'thriller', 'war', 'western'])\n",
        "\n",
        "user_df = pd.read_csv('u.user', sep='|', encoding='latin-1',\n",
        "                     names=['userID', 'age', 'gender', 'occupation', 'zip_code'])\n"
      ],
      "id": "SDC1L-uK-TZm"
    },
    {
      "cell_type": "code",
      "execution_count": null,
      "metadata": {
        "id": "m1dyg1mc-vIY"
      },
      "outputs": [],
      "source": [
        "rating_df=pd.merge(rating_df,movie_df,on=\"itemID\",how=\"left\")\n"
      ],
      "id": "m1dyg1mc-vIY"
    },
    {
      "cell_type": "code",
      "source": [
        "\n",
        "rating_df[\"itemID\"] = rating_df[\"itemID\"].astype(str)\n",
        "rating_df[\"userID\"] = rating_df[\"userID\"].astype(str)"
      ],
      "metadata": {
        "id": "sZPaHa4i-oAr"
      },
      "execution_count": null,
      "outputs": [],
      "id": "sZPaHa4i-oAr"
    },
    {
      "cell_type": "code",
      "source": [
        "unique_users = rating_df.userID.unique()\n",
        "user_ids = dict(zip(unique_users, np.arange(unique_users.shape[0], dtype=np.int32)))\n",
        "\n",
        "unique_items = rating_df.itemID.unique()\n",
        "item_ids = dict(zip(unique_items, np.arange(unique_items.shape[0], dtype=np.int32)))"
      ],
      "metadata": {
        "id": "PgNs7RtdpgsF"
      },
      "execution_count": null,
      "outputs": [],
      "id": "PgNs7RtdpgsF"
    },
    {
      "cell_type": "code",
      "source": [
        "product_ids = list(set(list(rating_df.itemID.unique())))\n",
        "user_ids = list(set(list(rating_df.userID.unique())))"
      ],
      "metadata": {
        "id": "L0pWDQrppk3k"
      },
      "execution_count": null,
      "outputs": [],
      "id": "L0pWDQrppk3k"
    },
    {
      "cell_type": "markdown",
      "metadata": {
        "id": "S3xZff9jLQs0"
      },
      "source": [
        "#### Consider movies rated by more than 200 users"
      ],
      "id": "S3xZff9jLQs0"
    },
    {
      "cell_type": "code",
      "execution_count": null,
      "metadata": {
        "id": "b5ed96c4"
      },
      "outputs": [],
      "source": [
        "\n",
        "rating_df=rating_df[['userID','itemID','rating']]\n",
        "\n",
        "y = rating_df.groupby('itemID').count()['rating']>=50\n",
        "items = y[y].index\n",
        "rating_df = rating_df[rating_df['itemID'].isin(items)]\n",
        "rating_df.shape\n",
        "\n",
        "x = rating_df.groupby('userID').count()['rating'] >= 30\n",
        "userIndex = x[x].index\n",
        "rating_df=rating_df[rating_df['userID'].isin(userIndex)]\n"
      ],
      "id": "b5ed96c4"
    },
    {
      "cell_type": "code",
      "execution_count": null,
      "metadata": {
        "id": "zWCz_JxZjlwm"
      },
      "outputs": [],
      "source": [
        "rating_df=rating_df.astype(int)"
      ],
      "id": "zWCz_JxZjlwm"
    },
    {
      "cell_type": "code",
      "execution_count": null,
      "metadata": {
        "id": "CuYYAiayUzx5",
        "colab": {
          "base_uri": "https://localhost:8080/",
          "height": 283
        },
        "outputId": "9908ae9f-1afa-43b3-ad8a-8c83c04add94"
      },
      "outputs": [
        {
          "output_type": "execute_result",
          "data": {
            "text/plain": [
              "<matplotlib.axes._subplots.AxesSubplot at 0x7f429c6a17d0>"
            ]
          },
          "metadata": {},
          "execution_count": 26
        },
        {
          "output_type": "display_data",
          "data": {
            "text/plain": [
              "<Figure size 432x288 with 1 Axes>"
            ],
            "image/png": "[encoded data removed]"
          },
          "metadata": {}
        }
      ],
      "source": [
        "rating_df['rating'].hist()"
      ],
      "id": "CuYYAiayUzx5"
    },
    {
      "cell_type": "code",
      "execution_count": null,
      "metadata": {
        "id": "Nbznei4iFJe5",
        "colab": {
          "base_uri": "https://localhost:8080/"
        },
        "outputId": "a5656611-8562-4468-bd46-02495de7009c"
      },
      "outputs": [
        {
          "output_type": "execute_result",
          "data": {
            "text/plain": [
              "(78445, 3)"
            ]
          },
          "metadata": {},
          "execution_count": 27
        }
      ],
      "source": [
        "rating_df.shape"
      ],
      "id": "Nbznei4iFJe5"
    },
    {
      "cell_type": "markdown",
      "metadata": {
        "id": "9f9f320a"
      },
      "source": [
        "## Light GCN"
      ],
      "id": "9f9f320a"
    },
    {
      "cell_type": "markdown",
      "metadata": {
        "id": "0BUugAh_Pydg"
      },
      "source": [
        "#### Install packages"
      ],
      "id": "0BUugAh_Pydg"
    },
    {
      "cell_type": "code",
      "execution_count": null,
      "metadata": {
        "id": "jGicZxhLNX_g",
        "colab": {
          "base_uri": "https://localhost:8080/"
        },
        "outputId": "c297c804-79d6-4cb4-d037-b1e7c6bfac2b"
      },
      "outputs": [
        {
          "output_type": "stream",
          "name": "stdout",
          "text": [
            "Successfully installed bottleneck-1.3.5 category-encoders-1.3.0 cornac-1.14.2 exceptiongroup-1.0.0rc9 huggingface-hub-0.10.0 hypothesis-6.55.0 lightfm-1.16 memory-profiler-0.60.0 mypy-extensions-0.4.3 pandera-0.9.0 powerlaw-1.5 pyyaml-5.4.1 recommenders-1.1.1 retrying-1.3.3 scikit-surprise-1.1.1 tokenizers-0.12.1 transformers-4.22.2 typing-inspect-0.8.0\n"
          ]
        }
      ],
      "source": [
        "!pip install recommenders"
      ],
      "id": "jGicZxhLNX_g"
    },
    {
      "cell_type": "code",
      "execution_count": null,
      "metadata": {
        "id": "pvZGq3BtXJxI"
      },
      "outputs": [],
      "source": [
        "from recommenders.utils.timer import Timer\n",
        "from recommenders.models.deeprec.models.graphrec.lightgcn import LightGCN\n",
        "from recommenders.models.deeprec.DataModel.ImplicitCF import ImplicitCF\n",
        "from recommenders.datasets import movielens\n",
        "from recommenders.datasets.python_splitters import python_stratified_split\n",
        "from recommenders.evaluation.python_evaluation import map_at_k, ndcg_at_k, precision_at_k, recall_at_k\n",
        "from recommenders.utils.constants import SEED as DEFAULT_SEED\n",
        "from recommenders.models.deeprec.deeprec_utils import prepare_hparams"
      ],
      "id": "pvZGq3BtXJxI"
    },
    {
      "cell_type": "code",
      "execution_count": null,
      "metadata": {
        "id": "Rxp9RX9yW7fU"
      },
      "outputs": [],
      "source": [
        "train, test = python_stratified_split(rating_df, ratio=0.8)"
      ],
      "id": "Rxp9RX9yW7fU"
    },
    {
      "cell_type": "markdown",
      "metadata": {
        "id": "qADc09-jYOqV"
      },
      "source": [
        "Process data"
      ],
      "id": "qADc09-jYOqV"
    },
    {
      "cell_type": "code",
      "execution_count": null,
      "metadata": {
        "id": "_qSS3J5uYuK9"
      },
      "outputs": [],
      "source": [
        "SEED=42\n",
        "# top k items to recommend\n",
        "TOP_K = 20\n",
        "\n",
        "# Model parameters\n",
        "EPOCHS = 100\n",
        "BATCH_SIZE = 1000"
      ],
      "id": "_qSS3J5uYuK9"
    },
    {
      "cell_type": "code",
      "execution_count": null,
      "metadata": {
        "id": "4ewhxuo-YLce"
      },
      "outputs": [],
      "source": [
        "\n",
        "data = ImplicitCF(train=train, test=test, seed=SEED)"
      ],
      "id": "4ewhxuo-YLce"
    },
    {
      "cell_type": "markdown",
      "metadata": {
        "id": "oRJNsoYVYRZ1"
      },
      "source": [
        "Prepare hyper-parameters"
      ],
      "id": "oRJNsoYVYRZ1"
    },
    {
      "cell_type": "code",
      "execution_count": null,
      "metadata": {
        "id": "1QA97nCtYdSE"
      },
      "outputs": [],
      "source": [
        "# #model\n",
        "# model:\n",
        "#     model_type : \"lightgcn\"\n",
        "#     embed_size : 64 # the embedding dimension of users and items\n",
        "#     n_layers : 3 # number of layers of the model\n",
        "    \n",
        "# #train\n",
        "# train:\n",
        "#     batch_size : 1024\n",
        "#     decay : 0.0001 # l2 regularization for embedding parameters\n",
        "#     epochs : 1000 # number of epochs for training\n",
        "#     learning_rate : 0.001\n",
        "#     eval_epoch : -1 # if it is not -1, evaluate the model every eval_epoch; -1 means that evaluation will not be performed during training\n",
        "#     top_k : 20 # number of items to recommend when calculating evaluation metrics\n",
        "\n",
        "# #show info\n",
        "# #metric : \"recall\", \"ndcg\", \"precision\", \"map\"\n",
        "# info:\n",
        "#     save_model : False # whether to save model\n",
        "#     save_epoch : 100 # if save_model is set to True, save the model every save_epoch\n",
        "#     metrics : [\"recall\", \"ndcg\", \"precision\", \"map\"] # metrics for evaluation\n",
        "#     MODEL_DIR : ./tests/resources/deeprec/lightgcn/model/lightgcn_model/ # directory of saved models"
      ],
      "id": "1QA97nCtYdSE"
    },
    {
      "cell_type": "code",
      "execution_count": null,
      "metadata": {
        "id": "EotAA7wHYnLl"
      },
      "outputs": [],
      "source": [
        "yaml_file = \"param.yaml\"\n",
        "hparams = prepare_hparams(yaml_file,\n",
        "                          n_layers=4,\n",
        "                          batch_size=BATCH_SIZE,\n",
        "                          epochs=EPOCHS,\n",
        "                          learning_rate=0.005,\n",
        "                          eval_epoch=5,\n",
        "                          top_k=TOP_K,\n",
        "                         )"
      ],
      "id": "EotAA7wHYnLl"
    },
    {
      "cell_type": "code",
      "execution_count": null,
      "metadata": {
        "id": "OCnFud37aYl9",
        "colab": {
          "base_uri": "https://localhost:8080/"
        },
        "outputId": "75925c00-d3fd-4601-a4b7-0dc2247bf6bf"
      },
      "outputs": [
        {
          "output_type": "stream",
          "name": "stdout",
          "text": [
            "Already create adjacency matrix.\n",
            "Already normalize adjacency matrix.\n",
            "Using xavier initialization.\n"
          ]
        }
      ],
      "source": [
        "\n",
        "model = LightGCN(hparams, data, seed=SEED)"
      ],
      "id": "OCnFud37aYl9"
    },
    {
      "cell_type": "markdown",
      "metadata": {
        "id": "gwTW1sfna8kb"
      },
      "source": [
        "Recommendation"
      ],
      "id": "gwTW1sfna8kb"
    },
    {
      "cell_type": "code",
      "execution_count": null,
      "metadata": {
        "id": "mIadjVKraaG7",
        "colab": {
          "base_uri": "https://localhost:8080/"
        },
        "outputId": "22d5cb11-e286-4e65-d17b-1bb7487780b0"
      },
      "outputs": [
        {
          "output_type": "stream",
          "name": "stdout",
          "text": [
            "Epoch 1 (train)1.3s: train loss = 0.62717 = (mf)0.62701 + (embed)0.00017\n",
            "Epoch 2 (train)0.7s: train loss = 0.51728 = (mf)0.51673 + (embed)0.00056\n",
            "Epoch 3 (train)0.7s: train loss = 0.45468 = (mf)0.45378 + (embed)0.00090\n",
            "Epoch 4 (train)0.7s: train loss = 0.43067 = (mf)0.42946 + (embed)0.00120\n",
            "Epoch 5 (train)0.7s + (eval)1.8s: train loss = 0.41778 = (mf)0.41637 + (embed)0.00141, recall = 0.26385, ndcg = 0.34541, precision = 0.26218, map = 0.13095\n",
            "Epoch 6 (train)0.7s: train loss = 0.39580 = (mf)0.39417 + (embed)0.00163\n",
            "Epoch 7 (train)0.7s: train loss = 0.37721 = (mf)0.37531 + (embed)0.00190\n",
            "Epoch 8 (train)0.7s: train loss = 0.36512 = (mf)0.36296 + (embed)0.00216\n",
            "Epoch 9 (train)0.7s: train loss = 0.35828 = (mf)0.35590 + (embed)0.00238\n",
            "Epoch 10 (train)0.7s + (eval)0.2s: train loss = 0.35210 = (mf)0.34952 + (embed)0.00258, recall = 0.29735, ndcg = 0.38952, precision = 0.29423, map = 0.15767\n",
            "Epoch 11 (train)0.7s: train loss = 0.34376 = (mf)0.34099 + (embed)0.00277\n",
            "Epoch 12 (train)0.7s: train loss = 0.34359 = (mf)0.34066 + (embed)0.00293\n",
            "Epoch 13 (train)0.7s: train loss = 0.33392 = (mf)0.33082 + (embed)0.00310\n",
            "Epoch 14 (train)0.7s: train loss = 0.32986 = (mf)0.32659 + (embed)0.00327\n",
            "Epoch 15 (train)0.7s + (eval)0.2s: train loss = 0.32813 = (mf)0.32471 + (embed)0.00343, recall = 0.30670, ndcg = 0.40210, precision = 0.30271, map = 0.16570\n",
            "Epoch 16 (train)0.7s: train loss = 0.32749 = (mf)0.32390 + (embed)0.00359\n",
            "Epoch 17 (train)1.0s: train loss = 0.32137 = (mf)0.31764 + (embed)0.00373\n",
            "Epoch 18 (train)1.1s: train loss = 0.31424 = (mf)0.31033 + (embed)0.00391\n",
            "Epoch 19 (train)1.0s: train loss = 0.31209 = (mf)0.30802 + (embed)0.00407\n",
            "Epoch 20 (train)0.8s + (eval)0.2s: train loss = 0.30518 = (mf)0.30093 + (embed)0.00425, recall = 0.32356, ndcg = 0.42387, precision = 0.31823, map = 0.17940\n",
            "Epoch 21 (train)0.7s: train loss = 0.29993 = (mf)0.29549 + (embed)0.00444\n",
            "Epoch 22 (train)0.7s: train loss = 0.29961 = (mf)0.29498 + (embed)0.00463\n",
            "Epoch 23 (train)0.7s: train loss = 0.29476 = (mf)0.28994 + (embed)0.00482\n",
            "Epoch 24 (train)0.7s: train loss = 0.29052 = (mf)0.28549 + (embed)0.00503\n",
            "Epoch 25 (train)0.7s + (eval)0.2s: train loss = 0.28844 = (mf)0.28323 + (embed)0.00520, recall = 0.33066, ndcg = 0.43484, precision = 0.32564, map = 0.18726\n",
            "Epoch 26 (train)0.7s: train loss = 0.28368 = (mf)0.27828 + (embed)0.00540\n",
            "Epoch 27 (train)0.7s: train loss = 0.28380 = (mf)0.27822 + (embed)0.00558\n",
            "Epoch 28 (train)0.7s: train loss = 0.27933 = (mf)0.27355 + (embed)0.00577\n",
            "Epoch 29 (train)0.7s: train loss = 0.27508 = (mf)0.26911 + (embed)0.00597\n",
            "Epoch 30 (train)0.7s + (eval)0.2s: train loss = 0.26946 = (mf)0.26329 + (embed)0.00618, recall = 0.33955, ndcg = 0.44591, precision = 0.33283, map = 0.19525\n",
            "Epoch 31 (train)0.7s: train loss = 0.26868 = (mf)0.26231 + (embed)0.00636\n",
            "Epoch 32 (train)0.7s: train loss = 0.26760 = (mf)0.26102 + (embed)0.00658\n",
            "Epoch 33 (train)0.7s: train loss = 0.26333 = (mf)0.25659 + (embed)0.00674\n",
            "Epoch 34 (train)0.7s: train loss = 0.26129 = (mf)0.25434 + (embed)0.00695\n",
            "Epoch 35 (train)0.7s + (eval)0.2s: train loss = 0.25804 = (mf)0.25087 + (embed)0.00717, recall = 0.34808, ndcg = 0.45507, precision = 0.34017, map = 0.20125\n",
            "Epoch 36 (train)0.7s: train loss = 0.25831 = (mf)0.25096 + (embed)0.00736\n",
            "Epoch 37 (train)0.7s: train loss = 0.24959 = (mf)0.24200 + (embed)0.00759\n",
            "Epoch 38 (train)0.7s: train loss = 0.24536 = (mf)0.23755 + (embed)0.00781\n",
            "Epoch 39 (train)0.7s: train loss = 0.24292 = (mf)0.23489 + (embed)0.00802\n",
            "Epoch 40 (train)0.7s + (eval)0.2s: train loss = 0.24224 = (mf)0.23400 + (embed)0.00824, recall = 0.35207, ndcg = 0.46043, precision = 0.34459, map = 0.20569\n",
            "Epoch 41 (train)0.7s: train loss = 0.24201 = (mf)0.23355 + (embed)0.00845\n",
            "Epoch 42 (train)0.7s: train loss = 0.24176 = (mf)0.23311 + (embed)0.00864\n",
            "Epoch 43 (train)0.7s: train loss = 0.23667 = (mf)0.22780 + (embed)0.00886\n",
            "Epoch 44 (train)0.7s: train loss = 0.23237 = (mf)0.22328 + (embed)0.00908\n",
            "Epoch 45 (train)0.7s + (eval)0.2s: train loss = 0.23349 = (mf)0.22420 + (embed)0.00929, recall = 0.35237, ndcg = 0.45927, precision = 0.34266, map = 0.20520\n",
            "Epoch 46 (train)0.7s: train loss = 0.22788 = (mf)0.21835 + (embed)0.00953\n",
            "Epoch 47 (train)0.7s: train loss = 0.22737 = (mf)0.21764 + (embed)0.00973\n",
            "Epoch 48 (train)0.7s: train loss = 0.22616 = (mf)0.21621 + (embed)0.00994\n",
            "Epoch 49 (train)0.7s: train loss = 0.22124 = (mf)0.21108 + (embed)0.01016\n",
            "Epoch 50 (train)0.7s + (eval)0.2s: train loss = 0.21830 = (mf)0.20790 + (embed)0.01040, recall = 0.35410, ndcg = 0.45909, precision = 0.34366, map = 0.20453\n",
            "Epoch 51 (train)0.7s: train loss = 0.22143 = (mf)0.21084 + (embed)0.01059\n",
            "Epoch 52 (train)0.7s: train loss = 0.21784 = (mf)0.20704 + (embed)0.01080\n",
            "Epoch 53 (train)0.7s: train loss = 0.21550 = (mf)0.20447 + (embed)0.01102\n",
            "Epoch 54 (train)0.7s: train loss = 0.21477 = (mf)0.20356 + (embed)0.01121\n",
            "Epoch 55 (train)0.7s + (eval)0.2s: train loss = 0.21287 = (mf)0.20143 + (embed)0.01144, recall = 0.35183, ndcg = 0.45925, precision = 0.34209, map = 0.20443\n",
            "Epoch 56 (train)0.7s: train loss = 0.20988 = (mf)0.19822 + (embed)0.01166\n",
            "Epoch 57 (train)1.0s: train loss = 0.20596 = (mf)0.19405 + (embed)0.01191\n",
            "Epoch 58 (train)0.9s: train loss = 0.20570 = (mf)0.19358 + (embed)0.01212\n",
            "Epoch 59 (train)0.7s: train loss = 0.20457 = (mf)0.19225 + (embed)0.01233\n",
            "Epoch 60 (train)0.7s + (eval)0.2s: train loss = 0.20429 = (mf)0.19174 + (embed)0.01256, recall = 0.35087, ndcg = 0.45760, precision = 0.34031, map = 0.20313\n",
            "Epoch 61 (train)0.7s: train loss = 0.19924 = (mf)0.18651 + (embed)0.01273\n",
            "Epoch 62 (train)0.7s: train loss = 0.19720 = (mf)0.18422 + (embed)0.01298\n",
            "Epoch 63 (train)0.7s: train loss = 0.19810 = (mf)0.18491 + (embed)0.01319\n",
            "Epoch 64 (train)0.7s: train loss = 0.19594 = (mf)0.18252 + (embed)0.01342\n",
            "Epoch 65 (train)0.7s + (eval)0.2s: train loss = 0.19501 = (mf)0.18136 + (embed)0.01365, recall = 0.35422, ndcg = 0.45950, precision = 0.34259, map = 0.20455\n",
            "Epoch 66 (train)0.7s: train loss = 0.19218 = (mf)0.17831 + (embed)0.01387\n",
            "Epoch 67 (train)0.7s: train loss = 0.18927 = (mf)0.17518 + (embed)0.01409\n",
            "Epoch 68 (train)1.1s: train loss = 0.18821 = (mf)0.17388 + (embed)0.01433\n",
            "Epoch 69 (train)1.3s: train loss = 0.18740 = (mf)0.17287 + (embed)0.01453\n",
            "Epoch 70 (train)1.3s + (eval)0.2s: train loss = 0.18494 = (mf)0.17018 + (embed)0.01476, recall = 0.35272, ndcg = 0.45652, precision = 0.34053, map = 0.20232\n",
            "Epoch 71 (train)1.3s: train loss = 0.18317 = (mf)0.16820 + (embed)0.01497\n",
            "Epoch 72 (train)1.2s: train loss = 0.18230 = (mf)0.16709 + (embed)0.01521\n",
            "Epoch 73 (train)1.5s: train loss = 0.18246 = (mf)0.16701 + (embed)0.01544\n",
            "Epoch 74 (train)1.3s: train loss = 0.17737 = (mf)0.16172 + (embed)0.01565\n",
            "Epoch 75 (train)1.4s + (eval)0.4s: train loss = 0.17950 = (mf)0.16362 + (embed)0.01588, recall = 0.35064, ndcg = 0.45336, precision = 0.33896, map = 0.20066\n",
            "Epoch 76 (train)1.6s: train loss = 0.17904 = (mf)0.16297 + (embed)0.01607\n",
            "Epoch 77 (train)1.3s: train loss = 0.17565 = (mf)0.15934 + (embed)0.01631\n",
            "Epoch 78 (train)1.3s: train loss = 0.17649 = (mf)0.15997 + (embed)0.01652\n",
            "Epoch 79 (train)1.2s: train loss = 0.17544 = (mf)0.15871 + (embed)0.01673\n",
            "Epoch 80 (train)1.2s + (eval)0.4s: train loss = 0.16889 = (mf)0.15194 + (embed)0.01695, recall = 0.34698, ndcg = 0.44789, precision = 0.33476, map = 0.19742\n",
            "Epoch 81 (train)1.2s: train loss = 0.17110 = (mf)0.15395 + (embed)0.01716\n",
            "Epoch 82 (train)0.7s: train loss = 0.16534 = (mf)0.14792 + (embed)0.01742\n",
            "Epoch 83 (train)0.7s: train loss = 0.16689 = (mf)0.14926 + (embed)0.01763\n",
            "Epoch 84 (train)0.7s: train loss = 0.16741 = (mf)0.14958 + (embed)0.01783\n",
            "Epoch 85 (train)0.7s + (eval)0.2s: train loss = 0.16691 = (mf)0.14888 + (embed)0.01802, recall = 0.34553, ndcg = 0.44679, precision = 0.33476, map = 0.19686\n",
            "Epoch 86 (train)0.7s: train loss = 0.16440 = (mf)0.14617 + (embed)0.01823\n",
            "Epoch 87 (train)0.7s: train loss = 0.16374 = (mf)0.14527 + (embed)0.01848\n",
            "Epoch 88 (train)0.7s: train loss = 0.16323 = (mf)0.14452 + (embed)0.01871\n",
            "Epoch 89 (train)0.7s: train loss = 0.15793 = (mf)0.13902 + (embed)0.01891\n",
            "Epoch 90 (train)0.7s + (eval)0.2s: train loss = 0.15928 = (mf)0.14014 + (embed)0.01914, recall = 0.34153, ndcg = 0.44105, precision = 0.33084, map = 0.19324\n",
            "Epoch 91 (train)0.7s: train loss = 0.15970 = (mf)0.14035 + (embed)0.01935\n",
            "Epoch 92 (train)0.7s: train loss = 0.15697 = (mf)0.13742 + (embed)0.01955\n",
            "Epoch 93 (train)0.7s: train loss = 0.15586 = (mf)0.13611 + (embed)0.01975\n",
            "Epoch 94 (train)0.7s: train loss = 0.15499 = (mf)0.13502 + (embed)0.01997\n",
            "Epoch 95 (train)0.7s + (eval)0.2s: train loss = 0.15600 = (mf)0.13582 + (embed)0.02019, recall = 0.33914, ndcg = 0.43639, precision = 0.32628, map = 0.19003\n",
            "Epoch 96 (train)0.7s: train loss = 0.15072 = (mf)0.13029 + (embed)0.02043\n",
            "Epoch 97 (train)0.7s: train loss = 0.15293 = (mf)0.13235 + (embed)0.02058\n",
            "Epoch 98 (train)0.7s: train loss = 0.15109 = (mf)0.13028 + (embed)0.02081\n",
            "Epoch 99 (train)0.7s: train loss = 0.15050 = (mf)0.12953 + (embed)0.02097\n",
            "Epoch 100 (train)0.7s + (eval)0.2s: train loss = 0.14741 = (mf)0.12617 + (embed)0.02124, recall = 0.33975, ndcg = 0.43628, precision = 0.32771, map = 0.18945\n",
            "Took 86.15835918600004 seconds for training.\n"
          ]
        }
      ],
      "source": [
        "with Timer() as train_time:\n",
        "    model.fit()\n",
        "\n",
        "print(\"Took {} seconds for training.\".format(train_time.interval))"
      ],
      "id": "mIadjVKraaG7"
    },
    {
      "cell_type": "code",
      "execution_count": null,
      "metadata": {
        "id": "ilSrRB1aa1oi",
        "colab": {
          "base_uri": "https://localhost:8080/",
          "height": 206
        },
        "outputId": "dd404cb5-48ca-4412-ae00-0c63a9575962"
      },
      "outputs": [
        {
          "output_type": "execute_result",
          "data": {
            "text/plain": [
              "   userID  itemID  prediction\n",
              "0       1     144    3.796903\n",
              "1       1       7    3.479088\n",
              "2       1     455    3.338653\n",
              "3       1     172    3.322329\n",
              "4       1     475    3.302534"
            ],
            "text/html": [
              "\n",
              "  <div id=\"df-03bcfbe4-dcb2-4a9e-9d2b-25c573bd0262\">\n",
              "    <div class=\"colab-df-container\">\n",
              "      <div>\n",
              "<style scoped>\n",
              "    .dataframe tbody tr th:only-of-type {\n",
              "        vertical-align: middle;\n",
              "    }\n",
              "\n",
              "    .dataframe tbody tr th {\n",
              "        vertical-align: top;\n",
              "    }\n",
              "\n",
              "    .dataframe thead th {\n",
              "        text-align: right;\n",
              "    }\n",
              "</style>\n",
              "<table border=\"1\" class=\"dataframe\">\n",
              "  <thead>\n",
              "    <tr style=\"text-align: right;\">\n",
              "      <th></th>\n",
              "      <th>userID</th>\n",
              "      <th>itemID</th>\n",
              "      <th>prediction</th>\n",
              "    </tr>\n",
              "  </thead>\n",
              "  <tbody>\n",
              "    <tr>\n",
              "      <th>0</th>\n",
              "      <td>1</td>\n",
              "      <td>144</td>\n",
              "      <td>3.796903</td>\n",
              "    </tr>\n",
              "    <tr>\n",
              "      <th>1</th>\n",
              "      <td>1</td>\n",
              "      <td>7</td>\n",
              "      <td>3.479088</td>\n",
              "    </tr>\n",
              "    <tr>\n",
              "      <th>2</th>\n",
              "      <td>1</td>\n",
              "      <td>455</td>\n",
              "      <td>3.338653</td>\n",
              "    </tr>\n",
              "    <tr>\n",
              "      <th>3</th>\n",
              "      <td>1</td>\n",
              "      <td>172</td>\n",
              "      <td>3.322329</td>\n",
              "    </tr>\n",
              "    <tr>\n",
              "      <th>4</th>\n",
              "      <td>1</td>\n",
              "      <td>475</td>\n",
              "      <td>3.302534</td>\n",
              "    </tr>\n",
              "  </tbody>\n",
              "</table>\n",
              "</div>\n",
              "      <button class=\"colab-df-convert\" onclick=\"convertToInteractive('df-03bcfbe4-dcb2-4a9e-9d2b-25c573bd0262')\"\n",
              "              title=\"Convert this dataframe to an interactive table.\"\n",
              "              style=\"display:none;\">\n",
              "        \n",
              "  <svg xmlns=\"http://www.w3.org/2000/svg\" height=\"24px\"viewBox=\"0 0 24 24\"\n",
              "       width=\"24px\">\n",
              "    <path d=\"M0 0h24v24H0V0z\" fill=\"none\"/>\n",
              "    <path d=\"M18.56 5.44l.94 2.06.94-2.06 2.06-.94-2.06-.94-.94-2.06-.94 2.06-2.06.94zm-11 1L8.5 8.5l.94-2.06 2.06-.94-2.06-.94L8.5 2.5l-.94 2.06-2.06.94zm10 10l.94 2.06.94-2.06 2.06-.94-2.06-.94-.94-2.06-.94 2.06-2.06.94z\"/><path d=\"M17.41 7.96l-1.37-1.37c-.4-.4-.92-.59-1.43-.59-.52 0-1.04.2-1.43.59L10.3 9.45l-7.72 7.72c-.78.78-.78 2.05 0 2.83L4 21.41c.39.39.9.59 1.41.59.51 0 1.02-.2 1.41-.59l7.78-7.78 2.81-2.81c.8-.78.8-2.07 0-2.86zM5.41 20L4 18.59l7.72-7.72 1.47 1.35L5.41 20z\"/>\n",
              "  </svg>\n",
              "      </button>\n",
              "      \n",
              "  <style>\n",
              "    .colab-df-container {\n",
              "      display:flex;\n",
              "      flex-wrap:wrap;\n",
              "      gap: 12px;\n",
              "    }\n",
              "\n",
              "    .colab-df-convert {\n",
              "      background-color: #E8F0FE;\n",
              "      border: none;\n",
              "      border-radius: 50%;\n",
              "      cursor: pointer;\n",
              "      display: none;\n",
              "      fill: #1967D2;\n",
              "      height: 32px;\n",
              "      padding: 0 0 0 0;\n",
              "      width: 32px;\n",
              "    }\n",
              "\n",
              "    .colab-df-convert:hover {\n",
              "      background-color: #E2EBFA;\n",
              "      box-shadow: 0px 1px 2px rgba(60, 64, 67, 0.3), 0px 1px 3px 1px rgba(60, 64, 67, 0.15);\n",
              "      fill: #174EA6;\n",
              "    }\n",
              "\n",
              "    [theme=dark] .colab-df-convert {\n",
              "      background-color: #3B4455;\n",
              "      fill: #D2E3FC;\n",
              "    }\n",
              "\n",
              "    [theme=dark] .colab-df-convert:hover {\n",
              "      background-color: #434B5C;\n",
              "      box-shadow: 0px 1px 3px 1px rgba(0, 0, 0, 0.15);\n",
              "      filter: drop-shadow(0px 1px 2px rgba(0, 0, 0, 0.3));\n",
              "      fill: #FFFFFF;\n",
              "    }\n",
              "  </style>\n",
              "\n",
              "      <script>\n",
              "        const buttonEl =\n",
              "          document.querySelector('#df-03bcfbe4-dcb2-4a9e-9d2b-25c573bd0262 button.colab-df-convert');\n",
              "        buttonEl.style.display =\n",
              "          google.colab.kernel.accessAllowed ? 'block' : 'none';\n",
              "\n",
              "        async function convertToInteractive(key) {\n",
              "          const element = document.querySelector('#df-03bcfbe4-dcb2-4a9e-9d2b-25c573bd0262');\n",
              "          const dataTable =\n",
              "            await google.colab.kernel.invokeFunction('convertToInteractive',\n",
              "                                                     [key], {});\n",
              "          if (!dataTable) return;\n",
              "\n",
              "          const docLinkHtml = 'Like what you see? Visit the ' +\n",
              "            '<a target=\"_blank\" href=https://colab.research.google.com/notebooks/data_table.ipynb>data table notebook</a>'\n",
              "            + ' to learn more about interactive tables.';\n",
              "          element.innerHTML = '';\n",
              "          dataTable['output_type'] = 'display_data';\n",
              "          await google.colab.output.renderOutput(dataTable, element);\n",
              "          const docLink = document.createElement('div');\n",
              "          docLink.innerHTML = docLinkHtml;\n",
              "          element.appendChild(docLink);\n",
              "        }\n",
              "      </script>\n",
              "    </div>\n",
              "  </div>\n",
              "  "
            ]
          },
          "metadata": {},
          "execution_count": 38
        }
      ],
      "source": [
        "topk_scores = model.recommend_k_items(test, top_k=TOP_K, remove_seen=True)\n",
        "\n",
        "topk_scores.head()"
      ],
      "id": "ilSrRB1aa1oi"
    },
    {
      "cell_type": "markdown",
      "metadata": {
        "id": "YC8kCYuha5Zd"
      },
      "source": [
        "Evaluation"
      ],
      "id": "YC8kCYuha5Zd"
    },
    {
      "cell_type": "code",
      "execution_count": null,
      "metadata": {
        "id": "bdpcS3Lna4tK"
      },
      "outputs": [],
      "source": [
        "eval_map = map_at_k(test, topk_scores, k=TOP_K)\n",
        "eval_ndcg = ndcg_at_k(test, topk_scores, k=TOP_K)\n",
        "eval_precision = precision_at_k(test, topk_scores, k=TOP_K)\n",
        "eval_recall = recall_at_k(test, topk_scores, k=TOP_K)"
      ],
      "id": "bdpcS3Lna4tK"
    },
    {
      "cell_type": "code",
      "execution_count": null,
      "metadata": {
        "id": "JgL3YCK0bdUj",
        "colab": {
          "base_uri": "https://localhost:8080/"
        },
        "outputId": "12b0e334-7dbf-4099-9f5d-988207f2033b"
      },
      "outputs": [
        {
          "output_type": "stream",
          "name": "stdout",
          "text": [
            "map0.18944830600425114\n",
            "ndcg0.4362813457268996\n",
            "precision0.32770655270655275\n",
            "recall0.339746673422096\n"
          ]
        }
      ],
      "source": [
        "# Record results with papermill for tests\n",
        "print(\"map\"+ str(eval_map))\n",
        "print(\"ndcg\"+ str(eval_ndcg))\n",
        "print(\"precision\"+ str( eval_precision))\n",
        "print(\"recall\"+ str(eval_recall))"
      ],
      "id": "JgL3YCK0bdUj"
    }
  ],
  "metadata": {
    "accelerator": "GPU",
    "colab": {
      "machine_shape": "hm",
      "provenance": []
    },
    "gpuClass": "standard",
    "kernelspec": {
      "display_name": "Python 3",
      "language": "python",
      "name": "python3"
    },
    "language_info": {
      "codemirror_mode": {
        "name": "ipython",
        "version": 3
      },
      "file_extension": ".py",
      "mimetype": "text/x-python",
      "name": "python",
      "nbconvert_exporter": "python",
      "pygments_lexer": "ipython3",
      "version": "3.6.5"
    }
  },
  "nbformat": 4,
  "nbformat_minor": 5
}