{
  "cells": [
    {
      "cell_type": "code",
      "source": [
        "gpu_info = !nvidia-smi\n",
        "gpu_info = '\\n'.join(gpu_info)\n",
        "if gpu_info.find('failed') >= 0:\n",
        "  print('Not connected to a GPU')\n",
        "else:\n",
        "  print(gpu_info)"
      ],
      "metadata": {
        "colab": {
          "base_uri": "https://localhost:8080/"
        },
        "id": "_QphkgcDcwxr",
        "outputId": "a005cf6c-0ae8-43b6-f797-3076a63d93f6"
      },
      "id": "_QphkgcDcwxr",
      "execution_count": null,
      "outputs": [
        {
          "output_type": "stream",
          "name": "stdout",
          "text": [
            "Sun Feb  5 08:50:18 2023       \n",
            "+-----------------------------------------------------------------------------+\n",
            "| NVIDIA-SMI 510.47.03    Driver Version: 510.47.03    CUDA Version: 11.6     |\n",
            "|-------------------------------+----------------------+----------------------+\n",
            "| GPU  Name        Persistence-M| Bus-Id        Disp.A | Volatile Uncorr. ECC |\n",
            "| Fan  Temp  Perf  Pwr:Usage/Cap|         Memory-Usage | GPU-Util  Compute M. |\n",
            "|                               |                      |               MIG M. |\n",
            "|===============================+======================+======================|\n",
            "|   0  Tesla T4            Off  | 00000000:00:04.0 Off |                    0 |\n",
            "| N/A   72C    P0    29W /  70W |      0MiB / 15360MiB |      0%      Default |\n",
            "|                               |                      |                  N/A |\n",
            "+-------------------------------+----------------------+----------------------+\n",
            "                                                                               \n",
            "+-----------------------------------------------------------------------------+\n",
            "| Processes:                                                                  |\n",
            "|  GPU   GI   CI        PID   Type   Process name                  GPU Memory |\n",
            "|        ID   ID                                                   Usage      |\n",
            "|=============================================================================|\n",
            "|  No running processes found                                                 |\n",
            "+-----------------------------------------------------------------------------+\n"
          ]
        }
      ]
    },
    {
      "cell_type": "code",
      "source": [
        "from psutil import virtual_memory\n",
        "ram_gb = virtual_memory().total / 1e9\n",
        "print('Your runtime has {:.1f} gigabytes of available RAM\\n'.format(ram_gb))\n",
        "\n",
        "if ram_gb < 20:\n",
        "  print('Not using a high-RAM runtime')\n",
        "else:\n",
        "  print('You are using a high-RAM runtime!')"
      ],
      "metadata": {
        "colab": {
          "base_uri": "https://localhost:8080/"
        },
        "id": "Kq_W9JJDczFA",
        "outputId": "c77e0ef7-bc4e-4164-819d-2cacb4738452"
      },
      "id": "Kq_W9JJDczFA",
      "execution_count": null,
      "outputs": [
        {
          "output_type": "stream",
          "name": "stdout",
          "text": [
            "Your runtime has 13.6 gigabytes of available RAM\n",
            "\n",
            "Not using a high-RAM runtime\n"
          ]
        }
      ]
    },
    {
      "cell_type": "code",
      "execution_count": null,
      "id": "84eddad3",
      "metadata": {
        "id": "84eddad3"
      },
      "outputs": [],
      "source": [
        "from datetime import datetime\n",
        "import os\n",
        "import matplotlib\n",
        "import pandas as pd\n",
        "import numpy as np\n",
        "import matplotlib.pyplot as plt\n",
        "import seaborn as sns\n",
        "sns.set_style('whitegrid')\n",
        "\n",
        "from scipy import sparse\n",
        "from scipy.sparse import csc_matrix\n",
        "from sklearn.decomposition import TruncatedSVD\n",
        "\n",
        "np.random.seed(0)"
      ]
    },
    {
      "cell_type": "markdown",
      "id": "85495bf1",
      "metadata": {
        "id": "85495bf1"
      },
      "source": [
        "##  data set\n"
      ]
    },
    {
      "cell_type": "markdown",
      "metadata": {
        "id": "ohsC49cVr-Ox"
      },
      "source": [
        "### Setup and Load dataset"
      ],
      "id": "ohsC49cVr-Ox"
    },
    {
      "cell_type": "code",
      "execution_count": null,
      "metadata": {
        "id": "DjzX44HQr-Ox"
      },
      "outputs": [],
      "source": [
        "\n",
        "import pandas as pd\n",
        "import os\n",
        "from os.path import exists\n",
        "import zipfile\n",
        "import numpy as np"
      ],
      "id": "DjzX44HQr-Ox"
    },
    {
      "cell_type": "code",
      "source": [
        "!pip install gdown"
      ],
      "metadata": {
        "colab": {
          "base_uri": "https://localhost:8080/"
        },
        "outputId": "301de1e3-8dbc-4568-8b44-0e867070a9e3",
        "id": "woePr-2jr-Ox"
      },
      "execution_count": null,
      "outputs": [
        {
          "output_type": "stream",
          "name": "stdout",
          "text": [
            "Looking in indexes: https://pypi.org/simple, https://us-python.pkg.dev/colab-wheels/public/simple/\n",
            "Requirement already satisfied: gdown in /usr/local/lib/python3.8/dist-packages (4.4.0)\n",
            "Requirement already satisfied: six in /usr/local/lib/python3.8/dist-packages (from gdown) (1.15.0)\n",
            "Requirement already satisfied: requests[socks] in /usr/local/lib/python3.8/dist-packages (from gdown) (2.25.1)\n",
            "Requirement already satisfied: filelock in /usr/local/lib/python3.8/dist-packages (from gdown) (3.9.0)\n",
            "Requirement already satisfied: beautifulsoup4 in /usr/local/lib/python3.8/dist-packages (from gdown) (4.6.3)\n",
            "Requirement already satisfied: tqdm in /usr/local/lib/python3.8/dist-packages (from gdown) (4.64.1)\n",
            "Requirement already satisfied: chardet<5,>=3.0.2 in /usr/local/lib/python3.8/dist-packages (from requests[socks]->gdown) (4.0.0)\n",
            "Requirement already satisfied: certifi>=2017.4.17 in /usr/local/lib/python3.8/dist-packages (from requests[socks]->gdown) (2022.12.7)\n",
            "Requirement already satisfied: idna<3,>=2.5 in /usr/local/lib/python3.8/dist-packages (from requests[socks]->gdown) (2.10)\n",
            "Requirement already satisfied: urllib3<1.27,>=1.21.1 in /usr/local/lib/python3.8/dist-packages (from requests[socks]->gdown) (1.24.3)\n",
            "Requirement already satisfied: PySocks!=1.5.7,>=1.5.6 in /usr/local/lib/python3.8/dist-packages (from requests[socks]->gdown) (1.7.1)\n"
          ]
        }
      ],
      "id": "woePr-2jr-Ox"
    },
    {
      "cell_type": "code",
      "source": [],
      "metadata": {
        "id": "dGS3UDKhw7TR"
      },
      "execution_count": null,
      "outputs": [],
      "id": "dGS3UDKhw7TR"
    },
    {
      "cell_type": "code",
      "execution_count": null,
      "metadata": {
        "colab": {
          "base_uri": "https://localhost:8080/"
        },
        "id": "C1r8Sraf7rPj",
        "outputId": "b82672f8-ac33-4b5d-8485-94acc967e0a2"
      },
      "outputs": [
        {
          "output_type": "stream",
          "name": "stdout",
          "text": [
            "Continuing in background, pid 1181.\n",
            "Output will be written to ‘wget-log.1’.\n"
          ]
        }
      ],
      "source": [
        "!wget  -b  https://files.grouplens.org/datasets/movielens/ml-25m.zip"
      ],
      "id": "C1r8Sraf7rPj"
    },
    {
      "cell_type": "code",
      "source": [
        "!unzip -o \"ml-25m.zip\"  -d  \"/content\""
      ],
      "metadata": {
        "colab": {
          "base_uri": "https://localhost:8080/"
        },
        "outputId": "39b46ecd-7f4f-4534-87b9-ef0f6dfe08b5",
        "id": "zVe-QzFtyZcR"
      },
      "execution_count": null,
      "outputs": [
        {
          "output_type": "stream",
          "name": "stdout",
          "text": [
            "Archive:  ml-25m.zip\n",
            "  inflating: /content/ml-25m/tags.csv  \n",
            "  inflating: /content/ml-25m/links.csv  \n",
            "  inflating: /content/ml-25m/README.txt  \n",
            "  inflating: /content/ml-25m/ratings.csv  \n",
            "  inflating: /content/ml-25m/genome-tags.csv  \n",
            "  inflating: /content/ml-25m/genome-scores.csv  \n",
            "  inflating: /content/ml-25m/movies.csv  \n"
          ]
        }
      ],
      "id": "zVe-QzFtyZcR"
    },
    {
      "cell_type": "code",
      "source": [
        "data = pd.read_csv('ml-25m/ratings.csv')#, sep='::', header=0, skipinitialspace=True)\n",
        "data.dropna(inplace=True)\n"
      ],
      "metadata": {
        "id": "MnT-Vt58cTqQ"
      },
      "id": "MnT-Vt58cTqQ",
      "execution_count": null,
      "outputs": []
    },
    {
      "cell_type": "code",
      "source": [
        "data.columns =[ 'user', 'item', 'label','timestamp']"
      ],
      "metadata": {
        "id": "sec4UR3BcYxw"
      },
      "id": "sec4UR3BcYxw",
      "execution_count": null,
      "outputs": []
    },
    {
      "cell_type": "markdown",
      "source": [
        "##  LibRecommender"
      ],
      "metadata": {
        "id": "-28WG-vCQwYz"
      },
      "id": "-28WG-vCQwYz"
    },
    {
      "cell_type": "code",
      "source": [
        "!pip install numpy==1.22"
      ],
      "metadata": {
        "colab": {
          "base_uri": "https://localhost:8080/",
          "height": 286
        },
        "id": "zaMRVC0lz0UZ",
        "outputId": "3269fb9e-7d40-42bf-ed43-a3a4910dfd42"
      },
      "execution_count": null,
      "outputs": [
        {
          "output_type": "stream",
          "name": "stdout",
          "text": [
            "Looking in indexes: https://pypi.org/simple, https://us-python.pkg.dev/colab-wheels/public/simple/\n",
            "Collecting numpy==1.22\n",
            "  Downloading numpy-1.22.0-cp38-cp38-manylinux_2_17_x86_64.manylinux2014_x86_64.whl (16.8 MB)\n",
            "\u001b[2K     \u001b[90m━━━━━━━━━━━━━━━━━━━━━━━━━━━━━━━━━━━━━━━━\u001b[0m \u001b[32m16.8/16.8 MB\u001b[0m \u001b[31m47.4 MB/s\u001b[0m eta \u001b[36m0:00:00\u001b[0m\n",
            "\u001b[?25hInstalling collected packages: numpy\n",
            "  Attempting uninstall: numpy\n",
            "    Found existing installation: numpy 1.21.6\n",
            "    Uninstalling numpy-1.21.6:\n",
            "      Successfully uninstalled numpy-1.21.6\n",
            "Successfully installed numpy-1.22.0\n"
          ]
        },
        {
          "output_type": "display_data",
          "data": {
            "application/vnd.colab-display-data+json": {
              "pip_warning": {
                "packages": [
                  "numpy"
                ]
              }
            }
          },
          "metadata": {}
        }
      ],
      "id": "zaMRVC0lz0UZ"
    },
    {
      "cell_type": "code",
      "source": [
        "!pip install LibRecommender==0.12.0"
      ],
      "metadata": {
        "id": "F-HU8InaQura",
        "colab": {
          "base_uri": "https://localhost:8080/"
        },
        "outputId": "9156cfbd-daf4-4514-ddb7-97e747787e8b"
      },
      "id": "F-HU8InaQura",
      "execution_count": null,
      "outputs": [
        {
          "output_type": "stream",
          "name": "stdout",
          "text": [
            "Looking in indexes: https://pypi.org/simple, https://us-python.pkg.dev/colab-wheels/public/simple/\n",
            "Collecting LibRecommender==0.12.0\n",
            "  Downloading LibRecommender-0.12.0-cp38-cp38-manylinux_2_17_x86_64.manylinux2014_x86_64.whl (2.1 MB)\n",
            "\u001b[2K     \u001b[90m━━━━━━━━━━━━━━━━━━━━━━━━━━━━━━━━━━━━━━━━\u001b[0m \u001b[32m2.1/2.1 MB\u001b[0m \u001b[31m10.1 MB/s\u001b[0m eta \u001b[36m0:00:00\u001b[0m\n",
            "\u001b[?25hRequirement already satisfied: cython<3,>=0.29.0 in /usr/local/lib/python3.8/dist-packages (from LibRecommender==0.12.0) (0.29.33)\n",
            "Requirement already satisfied: tqdm in /usr/local/lib/python3.8/dist-packages (from LibRecommender==0.12.0) (4.64.1)\n",
            "Requirement already satisfied: scikit-learn>=0.20.0 in /usr/local/lib/python3.8/dist-packages (from LibRecommender==0.12.0) (1.0.2)\n",
            "Requirement already satisfied: numpy>=1.19.5 in /usr/local/lib/python3.8/dist-packages (from LibRecommender==0.12.0) (1.22.0)\n",
            "Collecting gensim>=4.0.0\n",
            "  Downloading gensim-4.3.0-cp38-cp38-manylinux_2_12_x86_64.manylinux2010_x86_64.whl (24.1 MB)\n",
            "\u001b[2K     \u001b[90m━━━━━━━━━━━━━━━━━━━━━━━━━━━━━━━━━━━━━━━━\u001b[0m \u001b[32m24.1/24.1 MB\u001b[0m \u001b[31m21.6 MB/s\u001b[0m eta \u001b[36m0:00:00\u001b[0m\n",
            "\u001b[?25hRequirement already satisfied: torch>=1.10.0 in /usr/local/lib/python3.8/dist-packages (from LibRecommender==0.12.0) (1.13.1+cu116)\n",
            "Requirement already satisfied: scipy>=1.2.1 in /usr/local/lib/python3.8/dist-packages (from LibRecommender==0.12.0) (1.7.3)\n",
            "Requirement already satisfied: pandas>=1.0.0 in /usr/local/lib/python3.8/dist-packages (from LibRecommender==0.12.0) (1.3.5)\n",
            "Requirement already satisfied: tensorflow>=1.15.0 in /usr/local/lib/python3.8/dist-packages (from LibRecommender==0.12.0) (2.9.2)\n",
            "Requirement already satisfied: smart-open>=1.8.1 in /usr/local/lib/python3.8/dist-packages (from gensim>=4.0.0->LibRecommender==0.12.0) (6.3.0)\n",
            "Collecting FuzzyTM>=0.4.0\n",
            "  Downloading FuzzyTM-2.0.5-py3-none-any.whl (29 kB)\n",
            "Requirement already satisfied: python-dateutil>=2.7.3 in /usr/local/lib/python3.8/dist-packages (from pandas>=1.0.0->LibRecommender==0.12.0) (2.8.2)\n",
            "Requirement already satisfied: pytz>=2017.3 in /usr/local/lib/python3.8/dist-packages (from pandas>=1.0.0->LibRecommender==0.12.0) (2022.7.1)\n",
            "Requirement already satisfied: threadpoolctl>=2.0.0 in /usr/local/lib/python3.8/dist-packages (from scikit-learn>=0.20.0->LibRecommender==0.12.0) (3.1.0)\n",
            "Requirement already satisfied: joblib>=0.11 in /usr/local/lib/python3.8/dist-packages (from scikit-learn>=0.20.0->LibRecommender==0.12.0) (1.2.0)\n",
            "Requirement already satisfied: opt-einsum>=2.3.2 in /usr/local/lib/python3.8/dist-packages (from tensorflow>=1.15.0->LibRecommender==0.12.0) (3.3.0)\n",
            "Requirement already satisfied: libclang>=13.0.0 in /usr/local/lib/python3.8/dist-packages (from tensorflow>=1.15.0->LibRecommender==0.12.0) (15.0.6.1)\n",
            "Requirement already satisfied: h5py>=2.9.0 in /usr/local/lib/python3.8/dist-packages (from tensorflow>=1.15.0->LibRecommender==0.12.0) (3.1.0)\n",
            "Requirement already satisfied: google-pasta>=0.1.1 in /usr/local/lib/python3.8/dist-packages (from tensorflow>=1.15.0->LibRecommender==0.12.0) (0.2.0)\n",
            "Requirement already satisfied: astunparse>=1.6.0 in /usr/local/lib/python3.8/dist-packages (from tensorflow>=1.15.0->LibRecommender==0.12.0) (1.6.3)\n",
            "Requirement already satisfied: tensorflow-estimator<2.10.0,>=2.9.0rc0 in /usr/local/lib/python3.8/dist-packages (from tensorflow>=1.15.0->LibRecommender==0.12.0) (2.9.0)\n",
            "Requirement already satisfied: typing-extensions>=3.6.6 in /usr/local/lib/python3.8/dist-packages (from tensorflow>=1.15.0->LibRecommender==0.12.0) (4.4.0)\n",
            "Requirement already satisfied: gast<=0.4.0,>=0.2.1 in /usr/local/lib/python3.8/dist-packages (from tensorflow>=1.15.0->LibRecommender==0.12.0) (0.4.0)\n",
            "Requirement already satisfied: packaging in /usr/local/lib/python3.8/dist-packages (from tensorflow>=1.15.0->LibRecommender==0.12.0) (23.0)\n",
            "Requirement already satisfied: termcolor>=1.1.0 in /usr/local/lib/python3.8/dist-packages (from tensorflow>=1.15.0->LibRecommender==0.12.0) (2.2.0)\n",
            "Requirement already satisfied: flatbuffers<2,>=1.12 in /usr/local/lib/python3.8/dist-packages (from tensorflow>=1.15.0->LibRecommender==0.12.0) (1.12)\n",
            "Requirement already satisfied: tensorboard<2.10,>=2.9 in /usr/local/lib/python3.8/dist-packages (from tensorflow>=1.15.0->LibRecommender==0.12.0) (2.9.1)\n",
            "Requirement already satisfied: absl-py>=1.0.0 in /usr/local/lib/python3.8/dist-packages (from tensorflow>=1.15.0->LibRecommender==0.12.0) (1.4.0)\n",
            "Requirement already satisfied: six>=1.12.0 in /usr/local/lib/python3.8/dist-packages (from tensorflow>=1.15.0->LibRecommender==0.12.0) (1.15.0)\n",
            "Requirement already satisfied: tensorflow-io-gcs-filesystem>=0.23.1 in /usr/local/lib/python3.8/dist-packages (from tensorflow>=1.15.0->LibRecommender==0.12.0) (0.30.0)\n",
            "Requirement already satisfied: wrapt>=1.11.0 in /usr/local/lib/python3.8/dist-packages (from tensorflow>=1.15.0->LibRecommender==0.12.0) (1.14.1)\n",
            "Requirement already satisfied: keras<2.10.0,>=2.9.0rc0 in /usr/local/lib/python3.8/dist-packages (from tensorflow>=1.15.0->LibRecommender==0.12.0) (2.9.0)\n",
            "Requirement already satisfied: keras-preprocessing>=1.1.1 in /usr/local/lib/python3.8/dist-packages (from tensorflow>=1.15.0->LibRecommender==0.12.0) (1.1.2)\n",
            "Requirement already satisfied: grpcio<2.0,>=1.24.3 in /usr/local/lib/python3.8/dist-packages (from tensorflow>=1.15.0->LibRecommender==0.12.0) (1.51.1)\n",
            "Requirement already satisfied: protobuf<3.20,>=3.9.2 in /usr/local/lib/python3.8/dist-packages (from tensorflow>=1.15.0->LibRecommender==0.12.0) (3.19.6)\n",
            "Requirement already satisfied: setuptools in /usr/local/lib/python3.8/dist-packages (from tensorflow>=1.15.0->LibRecommender==0.12.0) (57.4.0)\n",
            "Requirement already satisfied: wheel<1.0,>=0.23.0 in /usr/local/lib/python3.8/dist-packages (from astunparse>=1.6.0->tensorflow>=1.15.0->LibRecommender==0.12.0) (0.38.4)\n",
            "Collecting pyfume\n",
            "  Downloading pyFUME-0.2.25-py3-none-any.whl (67 kB)\n",
            "\u001b[2K     \u001b[90m━━━━━━━━━━━━━━━━━━━━━━━━━━━━━━━━━━━━━━━━\u001b[0m \u001b[32m67.1/67.1 KB\u001b[0m \u001b[31m8.1 MB/s\u001b[0m eta \u001b[36m0:00:00\u001b[0m\n",
            "\u001b[?25hRequirement already satisfied: google-auth<3,>=1.6.3 in /usr/local/lib/python3.8/dist-packages (from tensorboard<2.10,>=2.9->tensorflow>=1.15.0->LibRecommender==0.12.0) (2.16.0)\n",
            "Requirement already satisfied: google-auth-oauthlib<0.5,>=0.4.1 in /usr/local/lib/python3.8/dist-packages (from tensorboard<2.10,>=2.9->tensorflow>=1.15.0->LibRecommender==0.12.0) (0.4.6)\n",
            "Requirement already satisfied: requests<3,>=2.21.0 in /usr/local/lib/python3.8/dist-packages (from tensorboard<2.10,>=2.9->tensorflow>=1.15.0->LibRecommender==0.12.0) (2.25.1)\n",
            "Requirement already satisfied: markdown>=2.6.8 in /usr/local/lib/python3.8/dist-packages (from tensorboard<2.10,>=2.9->tensorflow>=1.15.0->LibRecommender==0.12.0) (3.4.1)\n",
            "Requirement already satisfied: tensorboard-data-server<0.7.0,>=0.6.0 in /usr/local/lib/python3.8/dist-packages (from tensorboard<2.10,>=2.9->tensorflow>=1.15.0->LibRecommender==0.12.0) (0.6.1)\n",
            "Requirement already satisfied: werkzeug>=1.0.1 in /usr/local/lib/python3.8/dist-packages (from tensorboard<2.10,>=2.9->tensorflow>=1.15.0->LibRecommender==0.12.0) (1.0.1)\n",
            "Requirement already satisfied: tensorboard-plugin-wit>=1.6.0 in /usr/local/lib/python3.8/dist-packages (from tensorboard<2.10,>=2.9->tensorflow>=1.15.0->LibRecommender==0.12.0) (1.8.1)\n",
            "Requirement already satisfied: rsa<5,>=3.1.4 in /usr/local/lib/python3.8/dist-packages (from google-auth<3,>=1.6.3->tensorboard<2.10,>=2.9->tensorflow>=1.15.0->LibRecommender==0.12.0) (4.9)\n",
            "Requirement already satisfied: pyasn1-modules>=0.2.1 in /usr/local/lib/python3.8/dist-packages (from google-auth<3,>=1.6.3->tensorboard<2.10,>=2.9->tensorflow>=1.15.0->LibRecommender==0.12.0) (0.2.8)\n",
            "Requirement already satisfied: cachetools<6.0,>=2.0.0 in /usr/local/lib/python3.8/dist-packages (from google-auth<3,>=1.6.3->tensorboard<2.10,>=2.9->tensorflow>=1.15.0->LibRecommender==0.12.0) (5.3.0)\n",
            "Requirement already satisfied: requests-oauthlib>=0.7.0 in /usr/local/lib/python3.8/dist-packages (from google-auth-oauthlib<0.5,>=0.4.1->tensorboard<2.10,>=2.9->tensorflow>=1.15.0->LibRecommender==0.12.0) (1.3.1)\n",
            "Requirement already satisfied: importlib-metadata>=4.4 in /usr/local/lib/python3.8/dist-packages (from markdown>=2.6.8->tensorboard<2.10,>=2.9->tensorflow>=1.15.0->LibRecommender==0.12.0) (6.0.0)\n",
            "Requirement already satisfied: urllib3<1.27,>=1.21.1 in /usr/local/lib/python3.8/dist-packages (from requests<3,>=2.21.0->tensorboard<2.10,>=2.9->tensorflow>=1.15.0->LibRecommender==0.12.0) (1.24.3)\n",
            "Requirement already satisfied: chardet<5,>=3.0.2 in /usr/local/lib/python3.8/dist-packages (from requests<3,>=2.21.0->tensorboard<2.10,>=2.9->tensorflow>=1.15.0->LibRecommender==0.12.0) (4.0.0)\n",
            "Requirement already satisfied: certifi>=2017.4.17 in /usr/local/lib/python3.8/dist-packages (from requests<3,>=2.21.0->tensorboard<2.10,>=2.9->tensorflow>=1.15.0->LibRecommender==0.12.0) (2022.12.7)\n",
            "Requirement already satisfied: idna<3,>=2.5 in /usr/local/lib/python3.8/dist-packages (from requests<3,>=2.21.0->tensorboard<2.10,>=2.9->tensorflow>=1.15.0->LibRecommender==0.12.0) (2.10)\n",
            "Collecting simpful\n",
            "  Downloading simpful-2.9.0-py3-none-any.whl (30 kB)\n",
            "Collecting fst-pso\n",
            "  Downloading fst-pso-1.8.1.tar.gz (18 kB)\n",
            "  Preparing metadata (setup.py) ... \u001b[?25l\u001b[?25hdone\n",
            "Requirement already satisfied: zipp>=0.5 in /usr/local/lib/python3.8/dist-packages (from importlib-metadata>=4.4->markdown>=2.6.8->tensorboard<2.10,>=2.9->tensorflow>=1.15.0->LibRecommender==0.12.0) (3.12.0)\n",
            "Requirement already satisfied: pyasn1<0.5.0,>=0.4.6 in /usr/local/lib/python3.8/dist-packages (from pyasn1-modules>=0.2.1->google-auth<3,>=1.6.3->tensorboard<2.10,>=2.9->tensorflow>=1.15.0->LibRecommender==0.12.0) (0.4.8)\n",
            "Requirement already satisfied: oauthlib>=3.0.0 in /usr/local/lib/python3.8/dist-packages (from requests-oauthlib>=0.7.0->google-auth-oauthlib<0.5,>=0.4.1->tensorboard<2.10,>=2.9->tensorflow>=1.15.0->LibRecommender==0.12.0) (3.2.2)\n",
            "Collecting miniful\n",
            "  Downloading miniful-0.0.6.tar.gz (2.8 kB)\n",
            "  Preparing metadata (setup.py) ... \u001b[?25l\u001b[?25hdone\n",
            "Building wheels for collected packages: fst-pso, miniful\n",
            "  Building wheel for fst-pso (setup.py) ... \u001b[?25l\u001b[?25hdone\n",
            "  Created wheel for fst-pso: filename=fst_pso-1.8.1-py3-none-any.whl size=20443 sha256=b962a05c63714cafc276d2c4f3410dd3f7eb73b401c1b40d1dfb9c23e163341b\n",
            "  Stored in directory: /root/.cache/pip/wheels/6a/65/c4/d27eeee9ba3fc150a0dae150519591103b9e0dbffde3ae77dc\n",
            "  Building wheel for miniful (setup.py) ... \u001b[?25l\u001b[?25hdone\n",
            "  Created wheel for miniful: filename=miniful-0.0.6-py3-none-any.whl size=3530 sha256=488e4549217b9b46294b5cbc21522a6419cdc1c7c0afb7245b00efc8e7c5bd6c\n",
            "  Stored in directory: /root/.cache/pip/wheels/ba/d9/a0/ddd93af16d5855dd9bad417623e70948fdac119d1d34fb17c8\n",
            "Successfully built fst-pso miniful\n",
            "Installing collected packages: simpful, miniful, fst-pso, pyfume, FuzzyTM, gensim, LibRecommender\n",
            "  Attempting uninstall: gensim\n",
            "    Found existing installation: gensim 3.6.0\n",
            "    Uninstalling gensim-3.6.0:\n",
            "      Successfully uninstalled gensim-3.6.0\n",
            "Successfully installed FuzzyTM-2.0.5 LibRecommender-0.12.0 fst-pso-1.8.1 gensim-4.3.0 miniful-0.0.6 pyfume-0.2.25 simpful-2.9.0\n"
          ]
        }
      ]
    },
    {
      "cell_type": "code",
      "source": [
        "\n",
        "import tensorflow as tf\n",
        "\n",
        "from libreco.data import DatasetFeat, DataInfo\n",
        "from libreco.data import split_by_ratio_chrono,split_by_ratio\n",
        "from libreco.algorithms import DeepFM,YouTubeRanking\n",
        "from libreco.evaluation import evaluate\n",
        "from libreco.prediction import predict_data_with_feats"
      ],
      "metadata": {
        "id": "dw6xoobtRzyh",
        "colab": {
          "base_uri": "https://localhost:8080/"
        },
        "outputId": "7d4bcd3d-c06d-4d04-f7ae-adf78cc808c7"
      },
      "id": "dw6xoobtRzyh",
      "execution_count": null,
      "outputs": [
        {
          "output_type": "stream",
          "name": "stderr",
          "text": [
            "WARNING:tensorflow:From /usr/local/lib/python3.8/dist-packages/tensorflow/python/compat/v2_compat.py:107: disable_resource_variables (from tensorflow.python.ops.variable_scope) is deprecated and will be removed in a future version.\n",
            "Instructions for updating:\n",
            "non-resource variables are not supported in the long term\n"
          ]
        }
      ]
    },
    {
      "cell_type": "code",
      "source": [],
      "metadata": {
        "id": "EM4_QOT4UaWR"
      },
      "id": "EM4_QOT4UaWR",
      "execution_count": null,
      "outputs": []
    },
    {
      "cell_type": "code",
      "source": [
        "\n",
        "col_user = [\"user\"]\n",
        "col_item = [\"item\"]\n",
        "col_dense = [\"label\"]"
      ],
      "metadata": {
        "id": "n1F600UuQ_nR"
      },
      "id": "n1F600UuQ_nR",
      "execution_count": null,
      "outputs": []
    },
    {
      "cell_type": "code",
      "source": [
        "train, test = split_by_ratio(data, test_size=0.2)"
      ],
      "metadata": {
        "id": "nDRztFi4RxfK"
      },
      "id": "nDRztFi4RxfK",
      "execution_count": null,
      "outputs": []
    },
    {
      "cell_type": "code",
      "source": [
        "train_data, data_info = DatasetFeat.build_trainset(\n",
        "        train,\n",
        "       \n",
        "        shuffle=False,\n",
        "    )"
      ],
      "metadata": {
        "id": "HY7pFM-YUy7U"
      },
      "id": "HY7pFM-YUy7U",
      "execution_count": null,
      "outputs": []
    },
    {
      "cell_type": "code",
      "source": [
        "test_data = DatasetFeat.build_testset(test, shuffle=False)"
      ],
      "metadata": {
        "id": "OVcuzjuoUy-K"
      },
      "id": "OVcuzjuoUy-K",
      "execution_count": null,
      "outputs": []
    },
    {
      "cell_type": "code",
      "source": [
        "eval_data = DatasetFeat.build_testset(test)\n",
        "print(data_info)\n"
      ],
      "metadata": {
        "colab": {
          "base_uri": "https://localhost:8080/"
        },
        "id": "rPbo5wNYWBIC",
        "outputId": "b922a547-e1c1-4be6-b7c7-bf89658d7cda"
      },
      "id": "rPbo5wNYWBIC",
      "execution_count": null,
      "outputs": [
        {
          "output_type": "stream",
          "name": "stdout",
          "text": [
            "n_users: 162541, n_items: 37970, data sparsity: 0.3241 %\n"
          ]
        }
      ]
    },
    {
      "cell_type": "code",
      "source": [
        "import torch\n",
        "from libreco.data import split_by_ratio_chrono, DatasetPure, DatasetFeat\n",
        "from libreco.algorithms import (\n",
        "   ALS\n",
        ")\n",
        "\n",
        "\n",
        "    # # only do negative sampling on eval data\n",
        "    # eval_data.build_negative_samples(\n",
        "    #     data_info, item_gen_mode=\"random\", num_neg=1, seed=2222\n",
        "    # )\n",
        "metrics = [  \n",
        "        \"precision\",\n",
        "        \"recall\",\n",
        "        \"map\",\n",
        "        \"ndcg\",\n",
        "    ]\n"
      ],
      "metadata": {
        "id": "yWN-zHhKsZgg"
      },
      "id": "yWN-zHhKsZgg",
      "execution_count": null,
      "outputs": []
    },
    {
      "cell_type": "markdown",
      "source": [
        "## als working with 25M"
      ],
      "metadata": {
        "id": "A2XDU2gcvO-X"
      },
      "id": "A2XDU2gcvO-X"
    },
    {
      "cell_type": "code",
      "source": [
        "train_data.build_negative_samples(\n",
        "        data_info, item_gen_mode=\"random\", num_neg=1, seed=2020\n",
        "    )\n",
        "eval_data.build_negative_samples(\n",
        "        data_info, item_gen_mode=\"random\", num_neg=1, seed=2222\n",
        "    )"
      ],
      "metadata": {
        "colab": {
          "base_uri": "https://localhost:8080/"
        },
        "id": "0dtMiQZOy0zs",
        "outputId": "7ff760a6-45f4-43b4-f038-2928c3104347"
      },
      "id": "0dtMiQZOy0zs",
      "execution_count": null,
      "outputs": [
        {
          "output_type": "stream",
          "name": "stdout",
          "text": [
            "random neg item sampling elapsed: 20.864s\n",
            "random neg item sampling elapsed: 5.937s\n"
          ]
        }
      ]
    },
    {
      "cell_type": "code",
      "source": [
        "als = ALS(\n",
        "        \"ranking\",\n",
        "        data_info,\n",
        "        embed_size=16,\n",
        "        n_epochs=2,\n",
        "        reg=5.0,\n",
        "        alpha=10,\n",
        "        use_cg=False,\n",
        "        n_threads=1,\n",
        "        seed=42,\n",
        "    )\n",
        "als.fit(\n",
        "        train_data,\n",
        "        verbose=2,\n",
        "        eval_data=eval_data,\n",
        "        metrics=metrics,\n",
        "    )"
      ],
      "metadata": {
        "colab": {
          "base_uri": "https://localhost:8080/"
        },
        "id": "LgmG0om8dDDA",
        "outputId": "d17700d5-93cc-47e8-ff95-a4fc84b736b8"
      },
      "id": "LgmG0om8dDDA",
      "execution_count": null,
      "outputs": [
        {
          "output_type": "stream",
          "name": "stdout",
          "text": [
            "Training start time: \u001b[35m2023-02-05 08:58:13\u001b[0m\n",
            "Epoch 1 elapsed: 15.005s\n"
          ]
        },
        {
          "output_type": "stream",
          "name": "stderr",
          "text": [
            "eval_rec: 100%|██████████| 162519/162519 [04:23<00:00, 616.98it/s]\n"
          ]
        },
        {
          "output_type": "stream",
          "name": "stdout",
          "text": [
            "\t eval precision@10: 0.0279\n",
            "\t eval recall@10: 0.0190\n",
            "\t eval map@10: 0.0604\n",
            "\t eval ndcg@10: 0.0884\n",
            "==============================\n",
            "Epoch 2 elapsed: 14.657s\n"
          ]
        },
        {
          "output_type": "stream",
          "name": "stderr",
          "text": [
            "eval_rec: 100%|██████████| 162519/162519 [04:07<00:00, 655.48it/s]\n"
          ]
        },
        {
          "output_type": "stream",
          "name": "stdout",
          "text": [
            "\t eval precision@10: 0.0127\n",
            "\t eval recall@10: 0.0141\n",
            "\t eval map@10: 0.0241\n",
            "\t eval ndcg@10: 0.0382\n",
            "==============================\n"
          ]
        }
      ]
    }
  ],
  "metadata": {
    "kernelspec": {
      "display_name": "Python 3",
      "language": "python",
      "name": "python3"
    },
    "language_info": {
      "codemirror_mode": {
        "name": "ipython",
        "version": 3
      },
      "file_extension": ".py",
      "mimetype": "text/x-python",
      "name": "python",
      "nbconvert_exporter": "python",
      "pygments_lexer": "ipython3",
      "version": "3.6.5"
    },
    "colab": {
      "provenance": [],
      "collapsed_sections": [
        "ohsC49cVr-Ox"
      ],
      "machine_shape": "hm"
    },
    "gpuClass": "standard",
    "accelerator": "GPU"
  },
  "nbformat": 4,
  "nbformat_minor": 5
}