{
  "cells": [
    {
      "cell_type": "code",
      "source": [
        "gpu_info = !nvidia-smi\n",
        "gpu_info = '\\n'.join(gpu_info)\n",
        "if gpu_info.find('failed') >= 0:\n",
        "  print('Not connected to a GPU')\n",
        "else:\n",
        "  print(gpu_info)"
      ],
      "metadata": {
        "colab": {
          "base_uri": "https://localhost:8080/"
        },
        "id": "_QphkgcDcwxr",
        "outputId": "02d4c0cc-8033-4189-c6f3-5e98cc8b0b1c"
      },
      "id": "_QphkgcDcwxr",
      "execution_count": null,
      "outputs": [
        {
          "output_type": "stream",
          "name": "stdout",
          "text": [
            "Thu Feb  2 20:08:32 2023       \n",
            "+-----------------------------------------------------------------------------+\n",
            "| NVIDIA-SMI 510.47.03    Driver Version: 510.47.03    CUDA Version: 11.6     |\n",
            "|-------------------------------+----------------------+----------------------+\n",
            "| GPU  Name        Persistence-M| Bus-Id        Disp.A | Volatile Uncorr. ECC |\n",
            "| Fan  Temp  Perf  Pwr:Usage/Cap|         Memory-Usage | GPU-Util  Compute M. |\n",
            "|                               |                      |               MIG M. |\n",
            "|===============================+======================+======================|\n",
            "|   0  Tesla T4            Off  | 00000000:00:04.0 Off |                    0 |\n",
            "| N/A   47C    P8    13W /  70W |      3MiB / 15360MiB |      0%      Default |\n",
            "|                               |                      |                  N/A |\n",
            "+-------------------------------+----------------------+----------------------+\n",
            "                                                                               \n",
            "+-----------------------------------------------------------------------------+\n",
            "| Processes:                                                                  |\n",
            "|  GPU   GI   CI        PID   Type   Process name                  GPU Memory |\n",
            "|        ID   ID                                                   Usage      |\n",
            "|=============================================================================|\n",
            "|  No running processes found                                                 |\n",
            "+-----------------------------------------------------------------------------+\n"
          ]
        }
      ]
    },
    {
      "cell_type": "code",
      "source": [
        "from psutil import virtual_memory\n",
        "ram_gb = virtual_memory().total / 1e9\n",
        "print('Your runtime has {:.1f} gigabytes of available RAM\\n'.format(ram_gb))\n",
        "\n",
        "if ram_gb < 20:\n",
        "  print('Not using a high-RAM runtime')\n",
        "else:\n",
        "  print('You are using a high-RAM runtime!')"
      ],
      "metadata": {
        "colab": {
          "base_uri": "https://localhost:8080/"
        },
        "id": "Kq_W9JJDczFA",
        "outputId": "ed3f1fe5-d4fe-4c85-dee1-a3b80b40a88a"
      },
      "id": "Kq_W9JJDczFA",
      "execution_count": null,
      "outputs": [
        {
          "output_type": "stream",
          "name": "stdout",
          "text": [
            "Your runtime has 27.3 gigabytes of available RAM\n",
            "\n",
            "You are using a high-RAM runtime!\n"
          ]
        }
      ]
    },
    {
      "cell_type": "code",
      "execution_count": null,
      "id": "84eddad3",
      "metadata": {
        "id": "84eddad3"
      },
      "outputs": [],
      "source": [
        "from datetime import datetime\n",
        "import os\n",
        "import matplotlib\n",
        "import pandas as pd\n",
        "import numpy as np\n",
        "import matplotlib.pyplot as plt\n",
        "import seaborn as sns\n",
        "sns.set_style('whitegrid')\n",
        "\n",
        "from scipy import sparse\n",
        "from scipy.sparse import csc_matrix\n",
        "from sklearn.decomposition import TruncatedSVD\n",
        "\n",
        "np.random.seed(0)"
      ]
    },
    {
      "cell_type": "markdown",
      "id": "85495bf1",
      "metadata": {
        "id": "85495bf1"
      },
      "source": [
        "##  data set\n"
      ]
    },
    {
      "cell_type": "markdown",
      "metadata": {
        "id": "ohsC49cVr-Ox"
      },
      "source": [
        "### Setup and Load dataset"
      ],
      "id": "ohsC49cVr-Ox"
    },
    {
      "cell_type": "code",
      "execution_count": null,
      "metadata": {
        "id": "DjzX44HQr-Ox"
      },
      "outputs": [],
      "source": [
        "\n",
        "import pandas as pd\n",
        "import os\n",
        "from os.path import exists\n",
        "import zipfile\n",
        "import numpy as np"
      ],
      "id": "DjzX44HQr-Ox"
    },
    {
      "cell_type": "code",
      "source": [
        "!pip install gdown"
      ],
      "metadata": {
        "colab": {
          "base_uri": "https://localhost:8080/"
        },
        "outputId": "a7d2d426-b897-4c3b-f6ca-b742ef89ec59",
        "id": "woePr-2jr-Ox"
      },
      "execution_count": null,
      "outputs": [
        {
          "output_type": "stream",
          "name": "stdout",
          "text": [
            "Looking in indexes: https://pypi.org/simple, https://us-python.pkg.dev/colab-wheels/public/simple/\n",
            "Requirement already satisfied: gdown in /usr/local/lib/python3.8/dist-packages (4.4.0)\n",
            "Requirement already satisfied: tqdm in /usr/local/lib/python3.8/dist-packages (from gdown) (4.64.1)\n",
            "Requirement already satisfied: filelock in /usr/local/lib/python3.8/dist-packages (from gdown) (3.9.0)\n",
            "Requirement already satisfied: beautifulsoup4 in /usr/local/lib/python3.8/dist-packages (from gdown) (4.6.3)\n",
            "Requirement already satisfied: six in /usr/local/lib/python3.8/dist-packages (from gdown) (1.15.0)\n",
            "Requirement already satisfied: requests[socks] in /usr/local/lib/python3.8/dist-packages (from gdown) (2.25.1)\n",
            "Requirement already satisfied: idna<3,>=2.5 in /usr/local/lib/python3.8/dist-packages (from requests[socks]->gdown) (2.10)\n",
            "Requirement already satisfied: certifi>=2017.4.17 in /usr/local/lib/python3.8/dist-packages (from requests[socks]->gdown) (2022.12.7)\n",
            "Requirement already satisfied: chardet<5,>=3.0.2 in /usr/local/lib/python3.8/dist-packages (from requests[socks]->gdown) (4.0.0)\n",
            "Requirement already satisfied: urllib3<1.27,>=1.21.1 in /usr/local/lib/python3.8/dist-packages (from requests[socks]->gdown) (1.24.3)\n",
            "Requirement already satisfied: PySocks!=1.5.7,>=1.5.6 in /usr/local/lib/python3.8/dist-packages (from requests[socks]->gdown) (1.7.1)\n"
          ]
        }
      ],
      "id": "woePr-2jr-Ox"
    },
    {
      "cell_type": "code",
      "source": [],
      "metadata": {
        "id": "dGS3UDKhw7TR"
      },
      "execution_count": null,
      "outputs": [],
      "id": "dGS3UDKhw7TR"
    },
    {
      "cell_type": "code",
      "execution_count": null,
      "metadata": {
        "colab": {
          "base_uri": "https://localhost:8080/"
        },
        "id": "C1r8Sraf7rPj",
        "outputId": "1b4d4741-cd28-456a-c420-47964728e47b"
      },
      "outputs": [
        {
          "output_type": "stream",
          "name": "stdout",
          "text": [
            "Continuing in background, pid 34694.\n",
            "Output will be written to ‘wget-log.5’.\n"
          ]
        }
      ],
      "source": [
        "!wget  -b  https://files.grouplens.org/datasets/movielens/ml-25m.zip"
      ],
      "id": "C1r8Sraf7rPj"
    },
    {
      "cell_type": "code",
      "source": [
        "!unzip -o \"ml-25m.zip\"  -d  \"/content\""
      ],
      "metadata": {
        "colab": {
          "base_uri": "https://localhost:8080/"
        },
        "outputId": "76934bd5-d475-422c-bf87-7894a3173a3e",
        "id": "zVe-QzFtyZcR"
      },
      "execution_count": null,
      "outputs": [
        {
          "output_type": "stream",
          "name": "stdout",
          "text": [
            "Archive:  ml-25m.zip\n",
            "  inflating: /content/ml-25m/tags.csv  \n",
            "  inflating: /content/ml-25m/links.csv  \n",
            "  inflating: /content/ml-25m/README.txt  \n",
            "  inflating: /content/ml-25m/ratings.csv  \n",
            "  inflating: /content/ml-25m/genome-tags.csv  \n",
            "  inflating: /content/ml-25m/genome-scores.csv  \n",
            "  inflating: /content/ml-25m/movies.csv  \n"
          ]
        }
      ],
      "id": "zVe-QzFtyZcR"
    },
    {
      "cell_type": "code",
      "source": [
        "data = pd.read_csv('ml-25m/ratings.csv')#, sep='::', header=0, skipinitialspace=True)\n",
        "data.dropna(inplace=True)\n"
      ],
      "metadata": {
        "id": "MnT-Vt58cTqQ"
      },
      "id": "MnT-Vt58cTqQ",
      "execution_count": null,
      "outputs": []
    },
    {
      "cell_type": "code",
      "source": [
        "data.columns =[ 'user', 'item', 'label','timestamp']"
      ],
      "metadata": {
        "id": "sec4UR3BcYxw"
      },
      "id": "sec4UR3BcYxw",
      "execution_count": null,
      "outputs": []
    },
    {
      "cell_type": "code",
      "source": [
        "!pip install pandas openpyxl"
      ],
      "metadata": {
        "colab": {
          "base_uri": "https://localhost:8080/"
        },
        "outputId": "64d8faac-e9df-4eb3-fa33-43806ae2e4bb",
        "id": "kL5ASmbGyZcS"
      },
      "execution_count": null,
      "outputs": [
        {
          "output_type": "stream",
          "name": "stdout",
          "text": [
            "Looking in indexes: https://pypi.org/simple, https://us-python.pkg.dev/colab-wheels/public/simple/\n",
            "Requirement already satisfied: pandas in /usr/local/lib/python3.8/dist-packages (1.3.5)\n",
            "Requirement already satisfied: openpyxl in /usr/local/lib/python3.8/dist-packages (3.0.10)\n",
            "Requirement already satisfied: numpy>=1.17.3 in /usr/local/lib/python3.8/dist-packages (from pandas) (1.22.4)\n",
            "Requirement already satisfied: pytz>=2017.3 in /usr/local/lib/python3.8/dist-packages (from pandas) (2022.7.1)\n",
            "Requirement already satisfied: python-dateutil>=2.7.3 in /usr/local/lib/python3.8/dist-packages (from pandas) (2.8.2)\n",
            "Requirement already satisfied: et-xmlfile in /usr/local/lib/python3.8/dist-packages (from openpyxl) (1.1.0)\n",
            "Requirement already satisfied: six>=1.5 in /usr/local/lib/python3.8/dist-packages (from python-dateutil>=2.7.3->pandas) (1.15.0)\n"
          ]
        }
      ],
      "id": "kL5ASmbGyZcS"
    },
    {
      "cell_type": "markdown",
      "source": [
        "## graphsage LibRecommender"
      ],
      "metadata": {
        "id": "-28WG-vCQwYz"
      },
      "id": "-28WG-vCQwYz"
    },
    {
      "cell_type": "code",
      "source": [
        "!pip install LibRecommender==0.12.0"
      ],
      "metadata": {
        "colab": {
          "base_uri": "https://localhost:8080/"
        },
        "id": "F-HU8InaQura",
        "outputId": "453bb170-15f4-4137-9b64-8806e3f636c2"
      },
      "id": "F-HU8InaQura",
      "execution_count": null,
      "outputs": [
        {
          "output_type": "stream",
          "name": "stdout",
          "text": [
            "Looking in indexes: https://pypi.org/simple, https://us-python.pkg.dev/colab-wheels/public/simple/\n",
            "Requirement already satisfied: LibRecommender==0.12.0 in /usr/local/lib/python3.8/dist-packages (0.12.0)\n",
            "Requirement already satisfied: numpy>=1.19.5 in /usr/local/lib/python3.8/dist-packages (from LibRecommender==0.12.0) (1.22.4)\n",
            "Requirement already satisfied: scikit-learn>=0.20.0 in /usr/local/lib/python3.8/dist-packages (from LibRecommender==0.12.0) (1.0.2)\n",
            "Requirement already satisfied: torch>=1.10.0 in /usr/local/lib/python3.8/dist-packages (from LibRecommender==0.12.0) (1.13.1+cu116)\n",
            "Requirement already satisfied: cython<3,>=0.29.0 in /usr/local/lib/python3.8/dist-packages (from LibRecommender==0.12.0) (0.29.33)\n",
            "Requirement already satisfied: tensorflow>=1.15.0 in /usr/local/lib/python3.8/dist-packages (from LibRecommender==0.12.0) (2.9.2)\n",
            "Requirement already satisfied: scipy>=1.2.1 in /usr/local/lib/python3.8/dist-packages (from LibRecommender==0.12.0) (1.7.3)\n",
            "Requirement already satisfied: gensim>=4.0.0 in /usr/local/lib/python3.8/dist-packages (from LibRecommender==0.12.0) (4.3.0)\n",
            "Requirement already satisfied: tqdm in /usr/local/lib/python3.8/dist-packages (from LibRecommender==0.12.0) (4.64.1)\n",
            "Requirement already satisfied: pandas>=1.0.0 in /usr/local/lib/python3.8/dist-packages (from LibRecommender==0.12.0) (1.3.5)\n",
            "Requirement already satisfied: smart-open>=1.8.1 in /usr/local/lib/python3.8/dist-packages (from gensim>=4.0.0->LibRecommender==0.12.0) (6.3.0)\n",
            "Requirement already satisfied: FuzzyTM>=0.4.0 in /usr/local/lib/python3.8/dist-packages (from gensim>=4.0.0->LibRecommender==0.12.0) (2.0.5)\n",
            "Requirement already satisfied: python-dateutil>=2.7.3 in /usr/local/lib/python3.8/dist-packages (from pandas>=1.0.0->LibRecommender==0.12.0) (2.8.2)\n",
            "Requirement already satisfied: pytz>=2017.3 in /usr/local/lib/python3.8/dist-packages (from pandas>=1.0.0->LibRecommender==0.12.0) (2022.7.1)\n",
            "Requirement already satisfied: threadpoolctl>=2.0.0 in /usr/local/lib/python3.8/dist-packages (from scikit-learn>=0.20.0->LibRecommender==0.12.0) (3.1.0)\n",
            "Requirement already satisfied: joblib>=0.11 in /usr/local/lib/python3.8/dist-packages (from scikit-learn>=0.20.0->LibRecommender==0.12.0) (1.2.0)\n",
            "Requirement already satisfied: tensorflow-io-gcs-filesystem>=0.23.1 in /usr/local/lib/python3.8/dist-packages (from tensorflow>=1.15.0->LibRecommender==0.12.0) (0.30.0)\n",
            "Requirement already satisfied: opt-einsum>=2.3.2 in /usr/local/lib/python3.8/dist-packages (from tensorflow>=1.15.0->LibRecommender==0.12.0) (3.3.0)\n",
            "Requirement already satisfied: grpcio<2.0,>=1.24.3 in /usr/local/lib/python3.8/dist-packages (from tensorflow>=1.15.0->LibRecommender==0.12.0) (1.51.1)\n",
            "Requirement already satisfied: keras-preprocessing>=1.1.1 in /usr/local/lib/python3.8/dist-packages (from tensorflow>=1.15.0->LibRecommender==0.12.0) (1.1.2)\n",
            "Requirement already satisfied: libclang>=13.0.0 in /usr/local/lib/python3.8/dist-packages (from tensorflow>=1.15.0->LibRecommender==0.12.0) (15.0.6.1)\n",
            "Requirement already satisfied: gast<=0.4.0,>=0.2.1 in /usr/local/lib/python3.8/dist-packages (from tensorflow>=1.15.0->LibRecommender==0.12.0) (0.4.0)\n",
            "Requirement already satisfied: protobuf<3.20,>=3.9.2 in /usr/local/lib/python3.8/dist-packages (from tensorflow>=1.15.0->LibRecommender==0.12.0) (3.19.6)\n",
            "Requirement already satisfied: flatbuffers<2,>=1.12 in /usr/local/lib/python3.8/dist-packages (from tensorflow>=1.15.0->LibRecommender==0.12.0) (1.12)\n",
            "Requirement already satisfied: keras<2.10.0,>=2.9.0rc0 in /usr/local/lib/python3.8/dist-packages (from tensorflow>=1.15.0->LibRecommender==0.12.0) (2.9.0)\n",
            "Requirement already satisfied: typing-extensions>=3.6.6 in /usr/local/lib/python3.8/dist-packages (from tensorflow>=1.15.0->LibRecommender==0.12.0) (4.4.0)\n",
            "Requirement already satisfied: tensorflow-estimator<2.10.0,>=2.9.0rc0 in /usr/local/lib/python3.8/dist-packages (from tensorflow>=1.15.0->LibRecommender==0.12.0) (2.9.0)\n",
            "Requirement already satisfied: google-pasta>=0.1.1 in /usr/local/lib/python3.8/dist-packages (from tensorflow>=1.15.0->LibRecommender==0.12.0) (0.2.0)\n",
            "Requirement already satisfied: packaging in /usr/local/lib/python3.8/dist-packages (from tensorflow>=1.15.0->LibRecommender==0.12.0) (23.0)\n",
            "Requirement already satisfied: absl-py>=1.0.0 in /usr/local/lib/python3.8/dist-packages (from tensorflow>=1.15.0->LibRecommender==0.12.0) (1.4.0)\n",
            "Requirement already satisfied: tensorboard<2.10,>=2.9 in /usr/local/lib/python3.8/dist-packages (from tensorflow>=1.15.0->LibRecommender==0.12.0) (2.9.1)\n",
            "Requirement already satisfied: setuptools in /usr/local/lib/python3.8/dist-packages (from tensorflow>=1.15.0->LibRecommender==0.12.0) (57.4.0)\n",
            "Requirement already satisfied: h5py>=2.9.0 in /usr/local/lib/python3.8/dist-packages (from tensorflow>=1.15.0->LibRecommender==0.12.0) (3.1.0)\n",
            "Requirement already satisfied: wrapt>=1.11.0 in /usr/local/lib/python3.8/dist-packages (from tensorflow>=1.15.0->LibRecommender==0.12.0) (1.14.1)\n",
            "Requirement already satisfied: astunparse>=1.6.0 in /usr/local/lib/python3.8/dist-packages (from tensorflow>=1.15.0->LibRecommender==0.12.0) (1.6.3)\n",
            "Requirement already satisfied: six>=1.12.0 in /usr/local/lib/python3.8/dist-packages (from tensorflow>=1.15.0->LibRecommender==0.12.0) (1.15.0)\n",
            "Requirement already satisfied: termcolor>=1.1.0 in /usr/local/lib/python3.8/dist-packages (from tensorflow>=1.15.0->LibRecommender==0.12.0) (2.2.0)\n",
            "Requirement already satisfied: wheel<1.0,>=0.23.0 in /usr/local/lib/python3.8/dist-packages (from astunparse>=1.6.0->tensorflow>=1.15.0->LibRecommender==0.12.0) (0.38.4)\n",
            "Requirement already satisfied: pyfume in /usr/local/lib/python3.8/dist-packages (from FuzzyTM>=0.4.0->gensim>=4.0.0->LibRecommender==0.12.0) (0.2.25)\n",
            "Requirement already satisfied: requests<3,>=2.21.0 in /usr/local/lib/python3.8/dist-packages (from tensorboard<2.10,>=2.9->tensorflow>=1.15.0->LibRecommender==0.12.0) (2.25.1)\n",
            "Requirement already satisfied: markdown>=2.6.8 in /usr/local/lib/python3.8/dist-packages (from tensorboard<2.10,>=2.9->tensorflow>=1.15.0->LibRecommender==0.12.0) (3.4.1)\n",
            "Requirement already satisfied: werkzeug>=1.0.1 in /usr/local/lib/python3.8/dist-packages (from tensorboard<2.10,>=2.9->tensorflow>=1.15.0->LibRecommender==0.12.0) (1.0.1)\n",
            "Requirement already satisfied: tensorboard-data-server<0.7.0,>=0.6.0 in /usr/local/lib/python3.8/dist-packages (from tensorboard<2.10,>=2.9->tensorflow>=1.15.0->LibRecommender==0.12.0) (0.6.1)\n",
            "Requirement already satisfied: google-auth-oauthlib<0.5,>=0.4.1 in /usr/local/lib/python3.8/dist-packages (from tensorboard<2.10,>=2.9->tensorflow>=1.15.0->LibRecommender==0.12.0) (0.4.6)\n",
            "Requirement already satisfied: google-auth<3,>=1.6.3 in /usr/local/lib/python3.8/dist-packages (from tensorboard<2.10,>=2.9->tensorflow>=1.15.0->LibRecommender==0.12.0) (2.16.0)\n",
            "Requirement already satisfied: tensorboard-plugin-wit>=1.6.0 in /usr/local/lib/python3.8/dist-packages (from tensorboard<2.10,>=2.9->tensorflow>=1.15.0->LibRecommender==0.12.0) (1.8.1)\n",
            "Requirement already satisfied: cachetools<6.0,>=2.0.0 in /usr/local/lib/python3.8/dist-packages (from google-auth<3,>=1.6.3->tensorboard<2.10,>=2.9->tensorflow>=1.15.0->LibRecommender==0.12.0) (5.3.0)\n",
            "Requirement already satisfied: pyasn1-modules>=0.2.1 in /usr/local/lib/python3.8/dist-packages (from google-auth<3,>=1.6.3->tensorboard<2.10,>=2.9->tensorflow>=1.15.0->LibRecommender==0.12.0) (0.2.8)\n",
            "Requirement already satisfied: rsa<5,>=3.1.4 in /usr/local/lib/python3.8/dist-packages (from google-auth<3,>=1.6.3->tensorboard<2.10,>=2.9->tensorflow>=1.15.0->LibRecommender==0.12.0) (4.9)\n",
            "Requirement already satisfied: requests-oauthlib>=0.7.0 in /usr/local/lib/python3.8/dist-packages (from google-auth-oauthlib<0.5,>=0.4.1->tensorboard<2.10,>=2.9->tensorflow>=1.15.0->LibRecommender==0.12.0) (1.3.1)\n",
            "Requirement already satisfied: importlib-metadata>=4.4 in /usr/local/lib/python3.8/dist-packages (from markdown>=2.6.8->tensorboard<2.10,>=2.9->tensorflow>=1.15.0->LibRecommender==0.12.0) (6.0.0)\n",
            "Requirement already satisfied: certifi>=2017.4.17 in /usr/local/lib/python3.8/dist-packages (from requests<3,>=2.21.0->tensorboard<2.10,>=2.9->tensorflow>=1.15.0->LibRecommender==0.12.0) (2022.12.7)\n",
            "Requirement already satisfied: idna<3,>=2.5 in /usr/local/lib/python3.8/dist-packages (from requests<3,>=2.21.0->tensorboard<2.10,>=2.9->tensorflow>=1.15.0->LibRecommender==0.12.0) (2.10)\n",
            "Requirement already satisfied: chardet<5,>=3.0.2 in /usr/local/lib/python3.8/dist-packages (from requests<3,>=2.21.0->tensorboard<2.10,>=2.9->tensorflow>=1.15.0->LibRecommender==0.12.0) (4.0.0)\n",
            "Requirement already satisfied: urllib3<1.27,>=1.21.1 in /usr/local/lib/python3.8/dist-packages (from requests<3,>=2.21.0->tensorboard<2.10,>=2.9->tensorflow>=1.15.0->LibRecommender==0.12.0) (1.24.3)\n",
            "Requirement already satisfied: fst-pso in /usr/local/lib/python3.8/dist-packages (from pyfume->FuzzyTM>=0.4.0->gensim>=4.0.0->LibRecommender==0.12.0) (1.8.1)\n",
            "Requirement already satisfied: simpful in /usr/local/lib/python3.8/dist-packages (from pyfume->FuzzyTM>=0.4.0->gensim>=4.0.0->LibRecommender==0.12.0) (2.9.0)\n",
            "Requirement already satisfied: zipp>=0.5 in /usr/local/lib/python3.8/dist-packages (from importlib-metadata>=4.4->markdown>=2.6.8->tensorboard<2.10,>=2.9->tensorflow>=1.15.0->LibRecommender==0.12.0) (3.12.0)\n",
            "Requirement already satisfied: pyasn1<0.5.0,>=0.4.6 in /usr/local/lib/python3.8/dist-packages (from pyasn1-modules>=0.2.1->google-auth<3,>=1.6.3->tensorboard<2.10,>=2.9->tensorflow>=1.15.0->LibRecommender==0.12.0) (0.4.8)\n",
            "Requirement already satisfied: oauthlib>=3.0.0 in /usr/local/lib/python3.8/dist-packages (from requests-oauthlib>=0.7.0->google-auth-oauthlib<0.5,>=0.4.1->tensorboard<2.10,>=2.9->tensorflow>=1.15.0->LibRecommender==0.12.0) (3.2.2)\n",
            "Requirement already satisfied: miniful in /usr/local/lib/python3.8/dist-packages (from fst-pso->pyfume->FuzzyTM>=0.4.0->gensim>=4.0.0->LibRecommender==0.12.0) (0.0.6)\n"
          ]
        }
      ]
    },
    {
      "cell_type": "code",
      "source": [
        "!pip install --upgrade numpy"
      ],
      "metadata": {
        "colab": {
          "base_uri": "https://localhost:8080/"
        },
        "outputId": "41608766-99f4-48bc-cfd1-b8ae88b1972d",
        "id": "rUz1JLnj1NtE"
      },
      "execution_count": null,
      "outputs": [
        {
          "output_type": "stream",
          "name": "stdout",
          "text": [
            "Looking in indexes: https://pypi.org/simple, https://us-python.pkg.dev/colab-wheels/public/simple/\n",
            "Requirement already satisfied: numpy in /usr/local/lib/python3.8/dist-packages (1.24.1)\n"
          ]
        }
      ],
      "id": "rUz1JLnj1NtE"
    },
    {
      "cell_type": "code",
      "source": [
        "!pip uninstall pycocotools\n",
        "!pip install  pycocotools"
      ],
      "metadata": {
        "colab": {
          "base_uri": "https://localhost:8080/"
        },
        "outputId": "709cfd06-644a-46b9-c115-151d036329a0",
        "id": "wgKLeAM31NtF"
      },
      "execution_count": null,
      "outputs": [
        {
          "output_type": "stream",
          "name": "stdout",
          "text": [
            "Found existing installation: pycocotools 2.0.0\n",
            "Uninstalling pycocotools-2.0.0:\n",
            "  Would remove:\n",
            "    /usr/local/lib/python3.8/dist-packages/pycocotools-2.0.0.dist-info/*\n",
            "    /usr/local/lib/python3.8/dist-packages/pycocotools/*\n",
            "Proceed (Y/n)? y\n",
            "  Successfully uninstalled pycocotools-2.0.0\n",
            "Looking in indexes: https://pypi.org/simple, https://us-python.pkg.dev/colab-wheels/public/simple/\n",
            "Collecting pycocotools\n",
            "  Downloading pycocotools-2.0.6.tar.gz (24 kB)\n",
            "  Installing build dependencies ... \u001b[?25l\u001b[?25hdone\n",
            "  Getting requirements to build wheel ... \u001b[?25l\u001b[?25hdone\n",
            "  Preparing metadata (pyproject.toml) ... \u001b[?25l\u001b[?25hdone\n",
            "Requirement already satisfied: numpy in /usr/local/lib/python3.8/dist-packages (from pycocotools) (1.24.1)\n",
            "Requirement already satisfied: matplotlib>=2.1.0 in /usr/local/lib/python3.8/dist-packages (from pycocotools) (3.2.2)\n",
            "Requirement already satisfied: kiwisolver>=1.0.1 in /usr/local/lib/python3.8/dist-packages (from matplotlib>=2.1.0->pycocotools) (1.4.4)\n",
            "Requirement already satisfied: cycler>=0.10 in /usr/local/lib/python3.8/dist-packages (from matplotlib>=2.1.0->pycocotools) (0.11.0)\n",
            "Requirement already satisfied: pyparsing!=2.0.4,!=2.1.2,!=2.1.6,>=2.0.1 in /usr/local/lib/python3.8/dist-packages (from matplotlib>=2.1.0->pycocotools) (3.0.9)\n",
            "Requirement already satisfied: python-dateutil>=2.1 in /usr/local/lib/python3.8/dist-packages (from matplotlib>=2.1.0->pycocotools) (2.8.2)\n",
            "Requirement already satisfied: six>=1.5 in /usr/local/lib/python3.8/dist-packages (from python-dateutil>=2.1->matplotlib>=2.1.0->pycocotools) (1.15.0)\n",
            "Building wheels for collected packages: pycocotools\n",
            "  Building wheel for pycocotools (pyproject.toml) ... \u001b[?25l\u001b[?25hdone\n",
            "  Created wheel for pycocotools: filename=pycocotools-2.0.6-cp38-cp38-linux_x86_64.whl size=423025 sha256=247da34146b0c915bb5db67482eb26963a5a0ab32ee6e46f78593b7518f3b414\n",
            "  Stored in directory: /root/.cache/pip/wheels/3e/08/ac/58126fe59992032701437336493f6132e1b72381a62d00b595\n",
            "Successfully built pycocotools\n",
            "Installing collected packages: pycocotools\n",
            "Successfully installed pycocotools-2.0.6\n"
          ]
        }
      ],
      "id": "wgKLeAM31NtF"
    },
    {
      "cell_type": "code",
      "source": [
        "!pip install numpy==1.21.5"
      ],
      "metadata": {
        "colab": {
          "base_uri": "https://localhost:8080/",
          "height": 277
        },
        "id": "zaMRVC0lz0UZ",
        "outputId": "9dd58081-a51a-4785-a651-2ff23b256b34"
      },
      "execution_count": null,
      "outputs": [
        {
          "output_type": "stream",
          "name": "stdout",
          "text": [
            "Looking in indexes: https://pypi.org/simple, https://us-python.pkg.dev/colab-wheels/public/simple/\n",
            "Collecting numpy==1.21.5\n",
            "  Downloading numpy-1.21.5-cp38-cp38-manylinux_2_12_x86_64.manylinux2010_x86_64.whl (15.7 MB)\n",
            "\u001b[2K     \u001b[90m━━━━━━━━━━━━━━━━━━━━━━━━━━━━━━━━━━━━━━━━\u001b[0m \u001b[32m15.7/15.7 MB\u001b[0m \u001b[31m80.0 MB/s\u001b[0m eta \u001b[36m0:00:00\u001b[0m\n",
            "\u001b[?25hInstalling collected packages: numpy\n",
            "  Attempting uninstall: numpy\n",
            "    Found existing installation: numpy 1.21.6\n",
            "    Uninstalling numpy-1.21.6:\n",
            "      Successfully uninstalled numpy-1.21.6\n",
            "Successfully installed numpy-1.21.5\n"
          ]
        },
        {
          "output_type": "display_data",
          "data": {
            "application/vnd.colab-display-data+json": {
              "pip_warning": {
                "packages": [
                  "numpy"
                ]
              }
            }
          },
          "metadata": {}
        }
      ],
      "id": "zaMRVC0lz0UZ"
    },
    {
      "cell_type": "code",
      "source": [
        "\n",
        "import tensorflow as tf\n",
        "\n",
        "from libreco.data import DatasetFeat, DataInfo\n",
        "from libreco.data import split_by_ratio_chrono,split_by_ratio\n",
        "from libreco.algorithms import DeepFM\n",
        "from libreco.evaluation import evaluate\n",
        "from libreco.prediction import predict_data_with_feats"
      ],
      "metadata": {
        "colab": {
          "base_uri": "https://localhost:8080/"
        },
        "id": "dw6xoobtRzyh",
        "outputId": "12e356b8-56fd-48b6-b0a5-fb5336b7160b"
      },
      "id": "dw6xoobtRzyh",
      "execution_count": null,
      "outputs": [
        {
          "output_type": "stream",
          "name": "stderr",
          "text": [
            "WARNING:tensorflow:From /usr/local/lib/python3.8/dist-packages/tensorflow/python/compat/v2_compat.py:107: disable_resource_variables (from tensorflow.python.ops.variable_scope) is deprecated and will be removed in a future version.\n",
            "Instructions for updating:\n",
            "non-resource variables are not supported in the long term\n"
          ]
        }
      ]
    },
    {
      "cell_type": "code",
      "source": [],
      "metadata": {
        "id": "EM4_QOT4UaWR"
      },
      "id": "EM4_QOT4UaWR",
      "execution_count": null,
      "outputs": []
    },
    {
      "cell_type": "code",
      "source": [
        "\n",
        "col_user = [\"user\"]\n",
        "col_item = [\"item\"]\n",
        "col_dense = [\"label\"]"
      ],
      "metadata": {
        "id": "n1F600UuQ_nR"
      },
      "id": "n1F600UuQ_nR",
      "execution_count": null,
      "outputs": []
    },
    {
      "cell_type": "code",
      "source": [
        "train, test = split_by_ratio(data, test_size=0.2)"
      ],
      "metadata": {
        "id": "nDRztFi4RxfK"
      },
      "id": "nDRztFi4RxfK",
      "execution_count": null,
      "outputs": []
    },
    {
      "cell_type": "code",
      "source": [
        "train_data, data_info = DatasetFeat.build_trainset(\n",
        "        train,\n",
        "       \n",
        "        shuffle=False,\n",
        "    )"
      ],
      "metadata": {
        "id": "HY7pFM-YUy7U"
      },
      "id": "HY7pFM-YUy7U",
      "execution_count": null,
      "outputs": []
    },
    {
      "cell_type": "code",
      "source": [
        "test_data = DatasetFeat.build_testset(test, shuffle=False)"
      ],
      "metadata": {
        "id": "OVcuzjuoUy-K"
      },
      "id": "OVcuzjuoUy-K",
      "execution_count": null,
      "outputs": []
    },
    {
      "cell_type": "code",
      "source": [
        "eval_data = DatasetFeat.build_testset(test)\n",
        "print(data_info)\n"
      ],
      "metadata": {
        "colab": {
          "base_uri": "https://localhost:8080/"
        },
        "id": "rPbo5wNYWBIC",
        "outputId": "8fa5c4b8-329e-4f19-e1de-4a6a253b65d3"
      },
      "id": "rPbo5wNYWBIC",
      "execution_count": null,
      "outputs": [
        {
          "output_type": "stream",
          "name": "stdout",
          "text": [
            "n_users: 162541, n_items: 37970, data sparsity: 0.3241 %\n"
          ]
        }
      ]
    },
    {
      "cell_type": "code",
      "source": [
        "import torch\n",
        "from libreco.data import split_by_ratio_chrono, DatasetPure, DatasetFeat\n",
        "from libreco.algorithms import (\n",
        "    NGCF,\n",
        "    LightGCN,\n",
        "    GraphSage,\n",
        "    GraphSageDGL,\n",
        "    PinSage,\n",
        "    PinSageDGL,\n",
        ")\n",
        "\n",
        "\n",
        "    # # only do negative sampling on eval data\n",
        "    # eval_data.build_negative_samples(\n",
        "    #     data_info, item_gen_mode=\"random\", num_neg=1, seed=2222\n",
        "    # )\n",
        "metrics = [  \n",
        "        \"precision\",\n",
        "        \"recall\",\n",
        "        \"map\",\n",
        "        \"ndcg\",\n",
        "    ]\n"
      ],
      "metadata": {
        "id": "yWN-zHhKsZgg"
      },
      "id": "yWN-zHhKsZgg",
      "execution_count": null,
      "outputs": []
    },
    {
      "cell_type": "markdown",
      "source": [
        "## Graphsage working with 25M"
      ],
      "metadata": {
        "id": "A2XDU2gcvO-X"
      },
      "id": "A2XDU2gcvO-X"
    },
    {
      "cell_type": "code",
      "source": [
        "\n",
        "graphsage = GraphSage(\n",
        "        \"ranking\",\n",
        "        data_info,\n",
        "        loss_type=\"max_margin\",\n",
        "        paradigm=\"i2i\",\n",
        "        embed_size=16,\n",
        "        n_epochs=2,\n",
        "        lr=3e-4,\n",
        "        lr_decay=False,\n",
        "        reg=None,\n",
        "        batch_size=2048,\n",
        "        num_neg=1,\n",
        "        dropout_rate=0.0,\n",
        "        num_layers=1,\n",
        "        num_neighbors=10,\n",
        "        num_walks=10,\n",
        "        sample_walk_len=5,\n",
        "        margin=1.0,\n",
        "        sampler=\"random\",\n",
        "        start_node=\"random\",\n",
        "        focus_start=False,\n",
        "        seed=42,\n",
        "    )\n",
        "graphsage.fit(\n",
        "        train_data,\n",
        "        verbose=2,\n",
        "        shuffle=True,\n",
        "        eval_data=eval_data,\n",
        "        metrics=metrics,\n",
        "    )\n",
        "\n",
        "# print(\"batch recommendation: \", graphsage.recommend_user(user=[1, 2, 3], n_rec=7))\n"
      ],
      "metadata": {
        "colab": {
          "base_uri": "https://localhost:8080/"
        },
        "id": "LgmG0om8dDDA",
        "outputId": "a6a63216-ddbd-47ee-e4e1-607f003526c6"
      },
      "id": "LgmG0om8dDDA",
      "execution_count": null,
      "outputs": [
        {
          "metadata": {
            "tags": null
          },
          "name": "stdout",
          "output_type": "stream",
          "text": [
            "Training start time: \u001b[35m2023-02-02 18:49:17\u001b[0m\n"
          ]
        },
        {
          "metadata": {
            "tags": null
          },
          "name": "stderr",
          "output_type": "stream",
          "text": [
            "pairwise random walk iterator: 100%|██████████| 10000/10000 [27:15<00:00,  6.11it/s]\n"
          ]
        },
        {
          "metadata": {
            "tags": null
          },
          "name": "stdout",
          "output_type": "stream",
          "text": [
            "Epoch 1 elapsed: 1635.729s\n",
            "\t \u001b[32mtrain_loss: 0.2048\u001b[0m\n"
          ]
        },
        {
          "metadata": {
            "tags": null
          },
          "name": "stderr",
          "output_type": "stream",
          "text": [
            "item embedding: 100%|██████████| 19/19 [00:00<00:00, 25.14it/s]\n",
            "eval_rec: 100%|██████████| 162519/162519 [03:26<00:00, 785.88it/s]\n"
          ]
        },
        {
          "metadata": {
            "tags": null
          },
          "name": "stdout",
          "output_type": "stream",
          "text": [
            "\t eval precision@10: 0.0230\n",
            "\t eval recall@10: 0.0166\n",
            "\t eval map@10: 0.0633\n",
            "\t eval ndcg@10: 0.0869\n",
            "==============================\n"
          ]
        },
        {
          "output_type": "stream",
          "name": "stderr",
          "text": [
            "pairwise random walk iterator: 100%|██████████| 10000/10000 [26:58<00:00,  6.18it/s]\n"
          ]
        },
        {
          "output_type": "stream",
          "name": "stdout",
          "text": [
            "Epoch 2 elapsed: 1618.085s\n",
            "\t \u001b[32mtrain_loss: 0.1713\u001b[0m\n"
          ]
        },
        {
          "output_type": "stream",
          "name": "stderr",
          "text": [
            "item embedding: 100%|██████████| 19/19 [00:00<00:00, 26.51it/s]\n",
            "eval_rec: 100%|██████████| 162519/162519 [03:25<00:00, 789.37it/s]\n"
          ]
        },
        {
          "output_type": "stream",
          "name": "stdout",
          "text": [
            "\t eval precision@10: 0.0214\n",
            "\t eval recall@10: 0.0141\n",
            "\t eval map@10: 0.0419\n",
            "\t eval ndcg@10: 0.0641\n",
            "==============================\n"
          ]
        },
        {
          "output_type": "stream",
          "name": "stderr",
          "text": [
            "item embedding: 100%|██████████| 19/19 [00:00<00:00, 25.10it/s]\n"
          ]
        }
      ]
    },
    {
      "cell_type": "code",
      "source": [
        "print(\"recommendation: \", graphsage.recommend_user(user=1, n_rec=7))\n"
      ],
      "metadata": {
        "colab": {
          "base_uri": "https://localhost:8080/"
        },
        "id": "44h2lOAyeZAA",
        "outputId": "298c3c15-5d93-4211-fee0-cdbe56074844"
      },
      "id": "44h2lOAyeZAA",
      "execution_count": null,
      "outputs": [
        {
          "output_type": "stream",
          "name": "stdout",
          "text": [
            "recommendation:  [(593, 0.9999995), (2959, 0.9999995), (356, 0.9999995), (318, 0.9999995), (858, 0.9999995), (1089, 0.9999994), (527, 0.9999994)]\n"
          ]
        }
      ]
    },
    {
      "cell_type": "markdown",
      "source": [
        "## Pinsage Not working with 25M"
      ],
      "metadata": {
        "id": "OMqD6oYdvTkG"
      },
      "id": "OMqD6oYdvTkG"
    },
    {
      "cell_type": "code",
      "source": [
        "pinsage = PinSage(\n",
        "        \"ranking\",\n",
        "        data_info,\n",
        "        loss_type=\"cross_entropy\",\n",
        "        paradigm=\"u2i\",\n",
        "        embed_size=16,\n",
        "        n_epochs=2,\n",
        "        lr=3e-4,\n",
        "        lr_decay=False,\n",
        "        reg=None,\n",
        "        batch_size=2048,\n",
        "        num_neg=1,\n",
        "        dropout_rate=0.0,\n",
        "        remove_edges=False,\n",
        "        num_layers=1,\n",
        "        num_neighbors=10,\n",
        "        num_walks=10,\n",
        "        neighbor_walk_len=2,\n",
        "        sample_walk_len=5,\n",
        "        termination_prob=0.5,\n",
        "        margin=1.0,\n",
        "        sampler=\"random\",\n",
        "        start_node=\"random\",\n",
        "        focus_start=False,\n",
        "        seed=42,\n",
        "    )\n",
        "pinsage.fit(\n",
        "        train_data,\n",
        "        verbose=2,\n",
        "        shuffle=True,\n",
        "        eval_data=eval_data,\n",
        "        metrics=metrics,\n",
        "    )"
      ],
      "metadata": {
        "id": "vRq7Lc34rI2v"
      },
      "id": "vRq7Lc34rI2v",
      "execution_count": null,
      "outputs": []
    },
    {
      "cell_type": "markdown",
      "source": [
        "## Pinsage Not working with 25M"
      ],
      "metadata": {
        "id": "cSmMjneAvWw2"
      },
      "id": "cSmMjneAvWw2"
    },
    {
      "cell_type": "code",
      "source": [
        "train, test = split_by_ratio(data, test_size=0.2)"
      ],
      "metadata": {
        "id": "_SLWx0npvbA2"
      },
      "execution_count": null,
      "outputs": [],
      "id": "_SLWx0npvbA2"
    },
    {
      "cell_type": "code",
      "source": [
        "train_data, data_info = DatasetPure.build_trainset(\n",
        "        train,\n",
        "       \n",
        "        shuffle=False,\n",
        "    )"
      ],
      "metadata": {
        "id": "2oTG03SQvbA2"
      },
      "execution_count": null,
      "outputs": [],
      "id": "2oTG03SQvbA2"
    },
    {
      "cell_type": "code",
      "source": [
        "eval_data = DatasetPure.build_testset(test)\n",
        "print(data_info)\n",
        "# only do negative sampling on eval data\n",
        "# eval_data.build_negative_samples(\n",
        "#         data_info, item_gen_mode=\"random\", num_neg=1, seed=2222\n",
        "#     )"
      ],
      "metadata": {
        "colab": {
          "base_uri": "https://localhost:8080/"
        },
        "outputId": "5a8bd467-e03b-4ea7-efd9-51bc2ab6b5da",
        "id": "J4gidGzRvbA3"
      },
      "execution_count": null,
      "outputs": [
        {
          "output_type": "stream",
          "name": "stdout",
          "text": [
            "n_users: 162541, n_items: 37970, data sparsity: 0.3241 %\n"
          ]
        }
      ],
      "id": "J4gidGzRvbA3"
    },
    {
      "cell_type": "code",
      "source": [
        "lightgcn = LightGCN(\n",
        "        \"ranking\",\n",
        "        data_info,\n",
        "        loss_type=\"bpr\",\n",
        "        embed_size=16,\n",
        "        n_epochs=2,\n",
        "        lr=3e-4,\n",
        "        lr_decay=None,\n",
        "        reg=0.0,\n",
        "        batch_size=2048,\n",
        "        num_neg=1,\n",
        "        dropout_rate=0.0,\n",
        "        n_layers=3,\n",
        "        device=torch.device(\"cpu\"),\n",
        "    )\n",
        "lightgcn.fit(\n",
        "        train_data,\n",
        "        verbose=2,\n",
        "        shuffle=True,\n",
        "        eval_data=eval_data,\n",
        "        metrics=metrics,\n",
        "    )"
      ],
      "metadata": {
        "id": "z-QPhLpurdBn"
      },
      "id": "z-QPhLpurdBn",
      "execution_count": null,
      "outputs": []
    }
  ],
  "metadata": {
    "kernelspec": {
      "display_name": "Python 3",
      "language": "python",
      "name": "python3"
    },
    "language_info": {
      "codemirror_mode": {
        "name": "ipython",
        "version": 3
      },
      "file_extension": ".py",
      "mimetype": "text/x-python",
      "name": "python",
      "nbconvert_exporter": "python",
      "pygments_lexer": "ipython3",
      "version": "3.6.5"
    },
    "colab": {
      "provenance": [],
      "collapsed_sections": [
        "ohsC49cVr-Ox"
      ],
      "machine_shape": "hm"
    },
    "gpuClass": "standard",
    "accelerator": "GPU"
  },
  "nbformat": 4,
  "nbformat_minor": 5
}