{
  "cells": [
    {
      "cell_type": "code",
      "source": [
        "gpu_info = !nvidia-smi\n",
        "gpu_info = '\\n'.join(gpu_info)\n",
        "if gpu_info.find('failed') >= 0:\n",
        "  print('Not connected to a GPU')\n",
        "else:\n",
        "  print(gpu_info)"
      ],
      "metadata": {
        "colab": {
          "base_uri": "https://localhost:8080/"
        },
        "id": "_QphkgcDcwxr",
        "outputId": "9bc66733-90c5-4f2e-e371-9abb4d7b56a0"
      },
      "id": "_QphkgcDcwxr",
      "execution_count": null,
      "outputs": [
        {
          "output_type": "stream",
          "name": "stdout",
          "text": [
            "Fri Sep  2 15:59:02 2022       \n",
            "+-----------------------------------------------------------------------------+\n",
            "| NVIDIA-SMI 460.32.03    Driver Version: 460.32.03    CUDA Version: 11.2     |\n",
            "|-------------------------------+----------------------+----------------------+\n",
            "| GPU  Name        Persistence-M| Bus-Id        Disp.A | Volatile Uncorr. ECC |\n",
            "| Fan  Temp  Perf  Pwr:Usage/Cap|         Memory-Usage | GPU-Util  Compute M. |\n",
            "|                               |                      |               MIG M. |\n",
            "|===============================+======================+======================|\n",
            "|   0  Tesla T4            Off  | 00000000:00:04.0 Off |                    0 |\n",
            "| N/A   52C    P8    10W /  70W |      0MiB / 15109MiB |      0%      Default |\n",
            "|                               |                      |                  N/A |\n",
            "+-------------------------------+----------------------+----------------------+\n",
            "                                                                               \n",
            "+-----------------------------------------------------------------------------+\n",
            "| Processes:                                                                  |\n",
            "|  GPU   GI   CI        PID   Type   Process name                  GPU Memory |\n",
            "|        ID   ID                                                   Usage      |\n",
            "|=============================================================================|\n",
            "|  No running processes found                                                 |\n",
            "+-----------------------------------------------------------------------------+\n"
          ]
        }
      ]
    },
    {
      "cell_type": "code",
      "source": [
        "from psutil import virtual_memory\n",
        "ram_gb = virtual_memory().total / 1e9\n",
        "print('Your runtime has {:.1f} gigabytes of available RAM\\n'.format(ram_gb))\n",
        "\n",
        "if ram_gb < 20:\n",
        "  print('Not using a high-RAM runtime')\n",
        "else:\n",
        "  print('You are using a high-RAM runtime!')"
      ],
      "metadata": {
        "colab": {
          "base_uri": "https://localhost:8080/"
        },
        "id": "Kq_W9JJDczFA",
        "outputId": "7c2d73e4-3339-4e5e-9530-3b14113af6b2"
      },
      "id": "Kq_W9JJDczFA",
      "execution_count": null,
      "outputs": [
        {
          "output_type": "stream",
          "name": "stdout",
          "text": [
            "Your runtime has 27.3 gigabytes of available RAM\n",
            "\n",
            "You are using a high-RAM runtime!\n"
          ]
        }
      ]
    },
    {
      "cell_type": "code",
      "execution_count": null,
      "id": "84eddad3",
      "metadata": {
        "id": "84eddad3"
      },
      "outputs": [],
      "source": [
        "from datetime import datetime\n",
        "import os\n",
        "import matplotlib\n",
        "import pandas as pd\n",
        "import numpy as np\n",
        "import matplotlib.pyplot as plt\n",
        "import seaborn as sns\n",
        "sns.set_style('whitegrid')\n",
        "\n",
        "from scipy import sparse\n",
        "from scipy.sparse import csc_matrix\n",
        "from sklearn.decomposition import TruncatedSVD\n",
        "\n",
        "np.random.seed(0)"
      ]
    },
    {
      "cell_type": "markdown",
      "id": "85495bf1",
      "metadata": {
        "id": "85495bf1"
      },
      "source": [
        "## Movie lens data set\n"
      ]
    },
    {
      "cell_type": "code",
      "source": [
        "!pip install gdown"
      ],
      "metadata": {
        "id": "3mSlGMHVpAt_",
        "colab": {
          "base_uri": "https://localhost:8080/"
        },
        "outputId": "62101653-5949-428f-b8fd-880104f16c49"
      },
      "id": "3mSlGMHVpAt_",
      "execution_count": null,
      "outputs": [
        {
          "output_type": "stream",
          "name": "stdout",
          "text": [
            "Looking in indexes: https://pypi.org/simple, https://us-python.pkg.dev/colab-wheels/public/simple/\n",
            "Requirement already satisfied: gdown in /usr/local/lib/python3.7/dist-packages (4.4.0)\n",
            "Requirement already satisfied: six in /usr/local/lib/python3.7/dist-packages (from gdown) (1.15.0)\n",
            "Requirement already satisfied: tqdm in /usr/local/lib/python3.7/dist-packages (from gdown) (4.64.0)\n",
            "Requirement already satisfied: beautifulsoup4 in /usr/local/lib/python3.7/dist-packages (from gdown) (4.6.3)\n",
            "Requirement already satisfied: requests[socks] in /usr/local/lib/python3.7/dist-packages (from gdown) (2.23.0)\n",
            "Requirement already satisfied: filelock in /usr/local/lib/python3.7/dist-packages (from gdown) (3.8.0)\n",
            "Requirement already satisfied: idna<3,>=2.5 in /usr/local/lib/python3.7/dist-packages (from requests[socks]->gdown) (2.10)\n",
            "Requirement already satisfied: urllib3!=1.25.0,!=1.25.1,<1.26,>=1.21.1 in /usr/local/lib/python3.7/dist-packages (from requests[socks]->gdown) (1.24.3)\n",
            "Requirement already satisfied: certifi>=2017.4.17 in /usr/local/lib/python3.7/dist-packages (from requests[socks]->gdown) (2022.6.15)\n",
            "Requirement already satisfied: chardet<4,>=3.0.2 in /usr/local/lib/python3.7/dist-packages (from requests[socks]->gdown) (3.0.4)\n",
            "Requirement already satisfied: PySocks!=1.5.7,>=1.5.6 in /usr/local/lib/python3.7/dist-packages (from requests[socks]->gdown) (1.7.1)\n"
          ]
        }
      ]
    },
    {
      "cell_type": "code",
      "source": [
        "!gdown https://drive.google.com/uc?id=1ccoCOvxD2hFm1ejOVRDlT2SivkoNtC6V"
      ],
      "metadata": {
        "colab": {
          "base_uri": "https://localhost:8080/"
        },
        "id": "JN6L-XVUpDB3",
        "outputId": "713d03ff-43dd-4124-f402-3e2df53c6148"
      },
      "id": "JN6L-XVUpDB3",
      "execution_count": null,
      "outputs": [
        {
          "output_type": "stream",
          "name": "stdout",
          "text": [
            "Downloading...\n",
            "From: https://drive.google.com/uc?id=1ccoCOvxD2hFm1ejOVRDlT2SivkoNtC6V\n",
            "To: /content/ml-100k.zip\n",
            "\r  0% 0.00/4.92M [00:00<?, ?B/s]\r 96% 4.72M/4.92M [00:00<00:00, 18.9MB/s]\r100% 4.92M/4.92M [00:00<00:00, 19.7MB/s]\n"
          ]
        }
      ]
    },
    {
      "cell_type": "code",
      "source": [
        "!unzip \"ml-100k.zip\"  -d  \"/content\""
      ],
      "metadata": {
        "colab": {
          "base_uri": "https://localhost:8080/"
        },
        "id": "ncJF1kivt_uR",
        "outputId": "b1ea281f-1db1-4187-ae89-0632020528d7"
      },
      "id": "ncJF1kivt_uR",
      "execution_count": null,
      "outputs": [
        {
          "output_type": "stream",
          "name": "stdout",
          "text": [
            "Archive:  ml-100k.zip\n",
            "   creating: /content/ml-100k/\n",
            "  inflating: /content/ml-100k/allbut.pl  \n",
            "  inflating: /content/ml-100k/mku.sh  \n",
            "  inflating: /content/ml-100k/README  \n",
            "  inflating: /content/ml-100k/u.data  \n",
            "  inflating: /content/ml-100k/u.genre  \n",
            "  inflating: /content/ml-100k/u.info  \n",
            "  inflating: /content/ml-100k/u.item  \n",
            "  inflating: /content/ml-100k/u.occupation  \n",
            "  inflating: /content/ml-100k/u.user  \n",
            "  inflating: /content/ml-100k/u1.base  \n",
            "  inflating: /content/ml-100k/u1.test  \n",
            "  inflating: /content/ml-100k/u2.base  \n",
            "  inflating: /content/ml-100k/u2.test  \n",
            "  inflating: /content/ml-100k/u3.base  \n",
            "  inflating: /content/ml-100k/u3.test  \n",
            "  inflating: /content/ml-100k/u4.base  \n",
            "  inflating: /content/ml-100k/u4.test  \n",
            "  inflating: /content/ml-100k/u5.base  \n",
            "  inflating: /content/ml-100k/u5.test  \n",
            "  inflating: /content/ml-100k/ua.base  \n",
            "  inflating: /content/ml-100k/ua.test  \n",
            "  inflating: /content/ml-100k/ub.base  \n",
            "  inflating: /content/ml-100k/ub.test  \n"
          ]
        }
      ]
    },
    {
      "cell_type": "code",
      "source": [
        "!mv ml-100k/* ./"
      ],
      "metadata": {
        "id": "cdyYS85ofd2O"
      },
      "id": "cdyYS85ofd2O",
      "execution_count": null,
      "outputs": []
    },
    {
      "cell_type": "code",
      "source": [
        "dateparse = lambda x: datetime.utcfromtimestamp(int(x)).strftime('%Y-%m-%d %H:%M:%S')\n",
        "\n",
        "rating_df = pd.read_csv('u.data', sep='\\t', \n",
        "                        names=['userID', 'itemID', 'rating', 'time'], \n",
        "                       )\n",
        "\n",
        "movie_df = pd.read_csv('u.item', sep='|', encoding='latin-1',\n",
        "                    names=['itemID', 'movie', 'release_date', 'video_release_date', 'imdb_url', 'unknown', 'action', \n",
        "                           'adventure', 'animation', 'childrens', 'comedy', 'crime', 'documentary', 'drama', 'fantasy', \n",
        "                           'film_noir', 'horror', 'musical', 'mystery', 'romance', 'sci_fi', 'thriller', 'war', 'western'])\n",
        "\n",
        "user_df = pd.read_csv('u.user', sep='|', encoding='latin-1',\n",
        "                     names=['userID', 'age', 'gender', 'occupation', 'zip_code'])\n"
      ],
      "metadata": {
        "id": "ApwkfuKQSGtt"
      },
      "id": "ApwkfuKQSGtt",
      "execution_count": null,
      "outputs": []
    },
    {
      "cell_type": "code",
      "source": [
        "rating_df=pd.merge(rating_df,movie_df,on=\"itemID\",how=\"left\")\n"
      ],
      "metadata": {
        "id": "ATZBESMYuHbQ"
      },
      "id": "ATZBESMYuHbQ",
      "execution_count": null,
      "outputs": []
    },
    {
      "cell_type": "code",
      "source": [
        "\n",
        "rating_df[\"itemID\"] = rating_df[\"itemID\"].astype(str)\n",
        "rating_df[\"userID\"] = rating_df[\"userID\"].astype(str)"
      ],
      "metadata": {
        "id": "sZPaHa4i-oAr"
      },
      "id": "sZPaHa4i-oAr",
      "execution_count": null,
      "outputs": []
    },
    {
      "cell_type": "code",
      "source": [
        "unique_users = rating_df.userID.unique()\n",
        "user_ids = dict(zip(unique_users, np.arange(unique_users.shape[0], dtype=np.int32)))\n",
        "\n",
        "unique_items = rating_df.itemID.unique()\n",
        "item_ids = dict(zip(unique_items, np.arange(unique_items.shape[0], dtype=np.int32)))"
      ],
      "metadata": {
        "id": "PgNs7RtdpgsF"
      },
      "id": "PgNs7RtdpgsF",
      "execution_count": null,
      "outputs": []
    },
    {
      "cell_type": "code",
      "source": [
        "product_ids = list(set(list(rating_df.itemID.unique())))\n",
        "user_ids = list(set(list(rating_df.userID.unique())))"
      ],
      "metadata": {
        "id": "L0pWDQrppk3k"
      },
      "id": "L0pWDQrppk3k",
      "execution_count": null,
      "outputs": []
    },
    {
      "cell_type": "markdown",
      "id": "cdc02830",
      "metadata": {
        "id": "cdc02830"
      },
      "source": [
        "### Analysis of column timestamp"
      ]
    },
    {
      "cell_type": "code",
      "execution_count": null,
      "id": "428a493a",
      "metadata": {
        "id": "428a493a",
        "outputId": "b855a4a1-e940-4fc7-fd6c-0337bba7e90b",
        "colab": {
          "base_uri": "https://localhost:8080/",
          "height": 293
        }
      },
      "outputs": [
        {
          "output_type": "execute_result",
          "data": {
            "text/plain": [
              "<matplotlib.axes._subplots.AxesSubplot at 0x7f512b514350>"
            ]
          },
          "metadata": {},
          "execution_count": 13
        },
        {
          "output_type": "display_data",
          "data": {
            "text/plain": [
              "<Figure size 432x288 with 1 Axes>"
            ],
            "image/png": "[encoded data removed]"
          },
          "metadata": {}
        }
      ],
      "source": [
        "rating_df.groupby(['rating']).size().plot(kind = \"bar\")"
      ]
    },
    {
      "cell_type": "markdown",
      "source": [
        "### Yearwise Analysis"
      ],
      "metadata": {
        "id": "TCEQhshMWGvi"
      },
      "id": "TCEQhshMWGvi"
    },
    {
      "cell_type": "code",
      "source": [
        "\n",
        "rating_df['date']=rating_df['time']\n",
        "rating_df['date']=rating_df.date.apply(lambda x: pd.datetime.fromtimestamp(x).date())"
      ],
      "metadata": {
        "colab": {
          "base_uri": "https://localhost:8080/"
        },
        "id": "DqiFJmGuiSHx",
        "outputId": "f33fbdf0-815c-4d4a-fc8e-7dd7eecce501"
      },
      "id": "DqiFJmGuiSHx",
      "execution_count": null,
      "outputs": [
        {
          "output_type": "stream",
          "name": "stderr",
          "text": [
            "/usr/local/lib/python3.7/dist-packages/ipykernel_launcher.py:2: FutureWarning: The pandas.datetime class is deprecated and will be removed from pandas in a future version. Import from datetime module instead.\n",
            "  \n"
          ]
        }
      ]
    },
    {
      "cell_type": "code",
      "source": [
        "rating_df['date'] = pd.to_datetime(rating_df.date, format='%Y-%m-%d %H:%M:%S')\n",
        "rating_df['year'] = rating_df['date'].dt.year"
      ],
      "metadata": {
        "id": "LdLnTqRAV6Vg"
      },
      "id": "LdLnTqRAV6Vg",
      "execution_count": null,
      "outputs": []
    },
    {
      "cell_type": "code",
      "source": [
        "item_only_df_2015=rating_df[rating_df.year>=2015]"
      ],
      "metadata": {
        "id": "S0lIh4Kykydy"
      },
      "id": "S0lIh4Kykydy",
      "execution_count": null,
      "outputs": []
    },
    {
      "cell_type": "code",
      "source": [
        "item_only_df=rating_df"
      ],
      "metadata": {
        "id": "LGMyxcdHWOvK"
      },
      "id": "LGMyxcdHWOvK",
      "execution_count": null,
      "outputs": []
    },
    {
      "cell_type": "code",
      "source": [
        "avg_rating_df = rating_df.groupby('itemID').mean()['rating'].reset_index()\n",
        "avg_rating_df.rename(columns={'rating':'avg_rating'},inplace=True)\n",
        "avg_rating_df.sort_values('avg_rating', ascending=[False]).head(10)\n"
      ],
      "metadata": {
        "colab": {
          "base_uri": "https://localhost:8080/",
          "height": 363
        },
        "id": "0dIkkmD8jbIx",
        "outputId": "746db81e-4b39-4a2c-dcf5-d62ebb9d8895"
      },
      "id": "0dIkkmD8jbIx",
      "execution_count": null,
      "outputs": [
        {
          "output_type": "execute_result",
          "data": {
            "text/plain": [
              "     itemID  avg_rating\n",
              "558    1500         5.0\n",
              "327    1293         5.0\n",
              "211    1189         5.0\n",
              "727    1653         5.0\n",
              "520    1467         5.0\n",
              "138    1122         5.0\n",
              "666    1599         5.0\n",
              "226    1201         5.0\n",
              "597    1536         5.0\n",
              "1477    814         5.0"
            ],
            "text/html": [
              "\n",
              "  <div id=\"df-7683756f-43f4-4230-86b0-869263c28197\">\n",
              "    <div class=\"colab-df-container\">\n",
              "      <div>\n",
              "<style scoped>\n",
              "    .dataframe tbody tr th:only-of-type {\n",
              "        vertical-align: middle;\n",
              "    }\n",
              "\n",
              "    .dataframe tbody tr th {\n",
              "        vertical-align: top;\n",
              "    }\n",
              "\n",
              "    .dataframe thead th {\n",
              "        text-align: right;\n",
              "    }\n",
              "</style>\n",
              "<table border=\"1\" class=\"dataframe\">\n",
              "  <thead>\n",
              "    <tr style=\"text-align: right;\">\n",
              "      <th></th>\n",
              "      <th>itemID</th>\n",
              "      <th>avg_rating</th>\n",
              "    </tr>\n",
              "  </thead>\n",
              "  <tbody>\n",
              "    <tr>\n",
              "      <th>558</th>\n",
              "      <td>1500</td>\n",
              "      <td>5.0</td>\n",
              "    </tr>\n",
              "    <tr>\n",
              "      <th>327</th>\n",
              "      <td>1293</td>\n",
              "      <td>5.0</td>\n",
              "    </tr>\n",
              "    <tr>\n",
              "      <th>211</th>\n",
              "      <td>1189</td>\n",
              "      <td>5.0</td>\n",
              "    </tr>\n",
              "    <tr>\n",
              "      <th>727</th>\n",
              "      <td>1653</td>\n",
              "      <td>5.0</td>\n",
              "    </tr>\n",
              "    <tr>\n",
              "      <th>520</th>\n",
              "      <td>1467</td>\n",
              "      <td>5.0</td>\n",
              "    </tr>\n",
              "    <tr>\n",
              "      <th>138</th>\n",
              "      <td>1122</td>\n",
              "      <td>5.0</td>\n",
              "    </tr>\n",
              "    <tr>\n",
              "      <th>666</th>\n",
              "      <td>1599</td>\n",
              "      <td>5.0</td>\n",
              "    </tr>\n",
              "    <tr>\n",
              "      <th>226</th>\n",
              "      <td>1201</td>\n",
              "      <td>5.0</td>\n",
              "    </tr>\n",
              "    <tr>\n",
              "      <th>597</th>\n",
              "      <td>1536</td>\n",
              "      <td>5.0</td>\n",
              "    </tr>\n",
              "    <tr>\n",
              "      <th>1477</th>\n",
              "      <td>814</td>\n",
              "      <td>5.0</td>\n",
              "    </tr>\n",
              "  </tbody>\n",
              "</table>\n",
              "</div>\n",
              "      <button class=\"colab-df-convert\" onclick=\"convertToInteractive('df-7683756f-43f4-4230-86b0-869263c28197')\"\n",
              "              title=\"Convert this dataframe to an interactive table.\"\n",
              "              style=\"display:none;\">\n",
              "        \n",
              "  <svg xmlns=\"http://www.w3.org/2000/svg\" height=\"24px\"viewBox=\"0 0 24 24\"\n",
              "       width=\"24px\">\n",
              "    <path d=\"M0 0h24v24H0V0z\" fill=\"none\"/>\n",
              "    <path d=\"M18.56 5.44l.94 2.06.94-2.06 2.06-.94-2.06-.94-.94-2.06-.94 2.06-2.06.94zm-11 1L8.5 8.5l.94-2.06 2.06-.94-2.06-.94L8.5 2.5l-.94 2.06-2.06.94zm10 10l.94 2.06.94-2.06 2.06-.94-2.06-.94-.94-2.06-.94 2.06-2.06.94z\"/><path d=\"M17.41 7.96l-1.37-1.37c-.4-.4-.92-.59-1.43-.59-.52 0-1.04.2-1.43.59L10.3 9.45l-7.72 7.72c-.78.78-.78 2.05 0 2.83L4 21.41c.39.39.9.59 1.41.59.51 0 1.02-.2 1.41-.59l7.78-7.78 2.81-2.81c.8-.78.8-2.07 0-2.86zM5.41 20L4 18.59l7.72-7.72 1.47 1.35L5.41 20z\"/>\n",
              "  </svg>\n",
              "      </button>\n",
              "      \n",
              "  <style>\n",
              "    .colab-df-container {\n",
              "      display:flex;\n",
              "      flex-wrap:wrap;\n",
              "      gap: 12px;\n",
              "    }\n",
              "\n",
              "    .colab-df-convert {\n",
              "      background-color: #E8F0FE;\n",
              "      border: none;\n",
              "      border-radius: 50%;\n",
              "      cursor: pointer;\n",
              "      display: none;\n",
              "      fill: #1967D2;\n",
              "      height: 32px;\n",
              "      padding: 0 0 0 0;\n",
              "      width: 32px;\n",
              "    }\n",
              "\n",
              "    .colab-df-convert:hover {\n",
              "      background-color: #E2EBFA;\n",
              "      box-shadow: 0px 1px 2px rgba(60, 64, 67, 0.3), 0px 1px 3px 1px rgba(60, 64, 67, 0.15);\n",
              "      fill: #174EA6;\n",
              "    }\n",
              "\n",
              "    [theme=dark] .colab-df-convert {\n",
              "      background-color: #3B4455;\n",
              "      fill: #D2E3FC;\n",
              "    }\n",
              "\n",
              "    [theme=dark] .colab-df-convert:hover {\n",
              "      background-color: #434B5C;\n",
              "      box-shadow: 0px 1px 3px 1px rgba(0, 0, 0, 0.15);\n",
              "      filter: drop-shadow(0px 1px 2px rgba(0, 0, 0, 0.3));\n",
              "      fill: #FFFFFF;\n",
              "    }\n",
              "  </style>\n",
              "\n",
              "      <script>\n",
              "        const buttonEl =\n",
              "          document.querySelector('#df-7683756f-43f4-4230-86b0-869263c28197 button.colab-df-convert');\n",
              "        buttonEl.style.display =\n",
              "          google.colab.kernel.accessAllowed ? 'block' : 'none';\n",
              "\n",
              "        async function convertToInteractive(key) {\n",
              "          const element = document.querySelector('#df-7683756f-43f4-4230-86b0-869263c28197');\n",
              "          const dataTable =\n",
              "            await google.colab.kernel.invokeFunction('convertToInteractive',\n",
              "                                                     [key], {});\n",
              "          if (!dataTable) return;\n",
              "\n",
              "          const docLinkHtml = 'Like what you see? Visit the ' +\n",
              "            '<a target=\"_blank\" href=https://colab.research.google.com/notebooks/data_table.ipynb>data table notebook</a>'\n",
              "            + ' to learn more about interactive tables.';\n",
              "          element.innerHTML = '';\n",
              "          dataTable['output_type'] = 'display_data';\n",
              "          await google.colab.output.renderOutput(dataTable, element);\n",
              "          const docLink = document.createElement('div');\n",
              "          docLink.innerHTML = docLinkHtml;\n",
              "          element.appendChild(docLink);\n",
              "        }\n",
              "      </script>\n",
              "    </div>\n",
              "  </div>\n",
              "  "
            ]
          },
          "metadata": {},
          "execution_count": 18
        }
      ]
    },
    {
      "cell_type": "code",
      "source": [
        "total_rating_df = rating_df.groupby('itemID').count()['rating'].reset_index()\n",
        "total_rating_df.rename(columns={'rating':'num_ratings'},inplace=True)\n",
        "total_rating_df.sort_values('num_ratings', ascending=[False]).head(10)"
      ],
      "metadata": {
        "colab": {
          "base_uri": "https://localhost:8080/",
          "height": 363
        },
        "id": "Nn24p5uPjgIF",
        "outputId": "a1ce1a93-22e6-4781-d094-ce65f26778c6"
      },
      "id": "Nn24p5uPjgIF",
      "execution_count": null,
      "outputs": [
        {
          "output_type": "execute_result",
          "data": {
            "text/plain": [
              "     itemID  num_ratings\n",
              "1128     50          583\n",
              "859     258          509\n",
              "2       100          508\n",
              "774     181          507\n",
              "899     294          485\n",
              "890     286          481\n",
              "892     288          478\n",
              "0         1          452\n",
              "907     300          431\n",
              "235     121          429"
            ],
            "text/html": [
              "\n",
              "  <div id=\"df-bf4e0c30-0352-4665-b652-3f74f339acf2\">\n",
              "    <div class=\"colab-df-container\">\n",
              "      <div>\n",
              "<style scoped>\n",
              "    .dataframe tbody tr th:only-of-type {\n",
              "        vertical-align: middle;\n",
              "    }\n",
              "\n",
              "    .dataframe tbody tr th {\n",
              "        vertical-align: top;\n",
              "    }\n",
              "\n",
              "    .dataframe thead th {\n",
              "        text-align: right;\n",
              "    }\n",
              "</style>\n",
              "<table border=\"1\" class=\"dataframe\">\n",
              "  <thead>\n",
              "    <tr style=\"text-align: right;\">\n",
              "      <th></th>\n",
              "      <th>itemID</th>\n",
              "      <th>num_ratings</th>\n",
              "    </tr>\n",
              "  </thead>\n",
              "  <tbody>\n",
              "    <tr>\n",
              "      <th>1128</th>\n",
              "      <td>50</td>\n",
              "      <td>583</td>\n",
              "    </tr>\n",
              "    <tr>\n",
              "      <th>859</th>\n",
              "      <td>258</td>\n",
              "      <td>509</td>\n",
              "    </tr>\n",
              "    <tr>\n",
              "      <th>2</th>\n",
              "      <td>100</td>\n",
              "      <td>508</td>\n",
              "    </tr>\n",
              "    <tr>\n",
              "      <th>774</th>\n",
              "      <td>181</td>\n",
              "      <td>507</td>\n",
              "    </tr>\n",
              "    <tr>\n",
              "      <th>899</th>\n",
              "      <td>294</td>\n",
              "      <td>485</td>\n",
              "    </tr>\n",
              "    <tr>\n",
              "      <th>890</th>\n",
              "      <td>286</td>\n",
              "      <td>481</td>\n",
              "    </tr>\n",
              "    <tr>\n",
              "      <th>892</th>\n",
              "      <td>288</td>\n",
              "      <td>478</td>\n",
              "    </tr>\n",
              "    <tr>\n",
              "      <th>0</th>\n",
              "      <td>1</td>\n",
              "      <td>452</td>\n",
              "    </tr>\n",
              "    <tr>\n",
              "      <th>907</th>\n",
              "      <td>300</td>\n",
              "      <td>431</td>\n",
              "    </tr>\n",
              "    <tr>\n",
              "      <th>235</th>\n",
              "      <td>121</td>\n",
              "      <td>429</td>\n",
              "    </tr>\n",
              "  </tbody>\n",
              "</table>\n",
              "</div>\n",
              "      <button class=\"colab-df-convert\" onclick=\"convertToInteractive('df-bf4e0c30-0352-4665-b652-3f74f339acf2')\"\n",
              "              title=\"Convert this dataframe to an interactive table.\"\n",
              "              style=\"display:none;\">\n",
              "        \n",
              "  <svg xmlns=\"http://www.w3.org/2000/svg\" height=\"24px\"viewBox=\"0 0 24 24\"\n",
              "       width=\"24px\">\n",
              "    <path d=\"M0 0h24v24H0V0z\" fill=\"none\"/>\n",
              "    <path d=\"M18.56 5.44l.94 2.06.94-2.06 2.06-.94-2.06-.94-.94-2.06-.94 2.06-2.06.94zm-11 1L8.5 8.5l.94-2.06 2.06-.94-2.06-.94L8.5 2.5l-.94 2.06-2.06.94zm10 10l.94 2.06.94-2.06 2.06-.94-2.06-.94-.94-2.06-.94 2.06-2.06.94z\"/><path d=\"M17.41 7.96l-1.37-1.37c-.4-.4-.92-.59-1.43-.59-.52 0-1.04.2-1.43.59L10.3 9.45l-7.72 7.72c-.78.78-.78 2.05 0 2.83L4 21.41c.39.39.9.59 1.41.59.51 0 1.02-.2 1.41-.59l7.78-7.78 2.81-2.81c.8-.78.8-2.07 0-2.86zM5.41 20L4 18.59l7.72-7.72 1.47 1.35L5.41 20z\"/>\n",
              "  </svg>\n",
              "      </button>\n",
              "      \n",
              "  <style>\n",
              "    .colab-df-container {\n",
              "      display:flex;\n",
              "      flex-wrap:wrap;\n",
              "      gap: 12px;\n",
              "    }\n",
              "\n",
              "    .colab-df-convert {\n",
              "      background-color: #E8F0FE;\n",
              "      border: none;\n",
              "      border-radius: 50%;\n",
              "      cursor: pointer;\n",
              "      display: none;\n",
              "      fill: #1967D2;\n",
              "      height: 32px;\n",
              "      padding: 0 0 0 0;\n",
              "      width: 32px;\n",
              "    }\n",
              "\n",
              "    .colab-df-convert:hover {\n",
              "      background-color: #E2EBFA;\n",
              "      box-shadow: 0px 1px 2px rgba(60, 64, 67, 0.3), 0px 1px 3px 1px rgba(60, 64, 67, 0.15);\n",
              "      fill: #174EA6;\n",
              "    }\n",
              "\n",
              "    [theme=dark] .colab-df-convert {\n",
              "      background-color: #3B4455;\n",
              "      fill: #D2E3FC;\n",
              "    }\n",
              "\n",
              "    [theme=dark] .colab-df-convert:hover {\n",
              "      background-color: #434B5C;\n",
              "      box-shadow: 0px 1px 3px 1px rgba(0, 0, 0, 0.15);\n",
              "      filter: drop-shadow(0px 1px 2px rgba(0, 0, 0, 0.3));\n",
              "      fill: #FFFFFF;\n",
              "    }\n",
              "  </style>\n",
              "\n",
              "      <script>\n",
              "        const buttonEl =\n",
              "          document.querySelector('#df-bf4e0c30-0352-4665-b652-3f74f339acf2 button.colab-df-convert');\n",
              "        buttonEl.style.display =\n",
              "          google.colab.kernel.accessAllowed ? 'block' : 'none';\n",
              "\n",
              "        async function convertToInteractive(key) {\n",
              "          const element = document.querySelector('#df-bf4e0c30-0352-4665-b652-3f74f339acf2');\n",
              "          const dataTable =\n",
              "            await google.colab.kernel.invokeFunction('convertToInteractive',\n",
              "                                                     [key], {});\n",
              "          if (!dataTable) return;\n",
              "\n",
              "          const docLinkHtml = 'Like what you see? Visit the ' +\n",
              "            '<a target=\"_blank\" href=https://colab.research.google.com/notebooks/data_table.ipynb>data table notebook</a>'\n",
              "            + ' to learn more about interactive tables.';\n",
              "          element.innerHTML = '';\n",
              "          dataTable['output_type'] = 'display_data';\n",
              "          await google.colab.output.renderOutput(dataTable, element);\n",
              "          const docLink = document.createElement('div');\n",
              "          docLink.innerHTML = docLinkHtml;\n",
              "          element.appendChild(docLink);\n",
              "        }\n",
              "      </script>\n",
              "    </div>\n",
              "  </div>\n",
              "  "
            ]
          },
          "metadata": {},
          "execution_count": 19
        }
      ]
    },
    {
      "cell_type": "code",
      "source": [
        "popular_list = total_rating_df.merge(avg_rating_df,on='itemID')\n",
        "popular_list=popular_list.sort_values(['num_ratings','avg_rating'], ascending=[False,False])\n",
        "popular_list.head(5)"
      ],
      "metadata": {
        "colab": {
          "base_uri": "https://localhost:8080/",
          "height": 206
        },
        "id": "UFE7W7fqjVoV",
        "outputId": "9fcb2ca2-324d-46a5-ab87-f3931f278f4e"
      },
      "id": "UFE7W7fqjVoV",
      "execution_count": null,
      "outputs": [
        {
          "output_type": "execute_result",
          "data": {
            "text/plain": [
              "     itemID  num_ratings  avg_rating\n",
              "1128     50          583    4.358491\n",
              "859     258          509    3.803536\n",
              "2       100          508    4.155512\n",
              "774     181          507    4.007890\n",
              "899     294          485    3.156701"
            ],
            "text/html": [
              "\n",
              "  <div id=\"df-e55c7e49-d546-4b5d-96e5-11f22a585cab\">\n",
              "    <div class=\"colab-df-container\">\n",
              "      <div>\n",
              "<style scoped>\n",
              "    .dataframe tbody tr th:only-of-type {\n",
              "        vertical-align: middle;\n",
              "    }\n",
              "\n",
              "    .dataframe tbody tr th {\n",
              "        vertical-align: top;\n",
              "    }\n",
              "\n",
              "    .dataframe thead th {\n",
              "        text-align: right;\n",
              "    }\n",
              "</style>\n",
              "<table border=\"1\" class=\"dataframe\">\n",
              "  <thead>\n",
              "    <tr style=\"text-align: right;\">\n",
              "      <th></th>\n",
              "      <th>itemID</th>\n",
              "      <th>num_ratings</th>\n",
              "      <th>avg_rating</th>\n",
              "    </tr>\n",
              "  </thead>\n",
              "  <tbody>\n",
              "    <tr>\n",
              "      <th>1128</th>\n",
              "      <td>50</td>\n",
              "      <td>583</td>\n",
              "      <td>4.358491</td>\n",
              "    </tr>\n",
              "    <tr>\n",
              "      <th>859</th>\n",
              "      <td>258</td>\n",
              "      <td>509</td>\n",
              "      <td>3.803536</td>\n",
              "    </tr>\n",
              "    <tr>\n",
              "      <th>2</th>\n",
              "      <td>100</td>\n",
              "      <td>508</td>\n",
              "      <td>4.155512</td>\n",
              "    </tr>\n",
              "    <tr>\n",
              "      <th>774</th>\n",
              "      <td>181</td>\n",
              "      <td>507</td>\n",
              "      <td>4.007890</td>\n",
              "    </tr>\n",
              "    <tr>\n",
              "      <th>899</th>\n",
              "      <td>294</td>\n",
              "      <td>485</td>\n",
              "      <td>3.156701</td>\n",
              "    </tr>\n",
              "  </tbody>\n",
              "</table>\n",
              "</div>\n",
              "      <button class=\"colab-df-convert\" onclick=\"convertToInteractive('df-e55c7e49-d546-4b5d-96e5-11f22a585cab')\"\n",
              "              title=\"Convert this dataframe to an interactive table.\"\n",
              "              style=\"display:none;\">\n",
              "        \n",
              "  <svg xmlns=\"http://www.w3.org/2000/svg\" height=\"24px\"viewBox=\"0 0 24 24\"\n",
              "       width=\"24px\">\n",
              "    <path d=\"M0 0h24v24H0V0z\" fill=\"none\"/>\n",
              "    <path d=\"M18.56 5.44l.94 2.06.94-2.06 2.06-.94-2.06-.94-.94-2.06-.94 2.06-2.06.94zm-11 1L8.5 8.5l.94-2.06 2.06-.94-2.06-.94L8.5 2.5l-.94 2.06-2.06.94zm10 10l.94 2.06.94-2.06 2.06-.94-2.06-.94-.94-2.06-.94 2.06-2.06.94z\"/><path d=\"M17.41 7.96l-1.37-1.37c-.4-.4-.92-.59-1.43-.59-.52 0-1.04.2-1.43.59L10.3 9.45l-7.72 7.72c-.78.78-.78 2.05 0 2.83L4 21.41c.39.39.9.59 1.41.59.51 0 1.02-.2 1.41-.59l7.78-7.78 2.81-2.81c.8-.78.8-2.07 0-2.86zM5.41 20L4 18.59l7.72-7.72 1.47 1.35L5.41 20z\"/>\n",
              "  </svg>\n",
              "      </button>\n",
              "      \n",
              "  <style>\n",
              "    .colab-df-container {\n",
              "      display:flex;\n",
              "      flex-wrap:wrap;\n",
              "      gap: 12px;\n",
              "    }\n",
              "\n",
              "    .colab-df-convert {\n",
              "      background-color: #E8F0FE;\n",
              "      border: none;\n",
              "      border-radius: 50%;\n",
              "      cursor: pointer;\n",
              "      display: none;\n",
              "      fill: #1967D2;\n",
              "      height: 32px;\n",
              "      padding: 0 0 0 0;\n",
              "      width: 32px;\n",
              "    }\n",
              "\n",
              "    .colab-df-convert:hover {\n",
              "      background-color: #E2EBFA;\n",
              "      box-shadow: 0px 1px 2px rgba(60, 64, 67, 0.3), 0px 1px 3px 1px rgba(60, 64, 67, 0.15);\n",
              "      fill: #174EA6;\n",
              "    }\n",
              "\n",
              "    [theme=dark] .colab-df-convert {\n",
              "      background-color: #3B4455;\n",
              "      fill: #D2E3FC;\n",
              "    }\n",
              "\n",
              "    [theme=dark] .colab-df-convert:hover {\n",
              "      background-color: #434B5C;\n",
              "      box-shadow: 0px 1px 3px 1px rgba(0, 0, 0, 0.15);\n",
              "      filter: drop-shadow(0px 1px 2px rgba(0, 0, 0, 0.3));\n",
              "      fill: #FFFFFF;\n",
              "    }\n",
              "  </style>\n",
              "\n",
              "      <script>\n",
              "        const buttonEl =\n",
              "          document.querySelector('#df-e55c7e49-d546-4b5d-96e5-11f22a585cab button.colab-df-convert');\n",
              "        buttonEl.style.display =\n",
              "          google.colab.kernel.accessAllowed ? 'block' : 'none';\n",
              "\n",
              "        async function convertToInteractive(key) {\n",
              "          const element = document.querySelector('#df-e55c7e49-d546-4b5d-96e5-11f22a585cab');\n",
              "          const dataTable =\n",
              "            await google.colab.kernel.invokeFunction('convertToInteractive',\n",
              "                                                     [key], {});\n",
              "          if (!dataTable) return;\n",
              "\n",
              "          const docLinkHtml = 'Like what you see? Visit the ' +\n",
              "            '<a target=\"_blank\" href=https://colab.research.google.com/notebooks/data_table.ipynb>data table notebook</a>'\n",
              "            + ' to learn more about interactive tables.';\n",
              "          element.innerHTML = '';\n",
              "          dataTable['output_type'] = 'display_data';\n",
              "          await google.colab.output.renderOutput(dataTable, element);\n",
              "          const docLink = document.createElement('div');\n",
              "          docLink.innerHTML = docLinkHtml;\n",
              "          element.appendChild(docLink);\n",
              "        }\n",
              "      </script>\n",
              "    </div>\n",
              "  </div>\n",
              "  "
            ]
          },
          "metadata": {},
          "execution_count": 20
        }
      ]
    },
    {
      "cell_type": "code",
      "source": [
        "popularitems=popular_list.itemID.values[:10]"
      ],
      "metadata": {
        "id": "I20NFU30jrBZ"
      },
      "id": "I20NFU30jrBZ",
      "execution_count": null,
      "outputs": []
    },
    {
      "cell_type": "code",
      "source": [
        "item_only_df =item_only_df.groupby(['itemID','year'],as_index=False)['rating'].agg(['count','mean']).reset_index()\n",
        "\n"
      ],
      "metadata": {
        "id": "ntrAbCIXi-le"
      },
      "id": "ntrAbCIXi-le",
      "execution_count": null,
      "outputs": []
    },
    {
      "cell_type": "code",
      "source": [
        "item_only_df=item_only_df[item_only_df['itemID'].isin(popularitems)]"
      ],
      "metadata": {
        "id": "i3a0i6Xujudz"
      },
      "id": "i3a0i6Xujudz",
      "execution_count": null,
      "outputs": []
    },
    {
      "cell_type": "code",
      "source": [
        "item_only_df_2015=item_only_df_2015[item_only_df_2015['itemID'].isin(popularitems)]"
      ],
      "metadata": {
        "id": "9D5PCHrxk8Lo"
      },
      "id": "9D5PCHrxk8Lo",
      "execution_count": null,
      "outputs": []
    },
    {
      "cell_type": "code",
      "source": [
        "sns.relplot(x=\"year\", y=\"count\", hue=\"itemID\",\n",
        "            height=5,\n",
        "            kind=\"line\", estimator=None, data=item_only_df);"
      ],
      "metadata": {
        "colab": {
          "base_uri": "https://localhost:8080/",
          "height": 369
        },
        "id": "GlF-QfWRi-v8",
        "outputId": "d7bd0935-2519-41a4-ba57-7d8f77806c99"
      },
      "id": "GlF-QfWRi-v8",
      "execution_count": null,
      "outputs": [
        {
          "output_type": "display_data",
          "data": {
            "text/plain": [
              "<Figure size 415.125x360 with 1 Axes>"
            ],
            "image/png": "[encoded data removed]"
          },
          "metadata": {}
        }
      ]
    },
    {
      "cell_type": "code",
      "source": [
        "sns.relplot(x=\"year\", y=\"mean\", hue=\"itemID\",\n",
        "            height=5,\n",
        "            kind=\"line\", estimator=None, data=item_only_df);"
      ],
      "metadata": {
        "colab": {
          "base_uri": "https://localhost:8080/",
          "height": 369
        },
        "id": "06f38WZKlDMX",
        "outputId": "7c9087d8-dd25-4dc1-f44d-a1b4550cbee5"
      },
      "id": "06f38WZKlDMX",
      "execution_count": null,
      "outputs": [
        {
          "output_type": "display_data",
          "data": {
            "text/plain": [
              "<Figure size 415.125x360 with 1 Axes>"
            ],
            "image/png": "[encoded data removed]"
          },
          "metadata": {}
        }
      ]
    },
    {
      "cell_type": "markdown",
      "source": [
        "Trend of movies watch vs year"
      ],
      "metadata": {
        "id": "wrfKLfSc8lE3"
      },
      "id": "wrfKLfSc8lE3"
    },
    {
      "cell_type": "code",
      "source": [
        "popularitems_50=popular_list.itemID.values[:1000]\n",
        "unpopularitems_50=popular_list.itemID.values[:-1000]"
      ],
      "metadata": {
        "id": "I17x3iqm7kw_"
      },
      "id": "I17x3iqm7kw_",
      "execution_count": null,
      "outputs": []
    },
    {
      "cell_type": "code",
      "source": [
        "item_only_50_df=item_only_df[item_only_df['itemID'].isin(popularitems_50)]"
      ],
      "metadata": {
        "id": "THFTnumb7vuc"
      },
      "id": "THFTnumb7vuc",
      "execution_count": null,
      "outputs": []
    },
    {
      "cell_type": "code",
      "source": [
        "item_only_50_df_count=item_only_50_df.groupby(['year'],as_index=False)['count'].agg(['mean']).reset_index()\n",
        "item_only_50_df_mean=item_only_50_df.groupby(['year'],as_index=False)['mean'].agg(['mean']).reset_index()"
      ],
      "metadata": {
        "id": "HHT1wJ2x729n"
      },
      "id": "HHT1wJ2x729n",
      "execution_count": null,
      "outputs": []
    },
    {
      "cell_type": "code",
      "source": [
        "sns.relplot(x=\"year\", y=\"mean\", \n",
        "            height=5,\n",
        "            kind=\"line\", estimator=None, data=item_only_50_df_count);"
      ],
      "metadata": {
        "colab": {
          "base_uri": "https://localhost:8080/",
          "height": 369
        },
        "id": "qNUuiZ-58It0",
        "outputId": "784462b0-2a3b-4abe-fafb-b0b3fca3d188"
      },
      "id": "qNUuiZ-58It0",
      "execution_count": null,
      "outputs": [
        {
          "output_type": "display_data",
          "data": {
            "text/plain": [
              "<Figure size 360x360 with 1 Axes>"
            ],
            "image/png": "[encoded data removed]"
          },
          "metadata": {}
        }
      ]
    },
    {
      "cell_type": "code",
      "source": [
        "sns.relplot(x=\"year\", y=\"mean\", \n",
        "            height=5,\n",
        "            kind=\"line\", estimator=None, data=item_only_50_df_mean);"
      ],
      "metadata": {
        "colab": {
          "base_uri": "https://localhost:8080/",
          "height": 369
        },
        "id": "_fBw3_V18hSC",
        "outputId": "eb8ce9ad-80ab-487e-91f6-60d7f30994be"
      },
      "id": "_fBw3_V18hSC",
      "execution_count": null,
      "outputs": [
        {
          "output_type": "display_data",
          "data": {
            "text/plain": [
              "<Figure size 360x360 with 1 Axes>"
            ],
            "image/png": "[encoded data removed]"
          },
          "metadata": {}
        }
      ]
    },
    {
      "cell_type": "markdown",
      "source": [
        "Observations :\n",
        "It is clear that we there are some clear pattern observed based on year information.So timestamp can be one key features"
      ],
      "metadata": {
        "id": "SBGHwo_xkkhq"
      },
      "id": "SBGHwo_xkkhq"
    },
    {
      "cell_type": "markdown",
      "source": [
        "### SAR Algorithm"
      ],
      "metadata": {
        "id": "FUqH530Ul-3G"
      },
      "id": "FUqH530Ul-3G"
    },
    {
      "cell_type": "code",
      "source": [
        "!pip install recommenders"
      ],
      "metadata": {
        "id": "X6sY5ul3mcvF"
      },
      "id": "X6sY5ul3mcvF",
      "execution_count": null,
      "outputs": []
    },
    {
      "cell_type": "code",
      "source": [
        "\n",
        "from recommenders.datasets import movielens\n",
        "from recommenders.datasets.python_splitters import python_stratified_split\n",
        "from recommenders.evaluation.python_evaluation import map_at_k, ndcg_at_k, precision_at_k, recall_at_k\n",
        "from recommenders.models.sar import SAR\n"
      ],
      "metadata": {
        "id": "ATAL7_0Gmc1-"
      },
      "id": "ATAL7_0Gmc1-",
      "execution_count": null,
      "outputs": []
    },
    {
      "cell_type": "code",
      "source": [
        "data = rating_df[['userID','itemID','rating','time']]\n",
        "# Convert the float precision to 32-bit in order to reduce memory consumption \n"
      ],
      "metadata": {
        "id": "idRf4_yEkaBs"
      },
      "id": "idRf4_yEkaBs",
      "execution_count": null,
      "outputs": []
    },
    {
      "cell_type": "code",
      "source": [
        "data.loc[:, 'rating'] = data['rating'].astype(np.float32)\n",
        "\n",
        "data.head()"
      ],
      "metadata": {
        "id": "NkMEEKEUnE9Y",
        "colab": {
          "base_uri": "https://localhost:8080/",
          "height": 330
        },
        "outputId": "2d780028-b9e5-4aca-f0fb-42e624e95b62"
      },
      "id": "NkMEEKEUnE9Y",
      "execution_count": null,
      "outputs": [
        {
          "output_type": "stream",
          "name": "stderr",
          "text": [
            "/usr/local/lib/python3.7/dist-packages/pandas/core/indexing.py:1773: SettingWithCopyWarning: \n",
            "A value is trying to be set on a copy of a slice from a DataFrame.\n",
            "Try using .loc[row_indexer,col_indexer] = value instead\n",
            "\n",
            "See the caveats in the documentation: https://pandas.pydata.org/pandas-docs/stable/user_guide/indexing.html#returning-a-view-versus-a-copy\n",
            "  self._setitem_single_column(ilocs[0], value, pi)\n"
          ]
        },
        {
          "output_type": "execute_result",
          "data": {
            "text/plain": [
              "  userID itemID  rating       time\n",
              "0    196    242     3.0  881250949\n",
              "1    186    302     3.0  891717742\n",
              "2     22    377     1.0  878887116\n",
              "3    244     51     2.0  880606923\n",
              "4    166    346     1.0  886397596"
            ],
            "text/html": [
              "\n",
              "  <div id=\"df-7dff8b89-a796-4c13-bf85-6d3a551977a8\">\n",
              "    <div class=\"colab-df-container\">\n",
              "      <div>\n",
              "<style scoped>\n",
              "    .dataframe tbody tr th:only-of-type {\n",
              "        vertical-align: middle;\n",
              "    }\n",
              "\n",
              "    .dataframe tbody tr th {\n",
              "        vertical-align: top;\n",
              "    }\n",
              "\n",
              "    .dataframe thead th {\n",
              "        text-align: right;\n",
              "    }\n",
              "</style>\n",
              "<table border=\"1\" class=\"dataframe\">\n",
              "  <thead>\n",
              "    <tr style=\"text-align: right;\">\n",
              "      <th></th>\n",
              "      <th>userID</th>\n",
              "      <th>itemID</th>\n",
              "      <th>rating</th>\n",
              "      <th>time</th>\n",
              "    </tr>\n",
              "  </thead>\n",
              "  <tbody>\n",
              "    <tr>\n",
              "      <th>0</th>\n",
              "      <td>196</td>\n",
              "      <td>242</td>\n",
              "      <td>3.0</td>\n",
              "      <td>881250949</td>\n",
              "    </tr>\n",
              "    <tr>\n",
              "      <th>1</th>\n",
              "      <td>186</td>\n",
              "      <td>302</td>\n",
              "      <td>3.0</td>\n",
              "      <td>891717742</td>\n",
              "    </tr>\n",
              "    <tr>\n",
              "      <th>2</th>\n",
              "      <td>22</td>\n",
              "      <td>377</td>\n",
              "      <td>1.0</td>\n",
              "      <td>878887116</td>\n",
              "    </tr>\n",
              "    <tr>\n",
              "      <th>3</th>\n",
              "      <td>244</td>\n",
              "      <td>51</td>\n",
              "      <td>2.0</td>\n",
              "      <td>880606923</td>\n",
              "    </tr>\n",
              "    <tr>\n",
              "      <th>4</th>\n",
              "      <td>166</td>\n",
              "      <td>346</td>\n",
              "      <td>1.0</td>\n",
              "      <td>886397596</td>\n",
              "    </tr>\n",
              "  </tbody>\n",
              "</table>\n",
              "</div>\n",
              "      <button class=\"colab-df-convert\" onclick=\"convertToInteractive('df-7dff8b89-a796-4c13-bf85-6d3a551977a8')\"\n",
              "              title=\"Convert this dataframe to an interactive table.\"\n",
              "              style=\"display:none;\">\n",
              "        \n",
              "  <svg xmlns=\"http://www.w3.org/2000/svg\" height=\"24px\"viewBox=\"0 0 24 24\"\n",
              "       width=\"24px\">\n",
              "    <path d=\"M0 0h24v24H0V0z\" fill=\"none\"/>\n",
              "    <path d=\"M18.56 5.44l.94 2.06.94-2.06 2.06-.94-2.06-.94-.94-2.06-.94 2.06-2.06.94zm-11 1L8.5 8.5l.94-2.06 2.06-.94-2.06-.94L8.5 2.5l-.94 2.06-2.06.94zm10 10l.94 2.06.94-2.06 2.06-.94-2.06-.94-.94-2.06-.94 2.06-2.06.94z\"/><path d=\"M17.41 7.96l-1.37-1.37c-.4-.4-.92-.59-1.43-.59-.52 0-1.04.2-1.43.59L10.3 9.45l-7.72 7.72c-.78.78-.78 2.05 0 2.83L4 21.41c.39.39.9.59 1.41.59.51 0 1.02-.2 1.41-.59l7.78-7.78 2.81-2.81c.8-.78.8-2.07 0-2.86zM5.41 20L4 18.59l7.72-7.72 1.47 1.35L5.41 20z\"/>\n",
              "  </svg>\n",
              "      </button>\n",
              "      \n",
              "  <style>\n",
              "    .colab-df-container {\n",
              "      display:flex;\n",
              "      flex-wrap:wrap;\n",
              "      gap: 12px;\n",
              "    }\n",
              "\n",
              "    .colab-df-convert {\n",
              "      background-color: #E8F0FE;\n",
              "      border: none;\n",
              "      border-radius: 50%;\n",
              "      cursor: pointer;\n",
              "      display: none;\n",
              "      fill: #1967D2;\n",
              "      height: 32px;\n",
              "      padding: 0 0 0 0;\n",
              "      width: 32px;\n",
              "    }\n",
              "\n",
              "    .colab-df-convert:hover {\n",
              "      background-color: #E2EBFA;\n",
              "      box-shadow: 0px 1px 2px rgba(60, 64, 67, 0.3), 0px 1px 3px 1px rgba(60, 64, 67, 0.15);\n",
              "      fill: #174EA6;\n",
              "    }\n",
              "\n",
              "    [theme=dark] .colab-df-convert {\n",
              "      background-color: #3B4455;\n",
              "      fill: #D2E3FC;\n",
              "    }\n",
              "\n",
              "    [theme=dark] .colab-df-convert:hover {\n",
              "      background-color: #434B5C;\n",
              "      box-shadow: 0px 1px 3px 1px rgba(0, 0, 0, 0.15);\n",
              "      filter: drop-shadow(0px 1px 2px rgba(0, 0, 0, 0.3));\n",
              "      fill: #FFFFFF;\n",
              "    }\n",
              "  </style>\n",
              "\n",
              "      <script>\n",
              "        const buttonEl =\n",
              "          document.querySelector('#df-7dff8b89-a796-4c13-bf85-6d3a551977a8 button.colab-df-convert');\n",
              "        buttonEl.style.display =\n",
              "          google.colab.kernel.accessAllowed ? 'block' : 'none';\n",
              "\n",
              "        async function convertToInteractive(key) {\n",
              "          const element = document.querySelector('#df-7dff8b89-a796-4c13-bf85-6d3a551977a8');\n",
              "          const dataTable =\n",
              "            await google.colab.kernel.invokeFunction('convertToInteractive',\n",
              "                                                     [key], {});\n",
              "          if (!dataTable) return;\n",
              "\n",
              "          const docLinkHtml = 'Like what you see? Visit the ' +\n",
              "            '<a target=\"_blank\" href=https://colab.research.google.com/notebooks/data_table.ipynb>data table notebook</a>'\n",
              "            + ' to learn more about interactive tables.';\n",
              "          element.innerHTML = '';\n",
              "          dataTable['output_type'] = 'display_data';\n",
              "          await google.colab.output.renderOutput(dataTable, element);\n",
              "          const docLink = document.createElement('div');\n",
              "          docLink.innerHTML = docLinkHtml;\n",
              "          element.appendChild(docLink);\n",
              "        }\n",
              "      </script>\n",
              "    </div>\n",
              "  </div>\n",
              "  "
            ]
          },
          "metadata": {},
          "execution_count": 172
        }
      ]
    },
    {
      "cell_type": "code",
      "source": [
        "data.shape"
      ],
      "metadata": {
        "id": "jlvecTlsoKqT",
        "colab": {
          "base_uri": "https://localhost:8080/"
        },
        "outputId": "c63fdba9-33a2-4a4f-cf46-340dc0d7d44a"
      },
      "id": "jlvecTlsoKqT",
      "execution_count": null,
      "outputs": [
        {
          "output_type": "execute_result",
          "data": {
            "text/plain": [
              "(100000, 4)"
            ]
          },
          "metadata": {},
          "execution_count": 173
        }
      ]
    },
    {
      "cell_type": "code",
      "source": [
        "header = {\n",
        "    \"col_user\": \"userID\",\n",
        "    \"col_item\": \"itemID\",\n",
        "    \"col_rating\": \"rating\",\n",
        "    \"col_timestamp\": \"time\",\n",
        "    \"col_prediction\": \"Prediction\",\n",
        "}\n",
        "train, test = python_stratified_split(data, ratio=0.8, col_user=header[\"col_user\"], col_item=header[\"col_item\"], seed=42)\n"
      ],
      "metadata": {
        "id": "_G1cPD59mSWW"
      },
      "id": "_G1cPD59mSWW",
      "execution_count": null,
      "outputs": []
    },
    {
      "cell_type": "code",
      "source": [
        "model = SAR(\n",
        "    similarity_type=\"jaccard\", \n",
        "    time_decay_coefficient=30, \n",
        "    time_now=None, \n",
        "    timedecay_formula=True, \n",
        "    **header\n",
        ")"
      ],
      "metadata": {
        "id": "87U7e8Cpi-zU"
      },
      "id": "87U7e8Cpi-zU",
      "execution_count": null,
      "outputs": []
    },
    {
      "cell_type": "code",
      "source": [
        "model.fit(train)"
      ],
      "metadata": {
        "id": "OPIqfly1i-2Q"
      },
      "id": "OPIqfly1i-2Q",
      "execution_count": null,
      "outputs": []
    },
    {
      "cell_type": "code",
      "source": [
        "top_k = model.recommend_k_items(test, top_k=20, remove_seen=True)\n"
      ],
      "metadata": {
        "id": "p4RfOknWL9T6"
      },
      "id": "p4RfOknWL9T6",
      "execution_count": null,
      "outputs": []
    },
    {
      "cell_type": "code",
      "source": [
        "top_k_with_titles = (top_k.join(data[['itemID']].drop_duplicates().set_index('itemID'), \n",
        "                                on='itemID', \n",
        "                                how='inner').sort_values(by=['userID', 'Prediction'], ascending=False))\n",
        "display(top_k_with_titles.head(20))"
      ],
      "metadata": {
        "colab": {
          "base_uri": "https://localhost:8080/",
          "height": 676
        },
        "id": "rSpmceepL_eg",
        "outputId": "0740cedb-aad9-4e54-80c4-c78e469fd50a"
      },
      "id": "rSpmceepL_eg",
      "execution_count": null,
      "outputs": [
        {
          "output_type": "display_data",
          "data": {
            "text/plain": [
              "      userID itemID  Prediction\n",
              "18840     99    568   10.596852\n",
              "18841     99     79   10.482389\n",
              "18842     99    195   10.370702\n",
              "18843     99    202   10.366434\n",
              "18844     99     96   10.195569\n",
              "18845     99    546   10.156565\n",
              "18846     99      7   10.068504\n",
              "18847     99     12   10.055834\n",
              "18848     99     82   10.044115\n",
              "18849     99    222    9.968143\n",
              "18850     99    423    9.943840\n",
              "18851     99     97    9.930613\n",
              "18852     99    176    9.841852\n",
              "18853     99    183    9.820851\n",
              "18854     99    144    9.814986\n",
              "18855     99    385    9.747860\n",
              "18856     99     28    9.633614\n",
              "18857     99    151    9.565624\n",
              "18858     99     95    9.499186\n",
              "18859     99    235    9.425072"
            ],
            "text/html": [
              "\n",
              "  <div id=\"df-9786ee25-2774-45e6-85e8-c4c3cd7cc6fd\">\n",
              "    <div class=\"colab-df-container\">\n",
              "      <div>\n",
              "<style scoped>\n",
              "    .dataframe tbody tr th:only-of-type {\n",
              "        vertical-align: middle;\n",
              "    }\n",
              "\n",
              "    .dataframe tbody tr th {\n",
              "        vertical-align: top;\n",
              "    }\n",
              "\n",
              "    .dataframe thead th {\n",
              "        text-align: right;\n",
              "    }\n",
              "</style>\n",
              "<table border=\"1\" class=\"dataframe\">\n",
              "  <thead>\n",
              "    <tr style=\"text-align: right;\">\n",
              "      <th></th>\n",
              "      <th>userID</th>\n",
              "      <th>itemID</th>\n",
              "      <th>Prediction</th>\n",
              "    </tr>\n",
              "  </thead>\n",
              "  <tbody>\n",
              "    <tr>\n",
              "      <th>18840</th>\n",
              "      <td>99</td>\n",
              "      <td>568</td>\n",
              "      <td>10.596852</td>\n",
              "    </tr>\n",
              "    <tr>\n",
              "      <th>18841</th>\n",
              "      <td>99</td>\n",
              "      <td>79</td>\n",
              "      <td>10.482389</td>\n",
              "    </tr>\n",
              "    <tr>\n",
              "      <th>18842</th>\n",
              "      <td>99</td>\n",
              "      <td>195</td>\n",
              "      <td>10.370702</td>\n",
              "    </tr>\n",
              "    <tr>\n",
              "      <th>18843</th>\n",
              "      <td>99</td>\n",
              "      <td>202</td>\n",
              "      <td>10.366434</td>\n",
              "    </tr>\n",
              "    <tr>\n",
              "      <th>18844</th>\n",
              "      <td>99</td>\n",
              "      <td>96</td>\n",
              "      <td>10.195569</td>\n",
              "    </tr>\n",
              "    <tr>\n",
              "      <th>18845</th>\n",
              "      <td>99</td>\n",
              "      <td>546</td>\n",
              "      <td>10.156565</td>\n",
              "    </tr>\n",
              "    <tr>\n",
              "      <th>18846</th>\n",
              "      <td>99</td>\n",
              "      <td>7</td>\n",
              "      <td>10.068504</td>\n",
              "    </tr>\n",
              "    <tr>\n",
              "      <th>18847</th>\n",
              "      <td>99</td>\n",
              "      <td>12</td>\n",
              "      <td>10.055834</td>\n",
              "    </tr>\n",
              "    <tr>\n",
              "      <th>18848</th>\n",
              "      <td>99</td>\n",
              "      <td>82</td>\n",
              "      <td>10.044115</td>\n",
              "    </tr>\n",
              "    <tr>\n",
              "      <th>18849</th>\n",
              "      <td>99</td>\n",
              "      <td>222</td>\n",
              "      <td>9.968143</td>\n",
              "    </tr>\n",
              "    <tr>\n",
              "      <th>18850</th>\n",
              "      <td>99</td>\n",
              "      <td>423</td>\n",
              "      <td>9.943840</td>\n",
              "    </tr>\n",
              "    <tr>\n",
              "      <th>18851</th>\n",
              "      <td>99</td>\n",
              "      <td>97</td>\n",
              "      <td>9.930613</td>\n",
              "    </tr>\n",
              "    <tr>\n",
              "      <th>18852</th>\n",
              "      <td>99</td>\n",
              "      <td>176</td>\n",
              "      <td>9.841852</td>\n",
              "    </tr>\n",
              "    <tr>\n",
              "      <th>18853</th>\n",
              "      <td>99</td>\n",
              "      <td>183</td>\n",
              "      <td>9.820851</td>\n",
              "    </tr>\n",
              "    <tr>\n",
              "      <th>18854</th>\n",
              "      <td>99</td>\n",
              "      <td>144</td>\n",
              "      <td>9.814986</td>\n",
              "    </tr>\n",
              "    <tr>\n",
              "      <th>18855</th>\n",
              "      <td>99</td>\n",
              "      <td>385</td>\n",
              "      <td>9.747860</td>\n",
              "    </tr>\n",
              "    <tr>\n",
              "      <th>18856</th>\n",
              "      <td>99</td>\n",
              "      <td>28</td>\n",
              "      <td>9.633614</td>\n",
              "    </tr>\n",
              "    <tr>\n",
              "      <th>18857</th>\n",
              "      <td>99</td>\n",
              "      <td>151</td>\n",
              "      <td>9.565624</td>\n",
              "    </tr>\n",
              "    <tr>\n",
              "      <th>18858</th>\n",
              "      <td>99</td>\n",
              "      <td>95</td>\n",
              "      <td>9.499186</td>\n",
              "    </tr>\n",
              "    <tr>\n",
              "      <th>18859</th>\n",
              "      <td>99</td>\n",
              "      <td>235</td>\n",
              "      <td>9.425072</td>\n",
              "    </tr>\n",
              "  </tbody>\n",
              "</table>\n",
              "</div>\n",
              "      <button class=\"colab-df-convert\" onclick=\"convertToInteractive('df-9786ee25-2774-45e6-85e8-c4c3cd7cc6fd')\"\n",
              "              title=\"Convert this dataframe to an interactive table.\"\n",
              "              style=\"display:none;\">\n",
              "        \n",
              "  <svg xmlns=\"http://www.w3.org/2000/svg\" height=\"24px\"viewBox=\"0 0 24 24\"\n",
              "       width=\"24px\">\n",
              "    <path d=\"M0 0h24v24H0V0z\" fill=\"none\"/>\n",
              "    <path d=\"M18.56 5.44l.94 2.06.94-2.06 2.06-.94-2.06-.94-.94-2.06-.94 2.06-2.06.94zm-11 1L8.5 8.5l.94-2.06 2.06-.94-2.06-.94L8.5 2.5l-.94 2.06-2.06.94zm10 10l.94 2.06.94-2.06 2.06-.94-2.06-.94-.94-2.06-.94 2.06-2.06.94z\"/><path d=\"M17.41 7.96l-1.37-1.37c-.4-.4-.92-.59-1.43-.59-.52 0-1.04.2-1.43.59L10.3 9.45l-7.72 7.72c-.78.78-.78 2.05 0 2.83L4 21.41c.39.39.9.59 1.41.59.51 0 1.02-.2 1.41-.59l7.78-7.78 2.81-2.81c.8-.78.8-2.07 0-2.86zM5.41 20L4 18.59l7.72-7.72 1.47 1.35L5.41 20z\"/>\n",
              "  </svg>\n",
              "      </button>\n",
              "      \n",
              "  <style>\n",
              "    .colab-df-container {\n",
              "      display:flex;\n",
              "      flex-wrap:wrap;\n",
              "      gap: 12px;\n",
              "    }\n",
              "\n",
              "    .colab-df-convert {\n",
              "      background-color: #E8F0FE;\n",
              "      border: none;\n",
              "      border-radius: 50%;\n",
              "      cursor: pointer;\n",
              "      display: none;\n",
              "      fill: #1967D2;\n",
              "      height: 32px;\n",
              "      padding: 0 0 0 0;\n",
              "      width: 32px;\n",
              "    }\n",
              "\n",
              "    .colab-df-convert:hover {\n",
              "      background-color: #E2EBFA;\n",
              "      box-shadow: 0px 1px 2px rgba(60, 64, 67, 0.3), 0px 1px 3px 1px rgba(60, 64, 67, 0.15);\n",
              "      fill: #174EA6;\n",
              "    }\n",
              "\n",
              "    [theme=dark] .colab-df-convert {\n",
              "      background-color: #3B4455;\n",
              "      fill: #D2E3FC;\n",
              "    }\n",
              "\n",
              "    [theme=dark] .colab-df-convert:hover {\n",
              "      background-color: #434B5C;\n",
              "      box-shadow: 0px 1px 3px 1px rgba(0, 0, 0, 0.15);\n",
              "      filter: drop-shadow(0px 1px 2px rgba(0, 0, 0, 0.3));\n",
              "      fill: #FFFFFF;\n",
              "    }\n",
              "  </style>\n",
              "\n",
              "      <script>\n",
              "        const buttonEl =\n",
              "          document.querySelector('#df-9786ee25-2774-45e6-85e8-c4c3cd7cc6fd button.colab-df-convert');\n",
              "        buttonEl.style.display =\n",
              "          google.colab.kernel.accessAllowed ? 'block' : 'none';\n",
              "\n",
              "        async function convertToInteractive(key) {\n",
              "          const element = document.querySelector('#df-9786ee25-2774-45e6-85e8-c4c3cd7cc6fd');\n",
              "          const dataTable =\n",
              "            await google.colab.kernel.invokeFunction('convertToInteractive',\n",
              "                                                     [key], {});\n",
              "          if (!dataTable) return;\n",
              "\n",
              "          const docLinkHtml = 'Like what you see? Visit the ' +\n",
              "            '<a target=\"_blank\" href=https://colab.research.google.com/notebooks/data_table.ipynb>data table notebook</a>'\n",
              "            + ' to learn more about interactive tables.';\n",
              "          element.innerHTML = '';\n",
              "          dataTable['output_type'] = 'display_data';\n",
              "          await google.colab.output.renderOutput(dataTable, element);\n",
              "          const docLink = document.createElement('div');\n",
              "          docLink.innerHTML = docLinkHtml;\n",
              "          element.appendChild(docLink);\n",
              "        }\n",
              "      </script>\n",
              "    </div>\n",
              "  </div>\n",
              "  "
            ]
          },
          "metadata": {}
        }
      ]
    },
    {
      "cell_type": "code",
      "source": [
        "# all ranking metrics have the same arguments\n",
        "TOP_K=20\n",
        "args = [test, top_k]\n",
        "kwargs = dict(col_user='userID', \n",
        "              col_item='itemID', \n",
        "              col_rating='rating', \n",
        "              col_prediction='Prediction', \n",
        "              relevancy_method='top_k', \n",
        "              k=TOP_K)\n",
        "\n",
        "eval_map = map_at_k(*args, **kwargs)\n",
        "eval_ndcg = ndcg_at_k(*args, **kwargs)\n",
        "eval_precision = precision_at_k(*args, **kwargs)\n",
        "eval_recall = recall_at_k(*args, **kwargs)"
      ],
      "metadata": {
        "id": "gg9hLvsZMB4J"
      },
      "id": "gg9hLvsZMB4J",
      "execution_count": null,
      "outputs": []
    },
    {
      "cell_type": "code",
      "source": [
        "print(f\"Model:\",\n",
        "      f\"Top K:\\t\\t {TOP_K}\",\n",
        "      f\"MAP:\\t\\t {eval_map:f}\",\n",
        "      f\"NDCG:\\t\\t {eval_ndcg:f}\",\n",
        "      f\"Precision@K:\\t {eval_precision:f}\",\n",
        "      f\"Recall@K:\\t {eval_recall:f}\", sep='\\n')"
      ],
      "metadata": {
        "colab": {
          "base_uri": "https://localhost:8080/"
        },
        "id": "Z6XVagWOMDQF",
        "outputId": "0a638982-09c7-4315-97df-dd05f9623ae7"
      },
      "id": "Z6XVagWOMDQF",
      "execution_count": null,
      "outputs": [
        {
          "output_type": "stream",
          "name": "stdout",
          "text": [
            "Model:\n",
            "Top K:\t\t 20\n",
            "MAP:\t\t 0.137433\n",
            "NDCG:\t\t 0.339398\n",
            "Precision@K:\t 0.224867\n",
            "Recall@K:\t 0.276670\n"
          ]
        }
      ]
    },
    {
      "cell_type": "markdown",
      "source": [
        "## Graphical visualisations"
      ],
      "metadata": {
        "id": "w1LD_K_QAD26"
      },
      "id": "w1LD_K_QAD26"
    },
    {
      "cell_type": "code",
      "source": [
        "rating_df.columns"
      ],
      "metadata": {
        "colab": {
          "base_uri": "https://localhost:8080/"
        },
        "id": "q9AzsFzmAHpT",
        "outputId": "33816c1e-f2c0-4bbb-ce68-78ee0df7e96e"
      },
      "id": "q9AzsFzmAHpT",
      "execution_count": null,
      "outputs": [
        {
          "output_type": "execute_result",
          "data": {
            "text/plain": [
              "Index(['userID', 'itemID', 'rating', 'time', 'movie', 'release_date',\n",
              "       'video_release_date', 'imdb_url', 'unknown', 'action', 'adventure',\n",
              "       'animation', 'childrens', 'comedy', 'crime', 'documentary', 'drama',\n",
              "       'fantasy', 'film_noir', 'horror', 'musical', 'mystery', 'romance',\n",
              "       'sci_fi', 'thriller', 'war', 'western', 'date', 'year'],\n",
              "      dtype='object')"
            ]
          },
          "metadata": {},
          "execution_count": 43
        }
      ]
    },
    {
      "cell_type": "code",
      "source": [
        "rating_df.describe()"
      ],
      "metadata": {
        "colab": {
          "base_uri": "https://localhost:8080/",
          "height": 394
        },
        "id": "4rn6R4o_URzy",
        "outputId": "0002d26b-af64-4168-8306-ef01eb16063d"
      },
      "id": "4rn6R4o_URzy",
      "execution_count": null,
      "outputs": [
        {
          "output_type": "execute_result",
          "data": {
            "text/plain": [
              "              rating          time  video_release_date      unknown  \\\n",
              "count  100000.000000  1.000000e+05                 0.0  100000.0000   \n",
              "mean        3.529860  8.835289e+08                 NaN       0.0001   \n",
              "std         1.125674  5.343856e+06                 NaN       0.0100   \n",
              "min         1.000000  8.747247e+08                 NaN       0.0000   \n",
              "25%         3.000000  8.794487e+08                 NaN       0.0000   \n",
              "50%         4.000000  8.828269e+08                 NaN       0.0000   \n",
              "75%         4.000000  8.882600e+08                 NaN       0.0000   \n",
              "max         5.000000  8.932866e+08                 NaN       1.0000   \n",
              "\n",
              "              action      adventure      animation      childrens  \\\n",
              "count  100000.000000  100000.000000  100000.000000  100000.000000   \n",
              "mean        0.255890       0.137530       0.036050       0.071820   \n",
              "std         0.436362       0.344408       0.186416       0.258191   \n",
              "min         0.000000       0.000000       0.000000       0.000000   \n",
              "25%         0.000000       0.000000       0.000000       0.000000   \n",
              "50%         0.000000       0.000000       0.000000       0.000000   \n",
              "75%         1.000000       0.000000       0.000000       0.000000   \n",
              "max         1.000000       1.000000       1.000000       1.000000   \n",
              "\n",
              "              comedy          crime  ...      film_noir         horror  \\\n",
              "count  100000.000000  100000.000000  ...  100000.000000  100000.000000   \n",
              "mean        0.298320       0.080550  ...       0.017330       0.053170   \n",
              "std         0.457523       0.272144  ...       0.130498       0.224373   \n",
              "min         0.000000       0.000000  ...       0.000000       0.000000   \n",
              "25%         0.000000       0.000000  ...       0.000000       0.000000   \n",
              "50%         0.000000       0.000000  ...       0.000000       0.000000   \n",
              "75%         1.000000       0.000000  ...       0.000000       0.000000   \n",
              "max         1.000000       1.000000  ...       1.000000       1.000000   \n",
              "\n",
              "             musical        mystery        romance        sci_fi  \\\n",
              "count  100000.000000  100000.000000  100000.000000  100000.00000   \n",
              "mean        0.049540       0.052450       0.194610       0.12730   \n",
              "std         0.216994       0.222934       0.395902       0.33331   \n",
              "min         0.000000       0.000000       0.000000       0.00000   \n",
              "25%         0.000000       0.000000       0.000000       0.00000   \n",
              "50%         0.000000       0.000000       0.000000       0.00000   \n",
              "75%         0.000000       0.000000       0.000000       0.00000   \n",
              "max         1.000000       1.000000       1.000000       1.00000   \n",
              "\n",
              "           thriller            war        western           year  \n",
              "count  100000.00000  100000.000000  100000.000000  100000.000000  \n",
              "mean        0.21872       0.093980       0.018540    1997.471010  \n",
              "std         0.41338       0.291802       0.134894       0.499161  \n",
              "min         0.00000       0.000000       0.000000    1997.000000  \n",
              "25%         0.00000       0.000000       0.000000    1997.000000  \n",
              "50%         0.00000       0.000000       0.000000    1997.000000  \n",
              "75%         0.00000       0.000000       0.000000    1998.000000  \n",
              "max         1.00000       1.000000       1.000000    1998.000000  \n",
              "\n",
              "[8 rows x 23 columns]"
            ],
            "text/html": [
              "\n",
              "  <div id=\"df-430c52b1-8065-4939-b355-d117f407b956\">\n",
              "    <div class=\"colab-df-container\">\n",
              "      <div>\n",
              "<style scoped>\n",
              "    .dataframe tbody tr th:only-of-type {\n",
              "        vertical-align: middle;\n",
              "    }\n",
              "\n",
              "    .dataframe tbody tr th {\n",
              "        vertical-align: top;\n",
              "    }\n",
              "\n",
              "    .dataframe thead th {\n",
              "        text-align: right;\n",
              "    }\n",
              "</style>\n",
              "<table border=\"1\" class=\"dataframe\">\n",
              "  <thead>\n",
              "    <tr style=\"text-align: right;\">\n",
              "      <th></th>\n",
              "      <th>rating</th>\n",
              "      <th>time</th>\n",
              "      <th>video_release_date</th>\n",
              "      <th>unknown</th>\n",
              "      <th>action</th>\n",
              "      <th>adventure</th>\n",
              "      <th>animation</th>\n",
              "      <th>childrens</th>\n",
              "      <th>comedy</th>\n",
              "      <th>crime</th>\n",
              "      <th>...</th>\n",
              "      <th>film_noir</th>\n",
              "      <th>horror</th>\n",
              "      <th>musical</th>\n",
              "      <th>mystery</th>\n",
              "      <th>romance</th>\n",
              "      <th>sci_fi</th>\n",
              "      <th>thriller</th>\n",
              "      <th>war</th>\n",
              "      <th>western</th>\n",
              "      <th>year</th>\n",
              "    </tr>\n",
              "  </thead>\n",
              "  <tbody>\n",
              "    <tr>\n",
              "      <th>count</th>\n",
              "      <td>100000.000000</td>\n",
              "      <td>1.000000e+05</td>\n",
              "      <td>0.0</td>\n",
              "      <td>100000.0000</td>\n",
              "      <td>100000.000000</td>\n",
              "      <td>100000.000000</td>\n",
              "      <td>100000.000000</td>\n",
              "      <td>100000.000000</td>\n",
              "      <td>100000.000000</td>\n",
              "      <td>100000.000000</td>\n",
              "      <td>...</td>\n",
              "      <td>100000.000000</td>\n",
              "      <td>100000.000000</td>\n",
              "      <td>100000.000000</td>\n",
              "      <td>100000.000000</td>\n",
              "      <td>100000.000000</td>\n",
              "      <td>100000.00000</td>\n",
              "      <td>100000.00000</td>\n",
              "      <td>100000.000000</td>\n",
              "      <td>100000.000000</td>\n",
              "      <td>100000.000000</td>\n",
              "    </tr>\n",
              "    <tr>\n",
              "      <th>mean</th>\n",
              "      <td>3.529860</td>\n",
              "      <td>8.835289e+08</td>\n",
              "      <td>NaN</td>\n",
              "      <td>0.0001</td>\n",
              "      <td>0.255890</td>\n",
              "      <td>0.137530</td>\n",
              "      <td>0.036050</td>\n",
              "      <td>0.071820</td>\n",
              "      <td>0.298320</td>\n",
              "      <td>0.080550</td>\n",
              "      <td>...</td>\n",
              "      <td>0.017330</td>\n",
              "      <td>0.053170</td>\n",
              "      <td>0.049540</td>\n",
              "      <td>0.052450</td>\n",
              "      <td>0.194610</td>\n",
              "      <td>0.12730</td>\n",
              "      <td>0.21872</td>\n",
              "      <td>0.093980</td>\n",
              "      <td>0.018540</td>\n",
              "      <td>1997.471010</td>\n",
              "    </tr>\n",
              "    <tr>\n",
              "      <th>std</th>\n",
              "      <td>1.125674</td>\n",
              "      <td>5.343856e+06</td>\n",
              "      <td>NaN</td>\n",
              "      <td>0.0100</td>\n",
              "      <td>0.436362</td>\n",
              "      <td>0.344408</td>\n",
              "      <td>0.186416</td>\n",
              "      <td>0.258191</td>\n",
              "      <td>0.457523</td>\n",
              "      <td>0.272144</td>\n",
              "      <td>...</td>\n",
              "      <td>0.130498</td>\n",
              "      <td>0.224373</td>\n",
              "      <td>0.216994</td>\n",
              "      <td>0.222934</td>\n",
              "      <td>0.395902</td>\n",
              "      <td>0.33331</td>\n",
              "      <td>0.41338</td>\n",
              "      <td>0.291802</td>\n",
              "      <td>0.134894</td>\n",
              "      <td>0.499161</td>\n",
              "    </tr>\n",
              "    <tr>\n",
              "      <th>min</th>\n",
              "      <td>1.000000</td>\n",
              "      <td>8.747247e+08</td>\n",
              "      <td>NaN</td>\n",
              "      <td>0.0000</td>\n",
              "      <td>0.000000</td>\n",
              "      <td>0.000000</td>\n",
              "      <td>0.000000</td>\n",
              "      <td>0.000000</td>\n",
              "      <td>0.000000</td>\n",
              "      <td>0.000000</td>\n",
              "      <td>...</td>\n",
              "      <td>0.000000</td>\n",
              "      <td>0.000000</td>\n",
              "      <td>0.000000</td>\n",
              "      <td>0.000000</td>\n",
              "      <td>0.000000</td>\n",
              "      <td>0.00000</td>\n",
              "      <td>0.00000</td>\n",
              "      <td>0.000000</td>\n",
              "      <td>0.000000</td>\n",
              "      <td>1997.000000</td>\n",
              "    </tr>\n",
              "    <tr>\n",
              "      <th>25%</th>\n",
              "      <td>3.000000</td>\n",
              "      <td>8.794487e+08</td>\n",
              "      <td>NaN</td>\n",
              "      <td>0.0000</td>\n",
              "      <td>0.000000</td>\n",
              "      <td>0.000000</td>\n",
              "      <td>0.000000</td>\n",
              "      <td>0.000000</td>\n",
              "      <td>0.000000</td>\n",
              "      <td>0.000000</td>\n",
              "      <td>...</td>\n",
              "      <td>0.000000</td>\n",
              "      <td>0.000000</td>\n",
              "      <td>0.000000</td>\n",
              "      <td>0.000000</td>\n",
              "      <td>0.000000</td>\n",
              "      <td>0.00000</td>\n",
              "      <td>0.00000</td>\n",
              "      <td>0.000000</td>\n",
              "      <td>0.000000</td>\n",
              "      <td>1997.000000</td>\n",
              "    </tr>\n",
              "    <tr>\n",
              "      <th>50%</th>\n",
              "      <td>4.000000</td>\n",
              "      <td>8.828269e+08</td>\n",
              "      <td>NaN</td>\n",
              "      <td>0.0000</td>\n",
              "      <td>0.000000</td>\n",
              "      <td>0.000000</td>\n",
              "      <td>0.000000</td>\n",
              "      <td>0.000000</td>\n",
              "      <td>0.000000</td>\n",
              "      <td>0.000000</td>\n",
              "      <td>...</td>\n",
              "      <td>0.000000</td>\n",
              "      <td>0.000000</td>\n",
              "      <td>0.000000</td>\n",
              "      <td>0.000000</td>\n",
              "      <td>0.000000</td>\n",
              "      <td>0.00000</td>\n",
              "      <td>0.00000</td>\n",
              "      <td>0.000000</td>\n",
              "      <td>0.000000</td>\n",
              "      <td>1997.000000</td>\n",
              "    </tr>\n",
              "    <tr>\n",
              "      <th>75%</th>\n",
              "      <td>4.000000</td>\n",
              "      <td>8.882600e+08</td>\n",
              "      <td>NaN</td>\n",
              "      <td>0.0000</td>\n",
              "      <td>1.000000</td>\n",
              "      <td>0.000000</td>\n",
              "      <td>0.000000</td>\n",
              "      <td>0.000000</td>\n",
              "      <td>1.000000</td>\n",
              "      <td>0.000000</td>\n",
              "      <td>...</td>\n",
              "      <td>0.000000</td>\n",
              "      <td>0.000000</td>\n",
              "      <td>0.000000</td>\n",
              "      <td>0.000000</td>\n",
              "      <td>0.000000</td>\n",
              "      <td>0.00000</td>\n",
              "      <td>0.00000</td>\n",
              "      <td>0.000000</td>\n",
              "      <td>0.000000</td>\n",
              "      <td>1998.000000</td>\n",
              "    </tr>\n",
              "    <tr>\n",
              "      <th>max</th>\n",
              "      <td>5.000000</td>\n",
              "      <td>8.932866e+08</td>\n",
              "      <td>NaN</td>\n",
              "      <td>1.0000</td>\n",
              "      <td>1.000000</td>\n",
              "      <td>1.000000</td>\n",
              "      <td>1.000000</td>\n",
              "      <td>1.000000</td>\n",
              "      <td>1.000000</td>\n",
              "      <td>1.000000</td>\n",
              "      <td>...</td>\n",
              "      <td>1.000000</td>\n",
              "      <td>1.000000</td>\n",
              "      <td>1.000000</td>\n",
              "      <td>1.000000</td>\n",
              "      <td>1.000000</td>\n",
              "      <td>1.00000</td>\n",
              "      <td>1.00000</td>\n",
              "      <td>1.000000</td>\n",
              "      <td>1.000000</td>\n",
              "      <td>1998.000000</td>\n",
              "    </tr>\n",
              "  </tbody>\n",
              "</table>\n",
              "<p>8 rows × 23 columns</p>\n",
              "</div>\n",
              "      <button class=\"colab-df-convert\" onclick=\"convertToInteractive('df-430c52b1-8065-4939-b355-d117f407b956')\"\n",
              "              title=\"Convert this dataframe to an interactive table.\"\n",
              "              style=\"display:none;\">\n",
              "        \n",
              "  <svg xmlns=\"http://www.w3.org/2000/svg\" height=\"24px\"viewBox=\"0 0 24 24\"\n",
              "       width=\"24px\">\n",
              "    <path d=\"M0 0h24v24H0V0z\" fill=\"none\"/>\n",
              "    <path d=\"M18.56 5.44l.94 2.06.94-2.06 2.06-.94-2.06-.94-.94-2.06-.94 2.06-2.06.94zm-11 1L8.5 8.5l.94-2.06 2.06-.94-2.06-.94L8.5 2.5l-.94 2.06-2.06.94zm10 10l.94 2.06.94-2.06 2.06-.94-2.06-.94-.94-2.06-.94 2.06-2.06.94z\"/><path d=\"M17.41 7.96l-1.37-1.37c-.4-.4-.92-.59-1.43-.59-.52 0-1.04.2-1.43.59L10.3 9.45l-7.72 7.72c-.78.78-.78 2.05 0 2.83L4 21.41c.39.39.9.59 1.41.59.51 0 1.02-.2 1.41-.59l7.78-7.78 2.81-2.81c.8-.78.8-2.07 0-2.86zM5.41 20L4 18.59l7.72-7.72 1.47 1.35L5.41 20z\"/>\n",
              "  </svg>\n",
              "      </button>\n",
              "      \n",
              "  <style>\n",
              "    .colab-df-container {\n",
              "      display:flex;\n",
              "      flex-wrap:wrap;\n",
              "      gap: 12px;\n",
              "    }\n",
              "\n",
              "    .colab-df-convert {\n",
              "      background-color: #E8F0FE;\n",
              "      border: none;\n",
              "      border-radius: 50%;\n",
              "      cursor: pointer;\n",
              "      display: none;\n",
              "      fill: #1967D2;\n",
              "      height: 32px;\n",
              "      padding: 0 0 0 0;\n",
              "      width: 32px;\n",
              "    }\n",
              "\n",
              "    .colab-df-convert:hover {\n",
              "      background-color: #E2EBFA;\n",
              "      box-shadow: 0px 1px 2px rgba(60, 64, 67, 0.3), 0px 1px 3px 1px rgba(60, 64, 67, 0.15);\n",
              "      fill: #174EA6;\n",
              "    }\n",
              "\n",
              "    [theme=dark] .colab-df-convert {\n",
              "      background-color: #3B4455;\n",
              "      fill: #D2E3FC;\n",
              "    }\n",
              "\n",
              "    [theme=dark] .colab-df-convert:hover {\n",
              "      background-color: #434B5C;\n",
              "      box-shadow: 0px 1px 3px 1px rgba(0, 0, 0, 0.15);\n",
              "      filter: drop-shadow(0px 1px 2px rgba(0, 0, 0, 0.3));\n",
              "      fill: #FFFFFF;\n",
              "    }\n",
              "  </style>\n",
              "\n",
              "      <script>\n",
              "        const buttonEl =\n",
              "          document.querySelector('#df-430c52b1-8065-4939-b355-d117f407b956 button.colab-df-convert');\n",
              "        buttonEl.style.display =\n",
              "          google.colab.kernel.accessAllowed ? 'block' : 'none';\n",
              "\n",
              "        async function convertToInteractive(key) {\n",
              "          const element = document.querySelector('#df-430c52b1-8065-4939-b355-d117f407b956');\n",
              "          const dataTable =\n",
              "            await google.colab.kernel.invokeFunction('convertToInteractive',\n",
              "                                                     [key], {});\n",
              "          if (!dataTable) return;\n",
              "\n",
              "          const docLinkHtml = 'Like what you see? Visit the ' +\n",
              "            '<a target=\"_blank\" href=https://colab.research.google.com/notebooks/data_table.ipynb>data table notebook</a>'\n",
              "            + ' to learn more about interactive tables.';\n",
              "          element.innerHTML = '';\n",
              "          dataTable['output_type'] = 'display_data';\n",
              "          await google.colab.output.renderOutput(dataTable, element);\n",
              "          const docLink = document.createElement('div');\n",
              "          docLink.innerHTML = docLinkHtml;\n",
              "          element.appendChild(docLink);\n",
              "        }\n",
              "      </script>\n",
              "    </div>\n",
              "  </div>\n",
              "  "
            ]
          },
          "metadata": {},
          "execution_count": 44
        }
      ]
    },
    {
      "cell_type": "code",
      "source": [
        "generes = ['unknown', 'action',\n",
        "       'adventure', 'animation', 'childrens', 'comedy', 'crime', 'documentary',\n",
        "       'drama', 'fantasy', 'film_noir', 'horror', 'musical', 'mystery',\n",
        "       'romance', 'sci_fi', 'thriller', 'war', 'western']\n",
        "\n",
        "plt.figure(figsize=(12,7))\n",
        "genere_counts = movie_df.loc[:,generes].sum().sort_values(ascending=False)\n",
        "sns.barplot(x=genere_counts.index, y=genere_counts.values)\n",
        "plt.xticks(rotation=60);"
      ],
      "metadata": {
        "colab": {
          "base_uri": "https://localhost:8080/",
          "height": 481
        },
        "id": "D_YZFNNZUtuD",
        "outputId": "8105feae-2bb2-4a60-b5e2-b40dbe712b4d"
      },
      "id": "D_YZFNNZUtuD",
      "execution_count": null,
      "outputs": [
        {
          "output_type": "display_data",
          "data": {
            "text/plain": [
              "<Figure size 864x504 with 1 Axes>"
            ],
            "image/png": "[encoded data removed]"
          },
          "metadata": {}
        }
      ]
    },
    {
      "cell_type": "code",
      "source": [
        "user_df['age_group'] = user_df.age.apply(lambda age: 'Gradeschooler' if 5<=age<=12 else ('Teenager' if 13<=age<=19 else ('Young' if 20<=age<=35 else ('Midlife' if 35<=age<=55 else 'Old'))))"
      ],
      "metadata": {
        "id": "ku9wsMacU13m"
      },
      "id": "ku9wsMacU13m",
      "execution_count": null,
      "outputs": []
    },
    {
      "cell_type": "code",
      "source": [
        "user_df.sample(5)"
      ],
      "metadata": {
        "colab": {
          "base_uri": "https://localhost:8080/",
          "height": 206
        },
        "id": "m_oSSWamVJ8T",
        "outputId": "59e1ce4c-5cf2-47fb-bb61-166c6cbb4832"
      },
      "id": "m_oSSWamVJ8T",
      "execution_count": null,
      "outputs": [
        {
          "output_type": "execute_result",
          "data": {
            "text/plain": [
              "     userID  age gender     occupation zip_code age_group\n",
              "345     346   34      M          other    76059     Young\n",
              "876     877   30      M          other    77504     Young\n",
              "558     559   69      M      executive    10022       Old\n",
              "667     668   29      F         writer    10016     Young\n",
              "236     237   49      M  administrator    63146   Midlife"
            ],
            "text/html": [
              "\n",
              "  <div id=\"df-9db00b17-ea2d-4881-88df-aaab9d7582c6\">\n",
              "    <div class=\"colab-df-container\">\n",
              "      <div>\n",
              "<style scoped>\n",
              "    .dataframe tbody tr th:only-of-type {\n",
              "        vertical-align: middle;\n",
              "    }\n",
              "\n",
              "    .dataframe tbody tr th {\n",
              "        vertical-align: top;\n",
              "    }\n",
              "\n",
              "    .dataframe thead th {\n",
              "        text-align: right;\n",
              "    }\n",
              "</style>\n",
              "<table border=\"1\" class=\"dataframe\">\n",
              "  <thead>\n",
              "    <tr style=\"text-align: right;\">\n",
              "      <th></th>\n",
              "      <th>userID</th>\n",
              "      <th>age</th>\n",
              "      <th>gender</th>\n",
              "      <th>occupation</th>\n",
              "      <th>zip_code</th>\n",
              "      <th>age_group</th>\n",
              "    </tr>\n",
              "  </thead>\n",
              "  <tbody>\n",
              "    <tr>\n",
              "      <th>345</th>\n",
              "      <td>346</td>\n",
              "      <td>34</td>\n",
              "      <td>M</td>\n",
              "      <td>other</td>\n",
              "      <td>76059</td>\n",
              "      <td>Young</td>\n",
              "    </tr>\n",
              "    <tr>\n",
              "      <th>876</th>\n",
              "      <td>877</td>\n",
              "      <td>30</td>\n",
              "      <td>M</td>\n",
              "      <td>other</td>\n",
              "      <td>77504</td>\n",
              "      <td>Young</td>\n",
              "    </tr>\n",
              "    <tr>\n",
              "      <th>558</th>\n",
              "      <td>559</td>\n",
              "      <td>69</td>\n",
              "      <td>M</td>\n",
              "      <td>executive</td>\n",
              "      <td>10022</td>\n",
              "      <td>Old</td>\n",
              "    </tr>\n",
              "    <tr>\n",
              "      <th>667</th>\n",
              "      <td>668</td>\n",
              "      <td>29</td>\n",
              "      <td>F</td>\n",
              "      <td>writer</td>\n",
              "      <td>10016</td>\n",
              "      <td>Young</td>\n",
              "    </tr>\n",
              "    <tr>\n",
              "      <th>236</th>\n",
              "      <td>237</td>\n",
              "      <td>49</td>\n",
              "      <td>M</td>\n",
              "      <td>administrator</td>\n",
              "      <td>63146</td>\n",
              "      <td>Midlife</td>\n",
              "    </tr>\n",
              "  </tbody>\n",
              "</table>\n",
              "</div>\n",
              "      <button class=\"colab-df-convert\" onclick=\"convertToInteractive('df-9db00b17-ea2d-4881-88df-aaab9d7582c6')\"\n",
              "              title=\"Convert this dataframe to an interactive table.\"\n",
              "              style=\"display:none;\">\n",
              "        \n",
              "  <svg xmlns=\"http://www.w3.org/2000/svg\" height=\"24px\"viewBox=\"0 0 24 24\"\n",
              "       width=\"24px\">\n",
              "    <path d=\"M0 0h24v24H0V0z\" fill=\"none\"/>\n",
              "    <path d=\"M18.56 5.44l.94 2.06.94-2.06 2.06-.94-2.06-.94-.94-2.06-.94 2.06-2.06.94zm-11 1L8.5 8.5l.94-2.06 2.06-.94-2.06-.94L8.5 2.5l-.94 2.06-2.06.94zm10 10l.94 2.06.94-2.06 2.06-.94-2.06-.94-.94-2.06-.94 2.06-2.06.94z\"/><path d=\"M17.41 7.96l-1.37-1.37c-.4-.4-.92-.59-1.43-.59-.52 0-1.04.2-1.43.59L10.3 9.45l-7.72 7.72c-.78.78-.78 2.05 0 2.83L4 21.41c.39.39.9.59 1.41.59.51 0 1.02-.2 1.41-.59l7.78-7.78 2.81-2.81c.8-.78.8-2.07 0-2.86zM5.41 20L4 18.59l7.72-7.72 1.47 1.35L5.41 20z\"/>\n",
              "  </svg>\n",
              "      </button>\n",
              "      \n",
              "  <style>\n",
              "    .colab-df-container {\n",
              "      display:flex;\n",
              "      flex-wrap:wrap;\n",
              "      gap: 12px;\n",
              "    }\n",
              "\n",
              "    .colab-df-convert {\n",
              "      background-color: #E8F0FE;\n",
              "      border: none;\n",
              "      border-radius: 50%;\n",
              "      cursor: pointer;\n",
              "      display: none;\n",
              "      fill: #1967D2;\n",
              "      height: 32px;\n",
              "      padding: 0 0 0 0;\n",
              "      width: 32px;\n",
              "    }\n",
              "\n",
              "    .colab-df-convert:hover {\n",
              "      background-color: #E2EBFA;\n",
              "      box-shadow: 0px 1px 2px rgba(60, 64, 67, 0.3), 0px 1px 3px 1px rgba(60, 64, 67, 0.15);\n",
              "      fill: #174EA6;\n",
              "    }\n",
              "\n",
              "    [theme=dark] .colab-df-convert {\n",
              "      background-color: #3B4455;\n",
              "      fill: #D2E3FC;\n",
              "    }\n",
              "\n",
              "    [theme=dark] .colab-df-convert:hover {\n",
              "      background-color: #434B5C;\n",
              "      box-shadow: 0px 1px 3px 1px rgba(0, 0, 0, 0.15);\n",
              "      filter: drop-shadow(0px 1px 2px rgba(0, 0, 0, 0.3));\n",
              "      fill: #FFFFFF;\n",
              "    }\n",
              "  </style>\n",
              "\n",
              "      <script>\n",
              "        const buttonEl =\n",
              "          document.querySelector('#df-9db00b17-ea2d-4881-88df-aaab9d7582c6 button.colab-df-convert');\n",
              "        buttonEl.style.display =\n",
              "          google.colab.kernel.accessAllowed ? 'block' : 'none';\n",
              "\n",
              "        async function convertToInteractive(key) {\n",
              "          const element = document.querySelector('#df-9db00b17-ea2d-4881-88df-aaab9d7582c6');\n",
              "          const dataTable =\n",
              "            await google.colab.kernel.invokeFunction('convertToInteractive',\n",
              "                                                     [key], {});\n",
              "          if (!dataTable) return;\n",
              "\n",
              "          const docLinkHtml = 'Like what you see? Visit the ' +\n",
              "            '<a target=\"_blank\" href=https://colab.research.google.com/notebooks/data_table.ipynb>data table notebook</a>'\n",
              "            + ' to learn more about interactive tables.';\n",
              "          element.innerHTML = '';\n",
              "          dataTable['output_type'] = 'display_data';\n",
              "          await google.colab.output.renderOutput(dataTable, element);\n",
              "          const docLink = document.createElement('div');\n",
              "          docLink.innerHTML = docLinkHtml;\n",
              "          element.appendChild(docLink);\n",
              "        }\n",
              "      </script>\n",
              "    </div>\n",
              "  </div>\n",
              "  "
            ]
          },
          "metadata": {},
          "execution_count": 47
        }
      ]
    },
    {
      "cell_type": "code",
      "source": [
        "plt.figure(figsize=(9,6))\n",
        "sns.barplot(user_df.groupby('gender').size().index, user_df.groupby('gender').size().values)\n",
        "plt.title('Male/Female movie rating ratio');"
      ],
      "metadata": {
        "colab": {
          "base_uri": "https://localhost:8080/",
          "height": 459
        },
        "id": "WIuq6OdYV-tz",
        "outputId": "c090ae52-b848-4b79-ee04-eb9bf4c2890c"
      },
      "id": "WIuq6OdYV-tz",
      "execution_count": null,
      "outputs": [
        {
          "output_type": "stream",
          "name": "stderr",
          "text": [
            "/usr/local/lib/python3.7/dist-packages/seaborn/_decorators.py:43: FutureWarning: Pass the following variables as keyword args: x, y. From version 0.12, the only valid positional argument will be `data`, and passing other arguments without an explicit keyword will result in an error or misinterpretation.\n",
            "  FutureWarning\n"
          ]
        },
        {
          "output_type": "display_data",
          "data": {
            "text/plain": [
              "<Figure size 648x432 with 1 Axes>"
            ],
            "image/png": "[encoded data removed]"
          },
          "metadata": {}
        }
      ]
    },
    {
      "cell_type": "code",
      "source": [
        "plt.figure(figsize=(9,6))\n",
        "sns.barplot(user_df.groupby('age_group').size().index, user_df.groupby('age_group').size().values)\n",
        "plt.title('movie watchers age_group wise');"
      ],
      "metadata": {
        "colab": {
          "base_uri": "https://localhost:8080/",
          "height": 459
        },
        "id": "Vm06Ola_WDHh",
        "outputId": "4596f723-adb8-4188-ab8e-37e15ee3ddd4"
      },
      "id": "Vm06Ola_WDHh",
      "execution_count": null,
      "outputs": [
        {
          "output_type": "stream",
          "name": "stderr",
          "text": [
            "/usr/local/lib/python3.7/dist-packages/seaborn/_decorators.py:43: FutureWarning: Pass the following variables as keyword args: x, y. From version 0.12, the only valid positional argument will be `data`, and passing other arguments without an explicit keyword will result in an error or misinterpretation.\n",
            "  FutureWarning\n"
          ]
        },
        {
          "output_type": "display_data",
          "data": {
            "text/plain": [
              "<Figure size 648x432 with 1 Axes>"
            ],
            "image/png": "[encoded data removed]"
          },
          "metadata": {}
        }
      ]
    },
    {
      "cell_type": "code",
      "source": [
        "plt.figure(figsize=(12,7))\n",
        "movie_watcher_occupants = user_df.groupby('occupation').size().sort_values(ascending=False)\n",
        "sns.barplot(movie_watcher_occupants.index, movie_watcher_occupants.values)\n",
        "plt.title('movie watchers age_group wise')\n",
        "plt.xticks(rotation=50);"
      ],
      "metadata": {
        "colab": {
          "base_uri": "https://localhost:8080/",
          "height": 565
        },
        "id": "Q0Kaddr9WPsw",
        "outputId": "80660420-db21-4f4b-f9f4-2bcb80d70208"
      },
      "id": "Q0Kaddr9WPsw",
      "execution_count": null,
      "outputs": [
        {
          "output_type": "stream",
          "name": "stderr",
          "text": [
            "/usr/local/lib/python3.7/dist-packages/seaborn/_decorators.py:43: FutureWarning: Pass the following variables as keyword args: x, y. From version 0.12, the only valid positional argument will be `data`, and passing other arguments without an explicit keyword will result in an error or misinterpretation.\n",
            "  FutureWarning\n"
          ]
        },
        {
          "output_type": "display_data",
          "data": {
            "text/plain": [
              "<Figure size 864x504 with 1 Axes>"
            ],
            "image/png": "[encoded data removed]"
          },
          "metadata": {}
        }
      ]
    },
    {
      "cell_type": "code",
      "source": [
        "\n",
        "rating_df[\"itemID\"] = rating_df[\"itemID\"].astype(int)\n",
        "rating_df[\"userID\"] = rating_df[\"userID\"].astype(int)"
      ],
      "metadata": {
        "id": "kNvMM0NxXxMv"
      },
      "id": "kNvMM0NxXxMv",
      "execution_count": null,
      "outputs": []
    },
    {
      "cell_type": "code",
      "source": [
        "rating_user_df = rating_df.join(other=user_df, how='inner', on='userID', lsuffix='_R')\n",
        "rating_user_movie_df = rating_user_df.join(other=movie_df, how='inner', on='itemID', rsuffix='_M')\n",
        "rating_movie_df = rating_df.join(other=movie_df, how='inner', on='itemID', rsuffix='_M')"
      ],
      "metadata": {
        "id": "faSapEp0WjdD"
      },
      "id": "faSapEp0WjdD",
      "execution_count": null,
      "outputs": []
    },
    {
      "cell_type": "code",
      "source": [
        "temp_df = rating_user_movie_df.groupby('gender').sum().loc[:,generes]\n",
        "temp_df = temp_df.transpose()\n"
      ],
      "metadata": {
        "id": "bwjUYCXnYBor"
      },
      "id": "bwjUYCXnYBor",
      "execution_count": null,
      "outputs": []
    },
    {
      "cell_type": "code",
      "source": [
        "plt.figure(figsize=(12, 6))\n",
        "\n",
        "temp_df.M.sort_values(ascending=False).plot(kind='bar', color='blue', label=\"Male\")\n",
        "temp_df.F.sort_values(ascending=False).plot(kind='bar', color='red', label=\"Fe-Male\")\n",
        "plt.legend()\n",
        "plt.xticks(rotation=60)\n",
        "plt.show()"
      ],
      "metadata": {
        "colab": {
          "base_uri": "https://localhost:8080/",
          "height": 427
        },
        "id": "CYdNhVggWWT_",
        "outputId": "0f363034-6b76-490d-9e6d-708f91c5c1dd"
      },
      "id": "CYdNhVggWWT_",
      "execution_count": null,
      "outputs": [
        {
          "output_type": "display_data",
          "data": {
            "text/plain": [
              "<Figure size 864x432 with 1 Axes>"
            ],
            "image/png": "[encoded data removed]"
          },
          "metadata": {}
        }
      ]
    },
    {
      "cell_type": "code",
      "source": [
        "plt.figure(figsize=(20, 5))\n",
        "m_temp_df = temp_df.M.sort_values(ascending=False)\n",
        "f_temp_df = temp_df.F.sort_values(ascending=False)\n",
        "\n",
        "plt.bar(x=m_temp_df.index, height=m_temp_df.values, label=\"Male\", align=\"edge\", width=0.3, color='blue')\n",
        "plt.bar(x=f_temp_df.index, height=f_temp_df.values, label=\"Female\", width=0.3, color='red')\n",
        "plt.title('Ratings given by Male/Female Viewers')\n",
        "plt.legend()\n",
        "plt.xlabel('Ratings')\n",
        "plt.ylabel('Count')\n",
        "plt.show()"
      ],
      "metadata": {
        "colab": {
          "base_uri": "https://localhost:8080/",
          "height": 259
        },
        "id": "BflviOTcYiOX",
        "outputId": "cb0f0dfb-4e83-496c-b5a8-57ad17d3d10e"
      },
      "id": "BflviOTcYiOX",
      "execution_count": null,
      "outputs": [
        {
          "output_type": "display_data",
          "data": {
            "text/plain": [
              "<Figure size 1440x360 with 1 Axes>"
            ],
            "image/png": "[encoded data removed]"
          },
          "metadata": {}
        }
      ]
    },
    {
      "cell_type": "code",
      "source": [
        "top_ten_rated_movies = rating_movie_df.groupby('itemID').size().sort_values(ascending=False)[:10]\n",
        "top_ten_movie_titles = movie_df.iloc[top_ten_rated_movies.index].movie\n",
        "top_ten_movie_titles"
      ],
      "metadata": {
        "colab": {
          "base_uri": "https://localhost:8080/"
        },
        "id": "ZnuaQ2RcY49a",
        "outputId": "2d04169f-f6ee-4693-c214-a8bc98edaee2"
      },
      "id": "ZnuaQ2RcY49a",
      "execution_count": null,
      "outputs": [
        {
          "output_type": "execute_result",
          "data": {
            "text/plain": [
              "50      Legends of the Fall (1994)\n",
              "258    George of the Jungle (1997)\n",
              "100             Heavy Metal (1981)\n",
              "181              GoodFellas (1990)\n",
              "294               Breakdown (1997)\n",
              "286           Marvin's Room (1996)\n",
              "288                   Evita (1996)\n",
              "1                 GoldenEye (1995)\n",
              "300                In & Out (1997)\n",
              "121          Cable Guy, The (1996)\n",
              "Name: movie, dtype: object"
            ]
          },
          "metadata": {},
          "execution_count": 57
        }
      ]
    },
    {
      "cell_type": "code",
      "source": [],
      "metadata": {
        "id": "EC9T7Xs49U4c"
      },
      "id": "EC9T7Xs49U4c",
      "execution_count": null,
      "outputs": []
    },
    {
      "cell_type": "markdown",
      "source": [
        "## Analyse each of the features on actual rating"
      ],
      "metadata": {
        "id": "cZciCp8J9VJH"
      },
      "id": "cZciCp8J9VJH"
    },
    {
      "cell_type": "markdown",
      "source": [
        "#### Gender"
      ],
      "metadata": {
        "id": "Crnoat1zAqiy"
      },
      "id": "Crnoat1zAqiy"
    },
    {
      "cell_type": "code",
      "source": [
        "rating_user_movie_df_onlymale=rating_user_movie_df[rating_user_movie_df.gender=='M']\n",
        "rating_user_movie_df_onlyfemale=rating_user_movie_df[rating_user_movie_df.gender=='F']"
      ],
      "metadata": {
        "id": "LcMZdDMQ9bc1"
      },
      "id": "LcMZdDMQ9bc1",
      "execution_count": null,
      "outputs": []
    },
    {
      "cell_type": "code",
      "source": [
        "malewatcheditemids=list(rating_user_movie_df_onlymale.itemID)"
      ],
      "metadata": {
        "id": "QRRYPKrU9_Lu"
      },
      "id": "QRRYPKrU9_Lu",
      "execution_count": null,
      "outputs": []
    },
    {
      "cell_type": "markdown",
      "source": [
        "Movies wathced by only females "
      ],
      "metadata": {
        "id": "dyvvUeuH_Lzu"
      },
      "id": "dyvvUeuH_Lzu"
    },
    {
      "cell_type": "code",
      "source": [
        "movieswatchedbyonlyfemales=rating_user_movie_df_onlyfemale [~rating_user_movie_df_onlyfemale.itemID.isin(malewatcheditemids)]"
      ],
      "metadata": {
        "id": "36ZCJICF-6Nm"
      },
      "id": "36ZCJICF-6Nm",
      "execution_count": null,
      "outputs": []
    },
    {
      "cell_type": "code",
      "source": [
        "totalmovieswatchedbyonlyfemales=len(movieswatchedbyonlyfemales.itemID.unique())"
      ],
      "metadata": {
        "id": "WDob1oCO_Ubl"
      },
      "id": "WDob1oCO_Ubl",
      "execution_count": null,
      "outputs": []
    },
    {
      "cell_type": "code",
      "source": [
        "totalmovies=len(rating_df.itemID.unique())"
      ],
      "metadata": {
        "id": "5CSyJnYj_yQW"
      },
      "id": "5CSyJnYj_yQW",
      "execution_count": null,
      "outputs": []
    },
    {
      "cell_type": "code",
      "source": [
        "totalmovieswatchedbyonlyfemales/totalmovies"
      ],
      "metadata": {
        "colab": {
          "base_uri": "https://localhost:8080/"
        },
        "id": "SYQWCKCd_9ZU",
        "outputId": "122c5340-85c5-4474-d57e-b63a15660a8d"
      },
      "id": "SYQWCKCd_9ZU",
      "execution_count": null,
      "outputs": [
        {
          "output_type": "execute_result",
          "data": {
            "text/plain": [
              "0.01605231866825208"
            ]
          },
          "metadata": {},
          "execution_count": 74
        }
      ]
    },
    {
      "cell_type": "markdown",
      "source": [
        "Observation :\n",
        "Only 0.016%  movies are unique to females(not watched by any male).So considering this observation gender may not be very effective features to consider"
      ],
      "metadata": {
        "id": "8g-NIq-h_peh"
      },
      "id": "8g-NIq-h_peh"
    },
    {
      "cell_type": "markdown",
      "source": [
        "### Agegroup"
      ],
      "metadata": {
        "id": "ie-XbVkGBKVn"
      },
      "id": "ie-XbVkGBKVn"
    },
    {
      "cell_type": "code",
      "source": [
        "list(rating_user_movie_df.age_group.unique())\n"
      ],
      "metadata": {
        "colab": {
          "base_uri": "https://localhost:8080/"
        },
        "id": "6zUbJG9aBWCq",
        "outputId": "55eb4bd8-e15e-48f5-88c2-a9e39fad1e6a"
      },
      "id": "6zUbJG9aBWCq",
      "execution_count": null,
      "outputs": [
        {
          "output_type": "execute_result",
          "data": {
            "text/plain": [
              "['Midlife', 'Old', 'Young', 'Teenager', 'Gradeschooler']"
            ]
          },
          "metadata": {},
          "execution_count": 80
        }
      ]
    },
    {
      "cell_type": "code",
      "source": [
        "rating_user_movie_df_only_Young=rating_user_movie_df[rating_user_movie_df.age_group=='Young']\n",
        "rating_user_movie_df_only_old=rating_user_movie_df[rating_user_movie_df.age_group=='Old']\n",
        "rating_user_movie_df_only_Teenager=rating_user_movie_df[rating_user_movie_df.age_group=='Teenager']"
      ],
      "metadata": {
        "id": "TqVVpe-ABrDP"
      },
      "id": "TqVVpe-ABrDP",
      "execution_count": null,
      "outputs": []
    },
    {
      "cell_type": "code",
      "source": [
        "rating_user_movie_df_only_Young_list=list(rating_user_movie_df_only_Young.itemID.unique())\n",
        "rating_user_movie_df_only_old_list=list(rating_user_movie_df_only_old.itemID.unique())\n",
        "rating_user_movie_df_only_Teenager_list=list(rating_user_movie_df_only_Teenager.itemID.unique())"
      ],
      "metadata": {
        "id": "YFCkcLeSB-WC"
      },
      "id": "YFCkcLeSB-WC",
      "execution_count": null,
      "outputs": []
    },
    {
      "cell_type": "code",
      "source": [],
      "metadata": {
        "id": "-PjC82pbCPrr"
      },
      "id": "-PjC82pbCPrr",
      "execution_count": null,
      "outputs": []
    },
    {
      "cell_type": "code",
      "source": [
        "len(list(set(list(set(rating_user_movie_df_only_Young_list) - set(rating_user_movie_df_only_old_list)))-\n",
        "set(list(set(rating_user_movie_df_only_Young_list) - set(rating_user_movie_df_only_Teenager_list)))))"
      ],
      "metadata": {
        "colab": {
          "base_uri": "https://localhost:8080/"
        },
        "id": "0W1MRzNxB8uF",
        "outputId": "d0353857-c757-4a8d-94ee-d0388a8fac35"
      },
      "id": "0W1MRzNxB8uF",
      "execution_count": null,
      "outputs": [
        {
          "output_type": "execute_result",
          "data": {
            "text/plain": [
              "215"
            ]
          },
          "metadata": {},
          "execution_count": 88
        }
      ]
    },
    {
      "cell_type": "markdown",
      "source": [
        "There are lot of movies which a specific age group watch.So Age group is one improtant features to consider"
      ],
      "metadata": {
        "id": "lo5G7ElDC07H"
      },
      "id": "lo5G7ElDC07H"
    },
    {
      "cell_type": "markdown",
      "source": [
        "# Algorithm:\n",
        "\n",
        "\n"
      ],
      "metadata": {
        "id": "9H8Y3yMVERzW"
      },
      "id": "9H8Y3yMVERzW"
    },
    {
      "cell_type": "markdown",
      "source": [
        "Hybrid recommendation"
      ],
      "metadata": {
        "id": "a9SjdHKUd2Bw"
      },
      "id": "a9SjdHKUd2Bw"
    },
    {
      "cell_type": "code",
      "source": [
        "!pip install lightfm\n",
        "!pip install recommenders"
      ],
      "metadata": {
        "id": "7V-WvCT6EkgX"
      },
      "execution_count": null,
      "outputs": [],
      "id": "7V-WvCT6EkgX"
    },
    {
      "cell_type": "code",
      "execution_count": null,
      "metadata": {
        "id": "ufcvS8NLd9Ne"
      },
      "outputs": [],
      "source": [
        "from datetime import datetime\n",
        "import os\n",
        "import matplotlib\n",
        "import pandas as pd\n",
        "import numpy as np\n",
        "import matplotlib.pyplot as plt\n",
        "import seaborn as sns\n",
        "sns.set_style('whitegrid')\n",
        "\n",
        "from scipy import sparse\n",
        "from scipy.sparse import csc_matrix\n",
        "from sklearn.decomposition import TruncatedSVD\n",
        "\n",
        "np.random.seed(0)"
      ],
      "id": "ufcvS8NLd9Ne"
    },
    {
      "cell_type": "code",
      "source": [
        "import tensorflow as tf\n",
        "tf.get_logger().setLevel('ERROR') # only show error messages\n",
        "\n",
        "from recommenders.utils.constants import (\n",
        "    DEFAULT_USER_COL as USER_COL,\n",
        "    DEFAULT_ITEM_COL as ITEM_COL,\n",
        "    DEFAULT_RATING_COL as RATING_COL,\n",
        "    DEFAULT_PREDICTION_COL as PREDICT_COL,\n",
        "    DEFAULT_GENRE_COL as ITEM_FEAT_COL,\n",
        "    SEED\n",
        ")\n",
        "from recommenders.utils import tf_utils, gpu_utils, plot\n",
        "from recommenders.datasets import movielens\n",
        "from recommenders.datasets.pandas_df_utils import user_item_pairs\n",
        "from recommenders.datasets.python_splitters import python_random_split\n",
        "import recommenders.evaluation.python_evaluation as evaluator\n",
        "import recommenders.models.wide_deep.wide_deep_utils as wide_deep\n",
        "\n",
        "print(\"Tensorflow Version:\", tf.__version__)\n",
        "print(\"GPUs:\\n\", gpu_utils.get_gpu_info())"
      ],
      "metadata": {
        "colab": {
          "base_uri": "https://localhost:8080/"
        },
        "id": "mXkrePQ7-10L",
        "outputId": "b92e2e1f-aade-483e-f7da-fbc14de5206a"
      },
      "execution_count": null,
      "outputs": [
        {
          "output_type": "stream",
          "name": "stdout",
          "text": [
            "Tensorflow Version: 2.8.2\n",
            "GPUs:\n",
            " [{'device_name': 'Tesla T4', 'total_memory': 15109.75, 'free_memory': 15007.75}]\n"
          ]
        }
      ],
      "id": "mXkrePQ7-10L"
    },
    {
      "cell_type": "code",
      "source": [
        "import lightfm\n",
        "from lightfm import LightFM\n",
        "from lightfm.data import Dataset\n",
        "from lightfm import cross_validation\n",
        "# Import LightFM's evaluation metrics\n",
        "from lightfm.evaluation import precision_at_k \n",
        "from lightfm.evaluation import recall_at_k "
      ],
      "metadata": {
        "id": "9KWLjYLTJN6T"
      },
      "execution_count": null,
      "outputs": [],
      "id": "9KWLjYLTJN6T"
    },
    {
      "cell_type": "code",
      "source": [
        "# Import repo's evaluation metrics\n",
        "from recommenders.evaluation.python_evaluation import precision_at_k, recall_at_k\n",
        "\n",
        "from recommenders.utils.timer import Timer\n",
        "from recommenders.datasets import movielens\n",
        "from recommenders.models.lightfm.lightfm_utils import (\n",
        "    track_model_metrics, prepare_test_df, prepare_all_predictions,\n",
        "    compare_metric, similar_users, similar_items)"
      ],
      "metadata": {
        "id": "PSdBw1BMLoba"
      },
      "execution_count": null,
      "outputs": [],
      "id": "PSdBw1BMLoba"
    },
    {
      "cell_type": "code",
      "source": [
        "lightFM_df=rating_user_movie_df"
      ],
      "metadata": {
        "id": "mRz3LppxJwQy"
      },
      "execution_count": null,
      "outputs": [],
      "id": "mRz3LppxJwQy"
    },
    {
      "cell_type": "code",
      "source": [
        "lightFM_df.columns"
      ],
      "metadata": {
        "colab": {
          "base_uri": "https://localhost:8080/"
        },
        "id": "yMpxMUq6-pYR",
        "outputId": "4d6c9547-d296-4ad9-fa72-1bb12ffd4783"
      },
      "id": "yMpxMUq6-pYR",
      "execution_count": null,
      "outputs": [
        {
          "output_type": "execute_result",
          "data": {
            "text/plain": [
              "Index(['userID_R', 'itemID', 'rating', 'time', 'movie', 'release_date',\n",
              "       'video_release_date', 'imdb_url', 'unknown', 'action', 'adventure',\n",
              "       'animation', 'childrens', 'comedy', 'crime', 'documentary', 'drama',\n",
              "       'fantasy', 'film_noir', 'horror', 'musical', 'mystery', 'romance',\n",
              "       'sci_fi', 'thriller', 'war', 'western', 'date', 'year', 'userID', 'age',\n",
              "       'gender', 'occupation', 'zip_code', 'age_group', 'itemID_M', 'movie_M',\n",
              "       'release_date_M', 'video_release_date_M', 'imdb_url_M', 'unknown_M',\n",
              "       'action_M', 'adventure_M', 'animation_M', 'childrens_M', 'comedy_M',\n",
              "       'crime_M', 'documentary_M', 'drama_M', 'fantasy_M', 'film_noir_M',\n",
              "       'horror_M', 'musical_M', 'mystery_M', 'romance_M', 'sci_fi_M',\n",
              "       'thriller_M', 'war_M', 'western_M'],\n",
              "      dtype='object')"
            ]
          },
          "metadata": {},
          "execution_count": 100
        }
      ]
    },
    {
      "cell_type": "code",
      "source": [
        "lightFM_df=lightFM_df[['userID', 'itemID', 'rating', 'unknown', 'action', 'adventure',\n",
        "       'animation', 'childrens', 'comedy', 'crime', 'documentary', 'drama',\n",
        "       'fantasy', 'film_noir', 'horror', 'musical', 'mystery', 'romance',\n",
        "       'sci_fi', 'thriller', 'war', 'western','age_group',]]"
      ],
      "metadata": {
        "id": "94n4GiJ6_L8U"
      },
      "id": "94n4GiJ6_L8U",
      "execution_count": null,
      "outputs": []
    },
    {
      "cell_type": "code",
      "source": [
        "features =list( lightFM_df[[ 'unknown', 'action', 'adventure',\n",
        "       'animation', 'childrens', 'comedy', 'crime', 'documentary', 'drama',\n",
        "       'fantasy', 'film_noir', 'horror', 'musical', 'mystery', 'romance',\n",
        "       'sci_fi', 'thriller', 'war']])\n",
        "#publishers =list( lightFM_df['publisher'])\n",
        "features=iter(features)\n",
        "#publishers=iter(publishers)"
      ],
      "metadata": {
        "id": "tAf6d_OuKOsz"
      },
      "execution_count": null,
      "outputs": [],
      "id": "tAf6d_OuKOsz"
    },
    {
      "cell_type": "code",
      "source": [
        "user_features =list( lightFM_df[[ 'age_group']])\n",
        "#publishers =list( lightFM_df['publisher'])\n",
        "user_features=iter(user_features)\n",
        "#publishers=iter(publishers)"
      ],
      "metadata": {
        "id": "7bKr5crN_cSE"
      },
      "id": "7bKr5crN_cSE",
      "execution_count": null,
      "outputs": []
    },
    {
      "cell_type": "code",
      "source": [
        "dataset = Dataset()"
      ],
      "metadata": {
        "id": "HzuFDzf-giVE"
      },
      "execution_count": null,
      "outputs": [],
      "id": "HzuFDzf-giVE"
    },
    {
      "cell_type": "code",
      "source": [
        "dataset.fit(users=lightFM_df['userID'], \n",
        "            items=lightFM_df['itemID'],\n",
        "             item_features=features,user_features=user_features)\n",
        "\n",
        "# quick check to determine the number of unique users and items in the data\n",
        "num_users, num_items = dataset.interactions_shape()\n",
        "print(f'Num users: {num_users}, num_items: {num_items}.')"
      ],
      "metadata": {
        "colab": {
          "base_uri": "https://localhost:8080/"
        },
        "id": "EbYc905_glKl",
        "outputId": "4c064e45-8da0-4b5c-d1c3-7e6d81590bc0"
      },
      "execution_count": null,
      "outputs": [
        {
          "output_type": "stream",
          "name": "stdout",
          "text": [
            "Num users: 942, num_items: 1681.\n"
          ]
        }
      ],
      "id": "EbYc905_glKl"
    },
    {
      "cell_type": "code",
      "source": [
        "item_features = dataset.build_item_features((x, y) for x,y in zip(rating_df.itemID,features))\n",
        "user_features = dataset.build_item_features((x, y) for x,y in zip(rating_df.userID,user_features))"
      ],
      "metadata": {
        "id": "8cZIWxOjK5gS"
      },
      "execution_count": null,
      "outputs": [],
      "id": "8cZIWxOjK5gS"
    },
    {
      "cell_type": "code",
      "source": [
        "#  TOP K \n",
        "K = 20\n",
        "# model learning rate\n",
        "LR = 0.1\n",
        "# no of latent factors\n",
        "NO_COMPONENTS = 50\n",
        "SEED=42\n",
        "#epochs\n",
        "EPOCHS=100\n",
        "# no of threads to fit model\n",
        "THREADS = 32\n",
        "# regularisation for both user and item features\n",
        "ITEM_ALPHA = 1e-6\n",
        "USER_ALPHA = 1e-6\n"
      ],
      "metadata": {
        "id": "Pw_TkpgtLBdc"
      },
      "execution_count": null,
      "outputs": [],
      "id": "Pw_TkpgtLBdc"
    },
    {
      "cell_type": "code",
      "source": [
        "interactions, weights = dataset.build_interactions(lightFM_df.iloc[:, 0:3].values)\n",
        "\n",
        "train_interactions, test_interactions = cross_validation.random_train_test_split(\n",
        "    interactions, test_percentage=.2,\n",
        "    random_state=np.random.RandomState(SEED))"
      ],
      "metadata": {
        "id": "Inad8KCVLDB2"
      },
      "execution_count": null,
      "outputs": [],
      "id": "Inad8KCVLDB2"
    },
    {
      "cell_type": "code",
      "source": [
        "model = LightFM(loss='warp', no_components=NO_COMPONENTS, \n",
        "                 learning_rate=LR, \n",
        "                 item_alpha=ITEM_ALPHA,\n",
        "                 user_alpha=USER_ALPHA,\n",
        "                 random_state=np.random.RandomState(SEED)\n",
        "                )"
      ],
      "metadata": {
        "id": "gu8vys5bLMCU"
      },
      "execution_count": null,
      "outputs": [],
      "id": "gu8vys5bLMCU"
    },
    {
      "cell_type": "code",
      "source": [
        "model.fit(interactions=train_interactions,\n",
        "           item_features=item_features,\n",
        "           epochs=EPOCHS\n",
        "           )"
      ],
      "metadata": {
        "colab": {
          "base_uri": "https://localhost:8080/"
        },
        "id": "mgvB3Hn8LOG6",
        "outputId": "0f2bb2fb-e12b-4595-98ae-ee42d9edca85"
      },
      "execution_count": null,
      "outputs": [
        {
          "output_type": "execute_result",
          "data": {
            "text/plain": [
              "<lightfm.lightfm.LightFM at 0x7f50390e6e10>"
            ]
          },
          "metadata": {},
          "execution_count": 129
        }
      ],
      "id": "mgvB3Hn8LOG6"
    },
    {
      "cell_type": "markdown",
      "source": [
        "EVALUATE"
      ],
      "metadata": {
        "id": "HPwbP0CLLRXW"
      },
      "id": "HPwbP0CLLRXW"
    },
    {
      "cell_type": "code",
      "source": [
        "TEST_PERCENTAGE=0.2\n",
        "uids, iids, interaction_data = cross_validation._shuffle(\n",
        "    interactions.row, \n",
        "    interactions.col, \n",
        "    interactions.data, \n",
        "    random_state=np.random.RandomState(SEED)\n",
        ")\n",
        "\n",
        "uid_map, ufeature_map, iid_map, ifeature_map = dataset.mapping()\n",
        "cutoff = int((1.0 - TEST_PERCENTAGE) * len(uids))\n",
        "test_idx = slice(cutoff, None)"
      ],
      "metadata": {
        "id": "WPQ7OG3wPKRf"
      },
      "execution_count": null,
      "outputs": [],
      "id": "WPQ7OG3wPKRf"
    },
    {
      "cell_type": "code",
      "source": [
        "with Timer() as test_time:\n",
        "    test_df = prepare_test_df(test_idx, uids, iids, uid_map, iid_map, weights)\n",
        "print(f\"Took {test_time.interval:.1f} seconds for prepare and predict test data.\")  "
      ],
      "metadata": {
        "colab": {
          "base_uri": "https://localhost:8080/"
        },
        "id": "YBR1AEQQPKUR",
        "outputId": "8c05d091-7873-4066-dd02-e21b2df0aa28"
      },
      "execution_count": null,
      "outputs": [
        {
          "output_type": "stream",
          "name": "stdout",
          "text": [
            "Took 1.1 seconds for prepare and predict test data.\n"
          ]
        }
      ],
      "id": "YBR1AEQQPKUR"
    },
    {
      "cell_type": "code",
      "source": [
        "uid_map, ufeature_map, iid_map, ifeature_map = dataset.mapping()\n"
      ],
      "metadata": {
        "id": "2C3edQBoPKXF"
      },
      "execution_count": null,
      "outputs": [],
      "id": "2C3edQBoPKXF"
    },
    {
      "cell_type": "code",
      "source": [
        "with Timer() as test_time:\n",
        "    test_df = prepare_test_df(test_idx, uids, iids, uid_map, iid_map, weights)\n",
        "print(f\"Took {test_time.interval:.1f} seconds for prepare and predict test data.\")  \n",
        "time_reco1 = test_time.interval"
      ],
      "metadata": {
        "colab": {
          "base_uri": "https://localhost:8080/"
        },
        "id": "Yj04kDxrPKaA",
        "outputId": "29efd5b3-09f5-445f-b3cd-bc3b4abafd8a"
      },
      "execution_count": null,
      "outputs": [
        {
          "output_type": "stream",
          "name": "stdout",
          "text": [
            "Took 1.1 seconds for prepare and predict test data.\n"
          ]
        }
      ],
      "id": "Yj04kDxrPKaA"
    },
    {
      "cell_type": "code",
      "source": [
        "NO_THREADS=6\n",
        "with Timer() as test_time:\n",
        "    all_predictions = prepare_all_predictions(lightFM_df, uid_map, iid_map, \n",
        "                                              interactions=train_interactions,\n",
        "                                              model=model, \n",
        "                                              num_threads=NO_THREADS)\n",
        "print(f\"Took {test_time.interval:.1f} seconds for prepare and predict all data.\")\n",
        "time_reco2 = test_time.interval"
      ],
      "metadata": {
        "colab": {
          "base_uri": "https://localhost:8080/"
        },
        "id": "BId6hvVOPn2s",
        "outputId": "1c5aa0c6-cad9-45a3-c603-4c1603ba926f"
      },
      "execution_count": null,
      "outputs": [
        {
          "output_type": "stream",
          "name": "stdout",
          "text": [
            "Took 550.4 seconds for prepare and predict all data.\n"
          ]
        }
      ],
      "id": "BId6hvVOPn2s"
    },
    {
      "cell_type": "code",
      "source": [
        "# Import LightFM's evaluation metrics\n",
        "from lightfm.evaluation import precision_at_k as lightfm_prec_at_k\n",
        "from lightfm.evaluation import recall_at_k as lightfm_recall_at_k\n",
        "with Timer() as test_time:\n",
        "    eval_precision = precision_at_k(rating_true=test_df, \n",
        "                                rating_pred=all_predictions, k=K)\n",
        "    eval_recall = recall_at_k(test_df, all_predictions, k=K)\n",
        "time_reco3 = test_time.interval\n",
        "\n",
        "    \n",
        "print(\n",
        "    \"------ Using Repo's evaluation methods ------\",\n",
        "    f\"Precision@K:\\t{eval_precision:.6f}\",\n",
        "    f\"Recall@K:\\t{eval_recall:.6f}\",\n",
        "   \n",
        "    sep='\\n')"
      ],
      "metadata": {
        "colab": {
          "base_uri": "https://localhost:8080/"
        },
        "id": "OmdYlXoEPn5l",
        "outputId": "afdcb22e-cab3-4a39-8c57-1b0a26c432b4"
      },
      "execution_count": null,
      "outputs": [
        {
          "output_type": "stream",
          "name": "stdout",
          "text": [
            "------ Using Repo's evaluation methods ------\n",
            "Precision@K:\t0.204618\n",
            "Recall@K:\t0.258834\n"
          ]
        }
      ],
      "id": "OmdYlXoEPn5l"
    }
  ],
  "metadata": {
    "kernelspec": {
      "display_name": "Python 3",
      "language": "python",
      "name": "python3"
    },
    "language_info": {
      "codemirror_mode": {
        "name": "ipython",
        "version": 3
      },
      "file_extension": ".py",
      "mimetype": "text/x-python",
      "name": "python",
      "nbconvert_exporter": "python",
      "pygments_lexer": "ipython3",
      "version": "3.6.5"
    },
    "colab": {
      "provenance": [],
      "collapsed_sections": [
        "cdc02830",
        "TCEQhshMWGvi",
        "FUqH530Ul-3G",
        "w1LD_K_QAD26"
      ],
      "machine_shape": "hm"
    },
    "gpuClass": "standard",
    "accelerator": "GPU"
  },
  "nbformat": 4,
  "nbformat_minor": 5
}