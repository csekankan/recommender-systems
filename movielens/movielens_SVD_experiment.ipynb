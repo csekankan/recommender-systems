{
  "cells": [
    {
      "cell_type": "code",
      "execution_count": null,
      "id": "0c0df0b1",
      "metadata": {
        "id": "0c0df0b1"
      },
      "outputs": [],
      "source": [
        "import warnings\n",
        "warnings.filterwarnings(\"ignore\")"
      ]
    },
    {
      "cell_type": "code",
      "execution_count": null,
      "id": "9019baa0",
      "metadata": {
        "id": "9019baa0"
      },
      "outputs": [],
      "source": [
        "from datetime import datetime\n",
        "import os\n",
        "import matplotlib\n",
        "import pandas as pd\n",
        "import numpy as np\n",
        "import matplotlib.pyplot as plt\n",
        "import seaborn as sns\n",
        "sns.set_style('whitegrid')\n",
        "\n",
        "from scipy import sparse\n",
        "from scipy.sparse import csc_matrix\n",
        "from sklearn.decomposition import TruncatedSVD\n",
        "import random\n",
        "random.seed(0)\n",
        "np.random.seed(0)"
      ]
    },
    {
      "cell_type": "markdown",
      "id": "db6d1735",
      "metadata": {
        "id": "db6d1735"
      },
      "source": [
        "## Analyse Dataset"
      ]
    },
    {
      "cell_type": "markdown",
      "id": "e9719e18",
      "metadata": {
        "id": "e9719e18"
      },
      "source": [
        "\n",
        "### Movie lens Dataset\n",
        "Reading dataset (MovieLens 1M movie ratings dataset: downloaded from https://grouplens.org/datasets/movielens/1m/)\n"
      ]
    },
    {
      "cell_type": "code",
      "execution_count": null,
      "id": "0d68252d",
      "metadata": {
        "id": "0d68252d"
      },
      "outputs": [],
      "source": [
        "import os\n",
        "import zipfile\n",
        "from os.path import exists\n",
        "cwd = os.getcwd()\n",
        "file_exists = exists('./ml-1m/movies.dat')\n",
        "if(file_exists==False):\n",
        "      \n",
        "        print('downloading....')\n",
        "        os.system('curl -o ml-1m.zip -SL https://files.grouplens.org/datasets/movielens/ml-1m.zip')\n",
        "        print('download Complete')\n",
        "        print('Extracting..')\n",
        "        savePath=cwd\n",
        "        savefile=\"./ml-1m.zip\"\n",
        "        with zipfile.ZipFile(savefile, 'r') as zip_ref:\n",
        "            zip_ref.extractall(savePath)\n",
        "        print('Complete')"
      ]
    },
    {
      "cell_type": "code",
      "execution_count": null,
      "id": "6fe7f522",
      "metadata": {
        "id": "6fe7f522",
        "outputId": "6f864487-9593-4736-93fe-d53ac9c8c6aa"
      },
      "outputs": [
        {
          "data": {
            "text/html": [
              "<div>\n",
              "<style scoped>\n",
              "    .dataframe tbody tr th:only-of-type {\n",
              "        vertical-align: middle;\n",
              "    }\n",
              "\n",
              "    .dataframe tbody tr th {\n",
              "        vertical-align: top;\n",
              "    }\n",
              "\n",
              "    .dataframe thead th {\n",
              "        text-align: right;\n",
              "    }\n",
              "</style>\n",
              "<table border=\"1\" class=\"dataframe\">\n",
              "  <thead>\n",
              "    <tr style=\"text-align: right;\">\n",
              "      <th></th>\n",
              "      <th>movie_id</th>\n",
              "      <th>title</th>\n",
              "      <th>genre</th>\n",
              "    </tr>\n",
              "  </thead>\n",
              "  <tbody>\n",
              "    <tr>\n",
              "      <th>0</th>\n",
              "      <td>1</td>\n",
              "      <td>Toy Story (1995)</td>\n",
              "      <td>Animation|Children's|Comedy</td>\n",
              "    </tr>\n",
              "    <tr>\n",
              "      <th>1</th>\n",
              "      <td>2</td>\n",
              "      <td>Jumanji (1995)</td>\n",
              "      <td>Adventure|Children's|Fantasy</td>\n",
              "    </tr>\n",
              "    <tr>\n",
              "      <th>2</th>\n",
              "      <td>3</td>\n",
              "      <td>Grumpier Old Men (1995)</td>\n",
              "      <td>Comedy|Romance</td>\n",
              "    </tr>\n",
              "    <tr>\n",
              "      <th>3</th>\n",
              "      <td>4</td>\n",
              "      <td>Waiting to Exhale (1995)</td>\n",
              "      <td>Comedy|Drama</td>\n",
              "    </tr>\n",
              "    <tr>\n",
              "      <th>4</th>\n",
              "      <td>5</td>\n",
              "      <td>Father of the Bride Part II (1995)</td>\n",
              "      <td>Comedy</td>\n",
              "    </tr>\n",
              "    <tr>\n",
              "      <th>...</th>\n",
              "      <td>...</td>\n",
              "      <td>...</td>\n",
              "      <td>...</td>\n",
              "    </tr>\n",
              "    <tr>\n",
              "      <th>3878</th>\n",
              "      <td>3948</td>\n",
              "      <td>Meet the Parents (2000)</td>\n",
              "      <td>Comedy</td>\n",
              "    </tr>\n",
              "    <tr>\n",
              "      <th>3879</th>\n",
              "      <td>3949</td>\n",
              "      <td>Requiem for a Dream (2000)</td>\n",
              "      <td>Drama</td>\n",
              "    </tr>\n",
              "    <tr>\n",
              "      <th>3880</th>\n",
              "      <td>3950</td>\n",
              "      <td>Tigerland (2000)</td>\n",
              "      <td>Drama</td>\n",
              "    </tr>\n",
              "    <tr>\n",
              "      <th>3881</th>\n",
              "      <td>3951</td>\n",
              "      <td>Two Family House (2000)</td>\n",
              "      <td>Drama</td>\n",
              "    </tr>\n",
              "    <tr>\n",
              "      <th>3882</th>\n",
              "      <td>3952</td>\n",
              "      <td>Contender, The (2000)</td>\n",
              "      <td>Drama|Thriller</td>\n",
              "    </tr>\n",
              "  </tbody>\n",
              "</table>\n",
              "<p>3883 rows × 3 columns</p>\n",
              "</div>"
            ],
            "text/plain": [
              "      movie_id                               title  \\\n",
              "0            1                    Toy Story (1995)   \n",
              "1            2                      Jumanji (1995)   \n",
              "2            3             Grumpier Old Men (1995)   \n",
              "3            4            Waiting to Exhale (1995)   \n",
              "4            5  Father of the Bride Part II (1995)   \n",
              "...        ...                                 ...   \n",
              "3878      3948             Meet the Parents (2000)   \n",
              "3879      3949          Requiem for a Dream (2000)   \n",
              "3880      3950                    Tigerland (2000)   \n",
              "3881      3951             Two Family House (2000)   \n",
              "3882      3952               Contender, The (2000)   \n",
              "\n",
              "                             genre  \n",
              "0      Animation|Children's|Comedy  \n",
              "1     Adventure|Children's|Fantasy  \n",
              "2                   Comedy|Romance  \n",
              "3                     Comedy|Drama  \n",
              "4                           Comedy  \n",
              "...                            ...  \n",
              "3878                        Comedy  \n",
              "3879                         Drama  \n",
              "3880                         Drama  \n",
              "3881                         Drama  \n",
              "3882                Drama|Thriller  \n",
              "\n",
              "[3883 rows x 3 columns]"
            ]
          },
          "execution_count": 4,
          "metadata": {},
          "output_type": "execute_result"
        }
      ],
      "source": [
        "\n",
        "movie_data = pd.io.parsers.read_csv('ml-1m/movies.dat',\n",
        "    names=['movie_id', 'title', 'genre'],\n",
        "    engine='python', delimiter='::')\n",
        "\n",
        "movie_data"
      ]
    },
    {
      "cell_type": "markdown",
      "id": "b21c60fc",
      "metadata": {
        "id": "b21c60fc"
      },
      "source": [
        "### Visualise different genre"
      ]
    },
    {
      "cell_type": "code",
      "execution_count": null,
      "id": "d5f1bb94",
      "metadata": {
        "id": "d5f1bb94",
        "outputId": "e6e73210-8689-433e-dcaa-ee6f586fcb7b"
      },
      "outputs": [
        {
          "data": {
            "image/png": "[encoded data removed]",
            "text/plain": [
              "<Figure size 288x288 with 1 Axes>"
            ]
          },
          "metadata": {
            "needs_background": "light"
          },
          "output_type": "display_data"
        }
      ],
      "source": [
        "from wordcloud import WordCloud, STOPWORDS\n",
        "import matplotlib.pyplot as plt\n",
        "import pandas as pd\n",
        " \n",
        "\n",
        "comment_words = ''\n",
        "stopwords = set(STOPWORDS)\n",
        " \n",
        "# iterate through the csv file\n",
        "for val in movie_data.genre:\n",
        "     \n",
        "    # typecaste each val to string\n",
        "    val = str(val)\n",
        " \n",
        "    # split the value\n",
        "    tokens = val.split()\n",
        "     \n",
        "    # Converts each token into lowercase\n",
        "    for i in range(len(tokens)):\n",
        "        tokens[i] = tokens[i].lower()\n",
        "     \n",
        "    comment_words += \" \".join(tokens)+\" \"\n",
        "wordcloud = WordCloud(width = 800, height = 800,\n",
        "                background_color ='black',\n",
        "                stopwords = stopwords,\n",
        "                min_font_size = 4).generate(comment_words)\n",
        " \n",
        "# plot the WordCloud image                      \n",
        "plt.figure(figsize = (4,4), facecolor = None)\n",
        "plt.imshow(wordcloud)\n",
        "plt.axis(\"off\")\n",
        "plt.tight_layout(pad = 0)\n",
        " \n",
        "plt.show()"
      ]
    },
    {
      "cell_type": "code",
      "execution_count": null,
      "id": "8ffb7154",
      "metadata": {
        "id": "8ffb7154",
        "outputId": "073c721a-dd64-491d-c7e7-38c4688a6063"
      },
      "outputs": [
        {
          "data": {
            "text/html": [
              "<div>\n",
              "<style scoped>\n",
              "    .dataframe tbody tr th:only-of-type {\n",
              "        vertical-align: middle;\n",
              "    }\n",
              "\n",
              "    .dataframe tbody tr th {\n",
              "        vertical-align: top;\n",
              "    }\n",
              "\n",
              "    .dataframe thead th {\n",
              "        text-align: right;\n",
              "    }\n",
              "</style>\n",
              "<table border=\"1\" class=\"dataframe\">\n",
              "  <thead>\n",
              "    <tr style=\"text-align: right;\">\n",
              "      <th></th>\n",
              "      <th>user_id</th>\n",
              "      <th>movie_id</th>\n",
              "      <th>rating</th>\n",
              "      <th>time</th>\n",
              "    </tr>\n",
              "  </thead>\n",
              "  <tbody>\n",
              "    <tr>\n",
              "      <th>0</th>\n",
              "      <td>1</td>\n",
              "      <td>1193</td>\n",
              "      <td>5</td>\n",
              "      <td>978300760</td>\n",
              "    </tr>\n",
              "    <tr>\n",
              "      <th>1</th>\n",
              "      <td>1</td>\n",
              "      <td>661</td>\n",
              "      <td>3</td>\n",
              "      <td>978302109</td>\n",
              "    </tr>\n",
              "    <tr>\n",
              "      <th>2</th>\n",
              "      <td>1</td>\n",
              "      <td>914</td>\n",
              "      <td>3</td>\n",
              "      <td>978301968</td>\n",
              "    </tr>\n",
              "    <tr>\n",
              "      <th>3</th>\n",
              "      <td>1</td>\n",
              "      <td>3408</td>\n",
              "      <td>4</td>\n",
              "      <td>978300275</td>\n",
              "    </tr>\n",
              "    <tr>\n",
              "      <th>4</th>\n",
              "      <td>1</td>\n",
              "      <td>2355</td>\n",
              "      <td>5</td>\n",
              "      <td>978824291</td>\n",
              "    </tr>\n",
              "    <tr>\n",
              "      <th>...</th>\n",
              "      <td>...</td>\n",
              "      <td>...</td>\n",
              "      <td>...</td>\n",
              "      <td>...</td>\n",
              "    </tr>\n",
              "    <tr>\n",
              "      <th>1000204</th>\n",
              "      <td>6040</td>\n",
              "      <td>1091</td>\n",
              "      <td>1</td>\n",
              "      <td>956716541</td>\n",
              "    </tr>\n",
              "    <tr>\n",
              "      <th>1000205</th>\n",
              "      <td>6040</td>\n",
              "      <td>1094</td>\n",
              "      <td>5</td>\n",
              "      <td>956704887</td>\n",
              "    </tr>\n",
              "    <tr>\n",
              "      <th>1000206</th>\n",
              "      <td>6040</td>\n",
              "      <td>562</td>\n",
              "      <td>5</td>\n",
              "      <td>956704746</td>\n",
              "    </tr>\n",
              "    <tr>\n",
              "      <th>1000207</th>\n",
              "      <td>6040</td>\n",
              "      <td>1096</td>\n",
              "      <td>4</td>\n",
              "      <td>956715648</td>\n",
              "    </tr>\n",
              "    <tr>\n",
              "      <th>1000208</th>\n",
              "      <td>6040</td>\n",
              "      <td>1097</td>\n",
              "      <td>4</td>\n",
              "      <td>956715569</td>\n",
              "    </tr>\n",
              "  </tbody>\n",
              "</table>\n",
              "<p>1000209 rows × 4 columns</p>\n",
              "</div>"
            ],
            "text/plain": [
              "         user_id  movie_id  rating       time\n",
              "0              1      1193       5  978300760\n",
              "1              1       661       3  978302109\n",
              "2              1       914       3  978301968\n",
              "3              1      3408       4  978300275\n",
              "4              1      2355       5  978824291\n",
              "...          ...       ...     ...        ...\n",
              "1000204     6040      1091       1  956716541\n",
              "1000205     6040      1094       5  956704887\n",
              "1000206     6040       562       5  956704746\n",
              "1000207     6040      1096       4  956715648\n",
              "1000208     6040      1097       4  956715569\n",
              "\n",
              "[1000209 rows x 4 columns]"
            ]
          },
          "execution_count": 6,
          "metadata": {},
          "output_type": "execute_result"
        }
      ],
      "source": [
        "data = pd.io.parsers.read_csv('ml-1m/ratings.dat', \n",
        "    names=['user_id', 'movie_id', 'rating', 'time'],\n",
        "    engine='python', delimiter='::')\n",
        "\n",
        "data"
      ]
    },
    {
      "cell_type": "code",
      "execution_count": null,
      "id": "c80292e9",
      "metadata": {
        "id": "c80292e9",
        "outputId": "76d9997c-b133-4e01-b845-f2187457480e"
      },
      "outputs": [
        {
          "data": {
            "text/html": [
              "<div>\n",
              "<style scoped>\n",
              "    .dataframe tbody tr th:only-of-type {\n",
              "        vertical-align: middle;\n",
              "    }\n",
              "\n",
              "    .dataframe tbody tr th {\n",
              "        vertical-align: top;\n",
              "    }\n",
              "\n",
              "    .dataframe thead th {\n",
              "        text-align: right;\n",
              "    }\n",
              "</style>\n",
              "<table border=\"1\" class=\"dataframe\">\n",
              "  <thead>\n",
              "    <tr style=\"text-align: right;\">\n",
              "      <th></th>\n",
              "      <th>user_id</th>\n",
              "      <th>totalratingbyuser</th>\n",
              "    </tr>\n",
              "  </thead>\n",
              "  <tbody>\n",
              "    <tr>\n",
              "      <th>0</th>\n",
              "      <td>1</td>\n",
              "      <td>53</td>\n",
              "    </tr>\n",
              "    <tr>\n",
              "      <th>1</th>\n",
              "      <td>2</td>\n",
              "      <td>129</td>\n",
              "    </tr>\n",
              "    <tr>\n",
              "      <th>2</th>\n",
              "      <td>3</td>\n",
              "      <td>51</td>\n",
              "    </tr>\n",
              "    <tr>\n",
              "      <th>3</th>\n",
              "      <td>4</td>\n",
              "      <td>21</td>\n",
              "    </tr>\n",
              "    <tr>\n",
              "      <th>4</th>\n",
              "      <td>5</td>\n",
              "      <td>198</td>\n",
              "    </tr>\n",
              "    <tr>\n",
              "      <th>5</th>\n",
              "      <td>6</td>\n",
              "      <td>71</td>\n",
              "    </tr>\n",
              "    <tr>\n",
              "      <th>6</th>\n",
              "      <td>7</td>\n",
              "      <td>31</td>\n",
              "    </tr>\n",
              "    <tr>\n",
              "      <th>7</th>\n",
              "      <td>8</td>\n",
              "      <td>139</td>\n",
              "    </tr>\n",
              "    <tr>\n",
              "      <th>8</th>\n",
              "      <td>9</td>\n",
              "      <td>106</td>\n",
              "    </tr>\n",
              "    <tr>\n",
              "      <th>9</th>\n",
              "      <td>10</td>\n",
              "      <td>401</td>\n",
              "    </tr>\n",
              "  </tbody>\n",
              "</table>\n",
              "</div>"
            ],
            "text/plain": [
              "   user_id  totalratingbyuser\n",
              "0        1                 53\n",
              "1        2                129\n",
              "2        3                 51\n",
              "3        4                 21\n",
              "4        5                198\n",
              "5        6                 71\n",
              "6        7                 31\n",
              "7        8                139\n",
              "8        9                106\n",
              "9       10                401"
            ]
          },
          "execution_count": 7,
          "metadata": {},
          "output_type": "execute_result"
        }
      ],
      "source": [
        "user_ratingCount = (data.\n",
        "     groupby(by = ['user_id'])['rating'].\n",
        "     count().\n",
        "     reset_index().\n",
        "     rename(columns = {'rating': 'totalratingbyuser'})\n",
        "     [['user_id', 'totalratingbyuser']]\n",
        "    )\n",
        "user_ratingCount.head(10)"
      ]
    },
    {
      "cell_type": "code",
      "execution_count": null,
      "id": "52a7d5fc",
      "metadata": {
        "id": "52a7d5fc",
        "outputId": "07081460-b434-4d38-98f2-d8a14783b605"
      },
      "outputs": [
        {
          "data": {
            "text/html": [
              "<div>\n",
              "<style scoped>\n",
              "    .dataframe tbody tr th:only-of-type {\n",
              "        vertical-align: middle;\n",
              "    }\n",
              "\n",
              "    .dataframe tbody tr th {\n",
              "        vertical-align: top;\n",
              "    }\n",
              "\n",
              "    .dataframe thead th {\n",
              "        text-align: right;\n",
              "    }\n",
              "</style>\n",
              "<table border=\"1\" class=\"dataframe\">\n",
              "  <thead>\n",
              "    <tr style=\"text-align: right;\">\n",
              "      <th></th>\n",
              "      <th>movie_id</th>\n",
              "      <th>totalRatingCount</th>\n",
              "    </tr>\n",
              "  </thead>\n",
              "  <tbody>\n",
              "    <tr>\n",
              "      <th>0</th>\n",
              "      <td>1</td>\n",
              "      <td>2077</td>\n",
              "    </tr>\n",
              "    <tr>\n",
              "      <th>1</th>\n",
              "      <td>2</td>\n",
              "      <td>701</td>\n",
              "    </tr>\n",
              "    <tr>\n",
              "      <th>2</th>\n",
              "      <td>3</td>\n",
              "      <td>478</td>\n",
              "    </tr>\n",
              "    <tr>\n",
              "      <th>3</th>\n",
              "      <td>4</td>\n",
              "      <td>170</td>\n",
              "    </tr>\n",
              "    <tr>\n",
              "      <th>4</th>\n",
              "      <td>5</td>\n",
              "      <td>296</td>\n",
              "    </tr>\n",
              "  </tbody>\n",
              "</table>\n",
              "</div>"
            ],
            "text/plain": [
              "   movie_id  totalRatingCount\n",
              "0         1              2077\n",
              "1         2               701\n",
              "2         3               478\n",
              "3         4               170\n",
              "4         5               296"
            ]
          },
          "execution_count": 8,
          "metadata": {},
          "output_type": "execute_result"
        }
      ],
      "source": [
        "\n",
        "movie_ratingCount = (data.\n",
        "     groupby(by = ['movie_id'])['rating'].\n",
        "     count().\n",
        "     reset_index().\n",
        "     rename(columns = {'rating': 'totalRatingCount'})\n",
        "     [['movie_id', 'totalRatingCount']]\n",
        "    )\n",
        "movie_ratingCount.head()"
      ]
    },
    {
      "cell_type": "code",
      "execution_count": null,
      "id": "0d7305c3",
      "metadata": {
        "id": "0d7305c3",
        "outputId": "eeef4f5d-7247-48b6-e0ce-d582584f45da"
      },
      "outputs": [
        {
          "data": {
            "text/html": [
              "<div>\n",
              "<style scoped>\n",
              "    .dataframe tbody tr th:only-of-type {\n",
              "        vertical-align: middle;\n",
              "    }\n",
              "\n",
              "    .dataframe tbody tr th {\n",
              "        vertical-align: top;\n",
              "    }\n",
              "\n",
              "    .dataframe thead th {\n",
              "        text-align: right;\n",
              "    }\n",
              "</style>\n",
              "<table border=\"1\" class=\"dataframe\">\n",
              "  <thead>\n",
              "    <tr style=\"text-align: right;\">\n",
              "      <th></th>\n",
              "      <th>user_id</th>\n",
              "      <th>movie_id</th>\n",
              "      <th>rating</th>\n",
              "      <th>time</th>\n",
              "      <th>totalRatingCount</th>\n",
              "    </tr>\n",
              "  </thead>\n",
              "  <tbody>\n",
              "    <tr>\n",
              "      <th>0</th>\n",
              "      <td>1</td>\n",
              "      <td>1193</td>\n",
              "      <td>5</td>\n",
              "      <td>978300760</td>\n",
              "      <td>1725</td>\n",
              "    </tr>\n",
              "    <tr>\n",
              "      <th>1</th>\n",
              "      <td>1</td>\n",
              "      <td>661</td>\n",
              "      <td>3</td>\n",
              "      <td>978302109</td>\n",
              "      <td>525</td>\n",
              "    </tr>\n",
              "    <tr>\n",
              "      <th>2</th>\n",
              "      <td>1</td>\n",
              "      <td>914</td>\n",
              "      <td>3</td>\n",
              "      <td>978301968</td>\n",
              "      <td>636</td>\n",
              "    </tr>\n",
              "    <tr>\n",
              "      <th>3</th>\n",
              "      <td>1</td>\n",
              "      <td>3408</td>\n",
              "      <td>4</td>\n",
              "      <td>978300275</td>\n",
              "      <td>1315</td>\n",
              "    </tr>\n",
              "    <tr>\n",
              "      <th>4</th>\n",
              "      <td>1</td>\n",
              "      <td>2355</td>\n",
              "      <td>5</td>\n",
              "      <td>978824291</td>\n",
              "      <td>1703</td>\n",
              "    </tr>\n",
              "  </tbody>\n",
              "</table>\n",
              "</div>"
            ],
            "text/plain": [
              "   user_id  movie_id  rating       time  totalRatingCount\n",
              "0        1      1193       5  978300760              1725\n",
              "1        1       661       3  978302109               525\n",
              "2        1       914       3  978301968               636\n",
              "3        1      3408       4  978300275              1315\n",
              "4        1      2355       5  978824291              1703"
            ]
          },
          "execution_count": 9,
          "metadata": {},
          "output_type": "execute_result"
        }
      ],
      "source": [
        "rating_df_totalRatingCount = data.merge(movie_ratingCount, left_on = 'movie_id', right_on = 'movie_id', how = 'left')\n",
        "rating_df_totalRatingCount.head()"
      ]
    },
    {
      "cell_type": "code",
      "execution_count": null,
      "id": "b3c847d9",
      "metadata": {
        "id": "b3c847d9",
        "outputId": "970ec1a6-d4a3-4704-dcb1-add72877c3db"
      },
      "outputs": [
        {
          "data": {
            "text/html": [
              "<div>\n",
              "<style scoped>\n",
              "    .dataframe tbody tr th:only-of-type {\n",
              "        vertical-align: middle;\n",
              "    }\n",
              "\n",
              "    .dataframe tbody tr th {\n",
              "        vertical-align: top;\n",
              "    }\n",
              "\n",
              "    .dataframe thead th {\n",
              "        text-align: right;\n",
              "    }\n",
              "</style>\n",
              "<table border=\"1\" class=\"dataframe\">\n",
              "  <thead>\n",
              "    <tr style=\"text-align: right;\">\n",
              "      <th></th>\n",
              "      <th>user_id</th>\n",
              "      <th>movie_id</th>\n",
              "      <th>rating</th>\n",
              "      <th>time</th>\n",
              "      <th>totalRatingCount</th>\n",
              "      <th>totalratingbyuser</th>\n",
              "    </tr>\n",
              "  </thead>\n",
              "  <tbody>\n",
              "    <tr>\n",
              "      <th>0</th>\n",
              "      <td>1</td>\n",
              "      <td>1193</td>\n",
              "      <td>5</td>\n",
              "      <td>978300760</td>\n",
              "      <td>1725</td>\n",
              "      <td>53</td>\n",
              "    </tr>\n",
              "    <tr>\n",
              "      <th>1</th>\n",
              "      <td>1</td>\n",
              "      <td>661</td>\n",
              "      <td>3</td>\n",
              "      <td>978302109</td>\n",
              "      <td>525</td>\n",
              "      <td>53</td>\n",
              "    </tr>\n",
              "    <tr>\n",
              "      <th>2</th>\n",
              "      <td>1</td>\n",
              "      <td>914</td>\n",
              "      <td>3</td>\n",
              "      <td>978301968</td>\n",
              "      <td>636</td>\n",
              "      <td>53</td>\n",
              "    </tr>\n",
              "    <tr>\n",
              "      <th>3</th>\n",
              "      <td>1</td>\n",
              "      <td>3408</td>\n",
              "      <td>4</td>\n",
              "      <td>978300275</td>\n",
              "      <td>1315</td>\n",
              "      <td>53</td>\n",
              "    </tr>\n",
              "    <tr>\n",
              "      <th>4</th>\n",
              "      <td>1</td>\n",
              "      <td>2355</td>\n",
              "      <td>5</td>\n",
              "      <td>978824291</td>\n",
              "      <td>1703</td>\n",
              "      <td>53</td>\n",
              "    </tr>\n",
              "  </tbody>\n",
              "</table>\n",
              "</div>"
            ],
            "text/plain": [
              "   user_id  movie_id  rating       time  totalRatingCount  totalratingbyuser\n",
              "0        1      1193       5  978300760              1725                 53\n",
              "1        1       661       3  978302109               525                 53\n",
              "2        1       914       3  978301968               636                 53\n",
              "3        1      3408       4  978300275              1315                 53\n",
              "4        1      2355       5  978824291              1703                 53"
            ]
          },
          "execution_count": 10,
          "metadata": {},
          "output_type": "execute_result"
        }
      ],
      "source": [
        "rating_df_totalRatingCount= rating_df_totalRatingCount.merge( user_ratingCount, left_on = 'user_id', right_on = 'user_id', how = 'left')\n",
        "rating_df_totalRatingCount.head()"
      ]
    },
    {
      "cell_type": "code",
      "execution_count": null,
      "id": "b8980fdd",
      "metadata": {
        "id": "b8980fdd",
        "outputId": "067a9bc9-f8ac-462c-ddef-de06c2f13e1f"
      },
      "outputs": [
        {
          "data": {
            "text/html": [
              "<div>\n",
              "<style scoped>\n",
              "    .dataframe tbody tr th:only-of-type {\n",
              "        vertical-align: middle;\n",
              "    }\n",
              "\n",
              "    .dataframe tbody tr th {\n",
              "        vertical-align: top;\n",
              "    }\n",
              "\n",
              "    .dataframe thead th {\n",
              "        text-align: right;\n",
              "    }\n",
              "</style>\n",
              "<table border=\"1\" class=\"dataframe\">\n",
              "  <thead>\n",
              "    <tr style=\"text-align: right;\">\n",
              "      <th></th>\n",
              "      <th>user_id</th>\n",
              "      <th>movie_id</th>\n",
              "      <th>rating</th>\n",
              "      <th>time</th>\n",
              "      <th>totalRatingCount</th>\n",
              "      <th>totalratingbyuser</th>\n",
              "    </tr>\n",
              "  </thead>\n",
              "  <tbody>\n",
              "    <tr>\n",
              "      <th>53</th>\n",
              "      <td>2</td>\n",
              "      <td>1357</td>\n",
              "      <td>5</td>\n",
              "      <td>978298709</td>\n",
              "      <td>548</td>\n",
              "      <td>129</td>\n",
              "    </tr>\n",
              "    <tr>\n",
              "      <th>54</th>\n",
              "      <td>2</td>\n",
              "      <td>3068</td>\n",
              "      <td>4</td>\n",
              "      <td>978299000</td>\n",
              "      <td>379</td>\n",
              "      <td>129</td>\n",
              "    </tr>\n",
              "    <tr>\n",
              "      <th>55</th>\n",
              "      <td>2</td>\n",
              "      <td>1537</td>\n",
              "      <td>4</td>\n",
              "      <td>978299620</td>\n",
              "      <td>350</td>\n",
              "      <td>129</td>\n",
              "    </tr>\n",
              "    <tr>\n",
              "      <th>56</th>\n",
              "      <td>2</td>\n",
              "      <td>647</td>\n",
              "      <td>3</td>\n",
              "      <td>978299351</td>\n",
              "      <td>441</td>\n",
              "      <td>129</td>\n",
              "    </tr>\n",
              "    <tr>\n",
              "      <th>57</th>\n",
              "      <td>2</td>\n",
              "      <td>2194</td>\n",
              "      <td>4</td>\n",
              "      <td>978299297</td>\n",
              "      <td>1127</td>\n",
              "      <td>129</td>\n",
              "    </tr>\n",
              "  </tbody>\n",
              "</table>\n",
              "</div>"
            ],
            "text/plain": [
              "    user_id  movie_id  rating       time  totalRatingCount  totalratingbyuser\n",
              "53        2      1357       5  978298709               548                129\n",
              "54        2      3068       4  978299000               379                129\n",
              "55        2      1537       4  978299620               350                129\n",
              "56        2       647       3  978299351               441                129\n",
              "57        2      2194       4  978299297              1127                129"
            ]
          },
          "execution_count": 11,
          "metadata": {},
          "output_type": "execute_result"
        }
      ],
      "source": [
        "\n",
        "data= rating_df_totalRatingCount.query('totalRatingCount >= 200')\n",
        "data= data.query('totalratingbyuser >= 100')\n",
        "data.head()"
      ]
    },
    {
      "cell_type": "markdown",
      "id": "8ea3c32b",
      "metadata": {
        "id": "8ea3c32b"
      },
      "source": [
        "### Prepare Train and Test set"
      ]
    },
    {
      "cell_type": "markdown",
      "id": "c73ae23b",
      "metadata": {
        "id": "c73ae23b"
      },
      "source": [
        "- We will consider 10 most recent rated movies by each user as testing data.Out model will be trained on rest of the data"
      ]
    },
    {
      "cell_type": "code",
      "execution_count": null,
      "id": "0c9ce1cb",
      "metadata": {
        "id": "0c9ce1cb",
        "outputId": "670c05a3-9474-485d-e75b-026d59ada022"
      },
      "outputs": [
        {
          "data": {
            "text/plain": [
              "(718125, 6)"
            ]
          },
          "execution_count": 12,
          "metadata": {},
          "output_type": "execute_result"
        }
      ],
      "source": [
        "data=data.sort_values(by=['user_id','time'], ascending=[False,False]) \n",
        "data.shape"
      ]
    },
    {
      "cell_type": "code",
      "execution_count": null,
      "id": "38a6cf66",
      "metadata": {
        "id": "38a6cf66",
        "outputId": "59df9381-835d-49ed-9ffa-b58fb7e7a5f8"
      },
      "outputs": [
        {
          "data": {
            "text/plain": [
              "(88350, 6)"
            ]
          },
          "execution_count": 13,
          "metadata": {},
          "output_type": "execute_result"
        }
      ],
      "source": [
        "test_df=data.groupby('user_id').head(30)\n",
        "test_df.shape"
      ]
    },
    {
      "cell_type": "code",
      "execution_count": null,
      "id": "14a5cafe",
      "metadata": {
        "id": "14a5cafe",
        "outputId": "766f33cb-044a-490e-8994-7bd999de89cb"
      },
      "outputs": [
        {
          "data": {
            "text/plain": [
              "(629775, 6)"
            ]
          },
          "execution_count": 14,
          "metadata": {},
          "output_type": "execute_result"
        }
      ],
      "source": [
        "data=data[~data.isin(test_df).all(1)]\n",
        "data.shape"
      ]
    },
    {
      "cell_type": "markdown",
      "id": "bd287869",
      "metadata": {
        "id": "bd287869"
      },
      "source": [
        "## Final dataset"
      ]
    },
    {
      "cell_type": "code",
      "execution_count": null,
      "id": "b615eab4",
      "metadata": {
        "id": "b615eab4",
        "outputId": "04433e2c-cc40-4a0f-c128-b6b374a96b08"
      },
      "outputs": [
        {
          "data": {
            "text/html": [
              "<div>\n",
              "<style scoped>\n",
              "    .dataframe tbody tr th:only-of-type {\n",
              "        vertical-align: middle;\n",
              "    }\n",
              "\n",
              "    .dataframe tbody tr th {\n",
              "        vertical-align: top;\n",
              "    }\n",
              "\n",
              "    .dataframe thead th {\n",
              "        text-align: right;\n",
              "    }\n",
              "</style>\n",
              "<table border=\"1\" class=\"dataframe\">\n",
              "  <thead>\n",
              "    <tr style=\"text-align: right;\">\n",
              "      <th></th>\n",
              "      <th>user_id</th>\n",
              "      <th>movie_id</th>\n",
              "      <th>rating</th>\n",
              "      <th>time</th>\n",
              "      <th>totalRatingCount</th>\n",
              "      <th>totalratingbyuser</th>\n",
              "    </tr>\n",
              "  </thead>\n",
              "  <tbody>\n",
              "    <tr>\n",
              "      <th>999943</th>\n",
              "      <td>6040</td>\n",
              "      <td>3819</td>\n",
              "      <td>5</td>\n",
              "      <td>963272166</td>\n",
              "      <td>245</td>\n",
              "      <td>341</td>\n",
              "    </tr>\n",
              "  </tbody>\n",
              "</table>\n",
              "</div>"
            ],
            "text/plain": [
              "        user_id  movie_id  rating       time  totalRatingCount  \\\n",
              "999943     6040      3819       5  963272166               245   \n",
              "\n",
              "        totalratingbyuser  \n",
              "999943                341  "
            ]
          },
          "execution_count": 15,
          "metadata": {},
          "output_type": "execute_result"
        }
      ],
      "source": [
        "data.head(1)"
      ]
    },
    {
      "cell_type": "code",
      "execution_count": null,
      "id": "056f5493",
      "metadata": {
        "id": "056f5493",
        "outputId": "80f42602-362f-4055-87a5-4605de0f25a7"
      },
      "outputs": [
        {
          "data": {
            "text/html": [
              "<div>\n",
              "<style scoped>\n",
              "    .dataframe tbody tr th:only-of-type {\n",
              "        vertical-align: middle;\n",
              "    }\n",
              "\n",
              "    .dataframe tbody tr th {\n",
              "        vertical-align: top;\n",
              "    }\n",
              "\n",
              "    .dataframe thead th {\n",
              "        text-align: right;\n",
              "    }\n",
              "</style>\n",
              "<table border=\"1\" class=\"dataframe\">\n",
              "  <thead>\n",
              "    <tr style=\"text-align: right;\">\n",
              "      <th></th>\n",
              "      <th>movie_id</th>\n",
              "      <th>title</th>\n",
              "      <th>genre</th>\n",
              "    </tr>\n",
              "  </thead>\n",
              "  <tbody>\n",
              "    <tr>\n",
              "      <th>0</th>\n",
              "      <td>1</td>\n",
              "      <td>Toy Story (1995)</td>\n",
              "      <td>Animation|Children's|Comedy</td>\n",
              "    </tr>\n",
              "  </tbody>\n",
              "</table>\n",
              "</div>"
            ],
            "text/plain": [
              "   movie_id             title                        genre\n",
              "0         1  Toy Story (1995)  Animation|Children's|Comedy"
            ]
          },
          "execution_count": 16,
          "metadata": {},
          "output_type": "execute_result"
        }
      ],
      "source": [
        "movie_data.head(1)"
      ]
    },
    {
      "cell_type": "code",
      "execution_count": null,
      "id": "aef6a4f6",
      "metadata": {
        "id": "aef6a4f6",
        "outputId": "188e9f5e-6619-4679-c941-f36a35db374f"
      },
      "outputs": [
        {
          "data": {
            "text/html": [
              "<div>\n",
              "<style scoped>\n",
              "    .dataframe tbody tr th:only-of-type {\n",
              "        vertical-align: middle;\n",
              "    }\n",
              "\n",
              "    .dataframe tbody tr th {\n",
              "        vertical-align: top;\n",
              "    }\n",
              "\n",
              "    .dataframe thead th {\n",
              "        text-align: right;\n",
              "    }\n",
              "</style>\n",
              "<table border=\"1\" class=\"dataframe\">\n",
              "  <thead>\n",
              "    <tr style=\"text-align: right;\">\n",
              "      <th></th>\n",
              "      <th>user_id</th>\n",
              "      <th>movie_id</th>\n",
              "      <th>rating</th>\n",
              "      <th>time</th>\n",
              "      <th>totalRatingCount</th>\n",
              "      <th>totalratingbyuser</th>\n",
              "    </tr>\n",
              "  </thead>\n",
              "  <tbody>\n",
              "    <tr>\n",
              "      <th>1000042</th>\n",
              "      <td>6040</td>\n",
              "      <td>1221</td>\n",
              "      <td>4</td>\n",
              "      <td>998315055</td>\n",
              "      <td>1692</td>\n",
              "      <td>341</td>\n",
              "    </tr>\n",
              "  </tbody>\n",
              "</table>\n",
              "</div>"
            ],
            "text/plain": [
              "         user_id  movie_id  rating       time  totalRatingCount  \\\n",
              "1000042     6040      1221       4  998315055              1692   \n",
              "\n",
              "         totalratingbyuser  \n",
              "1000042                341  "
            ]
          },
          "execution_count": 17,
          "metadata": {},
          "output_type": "execute_result"
        }
      ],
      "source": [
        "test_df.head(1)"
      ]
    },
    {
      "cell_type": "markdown",
      "id": "2d4ebe4a",
      "metadata": {
        "id": "2d4ebe4a"
      },
      "source": [
        "## Applying Collaborative Filtering:\n",
        "- We can apply any standard collaborative filtering  techniques."
      ]
    },
    {
      "cell_type": "markdown",
      "id": "60d7c411",
      "metadata": {
        "id": "60d7c411"
      },
      "source": [
        "## Singular Value Decomposition (SVD) based  Recommendation"
      ]
    },
    {
      "cell_type": "markdown",
      "id": "87bf65c8",
      "metadata": {
        "id": "87bf65c8"
      },
      "source": [
        "###  Step1: Create the rating matrix with rows as movies and columns as users."
      ]
    },
    {
      "cell_type": "code",
      "execution_count": null,
      "id": "b94b0c3e",
      "metadata": {
        "id": "b94b0c3e"
      },
      "outputs": [],
      "source": [
        "ratings_mat = np.ndarray(\n",
        "    shape=(np.max(data.movie_id.values), np.max(data.user_id.values)),\n",
        "    dtype=np.uint8)\n",
        "ratings_mat[data.movie_id.values-1, data.user_id.values-1] = data.rating.values"
      ]
    },
    {
      "cell_type": "markdown",
      "id": "4f35c181",
      "metadata": {
        "id": "4f35c181"
      },
      "source": [
        "### Apply SVD"
      ]
    },
    {
      "cell_type": "code",
      "execution_count": null,
      "id": "ddc8b2bb",
      "metadata": {
        "id": "ddc8b2bb"
      },
      "outputs": [],
      "source": [
        "from scipy.sparse.linalg import svds\n",
        "normalised_mat = ratings_mat - np.asarray([(np.mean(ratings_mat, 1))]).T\n",
        "n_factors = 50\n",
        "#Computing the Singular Value Decomposition (SVD)\n",
        "A = normalised_mat.T / np.sqrt(ratings_mat.shape[0] - 1)\n",
        "U, S, V = svds (A,n_factors)"
      ]
    },
    {
      "cell_type": "code",
      "execution_count": null,
      "id": "1060960b",
      "metadata": {
        "id": "1060960b"
      },
      "outputs": [],
      "source": [
        "movie_factors = V.T\n",
        "user_factors = U"
      ]
    },
    {
      "cell_type": "code",
      "execution_count": null,
      "id": "f4e9a062",
      "metadata": {
        "id": "f4e9a062"
      },
      "outputs": [],
      "source": [
        "def top_cosine_similarity(data, movie_id, top_n=10):\n",
        "    index = movie_id - 1 # Movie id starts from 1 in the dataset\n",
        "    movie_row = data[index, :]\n",
        "    magnitude = np.sqrt(np.einsum('ij, ij -> i', data, data))\n",
        "    similarity = np.dot(movie_row, data.T) / (magnitude[index] * magnitude)\n",
        "    sort_indexes = np.argsort(-similarity)\n",
        "    return sort_indexes[:top_n]\n"
      ]
    },
    {
      "cell_type": "markdown",
      "id": "e22346b7",
      "metadata": {
        "id": "e22346b7"
      },
      "source": [
        "### Recommendation for movie GoldenEye (1995)"
      ]
    },
    {
      "cell_type": "code",
      "execution_count": null,
      "id": "8ca01d87",
      "metadata": {
        "id": "8ca01d87",
        "outputId": "ca823090-8275-4f75-f11f-6a291dcf7106"
      },
      "outputs": [
        {
          "data": {
            "text/html": [
              "<div>\n",
              "<style scoped>\n",
              "    .dataframe tbody tr th:only-of-type {\n",
              "        vertical-align: middle;\n",
              "    }\n",
              "\n",
              "    .dataframe tbody tr th {\n",
              "        vertical-align: top;\n",
              "    }\n",
              "\n",
              "    .dataframe thead th {\n",
              "        text-align: right;\n",
              "    }\n",
              "</style>\n",
              "<table border=\"1\" class=\"dataframe\">\n",
              "  <thead>\n",
              "    <tr style=\"text-align: right;\">\n",
              "      <th></th>\n",
              "      <th>movie_id</th>\n",
              "      <th>title</th>\n",
              "      <th>genre</th>\n",
              "    </tr>\n",
              "  </thead>\n",
              "  <tbody>\n",
              "    <tr>\n",
              "      <th>9</th>\n",
              "      <td>10</td>\n",
              "      <td>GoldenEye (1995)</td>\n",
              "      <td>Action|Adventure|Thriller</td>\n",
              "    </tr>\n",
              "    <tr>\n",
              "      <th>345</th>\n",
              "      <td>349</td>\n",
              "      <td>Clear and Present Danger (1994)</td>\n",
              "      <td>Action|Adventure|Thriller</td>\n",
              "    </tr>\n",
              "    <tr>\n",
              "      <th>1673</th>\n",
              "      <td>1722</td>\n",
              "      <td>Tomorrow Never Dies (1997)</td>\n",
              "      <td>Action|Romance|Thriller</td>\n",
              "    </tr>\n",
              "    <tr>\n",
              "      <th>1937</th>\n",
              "      <td>2006</td>\n",
              "      <td>Mask of Zorro, The (1998)</td>\n",
              "      <td>Action|Adventure|Romance</td>\n",
              "    </tr>\n",
              "    <tr>\n",
              "      <th>2921</th>\n",
              "      <td>2990</td>\n",
              "      <td>Licence to Kill (1989)</td>\n",
              "      <td>Action</td>\n",
              "    </tr>\n",
              "    <tr>\n",
              "      <th>2922</th>\n",
              "      <td>2991</td>\n",
              "      <td>Live and Let Die (1973)</td>\n",
              "      <td>Action</td>\n",
              "    </tr>\n",
              "    <tr>\n",
              "      <th>2924</th>\n",
              "      <td>2993</td>\n",
              "      <td>Thunderball (1965)</td>\n",
              "      <td>Action</td>\n",
              "    </tr>\n",
              "    <tr>\n",
              "      <th>3013</th>\n",
              "      <td>3082</td>\n",
              "      <td>World Is Not Enough, The (1999)</td>\n",
              "      <td>Action|Thriller</td>\n",
              "    </tr>\n",
              "    <tr>\n",
              "      <th>3564</th>\n",
              "      <td>3633</td>\n",
              "      <td>On Her Majesty's Secret Service (1969)</td>\n",
              "      <td>Action</td>\n",
              "    </tr>\n",
              "    <tr>\n",
              "      <th>3570</th>\n",
              "      <td>3639</td>\n",
              "      <td>Man with the Golden Gun, The (1974)</td>\n",
              "      <td>Action</td>\n",
              "    </tr>\n",
              "  </tbody>\n",
              "</table>\n",
              "</div>"
            ],
            "text/plain": [
              "      movie_id                                   title  \\\n",
              "9           10                        GoldenEye (1995)   \n",
              "345        349         Clear and Present Danger (1994)   \n",
              "1673      1722              Tomorrow Never Dies (1997)   \n",
              "1937      2006               Mask of Zorro, The (1998)   \n",
              "2921      2990                  Licence to Kill (1989)   \n",
              "2922      2991                 Live and Let Die (1973)   \n",
              "2924      2993                      Thunderball (1965)   \n",
              "3013      3082         World Is Not Enough, The (1999)   \n",
              "3564      3633  On Her Majesty's Secret Service (1969)   \n",
              "3570      3639     Man with the Golden Gun, The (1974)   \n",
              "\n",
              "                          genre  \n",
              "9     Action|Adventure|Thriller  \n",
              "345   Action|Adventure|Thriller  \n",
              "1673    Action|Romance|Thriller  \n",
              "1937   Action|Adventure|Romance  \n",
              "2921                     Action  \n",
              "2922                     Action  \n",
              "2924                     Action  \n",
              "3013            Action|Thriller  \n",
              "3564                     Action  \n",
              "3570                     Action  "
            ]
          },
          "execution_count": 22,
          "metadata": {},
          "output_type": "execute_result"
        }
      ],
      "source": [
        "movie_id =movie_data[movie_data['title']=='GoldenEye (1995)']\n",
        "movie_id=movie_id.values[0][0]\n",
        "\n",
        "top_n = 10\n",
        "k = 50\n",
        "top_n = 10\n",
        "sliced = movie_factors[:, :k] # representative data\n",
        "indexes = top_cosine_similarity(sliced, movie_id, top_n)\n",
        "indexes=indexes+1\n",
        "movie_data[movie_data['movie_id'].isin(indexes)]\n"
      ]
    },
    {
      "cell_type": "code",
      "execution_count": null,
      "id": "f480f8e5",
      "metadata": {
        "id": "f480f8e5",
        "outputId": "945b2919-83f6-4eb6-f4d4-871c5af077bd"
      },
      "outputs": [
        {
          "data": {
            "text/html": [
              "<div>\n",
              "<style scoped>\n",
              "    .dataframe tbody tr th:only-of-type {\n",
              "        vertical-align: middle;\n",
              "    }\n",
              "\n",
              "    .dataframe tbody tr th {\n",
              "        vertical-align: top;\n",
              "    }\n",
              "\n",
              "    .dataframe thead th {\n",
              "        text-align: right;\n",
              "    }\n",
              "</style>\n",
              "<table border=\"1\" class=\"dataframe\">\n",
              "  <thead>\n",
              "    <tr style=\"text-align: right;\">\n",
              "      <th></th>\n",
              "      <th>movie_id</th>\n",
              "      <th>title</th>\n",
              "      <th>genre</th>\n",
              "    </tr>\n",
              "  </thead>\n",
              "  <tbody>\n",
              "    <tr>\n",
              "      <th>257</th>\n",
              "      <td>260</td>\n",
              "      <td>Star Wars: Episode IV - A New Hope (1977)</td>\n",
              "      <td>Action|Adventure|Fantasy|Sci-Fi</td>\n",
              "    </tr>\n",
              "    <tr>\n",
              "      <th>1178</th>\n",
              "      <td>1196</td>\n",
              "      <td>Star Wars: Episode V - The Empire Strikes Back...</td>\n",
              "      <td>Action|Adventure|Drama|Sci-Fi|War</td>\n",
              "    </tr>\n",
              "    <tr>\n",
              "      <th>1192</th>\n",
              "      <td>1210</td>\n",
              "      <td>Star Wars: Episode VI - Return of the Jedi (1983)</td>\n",
              "      <td>Action|Adventure|Romance|Sci-Fi|War</td>\n",
              "    </tr>\n",
              "    <tr>\n",
              "      <th>1196</th>\n",
              "      <td>1214</td>\n",
              "      <td>Alien (1979)</td>\n",
              "      <td>Action|Horror|Sci-Fi|Thriller</td>\n",
              "    </tr>\n",
              "    <tr>\n",
              "      <th>1303</th>\n",
              "      <td>1323</td>\n",
              "      <td>Amityville 3-D (1983)</td>\n",
              "      <td>Horror</td>\n",
              "    </tr>\n",
              "    <tr>\n",
              "      <th>2559</th>\n",
              "      <td>2628</td>\n",
              "      <td>Star Wars: Episode I - The Phantom Menace (1999)</td>\n",
              "      <td>Action|Adventure|Fantasy|Sci-Fi</td>\n",
              "    </tr>\n",
              "    <tr>\n",
              "      <th>2896</th>\n",
              "      <td>2965</td>\n",
              "      <td>Omega Code, The (1999)</td>\n",
              "      <td>Action</td>\n",
              "    </tr>\n",
              "    <tr>\n",
              "      <th>3245</th>\n",
              "      <td>3314</td>\n",
              "      <td>Big Trees, The (1952)</td>\n",
              "      <td>Action|Drama</td>\n",
              "    </tr>\n",
              "    <tr>\n",
              "      <th>3744</th>\n",
              "      <td>3813</td>\n",
              "      <td>Interiors (1978)</td>\n",
              "      <td>Drama</td>\n",
              "    </tr>\n",
              "  </tbody>\n",
              "</table>\n",
              "</div>"
            ],
            "text/plain": [
              "      movie_id                                              title  \\\n",
              "257        260          Star Wars: Episode IV - A New Hope (1977)   \n",
              "1178      1196  Star Wars: Episode V - The Empire Strikes Back...   \n",
              "1192      1210  Star Wars: Episode VI - Return of the Jedi (1983)   \n",
              "1196      1214                                       Alien (1979)   \n",
              "1303      1323                              Amityville 3-D (1983)   \n",
              "2559      2628   Star Wars: Episode I - The Phantom Menace (1999)   \n",
              "2896      2965                             Omega Code, The (1999)   \n",
              "3245      3314                              Big Trees, The (1952)   \n",
              "3744      3813                                   Interiors (1978)   \n",
              "\n",
              "                                    genre  \n",
              "257       Action|Adventure|Fantasy|Sci-Fi  \n",
              "1178    Action|Adventure|Drama|Sci-Fi|War  \n",
              "1192  Action|Adventure|Romance|Sci-Fi|War  \n",
              "1196        Action|Horror|Sci-Fi|Thriller  \n",
              "1303                               Horror  \n",
              "2559      Action|Adventure|Fantasy|Sci-Fi  \n",
              "2896                               Action  \n",
              "3245                         Action|Drama  \n",
              "3744                                Drama  "
            ]
          },
          "execution_count": 23,
          "metadata": {},
          "output_type": "execute_result"
        }
      ],
      "source": [
        "\n",
        "movie_id =movie_data[movie_data['title']=='Star Wars: Episode IV - A New Hope (1977)']\n",
        "movie_id=movie_id.values[0][0]\n",
        "\n",
        "top_n = 10\n",
        "k = 50\n",
        "top_n = 10\n",
        "sliced = movie_factors[:, :k] # representative data\n",
        "indexes = top_cosine_similarity(sliced, movie_id, top_n)\n",
        "indexes=indexes+1\n",
        "movie_data[movie_data['movie_id'].isin(indexes)]"
      ]
    },
    {
      "cell_type": "markdown",
      "id": "65a6bcef",
      "metadata": {
        "id": "65a6bcef"
      },
      "source": [
        "## Evaluate our result\n",
        "- We will generate top 10 recommendations for 200 user and calculate the hit rate in test data set."
      ]
    },
    {
      "cell_type": "code",
      "execution_count": null,
      "id": "c461abbd",
      "metadata": {
        "id": "c461abbd"
      },
      "outputs": [],
      "source": [
        "userlist=list(data.user_id.unique())[:200]"
      ]
    },
    {
      "cell_type": "code",
      "execution_count": null,
      "id": "9f004a25",
      "metadata": {
        "id": "9f004a25"
      },
      "outputs": [],
      "source": [
        "data=data[data['user_id'].isin(userlist)]"
      ]
    },
    {
      "cell_type": "code",
      "execution_count": null,
      "id": "8ea61431",
      "metadata": {
        "id": "8ea61431"
      },
      "outputs": [],
      "source": [
        "test_df=test_df[test_df['user_id'].isin(userlist)]"
      ]
    },
    {
      "cell_type": "code",
      "execution_count": null,
      "id": "3ce455c6",
      "metadata": {
        "id": "3ce455c6"
      },
      "outputs": [],
      "source": [
        "result=data.sort_values(by=['user_id','time'],ascending=[True,False])\n",
        "result=result.groupby('user_id').head(15)"
      ]
    },
    {
      "cell_type": "code",
      "execution_count": null,
      "id": "6ff2e2ef",
      "metadata": {
        "id": "6ff2e2ef"
      },
      "outputs": [],
      "source": [
        "top_n = 10\n",
        "k = 50\n",
        "top_n = 10\n",
        "\n",
        "recommend_dict = { }\n",
        "for index, row in result.iterrows():\n",
        "    user=row['user_id']\n",
        "    if user not in recommend_dict.keys():\n",
        "        recommend_dict[user]={}\n",
        "        \n",
        "    movieid=row['movie_id'] \n",
        "  \n",
        "    sliced = movie_factors[:, :k] # representative data\n",
        "    indexes = top_cosine_similarity(sliced, movieid, top_n=5)\n",
        "    indexes=indexes+1\n",
        "    for ids in indexes:\n",
        "        if(ids==movieid):\n",
        "            continue\n",
        "        if(~((result['movie_id'] == ids) & (result['user_id'] ==user)).any()):\n",
        "            if ids not in recommend_dict[user].keys():\n",
        "                recommend_dict[user][ids] =1\n",
        "            else:\n",
        "                recommend_dict[user][ids]+=1\n",
        "                    \n",
        "        \n",
        "    \n",
        "        \n",
        "        "
      ]
    },
    {
      "cell_type": "code",
      "execution_count": null,
      "id": "77e48916",
      "metadata": {
        "id": "77e48916"
      },
      "outputs": [],
      "source": [
        "# Iterating over values\n",
        "recommendations=[]\n",
        "for userid, movies in recommend_dict.items():\n",
        "    total=0\n",
        "    mlist=[]\n",
        "    for i in movies:\n",
        "        total+=1\n",
        "        mlist.append(i)\n",
        "        if(total>15):\n",
        "            break\n",
        "    recommendations.append([userid,mlist])"
      ]
    },
    {
      "cell_type": "code",
      "execution_count": null,
      "id": "51c7f888",
      "metadata": {
        "id": "51c7f888"
      },
      "outputs": [],
      "source": [
        "recommendations=pd.DataFrame(recommendations,columns=['user_id','movies'])"
      ]
    },
    {
      "cell_type": "code",
      "execution_count": null,
      "id": "fd7039db",
      "metadata": {
        "id": "fd7039db",
        "outputId": "6fa6fb90-1152-4309-904f-4e1ab05d6274"
      },
      "outputs": [
        {
          "data": {
            "text/html": [
              "<div>\n",
              "<style scoped>\n",
              "    .dataframe tbody tr th:only-of-type {\n",
              "        vertical-align: middle;\n",
              "    }\n",
              "\n",
              "    .dataframe tbody tr th {\n",
              "        vertical-align: top;\n",
              "    }\n",
              "\n",
              "    .dataframe thead th {\n",
              "        text-align: right;\n",
              "    }\n",
              "</style>\n",
              "<table border=\"1\" class=\"dataframe\">\n",
              "  <thead>\n",
              "    <tr style=\"text-align: right;\">\n",
              "      <th></th>\n",
              "      <th>user_id</th>\n",
              "      <th>movies</th>\n",
              "    </tr>\n",
              "  </thead>\n",
              "  <tbody>\n",
              "    <tr>\n",
              "      <th>0</th>\n",
              "      <td>5645</td>\n",
              "      <td>[3253, 2321, 1641, 441, 2858, 2997, 2686, 1183...</td>\n",
              "    </tr>\n",
              "    <tr>\n",
              "      <th>1</th>\n",
              "      <td>5646</td>\n",
              "      <td>[2372, 2794, 2378, 3698, 2405, 2450, 2422, 241...</td>\n",
              "    </tr>\n",
              "  </tbody>\n",
              "</table>\n",
              "</div>"
            ],
            "text/plain": [
              "   user_id                                             movies\n",
              "0     5645  [3253, 2321, 1641, 441, 2858, 2997, 2686, 1183...\n",
              "1     5646  [2372, 2794, 2378, 3698, 2405, 2450, 2422, 241..."
            ]
          },
          "execution_count": 31,
          "metadata": {},
          "output_type": "execute_result"
        }
      ],
      "source": [
        "recommendations.head(2) "
      ]
    },
    {
      "cell_type": "code",
      "execution_count": null,
      "id": "ed51b3c2",
      "metadata": {
        "id": "ed51b3c2"
      },
      "outputs": [],
      "source": [
        "recommend_6040=recommendations[recommendations.user_id==6040]\n",
        "recommend_6040=list(recommend_6040.movies)[0]"
      ]
    },
    {
      "cell_type": "code",
      "execution_count": null,
      "id": "82e8fc72",
      "metadata": {
        "id": "82e8fc72",
        "outputId": "6ea196ec-4c79-49fc-fe30-de0af6c61011"
      },
      "outputs": [
        {
          "data": {
            "text/html": [
              "<div>\n",
              "<style scoped>\n",
              "    .dataframe tbody tr th:only-of-type {\n",
              "        vertical-align: middle;\n",
              "    }\n",
              "\n",
              "    .dataframe tbody tr th {\n",
              "        vertical-align: top;\n",
              "    }\n",
              "\n",
              "    .dataframe thead th {\n",
              "        text-align: right;\n",
              "    }\n",
              "</style>\n",
              "<table border=\"1\" class=\"dataframe\">\n",
              "  <thead>\n",
              "    <tr style=\"text-align: right;\">\n",
              "      <th></th>\n",
              "      <th>movie_id</th>\n",
              "      <th>title</th>\n",
              "      <th>genre</th>\n",
              "    </tr>\n",
              "  </thead>\n",
              "  <tbody>\n",
              "    <tr>\n",
              "      <th>229</th>\n",
              "      <td>232</td>\n",
              "      <td>Eat Drink Man Woman (1994)</td>\n",
              "      <td>Comedy|Drama</td>\n",
              "    </tr>\n",
              "    <tr>\n",
              "      <th>290</th>\n",
              "      <td>293</td>\n",
              "      <td>Professional, The (a.k.a. Leon: The Profession...</td>\n",
              "      <td>Crime|Drama|Romance|Thriller</td>\n",
              "    </tr>\n",
              "    <tr>\n",
              "      <th>303</th>\n",
              "      <td>306</td>\n",
              "      <td>Three Colors: Red (1994)</td>\n",
              "      <td>Drama</td>\n",
              "    </tr>\n",
              "    <tr>\n",
              "      <th>898</th>\n",
              "      <td>910</td>\n",
              "      <td>Some Like It Hot (1959)</td>\n",
              "      <td>Comedy|Crime</td>\n",
              "    </tr>\n",
              "    <tr>\n",
              "      <th>909</th>\n",
              "      <td>921</td>\n",
              "      <td>My Favorite Year (1982)</td>\n",
              "      <td>Comedy</td>\n",
              "    </tr>\n",
              "    <tr>\n",
              "      <th>1116</th>\n",
              "      <td>1132</td>\n",
              "      <td>Manon of the Spring (Manon des sources) (1986)</td>\n",
              "      <td>Drama</td>\n",
              "    </tr>\n",
              "    <tr>\n",
              "      <th>1260</th>\n",
              "      <td>1280</td>\n",
              "      <td>Raise the Red Lantern (1991)</td>\n",
              "      <td>Drama</td>\n",
              "    </tr>\n",
              "    <tr>\n",
              "      <th>1319</th>\n",
              "      <td>1340</td>\n",
              "      <td>Bride of Frankenstein (1935)</td>\n",
              "      <td>Horror</td>\n",
              "    </tr>\n",
              "    <tr>\n",
              "      <th>1333</th>\n",
              "      <td>1354</td>\n",
              "      <td>Breaking the Waves (1996)</td>\n",
              "      <td>Drama</td>\n",
              "    </tr>\n",
              "    <tr>\n",
              "      <th>1685</th>\n",
              "      <td>1734</td>\n",
              "      <td>My Life in Pink (Ma vie en rose) (1997)</td>\n",
              "      <td>Comedy|Drama</td>\n",
              "    </tr>\n",
              "    <tr>\n",
              "      <th>2294</th>\n",
              "      <td>2363</td>\n",
              "      <td>Godzilla (Gojira) (1954)</td>\n",
              "      <td>Action|Sci-Fi</td>\n",
              "    </tr>\n",
              "    <tr>\n",
              "      <th>2575</th>\n",
              "      <td>2644</td>\n",
              "      <td>Dracula (1931)</td>\n",
              "      <td>Horror</td>\n",
              "    </tr>\n",
              "    <tr>\n",
              "      <th>2579</th>\n",
              "      <td>2648</td>\n",
              "      <td>Frankenstein (1931)</td>\n",
              "      <td>Horror</td>\n",
              "    </tr>\n",
              "    <tr>\n",
              "      <th>2794</th>\n",
              "      <td>2863</td>\n",
              "      <td>Hard Day's Night, A (1964)</td>\n",
              "      <td>Comedy|Musical</td>\n",
              "    </tr>\n",
              "    <tr>\n",
              "      <th>2998</th>\n",
              "      <td>3067</td>\n",
              "      <td>Women on the Verge of a Nervous Breakdown (1988)</td>\n",
              "      <td>Comedy|Drama</td>\n",
              "    </tr>\n",
              "    <tr>\n",
              "      <th>3435</th>\n",
              "      <td>3504</td>\n",
              "      <td>Network (1976)</td>\n",
              "      <td>Comedy|Drama</td>\n",
              "    </tr>\n",
              "  </tbody>\n",
              "</table>\n",
              "</div>"
            ],
            "text/plain": [
              "      movie_id                                              title  \\\n",
              "229        232                         Eat Drink Man Woman (1994)   \n",
              "290        293  Professional, The (a.k.a. Leon: The Profession...   \n",
              "303        306                           Three Colors: Red (1994)   \n",
              "898        910                            Some Like It Hot (1959)   \n",
              "909        921                            My Favorite Year (1982)   \n",
              "1116      1132     Manon of the Spring (Manon des sources) (1986)   \n",
              "1260      1280                       Raise the Red Lantern (1991)   \n",
              "1319      1340                       Bride of Frankenstein (1935)   \n",
              "1333      1354                          Breaking the Waves (1996)   \n",
              "1685      1734            My Life in Pink (Ma vie en rose) (1997)   \n",
              "2294      2363                           Godzilla (Gojira) (1954)   \n",
              "2575      2644                                     Dracula (1931)   \n",
              "2579      2648                                Frankenstein (1931)   \n",
              "2794      2863                         Hard Day's Night, A (1964)   \n",
              "2998      3067   Women on the Verge of a Nervous Breakdown (1988)   \n",
              "3435      3504                                     Network (1976)   \n",
              "\n",
              "                             genre  \n",
              "229                   Comedy|Drama  \n",
              "290   Crime|Drama|Romance|Thriller  \n",
              "303                          Drama  \n",
              "898                   Comedy|Crime  \n",
              "909                         Comedy  \n",
              "1116                         Drama  \n",
              "1260                         Drama  \n",
              "1319                        Horror  \n",
              "1333                         Drama  \n",
              "1685                  Comedy|Drama  \n",
              "2294                 Action|Sci-Fi  \n",
              "2575                        Horror  \n",
              "2579                        Horror  \n",
              "2794                Comedy|Musical  \n",
              "2998                  Comedy|Drama  \n",
              "3435                  Comedy|Drama  "
            ]
          },
          "execution_count": 33,
          "metadata": {},
          "output_type": "execute_result"
        }
      ],
      "source": [
        "movie_data[movie_data.movie_id.isin(recommend_6040)]"
      ]
    },
    {
      "cell_type": "code",
      "execution_count": null,
      "id": "acc37b8f",
      "metadata": {
        "id": "acc37b8f",
        "outputId": "b14030d5-e265-4e28-da35-ab17c42b0b27"
      },
      "outputs": [
        {
          "data": {
            "text/html": [
              "<div>\n",
              "<style scoped>\n",
              "    .dataframe tbody tr th:only-of-type {\n",
              "        vertical-align: middle;\n",
              "    }\n",
              "\n",
              "    .dataframe tbody tr th {\n",
              "        vertical-align: top;\n",
              "    }\n",
              "\n",
              "    .dataframe thead th {\n",
              "        text-align: right;\n",
              "    }\n",
              "</style>\n",
              "<table border=\"1\" class=\"dataframe\">\n",
              "  <thead>\n",
              "    <tr style=\"text-align: right;\">\n",
              "      <th></th>\n",
              "      <th>user_id</th>\n",
              "      <th>movies</th>\n",
              "    </tr>\n",
              "  </thead>\n",
              "  <tbody>\n",
              "    <tr>\n",
              "      <th>0</th>\n",
              "      <td>5645</td>\n",
              "      <td>[3253, 2321, 1641, 441, 2858, 2997, 2686, 1183...</td>\n",
              "    </tr>\n",
              "    <tr>\n",
              "      <th>1</th>\n",
              "      <td>5646</td>\n",
              "      <td>[2372, 2794, 2378, 3698, 2405, 2450, 2422, 241...</td>\n",
              "    </tr>\n",
              "    <tr>\n",
              "      <th>2</th>\n",
              "      <td>5647</td>\n",
              "      <td>[3074, 2921, 2922, 1283, 3633, 3635, 2662, 236...</td>\n",
              "    </tr>\n",
              "    <tr>\n",
              "      <th>3</th>\n",
              "      <td>5648</td>\n",
              "      <td>[2353, 1527, 2058, 733, 480, 780, 2628, 589, 3...</td>\n",
              "    </tr>\n",
              "    <tr>\n",
              "      <th>4</th>\n",
              "      <td>5649</td>\n",
              "      <td>[3686, 2803, 3101, 454, 1457, 236, 276, 339, 3...</td>\n",
              "    </tr>\n",
              "    <tr>\n",
              "      <th>...</th>\n",
              "      <td>...</td>\n",
              "      <td>...</td>\n",
              "    </tr>\n",
              "    <tr>\n",
              "      <th>195</th>\n",
              "      <td>6035</td>\n",
              "      <td>[2598, 2581, 2772, 785, 2321, 1777, 2567, 3255...</td>\n",
              "    </tr>\n",
              "    <tr>\n",
              "      <th>196</th>\n",
              "      <td>6036</td>\n",
              "      <td>[379, 2808, 173, 3697, 1603, 1590, 172, 160, 1...</td>\n",
              "    </tr>\n",
              "    <tr>\n",
              "      <th>197</th>\n",
              "      <td>6037</td>\n",
              "      <td>[2859, 3424, 162, 1189, 2248, 357, 2918, 915, ...</td>\n",
              "    </tr>\n",
              "    <tr>\n",
              "      <th>198</th>\n",
              "      <td>6039</td>\n",
              "      <td>[2863, 3545, 3552, 1772, 2000, 2791, 914, 1088...</td>\n",
              "    </tr>\n",
              "    <tr>\n",
              "      <th>199</th>\n",
              "      <td>6040</td>\n",
              "      <td>[3067, 232, 1132, 306, 2648, 1340, 2644, 2363,...</td>\n",
              "    </tr>\n",
              "  </tbody>\n",
              "</table>\n",
              "<p>200 rows × 2 columns</p>\n",
              "</div>"
            ],
            "text/plain": [
              "     user_id                                             movies\n",
              "0       5645  [3253, 2321, 1641, 441, 2858, 2997, 2686, 1183...\n",
              "1       5646  [2372, 2794, 2378, 3698, 2405, 2450, 2422, 241...\n",
              "2       5647  [3074, 2921, 2922, 1283, 3633, 3635, 2662, 236...\n",
              "3       5648  [2353, 1527, 2058, 733, 480, 780, 2628, 589, 3...\n",
              "4       5649  [3686, 2803, 3101, 454, 1457, 236, 276, 339, 3...\n",
              "..       ...                                                ...\n",
              "195     6035  [2598, 2581, 2772, 785, 2321, 1777, 2567, 3255...\n",
              "196     6036  [379, 2808, 173, 3697, 1603, 1590, 172, 160, 1...\n",
              "197     6037  [2859, 3424, 162, 1189, 2248, 357, 2918, 915, ...\n",
              "198     6039  [2863, 3545, 3552, 1772, 2000, 2791, 914, 1088...\n",
              "199     6040  [3067, 232, 1132, 306, 2648, 1340, 2644, 2363,...\n",
              "\n",
              "[200 rows x 2 columns]"
            ]
          },
          "execution_count": 34,
          "metadata": {},
          "output_type": "execute_result"
        }
      ],
      "source": [
        "recommendations"
      ]
    },
    {
      "cell_type": "markdown",
      "id": "08ca6d83",
      "metadata": {
        "id": "08ca6d83"
      },
      "source": [
        "### Calculate Hit Ratio\n",
        "- See how often we recommended a movie the user actually rated"
      ]
    },
    {
      "cell_type": "code",
      "execution_count": null,
      "id": "c0d7e666",
      "metadata": {
        "id": "c0d7e666",
        "outputId": "926211e6-9fd2-42bc-d1de-36db845e672b"
      },
      "outputs": [
        {
          "name": "stdout",
          "output_type": "stream",
          "text": [
            "0.725\n"
          ]
        }
      ],
      "source": [
        "total=0\n",
        "hit=0\n",
        "for i in userlist:\n",
        "    results=recommendations[recommendations.user_id==i]\n",
        "    results=list(results.movies)[0]\n",
        "    total+=1\n",
        "    for rs in results:\n",
        "        \n",
        "        if(((test_df['movie_id'] == rs) & (test_df['user_id'] ==i)).any()):\n",
        "                hit+=1\n",
        "                break\n",
        "        \n",
        "hit_ratio=hit/total   \n",
        "print(hit_ratio)"
      ]
    },
    {
      "cell_type": "code",
      "execution_count": null,
      "id": "dafd7fb6",
      "metadata": {
        "id": "dafd7fb6"
      },
      "outputs": [],
      "source": []
    }
  ],
  "metadata": {
    "colab": {
      "collapsed_sections": [
        "4CKd-BTBerZe",
        "bcc719a6",
        "vPDbJdqwe3Dt",
        "xweL0HVsfIkl",
        "65dcc7bb",
        "e5d31b40",
        "DdOlLk9JfbIN",
        "71540fd1",
        "b2a1f7ba",
        "d0a2f416",
        "19636400"
      ],
      "provenance": []
    },
    "kernelspec": {
      "display_name": "Python 3",
      "language": "python",
      "name": "python3"
    },
    "language_info": {
      "codemirror_mode": {
        "name": "ipython",
        "version": 3
      },
      "file_extension": ".py",
      "mimetype": "text/x-python",
      "name": "python",
      "nbconvert_exporter": "python",
      "pygments_lexer": "ipython3",
      "version": "3.6.5"
    }
  },
  "nbformat": 4,
  "nbformat_minor": 5
}