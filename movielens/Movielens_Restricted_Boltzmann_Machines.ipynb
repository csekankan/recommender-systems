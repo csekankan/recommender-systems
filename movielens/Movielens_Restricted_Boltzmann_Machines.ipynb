{
  "cells": [
    {
      "cell_type": "code",
      "execution_count": null,
      "metadata": {
        "id": "5b97d650"
      },
      "outputs": [],
      "source": [
        "import warnings\n",
        "warnings.filterwarnings(\"ignore\")"
      ],
      "id": "5b97d650"
    },
    {
      "cell_type": "code",
      "execution_count": null,
      "metadata": {
        "id": "519937e0"
      },
      "outputs": [],
      "source": [
        "from datetime import datetime\n",
        "import os\n",
        "import matplotlib\n",
        "import pandas as pd\n",
        "import numpy as np\n",
        "import matplotlib.pyplot as plt\n",
        "import seaborn as sns\n",
        "sns.set_style('whitegrid')\n",
        "\n",
        "from scipy import sparse\n",
        "from scipy.sparse import csc_matrix\n",
        "from sklearn.decomposition import TruncatedSVD\n",
        "import random\n",
        "random.seed(0)\n",
        "np.random.seed(0)"
      ],
      "id": "519937e0"
    },
    {
      "cell_type": "code",
      "source": [
        "!pip install recommenders"
      ],
      "metadata": {
        "id": "1NQFPTLfOghK",
        "colab": {
          "base_uri": "https://localhost:8080/"
        },
        "outputId": "424a6f31-ddf5-481a-e857-35822173fd39"
      },
      "execution_count": null,
      "outputs": [
        {
          "output_type": "stream",
          "name": "stdout",
          "text": [
            "Looking in indexes: https://pypi.org/simple, https://us-python.pkg.dev/colab-wheels/public/simple/\n",
            "Collecting recommenders\n",
            "  Downloading recommenders-1.1.1-py3-none-any.whl (339 kB)\n",
            "\u001b[K     |████████████████████████████████| 339 kB 35.9 MB/s \n",
            "\u001b[?25hRequirement already satisfied: numba<1,>=0.38.1 in /usr/local/lib/python3.7/dist-packages (from recommenders) (0.56.2)\n",
            "Collecting transformers<5,>=2.5.0\n",
            "  Downloading transformers-4.22.2-py3-none-any.whl (4.9 MB)\n",
            "\u001b[K     |████████████████████████████████| 4.9 MB 55.0 MB/s \n",
            "\u001b[?25hRequirement already satisfied: jinja2<3.1,>=2 in /usr/local/lib/python3.7/dist-packages (from recommenders) (2.11.3)\n",
            "Requirement already satisfied: nltk<4,>=3.4 in /usr/local/lib/python3.7/dist-packages (from recommenders) (3.7)\n",
            "Requirement already satisfied: pandas<2,>1.0.3 in /usr/local/lib/python3.7/dist-packages (from recommenders) (1.3.5)\n",
            "Requirement already satisfied: scikit-learn<1.0.3,>=0.22.1 in /usr/local/lib/python3.7/dist-packages (from recommenders) (1.0.2)\n",
            "Collecting memory-profiler<1,>=0.54.0\n",
            "  Downloading memory_profiler-0.60.0.tar.gz (38 kB)\n",
            "Requirement already satisfied: lightgbm>=2.2.1 in /usr/local/lib/python3.7/dist-packages (from recommenders) (2.2.3)\n",
            "Collecting bottleneck<2,>=1.2.1\n",
            "  Downloading Bottleneck-1.3.5-cp37-cp37m-manylinux_2_5_x86_64.manylinux1_x86_64.manylinux_2_17_x86_64.manylinux2014_x86_64.whl (355 kB)\n",
            "\u001b[K     |████████████████████████████████| 355 kB 55.4 MB/s \n",
            "\u001b[?25hRequirement already satisfied: tqdm<5,>=4.31.1 in /usr/local/lib/python3.7/dist-packages (from recommenders) (4.64.1)\n",
            "Collecting pandera[strategies]>=0.6.5\n",
            "  Downloading pandera-0.9.0-py3-none-any.whl (197 kB)\n",
            "\u001b[K     |████████████████████████████████| 197 kB 63.2 MB/s \n",
            "\u001b[?25hRequirement already satisfied: numpy>=1.19 in /usr/local/lib/python3.7/dist-packages (from recommenders) (1.21.6)\n",
            "Requirement already satisfied: requests<3,>=2.0.0 in /usr/local/lib/python3.7/dist-packages (from recommenders) (2.23.0)\n",
            "Collecting pyyaml<6,>=5.4.1\n",
            "  Downloading PyYAML-5.4.1-cp37-cp37m-manylinux1_x86_64.whl (636 kB)\n",
            "\u001b[K     |████████████████████████████████| 636 kB 59.8 MB/s \n",
            "\u001b[?25hRequirement already satisfied: matplotlib<4,>=2.2.2 in /usr/local/lib/python3.7/dist-packages (from recommenders) (3.2.2)\n",
            "Requirement already satisfied: seaborn<1,>=0.8.1 in /usr/local/lib/python3.7/dist-packages (from recommenders) (0.11.2)\n",
            "Collecting category-encoders<2,>=1.3.0\n",
            "  Downloading category_encoders-1.3.0-py2.py3-none-any.whl (61 kB)\n",
            "\u001b[K     |████████████████████████████████| 61 kB 8.6 MB/s \n",
            "\u001b[?25hCollecting cornac<2,>=1.1.2\n",
            "  Downloading cornac-1.14.2-cp37-cp37m-manylinux1_x86_64.whl (12.4 MB)\n",
            "\u001b[K     |████████████████████████████████| 12.4 MB 36.9 MB/s \n",
            "\u001b[?25hRequirement already satisfied: scipy<2,>=1.0.0 in /usr/local/lib/python3.7/dist-packages (from recommenders) (1.7.3)\n",
            "Collecting lightfm<2,>=1.15\n",
            "  Downloading lightfm-1.16.tar.gz (310 kB)\n",
            "\u001b[K     |████████████████████████████████| 310 kB 21.4 MB/s \n",
            "\u001b[?25hCollecting scikit-surprise>=1.0.6\n",
            "  Downloading scikit-surprise-1.1.1.tar.gz (11.8 MB)\n",
            "\u001b[K     |████████████████████████████████| 11.8 MB 51.1 MB/s \n",
            "\u001b[?25hCollecting retrying>=1.3.3\n",
            "  Downloading retrying-1.3.3.tar.gz (10 kB)\n",
            "Requirement already satisfied: patsy>=0.4.1 in /usr/local/lib/python3.7/dist-packages (from category-encoders<2,>=1.3.0->recommenders) (0.5.2)\n",
            "Requirement already satisfied: statsmodels>=0.6.1 in /usr/local/lib/python3.7/dist-packages (from category-encoders<2,>=1.3.0->recommenders) (0.12.2)\n",
            "Collecting powerlaw\n",
            "  Downloading powerlaw-1.5-py3-none-any.whl (24 kB)\n",
            "Requirement already satisfied: MarkupSafe>=0.23 in /usr/local/lib/python3.7/dist-packages (from jinja2<3.1,>=2->recommenders) (2.0.1)\n",
            "Requirement already satisfied: pyparsing!=2.0.4,!=2.1.2,!=2.1.6,>=2.0.1 in /usr/local/lib/python3.7/dist-packages (from matplotlib<4,>=2.2.2->recommenders) (3.0.9)\n",
            "Requirement already satisfied: cycler>=0.10 in /usr/local/lib/python3.7/dist-packages (from matplotlib<4,>=2.2.2->recommenders) (0.11.0)\n",
            "Requirement already satisfied: python-dateutil>=2.1 in /usr/local/lib/python3.7/dist-packages (from matplotlib<4,>=2.2.2->recommenders) (2.8.2)\n",
            "Requirement already satisfied: kiwisolver>=1.0.1 in /usr/local/lib/python3.7/dist-packages (from matplotlib<4,>=2.2.2->recommenders) (1.4.4)\n",
            "Requirement already satisfied: typing-extensions in /usr/local/lib/python3.7/dist-packages (from kiwisolver>=1.0.1->matplotlib<4,>=2.2.2->recommenders) (4.1.1)\n",
            "Requirement already satisfied: psutil in /usr/local/lib/python3.7/dist-packages (from memory-profiler<1,>=0.54.0->recommenders) (5.4.8)\n",
            "Requirement already satisfied: regex>=2021.8.3 in /usr/local/lib/python3.7/dist-packages (from nltk<4,>=3.4->recommenders) (2022.6.2)\n",
            "Requirement already satisfied: joblib in /usr/local/lib/python3.7/dist-packages (from nltk<4,>=3.4->recommenders) (1.1.0)\n",
            "Requirement already satisfied: click in /usr/local/lib/python3.7/dist-packages (from nltk<4,>=3.4->recommenders) (7.1.2)\n",
            "Requirement already satisfied: importlib-metadata in /usr/local/lib/python3.7/dist-packages (from numba<1,>=0.38.1->recommenders) (4.12.0)\n",
            "Requirement already satisfied: setuptools<60 in /usr/local/lib/python3.7/dist-packages (from numba<1,>=0.38.1->recommenders) (57.4.0)\n",
            "Requirement already satisfied: llvmlite<0.40,>=0.39.0dev0 in /usr/local/lib/python3.7/dist-packages (from numba<1,>=0.38.1->recommenders) (0.39.1)\n",
            "Requirement already satisfied: pytz>=2017.3 in /usr/local/lib/python3.7/dist-packages (from pandas<2,>1.0.3->recommenders) (2022.2.1)\n",
            "Requirement already satisfied: wrapt in /usr/local/lib/python3.7/dist-packages (from pandera[strategies]>=0.6.5->recommenders) (1.14.1)\n",
            "Requirement already satisfied: packaging>=20.0 in /usr/local/lib/python3.7/dist-packages (from pandera[strategies]>=0.6.5->recommenders) (21.3)\n",
            "Requirement already satisfied: pyarrow in /usr/local/lib/python3.7/dist-packages (from pandera[strategies]>=0.6.5->recommenders) (6.0.1)\n",
            "Collecting typing-inspect>=0.6.0\n",
            "  Downloading typing_inspect-0.8.0-py3-none-any.whl (8.7 kB)\n",
            "Requirement already satisfied: pydantic in /usr/local/lib/python3.7/dist-packages (from pandera[strategies]>=0.6.5->recommenders) (1.9.2)\n",
            "Collecting hypothesis>=5.41.1\n",
            "  Downloading hypothesis-6.55.0-py3-none-any.whl (392 kB)\n",
            "\u001b[K     |████████████████████████████████| 392 kB 33.2 MB/s \n",
            "\u001b[?25hCollecting exceptiongroup>=1.0.0rc8\n",
            "  Downloading exceptiongroup-1.0.0rc9-py3-none-any.whl (12 kB)\n",
            "Requirement already satisfied: attrs>=19.2.0 in /usr/local/lib/python3.7/dist-packages (from hypothesis>=5.41.1->pandera[strategies]>=0.6.5->recommenders) (22.1.0)\n",
            "Requirement already satisfied: sortedcontainers<3.0.0,>=2.1.0 in /usr/local/lib/python3.7/dist-packages (from hypothesis>=5.41.1->pandera[strategies]>=0.6.5->recommenders) (2.4.0)\n",
            "Requirement already satisfied: six in /usr/local/lib/python3.7/dist-packages (from patsy>=0.4.1->category-encoders<2,>=1.3.0->recommenders) (1.15.0)\n",
            "Requirement already satisfied: certifi>=2017.4.17 in /usr/local/lib/python3.7/dist-packages (from requests<3,>=2.0.0->recommenders) (2022.6.15)\n",
            "Requirement already satisfied: chardet<4,>=3.0.2 in /usr/local/lib/python3.7/dist-packages (from requests<3,>=2.0.0->recommenders) (3.0.4)\n",
            "Requirement already satisfied: urllib3!=1.25.0,!=1.25.1,<1.26,>=1.21.1 in /usr/local/lib/python3.7/dist-packages (from requests<3,>=2.0.0->recommenders) (1.24.3)\n",
            "Requirement already satisfied: idna<3,>=2.5 in /usr/local/lib/python3.7/dist-packages (from requests<3,>=2.0.0->recommenders) (2.10)\n",
            "Requirement already satisfied: threadpoolctl>=2.0.0 in /usr/local/lib/python3.7/dist-packages (from scikit-learn<1.0.3,>=0.22.1->recommenders) (3.1.0)\n",
            "Requirement already satisfied: filelock in /usr/local/lib/python3.7/dist-packages (from transformers<5,>=2.5.0->recommenders) (3.8.0)\n",
            "Collecting huggingface-hub<1.0,>=0.9.0\n",
            "  Downloading huggingface_hub-0.10.0-py3-none-any.whl (163 kB)\n",
            "\u001b[K     |████████████████████████████████| 163 kB 77.5 MB/s \n",
            "\u001b[?25hCollecting tokenizers!=0.11.3,<0.13,>=0.11.1\n",
            "  Downloading tokenizers-0.12.1-cp37-cp37m-manylinux_2_12_x86_64.manylinux2010_x86_64.whl (6.6 MB)\n",
            "\u001b[K     |████████████████████████████████| 6.6 MB 58.7 MB/s \n",
            "\u001b[?25hCollecting mypy-extensions>=0.3.0\n",
            "  Downloading mypy_extensions-0.4.3-py2.py3-none-any.whl (4.5 kB)\n",
            "Requirement already satisfied: zipp>=0.5 in /usr/local/lib/python3.7/dist-packages (from importlib-metadata->numba<1,>=0.38.1->recommenders) (3.8.1)\n",
            "Requirement already satisfied: mpmath in /usr/local/lib/python3.7/dist-packages (from powerlaw->cornac<2,>=1.1.2->recommenders) (1.2.1)\n",
            "Building wheels for collected packages: lightfm, memory-profiler, retrying, scikit-surprise\n",
            "  Building wheel for lightfm (setup.py) ... \u001b[?25l\u001b[?25hdone\n",
            "  Created wheel for lightfm: filename=lightfm-1.16-cp37-cp37m-linux_x86_64.whl size=705379 sha256=94054b68c5f881604af86aa53a4087fa86fc3c37bf0778374f67c8db6acb855b\n",
            "  Stored in directory: /root/.cache/pip/wheels/f8/56/28/5772a3bd3413d65f03aa452190b00898b680b10028a1021914\n",
            "  Building wheel for memory-profiler (setup.py) ... \u001b[?25l\u001b[?25hdone\n",
            "  Created wheel for memory-profiler: filename=memory_profiler-0.60.0-py3-none-any.whl size=31284 sha256=2712d466a31ae3327d8a9e764262f4be5e42ba665b23883b745ae47f6e0d4af1\n",
            "  Stored in directory: /root/.cache/pip/wheels/67/2b/fb/326e30d638c538e69a5eb0aa47f4223d979f502bbdb403950f\n",
            "  Building wheel for retrying (setup.py) ... \u001b[?25l\u001b[?25hdone\n",
            "  Created wheel for retrying: filename=retrying-1.3.3-py3-none-any.whl size=11447 sha256=2aa569d6de3678d2114f55c3324a60b0650f27ffd4c5c68f51250982d7061fd4\n",
            "  Stored in directory: /root/.cache/pip/wheels/f9/8d/8d/f6af3f7f9eea3553bc2fe6d53e4b287dad18b06a861ac56ddf\n",
            "  Building wheel for scikit-surprise (setup.py) ... \u001b[?25l\u001b[?25hdone\n",
            "  Created wheel for scikit-surprise: filename=scikit_surprise-1.1.1-cp37-cp37m-linux_x86_64.whl size=1633967 sha256=bdbbb50afed5a541b3a88f52270b08d008778478c26c91c90fef3693a13794b6\n",
            "  Stored in directory: /root/.cache/pip/wheels/76/44/74/b498c42be47b2406bd27994e16c5188e337c657025ab400c1c\n",
            "Successfully built lightfm memory-profiler retrying scikit-surprise\n",
            "Installing collected packages: mypy-extensions, typing-inspect, pyyaml, exceptiongroup, tokenizers, powerlaw, pandera, hypothesis, huggingface-hub, transformers, scikit-surprise, retrying, memory-profiler, lightfm, cornac, category-encoders, bottleneck, recommenders\n",
            "  Attempting uninstall: pyyaml\n",
            "    Found existing installation: PyYAML 6.0\n",
            "    Uninstalling PyYAML-6.0:\n",
            "      Successfully uninstalled PyYAML-6.0\n",
            "Successfully installed bottleneck-1.3.5 category-encoders-1.3.0 cornac-1.14.2 exceptiongroup-1.0.0rc9 huggingface-hub-0.10.0 hypothesis-6.55.0 lightfm-1.16 memory-profiler-0.60.0 mypy-extensions-0.4.3 pandera-0.9.0 powerlaw-1.5 pyyaml-5.4.1 recommenders-1.1.1 retrying-1.3.3 scikit-surprise-1.1.1 tokenizers-0.12.1 transformers-4.22.2 typing-inspect-0.8.0\n"
          ]
        }
      ],
      "id": "1NQFPTLfOghK"
    },
    {
      "cell_type": "code",
      "source": [
        "\n",
        "from recommenders.models.rbm.rbm import RBM\n",
        "from recommenders.datasets.python_splitters import numpy_stratified_split\n",
        "from recommenders.datasets.sparse import AffinityMatrix\n",
        "from recommenders.datasets import movielens\n",
        "from recommenders.evaluation.python_evaluation import map_at_k, ndcg_at_k, precision_at_k, recall_at_k\n",
        "from recommenders.utils.timer import Timer\n",
        "from recommenders.utils.plot import line_graph"
      ],
      "metadata": {
        "id": "Jx_y17PXDGsu"
      },
      "execution_count": null,
      "outputs": [],
      "id": "Jx_y17PXDGsu"
    },
    {
      "cell_type": "markdown",
      "metadata": {
        "id": "1ac47295"
      },
      "source": [
        "## Analyse Dataset"
      ],
      "id": "1ac47295"
    },
    {
      "cell_type": "markdown",
      "metadata": {
        "id": "474dfab9"
      },
      "source": [
        "### Book  Dataset\n",
        "https://www.kaggle.com/datasets/arashnic/book-recommendation-dataset\n"
      ],
      "id": "474dfab9"
    },
    {
      "cell_type": "code",
      "source": [
        "!pip install gdown"
      ],
      "metadata": {
        "colab": {
          "base_uri": "https://localhost:8080/"
        },
        "id": "f0lU10xwUf8O",
        "outputId": "7de2665e-3b10-43b5-dafa-2f2bf7a542ab"
      },
      "id": "f0lU10xwUf8O",
      "execution_count": null,
      "outputs": [
        {
          "output_type": "stream",
          "name": "stdout",
          "text": [
            "Looking in indexes: https://pypi.org/simple, https://us-python.pkg.dev/colab-wheels/public/simple/\n",
            "Requirement already satisfied: gdown in /usr/local/lib/python3.7/dist-packages (4.4.0)\n",
            "Requirement already satisfied: requests[socks] in /usr/local/lib/python3.7/dist-packages (from gdown) (2.23.0)\n",
            "Requirement already satisfied: filelock in /usr/local/lib/python3.7/dist-packages (from gdown) (3.8.0)\n",
            "Requirement already satisfied: beautifulsoup4 in /usr/local/lib/python3.7/dist-packages (from gdown) (4.6.3)\n",
            "Requirement already satisfied: tqdm in /usr/local/lib/python3.7/dist-packages (from gdown) (4.64.1)\n",
            "Requirement already satisfied: six in /usr/local/lib/python3.7/dist-packages (from gdown) (1.15.0)\n",
            "Requirement already satisfied: urllib3!=1.25.0,!=1.25.1,<1.26,>=1.21.1 in /usr/local/lib/python3.7/dist-packages (from requests[socks]->gdown) (1.24.3)\n",
            "Requirement already satisfied: certifi>=2017.4.17 in /usr/local/lib/python3.7/dist-packages (from requests[socks]->gdown) (2022.6.15)\n",
            "Requirement already satisfied: idna<3,>=2.5 in /usr/local/lib/python3.7/dist-packages (from requests[socks]->gdown) (2.10)\n",
            "Requirement already satisfied: chardet<4,>=3.0.2 in /usr/local/lib/python3.7/dist-packages (from requests[socks]->gdown) (3.0.4)\n",
            "Requirement already satisfied: PySocks!=1.5.7,>=1.5.6 in /usr/local/lib/python3.7/dist-packages (from requests[socks]->gdown) (1.7.1)\n"
          ]
        }
      ]
    },
    {
      "cell_type": "code",
      "source": [
        "!gdown https://drive.google.com/uc?id=1ccoCOvxD2hFm1ejOVRDlT2SivkoNtC6V"
      ],
      "metadata": {
        "colab": {
          "base_uri": "https://localhost:8080/"
        },
        "id": "PxYFoCk4UixW",
        "outputId": "afa6772d-23a4-4fb3-d677-4b1de2ad8756"
      },
      "id": "PxYFoCk4UixW",
      "execution_count": null,
      "outputs": [
        {
          "output_type": "stream",
          "name": "stdout",
          "text": [
            "Downloading...\n",
            "From: https://drive.google.com/uc?id=1ccoCOvxD2hFm1ejOVRDlT2SivkoNtC6V\n",
            "To: /content/ml-100k.zip\n",
            "\r  0% 0.00/4.92M [00:00<?, ?B/s]\r100% 4.92M/4.92M [00:00<00:00, 77.4MB/s]\n"
          ]
        }
      ]
    },
    {
      "cell_type": "code",
      "source": [
        "!unzip \"ml-100k.zip\"  -d  \"/content\""
      ],
      "metadata": {
        "colab": {
          "base_uri": "https://localhost:8080/"
        },
        "id": "SDKoDQKtUppf",
        "outputId": "d8ad0c76-1ee0-4d92-d898-3a4efa3255fd"
      },
      "id": "SDKoDQKtUppf",
      "execution_count": null,
      "outputs": [
        {
          "output_type": "stream",
          "name": "stdout",
          "text": [
            "Archive:  ml-100k.zip\n",
            "   creating: /content/ml-100k/\n",
            "  inflating: /content/ml-100k/allbut.pl  \n",
            "  inflating: /content/ml-100k/mku.sh  \n",
            "  inflating: /content/ml-100k/README  \n",
            "  inflating: /content/ml-100k/u.data  \n",
            "  inflating: /content/ml-100k/u.genre  \n",
            "  inflating: /content/ml-100k/u.info  \n",
            "  inflating: /content/ml-100k/u.item  \n",
            "  inflating: /content/ml-100k/u.occupation  \n",
            "  inflating: /content/ml-100k/u.user  \n",
            "  inflating: /content/ml-100k/u1.base  \n",
            "  inflating: /content/ml-100k/u1.test  \n",
            "  inflating: /content/ml-100k/u2.base  \n",
            "  inflating: /content/ml-100k/u2.test  \n",
            "  inflating: /content/ml-100k/u3.base  \n",
            "  inflating: /content/ml-100k/u3.test  \n",
            "  inflating: /content/ml-100k/u4.base  \n",
            "  inflating: /content/ml-100k/u4.test  \n",
            "  inflating: /content/ml-100k/u5.base  \n",
            "  inflating: /content/ml-100k/u5.test  \n",
            "  inflating: /content/ml-100k/ua.base  \n",
            "  inflating: /content/ml-100k/ua.test  \n",
            "  inflating: /content/ml-100k/ub.base  \n",
            "  inflating: /content/ml-100k/ub.test  \n"
          ]
        }
      ]
    },
    {
      "cell_type": "code",
      "source": [
        "!mv ml-100k/* ./"
      ],
      "metadata": {
        "id": "1AG13WP7M6m4"
      },
      "id": "1AG13WP7M6m4",
      "execution_count": null,
      "outputs": []
    },
    {
      "cell_type": "code",
      "execution_count": null,
      "metadata": {
        "id": "34fe55c8"
      },
      "outputs": [],
      "source": [
        "dateparse = lambda x: datetime.utcfromtimestamp(int(x)).strftime('%Y-%m-%d %H:%M:%S')\n",
        "\n",
        "rating_df = pd.read_csv('u.data', sep='\\t', \n",
        "                        names=['userID', 'itemID', 'rating', 'time'], \n",
        "                       )\n",
        "\n",
        "movie_df = pd.read_csv('u.item', sep='|', encoding='latin-1',\n",
        "                    names=['itemID', 'movie', 'release_date', 'video_release_date', 'imdb_url', 'unknown', 'action', \n",
        "                           'adventure', 'animation', 'childrens', 'comedy', 'crime', 'documentary', 'drama', 'fantasy', \n",
        "                           'film_noir', 'horror', 'musical', 'mystery', 'romance', 'sci_fi', 'thriller', 'war', 'western'])\n",
        "\n",
        "user_df = pd.read_csv('u.user', sep='|', encoding='latin-1',\n",
        "                     names=['userID', 'age', 'gender', 'occupation', 'zip_code'])\n"
      ],
      "id": "34fe55c8"
    },
    {
      "cell_type": "code",
      "source": [
        "rating_df=pd.merge(rating_df,movie_df,on=\"itemID\",how=\"left\")\n"
      ],
      "metadata": {
        "id": "i94JKDUBVDkx"
      },
      "id": "i94JKDUBVDkx",
      "execution_count": null,
      "outputs": []
    },
    {
      "cell_type": "code",
      "source": [
        "\n",
        "rating_df[\"itemID\"] = rating_df[\"itemID\"].astype(str)\n",
        "rating_df[\"userID\"] = rating_df[\"userID\"].astype(str)"
      ],
      "metadata": {
        "id": "sZPaHa4i-oAr"
      },
      "execution_count": null,
      "outputs": [],
      "id": "sZPaHa4i-oAr"
    },
    {
      "cell_type": "code",
      "source": [
        "unique_users = rating_df.userID.unique()\n",
        "user_ids = dict(zip(unique_users, np.arange(unique_users.shape[0], dtype=np.int32)))\n",
        "\n",
        "unique_items = rating_df.itemID.unique()\n",
        "item_ids = dict(zip(unique_items, np.arange(unique_items.shape[0], dtype=np.int32)))"
      ],
      "metadata": {
        "id": "PgNs7RtdpgsF"
      },
      "execution_count": null,
      "outputs": [],
      "id": "PgNs7RtdpgsF"
    },
    {
      "cell_type": "code",
      "source": [
        "product_ids = list(set(list(rating_df.itemID.unique())))\n",
        "user_ids = list(set(list(rating_df.userID.unique())))"
      ],
      "metadata": {
        "id": "L0pWDQrppk3k"
      },
      "execution_count": null,
      "outputs": [],
      "id": "L0pWDQrppk3k"
    },
    {
      "cell_type": "markdown",
      "source": [
        "### Prepare train test set"
      ],
      "metadata": {
        "id": "MQKR4CpoViU3"
      },
      "id": "MQKR4CpoViU3"
    },
    {
      "cell_type": "code",
      "source": [
        "final_ratings=rating_df.sort_values(by=['userID','time'], ascending=[False,False]) \n",
        "final_ratings.shape"
      ],
      "metadata": {
        "colab": {
          "base_uri": "https://localhost:8080/"
        },
        "id": "dF2_HqTcVdrp",
        "outputId": "9f12df6c-3108-4da9-9a22-fc06cc2c47e9"
      },
      "id": "dF2_HqTcVdrp",
      "execution_count": null,
      "outputs": [
        {
          "output_type": "execute_result",
          "data": {
            "text/plain": [
              "(100000, 27)"
            ]
          },
          "metadata": {},
          "execution_count": 15
        }
      ]
    },
    {
      "cell_type": "code",
      "source": [
        "test_df=final_ratings.groupby('userID').head(30)\n",
        "test_df.shape"
      ],
      "metadata": {
        "colab": {
          "base_uri": "https://localhost:8080/"
        },
        "id": "1Z-8XJaHVfng",
        "outputId": "733854a4-017e-4a53-fc20-56916cd5c301"
      },
      "id": "1Z-8XJaHVfng",
      "execution_count": null,
      "outputs": [
        {
          "output_type": "execute_result",
          "data": {
            "text/plain": [
              "(27051, 27)"
            ]
          },
          "metadata": {},
          "execution_count": 16
        }
      ]
    },
    {
      "cell_type": "code",
      "source": [
        "train_df=final_ratings[~final_ratings.isin(test_df).all(1)]\n",
        "train_df.shape"
      ],
      "metadata": {
        "colab": {
          "base_uri": "https://localhost:8080/"
        },
        "id": "CCiSEJelVhMS",
        "outputId": "793f4378-2609-46e6-ffdf-e82394c1653e"
      },
      "id": "CCiSEJelVhMS",
      "execution_count": null,
      "outputs": [
        {
          "output_type": "execute_result",
          "data": {
            "text/plain": [
              "(100000, 27)"
            ]
          },
          "metadata": {},
          "execution_count": 17
        }
      ]
    },
    {
      "cell_type": "markdown",
      "metadata": {
        "id": "Y-t6p04ILxeE"
      },
      "source": [
        "### user/item affiity matrix "
      ],
      "id": "Y-t6p04ILxeE"
    },
    {
      "cell_type": "code",
      "source": [
        "header = {\n",
        "        \"col_user\": \"userID\",\n",
        "        \"col_item\": \"itemID\",\n",
        "        \"col_rating\": \"rating\",\n",
        "    }\n",
        "\n",
        "#instantiate the sparse matrix generation  \n",
        "am = AffinityMatrix(df = rating_df, **header)\n",
        "\n",
        "#obtain the sparse matrix \n",
        "X, _, _ = am.gen_affinity_matrix()"
      ],
      "metadata": {
        "id": "0PXOf5q7Ve7-"
      },
      "id": "0PXOf5q7Ve7-",
      "execution_count": null,
      "outputs": []
    },
    {
      "cell_type": "code",
      "source": [
        "Xtr, Xtst = numpy_stratified_split(X)"
      ],
      "metadata": {
        "id": "m-YbDE9k6rK9"
      },
      "id": "m-YbDE9k6rK9",
      "execution_count": null,
      "outputs": []
    },
    {
      "cell_type": "code",
      "source": [
        "#First we initialize the model class\n",
        "model = RBM(\n",
        "    possible_ratings=np.setdiff1d(np.unique(Xtr), np.array([0])),\n",
        "    visible_units=Xtr.shape[1],\n",
        "    hidden_units=200,\n",
        "    training_epoch=200,\n",
        "    minibatch_size=256,\n",
        "     display_epoch=10,\n",
        "    keep_prob=0.1,\n",
        "    with_metrics=True\n",
        ")"
      ],
      "metadata": {
        "id": "r8EgzW8qWYHN",
        "colab": {
          "base_uri": "https://localhost:8080/"
        },
        "outputId": "3f1fb5ca-2218-479e-d4aa-8d78101e1cbf"
      },
      "id": "r8EgzW8qWYHN",
      "execution_count": null,
      "outputs": [
        {
          "output_type": "stream",
          "name": "stderr",
          "text": [
            "WARNING:tensorflow:From /usr/local/lib/python3.7/dist-packages/tensorflow/python/util/dispatch.py:1082: div (from tensorflow.python.ops.math_ops) is deprecated and will be removed in a future version.\n",
            "Instructions for updating:\n",
            "Deprecated in favor of operator or tf.math.divide.\n"
          ]
        }
      ]
    },
    {
      "cell_type": "code",
      "source": [
        "# Model Fit\n",
        "model.fit(Xtr)\n",
        "\n",
        "# Plot the train RMSE as a function of the epochs\n",
        "line_graph(values=model.rmse_train, labels='train', x_name='epoch', y_name='rmse_train')"
      ],
      "metadata": {
        "colab": {
          "base_uri": "https://localhost:8080/",
          "height": 334
        },
        "id": "UzGF7dM7WbP9",
        "outputId": "8ddae585-c2ad-46c0-9f97-6b77d609982e"
      },
      "id": "UzGF7dM7WbP9",
      "execution_count": null,
      "outputs": [
        {
          "output_type": "display_data",
          "data": {
            "text/plain": [
              "<Figure size 360x360 with 1 Axes>"
            ],
            "image/png": "[encoded data removed]"
          },
          "metadata": {}
        }
      ]
    },
    {
      "cell_type": "code",
      "source": [
        "K=20\n",
        "top_k =  model.recommend_k_items(Xtst,K)\n"
      ],
      "metadata": {
        "id": "YuenczIsWndE"
      },
      "id": "YuenczIsWndE",
      "execution_count": null,
      "outputs": []
    },
    {
      "cell_type": "code",
      "source": [
        "top_k_df = am.map_back_sparse(top_k, kind = 'prediction')\n",
        "test_df = am.map_back_sparse(Xtst, kind = 'ratings')\n",
        "\n"
      ],
      "metadata": {
        "id": "wQZ1EIsKWpVM"
      },
      "id": "wQZ1EIsKWpVM",
      "execution_count": null,
      "outputs": []
    },
    {
      "cell_type": "markdown",
      "source": [
        "Evaluation"
      ],
      "metadata": {
        "id": "oSRk-20G7i3n"
      },
      "id": "oSRk-20G7i3n"
    },
    {
      "cell_type": "code",
      "source": [
        "eval_map = map_at_k(test_df, top_k_df, col_user=\"userID\", col_item=\"itemID\", \n",
        "                    col_rating=\"rating\", col_prediction=\"prediction\", \n",
        "                    relevancy_method=\"top_k\", k= K)\n",
        "eval_precision = precision_at_k(test_df, top_k_df, col_user=\"userID\", col_item=\"itemID\", \n",
        "                               col_rating=\"rating\", col_prediction=\"prediction\", \n",
        "                               relevancy_method=\"top_k\", k= K)\n",
        "\n",
        "eval_recall = recall_at_k(test_df, top_k_df, col_user=\"userID\", col_item=\"itemID\", \n",
        "                          col_rating=\"rating\", col_prediction=\"prediction\", \n",
        "                          relevancy_method=\"top_k\", k= K)"
      ],
      "metadata": {
        "id": "O1q9Sdi9Wy7k"
      },
      "id": "O1q9Sdi9Wy7k",
      "execution_count": null,
      "outputs": []
    },
    {
      "cell_type": "code",
      "source": [
        "print(\"MAP : \"+str(eval_map))\n",
        "print(\"precision : \"+str(eval_precision))\n",
        "print(\"recall : \"+str(eval_recall))"
      ],
      "metadata": {
        "colab": {
          "base_uri": "https://localhost:8080/"
        },
        "id": "8sCpjenHWxY8",
        "outputId": "4158262c-bdb4-4f64-9188-7b12225c54a3"
      },
      "id": "8sCpjenHWxY8",
      "execution_count": null,
      "outputs": [
        {
          "output_type": "stream",
          "name": "stdout",
          "text": [
            "MAP : 0.004355545369551059\n",
            "precision : 0.029056203605514315\n",
            "recall : 0.02036052154953004\n"
          ]
        }
      ]
    }
  ],
  "metadata": {
    "accelerator": "GPU",
    "colab": {
      "provenance": []
    },
    "gpuClass": "standard",
    "kernelspec": {
      "display_name": "Python 3",
      "language": "python",
      "name": "python3"
    },
    "language_info": {
      "codemirror_mode": {
        "name": "ipython",
        "version": 3
      },
      "file_extension": ".py",
      "mimetype": "text/x-python",
      "name": "python",
      "nbconvert_exporter": "python",
      "pygments_lexer": "ipython3",
      "version": "3.6.5"
    }
  },
  "nbformat": 4,
  "nbformat_minor": 5
}