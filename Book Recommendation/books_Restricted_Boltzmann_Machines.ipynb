{
  "cells": [
    {
      "cell_type": "code",
      "execution_count": null,
      "metadata": {
        "id": "5b97d650"
      },
      "outputs": [],
      "source": [
        "import warnings\n",
        "warnings.filterwarnings(\"ignore\")"
      ],
      "id": "5b97d650"
    },
    {
      "cell_type": "code",
      "execution_count": null,
      "metadata": {
        "id": "519937e0"
      },
      "outputs": [],
      "source": [
        "from datetime import datetime\n",
        "import os\n",
        "import matplotlib\n",
        "import pandas as pd\n",
        "import numpy as np\n",
        "import matplotlib.pyplot as plt\n",
        "import seaborn as sns\n",
        "sns.set_style('whitegrid')\n",
        "\n",
        "from scipy import sparse\n",
        "from scipy.sparse import csc_matrix\n",
        "from sklearn.decomposition import TruncatedSVD\n",
        "import random\n",
        "random.seed(0)\n",
        "np.random.seed(0)"
      ],
      "id": "519937e0"
    },
    {
      "cell_type": "code",
      "source": [
        "!pip install recommenders"
      ],
      "metadata": {
        "id": "1NQFPTLfOghK",
        "colab": {
          "base_uri": "https://localhost:8080/"
        },
        "outputId": "c6f1cd6a-5a96-46e5-9b73-4248216a3b0c"
      },
      "execution_count": null,
      "outputs": [
        {
          "output_type": "stream",
          "name": "stdout",
          "text": [
            "  Building wheel for memory-profiler (setup.py) ... \u001b[?25l\u001b[?25hdone\n",
            "  Created wheel for memory-profiler: filename=memory_profiler-0.60.0-py3-none-any.whl size=31284 sha256=3146e63fcd8b74b20b4c5a2f5876f81660a49441965756a0220ae4bbf12526c6\n",
            "  Stored in directory: /root/.cache/pip/wheels/67/2b/fb/326e30d638c538e69a5eb0aa47f4223d979f502bbdb403950f\n",
            "  Building wheel for retrying (setup.py) ... \u001b[?25l\u001b[?25hdone\n",
            "  Created wheel for retrying: filename=retrying-1.3.3-py3-none-any.whl size=11447 sha256=4cdea5576a418c3a8043c5931a7f5a159874f68b9fa6348a57b29af52320c8a7\n",
            "  Stored in directory: /root/.cache/pip/wheels/f9/8d/8d/f6af3f7f9eea3553bc2fe6d53e4b287dad18b06a861ac56ddf\n",
            "  Building wheel for scikit-surprise (setup.py) ... \u001b[?25l\u001b[?25hdone\n",
            "  Created wheel for scikit-surprise: filename=scikit_surprise-1.1.1-cp37-cp37m-linux_x86_64.whl size=1633991 sha256=2a42fe86b8fa5c40e1361dd55b4dbb608153673e0aac2eb3db4736fb612fbf0c\n",
            "  Stored in directory: /root/.cache/pip/wheels/76/44/74/b498c42be47b2406bd27994e16c5188e337c657025ab400c1c\n",
            "Successfully built lightfm memory-profiler retrying scikit-surprise\n",
            "Installing collected packages: mypy-extensions, typing-inspect, pyyaml, exceptiongroup, tokenizers, powerlaw, pandera, hypothesis, huggingface-hub, transformers, scikit-surprise, retrying, memory-profiler, lightfm, cornac, category-encoders, bottleneck, recommenders\n",
            "  Attempting uninstall: pyyaml\n",
            "    Found existing installation: PyYAML 6.0\n",
            "    Uninstalling PyYAML-6.0:\n",
            "      Successfully uninstalled PyYAML-6.0\n",
            "Successfully installed bottleneck-1.3.5 category-encoders-1.3.0 cornac-1.14.2 exceptiongroup-1.0.0rc9 huggingface-hub-0.10.0 hypothesis-6.56.1 lightfm-1.16 memory-profiler-0.60.0 mypy-extensions-0.4.3 pandera-0.13.2 powerlaw-1.5 pyyaml-5.4.1 recommenders-1.1.1 retrying-1.3.3 scikit-surprise-1.1.1 tokenizers-0.12.1 transformers-4.22.2 typing-inspect-0.8.0\n"
          ]
        }
      ],
      "id": "1NQFPTLfOghK"
    },
    {
      "cell_type": "code",
      "source": [
        "\n",
        "from recommenders.models.rbm.rbm import RBM\n",
        "from recommenders.datasets.python_splitters import numpy_stratified_split\n",
        "from recommenders.datasets.sparse import AffinityMatrix\n",
        "from recommenders.datasets import movielens\n",
        "from recommenders.evaluation.python_evaluation import map_at_k, ndcg_at_k, precision_at_k, recall_at_k\n",
        "from recommenders.utils.timer import Timer\n",
        "from recommenders.utils.plot import line_graph"
      ],
      "metadata": {
        "id": "Jx_y17PXDGsu"
      },
      "execution_count": null,
      "outputs": [],
      "id": "Jx_y17PXDGsu"
    },
    {
      "cell_type": "markdown",
      "metadata": {
        "id": "1ac47295"
      },
      "source": [
        "## Analyse Dataset"
      ],
      "id": "1ac47295"
    },
    {
      "cell_type": "markdown",
      "metadata": {
        "id": "474dfab9"
      },
      "source": [
        "### Book  Dataset\n",
        "https://www.kaggle.com/datasets/arashnic/book-recommendation-dataset\n"
      ],
      "id": "474dfab9"
    },
    {
      "cell_type": "code",
      "source": [
        "!pip install gdown"
      ],
      "metadata": {
        "colab": {
          "base_uri": "https://localhost:8080/"
        },
        "id": "f0lU10xwUf8O",
        "outputId": "6e817cb8-a643-449f-b2b1-990741ece0ca"
      },
      "id": "f0lU10xwUf8O",
      "execution_count": null,
      "outputs": [
        {
          "output_type": "stream",
          "name": "stdout",
          "text": [
            "Looking in indexes: https://pypi.org/simple, https://us-python.pkg.dev/colab-wheels/public/simple/\n",
            "Requirement already satisfied: gdown in /usr/local/lib/python3.7/dist-packages (4.4.0)\n",
            "Requirement already satisfied: filelock in /usr/local/lib/python3.7/dist-packages (from gdown) (3.8.0)\n",
            "Requirement already satisfied: requests[socks] in /usr/local/lib/python3.7/dist-packages (from gdown) (2.23.0)\n",
            "Requirement already satisfied: beautifulsoup4 in /usr/local/lib/python3.7/dist-packages (from gdown) (4.6.3)\n",
            "Requirement already satisfied: six in /usr/local/lib/python3.7/dist-packages (from gdown) (1.15.0)\n",
            "Requirement already satisfied: tqdm in /usr/local/lib/python3.7/dist-packages (from gdown) (4.64.1)\n",
            "Requirement already satisfied: certifi>=2017.4.17 in /usr/local/lib/python3.7/dist-packages (from requests[socks]->gdown) (2022.9.24)\n",
            "Requirement already satisfied: chardet<4,>=3.0.2 in /usr/local/lib/python3.7/dist-packages (from requests[socks]->gdown) (3.0.4)\n",
            "Requirement already satisfied: urllib3!=1.25.0,!=1.25.1,<1.26,>=1.21.1 in /usr/local/lib/python3.7/dist-packages (from requests[socks]->gdown) (1.24.3)\n",
            "Requirement already satisfied: idna<3,>=2.5 in /usr/local/lib/python3.7/dist-packages (from requests[socks]->gdown) (2.10)\n",
            "Requirement already satisfied: PySocks!=1.5.7,>=1.5.6 in /usr/local/lib/python3.7/dist-packages (from requests[socks]->gdown) (1.7.1)\n"
          ]
        }
      ]
    },
    {
      "cell_type": "code",
      "source": [
        "\n",
        "!gdown https://drive.google.com/uc?id=1TE3vZZf0yq9J2sTbDFL7BFNCDQIG6Nd-"
      ],
      "metadata": {
        "colab": {
          "base_uri": "https://localhost:8080/"
        },
        "id": "PxYFoCk4UixW",
        "outputId": "147e7af3-c25e-4004-c8ba-9bd239948290"
      },
      "id": "PxYFoCk4UixW",
      "execution_count": null,
      "outputs": [
        {
          "output_type": "stream",
          "name": "stdout",
          "text": [
            "Downloading...\n",
            "From: https://drive.google.com/uc?id=1TE3vZZf0yq9J2sTbDFL7BFNCDQIG6Nd-\n",
            "To: /content/Books.zip\n",
            "100% 25.0M/25.0M [00:00<00:00, 39.3MB/s]\n"
          ]
        }
      ]
    },
    {
      "cell_type": "code",
      "source": [
        "!unzip \"Books.zip\"  -d  \"/content\""
      ],
      "metadata": {
        "colab": {
          "base_uri": "https://localhost:8080/"
        },
        "id": "SDKoDQKtUppf",
        "outputId": "0db5cedc-c67e-4195-d28e-e80fd3cd9a9c"
      },
      "id": "SDKoDQKtUppf",
      "execution_count": null,
      "outputs": [
        {
          "output_type": "stream",
          "name": "stdout",
          "text": [
            "Archive:  Books.zip\n",
            "  inflating: /content/Books.csv      \n",
            "  inflating: /content/Ratings.csv    \n",
            "  inflating: /content/Users.csv      \n"
          ]
        }
      ]
    },
    {
      "cell_type": "code",
      "execution_count": null,
      "metadata": {
        "id": "b5ed96c4"
      },
      "outputs": [],
      "source": [
        "rating_df = pd.read_csv('Ratings.csv')\n",
        "book_df = pd.read_csv('Books.csv')"
      ],
      "id": "b5ed96c4"
    },
    {
      "cell_type": "code",
      "execution_count": null,
      "metadata": {
        "colab": {
          "base_uri": "https://localhost:8080/",
          "height": 206
        },
        "id": "aa02951d",
        "outputId": "62ae1859-398f-420a-b8fa-af95a134d7de"
      },
      "outputs": [
        {
          "output_type": "execute_result",
          "data": {
            "text/plain": [
              "   User-ID                            Location   Age\n",
              "0        1                  nyc, new york, usa   NaN\n",
              "1        2           stockton, california, usa  18.0\n",
              "2        3     moscow, yukon territory, russia   NaN\n",
              "3        4           porto, v.n.gaia, portugal  17.0\n",
              "4        5  farnborough, hants, united kingdom   NaN"
            ],
            "text/html": [
              "\n",
              "  <div id=\"df-94662c43-75a3-4bbc-bf27-2bccbb5ef11a\">\n",
              "    <div class=\"colab-df-container\">\n",
              "      <div>\n",
              "<style scoped>\n",
              "    .dataframe tbody tr th:only-of-type {\n",
              "        vertical-align: middle;\n",
              "    }\n",
              "\n",
              "    .dataframe tbody tr th {\n",
              "        vertical-align: top;\n",
              "    }\n",
              "\n",
              "    .dataframe thead th {\n",
              "        text-align: right;\n",
              "    }\n",
              "</style>\n",
              "<table border=\"1\" class=\"dataframe\">\n",
              "  <thead>\n",
              "    <tr style=\"text-align: right;\">\n",
              "      <th></th>\n",
              "      <th>User-ID</th>\n",
              "      <th>Location</th>\n",
              "      <th>Age</th>\n",
              "    </tr>\n",
              "  </thead>\n",
              "  <tbody>\n",
              "    <tr>\n",
              "      <th>0</th>\n",
              "      <td>1</td>\n",
              "      <td>nyc, new york, usa</td>\n",
              "      <td>NaN</td>\n",
              "    </tr>\n",
              "    <tr>\n",
              "      <th>1</th>\n",
              "      <td>2</td>\n",
              "      <td>stockton, california, usa</td>\n",
              "      <td>18.0</td>\n",
              "    </tr>\n",
              "    <tr>\n",
              "      <th>2</th>\n",
              "      <td>3</td>\n",
              "      <td>moscow, yukon territory, russia</td>\n",
              "      <td>NaN</td>\n",
              "    </tr>\n",
              "    <tr>\n",
              "      <th>3</th>\n",
              "      <td>4</td>\n",
              "      <td>porto, v.n.gaia, portugal</td>\n",
              "      <td>17.0</td>\n",
              "    </tr>\n",
              "    <tr>\n",
              "      <th>4</th>\n",
              "      <td>5</td>\n",
              "      <td>farnborough, hants, united kingdom</td>\n",
              "      <td>NaN</td>\n",
              "    </tr>\n",
              "  </tbody>\n",
              "</table>\n",
              "</div>\n",
              "      <button class=\"colab-df-convert\" onclick=\"convertToInteractive('df-94662c43-75a3-4bbc-bf27-2bccbb5ef11a')\"\n",
              "              title=\"Convert this dataframe to an interactive table.\"\n",
              "              style=\"display:none;\">\n",
              "        \n",
              "  <svg xmlns=\"http://www.w3.org/2000/svg\" height=\"24px\"viewBox=\"0 0 24 24\"\n",
              "       width=\"24px\">\n",
              "    <path d=\"M0 0h24v24H0V0z\" fill=\"none\"/>\n",
              "    <path d=\"M18.56 5.44l.94 2.06.94-2.06 2.06-.94-2.06-.94-.94-2.06-.94 2.06-2.06.94zm-11 1L8.5 8.5l.94-2.06 2.06-.94-2.06-.94L8.5 2.5l-.94 2.06-2.06.94zm10 10l.94 2.06.94-2.06 2.06-.94-2.06-.94-.94-2.06-.94 2.06-2.06.94z\"/><path d=\"M17.41 7.96l-1.37-1.37c-.4-.4-.92-.59-1.43-.59-.52 0-1.04.2-1.43.59L10.3 9.45l-7.72 7.72c-.78.78-.78 2.05 0 2.83L4 21.41c.39.39.9.59 1.41.59.51 0 1.02-.2 1.41-.59l7.78-7.78 2.81-2.81c.8-.78.8-2.07 0-2.86zM5.41 20L4 18.59l7.72-7.72 1.47 1.35L5.41 20z\"/>\n",
              "  </svg>\n",
              "      </button>\n",
              "      \n",
              "  <style>\n",
              "    .colab-df-container {\n",
              "      display:flex;\n",
              "      flex-wrap:wrap;\n",
              "      gap: 12px;\n",
              "    }\n",
              "\n",
              "    .colab-df-convert {\n",
              "      background-color: #E8F0FE;\n",
              "      border: none;\n",
              "      border-radius: 50%;\n",
              "      cursor: pointer;\n",
              "      display: none;\n",
              "      fill: #1967D2;\n",
              "      height: 32px;\n",
              "      padding: 0 0 0 0;\n",
              "      width: 32px;\n",
              "    }\n",
              "\n",
              "    .colab-df-convert:hover {\n",
              "      background-color: #E2EBFA;\n",
              "      box-shadow: 0px 1px 2px rgba(60, 64, 67, 0.3), 0px 1px 3px 1px rgba(60, 64, 67, 0.15);\n",
              "      fill: #174EA6;\n",
              "    }\n",
              "\n",
              "    [theme=dark] .colab-df-convert {\n",
              "      background-color: #3B4455;\n",
              "      fill: #D2E3FC;\n",
              "    }\n",
              "\n",
              "    [theme=dark] .colab-df-convert:hover {\n",
              "      background-color: #434B5C;\n",
              "      box-shadow: 0px 1px 3px 1px rgba(0, 0, 0, 0.15);\n",
              "      filter: drop-shadow(0px 1px 2px rgba(0, 0, 0, 0.3));\n",
              "      fill: #FFFFFF;\n",
              "    }\n",
              "  </style>\n",
              "\n",
              "      <script>\n",
              "        const buttonEl =\n",
              "          document.querySelector('#df-94662c43-75a3-4bbc-bf27-2bccbb5ef11a button.colab-df-convert');\n",
              "        buttonEl.style.display =\n",
              "          google.colab.kernel.accessAllowed ? 'block' : 'none';\n",
              "\n",
              "        async function convertToInteractive(key) {\n",
              "          const element = document.querySelector('#df-94662c43-75a3-4bbc-bf27-2bccbb5ef11a');\n",
              "          const dataTable =\n",
              "            await google.colab.kernel.invokeFunction('convertToInteractive',\n",
              "                                                     [key], {});\n",
              "          if (!dataTable) return;\n",
              "\n",
              "          const docLinkHtml = 'Like what you see? Visit the ' +\n",
              "            '<a target=\"_blank\" href=https://colab.research.google.com/notebooks/data_table.ipynb>data table notebook</a>'\n",
              "            + ' to learn more about interactive tables.';\n",
              "          element.innerHTML = '';\n",
              "          dataTable['output_type'] = 'display_data';\n",
              "          await google.colab.output.renderOutput(dataTable, element);\n",
              "          const docLink = document.createElement('div');\n",
              "          docLink.innerHTML = docLinkHtml;\n",
              "          element.appendChild(docLink);\n",
              "        }\n",
              "      </script>\n",
              "    </div>\n",
              "  </div>\n",
              "  "
            ]
          },
          "metadata": {},
          "execution_count": 11
        }
      ],
      "source": [
        "users_df = pd.read_csv('Users.csv')\n",
        "users_df.head(5)"
      ],
      "id": "aa02951d"
    },
    {
      "cell_type": "code",
      "source": [
        "rating_df=pd.merge(rating_df,book_df,on=\"ISBN\",how=\"left\")\n",
        "rating_df['Book-Rating'].hist()"
      ],
      "metadata": {
        "colab": {
          "base_uri": "https://localhost:8080/",
          "height": 283
        },
        "id": "CuYYAiayUzx5",
        "outputId": "15113d4f-2c37-46b3-e467-31821c6bfa03"
      },
      "id": "CuYYAiayUzx5",
      "execution_count": null,
      "outputs": [
        {
          "output_type": "execute_result",
          "data": {
            "text/plain": [
              "<matplotlib.axes._subplots.AxesSubplot at 0x7fa927115350>"
            ]
          },
          "metadata": {},
          "execution_count": 12
        },
        {
          "output_type": "display_data",
          "data": {
            "text/plain": [
              "<Figure size 432x288 with 1 Axes>"
            ],
            "image/png": "[encoded data removed]"
          },
          "metadata": {}
        }
      ]
    },
    {
      "cell_type": "code",
      "source": [
        "y = rating_df.groupby('Book-Title').count()['Book-Rating']>=100\n",
        "books = y[y].index\n",
        "rating_df = rating_df[rating_df['Book-Title'].isin(books)]"
      ],
      "metadata": {
        "id": "i94JKDUBVDkx"
      },
      "id": "i94JKDUBVDkx",
      "execution_count": null,
      "outputs": []
    },
    {
      "cell_type": "code",
      "execution_count": null,
      "metadata": {
        "id": "34fe55c8"
      },
      "outputs": [],
      "source": [
        "x = rating_df.groupby('User-ID').count()['Book-Rating'] > 100\n",
        "userIndex = x[x].index\n",
        "rating_df=rating_df[rating_df['User-ID'].isin(userIndex)]\n"
      ],
      "id": "34fe55c8"
    },
    {
      "cell_type": "code",
      "source": [
        "rating_df=rating_df[['User-ID','Book-Title','Book-Rating']]"
      ],
      "metadata": {
        "id": "0oOcuyC7apcR"
      },
      "id": "0oOcuyC7apcR",
      "execution_count": null,
      "outputs": []
    },
    {
      "cell_type": "code",
      "source": [
        "rating_df.rename(columns = {'User-ID':'userID','Book-Title':'itemID','Book-Rating':'rating'}, inplace = True)\n"
      ],
      "metadata": {
        "id": "rPyAH6XBa0p5"
      },
      "id": "rPyAH6XBa0p5",
      "execution_count": null,
      "outputs": []
    },
    {
      "cell_type": "code",
      "source": [
        "item_ids = list(set(list(rating_df.itemID.unique())))\n",
        "user_ids = list(set(list(rating_df.userID.unique())))"
      ],
      "metadata": {
        "id": "L0pWDQrppk3k"
      },
      "execution_count": null,
      "outputs": [],
      "id": "L0pWDQrppk3k"
    },
    {
      "cell_type": "code",
      "source": [
        "dict_users = {}\n",
        "index = 0\n",
        "for ids in sorted(user_ids):\n",
        "    dict_users[ids] = index\n",
        "    index += 1\n",
        "dict_items = {}\n",
        "index = 0\n",
        "for ids in sorted(item_ids):\n",
        "    dict_items[ids] = index\n",
        "    index += 1"
      ],
      "metadata": {
        "id": "wbdwZjvLLUsD"
      },
      "execution_count": null,
      "outputs": [],
      "id": "wbdwZjvLLUsD"
    },
    {
      "cell_type": "code",
      "source": [
        "rating_df['userID'] = rating_df.userID.map(dict_users)\n",
        "rating_df['itemID'] = rating_df.itemID.map(dict_items)"
      ],
      "metadata": {
        "id": "_hPUhWhMZNR3"
      },
      "execution_count": null,
      "outputs": [],
      "id": "_hPUhWhMZNR3"
    },
    {
      "cell_type": "code",
      "source": [
        "rating_df['userID'].unique()"
      ],
      "metadata": {
        "colab": {
          "base_uri": "https://localhost:8080/"
        },
        "id": "taH2BRt4beGa",
        "outputId": "b2822c97-a5d3-4fb8-bb38-317ea7c2d0ce"
      },
      "id": "taH2BRt4beGa",
      "execution_count": null,
      "outputs": [
        {
          "output_type": "execute_result",
          "data": {
            "text/plain": [
              "array([209, 210,   0,   1,   2,   3,   4,   5,   6,   7,   8,   9,  10,\n",
              "        11,  12,  13,  14,  15,  16,  17,  18,  19,  20,  21,  22,  23,\n",
              "        24,  25,  26,  27,  28,  29,  30,  31,  32,  33,  34,  35,  36,\n",
              "        37,  38,  39,  40,  41,  42,  43,  44,  45,  46,  47,  48,  49,\n",
              "        50,  51,  52,  53,  54,  55,  56,  57,  58,  59,  60,  61,  62,\n",
              "        63,  64,  65,  66,  67,  68,  69,  70,  71,  72,  73,  74,  75,\n",
              "        76,  77,  78,  79,  80,  81,  82,  83,  84,  85,  86,  87,  88,\n",
              "        89,  90,  91,  92,  93,  94,  95,  96,  97,  98,  99, 100, 101,\n",
              "       102, 103, 104, 105, 106, 107, 108, 109, 110, 111, 112, 113, 114,\n",
              "       115, 116, 117, 118, 119, 120, 121, 122, 123, 124, 125, 126, 127,\n",
              "       128, 129, 130, 131, 132, 133, 134, 135, 136, 137, 138, 139, 140,\n",
              "       141, 142, 143, 144, 145, 146, 147, 148, 149, 150, 151, 152, 153,\n",
              "       154, 155, 156, 157, 158, 159, 160, 161, 162, 163, 164, 165, 166,\n",
              "       167, 168, 169, 170, 171, 172, 173, 174, 175, 176, 177, 178, 179,\n",
              "       180, 181, 182, 183, 184, 185, 186, 187, 188, 189, 190, 191, 192,\n",
              "       193, 194, 195, 196, 197, 198, 199, 200, 201, 202, 203, 204, 205,\n",
              "       206, 207, 208])"
            ]
          },
          "metadata": {},
          "execution_count": 36
        }
      ]
    },
    {
      "cell_type": "markdown",
      "metadata": {
        "id": "Y-t6p04ILxeE"
      },
      "source": [
        "### user/item affiity matrix "
      ],
      "id": "Y-t6p04ILxeE"
    },
    {
      "cell_type": "code",
      "source": [
        "header = {\n",
        "        \"col_user\": \"userID\",\n",
        "        \"col_item\": \"itemID\",\n",
        "        \"col_rating\": \"rating\",\n",
        "    }\n",
        "\n",
        "#instantiate the sparse matrix generation  \n",
        "am = AffinityMatrix(df =rating_df, **header)\n",
        "\n",
        "#obtain the sparse matrix \n",
        "X, _, _ = am.gen_affinity_matrix()"
      ],
      "metadata": {
        "id": "0PXOf5q7Ve7-"
      },
      "id": "0PXOf5q7Ve7-",
      "execution_count": null,
      "outputs": []
    },
    {
      "cell_type": "code",
      "source": [
        "Xtr, Xtst = numpy_stratified_split(X)\n"
      ],
      "metadata": {
        "id": "4tqaLkKyaO9Z"
      },
      "id": "4tqaLkKyaO9Z",
      "execution_count": null,
      "outputs": []
    },
    {
      "cell_type": "code",
      "source": [
        "#First we initialize the model class\n",
        "model = RBM(\n",
        "    possible_ratings=np.setdiff1d(np.unique(Xtr), np.array([0])),\n",
        "    visible_units=X.shape[1],\n",
        "    hidden_units=600,\n",
        "    training_epoch=400,\n",
        "    minibatch_size=10,\n",
        "     display_epoch=10,\n",
        "    keep_prob=0.1,\n",
        "    with_metrics=True\n",
        ")"
      ],
      "metadata": {
        "id": "r8EgzW8qWYHN"
      },
      "id": "r8EgzW8qWYHN",
      "execution_count": null,
      "outputs": []
    },
    {
      "cell_type": "code",
      "source": [
        "# Model Fit\n",
        "model.fit(Xtr)\n",
        "\n",
        "# Plot the train RMSE as a function of the epochs\n",
        "line_graph(values=model.rmse_train, labels='train', x_name='epoch', y_name='rmse_train')"
      ],
      "metadata": {
        "colab": {
          "base_uri": "https://localhost:8080/",
          "height": 334
        },
        "id": "UzGF7dM7WbP9",
        "outputId": "e47129a8-1fe3-4ba9-a3b6-c59d1673fbe1"
      },
      "id": "UzGF7dM7WbP9",
      "execution_count": null,
      "outputs": [
        {
          "output_type": "display_data",
          "data": {
            "text/plain": [
              "<Figure size 360x360 with 1 Axes>"
            ],
            "image/png": "[encoded data removed]"
          },
          "metadata": {}
        }
      ]
    },
    {
      "cell_type": "code",
      "source": [
        "top_k_df = am.map_back_sparse(top_k, kind = 'prediction')\n",
        "test_df = am.map_back_sparse(Xtst, kind = 'ratings')"
      ],
      "metadata": {
        "id": "YuenczIsWndE"
      },
      "id": "YuenczIsWndE",
      "execution_count": null,
      "outputs": []
    },
    {
      "cell_type": "code",
      "source": [],
      "metadata": {
        "id": "wQZ1EIsKWpVM"
      },
      "id": "wQZ1EIsKWpVM",
      "execution_count": null,
      "outputs": []
    },
    {
      "cell_type": "code",
      "source": [
        "usersinTestDataset=list(test_df['User-ID'].unique())"
      ],
      "metadata": {
        "id": "O1q9Sdi9Wy7k"
      },
      "id": "O1q9Sdi9Wy7k",
      "execution_count": null,
      "outputs": []
    },
    {
      "cell_type": "markdown",
      "source": [
        "HIT Rate"
      ],
      "metadata": {
        "id": "B7tXzhLmXUp0"
      },
      "id": "B7tXzhLmXUp0"
    },
    {
      "cell_type": "code",
      "source": [
        "total=0\n",
        "hit=0\n",
        "for i in usersinTestDataset:\n",
        "    results= list(top_k_df[top_k_df['User-ID']==i]['Book-Title'] )   \n",
        "  \n",
        "    total+=1\n",
        "    for rs in results:\n",
        "        \n",
        "        if(((test_df['Book-Title'] == rs) & (test_df['User-ID'] ==i)).any()):\n",
        "                hit+=1\n",
        "                break\n",
        "        \n",
        "hit_ratio=hit/total   \n",
        "print(hit_ratio)"
      ],
      "metadata": {
        "colab": {
          "base_uri": "https://localhost:8080/"
        },
        "id": "8sCpjenHWxY8",
        "outputId": "2813b380-2704-4265-d891-a7abb9a37f69"
      },
      "id": "8sCpjenHWxY8",
      "execution_count": null,
      "outputs": [
        {
          "output_type": "stream",
          "name": "stdout",
          "text": [
            "0.46919431279620855\n"
          ]
        }
      ]
    },
    {
      "cell_type": "markdown",
      "source": [
        "MAP@K"
      ],
      "metadata": {
        "id": "aN-32JDnXWEc"
      },
      "id": "aN-32JDnXWEc"
    },
    {
      "cell_type": "code",
      "source": [
        "top_k_df = am.map_back_sparse(top_k, kind = 'prediction')"
      ],
      "metadata": {
        "id": "zAJDMxm9Xmis"
      },
      "id": "zAJDMxm9Xmis",
      "execution_count": null,
      "outputs": []
    },
    {
      "cell_type": "code",
      "source": [
        "total=0\n",
        "hit=0\n",
        "for i in usersinTestDataset:\n",
        "    results= list(top_k_df[top_k_df['User-ID']==i]['Book-Title'] )   \n",
        "  \n",
        "    \n",
        "    for rs in results:\n",
        "        total+=1\n",
        "        if(((test_df['Book-Title'] == rs) & (test_df['User-ID'] ==i)).any()):\n",
        "                hit+=1\n",
        "                \n",
        "        \n",
        "hit_ratio=hit/total   \n",
        "print(hit_ratio)"
      ],
      "metadata": {
        "colab": {
          "base_uri": "https://localhost:8080/"
        },
        "id": "XrQ13p--XWY2",
        "outputId": "6eb13d4a-1537-4c8b-f8c7-40ccd35c8edb"
      },
      "id": "XrQ13p--XWY2",
      "execution_count": null,
      "outputs": [
        {
          "output_type": "stream",
          "name": "stdout",
          "text": [
            "0.03056872037914692\n"
          ]
        }
      ]
    }
  ],
  "metadata": {
    "accelerator": "GPU",
    "colab": {
      "provenance": []
    },
    "gpuClass": "standard",
    "kernelspec": {
      "display_name": "Python 3",
      "language": "python",
      "name": "python3"
    },
    "language_info": {
      "codemirror_mode": {
        "name": "ipython",
        "version": 3
      },
      "file_extension": ".py",
      "mimetype": "text/x-python",
      "name": "python",
      "nbconvert_exporter": "python",
      "pygments_lexer": "ipython3",
      "version": "3.6.5"
    }
  },
  "nbformat": 4,
  "nbformat_minor": 5
}