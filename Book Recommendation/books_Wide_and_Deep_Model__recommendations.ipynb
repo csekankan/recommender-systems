{
  "cells": [
    {
      "cell_type": "markdown",
      "source": [
        "# Wide Deep Network"
      ],
      "metadata": {
        "id": "a9SjdHKUd2Bw"
      },
      "id": "a9SjdHKUd2Bw"
    },
    {
      "cell_type": "code",
      "execution_count": null,
      "id": "84eddad3",
      "metadata": {
        "id": "84eddad3"
      },
      "outputs": [],
      "source": [
        "from datetime import datetime\n",
        "import os\n",
        "import matplotlib\n",
        "import pandas as pd\n",
        "import numpy as np\n",
        "import matplotlib.pyplot as plt\n",
        "import seaborn as sns\n",
        "sns.set_style('whitegrid')\n",
        "\n",
        "from scipy import sparse\n",
        "from scipy.sparse import csc_matrix\n",
        "from sklearn.decomposition import TruncatedSVD\n",
        "\n",
        "np.random.seed(0)"
      ]
    },
    {
      "cell_type": "code",
      "source": [
        "!pip install recommenders"
      ],
      "metadata": {
        "colab": {
          "base_uri": "https://localhost:8080/"
        },
        "id": "-EpCFREI-yYA",
        "outputId": "0e7f186d-9366-40fd-c544-617d0a232d39"
      },
      "id": "-EpCFREI-yYA",
      "execution_count": null,
      "outputs": [
        {
          "output_type": "stream",
          "name": "stdout",
          "text": [
            "Looking in indexes: https://pypi.org/simple, https://us-python.pkg.dev/colab-wheels/public/simple/\n",
            "Collecting recommenders\n",
            "  Downloading recommenders-1.1.1-py3-none-any.whl (339 kB)\n",
            "\u001b[K     |████████████████████████████████| 339 kB 7.0 MB/s \n",
            "\u001b[?25hRequirement already satisfied: tqdm<5,>=4.31.1 in /usr/local/lib/python3.7/dist-packages (from recommenders) (4.64.0)\n",
            "Requirement already satisfied: requests<3,>=2.0.0 in /usr/local/lib/python3.7/dist-packages (from recommenders) (2.23.0)\n",
            "Collecting category-encoders<2,>=1.3.0\n",
            "  Downloading category_encoders-1.3.0-py2.py3-none-any.whl (61 kB)\n",
            "\u001b[K     |████████████████████████████████| 61 kB 10.6 MB/s \n",
            "\u001b[?25hCollecting pandera[strategies]>=0.6.5\n",
            "  Downloading pandera-0.9.0-py3-none-any.whl (197 kB)\n",
            "\u001b[K     |████████████████████████████████| 197 kB 74.8 MB/s \n",
            "\u001b[?25hRequirement already satisfied: scipy<2,>=1.0.0 in /usr/local/lib/python3.7/dist-packages (from recommenders) (1.7.3)\n",
            "Collecting retrying>=1.3.3\n",
            "  Downloading retrying-1.3.3.tar.gz (10 kB)\n",
            "Collecting lightfm<2,>=1.15\n",
            "  Downloading lightfm-1.16.tar.gz (310 kB)\n",
            "\u001b[K     |████████████████████████████████| 310 kB 74.3 MB/s \n",
            "\u001b[?25hRequirement already satisfied: seaborn<1,>=0.8.1 in /usr/local/lib/python3.7/dist-packages (from recommenders) (0.11.2)\n",
            "Requirement already satisfied: nltk<4,>=3.4 in /usr/local/lib/python3.7/dist-packages (from recommenders) (3.7)\n",
            "Collecting transformers<5,>=2.5.0\n",
            "  Downloading transformers-4.21.2-py3-none-any.whl (4.7 MB)\n",
            "\u001b[K     |████████████████████████████████| 4.7 MB 86.2 MB/s \n",
            "\u001b[?25hCollecting memory-profiler<1,>=0.54.0\n",
            "  Downloading memory_profiler-0.60.0.tar.gz (38 kB)\n",
            "Collecting cornac<2,>=1.1.2\n",
            "  Downloading cornac-1.14.2-cp37-cp37m-manylinux1_x86_64.whl (12.4 MB)\n",
            "\u001b[K     |████████████████████████████████| 12.4 MB 43.1 MB/s \n",
            "\u001b[?25hRequirement already satisfied: numba<1,>=0.38.1 in /usr/local/lib/python3.7/dist-packages (from recommenders) (0.56.0)\n",
            "Requirement already satisfied: jinja2<3.1,>=2 in /usr/local/lib/python3.7/dist-packages (from recommenders) (2.11.3)\n",
            "Collecting scikit-surprise>=1.0.6\n",
            "  Downloading scikit-surprise-1.1.1.tar.gz (11.8 MB)\n",
            "\u001b[K     |████████████████████████████████| 11.8 MB 70.8 MB/s \n",
            "\u001b[?25hRequirement already satisfied: pandas<2,>1.0.3 in /usr/local/lib/python3.7/dist-packages (from recommenders) (1.3.5)\n",
            "Requirement already satisfied: numpy>=1.19 in /usr/local/lib/python3.7/dist-packages (from recommenders) (1.21.6)\n",
            "Collecting bottleneck<2,>=1.2.1\n",
            "  Downloading Bottleneck-1.3.5-cp37-cp37m-manylinux_2_5_x86_64.manylinux1_x86_64.manylinux_2_17_x86_64.manylinux2014_x86_64.whl (355 kB)\n",
            "\u001b[K     |████████████████████████████████| 355 kB 67.6 MB/s \n",
            "\u001b[?25hRequirement already satisfied: matplotlib<4,>=2.2.2 in /usr/local/lib/python3.7/dist-packages (from recommenders) (3.2.2)\n",
            "Requirement already satisfied: scikit-learn<1.0.3,>=0.22.1 in /usr/local/lib/python3.7/dist-packages (from recommenders) (1.0.2)\n",
            "Collecting pyyaml<6,>=5.4.1\n",
            "  Downloading PyYAML-5.4.1-cp37-cp37m-manylinux1_x86_64.whl (636 kB)\n",
            "\u001b[K     |████████████████████████████████| 636 kB 86.5 MB/s \n",
            "\u001b[?25hRequirement already satisfied: lightgbm>=2.2.1 in /usr/local/lib/python3.7/dist-packages (from recommenders) (2.2.3)\n",
            "Requirement already satisfied: statsmodels>=0.6.1 in /usr/local/lib/python3.7/dist-packages (from category-encoders<2,>=1.3.0->recommenders) (0.12.2)\n",
            "Requirement already satisfied: patsy>=0.4.1 in /usr/local/lib/python3.7/dist-packages (from category-encoders<2,>=1.3.0->recommenders) (0.5.2)\n",
            "Collecting powerlaw\n",
            "  Downloading powerlaw-1.5-py3-none-any.whl (24 kB)\n",
            "Requirement already satisfied: MarkupSafe>=0.23 in /usr/local/lib/python3.7/dist-packages (from jinja2<3.1,>=2->recommenders) (2.0.1)\n",
            "Requirement already satisfied: pyparsing!=2.0.4,!=2.1.2,!=2.1.6,>=2.0.1 in /usr/local/lib/python3.7/dist-packages (from matplotlib<4,>=2.2.2->recommenders) (3.0.9)\n",
            "Requirement already satisfied: python-dateutil>=2.1 in /usr/local/lib/python3.7/dist-packages (from matplotlib<4,>=2.2.2->recommenders) (2.8.2)\n",
            "Requirement already satisfied: cycler>=0.10 in /usr/local/lib/python3.7/dist-packages (from matplotlib<4,>=2.2.2->recommenders) (0.11.0)\n",
            "Requirement already satisfied: kiwisolver>=1.0.1 in /usr/local/lib/python3.7/dist-packages (from matplotlib<4,>=2.2.2->recommenders) (1.4.4)\n",
            "Requirement already satisfied: typing-extensions in /usr/local/lib/python3.7/dist-packages (from kiwisolver>=1.0.1->matplotlib<4,>=2.2.2->recommenders) (4.1.1)\n",
            "Requirement already satisfied: psutil in /usr/local/lib/python3.7/dist-packages (from memory-profiler<1,>=0.54.0->recommenders) (5.4.8)\n",
            "Requirement already satisfied: joblib in /usr/local/lib/python3.7/dist-packages (from nltk<4,>=3.4->recommenders) (1.1.0)\n",
            "Requirement already satisfied: regex>=2021.8.3 in /usr/local/lib/python3.7/dist-packages (from nltk<4,>=3.4->recommenders) (2022.6.2)\n",
            "Requirement already satisfied: click in /usr/local/lib/python3.7/dist-packages (from nltk<4,>=3.4->recommenders) (7.1.2)\n",
            "Requirement already satisfied: importlib-metadata in /usr/local/lib/python3.7/dist-packages (from numba<1,>=0.38.1->recommenders) (4.12.0)\n",
            "Requirement already satisfied: setuptools in /usr/local/lib/python3.7/dist-packages (from numba<1,>=0.38.1->recommenders) (57.4.0)\n",
            "Requirement already satisfied: llvmlite<0.40,>=0.39.0dev0 in /usr/local/lib/python3.7/dist-packages (from numba<1,>=0.38.1->recommenders) (0.39.0)\n",
            "Requirement already satisfied: pytz>=2017.3 in /usr/local/lib/python3.7/dist-packages (from pandas<2,>1.0.3->recommenders) (2022.2.1)\n",
            "Requirement already satisfied: pyarrow in /usr/local/lib/python3.7/dist-packages (from pandera[strategies]>=0.6.5->recommenders) (6.0.1)\n",
            "Collecting typing-inspect>=0.6.0\n",
            "  Downloading typing_inspect-0.8.0-py3-none-any.whl (8.7 kB)\n",
            "Requirement already satisfied: packaging>=20.0 in /usr/local/lib/python3.7/dist-packages (from pandera[strategies]>=0.6.5->recommenders) (21.3)\n",
            "Requirement already satisfied: wrapt in /usr/local/lib/python3.7/dist-packages (from pandera[strategies]>=0.6.5->recommenders) (1.14.1)\n",
            "Requirement already satisfied: pydantic in /usr/local/lib/python3.7/dist-packages (from pandera[strategies]>=0.6.5->recommenders) (1.9.2)\n",
            "Collecting hypothesis>=5.41.1\n",
            "  Downloading hypothesis-6.54.4-py3-none-any.whl (390 kB)\n",
            "\u001b[K     |████████████████████████████████| 390 kB 69.7 MB/s \n",
            "\u001b[?25hRequirement already satisfied: attrs>=19.2.0 in /usr/local/lib/python3.7/dist-packages (from hypothesis>=5.41.1->pandera[strategies]>=0.6.5->recommenders) (22.1.0)\n",
            "Collecting exceptiongroup>=1.0.0rc8\n",
            "  Downloading exceptiongroup-1.0.0rc9-py3-none-any.whl (12 kB)\n",
            "Requirement already satisfied: sortedcontainers<3.0.0,>=2.1.0 in /usr/local/lib/python3.7/dist-packages (from hypothesis>=5.41.1->pandera[strategies]>=0.6.5->recommenders) (2.4.0)\n",
            "Requirement already satisfied: six in /usr/local/lib/python3.7/dist-packages (from patsy>=0.4.1->category-encoders<2,>=1.3.0->recommenders) (1.15.0)\n",
            "Requirement already satisfied: idna<3,>=2.5 in /usr/local/lib/python3.7/dist-packages (from requests<3,>=2.0.0->recommenders) (2.10)\n",
            "Requirement already satisfied: urllib3!=1.25.0,!=1.25.1,<1.26,>=1.21.1 in /usr/local/lib/python3.7/dist-packages (from requests<3,>=2.0.0->recommenders) (1.24.3)\n",
            "Requirement already satisfied: certifi>=2017.4.17 in /usr/local/lib/python3.7/dist-packages (from requests<3,>=2.0.0->recommenders) (2022.6.15)\n",
            "Requirement already satisfied: chardet<4,>=3.0.2 in /usr/local/lib/python3.7/dist-packages (from requests<3,>=2.0.0->recommenders) (3.0.4)\n",
            "Requirement already satisfied: threadpoolctl>=2.0.0 in /usr/local/lib/python3.7/dist-packages (from scikit-learn<1.0.3,>=0.22.1->recommenders) (3.1.0)\n",
            "Collecting tokenizers!=0.11.3,<0.13,>=0.11.1\n",
            "  Downloading tokenizers-0.12.1-cp37-cp37m-manylinux_2_12_x86_64.manylinux2010_x86_64.whl (6.6 MB)\n",
            "\u001b[K     |████████████████████████████████| 6.6 MB 84.7 MB/s \n",
            "\u001b[?25hRequirement already satisfied: filelock in /usr/local/lib/python3.7/dist-packages (from transformers<5,>=2.5.0->recommenders) (3.8.0)\n",
            "Collecting huggingface-hub<1.0,>=0.1.0\n",
            "  Downloading huggingface_hub-0.9.1-py3-none-any.whl (120 kB)\n",
            "\u001b[K     |████████████████████████████████| 120 kB 77.6 MB/s \n",
            "\u001b[?25hCollecting mypy-extensions>=0.3.0\n",
            "  Downloading mypy_extensions-0.4.3-py2.py3-none-any.whl (4.5 kB)\n",
            "Requirement already satisfied: zipp>=0.5 in /usr/local/lib/python3.7/dist-packages (from importlib-metadata->numba<1,>=0.38.1->recommenders) (3.8.1)\n",
            "Requirement already satisfied: mpmath in /usr/local/lib/python3.7/dist-packages (from powerlaw->cornac<2,>=1.1.2->recommenders) (1.2.1)\n",
            "Building wheels for collected packages: lightfm, memory-profiler, retrying, scikit-surprise\n",
            "  Building wheel for lightfm (setup.py) ... \u001b[?25l\u001b[?25hdone\n",
            "  Created wheel for lightfm: filename=lightfm-1.16-cp37-cp37m-linux_x86_64.whl size=705359 sha256=fd3c611e5af74172f75c149cbb36b40cc3d760077a00da48fe3e398ea2277c6d\n",
            "  Stored in directory: /root/.cache/pip/wheels/f8/56/28/5772a3bd3413d65f03aa452190b00898b680b10028a1021914\n",
            "  Building wheel for memory-profiler (setup.py) ... \u001b[?25l\u001b[?25hdone\n",
            "  Created wheel for memory-profiler: filename=memory_profiler-0.60.0-py3-none-any.whl size=31284 sha256=946c6bd86453afa7c55d8db4e31cbe26868bb8cf593f2f3f95476e94c9d61b4a\n",
            "  Stored in directory: /root/.cache/pip/wheels/67/2b/fb/326e30d638c538e69a5eb0aa47f4223d979f502bbdb403950f\n",
            "  Building wheel for retrying (setup.py) ... \u001b[?25l\u001b[?25hdone\n",
            "  Created wheel for retrying: filename=retrying-1.3.3-py3-none-any.whl size=11447 sha256=3396b842ab36b92e5eef2864a73a7122ebb614645d4892086ea1541bdf25341d\n",
            "  Stored in directory: /root/.cache/pip/wheels/f9/8d/8d/f6af3f7f9eea3553bc2fe6d53e4b287dad18b06a861ac56ddf\n",
            "  Building wheel for scikit-surprise (setup.py) ... \u001b[?25l\u001b[?25hdone\n",
            "  Created wheel for scikit-surprise: filename=scikit_surprise-1.1.1-cp37-cp37m-linux_x86_64.whl size=1634002 sha256=7bde3f561c55b8138e2524d606c8070b463b41d318acf6fcdf88455678708a89\n",
            "  Stored in directory: /root/.cache/pip/wheels/76/44/74/b498c42be47b2406bd27994e16c5188e337c657025ab400c1c\n",
            "Successfully built lightfm memory-profiler retrying scikit-surprise\n",
            "Installing collected packages: mypy-extensions, typing-inspect, pyyaml, exceptiongroup, tokenizers, powerlaw, pandera, hypothesis, huggingface-hub, transformers, scikit-surprise, retrying, memory-profiler, lightfm, cornac, category-encoders, bottleneck, recommenders\n",
            "  Attempting uninstall: pyyaml\n",
            "    Found existing installation: PyYAML 6.0\n",
            "    Uninstalling PyYAML-6.0:\n",
            "      Successfully uninstalled PyYAML-6.0\n",
            "Successfully installed bottleneck-1.3.5 category-encoders-1.3.0 cornac-1.14.2 exceptiongroup-1.0.0rc9 huggingface-hub-0.9.1 hypothesis-6.54.4 lightfm-1.16 memory-profiler-0.60.0 mypy-extensions-0.4.3 pandera-0.9.0 powerlaw-1.5 pyyaml-5.4.1 recommenders-1.1.1 retrying-1.3.3 scikit-surprise-1.1.1 tokenizers-0.12.1 transformers-4.21.2 typing-inspect-0.8.0\n"
          ]
        }
      ]
    },
    {
      "cell_type": "code",
      "source": [
        "import tensorflow as tf\n",
        "tf.get_logger().setLevel('ERROR') # only show error messages\n",
        "\n",
        "from recommenders.utils.constants import (\n",
        "    DEFAULT_USER_COL as USER_COL,\n",
        "    DEFAULT_ITEM_COL as ITEM_COL,\n",
        "    DEFAULT_RATING_COL as RATING_COL,\n",
        "    DEFAULT_PREDICTION_COL as PREDICT_COL,\n",
        "    DEFAULT_GENRE_COL as ITEM_FEAT_COL,\n",
        "    SEED\n",
        ")\n",
        "from recommenders.utils import tf_utils, gpu_utils, plot\n",
        "from recommenders.datasets import movielens\n",
        "from recommenders.datasets.pandas_df_utils import user_item_pairs\n",
        "from recommenders.datasets.python_splitters import python_random_split,python_stratified_split\n",
        "import recommenders.evaluation.python_evaluation as evaluator\n",
        "import recommenders.models.wide_deep.wide_deep_utils as wide_deep\n",
        "\n",
        "print(\"Tensorflow Version:\", tf.__version__)\n",
        "print(\"GPUs:\\n\", gpu_utils.get_gpu_info())"
      ],
      "metadata": {
        "colab": {
          "base_uri": "https://localhost:8080/"
        },
        "id": "mXkrePQ7-10L",
        "outputId": "c6570596-5f4b-4a98-90af-fd2cf40f83c3"
      },
      "id": "mXkrePQ7-10L",
      "execution_count": null,
      "outputs": [
        {
          "output_type": "stream",
          "name": "stdout",
          "text": [
            "Tensorflow Version: 2.8.2\n",
            "GPUs:\n",
            " [{'device_name': 'Tesla P100-PCIE-16GB', 'total_memory': 16280.875, 'free_memory': 16025.75}]\n"
          ]
        }
      ]
    },
    {
      "cell_type": "markdown",
      "id": "85495bf1",
      "metadata": {
        "id": "85495bf1"
      },
      "source": [
        "### Book  Dataset\n",
        "https://www.kaggle.com/datasets/arashnic/book-recommendation-dataset\n"
      ]
    },
    {
      "cell_type": "code",
      "source": [
        "!pip install gdown"
      ],
      "metadata": {
        "id": "3mSlGMHVpAt_",
        "colab": {
          "base_uri": "https://localhost:8080/"
        },
        "outputId": "7e9a4b2f-2826-4afa-f31c-babdf7984d83"
      },
      "id": "3mSlGMHVpAt_",
      "execution_count": null,
      "outputs": [
        {
          "output_type": "stream",
          "name": "stdout",
          "text": [
            "Looking in indexes: https://pypi.org/simple, https://us-python.pkg.dev/colab-wheels/public/simple/\n",
            "Requirement already satisfied: gdown in /usr/local/lib/python3.7/dist-packages (4.4.0)\n",
            "Requirement already satisfied: filelock in /usr/local/lib/python3.7/dist-packages (from gdown) (3.8.0)\n",
            "Requirement already satisfied: beautifulsoup4 in /usr/local/lib/python3.7/dist-packages (from gdown) (4.6.3)\n",
            "Requirement already satisfied: tqdm in /usr/local/lib/python3.7/dist-packages (from gdown) (4.64.0)\n",
            "Requirement already satisfied: six in /usr/local/lib/python3.7/dist-packages (from gdown) (1.15.0)\n",
            "Requirement already satisfied: requests[socks] in /usr/local/lib/python3.7/dist-packages (from gdown) (2.23.0)\n",
            "Requirement already satisfied: idna<3,>=2.5 in /usr/local/lib/python3.7/dist-packages (from requests[socks]->gdown) (2.10)\n",
            "Requirement already satisfied: chardet<4,>=3.0.2 in /usr/local/lib/python3.7/dist-packages (from requests[socks]->gdown) (3.0.4)\n",
            "Requirement already satisfied: urllib3!=1.25.0,!=1.25.1,<1.26,>=1.21.1 in /usr/local/lib/python3.7/dist-packages (from requests[socks]->gdown) (1.24.3)\n",
            "Requirement already satisfied: certifi>=2017.4.17 in /usr/local/lib/python3.7/dist-packages (from requests[socks]->gdown) (2022.6.15)\n",
            "Requirement already satisfied: PySocks!=1.5.7,>=1.5.6 in /usr/local/lib/python3.7/dist-packages (from requests[socks]->gdown) (1.7.1)\n"
          ]
        }
      ]
    },
    {
      "cell_type": "code",
      "source": [
        "!gdown https://drive.google.com/uc?id=1TE3vZZf0yq9J2sTbDFL7BFNCDQIG6Nd-"
      ],
      "metadata": {
        "colab": {
          "base_uri": "https://localhost:8080/"
        },
        "id": "JN6L-XVUpDB3",
        "outputId": "003587bb-4012-4ffe-bce6-0e2ecc2edad0"
      },
      "id": "JN6L-XVUpDB3",
      "execution_count": null,
      "outputs": [
        {
          "output_type": "stream",
          "name": "stdout",
          "text": [
            "Downloading...\n",
            "From: https://drive.google.com/uc?id=1TE3vZZf0yq9J2sTbDFL7BFNCDQIG6Nd-\n",
            "To: /content/Books.zip\n",
            "100% 25.0M/25.0M [00:00<00:00, 177MB/s] \n"
          ]
        }
      ]
    },
    {
      "cell_type": "code",
      "source": [
        "!unzip \"Books.zip\"  -d  \"/content\""
      ],
      "metadata": {
        "colab": {
          "base_uri": "https://localhost:8080/"
        },
        "id": "ncJF1kivt_uR",
        "outputId": "ea7c31dd-3077-43f5-b25e-a7be09927dff"
      },
      "id": "ncJF1kivt_uR",
      "execution_count": null,
      "outputs": [
        {
          "output_type": "stream",
          "name": "stdout",
          "text": [
            "Archive:  Books.zip\n",
            "  inflating: /content/Books.csv      \n",
            "  inflating: /content/Ratings.csv    \n",
            "  inflating: /content/Users.csv      \n"
          ]
        }
      ]
    },
    {
      "cell_type": "code",
      "execution_count": null,
      "id": "3fb6d6a6",
      "metadata": {
        "id": "3fb6d6a6",
        "outputId": "2604805d-ed5b-4e28-d4b1-1f1401a33d93",
        "colab": {
          "base_uri": "https://localhost:8080/"
        }
      },
      "outputs": [
        {
          "output_type": "stream",
          "name": "stderr",
          "text": [
            "/usr/local/lib/python3.7/dist-packages/IPython/core/interactiveshell.py:3326: DtypeWarning: Columns (3) have mixed types.Specify dtype option on import or set low_memory=False.\n",
            "  exec(code_obj, self.user_global_ns, self.user_ns)\n"
          ]
        }
      ],
      "source": [
        "rating_df = pd.read_csv('Ratings.csv')\n",
        "book_df = pd.read_csv('Books.csv')"
      ]
    },
    {
      "cell_type": "code",
      "source": [
        "rating_df=pd.merge(rating_df,book_df,on=\"ISBN\",how=\"left\")\n",
        "rating_df['Book-Rating'].hist()"
      ],
      "metadata": {
        "colab": {
          "base_uri": "https://localhost:8080/",
          "height": 282
        },
        "id": "ATZBESMYuHbQ",
        "outputId": "a684025f-ee38-4e33-e176-4ec0128f58ce"
      },
      "id": "ATZBESMYuHbQ",
      "execution_count": null,
      "outputs": [
        {
          "output_type": "execute_result",
          "data": {
            "text/plain": [
              "<matplotlib.axes._subplots.AxesSubplot at 0x7fcaa8770e90>"
            ]
          },
          "metadata": {},
          "execution_count": 8
        },
        {
          "output_type": "display_data",
          "data": {
            "text/plain": [
              "<Figure size 432x288 with 1 Axes>"
            ],
            "image/png": "[encoded data removed]"
          },
          "metadata": {}
        }
      ]
    },
    {
      "cell_type": "code",
      "source": [],
      "metadata": {
        "id": "tk2ph3tSOJrT"
      },
      "id": "tk2ph3tSOJrT",
      "execution_count": null,
      "outputs": []
    },
    {
      "cell_type": "code",
      "execution_count": null,
      "id": "4d90b4b9",
      "metadata": {
        "id": "4d90b4b9"
      },
      "outputs": [],
      "source": [
        "y = rating_df.groupby('Book-Title').count()['Book-Rating']>=100\n",
        "books = y[y].index\n",
        "rating_df = rating_df[rating_df['Book-Title'].isin(books)]"
      ]
    },
    {
      "cell_type": "code",
      "execution_count": null,
      "id": "eea71c87",
      "metadata": {
        "id": "eea71c87"
      },
      "outputs": [],
      "source": [
        "x = rating_df.groupby('User-ID').count()['Book-Rating'] > 100\n",
        "userIndex = x[x].index\n",
        "rating_df=rating_df[rating_df['User-ID'].isin(userIndex)]\n"
      ]
    },
    {
      "cell_type": "code",
      "source": [
        "rating_df=rating_df.dropna()"
      ],
      "metadata": {
        "id": "jvv3iPQN5zAA"
      },
      "id": "jvv3iPQN5zAA",
      "execution_count": null,
      "outputs": []
    },
    {
      "cell_type": "code",
      "source": [
        "rating_df=rating_df[['User-ID','Book-Title','Book-Author','Book-Rating']]\n",
        "rating_df.rename(columns = {'User-ID':'userID', 'Book-Title':'itemID','Book-Author':'author','Book-Rating':'rating'}, inplace = True)"
      ],
      "metadata": {
        "id": "vhlzzCjB56R3"
      },
      "id": "vhlzzCjB56R3",
      "execution_count": null,
      "outputs": []
    },
    {
      "cell_type": "code",
      "source": [
        "\n",
        "rating_df[\"itemID\"] = rating_df[\"itemID\"].astype(str)\n",
        "rating_df[\"userID\"] = rating_df[\"userID\"].astype(str)\n",
        "rating_df[\"author\"] = rating_df[\"author\"].astype(str)"
      ],
      "metadata": {
        "id": "sZPaHa4i-oAr"
      },
      "id": "sZPaHa4i-oAr",
      "execution_count": null,
      "outputs": []
    },
    {
      "cell_type": "code",
      "execution_count": null,
      "id": "428a493a",
      "metadata": {
        "id": "428a493a",
        "outputId": "6051ab12-b718-4690-b925-16b65844f524",
        "colab": {
          "base_uri": "https://localhost:8080/",
          "height": 302
        }
      },
      "outputs": [
        {
          "output_type": "execute_result",
          "data": {
            "text/plain": [
              "<matplotlib.axes._subplots.AxesSubplot at 0x7fcab1c0d210>"
            ]
          },
          "metadata": {},
          "execution_count": 14
        },
        {
          "output_type": "display_data",
          "data": {
            "text/plain": [
              "<Figure size 432x288 with 1 Axes>"
            ],
            "image/png": "[encoded data removed]"
          },
          "metadata": {}
        }
      ],
      "source": [
        "rating_df.groupby(['rating']).size().plot(kind = \"bar\")"
      ]
    },
    {
      "cell_type": "markdown",
      "source": [
        "Parameters"
      ],
      "metadata": {
        "id": "u0ovaK0k_R2x"
      },
      "id": "u0ovaK0k_R2x"
    },
    {
      "cell_type": "code",
      "source": [
        "\"\"\"Parameters (papermill)\"\"\"\n",
        "\n",
        "# Recommend top k items\n",
        "TOP_K = 10\n",
        "# Select MovieLens data size: 100k, 1m, 10m, or 20m\n",
        "MOVIELENS_DATA_SIZE = '100k'\n",
        "# Metrics to use for evaluation\n",
        "RANKING_METRICS = [\n",
        "    evaluator.ndcg_at_k.__name__,\n",
        "    evaluator.precision_at_k.__name__,\n",
        "]\n",
        "RATING_METRICS = [\n",
        "    evaluator.rmse.__name__,\n",
        "    evaluator.mae.__name__,\n",
        "]\n",
        "# Use session hook to evaluate model while training\n",
        "EVALUATE_WHILE_TRAINING = True\n",
        "\n",
        "RANDOM_SEED = SEED  # Set seed for deterministic result\n",
        "\n",
        "# Train and test set pickle file paths. If provided, use them. Otherwise, download the MovieLens dataset.\n",
        "DATA_DIR = None\n",
        "TRAIN_PICKLE_PATH = None\n",
        "TEST_PICKLE_PATH = None\n",
        "EXPORT_DIR_BASE = './outputs/model'\n",
        "# Model checkpoints directory. If None, use temp-dir.\n",
        "MODEL_DIR = None\n",
        "\n",
        "#### Hyperparameters\n",
        "MODEL_TYPE = 'wide_deep'\n",
        "STEPS = 50000  # Number of batches to train\n",
        "BATCH_SIZE = 32\n",
        "# Wide (linear) model hyperparameters\n",
        "LINEAR_OPTIMIZER = 'adagrad'\n",
        "LINEAR_OPTIMIZER_LR = 0.0621  # Learning rate\n",
        "LINEAR_L1_REG = 0.0           # Regularization rate for FtrlOptimizer\n",
        "LINEAR_L2_REG = 0.0\n",
        "LINEAR_MOMENTUM = 0.0         # Momentum for MomentumOptimizer or RMSPropOptimizer\n",
        "# DNN model hyperparameters\n",
        "DNN_OPTIMIZER = 'adadelta'\n",
        "DNN_OPTIMIZER_LR = 0.1\n",
        "DNN_L1_REG = 0.0           # Regularization rate for FtrlOptimizer\n",
        "DNN_L2_REG = 0.0\n",
        "DNN_MOMENTUM = 0.0         # Momentum for MomentumOptimizer or RMSPropOptimizer\n",
        "# Layer dimensions. Defined as follows to make this notebook runnable from Hyperparameter tuning services like AzureML Hyperdrive\n",
        "DNN_HIDDEN_LAYER_1 = 0     # Set 0 to not use this layer\n",
        "DNN_HIDDEN_LAYER_2 = 64    # Set 0 to not use this layer\n",
        "DNN_HIDDEN_LAYER_3 = 128   # Set 0 to not use this layer\n",
        "DNN_HIDDEN_LAYER_4 = 512   # Note, at least one layer should have nodes.\n",
        "DNN_HIDDEN_UNITS = [h for h in [DNN_HIDDEN_LAYER_1, DNN_HIDDEN_LAYER_2, DNN_HIDDEN_LAYER_3, DNN_HIDDEN_LAYER_4] if h > 0]\n",
        "DNN_USER_DIM = 32          # User embedding feature dimension\n",
        "DNN_ITEM_DIM = 16          # Item embedding feature dimension\n",
        "DNN_DROPOUT = 0.8\n",
        "DNN_BATCH_NORM = 1         # 1 to use batch normalization, 0 if not."
      ],
      "metadata": {
        "id": "Ommta2Mf_Uro"
      },
      "id": "Ommta2Mf_Uro",
      "execution_count": null,
      "outputs": []
    },
    {
      "cell_type": "code",
      "source": [
        "data=rating_df"
      ],
      "metadata": {
        "id": "ql6J8Ciu_l4A"
      },
      "id": "ql6J8Ciu_l4A",
      "execution_count": null,
      "outputs": []
    },
    {
      "cell_type": "code",
      "source": [
        "ITEM_FEAT_COL=\"author\""
      ],
      "metadata": {
        "id": "tDSrA3As_puZ"
      },
      "id": "tDSrA3As_puZ",
      "execution_count": null,
      "outputs": []
    },
    {
      "cell_type": "markdown",
      "source": [
        " Encode Item Features"
      ],
      "metadata": {
        "id": "oAwtXmM3_2gK"
      },
      "id": "oAwtXmM3_2gK"
    },
    {
      "cell_type": "code",
      "source": [
        "import sklearn.preprocessing\n",
        "author_encoder = sklearn.preprocessing.MultiLabelBinarizer()\n",
        "data[ITEM_FEAT_COL] = author_encoder.fit_transform(\n",
        "        data[ITEM_FEAT_COL].apply(lambda s: s.split(\"|\"))\n",
        "    ).tolist()\n",
        "print(\"authors:\", author_encoder.classes_)\n",
        "display(data.head())"
      ],
      "metadata": {
        "colab": {
          "base_uri": "https://localhost:8080/",
          "height": 1000
        },
        "id": "WOLpOHOF_gCP",
        "outputId": "3fe398ad-c861-4923-fc40-4ca8ab91e38e"
      },
      "id": "WOLpOHOF_gCP",
      "execution_count": null,
      "outputs": [
        {
          "output_type": "stream",
          "name": "stdout",
          "text": [
            "Genres: ['A. Manette Ansay' 'A.S. BYATT' 'ALBERT CAMUS' 'ANN BRASHARES'\n",
            " 'ANN PACKER' 'ANNA QUINDLEN' 'ANNE FRANK' 'ANNE RICE' 'ANNE TYLER'\n",
            " 'Adriana Trigiani' 'Al Franken' 'Alan Lightman' 'Alan Rodgers'\n",
            " 'Albert Camus' 'Aldous Huxley' 'Alex Garland' 'Alexander McCall Smith'\n",
            " 'Alexandra Ripley' 'Alice Hoffman' 'Alice McDermott' 'Alice Mcdermott'\n",
            " 'Alice Sebold' 'Alice Walker' 'Alison Fraser' 'Alton Gansky' 'Amy Tan'\n",
            " 'Andre Dubus III' 'Anita Diamant' 'Anita Mills' 'Anita Shreve'\n",
            " 'Ann B. Ross' 'Ann Patchett' 'Ann Rule' 'Ann-Marie MacDonald'\n",
            " 'Anna Aaron' 'Anna Quindlen' 'Anne Rice' 'Anne Tyler' 'Annie Proulx'\n",
            " 'Anonymous' 'Antoine de Saint-ExupÃ©ry' 'Antoinette Stockenberg'\n",
            " 'Archer Mayor' 'Arlene Eisenberg' 'Arthur Golden' 'Arundhati Roy'\n",
            " 'Augusten Burroughs' 'Author Unknown' 'Ayn Rand' 'BELVA PLAIN'\n",
            " 'BERTRICE SMALL' 'Banana Yoshimoto' 'Barbara Cartland' 'Barbara Delinsky'\n",
            " 'Barbara Ehrenreich' 'Barbara Gowdy' 'Barbara Kingsolver' 'Belva Plain'\n",
            " 'Benjamin Hoff' 'Bernhard Schlink' 'Bertrice Small' 'Betty J. Eadie'\n",
            " 'Betty Rowlands' 'Betty Smith' 'Beverly Lewis' 'Bill Bryson' 'Bill Cosby'\n",
            " 'Bill Eidson' 'Billie Letts' 'Billy Graham' 'Brad Meltzer'\n",
            " 'Breena Clarke' 'Brenda Joyce' 'Bret Easton Ellis' 'Bret Lott'\n",
            " 'Brian Jacques' 'CARL HIAASEN' 'CHARLES FRAZIER' 'CHRISTINA SCHWARZ'\n",
            " 'CHUCK PALAHNIUK' 'CLARISSA PINKOLA PHD ESTES' 'CORMAC MCCARTHY'\n",
            " 'Caleb Carr' 'Candace Bushnell' 'Carl Hiaasen' 'Carl Sagan'\n",
            " 'Carly Phillips' 'Carol Brown Janeway' 'Carol Ellis'\n",
            " 'Carol Higgins Clark' 'Carol Shields' 'Caroline B. Cooney'\n",
            " 'Carolyn Parkhurst' 'Catherine Coulter' 'Catherine Hart'\n",
            " 'Catherine Ryan Hyde' 'Charles Frazier' 'Charles Grant' 'Charles Veley'\n",
            " 'Charlotte Lamb' 'Chris Bohjalian' 'Chris Dyer' 'Chris Loken'\n",
            " 'Christina Schwarz' 'Christopher Moore' 'Chuck Palahniuk' 'Clive Cussler'\n",
            " 'Colleen McCullough' \"Constance O'Day-Flannery\" 'Cornelia Funke'\n",
            " 'Cynthia Blair' 'Cynthia Voigt' 'DAI SIJIE' 'DAN BROWN' 'DANIELLE STEEL'\n",
            " 'DEAN KOONTZ' 'DIANA GABALDON' 'DIANE MOTT DAVIDSON' 'DONNA TARTT'\n",
            " 'DOROTHY GILMAN' 'Dan Brown' 'Danice Allen' 'Daniel Quinn'\n",
            " 'Danielle Steel' 'Daphne Du Maurier' 'Daphne du Maurier' 'Dava Sobel'\n",
            " 'Dave Barry' 'Dave Eggers' 'Dave Pelzer' 'David Baldacci'\n",
            " 'David Guterson' 'David J. Pelzer' 'David L. Lindsey' 'David Lindsey'\n",
            " 'David Sedaris' 'Dean Koontz' 'Dean R. Koontz' 'Denis Johnson'\n",
            " 'Dennis Lehane' 'Diana Gabaldon' 'Diane Mott Davidson' 'Dick Francis'\n",
            " 'Dinah McCall' 'Dodie Smith' 'Don Miguel Ruiz' 'Donna Tartt'\n",
            " 'Dorothy Allison' 'Dorothy West' 'Douglas Adams' 'Douglas Preston'\n",
            " 'E. B. White' 'EMILY BRONTE' 'Earl W. Emerson' 'Echo Heron' 'Ed McBain'\n",
            " 'Edwidge Danticat' 'Elena Castedo' 'Elie Wiesel' 'Elizabeth Berg'\n",
            " 'Elizabeth Faucher' 'Elizabeth James' 'Ellen Rimbauer' 'Emilie Richards'\n",
            " 'Emily Bronte' 'Emma Donoghue' 'Emma McLaughlin' 'Eoin Colfer'\n",
            " 'Eric L. Harry' 'Eric Schlosser' 'Ernest J. Gaines' 'F. Scott Fitzgerald'\n",
            " 'FANNIE FLAGG' 'Fannie Flagg' 'Fay Nedra Zachary' 'Fay Weldon'\n",
            " 'Faye Kellerman' 'Frances H. Burnett' 'Frances Hodgson Burnett'\n",
            " 'Frances Mayes' 'Francis Roe' 'Francois Mauriac' 'Frank Herbert'\n",
            " 'Frank Lauria' 'Frank McCourt' 'Frank Mccourt' 'Gabriel Garcia Marquez'\n",
            " 'Gail Tsukiyama' 'Garrison Keillor' 'George Orwell' 'Georgia Bockoven'\n",
            " 'Geraldine Brooks' 'Gilda Radner' 'Golden Books' 'Graham Masterton'\n",
            " 'Greg Iles' 'Greg Matthews' 'Gregory Maguire' 'Guy Dauncey'\n",
            " 'Gwyn Hyman Rubio' 'Gwynn Rubio' 'H. C. Anderson' 'H.C. Andersen'\n",
            " 'HARLAN COBEN' 'HAVEN KIMMEL' 'Ha Jin' 'Hal Friedman' 'Hannah Alexander'\n",
            " 'Harlan Coben' 'Harper Lee' 'Helen Fielding' 'Helene Hanff'\n",
            " 'Hermann Hesse' 'IAN MCEWAN' 'IRIS JOHANSEN' 'Iain Pears' 'Ian McEwan'\n",
            " 'Iris Johansen' 'Irving' 'Isabel Allende' 'J. D. Salinger'\n",
            " 'J. K. Rowling' 'J. R. R. Tolkien' 'J.D. Robb' 'J.D. Salinger'\n",
            " 'J.R.R. TOLKIEN' 'J.R.R. Tolkien' 'JANE SMILEY' 'JEAN M. AUEL'\n",
            " 'JERRY SPINELLI' 'JILL CONNER BROWNE' 'JOHN BERENDT' 'JOHN GRISHAM'\n",
            " 'JOHN IRVING' 'JOHN SAUL' 'JON KRAKAUER' 'JONATHAN HARR'\n",
            " 'JONATHAN KELLERMAN' 'JULIA GLASS' 'Jack Canfield' 'Jack Kerouac'\n",
            " 'Jack London' 'Jacquelyn Mitchard' 'James A. Michener'\n",
            " 'James Finn Garner' 'James McBride' 'James Neal Harvey' 'James Patterson'\n",
            " 'James Redfield' 'Jan Karon' 'Jane Austen' 'Jane Green' 'Jane Hamilton'\n",
            " 'Jane Rule' 'Jane Smiley' 'Janet Dailey' 'Janet Evanovich' 'Janet Fitch'\n",
            " 'Janis Flores' 'Jasper Fforde' 'Jay Johnstone' 'Jean M. Auel'\n",
            " 'Jeff Deaver' 'Jefferson Carter' 'Jeffery Deaver' 'Jeffrey Eugenides'\n",
            " 'Jeffrey Konvitz' 'Jennifer Crusie' 'Jennifer Lauck' 'Jennifer Weiner'\n",
            " 'Jerry Seinfeld' 'Jhumpa Lahiri' 'Jim Debrosse' 'Joan Grant'\n",
            " 'Joan Johnston' 'Joan Wolf' 'Joanne Harris' 'Jodi Picoult' 'John Berendt'\n",
            " 'John Case' 'John Gray' 'John Grisham' 'John Irving' 'John Kennedy Toole'\n",
            " 'John Knowles' 'John Russo' 'John Sandford' 'John Sanford' 'John Saul'\n",
            " 'John Steinbeck' 'Jon Krakauer' 'Jonathan Franzen' 'Jonathan Harr'\n",
            " 'Jonathan Kellerman' 'Joseph Amiel' 'Joseph Heller' 'Joseph P. Desario'\n",
            " 'Josie Lloyd' 'Jostein Gaarder' 'Joyce Carol Oates' 'Joyce Carol Thomas'\n",
            " 'Joyce Reardon' 'Jude Deveraux' 'Judith Marshall' 'Judith McNaught'\n",
            " 'Judy Blume' 'Julia Alvarez' 'Julia Glass' 'Julie Ellis' 'Julie Garwood'\n",
            " 'June Easton' 'KAREN ROBARDS' 'KATHERINE NEVILLE' 'KENT HARUF'\n",
            " 'Karen Robards' 'Katherine Dunn' 'Katherine Neville' 'Katherine Paterson'\n",
            " 'Kathryn Harrison' 'Kathryn Reines' 'Kathy Reichs' 'Kaye Gibbons'\n",
            " 'Kazuo Ishiguro' 'Ken Follett' 'Ken Goddard' 'Ken Kesey' 'Kerry Tucker'\n",
            " 'Kirk Douglas' 'Kurt Vonnegut' \"L'Engle Madelein\" 'L.M. MONTGOMERY'\n",
            " 'L.M. Montgomery' 'LAURA ESQUIVEL' 'LAURA HILLENBRAND'\n",
            " 'LAUREN WEISBERGER' 'LISA GARDNER' 'LOIS LOWRY' 'LOUIS DE BERNIERES'\n",
            " 'LOUIS SACHAR' 'LaVyrle Spencer' 'Lalita Tademy' 'Lance Armstrong'\n",
            " 'Laura Esquivel' 'Laura Wolf' 'Laurell K. Hamilton' 'Laurie Notaro'\n",
            " 'Lavyrle Spencer' 'Leif Enger' 'Leigh Nichols' 'Lemony Snicket'\n",
            " 'Leslie Li' 'Lillian Stewart Carl' 'Linda Cullen' 'Linda Howard'\n",
            " 'Lisa Gardner' 'Lisa Jackson' 'Lisa Scottoline' 'Lorenzo Carcaterra'\n",
            " 'Lorraine Murphy' 'Louise Rennison' 'Loup Durand' 'Luanne Rice'\n",
            " 'Lucy Maud Montgomery' 'Lyn Riddle' 'Lynne Truss' 'Lynsay Sands'\n",
            " 'M.J. Carr' \"MADELEINE L'ENGLE\" 'MAEVE BINCHY' 'MARGARET ATWOOD'\n",
            " 'MARION ZIMMER BRADLEY' 'MARY DORIA RUSSELL' 'MARY HIGGINS CLARK'\n",
            " 'MAYA ANGELOU' 'MICHAEL CRICHTON' 'MICHAEL ONDAATJE' 'MICHAEL SHAARA'\n",
            " 'MITCH ALBOM' \"Madeleine L'Engle\" 'Madeline Baker' 'Maeve Binchy'\n",
            " 'Marc Levy' 'Margaret Atwood' 'Margaret Eleanor Atwood' 'Marian Keyes'\n",
            " 'Marilyn Campbell' 'Mark Haddon' 'Mark Olshaker' 'Marlo Morgan'\n",
            " 'Mary Alice Monroe' 'Mary Doria Russell' 'Mary Higgins Clark' 'Mary Karr'\n",
            " 'Mary McGarry Morris' 'Mary Summer Rain' 'Matthew J. Costello'\n",
            " 'Maya Angelou' 'Meg Cabot' 'Meggin Cabot' 'Melinda Haynes' 'Melissa Bank'\n",
            " 'Michael Blake' 'Michael Cecilione' 'Michael Chabon' 'Michael Connelly'\n",
            " 'Michael Crichton' 'Michael Cunningham' 'Michael J. Fox' 'Michael Moore'\n",
            " 'Michael Ondaatje' 'Michael Shaara' 'Michael Stewart' 'Michel Faber'\n",
            " 'Mickey Friedman' 'Mitch Albom' 'Myla Goldberg' 'Myrna Grant' 'N. Lofts'\n",
            " 'NATHANIEL HAWTHORNE' 'NORTON JUSTER' 'Nancy Martin' 'Nancy Morse'\n",
            " 'Nathaniel Hawthorne' 'Neal Stephenson' 'Neil Gaiman' 'Nelson DeMille'\n",
            " 'Nelson Demille' 'Nevada Barr' 'Nicholas Evans' 'Nicholas Luard'\n",
            " 'Nicholas Sparks' 'Nick Hornby' 'Nora Roberts' 'Norma Fox Mazer'\n",
            " 'Norton Juster' 'Nuruddin Farah' \"O'Dell Scott\" 'Olga Bicos'\n",
            " 'Olive Ann Burns' 'Orson Scott Card' 'PAT CONROY' 'PATRICIA MACLACHLAN'\n",
            " 'PAUL REISER' 'PHILIP PULLMAN' 'Pat Conroy' 'Patricia Cornwell'\n",
            " 'Patricia D. Cornwell' 'Patricia Daniels Cornwell' 'Patricia Gaffney'\n",
            " 'Patricia MacLachlan' 'Paul Reiser' 'Paulo Coelho' 'Pearl Cleage'\n",
            " \"Perri O'Shaughnessy\" 'Peter Hoeg' 'Peter Mayle' 'Philip Pullman'\n",
            " 'Philippa Gregory' 'R. Garcia Y. Robertson' 'R. Kent Hughes'\n",
            " 'R. L. Stine' 'RAY BRADBURY' 'RICHARD NORTH PATTERSON' 'RICHARD RUSSO'\n",
            " 'ROBERT FULGHUM' 'ROBERT LUDLUM' 'ROBERT PIRSIG' 'ROSAMUNDE PILCHER'\n",
            " 'Ray Bradbury' 'Rebecca Wells' 'Rich Shapero' 'Richard Adams'\n",
            " 'Richard Bach' 'Richard Bachman' 'Richard Carlson' 'Richard George Adams'\n",
            " 'Richard North Patterson' 'Richard Paul Evans' 'Richard Preston'\n",
            " 'Richard Russo' 'Richard S. Wheeler' 'Roald Dahl' 'Robert A. Heinlein'\n",
            " 'Robert B. Parker' 'Robert C. Atkins' 'Robert Ferrigno' 'Robert Fulghum'\n",
            " 'Robert James Waller' 'Robert Jordan' 'Robert K. Massie' 'Robert Ludlum'\n",
            " 'Robert M. Pirsig' 'Robert Morgan' 'Robert Westbrook' 'Robin Cook'\n",
            " 'Rodman Philbrick' 'Rohinton Mistry' 'Ronda Thompson' 'Rosamunde Pilcher'\n",
            " 'Ruthanne Lum McCunn' 'SANDRA CISNEROS' \"SCOTT O'DELL\" 'SOPHIE KINSELLA'\n",
            " 'STEPHEN KING' 'SUE GRAFTON' 'SUE MILLER' 'SUSANNA KAYSEN' 'Sandra Brown'\n",
            " 'Sarah Ban Breathnach' 'Sarah Waters' 'Scott Edelman' \"Scott O'Dell\"\n",
            " 'Scott Turow' 'Sebastian Junger' 'Sena Jeter Naslund' 'Sharon Sala'\n",
            " 'Sheri Holman' 'Sheri Reynolds' 'Shirlee Busbee' 'Sidney Sheldon'\n",
            " 'Simon Winchester' 'Sophie Kinsella' 'Sound Editions' 'Spencer Johnson'\n",
            " 'Stan Redding' 'Stefan Fatsis' 'Stella Cameron' 'Stephen Chbosky'\n",
            " 'Stephen King' 'Stephen R. Covey' 'Steve Martin' 'Steve Martini'\n",
            " 'Stuart Woods' 'Sue Grafton' 'Sue Miller' 'Sue Monk Kidd' 'Susan Bowden'\n",
            " 'Susan Crandall' 'Susan Grant' 'Susan Strasberg' 'Susan Vreeland'\n",
            " 'Susanna Kaysen' 'Suzanne Brockmann' 'Suzanne Robinson' 'Sylvia Nasar'\n",
            " 'T. J. MacGregor' 'TAMI HOAG' 'TESS GERRITSEN' 'TONI MORRISON'\n",
            " 'Taichi Yamada' 'Talmadge-Bickmore Deborah' 'Tami Hoag' \"Tawni O'Dell\"\n",
            " \"Tawni O'dell\" 'Terry Brooks' 'Terry Coleman' 'Terry McMillan'\n",
            " 'Terry Pratchett' 'Tess Gerritsen' 'Thomas H. Cook' 'Thomas Harris'\n",
            " 'Thomas Keneally' 'Tim Allen' 'Tim F. Lahaye' 'Tim LaHaye' 'Tim Lahaye'\n",
            " 'Tom Clancy' 'Tom Wolfe' 'Toni Morrison' 'Tony Hawks' 'Tony Hillerman'\n",
            " 'Tracy Chevalier' 'Troy M. Litten' 'Umberto Eco' 'Ursula Hegi'\n",
            " 'Virginia Woolf' 'W. E. B. Griffin' 'WILLIAM GOLDMAN' 'Wally Lamb'\n",
            " 'Whitney Otto' 'Wilbur A. Smith' 'Wilbur Smith' 'William Gerald Golding'\n",
            " 'William Gibson' 'William Golding' 'William W. Johnstone' 'Wilson Rawls'\n",
            " 'Winston Groom' 'Yann Martel' 'Yann Queffelec' 'Zachary Alan Fox'\n",
            " 'Zadie Smith' 'Zora Neale Hurston']\n"
          ]
        },
        {
          "output_type": "display_data",
          "data": {
            "text/plain": [
              "      userID                                             itemID  \\\n",
              "1456  277427  Politically Correct Bedtime Stories: Modern Ta...   \n",
              "1468  277427                           A Tree Grows in Brooklyn   \n",
              "1469  277427                      The Poisonwood Bible: A Novel   \n",
              "1471  277427                                 Bel Canto: A Novel   \n",
              "1474  277427  One for the Money (Stephanie Plum Novels (Pape...   \n",
              "\n",
              "                                                 author  rating  \n",
              "1456  [0, 0, 0, 0, 0, 0, 0, 0, 0, 0, 0, 0, 0, 0, 0, ...      10  \n",
              "1468  [0, 0, 0, 0, 0, 0, 0, 0, 0, 0, 0, 0, 0, 0, 0, ...       0  \n",
              "1469  [0, 0, 0, 0, 0, 0, 0, 0, 0, 0, 0, 0, 0, 0, 0, ...       0  \n",
              "1471  [0, 0, 0, 0, 0, 0, 0, 0, 0, 0, 0, 0, 0, 0, 0, ...       0  \n",
              "1474  [0, 0, 0, 0, 0, 0, 0, 0, 0, 0, 0, 0, 0, 0, 0, ...       9  "
            ],
            "text/html": [
              "\n",
              "  <div id=\"df-c20423f1-97da-450f-8a24-b32377f539fd\">\n",
              "    <div class=\"colab-df-container\">\n",
              "      <div>\n",
              "<style scoped>\n",
              "    .dataframe tbody tr th:only-of-type {\n",
              "        vertical-align: middle;\n",
              "    }\n",
              "\n",
              "    .dataframe tbody tr th {\n",
              "        vertical-align: top;\n",
              "    }\n",
              "\n",
              "    .dataframe thead th {\n",
              "        text-align: right;\n",
              "    }\n",
              "</style>\n",
              "<table border=\"1\" class=\"dataframe\">\n",
              "  <thead>\n",
              "    <tr style=\"text-align: right;\">\n",
              "      <th></th>\n",
              "      <th>userID</th>\n",
              "      <th>itemID</th>\n",
              "      <th>author</th>\n",
              "      <th>rating</th>\n",
              "    </tr>\n",
              "  </thead>\n",
              "  <tbody>\n",
              "    <tr>\n",
              "      <th>1456</th>\n",
              "      <td>277427</td>\n",
              "      <td>Politically Correct Bedtime Stories: Modern Ta...</td>\n",
              "      <td>[0, 0, 0, 0, 0, 0, 0, 0, 0, 0, 0, 0, 0, 0, 0, ...</td>\n",
              "      <td>10</td>\n",
              "    </tr>\n",
              "    <tr>\n",
              "      <th>1468</th>\n",
              "      <td>277427</td>\n",
              "      <td>A Tree Grows in Brooklyn</td>\n",
              "      <td>[0, 0, 0, 0, 0, 0, 0, 0, 0, 0, 0, 0, 0, 0, 0, ...</td>\n",
              "      <td>0</td>\n",
              "    </tr>\n",
              "    <tr>\n",
              "      <th>1469</th>\n",
              "      <td>277427</td>\n",
              "      <td>The Poisonwood Bible: A Novel</td>\n",
              "      <td>[0, 0, 0, 0, 0, 0, 0, 0, 0, 0, 0, 0, 0, 0, 0, ...</td>\n",
              "      <td>0</td>\n",
              "    </tr>\n",
              "    <tr>\n",
              "      <th>1471</th>\n",
              "      <td>277427</td>\n",
              "      <td>Bel Canto: A Novel</td>\n",
              "      <td>[0, 0, 0, 0, 0, 0, 0, 0, 0, 0, 0, 0, 0, 0, 0, ...</td>\n",
              "      <td>0</td>\n",
              "    </tr>\n",
              "    <tr>\n",
              "      <th>1474</th>\n",
              "      <td>277427</td>\n",
              "      <td>One for the Money (Stephanie Plum Novels (Pape...</td>\n",
              "      <td>[0, 0, 0, 0, 0, 0, 0, 0, 0, 0, 0, 0, 0, 0, 0, ...</td>\n",
              "      <td>9</td>\n",
              "    </tr>\n",
              "  </tbody>\n",
              "</table>\n",
              "</div>\n",
              "      <button class=\"colab-df-convert\" onclick=\"convertToInteractive('df-c20423f1-97da-450f-8a24-b32377f539fd')\"\n",
              "              title=\"Convert this dataframe to an interactive table.\"\n",
              "              style=\"display:none;\">\n",
              "        \n",
              "  <svg xmlns=\"http://www.w3.org/2000/svg\" height=\"24px\"viewBox=\"0 0 24 24\"\n",
              "       width=\"24px\">\n",
              "    <path d=\"M0 0h24v24H0V0z\" fill=\"none\"/>\n",
              "    <path d=\"M18.56 5.44l.94 2.06.94-2.06 2.06-.94-2.06-.94-.94-2.06-.94 2.06-2.06.94zm-11 1L8.5 8.5l.94-2.06 2.06-.94-2.06-.94L8.5 2.5l-.94 2.06-2.06.94zm10 10l.94 2.06.94-2.06 2.06-.94-2.06-.94-.94-2.06-.94 2.06-2.06.94z\"/><path d=\"M17.41 7.96l-1.37-1.37c-.4-.4-.92-.59-1.43-.59-.52 0-1.04.2-1.43.59L10.3 9.45l-7.72 7.72c-.78.78-.78 2.05 0 2.83L4 21.41c.39.39.9.59 1.41.59.51 0 1.02-.2 1.41-.59l7.78-7.78 2.81-2.81c.8-.78.8-2.07 0-2.86zM5.41 20L4 18.59l7.72-7.72 1.47 1.35L5.41 20z\"/>\n",
              "  </svg>\n",
              "      </button>\n",
              "      \n",
              "  <style>\n",
              "    .colab-df-container {\n",
              "      display:flex;\n",
              "      flex-wrap:wrap;\n",
              "      gap: 12px;\n",
              "    }\n",
              "\n",
              "    .colab-df-convert {\n",
              "      background-color: #E8F0FE;\n",
              "      border: none;\n",
              "      border-radius: 50%;\n",
              "      cursor: pointer;\n",
              "      display: none;\n",
              "      fill: #1967D2;\n",
              "      height: 32px;\n",
              "      padding: 0 0 0 0;\n",
              "      width: 32px;\n",
              "    }\n",
              "\n",
              "    .colab-df-convert:hover {\n",
              "      background-color: #E2EBFA;\n",
              "      box-shadow: 0px 1px 2px rgba(60, 64, 67, 0.3), 0px 1px 3px 1px rgba(60, 64, 67, 0.15);\n",
              "      fill: #174EA6;\n",
              "    }\n",
              "\n",
              "    [theme=dark] .colab-df-convert {\n",
              "      background-color: #3B4455;\n",
              "      fill: #D2E3FC;\n",
              "    }\n",
              "\n",
              "    [theme=dark] .colab-df-convert:hover {\n",
              "      background-color: #434B5C;\n",
              "      box-shadow: 0px 1px 3px 1px rgba(0, 0, 0, 0.15);\n",
              "      filter: drop-shadow(0px 1px 2px rgba(0, 0, 0, 0.3));\n",
              "      fill: #FFFFFF;\n",
              "    }\n",
              "  </style>\n",
              "\n",
              "      <script>\n",
              "        const buttonEl =\n",
              "          document.querySelector('#df-c20423f1-97da-450f-8a24-b32377f539fd button.colab-df-convert');\n",
              "        buttonEl.style.display =\n",
              "          google.colab.kernel.accessAllowed ? 'block' : 'none';\n",
              "\n",
              "        async function convertToInteractive(key) {\n",
              "          const element = document.querySelector('#df-c20423f1-97da-450f-8a24-b32377f539fd');\n",
              "          const dataTable =\n",
              "            await google.colab.kernel.invokeFunction('convertToInteractive',\n",
              "                                                     [key], {});\n",
              "          if (!dataTable) return;\n",
              "\n",
              "          const docLinkHtml = 'Like what you see? Visit the ' +\n",
              "            '<a target=\"_blank\" href=https://colab.research.google.com/notebooks/data_table.ipynb>data table notebook</a>'\n",
              "            + ' to learn more about interactive tables.';\n",
              "          element.innerHTML = '';\n",
              "          dataTable['output_type'] = 'display_data';\n",
              "          await google.colab.output.renderOutput(dataTable, element);\n",
              "          const docLink = document.createElement('div');\n",
              "          docLink.innerHTML = docLinkHtml;\n",
              "          element.appendChild(docLink);\n",
              "        }\n",
              "      </script>\n",
              "    </div>\n",
              "  </div>\n",
              "  "
            ]
          },
          "metadata": {}
        }
      ]
    },
    {
      "cell_type": "markdown",
      "source": [
        "### Prepare dataset"
      ],
      "metadata": {
        "id": "hz3Ofz-0pTS8"
      },
      "id": "hz3Ofz-0pTS8"
    },
    {
      "cell_type": "code",
      "source": [
        "train, test = python_random_split(data, ratio=0.8, seed=RANDOM_SEED)\n",
        "print(\"{} train samples and {} test samples\".format(len(train), len(test)))"
      ],
      "metadata": {
        "id": "PgNs7RtdpgsF",
        "colab": {
          "base_uri": "https://localhost:8080/"
        },
        "outputId": "b916e77d-0d9f-41ea-94fd-4294b7da3979"
      },
      "id": "PgNs7RtdpgsF",
      "execution_count": null,
      "outputs": [
        {
          "output_type": "stream",
          "name": "stdout",
          "text": [
            "29122 train samples and 7281 test samples\n"
          ]
        }
      ]
    },
    {
      "cell_type": "code",
      "source": [
        "if ITEM_FEAT_COL is None:\n",
        "    items = data.drop_duplicates(ITEM_COL)[[ITEM_COL]].reset_index(drop=True)\n",
        "    item_feat_shape = None\n",
        "else:\n",
        "    items = data.drop_duplicates(ITEM_COL)[[ITEM_COL, ITEM_FEAT_COL]].reset_index(drop=True)\n",
        "    item_feat_shape = len(items[ITEM_FEAT_COL][0])\n",
        "# Unique users in the dataset\n",
        "users = data.drop_duplicates(USER_COL)[[USER_COL]].reset_index(drop=True)\n",
        "\n",
        "print(\"Total {} items and {} users in the dataset\".format(len(items), len(users)))"
      ],
      "metadata": {
        "id": "L0pWDQrppk3k",
        "colab": {
          "base_uri": "https://localhost:8080/"
        },
        "outputId": "ed55e613-8f35-4d5f-c3b2-dacbc17c3591"
      },
      "id": "L0pWDQrppk3k",
      "execution_count": null,
      "outputs": [
        {
          "output_type": "stream",
          "name": "stdout",
          "text": [
            "Total 914 items and 211 users in the dataset\n"
          ]
        }
      ]
    },
    {
      "cell_type": "code",
      "source": [
        "save_checkpoints_steps = max(1, STEPS // 5)\n"
      ],
      "metadata": {
        "id": "K882snImAP2y"
      },
      "id": "K882snImAP2y",
      "execution_count": null,
      "outputs": []
    },
    {
      "cell_type": "code",
      "source": [
        "# Define wide (linear) and deep (dnn) features\n",
        "wide_columns, deep_columns = wide_deep.build_feature_columns(\n",
        "    users=users[USER_COL].values,\n",
        "    items=items[ITEM_COL].values,\n",
        "    user_col=USER_COL,\n",
        "    item_col=ITEM_COL,\n",
        "    item_feat_col=ITEM_FEAT_COL,\n",
        "    crossed_feat_dim=100,\n",
        "    user_dim=DNN_USER_DIM,\n",
        "    item_dim=DNN_ITEM_DIM,\n",
        "    item_feat_shape=item_feat_shape,\n",
        "    model_type=MODEL_TYPE,\n",
        ")\n",
        "\n",
        "print(\"Wide feature specs:\")\n",
        "for c in wide_columns:\n",
        "    print(\"\\t\", str(c)[:100], \"...\")\n",
        "print(\"Deep feature specs:\")\n",
        "for c in deep_columns:\n",
        "    print(\"\\t\", str(c)[:100], \"...\")"
      ],
      "metadata": {
        "id": "bsafOAH6tIuM",
        "colab": {
          "base_uri": "https://localhost:8080/"
        },
        "outputId": "ae5e892f-035b-484c-8dc5-00872b926940"
      },
      "id": "bsafOAH6tIuM",
      "execution_count": null,
      "outputs": [
        {
          "output_type": "stream",
          "name": "stdout",
          "text": [
            "Wide feature specs:\n",
            "\t VocabularyListCategoricalColumn(key='userID', vocabulary_list=('277427', '278418', '3363', '6251', ' ...\n",
            "\t VocabularyListCategoricalColumn(key='itemID', vocabulary_list=('Politically Correct Bedtime Stories: ...\n",
            "\t CrossedColumn(keys=(VocabularyListCategoricalColumn(key='userID', vocabulary_list=('277427', '278418 ...\n",
            "Deep feature specs:\n",
            "\t EmbeddingColumn(categorical_column=VocabularyListCategoricalColumn(key='userID', vocabulary_list=('2 ...\n",
            "\t EmbeddingColumn(categorical_column=VocabularyListCategoricalColumn(key='itemID', vocabulary_list=('P ...\n",
            "\t NumericColumn(key='author', shape=(593,), default_value=None, dtype=tf.float32, normalizer_fn=None) ...\n"
          ]
        }
      ]
    },
    {
      "cell_type": "markdown",
      "source": [
        "### Prepare dataset for tensorflow recommenders"
      ],
      "metadata": {
        "id": "0EG3UKG0KQKx"
      },
      "id": "0EG3UKG0KQKx"
    },
    {
      "cell_type": "code",
      "source": [
        "# Build a model based on the parameters\n",
        "model = wide_deep.build_model(\n",
        "    model_dir=None,\n",
        "    wide_columns=wide_columns,\n",
        "    deep_columns=deep_columns,\n",
        "    linear_optimizer=tf_utils.build_optimizer(LINEAR_OPTIMIZER, LINEAR_OPTIMIZER_LR, **{\n",
        "        'l1_regularization_strength': LINEAR_L1_REG,\n",
        "        'l2_regularization_strength': LINEAR_L2_REG,\n",
        "        'momentum': LINEAR_MOMENTUM,\n",
        "    }),\n",
        "    dnn_optimizer=tf_utils.build_optimizer(DNN_OPTIMIZER, DNN_OPTIMIZER_LR, **{\n",
        "        'l1_regularization_strength': DNN_L1_REG,\n",
        "        'l2_regularization_strength': DNN_L2_REG,\n",
        "        'momentum': DNN_MOMENTUM,  \n",
        "    }),\n",
        "    dnn_hidden_units=DNN_HIDDEN_UNITS,\n",
        "    dnn_dropout=DNN_DROPOUT,\n",
        "    dnn_batch_norm=(DNN_BATCH_NORM==1),\n",
        "    log_every_n_iter=max(1, STEPS//10),  # log 10 times\n",
        "    save_checkpoints_steps=save_checkpoints_steps,\n",
        "    seed=RANDOM_SEED\n",
        ")"
      ],
      "metadata": {
        "id": "N_hygHG9wC8C"
      },
      "id": "N_hygHG9wC8C",
      "execution_count": null,
      "outputs": []
    },
    {
      "cell_type": "code",
      "source": [
        "USER_COL=\"userID\"\n",
        "ITEM_COL=\"itemID\"\n",
        "RATING_COL=\"rating\"\n",
        "PREDICT_COL=\"prediction\""
      ],
      "metadata": {
        "id": "T1cFd7dGAxFJ"
      },
      "id": "T1cFd7dGAxFJ",
      "execution_count": null,
      "outputs": []
    },
    {
      "cell_type": "code",
      "source": [
        "cols = {\n",
        "    'col_user': USER_COL,\n",
        "    'col_item': ITEM_COL,\n",
        "    'col_rating': RATING_COL,\n",
        "    'col_prediction': PREDICT_COL,\n",
        "}\n",
        "\n",
        "# Prepare ranking evaluation set, i.e. get the cross join of all user-item pairs\n",
        "ranking_pool = user_item_pairs(\n",
        "    user_df=users,\n",
        "    item_df=items,\n",
        "    user_col=USER_COL,\n",
        "    item_col=ITEM_COL,\n",
        "    user_item_filter_df=train,  # Remove seen items\n",
        "    shuffle=True,\n",
        "    seed=RANDOM_SEED\n",
        ")"
      ],
      "metadata": {
        "id": "HD0Fqzr0AiEH"
      },
      "id": "HD0Fqzr0AiEH",
      "execution_count": null,
      "outputs": []
    },
    {
      "cell_type": "code",
      "source": [
        "# Define training hooks to track performance while training\n",
        "hooks = []\n",
        "if EVALUATE_WHILE_TRAINING:\n",
        "    evaluation_logger = tf_utils.MetricsLogger()\n",
        "    for metrics in (RANKING_METRICS, RATING_METRICS):\n",
        "        if len(metrics) > 0:\n",
        "            hooks.append(\n",
        "                tf_utils.evaluation_log_hook(\n",
        "                    model,\n",
        "                    logger=evaluation_logger,\n",
        "                    true_df=test,\n",
        "                    y_col=RATING_COL,\n",
        "                    eval_df=ranking_pool if metrics==RANKING_METRICS else test.drop(RATING_COL, axis=1),\n",
        "                    every_n_iter=save_checkpoints_steps,\n",
        "                    model_dir=None,\n",
        "                    eval_fns=[evaluator.metrics[m] for m in metrics],\n",
        "                    **({**cols, 'k': TOP_K} if metrics==RANKING_METRICS else cols)\n",
        "                )\n",
        "            )\n",
        "\n",
        "# Define training input (sample feeding) function\n",
        "train_fn = tf_utils.pandas_input_fn(\n",
        "    df=train,\n",
        "    y_col=RATING_COL,\n",
        "    batch_size=BATCH_SIZE,\n",
        "    num_epochs=None,  # We use steps=TRAIN_STEPS instead.\n",
        "    shuffle=True,\n",
        "    seed=RANDOM_SEED,\n",
        ")"
      ],
      "metadata": {
        "id": "PYGFZUAJAiG5"
      },
      "id": "PYGFZUAJAiG5",
      "execution_count": null,
      "outputs": []
    },
    {
      "cell_type": "code",
      "source": [
        "print(\n",
        "    \"Training steps = {}, Batch size = {} (num epochs = {})\"\n",
        "    .format(STEPS, BATCH_SIZE, (STEPS*BATCH_SIZE)//len(train))\n",
        ")\n",
        "tf.compat.v1.logging.set_verbosity(tf.compat.v1.logging.INFO)\n",
        "\n",
        "try:\n",
        "    model.train(\n",
        "        input_fn=train_fn,\n",
        "        hooks=hooks,\n",
        "        steps=STEPS\n",
        "    )\n",
        "except tf.train.NanLossDuringTrainingError:\n",
        "    import warnings\n",
        "    warnings.warn(\n",
        "        \"Training stopped with NanLossDuringTrainingError. \"\n",
        "        \"Try other optimizers, smaller batch size and/or smaller learning rate.\"\n",
        "    )"
      ],
      "metadata": {
        "colab": {
          "base_uri": "https://localhost:8080/"
        },
        "id": "KGoFM2ouBBdB",
        "outputId": "5a783f25-b5d7-4b27-ae28-1e42385f64c9"
      },
      "id": "KGoFM2ouBBdB",
      "execution_count": null,
      "outputs": [
        {
          "output_type": "stream",
          "name": "stderr",
          "text": [
            "WARNING:tensorflow:From /usr/local/lib/python3.7/dist-packages/tensorflow/python/training/training_util.py:397: Variable.initialized_value (from tensorflow.python.ops.variables) is deprecated and will be removed in a future version.\n",
            "Instructions for updating:\n",
            "Use Variable.read_value. Variables in 2.X are initialized automatically both in eager and graph (inside tf.defun) contexts.\n"
          ]
        },
        {
          "output_type": "stream",
          "name": "stdout",
          "text": [
            "Training steps = 50000, Batch size = 32 (num epochs = 54)\n"
          ]
        },
        {
          "output_type": "stream",
          "name": "stderr",
          "text": [
            "INFO:tensorflow:Calling model_fn.\n",
            "WARNING:tensorflow:From /usr/local/lib/python3.7/dist-packages/keras/layers/normalization/batch_normalization.py:532: _colocate_with (from tensorflow.python.framework.ops) is deprecated and will be removed in a future version.\n",
            "Instructions for updating:\n",
            "Colocations handled automatically by placer.\n",
            "/usr/local/lib/python3.7/dist-packages/tensorflow_estimator/python/estimator/canned/linear.py:1478: UserWarning: `layer.add_variable` is deprecated and will be removed in a future version. Please use `layer.add_weight` method instead.\n",
            "  getter=tf.compat.v1.get_variable)\n",
            "WARNING:tensorflow:From /usr/local/lib/python3.7/dist-packages/tensorflow/python/training/adagrad.py:139: calling Constant.__init__ (from tensorflow.python.ops.init_ops) with dtype is deprecated and will be removed in a future version.\n",
            "Instructions for updating:\n",
            "Call initializer instance with the dtype argument instead of passing it to the constructor\n",
            "INFO:tensorflow:Done calling model_fn.\n",
            "INFO:tensorflow:Create CheckpointSaverHook.\n",
            "INFO:tensorflow:Graph was finalized.\n",
            "INFO:tensorflow:Running local_init_op.\n",
            "INFO:tensorflow:Done running local_init_op.\n",
            "INFO:tensorflow:Calling checkpoint listeners before saving checkpoint 0...\n",
            "INFO:tensorflow:Saving checkpoints for 0 into /tmp/tmpaqxltb4p/model.ckpt.\n",
            "INFO:tensorflow:Calling checkpoint listeners after saving checkpoint 0...\n",
            "INFO:tensorflow:loss = 700.66675, step = 0\n",
            "INFO:tensorflow:global_step/sec: 111.376\n",
            "INFO:tensorflow:loss = 197.76541, step = 5000 (44.896 sec)\n",
            "INFO:tensorflow:Calling checkpoint listeners before saving checkpoint 10000...\n",
            "INFO:tensorflow:Saving checkpoints for 10000 into /tmp/tmpaqxltb4p/model.ckpt.\n",
            "INFO:tensorflow:Calling checkpoint listeners after saving checkpoint 10000...\n",
            "INFO:tensorflow:global_step/sec: 86.5769\n",
            "INFO:tensorflow:loss = 401.79498, step = 10000 (57.752 sec)\n",
            "INFO:tensorflow:global_step/sec: 113.767\n",
            "INFO:tensorflow:loss = 222.36124, step = 15000 (43.949 sec)\n",
            "INFO:tensorflow:Calling checkpoint listeners before saving checkpoint 20000...\n",
            "INFO:tensorflow:Saving checkpoints for 20000 into /tmp/tmpaqxltb4p/model.ckpt.\n",
            "INFO:tensorflow:Calling checkpoint listeners after saving checkpoint 20000...\n",
            "/usr/local/lib/python3.7/dist-packages/tensorflow_estimator/python/estimator/canned/linear.py:1478: UserWarning: `layer.add_variable` is deprecated and will be removed in a future version. Please use `layer.add_weight` method instead.\n",
            "  getter=tf.compat.v1.get_variable)\n",
            "INFO:tensorflow:global_step/sec: 86.8903\n",
            "INFO:tensorflow:loss = 357.07147, step = 20000 (57.545 sec)\n",
            "INFO:tensorflow:global_step/sec: 113.515\n",
            "INFO:tensorflow:loss = 382.76788, step = 25000 (44.049 sec)\n",
            "INFO:tensorflow:Calling checkpoint listeners before saving checkpoint 30000...\n",
            "INFO:tensorflow:Saving checkpoints for 30000 into /tmp/tmpaqxltb4p/model.ckpt.\n",
            "INFO:tensorflow:Calling checkpoint listeners after saving checkpoint 30000...\n",
            "/usr/local/lib/python3.7/dist-packages/tensorflow_estimator/python/estimator/canned/linear.py:1478: UserWarning: `layer.add_variable` is deprecated and will be removed in a future version. Please use `layer.add_weight` method instead.\n",
            "  getter=tf.compat.v1.get_variable)\n",
            "INFO:tensorflow:global_step/sec: 86.3448\n",
            "INFO:tensorflow:loss = 392.2679, step = 30000 (57.907 sec)\n",
            "INFO:tensorflow:global_step/sec: 114.235\n",
            "INFO:tensorflow:loss = 144.28134, step = 35000 (43.769 sec)\n",
            "INFO:tensorflow:Calling checkpoint listeners before saving checkpoint 40000...\n",
            "INFO:tensorflow:Saving checkpoints for 40000 into /tmp/tmpaqxltb4p/model.ckpt.\n",
            "INFO:tensorflow:Calling checkpoint listeners after saving checkpoint 40000...\n",
            "/usr/local/lib/python3.7/dist-packages/tensorflow_estimator/python/estimator/canned/linear.py:1478: UserWarning: `layer.add_variable` is deprecated and will be removed in a future version. Please use `layer.add_weight` method instead.\n",
            "  getter=tf.compat.v1.get_variable)\n",
            "INFO:tensorflow:global_step/sec: 85.8704\n",
            "INFO:tensorflow:loss = 256.97314, step = 40000 (58.226 sec)\n",
            "INFO:tensorflow:global_step/sec: 114.185\n",
            "INFO:tensorflow:loss = 237.18732, step = 45000 (43.788 sec)\n",
            "INFO:tensorflow:Calling checkpoint listeners before saving checkpoint 50000...\n",
            "INFO:tensorflow:Saving checkpoints for 50000 into /tmp/tmpaqxltb4p/model.ckpt.\n",
            "WARNING:tensorflow:From /usr/local/lib/python3.7/dist-packages/tensorflow/python/training/saver.py:1054: remove_checkpoint (from tensorflow.python.training.checkpoint_management) is deprecated and will be removed in a future version.\n",
            "Instructions for updating:\n",
            "Use standard file APIs to delete files with this prefix.\n",
            "INFO:tensorflow:Calling checkpoint listeners after saving checkpoint 50000...\n",
            "/usr/local/lib/python3.7/dist-packages/tensorflow_estimator/python/estimator/canned/linear.py:1478: UserWarning: `layer.add_variable` is deprecated and will be removed in a future version. Please use `layer.add_weight` method instead.\n",
            "  getter=tf.compat.v1.get_variable)\n",
            "INFO:tensorflow:Loss for final step: 231.8029.\n"
          ]
        }
      ]
    },
    {
      "cell_type": "code",
      "source": [
        "import math\n",
        "if EVALUATE_WHILE_TRAINING:\n",
        "    logs = evaluation_logger.get_log()\n",
        "    for i, (m, v) in enumerate(logs.items(), 1):\n",
        "       \n",
        "        x = [save_checkpoints_steps*i for i in range(1, len(v)+1)]\n",
        "        plot.line_graph(\n",
        "            values=list(zip(v, x)),\n",
        "            labels=m,\n",
        "            x_name=\"steps\",\n",
        "            y_name=m,\n",
        "            subplot=(math.ceil(len(logs)/2), 2, i),\n",
        "        )"
      ],
      "metadata": {
        "colab": {
          "base_uri": "https://localhost:8080/",
          "height": 606
        },
        "id": "wbjIT3-2AiJi",
        "outputId": "27751662-5ea9-4871-9481-6639c757513f"
      },
      "id": "wbjIT3-2AiJi",
      "execution_count": null,
      "outputs": [
        {
          "output_type": "display_data",
          "data": {
            "text/plain": [
              "<Figure size 720x720 with 4 Axes>"
            ],
            "image/png": "[encoded data removed]"
          },
          "metadata": {}
        }
      ]
    },
    {
      "cell_type": "markdown",
      "source": [
        "Evaluation"
      ],
      "metadata": {
        "id": "VkGxpT6LBZ0W"
      },
      "id": "VkGxpT6LBZ0W"
    },
    {
      "cell_type": "code",
      "source": [
        "if len(RATING_METRICS) > 0:\n",
        "    predictions = list(model.predict(input_fn=tf_utils.pandas_input_fn(df=test)))\n",
        "    prediction_df = test.drop(RATING_COL, axis=1)\n",
        "    prediction_df[PREDICT_COL] = [p['predictions'][0] for p in predictions]\n",
        "    \n",
        "    rating_results = {}\n",
        "    for m in RATING_METRICS:\n",
        "        result = evaluator.metrics[m](test, prediction_df, **cols)\n",
        "        #sb.glue(m, result)\n",
        "        rating_results[m] = result\n",
        "    print(rating_results)"
      ],
      "metadata": {
        "colab": {
          "base_uri": "https://localhost:8080/"
        },
        "id": "jBzhqg7UBZX-",
        "outputId": "85c928eb-6ae5-43b5-dde5-9b95b0bd6946"
      },
      "id": "jBzhqg7UBZX-",
      "execution_count": null,
      "outputs": [
        {
          "output_type": "stream",
          "name": "stderr",
          "text": [
            "INFO:tensorflow:Calling model_fn.\n",
            "/usr/local/lib/python3.7/dist-packages/tensorflow_estimator/python/estimator/canned/linear.py:1478: UserWarning: `layer.add_variable` is deprecated and will be removed in a future version. Please use `layer.add_weight` method instead.\n",
            "  getter=tf.compat.v1.get_variable)\n",
            "INFO:tensorflow:Done calling model_fn.\n",
            "INFO:tensorflow:Graph was finalized.\n",
            "INFO:tensorflow:Restoring parameters from /tmp/tmpaqxltb4p/model.ckpt-50000\n",
            "INFO:tensorflow:Running local_init_op.\n",
            "INFO:tensorflow:Done running local_init_op.\n"
          ]
        },
        {
          "output_type": "stream",
          "name": "stdout",
          "text": [
            "{'rmse': 3.1889909841444326, 'mae': 2.595706663202167}\n"
          ]
        }
      ]
    },
    {
      "cell_type": "code",
      "source": [
        "if len(RANKING_METRICS) > 0:\n",
        "    predictions = list(model.predict(input_fn=tf_utils.pandas_input_fn(df=ranking_pool)))\n",
        "    prediction_df = ranking_pool.copy()\n",
        "    prediction_df[PREDICT_COL] = [p['predictions'][0] for p in predictions]\n",
        "\n",
        "    ranking_results = {}\n",
        "    for m in RANKING_METRICS:\n",
        "        result = evaluator.metrics[m](test, prediction_df, **{**cols, 'k': TOP_K})\n",
        "        \n",
        "        ranking_results[m] = result\n",
        "    print(ranking_results)"
      ],
      "metadata": {
        "colab": {
          "base_uri": "https://localhost:8080/"
        },
        "id": "PJxNF89hAiMM",
        "outputId": "8fea0b24-fbb2-4d0c-8ce3-1ba4f91c49d9"
      },
      "id": "PJxNF89hAiMM",
      "execution_count": null,
      "outputs": [
        {
          "output_type": "stream",
          "name": "stderr",
          "text": [
            "INFO:tensorflow:Calling model_fn.\n",
            "/usr/local/lib/python3.7/dist-packages/tensorflow_estimator/python/estimator/canned/linear.py:1478: UserWarning: `layer.add_variable` is deprecated and will be removed in a future version. Please use `layer.add_weight` method instead.\n",
            "  getter=tf.compat.v1.get_variable)\n",
            "INFO:tensorflow:Done calling model_fn.\n",
            "INFO:tensorflow:Graph was finalized.\n",
            "INFO:tensorflow:Restoring parameters from /tmp/tmpaqxltb4p/model.ckpt-50000\n",
            "INFO:tensorflow:Running local_init_op.\n",
            "INFO:tensorflow:Done running local_init_op.\n"
          ]
        },
        {
          "output_type": "stream",
          "name": "stdout",
          "text": [
            "{'ndcg_at_k': 0.04189446597101718, 'precision_at_k': 0.04360189573459714}\n"
          ]
        }
      ]
    },
    {
      "cell_type": "code",
      "source": [],
      "metadata": {
        "id": "iS26mHmsAiO0"
      },
      "id": "iS26mHmsAiO0",
      "execution_count": null,
      "outputs": []
    },
    {
      "cell_type": "code",
      "source": [],
      "metadata": {
        "id": "qtlgGXWUAiRq"
      },
      "id": "qtlgGXWUAiRq",
      "execution_count": null,
      "outputs": []
    },
    {
      "cell_type": "code",
      "source": [],
      "metadata": {
        "id": "2Usyu1RnAiUh"
      },
      "id": "2Usyu1RnAiUh",
      "execution_count": null,
      "outputs": []
    }
  ],
  "metadata": {
    "kernelspec": {
      "display_name": "Python 3",
      "language": "python",
      "name": "python3"
    },
    "language_info": {
      "codemirror_mode": {
        "name": "ipython",
        "version": 3
      },
      "file_extension": ".py",
      "mimetype": "text/x-python",
      "name": "python",
      "nbconvert_exporter": "python",
      "pygments_lexer": "ipython3",
      "version": "3.6.5"
    },
    "colab": {
      "provenance": [],
      "machine_shape": "hm"
    },
    "accelerator": "GPU",
    "gpuClass": "standard"
  },
  "nbformat": 4,
  "nbformat_minor": 5
}